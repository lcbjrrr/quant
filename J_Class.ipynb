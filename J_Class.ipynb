{
  "nbformat": 4,
  "nbformat_minor": 0,
  "metadata": {
    "colab": {
      "provenance": [],
      "include_colab_link": true
    },
    "kernelspec": {
      "display_name": "Julia",
      "language": "julia",
      "name": "julia"
    },
    "language_info": {
      "file_extension": ".jl",
      "mimetype": "application/julia",
      "name": "julia"
    },
    "gpuClass": "standard"
  },
  "cells": [
    {
      "cell_type": "markdown",
      "metadata": {
        "id": "view-in-github",
        "colab_type": "text"
      },
      "source": [
        "<a href=\"https://colab.research.google.com/github/lcbjrrr/quant/blob/master/J_Class.ipynb\" target=\"_parent\"><img src=\"https://colab.research.google.com/assets/colab-badge.svg\" alt=\"Open In Colab\"/></a>"
      ]
    },
    {
      "cell_type": "markdown",
      "source": [
        "**Topic:** AI/ML\n",
        "\n",
        "**Title:** Classifiers (Decision Tree)\n",
        "\n",
        "**Author:** Luiz Barboza\n",
        "\n",
        "**Date:** 20/dec/22\n",
        "\n",
        "**Lang:** Julia\n",
        "\n",
        "**Site:** https://quant-research.group/\n",
        "\n",
        "**Email:** contato@quant-research.group\n"
      ],
      "metadata": {
        "id": "S7PA-4AAW20F"
      }
    },
    {
      "cell_type": "markdown",
      "source": [
        "# Julia Installation"
      ],
      "metadata": {
        "id": "wTmedJrDW2pY"
      }
    },
    {
      "cell_type": "code",
      "metadata": {
        "id": "GIeFXS0F0zww",
        "colab": {
          "base_uri": "https://localhost:8080/"
        },
        "outputId": "927a49d6-470b-41ad-f5f1-ca294df91cd5"
      },
      "source": [
        "%%shell\n",
        "set -e\n",
        "\n",
        "#---------------------------------------------------#\n",
        "JULIA_VERSION=\"1.8.3\" # any version ≥ 0.7.0\n",
        "JULIA_PACKAGES=\"IJulia BenchmarkTools\"\n",
        "JULIA_PACKAGES_IF_GPU=\"CUDA\" # or CuArrays for older Julia versions\n",
        "JULIA_NUM_THREADS=2\n",
        "#---------------------------------------------------#\n",
        "\n",
        "if [ -z `which julia` ]; then\n",
        "  # Install Julia\n",
        "  JULIA_VER=`cut -d '.' -f -2 <<< \"$JULIA_VERSION\"`\n",
        "  echo \"Installing Julia $JULIA_VERSION on the current Colab Runtime...\"\n",
        "  BASE_URL=\"https://julialang-s3.julialang.org/bin/linux/x64\"\n",
        "  URL=\"$BASE_URL/$JULIA_VER/julia-$JULIA_VERSION-linux-x86_64.tar.gz\"\n",
        "  wget -nv $URL -O /tmp/julia.tar.gz # -nv means \"not verbose\"\n",
        "  tar -x -f /tmp/julia.tar.gz -C /usr/local --strip-components 1\n",
        "  rm /tmp/julia.tar.gz\n",
        "\n",
        "  # Install Packages\n",
        "  nvidia-smi -L &> /dev/null && export GPU=1 || export GPU=0\n",
        "  if [ $GPU -eq 1 ]; then\n",
        "    JULIA_PACKAGES=\"$JULIA_PACKAGES $JULIA_PACKAGES_IF_GPU\"\n",
        "  fi\n",
        "  for PKG in `echo $JULIA_PACKAGES`; do\n",
        "    echo \"Installing Julia package $PKG...\"\n",
        "    julia -e 'using Pkg; pkg\"add '$PKG'; precompile;\"' &> /dev/null\n",
        "  done\n",
        "\n",
        "  # Install kernel and rename it to \"julia\"\n",
        "  echo \"Installing IJulia kernel...\"\n",
        "  julia -e 'using IJulia; IJulia.installkernel(\"julia\", env=Dict(\n",
        "      \"JULIA_NUM_THREADS\"=>\"'\"$JULIA_NUM_THREADS\"'\"))'\n",
        "  KERNEL_DIR=`julia -e \"using IJulia; print(IJulia.kerneldir())\"`\n",
        "  KERNEL_NAME=`ls -d \"$KERNEL_DIR\"/julia*`\n",
        "  mv -f $KERNEL_NAME \"$KERNEL_DIR\"/julia  \n",
        "\n",
        "  echo ''\n",
        "  echo \"Successfully installed `julia -v`!\"\n",
        "  echo \"Please reload this page (press Ctrl+R, ⌘+R, or the F5 key) then\"\n",
        "  echo \"jump to the 'Checking the Installation' section.\"\n",
        "fi"
      ],
      "execution_count": null,
      "outputs": [
        {
          "output_type": "stream",
          "name": "stdout",
          "text": [
            "Installing Julia 1.8.3 on the current Colab Runtime...\n",
            "2022-12-21 14:33:05 URL:https://storage.googleapis.com/julialang2/bin/linux/x64/1.8/julia-1.8.3-linux-x86_64.tar.gz [130030846/130030846] -> \"/tmp/julia.tar.gz\" [1]\n",
            "Installing Julia package IJulia...\n",
            "Installing Julia package BenchmarkTools...\n"
          ]
        }
      ]
    },
    {
      "cell_type": "code",
      "metadata": {
        "id": "EEzvvzCl1i0F",
        "colab": {
          "base_uri": "https://localhost:8080/"
        },
        "outputId": "e3be2dde-ea93-488b-f3f0-651796035dd6"
      },
      "source": [
        "versioninfo()"
      ],
      "execution_count": 1,
      "outputs": [
        {
          "output_type": "stream",
          "name": "stdout",
          "text": [
            "Julia Version 1.8.3\n",
            "Commit 0434deb161e (2022-11-14 20:14 UTC)\n",
            "Platform Info:\n",
            "  OS: Linux (x86_64-linux-gnu)\n",
            "  CPU: 2 × Intel(R) Xeon(R) CPU @ 2.20GHz\n",
            "  WORD_SIZE: 64\n",
            "  LIBM: libopenlibm\n",
            "  LLVM: libLLVM-13.0.1 (ORCJIT, broadwell)\n",
            "  Threads: 2 on 2 virtual cores\n",
            "Environment:\n",
            "  LD_LIBRARY_PATH = /usr/local/nvidia/lib:/usr/local/nvidia/lib64\n",
            "  LD_PRELOAD = /usr/lib/x86_64-linux-gnu/libtcmalloc.so.4\n",
            "  JULIA_NUM_THREADS = 2\n"
          ]
        }
      ]
    },
    {
      "cell_type": "markdown",
      "source": [
        "# Classifiers"
      ],
      "metadata": {
        "id": "hiaTtbLZW9Kv"
      }
    },
    {
      "cell_type": "code",
      "source": [
        "import Pkg\n",
        "Pkg.add(\"CSV\")\n",
        "Pkg.add(\"DataFrames\")\n",
        "Pkg.add(\"Statistics\")\n",
        "Pkg.add(\"StatsPlots\")\n",
        "Pkg.add(\"Lathe\") \n",
        "Pkg.add(\"DecisionTree\") \n",
        "\n",
        "using CSV\n",
        "using DataFrames\n",
        "using Statistics\n",
        "using StatsPlots\n",
        "using Lathe\n",
        "using Lathe.preprocess: TrainTestSplit\n",
        "using DecisionTree\n"
      ],
      "metadata": {
        "id": "X_2hBMum0xfg"
      },
      "execution_count": null,
      "outputs": []
    },
    {
      "cell_type": "code",
      "source": [
        ";wget https://raw.githubusercontent.com/lcbjrrr/data/main/gender%20-%20all.csv"
      ],
      "metadata": {
        "id": "xil7rD-eXPe2"
      },
      "execution_count": null,
      "outputs": []
    },
    {
      "cell_type": "code",
      "source": [
        "#read csv\n",
        "df=CSV.read(\"gender - all.csv\", DataFrame)\n",
        "first(df,5)"
      ],
      "metadata": {
        "colab": {
          "base_uri": "https://localhost:8080/",
          "height": 198
        },
        "id": "Fo8upgK8Xxjn",
        "outputId": "a0e871bb-617c-4a3c-a5af-d5b5b98e6121"
      },
      "execution_count": 4,
      "outputs": [
        {
          "output_type": "execute_result",
          "data": {
            "text/plain": [
              "\u001b[1m5×3 DataFrame\u001b[0m\n",
              "\u001b[1m Row \u001b[0m│\u001b[1m G     \u001b[0m\u001b[1m H       \u001b[0m\u001b[1m W        \u001b[0m\n",
              "\u001b[1m     \u001b[0m│\u001b[90m Int64 \u001b[0m\u001b[90m Float64 \u001b[0m\u001b[90m Float64  \u001b[0m\n",
              "─────┼──────────────────────────\n",
              "   1 │     0  187.571  109.952\n",
              "   2 │     0  174.706   73.7775\n",
              "   3 │     0  188.24    96.7004\n",
              "   4 │     0  182.197  100.019\n",
              "   5 │     0  177.5     93.7954"
            ],
            "text/html": [
              "<table class=\"data-frame\"><thead><tr><th></th><th>G</th><th>H</th><th>W</th></tr><tr><th></th><th>Int64</th><th>Float64</th><th>Float64</th></tr></thead><tbody><p>5 rows × 3 columns</p><tr><th>1</th><td>0</td><td>187.571</td><td>109.952</td></tr><tr><th>2</th><td>0</td><td>174.706</td><td>73.7775</td></tr><tr><th>3</th><td>0</td><td>188.24</td><td>96.7004</td></tr><tr><th>4</th><td>0</td><td>182.197</td><td>100.019</td></tr><tr><th>5</th><td>0</td><td>177.5</td><td>93.7954</td></tr></tbody></table>"
            ],
            "text/latex": "\\begin{tabular}{r|ccc}\n\t& G & H & W\\\\\n\t\\hline\n\t& Int64 & Float64 & Float64\\\\\n\t\\hline\n\t1 & 0 & 187.571 & 109.952 \\\\\n\t2 & 0 & 174.706 & 73.7775 \\\\\n\t3 & 0 & 188.24 & 96.7004 \\\\\n\t4 & 0 & 182.197 & 100.019 \\\\\n\t5 & 0 & 177.5 & 93.7954 \\\\\n\\end{tabular}\n"
          },
          "metadata": {},
          "execution_count": 4
        }
      ]
    },
    {
      "cell_type": "markdown",
      "source": [
        "## Decision Tree"
      ],
      "metadata": {
        "id": "4_nDh-Z6dQ9_"
      }
    },
    {
      "cell_type": "code",
      "source": [
        "train, test = TrainTestSplit(df,.80)"
      ],
      "metadata": {
        "id": "DsFmCCNAefeo",
        "colab": {
          "base_uri": "https://localhost:8080/"
        },
        "outputId": "df11910b-cf92-415b-ccb0-675414af3868"
      },
      "execution_count": 5,
      "outputs": [
        {
          "output_type": "execute_result",
          "data": {
            "text/plain": [
              "(\u001b[1m7991×3 DataFrame\u001b[0m\n",
              "\u001b[1m  Row \u001b[0m│\u001b[1m G     \u001b[0m\u001b[1m H       \u001b[0m\u001b[1m W        \u001b[0m\n",
              "\u001b[1m      \u001b[0m│\u001b[90m Int64 \u001b[0m\u001b[90m Float64 \u001b[0m\u001b[90m Float64  \u001b[0m\n",
              "──────┼──────────────────────────\n",
              "    1 │     0  174.706   73.7775\n",
              "    2 │     0  188.24    96.7004\n",
              "    3 │     0  182.197  100.019\n",
              "    4 │     0  177.5     93.7954\n",
              "    5 │     0  174.714   83.6036\n",
              "    6 │     0  173.605   76.3505\n",
              "    7 │     0  170.228   79.9679\n",
              "    8 │     0  161.179   71.0908\n",
              "    9 │     0  180.836   84.8204\n",
              "   10 │     0  181.968   97.1551\n",
              "   11 │     0  164.506   75.967\n",
              "  ⋮   │   ⋮       ⋮        ⋮\n",
              " 7982 │     1  151.228   55.1113\n",
              " 7983 │     1  154.826   43.4939\n",
              " 7984 │     1  160.476   64.2119\n",
              " 7985 │     1  159.097   46.7516\n",
              " 7986 │     1  157.678   63.0417\n",
              " 7987 │     1  152.477   44.4034\n",
              " 7988 │     1  168.079   62.1716\n",
              " 7989 │     1  162.225   58.3979\n",
              " 7990 │     1  175.347   74.4784\n",
              " 7991 │     1  157.338   51.6587\n",
              "\u001b[36m                7970 rows omitted\u001b[0m, \u001b[1m2009×3 DataFrame\u001b[0m\n",
              "\u001b[1m  Row \u001b[0m│\u001b[1m G     \u001b[0m\u001b[1m H       \u001b[0m\u001b[1m W        \u001b[0m\n",
              "\u001b[1m      \u001b[0m│\u001b[90m Int64 \u001b[0m\u001b[90m Float64 \u001b[0m\u001b[90m Float64  \u001b[0m\n",
              "──────┼──────────────────────────\n",
              "    1 │     0  187.571  109.952\n",
              "    2 │     0  170.823   69.1873\n",
              "    3 │     0  175.488   83.8342\n",
              "    4 │     0  173.36    85.0275\n",
              "    5 │     0  173.968   78.8291\n",
              "    6 │     0  179.767   87.3295\n",
              "    7 │     0  187.499   88.7685\n",
              "    8 │     0  181.403   81.7563\n",
              "    9 │     0  179.129   94.3331\n",
              "   10 │     0  171.692   74.14\n",
              "   11 │     0  168.942   89.2954\n",
              "  ⋮   │   ⋮       ⋮        ⋮\n",
              " 2000 │     1  160.363   55.2447\n",
              " 2001 │     1  161.559   66.6459\n",
              " 2002 │     1  157.351   56.6586\n",
              " 2003 │     1  159.689   63.7718\n",
              " 2004 │     1  172.581   73.3099\n",
              " 2005 │     1  173.234   74.3686\n",
              " 2006 │     1  163.817   67.9102\n",
              " 2007 │     1  172.824   77.5065\n",
              " 2008 │     1  150.11    50.2408\n",
              " 2009 │     1  170.351   77.6672\n",
              "\u001b[36m                1988 rows omitted\u001b[0m)"
            ]
          },
          "metadata": {},
          "execution_count": 5
        }
      ]
    },
    {
      "cell_type": "code",
      "source": [
        "tree = DecisionTreeClassifier(max_depth=3)\n",
        "DecisionTree.fit!(tree, Matrix(train[:,[:H,:W]]), train[:,:G])     "
      ],
      "metadata": {
        "colab": {
          "base_uri": "https://localhost:8080/"
        },
        "id": "NBXYEaK3dwme",
        "outputId": "e34045b1-874f-402e-a337-ed813fbc7b4c"
      },
      "execution_count": 6,
      "outputs": [
        {
          "output_type": "execute_result",
          "data": {
            "text/plain": [
              "DecisionTreeClassifier\n",
              "max_depth:                3\n",
              "min_samples_leaf:         1\n",
              "min_samples_split:        2\n",
              "min_purity_increase:      0.0\n",
              "pruning_purity_threshold: 1.0\n",
              "n_subfeatures:            0\n",
              "classes:                  [0, 1]\n",
              "root:                     Decision Tree\n",
              "Leaves: 8\n",
              "Depth:  3"
            ]
          },
          "metadata": {},
          "execution_count": 6
        }
      ]
    },
    {
      "cell_type": "code",
      "source": [
        "function accuracy(y,pred)\n",
        "  acc = sum(pred.==y)/length(y)\n",
        "  return acc\n",
        "end"
      ],
      "metadata": {
        "colab": {
          "base_uri": "https://localhost:8080/"
        },
        "id": "R4slqDB3JbHG",
        "outputId": "5227aa92-a763-4c53-8940-9bda3b368ff7"
      },
      "execution_count": 9,
      "outputs": [
        {
          "output_type": "execute_result",
          "data": {
            "text/plain": [
              "accuracy (generic function with 1 method)"
            ]
          },
          "metadata": {},
          "execution_count": 9
        }
      ]
    },
    {
      "cell_type": "code",
      "source": [
        "pred_train = DecisionTree.predict(tree,Matrix(train[:,[:H,:W]]))\n",
        "acc_train = accuracy(train.G,pred_train)\n",
        "print(\"Accuracy (Train): \",acc_train)"
      ],
      "metadata": {
        "colab": {
          "base_uri": "https://localhost:8080/"
        },
        "id": "hsBWt9Q1GHo6",
        "outputId": "c8e44923-ae3c-41a9-df5f-12d91deae1a4"
      },
      "execution_count": 12,
      "outputs": [
        {
          "output_type": "stream",
          "name": "stdout",
          "text": [
            "Accuracy (Train): 0.907395820297835"
          ]
        }
      ]
    },
    {
      "cell_type": "code",
      "source": [
        "pred_test=DecisionTree.predict(tree,Matrix(test[:,[:H,:W]]))\n",
        "acc_test = accuracy(test.G,pred_test)\n",
        "print(\"Accuracy (Test): \",acc_test)"
      ],
      "metadata": {
        "colab": {
          "base_uri": "https://localhost:8080/"
        },
        "id": "M5eyU-smf6dU",
        "outputId": "73c29966-a791-4c58-8b1b-1f043157c309"
      },
      "execution_count": 15,
      "outputs": [
        {
          "output_type": "stream",
          "name": "stdout",
          "text": [
            "Accuracy (Test): 0.9118964659034345"
          ]
        }
      ]
    }
  ]
}