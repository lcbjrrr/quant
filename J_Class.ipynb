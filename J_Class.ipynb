{
  "nbformat": 4,
  "nbformat_minor": 0,
  "metadata": {
    "colab": {
      "provenance": [],
      "include_colab_link": true
    },
    "kernelspec": {
      "display_name": "Julia",
      "language": "julia",
      "name": "julia"
    },
    "language_info": {
      "file_extension": ".jl",
      "mimetype": "application/julia",
      "name": "julia"
    },
    "gpuClass": "standard"
  },
  "cells": [
    {
      "cell_type": "markdown",
      "metadata": {
        "id": "view-in-github",
        "colab_type": "text"
      },
      "source": [
        "<a href=\"https://colab.research.google.com/github/lcbjrrr/quant/blob/master/J_Class.ipynb\" target=\"_parent\"><img src=\"https://colab.research.google.com/assets/colab-badge.svg\" alt=\"Open In Colab\"/></a>"
      ]
    },
    {
      "cell_type": "markdown",
      "source": [
        "**Topic:** AI/ML\n",
        "\n",
        "**Title:** Classifiers (Decision Tree)\n",
        "\n",
        "**Author:** Luiz Barboza\n",
        "\n",
        "**Date:** 20/dec/22\n",
        "\n",
        "**Lang:** Julia\n",
        "\n",
        "**Site:** https://quant-research.group/\n",
        "\n",
        "**Email:** contato@quant-research.group\n"
      ],
      "metadata": {
        "id": "S7PA-4AAW20F"
      }
    },
    {
      "cell_type": "markdown",
      "source": [
        "# Julia Installation"
      ],
      "metadata": {
        "id": "wTmedJrDW2pY"
      }
    },
    {
      "cell_type": "code",
      "metadata": {
        "id": "GIeFXS0F0zww",
        "colab": {
          "base_uri": "https://localhost:8080/",
          "height": 87
        },
        "outputId": "d59acf80-796e-4082-c9fe-51b930e32734"
      },
      "source": [
        "%%shell\n",
        "set -e\n",
        "\n",
        "#---------------------------------------------------#\n",
        "JULIA_VERSION=\"1.8.3\" # any version ≥ 0.7.0\n",
        "JULIA_PACKAGES=\"IJulia BenchmarkTools\"\n",
        "JULIA_PACKAGES_IF_GPU=\"CUDA\" # or CuArrays for older Julia versions\n",
        "JULIA_NUM_THREADS=2\n",
        "#---------------------------------------------------#\n",
        "\n",
        "if [ -z `which julia` ]; then\n",
        "  # Install Julia\n",
        "  JULIA_VER=`cut -d '.' -f -2 <<< \"$JULIA_VERSION\"`\n",
        "  echo \"Installing Julia $JULIA_VERSION on the current Colab Runtime...\"\n",
        "  BASE_URL=\"https://julialang-s3.julialang.org/bin/linux/x64\"\n",
        "  URL=\"$BASE_URL/$JULIA_VER/julia-$JULIA_VERSION-linux-x86_64.tar.gz\"\n",
        "  wget -nv $URL -O /tmp/julia.tar.gz # -nv means \"not verbose\"\n",
        "  tar -x -f /tmp/julia.tar.gz -C /usr/local --strip-components 1\n",
        "  rm /tmp/julia.tar.gz\n",
        "\n",
        "  # Install Packages\n",
        "  nvidia-smi -L &> /dev/null && export GPU=1 || export GPU=0\n",
        "  if [ $GPU -eq 1 ]; then\n",
        "    JULIA_PACKAGES=\"$JULIA_PACKAGES $JULIA_PACKAGES_IF_GPU\"\n",
        "  fi\n",
        "  for PKG in `echo $JULIA_PACKAGES`; do\n",
        "    echo \"Installing Julia package $PKG...\"\n",
        "    julia -e 'using Pkg; pkg\"add '$PKG'; precompile;\"' &> /dev/null\n",
        "  done\n",
        "\n",
        "  # Install kernel and rename it to \"julia\"\n",
        "  echo \"Installing IJulia kernel...\"\n",
        "  julia -e 'using IJulia; IJulia.installkernel(\"julia\", env=Dict(\n",
        "      \"JULIA_NUM_THREADS\"=>\"'\"$JULIA_NUM_THREADS\"'\"))'\n",
        "  KERNEL_DIR=`julia -e \"using IJulia; print(IJulia.kerneldir())\"`\n",
        "  KERNEL_NAME=`ls -d \"$KERNEL_DIR\"/julia*`\n",
        "  mv -f $KERNEL_NAME \"$KERNEL_DIR\"/julia  \n",
        "\n",
        "  echo ''\n",
        "  echo \"Successfully installed `julia -v`!\"\n",
        "  echo \"Please reload this page (press Ctrl+R, ⌘+R, or the F5 key) then\"\n",
        "  echo \"jump to the 'Checking the Installation' section.\"\n",
        "fi"
      ],
      "execution_count": 17,
      "outputs": [
        {
          "output_type": "display_data",
          "data": {
            "text/plain": [
              "  Unrecognized magic \u001b[36m%%shell\u001b[39m.\n",
              "\n",
              "  Julia does not use the IPython \u001b[36m%magic\u001b[39m syntax. To interact with the IJulia\n",
              "  kernel, use \u001b[36mIJulia.somefunction(...)\u001b[39m, for example. Julia macros, string\n",
              "  macros, and functions can be used to accomplish most of the other\n",
              "  functionalities of IPython magics."
            ],
            "text/markdown": "Unrecognized magic `%%shell`.\n\nJulia does not use the IPython `%magic` syntax.   To interact with the IJulia kernel, use `IJulia.somefunction(...)`, for example.  Julia macros, string macros, and functions can be used to accomplish most of the other functionalities of IPython magics.\n",
            "text/latex": "Unrecognized magic \\texttt{\\%\\%shell}.\n\nJulia does not use the IPython \\texttt{\\%magic} syntax.   To interact with the IJulia kernel, use \\texttt{IJulia.somefunction(...)}, for example.  Julia macros, string macros, and functions can be used to accomplish most of the other functionalities of IPython magics.\n\n"
          },
          "metadata": {}
        }
      ]
    },
    {
      "cell_type": "code",
      "metadata": {
        "id": "EEzvvzCl1i0F",
        "colab": {
          "base_uri": "https://localhost:8080/"
        },
        "outputId": "848eeebe-9d61-44ec-829b-4f60e057843e"
      },
      "source": [
        "versioninfo()"
      ],
      "execution_count": 18,
      "outputs": [
        {
          "output_type": "stream",
          "name": "stdout",
          "text": [
            "Julia Version 1.8.3\n",
            "Commit 0434deb161e (2022-11-14 20:14 UTC)\n",
            "Platform Info:\n",
            "  OS: Linux (x86_64-linux-gnu)\n",
            "  CPU: 2 × Intel(R) Xeon(R) CPU @ 2.20GHz\n",
            "  WORD_SIZE: 64\n",
            "  LIBM: libopenlibm\n",
            "  LLVM: libLLVM-13.0.1 (ORCJIT, broadwell)\n",
            "  Threads: 2 on 2 virtual cores\n",
            "Environment:\n",
            "  LD_LIBRARY_PATH = /usr/local/nvidia/lib:/usr/local/nvidia/lib64\n",
            "  LD_PRELOAD = /usr/lib/x86_64-linux-gnu/libtcmalloc.so.4\n",
            "  JULIA_NUM_THREADS = 2\n"
          ]
        }
      ]
    },
    {
      "cell_type": "markdown",
      "source": [
        "# Classifiers"
      ],
      "metadata": {
        "id": "hiaTtbLZW9Kv"
      }
    },
    {
      "cell_type": "code",
      "source": [
        "import Pkg\n",
        "Pkg.add(\"CSV\")\n",
        "Pkg.add(\"DataFrames\")\n",
        "Pkg.add(\"Lathe\") \n",
        "Pkg.add(\"DecisionTree\") \n",
        "Pkg.add(\"StatsBase\") \n",
        "Pkg.add(\"EvalMetrics\") \n",
        "\n",
        "using CSV\n",
        "using DataFrames\n",
        "using Lathe\n",
        "using Lathe.preprocess: TrainTestSplit\n",
        "using DecisionTree\n",
        "using StatsBase\n",
        "using EvalMetrics"
      ],
      "metadata": {
        "id": "X_2hBMum0xfg"
      },
      "execution_count": null,
      "outputs": []
    },
    {
      "cell_type": "code",
      "source": [
        ";wget https://raw.githubusercontent.com/lcbjrrr/data/main/banking%20-%20train.csv"
      ],
      "metadata": {
        "id": "xtmA1I3-Fqtt"
      },
      "execution_count": null,
      "outputs": []
    },
    {
      "cell_type": "code",
      "source": [
        ";wget https://raw.githubusercontent.com/lcbjrrr/data/main/banking%20-%20test.csv"
      ],
      "metadata": {
        "id": "zwG3p8xAGbcQ"
      },
      "execution_count": null,
      "outputs": []
    },
    {
      "cell_type": "code",
      "source": [
        "#read csv\n",
        "train=CSV.read(\"banking - train.csv\", DataFrame)\n",
        "first(train,5)"
      ],
      "metadata": {
        "colab": {
          "base_uri": "https://localhost:8080/",
          "height": 196
        },
        "id": "Fo8upgK8Xxjn",
        "outputId": "2ef7ce6b-f68f-4fee-f3fb-fcb05ab22979"
      },
      "execution_count": 66,
      "outputs": [
        {
          "output_type": "execute_result",
          "data": {
            "text/plain": [
              "\u001b[1m5×3 DataFrame\u001b[0m\n",
              "\u001b[1m Row \u001b[0m│\u001b[1m salary  \u001b[0m\u001b[1m balance \u001b[0m\u001b[1m default \u001b[0m\n",
              "\u001b[1m     \u001b[0m│\u001b[90m Float64 \u001b[0m\u001b[90m Float64 \u001b[0m\u001b[90m Int64   \u001b[0m\n",
              "─────┼───────────────────────────\n",
              "   1 │  1000.0    100.0        0\n",
              "   2 │   950.0     95.0        0\n",
              "   3 │   800.0     85.0        0\n",
              "   4 │  1100.0   5500.0        0\n",
              "   5 │   999.0   6000.0        0"
            ],
            "text/html": [
              "<table class=\"data-frame\"><thead><tr><th></th><th>salary</th><th>balance</th><th>default</th></tr><tr><th></th><th>Float64</th><th>Float64</th><th>Int64</th></tr></thead><tbody><p>5 rows × 3 columns</p><tr><th>1</th><td>1000.0</td><td>100.0</td><td>0</td></tr><tr><th>2</th><td>950.0</td><td>95.0</td><td>0</td></tr><tr><th>3</th><td>800.0</td><td>85.0</td><td>0</td></tr><tr><th>4</th><td>1100.0</td><td>5500.0</td><td>0</td></tr><tr><th>5</th><td>999.0</td><td>6000.0</td><td>0</td></tr></tbody></table>"
            ],
            "text/latex": "\\begin{tabular}{r|ccc}\n\t& salary & balance & default\\\\\n\t\\hline\n\t& Float64 & Float64 & Int64\\\\\n\t\\hline\n\t1 & 1000.0 & 100.0 & 0 \\\\\n\t2 & 950.0 & 95.0 & 0 \\\\\n\t3 & 800.0 & 85.0 & 0 \\\\\n\t4 & 1100.0 & 5500.0 & 0 \\\\\n\t5 & 999.0 & 6000.0 & 0 \\\\\n\\end{tabular}\n"
          },
          "metadata": {},
          "execution_count": 66
        }
      ]
    },
    {
      "cell_type": "code",
      "source": [
        "test=CSV.read(\"banking - test.csv\", DataFrame)\n",
        "first(test,5)"
      ],
      "metadata": {
        "colab": {
          "base_uri": "https://localhost:8080/",
          "height": 196
        },
        "id": "pda_DsouGd2L",
        "outputId": "b101a6ab-fab1-47cb-b087-a83bcc709f69"
      },
      "execution_count": 67,
      "outputs": [
        {
          "output_type": "execute_result",
          "data": {
            "text/plain": [
              "\u001b[1m5×3 DataFrame\u001b[0m\n",
              "\u001b[1m Row \u001b[0m│\u001b[1m salary  \u001b[0m\u001b[1m balance \u001b[0m\u001b[1m default \u001b[0m\n",
              "\u001b[1m     \u001b[0m│\u001b[90m Float64 \u001b[0m\u001b[90m Float64 \u001b[0m\u001b[90m Int64   \u001b[0m\n",
              "─────┼───────────────────────────\n",
              "   1 │ 1050.0    105.0         0\n",
              "   2 │  997.5     99.75        0\n",
              "   3 │ 1048.95  6300.0         0\n",
              "   4 │  932.4   6825.0         0\n",
              "   5 │ 2415.0   4200.0         0"
            ],
            "text/html": [
              "<table class=\"data-frame\"><thead><tr><th></th><th>salary</th><th>balance</th><th>default</th></tr><tr><th></th><th>Float64</th><th>Float64</th><th>Int64</th></tr></thead><tbody><p>5 rows × 3 columns</p><tr><th>1</th><td>1050.0</td><td>105.0</td><td>0</td></tr><tr><th>2</th><td>997.5</td><td>99.75</td><td>0</td></tr><tr><th>3</th><td>1048.95</td><td>6300.0</td><td>0</td></tr><tr><th>4</th><td>932.4</td><td>6825.0</td><td>0</td></tr><tr><th>5</th><td>2415.0</td><td>4200.0</td><td>0</td></tr></tbody></table>"
            ],
            "text/latex": "\\begin{tabular}{r|ccc}\n\t& salary & balance & default\\\\\n\t\\hline\n\t& Float64 & Float64 & Int64\\\\\n\t\\hline\n\t1 & 1050.0 & 105.0 & 0 \\\\\n\t2 & 997.5 & 99.75 & 0 \\\\\n\t3 & 1048.95 & 6300.0 & 0 \\\\\n\t4 & 932.4 & 6825.0 & 0 \\\\\n\t5 & 2415.0 & 4200.0 & 0 \\\\\n\\end{tabular}\n"
          },
          "metadata": {},
          "execution_count": 67
        }
      ]
    },
    {
      "cell_type": "markdown",
      "source": [
        "## Decision Tree"
      ],
      "metadata": {
        "id": "4_nDh-Z6dQ9_"
      }
    },
    {
      "cell_type": "code",
      "source": [
        "tree = DecisionTreeClassifier(max_depth=3)\n",
        "DecisionTree.fit!(tree, Matrix(train[:,[:salary,:balance]]), train[:,:default])     "
      ],
      "metadata": {
        "colab": {
          "base_uri": "https://localhost:8080/"
        },
        "id": "NBXYEaK3dwme",
        "outputId": "73131de6-efc1-49d9-9033-4014597257cd"
      },
      "execution_count": 68,
      "outputs": [
        {
          "output_type": "execute_result",
          "data": {
            "text/plain": [
              "DecisionTreeClassifier\n",
              "max_depth:                3\n",
              "min_samples_leaf:         1\n",
              "min_samples_split:        2\n",
              "min_purity_increase:      0.0\n",
              "pruning_purity_threshold: 1.0\n",
              "n_subfeatures:            0\n",
              "classes:                  [0, 1]\n",
              "root:                     Decision Tree\n",
              "Leaves: 3\n",
              "Depth:  2"
            ]
          },
          "metadata": {},
          "execution_count": 68
        }
      ]
    },
    {
      "cell_type": "code",
      "source": [
        "function accuracy(y,pred)\n",
        "  acc = sum(pred.==y)/length(y)\n",
        "  return acc\n",
        "end"
      ],
      "metadata": {
        "colab": {
          "base_uri": "https://localhost:8080/"
        },
        "id": "R4slqDB3JbHG",
        "outputId": "ea3b0758-0d5a-4781-c033-38aa112e4b5e"
      },
      "execution_count": 69,
      "outputs": [
        {
          "output_type": "execute_result",
          "data": {
            "text/plain": [
              "accuracy (generic function with 1 method)"
            ]
          },
          "metadata": {},
          "execution_count": 69
        }
      ]
    },
    {
      "cell_type": "code",
      "source": [
        " pred_train = DecisionTree.predict(tree,Matrix(train[:,[:salary,:balance]]))\n",
        "acc_train = accuracy(train.default,pred_train)\n",
        "print(\"Accuracy (Train): \",acc_train)"
      ],
      "metadata": {
        "colab": {
          "base_uri": "https://localhost:8080/"
        },
        "id": "hsBWt9Q1GHo6",
        "outputId": "0c0c7283-bfcc-4084-e650-f564472660f3"
      },
      "execution_count": 45,
      "outputs": [
        {
          "output_type": "stream",
          "name": "stdout",
          "text": [
            "Accuracy (Train): 1.0"
          ]
        }
      ]
    },
    {
      "cell_type": "code",
      "source": [
        "pred_test=DecisionTree.predict(tree,Matrix(test[:,[:salary,:balance]]))\n",
        "acc_test = accuracy(test.default,pred_test)\n",
        "print(\"Accuracy (Test): \",acc_test)"
      ],
      "metadata": {
        "colab": {
          "base_uri": "https://localhost:8080/"
        },
        "id": "M5eyU-smf6dU",
        "outputId": "75b5e7b7-736f-40d5-a2e3-5132c54428b7"
      },
      "execution_count": 47,
      "outputs": [
        {
          "output_type": "stream",
          "name": "stdout",
          "text": [
            "Accuracy (Test): 1.0"
          ]
        }
      ]
    },
    {
      "cell_type": "markdown",
      "source": [
        "# Classification Metrics"
      ],
      "metadata": {
        "id": "1W5HFLMB9Kfw"
      }
    },
    {
      "cell_type": "code",
      "source": [
        "#Confusion Matrix\n",
        "counts(test.default,pred_test)"
      ],
      "metadata": {
        "colab": {
          "base_uri": "https://localhost:8080/"
        },
        "id": "3zTpUJxo9Nkz",
        "outputId": "9f4d16d2-d138-4ceb-c805-b052b0e9f5f1"
      },
      "execution_count": 49,
      "outputs": [
        {
          "output_type": "execute_result",
          "data": {
            "text/plain": [
              "2×2 Matrix{Int64}:\n",
              " 8  0\n",
              " 0  2"
            ]
          },
          "metadata": {},
          "execution_count": 49
        }
      ]
    },
    {
      "cell_type": "code",
      "source": [
        "# Precision/Recall\n",
        "println(\"Precision: \",precision(test.default,pred_test))\n",
        "println(\"Recall: \" , recall(test.default,pred_test))"
      ],
      "metadata": {
        "colab": {
          "base_uri": "https://localhost:8080/"
        },
        "id": "GkuGh1oo-CxZ",
        "outputId": "195086ce-99f0-4118-f7b3-29587b62eda1"
      },
      "execution_count": 51,
      "outputs": [
        {
          "output_type": "stream",
          "name": "stdout",
          "text": [
            "Precision: 1.0\n",
            "Recall: 1.0\n"
          ]
        }
      ]
    },
    {
      "cell_type": "markdown",
      "source": [
        "# Second Example: Gender"
      ],
      "metadata": {
        "id": "pO7_4rGGFu5o"
      }
    },
    {
      "cell_type": "code",
      "source": [
        "import Pkg\n",
        "Pkg.add(\"CSV\")\n",
        "Pkg.add(\"DataFrames\")\n",
        "Pkg.add(\"Lathe\") \n",
        "Pkg.add(\"DecisionTree\") \n",
        "Pkg.add(\"StatsBase\") \n",
        "Pkg.add(\"EvalMetrics\") \n",
        "\n",
        "using CSV\n",
        "using DataFrames\n",
        "using Lathe\n",
        "using Lathe.preprocess: TrainTestSplit\n",
        "using DecisionTree\n",
        "using StatsBase\n",
        "using EvalMetrics"
      ],
      "metadata": {
        "id": "Bteq_2NZFwWm"
      },
      "execution_count": null,
      "outputs": []
    },
    {
      "cell_type": "code",
      "source": [
        ";wget https://raw.githubusercontent.com/lcbjrrr/data/main/gender%20-%20all.csv"
      ],
      "metadata": {
        "id": "3JAQRSf0Fw9o"
      },
      "execution_count": null,
      "outputs": []
    },
    {
      "cell_type": "code",
      "source": [
        "#read csv\n",
        "df=CSV.read(\"gender - all.csv\", DataFrame)\n",
        "first(df,5)"
      ],
      "metadata": {
        "colab": {
          "base_uri": "https://localhost:8080/",
          "height": 196
        },
        "id": "o3aAEo-HF6F8",
        "outputId": "e48092f1-61d2-4e67-d3c9-ce8c51afd1ef"
      },
      "execution_count": 53,
      "outputs": [
        {
          "output_type": "execute_result",
          "data": {
            "text/plain": [
              "\u001b[1m5×3 DataFrame\u001b[0m\n",
              "\u001b[1m Row \u001b[0m│\u001b[1m G     \u001b[0m\u001b[1m H       \u001b[0m\u001b[1m W        \u001b[0m\n",
              "\u001b[1m     \u001b[0m│\u001b[90m Int64 \u001b[0m\u001b[90m Float64 \u001b[0m\u001b[90m Float64  \u001b[0m\n",
              "─────┼──────────────────────────\n",
              "   1 │     0  187.571  109.952\n",
              "   2 │     0  174.706   73.7775\n",
              "   3 │     0  188.24    96.7004\n",
              "   4 │     0  182.197  100.019\n",
              "   5 │     0  177.5     93.7954"
            ],
            "text/html": [
              "<table class=\"data-frame\"><thead><tr><th></th><th>G</th><th>H</th><th>W</th></tr><tr><th></th><th>Int64</th><th>Float64</th><th>Float64</th></tr></thead><tbody><p>5 rows × 3 columns</p><tr><th>1</th><td>0</td><td>187.571</td><td>109.952</td></tr><tr><th>2</th><td>0</td><td>174.706</td><td>73.7775</td></tr><tr><th>3</th><td>0</td><td>188.24</td><td>96.7004</td></tr><tr><th>4</th><td>0</td><td>182.197</td><td>100.019</td></tr><tr><th>5</th><td>0</td><td>177.5</td><td>93.7954</td></tr></tbody></table>"
            ],
            "text/latex": "\\begin{tabular}{r|ccc}\n\t& G & H & W\\\\\n\t\\hline\n\t& Int64 & Float64 & Float64\\\\\n\t\\hline\n\t1 & 0 & 187.571 & 109.952 \\\\\n\t2 & 0 & 174.706 & 73.7775 \\\\\n\t3 & 0 & 188.24 & 96.7004 \\\\\n\t4 & 0 & 182.197 & 100.019 \\\\\n\t5 & 0 & 177.5 & 93.7954 \\\\\n\\end{tabular}\n"
          },
          "metadata": {},
          "execution_count": 53
        }
      ]
    },
    {
      "cell_type": "code",
      "source": [
        "train, test = TrainTestSplit(df,.80)"
      ],
      "metadata": {
        "id": "1qMbdUpuF-rq"
      },
      "execution_count": null,
      "outputs": []
    },
    {
      "cell_type": "code",
      "source": [
        "tree = DecisionTreeClassifier(max_depth=3)\n",
        "DecisionTree.fit!(tree, Matrix(train[:,[:H,:W]]), train[:,:G])   "
      ],
      "metadata": {
        "colab": {
          "base_uri": "https://localhost:8080/"
        },
        "id": "YtenTYDTGJEK",
        "outputId": "1f79c3e4-c8f1-4916-87c7-17fbb2af21fc"
      },
      "execution_count": 55,
      "outputs": [
        {
          "output_type": "execute_result",
          "data": {
            "text/plain": [
              "DecisionTreeClassifier\n",
              "max_depth:                3\n",
              "min_samples_leaf:         1\n",
              "min_samples_split:        2\n",
              "min_purity_increase:      0.0\n",
              "pruning_purity_threshold: 1.0\n",
              "n_subfeatures:            0\n",
              "classes:                  [0, 1]\n",
              "root:                     Decision Tree\n",
              "Leaves: 8\n",
              "Depth:  3"
            ]
          },
          "metadata": {},
          "execution_count": 55
        }
      ]
    },
    {
      "cell_type": "code",
      "source": [
        "function accuracy(y,pred)\n",
        "  acc = sum(pred.==y)/length(y)\n",
        "  return acc\n",
        "end\n",
        "pred_train = DecisionTree.predict(tree,Matrix(train[:,[:H,:W]]))\n",
        "acc_train = accuracy(train.G,pred_train)\n",
        "print(\"Accuracy (Train): \",acc_train)"
      ],
      "metadata": {
        "colab": {
          "base_uri": "https://localhost:8080/"
        },
        "id": "PAWFk0PuIuwJ",
        "outputId": "5335bcd3-8952-4ee3-f72b-ab284ff8951c"
      },
      "execution_count": 57,
      "outputs": [
        {
          "output_type": "stream",
          "name": "stdout",
          "text": [
            "Accuracy (Train): 0.9101137642205276"
          ]
        }
      ]
    },
    {
      "cell_type": "code",
      "source": [
        "pred_test=DecisionTree.predict(tree,Matrix(test[:,[:H,:W]]))\n",
        "acc_test = accuracy(test.G,pred_test)\n",
        "print(\"Accuracy (Test): \",acc_test)"
      ],
      "metadata": {
        "colab": {
          "base_uri": "https://localhost:8080/"
        },
        "id": "C5UlGab5I1bc",
        "outputId": "deb7c0bf-ced1-4b95-d0f2-9498de5719dd"
      },
      "execution_count": 58,
      "outputs": [
        {
          "output_type": "stream",
          "name": "stdout",
          "text": [
            "Accuracy (Test): 0.9010494752623688"
          ]
        }
      ]
    },
    {
      "cell_type": "code",
      "source": [
        "counts(test.G,pred_test)"
      ],
      "metadata": {
        "colab": {
          "base_uri": "https://localhost:8080/"
        },
        "id": "jrw-ceydI61e",
        "outputId": "e989b29f-86af-44a1-a3ee-248fabd03290"
      },
      "execution_count": 60,
      "outputs": [
        {
          "output_type": "execute_result",
          "data": {
            "text/plain": [
              "2×2 Matrix{Int64}:\n",
              " 903  113\n",
              "  85  900"
            ]
          },
          "metadata": {},
          "execution_count": 60
        }
      ]
    },
    {
      "cell_type": "code",
      "source": [
        "println(\"Precision: \",precision(test.G,pred_test))\n",
        "println(\"Recall: \" , recall(test.G,pred_test))"
      ],
      "metadata": {
        "colab": {
          "base_uri": "https://localhost:8080/"
        },
        "id": "3pf4iVp3JHrQ",
        "outputId": "e459d490-5035-47e4-b844-8754b30768a7"
      },
      "execution_count": 61,
      "outputs": [
        {
          "output_type": "stream",
          "name": "stdout",
          "text": [
            "Precision: 0.8884501480750246\n",
            "Recall: 0.9137055837563451\n"
          ]
        }
      ]
    },
    {
      "cell_type": "markdown",
      "source": [
        "# Third Example: Play"
      ],
      "metadata": {
        "id": "b0L-pSNxKZVE"
      }
    },
    {
      "cell_type": "code",
      "source": [
        "import Pkg\n",
        "Pkg.add(\"CSV\")\n",
        "Pkg.add(\"DataFrames\")\n",
        "Pkg.add(\"Lathe\") \n",
        "Pkg.add(\"DecisionTree\") \n",
        "Pkg.add(\"StatsBase\") \n",
        "Pkg.add(\"EvalMetrics\") \n",
        "\n",
        "using CSV\n",
        "using DataFrames\n",
        "using Lathe\n",
        "using Lathe.preprocess: TrainTestSplit\n",
        "using DecisionTree\n",
        "using StatsBase\n",
        "using EvalMetrics"
      ],
      "metadata": {
        "id": "QDn_hf3EKcG7"
      },
      "execution_count": null,
      "outputs": []
    },
    {
      "cell_type": "code",
      "source": [
        ";wget https://raw.githubusercontent.com/lcbjrrr/data/main/play%20-%20tr.csv"
      ],
      "metadata": {
        "id": "LwyOV0HcKcU9"
      },
      "execution_count": null,
      "outputs": []
    },
    {
      "cell_type": "code",
      "source": [
        ";wget https://raw.githubusercontent.com/lcbjrrr/data/main/play%20-%20ts.csv"
      ],
      "metadata": {
        "id": "uTJv_tRkKcXV"
      },
      "execution_count": null,
      "outputs": []
    },
    {
      "cell_type": "code",
      "source": [
        "#read csv\n",
        "train=CSV.read(\"play - tr.csv\", DataFrame)\n",
        "first(train,5)"
      ],
      "metadata": {
        "colab": {
          "base_uri": "https://localhost:8080/",
          "height": 196
        },
        "id": "K6gTBtPWKcZs",
        "outputId": "cadb0677-9f7e-4e3b-977a-2449993eb876"
      },
      "execution_count": 70,
      "outputs": [
        {
          "output_type": "execute_result",
          "data": {
            "text/plain": [
              "\u001b[1m5×5 DataFrame\u001b[0m\n",
              "\u001b[1m Row \u001b[0m│\u001b[1m sunny \u001b[0m\u001b[1m hot   \u001b[0m\u001b[1m humid \u001b[0m\u001b[1m windy \u001b[0m\u001b[1m play  \u001b[0m\n",
              "\u001b[1m     \u001b[0m│\u001b[90m Int64 \u001b[0m\u001b[90m Int64 \u001b[0m\u001b[90m Int64 \u001b[0m\u001b[90m Int64 \u001b[0m\u001b[90m Int64 \u001b[0m\n",
              "─────┼───────────────────────────────────\n",
              "   1 │     1      1      1      0      0\n",
              "   2 │     1      1      1      1      0\n",
              "   3 │     0      1      1      0      1\n",
              "   4 │     0      0      1      0      1\n",
              "   5 │     0      0      0      0      1"
            ],
            "text/html": [
              "<table class=\"data-frame\"><thead><tr><th></th><th>sunny</th><th>hot</th><th>humid</th><th>windy</th><th>play</th></tr><tr><th></th><th>Int64</th><th>Int64</th><th>Int64</th><th>Int64</th><th>Int64</th></tr></thead><tbody><p>5 rows × 5 columns</p><tr><th>1</th><td>1</td><td>1</td><td>1</td><td>0</td><td>0</td></tr><tr><th>2</th><td>1</td><td>1</td><td>1</td><td>1</td><td>0</td></tr><tr><th>3</th><td>0</td><td>1</td><td>1</td><td>0</td><td>1</td></tr><tr><th>4</th><td>0</td><td>0</td><td>1</td><td>0</td><td>1</td></tr><tr><th>5</th><td>0</td><td>0</td><td>0</td><td>0</td><td>1</td></tr></tbody></table>"
            ],
            "text/latex": "\\begin{tabular}{r|ccccc}\n\t& sunny & hot & humid & windy & play\\\\\n\t\\hline\n\t& Int64 & Int64 & Int64 & Int64 & Int64\\\\\n\t\\hline\n\t1 & 1 & 1 & 1 & 0 & 0 \\\\\n\t2 & 1 & 1 & 1 & 1 & 0 \\\\\n\t3 & 0 & 1 & 1 & 0 & 1 \\\\\n\t4 & 0 & 0 & 1 & 0 & 1 \\\\\n\t5 & 0 & 0 & 0 & 0 & 1 \\\\\n\\end{tabular}\n"
          },
          "metadata": {},
          "execution_count": 70
        }
      ]
    },
    {
      "cell_type": "code",
      "source": [
        "#read csv\n",
        "test=CSV.read(\"play - tr.csv\", DataFrame)\n",
        "first(test,5)"
      ],
      "metadata": {
        "colab": {
          "base_uri": "https://localhost:8080/",
          "height": 196
        },
        "id": "tdV4OrogKccB",
        "outputId": "a8292665-8de9-49ae-b654-d890a02ecfc2"
      },
      "execution_count": 71,
      "outputs": [
        {
          "output_type": "execute_result",
          "data": {
            "text/plain": [
              "\u001b[1m5×5 DataFrame\u001b[0m\n",
              "\u001b[1m Row \u001b[0m│\u001b[1m sunny \u001b[0m\u001b[1m hot   \u001b[0m\u001b[1m humid \u001b[0m\u001b[1m windy \u001b[0m\u001b[1m play  \u001b[0m\n",
              "\u001b[1m     \u001b[0m│\u001b[90m Int64 \u001b[0m\u001b[90m Int64 \u001b[0m\u001b[90m Int64 \u001b[0m\u001b[90m Int64 \u001b[0m\u001b[90m Int64 \u001b[0m\n",
              "─────┼───────────────────────────────────\n",
              "   1 │     1      1      1      0      0\n",
              "   2 │     1      1      1      1      0\n",
              "   3 │     0      1      1      0      1\n",
              "   4 │     0      0      1      0      1\n",
              "   5 │     0      0      0      0      1"
            ],
            "text/html": [
              "<table class=\"data-frame\"><thead><tr><th></th><th>sunny</th><th>hot</th><th>humid</th><th>windy</th><th>play</th></tr><tr><th></th><th>Int64</th><th>Int64</th><th>Int64</th><th>Int64</th><th>Int64</th></tr></thead><tbody><p>5 rows × 5 columns</p><tr><th>1</th><td>1</td><td>1</td><td>1</td><td>0</td><td>0</td></tr><tr><th>2</th><td>1</td><td>1</td><td>1</td><td>1</td><td>0</td></tr><tr><th>3</th><td>0</td><td>1</td><td>1</td><td>0</td><td>1</td></tr><tr><th>4</th><td>0</td><td>0</td><td>1</td><td>0</td><td>1</td></tr><tr><th>5</th><td>0</td><td>0</td><td>0</td><td>0</td><td>1</td></tr></tbody></table>"
            ],
            "text/latex": "\\begin{tabular}{r|ccccc}\n\t& sunny & hot & humid & windy & play\\\\\n\t\\hline\n\t& Int64 & Int64 & Int64 & Int64 & Int64\\\\\n\t\\hline\n\t1 & 1 & 1 & 1 & 0 & 0 \\\\\n\t2 & 1 & 1 & 1 & 1 & 0 \\\\\n\t3 & 0 & 1 & 1 & 0 & 1 \\\\\n\t4 & 0 & 0 & 1 & 0 & 1 \\\\\n\t5 & 0 & 0 & 0 & 0 & 1 \\\\\n\\end{tabular}\n"
          },
          "metadata": {},
          "execution_count": 71
        }
      ]
    },
    {
      "cell_type": "code",
      "source": [
        "tree = DecisionTreeClassifier(max_depth=3)\n",
        "DecisionTree.fit!(tree, Matrix(train[:,[:sunny,\t:hot,\t:humid,\t:windy]]), train[:,:play])   "
      ],
      "metadata": {
        "colab": {
          "base_uri": "https://localhost:8080/"
        },
        "id": "ULiSae0YK7W6",
        "outputId": "edd80bec-2e97-48db-8306-c0ec7ea241d8"
      },
      "execution_count": 73,
      "outputs": [
        {
          "output_type": "execute_result",
          "data": {
            "text/plain": [
              "DecisionTreeClassifier\n",
              "max_depth:                3\n",
              "min_samples_leaf:         1\n",
              "min_samples_split:        2\n",
              "min_purity_increase:      0.0\n",
              "pruning_purity_threshold: 1.0\n",
              "n_subfeatures:            0\n",
              "classes:                  [0, 1]\n",
              "root:                     Decision Tree\n",
              "Leaves: 6\n",
              "Depth:  3"
            ]
          },
          "metadata": {},
          "execution_count": 73
        }
      ]
    },
    {
      "cell_type": "code",
      "source": [
        "function accuracy(y,pred)\n",
        "  acc = sum(pred.==y)/length(y)\n",
        "  return acc\n",
        "end\n",
        "pred_train = DecisionTree.predict(tree,Matrix(train[:,[:sunny,\t:hot,\t:humid,\t:windy]]))\n",
        "acc_train = accuracy(train.play,pred_train)\n",
        "print(\"Accuracy (Train): \",acc_train)"
      ],
      "metadata": {
        "colab": {
          "base_uri": "https://localhost:8080/"
        },
        "id": "3zIVafQ9K9o9",
        "outputId": "05cb2b95-2ebf-4656-b7df-676fb24079a0"
      },
      "execution_count": 74,
      "outputs": [
        {
          "output_type": "stream",
          "name": "stdout",
          "text": [
            "Accuracy (Train): 0.8571428571428571"
          ]
        }
      ]
    },
    {
      "cell_type": "code",
      "source": [
        "pred_test=DecisionTree.predict(tree,Matrix(test[:,[:sunny,\t:hot,\t:humid,\t:windy]]))\n",
        "acc_test = accuracy(test.play,pred_test)\n",
        "print(\"Accuracy (Test): \",acc_test)"
      ],
      "metadata": {
        "colab": {
          "base_uri": "https://localhost:8080/"
        },
        "id": "OMnZVah1LJnU",
        "outputId": "a1328c64-7f06-4040-e967-5695a099c1b0"
      },
      "execution_count": 76,
      "outputs": [
        {
          "output_type": "stream",
          "name": "stdout",
          "text": [
            "Accuracy (Test): 0.8571428571428571"
          ]
        }
      ]
    },
    {
      "cell_type": "code",
      "source": [
        "counts(test.play,pred_test)"
      ],
      "metadata": {
        "colab": {
          "base_uri": "https://localhost:8080/"
        },
        "id": "dQJL2hvmLPry",
        "outputId": "775fce46-5d91-4c4c-9ff7-ca3b4c65db3c"
      },
      "execution_count": 77,
      "outputs": [
        {
          "output_type": "execute_result",
          "data": {
            "text/plain": [
              "2×2 Matrix{Int64}:\n",
              " 5  0\n",
              " 2  7"
            ]
          },
          "metadata": {},
          "execution_count": 77
        }
      ]
    },
    {
      "cell_type": "code",
      "source": [
        "println(\"Precision: \",precision(test.play,pred_test))\n",
        "println(\"Recall: \" , recall(test.play,pred_test))"
      ],
      "metadata": {
        "id": "LZYt4taFLSxs",
        "outputId": "6d475b77-56b0-4c19-95a1-08cb057228c9",
        "colab": {
          "base_uri": "https://localhost:8080/"
        }
      },
      "execution_count": 78,
      "outputs": [
        {
          "output_type": "stream",
          "name": "stdout",
          "text": [
            "Precision: 1.0\n",
            "Recall: 0.7777777777777778\n"
          ]
        }
      ]
    }
  ]
}