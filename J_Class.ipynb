{
  "nbformat": 4,
  "nbformat_minor": 0,
  "metadata": {
    "colab": {
      "provenance": [],
      "include_colab_link": true
    },
    "kernelspec": {
      "display_name": "Julia",
      "language": "julia",
      "name": "julia"
    },
    "language_info": {
      "file_extension": ".jl",
      "mimetype": "application/julia",
      "name": "julia"
    },
    "gpuClass": "standard"
  },
  "cells": [
    {
      "cell_type": "markdown",
      "metadata": {
        "id": "view-in-github",
        "colab_type": "text"
      },
      "source": [
        "<a href=\"https://colab.research.google.com/github/lcbjrrr/quant/blob/master/J_Class.ipynb\" target=\"_parent\"><img src=\"https://colab.research.google.com/assets/colab-badge.svg\" alt=\"Open In Colab\"/></a>"
      ]
    },
    {
      "cell_type": "markdown",
      "source": [
        "**Topic:** AI/ML\n",
        "\n",
        "**Title:** Classifiers (Decision Tree)\n",
        "\n",
        "**Author:** Luiz Barboza\n",
        "\n",
        "**Date:** 20/dec/22\n",
        "\n",
        "**Lang:** Julia\n",
        "\n",
        "**Site:** https://quant-research.group/\n",
        "\n",
        "**Email:** contato@quant-research.group\n"
      ],
      "metadata": {
        "id": "S7PA-4AAW20F"
      }
    },
    {
      "cell_type": "markdown",
      "source": [
        "# Julia Installation"
      ],
      "metadata": {
        "id": "wTmedJrDW2pY"
      }
    },
    {
      "cell_type": "code",
      "metadata": {
        "id": "GIeFXS0F0zww",
        "colab": {
          "base_uri": "https://localhost:8080/"
        },
        "outputId": "ba4e5c9d-7a97-44eb-8cd7-6cf4882f753e"
      },
      "source": [
        "%%shell\n",
        "set -e\n",
        "\n",
        "#---------------------------------------------------#\n",
        "JULIA_VERSION=\"1.8.3\" # any version ≥ 0.7.0\n",
        "JULIA_PACKAGES=\"IJulia BenchmarkTools\"\n",
        "JULIA_PACKAGES_IF_GPU=\"CUDA\" # or CuArrays for older Julia versions\n",
        "JULIA_NUM_THREADS=2\n",
        "#---------------------------------------------------#\n",
        "\n",
        "if [ -z `which julia` ]; then\n",
        "  # Install Julia\n",
        "  JULIA_VER=`cut -d '.' -f -2 <<< \"$JULIA_VERSION\"`\n",
        "  echo \"Installing Julia $JULIA_VERSION on the current Colab Runtime...\"\n",
        "  BASE_URL=\"https://julialang-s3.julialang.org/bin/linux/x64\"\n",
        "  URL=\"$BASE_URL/$JULIA_VER/julia-$JULIA_VERSION-linux-x86_64.tar.gz\"\n",
        "  wget -nv $URL -O /tmp/julia.tar.gz # -nv means \"not verbose\"\n",
        "  tar -x -f /tmp/julia.tar.gz -C /usr/local --strip-components 1\n",
        "  rm /tmp/julia.tar.gz\n",
        "\n",
        "  # Install Packages\n",
        "  nvidia-smi -L &> /dev/null && export GPU=1 || export GPU=0\n",
        "  if [ $GPU -eq 1 ]; then\n",
        "    JULIA_PACKAGES=\"$JULIA_PACKAGES $JULIA_PACKAGES_IF_GPU\"\n",
        "  fi\n",
        "  for PKG in `echo $JULIA_PACKAGES`; do\n",
        "    echo \"Installing Julia package $PKG...\"\n",
        "    julia -e 'using Pkg; pkg\"add '$PKG'; precompile;\"' &> /dev/null\n",
        "  done\n",
        "\n",
        "  # Install kernel and rename it to \"julia\"\n",
        "  echo \"Installing IJulia kernel...\"\n",
        "  julia -e 'using IJulia; IJulia.installkernel(\"julia\", env=Dict(\n",
        "      \"JULIA_NUM_THREADS\"=>\"'\"$JULIA_NUM_THREADS\"'\"))'\n",
        "  KERNEL_DIR=`julia -e \"using IJulia; print(IJulia.kerneldir())\"`\n",
        "  KERNEL_NAME=`ls -d \"$KERNEL_DIR\"/julia*`\n",
        "  mv -f $KERNEL_NAME \"$KERNEL_DIR\"/julia  \n",
        "\n",
        "  echo ''\n",
        "  echo \"Successfully installed `julia -v`!\"\n",
        "  echo \"Please reload this page (press Ctrl+R, ⌘+R, or the F5 key) then\"\n",
        "  echo \"jump to the 'Checking the Installation' section.\"\n",
        "fi"
      ],
      "execution_count": null,
      "outputs": [
        {
          "output_type": "stream",
          "name": "stdout",
          "text": [
            "Installing Julia 1.8.3 on the current Colab Runtime...\n",
            "2023-01-05 12:39:59 URL:https://storage.googleapis.com/julialang2/bin/linux/x64/1.8/julia-1.8.3-linux-x86_64.tar.gz [130030846/130030846] -> \"/tmp/julia.tar.gz\" [1]\n",
            "Installing Julia package IJulia...\n",
            "Installing Julia package BenchmarkTools...\n",
            "Installing IJulia kernel...\n",
            "\u001b[36m\u001b[1m[ \u001b[22m\u001b[39m\u001b[36m\u001b[1mInfo: \u001b[22m\u001b[39mInstalling julia kernelspec in /root/.local/share/jupyter/kernels/julia-1.8\n",
            "\n",
            "Successfully installed julia version 1.8.3!\n",
            "Please reload this page (press Ctrl+R, ⌘+R, or the F5 key) then\n",
            "jump to the 'Checking the Installation' section.\n"
          ]
        },
        {
          "output_type": "execute_result",
          "data": {
            "text/plain": []
          },
          "metadata": {},
          "execution_count": 1
        }
      ]
    },
    {
      "cell_type": "code",
      "metadata": {
        "id": "EEzvvzCl1i0F",
        "colab": {
          "base_uri": "https://localhost:8080/"
        },
        "outputId": "c78f1bdc-9471-47ff-e9da-ccf4d3c4d8b4"
      },
      "source": [
        "versioninfo()"
      ],
      "execution_count": 1,
      "outputs": [
        {
          "output_type": "stream",
          "name": "stdout",
          "text": [
            "Julia Version 1.8.3\n",
            "Commit 0434deb161e (2022-11-14 20:14 UTC)\n",
            "Platform Info:\n",
            "  OS: Linux (x86_64-linux-gnu)\n",
            "  CPU: 2 × Intel(R) Xeon(R) CPU @ 2.20GHz\n",
            "  WORD_SIZE: 64\n",
            "  LIBM: libopenlibm\n",
            "  LLVM: libLLVM-13.0.1 (ORCJIT, broadwell)\n",
            "  Threads: 2 on 2 virtual cores\n",
            "Environment:\n",
            "  LD_LIBRARY_PATH = /usr/local/nvidia/lib:/usr/local/nvidia/lib64\n",
            "  LD_PRELOAD = /usr/lib/x86_64-linux-gnu/libtcmalloc.so.4\n",
            "  JULIA_NUM_THREADS = 2\n"
          ]
        }
      ]
    },
    {
      "cell_type": "markdown",
      "source": [
        "# Classifiers"
      ],
      "metadata": {
        "id": "hiaTtbLZW9Kv"
      }
    },
    {
      "cell_type": "code",
      "source": [
        "import Pkg\n",
        "Pkg.add(\"CSV\")\n",
        "Pkg.add(\"DataFrames\")\n",
        "Pkg.add(\"Lathe\") \n",
        "Pkg.add(\"DecisionTree\") \n",
        "Pkg.add(\"StatsBase\") \n",
        "Pkg.add(\"EvalMetrics\") \n",
        "\n",
        "using CSV\n",
        "using DataFrames\n",
        "using Lathe\n",
        "using Lathe.preprocess: TrainTestSplit\n",
        "using DecisionTree\n",
        "using StatsBase\n",
        "using EvalMetrics"
      ],
      "metadata": {
        "id": "X_2hBMum0xfg",
        "colab": {
          "base_uri": "https://localhost:8080/"
        },
        "outputId": "037f032f-7b9b-4cb9-cbf1-a0d7f50b0463"
      },
      "execution_count": 2,
      "outputs": [
        {
          "output_type": "stream",
          "name": "stderr",
          "text": [
            "\u001b[32m  ✓ \u001b[39mEvalMetrics\n",
            "\u001b[32m  ✓ \u001b[39m\u001b[90mSpecialFunctions\u001b[39m\n",
            "\u001b[32m  ✓ \u001b[39m\u001b[90mStatsFuns\u001b[39m\n",
            "\u001b[32m  ✓ \u001b[39m\u001b[90mDistributions\u001b[39m\n",
            "\u001b[32m  ✓ \u001b[39mLathe\n",
            "  9 dependencies successfully precompiled in 23 seconds. 62 already precompiled.\n"
          ]
        }
      ]
    },
    {
      "cell_type": "code",
      "source": [
        ";wget https://raw.githubusercontent.com/lcbjrrr/data/main/gender%20-%20all.csv"
      ],
      "metadata": {
        "id": "xil7rD-eXPe2",
        "colab": {
          "base_uri": "https://localhost:8080/"
        },
        "outputId": "fc6a69cf-f9f1-478d-97f4-74e34d8e4d92"
      },
      "execution_count": 3,
      "outputs": [
        {
          "output_type": "stream",
          "name": "stderr",
          "text": [
            "--2023-01-05 12:45:00--  https://raw.githubusercontent.com/lcbjrrr/data/main/gender%20-%20all.csv\n",
            "Resolving raw.githubusercontent.com (raw.githubusercontent.com)... 185.199.109.133, 185.199.108.133, 185.199.110.133, ...\n",
            "Connecting to raw.githubusercontent.com (raw.githubusercontent.com)|185.199.109.133|:443... connected.\n",
            "HTTP request sent, awaiting response... 200 OK\n",
            "Length: 267751 (261K) [text/plain]\n",
            "Saving to: ‘gender - all.csv’\n",
            "\n",
            "     0K .......... .......... .......... .......... .......... 19% 4.16M 0s\n",
            "    50K .......... .......... .......... .......... .......... 38% 5.56M 0s\n",
            "   100K .......... .......... .......... .......... .......... 57% 26.5M 0s\n",
            "   150K .......... .......... .......... .......... .......... 76% 17.6M 0s\n",
            "   200K .......... .......... .......... .......... .......... 95% 7.87M 0s\n",
            "   250K .......... .                                          100%  210M=0.03s\n",
            "\n",
            "2023-01-05 12:45:00 (8.13 MB/s) - ‘gender - all.csv’ saved [267751/267751]\n",
            "\n"
          ]
        }
      ]
    },
    {
      "cell_type": "code",
      "source": [
        "#read csv\n",
        "df=CSV.read(\"gender - all.csv\", DataFrame)\n",
        "first(df,5)"
      ],
      "metadata": {
        "colab": {
          "base_uri": "https://localhost:8080/",
          "height": 196
        },
        "id": "Fo8upgK8Xxjn",
        "outputId": "8c5e01e3-7cdd-4fe6-f621-f8bd8d966c67"
      },
      "execution_count": 4,
      "outputs": [
        {
          "output_type": "execute_result",
          "data": {
            "text/plain": [
              "\u001b[1m5×3 DataFrame\u001b[0m\n",
              "\u001b[1m Row \u001b[0m│\u001b[1m G     \u001b[0m\u001b[1m H       \u001b[0m\u001b[1m W        \u001b[0m\n",
              "\u001b[1m     \u001b[0m│\u001b[90m Int64 \u001b[0m\u001b[90m Float64 \u001b[0m\u001b[90m Float64  \u001b[0m\n",
              "─────┼──────────────────────────\n",
              "   1 │     0  187.571  109.952\n",
              "   2 │     0  174.706   73.7775\n",
              "   3 │     0  188.24    96.7004\n",
              "   4 │     0  182.197  100.019\n",
              "   5 │     0  177.5     93.7954"
            ],
            "text/html": [
              "<table class=\"data-frame\"><thead><tr><th></th><th>G</th><th>H</th><th>W</th></tr><tr><th></th><th>Int64</th><th>Float64</th><th>Float64</th></tr></thead><tbody><p>5 rows × 3 columns</p><tr><th>1</th><td>0</td><td>187.571</td><td>109.952</td></tr><tr><th>2</th><td>0</td><td>174.706</td><td>73.7775</td></tr><tr><th>3</th><td>0</td><td>188.24</td><td>96.7004</td></tr><tr><th>4</th><td>0</td><td>182.197</td><td>100.019</td></tr><tr><th>5</th><td>0</td><td>177.5</td><td>93.7954</td></tr></tbody></table>"
            ],
            "text/latex": "\\begin{tabular}{r|ccc}\n\t& G & H & W\\\\\n\t\\hline\n\t& Int64 & Float64 & Float64\\\\\n\t\\hline\n\t1 & 0 & 187.571 & 109.952 \\\\\n\t2 & 0 & 174.706 & 73.7775 \\\\\n\t3 & 0 & 188.24 & 96.7004 \\\\\n\t4 & 0 & 182.197 & 100.019 \\\\\n\t5 & 0 & 177.5 & 93.7954 \\\\\n\\end{tabular}\n"
          },
          "metadata": {},
          "execution_count": 4
        }
      ]
    },
    {
      "cell_type": "markdown",
      "source": [
        "## Decision Tree"
      ],
      "metadata": {
        "id": "4_nDh-Z6dQ9_"
      }
    },
    {
      "cell_type": "code",
      "source": [
        "train, test = TrainTestSplit(df,.80)"
      ],
      "metadata": {
        "id": "DsFmCCNAefeo",
        "colab": {
          "base_uri": "https://localhost:8080/"
        },
        "outputId": "c0754449-ceae-41f8-b92c-1137a844218c"
      },
      "execution_count": 5,
      "outputs": [
        {
          "output_type": "execute_result",
          "data": {
            "text/plain": [
              "(\u001b[1m8019×3 DataFrame\u001b[0m\n",
              "\u001b[1m  Row \u001b[0m│\u001b[1m G     \u001b[0m\u001b[1m H       \u001b[0m\u001b[1m W        \u001b[0m\n",
              "\u001b[1m      \u001b[0m│\u001b[90m Int64 \u001b[0m\u001b[90m Float64 \u001b[0m\u001b[90m Float64  \u001b[0m\n",
              "──────┼──────────────────────────\n",
              "    1 │     0  187.571  109.952\n",
              "    2 │     0  174.706   73.7775\n",
              "    3 │     0  188.24    96.7004\n",
              "    4 │     0  182.197  100.019\n",
              "    5 │     0  177.5     93.7954\n",
              "    6 │     0  170.823   69.1873\n",
              "    7 │     0  173.605   76.3505\n",
              "    8 │     0  161.179   71.0908\n",
              "    9 │     0  180.836   84.8204\n",
              "   10 │     0  181.968   97.1551\n",
              "   11 │     0  175.979   86.1119\n",
              "  ⋮   │   ⋮       ⋮        ⋮\n",
              " 8010 │     1  154.826   43.4939\n",
              " 8011 │     1  159.097   46.7516\n",
              " 8012 │     1  157.678   63.0417\n",
              " 8013 │     1  152.477   44.4034\n",
              " 8014 │     1  150.11    50.2408\n",
              " 8015 │     1  168.079   62.1716\n",
              " 8016 │     1  170.351   77.6672\n",
              " 8017 │     1  162.225   58.3979\n",
              " 8018 │     1  175.347   74.4784\n",
              " 8019 │     1  157.338   51.6587\n",
              "\u001b[36m                7998 rows omitted\u001b[0m, \u001b[1m1981×3 DataFrame\u001b[0m\n",
              "\u001b[1m  Row \u001b[0m│\u001b[1m G     \u001b[0m\u001b[1m H       \u001b[0m\u001b[1m W        \u001b[0m\n",
              "\u001b[1m      \u001b[0m│\u001b[90m Int64 \u001b[0m\u001b[90m Float64 \u001b[0m\u001b[90m Float64  \u001b[0m\n",
              "──────┼──────────────────────────\n",
              "    1 │     0  174.714   83.6036\n",
              "    2 │     0  170.228   79.9679\n",
              "    3 │     0  164.506   75.967\n",
              "    4 │     0  162.495   78.5834\n",
              "    5 │     0  191.023  103.983\n",
              "    6 │     0  178.818   87.6834\n",
              "    7 │     0  163.333   74.14\n",
              "    8 │     0  172.655   78.2435\n",
              "    9 │     0  183.319   95.0322\n",
              "   10 │     0  175.717   87.2792\n",
              "   11 │     0  181.364   90.3454\n",
              "  ⋮   │   ⋮       ⋮        ⋮\n",
              " 1972 │     1  152.15    52.9561\n",
              " 1973 │     1  157.265   56.3448\n",
              " 1974 │     1  159.775   65.4865\n",
              " 1975 │     1  172.581   73.3099\n",
              " 1976 │     1  165.648   68.4757\n",
              " 1977 │     1  167.017   69.2203\n",
              " 1978 │     1  165.526   61.6886\n",
              " 1979 │     1  166.672   68.8638\n",
              " 1980 │     1  154.06    55.9474\n",
              " 1981 │     1  160.476   64.2119\n",
              "\u001b[36m                1960 rows omitted\u001b[0m)"
            ]
          },
          "metadata": {},
          "execution_count": 5
        }
      ]
    },
    {
      "cell_type": "code",
      "source": [
        "tree = DecisionTreeClassifier(max_depth=3)\n",
        "DecisionTree.fit!(tree, Matrix(train[:,[:H,:W]]), train[:,:G])     "
      ],
      "metadata": {
        "colab": {
          "base_uri": "https://localhost:8080/"
        },
        "id": "NBXYEaK3dwme",
        "outputId": "266d1067-8ba9-4140-c6f2-13ef3f079985"
      },
      "execution_count": 6,
      "outputs": [
        {
          "output_type": "execute_result",
          "data": {
            "text/plain": [
              "DecisionTreeClassifier\n",
              "max_depth:                3\n",
              "min_samples_leaf:         1\n",
              "min_samples_split:        2\n",
              "min_purity_increase:      0.0\n",
              "pruning_purity_threshold: 1.0\n",
              "n_subfeatures:            0\n",
              "classes:                  [0, 1]\n",
              "root:                     Decision Tree\n",
              "Leaves: 8\n",
              "Depth:  3"
            ]
          },
          "metadata": {},
          "execution_count": 6
        }
      ]
    },
    {
      "cell_type": "code",
      "source": [
        "function accuracy(y,pred)\n",
        "  acc = sum(pred.==y)/length(y)\n",
        "  return acc\n",
        "end"
      ],
      "metadata": {
        "colab": {
          "base_uri": "https://localhost:8080/"
        },
        "id": "R4slqDB3JbHG",
        "outputId": "6b724460-70b3-4aa0-f322-b006002df94f"
      },
      "execution_count": 7,
      "outputs": [
        {
          "output_type": "execute_result",
          "data": {
            "text/plain": [
              "accuracy (generic function with 1 method)"
            ]
          },
          "metadata": {},
          "execution_count": 7
        }
      ]
    },
    {
      "cell_type": "code",
      "source": [
        "pred_train = DecisionTree.predict(tree,Matrix(train[:,[:H,:W]]))\n",
        "acc_train = accuracy(train.G,pred_train)\n",
        "print(\"Accuracy (Train): \",acc_train)"
      ],
      "metadata": {
        "colab": {
          "base_uri": "https://localhost:8080/"
        },
        "id": "hsBWt9Q1GHo6",
        "outputId": "7e3e973f-5ef2-49fd-b0f9-8589bef875dc"
      },
      "execution_count": 8,
      "outputs": [
        {
          "output_type": "stream",
          "name": "stdout",
          "text": [
            "Accuracy (Train): 0.9072203516647961"
          ]
        }
      ]
    },
    {
      "cell_type": "code",
      "source": [
        "pred_test=DecisionTree.predict(tree,Matrix(test[:,[:H,:W]]))\n",
        "acc_test = accuracy(test.G,pred_test)\n",
        "print(\"Accuracy (Test): \",acc_test)"
      ],
      "metadata": {
        "colab": {
          "base_uri": "https://localhost:8080/"
        },
        "id": "M5eyU-smf6dU",
        "outputId": "96bdce82-d876-4812-c4dd-7a528e3707e2"
      },
      "execution_count": 9,
      "outputs": [
        {
          "output_type": "stream",
          "name": "stdout",
          "text": [
            "Accuracy (Test): 0.9126703685007572"
          ]
        }
      ]
    },
    {
      "cell_type": "markdown",
      "source": [
        "# Classification Metrics"
      ],
      "metadata": {
        "id": "1W5HFLMB9Kfw"
      }
    },
    {
      "cell_type": "code",
      "source": [
        "#Confusion Matrix\n",
        "counts(test.G,pred_test)"
      ],
      "metadata": {
        "colab": {
          "base_uri": "https://localhost:8080/"
        },
        "id": "3zTpUJxo9Nkz",
        "outputId": "603f2d06-e500-4395-a691-33333e196e39"
      },
      "execution_count": 11,
      "outputs": [
        {
          "output_type": "execute_result",
          "data": {
            "text/plain": [
              "2×2 Matrix{Int64}:\n",
              " 880   95\n",
              "  78  928"
            ]
          },
          "metadata": {},
          "execution_count": 11
        }
      ]
    },
    {
      "cell_type": "code",
      "source": [
        "# Precision/Recall\n",
        "println(\"Precision: \",precision(test.G,pred_test))\n",
        "println(\"Recall: \" , recall(test.G,pred_test))"
      ],
      "metadata": {
        "colab": {
          "base_uri": "https://localhost:8080/"
        },
        "id": "GkuGh1oo-CxZ",
        "outputId": "b53e84ee-bf60-4c35-b045-95a170afe238"
      },
      "execution_count": 16,
      "outputs": [
        {
          "output_type": "stream",
          "name": "stdout",
          "text": [
            "Precision: 0.9071358748778103\n",
            "Recall: 0.9224652087475149\n"
          ]
        }
      ]
    }
  ]
}