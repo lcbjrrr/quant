{
  "nbformat": 4,
  "nbformat_minor": 0,
  "metadata": {
    "colab": {
      "provenance": [],
      "include_colab_link": true
    },
    "kernelspec": {
      "name": "python3",
      "display_name": "Python 3"
    }
  },
  "cells": [
    {
      "cell_type": "markdown",
      "metadata": {
        "id": "view-in-github",
        "colab_type": "text"
      },
      "source": [
        "<a href=\"https://colab.research.google.com/github/lcbjrrr/quant/blob/master/IA_R_Assoc_Apriori.ipynb\" target=\"_parent\"><img src=\"https://colab.research.google.com/assets/colab-badge.svg\" alt=\"Open In Colab\"/></a>"
      ]
    },
    {
      "cell_type": "code",
      "metadata": {
        "id": "08FaIDs7555J"
      },
      "source": [
        "!pip uninstall rpy2 -y"
      ],
      "execution_count": null,
      "outputs": []
    },
    {
      "cell_type": "code",
      "source": [
        "!pip install rpy2==3.0.0"
      ],
      "metadata": {
        "id": "bIIIWIuo5BVh",
        "colab": {
          "base_uri": "https://localhost:8080/"
        },
        "outputId": "0d638eb2-4bae-4aeb-a592-c511e2316333"
      },
      "execution_count": 2,
      "outputs": [
        {
          "output_type": "stream",
          "name": "stdout",
          "text": [
            "Installing collected packages: simplegeneric, rpy2\n",
            "Successfully installed rpy2-3.0.0 simplegeneric-0.8.1\n"
          ]
        }
      ]
    },
    {
      "cell_type": "code",
      "source": [
        "%load_ext rpy2.ipython"
      ],
      "metadata": {
        "id": "JLCkK1HS5CWl",
        "colab": {
          "base_uri": "https://localhost:8080/"
        },
        "outputId": "82c96978-4994-4b0d-8c68-7184f378c746"
      },
      "execution_count": 4,
      "outputs": [
        {
          "output_type": "stream",
          "name": "stdout",
          "text": [
            "The rpy2.ipython extension is already loaded. To reload it, use:\n",
            "  %reload_ext rpy2.ipython\n"
          ]
        }
      ]
    },
    {
      "cell_type": "markdown",
      "metadata": {
        "id": "tX4MarLzcDPC"
      },
      "source": [
        "# Apriori"
      ]
    },
    {
      "cell_type": "code",
      "metadata": {
        "id": "-XI1b9ul6CVh"
      },
      "source": [
        "%%R\n",
        "install.packages(\"arules\",repos = \"http://cran.us.r-project.org\")"
      ],
      "execution_count": null,
      "outputs": []
    },
    {
      "cell_type": "code",
      "source": [
        "%%R\n",
        "library(arules)\n",
        "#library(arulesViz)"
      ],
      "metadata": {
        "id": "tPwj_VB2CCJW"
      },
      "execution_count": null,
      "outputs": []
    },
    {
      "cell_type": "code",
      "metadata": {
        "id": "0VhV8hCx5801",
        "outputId": "ec5fdaf1-186e-4fc1-f6eb-cf582d6f9396",
        "colab": {
          "base_uri": "https://localhost:8080/",
          "height": 285
        }
      },
      "source": [
        "%%R\n",
        "volei <- read.csv('https://raw.githubusercontent.com/lcbjrrr/data/main/JogarVolei%20-%20OK.csv')\n",
        "volei"
      ],
      "execution_count": 8,
      "outputs": [
        {
          "output_type": "display_data",
          "data": {
            "text/plain": [
              "     previsao temperatura umidade        vento jogar\n",
              "1  ensolarado      quente    alta nao_ventando   nao\n",
              "2  ensolarado      quente    alta     ventando   nao\n",
              "3     nublado      quente    alta nao_ventando   sim\n",
              "4     chuvoso      brando    alta nao_ventando   sim\n",
              "5     chuvoso        frio  normal nao_ventando   sim\n",
              "6     chuvoso        frio  normal     ventando   nao\n",
              "7     nublado        frio  normal     ventando   sim\n",
              "8  ensolarado      brando    alta nao_ventando   nao\n",
              "9  ensolarado        frio  normal nao_ventando   sim\n",
              "10    chuvoso      brando  normal nao_ventando   sim\n",
              "11 ensolarado      brando  normal     ventando   sim\n",
              "12    nublado      brando    alta     ventando   sim\n",
              "13    nublado      quente  normal nao_ventando   sim\n",
              "14    chuvoso      brando    alta     ventando   nao\n"
            ]
          },
          "metadata": {}
        }
      ]
    },
    {
      "cell_type": "code",
      "source": [
        "%%R\n",
        "regras <- apriori(volei, parameter = list(support = 0.10, confidence = 0.90))\n",
        "inspect(head(sort(regras, by = \"confidence\")))\n"
      ],
      "metadata": {
        "colab": {
          "base_uri": "https://localhost:8080/",
          "height": 714
        },
        "id": "2FRxfb6sCTly",
        "outputId": "8b3b8cc3-6d91-43f3-b3b0-28b5efecd1e4"
      },
      "execution_count": 9,
      "outputs": [
        {
          "output_type": "display_data",
          "data": {
            "text/plain": [
              "Apriori\n",
              "\n",
              "Parameter specification:\n",
              " confidence minval smax arem  aval originalSupport maxtime support minlen\n",
              "        0.9    0.1    1 none FALSE            TRUE       5     0.1      1\n",
              " maxlen target  ext\n",
              "     10  rules TRUE\n",
              "\n",
              "Algorithmic control:\n",
              " filter tree heap memopt load sort verbose\n",
              "    0.1 TRUE TRUE  FALSE TRUE    2    TRUE\n",
              "\n",
              "Absolute minimum support count: 1 \n",
              "\n",
              "set item appearances ...[0 item(s)] done [0.00s].\n",
              "set transactions ...[12 item(s), 14 transaction(s)] done [0.00s].\n",
              "sorting and recoding items ... [12 item(s)] done [0.00s].\n",
              "creating transaction tree ... done [0.00s].\n",
              "checking subsets of size 1 2 3 4 done [0.00s].\n",
              "writing ... [51 rule(s)] done [0.00s].\n",
              "creating S4 object  ... done [0.00s].\n",
              "    lhs                      rhs                    support confidence  coverage     lift count\n",
              "[1] {previsao=nublado}    => {jogar=sim}          0.2857143          1 0.2857143 1.555556     4\n",
              "[2] {temperatura=frio}    => {umidade=normal}     0.2857143          1 0.2857143 2.000000     4\n",
              "[3] {previsao=nublado,                                                                         \n",
              "     temperatura=quente}  => {vento=nao_ventando} 0.1428571          1 0.1428571 1.750000     2\n",
              "[4] {previsao=nublado,                                                                         \n",
              "     vento=nao_ventando}  => {temperatura=quente} 0.1428571          1 0.1428571 3.500000     2\n",
              "[5] {previsao=nublado,                                                                         \n",
              "     temperatura=quente}  => {jogar=sim}          0.1428571          1 0.1428571 1.555556     2\n",
              "[6] {temperatura=quente,                                                                       \n",
              "     jogar=sim}           => {previsao=nublado}   0.1428571          1 0.1428571 3.500000     2\n"
            ]
          },
          "metadata": {}
        }
      ]
    },
    {
      "cell_type": "markdown",
      "source": [
        "## Exercise"
      ],
      "metadata": {
        "id": "kA_navXaCWVy"
      }
    },
    {
      "cell_type": "code",
      "metadata": {
        "id": "utRCpPdHr8bM",
        "colab": {
          "base_uri": "https://localhost:8080/",
          "height": 142
        },
        "outputId": "a365341e-664a-4fae-d90e-63d20ab79bf3"
      },
      "source": [
        "%%R\n",
        "merc <- read.csv('https://raw.githubusercontent.com/lcbjrrr/data/main/apriori%20-%20ok.csv')\n",
        "merc"
      ],
      "execution_count": 10,
      "outputs": [
        {
          "output_type": "display_data",
          "data": {
            "text/plain": [
              "  refri batata burger donut cafe\n",
              "1     1      1      1     0    0\n",
              "2     0      1      1     1    0\n",
              "3     0      0      0     1    0\n",
              "4     1      1      0     1    0\n",
              "5     1      1      1     0    1\n",
              "6     1      1      1     1    1\n"
            ]
          },
          "metadata": {}
        }
      ]
    },
    {
      "cell_type": "code",
      "source": [
        "%%R\n",
        "regras <- apriori(merc, parameter = list(support = 0.5, confidence = 0.70))\n",
        "inspect(head(sort(regras, by = \"confidence\")))"
      ],
      "metadata": {
        "colab": {
          "base_uri": "https://localhost:8080/",
          "height": 642
        },
        "id": "YHk1Jrh050fF",
        "outputId": "133bbd0a-f770-4163-e8db-e47c70b4c5c7"
      },
      "execution_count": 11,
      "outputs": [
        {
          "output_type": "display_data",
          "data": {
            "text/plain": [
              "Apriori\n",
              "\n",
              "Parameter specification:\n",
              " confidence minval smax arem  aval originalSupport maxtime support minlen\n",
              "        0.7    0.1    1 none FALSE            TRUE       5     0.5      1\n",
              " maxlen target  ext\n",
              "     10  rules TRUE\n",
              "\n",
              "Algorithmic control:\n",
              " filter tree heap memopt load sort verbose\n",
              "    0.1 TRUE TRUE  FALSE TRUE    2    TRUE\n",
              "\n",
              "Absolute minimum support count: 3 \n",
              "\n",
              "set item appearances ...[0 item(s)] done [0.00s].\n",
              "set transactions ...[9 item(s), 6 transaction(s)] done [0.00s].\n",
              "sorting and recoding items ... [5 item(s)] done [0.00s].\n",
              "creating transaction tree ... done [0.00s].\n",
              "checking subsets of size 1 2 3 done [0.00s].\n",
              "writing ... [15 rule(s)] done [0.00s].\n",
              "creating S4 object  ... done [0.00s].\n",
              "    lhs                                    rhs            support   confidence\n",
              "[1] {}                                  => {batata=[0,1]} 1.0000000 1         \n",
              "[2] {refri=[0.667,1]}                   => {batata=[0,1]} 0.6666667 1         \n",
              "[3] {burger=[0.667,1]}                  => {batata=[0,1]} 0.6666667 1         \n",
              "[4] {cafe=[0,0.333)}                    => {batata=[0,1]} 0.6666667 1         \n",
              "[5] {donut=[0.667,1]}                   => {batata=[0,1]} 0.6666667 1         \n",
              "[6] {refri=[0.667,1], burger=[0.667,1]} => {batata=[0,1]} 0.5000000 1         \n",
              "    coverage  lift count\n",
              "[1] 1.0000000 1    6    \n",
              "[2] 0.6666667 1    4    \n",
              "[3] 0.6666667 1    4    \n",
              "[4] 0.6666667 1    4    \n",
              "[5] 0.6666667 1    4    \n",
              "[6] 0.5000000 1    3    \n"
            ]
          },
          "metadata": {}
        }
      ]
    }
  ]
}