{
  "nbformat": 4,
  "nbformat_minor": 0,
  "metadata": {
    "colab": {
      "provenance": [],
      "include_colab_link": true
    },
    "kernelspec": {
      "name": "python3",
      "display_name": "Python 3"
    }
  },
  "cells": [
    {
      "cell_type": "markdown",
      "metadata": {
        "id": "view-in-github",
        "colab_type": "text"
      },
      "source": [
        "<a href=\"https://colab.research.google.com/github/lcbjrrr/quant/blob/master/IA_R_Assoc_Apriori.ipynb\" target=\"_parent\"><img src=\"https://colab.research.google.com/assets/colab-badge.svg\" alt=\"Open In Colab\"/></a>"
      ]
    },
    {
      "cell_type": "code",
      "metadata": {
        "id": "08FaIDs7555J",
        "colab": {
          "base_uri": "https://localhost:8080/"
        },
        "outputId": "f098b163-4adf-4c39-c539-01343ba65354"
      },
      "source": [
        "!pip uninstall rpy2 -y"
      ],
      "execution_count": 1,
      "outputs": [
        {
          "output_type": "stream",
          "name": "stdout",
          "text": [
            "Found existing installation: rpy2 3.5.5\n",
            "Uninstalling rpy2-3.5.5:\n",
            "  Successfully uninstalled rpy2-3.5.5\n"
          ]
        }
      ]
    },
    {
      "cell_type": "code",
      "source": [
        "!pip install rpy2==3.0.0"
      ],
      "metadata": {
        "id": "bIIIWIuo5BVh"
      },
      "execution_count": null,
      "outputs": []
    },
    {
      "cell_type": "code",
      "source": [
        "%load_ext rpy2.ipython"
      ],
      "metadata": {
        "id": "JLCkK1HS5CWl"
      },
      "execution_count": null,
      "outputs": []
    },
    {
      "cell_type": "markdown",
      "metadata": {
        "id": "tX4MarLzcDPC"
      },
      "source": [
        "Apriori"
      ]
    },
    {
      "cell_type": "code",
      "metadata": {
        "id": "-XI1b9ul6CVh",
        "outputId": "803ea337-6f06-402e-b181-cce084bbdec2",
        "colab": {
          "base_uri": "https://localhost:8080/"
        }
      },
      "source": [
        "%%R\n",
        "install.packages(\"arules\")\n",
        "library(arules)\n",
        "\n",
        "#library(arulesViz)"
      ],
      "execution_count": 4,
      "outputs": [
        {
          "output_type": "stream",
          "name": "stderr",
          "text": [
            "WARNING:rpy2.rinterface_lib.callbacks:R[write to console]: Installing package into ‘/usr/lib/R/site-library’\n",
            "(as ‘lib’ is unspecified)\n",
            "\n",
            "WARNING:rpy2.rinterface_lib.callbacks:R[write to console]: Error in contrib.url(repos, type) : \n",
            "  trying to use CRAN without setting a mirror\n",
            "Calls: <Anonymous> ... withVisible -> install.packages -> startsWith -> contrib.url\n",
            "\n"
          ]
        },
        {
          "output_type": "stream",
          "name": "stdout",
          "text": [
            "\n",
            "Error in contrib.url(repos, type) : \n",
            "  trying to use CRAN without setting a mirror\n",
            "Calls: <Anonymous> ... withVisible -> install.packages -> startsWith -> contrib.url\n"
          ]
        }
      ]
    },
    {
      "cell_type": "code",
      "metadata": {
        "id": "0VhV8hCx5801",
        "outputId": "e8400d4d-6f00-443f-885d-476b55332726",
        "colab": {
          "base_uri": "https://localhost:8080/",
          "height": 537
        }
      },
      "source": [
        "%%R\n",
        "volei <- read.csv('https://raw.githubusercontent.com/lcbjrrr/data/main/JogarVolei%20-%20OK.csv')\n",
        "regras <- apriori(volei, parameter = list(support = 0.10, confidence = 0.90))\n",
        "inspect(head(sort(regras, by = \"confidence\")))\n"
      ],
      "execution_count": null,
      "outputs": [
        {
          "output_type": "display_data",
          "data": {
            "text/plain": [
              "Apriori\n",
              "\n",
              "Parameter specification:\n",
              " confidence minval smax arem  aval originalSupport maxtime support minlen\n",
              "        0.9    0.1    1 none FALSE            TRUE       5     0.1      1\n",
              " maxlen target   ext\n",
              "     10  rules FALSE\n",
              "\n",
              "Algorithmic control:\n",
              " filter tree heap memopt load sort verbose\n",
              "    0.1 TRUE TRUE  FALSE TRUE    2    TRUE\n",
              "\n",
              "Absolute minimum support count: 1 \n",
              "\n",
              "set item appearances ...[0 item(s)] done [0.00s].\n",
              "set transactions ...[12 item(s), 14 transaction(s)] done [0.00s].\n",
              "sorting and recoding items ... [12 item(s)] done [0.00s].\n",
              "creating transaction tree ... done [0.00s].\n",
              "checking subsets of size 1 2 3 4 done [0.00s].\n",
              "writing ... [51 rule(s)] done [0.00s].\n",
              "creating S4 object  ... done [0.00s].\n",
              "    lhs                     rhs                    support confidence     lift count\n",
              "[1] {previsao=nublado}   => {jogar=sim}          0.2857143          1 1.555556     4\n",
              "[2] {temperatura=frio}   => {umidade=normal}     0.2857143          1 2.000000     4\n",
              "[3] {previsao=nublado,                                                              \n",
              "     temperatura=quente} => {vento=nao_ventando} 0.1428571          1 1.750000     2\n",
              "[4] {previsao=nublado,                                                              \n",
              "     vento=nao_ventando} => {temperatura=quente} 0.1428571          1 3.500000     2\n",
              "[5] {previsao=nublado,                                                              \n",
              "     temperatura=quente} => {jogar=sim}          0.1428571          1 1.555556     2\n",
              "[6] {temperatura=quente,                                                            \n",
              "     jogar=sim}          => {previsao=nublado}   0.1428571          1 3.500000     2\n"
            ]
          },
          "metadata": {
            "tags": []
          }
        }
      ]
    },
    {
      "cell_type": "code",
      "metadata": {
        "id": "utRCpPdHr8bM",
        "colab": {
          "base_uri": "https://localhost:8080/",
          "height": 142
        },
        "outputId": "bfc81166-1e19-478a-f61a-4b67238fc9be"
      },
      "source": [
        "%%R\n",
        "merc <- read.csv('https://raw.githubusercontent.com/lcbjrrr/data/main/apriori%20-%20ok.csv')\n",
        "merc"
      ],
      "execution_count": 6,
      "outputs": [
        {
          "output_type": "display_data",
          "data": {
            "text/plain": [
              "  refri batata burger donut cafe\n",
              "1     1      1      1     0    0\n",
              "2     0      1      1     1    0\n",
              "3     0      0      0     1    0\n",
              "4     1      1      0     1    0\n",
              "5     1      1      1     0    1\n",
              "6     1      1      1     1    1\n"
            ]
          },
          "metadata": {}
        }
      ]
    },
    {
      "cell_type": "code",
      "source": [
        "%%R\n",
        "regras <- apriori(merc, parameter = list(support = 0.5, confidence = 0.70))\n",
        "inspect(head(sort(regras, by = \"confidence\")))"
      ],
      "metadata": {
        "colab": {
          "base_uri": "https://localhost:8080/"
        },
        "id": "YHk1Jrh050fF",
        "outputId": "48e7f948-541a-423d-cd19-4c258d05e7fc"
      },
      "execution_count": 7,
      "outputs": [
        {
          "output_type": "stream",
          "name": "stderr",
          "text": [
            "WARNING:rpy2.rinterface_lib.callbacks:R[write to console]: Error in apriori(merc, parameter = list(support = 0.5, confidence = 0.7)) : \n",
            "  could not find function \"apriori\"\n",
            "Calls: <Anonymous> -> <Anonymous> -> withVisible\n",
            "\n"
          ]
        },
        {
          "output_type": "stream",
          "name": "stdout",
          "text": [
            "\n",
            "Error in apriori(merc, parameter = list(support = 0.5, confidence = 0.7)) : \n",
            "  could not find function \"apriori\"\n",
            "Calls: <Anonymous> -> <Anonymous> -> withVisible\n"
          ]
        }
      ]
    }
  ]
}