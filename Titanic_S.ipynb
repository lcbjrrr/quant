{
  "nbformat": 4,
  "nbformat_minor": 0,
  "metadata": {
    "kernelspec": {
      "display_name": "Python 2",
      "language": "python",
      "name": "python2"
    },
    "language_info": {
      "codemirror_mode": {
        "name": "ipython",
        "version": 2
      },
      "file_extension": ".py",
      "mimetype": "text/x-python",
      "name": "python",
      "nbconvert_exporter": "python",
      "pygments_lexer": "ipython2",
      "version": "2.7.7"
    },
    "colab": {
      "name": "Titanic - S.ipynb",
      "provenance": [],
      "collapsed_sections": [],
      "include_colab_link": true
    }
  },
  "cells": [
    {
      "cell_type": "markdown",
      "metadata": {
        "id": "view-in-github",
        "colab_type": "text"
      },
      "source": [
        "<a href=\"https://colab.research.google.com/github/lcbjrrr/quant/blob/master/Titanic_S.ipynb\" target=\"_parent\"><img src=\"https://colab.research.google.com/assets/colab-badge.svg\" alt=\"Open In Colab\"/></a>"
      ]
    },
    {
      "cell_type": "markdown",
      "metadata": {
        "id": "Oq7PBjQi8a2-"
      },
      "source": [
        "\n",
        "# Analise de sobreviventes do Titanic\n",
        "\n"
      ]
    },
    {
      "cell_type": "markdown",
      "metadata": {
        "id": "ZWYvdnb8IC6H"
      },
      "source": [
        "## SUMARIZACAO"
      ]
    },
    {
      "cell_type": "code",
      "metadata": {
        "colab": {
          "base_uri": "https://localhost:8080/"
        },
        "id": "CcNdCTu78W9H",
        "outputId": "2a7315b5-6709-4efa-8485-082b2d077f24"
      },
      "source": [
        " "
      ],
      "execution_count": null,
      "outputs": [
        {
          "output_type": "stream",
          "text": [
            "<class 'pandas.core.frame.DataFrame'>\n",
            "RangeIndex: 891 entries, 0 to 890\n",
            "Data columns (total 12 columns):\n",
            "PassengerId    891 non-null int64\n",
            "Survived       891 non-null int64\n",
            "Pclass         891 non-null int64\n",
            "Name           891 non-null object\n",
            "Sex            891 non-null object\n",
            "Age            714 non-null float64\n",
            "SibSp          891 non-null int64\n",
            "Parch          891 non-null int64\n",
            "Ticket         891 non-null object\n",
            "Fare           891 non-null float64\n",
            "Cabin          204 non-null object\n",
            "Embarked       889 non-null object\n",
            "dtypes: float64(2), int64(5), object(5)\n",
            "memory usage: 83.6+ KB\n"
          ],
          "name": "stdout"
        }
      ]
    },
    {
      "cell_type": "markdown",
      "metadata": {
        "id": "MXJdkqAh8g6I"
      },
      "source": [
        "survival        Sobreviveu ao acidente? (0 = Não; 1 = Sim)\n",
        "\n",
        "pclass          Classe do passageiro (1 = primeira classe; 2 = segunda classe; 3 = terceira classe)\n",
        "\n",
        "name            Nome\n",
        "\n",
        "sex             Gênero\n",
        "\n",
        "age             Idade\n",
        "\n",
        "sibsp           Soma do número irmãos + cunhados + cônjuge\n",
        "\n",
        "parch           Soma do número pais + filhos\n",
        "\n",
        "ticket          Número da passagem\n",
        "\n",
        "fare            Valor da passagem\n",
        "\n",
        "cabin           Número da cabine\n",
        "\n",
        "embarked        Porto de embarque (C = Cherbourg; Q = Queenstown; S = Southampton)\n",
        "\n",
        "Obs: Atente que a informacao de Cabine esta presente em menos de 25% dos registros"
      ]
    },
    {
      "cell_type": "code",
      "metadata": {
        "id": "ucXVzLUXsefm",
        "colab": {
          "base_uri": "https://localhost:8080/",
          "height": 200
        },
        "outputId": "7ae9d0bf-dfa9-4453-8ff3-98e46a6be441"
      },
      "source": [
        " "
      ],
      "execution_count": null,
      "outputs": [
        {
          "output_type": "execute_result",
          "data": {
            "text/plain": [
              "   PassengerId  Survived  Pclass  \\\n",
              "0            1         0       3   \n",
              "1            2         1       1   \n",
              "2            3         1       3   \n",
              "3            4         1       1   \n",
              "4            5         0       3   \n",
              "\n",
              "                                                Name     Sex   Age  SibSp  \\\n",
              "0                            Braund, Mr. Owen Harris    male  22.0      1   \n",
              "1  Cumings, Mrs. John Bradley (Florence Briggs Th...  female  38.0      1   \n",
              "2                             Heikkinen, Miss. Laina  female  26.0      0   \n",
              "3       Futrelle, Mrs. Jacques Heath (Lily May Peel)  female  35.0      1   \n",
              "4                           Allen, Mr. William Henry    male  35.0      0   \n",
              "\n",
              "   Parch            Ticket     Fare Cabin Embarked  \n",
              "0      0         A/5 21171   7.2500   NaN        S  \n",
              "1      0          PC 17599  71.2833   C85        C  \n",
              "2      0  STON/O2. 3101282   7.9250   NaN        S  \n",
              "3      0            113803  53.1000  C123        S  \n",
              "4      0            373450   8.0500   NaN        S  "
            ],
            "text/html": [
              "<div>\n",
              "<style scoped>\n",
              "    .dataframe tbody tr th:only-of-type {\n",
              "        vertical-align: middle;\n",
              "    }\n",
              "\n",
              "    .dataframe tbody tr th {\n",
              "        vertical-align: top;\n",
              "    }\n",
              "\n",
              "    .dataframe thead th {\n",
              "        text-align: right;\n",
              "    }\n",
              "</style>\n",
              "<table border=\"1\" class=\"dataframe\">\n",
              "  <thead>\n",
              "    <tr style=\"text-align: right;\">\n",
              "      <th></th>\n",
              "      <th>PassengerId</th>\n",
              "      <th>Survived</th>\n",
              "      <th>Pclass</th>\n",
              "      <th>Name</th>\n",
              "      <th>Sex</th>\n",
              "      <th>Age</th>\n",
              "      <th>SibSp</th>\n",
              "      <th>Parch</th>\n",
              "      <th>Ticket</th>\n",
              "      <th>Fare</th>\n",
              "      <th>Cabin</th>\n",
              "      <th>Embarked</th>\n",
              "    </tr>\n",
              "  </thead>\n",
              "  <tbody>\n",
              "    <tr>\n",
              "      <th>0</th>\n",
              "      <td>1</td>\n",
              "      <td>0</td>\n",
              "      <td>3</td>\n",
              "      <td>Braund, Mr. Owen Harris</td>\n",
              "      <td>male</td>\n",
              "      <td>22.0</td>\n",
              "      <td>1</td>\n",
              "      <td>0</td>\n",
              "      <td>A/5 21171</td>\n",
              "      <td>7.2500</td>\n",
              "      <td>NaN</td>\n",
              "      <td>S</td>\n",
              "    </tr>\n",
              "    <tr>\n",
              "      <th>1</th>\n",
              "      <td>2</td>\n",
              "      <td>1</td>\n",
              "      <td>1</td>\n",
              "      <td>Cumings, Mrs. John Bradley (Florence Briggs Th...</td>\n",
              "      <td>female</td>\n",
              "      <td>38.0</td>\n",
              "      <td>1</td>\n",
              "      <td>0</td>\n",
              "      <td>PC 17599</td>\n",
              "      <td>71.2833</td>\n",
              "      <td>C85</td>\n",
              "      <td>C</td>\n",
              "    </tr>\n",
              "    <tr>\n",
              "      <th>2</th>\n",
              "      <td>3</td>\n",
              "      <td>1</td>\n",
              "      <td>3</td>\n",
              "      <td>Heikkinen, Miss. Laina</td>\n",
              "      <td>female</td>\n",
              "      <td>26.0</td>\n",
              "      <td>0</td>\n",
              "      <td>0</td>\n",
              "      <td>STON/O2. 3101282</td>\n",
              "      <td>7.9250</td>\n",
              "      <td>NaN</td>\n",
              "      <td>S</td>\n",
              "    </tr>\n",
              "    <tr>\n",
              "      <th>3</th>\n",
              "      <td>4</td>\n",
              "      <td>1</td>\n",
              "      <td>1</td>\n",
              "      <td>Futrelle, Mrs. Jacques Heath (Lily May Peel)</td>\n",
              "      <td>female</td>\n",
              "      <td>35.0</td>\n",
              "      <td>1</td>\n",
              "      <td>0</td>\n",
              "      <td>113803</td>\n",
              "      <td>53.1000</td>\n",
              "      <td>C123</td>\n",
              "      <td>S</td>\n",
              "    </tr>\n",
              "    <tr>\n",
              "      <th>4</th>\n",
              "      <td>5</td>\n",
              "      <td>0</td>\n",
              "      <td>3</td>\n",
              "      <td>Allen, Mr. William Henry</td>\n",
              "      <td>male</td>\n",
              "      <td>35.0</td>\n",
              "      <td>0</td>\n",
              "      <td>0</td>\n",
              "      <td>373450</td>\n",
              "      <td>8.0500</td>\n",
              "      <td>NaN</td>\n",
              "      <td>S</td>\n",
              "    </tr>\n",
              "  </tbody>\n",
              "</table>\n",
              "</div>"
            ]
          },
          "metadata": {
            "tags": []
          },
          "execution_count": 32
        }
      ]
    },
    {
      "cell_type": "markdown",
      "metadata": {
        "id": "mcGgcCkswwQ9"
      },
      "source": [
        "**Genero por Classe**"
      ]
    },
    {
      "cell_type": "code",
      "metadata": {
        "id": "wWRb2KqRsefp",
        "colab": {
          "base_uri": "https://localhost:8080/"
        },
        "outputId": "fc41abf2-eccf-4b09-83d2-21d9b110a86b"
      },
      "source": [
        "# Separar homens e mulheres\n",
        " "
      ],
      "execution_count": null,
      "outputs": [
        {
          "output_type": "stream",
          "text": [
            "('Total Homens', 577)\n",
            "('Total Mulheres', 314)\n"
          ],
          "name": "stdout"
        }
      ]
    },
    {
      "cell_type": "code",
      "metadata": {
        "colab": {
          "base_uri": "https://localhost:8080/",
          "height": 170
        },
        "id": "c9Tv_JgWxqkn",
        "outputId": "8bf22b48-b3a1-4cef-abaa-7c9383f1d11b"
      },
      "source": [
        " "
      ],
      "execution_count": null,
      "outputs": [
        {
          "output_type": "execute_result",
          "data": {
            "text/plain": [
              "        Homens  Muleheres\n",
              "Pclass                   \n",
              "1          122         94\n",
              "2          108         76\n",
              "3          347        144"
            ],
            "text/html": [
              "<div>\n",
              "<style scoped>\n",
              "    .dataframe tbody tr th:only-of-type {\n",
              "        vertical-align: middle;\n",
              "    }\n",
              "\n",
              "    .dataframe tbody tr th {\n",
              "        vertical-align: top;\n",
              "    }\n",
              "\n",
              "    .dataframe thead th {\n",
              "        text-align: right;\n",
              "    }\n",
              "</style>\n",
              "<table border=\"1\" class=\"dataframe\">\n",
              "  <thead>\n",
              "    <tr style=\"text-align: right;\">\n",
              "      <th></th>\n",
              "      <th>Homens</th>\n",
              "      <th>Muleheres</th>\n",
              "    </tr>\n",
              "    <tr>\n",
              "      <th>Pclass</th>\n",
              "      <th></th>\n",
              "      <th></th>\n",
              "    </tr>\n",
              "  </thead>\n",
              "  <tbody>\n",
              "    <tr>\n",
              "      <th>1</th>\n",
              "      <td>122</td>\n",
              "      <td>94</td>\n",
              "    </tr>\n",
              "    <tr>\n",
              "      <th>2</th>\n",
              "      <td>108</td>\n",
              "      <td>76</td>\n",
              "    </tr>\n",
              "    <tr>\n",
              "      <th>3</th>\n",
              "      <td>347</td>\n",
              "      <td>144</td>\n",
              "    </tr>\n",
              "  </tbody>\n",
              "</table>\n",
              "</div>"
            ]
          },
          "metadata": {
            "tags": []
          },
          "execution_count": 11
        }
      ]
    },
    {
      "cell_type": "markdown",
      "metadata": {
        "id": "DL2d2a9l9g4D"
      },
      "source": [
        "Nota-se uma proporcao de homens muito maior com relacao a mulheres na 3a classe. Existe a premissa de mulheres e criancas sao socorridas primeiro em um acidente maritimo, assim nossa analise de genero parece ter sendido. E como obter a informacao de crianca?"
      ]
    },
    {
      "cell_type": "markdown",
      "metadata": {
        "id": "ygaKkxOS-F2W"
      },
      "source": [
        "**Identificando Criancas**"
      ]
    },
    {
      "cell_type": "code",
      "metadata": {
        "colab": {
          "base_uri": "https://localhost:8080/"
        },
        "id": "BeNm2te08UUH",
        "outputId": "c4659f59-6ba8-4e1b-b7cc-3c50507f6fd4"
      },
      "source": [
        "# Criar uma coluna ser maior de idade, True ou False\n",
        "titanic['maior_de_idade'] = titanic['Age'] > 16 \n",
        "# Separar maiores de idade\n",
        "menores_de_idade = titanic[titanic['maior_de_idade']==False]\n",
        "# Criar um coluna Pessoa, se menor de idade, registrar como crianca\n",
        "menores_de_idade['Pessoa'] = 'crianca'\n",
        "# Separar maiores de idade\n",
        "maiores_de_idade = titanic[titanic['maior_de_idade']==True]\n",
        "# Para os maiores, registrar o genero na coluna Pessoa\n",
        "maiores_de_idade['Pessoa'] = maiores_de_idade['Sex'] \n",
        "# Rejuntar o DataFrame\n",
        " \n"
      ],
      "execution_count": null,
      "outputs": [
        {
          "output_type": "stream",
          "text": [
            "('Criancas', 277)\n",
            "Sex\n",
            "female    212\n",
            "male      402\n",
            "Name: PassengerId, dtype: int64\n"
          ],
          "name": "stdout"
        },
        {
          "output_type": "stream",
          "text": [
            "/usr/local/lib/python2.7/dist-packages/ipykernel_launcher.py:3: SettingWithCopyWarning: \n",
            "A value is trying to be set on a copy of a slice from a DataFrame.\n",
            "Try using .loc[row_indexer,col_indexer] = value instead\n",
            "\n",
            "See the caveats in the documentation: http://pandas.pydata.org/pandas-docs/stable/indexing.html#indexing-view-versus-copy\n",
            "  This is separate from the ipykernel package so we can avoid doing imports until\n",
            "/usr/local/lib/python2.7/dist-packages/ipykernel_launcher.py:5: SettingWithCopyWarning: \n",
            "A value is trying to be set on a copy of a slice from a DataFrame.\n",
            "Try using .loc[row_indexer,col_indexer] = value instead\n",
            "\n",
            "See the caveats in the documentation: http://pandas.pydata.org/pandas-docs/stable/indexing.html#indexing-view-versus-copy\n",
            "  \"\"\"\n"
          ],
          "name": "stderr"
        }
      ]
    },
    {
      "cell_type": "code",
      "metadata": {
        "colab": {
          "base_uri": "https://localhost:8080/",
          "height": 170
        },
        "id": "t6HhthJiEbWp",
        "outputId": "ccc4f978-3db9-4d28-aaa0-353107e8b1fe"
      },
      "source": [
        "# Separar por classe\n",
        "classe_1 = titanic[titanic['Pclass']==1]\n",
        "classe_2 = titanic[titanic['Pclass']==2]\n",
        "classe_3 = titanic[titanic['Pclass']==3]\n",
        "# Agrupar por homem, mulher ou crianca\n",
        " "
      ],
      "execution_count": null,
      "outputs": [
        {
          "output_type": "execute_result",
          "data": {
            "text/plain": [
              "         1a Classe  2a Classe  3a Classe\n",
              "Pessoa                                  \n",
              "crianca         39         32        206\n",
              "female          79         64         69\n",
              "male            98         88        216"
            ],
            "text/html": [
              "<div>\n",
              "<style scoped>\n",
              "    .dataframe tbody tr th:only-of-type {\n",
              "        vertical-align: middle;\n",
              "    }\n",
              "\n",
              "    .dataframe tbody tr th {\n",
              "        vertical-align: top;\n",
              "    }\n",
              "\n",
              "    .dataframe thead th {\n",
              "        text-align: right;\n",
              "    }\n",
              "</style>\n",
              "<table border=\"1\" class=\"dataframe\">\n",
              "  <thead>\n",
              "    <tr style=\"text-align: right;\">\n",
              "      <th></th>\n",
              "      <th>1a Classe</th>\n",
              "      <th>2a Classe</th>\n",
              "      <th>3a Classe</th>\n",
              "    </tr>\n",
              "    <tr>\n",
              "      <th>Pessoa</th>\n",
              "      <th></th>\n",
              "      <th></th>\n",
              "      <th></th>\n",
              "    </tr>\n",
              "  </thead>\n",
              "  <tbody>\n",
              "    <tr>\n",
              "      <th>crianca</th>\n",
              "      <td>39</td>\n",
              "      <td>32</td>\n",
              "      <td>206</td>\n",
              "    </tr>\n",
              "    <tr>\n",
              "      <th>female</th>\n",
              "      <td>79</td>\n",
              "      <td>64</td>\n",
              "      <td>69</td>\n",
              "    </tr>\n",
              "    <tr>\n",
              "      <th>male</th>\n",
              "      <td>98</td>\n",
              "      <td>88</td>\n",
              "      <td>216</td>\n",
              "    </tr>\n",
              "  </tbody>\n",
              "</table>\n",
              "</div>"
            ]
          },
          "metadata": {
            "tags": []
          },
          "execution_count": 37
        }
      ]
    },
    {
      "cell_type": "markdown",
      "metadata": {
        "id": "rfJBFqDqKouI"
      },
      "source": [
        "Diferentemente do que talvez se espera-se, um numero muito grande de criancas. Possivelmente em 1912, a familias nao despendiam grandes gastos com suas criancas."
      ]
    },
    {
      "cell_type": "markdown",
      "metadata": {
        "id": "DwXC84GCJpPS"
      },
      "source": [
        "**Sobreviventes por Classe e tipo de Pessoa**"
      ]
    },
    {
      "cell_type": "code",
      "metadata": {
        "colab": {
          "base_uri": "https://localhost:8080/",
          "height": 170
        },
        "id": "JX6URAqnKNXl",
        "outputId": "584bfff5-cd3a-4364-df35-a208e30fc84a"
      },
      "source": [
        "# Soma da quantidade de sobrevivente por Classe:\n",
        " "
      ],
      "execution_count": null,
      "outputs": [
        {
          "output_type": "execute_result",
          "data": {
            "text/plain": [
              "         1a Classe  2a Classe  3a Classe\n",
              "Pessoa                                  \n",
              "crianca   0.564103   0.718750   0.300971\n",
              "female    0.974684   0.906250   0.420290\n",
              "male      0.377551   0.068182   0.129630"
            ],
            "text/html": [
              "<div>\n",
              "<style scoped>\n",
              "    .dataframe tbody tr th:only-of-type {\n",
              "        vertical-align: middle;\n",
              "    }\n",
              "\n",
              "    .dataframe tbody tr th {\n",
              "        vertical-align: top;\n",
              "    }\n",
              "\n",
              "    .dataframe thead th {\n",
              "        text-align: right;\n",
              "    }\n",
              "</style>\n",
              "<table border=\"1\" class=\"dataframe\">\n",
              "  <thead>\n",
              "    <tr style=\"text-align: right;\">\n",
              "      <th></th>\n",
              "      <th>1a Classe</th>\n",
              "      <th>2a Classe</th>\n",
              "      <th>3a Classe</th>\n",
              "    </tr>\n",
              "    <tr>\n",
              "      <th>Pessoa</th>\n",
              "      <th></th>\n",
              "      <th></th>\n",
              "      <th></th>\n",
              "    </tr>\n",
              "  </thead>\n",
              "  <tbody>\n",
              "    <tr>\n",
              "      <th>crianca</th>\n",
              "      <td>0.564103</td>\n",
              "      <td>0.718750</td>\n",
              "      <td>0.300971</td>\n",
              "    </tr>\n",
              "    <tr>\n",
              "      <th>female</th>\n",
              "      <td>0.974684</td>\n",
              "      <td>0.906250</td>\n",
              "      <td>0.420290</td>\n",
              "    </tr>\n",
              "    <tr>\n",
              "      <th>male</th>\n",
              "      <td>0.377551</td>\n",
              "      <td>0.068182</td>\n",
              "      <td>0.129630</td>\n",
              "    </tr>\n",
              "  </tbody>\n",
              "</table>\n",
              "</div>"
            ]
          },
          "metadata": {
            "tags": []
          },
          "execution_count": 41
        }
      ]
    },
    {
      "cell_type": "markdown",
      "metadata": {
        "id": "BK6u4FpBKscP"
      },
      "source": [
        "Mulheres da 1a e 2a classe com uma taxa de sobrevivencia superior a 90%. Ao olharmos para 3a classe essa taxa cai por menos da metade. Vamos ver a seguir que a diferenca de preco da 2a para 3a classe nao era tao grande. As criancas da 2a classe com uma taxa de sobrevivencia maior ate que a 1a classe. Os homens de maneira geral tiveram uma taxa de sobrevivencia baixa, e sendo das classes mais baixas, 2a e 3a, ainda pior essa taxa."
      ]
    },
    {
      "cell_type": "markdown",
      "metadata": {
        "id": "H5FGhhXKGeSb"
      },
      "source": [
        "**Media de Preco por Classe**"
      ]
    },
    {
      "cell_type": "code",
      "metadata": {
        "colab": {
          "base_uri": "https://localhost:8080/"
        },
        "id": "4b97OsdHGhIh",
        "outputId": "6c955a8f-6a3e-4255-9eac-622393966a98"
      },
      "source": [
        " "
      ],
      "execution_count": null,
      "outputs": [
        {
          "output_type": "execute_result",
          "data": {
            "text/plain": [
              "Pclass\n",
              "1    84.154687\n",
              "2    20.662183\n",
              "3    13.675550\n",
              "Name: Fare, dtype: float64"
            ]
          },
          "metadata": {
            "tags": []
          },
          "execution_count": 38
        }
      ]
    },
    {
      "cell_type": "markdown",
      "metadata": {
        "id": "w6mh0sDZHSeQ"
      },
      "source": [
        "A 1a classe, sendo 3-4x mais cara que demais classe, dentro do esperado. A diferenca de preco entre 2a e 3a classe parece nao ser tao grande, cerca de 7 dolares. No entanto vale a atentar que a inflacao desses valores correspondem a cerca de 30x o valor ou seja estamos falando de uma diferenca de preco de 210 usd"
      ]
    }
  ]
}