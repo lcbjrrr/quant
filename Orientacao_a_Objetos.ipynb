{
  "nbformat": 4,
  "nbformat_minor": 0,
  "metadata": {
    "colab": {
      "name": "Orientacao a Objetos.ipynb",
      "provenance": [],
      "authorship_tag": "ABX9TyOqQM2DGYaG+haAc09Y9fK9",
      "include_colab_link": true
    },
    "kernelspec": {
      "name": "python3",
      "display_name": "Python 3"
    }
  },
  "cells": [
    {
      "cell_type": "markdown",
      "metadata": {
        "id": "view-in-github",
        "colab_type": "text"
      },
      "source": [
        "<a href=\"https://colab.research.google.com/github/lcbjrrr/quant/blob/master/Orientacao_a_Objetos.ipynb\" target=\"_parent\"><img src=\"https://colab.research.google.com/assets/colab-badge.svg\" alt=\"Open In Colab\"/></a>"
      ]
    },
    {
      "cell_type": "markdown",
      "metadata": {
        "id": "ZKFgPvZ3gEFQ"
      },
      "source": [
        "# 1. Introducao e Principios"
      ]
    },
    {
      "cell_type": "code",
      "metadata": {
        "id": "frUEooCmgJKx",
        "outputId": "e84c596f-537e-4bd7-e475-c9fc3fbd5759",
        "colab": {
          "base_uri": "https://localhost:8080/"
        }
      },
      "source": [
        " \n",
        "def imprime_ns(n,s):\n",
        "  print(n,'',s)\n",
        "\n",
        "nome='luiz'\n",
        "sobrenome='barboza'\n",
        "\n",
        "imprime_ns(nome,sobrenome)\n",
        "\n",
        "class Pessoa():\n",
        "  def __init__(self,n,s):\n",
        "    self.nome = n\n",
        "    self.sobrenome = s\n",
        "\n",
        "  def imprime_sobrenome(self):\n",
        "    print(self.nome,' ',self.sobrenome)\n",
        "\n",
        "luiz = Pessoa('luiz','barboza')\n",
        "joao = Pessoa('joao','silva')\n",
        "\n",
        "luiz.imprime_sobrenome()\n",
        "joao.imprime_sobrenome()\n",
        "\n"
      ],
      "execution_count": 1,
      "outputs": [
        {
          "output_type": "stream",
          "text": [
            "luiz  barboza\n",
            "luiz   barboza\n",
            "joao   silva\n"
          ],
          "name": "stdout"
        }
      ]
    },
    {
      "cell_type": "code",
      "metadata": {
        "id": "YZsOrQXRg4eW",
        "outputId": "6c2dc103-dcf9-41a1-be51-0ba349ab92d6",
        "colab": {
          "base_uri": "https://localhost:8080/"
        }
      },
      "source": [
        "\n",
        "# Trocando p vetor (opcional)\n",
        "class Pessoa():\n",
        "  def __init__(self,n,s):\n",
        "    self.nome_sobrenome = ['','']\n",
        "    self.nome_sobrenome[0]=n\n",
        "    self.nome_sobrenome[1]=s \n",
        "\n",
        "  def imprime_sobrenome(self):\n",
        "    print(self.nome_sobrenome[0],' ',self.nome_sobrenome[1])\n",
        "\n",
        "luiz = Pessoa('luiz','barboza')\n",
        "joao = Pessoa('joao','silva')\n",
        "\n",
        "luiz.imprime_sobrenome()\n",
        "joao.imprime_sobrenome()\n"
      ],
      "execution_count": 2,
      "outputs": [
        {
          "output_type": "stream",
          "text": [
            "luiz   barboza\n",
            "joao   silva\n"
          ],
          "name": "stdout"
        }
      ]
    },
    {
      "cell_type": "markdown",
      "metadata": {
        "id": "QQkcwFFKhP0Y"
      },
      "source": [
        "## **Ex: Calculadora**) Crie uma calculadora com a capacidade das operações aritméticas básicas: adição, subtração, multiplicação e divisão.\n",
        " \n"
      ]
    },
    {
      "cell_type": "code",
      "metadata": {
        "id": "sFNbJt49g1UF",
        "outputId": "9d2ef35f-d71f-4565-a4ef-eedf19995991",
        "colab": {
          "base_uri": "https://localhost:8080/"
        }
      },
      "source": [
        "class Calculadora():\n",
        "  def soma(self,x,y):\n",
        "    return x+y\n",
        "  def subtracao(self,x,y):\n",
        "    return x-y\n",
        "  def divisao(self,x,y):\n",
        "    return x/y\n",
        "  def multiplicacao(self,x,y):\n",
        "    return x*y\n",
        "\n",
        "calc = Calculadora()\n",
        "print(calc.soma(1,2))\n",
        "print(calc.subtracao(1,2))\n",
        "print(calc.divisao(1,2))\n",
        "print(calc.multiplicacao(1,2))"
      ],
      "execution_count": 3,
      "outputs": [
        {
          "output_type": "stream",
          "text": [
            "3\n",
            "-1\n",
            "0.5\n",
            "2\n"
          ],
          "name": "stdout"
        }
      ]
    },
    {
      "cell_type": "markdown",
      "metadata": {
        "id": "fiGAvHGBgJ-t"
      },
      "source": [
        "# 2. Encapsulamento"
      ]
    },
    {
      "cell_type": "markdown",
      "metadata": {
        "id": "RFMpQ_IaiHX5"
      },
      "source": [
        "## **Ex: Cara**) Criar uma entidade com capacidade de emprestar e tomar dinheiro emprestado. Como exemplo de execução crie duas instâncias desta, no qual uma empresta um valor x para a outra \n",
        "\n",
        "![foto](https://pbs.twimg.com/media/EmpAE7eXUAMoOIi?format=png&name=360x360)"
      ]
    },
    {
      "cell_type": "code",
      "metadata": {
        "id": "WVYUGttVgOUW"
      },
      "source": [
        "class Cara():\n",
        "  def __init__(self,nome,grana):\n",
        "    self.__nome = nome\n",
        "    self.__grana = grana\n",
        "\n",
        "  @property\n",
        "  def grana(self):\n",
        "    return self.__grana\n",
        "\n",
        "  @property\n",
        "  def nome(self):\n",
        "    return self.__nome\n",
        "\n",
        "  @nome.setter\n",
        "  def nome(self, n):\n",
        "    self.__nome = n\n",
        "\n",
        "  def emprestar(self, valor):\n",
        "    if (valor < self.__grana):\n",
        "      self.__grana = self.__grana - valor\n",
        "      return True\n",
        "    else:\n",
        "      return False\n",
        "    \n",
        "  def tomar_emprestado(self, valor):\n",
        "    self.__grana = self.__grana + valor\n",
        "\n",
        "\n"
      ],
      "execution_count": 4,
      "outputs": []
    },
    {
      "cell_type": "code",
      "metadata": {
        "id": "o4S-FfsbiVQF",
        "outputId": "0cf262c2-9346-4a38-e67b-15f7d666c231",
        "colab": {
          "base_uri": "https://localhost:8080/"
        }
      },
      "source": [
        "joao = Cara('joao silva',100)\n",
        "ze = Cara('jose neves',900)\n",
        "\n",
        "emprestimo = 50\n",
        "ok = ze.emprestar(emprestimo)\n",
        "if(ok):\n",
        "  joao.tomar_emprestado(emprestimo)\n",
        "\n",
        " \n",
        "print(ze.grana)\n",
        "print(joao.grana )\n",
        " \n",
        "ze.nome ='jose das neves' \n",
        "print(ze.nome)"
      ],
      "execution_count": 5,
      "outputs": [
        {
          "output_type": "stream",
          "text": [
            "850\n",
            "150\n",
            "jose das neves\n"
          ],
          "name": "stdout"
        }
      ]
    },
    {
      "cell_type": "markdown",
      "metadata": {
        "id": "aE0zIBbqi3TC"
      },
      "source": [
        "## **Ex: Cadastro de Alunos)**\n",
        "\n",
        " Realizar controle de alunos em uma faculdade, sendo capaz de:\n",
        " Calcular media da turma\n",
        " Imprimir a lista de aluno com sua nota em ordem alfabética \n",
        "Importante: A solução deve respeitar o conceito de encapsulamento, não permitindo acesso direto a coleção de alunos da faculdade."
      ]
    },
    {
      "cell_type": "code",
      "metadata": {
        "id": "eDIsZWWCi6lz"
      },
      "source": [
        "class Aluno():\n",
        "  def __init__(self,nome,nota):\n",
        "    self.__nome =nome\n",
        "    self.__nota = nota\n",
        "  \n",
        "  @property\n",
        "  def nome(self):\n",
        "    return self.__nome\n",
        "\n",
        "  @property\n",
        "  def nota(self):\n",
        "    return self.__nota\n",
        "  \n",
        "class CadastroAlunos():\n",
        "  def __init__(self):\n",
        "    self.__alunos = []\n",
        "\n",
        "  def add(self, aluno):\n",
        "    self.__alunos.append(aluno)\n",
        "\n",
        "  def get(self,i):\n",
        "    return self.__alunos[i]\n",
        "\n",
        "  def qtd_alunos(self):\n",
        "    return len(self.__alunos)\n",
        "\n",
        "  def media(self):\n",
        "    qtd = self.qtd_alunos()\n",
        "    soma = 0\n",
        "    for i in range(0,qtd,1):\n",
        "      soma = soma + self.get(i).nota\n",
        "    return soma/qtd\n",
        "\n",
        "\n"
      ],
      "execution_count": 6,
      "outputs": []
    },
    {
      "cell_type": "code",
      "metadata": {
        "id": "p3QhuRVYjByP",
        "outputId": "af589141-e3ba-4809-cffb-3609a4a33b36",
        "colab": {
          "base_uri": "https://localhost:8080/"
        }
      },
      "source": [
        "luiz = Aluno('luiz',8)\n",
        "joao = Aluno('joao',9)\n",
        "maria = Aluno('maria',10)\n",
        "ze = Aluno('jose',5)\n",
        "pedro = Aluno('pedro',6)\n",
        "\n",
        "turma = CadastroAlunos()\n",
        "turma.add(luiz)\n",
        "turma.add(joao)\n",
        "turma.add(maria)\n",
        "turma.add(ze)\n",
        "turma.add(pedro)\n",
        "\n",
        "qtd = turma.qtd_alunos()\n",
        "\n",
        "for i in range(0,qtd,1):\n",
        "  aluno = turma.get(i)\n",
        "  print(aluno.nome)\n",
        "\n",
        "print(turma.media())"
      ],
      "execution_count": 7,
      "outputs": [
        {
          "output_type": "stream",
          "text": [
            "luiz\n",
            "joao\n",
            "maria\n",
            "jose\n",
            "pedro\n",
            "7.6\n"
          ],
          "name": "stdout"
        }
      ]
    },
    {
      "cell_type": "markdown",
      "metadata": {
        "id": "aC5Re_q-j65n"
      },
      "source": [
        "## **Ex: Calculadora de Festa**)\n",
        " Construir uma calculadora que seja capaz de calcular o custo de uma festa, na qual:\n",
        " Comida custa €25 por pessoa (pp)\n",
        " Bebida por ser suco, sendo €5 pp com 5% de desconto na conta, ou Alcoólica, \n",
        "se €20 pp\n",
        "E decoração pode ser normal, sendo\n",
        "€30 para mesa e €7.5 de lembranças\n",
        "por pessoa. Ou Diferenciada, sendo €50 fixo mais €10 por pessoa.\n",
        "\n",
        "\n",
        "\n",
        "\n",
        "\n",
        "\n",
        "![](https://pbs.twimg.com/media/EmpAe91WMAAL_tU?format=png&name=900x900)\n"
      ]
    },
    {
      "cell_type": "code",
      "metadata": {
        "id": "H08VaWxOkDCB"
      },
      "source": [
        "class CalculadoraFesta():\n",
        "  \n",
        "  def __init__(self,qtd,saudavel,dec_diferenciada):\n",
        "    self.__qtd_pessoas = qtd\n",
        "    self.__desconto = 0\n",
        "    self.__dec_diferenciada = dec_diferenciada\n",
        "    self.__saudavel= saudavel\n",
        "\n",
        "  def preco_comida(self):\n",
        "    return self.__qtd_pessoas * 25\n",
        "\n",
        "  def preco_bebida(self):\n",
        "    if(self.__saudavel):\n",
        "      self.__desconto=0.05\n",
        "      return self.__qtd_pessoas * 5\n",
        "    else:\n",
        "      return self.__qtd_pessoas * 20\n",
        "\n",
        "  def preco_decoracao(self):\n",
        "    if(self.__dec_diferenciada):\n",
        "      return 50 + self.__qtd_pessoas * 10\n",
        "    else: \n",
        "      return 30 + self.__qtd_pessoas * 7.5\n",
        "  \n",
        "  def calcular_preco(self):\n",
        "    valor = self.preco_comida()\n",
        "    valor = valor + self.preco_bebida()\n",
        "    valor = valor + self.preco_decoracao()\n",
        "    return valor\n",
        "\n"
      ],
      "execution_count": 8,
      "outputs": []
    },
    {
      "cell_type": "code",
      "metadata": {
        "id": "Pu0Bm3TOkkLP",
        "outputId": "cae69832-6557-4ca3-a069-2a015548436d",
        "colab": {
          "base_uri": "https://localhost:8080/"
        }
      },
      "source": [
        "fs = CalculadoraFesta(10,True, True)\n",
        "print(fs.calcular_preco())\n",
        "\n",
        "fb = CalculadoraFesta(10,False, False)\n",
        "print(fb.calcular_preco())"
      ],
      "execution_count": 9,
      "outputs": [
        {
          "output_type": "stream",
          "text": [
            "450\n",
            "555.0\n"
          ],
          "name": "stdout"
        }
      ]
    },
    {
      "cell_type": "markdown",
      "metadata": {
        "id": "jsU2RfrjgOx-"
      },
      "source": [
        "# 3. Heranca"
      ]
    },
    {
      "cell_type": "code",
      "metadata": {
        "id": "41MdlsP_gRgP"
      },
      "source": [
        "class Figura:\n",
        "  def __init__(self, cor):\n",
        "    self.__cor = cor\n",
        "\n",
        "  @property\n",
        "  def cor(self):\n",
        "    return self.__cor\n",
        "\n",
        "  @cor.setter\n",
        "  def cor(self, c):\n",
        "    self.__cor = c\n",
        "\n",
        "  def area(self):\n",
        "    pass\n",
        "\n",
        "class Quadrado(Figura):\n",
        "  def __init__(self,lado,cor):\n",
        "    super().__init__(cor)\n",
        "    self.__lado = lado\n",
        "\n",
        "  #def area(self):\n",
        "   # return self.__lado*self.__lado\n",
        "\n",
        "class Triangulo(Figura):\n",
        "  def __init__(self,base,altura,cor):\n",
        "    super().__init__(cor)\n",
        "    self.__base = base\n",
        "    self.__altura = altura\n",
        "  \n",
        "  def area(self):\n",
        "    return (self.__base * self.__altura ) /2\n",
        "\n",
        "class Circulo(Figura):\n",
        "  def __init__(self, raio, cor):\n",
        "    super().__init__(cor)\n",
        "    self.__raio = raio\n",
        "  \n",
        "  def area(self):\n",
        "    return 3.14 * self.__raio*self.__raio\n"
      ],
      "execution_count": 10,
      "outputs": []
    },
    {
      "cell_type": "code",
      "metadata": {
        "id": "DsKtL6iSleTO",
        "outputId": "0a0d905c-70fd-477a-a2c6-2112e0e6d017",
        "colab": {
          "base_uri": "https://localhost:8080/"
        }
      },
      "source": [
        "figs = []\n",
        "q = Quadrado(2,'azul')\n",
        "t = Triangulo(2,2,'vermelho')\n",
        "c = Circulo(2,'amarelo')\n",
        "\n",
        "figs.append(q)\n",
        "figs.append(t)\n",
        "figs.append(c)\n",
        "\n",
        "for f in figs:\n",
        "  print(f.area() , f.cor)\n"
      ],
      "execution_count": 12,
      "outputs": [
        {
          "output_type": "stream",
          "text": [
            "None azul\n",
            "2.0 vermelho\n",
            "12.56 amarelo\n"
          ],
          "name": "stdout"
        }
      ]
    },
    {
      "cell_type": "markdown",
      "metadata": {
        "id": "StpLAbUtkwez"
      },
      "source": [
        "## **Ex: Calculadora de Festa II**)\n",
        "O Buffet agora está expandindo suas atividades e abriu uma nova filial que realiza o serviço de buffet especializado em festas de aniversários. Além dos serviços oferecidos pela matriz, comida, bebida e decoração, a filial oferece bolo de aniversário. O bolo é oferecido em dois tamanhos 8 cm (€40) para festas até 4 pessoas ou 16 cm (€75), para festas maiores. Esse ainda pode ser personalizado, ao custo de €0.25 por caractere, com um mensagem de escolha do cliente (o bolo de 8 cm comporta um texto de até 16 caracteres enquanto o de 16 cm, ate 40).\n",
        "\n",
        "![](https://pbs.twimg.com/media/EmpB2jiXUAE31jM?format=jpg&name=medium)\n"
      ]
    },
    {
      "cell_type": "code",
      "metadata": {
        "id": "4I0F2mKekwoP"
      },
      "source": [
        "#TODO"
      ],
      "execution_count": 11,
      "outputs": []
    }
  ]
}