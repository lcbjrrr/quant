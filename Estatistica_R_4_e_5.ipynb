{
  "nbformat": 4,
  "nbformat_minor": 0,
  "metadata": {
    "colab": {
      "name": "Estatistica R - 4 e 5.ipynb",
      "provenance": [],
      "collapsed_sections": [],
      "authorship_tag": "ABX9TyPeMejIHwTmNSZR0gmp9wYW",
      "include_colab_link": true
    },
    "kernelspec": {
      "name": "python3",
      "display_name": "Python 3"
    }
  },
  "cells": [
    {
      "cell_type": "markdown",
      "metadata": {
        "id": "view-in-github",
        "colab_type": "text"
      },
      "source": [
        "<a href=\"https://colab.research.google.com/github/lcbjrrr/quant/blob/master/Estatistica_R_4_e_5.ipynb\" target=\"_parent\"><img src=\"https://colab.research.google.com/assets/colab-badge.svg\" alt=\"Open In Colab\"/></a>"
      ]
    },
    {
      "cell_type": "code",
      "metadata": {
        "colab": {
          "base_uri": "https://localhost:8080/"
        },
        "id": "3SvynVTF4QHz",
        "outputId": "d4e43511-cfe7-4d6b-f59d-83a5d5e9cfab"
      },
      "source": [
        "%load_ext rpy2.ipython\n"
      ],
      "execution_count": null,
      "outputs": [
        {
          "output_type": "stream",
          "text": [
            "The rpy2.ipython extension is already loaded. To reload it, use:\n",
            "  %reload_ext rpy2.ipython\n"
          ],
          "name": "stdout"
        }
      ]
    },
    {
      "cell_type": "code",
      "metadata": {
        "id": "f8PY7k4dNSGq",
        "colab": {
          "base_uri": "https://localhost:8080/"
        },
        "outputId": "ec2d7de4-c4dc-4f71-bc6c-cb2cb25febb2"
      },
      "source": [
        "%%R\n",
        "install.packages('dplyr')\n",
        "library(dplyr)\n",
        "install.packages('DescTools')\n",
        "library(DescTools)\n",
        "install.packages('BSDA')\n",
        "library(BSDA)"
      ],
      "execution_count": null,
      "outputs": [
        {
          "output_type": "stream",
          "text": [
            "R[write to console]: Installing package into ‘/usr/local/lib/R/site-library’\n",
            "(as ‘lib’ is unspecified)\n",
            "\n",
            "R[write to console]: trying URL 'https://cran.rstudio.com/src/contrib/dplyr_1.0.2.tar.gz'\n",
            "\n",
            "R[write to console]: Content type 'application/x-gzip'\n",
            "R[write to console]:  length 935654 bytes (913 KB)\n",
            "\n",
            "R[write to console]: =\n",
            "R[write to console]: =\n",
            "R[write to console]: =\n",
            "R[write to console]: =\n",
            "R[write to console]: =\n",
            "R[write to console]: =\n",
            "R[write to console]: =\n",
            "R[write to console]: =\n",
            "R[write to console]: =\n",
            "R[write to console]: =\n",
            "R[write to console]: =\n",
            "R[write to console]: =\n",
            "R[write to console]: =\n",
            "R[write to console]: =\n",
            "R[write to console]: =\n",
            "R[write to console]: =\n",
            "R[write to console]: =\n",
            "R[write to console]: =\n",
            "R[write to console]: =\n",
            "R[write to console]: =\n",
            "R[write to console]: =\n",
            "R[write to console]: =\n",
            "R[write to console]: =\n",
            "R[write to console]: =\n",
            "R[write to console]: =\n",
            "R[write to console]: =\n",
            "R[write to console]: =\n",
            "R[write to console]: =\n",
            "R[write to console]: =\n",
            "R[write to console]: =\n",
            "R[write to console]: =\n",
            "R[write to console]: =\n",
            "R[write to console]: =\n",
            "R[write to console]: =\n",
            "R[write to console]: =\n",
            "R[write to console]: =\n",
            "R[write to console]: =\n",
            "R[write to console]: =\n",
            "R[write to console]: =\n",
            "R[write to console]: =\n",
            "R[write to console]: =\n",
            "R[write to console]: =\n",
            "R[write to console]: =\n",
            "R[write to console]: =\n",
            "R[write to console]: =\n",
            "R[write to console]: =\n",
            "R[write to console]: =\n",
            "R[write to console]: =\n",
            "R[write to console]: =\n",
            "R[write to console]: =\n",
            "R[write to console]: \n",
            "\n",
            "R[write to console]: downloaded 913 KB\n",
            "\n",
            "\n",
            "R[write to console]: \n",
            "\n",
            "R[write to console]: \n",
            "R[write to console]: The downloaded source packages are in\n",
            "\t‘/tmp/RtmpgzgDGu/downloaded_packages’\n",
            "R[write to console]: \n",
            "R[write to console]: \n",
            "\n",
            "R[write to console]: Installing package into ‘/usr/local/lib/R/site-library’\n",
            "(as ‘lib’ is unspecified)\n",
            "\n",
            "R[write to console]: trying URL 'https://cran.rstudio.com/src/contrib/DescTools_0.99.39.tar.gz'\n",
            "\n",
            "R[write to console]: Content type 'application/x-gzip'\n",
            "R[write to console]:  length 2512761 bytes (2.4 MB)\n",
            "\n",
            "R[write to console]: =\n",
            "R[write to console]: =\n",
            "R[write to console]: =\n",
            "R[write to console]: =\n",
            "R[write to console]: =\n",
            "R[write to console]: =\n",
            "R[write to console]: =\n",
            "R[write to console]: =\n",
            "R[write to console]: =\n",
            "R[write to console]: =\n",
            "R[write to console]: =\n",
            "R[write to console]: =\n",
            "R[write to console]: =\n",
            "R[write to console]: =\n",
            "R[write to console]: =\n",
            "R[write to console]: =\n",
            "R[write to console]: =\n",
            "R[write to console]: =\n",
            "R[write to console]: =\n",
            "R[write to console]: =\n",
            "R[write to console]: =\n",
            "R[write to console]: =\n",
            "R[write to console]: =\n",
            "R[write to console]: =\n",
            "R[write to console]: =\n",
            "R[write to console]: =\n",
            "R[write to console]: =\n",
            "R[write to console]: =\n",
            "R[write to console]: =\n",
            "R[write to console]: =\n",
            "R[write to console]: =\n",
            "R[write to console]: =\n",
            "R[write to console]: =\n",
            "R[write to console]: =\n",
            "R[write to console]: =\n",
            "R[write to console]: =\n",
            "R[write to console]: =\n",
            "R[write to console]: =\n",
            "R[write to console]: =\n",
            "R[write to console]: =\n",
            "R[write to console]: =\n",
            "R[write to console]: =\n",
            "R[write to console]: =\n",
            "R[write to console]: =\n",
            "R[write to console]: =\n",
            "R[write to console]: =\n",
            "R[write to console]: =\n",
            "R[write to console]: =\n",
            "R[write to console]: =\n",
            "R[write to console]: =\n",
            "R[write to console]: \n",
            "\n",
            "R[write to console]: downloaded 2.4 MB\n",
            "\n",
            "\n",
            "R[write to console]: \n",
            "\n",
            "R[write to console]: \n",
            "R[write to console]: The downloaded source packages are in\n",
            "\t‘/tmp/RtmpgzgDGu/downloaded_packages’\n",
            "R[write to console]: \n",
            "R[write to console]: \n",
            "\n",
            "R[write to console]: Installing package into ‘/usr/local/lib/R/site-library’\n",
            "(as ‘lib’ is unspecified)\n",
            "\n",
            "R[write to console]: trying URL 'https://cran.rstudio.com/src/contrib/BSDA_1.2.0.tar.gz'\n",
            "\n",
            "R[write to console]: Content type 'application/x-gzip'\n",
            "R[write to console]:  length 349580 bytes (341 KB)\n",
            "\n",
            "R[write to console]: =\n",
            "R[write to console]: =\n",
            "R[write to console]: =\n",
            "R[write to console]: =\n",
            "R[write to console]: =\n",
            "R[write to console]: =\n",
            "R[write to console]: =\n",
            "R[write to console]: =\n",
            "R[write to console]: =\n",
            "R[write to console]: =\n",
            "R[write to console]: =\n",
            "R[write to console]: =\n",
            "R[write to console]: =\n",
            "R[write to console]: =\n",
            "R[write to console]: =\n",
            "R[write to console]: =\n",
            "R[write to console]: =\n",
            "R[write to console]: =\n",
            "R[write to console]: =\n",
            "R[write to console]: =\n",
            "R[write to console]: =\n",
            "R[write to console]: =\n",
            "R[write to console]: =\n",
            "R[write to console]: =\n",
            "R[write to console]: =\n",
            "R[write to console]: =\n",
            "R[write to console]: =\n",
            "R[write to console]: =\n",
            "R[write to console]: =\n",
            "R[write to console]: =\n",
            "R[write to console]: =\n",
            "R[write to console]: =\n",
            "R[write to console]: =\n",
            "R[write to console]: =\n",
            "R[write to console]: =\n",
            "R[write to console]: =\n",
            "R[write to console]: =\n",
            "R[write to console]: =\n",
            "R[write to console]: =\n",
            "R[write to console]: =\n",
            "R[write to console]: =\n",
            "R[write to console]: =\n",
            "R[write to console]: =\n",
            "R[write to console]: =\n",
            "R[write to console]: =\n",
            "R[write to console]: =\n",
            "R[write to console]: =\n",
            "R[write to console]: =\n",
            "R[write to console]: =\n",
            "R[write to console]: =\n",
            "R[write to console]: \n",
            "\n",
            "R[write to console]: downloaded 341 KB\n",
            "\n",
            "\n",
            "R[write to console]: \n",
            "\n",
            "R[write to console]: \n",
            "R[write to console]: The downloaded source packages are in\n",
            "\t‘/tmp/RtmpgzgDGu/downloaded_packages’\n",
            "R[write to console]: \n",
            "R[write to console]: \n",
            "\n"
          ],
          "name": "stderr"
        }
      ]
    },
    {
      "cell_type": "code",
      "metadata": {
        "colab": {
          "base_uri": "https://localhost:8080/"
        },
        "id": "hHsiXbYqMqTP",
        "outputId": "2cb16353-27dc-4620-c054-6470d15d47e9"
      },
      "source": [
        "%%R\n",
        "populacao <- read.csv('http://quant-ibmec.group/benchmark%20-%20ok.csv')\n",
        "head(populacao)"
      ],
      "execution_count": null,
      "outputs": [
        {
          "output_type": "stream",
          "text": [
            "  Estudo Renda UF SEXO COR Idade   Altura\n",
            "1     12   800 RO    M PAR    23 1.603808\n",
            "2     12  1150 RO    F BRA    23 1.739790\n",
            "3     15   880 RO    F PAR    35 1.760444\n",
            "4      6  3500 RO    M BRA    46 1.783158\n",
            "5      9   150 RO    F PAR    47 1.690631\n",
            "6     12   790 RO    F PAR    34 1.637906\n"
          ],
          "name": "stdout"
        }
      ]
    },
    {
      "cell_type": "code",
      "metadata": {
        "colab": {
          "base_uri": "https://localhost:8080/"
        },
        "id": "11Vt1-GeNGXX",
        "outputId": "14fce316-5337-47d0-a741-5fa204e6344f"
      },
      "source": [
        "%%R\n",
        "amostra <- sample_n(populacao[populacao$Altura>1.5,], 500)\n",
        "head(amostra)"
      ],
      "execution_count": null,
      "outputs": [
        {
          "output_type": "stream",
          "text": [
            "  Estudo Renda UF SEXO COR Idade   Altura\n",
            "1      3  1050 PI    M PAR    49 1.692011\n",
            "2     12  3500 BA    M PAR    47 1.710619\n",
            "3     11  1000 RJ    M PAR    32 1.624280\n",
            "4      6   788 RR    F PRE    57 1.722489\n",
            "5      1  1400 MG    M PRE    45 1.694116\n",
            "6      1   750 SP    F PAR    42 1.816015\n"
          ],
          "name": "stdout"
        }
      ]
    },
    {
      "cell_type": "markdown",
      "metadata": {
        "id": "CGheiW_mMe_e"
      },
      "source": [
        "# Teste de Normalidade"
      ]
    },
    {
      "cell_type": "markdown",
      "metadata": {
        "id": "roREWwiEM6O7"
      },
      "source": [
        "A função shapiro.test testa a hipótese nula  𝐻0  de que a amostra é proveniente de uma distribuição normal, ou seja, os dados são normalmente distribuídos.\n",
        "**Rejeitar  𝐻0 (ser normal) se o valor  𝑝≤𝛼**"
      ]
    },
    {
      "cell_type": "code",
      "metadata": {
        "colab": {
          "base_uri": "https://localhost:8080/"
        },
        "id": "R44wNA6OOh4v",
        "outputId": "0edab0a3-9f34-4458-9ea5-2e349f6c3cf8"
      },
      "source": [
        "%%R\n",
        "hist(amostra$Renda)"
      ],
      "execution_count": null,
      "outputs": [
        {
          "output_type": "display_data",
          "data": {
            "image/png": "[encoded data removed]"
          },
          "metadata": {
            "tags": []
          }
        }
      ]
    },
    {
      "cell_type": "code",
      "metadata": {
        "id": "Nj2q4zXt4Xua",
        "colab": {
          "base_uri": "https://localhost:8080/"
        },
        "outputId": "edd4e0bf-4a9f-4a64-9ce1-75025f9132fa"
      },
      "source": [
        "%%R\n",
        "shapiro.test(amostra$Renda)"
      ],
      "execution_count": null,
      "outputs": [
        {
          "output_type": "stream",
          "text": [
            "\n",
            "\tShapiro-Wilk normality test\n",
            "\n",
            "data:  amostra$Renda\n",
            "W = 0.63943, p-value < 2.2e-16\n",
            "\n"
          ],
          "name": "stdout"
        }
      ]
    },
    {
      "cell_type": "markdown",
      "metadata": {
        "id": "RudKyjRyNydH"
      },
      "source": [
        "p valor menor que significancia 5%, entao rejeita H0, ser normal, logo nao eh normal[texto do link  "
      ]
    },
    {
      "cell_type": "code",
      "metadata": {
        "colab": {
          "base_uri": "https://localhost:8080/"
        },
        "id": "ySlcXk9ZOv0H",
        "outputId": "02afbb89-42ec-4ff2-abf2-28e604b3f600"
      },
      "source": [
        "%%R\n",
        "hist(amostra$Altura)"
      ],
      "execution_count": null,
      "outputs": [
        {
          "output_type": "display_data",
          "data": {
            "image/png": "[encoded data removed]"
          },
          "metadata": {
            "tags": []
          }
        }
      ]
    },
    {
      "cell_type": "code",
      "metadata": {
        "colab": {
          "base_uri": "https://localhost:8080/"
        },
        "id": "pzSNIsBUOCph",
        "outputId": "cfe6e360-1342-439a-c315-4e7424a5522d"
      },
      "source": [
        "%%R\n",
        "shapiro.test(amostra$Altura)"
      ],
      "execution_count": null,
      "outputs": [
        {
          "output_type": "stream",
          "text": [
            "\n",
            "\tShapiro-Wilk normality test\n",
            "\n",
            "data:  amostra$Altura\n",
            "W = 0.99619, p-value = 0.2751\n",
            "\n"
          ],
          "name": "stdout"
        }
      ]
    },
    {
      "cell_type": "markdown",
      "metadata": {
        "id": "N2Qqho09OFrO"
      },
      "source": [
        "p valor maior que significancia 5%, entao NAO rejeita H0 (ser normal)"
      ]
    },
    {
      "cell_type": "markdown",
      "metadata": {
        "id": "odZFEMn9Pi55"
      },
      "source": [
        "# Teste de Hipotese"
      ]
    },
    {
      "cell_type": "markdown",
      "metadata": {
        "id": "04z082XC_QT6"
      },
      "source": [
        "##Teste Bicaudal"
      ]
    },
    {
      "cell_type": "markdown",
      "metadata": {
        "id": "CNpJ9vLG4iCf"
      },
      "source": [
        "A empresa Suco Bom produz sucos de frutas em embalagens de 500 ml. Seu processo de produção é quase todo automatizado e as embalagens de sucos são preenchidas por uma máquina que às vezes apresenta um certo desajuste, levando a erros no preenchimento das embalagens para mais ou menos conteúdo. Quando o volume médio cai abaixo de 500 ml, a empresa se preocupa em perder vendas e ter problemas com os orgãos fiscalizadores. Quando o volume passa de 500 ml, a empresa começa a se preocupar com prejuízos no processo de produção.\n",
        "\n",
        "O setor de controle de qualidade da empresa Suco Bom extrai, periodicamente, amostras de 50 embalagens para monitorar o processo de produção. Para cada amostra, é realizado um teste de hipóteses para avaliar se o maquinário se desajustou. A equipe de controle de qualidade assume um nível de significância de 5%.\n",
        "\n",
        "Suponha agora que uma amostra de 50 embalagens foi selecionada e que a média amostral observada foi de 503,24 ml e desvio padrao 4,48. Esse valor de média amostral é suficientemente maior que 500 ml para nos fazer rejeitar a hipótese de que a média do processo é de 500 ml ao nível de significância de 5%? \n",
        "\n"
      ]
    },
    {
      "cell_type": "code",
      "metadata": {
        "colab": {
          "base_uri": "https://localhost:8080/"
        },
        "id": "OdUuSOyk4gdx",
        "outputId": "e707eaac-6757-4d02-fc4d-558a297684e1"
      },
      "source": [
        "%%R\n",
        "#Hipotese de ser igual, significa um bicaudal com h0 da medias serem iguais\n",
        "#𝐻0:𝜇=500 \n",
        "#𝐻1:𝜇≠500\n",
        "u<-500\n",
        "n <-50\n",
        "sig<-0.05\n",
        "z_sig_sob2 <- qnorm(sig/2)\n",
        "print(z_sig_sob2)\n",
        "x<-503.24\n",
        "s<-4.48\n",
        "z<-(x-u)/(s/sqrt(n))\n",
        "z"
      ],
      "execution_count": null,
      "outputs": [
        {
          "output_type": "stream",
          "text": [
            "[1] -1.959964\n",
            "[1] 5.113897\n"
          ],
          "name": "stdout"
        }
      ]
    },
    {
      "cell_type": "code",
      "metadata": {
        "colab": {
          "base_uri": "https://localhost:8080/"
        },
        "id": "4j6hQ5mU8sA2",
        "outputId": "ef21af09-eb7b-4618-d8b8-e0d77ae42cc9"
      },
      "source": [
        "%%R\n",
        "area<-pnorm(z)\n",
        "print(area)\n",
        "pvalor<-2*(1-area)\n",
        "print(pvalor)\n",
        "if (pvalor <= sig){\n",
        "    print('rejeita h0')\n",
        "}else{\n",
        "    print('aceita h0')\n",
        "}\n",
        "#Rejeitar  𝐻0  se o valor  𝑝≤𝛼"
      ],
      "execution_count": null,
      "outputs": [
        {
          "output_type": "stream",
          "text": [
            "[1] 0.9999998\n",
            "[1] 3.15579e-07\n",
            "[1] \"rejeita h0\"\n"
          ],
          "name": "stdout"
        }
      ]
    },
    {
      "cell_type": "code",
      "metadata": {
        "colab": {
          "base_uri": "https://localhost:8080/"
        },
        "id": "4Iq6UJRF-5sw",
        "outputId": "7e200f3d-c39a-4057-9a92-3c993e9b04d2"
      },
      "source": [
        "%%R\n",
        "amostra <- c(509, 505, 495, 510, 496, 509, 497, 502, 503, 505, \n",
        "           501, 505, 510, 505, 504, 497, 506, 506, 508, 505, \n",
        "           497, 504, 500, 498, 506, 496, 508, 497, 503, 501, \n",
        "           503, 506, 499, 498, 509, 507, 503, 499, 509, 495, \n",
        "           502, 505, 504, 509, 508, 501, 505, 497, 508, 507)\n",
        "ZTest(amostra, mu = u, sd_pop = s)"
      ],
      "execution_count": null,
      "outputs": [
        {
          "output_type": "stream",
          "text": [
            "\n",
            "\tOne Sample z-test\n",
            "\n",
            "data:  amostra\n",
            "z = 5.1139, Std. Dev. Population = 4.48, p-value = 3.156e-07\n",
            "alternative hypothesis: true mean is not equal to 500\n",
            "95 percent confidence interval:\n",
            " 501.9982 504.4818\n",
            "sample estimates:\n",
            "mean of x \n",
            "   503.24 \n",
            "\n"
          ],
          "name": "stdout"
        }
      ]
    },
    {
      "cell_type": "markdown",
      "metadata": {
        "id": "--HynjhB72dd"
      },
      "source": [
        "Conclusão: Como a média amostral  𝑥¯  é significativamente maior que 500 ml, rejeitamos  𝐻0 . Neste caso, devem ser tomadas providências para ajustar o maquinário que preenche as embalagens.\n",
        "\n"
      ]
    },
    {
      "cell_type": "markdown",
      "metadata": {
        "id": "txQXbukABPmR"
      },
      "source": [
        "##Teste Unicaudal "
      ]
    },
    {
      "cell_type": "markdown",
      "metadata": {
        "id": "59AUpJk_BPug"
      },
      "source": [
        "Um famoso fabricante de refrigerantes alega que uma lata de 350 ml de seu principal produto contém, no máximo, 37 gramas de açúcar. Esta alegação nos leva a entender que a quantidade média de açúcar em uma lata de refrigerante deve ser igual ou menor que 37 g.\n",
        "Um consumidor desconfiado e com conhecimentos em inferência estatística resolve testar a alegação do fabricante e seleciona, aleatóriamente, em um conjunto de estabelecimentos distintos, uma amostra de 25 latas do refrigerante em questão. Assumindo que essa população se distribua aproximadamente como uma normal e considerando um nível de significância de 5%, é possível aceitar como válida a alegação do fabricante?\n",
        "\n"
      ]
    },
    {
      "cell_type": "code",
      "metadata": {
        "colab": {
          "base_uri": "https://localhost:8080/"
        },
        "id": "fVpIgzEe-41C",
        "outputId": "7fdb50d0-e1dc-46c0-e5c7-5aaad3027536"
      },
      "source": [
        "%%R\n",
        "#𝐻0:𝜇≤37 \n",
        "#𝐻1:𝜇>37\n",
        "amostra <- c(37.27, 36.42, 34.84, 34.60, 37.49, \n",
        "           36.53, 35.49, 36.90, 34.52, 37.30, \n",
        "           34.99, 36.55, 36.29, 36.06, 37.42, \n",
        "           34.47, 36.70, 35.86, 36.80, 36.92, \n",
        "           37.04, 36.39, 37.32, 36.64, 35.45)\n",
        "n<-25\n",
        "u<-37\n",
        "x<-mean(amostra)\n",
        "s<-sd(amostra)\n",
        "sig<-0.05\n",
        "conf <- 1-sig\n",
        "graus_de_liberdade <- n-1\n",
        "t_sig <- qt(conf, graus_de_liberdade)\n",
        "print(t_sig)\n",
        "t <- (x - u) / (s / sqrt(n))\n",
        "t"
      ],
      "execution_count": null,
      "outputs": [
        {
          "output_type": "stream",
          "text": [
            "[1] 1.710882\n",
            "[1] -3.876893\n"
          ],
          "name": "stdout"
        }
      ]
    },
    {
      "cell_type": "code",
      "metadata": {
        "colab": {
          "base_uri": "https://localhost:8080/"
        },
        "id": "BAVur7oOPdYn",
        "outputId": "b1d46e65-ca39-4ac0-be56-acb1afb0a5f9"
      },
      "source": [
        "%%R\n",
        "p_valor <- pt(t, graus_de_liberdade, lower.tail = F)\n",
        "p_valor\n",
        "#Rejeitar  𝐻0  se o valor  𝑝≤𝛼"
      ],
      "execution_count": null,
      "outputs": [
        {
          "output_type": "stream",
          "text": [
            "[1] 0.9996406\n"
          ],
          "name": "stdout"
        }
      ]
    },
    {
      "cell_type": "code",
      "metadata": {
        "colab": {
          "base_uri": "https://localhost:8080/"
        },
        "id": "MmpPGfNtPuxE",
        "outputId": "06a51068-eb95-43b4-ae22-5900df7330d7"
      },
      "source": [
        "%%R\n",
        "t.test(amostra , alternative = \"greater\", mu = u)"
      ],
      "execution_count": null,
      "outputs": [
        {
          "output_type": "stream",
          "text": [
            "\n",
            "\tOne Sample t-test\n",
            "\n",
            "data:  amostra\n",
            "t = -3.8769, df = 24, p-value = 0.9996\n",
            "alternative hypothesis: true mean is greater than 37\n",
            "95 percent confidence interval:\n",
            " 35.9196     Inf\n",
            "sample estimates:\n",
            "mean of x \n",
            "  36.2504 \n",
            "\n"
          ],
          "name": "stdout"
        }
      ]
    },
    {
      "cell_type": "markdown",
      "metadata": {
        "id": "yNb6PvW0PzlV"
      },
      "source": [
        "Conclusão: Com um nível de confiança de 95% não podemos rejeitar  𝐻0 , ou seja, a alegação do fabricante é verdadeira.\n"
      ]
    },
    {
      "cell_type": "markdown",
      "metadata": {
        "id": "aOg93gyoTIv1"
      },
      "source": [
        "##Teste duas amostras"
      ]
    },
    {
      "cell_type": "markdown",
      "metadata": {
        "id": "lGCbyXXmTNrt"
      },
      "source": [
        "Em nosso dataset temos os rendimento dos chefes de domicílio obtidos da Pesquisa Nacional por Amostra de Domicílios - PNAD no ano de 2015. Um problema bastante conhecido em nosso país diz respeito a desigualdade de renda, principalmente entre homens e mulheres.\n",
        "\n",
        "Duas amostras aleatórias, uma de 500 homens e outra com 500 mulheres, foram selecionadas em nosso dataset. Com o objetivo de comprovar tal desigualdade, teste a igualdade das médias entre estas duas amostras com um nível de significância de 1%."
      ]
    },
    {
      "cell_type": "code",
      "metadata": {
        "id": "v_jt1klSP0U4"
      },
      "source": [
        "%%R\n",
        "homens <- matrix(c(300, 1000, 4000, 5000, 300, 350, 1200, 1200, 1100, 1800, 700, 5000, 250, 1560, 400, 5500, 3000, 0, 1100, 1500, 500, 500, 788, 500, 3000, 788, 2400, 788, 3300, 1350, 2500, 2000, 1300, 2430, 9000, 10120, 1380, 2000, 1400, 1000, 500, 1500, 2200, 2100, 4000, 1000, 1200, 2900, 1800, 2000, 788, 1576, 800, 2400, 788, 788, 788, 0, 12000, 7880, 850, 1000, 1000, 1600, 3800, 788, 1200, 300, 350, 700, 6000, 1500, 5000, 2000, 1200, 800, 250, 800, 1600, 400, 3000, 2304, 800, 1400, 450, 788, 2200, 6000, 1200, 4000, 6000, 1100, 1200, 1300, 3000, 3000, 1500, 1280, 788, 1400, 788, 4000, 0, 1000, 2500, 1300, 3000, 500, 1600, 2000, 1280, 150, 0, 0, 7000, 1061, 700, 788, 2000, 788, 10500, 788, 1600, 1050, 1100, 3000, 800, 1400, 1200, 2500, 1000, 1500, 1500, 900, 2000, 300, 3000, 788, 1400, 2000, 2000, 3000, 2600, 15000, 1500, 950, 1200, 1500, 7500, 1400, 350, 750, 1200, 788, 0, 2500, 1700, 788, 700, 1600, 1200, 320, 6000, 2000, 2000, 3000, 900, 2100, 0, 788, 1800, 1600, 4000, 1300, 1300, 1500, 8900, 1400, 788, 600, 1000, 950, 2000, 4000, 2300, 2000, 800, 2500, 1500, 1400, 800, 6000, 788, 900, 200, 1300, 788, 2600, 1500, 8000, 900, 2000, 2000, 350, 3000, 9580, 0, 400, 800, 1700, 1800, 1200, 18000, 9000, 3000, 1200, 700, 1200, 400, 987, 6000, 2000, 0, 0, 480, 500, 800, 1680, 10000, 1200, 1700, 788, 2200, 10000, 10000, 100, 1200, 1600, 2500, 1300, 1200, 1300, 2200, 200, 60, 1100, 1200, 6000, 4500, 100, 788, 2900, 2500, 900, 788, 2500, 4000, 788, 1400, 1000, 300, 788, 1000, 4000, 2200, 788, 1000, 1000, 600, 1600, 6000, 2500, 2500, 1000, 3000, 2200, 4500, 1500, 4300, 1500, 8500, 3200, 1200, 1200, 1500, 4000, 2000, 1350, 1500, 890, 5000, 2400, 13000, 800, 1500, 1500, 2000, 580, 500, 920, 1200, 2000, 788, 500, 20000, 1350, 1576, 500, 8000, 1800, 600, 1000, 3000, 4000, 1500, 788, 600, 2300, 1500, 500, 500, 800, 900, 8000, 1600, 3000, 788, 1500, 5200, 900, 3565, 650, 1700, 1600, 788, 1200, 788, 788, 100, 900, 1700, 10000, 1600, 200, 788, 1400, 1500, 400, 4200, 1400, 4000, 5516, 3500, 700, 1400, 1200, 0, 7000, 2000, 5000, 2000, 750, 3000, 2000, 1500, 200, 3000, 1700, 1500, 7000, 1500, 788, 2400, 2500, 1500, 2000, 1500, 2000, 1100, 800, 1800, 480, 3500, 700, 3400, 5000, 5000, 1300, 3000, 2000, 900, 2000, 1000, 1800, 0, 1500, 788, 3500, 875, 5000, 2000, 1300, 1600, 0, 750, 1200, 120, 1800, 1200, 788, 1000, 0, 1400, 2300, 7000, 4000, 5000, 788, 20000, 4000, 0, 1200, 1800, 500, 1000, 788, 1300, 5000, 50, 1700, 2000, 1600, 2000, 1350, 1500, 600, 1700, 780, 2446, 2100, 5000, 1700, 1200, 1000, 788, 4500, 1500, 788, 0, 1580, 1000, 4500, 2400, 788, 1100, 2000, 788, 100, 1200, 1200, 1200, 1000, 2000, 788, 2000, 15000, 600, 0, 1500, 3000, 4000, 900, 810, 600, 1500, 4000, 1200, 5000, 5300, 2500, 800, 0, 1400, 1500, 4000, 1200, 400, 1000, 820, 1000, 1000, 788, 1500, 2500, 1500, 220, 600, 788, 1750, 7000))\n",
        "mulheres <- matrix(c(788, 1200, 6000, 1000, 788, 1100, 1900, 1577, 900, 950, 1200, 788, 788, 1100, 30, 620, 900, 1000, 1200, 2000, 0, 500, 1200, 1500, 1200, 1120, 788, 788, 2300, 2400, 3000, 788, 4000, 1000, 500, 500, 1700, 200, 6000, 400, 950, 1100, 50, 930, 850, 1100, 3500, 1500, 1200, 900, 1100, 1500, 788, 1000, 788, 4500, 4000, 8000, 3500, 788, 1050, 1000, 1400, 3500, 600, 3000, 500, 930, 2660, 788, 360, 2364, 788, 160, 1100, 1085, 1050, 1500, 100, 0, 788, 250, 1700, 1300, 800, 0, 2000, 820, 910, 300, 2000, 200, 788, 788, 800, 1500, 1300, 1200, 0, 600, 1036, 400, 1100, 788, 400, 1500, 1200, 1800, 1000, 788, 850, 60, 1800, 3500, 600, 200, 500, 200, 1100, 1540, 1100, 900, 800, 500, 200, 1200, 1250, 788, 500, 200, 788, 200, 0, 1800, 2000, 1000, 900, 3000, 700, 1200, 788, 2800, 3300, 400, 0, 850, 1022, 6000, 750, 1000, 3500, 400, 1500, 1000, 800, 0, 980, 2400, 850, 1100, 788, 1100, 788, 1200, 788, 864, 1000, 500, 400, 3000, 1200, 100, 80, 900, 2000, 1250, 1000, 300, 400, 1500, 60, 8000, 1000, 600, 800, 350, 788, 0, 600, 788, 2500, 1300, 800, 8000, 1100, 800, 900, 2000, 0, 800, 1400, 1000, 1200, 788, 3840, 788, 3940, 788, 560, 800, 2000, 600, 2900, 0, 400, 800, 7000, 788, 788, 788, 788, 1250, 1500, 1386, 100, 300, 788, 788, 600, 600, 900, 2800, 788, 350, 900, 0, 150, 788, 788, 1000, 30, 788, 780, 900, 0, 0, 3000, 1800, 2000, 1100, 788, 0, 7500, 1800, 788, 788, 2000, 3000, 180, 2500, 800, 0, 1250, 200, 1100, 0, 1100, 400, 1300, 300, 0, 1312, 600, 200, 4000, 2400, 12000, 2150, 500, 400, 0, 600, 400, 788, 1200, 500, 2000, 1500, 70, 500, 2000, 1000, 100, 500, 2000, 100, 2115, 800, 5800, 2300, 750, 788, 0, 900, 1000, 600, 3000, 5500, 1600, 788, 4000, 0, 1100, 120, 320, 1100, 2500, 200, 800, 3000, 550, 4200, 7000, 720, 0, 2000, 5000, 2000, 788, 500, 788, 7000, 500, 788, 1760, 1200, 3500, 1500, 150, 800, 788, 3000, 400, 788, 1000, 2000, 2500, 0, 788, 5200, 788, 0, 600, 1300, 120, 850, 1576, 788, 2000, 1300, 788, 800, 1800, 655, 1580, 789, 788, 850, 788, 7000, 788, 430, 800, 788, 900, 10000, 1200, 300, 400, 788, 788, 3000, 900, 1300, 1300, 788, 800, 1000, 1890, 0, 788, 900, 4000, 788, 1010, 150, 450, 1700, 890, 1200, 2800, 1000, 788, 788, 700, 600, 800, 880, 6000, 800, 800, 820, 788, 1030, 560, 2100, 6500, 2500, 788, 400, 300, 788, 2300, 1000, 3500, 984, 1576, 420, 1700, 450, 1800, 400, 1500, 1500, 4256, 1200, 890, 1200, 300, 400, 850, 1500, 3800, 1800, 996, 2000, 1000, 788, 1500, 300, 600, 950, 1200, 788, 1200, 1500, 250, 788, 1200, 6000, 300, 789, 1500, 788, 3800, 780, 1200, 1200, 220, 788, 500, 200, 480, 1576, 1576, 1035, 900, 800, 1000, 805, 200, 1200, 2220, 1500, 880, 220, 2000, 788, 150, 0, 13000, 40, 5500, 788, 788, 1000, 400, 2000, 200, 1600))"
      ],
      "execution_count": null,
      "outputs": []
    },
    {
      "cell_type": "code",
      "metadata": {
        "colab": {
          "base_uri": "https://localhost:8080/"
        },
        "id": "nCy3U1cTTMiP",
        "outputId": "79c14f6e-3a8d-4a2b-c8a7-0ef8e9d7a709"
      },
      "source": [
        "%%R\n",
        "xH <- mean(homens)\n",
        "sH <- sd(homens)\n",
        "xM <- mean(mulheres)\n",
        "sM <- sd(mulheres)\n",
        "print(xH)\n",
        "print(sH)\n",
        "print(xM)\n",
        "print(sM)\n"
      ],
      "execution_count": null,
      "outputs": [
        {
          "output_type": "stream",
          "text": [
            "[1] 2142.608\n",
            "[1] 2548.051\n",
            "[1] 1357.528\n",
            "[1] 1569.901\n"
          ],
          "name": "stdout"
        }
      ]
    },
    {
      "cell_type": "code",
      "metadata": {
        "colab": {
          "base_uri": "https://localhost:8080/"
        },
        "id": "suEr04WiUZKd",
        "outputId": "44bb2eda-1244-4adf-b6df-ad1c7575873e"
      },
      "source": [
        "%%R\n",
        "#𝜇1⇒  Média das rendas dos chefes de domicílios do sexo masculino\n",
        "#𝜇2⇒  Média das rendas dos chefes de domicílios do sexo feminino\n",
        "#{𝐻0:𝜇1≤𝜇2\n",
        "#𝐻1:𝜇1>𝜇2 \n",
        "#ou\n",
        "#{𝐻0:𝜇1−𝜇2≤0\n",
        "#𝐻1:𝜇1−𝜇2>0 \n",
        "sig <- 0.01\n",
        "conf <- 1 - sig\n",
        "z_sig <- qnorm(conf)\n",
        "print(z_sig)\n",
        "nM <- 500\n",
        "nH <- 500\n",
        "D0 <- 0\n",
        "numerador <- (xH - xM) - D0\n",
        "denominador <- sqrt((sH ** 2 / nH) + (sM ** 2 / nM))\n",
        "z <- numerador / denominador\n",
        "z"
      ],
      "execution_count": null,
      "outputs": [
        {
          "output_type": "stream",
          "text": [
            "[1] 2.326348\n",
            "[1] 5.86562\n"
          ],
          "name": "stdout"
        }
      ]
    },
    {
      "cell_type": "code",
      "metadata": {
        "colab": {
          "base_uri": "https://localhost:8080/"
        },
        "id": "bvdHskeEXSSE",
        "outputId": "567ce169-41e2-448e-b6b0-9d92cb679990"
      },
      "source": [
        "%%R\n",
        "p_valor <- pnorm(z, lower.tail = F)\n",
        "p_valor\n",
        "#Rejeitar  𝐻0  se o valor  𝑝≤𝛼"
      ],
      "execution_count": null,
      "outputs": [
        {
          "output_type": "stream",
          "text": [
            "[1] 2.237287e-09\n"
          ],
          "name": "stdout"
        }
      ]
    },
    {
      "cell_type": "code",
      "metadata": {
        "colab": {
          "base_uri": "https://localhost:8080/"
        },
        "id": "BuyxOwDxYh3F",
        "outputId": "5739512f-7990-493c-de7c-1086cdb691ee"
      },
      "source": [
        "%%R\n",
        "z.test(x = homens,\n",
        "      y = mulheres,\n",
        "      alternative = 'greater',\n",
        "      mu = 0,\n",
        "      sigma.x = sH,\n",
        "      sigma.y = sM,\n",
        "      conf.level = 0.99)"
      ],
      "execution_count": null,
      "outputs": [
        {
          "output_type": "stream",
          "text": [
            "\n",
            "\tTwo-sample z-Test\n",
            "\n",
            "data:  homens and mulheres\n",
            "z = 5.8656, p-value = 2.237e-09\n",
            "alternative hypothesis: true difference in means is greater than 0\n",
            "99 percent confidence interval:\n",
            " 473.7115       NA\n",
            "sample estimates:\n",
            "mean of x mean of y \n",
            " 2142.608  1357.528 \n",
            "\n"
          ],
          "name": "stdout"
        }
      ]
    },
    {
      "cell_type": "markdown",
      "metadata": {
        "id": "IikMl61xXH2R"
      },
      "source": [
        "Conclusão: Com um nível de confiança de 99% rejeitamos  𝐻0 , isto é, concluímos que a média das rendas dos chefes de domicílios do sexo masculino é maior que a média das rendas das chefes de domicílios do sexo feminino. Confirmando a alegação de desigualdade de renda entre os sexos."
      ]
    },
    {
      "cell_type": "markdown",
      "metadata": {
        "id": "C4eLc61dXIb6"
      },
      "source": [
        "#Testes Nao Parametricos"
      ]
    },
    {
      "cell_type": "markdown",
      "metadata": {
        "id": "rjtuyYWsf_BZ"
      },
      "source": [
        "##Teste do Qui-Quadrado (  𝜒2 )"
      ]
    },
    {
      "cell_type": "code",
      "metadata": {
        "colab": {
          "base_uri": "https://localhost:8080/"
        },
        "id": "mD_sHbZCXIjU",
        "outputId": "b3a1c9dd-ff13-47cb-f19d-654a01a11cd5"
      },
      "source": [
        "%%R\n",
        "#𝐻0:𝐹𝐶𝐴𝑅𝐴=𝐹𝐶𝑂𝑅𝑂𝐴 \n",
        "#𝐻1:𝐹𝐶𝐴𝑅𝐴≠𝐹𝐶𝑂𝑅𝑂𝐴\n",
        "Fobs <- c(17, 33)\n",
        "Fesp <- c(25, 25)\n",
        "sig  <- 0.05\n",
        "conf <- 1 - sig \n",
        "k <- 2 # Número de eventos possíveis\n",
        "graus_de_lib <- k - 1\n",
        "chi_2_sig <- qchisq(conf, graus_de_lib)\n",
        "print(chi_2_sig)\n",
        "chi_2 = 0\n",
        "for(i in 1:k){\n",
        "    chi_2<-chi_2+(Fobs[i]-Fesp[i])**2/Fesp[i] \n",
        "}\n",
        "chi_2"
      ],
      "execution_count": null,
      "outputs": [
        {
          "output_type": "stream",
          "text": [
            "[1] 3.841459\n",
            "[1] 5.12\n"
          ],
          "name": "stdout"
        }
      ]
    },
    {
      "cell_type": "code",
      "metadata": {
        "colab": {
          "base_uri": "https://localhost:8080/"
        },
        "id": "_pAFpsf-xXjc",
        "outputId": "947df9be-f049-4c89-bf95-87a786ca939b"
      },
      "source": [
        "%%R\n",
        "pchisq(chi_2, df = graus_de_lib, lower.tail = F)\n",
        "#Rejeitar  𝐻0  se o valor  𝑝≤𝛼"
      ],
      "execution_count": null,
      "outputs": [
        {
          "output_type": "stream",
          "text": [
            "[1] 0.02365162\n"
          ],
          "name": "stdout"
        }
      ]
    },
    {
      "cell_type": "code",
      "metadata": {
        "colab": {
          "base_uri": "https://localhost:8080/"
        },
        "id": "yUwOqGJ7xwRL",
        "outputId": "b548b712-34b5-4b64-de5c-c0b30f2a1c5c"
      },
      "source": [
        "%%R\n",
        "chisq.test(x = Fobs, p = c(0.5, 0.5))"
      ],
      "execution_count": null,
      "outputs": [
        {
          "output_type": "stream",
          "text": [
            "\n",
            "\tChi-squared test for given probabilities\n",
            "\n",
            "data:  Fobs\n",
            "X-squared = 5.12, df = 1, p-value = 0.02365\n",
            "\n"
          ],
          "name": "stdout"
        }
      ]
    },
    {
      "cell_type": "markdown",
      "metadata": {
        "id": "XxWVhtzQxO51"
      },
      "source": [
        "Conclusão: Com um nível de confiança de 95% rejeitamos a hipótese nula ( 𝐻0 ) e concluímos que as frequências observadas e esperadas são discrepantes, ou seja, a moeda não é honesta e precisa ser substituída."
      ]
    },
    {
      "cell_type": "markdown",
      "metadata": {
        "id": "a8was04ggobJ"
      },
      "source": [
        "#Teste Pareado (Teste Wilcoxon)"
      ]
    },
    {
      "cell_type": "code",
      "metadata": {
        "colab": {
          "base_uri": "https://localhost:8080/"
        },
        "id": "E6o9w6DVgokY",
        "outputId": "24b048ad-b787-4e96-d8a8-302ab22c5118"
      },
      "source": [
        "%%R\n",
        "fumo <- data.frame(\n",
        "    Antes = c(39, 25, 24, 50, 13, 52, 21, 29, 10, 22, 50, 15, 36, 39, 52, 48, 24, 15, 40, 41, 17, 12, 21, 49, 14, 55, 46, 22, 28, 23, 37, 17, 31, 49, 49),\n",
        "    Depois = c(16, 8, 12, 0, 14, 16, 13, 12, 19, 17, 17, 2, 15, 10, 20, 13, 0, 4, 16, 18, 16, 16, 9, 9, 18, 4, 17, 0, 11, 14, 0, 19, 2, 9, 6)\n",
        ")\n",
        "significancia <- 0.05\n",
        "confianca <- 1 - significancia\n",
        "n <- 35\n",
        "wilcox.test(fumo$Depois, fumo$Antes, paired = T, correct = F)"
      ],
      "execution_count": null,
      "outputs": [
        {
          "output_type": "stream",
          "text": [
            "\n",
            "\tWilcoxon signed rank test\n",
            "\n",
            "data:  fumo$Depois and fumo$Antes\n",
            "V = 22, p-value = 1.584e-06\n",
            "alternative hypothesis: true location shift is not equal to 0\n",
            "\n"
          ],
          "name": "stdout"
        }
      ]
    },
    {
      "cell_type": "markdown",
      "metadata": {
        "id": "R5wxM0ng03sB"
      },
      "source": [
        "Conclusão: Rejeitamos a hipótese de que não existe diferença entre os grupos, isto é, existe uma diferença entre as médias de cigarros fumados pelos pacientes antes e depois do tratamento. E como é possível verificar através das médias de cigarros fumados por dia antes (31.86) e depois (11.2) do tratamento, podemos concluir que o tratamento apresentou resultado satisfatório."
      ]
    }
  ]
}