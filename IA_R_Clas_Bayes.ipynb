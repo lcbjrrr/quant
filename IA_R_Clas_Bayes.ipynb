{
  "nbformat": 4,
  "nbformat_minor": 0,
  "metadata": {
    "colab": {
      "provenance": [],
      "include_colab_link": true
    },
    "kernelspec": {
      "name": "python3",
      "display_name": "Python 3"
    }
  },
  "cells": [
    {
      "cell_type": "markdown",
      "metadata": {
        "id": "view-in-github",
        "colab_type": "text"
      },
      "source": [
        "<a href=\"https://colab.research.google.com/github/lcbjrrr/quant/blob/master/IA_R_Clas_Bayes.ipynb\" target=\"_parent\"><img src=\"https://colab.research.google.com/assets/colab-badge.svg\" alt=\"Open In Colab\"/></a>"
      ]
    },
    {
      "cell_type": "code",
      "metadata": {
        "id": "08FaIDs7555J",
        "colab": {
          "base_uri": "https://localhost:8080/"
        },
        "outputId": "30210a82-2f0b-4909-cde8-57bde861a41d"
      },
      "source": [
        "!pip uninstall rpy2 -y"
      ],
      "execution_count": 6,
      "outputs": [
        {
          "output_type": "stream",
          "name": "stdout",
          "text": [
            "  Successfully uninstalled rpy2-3.0.0\n"
          ]
        }
      ]
    },
    {
      "cell_type": "code",
      "source": [
        "!pip install rpy2==3.0.0"
      ],
      "metadata": {
        "id": "vvqfWn483c6q"
      },
      "execution_count": null,
      "outputs": []
    },
    {
      "cell_type": "code",
      "source": [
        "%load_ext rpy2.ipython"
      ],
      "metadata": {
        "colab": {
          "base_uri": "https://localhost:8080/"
        },
        "id": "7cQ1Q1Rk3heB",
        "outputId": "d99a8625-009b-4dea-b60d-1fc871dde5e0"
      },
      "execution_count": 1,
      "outputs": [
        {
          "output_type": "stream",
          "name": "stderr",
          "text": [
            "/usr/local/lib/python3.8/dist-packages/rpy2/robjects/pandas2ri.py:15: FutureWarning: pandas.core.index is deprecated and will be removed in a future version.  The public classes are available in the top-level namespace.\n",
            "  from pandas.core.index import Index as PandasIndex\n"
          ]
        }
      ]
    },
    {
      "cell_type": "markdown",
      "metadata": {
        "id": "9faay20nkZPL"
      },
      "source": [
        "# Bayes"
      ]
    },
    {
      "cell_type": "code",
      "metadata": {
        "id": "-XI1b9ul6CVh"
      },
      "source": [
        "%%R\n",
        "install.packages(\"e1071\",repos = \"http://cran.us.r-project.org\")"
      ],
      "execution_count": null,
      "outputs": []
    },
    {
      "cell_type": "code",
      "source": [
        "%%R\n",
        "library(e1071)"
      ],
      "metadata": {
        "id": "vQAyX3tXAg1E"
      },
      "execution_count": 7,
      "outputs": []
    },
    {
      "cell_type": "code",
      "metadata": {
        "id": "0VhV8hCx5801",
        "outputId": "9e390c5a-f16a-47fe-aea9-13882ce874dc",
        "colab": {
          "base_uri": "https://localhost:8080/",
          "height": 856
        }
      },
      "source": [
        "%%R\n",
        "volei <- read.csv('https://raw.githubusercontent.com/lcbjrrr/data/main/JogarVolei%20-%20OK.csv')\n",
        "print(volei)\n",
        "nb <- naiveBayes(jogar ~ . , data=volei)\n",
        "nb"
      ],
      "execution_count": 8,
      "outputs": [
        {
          "output_type": "display_data",
          "data": {
            "text/plain": [
              "     previsao temperatura umidade        vento jogar\n",
              "1  ensolarado      quente    alta nao_ventando   nao\n",
              "2  ensolarado      quente    alta     ventando   nao\n",
              "3     nublado      quente    alta nao_ventando   sim\n",
              "4     chuvoso      brando    alta nao_ventando   sim\n",
              "5     chuvoso        frio  normal nao_ventando   sim\n",
              "6     chuvoso        frio  normal     ventando   nao\n",
              "7     nublado        frio  normal     ventando   sim\n",
              "8  ensolarado      brando    alta nao_ventando   nao\n",
              "9  ensolarado        frio  normal nao_ventando   sim\n",
              "10    chuvoso      brando  normal nao_ventando   sim\n",
              "11 ensolarado      brando  normal     ventando   sim\n",
              "12    nublado      brando    alta     ventando   sim\n",
              "13    nublado      quente  normal nao_ventando   sim\n",
              "14    chuvoso      brando    alta     ventando   nao\n",
              "\n",
              "Naive Bayes Classifier for Discrete Predictors\n",
              "\n",
              "Call:\n",
              "naiveBayes.default(x = X, y = Y, laplace = laplace)\n",
              "\n",
              "A-priori probabilities:\n",
              "Y\n",
              "      nao       sim \n",
              "0.3571429 0.6428571 \n",
              "\n",
              "Conditional probabilities:\n",
              "     previsao\n",
              "Y       chuvoso ensolarado   nublado\n",
              "  nao 0.4000000  0.6000000 0.0000000\n",
              "  sim 0.3333333  0.2222222 0.4444444\n",
              "\n",
              "     temperatura\n",
              "Y        brando      frio    quente\n",
              "  nao 0.4000000 0.2000000 0.4000000\n",
              "  sim 0.4444444 0.3333333 0.2222222\n",
              "\n",
              "     umidade\n",
              "Y          alta    normal\n",
              "  nao 0.8000000 0.2000000\n",
              "  sim 0.3333333 0.6666667\n",
              "\n",
              "     vento\n",
              "Y     nao_ventando  ventando\n",
              "  nao    0.4000000 0.6000000\n",
              "  sim    0.6666667 0.3333333\n",
              "\n"
            ]
          },
          "metadata": {}
        }
      ]
    },
    {
      "cell_type": "code",
      "source": [
        "%%R\n",
        "prever <- read.csv('https://raw.githubusercontent.com/lcbjrrr/data/main/JogarVolei%20-%20predict.csv')\n",
        "previsao<-predict(nb,prever)\n",
        "print(prever )\n",
        "print(\"PREVISAO: \")\n",
        "print(previsao)"
      ],
      "metadata": {
        "colab": {
          "base_uri": "https://localhost:8080/",
          "height": 106
        },
        "id": "6SF7E0Pq34GI",
        "outputId": "5355ed42-11b1-48ed-eed9-3973ecd51225"
      },
      "execution_count": 10,
      "outputs": [
        {
          "output_type": "display_data",
          "data": {
            "text/plain": [
              "  previsao temperatura umidade        vento\n",
              "1  nublado      quente    alta nao_ventando\n",
              "[1] \"PREVISAO: \"\n",
              "[1] sim\n",
              "Levels: nao sim\n"
            ]
          },
          "metadata": {}
        }
      ]
    }
  ]
}