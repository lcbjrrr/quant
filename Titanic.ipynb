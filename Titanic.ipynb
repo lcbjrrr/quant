{
  "nbformat": 4,
  "nbformat_minor": 0,
  "metadata": {
    "kernelspec": {
      "display_name": "Python 2",
      "language": "python",
      "name": "python2"
    },
    "language_info": {
      "codemirror_mode": {
        "name": "ipython",
        "version": 2
      },
      "file_extension": ".py",
      "mimetype": "text/x-python",
      "name": "python",
      "nbconvert_exporter": "python",
      "pygments_lexer": "ipython2",
      "version": "2.7.7"
    },
    "colab": {
      "name": "Titanic.ipynb",
      "provenance": [],
      "include_colab_link": true
    }
  },
  "cells": [
    {
      "cell_type": "markdown",
      "metadata": {
        "id": "view-in-github",
        "colab_type": "text"
      },
      "source": [
        "<a href=\"https://colab.research.google.com/github/lcbjrrr/quant/blob/master/Titanic.ipynb\" target=\"_parent\"><img src=\"https://colab.research.google.com/assets/colab-badge.svg\" alt=\"Open In Colab\"/></a>"
      ]
    },
    {
      "cell_type": "markdown",
      "metadata": {
        "id": "Oq7PBjQi8a2-"
      },
      "source": [
        "\n",
        "# Analise de sobreviventes do Titanic\n",
        "\n"
      ]
    },
    {
      "cell_type": "markdown",
      "metadata": {
        "id": "ZWYvdnb8IC6H"
      },
      "source": [
        "## SUMARIZACAO"
      ]
    },
    {
      "cell_type": "code",
      "metadata": {
        "colab": {
          "base_uri": "https://localhost:8080/"
        },
        "id": "CcNdCTu78W9H",
        "outputId": "2a7315b5-6709-4efa-8485-082b2d077f24"
      },
      "source": [
        "titanic.info()"
      ],
      "execution_count": null,
      "outputs": [
        {
          "output_type": "stream",
          "text": [
            "<class 'pandas.core.frame.DataFrame'>\n",
            "RangeIndex: 891 entries, 0 to 890\n",
            "Data columns (total 12 columns):\n",
            "PassengerId    891 non-null int64\n",
            "Survived       891 non-null int64\n",
            "Pclass         891 non-null int64\n",
            "Name           891 non-null object\n",
            "Sex            891 non-null object\n",
            "Age            714 non-null float64\n",
            "SibSp          891 non-null int64\n",
            "Parch          891 non-null int64\n",
            "Ticket         891 non-null object\n",
            "Fare           891 non-null float64\n",
            "Cabin          204 non-null object\n",
            "Embarked       889 non-null object\n",
            "dtypes: float64(2), int64(5), object(5)\n",
            "memory usage: 83.6+ KB\n"
          ],
          "name": "stdout"
        }
      ]
    },
    {
      "cell_type": "markdown",
      "metadata": {
        "id": "MXJdkqAh8g6I"
      },
      "source": [
        "survival        Sobreviveu ao acidente? (0 = Não; 1 = Sim)\n",
        "\n",
        "pclass          Classe do passageiro (1 = primeira classe; 2 = segunda classe; 3 = terceira classe)\n",
        "\n",
        "name            Nome\n",
        "\n",
        "sex             Gênero\n",
        "\n",
        "age             Idade\n",
        "\n",
        "sibsp           Soma do número irmãos + cunhados + cônjuge\n",
        "\n",
        "parch           Soma do número pais + filhos\n",
        "\n",
        "ticket          Número da passagem\n",
        "\n",
        "fare            Valor da passagem\n",
        "\n",
        "cabin           Número da cabine\n",
        "\n",
        "embarked        Porto de embarque (C = Cherbourg; Q = Queenstown; S = Southampton)\n",
        "\n",
        "Obs: Atente que a informacao de Cabine esta presente em menos de 25% dos registros"
      ]
    },
    {
      "cell_type": "code",
      "metadata": {
        "id": "ucXVzLUXsefm",
        "colab": {
          "base_uri": "https://localhost:8080/",
          "height": 200
        },
        "outputId": "7ae9d0bf-dfa9-4453-8ff3-98e46a6be441"
      },
      "source": [
        "import pandas as pd\n",
        "titanic = pd.read_csv('http://quant-ibmec.group/data/titanic.csv')\n",
        "titanic.head()"
      ],
      "execution_count": null,
      "outputs": [
        {
          "output_type": "execute_result",
          "data": {
            "text/plain": [
              "   PassengerId  Survived  Pclass  \\\n",
              "0            1         0       3   \n",
              "1            2         1       1   \n",
              "2            3         1       3   \n",
              "3            4         1       1   \n",
              "4            5         0       3   \n",
              "\n",
              "                                                Name     Sex   Age  SibSp  \\\n",
              "0                            Braund, Mr. Owen Harris    male  22.0      1   \n",
              "1  Cumings, Mrs. John Bradley (Florence Briggs Th...  female  38.0      1   \n",
              "2                             Heikkinen, Miss. Laina  female  26.0      0   \n",
              "3       Futrelle, Mrs. Jacques Heath (Lily May Peel)  female  35.0      1   \n",
              "4                           Allen, Mr. William Henry    male  35.0      0   \n",
              "\n",
              "   Parch            Ticket     Fare Cabin Embarked  \n",
              "0      0         A/5 21171   7.2500   NaN        S  \n",
              "1      0          PC 17599  71.2833   C85        C  \n",
              "2      0  STON/O2. 3101282   7.9250   NaN        S  \n",
              "3      0            113803  53.1000  C123        S  \n",
              "4      0            373450   8.0500   NaN        S  "
            ],
            "text/html": [
              "<div>\n",
              "<style scoped>\n",
              "    .dataframe tbody tr th:only-of-type {\n",
              "        vertical-align: middle;\n",
              "    }\n",
              "\n",
              "    .dataframe tbody tr th {\n",
              "        vertical-align: top;\n",
              "    }\n",
              "\n",
              "    .dataframe thead th {\n",
              "        text-align: right;\n",
              "    }\n",
              "</style>\n",
              "<table border=\"1\" class=\"dataframe\">\n",
              "  <thead>\n",
              "    <tr style=\"text-align: right;\">\n",
              "      <th></th>\n",
              "      <th>PassengerId</th>\n",
              "      <th>Survived</th>\n",
              "      <th>Pclass</th>\n",
              "      <th>Name</th>\n",
              "      <th>Sex</th>\n",
              "      <th>Age</th>\n",
              "      <th>SibSp</th>\n",
              "      <th>Parch</th>\n",
              "      <th>Ticket</th>\n",
              "      <th>Fare</th>\n",
              "      <th>Cabin</th>\n",
              "      <th>Embarked</th>\n",
              "    </tr>\n",
              "  </thead>\n",
              "  <tbody>\n",
              "    <tr>\n",
              "      <th>0</th>\n",
              "      <td>1</td>\n",
              "      <td>0</td>\n",
              "      <td>3</td>\n",
              "      <td>Braund, Mr. Owen Harris</td>\n",
              "      <td>male</td>\n",
              "      <td>22.0</td>\n",
              "      <td>1</td>\n",
              "      <td>0</td>\n",
              "      <td>A/5 21171</td>\n",
              "      <td>7.2500</td>\n",
              "      <td>NaN</td>\n",
              "      <td>S</td>\n",
              "    </tr>\n",
              "    <tr>\n",
              "      <th>1</th>\n",
              "      <td>2</td>\n",
              "      <td>1</td>\n",
              "      <td>1</td>\n",
              "      <td>Cumings, Mrs. John Bradley (Florence Briggs Th...</td>\n",
              "      <td>female</td>\n",
              "      <td>38.0</td>\n",
              "      <td>1</td>\n",
              "      <td>0</td>\n",
              "      <td>PC 17599</td>\n",
              "      <td>71.2833</td>\n",
              "      <td>C85</td>\n",
              "      <td>C</td>\n",
              "    </tr>\n",
              "    <tr>\n",
              "      <th>2</th>\n",
              "      <td>3</td>\n",
              "      <td>1</td>\n",
              "      <td>3</td>\n",
              "      <td>Heikkinen, Miss. Laina</td>\n",
              "      <td>female</td>\n",
              "      <td>26.0</td>\n",
              "      <td>0</td>\n",
              "      <td>0</td>\n",
              "      <td>STON/O2. 3101282</td>\n",
              "      <td>7.9250</td>\n",
              "      <td>NaN</td>\n",
              "      <td>S</td>\n",
              "    </tr>\n",
              "    <tr>\n",
              "      <th>3</th>\n",
              "      <td>4</td>\n",
              "      <td>1</td>\n",
              "      <td>1</td>\n",
              "      <td>Futrelle, Mrs. Jacques Heath (Lily May Peel)</td>\n",
              "      <td>female</td>\n",
              "      <td>35.0</td>\n",
              "      <td>1</td>\n",
              "      <td>0</td>\n",
              "      <td>113803</td>\n",
              "      <td>53.1000</td>\n",
              "      <td>C123</td>\n",
              "      <td>S</td>\n",
              "    </tr>\n",
              "    <tr>\n",
              "      <th>4</th>\n",
              "      <td>5</td>\n",
              "      <td>0</td>\n",
              "      <td>3</td>\n",
              "      <td>Allen, Mr. William Henry</td>\n",
              "      <td>male</td>\n",
              "      <td>35.0</td>\n",
              "      <td>0</td>\n",
              "      <td>0</td>\n",
              "      <td>373450</td>\n",
              "      <td>8.0500</td>\n",
              "      <td>NaN</td>\n",
              "      <td>S</td>\n",
              "    </tr>\n",
              "  </tbody>\n",
              "</table>\n",
              "</div>"
            ]
          },
          "metadata": {
            "tags": []
          },
          "execution_count": 32
        }
      ]
    },
    {
      "cell_type": "markdown",
      "metadata": {
        "id": "mcGgcCkswwQ9"
      },
      "source": [
        "**Genero por Classe**"
      ]
    },
    {
      "cell_type": "code",
      "metadata": {
        "id": "wWRb2KqRsefp",
        "colab": {
          "base_uri": "https://localhost:8080/"
        },
        "outputId": "fc41abf2-eccf-4b09-83d2-21d9b110a86b"
      },
      "source": [
        "# Separar homens e mulheres\n",
        "tit_homens = titanic[titanic['Sex']=='male']\n",
        "print('Total Homens',len(tit_homens))\n",
        "tit_mulheres = titanic[titanic['Sex']=='female']\n",
        "print('Total Mulheres',len(tit_mulheres))"
      ],
      "execution_count": null,
      "outputs": [
        {
          "output_type": "stream",
          "text": [
            "('Total Homens', 577)\n",
            "('Total Mulheres', 314)\n"
          ],
          "name": "stdout"
        }
      ]
    },
    {
      "cell_type": "code",
      "metadata": {
        "colab": {
          "base_uri": "https://localhost:8080/",
          "height": 170
        },
        "id": "c9Tv_JgWxqkn",
        "outputId": "8bf22b48-b3a1-4cef-abaa-7c9383f1d11b"
      },
      "source": [
        "homens_por_classe = tit_homens.groupby('Pclass').count()['PassengerId']\n",
        "mulheres_por_classe = tit_mulheres.groupby('Pclass').count()['PassengerId']\n",
        "genero_por_classe=pd.DataFrame({\n",
        "    'Homens':homens_por_classe,\n",
        "    'Muleheres':mulheres_por_classe\n",
        "})\n",
        "genero_por_classe"
      ],
      "execution_count": null,
      "outputs": [
        {
          "output_type": "execute_result",
          "data": {
            "text/plain": [
              "        Homens  Muleheres\n",
              "Pclass                   \n",
              "1          122         94\n",
              "2          108         76\n",
              "3          347        144"
            ],
            "text/html": [
              "<div>\n",
              "<style scoped>\n",
              "    .dataframe tbody tr th:only-of-type {\n",
              "        vertical-align: middle;\n",
              "    }\n",
              "\n",
              "    .dataframe tbody tr th {\n",
              "        vertical-align: top;\n",
              "    }\n",
              "\n",
              "    .dataframe thead th {\n",
              "        text-align: right;\n",
              "    }\n",
              "</style>\n",
              "<table border=\"1\" class=\"dataframe\">\n",
              "  <thead>\n",
              "    <tr style=\"text-align: right;\">\n",
              "      <th></th>\n",
              "      <th>Homens</th>\n",
              "      <th>Muleheres</th>\n",
              "    </tr>\n",
              "    <tr>\n",
              "      <th>Pclass</th>\n",
              "      <th></th>\n",
              "      <th></th>\n",
              "    </tr>\n",
              "  </thead>\n",
              "  <tbody>\n",
              "    <tr>\n",
              "      <th>1</th>\n",
              "      <td>122</td>\n",
              "      <td>94</td>\n",
              "    </tr>\n",
              "    <tr>\n",
              "      <th>2</th>\n",
              "      <td>108</td>\n",
              "      <td>76</td>\n",
              "    </tr>\n",
              "    <tr>\n",
              "      <th>3</th>\n",
              "      <td>347</td>\n",
              "      <td>144</td>\n",
              "    </tr>\n",
              "  </tbody>\n",
              "</table>\n",
              "</div>"
            ]
          },
          "metadata": {
            "tags": []
          },
          "execution_count": 11
        }
      ]
    },
    {
      "cell_type": "markdown",
      "metadata": {
        "id": "DL2d2a9l9g4D"
      },
      "source": [
        "Nota-se uma proporcao de homens muito maior com relacao a mulheres na 3a classe. Existe a premissa de mulheres e criancas sao socorridas primeiro em um acidente maritimo, assim nossa analise de genero parece ter sendido. E como obter a informacao de crianca?"
      ]
    },
    {
      "cell_type": "markdown",
      "metadata": {
        "id": "ygaKkxOS-F2W"
      },
      "source": [
        "**Identificando Criancas**"
      ]
    },
    {
      "cell_type": "code",
      "metadata": {
        "colab": {
          "base_uri": "https://localhost:8080/"
        },
        "id": "BeNm2te08UUH",
        "outputId": "c4659f59-6ba8-4e1b-b7cc-3c50507f6fd4"
      },
      "source": [
        "# Criar uma coluna ser maior de idade, True ou False\n",
        "titanic['maior_de_idade'] = titanic['Age'] > 16 \n",
        "# Separar maiores de idade\n",
        "menores_de_idade = titanic[titanic['maior_de_idade']==False]\n",
        "# Criar um coluna Pessoa, se menor de idade, registrar como crianca\n",
        "menores_de_idade['Pessoa'] = 'crianca'\n",
        "# Separar maiores de idade\n",
        "maiores_de_idade = titanic[titanic['maior_de_idade']==True]\n",
        "# Para os maiores, registrar o genero na coluna Pessoa\n",
        "maiores_de_idade['Pessoa'] = maiores_de_idade['Sex'] \n",
        "# Rejuntar o DataFrame\n",
        "titanic = pd.concat([menores_de_idade,maiores_de_idade])\n",
        "mulher_ou_homem = maiores_de_idade.groupby('Sex').count()['PassengerId']\n",
        "print('Criancas', len(menores_de_idade))\n",
        "print(mulher_ou_homem)\n"
      ],
      "execution_count": null,
      "outputs": [
        {
          "output_type": "stream",
          "text": [
            "('Criancas', 277)\n",
            "Sex\n",
            "female    212\n",
            "male      402\n",
            "Name: PassengerId, dtype: int64\n"
          ],
          "name": "stdout"
        },
        {
          "output_type": "stream",
          "text": [
            "/usr/local/lib/python2.7/dist-packages/ipykernel_launcher.py:3: SettingWithCopyWarning: \n",
            "A value is trying to be set on a copy of a slice from a DataFrame.\n",
            "Try using .loc[row_indexer,col_indexer] = value instead\n",
            "\n",
            "See the caveats in the documentation: http://pandas.pydata.org/pandas-docs/stable/indexing.html#indexing-view-versus-copy\n",
            "  This is separate from the ipykernel package so we can avoid doing imports until\n",
            "/usr/local/lib/python2.7/dist-packages/ipykernel_launcher.py:5: SettingWithCopyWarning: \n",
            "A value is trying to be set on a copy of a slice from a DataFrame.\n",
            "Try using .loc[row_indexer,col_indexer] = value instead\n",
            "\n",
            "See the caveats in the documentation: http://pandas.pydata.org/pandas-docs/stable/indexing.html#indexing-view-versus-copy\n",
            "  \"\"\"\n"
          ],
          "name": "stderr"
        }
      ]
    },
    {
      "cell_type": "code",
      "metadata": {
        "colab": {
          "base_uri": "https://localhost:8080/",
          "height": 170
        },
        "id": "t6HhthJiEbWp",
        "outputId": "ccc4f978-3db9-4d28-aaa0-353107e8b1fe"
      },
      "source": [
        "# Separar por classe\n",
        "classe_1 = titanic[titanic['Pclass']==1]\n",
        "classe_2 = titanic[titanic['Pclass']==2]\n",
        "classe_3 = titanic[titanic['Pclass']==3]\n",
        "# Agrupar por homem, mulher ou crianca\n",
        "pessoa_por_1aclasse = classe_1.groupby('Pessoa').count()['PassengerId']\n",
        "pessoa_por_2aclasse = classe_2.groupby('Pessoa').count()['PassengerId']\n",
        "pessoa_por_3aclasse = classe_3.groupby('Pessoa').count()['PassengerId']\n",
        "pessoa_por_classe = pd.DataFrame({'1a Classe': pessoa_por_1aclasse,\n",
        "                                 '2a Classe': pessoa_por_2aclasse,\n",
        "                                 '3a Classe': pessoa_por_3aclasse})\n",
        "pessoa_por_classe"
      ],
      "execution_count": null,
      "outputs": [
        {
          "output_type": "execute_result",
          "data": {
            "text/plain": [
              "         1a Classe  2a Classe  3a Classe\n",
              "Pessoa                                  \n",
              "crianca         39         32        206\n",
              "female          79         64         69\n",
              "male            98         88        216"
            ],
            "text/html": [
              "<div>\n",
              "<style scoped>\n",
              "    .dataframe tbody tr th:only-of-type {\n",
              "        vertical-align: middle;\n",
              "    }\n",
              "\n",
              "    .dataframe tbody tr th {\n",
              "        vertical-align: top;\n",
              "    }\n",
              "\n",
              "    .dataframe thead th {\n",
              "        text-align: right;\n",
              "    }\n",
              "</style>\n",
              "<table border=\"1\" class=\"dataframe\">\n",
              "  <thead>\n",
              "    <tr style=\"text-align: right;\">\n",
              "      <th></th>\n",
              "      <th>1a Classe</th>\n",
              "      <th>2a Classe</th>\n",
              "      <th>3a Classe</th>\n",
              "    </tr>\n",
              "    <tr>\n",
              "      <th>Pessoa</th>\n",
              "      <th></th>\n",
              "      <th></th>\n",
              "      <th></th>\n",
              "    </tr>\n",
              "  </thead>\n",
              "  <tbody>\n",
              "    <tr>\n",
              "      <th>crianca</th>\n",
              "      <td>39</td>\n",
              "      <td>32</td>\n",
              "      <td>206</td>\n",
              "    </tr>\n",
              "    <tr>\n",
              "      <th>female</th>\n",
              "      <td>79</td>\n",
              "      <td>64</td>\n",
              "      <td>69</td>\n",
              "    </tr>\n",
              "    <tr>\n",
              "      <th>male</th>\n",
              "      <td>98</td>\n",
              "      <td>88</td>\n",
              "      <td>216</td>\n",
              "    </tr>\n",
              "  </tbody>\n",
              "</table>\n",
              "</div>"
            ]
          },
          "metadata": {
            "tags": []
          },
          "execution_count": 37
        }
      ]
    },
    {
      "cell_type": "markdown",
      "metadata": {
        "id": "rfJBFqDqKouI"
      },
      "source": [
        "Diferentemente do que talvez se espera-se, um numero muito grande de criancas. Possivelmente em 1912, a familias nao despendiam grandes gastos com suas criancas."
      ]
    },
    {
      "cell_type": "markdown",
      "metadata": {
        "id": "DwXC84GCJpPS"
      },
      "source": [
        "**Sobreviventes por Classe e tipo de Pessoa**"
      ]
    },
    {
      "cell_type": "code",
      "metadata": {
        "colab": {
          "base_uri": "https://localhost:8080/",
          "height": 170
        },
        "id": "JX6URAqnKNXl",
        "outputId": "584bfff5-cd3a-4364-df35-a208e30fc84a"
      },
      "source": [
        "# Soma da quantidade de sobrevivente por Classe:\n",
        "sobreviventes_1aclasse = classe_1.groupby('Pessoa').sum()['Survived']\n",
        "sobreviventes_2aclasse = classe_2.groupby('Pessoa').sum()['Survived']\n",
        "sobreviventes_3aclasse = classe_3.groupby('Pessoa').sum()['Survived']\n",
        "sobreviventes_por_classe = pd.DataFrame({ '1a Classe': sobreviventes_1aclasse/pessoa_por_1aclasse,\n",
        "                                          '2a Classe': sobreviventes_2aclasse/pessoa_por_2aclasse,\n",
        "                                          '3a Classe': sobreviventes_3aclasse/pessoa_por_3aclasse})\n",
        "sobreviventes_por_classe"
      ],
      "execution_count": null,
      "outputs": [
        {
          "output_type": "execute_result",
          "data": {
            "text/plain": [
              "         1a Classe  2a Classe  3a Classe\n",
              "Pessoa                                  \n",
              "crianca   0.564103   0.718750   0.300971\n",
              "female    0.974684   0.906250   0.420290\n",
              "male      0.377551   0.068182   0.129630"
            ],
            "text/html": [
              "<div>\n",
              "<style scoped>\n",
              "    .dataframe tbody tr th:only-of-type {\n",
              "        vertical-align: middle;\n",
              "    }\n",
              "\n",
              "    .dataframe tbody tr th {\n",
              "        vertical-align: top;\n",
              "    }\n",
              "\n",
              "    .dataframe thead th {\n",
              "        text-align: right;\n",
              "    }\n",
              "</style>\n",
              "<table border=\"1\" class=\"dataframe\">\n",
              "  <thead>\n",
              "    <tr style=\"text-align: right;\">\n",
              "      <th></th>\n",
              "      <th>1a Classe</th>\n",
              "      <th>2a Classe</th>\n",
              "      <th>3a Classe</th>\n",
              "    </tr>\n",
              "    <tr>\n",
              "      <th>Pessoa</th>\n",
              "      <th></th>\n",
              "      <th></th>\n",
              "      <th></th>\n",
              "    </tr>\n",
              "  </thead>\n",
              "  <tbody>\n",
              "    <tr>\n",
              "      <th>crianca</th>\n",
              "      <td>0.564103</td>\n",
              "      <td>0.718750</td>\n",
              "      <td>0.300971</td>\n",
              "    </tr>\n",
              "    <tr>\n",
              "      <th>female</th>\n",
              "      <td>0.974684</td>\n",
              "      <td>0.906250</td>\n",
              "      <td>0.420290</td>\n",
              "    </tr>\n",
              "    <tr>\n",
              "      <th>male</th>\n",
              "      <td>0.377551</td>\n",
              "      <td>0.068182</td>\n",
              "      <td>0.129630</td>\n",
              "    </tr>\n",
              "  </tbody>\n",
              "</table>\n",
              "</div>"
            ]
          },
          "metadata": {
            "tags": []
          },
          "execution_count": 41
        }
      ]
    },
    {
      "cell_type": "markdown",
      "metadata": {
        "id": "BK6u4FpBKscP"
      },
      "source": [
        "Mulheres da 1a e 2a classe com uma taxa de sobrevivencia superior a 90%. Ao olharmos para 3a classe essa taxa cai por menos da metade. Vamos ver a seguir que a diferenca de preco da 2a para 3a classe nao era tao grande. As criancas da 2a classe com uma taxa de sobrevivencia maior ate que a 1a classe. Os homens de maneira geral tiveram uma taxa de sobrevivencia baixa, e sendo das classes mais baixas, 2a e 3a, ainda pior essa taxa."
      ]
    },
    {
      "cell_type": "markdown",
      "metadata": {
        "id": "H5FGhhXKGeSb"
      },
      "source": [
        "**Media de Preco por Classe**"
      ]
    },
    {
      "cell_type": "code",
      "metadata": {
        "colab": {
          "base_uri": "https://localhost:8080/"
        },
        "id": "4b97OsdHGhIh",
        "outputId": "6c955a8f-6a3e-4255-9eac-622393966a98"
      },
      "source": [
        "preco_por_classe = titanic.groupby('Pclass').mean()['Fare']\n",
        "preco_por_classe"
      ],
      "execution_count": null,
      "outputs": [
        {
          "output_type": "execute_result",
          "data": {
            "text/plain": [
              "Pclass\n",
              "1    84.154687\n",
              "2    20.662183\n",
              "3    13.675550\n",
              "Name: Fare, dtype: float64"
            ]
          },
          "metadata": {
            "tags": []
          },
          "execution_count": 38
        }
      ]
    },
    {
      "cell_type": "markdown",
      "metadata": {
        "id": "w6mh0sDZHSeQ"
      },
      "source": [
        "A 1a classe, sendo 3-4x mais cara que demais classe, dentro do esperado. A diferenca de preco entre 2a e 3a classe parece nao ser tao grande, cerca de 7 dolares. No entanto vale a atentar que a inflacao desses valores correspondem a cerca de 30x o valor ou seja estamos falando de uma diferenca de preco de 210 usd"
      ]
    },
    {
      "cell_type": "markdown",
      "metadata": {
        "id": "7K0ErzPDLsO-"
      },
      "source": [
        "## ANALISE GRAFICA"
      ]
    },
    {
      "cell_type": "code",
      "metadata": {
        "colab": {
          "base_uri": "https://localhost:8080/",
          "height": 395
        },
        "id": "5BqRrpQRL3F-",
        "outputId": "cd63f508-1bd0-4ef6-d013-0a6e5c0c4d9d"
      },
      "source": [
        "import pandas as pd\n",
        "titanic = pd.read_csv('http://quant-ibmec.group/data/titanic.csv')\n",
        "titanic['maior_de_idade'] = titanic['Age'] > 16 \n",
        "menores_de_idade = titanic[titanic['maior_de_idade']==False]\n",
        "menores_de_idade['Pessoa'] = 'crianca'\n",
        "maiores_de_idade = titanic[titanic['maior_de_idade']==True]\n",
        "maiores_de_idade['Pessoa'] = maiores_de_idade['Sex'] \n",
        "titanic = pd.concat([menores_de_idade,maiores_de_idade])\n",
        "mulher_ou_homem = maiores_de_idade.groupby('Sex').count()['PassengerId']\n",
        "titanic.head()"
      ],
      "execution_count": null,
      "outputs": [
        {
          "output_type": "stream",
          "text": [
            "/usr/local/lib/python2.7/dist-packages/ipykernel_launcher.py:5: SettingWithCopyWarning: \n",
            "A value is trying to be set on a copy of a slice from a DataFrame.\n",
            "Try using .loc[row_indexer,col_indexer] = value instead\n",
            "\n",
            "See the caveats in the documentation: http://pandas.pydata.org/pandas-docs/stable/indexing.html#indexing-view-versus-copy\n",
            "  \"\"\"\n",
            "/usr/local/lib/python2.7/dist-packages/ipykernel_launcher.py:7: SettingWithCopyWarning: \n",
            "A value is trying to be set on a copy of a slice from a DataFrame.\n",
            "Try using .loc[row_indexer,col_indexer] = value instead\n",
            "\n",
            "See the caveats in the documentation: http://pandas.pydata.org/pandas-docs/stable/indexing.html#indexing-view-versus-copy\n",
            "  import sys\n"
          ],
          "name": "stderr"
        },
        {
          "output_type": "execute_result",
          "data": {
            "text/plain": [
              "    PassengerId  Survived  Pclass                                  Name  \\\n",
              "5             6         0       3                      Moran, Mr. James   \n",
              "7             8         0       3        Palsson, Master. Gosta Leonard   \n",
              "9            10         1       2   Nasser, Mrs. Nicholas (Adele Achem)   \n",
              "10           11         1       3       Sandstrom, Miss. Marguerite Rut   \n",
              "14           15         0       3  Vestrom, Miss. Hulda Amanda Adolfina   \n",
              "\n",
              "       Sex   Age  SibSp  Parch   Ticket     Fare Cabin Embarked  \\\n",
              "5     male   NaN      0      0   330877   8.4583   NaN        Q   \n",
              "7     male   2.0      3      1   349909  21.0750   NaN        S   \n",
              "9   female  14.0      1      0   237736  30.0708   NaN        C   \n",
              "10  female   4.0      1      1  PP 9549  16.7000    G6        S   \n",
              "14  female  14.0      0      0   350406   7.8542   NaN        S   \n",
              "\n",
              "    maior_de_idade   Pessoa  \n",
              "5            False  crianca  \n",
              "7            False  crianca  \n",
              "9            False  crianca  \n",
              "10           False  crianca  \n",
              "14           False  crianca  "
            ],
            "text/html": [
              "<div>\n",
              "<style scoped>\n",
              "    .dataframe tbody tr th:only-of-type {\n",
              "        vertical-align: middle;\n",
              "    }\n",
              "\n",
              "    .dataframe tbody tr th {\n",
              "        vertical-align: top;\n",
              "    }\n",
              "\n",
              "    .dataframe thead th {\n",
              "        text-align: right;\n",
              "    }\n",
              "</style>\n",
              "<table border=\"1\" class=\"dataframe\">\n",
              "  <thead>\n",
              "    <tr style=\"text-align: right;\">\n",
              "      <th></th>\n",
              "      <th>PassengerId</th>\n",
              "      <th>Survived</th>\n",
              "      <th>Pclass</th>\n",
              "      <th>Name</th>\n",
              "      <th>Sex</th>\n",
              "      <th>Age</th>\n",
              "      <th>SibSp</th>\n",
              "      <th>Parch</th>\n",
              "      <th>Ticket</th>\n",
              "      <th>Fare</th>\n",
              "      <th>Cabin</th>\n",
              "      <th>Embarked</th>\n",
              "      <th>maior_de_idade</th>\n",
              "      <th>Pessoa</th>\n",
              "    </tr>\n",
              "  </thead>\n",
              "  <tbody>\n",
              "    <tr>\n",
              "      <th>5</th>\n",
              "      <td>6</td>\n",
              "      <td>0</td>\n",
              "      <td>3</td>\n",
              "      <td>Moran, Mr. James</td>\n",
              "      <td>male</td>\n",
              "      <td>NaN</td>\n",
              "      <td>0</td>\n",
              "      <td>0</td>\n",
              "      <td>330877</td>\n",
              "      <td>8.4583</td>\n",
              "      <td>NaN</td>\n",
              "      <td>Q</td>\n",
              "      <td>False</td>\n",
              "      <td>crianca</td>\n",
              "    </tr>\n",
              "    <tr>\n",
              "      <th>7</th>\n",
              "      <td>8</td>\n",
              "      <td>0</td>\n",
              "      <td>3</td>\n",
              "      <td>Palsson, Master. Gosta Leonard</td>\n",
              "      <td>male</td>\n",
              "      <td>2.0</td>\n",
              "      <td>3</td>\n",
              "      <td>1</td>\n",
              "      <td>349909</td>\n",
              "      <td>21.0750</td>\n",
              "      <td>NaN</td>\n",
              "      <td>S</td>\n",
              "      <td>False</td>\n",
              "      <td>crianca</td>\n",
              "    </tr>\n",
              "    <tr>\n",
              "      <th>9</th>\n",
              "      <td>10</td>\n",
              "      <td>1</td>\n",
              "      <td>2</td>\n",
              "      <td>Nasser, Mrs. Nicholas (Adele Achem)</td>\n",
              "      <td>female</td>\n",
              "      <td>14.0</td>\n",
              "      <td>1</td>\n",
              "      <td>0</td>\n",
              "      <td>237736</td>\n",
              "      <td>30.0708</td>\n",
              "      <td>NaN</td>\n",
              "      <td>C</td>\n",
              "      <td>False</td>\n",
              "      <td>crianca</td>\n",
              "    </tr>\n",
              "    <tr>\n",
              "      <th>10</th>\n",
              "      <td>11</td>\n",
              "      <td>1</td>\n",
              "      <td>3</td>\n",
              "      <td>Sandstrom, Miss. Marguerite Rut</td>\n",
              "      <td>female</td>\n",
              "      <td>4.0</td>\n",
              "      <td>1</td>\n",
              "      <td>1</td>\n",
              "      <td>PP 9549</td>\n",
              "      <td>16.7000</td>\n",
              "      <td>G6</td>\n",
              "      <td>S</td>\n",
              "      <td>False</td>\n",
              "      <td>crianca</td>\n",
              "    </tr>\n",
              "    <tr>\n",
              "      <th>14</th>\n",
              "      <td>15</td>\n",
              "      <td>0</td>\n",
              "      <td>3</td>\n",
              "      <td>Vestrom, Miss. Hulda Amanda Adolfina</td>\n",
              "      <td>female</td>\n",
              "      <td>14.0</td>\n",
              "      <td>0</td>\n",
              "      <td>0</td>\n",
              "      <td>350406</td>\n",
              "      <td>7.8542</td>\n",
              "      <td>NaN</td>\n",
              "      <td>S</td>\n",
              "      <td>False</td>\n",
              "      <td>crianca</td>\n",
              "    </tr>\n",
              "  </tbody>\n",
              "</table>\n",
              "</div>"
            ]
          },
          "metadata": {
            "tags": []
          },
          "execution_count": 1
        }
      ]
    },
    {
      "cell_type": "markdown",
      "metadata": {
        "id": "NtXeWsl7RlLT"
      },
      "source": [
        "**Precos Maximos e Minimos**"
      ]
    },
    {
      "cell_type": "code",
      "metadata": {
        "colab": {
          "base_uri": "https://localhost:8080/"
        },
        "id": "Qh-AxOJtRkLu",
        "outputId": "c5d54993-60ee-4889-8910-7e3bc145a90c"
      },
      "source": [
        "preco_max=titanic['Fare'].max()\n",
        "preco_min=titanic['Fare'].min()\n",
        "print('Preco Maximo',preco_max)\n",
        "print('Preco Minimo',preco_min)\n",
        "sem_gratis = titanic[titanic['Fare']>0]\n",
        "preco_min=sem_gratis['Fare'].min()\n",
        "print('Preco Minimo sem Gratis',preco_min)\n"
      ],
      "execution_count": null,
      "outputs": [
        {
          "output_type": "stream",
          "text": [
            "('Preco Maximo', 512.3292)\n",
            "('Preco Minimo', 0.0)\n",
            "('Preco Minimo sem Gratis', 4.0125)\n"
          ],
          "name": "stdout"
        }
      ]
    },
    {
      "cell_type": "markdown",
      "metadata": {
        "id": "debThoqPSJyA"
      },
      "source": [
        "Havaimoos ja visto o preco medio por classe. Mas a variacao eh bastante grande dentro da mesma classe. Os precos de passagem chegam a mais de 500 e algumas passagens gratuitas. Eliminando-se essas, o menor preco de passagem era de menos de 50, corrigida a inflacao, cerca de $150 usd nos dias de hoje. "
      ]
    },
    {
      "cell_type": "markdown",
      "metadata": {
        "id": "l5NdwIvTQzMn"
      },
      "source": [
        "**Proporcoes de Sobervientes**"
      ]
    },
    {
      "cell_type": "code",
      "metadata": {
        "colab": {
          "base_uri": "https://localhost:8080/"
        },
        "id": "ejM5GWVHRZQZ",
        "outputId": "a841565c-7cc4-4967-e1c1-3f4d3839326a"
      },
      "source": [
        "sobreviventes = titanic[titanic['Survived']==1]\n",
        "sobrev_por_pessoa = sobreviventes.groupby('Pessoa').count()['PassengerId']\n",
        "sobrev_por_pessoa/len(sobreviventes)\n"
      ],
      "execution_count": null,
      "outputs": [
        {
          "output_type": "execute_result",
          "data": {
            "text/plain": [
              "Pessoa\n",
              "crianca    0.312865\n",
              "female     0.479532\n",
              "male       0.207602\n",
              "Name: PassengerId, dtype: float64"
            ]
          },
          "metadata": {
            "tags": []
          },
          "execution_count": 17
        }
      ]
    },
    {
      "cell_type": "code",
      "metadata": {
        "colab": {
          "base_uri": "https://localhost:8080/",
          "height": 488
        },
        "id": "kN3BgaLDSI99",
        "outputId": "44ff13aa-c571-487f-c60f-9549ce44b8ca"
      },
      "source": [
        "sobrev_por_pessoa.plot(kind='pie',figsize=(8,8))"
      ],
      "execution_count": null,
      "outputs": [
        {
          "output_type": "execute_result",
          "data": {
            "text/plain": [
              "<matplotlib.axes._subplots.AxesSubplot at 0x7f3eb3d088d0>"
            ]
          },
          "metadata": {
            "tags": []
          },
          "execution_count": 15
        },
        {
          "output_type": "display_data",
          "data": {
            "image/png": "[encoded data removed]",
            "text/plain": [
              "<Figure size 576x576 with 1 Axes>"
            ]
          },
          "metadata": {
            "tags": []
          }
        }
      ]
    },
    {
      "cell_type": "markdown",
      "metadata": {
        "id": "7H4dS2PYSFfk"
      },
      "source": [
        "Visualizamos graficamente, as proporcoes das taxas de soberviventes que vimos na analise anterior. Quase 50% dos sobreviventes sao mulheres (note que isto eh diferente de que 50% da mulheres sobreviveram, veremos essa taxa na sequencia). As criancas corresponderam a 30% dos sobreviventes. E apenas 20% dos sobreviventes sao homens."
      ]
    },
    {
      "cell_type": "code",
      "metadata": {
        "colab": {
          "base_uri": "https://localhost:8080/"
        },
        "id": "VEFIwvklTSH3",
        "outputId": "af140e2e-8e77-4984-f219-963fc7276e03"
      },
      "source": [
        "tot_sobrev_por_pessoa = titanic.groupby('Pessoa').sum()['Survived']\n",
        "qtd_por_pessoa =  titanic.groupby('Pessoa').count()['PassengerId']\n",
        "perc_sobrev_por_pessoa = tot_sobrev_por_pessoa/qtd_por_pessoa\n",
        "perc_sobrev_por_pessoa"
      ],
      "execution_count": null,
      "outputs": [
        {
          "output_type": "execute_result",
          "data": {
            "text/plain": [
              "Pessoa\n",
              "crianca    0.386282\n",
              "female     0.773585\n",
              "male       0.176617\n",
              "dtype: float64"
            ]
          },
          "metadata": {
            "tags": []
          },
          "execution_count": 23
        }
      ]
    },
    {
      "cell_type": "code",
      "metadata": {
        "colab": {
          "base_uri": "https://localhost:8080/",
          "height": 543
        },
        "id": "V9DJ9zfjTq74",
        "outputId": "a20c3d1e-f993-4022-e86f-2ba9be11f10b"
      },
      "source": [
        "perc_sobrev_por_pessoa.plot(kind='bar',figsize=(8,8))"
      ],
      "execution_count": null,
      "outputs": [
        {
          "output_type": "execute_result",
          "data": {
            "text/plain": [
              "<matplotlib.axes._subplots.AxesSubplot at 0x7f3eb3b8a550>"
            ]
          },
          "metadata": {
            "tags": []
          },
          "execution_count": 24
        },
        {
          "output_type": "display_data",
          "data": {
            "image/png": "[encoded data removed]",
            "text/plain": [
              "<Figure size 576x576 with 1 Axes>"
            ]
          },
          "metadata": {
            "tags": [],
            "needs_background": "light"
          }
        }
      ]
    },
    {
      "cell_type": "markdown",
      "metadata": {
        "id": "GmQOhkkhUoe1"
      },
      "source": [
        "Agora comparativamente, em um grafico de barras, temos um taxa de sobrevivencia de mulheers de quase 80%, de criancas de cerca de 40% , e menos de 20% para homens."
      ]
    },
    {
      "cell_type": "markdown",
      "metadata": {
        "id": "o1titqC8LupJ"
      },
      "source": [
        "**Visualizando taxa de sobrevivencia graficamente**"
      ]
    },
    {
      "cell_type": "code",
      "metadata": {
        "colab": {
          "base_uri": "https://localhost:8080/",
          "height": 502
        },
        "id": "8in678DyJI3j",
        "outputId": "fca68b8c-d872-43b5-97cc-8d513ca5941d"
      },
      "source": [
        "classe_1 = titanic[titanic['Pclass']==1]\n",
        "classe_2 = titanic[titanic['Pclass']==2]\n",
        "classe_3 = titanic[titanic['Pclass']==3]\n",
        "pessoa_por_1aclasse = classe_1.groupby('Pessoa').count()['PassengerId']\n",
        "pessoa_por_2aclasse = classe_2.groupby('Pessoa').count()['PassengerId']\n",
        "pessoa_por_3aclasse = classe_3.groupby('Pessoa').count()['PassengerId']\n",
        "pessoa_por_classe = pd.DataFrame({'1a Classe': pessoa_por_1aclasse,\n",
        "                                 '2a Classe': pessoa_por_2aclasse,\n",
        "                                 '3a Classe': pessoa_por_3aclasse})\n",
        "sobreviventes_1aclasse = classe_1.groupby('Pessoa').sum()['Survived']\n",
        "sobreviventes_2aclasse = classe_2.groupby('Pessoa').sum()['Survived']\n",
        "sobreviventes_3aclasse = classe_3.groupby('Pessoa').sum()['Survived']\n",
        "sobreviventes_por_classe = pd.DataFrame({ '1a Classe': sobreviventes_1aclasse/pessoa_por_1aclasse,\n",
        "                                          '2a Classe': sobreviventes_2aclasse/pessoa_por_2aclasse,\n",
        "                                          '3a Classe': sobreviventes_3aclasse/pessoa_por_3aclasse})\n",
        "sobreviventes_por_classe.T.plot(figsize=(16,8))"
      ],
      "execution_count": null,
      "outputs": [
        {
          "output_type": "execute_result",
          "data": {
            "text/plain": [
              "<matplotlib.axes._subplots.AxesSubplot at 0x7f3eb824ac10>"
            ]
          },
          "metadata": {
            "tags": []
          },
          "execution_count": 7
        },
        {
          "output_type": "display_data",
          "data": {
            "image/png": "[encoded data removed]",
            "text/plain": [
              "<Figure size 1152x576 with 1 Axes>"
            ]
          },
          "metadata": {
            "tags": [],
            "needs_background": "light"
          }
        }
      ]
    },
    {
      "cell_type": "markdown",
      "metadata": {
        "id": "dJyLdjHnNAwb"
      },
      "source": [
        "A informacao que havviamos visto na forma de tabela na analise anterior, visto de maneira grafica, no caso um grafico linha, percebemos a tendencia da maior probabilidade de sovivencia nas 1a e 2a classe, consequentemente a queda dessa taxa para a 3a classe. Percebe-se ainda a taxa de sobrevivencia de mulheres e criancas muito mais alta que de homens."
      ]
    },
    {
      "cell_type": "markdown",
      "metadata": {
        "id": "kq8BLJTzNjq3"
      },
      "source": [
        "**Comparando Classe por Cidade de embarque**"
      ]
    },
    {
      "cell_type": "code",
      "metadata": {
        "colab": {
          "base_uri": "https://localhost:8080/",
          "height": 170
        },
        "id": "kz6vMhZ-NtVJ",
        "outputId": "f798f8ba-dc92-4bb7-e227-dd88e01aa81f"
      },
      "source": [
        "cidade_por_1aclasse = classe_1.groupby('Embarked').count()['PassengerId']\n",
        "cidade_por_2aclasse = classe_2.groupby('Embarked').count()['PassengerId']\n",
        "cidade_por_3aclasse = classe_3.groupby('Embarked').count()['PassengerId']\n",
        "cidade_por_classe = pd.DataFrame({'1a Classe': cidade_por_1aclasse,\n",
        "                                  '2a Classe': cidade_por_2aclasse,\n",
        "                                  '3a Classe': cidade_por_3aclasse})\n",
        "cidade_por_classe"
      ],
      "execution_count": null,
      "outputs": [
        {
          "output_type": "execute_result",
          "data": {
            "text/plain": [
              "          1a Classe  2a Classe  3a Classe\n",
              "Embarked                                 \n",
              "C                85         17         66\n",
              "Q                 2          3         72\n",
              "S               127        164        353"
            ],
            "text/html": [
              "<div>\n",
              "<style scoped>\n",
              "    .dataframe tbody tr th:only-of-type {\n",
              "        vertical-align: middle;\n",
              "    }\n",
              "\n",
              "    .dataframe tbody tr th {\n",
              "        vertical-align: top;\n",
              "    }\n",
              "\n",
              "    .dataframe thead th {\n",
              "        text-align: right;\n",
              "    }\n",
              "</style>\n",
              "<table border=\"1\" class=\"dataframe\">\n",
              "  <thead>\n",
              "    <tr style=\"text-align: right;\">\n",
              "      <th></th>\n",
              "      <th>1a Classe</th>\n",
              "      <th>2a Classe</th>\n",
              "      <th>3a Classe</th>\n",
              "    </tr>\n",
              "    <tr>\n",
              "      <th>Embarked</th>\n",
              "      <th></th>\n",
              "      <th></th>\n",
              "      <th></th>\n",
              "    </tr>\n",
              "  </thead>\n",
              "  <tbody>\n",
              "    <tr>\n",
              "      <th>C</th>\n",
              "      <td>85</td>\n",
              "      <td>17</td>\n",
              "      <td>66</td>\n",
              "    </tr>\n",
              "    <tr>\n",
              "      <th>Q</th>\n",
              "      <td>2</td>\n",
              "      <td>3</td>\n",
              "      <td>72</td>\n",
              "    </tr>\n",
              "    <tr>\n",
              "      <th>S</th>\n",
              "      <td>127</td>\n",
              "      <td>164</td>\n",
              "      <td>353</td>\n",
              "    </tr>\n",
              "  </tbody>\n",
              "</table>\n",
              "</div>"
            ]
          },
          "metadata": {
            "tags": []
          },
          "execution_count": 8
        }
      ]
    },
    {
      "cell_type": "code",
      "metadata": {
        "colab": {
          "base_uri": "https://localhost:8080/",
          "height": 513
        },
        "id": "hkv6OxcuOdqp",
        "outputId": "97c5ece4-6d1d-4ad9-f676-abb8ea93b344"
      },
      "source": [
        "cidade_por_classe.plot(kind='bar',figsize=(16,8))"
      ],
      "execution_count": null,
      "outputs": [
        {
          "output_type": "execute_result",
          "data": {
            "text/plain": [
              "<matplotlib.axes._subplots.AxesSubplot at 0x7f3eb816ef10>"
            ]
          },
          "metadata": {
            "tags": []
          },
          "execution_count": 10
        },
        {
          "output_type": "display_data",
          "data": {
            "image/png": "[encoded data removed]",
            "text/plain": [
              "<Figure size 1152x576 with 1 Axes>"
            ]
          },
          "metadata": {
            "tags": [],
            "needs_background": "light"
          }
        }
      ]
    },
    {
      "cell_type": "markdown",
      "metadata": {
        "id": "Z9uKR2hfPqAh"
      },
      "source": [
        "Perecbe-se que proporcialmente significativo de passagens de 1a classe foram compradas por cidadaos de (C)herbourg na Franca. Ja os habitantes de (Q)ueenstown na Irlanda. E a grande maioria das passagens foi emitida em (S)outhampton na Inglaterra, seguindo a proporcao geral de classes.\n"
      ]
    },
    {
      "cell_type": "markdown",
      "metadata": {
        "id": "3z8FEXtSVH0z"
      },
      "source": [
        "**Preco por Andar/Deck da Cabine**"
      ]
    },
    {
      "cell_type": "code",
      "metadata": {
        "colab": {
          "base_uri": "https://localhost:8080/"
        },
        "id": "Cg9A9m9EVTQt",
        "outputId": "7a6e7eb7-1098-494d-ec3e-0ae74ec5fd23"
      },
      "source": [
        "def primeira_letra(palavra):\n",
        "  letra=''\n",
        "  if len(palavra)>0:\n",
        "    letra=palavra[0:1]\n",
        "  return letra\n",
        "\n",
        "titanic['Andar'] = titanic['Cabin'].astype(str).apply(primeira_letra)\n",
        "preco_por_andar = titanic.groupby('Andar').mean()['Fare']\n",
        "preco_por_andar"
      ],
      "execution_count": null,
      "outputs": [
        {
          "output_type": "execute_result",
          "data": {
            "text/plain": [
              "Andar\n",
              "A     39.623887\n",
              "B    113.505764\n",
              "C    100.151341\n",
              "D     57.244576\n",
              "E     46.026694\n",
              "F     18.696792\n",
              "G     13.581250\n",
              "T     35.500000\n",
              "n     19.157325\n",
              "Name: Fare, dtype: float64"
            ]
          },
          "metadata": {
            "tags": []
          },
          "execution_count": 35
        }
      ]
    },
    {
      "cell_type": "code",
      "metadata": {
        "colab": {
          "base_uri": "https://localhost:8080/",
          "height": 513
        },
        "id": "0Da_i52IXrY2",
        "outputId": "fcd4fd0f-0112-4b4f-9a9f-fda002e4b185"
      },
      "source": [
        "preco_por_andar.plot(kind='bar',figsize=(16,8))"
      ],
      "execution_count": null,
      "outputs": [
        {
          "output_type": "execute_result",
          "data": {
            "text/plain": [
              "<matplotlib.axes._subplots.AxesSubplot at 0x7f3eb39bf6d0>"
            ]
          },
          "metadata": {
            "tags": []
          },
          "execution_count": 38
        },
        {
          "output_type": "display_data",
          "data": {
            "image/png": "[encoded data removed]",
            "text/plain": [
              "<Figure size 1152x576 with 1 Axes>"
            ]
          },
          "metadata": {
            "tags": [],
            "needs_background": "light"
          }
        }
      ]
    },
    {
      "cell_type": "markdown",
      "metadata": {
        "id": "gx8i1xieYa7V"
      },
      "source": [
        "![foto](https://skife.org/images/2009-12-31-bulkheads_ship_bulkhead_diagram.gif)"
      ]
    },
    {
      "cell_type": "markdown",
      "metadata": {
        "id": "0CxUZ6UjYeth"
      },
      "source": [
        "No deck superior, A, nao havia a 1a classe, assim mesmo sendo um andar alto nao tinha um preco tao caro. As primeiras classes se localizavam nos decks B e C, assim tinham preco mais caro. E preco segue entao decaindo para os decks D, E, F e G. Obs: o codigo T eh um erro de registro da base, e o 'n' referem-se aos registos que nao disponham da informacao de cabine."
      ]
    },
    {
      "cell_type": "markdown",
      "metadata": {
        "id": "TpdwF6H5RHaL"
      },
      "source": [
        "**O impacto de viajar sozinho**"
      ]
    },
    {
      "cell_type": "code",
      "metadata": {
        "colab": {
          "base_uri": "https://localhost:8080/"
        },
        "id": "fQlXz3TZRKLZ",
        "outputId": "16bc74cf-1ddf-4df9-c6c4-04bd85a31337"
      },
      "source": [
        "# O campos SibSp indica quantidade de acompanhantes que nao sao descendentes diretos, como imaos ou conjuges. E\tParch, indica descedentes diretos, como pais e filhos.\n",
        "# Assim quem tem essas duas colunas como zero esta viajando sozinho.\n",
        "titanic['Acompanhantes']= titanic['SibSp']+\ttitanic['Parch']\n",
        "titanic['Sozinho'] = titanic['Acompanhantes']==0\n",
        "tot_sobrev_por_sozinho = titanic.groupby('Sozinho').sum()['Survived']\n",
        "qtd_por_sozinho =  titanic.groupby('Sozinho').count()['PassengerId']\n",
        "per_sobrev_sozinho=tot_sobrev_por_sozinho/qtd_por_sozinho\n",
        "per_sobrev_sozinho"
      ],
      "execution_count": null,
      "outputs": [
        {
          "output_type": "execute_result",
          "data": {
            "text/plain": [
              "Sozinho\n",
              "False    0.505650\n",
              "True     0.303538\n",
              "dtype: float64"
            ]
          },
          "metadata": {
            "tags": []
          },
          "execution_count": 12
        }
      ]
    },
    {
      "cell_type": "code",
      "metadata": {
        "colab": {
          "base_uri": "https://localhost:8080/",
          "height": 315
        },
        "id": "i2rHZ-4SVyWi",
        "outputId": "2254c306-9dff-45eb-d116-740852472457"
      },
      "source": [
        "per_sobrev_sozinho.plot(kind='bar')"
      ],
      "execution_count": null,
      "outputs": [
        {
          "output_type": "execute_result",
          "data": {
            "text/plain": [
              "<matplotlib.axes._subplots.AxesSubplot at 0x7fb7daa3f510>"
            ]
          },
          "metadata": {
            "tags": []
          },
          "execution_count": 13
        },
        {
          "output_type": "display_data",
          "data": {
            "image/png": "[encoded data removed]",
            "text/plain": [
              "<Figure size 432x288 with 1 Axes>"
            ]
          },
          "metadata": {
            "tags": [],
            "needs_background": "light"
          }
        }
      ]
    },
    {
      "cell_type": "markdown",
      "metadata": {
        "id": "WluTz_UkV7ZM"
      },
      "source": [
        "Taxa de sobrevivencia dos passageiros sozinhos foi bem baixa, 30%, em comparacao aos acompanhados, de 50%. Seria interessante comparar com a classe da pasasgem, mas imaginaria que muitos desses estavam viajando na 3a classe. Uma outra hipotese para a maior taxa doos accompanhados seria obviamente das pessoas se ajudarem na trajedia."
      ]
    },
    {
      "cell_type": "code",
      "metadata": {
        "id": "gn0JR8TBWitj"
      },
      "source": [
        "# ANALiSE ESTATISTICA"
      ],
      "execution_count": null,
      "outputs": []
    },
    {
      "cell_type": "code",
      "metadata": {
        "colab": {
          "base_uri": "https://localhost:8080/",
          "height": 395
        },
        "id": "-DgDXoS3WwfT",
        "outputId": "da1c24c0-c3d9-4709-b717-85f7d43a5fe6"
      },
      "source": [
        "import pandas as pd\n",
        "titanic = pd.read_csv('http://quant-ibmec.group/data/titanic.csv')\n",
        "titanic['maior_de_idade'] = titanic['Age'] > 16 \n",
        "menores_de_idade = titanic[titanic['maior_de_idade']==False]\n",
        "menores_de_idade['Pessoa'] = 'crianca'\n",
        "maiores_de_idade = titanic[titanic['maior_de_idade']==True]\n",
        "maiores_de_idade['Pessoa'] = maiores_de_idade['Sex'] \n",
        "titanic = pd.concat([menores_de_idade,maiores_de_idade])\n",
        "mulher_ou_homem = maiores_de_idade.groupby('Sex').count()['PassengerId']\n",
        "titanic.head()"
      ],
      "execution_count": null,
      "outputs": [
        {
          "output_type": "stream",
          "text": [
            "/usr/local/lib/python2.7/dist-packages/ipykernel_launcher.py:5: SettingWithCopyWarning: \n",
            "A value is trying to be set on a copy of a slice from a DataFrame.\n",
            "Try using .loc[row_indexer,col_indexer] = value instead\n",
            "\n",
            "See the caveats in the documentation: http://pandas.pydata.org/pandas-docs/stable/indexing.html#indexing-view-versus-copy\n",
            "  \"\"\"\n",
            "/usr/local/lib/python2.7/dist-packages/ipykernel_launcher.py:7: SettingWithCopyWarning: \n",
            "A value is trying to be set on a copy of a slice from a DataFrame.\n",
            "Try using .loc[row_indexer,col_indexer] = value instead\n",
            "\n",
            "See the caveats in the documentation: http://pandas.pydata.org/pandas-docs/stable/indexing.html#indexing-view-versus-copy\n",
            "  import sys\n"
          ],
          "name": "stderr"
        },
        {
          "output_type": "execute_result",
          "data": {
            "text/plain": [
              "    PassengerId  Survived  Pclass                                  Name  \\\n",
              "5             6         0       3                      Moran, Mr. James   \n",
              "7             8         0       3        Palsson, Master. Gosta Leonard   \n",
              "9            10         1       2   Nasser, Mrs. Nicholas (Adele Achem)   \n",
              "10           11         1       3       Sandstrom, Miss. Marguerite Rut   \n",
              "14           15         0       3  Vestrom, Miss. Hulda Amanda Adolfina   \n",
              "\n",
              "       Sex   Age  SibSp  Parch   Ticket     Fare Cabin Embarked  \\\n",
              "5     male   NaN      0      0   330877   8.4583   NaN        Q   \n",
              "7     male   2.0      3      1   349909  21.0750   NaN        S   \n",
              "9   female  14.0      1      0   237736  30.0708   NaN        C   \n",
              "10  female   4.0      1      1  PP 9549  16.7000    G6        S   \n",
              "14  female  14.0      0      0   350406   7.8542   NaN        S   \n",
              "\n",
              "    maior_de_idade   Pessoa  \n",
              "5            False  crianca  \n",
              "7            False  crianca  \n",
              "9            False  crianca  \n",
              "10           False  crianca  \n",
              "14           False  crianca  "
            ],
            "text/html": [
              "<div>\n",
              "<style scoped>\n",
              "    .dataframe tbody tr th:only-of-type {\n",
              "        vertical-align: middle;\n",
              "    }\n",
              "\n",
              "    .dataframe tbody tr th {\n",
              "        vertical-align: top;\n",
              "    }\n",
              "\n",
              "    .dataframe thead th {\n",
              "        text-align: right;\n",
              "    }\n",
              "</style>\n",
              "<table border=\"1\" class=\"dataframe\">\n",
              "  <thead>\n",
              "    <tr style=\"text-align: right;\">\n",
              "      <th></th>\n",
              "      <th>PassengerId</th>\n",
              "      <th>Survived</th>\n",
              "      <th>Pclass</th>\n",
              "      <th>Name</th>\n",
              "      <th>Sex</th>\n",
              "      <th>Age</th>\n",
              "      <th>SibSp</th>\n",
              "      <th>Parch</th>\n",
              "      <th>Ticket</th>\n",
              "      <th>Fare</th>\n",
              "      <th>Cabin</th>\n",
              "      <th>Embarked</th>\n",
              "      <th>maior_de_idade</th>\n",
              "      <th>Pessoa</th>\n",
              "    </tr>\n",
              "  </thead>\n",
              "  <tbody>\n",
              "    <tr>\n",
              "      <th>5</th>\n",
              "      <td>6</td>\n",
              "      <td>0</td>\n",
              "      <td>3</td>\n",
              "      <td>Moran, Mr. James</td>\n",
              "      <td>male</td>\n",
              "      <td>NaN</td>\n",
              "      <td>0</td>\n",
              "      <td>0</td>\n",
              "      <td>330877</td>\n",
              "      <td>8.4583</td>\n",
              "      <td>NaN</td>\n",
              "      <td>Q</td>\n",
              "      <td>False</td>\n",
              "      <td>crianca</td>\n",
              "    </tr>\n",
              "    <tr>\n",
              "      <th>7</th>\n",
              "      <td>8</td>\n",
              "      <td>0</td>\n",
              "      <td>3</td>\n",
              "      <td>Palsson, Master. Gosta Leonard</td>\n",
              "      <td>male</td>\n",
              "      <td>2.0</td>\n",
              "      <td>3</td>\n",
              "      <td>1</td>\n",
              "      <td>349909</td>\n",
              "      <td>21.0750</td>\n",
              "      <td>NaN</td>\n",
              "      <td>S</td>\n",
              "      <td>False</td>\n",
              "      <td>crianca</td>\n",
              "    </tr>\n",
              "    <tr>\n",
              "      <th>9</th>\n",
              "      <td>10</td>\n",
              "      <td>1</td>\n",
              "      <td>2</td>\n",
              "      <td>Nasser, Mrs. Nicholas (Adele Achem)</td>\n",
              "      <td>female</td>\n",
              "      <td>14.0</td>\n",
              "      <td>1</td>\n",
              "      <td>0</td>\n",
              "      <td>237736</td>\n",
              "      <td>30.0708</td>\n",
              "      <td>NaN</td>\n",
              "      <td>C</td>\n",
              "      <td>False</td>\n",
              "      <td>crianca</td>\n",
              "    </tr>\n",
              "    <tr>\n",
              "      <th>10</th>\n",
              "      <td>11</td>\n",
              "      <td>1</td>\n",
              "      <td>3</td>\n",
              "      <td>Sandstrom, Miss. Marguerite Rut</td>\n",
              "      <td>female</td>\n",
              "      <td>4.0</td>\n",
              "      <td>1</td>\n",
              "      <td>1</td>\n",
              "      <td>PP 9549</td>\n",
              "      <td>16.7000</td>\n",
              "      <td>G6</td>\n",
              "      <td>S</td>\n",
              "      <td>False</td>\n",
              "      <td>crianca</td>\n",
              "    </tr>\n",
              "    <tr>\n",
              "      <th>14</th>\n",
              "      <td>15</td>\n",
              "      <td>0</td>\n",
              "      <td>3</td>\n",
              "      <td>Vestrom, Miss. Hulda Amanda Adolfina</td>\n",
              "      <td>female</td>\n",
              "      <td>14.0</td>\n",
              "      <td>0</td>\n",
              "      <td>0</td>\n",
              "      <td>350406</td>\n",
              "      <td>7.8542</td>\n",
              "      <td>NaN</td>\n",
              "      <td>S</td>\n",
              "      <td>False</td>\n",
              "      <td>crianca</td>\n",
              "    </tr>\n",
              "  </tbody>\n",
              "</table>\n",
              "</div>"
            ]
          },
          "metadata": {
            "tags": []
          },
          "execution_count": 70
        }
      ]
    },
    {
      "cell_type": "markdown",
      "metadata": {
        "id": "h_Z2aYduXdNN"
      },
      "source": [
        "**Analise de Precos**"
      ]
    },
    {
      "cell_type": "code",
      "metadata": {
        "colab": {
          "base_uri": "https://localhost:8080/"
        },
        "id": "tyUMeVXZXD-L",
        "outputId": "56d34c64-e2c9-4df1-d21c-388a4b4b5791"
      },
      "source": [
        "faixas_preco = [-1,4,13,20,40,84,120,200,600]\n",
        "cat_preco = ['G','MB','B','M','N','A','AA','AAA']\n",
        "freq_precos=pd.value_counts(pd.cut(x=titanic['Fare'],bins=faixas_preco,labels=cat_preco))\n",
        "freq_precos"
      ],
      "execution_count": null,
      "outputs": [
        {
          "output_type": "execute_result",
          "data": {
            "text/plain": [
              "MB     413\n",
              "M      200\n",
              "N      110\n",
              "B       87\n",
              "A       28\n",
              "AAA     20\n",
              "AA      18\n",
              "G       15\n",
              "Name: Fare, dtype: int64"
            ]
          },
          "metadata": {
            "tags": []
          },
          "execution_count": 23
        }
      ]
    },
    {
      "cell_type": "code",
      "metadata": {
        "colab": {
          "base_uri": "https://localhost:8080/",
          "height": 403
        },
        "id": "Di69ZRvVY3Rs",
        "outputId": "646d4b46-c356-4b5e-d8c7-6400af4088e4"
      },
      "source": [
        "freq_precos.plot(kind='bar',figsize=(12,6))"
      ],
      "execution_count": null,
      "outputs": [
        {
          "output_type": "execute_result",
          "data": {
            "text/plain": [
              "<matplotlib.axes._subplots.AxesSubplot at 0x7fb7d7ea0810>"
            ]
          },
          "metadata": {
            "tags": []
          },
          "execution_count": 24
        },
        {
          "output_type": "display_data",
          "data": {
            "image/png": "[encoded data removed]",
            "text/plain": [
              "<Figure size 864x432 with 1 Axes>"
            ]
          },
          "metadata": {
            "tags": [],
            "needs_background": "light"
          }
        }
      ]
    },
    {
      "cell_type": "code",
      "metadata": {
        "colab": {
          "base_uri": "https://localhost:8080/",
          "height": 408
        },
        "id": "n3QWIVQlb6Ks",
        "outputId": "71cb6c3e-12e9-45f6-beba-14012dab2f94"
      },
      "source": [
        "import seaborn as sns\n",
        "from matplotlib import pyplot as plt \n",
        "plt.figure(figsize=(12,6))\n",
        "sns.distplot(titanic['Fare'],bins=faixas_preco,kde=False)"
      ],
      "execution_count": null,
      "outputs": [
        {
          "output_type": "execute_result",
          "data": {
            "text/plain": [
              "<matplotlib.axes._subplots.AxesSubplot at 0x7fb7ce8f4cd0>"
            ]
          },
          "metadata": {
            "tags": []
          },
          "execution_count": 30
        },
        {
          "output_type": "display_data",
          "data": {
            "image/png": "[encoded data removed]",
            "text/plain": [
              "<Figure size 864x432 with 1 Axes>"
            ]
          },
          "metadata": {
            "tags": [],
            "needs_background": "light"
          }
        }
      ]
    },
    {
      "cell_type": "markdown",
      "metadata": {
        "id": "cvFRFPNhZEX3"
      },
      "source": [
        "Pelas analises anteriores vale lembrar que temos passagens Gratuitas, a 3a classe com media de preco de 13, a 2a de 20 e 84 para a 1a. Temos entao um total de 15 passagens gratuitas. A grande maioria, quase 50% da passagens como sendo Muito Baixo prerco, entre 4 e 13 usd (preco medio da 3a classe). Assim, vemos um histograma totalmente enviesado para a esquerda, totalmente concentrado nos precos inferiores"
      ]
    },
    {
      "cell_type": "code",
      "metadata": {
        "colab": {
          "base_uri": "https://localhost:8080/"
        },
        "id": "cXC4nJpjYei0",
        "outputId": "56d8724b-ac05-43fc-bc23-20e23ca4fca3"
      },
      "source": [
        "titanic['Fare'].describe()"
      ],
      "execution_count": null,
      "outputs": [
        {
          "output_type": "execute_result",
          "data": {
            "text/plain": [
              "count    891.000000\n",
              "mean      32.204208\n",
              "std       49.693429\n",
              "min        0.000000\n",
              "25%        7.910400\n",
              "50%       14.454200\n",
              "75%       31.000000\n",
              "max      512.329200\n",
              "Name: Fare, dtype: float64"
            ]
          },
          "metadata": {
            "tags": []
          },
          "execution_count": 17
        }
      ]
    },
    {
      "cell_type": "markdown",
      "metadata": {
        "id": "WkHjWoQdcbI6"
      },
      "source": [
        "Com a analise de quartis vemos algumas informacoes ja apresentadas anteriormente, temos preco minino igual a zero, ou seja alguma passagens foram gratis. 25% da passagens custavam menos de 7 usd (210 em valores de hoje). Metade das passagens custavam aproximadamente menos que o preco medio da 3a classe, ou seja, grande parte das pessoas viajavam na 3a classe na cabines mais baratas desta. Os passageiros que pagaram mais de 31 usd (900 usd, em valor de hoje, aproximadamente o valor de um iphone nos EUA) estavam no top 25% da cabines mais caras. E preco chegava ao maximo de mais de 500 usd, equivalente a 15 mil usd nos dias de hoje!"
      ]
    },
    {
      "cell_type": "code",
      "metadata": {
        "colab": {
          "base_uri": "https://localhost:8080/",
          "height": 408
        },
        "id": "OSsKMhXdbNYh",
        "outputId": "ddc1e1e9-b4e5-410b-babe-90465c97c69e"
      },
      "source": [
        "plt.figure(figsize=(12,6))\n",
        "sns.boxplot(x='Fare',data=titanic)"
      ],
      "execution_count": null,
      "outputs": [
        {
          "output_type": "execute_result",
          "data": {
            "text/plain": [
              "<matplotlib.axes._subplots.AxesSubplot at 0x7fb7dae18410>"
            ]
          },
          "metadata": {
            "tags": []
          },
          "execution_count": 27
        },
        {
          "output_type": "display_data",
          "data": {
            "image/png": "[encoded data removed]",
            "text/plain": [
              "<Figure size 864x432 with 1 Axes>"
            ]
          },
          "metadata": {
            "tags": [],
            "needs_background": "light"
          }
        }
      ]
    },
    {
      "cell_type": "markdown",
      "metadata": {
        "id": "Zxz7-cP2bwNM"
      },
      "source": [
        "Como esperado, temos uma alta concentracao de valores no primeiro quartil. E um numero muito grande de outliers, qualquer valor acima de 80 usd, aproximadamente o preco medio da 1a classe, eh considerado um ponto fora da curva. "
      ]
    },
    {
      "cell_type": "code",
      "metadata": {
        "colab": {
          "base_uri": "https://localhost:8080/",
          "height": 516
        },
        "id": "2XrYHom0djgh",
        "outputId": "607bbd21-5a40-47c8-e822-b8df7a941b9d"
      },
      "source": [
        "# Conveter o numero da classe de inteiro para texto, configurando ela como categorica\n",
        "titanic['Classe'] = \"O\"+titanic['Pclass'].astype(str)\n",
        "sem_gratis = titanic[titanic['Fare']>0]\n",
        "plt.figure(figsize=(16,8))\n",
        "sns.boxplot(x='Fare',y='Classe',data=sem_gratis)\n",
        "sem_gratis[sem_gratis['Pclass']==1]['Fare'].min()"
      ],
      "execution_count": null,
      "outputs": [
        {
          "output_type": "execute_result",
          "data": {
            "text/plain": [
              "5.0"
            ]
          },
          "metadata": {
            "tags": []
          },
          "execution_count": 45
        },
        {
          "output_type": "display_data",
          "data": {
            "image/png": "[encoded data removed]",
            "text/plain": [
              "<Figure size 1152x576 with 1 Axes>"
            ]
          },
          "metadata": {
            "tags": [],
            "needs_background": "light"
          }
        }
      ]
    },
    {
      "cell_type": "markdown",
      "metadata": {
        "id": "ftg9xNlyeuIt"
      },
      "source": [
        "Vemos que a 3a classe como alta concentracao de precos abaixo do seu preco medio, 7 usd. Interessante ver pontos fora da curva da 3a classe, como sendo mais caro que muitas passgens da 1a classe, chegando a quase 100 usd. A 2a classe massivamente concentrada abaixo do seu preco medio, 20 usd. Por fim, a 1a classe, interessante tinha precos comecando em 5 usd. Mas no geral o preco bem distribuido em volta da sua media 80 usd. E valores acima de 180 (cerca de 500 usd em valores de hoje) sao o top 1% do preco de passagens"
      ]
    },
    {
      "cell_type": "markdown",
      "metadata": {
        "id": "0HrrFPY8gOoG"
      },
      "source": [
        "**Analise de Sobreviventes**"
      ]
    },
    {
      "cell_type": "code",
      "metadata": {
        "colab": {
          "base_uri": "https://localhost:8080/",
          "height": 408
        },
        "id": "_tohMttMgRGC",
        "outputId": "2f137877-755c-4fa8-c862-ad47d1251816"
      },
      "source": [
        "# Filtrando a base por registros com informacao correta de idade\n",
        "titanic_ok = titanic[titanic['Age']>0]\n",
        "plt.figure(figsize=(12,6))\n",
        "sns.distplot(titanic_ok['Age'],kde=False)"
      ],
      "execution_count": null,
      "outputs": [
        {
          "output_type": "execute_result",
          "data": {
            "text/plain": [
              "<matplotlib.axes._subplots.AxesSubplot at 0x7fb7ca662950>"
            ]
          },
          "metadata": {
            "tags": []
          },
          "execution_count": 59
        },
        {
          "output_type": "display_data",
          "data": {
            "image/png": "[encoded data removed]",
            "text/plain": [
              "<Figure size 864x432 with 1 Axes>"
            ]
          },
          "metadata": {
            "tags": [],
            "needs_background": "light"
          }
        }
      ]
    },
    {
      "cell_type": "code",
      "metadata": {
        "colab": {
          "base_uri": "https://localhost:8080/"
        },
        "id": "EZEdahizhkGd",
        "outputId": "91262503-b15c-42ee-b376-be9bf2ffab4d"
      },
      "source": [
        "titanic_ok['Age'].describe()"
      ],
      "execution_count": null,
      "outputs": [
        {
          "output_type": "execute_result",
          "data": {
            "text/plain": [
              "count    714.000000\n",
              "mean      29.699118\n",
              "std       14.526497\n",
              "min        0.420000\n",
              "25%       20.125000\n",
              "50%       28.000000\n",
              "75%       38.000000\n",
              "max       80.000000\n",
              "Name: Age, dtype: float64"
            ]
          },
          "metadata": {
            "tags": []
          },
          "execution_count": 60
        }
      ]
    },
    {
      "cell_type": "markdown",
      "metadata": {
        "id": "zyIlDVexhoAc"
      },
      "source": [
        "Idade media dos passageiros jovens, cerca de 28-29 anos. Bem distruidos entre mais novos que essa idade e mais velhos que estes. Com um numero grande de criancas com menos de 10 anos, cerca de 60. E grande variedade passageiros de mais idade, com 30, 40, 50, 60, 70, e ate 80 anos de idade."
      ]
    },
    {
      "cell_type": "code",
      "metadata": {
        "colab": {
          "base_uri": "https://localhost:8080/",
          "height": 451
        },
        "id": "ONz1ljSNigpy",
        "outputId": "86245902-3caa-4f58-e0f5-832186818983"
      },
      "source": [
        "titanic_ok['Sobreviveu'] = titanic_ok['Survived'].map({0:'Nao',1:'Sim'})\n",
        "criancas=titanic_ok[titanic_ok['Pessoa']=='crianca']\n",
        "homens=titanic_ok[titanic_ok['Pessoa']=='male']\n",
        "mulheres=titanic_ok[titanic_ok['Pessoa']=='female']\n",
        "plt.figure(figsize=(10,5))\n",
        "sns.boxplot(x='Age',y='Sobreviveu',data=criancas)"
      ],
      "execution_count": null,
      "outputs": [
        {
          "output_type": "stream",
          "text": [
            "/usr/local/lib/python2.7/dist-packages/ipykernel_launcher.py:1: SettingWithCopyWarning: \n",
            "A value is trying to be set on a copy of a slice from a DataFrame.\n",
            "Try using .loc[row_indexer,col_indexer] = value instead\n",
            "\n",
            "See the caveats in the documentation: http://pandas.pydata.org/pandas-docs/stable/indexing.html#indexing-view-versus-copy\n",
            "  \"\"\"Entry point for launching an IPython kernel.\n"
          ],
          "name": "stderr"
        },
        {
          "output_type": "execute_result",
          "data": {
            "text/plain": [
              "<matplotlib.axes._subplots.AxesSubplot at 0x7fb7cadc2190>"
            ]
          },
          "metadata": {
            "tags": []
          },
          "execution_count": 74
        },
        {
          "output_type": "display_data",
          "data": {
            "image/png": "[encoded data removed]",
            "text/plain": [
              "<Figure size 720x360 with 1 Axes>"
            ]
          },
          "metadata": {
            "tags": [],
            "needs_background": "light"
          }
        }
      ]
    },
    {
      "cell_type": "markdown",
      "metadata": {
        "id": "DZ_FZ4t5kNN7"
      },
      "source": [
        "Interessante perceber que a maior parte das criancas sobreviventes tem idade baixas, muita delas entre 2 e 4 anos."
      ]
    },
    {
      "cell_type": "code",
      "metadata": {
        "colab": {
          "base_uri": "https://localhost:8080/",
          "height": 353
        },
        "id": "5zGlL18yk315",
        "outputId": "29ecaf0c-908a-40a0-dd0f-9ddf9143b211"
      },
      "source": [
        "plt.figure(figsize=(10,5))\n",
        "sns.boxplot(x='Age',y='Sobreviveu',data=mulheres)"
      ],
      "execution_count": null,
      "outputs": [
        {
          "output_type": "execute_result",
          "data": {
            "text/plain": [
              "<matplotlib.axes._subplots.AxesSubplot at 0x7fb7ca8b4590>"
            ]
          },
          "metadata": {
            "tags": []
          },
          "execution_count": 75
        },
        {
          "output_type": "display_data",
          "data": {
            "image/png": "[encoded data removed]",
            "text/plain": [
              "<Figure size 720x360 with 1 Axes>"
            ]
          },
          "metadata": {
            "tags": [],
            "needs_background": "light"
          }
        }
      ]
    },
    {
      "cell_type": "markdown",
      "metadata": {
        "id": "RxmsedP-l13a"
      },
      "source": [
        "Interessante tambem que a mulheres mais velhas tiveram uma taxa de sobervivencia maior. Ate senhoras com mais de 65 anos chegaram a sobreviver."
      ]
    },
    {
      "cell_type": "code",
      "metadata": {
        "colab": {
          "base_uri": "https://localhost:8080/",
          "height": 353
        },
        "id": "ZR2fjXwomI-W",
        "outputId": "b07c0ba2-1b1e-4ab3-f104-ce4130ec1099"
      },
      "source": [
        "plt.figure(figsize=(10,5))\n",
        "sns.boxplot(x='Age',y='Sobreviveu',data=homens)"
      ],
      "execution_count": null,
      "outputs": [
        {
          "output_type": "execute_result",
          "data": {
            "text/plain": [
              "<matplotlib.axes._subplots.AxesSubplot at 0x7fb7e024c910>"
            ]
          },
          "metadata": {
            "tags": []
          },
          "execution_count": 76
        },
        {
          "output_type": "display_data",
          "data": {
            "image/png": "[encoded data removed]",
            "text/plain": [
              "<Figure size 720x360 with 1 Axes>"
            ]
          },
          "metadata": {
            "tags": [],
            "needs_background": "light"
          }
        }
      ]
    },
    {
      "cell_type": "markdown",
      "metadata": {
        "id": "-13hiU3vmJZ-"
      },
      "source": [
        "Nos homens talvez um resultado mais esperado, os mais jovens, com menos de 30 anos tiveram uma taxa de sobrevivencia maior. O que chama a atencao eh o sobrevivente de 80 anos. Que podemos ate identifica-lo o [Sr. Algernon](https://www.encyclopedia-titanica.org/titanic-survivor/algernon-barkworth.html)"
      ]
    }
  ]
}