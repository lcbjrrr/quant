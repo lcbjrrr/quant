{
  "cells": [
    {
      "cell_type": "markdown",
      "metadata": {
        "id": "view-in-github",
        "colab_type": "text"
      },
      "source": [
        "<a href=\"https://colab.research.google.com/github/lcbjrrr/quant/blob/master/Regressa%CC%83o_Linear_.ipynb\" target=\"_parent\"><img src=\"https://colab.research.google.com/assets/colab-badge.svg\" alt=\"Open In Colab\"/></a>"
      ]
    },
    {
      "cell_type": "markdown",
      "metadata": {
        "id": "i6SGHH3QXZ6l"
      },
      "source": [
        "Ficha Técnica Disciplina - Data Mining.\n",
        "\n",
        "Conteúdo - Regressão Linear\n",
        "\n",
        "Autores:\n",
        "\n",
        "Anderson Borba (anderson.aborba@professores.ibmec.edu.br) e\n",
        "\n",
        "Luiz Barboza (luiz.cbjunior@professores.ibmec.edu.br).\n",
        "\n",
        "Endereço eletrônico: http://quant-ibmec.group/python-e-ml/"
      ]
    },
    {
      "cell_type": "markdown",
      "metadata": {
        "id": "FuTN6S3A6ZL6"
      },
      "source": [
        "## Regressão Linear\n",
        "\n"
      ]
    },
    {
      "cell_type": "code",
      "execution_count": null,
      "metadata": {
        "colab": {
          "base_uri": "https://localhost:8080/"
        },
        "id": "CoJZsQW_6ZUm",
        "outputId": "0a351cb7-c433-46b7-90bf-91e4523bd07f"
      },
      "outputs": [
        {
          "name": "stdout",
          "output_type": "stream",
          "text": [
            "[-0.36608176  1.38338992] -0.8257714929014783\n",
            "7.310999999999999\n",
            "3.9749999999999996\n",
            "8.958\n"
          ]
        }
      ],
      "source": [
        "import pandas as pd\n",
        "nts = pd.read_csv('https://raw.githubusercontent.com/lcbjuk/ML/master/dados/notas%20-%20ok.csv')\n",
        "nts\n",
        "\n",
        "from sklearn.linear_model import LinearRegression\n",
        "reglin = LinearRegression()\n",
        "reglin.fit(nts[['AP1','AP2']] , nts['AP3'])\n",
        "print(reglin.coef_, reglin.intercept_)\n",
        "\n",
        "def prever_ap3(ap1, ap2):\n",
        "  ap3 = ap1 * -0.366 + ap2 * 1.383 - 0.825\n",
        "  return ap3\n",
        "\n",
        "print(prever_ap3(8,8))\n",
        "print(prever_ap3(2,4))\n",
        "print(prever_ap3(3.5,8))"
      ]
    },
    {
      "cell_type": "code",
      "execution_count": null,
      "metadata": {
        "colab": {
          "base_uri": "https://localhost:8080/"
        },
        "id": "B_8LVUgA6kiB",
        "outputId": "70dc5998-bf1f-46a9-cb63-fc190f6656a4"
      },
      "outputs": [
        {
          "data": {
            "text/plain": [
              "array([7.31269382, 3.97562468, 8.96006172])"
            ]
          },
          "execution_count": 2,
          "metadata": {},
          "output_type": "execute_result"
        }
      ],
      "source": [
        "ap1_ap2_futuras = pd.DataFrame({\n",
        "    'AP1':[8,2,3.5],\n",
        "    'AP2':[8,4,8]\n",
        "})\n",
        "ap3_futuras = reglin.predict(ap1_ap2_futuras)\n",
        "ap3_futuras"
      ]
    },
    {
      "cell_type": "code",
      "execution_count": null,
      "metadata": {
        "colab": {
          "base_uri": "https://localhost:8080/"
        },
        "id": "H-LRrhwR692G",
        "outputId": "2dcb2195-9d6f-41dc-ac9e-a0ae5f048337"
      },
      "outputs": [
        {
          "data": {
            "text/plain": [
              "0.9818896713333346"
            ]
          },
          "execution_count": 3,
          "metadata": {},
          "output_type": "execute_result"
        }
      ],
      "source": [
        "\n",
        "r2 = reglin.score(nts[['AP1','AP2']] , nts['AP3'])\n",
        "r2"
      ]
    },
    {
      "cell_type": "code",
      "execution_count": null,
      "metadata": {
        "colab": {
          "base_uri": "https://localhost:8080/"
        },
        "id": "Q71uACAF66zq",
        "outputId": "27ae9984-cc52-4206-a095-22e716140a0b"
      },
      "outputs": [
        {
          "data": {
            "text/plain": [
              "0.9818896713333346"
            ]
          },
          "execution_count": 4,
          "metadata": {},
          "output_type": "execute_result"
        }
      ],
      "source": [
        "ap3_prev = reglin.predict(nts[['AP1','AP2']])\n",
        "\n",
        "from sklearn import metrics\n",
        "rr = metrics.r2_score(nts['AP3'] , ap3_prev)\n",
        "rr"
      ]
    },
    {
      "cell_type": "code",
      "execution_count": null,
      "metadata": {
        "colab": {
          "base_uri": "https://localhost:8080/"
        },
        "id": "gUAhxTvU65L7",
        "outputId": "a3021fec-c6dd-4d34-f7e8-db81caac63a8"
      },
      "outputs": [
        {
          "data": {
            "text/plain": [
              "0.3814567429017217"
            ]
          },
          "execution_count": 5,
          "metadata": {},
          "output_type": "execute_result"
        }
      ],
      "source": [
        "err_quad = metrics.mean_squared_error(nts['AP3'] , ap3_prev) \n",
        "err_quad\n",
        "\n",
        "import numpy as np\n",
        "err = np.sqrt(err_quad)\n",
        "err\n"
      ]
    },
    {
      "cell_type": "code",
      "execution_count": null,
      "metadata": {
        "colab": {
          "base_uri": "https://localhost:8080/",
          "height": 562
        },
        "id": "qq-jBvwS621X",
        "outputId": "8ab0eab0-cdba-45e0-b1b2-7eab8311018f"
      },
      "outputs": [
        {
          "name": "stderr",
          "output_type": "stream",
          "text": [
            "/home/aborba/anaconda3/lib/python3.7/site-packages/statsmodels/tsa/tsatools.py:142: FutureWarning: In a future version of pandas all arguments of concat except for the argument 'objs' will be keyword-only\n",
            "  x = pd.concat(x[::order], 1)\n"
          ]
        },
        {
          "data": {
            "text/html": [
              "<table class=\"simpletable\">\n",
              "<caption>OLS Regression Results</caption>\n",
              "<tr>\n",
              "  <th>Dep. Variable:</th>           <td>AP3</td>       <th>  R-squared:         </th> <td>   0.982</td>\n",
              "</tr>\n",
              "<tr>\n",
              "  <th>Model:</th>                   <td>OLS</td>       <th>  Adj. R-squared:    </th> <td>   0.981</td>\n",
              "</tr>\n",
              "<tr>\n",
              "  <th>Method:</th>             <td>Least Squares</td>  <th>  F-statistic:       </th> <td>   1003.</td>\n",
              "</tr>\n",
              "<tr>\n",
              "  <th>Date:</th>             <td>Mon, 29 Aug 2022</td> <th>  Prob (F-statistic):</th> <td>5.91e-33</td>\n",
              "</tr>\n",
              "<tr>\n",
              "  <th>Time:</th>                 <td>15:45:47</td>     <th>  Log-Likelihood:    </th> <td> -18.207</td>\n",
              "</tr>\n",
              "<tr>\n",
              "  <th>No. Observations:</th>      <td>    40</td>      <th>  AIC:               </th> <td>   42.41</td>\n",
              "</tr>\n",
              "<tr>\n",
              "  <th>Df Residuals:</th>          <td>    37</td>      <th>  BIC:               </th> <td>   47.48</td>\n",
              "</tr>\n",
              "<tr>\n",
              "  <th>Df Model:</th>              <td>     2</td>      <th>                     </th>     <td> </td>   \n",
              "</tr>\n",
              "<tr>\n",
              "  <th>Covariance Type:</th>      <td>nonrobust</td>    <th>                     </th>     <td> </td>   \n",
              "</tr>\n",
              "</table>\n",
              "<table class=\"simpletable\">\n",
              "<tr>\n",
              "    <td></td>       <th>coef</th>     <th>std err</th>      <th>t</th>      <th>P>|t|</th>  <th>[0.025</th>    <th>0.975]</th>  \n",
              "</tr>\n",
              "<tr>\n",
              "  <th>const</th> <td>   -0.8258</td> <td>    0.265</td> <td>   -3.111</td> <td> 0.004</td> <td>   -1.364</td> <td>   -0.288</td>\n",
              "</tr>\n",
              "<tr>\n",
              "  <th>AP1</th>   <td>   -0.3661</td> <td>    0.030</td> <td>  -12.318</td> <td> 0.000</td> <td>   -0.426</td> <td>   -0.306</td>\n",
              "</tr>\n",
              "<tr>\n",
              "  <th>AP2</th>   <td>    1.3834</td> <td>    0.031</td> <td>   44.788</td> <td> 0.000</td> <td>    1.321</td> <td>    1.446</td>\n",
              "</tr>\n",
              "</table>\n",
              "<table class=\"simpletable\">\n",
              "<tr>\n",
              "  <th>Omnibus:</th>       <td> 4.027</td> <th>  Durbin-Watson:     </th> <td>   0.680</td>\n",
              "</tr>\n",
              "<tr>\n",
              "  <th>Prob(Omnibus):</th> <td> 0.134</td> <th>  Jarque-Bera (JB):  </th> <td>   3.534</td>\n",
              "</tr>\n",
              "<tr>\n",
              "  <th>Skew:</th>          <td> 0.642</td> <th>  Prob(JB):          </th> <td>   0.171</td>\n",
              "</tr>\n",
              "<tr>\n",
              "  <th>Kurtosis:</th>      <td> 2.314</td> <th>  Cond. No.          </th> <td>    43.9</td>\n",
              "</tr>\n",
              "</table><br/><br/>Notes:<br/>[1] Standard Errors assume that the covariance matrix of the errors is correctly specified."
            ],
            "text/plain": [
              "<class 'statsmodels.iolib.summary.Summary'>\n",
              "\"\"\"\n",
              "                            OLS Regression Results                            \n",
              "==============================================================================\n",
              "Dep. Variable:                    AP3   R-squared:                       0.982\n",
              "Model:                            OLS   Adj. R-squared:                  0.981\n",
              "Method:                 Least Squares   F-statistic:                     1003.\n",
              "Date:                Mon, 29 Aug 2022   Prob (F-statistic):           5.91e-33\n",
              "Time:                        15:45:47   Log-Likelihood:                -18.207\n",
              "No. Observations:                  40   AIC:                             42.41\n",
              "Df Residuals:                      37   BIC:                             47.48\n",
              "Df Model:                           2                                         \n",
              "Covariance Type:            nonrobust                                         \n",
              "==============================================================================\n",
              "                 coef    std err          t      P>|t|      [0.025      0.975]\n",
              "------------------------------------------------------------------------------\n",
              "const         -0.8258      0.265     -3.111      0.004      -1.364      -0.288\n",
              "AP1           -0.3661      0.030    -12.318      0.000      -0.426      -0.306\n",
              "AP2            1.3834      0.031     44.788      0.000       1.321       1.446\n",
              "==============================================================================\n",
              "Omnibus:                        4.027   Durbin-Watson:                   0.680\n",
              "Prob(Omnibus):                  0.134   Jarque-Bera (JB):                3.534\n",
              "Skew:                           0.642   Prob(JB):                        0.171\n",
              "Kurtosis:                       2.314   Cond. No.                         43.9\n",
              "==============================================================================\n",
              "\n",
              "Notes:\n",
              "[1] Standard Errors assume that the covariance matrix of the errors is correctly specified.\n",
              "\"\"\""
            ]
          },
          "execution_count": 6,
          "metadata": {},
          "output_type": "execute_result"
        }
      ],
      "source": [
        "import statsmodels.api as sm\n",
        "\n",
        "nts[['AP1','AP2']]\n",
        "\n",
        "ap1_ap2 = sm.add_constant(nts[['AP1','AP2']])\n",
        "ap1_ap2\n",
        "\n",
        "rl = sm.OLS(nts['AP3'] , ap1_ap2).fit()\n",
        "rl.summary()\n"
      ]
    },
    {
      "cell_type": "code",
      "execution_count": null,
      "metadata": {
        "colab": {
          "base_uri": "https://localhost:8080/",
          "height": 441
        },
        "id": "3gCXY2WI6l51",
        "outputId": "432c66ff-b0a0-4187-b197-a2e189219e7e"
      },
      "outputs": [
        {
          "name": "stderr",
          "output_type": "stream",
          "text": [
            "/home/aborba/anaconda3/lib/python3.7/site-packages/seaborn/_decorators.py:43: FutureWarning: Pass the following variables as keyword args: x, y. From version 0.12, the only valid positional argument will be `data`, and passing other arguments without an explicit keyword will result in an error or misinterpretation.\n",
            "  FutureWarning\n"
          ]
        },
        {
          "data": {
            "text/plain": [
              "<seaborn.axisgrid.FacetGrid at 0x7fe4ef68ced0>"
            ]
          },
          "execution_count": 7,
          "metadata": {},
          "output_type": "execute_result"
        },
        {
          "data": {
            "image/png": "[encoded data removed]",
            "text/plain": [
              "<Figure size 360x360 with 1 Axes>"
            ]
          },
          "metadata": {
            "needs_background": "light"
          },
          "output_type": "display_data"
        }
      ],
      "source": [
        "import seaborn as sns\n",
        "sns.lmplot('AP2' , 'AP3' , data=nts)\n"
      ]
    },
    {
      "cell_type": "code",
      "execution_count": null,
      "metadata": {
        "colab": {
          "base_uri": "https://localhost:8080/",
          "height": 175
        },
        "id": "THtQjtZ56mD6",
        "outputId": "8891c93c-9ea7-4ff0-abb8-8eea2a09ebf3"
      },
      "outputs": [
        {
          "data": {
            "text/html": [
              "<div>\n",
              "<style scoped>\n",
              "    .dataframe tbody tr th:only-of-type {\n",
              "        vertical-align: middle;\n",
              "    }\n",
              "\n",
              "    .dataframe tbody tr th {\n",
              "        vertical-align: top;\n",
              "    }\n",
              "\n",
              "    .dataframe thead th {\n",
              "        text-align: right;\n",
              "    }\n",
              "</style>\n",
              "<table border=\"1\" class=\"dataframe\">\n",
              "  <thead>\n",
              "    <tr style=\"text-align: right;\">\n",
              "      <th></th>\n",
              "      <th>AP1</th>\n",
              "      <th>AP2</th>\n",
              "      <th>AP3</th>\n",
              "      <th>Final</th>\n",
              "    </tr>\n",
              "  </thead>\n",
              "  <tbody>\n",
              "    <tr>\n",
              "      <th>AP1</th>\n",
              "      <td>1.000000</td>\n",
              "      <td>0.278632</td>\n",
              "      <td>0.003717</td>\n",
              "      <td>0.630113</td>\n",
              "    </tr>\n",
              "    <tr>\n",
              "      <th>AP2</th>\n",
              "      <td>0.278632</td>\n",
              "      <td>1.000000</td>\n",
              "      <td>0.952691</td>\n",
              "      <td>0.920175</td>\n",
              "    </tr>\n",
              "    <tr>\n",
              "      <th>AP3</th>\n",
              "      <td>0.003717</td>\n",
              "      <td>0.952691</td>\n",
              "      <td>1.000000</td>\n",
              "      <td>0.776387</td>\n",
              "    </tr>\n",
              "    <tr>\n",
              "      <th>Final</th>\n",
              "      <td>0.630113</td>\n",
              "      <td>0.920175</td>\n",
              "      <td>0.776387</td>\n",
              "      <td>1.000000</td>\n",
              "    </tr>\n",
              "  </tbody>\n",
              "</table>\n",
              "</div>"
            ],
            "text/plain": [
              "            AP1       AP2       AP3     Final\n",
              "AP1    1.000000  0.278632  0.003717  0.630113\n",
              "AP2    0.278632  1.000000  0.952691  0.920175\n",
              "AP3    0.003717  0.952691  1.000000  0.776387\n",
              "Final  0.630113  0.920175  0.776387  1.000000"
            ]
          },
          "execution_count": 8,
          "metadata": {},
          "output_type": "execute_result"
        }
      ],
      "source": [
        "nts.corr()"
      ]
    },
    {
      "cell_type": "code",
      "execution_count": null,
      "metadata": {
        "colab": {
          "base_uri": "https://localhost:8080/",
          "height": 743
        },
        "id": "zMl4UN3p6mS3",
        "outputId": "a7655a3e-2743-4167-cfec-3312fcee67a0"
      },
      "outputs": [
        {
          "data": {
            "text/plain": [
              "<seaborn.axisgrid.PairGrid at 0x7fe4ec6d2c50>"
            ]
          },
          "execution_count": 9,
          "metadata": {},
          "output_type": "execute_result"
        },
        {
          "data": {
            "image/png": "[encoded data removed]",
            "text/plain": [
              "<Figure size 720x720 with 20 Axes>"
            ]
          },
          "metadata": {
            "needs_background": "light"
          },
          "output_type": "display_data"
        }
      ],
      "source": [
        "sns.pairplot(nts)\n"
      ]
    },
    {
      "cell_type": "markdown",
      "metadata": {
        "id": "kzi2JgeE6nHI"
      },
      "source": [
        "**[Exercicios] Regressao Linear**\n"
      ]
    },
    {
      "cell_type": "code",
      "execution_count": null,
      "metadata": {
        "colab": {
          "base_uri": "https://localhost:8080/",
          "height": 597
        },
        "id": "mVApWhQv6nPl",
        "outputId": "1ba1b071-33de-4827-ba5e-99ae020cf1bc"
      },
      "outputs": [
        {
          "name": "stdout",
          "output_type": "stream",
          "text": [
            "[-0.01783154] 6.303900300544503\n"
          ]
        },
        {
          "name": "stderr",
          "output_type": "stream",
          "text": [
            "/home/aborba/anaconda3/lib/python3.7/site-packages/seaborn/_decorators.py:43: FutureWarning: Pass the following variables as keyword args: x, y. From version 0.12, the only valid positional argument will be `data`, and passing other arguments without an explicit keyword will result in an error or misinterpretation.\n",
            "  FutureWarning\n"
          ]
        },
        {
          "data": {
            "text/plain": [
              "array([4.34243043, 4.52074588, 4.69906132, 4.87737676, 5.0556922 ,\n",
              "       5.23400765])"
            ]
          },
          "execution_count": 10,
          "metadata": {},
          "output_type": "execute_result"
        },
        {
          "data": {
            "image/png": "[encoded data removed]",
            "text/plain": [
              "<Figure size 360x360 with 1 Axes>"
            ]
          },
          "metadata": {
            "needs_background": "light"
          },
          "output_type": "display_data"
        }
      ],
      "source": [
        "import pandas as pd\n",
        "dados = pd.read_csv('https://raw.githubusercontent.com/lcbjuk/ML/master/dados/usd_ibov_20%20-%2020.csv')\n",
        "dados.head()\n",
        "\n",
        "import seaborn as sns\n",
        "sns.lmplot('bov','usd',data=dados)\n",
        "\n",
        "from sklearn.linear_model import LinearRegression\n",
        "\n",
        "rl = LinearRegression()\n",
        "\n",
        "rl.fit(dados[['bov']] , dados['usd'])\n",
        "print(rl.coef_,rl.intercept_)\n",
        "\n",
        "ibov_fut = pd.DataFrame({'ibov':[110,100,90,80,70,60]})\n",
        "rl.predict(ibov_fut)"
      ]
    },
    {
      "cell_type": "markdown",
      "metadata": {
        "id": "y0h6hI36aKN5"
      },
      "source": [
        "# Ideias teóricas sobre regressão linear\n",
        "Vamos apresentar os conceitos de regressão linear para um conjunto de dados definidos como segue.\n",
        "## Ideia 1\n",
        "### Dados tabelados\n",
        "Vamos montar o conjunto de dados como mostra a tabela abaixo."
      ]
    },
    {
      "cell_type": "markdown",
      "metadata": {
        "id": "BAxzD1JIbwPA"
      },
      "source": [
        "\\begin{array}{c} \\hline\n",
        "x & y \\\\ \\hline\n",
        "x_1 & y_1  \\\\\n",
        "x_2 & y_2 \\\\\n",
        "x_3 & y_3  \\\\\n",
        "x_4 & y_4  \\\\\n",
        "x_5 & y_5  \\\\\n",
        " \\hline\n",
        "\\end{array}\n"
      ]
    },
    {
      "cell_type": "markdown",
      "metadata": {
        "id": "6ysgLEsx830l"
      },
      "source": [
        "Assim, vamos aplicar a reta $y = ax+b$, observe que os parâmetros a ser encontrados são $(a, b)$, respectivamente o coeficiente angular e o coeficiente linear da reta. Teremos então,"
      ]
    },
    {
      "cell_type": "markdown",
      "metadata": {
        "id": "b5NjWxzmcicN"
      },
      "source": [
        "\\begin{array}{c} \\hline\n",
        "y = ax+b \\\\ \n",
        " \\hline\\hline\n",
        " y_1= ax_1+b \\\\ \n",
        " y_2= ax_2+b\\\\\n",
        " y_3= ax_3+b \\\\\n",
        " y_4= ax_4+b  \\\\\n",
        " y_5= ax_5+b \\\\\n",
        " \\hline\n",
        "\\end{array}"
      ]
    },
    {
      "cell_type": "markdown",
      "metadata": {
        "id": "RL9UqZXcdI4O"
      },
      "source": [
        "## Representaçao matricial\n",
        "Os dados acima podem ser representados da seguinte forma:\n",
        "$$\n",
        "  \\left[ \\begin{array}{cc}\n",
        "   x_1 & 1 \\\\\n",
        "   x_2 & 1 \\\\\n",
        "   x_3 & 1 \\\\\n",
        "   x_4 & 1 \\\\\n",
        "   x_5 & 1 \\\\\n",
        "  \\end{array}  \\right]\n",
        " \\left[\\begin{array}{c}\n",
        "       a\\\\\n",
        "       b\\\\\n",
        "   \\end{array}\\right]=\n",
        "   \\left[\\begin{array}{c}\n",
        "      y_1 \\\\\n",
        "      y_2\\\\\n",
        "      y_3\\\\\n",
        "      y_4\\\\\n",
        "      y_5\\\\\n",
        "   \\end{array}\\right]. \n",
        "$$ "
      ]
    },
    {
      "cell_type": "markdown",
      "metadata": {
        "id": "ZgYhfwUif79Z"
      },
      "source": [
        "Definindo,\n",
        "$$\n",
        "  M=\\left[ \\begin{array}{cc}\n",
        "   x_1 & 1 \\\\\n",
        "   x_2 & 1 \\\\\n",
        "   x_3 & 1 \\\\\n",
        "   x_4 & 1 \\\\\n",
        "   x_5 & 1 \\\\\n",
        "  \\end{array}  \\right],\n",
        " v=\\left[\\begin{array}{c}\n",
        "       a\\\\\n",
        "       b\\\\\n",
        "   \\end{array}\\right],\n",
        "   y=\\left[\\begin{array}{c}\n",
        "      y_1 \\\\\n",
        "      y_2\\\\\n",
        "      y_3\\\\\n",
        "      y_4\\\\\n",
        "      y_5\\\\\n",
        "   \\end{array}\\right] \n",
        "$$ "
      ]
    },
    {
      "cell_type": "markdown",
      "metadata": {
        "id": "e2QM2CVygZaZ"
      },
      "source": [
        "$$Mv=y$$\n",
        "Tomando o sistema linear como base, e multiplicando os dois lados pela matriz $M$ transposta.\n",
        "$$M^TMv=M^Ty$$\n",
        "$$\n",
        "\\left[ \\begin{array}{ccccc}\n",
        "   x_1 & x_2 & x_3 & x_4&  x_5\\\\\n",
        "     1 &   1 &   1 &   1&    1\\\\\n",
        "  \\end{array}  \\right]\n",
        "  \\left[ \\begin{array}{cc}\n",
        "   x_1 & 1 \\\\\n",
        "   x_2 & 1 \\\\\n",
        "   x_3 & 1 \\\\\n",
        "   x_4 & 1 \\\\\n",
        "   x_5 & 1 \\\\\n",
        "  \\end{array}  \\right]\n",
        " \\left[\\begin{array}{c}\n",
        "       a\\\\\n",
        "       b\\\\\n",
        "   \\end{array}\\right]=\n",
        "   \\left[ \\begin{array}{ccccc}\n",
        "   x_1 & x_2 & x_3 & x_4&  x_5\\\\\n",
        "     1 &   1 &   1 &   1&    1\\\\\n",
        "  \\end{array}  \\right]\n",
        "   \\left[\\begin{array}{c}\n",
        "      y_1 \\\\\n",
        "      y_2\\\\\n",
        "      y_3\\\\\n",
        "      y_4\\\\\n",
        "      y_5\\\\\n",
        "   \\end{array}\\right] \n",
        "$$"
      ]
    },
    {
      "cell_type": "markdown",
      "metadata": {
        "id": "im7uabUIgueO"
      },
      "source": [
        "Gerando o sistema linear,\n",
        "$$\n",
        "  \\left[ \\begin{array}{cc}\n",
        "   \\sum_{i=1}^{5}x_i^2 & \\sum_{i=1}^{5}x_i \\\\\n",
        "   \\sum_{i=1}^{5}x_i& \\sum_{i=1}^{5} 1 \\\\\n",
        "  \\end{array}  \\right]\n",
        " \\left[\\begin{array}{c}\n",
        "       a\\\\\n",
        "       b\\\\\n",
        "   \\end{array}\\right]=\n",
        "   \\left[\\begin{array}{c}\n",
        "      \\sum_{i=1}^{5}x_iy_i \\\\\n",
        "      \\sum_{i=1}^{5} y_i\\\\\n",
        "   \\end{array}\\right] \n",
        "$$"
      ]
    },
    {
      "cell_type": "markdown",
      "metadata": {
        "id": "_a0Y4vxLg-Lf"
      },
      "source": [
        "Definido por,\n",
        "$$\\overline{M}v=\\bar{y}$$\n",
        "onde \n",
        "$$\\overline{M} = \\left[ \\begin{array}{cc}\n",
        "   \\sum_{i=1}^{5}x_i^2 & \\sum_{i=1}^{5}x_i \\\\\n",
        "   \\sum_{i=1}^{5}x_i& \\sum_{i=1}^{5} 1 \\\\\n",
        "  \\end{array}  \\right]$$\n",
        "e\n",
        "$$\\bar{y}=\\left[\\begin{array}{c}\n",
        "      \\sum_{i=1}^{5}x_iy_i \\\\\n",
        "      \\sum_{i=1}^{5} y_i\\\\\n",
        "   \\end{array}\\right]$$"
      ]
    },
    {
      "cell_type": "markdown",
      "metadata": {
        "id": "X-X_I3Eshu5q"
      },
      "source": [
        "Resolvendo o sistema linear por eliminação de Gauss.\n",
        "\\begin{equation}\\nonumber\n",
        "    \\left[\n",
        "    \\begin{array}{rr|r}\n",
        "        a_{11} &  a_{12}& \\overline{y_1}\\\\\n",
        "        a_{21}&   a_{22}& \\overline{y_2}\\\\\n",
        "    \\end{array}\n",
        "    \\right].\n",
        "\\end{equation}\n",
        "\n",
        "Iniciaremos com a operação por linha,\n",
        "$L_2=>L_2-\\frac{a_{21}}{a_{11}}L_1$\n",
        "  \\begin{equation}\\nonumber\n",
        "    \\left[\n",
        "    \\begin{array}{rr|r}\n",
        "        a_{11} &  a_{12}& \\overline{y_1}\\\\\n",
        "        0      &  a_{22}-\\frac{a_{21}a_{12}}{a_{11}} &\\overline{y_2}-\\frac{a_{21}\\overline{y_1}}{a_{11}}\\\\\n",
        "    \\end{array}\n",
        "    \\right]\n",
        "\\end{equation}\n",
        "    \\begin{equation}\\nonumber\n",
        "    \\left[\n",
        "    \\begin{array}{rr|r}\n",
        "        a_{11} &  a_{12}& \\overline{y_1}\\\\\n",
        "        0      &  \\frac{a_{22}a_{11}-a_{21}a_{12}}{a_{11}} &\\frac{a_{11}\\overline{y_2}-a_{21}\\overline{y_1}}{a_{11}}\\\\\n",
        "    \\end{array}\n",
        "    \\right]\n",
        "\\end{equation}\n",
        "Realizando a seguinte operação por linha teremos,\n",
        "\n",
        "$L_1=>L_1-\\frac{a_{11}a_{12}}{a_{22}a_{11}-a_{21}a_{12}}L_2$\n",
        "\n",
        "\\begin{equation}\\nonumber\n",
        "    \\left[\n",
        "    \\begin{array}{rr|r}\n",
        "        a_{11} &  0                                       & \\frac{a_{22}a_{11}\\overline{y_1}-a_{12}a_{11}\\overline{y_2}}{a_{22}a_{11}-a_{21}a_{12}}\\\\\n",
        "        0      &  \\frac{a_{22}a_{11}-a_{21}a_{12}}{a_{11}} &\\frac{a_{11}\\overline{y_2}-a_{21}\\overline{y_1}}{a_{11}}\\\\\n",
        "    \\end{array}\n",
        "    \\right].\n",
        "\\end{equation}"
      ]
    },
    {
      "cell_type": "markdown",
      "metadata": {
        "id": "I7v-n_ptib9F"
      },
      "source": [
        "E por fim, para finalizar a forma escalonada,\n",
        "\n",
        "$L_1=>\\frac{1}{a_{11}}L_1$\n",
        "\n",
        "$L_2=>\\frac{a_{11}}{a_{22}a_{11}-a_{21}a_{12}}L_2$\n",
        "\n",
        "\\begin{equation}\\nonumber\n",
        "    \\left[\n",
        "    \\begin{array}{rr|r}\n",
        "        1 &  0                                       & \\frac{a_{22}\\overline{y_1}-a_{12}\\overline{y_2}}{a_{22}a_{11}-a_{21}a_{12}}\\\\\n",
        "        0      &  1&\\frac{a_{11}\\overline{y_2}-a_{21}\\overline{y_1}}{a_{22}a_{11}-a_{21}a_{12}}\\\\\n",
        "    \\end{array}\n",
        "    \\right]\n",
        "\\end{equation}\n",
        "Desta forma podemos encontrar $(a,b)$,\n",
        " \\begin{array}{ccc}\n",
        "   a &=& \\frac{a_{22}\\overline{y_1}-a_{12}\\overline{y_2}}{a_{22}a_{11}-a_{21}a_{12}} \\\\\n",
        "   b &=& \\frac{a_{11}\\overline{y_2}-a_{21}\\overline{y_1}}{a_{22}a_{11}-a_{21}a_{12}} \\\\\n",
        "  \\end{array}  "
      ]
    },
    {
      "cell_type": "markdown",
      "metadata": {
        "id": "Dx75p24TiwLK"
      },
      "source": [
        "Resumindo o problema de regressão linear para a base de dados definida acima,\n",
        "$$\n",
        "  \\left[ \\begin{array}{cc}\n",
        "   \\sum_{i=1}^{5}x_i^2 & \\sum_{i=1}^{5}x_i \\\\\n",
        "   \\sum_{i=1}^{5}x_i& \\sum_{i=1}^{5} 1 \\\\\n",
        "  \\end{array}  \\right]\n",
        " \\left[\\begin{array}{c}\n",
        "       a\\\\\n",
        "       b\\\\\n",
        "   \\end{array}\\right]=\n",
        "   \\left[\\begin{array}{c}\n",
        "      \\sum_{i=1}^{5}x_iy_i \\\\\n",
        "      \\sum_{i=1}^{5} y_i\\\\\n",
        "   \\end{array}\\right] \n",
        "$$\n",
        "encontramos os parâmetros$ (a,b)$\n",
        "$$\n",
        "  \\begin{array}{ccc}\n",
        "   a &=& \\frac{5\\sum_{i=1}^{5}x_iy_i-\\sum_{i=1}^{5}x_i\\sum_{i=1}^{5} y_i}{5\\sum_{i=1}^{5}x_i^2-\\left(\\sum_{i=1}^{5}x_i\\right)^2} \n",
        "   \\end{array}\n",
        "   $$\n",
        "   $$\n",
        "     \\begin{array}{ccc}\n",
        "   b &=& \\frac{\\sum_{i=1}^{5}x_i^2\\sum_{i=1}^{5} y_i-\\sum_{i=1}^{5}x_i\\sum_{i=1}^{5}x_iy_i}{5\\sum_{i=1}^{5}x_i^2-\\left(\\sum_{i=1}^{5}x_i\\right)^2} \n",
        "  \\end{array}  \n",
        "  $$"
      ]
    },
    {
      "cell_type": "markdown",
      "metadata": {
        "id": "7Ls0AIIRjH67"
      },
      "source": [
        "Se a base de dados tem $n$ linha podemos usar,\n",
        "\\begin{array}{ccc}\n",
        "   a &=& \\frac{n\\sum_{i=1}^{n}x_iy_i-\\sum_{i=1}^{n}x_i\\sum_{i=1}^{n} y_i}{n\\sum_{i=1}^{n}x_i^2-\\left(\\sum_{i=1}^{n}x_i\\right)^2} \n",
        "   \\end{array}\n",
        "     \\begin{array}{ccc}\n",
        "   b &=& \\frac{\\sum_{i=1}^{n}x_i^2\\sum_{i=1}^{n} y_i-\\sum_{i=1}^{n}x_i\\sum_{i=1}^{n}x_iy_i}{n\\sum_{i=1}^{n}x_i^2-\\left(\\sum_{i=1}^{n}x_i\\right)^2} \n",
        "  \\end{array} "
      ]
    },
    {
      "cell_type": "markdown",
      "metadata": {
        "id": "ilWgJLkmBBh6"
      },
      "source": [
        "### Ideia 2\n",
        "Seja a base de dados \n",
        "\\begin{array}{c} \\hline\n",
        "x & y \\\\ \\hline\n",
        "x_1 & y_1  \\\\\n",
        "x_2 & y_2 \\\\\n",
        "x_3 & y_3  \\\\\n",
        "x_4 & y_4  \\\\\n",
        "x_5 & y_5  \\\\\n",
        " \\hline\n",
        "\\end{array}\n"
      ]
    },
    {
      "cell_type": "markdown",
      "metadata": {
        "id": "_C3psxr5BBh6"
      },
      "source": [
        "O $\\hat{y_i}=a x_i + b$ é uma previsão linear (estimativa) para valores $y_i$, então podemos calcular o erro (desvio) $d_i= y_i-\\hat{y_i}$, para todas as linha $i$ da base de dados. \n",
        "\\begin{array}{c} \\hline\n",
        "x & y& \\hat{y_i}&d_i \\\\ \\hline\n",
        "x_1 & y_1&\\hat{y_1}&d_1  \\\\\n",
        "x_2 & y_2&\\hat{y_2}&d_2 \\\\\n",
        "x_3 & y_3&\\hat{y_3}&d_3  \\\\\n",
        "x_4 & y_4&\\hat{y_4}&d_4  \\\\\n",
        "x_5 & y_5&\\hat{y_5}&d_5  \\\\\n",
        " \\hline\n",
        "\\end{array}\n"
      ]
    },
    {
      "cell_type": "markdown",
      "metadata": {
        "id": "iNjSkJ_iBBh6"
      },
      "source": [
        "Esta ideia para o método de regressão linear surge no seguinte contexto: Encontrar o valor mínimo para $\\sum_{i=1}^{n}d_i^2$, portanto vamos definir o problema desta maneira. \n",
        "\\begin{equation*}\n",
        "\\begin{aligned}\n",
        "& \\underset{a,b}{\\text{maximize}}\n",
        "& \\sum_{i=1}^{n}d_i^2(a,b) & \\\\\n",
        "\\end{aligned}\n",
        "\\end{equation*}\n",
        "Temos que encontrar o ponto crítico para a função $d_i^2(a,b)$, onde as variáveis são (a, b).\n",
        "\\begin{equation*}\n",
        "\\begin{aligned}\n",
        "\\frac{\\partial}{\\partial a}\\sum_{i=1}^{n}(y_i-ax_i-b)^2& = & 0\\\\\n",
        "\\frac{\\partial}{\\partial a}\\sum_{i=1}^{n}(y_i-ax_i-b)^2& = & 0\\\\\n",
        "\\end{aligned}\n",
        "\\end{equation*}\n",
        "Derivando a equação teremos,\n",
        "\\begin{equation*}\n",
        "\\begin{aligned}\n",
        "\\sum_{i=1}^{n}2(y_i-ax_i-b)(-x_i)& = & 0\\\\\n",
        "\\sum_{i=1}^{n}2(y_i-ax_i-b)(-1)& = & 0\\\\\n",
        "\\end{aligned}\n",
        "\\end{equation*}\n",
        "reescrevendo as equações\n",
        "\\begin{equation*}\n",
        "\\begin{aligned}\n",
        "\\Bigl(\\sum_{i=1}^{n}x_i^2\\Bigl)a + \\Bigl(\\sum_{i=1}^{n}x_i\\Bigl)b& = & \\sum_{i=1}^{n}x_iy_i\\\\\n",
        "\\Bigl(\\sum_{i=1}^{n}x_i\\Bigl)a + \\Bigl(\\sum_{i=1}^{n}1\\Bigl)b& = & \\sum_{i=1}^{n}y_i\\\\\n",
        "\\end{aligned}\n",
        "\\end{equation*}\n",
        "\n",
        "Resultando no mesmo o sistema linear, pois as abordagens são equivalentes.\n",
        "$$\n",
        "  \\left[ \\begin{array}{cc}\n",
        "   \\sum_{i=1}^{n}x_i^2 & \\sum_{i=1}^{n}x_i \\\\\n",
        "   \\sum_{i=1}^{n}x_i& \\sum_{i=1}^{n} 1 \\\\\n",
        "  \\end{array}  \\right]\n",
        " \\left[\\begin{array}{c}\n",
        "       a\\\\\n",
        "       b\\\\\n",
        "   \\end{array}\\right]=\n",
        "   \\left[\\begin{array}{c}\n",
        "      \\sum_{i=1}^{n}x_iy_i \\\\\n",
        "      \\sum_{i=1}^{n} y_i\\\\\n",
        "   \\end{array}\\right] \n",
        "$$"
      ]
    },
    {
      "cell_type": "markdown",
      "metadata": {
        "id": "wD9XzAQkBBh7"
      },
      "source": [
        "### Manipulações algébricas interessante.\n",
        "A equação pode ser reescrita por:\n",
        "$$\n",
        "  \\left[ \\begin{array}{cc}\n",
        "   \\sum_{i=1}^{n}x_i^2 & \\sum_{i=1}^{n}x_i \\\\\n",
        "   \\sum_{i=1}^{n}x_i& n \\\\\n",
        "  \\end{array}  \\right]\n",
        " \\left[\\begin{array}{c}\n",
        "       a\\\\\n",
        "       b\\\\\n",
        "   \\end{array}\\right]=\n",
        "   \\left[\\begin{array}{c}\n",
        "      \\sum_{i=1}^{n}x_iy_i \\\\\n",
        "      \\sum_{i=1}^{n} y_i\\\\\n",
        "   \\end{array}\\right] \n",
        "$$\n",
        "e, usando a segunda equação obtemos $b$,\n",
        "$$\n",
        "  \\begin{array}{cccccc}\n",
        "   \\Biggl(\\sum_{i=1}^{n}x_i \\Biggl)a&+& n b& = &\\sum_{i=1}^{n} y_i \\\\\n",
        "   b & = &\\frac{1}{n}\\sum_{i=1}^{n} y_i &-&\\Biggl(\\frac{1}{n}\\sum_{i=1}^{n}x_i \\Biggl)a\\\\\n",
        "  \\end{array} \n",
        "$$\n",
        "lembrando a definição de média:\n",
        "\n",
        "$$\\begin{array}{c}\n",
        "      \\mu_X = \\frac{1}{n}\\sum_{i=1}^{n}x_i \\\\\n",
        "      \\mu_Y = \\frac{1}{n}\\sum_{i=1}^{n}y_i\\\\\n",
        "   \\end{array}\n",
        "$$\n",
        "então, \n",
        "$$\n",
        "  \\begin{array}{cccccc}\n",
        "     b & = &\\mu_Y &-&\\mu_X a.\\\\\n",
        "  \\end{array} \n",
        "$$\n",
        "\n",
        "Agora vamos subistituir esta igualdade na primeira equação do sistema linear,\n",
        "\\begin{equation*}\n",
        "\\begin{aligned}\n",
        "\\Bigl(\\sum_{i=1}^{n}x_i^2\\Bigl)a + \\Bigl(\\sum_{i=1}^{n}x_i\\Bigl)b& = & \\sum_{i=1}^{n}x_iy_i\\\\\n",
        "\\Bigl(\\sum_{i=1}^{n}x_i^2\\Bigl)a + \\Bigl(\\sum_{i=1}^{n}x_i\\Bigl)\\Bigl(\\mu_Y -\\mu_X a\\Bigl)& = & \\sum_{i=1}^{n}x_iy_i\\\\\n",
        "\\Bigl(\\sum_{i=1}^{n}x_i^2\\Bigl)a + \\Bigl(\\sum_{i=1}^{n}x_i\\Bigl)\\mu_Y -\\Bigl(\\sum_{i=1}^{n}x_i\\Bigl)\\mu_X a& = & \\sum_{i=1}^{n}x_iy_i\\\\\n",
        "\\Bigl(\\sum_{i=1}^{n}x_i^2-\\mu_X\\sum_{i=1}^{n}x_i\\Bigl)a + \\mu_Y\\sum_{i=1}^{n}x_i & = & \\sum_{i=1}^{n}x_iy_i\\\\\n",
        "\\Bigl(\\sum_{i=1}^{n}x_i^2-\\mu_X\\sum_{i=1}^{n}x_i\\Bigl)a & = & \\sum_{i=1}^{n}x_iy_i - \\mu_Y\\sum_{i=1}^{n}x_i \\\\\n",
        "\\end{aligned}\n",
        "\\end{equation*}\n",
        "Então \n",
        "\\begin{equation*}\n",
        "\\begin{aligned}\n",
        "a & = & \\frac{\\sum_{i=1}^{n}x_iy_i - \\mu_Y\\sum_{i=1}^{n}x_i}{\\sum_{i=1}^{n}x_i^2-\\mu_X\\sum_{i=1}^{n}x_i} \\\\\n",
        "\\end{aligned}\n",
        "\\end{equation*}\n",
        "ou\n",
        "\\begin{equation*}\n",
        "\\begin{aligned}\n",
        "a & = & \\frac{\\sum_{i=1}^{n}x_iy_i - n\\mu_Y\\frac{1}{n}\\sum_{i=1}^{n}x_i}{\\sum_{i=1}^{n}x_i^2-n\\mu_X\\frac{1}{n}\\sum_{i=1}^{n}x_i} \\\\\n",
        "\\end{aligned}\n",
        "\\end{equation*}\n",
        "finalmente\n",
        "\\begin{equation*}\n",
        "\\begin{aligned}\n",
        "a & = & \\frac{\\sum_{i=1}^{n}x_iy_i - n\\mu_Y\\mu_X}{\\sum_{i=1}^{n}x_i^2-n\\mu_X^2}. \\\\\n",
        "\\end{aligned}\n",
        "\\end{equation*}\n",
        "\n",
        "Outra forma de escrever $a$ á\n",
        "\n",
        "\\begin{equation*}\n",
        "\\begin{aligned}\n",
        "a & = & \\frac{\\sum_{i=1}^{n}\\bigl(x_i -\\mu_X\\bigl)\\bigl(y_i -\\mu_Y\\bigl)}{\\sum_{i=1}^{n}\\bigl(x_i-\\mu_X\\bigl)^2}. \\\\\n",
        "\\end{aligned}\n",
        "\\end{equation*}\n",
        "\n",
        "Assim, verificando\n",
        "\\begin{equation*}\n",
        "\\begin{aligned}\n",
        "\\sum_{i=1}^{n}\\bigl(x_i -\\mu_X\\bigl)\\bigl(y_i -\\mu_Y\\bigl)&=&\\sum_{i=1}^{n}\\bigl(x_iy_i -x_i\\mu_Y+y_i\\mu_X-\\mu_X\\mu_Y\\bigl). \\\\\n",
        "&=&\\sum_{i=1}^{n}x_iy_i -\\sum_{i=1}^{n}x_i\\mu_Y+\\sum_{i=1}^{n}y_i\\mu_X-\\sum_{i=1}^{n}\\mu_X\\mu_Y \\\\\n",
        "&=&\\sum_{i=1}^{n}x_iy_i -n\\mu_Y\\frac{1}{n}\\sum_{i=1}^{n}x_i-n\\mu_X\\frac{1}{n}\\sum_{i=1}^{n}y_i+\\mu_X\\mu_Y\\sum_{i=1}^{n}1 \\\\\n",
        "&=&\\sum_{i=1}^{n}x_iy_i -n\\mu_Y\\mu_X-n\\mu_X\\mu_y-n\\mu_X\\mu_Y  \\\\\n",
        "&=&\\sum_{i=1}^{n}x_iy_i -n\\mu_X\\mu_Y \\\\\n",
        "\\end{aligned}\n",
        "\\end{equation*}\n",
        "e\n",
        "\\begin{equation*}\n",
        "\\begin{aligned}\n",
        "\\sum_{i=1}^{n}\\bigl(x_i -\\mu_X\\bigl)^2&=&\\sum_{i=1}^{n}\\bigl(x_i^2 -2x_i\\mu_X+\\mu_X^2\\bigl). \\\\\n",
        "&=&\\sum_{i=1}^{n}x_i^2 -2\\sum_{i=1}^{n}x_i\\mu_X+\\sum_{i=1}^{n}\\mu_X^2 \\\\\n",
        "&=&\\sum_{i=1}^{n}x_i^2 -2\\mu_X\\sum_{i=1}^{n}x_i+\\mu_X^2\\sum_{i=1}^{n}1 \\\\\n",
        "&=&\\sum_{i=1}^{n}x_i^2 -2n\\mu_X\\frac{1}{n}\\sum_{i=1}^{n}x_i+n\\mu_X^2 \\\\\n",
        "&=&\\sum_{i=1}^{n}x_i^2 -2n\\mu_X\\mu_X+n\\mu_X^2 \\\\\n",
        "&=&\\sum_{i=1}^{n}x_i^2 -n\\mu_X^2 \\\\\n",
        "\\end{aligned}\n",
        "\\end{equation*}\n",
        "\n",
        "Com isso, as duas definições de $a$ são equivalentes.\n"
      ]
    },
    {
      "cell_type": "markdown",
      "metadata": {
        "id": "mUWFgnUbBTlV"
      },
      "source": [
        "Abaixo programamos duas maneiras de obter os parâmetros $(a,b)$, uma usando a inversão de matrizes da biblioteca Numpy, e outra, encontramos os parâmetros como definido acima. "
      ]
    },
    {
      "cell_type": "markdown",
      "metadata": {
        "id": "zq9AXrI3BAGI"
      },
      "source": [
        "### Solução usando a inversão de matrizes na biblioteca Numpy"
      ]
    },
    {
      "cell_type": "code",
      "execution_count": null,
      "metadata": {
        "colab": {
          "base_uri": "https://localhost:8080/"
        },
        "id": "-9XSAl2GpyQb",
        "outputId": "4de01853-8f63-4294-a1ab-634f9f174c8f"
      },
      "outputs": [
        {
          "name": "stdout",
          "output_type": "stream",
          "text": [
            "[[10.   10.    9.    9.8 ]\n",
            " [ 9.   10.    9.    9.4 ]\n",
            " [ 9.5  10.   10.    9.8 ]\n",
            " [ 9.4   9.9   9.9   9.7 ]\n",
            " [ 9.3   9.8   9.8   9.6 ]\n",
            " [ 9.2   9.7   9.7   9.5 ]\n",
            " [ 9.1   9.6   9.6   9.4 ]\n",
            " [ 9.    9.5   9.5   9.3 ]\n",
            " [10.    7.    5.    7.8 ]\n",
            " [ 9.    6.    4.    6.8 ]\n",
            " [ 9.5   6.5   4.5   7.3 ]\n",
            " [ 9.4   6.4   4.4   7.2 ]\n",
            " [ 9.3   6.3   4.3   7.1 ]\n",
            " [ 9.2   6.2   4.2   7.  ]\n",
            " [ 9.1   6.1   4.1   6.9 ]\n",
            " [ 9.    6.    4.    6.8 ]\n",
            " [ 5.2   5.2   4.2   5.  ]\n",
            " [ 5.1   5.1   4.1   4.9 ]\n",
            " [ 5.    5.    4.    4.8 ]\n",
            " [ 4.9   4.9   3.9   4.7 ]\n",
            " [ 4.8   4.8   3.8   4.6 ]\n",
            " [ 4.7   4.7   3.7   4.5 ]\n",
            " [ 4.6   4.6   3.6   4.4 ]\n",
            " [ 4.5   4.5   3.5   4.3 ]\n",
            " [ 4.    4.    4.    4.  ]\n",
            " [ 5.    5.    5.    5.  ]\n",
            " [ 4.5   4.5   4.5   4.5 ]\n",
            " [ 5.5   5.5   5.5   5.5 ]\n",
            " [ 5.    9.   10.    7.6 ]\n",
            " [ 5.1   9.5  10.    7.84]\n",
            " [ 5.2   9.5  10.    7.88]\n",
            " [ 5.3   9.5  10.    7.92]\n",
            " [ 5.4   9.5  10.    7.96]\n",
            " [ 5.5   9.5  10.    8.  ]\n",
            " [ 4.9   9.   10.    7.56]\n",
            " [ 4.8   9.   10.    7.52]\n",
            " [ 4.7   9.   10.    7.48]\n",
            " [ 4.6   9.   10.    7.44]\n",
            " [ 4.5   9.   10.    7.4 ]\n",
            " [ 4.4   9.   10.    7.36]]\n"
          ]
        }
      ],
      "source": [
        "# Copiamos a base de dados para uma estrutura de matriz\n",
        "MAT=nts.to_numpy()\n",
        "print(MAT)"
      ]
    },
    {
      "cell_type": "code",
      "execution_count": null,
      "metadata": {
        "colab": {
          "base_uri": "https://localhost:8080/"
        },
        "id": "7iayxe9Opo3p",
        "outputId": "84b548da-d2c5-499b-fc10-6b4d6a1e6aa9"
      },
      "outputs": [
        {
          "name": "stdout",
          "output_type": "stream",
          "text": [
            "m 40\n",
            "n 4\n"
          ]
        }
      ],
      "source": [
        "dimensao = MAT.shape\n",
        "m = dimensao[0]\n",
        "n = dimensao[1]\n",
        "print(\"m\", m)\n",
        "print(\"n\", n)"
      ]
    },
    {
      "cell_type": "code",
      "execution_count": null,
      "metadata": {
        "colab": {
          "base_uri": "https://localhost:8080/"
        },
        "id": "V_1-WdBEqmAU",
        "outputId": "de867d63-ebb9-4ef6-8d61-75efa2e8ceb4"
      },
      "outputs": [
        {
          "name": "stdout",
          "output_type": "stream",
          "text": [
            "[ 1.  2.  3.  4.  5.  6.  7.  8.  9. 10. 11. 12. 13. 14. 15. 16. 17. 18.\n",
            " 19. 20. 21. 22. 23. 24. 25. 26. 27. 28. 29. 30. 31. 32. 33. 34. 35. 36.\n",
            " 37. 38. 39. 40.]\n",
            "[9.8  9.4  9.8  9.7  9.6  9.5  9.4  9.3  7.8  6.8  7.3  7.2  7.1  7.\n",
            " 6.9  6.8  5.   4.9  4.8  4.7  4.6  4.5  4.4  4.3  4.   5.   4.5  5.5\n",
            " 7.6  7.84 7.88 7.92 7.96 8.   7.56 7.52 7.48 7.44 7.4  7.36]\n"
          ]
        }
      ],
      "source": [
        "# Definimos os vetores (x,y). Usamos as notas Ap1 da base de dados, mas podia ser qualquer outra coluna. \n",
        "import numpy as np\n",
        "x = np.zeros(m)\n",
        "y = np.zeros(m)\n",
        "for k in range(m):\n",
        "  x[k] = (k + 1)\n",
        "  y[k] = MAT[k,3]\n",
        "#\n",
        "print(x)\n",
        "print(y)"
      ]
    },
    {
      "cell_type": "code",
      "execution_count": null,
      "metadata": {
        "id": "TAytUmXJs5Um"
      },
      "outputs": [],
      "source": [
        "# Definimos o sistema linear MBx=b. MB é a matriz M barra.\n",
        "BM = np.zeros((2,2))\n",
        "b = np.zeros(2)\n",
        "soma1 = 0\n",
        "soma2 = 0\n",
        "soma3 = 0\n",
        "soma4 = 0\n",
        "soma5 = 0\n",
        "soma6 = 0\n",
        "for k in range(m):\n",
        "  soma1 = soma1 + x[k]**2\n",
        "  soma2 = soma2 + x[k]\n",
        "  soma3 = soma3 + x[k]\n",
        "  soma4 = soma4 + 1\n",
        "  soma5 = soma5 + x[k] * y[k]\n",
        "  soma6 = soma6 + y[k]\n",
        "##\n",
        "BM[0,0] = soma1\n",
        "BM[0,1] = soma2\n",
        "BM[1,0] = soma3\n",
        "BM[1,1] = soma4\n",
        "b[0] = soma5\n",
        "b[1] = soma6"
      ]
    },
    {
      "cell_type": "markdown",
      "metadata": {
        "id": "MArXskyRvr2B"
      },
      "source": [
        "Solução usando subrotinas de inversão de matrizes do numpy"
      ]
    },
    {
      "cell_type": "code",
      "execution_count": null,
      "metadata": {
        "colab": {
          "base_uri": "https://localhost:8080/"
        },
        "id": "21AGQ-mDvyAg",
        "outputId": "a44e2b11-b888-418b-9883-8d14c0f2b91a"
      },
      "outputs": [
        {
          "data": {
            "text/plain": [
              "array([-0.05493058,  8.16507692])"
            ]
          },
          "execution_count": 17,
          "metadata": {},
          "output_type": "execute_result"
        }
      ],
      "source": [
        "BMINV = np.zeros((2,2))\n",
        "MBINV = np.linalg.inv(BM)\n",
        "sol = np.zeros(2)\n",
        "sol = MBINV @ b\n",
        "sol"
      ]
    },
    {
      "cell_type": "markdown",
      "metadata": {
        "id": "qk9lEHUByI0U"
      },
      "source": [
        "### Solução usando eliminação de Gauss"
      ]
    },
    {
      "cell_type": "code",
      "execution_count": null,
      "metadata": {
        "colab": {
          "base_uri": "https://localhost:8080/"
        },
        "id": "Ce1qFxxayNIc",
        "outputId": "bc3c3f48-35be-4a85-91f7-2228c0827a7c"
      },
      "outputs": [
        {
          "data": {
            "text/plain": [
              "array([-0.05493058,  8.16507692])"
            ]
          },
          "execution_count": 18,
          "metadata": {},
          "output_type": "execute_result"
        }
      ],
      "source": [
        "s = np.zeros(2)\n",
        "s[0] = (m * b[0] - BM[1,0] * b[1]) / (m * BM[0,0] - (BM[0,1])**2)\n",
        "s[1] = (BM[0,0] * b[1] - BM[1,0] * b[0]) / (m * BM[0,0] - (BM[0,1])**2)\n",
        "s"
      ]
    },
    {
      "cell_type": "markdown",
      "metadata": {
        "id": "-axzVRqiCnuz"
      },
      "source": [
        "Rotina para gerar o gráfico da base de dados e a aproximação por regressão linear."
      ]
    },
    {
      "cell_type": "code",
      "execution_count": null,
      "metadata": {
        "id": "OiIPsAEv1IIP"
      },
      "outputs": [],
      "source": [
        "reta_aprox = np.zeros(m)\n",
        "xp = np.zeros(m)\n",
        "for k in range(1, m): \n",
        "  xp[k - 1] = (x[k] + x[k - 1]) / 2\n",
        "for k in range(1, m):\n",
        "  reta_aprox[k - 1] = s[0] * xp[k - 1]  + s[1]"
      ]
    },
    {
      "cell_type": "code",
      "execution_count": null,
      "metadata": {
        "colab": {
          "base_uri": "https://localhost:8080/",
          "height": 350
        },
        "id": "neTkP6BG0lhS",
        "outputId": "01015295-616c-404e-8f6f-9c868f1042d7"
      },
      "outputs": [
        {
          "data": {
            "image/png": "[encoded data removed]",
            "text/plain": [
              "<Figure size 720x360 with 1 Axes>"
            ]
          },
          "metadata": {
            "needs_background": "light"
          },
          "output_type": "display_data"
        }
      ],
      "source": [
        "import matplotlib.pyplot as plt\n",
        "plt.figure(figsize=(10, 5))\n",
        "plt.plot(x[1: m-1], y[1: m-1], label='linear')  # Plot some data on the (implicit) axes.\n",
        "plt.plot(xp[1: m-1], reta_aprox[1: m-1], label='quadratic')  # etc.\n",
        "plt.xlabel('x label')\n",
        "plt.ylabel('y label')\n",
        "plt.title(\"Simple Plot\")\n",
        "plt.legend();"
      ]
    },
    {
      "cell_type": "markdown",
      "metadata": {
        "id": "iYm4U4aUDRRf"
      },
      "source": [
        "# Referência\n",
        "- Applied Numerical Linear Algebra - Jammes Demmel - Editora SIAM.\n",
        "\n",
        "- Reconhecimento de padrões - Rogério Negri - Editora Blucher \n"
      ]
    }
  ],
  "metadata": {
    "colab": {
      "collapsed_sections": [],
      "name": "Regressão Linear .ipynb",
      "provenance": [],
      "include_colab_link": true
    },
    "kernelspec": {
      "display_name": "Python 3 (ipykernel)",
      "language": "python",
      "name": "python3"
    },
    "language_info": {
      "codemirror_mode": {
        "name": "ipython",
        "version": 3
      },
      "file_extension": ".py",
      "mimetype": "text/x-python",
      "name": "python",
      "nbconvert_exporter": "python",
      "pygments_lexer": "ipython3",
      "version": "3.7.4"
    }
  },
  "nbformat": 4,
  "nbformat_minor": 0
}