{
  "nbformat": 4,
  "nbformat_minor": 0,
  "metadata": {
    "colab": {
      "name": "Estatistica Python - 3.ipynb",
      "provenance": [],
      "authorship_tag": "ABX9TyNB386t/xASz1N5vS/i5tb/",
      "include_colab_link": true
    },
    "kernelspec": {
      "name": "python3",
      "display_name": "Python 3"
    }
  },
  "cells": [
    {
      "cell_type": "markdown",
      "metadata": {
        "id": "view-in-github",
        "colab_type": "text"
      },
      "source": [
        "<a href=\"https://colab.research.google.com/github/lcbjrrr/quant/blob/master/Estatistica_Python_3.ipynb\" target=\"_parent\"><img src=\"https://colab.research.google.com/assets/colab-badge.svg\" alt=\"Open In Colab\"/></a>"
      ]
    },
    {
      "cell_type": "markdown",
      "metadata": {
        "id": "PfLb4PMsG1bz"
      },
      "source": [
        "#Probabilidade"
      ]
    },
    {
      "cell_type": "code",
      "metadata": {
        "colab": {
          "base_uri": "https://localhost:8080/",
          "height": 198
        },
        "id": "NGr47L4BAsM5",
        "outputId": "eab162ed-b0a5-4852-9297-88b5fbb18a82"
      },
      "source": [
        "import pandas as pd\n",
        "notas =pd.read_csv('http://quant-ibmec.group/notas_turma%20-%20final.csv')\n",
        "notas.head()"
      ],
      "execution_count": 2,
      "outputs": [
        {
          "output_type": "execute_result",
          "data": {
            "text/html": [
              "<div>\n",
              "<style scoped>\n",
              "    .dataframe tbody tr th:only-of-type {\n",
              "        vertical-align: middle;\n",
              "    }\n",
              "\n",
              "    .dataframe tbody tr th {\n",
              "        vertical-align: top;\n",
              "    }\n",
              "\n",
              "    .dataframe thead th {\n",
              "        text-align: right;\n",
              "    }\n",
              "</style>\n",
              "<table border=\"1\" class=\"dataframe\">\n",
              "  <thead>\n",
              "    <tr style=\"text-align: right;\">\n",
              "      <th></th>\n",
              "      <th>Curso</th>\n",
              "      <th>Alunos</th>\n",
              "      <th>AP1</th>\n",
              "      <th>AP2</th>\n",
              "      <th>AP3</th>\n",
              "      <th>Nota</th>\n",
              "      <th>Conceito</th>\n",
              "    </tr>\n",
              "  </thead>\n",
              "  <tbody>\n",
              "    <tr>\n",
              "      <th>0</th>\n",
              "      <td>ADM</td>\n",
              "      <td>João</td>\n",
              "      <td>9.0</td>\n",
              "      <td>8.0</td>\n",
              "      <td>9.0</td>\n",
              "      <td>8.6</td>\n",
              "      <td>B</td>\n",
              "    </tr>\n",
              "    <tr>\n",
              "      <th>1</th>\n",
              "      <td>ADM</td>\n",
              "      <td>Maria</td>\n",
              "      <td>6.0</td>\n",
              "      <td>4.0</td>\n",
              "      <td>10.0</td>\n",
              "      <td>6.0</td>\n",
              "      <td>D</td>\n",
              "    </tr>\n",
              "    <tr>\n",
              "      <th>2</th>\n",
              "      <td>DIR</td>\n",
              "      <td>José</td>\n",
              "      <td>4.0</td>\n",
              "      <td>3.0</td>\n",
              "      <td>4.0</td>\n",
              "      <td>3.6</td>\n",
              "      <td>F</td>\n",
              "    </tr>\n",
              "    <tr>\n",
              "      <th>3</th>\n",
              "      <td>ADM</td>\n",
              "      <td>Pedro</td>\n",
              "      <td>8.0</td>\n",
              "      <td>10.0</td>\n",
              "      <td>7.0</td>\n",
              "      <td>8.6</td>\n",
              "      <td>B</td>\n",
              "    </tr>\n",
              "    <tr>\n",
              "      <th>4</th>\n",
              "      <td>ECO</td>\n",
              "      <td>Paulo</td>\n",
              "      <td>7.5</td>\n",
              "      <td>8.0</td>\n",
              "      <td>9.5</td>\n",
              "      <td>8.1</td>\n",
              "      <td>B</td>\n",
              "    </tr>\n",
              "  </tbody>\n",
              "</table>\n",
              "</div>"
            ],
            "text/plain": [
              "  Curso Alunos  AP1   AP2   AP3  Nota Conceito\n",
              "0   ADM   João  9.0   8.0   9.0   8.6        B\n",
              "1   ADM  Maria  6.0   4.0  10.0   6.0        D\n",
              "2   DIR   José  4.0   3.0   4.0   3.6        F\n",
              "3   ADM  Pedro  8.0  10.0   7.0   8.6        B\n",
              "4   ECO  Paulo  7.5   8.0   9.5   8.1        B"
            ]
          },
          "metadata": {
            "tags": []
          },
          "execution_count": 2
        }
      ]
    },
    {
      "cell_type": "code",
      "metadata": {
        "colab": {
          "base_uri": "https://localhost:8080/"
        },
        "id": "FikMwJWDBUoQ",
        "outputId": "5981478b-5ef8-4ece-a108-2dcbd83c07b9"
      },
      "source": [
        "print(notas['Nota'].mean())\n",
        "print(notas['Nota'].median())"
      ],
      "execution_count": null,
      "outputs": [
        {
          "output_type": "stream",
          "text": [
            "7.108333333333334\n",
            "7.5\n"
          ],
          "name": "stdout"
        }
      ]
    },
    {
      "cell_type": "code",
      "metadata": {
        "id": "dMUP2IzpDnZA",
        "colab": {
          "base_uri": "https://localhost:8080/"
        },
        "outputId": "e7a451cc-4dd3-4378-ee88-7678cc833a49"
      },
      "source": [
        "print(notas['Nota'].std())\n",
        "print(notas['Nota'].var())"
      ],
      "execution_count": null,
      "outputs": [
        {
          "output_type": "stream",
          "text": [
            "1.9251721686093113\n",
            "3.7062878787878786\n"
          ],
          "name": "stdout"
        }
      ]
    },
    {
      "cell_type": "code",
      "metadata": {
        "colab": {
          "base_uri": "https://localhost:8080/"
        },
        "id": "1_N7hKXRETRn",
        "outputId": "afe99dc1-9ba5-40c2-9d8c-dc147d47d9ba"
      },
      "source": [
        "from scipy.stats import norm\n",
        "x=1.8\n",
        "u=1.7\n",
        "o=0.1\n",
        "Z= (x-u)/o\n",
        "print(Z) #normalizacao\n",
        "um_oitenta = norm.cdf(Z)\n",
        "print(um_oitenta)"
      ],
      "execution_count": 3,
      "outputs": [
        {
          "output_type": "stream",
          "text": [
            "1.0000000000000009\n",
            "0.8413447460685431\n"
          ],
          "name": "stdout"
        }
      ]
    },
    {
      "cell_type": "code",
      "metadata": {
        "id": "_GwLO_beGacZ",
        "colab": {
          "base_uri": "https://localhost:8080/"
        },
        "outputId": "53b54d32-d4d0-4999-d310-45e802d6ec41"
      },
      "source": [
        "x=1.6\n",
        "Z= (x-u)/o\n",
        "print(Z) #normalizacao\n",
        "print(norm.cdf(Z))\n",
        "um_oitenta-norm.cdf(Z)"
      ],
      "execution_count": 4,
      "outputs": [
        {
          "output_type": "stream",
          "text": [
            "-0.9999999999999987\n",
            "0.1586552539314574\n"
          ],
          "name": "stdout"
        },
        {
          "output_type": "execute_result",
          "data": {
            "text/plain": [
              "0.6826894921370857"
            ]
          },
          "metadata": {
            "tags": []
          },
          "execution_count": 4
        }
      ]
    },
    {
      "cell_type": "code",
      "metadata": {
        "colab": {
          "base_uri": "https://localhost:8080/"
        },
        "id": "34PGOGfdG4tQ",
        "outputId": "b1169187-146d-4c58-c5bd-38ef8bd0820d"
      },
      "source": [
        "x=1.9\n",
        "Z= (x-u)/o\n",
        "print(Z) #normalizacao\n",
        "print(norm.cdf(Z))\n",
        "1-norm.cdf(Z)"
      ],
      "execution_count": null,
      "outputs": [
        {
          "output_type": "stream",
          "text": [
            "1.9999999999999996\n",
            "0.9772498680518208\n"
          ],
          "name": "stdout"
        },
        {
          "output_type": "execute_result",
          "data": {
            "text/plain": [
              "0.02275013194817921"
            ]
          },
          "metadata": {
            "tags": []
          },
          "execution_count": 11
        }
      ]
    },
    {
      "cell_type": "markdown",
      "metadata": {
        "id": "jMGgA-oqG5HO"
      },
      "source": [
        "#Amostragem"
      ]
    },
    {
      "cell_type": "code",
      "metadata": {
        "colab": {
          "base_uri": "https://localhost:8080/",
          "height": 198
        },
        "id": "FjsG-aqqHVrG",
        "outputId": "c6ae4b7f-d8c3-4f3f-ad57-f70aa18f9a3f"
      },
      "source": [
        "populacao = pd.read_csv('http://quant-ibmec.group/benchmark%20-%20ok.csv')\n",
        "populacao.head()"
      ],
      "execution_count": 5,
      "outputs": [
        {
          "output_type": "execute_result",
          "data": {
            "text/html": [
              "<div>\n",
              "<style scoped>\n",
              "    .dataframe tbody tr th:only-of-type {\n",
              "        vertical-align: middle;\n",
              "    }\n",
              "\n",
              "    .dataframe tbody tr th {\n",
              "        vertical-align: top;\n",
              "    }\n",
              "\n",
              "    .dataframe thead th {\n",
              "        text-align: right;\n",
              "    }\n",
              "</style>\n",
              "<table border=\"1\" class=\"dataframe\">\n",
              "  <thead>\n",
              "    <tr style=\"text-align: right;\">\n",
              "      <th></th>\n",
              "      <th>Estudo</th>\n",
              "      <th>Renda</th>\n",
              "      <th>UF</th>\n",
              "      <th>SEXO</th>\n",
              "      <th>COR</th>\n",
              "      <th>Idade</th>\n",
              "      <th>Altura</th>\n",
              "    </tr>\n",
              "  </thead>\n",
              "  <tbody>\n",
              "    <tr>\n",
              "      <th>0</th>\n",
              "      <td>12</td>\n",
              "      <td>800</td>\n",
              "      <td>RO</td>\n",
              "      <td>M</td>\n",
              "      <td>PAR</td>\n",
              "      <td>23</td>\n",
              "      <td>1.603808</td>\n",
              "    </tr>\n",
              "    <tr>\n",
              "      <th>1</th>\n",
              "      <td>12</td>\n",
              "      <td>1150</td>\n",
              "      <td>RO</td>\n",
              "      <td>F</td>\n",
              "      <td>BRA</td>\n",
              "      <td>23</td>\n",
              "      <td>1.739790</td>\n",
              "    </tr>\n",
              "    <tr>\n",
              "      <th>2</th>\n",
              "      <td>15</td>\n",
              "      <td>880</td>\n",
              "      <td>RO</td>\n",
              "      <td>F</td>\n",
              "      <td>PAR</td>\n",
              "      <td>35</td>\n",
              "      <td>1.760444</td>\n",
              "    </tr>\n",
              "    <tr>\n",
              "      <th>3</th>\n",
              "      <td>6</td>\n",
              "      <td>3500</td>\n",
              "      <td>RO</td>\n",
              "      <td>M</td>\n",
              "      <td>BRA</td>\n",
              "      <td>46</td>\n",
              "      <td>1.783158</td>\n",
              "    </tr>\n",
              "    <tr>\n",
              "      <th>4</th>\n",
              "      <td>9</td>\n",
              "      <td>150</td>\n",
              "      <td>RO</td>\n",
              "      <td>F</td>\n",
              "      <td>PAR</td>\n",
              "      <td>47</td>\n",
              "      <td>1.690631</td>\n",
              "    </tr>\n",
              "  </tbody>\n",
              "</table>\n",
              "</div>"
            ],
            "text/plain": [
              "   Estudo  Renda  UF SEXO  COR  Idade    Altura\n",
              "0      12    800  RO    M  PAR     23  1.603808\n",
              "1      12   1150  RO    F  BRA     23  1.739790\n",
              "2      15    880  RO    F  PAR     35  1.760444\n",
              "3       6   3500  RO    M  BRA     46  1.783158\n",
              "4       9    150  RO    F  PAR     47  1.690631"
            ]
          },
          "metadata": {
            "tags": []
          },
          "execution_count": 5
        }
      ]
    },
    {
      "cell_type": "code",
      "metadata": {
        "colab": {
          "base_uri": "https://localhost:8080/"
        },
        "id": "7IYohuMaH2vq",
        "outputId": "eaa1585b-0beb-4ce3-92d0-40039e0c2372"
      },
      "source": [
        "populacao['Idade'].sample(1)"
      ],
      "execution_count": 8,
      "outputs": [
        {
          "output_type": "execute_result",
          "data": {
            "text/plain": [
              "10022    34\n",
              "Name: Idade, dtype: int64"
            ]
          },
          "metadata": {
            "tags": []
          },
          "execution_count": 8
        }
      ]
    },
    {
      "cell_type": "code",
      "metadata": {
        "colab": {
          "base_uri": "https://localhost:8080/"
        },
        "id": "YcaD573RH4ZS",
        "outputId": "fe0dd610-f673-4ec2-8b97-3b95cfad6d13"
      },
      "source": [
        "print(populacao['Idade'].mean())\n",
        "amostra = populacao['Idade'].sample(100)\n",
        "print(amostra.mean())"
      ],
      "execution_count": 9,
      "outputs": [
        {
          "output_type": "stream",
          "text": [
            "44.07142113482561\n",
            "42.87\n"
          ],
          "name": "stdout"
        }
      ]
    },
    {
      "cell_type": "code",
      "metadata": {
        "colab": {
          "base_uri": "https://localhost:8080/"
        },
        "id": "mlVRa9AnH29s",
        "outputId": "676bf284-a743-4238-ffee-41f502e054c7"
      },
      "source": [
        "from numpy import sqrt, mean, std\n",
        "print(populacao.shape[0])\n",
        "n = 100 # tam. amostra\n",
        "u_amostras = []\n",
        "for i in range(1,900):\n",
        "    amostra = populacao['Idade'].sample(n)\n",
        "    u_amostras.append(amostra.mean())\n",
        "\n",
        "print(populacao['Idade'].mean())\n",
        "mean(u_amostras)"
      ],
      "execution_count": 10,
      "outputs": [
        {
          "output_type": "stream",
          "text": [
            "76840\n",
            "44.07142113482561\n"
          ],
          "name": "stdout"
        },
        {
          "output_type": "execute_result",
          "data": {
            "text/plain": [
              "44.02708565072303"
            ]
          },
          "metadata": {
            "tags": []
          },
          "execution_count": 10
        }
      ]
    },
    {
      "cell_type": "code",
      "metadata": {
        "colab": {
          "base_uri": "https://localhost:8080/",
          "height": 337
        },
        "id": "c5oarXLpLhip",
        "outputId": "005bb51d-b0aa-4db5-9cca-88408a0bea62"
      },
      "source": [
        "import seaborn as sns\n",
        "sns.distplot(u_amostras)"
      ],
      "execution_count": null,
      "outputs": [
        {
          "output_type": "stream",
          "text": [
            "/usr/local/lib/python3.6/dist-packages/seaborn/distributions.py:2551: FutureWarning: `distplot` is a deprecated function and will be removed in a future version. Please adapt your code to use either `displot` (a figure-level function with similar flexibility) or `histplot` (an axes-level function for histograms).\n",
            "  warnings.warn(msg, FutureWarning)\n"
          ],
          "name": "stderr"
        },
        {
          "output_type": "execute_result",
          "data": {
            "text/plain": [
              "<matplotlib.axes._subplots.AxesSubplot at 0x7f7ef32195f8>"
            ]
          },
          "metadata": {
            "tags": []
          },
          "execution_count": 41
        },
        {
          "output_type": "display_data",
          "data": {
            "image/png": "[encoded data removed]",
            "text/plain": [
              "<Figure size 432x288 with 1 Axes>"
            ]
          },
          "metadata": {
            "tags": [],
            "needs_background": "light"
          }
        }
      ]
    },
    {
      "cell_type": "code",
      "metadata": {
        "colab": {
          "base_uri": "https://localhost:8080/"
        },
        "id": "q4jYm8IPJe3z",
        "outputId": "3779d6a3-a310-4bed-92a1-c1b4118ce5ee"
      },
      "source": [
        "print(std(u_amostras))\n",
        "populacao['Idade'].std() / sqrt(n)"
      ],
      "execution_count": 11,
      "outputs": [
        {
          "output_type": "stream",
          "text": [
            "1.2838172902366878\n"
          ],
          "name": "stdout"
        },
        {
          "output_type": "execute_result",
          "data": {
            "text/plain": [
              "1.2480583465360187"
            ]
          },
          "metadata": {
            "tags": []
          },
          "execution_count": 11
        }
      ]
    },
    {
      "cell_type": "markdown",
      "metadata": {
        "id": "aicupP-RKvj_"
      },
      "source": [
        "# Nível de Confiança e Significância\n"
      ]
    },
    {
      "cell_type": "markdown",
      "metadata": {
        "id": "JXAgqlelKwwt"
      },
      "source": [
        "\n",
        "Suponha que os pesos dos sacos de arroz de uma indústria alimentícia se distribuem aproximadamente como uma normal de desvio padrão populacional igual a 150 g. Selecionada uma amostra aleatório de 20 sacos de um lote específico, obteve-se um peso médio de 5.050 g. Construa um intervalo de confiança para a média populacional assumindo um nível de significância de 5%."
      ]
    },
    {
      "cell_type": "code",
      "metadata": {
        "colab": {
          "base_uri": "https://localhost:8080/"
        },
        "id": "vFxFx6eSKxAe",
        "outputId": "d0513c16-95dc-42ff-bb6f-8a4656ed2239"
      },
      "source": [
        "sig = 0.05\n",
        "conf = 1-sig\n",
        "Z =z = norm.ppf(conf+sig/2)\n",
        "Z"
      ],
      "execution_count": 13,
      "outputs": [
        {
          "output_type": "execute_result",
          "data": {
            "text/plain": [
              "1.959963984540054"
            ]
          },
          "metadata": {
            "tags": []
          },
          "execution_count": 13
        }
      ]
    },
    {
      "cell_type": "code",
      "metadata": {
        "colab": {
          "base_uri": "https://localhost:8080/"
        },
        "id": "u8CkzTIMK1GO",
        "outputId": "24d8a9c4-cd19-4deb-ec6c-7a99cf7bbfbb"
      },
      "source": [
        "devpad = 150\n",
        "n =20\n",
        "u = 5050\n",
        "e = Z * (devpad / sqrt(n))\n",
        "print(e)\n",
        "print(u-e)\n",
        "print(u+e)"
      ],
      "execution_count": 14,
      "outputs": [
        {
          "output_type": "stream",
          "text": [
            "65.73919054324361\n",
            "4984.260809456757\n",
            "5115.739190543243\n"
          ],
          "name": "stdout"
        }
      ]
    },
    {
      "cell_type": "code",
      "metadata": {
        "colab": {
          "base_uri": "https://localhost:8080/"
        },
        "id": "LEv7wg9INB03",
        "outputId": "8aea6587-53c5-4a11-c692-396ffa515f5c"
      },
      "source": [
        "print('media',u)\n",
        "norm.interval(alpha = conf, loc = u, scale = devpad / sqrt(n))"
      ],
      "execution_count": 16,
      "outputs": [
        {
          "output_type": "stream",
          "text": [
            "media 5050\n"
          ],
          "name": "stdout"
        },
        {
          "output_type": "execute_result",
          "data": {
            "text/plain": [
              "(4984.260809456757, 5115.739190543243)"
            ]
          },
          "metadata": {
            "tags": []
          },
          "execution_count": 16
        }
      ]
    },
    {
      "cell_type": "markdown",
      "metadata": {
        "id": "drS6oWEtNoWD"
      },
      "source": [
        "#Calculando N"
      ]
    },
    {
      "cell_type": "code",
      "metadata": {
        "colab": {
          "base_uri": "https://localhost:8080/"
        },
        "id": "UNVpV0dmNjVd",
        "outputId": "e9bc3c35-36ca-4e56-a558-54f3fb171cb6"
      },
      "source": [
        "renda_5000 = populacao[populacao['Renda'] <= 5000]\n",
        "u = renda_5000['Renda'].mean()\n",
        "s = renda_5000['Renda'].std()\n",
        "print(u)\n",
        "print(s)"
      ],
      "execution_count": null,
      "outputs": [
        {
          "output_type": "stream",
          "text": [
            "1426.5372144947232\n",
            "1082.794549030635\n"
          ],
          "name": "stdout"
        }
      ]
    },
    {
      "cell_type": "code",
      "metadata": {
        "id": "1haZ7dndNjdJ"
      },
      "source": [
        "#z <- qnorm(.975)\n",
        "#e <- 10\n",
        "#n <- (z * (s / e)) ** 2\n",
        "#round(n)"
      ],
      "execution_count": null,
      "outputs": []
    },
    {
      "cell_type": "code",
      "metadata": {
        "colab": {
          "base_uri": "https://localhost:8080/"
        },
        "id": "vYRJx_3mNjfb",
        "outputId": "10f77e61-e4cc-4d25-b486-d9e52d5134c2"
      },
      "source": [
        "Z = norm.ppf(.975)\n",
        "n = 500\n",
        "e = Z * (s / sqrt(n))\n",
        "e"
      ],
      "execution_count": null,
      "outputs": [
        {
          "output_type": "execute_result",
          "data": {
            "text/plain": [
              "94.9093829038806"
            ]
          },
          "metadata": {
            "tags": []
          },
          "execution_count": 49
        }
      ]
    },
    {
      "cell_type": "code",
      "metadata": {
        "colab": {
          "base_uri": "https://localhost:8080/"
        },
        "id": "8Xcv8FayN72V",
        "outputId": "af77998e-918b-4b6d-c3bd-17a23192959e"
      },
      "source": [
        "limite_inferior = u - (Z * s / sqrt(n))\n",
        "limite_superior = u + (Z * s / sqrt(n))\n",
        "print(limite_inferior)\n",
        "print(limite_superior)"
      ],
      "execution_count": null,
      "outputs": [
        {
          "output_type": "stream",
          "text": [
            "1331.6278315908426\n",
            "1521.446597398604\n"
          ],
          "name": "stdout"
        }
      ]
    },
    {
      "cell_type": "code",
      "metadata": {
        "colab": {
          "base_uri": "https://localhost:8080/",
          "height": 392
        },
        "id": "gh-DWJY0Njhj",
        "outputId": "271a042a-4a21-40db-87ef-6c91960986c8"
      },
      "source": [
        "import matplotlib.pyplot as plt\n",
        "\n",
        "tamanho_simulacao = 1000\n",
        "\n",
        "medias = [renda_5000['Renda'].sample(n = n).mean() for i in range(1, tamanho_simulacao)]\n",
        "medias = pd.DataFrame(medias)\n",
        "\n",
        "ax = medias.plot(style = '.')\n",
        "ax.figure.set_size_inches(12, 6)\n",
        "ax.hlines(y = u, xmin = 0, xmax = tamanho_simulacao, colors='black', linestyles='dashed')\n",
        "ax.hlines(y = limite_inferior, xmin = 0, xmax = tamanho_simulacao, colors='red', linestyles='dashed')\n",
        "ax.hlines(y = limite_superior, xmin = 0, xmax = tamanho_simulacao, colors='red', linestyles='dashed')\n",
        "ax"
      ],
      "execution_count": null,
      "outputs": [
        {
          "output_type": "execute_result",
          "data": {
            "text/plain": [
              "<matplotlib.axes._subplots.AxesSubplot at 0x7f7ef106f668>"
            ]
          },
          "metadata": {
            "tags": []
          },
          "execution_count": 55
        },
        {
          "output_type": "display_data",
          "data": {
            "image/png": "[encoded data removed]",
            "text/plain": [
              "<Figure size 864x432 with 1 Axes>"
            ]
          },
          "metadata": {
            "tags": [],
            "needs_background": "light"
          }
        }
      ]
    }
  ]
}