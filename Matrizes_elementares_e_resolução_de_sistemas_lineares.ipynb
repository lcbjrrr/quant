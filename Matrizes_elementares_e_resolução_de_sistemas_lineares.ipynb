{
  "nbformat": 4,
  "nbformat_minor": 0,
  "metadata": {
    "kernelspec": {
      "display_name": "Python 3",
      "language": "python",
      "name": "python3"
    },
    "language_info": {
      "codemirror_mode": {
        "name": "ipython",
        "version": 3
      },
      "file_extension": ".py",
      "mimetype": "text/x-python",
      "name": "python",
      "nbconvert_exporter": "python",
      "pygments_lexer": "ipython3",
      "version": "3.7.4"
    },
    "colab": {
      "name": "Matrizes elementares e resolução de sistemas lineares.ipynb",
      "provenance": [],
      "include_colab_link": true
    }
  },
  "cells": [
    {
      "cell_type": "markdown",
      "metadata": {
        "id": "view-in-github",
        "colab_type": "text"
      },
      "source": [
        "<a href=\"https://colab.research.google.com/github/lcbjrrr/quant/blob/master/Matrizes_elementares_e_resolu%C3%A7%C3%A3o_de_sistemas_lineares.ipynb\" target=\"_parent\"><img src=\"https://colab.research.google.com/assets/colab-badge.svg\" alt=\"Open In Colab\"/></a>"
      ]
    },
    {
      "cell_type": "markdown",
      "metadata": {
        "id": "eZwrUhCqYCT9"
      },
      "source": [
        "# Ficha Técnica\n",
        "\n",
        "Disciplina - Algebra linear e Processos Dinâmicos.\n",
        "\n",
        "Conteúdo - \n",
        "- Representação matricial\n",
        "- Operações com linhas em matrizes.\n",
        "- Matrizes elementares\n",
        "\n",
        "Autores: \n",
        "- Anderson Borba (anderson.aborba@professores.ibmec.edu.br) e\n",
        "- Luiz Barboza (luiz.cbjunior@professores.ibmec.edu.br).\n",
        "\n",
        "Endereço eletrônico: http://quant-ibmec.group/calculos/"
      ]
    },
    {
      "cell_type": "markdown",
      "metadata": {
        "id": "-ogYqFvdYCUD"
      },
      "source": [
        "# Sistema linear na forma matricial:\n",
        "\\begin{equation}\\nonumber\n",
        "    \\left[\n",
        "    \\begin{array}{cccc}\n",
        "        a_{11}& a_{12}& \\cdots& a_{1n} \\\\\n",
        "        a_{21}& a_{22}& \\cdots& a_{2n} \\\\\n",
        "        \\vdots & \\vdots&  &\\vdots \\\\\n",
        "        a_{m1}& a_{m2}& \\cdots& a_{mn} \\\\\n",
        "    \\end{array}\n",
        "    \\right]\n",
        "    \\left[\n",
        "    \\begin{array}{c}\n",
        "        x_1 \\\\\n",
        "        x_2 \\\\\n",
        "        \\vdots \\\\\n",
        "        x_n \\\\\n",
        "    \\end{array}\n",
        "    \\right]=\n",
        "    \\left[\n",
        "    \\begin{array}{c}\n",
        "        b_1 \\\\\n",
        "        b_2 \\\\\n",
        "        \\vdots \\\\\n",
        "        b_n \\\\\n",
        "    \\end{array}\n",
        "    \\right]\n",
        "\\end{equation}\n",
        "Podemos escrever $Ax=b$."
      ]
    },
    {
      "cell_type": "markdown",
      "metadata": {
        "id": "TClXbFZbYCUE"
      },
      "source": [
        "Exemplo: Resolver o sistema liner $Ax=b$:\n",
        "\\begin{equation}\\nonumber\n",
        "    \\left[\n",
        "    \\begin{array}{ccccc}\n",
        "        1& 1& 2& 2 & 1 \\\\\n",
        "        2& 2& 4& 4 & 3 \\\\\n",
        "        2& 2& 4& 4 & 2 \\\\\n",
        "        3& 5& 8& 6 & 5 \\\\\n",
        "    \\end{array}\n",
        "    \\right]\n",
        "    \\left[\n",
        "    \\begin{array}{c}\n",
        "        x_1 \\\\\n",
        "        x_2 \\\\\n",
        "        x_3 \\\\\n",
        "        x_4 \\\\\n",
        "        x_5 \\\\\n",
        "    \\end{array}\n",
        "    \\right]=\n",
        "    \\left[\n",
        "    \\begin{array}{c}\n",
        "         1\\\\\n",
        "         1\\\\\n",
        "         2\\\\\n",
        "         3\\\\\n",
        "    \\end{array}\n",
        "    \\right]\n",
        "\\end{equation}\n",
        "Escrevendo o sistema linear de forma extendida,\n",
        "\\begin{equation}\\nonumber\n",
        "    \\left[\n",
        "    \\begin{array}{rrrrr|r}\n",
        "         1&  1&  2& 2&1& 1\\\\\n",
        "         2&  2&  4& 4&3& 1\\\\\n",
        "         2&  2&  4& 4&2& 2\\\\\n",
        "         3&  5& 8& 6&5& 3\\\\\n",
        "     \\end{array}\n",
        "\\right]\n",
        "\\end{equation}     "
      ]
    },
    {
      "cell_type": "markdown",
      "metadata": {
        "id": "0ErOr76QYCUF"
      },
      "source": [
        "# Matriz elementar\n",
        "Matriz elementar é igual a matriz identidade exceto na posicão $E_{i,j}$. Nessa posição vamos inserir o multiplicador proveniente da operação com linhas.\n",
        "\n",
        "Assim, a matriz elementar $E$ resulta de efetuar uma certa operação sobre linhas na matriz $A_{n}$ $n\\times n$, então o produto $EA$ é uma matriz que resulta da operações por linhas."
      ]
    },
    {
      "cell_type": "code",
      "metadata": {
        "id": "tXaW5JIkYCUF",
        "colab": {
          "base_uri": "https://localhost:8080/"
        },
        "outputId": "ae72d148-fda5-4f33-a900-4a755a3ee509"
      },
      "source": [
        "import numpy as np\n",
        "import matplotlib.pyplot as plt\n",
        "import scipy.linalg as la\n",
        "\n",
        "A = np.array([[1.,1.,2.,2.,1.,1.],[2.,2.,4.,4.,3.,1.],[2.,2.,4.,4.,2.,2.],[3.,5.,8.,6.,5.,3.]])\n",
        "print(A)"
      ],
      "execution_count": null,
      "outputs": [
        {
          "output_type": "stream",
          "text": [
            "[[1. 1. 2. 2. 1. 1.]\n",
            " [2. 2. 4. 4. 3. 1.]\n",
            " [2. 2. 4. 4. 2. 2.]\n",
            " [3. 5. 8. 6. 5. 3.]]\n"
          ],
          "name": "stdout"
        }
      ]
    },
    {
      "cell_type": "markdown",
      "metadata": {
        "id": "F4O-LR_TYCUG"
      },
      "source": [
        "Definindo a operação $L_2=>L_2-\\frac{a_{21}}{a_{11}}L_1$, isto é, $L_2=>L_2-\\frac{2}{1}L_1$"
      ]
    },
    {
      "cell_type": "code",
      "metadata": {
        "id": "Bda1x0dwYCUG",
        "colab": {
          "base_uri": "https://localhost:8080/"
        },
        "outputId": "244fd2c3-ff8d-493a-a410-d3ab5953c9f0"
      },
      "source": [
        "E1 = np.array([[1,0,0,0],[-2,1,0,0],[0,0,1,0],[0,0,0,1]])\n",
        "print(E1)"
      ],
      "execution_count": null,
      "outputs": [
        {
          "output_type": "stream",
          "text": [
            "[[ 1  0  0  0]\n",
            " [-2  1  0  0]\n",
            " [ 0  0  1  0]\n",
            " [ 0  0  0  1]]\n"
          ],
          "name": "stdout"
        }
      ]
    },
    {
      "cell_type": "code",
      "metadata": {
        "id": "2Cz4sAKDYCUH",
        "colab": {
          "base_uri": "https://localhost:8080/"
        },
        "outputId": "e89c05cf-edb2-43d0-ee00-db706f19b78a"
      },
      "source": [
        "E1 @ A"
      ],
      "execution_count": null,
      "outputs": [
        {
          "output_type": "execute_result",
          "data": {
            "text/plain": [
              "array([[ 1.,  1.,  2.,  2.,  1.,  1.],\n",
              "       [ 0.,  0.,  0.,  0.,  1., -1.],\n",
              "       [ 2.,  2.,  4.,  4.,  2.,  2.],\n",
              "       [ 3.,  5.,  8.,  6.,  5.,  3.]])"
            ]
          },
          "metadata": {
            "tags": []
          },
          "execution_count": 3
        }
      ]
    },
    {
      "cell_type": "markdown",
      "metadata": {
        "id": "A0Cgh8XKYCUH"
      },
      "source": [
        "Definindo a operação $L_3=>L_3-\\frac{a_{31}}{a_{11}}L_1$, isto é, $L_3=>L_3-\\frac{2}{1}L_1$"
      ]
    },
    {
      "cell_type": "code",
      "metadata": {
        "id": "a90kOe6TYCUH",
        "colab": {
          "base_uri": "https://localhost:8080/"
        },
        "outputId": "ce0faa55-174b-48a7-9f9e-262a5c695995"
      },
      "source": [
        "E2 = np.array([[1,0,0,0],[0,1,0,0],[-2,0,1,0],[0,0,0,1]])\n",
        "print(E2)"
      ],
      "execution_count": null,
      "outputs": [
        {
          "output_type": "stream",
          "text": [
            "[[ 1  0  0  0]\n",
            " [ 0  1  0  0]\n",
            " [-2  0  1  0]\n",
            " [ 0  0  0  1]]\n"
          ],
          "name": "stdout"
        }
      ]
    },
    {
      "cell_type": "code",
      "metadata": {
        "id": "Jg3UyL0KYCUI",
        "colab": {
          "base_uri": "https://localhost:8080/"
        },
        "outputId": "dba60a2d-d9b0-42d2-ab95-b4b085fece37"
      },
      "source": [
        "E2@E1@A\n"
      ],
      "execution_count": null,
      "outputs": [
        {
          "output_type": "execute_result",
          "data": {
            "text/plain": [
              "array([[ 1.,  1.,  2.,  2.,  1.,  1.],\n",
              "       [ 0.,  0.,  0.,  0.,  1., -1.],\n",
              "       [ 0.,  0.,  0.,  0.,  0.,  0.],\n",
              "       [ 3.,  5.,  8.,  6.,  5.,  3.]])"
            ]
          },
          "metadata": {
            "tags": []
          },
          "execution_count": 5
        }
      ]
    },
    {
      "cell_type": "markdown",
      "metadata": {
        "id": "chNh439IYCUI"
      },
      "source": [
        "Definindo a operação $L_4=>L_4-\\frac{a_{41}}{a_{11}}L_1$, isto é, $L_4=>L_4-\\frac{3}{1}L_1$"
      ]
    },
    {
      "cell_type": "code",
      "metadata": {
        "id": "lExY9VT0YCUI",
        "colab": {
          "base_uri": "https://localhost:8080/"
        },
        "outputId": "762e6a15-3803-4416-f0ca-25a3241a483a"
      },
      "source": [
        "E3 = np.array([[1,0,0,0],[0,1,0,0],[0,0,1,0],[-3,0,0,1]])\n",
        "print(E3)"
      ],
      "execution_count": null,
      "outputs": [
        {
          "output_type": "stream",
          "text": [
            "[[ 1  0  0  0]\n",
            " [ 0  1  0  0]\n",
            " [ 0  0  1  0]\n",
            " [-3  0  0  1]]\n"
          ],
          "name": "stdout"
        }
      ]
    },
    {
      "cell_type": "code",
      "metadata": {
        "id": "tzDnT6-9YCUJ",
        "colab": {
          "base_uri": "https://localhost:8080/"
        },
        "outputId": "b4a7c90a-477f-4904-f87f-ea0ba86f2411"
      },
      "source": [
        "E3@E2@E1@A"
      ],
      "execution_count": null,
      "outputs": [
        {
          "output_type": "execute_result",
          "data": {
            "text/plain": [
              "array([[ 1.,  1.,  2.,  2.,  1.,  1.],\n",
              "       [ 0.,  0.,  0.,  0.,  1., -1.],\n",
              "       [ 0.,  0.,  0.,  0.,  0.,  0.],\n",
              "       [ 0.,  2.,  2.,  0.,  2.,  0.]])"
            ]
          },
          "metadata": {
            "tags": []
          },
          "execution_count": 7
        }
      ]
    },
    {
      "cell_type": "markdown",
      "metadata": {
        "id": "MBWjMqYvYCUJ"
      },
      "source": [
        "Temos que trocar a linha 2 pela linha 4 da matriz, para isso vamos definir a matriz elementar que trocas as linhas."
      ]
    },
    {
      "cell_type": "code",
      "metadata": {
        "id": "h87SkFE2YCUJ",
        "colab": {
          "base_uri": "https://localhost:8080/"
        },
        "outputId": "f54f6d5b-ece9-4e4f-94b2-7ccda81d526b"
      },
      "source": [
        "E4 = np.array([[1,0,0,0],[0,0,0,1],[0,0,1,0],[0,1,0,0]])\n",
        "print(E4)"
      ],
      "execution_count": null,
      "outputs": [
        {
          "output_type": "stream",
          "text": [
            "[[1 0 0 0]\n",
            " [0 0 0 1]\n",
            " [0 0 1 0]\n",
            " [0 1 0 0]]\n"
          ],
          "name": "stdout"
        }
      ]
    },
    {
      "cell_type": "code",
      "metadata": {
        "id": "gY7bBffOYCUJ",
        "colab": {
          "base_uri": "https://localhost:8080/"
        },
        "outputId": "3200aea3-e917-42f6-d36e-905c9ba4f7f9"
      },
      "source": [
        "E4@E3@E2@E1@A"
      ],
      "execution_count": null,
      "outputs": [
        {
          "output_type": "execute_result",
          "data": {
            "text/plain": [
              "array([[ 1.,  1.,  2.,  2.,  1.,  1.],\n",
              "       [ 0.,  2.,  2.,  0.,  2.,  0.],\n",
              "       [ 0.,  0.,  0.,  0.,  0.,  0.],\n",
              "       [ 0.,  0.,  0.,  0.,  1., -1.]])"
            ]
          },
          "metadata": {
            "tags": []
          },
          "execution_count": 9
        }
      ]
    },
    {
      "cell_type": "markdown",
      "metadata": {
        "id": "Xhzbn1xkYCUK"
      },
      "source": [
        "Temos que trocar a linha 3 pela linha 4 da matriz, para isso vamos definir a matriz elementar que trocas as linhas."
      ]
    },
    {
      "cell_type": "code",
      "metadata": {
        "id": "pJy-OMx3YCUK",
        "colab": {
          "base_uri": "https://localhost:8080/"
        },
        "outputId": "8d0b5418-af26-423e-91db-459f32b2dade"
      },
      "source": [
        "E5 = np.array([[1,0,0,0],[0,1,0,0],[0,0,0,1],[0,0,1,0]])\n",
        "print(E5)"
      ],
      "execution_count": null,
      "outputs": [
        {
          "output_type": "stream",
          "text": [
            "[[1 0 0 0]\n",
            " [0 1 0 0]\n",
            " [0 0 0 1]\n",
            " [0 0 1 0]]\n"
          ],
          "name": "stdout"
        }
      ]
    },
    {
      "cell_type": "code",
      "metadata": {
        "id": "AsdvTVTiYCUK",
        "colab": {
          "base_uri": "https://localhost:8080/"
        },
        "outputId": "6d2e8fbd-d5ae-4938-f10d-7da0e193c5dd"
      },
      "source": [
        "E5@E4@E3@E2@E1@A"
      ],
      "execution_count": null,
      "outputs": [
        {
          "output_type": "execute_result",
          "data": {
            "text/plain": [
              "array([[ 1.,  1.,  2.,  2.,  1.,  1.],\n",
              "       [ 0.,  2.,  2.,  0.,  2.,  0.],\n",
              "       [ 0.,  0.,  0.,  0.,  1., -1.],\n",
              "       [ 0.,  0.,  0.,  0.,  0.,  0.]])"
            ]
          },
          "metadata": {
            "tags": []
          },
          "execution_count": 11
        }
      ]
    },
    {
      "cell_type": "markdown",
      "metadata": {
        "id": "bk7zd4uuYCUK"
      },
      "source": [
        "Assim descobrimos uma matriz equivalente triangular superior(Escalonada)."
      ]
    },
    {
      "cell_type": "code",
      "metadata": {
        "id": "BaNQYEwAYCUL",
        "colab": {
          "base_uri": "https://localhost:8080/"
        },
        "outputId": "6ee09a8a-1038-4898-8e4d-bdc15ce30957"
      },
      "source": [
        "U = E5@E4@E3@E2@E1@A\n",
        "print(U)"
      ],
      "execution_count": null,
      "outputs": [
        {
          "output_type": "stream",
          "text": [
            "[[ 1.  1.  2.  2.  1.  1.]\n",
            " [ 0.  2.  2.  0.  2.  0.]\n",
            " [ 0.  0.  0.  0.  1. -1.]\n",
            " [ 0.  0.  0.  0.  0.  0.]]\n"
          ],
          "name": "stdout"
        }
      ]
    },
    {
      "cell_type": "markdown",
      "metadata": {
        "id": "RjMTXRrnYCUL"
      },
      "source": [
        "Pergunta: Será que é possível escrever $A=LU$? Cenas para o próximo notebook!!!!!"
      ]
    },
    {
      "cell_type": "markdown",
      "metadata": {
        "id": "DRIuh9CTYCUL"
      },
      "source": [
        "# Referências\n",
        "- Anton, Howard Rorres, Chris. Álgebra Linear com Aplicações. Editora Bookman - 2012.\n",
        "- Carl D, Meyer, Matrix Analysis and Applied Linear Algebra, Editora SIAM - 2000  \n",
        "- https://www.math.ubc.ca/~pwalls/math-python/linear-algebra/solving-linear-systems/"
      ]
    }
  ]
}