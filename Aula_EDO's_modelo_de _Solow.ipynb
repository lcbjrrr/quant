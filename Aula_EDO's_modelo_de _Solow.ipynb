{
  "nbformat": 4,
  "nbformat_minor": 0,
  "metadata": {
    "colab": {
      "name": "Cópia de Aula_EDO's_modelo_de_Solow.ipynb",
      "provenance": [],
      "collapsed_sections": [
        "BVzL9Q-e6mP_",
        "7RWpxtEKgX3v",
        "hADrEOS3KD_2"
      ]
    },
    "kernelspec": {
      "display_name": "Python 3",
      "language": "python",
      "name": "python3"
    },
    "language_info": {
      "codemirror_mode": {
        "name": "ipython",
        "version": 3
      },
      "file_extension": ".py",
      "mimetype": "text/x-python",
      "name": "python",
      "nbconvert_exporter": "python",
      "pygments_lexer": "ipython3",
      "version": "3.7.4"
    }
  },
  "cells": [
    {
      "cell_type": "markdown",
      "metadata": {
        "colab_type": "text",
        "id": "BVzL9Q-e6mP_"
      },
      "source": [
        "# Ficha Técnica\n",
        "\n",
        "Disciplina - Otimização e processos dinâmicos.\n",
        "\n",
        "Conteúdo - EDO Equação de Bernoulli.\n",
        "\n",
        "Aplicação:\n",
        " \n",
        "- Método de resolução da equação de Bernoulli.\n",
        "- Modelo de Solow.\n",
        "- Aplicação na função de produção de Cobb-Douglas.\n",
        "- Linguagem de programação (Python).\n",
        "\n",
        "Autores: \n",
        "- Anderson Borba (anderson.aborba@professores.ibmec.edu.br) e\n",
        "- Luiz Barboza (luiz.cbjunior@professores.ibmec.edu.br).\n",
        "\n",
        "Endereço eletrônico: http://quant-ibmec.group/calculos/"
      ]
    },
    {
      "cell_type": "markdown",
      "metadata": {
        "colab_type": "text",
        "id": "G4aWVqqcCAE0"
      },
      "source": [
        "# EDO - Equação de Bernoulli\n",
        "\n",
        "A equação diferencial ordinária escrita por,\n",
        "\\begin{equation}\n",
        "\\begin{aligned}\n",
        "\\frac{dy}{dt}+ R(t)y=T(t)y^m,\n",
        "\\end{aligned}\\tag{EDO- Eq de Bernoulli}\n",
        "\\end{equation}\n",
        "é chamada de equação de Bernoulli.\n",
        "\n",
        "## Definindo a substituição da variável.\n",
        "A solução pode ser encontrada da seguinte forma, definimos a seguinte substituição.\n",
        "\\begin{equation}\n",
        "\\begin{aligned}\n",
        "z(t)&=y^{1-m}(t),\n",
        "\\end{aligned}\\tag{1}\n",
        "\\end{equation}\n",
        "derivando $z(t)$ em relação ao tempo teremos,\n",
        "\\begin{equation}\n",
        "\\begin{aligned}\n",
        "\\frac{dz}{dt}&=\\frac{dy^{1-m}}{dt},\\\\\n",
        "\\frac{dz}{dt}&=(1-m)y^{-m}\\frac{dy}{dt},\\\\\n",
        "\\frac{1}{1-m}\\frac{dz}{dt}&=y^{-m}\\frac{dy}{dt},\\\\\n",
        "\\end{aligned}\\tag{2}\n",
        "\\end{equation}\n",
        "ajustando a equação (1),\n",
        "\\begin{equation}\n",
        "\\begin{aligned}\n",
        "\\frac{1}{y^m}\\frac{dy}{dt}+ R\\frac{y}{y^m}=T,\\\\\n",
        "y^{-m}\\frac{dy}{dt}+ Ry^{1-m}=T,\\\\\n",
        "\\end{aligned}\\tag{3}\n",
        "\\end{equation}\n",
        "e substituindo a equação (2) em (3), teremos\n",
        "\\begin{equation}\n",
        "\\begin{aligned}\n",
        "\\frac{1}{1-m}\\frac{dz}{dt} + Rz=T,\\\\\n",
        "\\end{aligned}\n",
        "\\end{equation}\n",
        "resultando na EDO com coeficientes variáveis,\n",
        "\\begin{equation}\n",
        "\\begin{aligned}\n",
        "\\frac{dz}{dt} + (1-m)R(t)z=(1-m)T(t).\\\\\n",
        "\\end{aligned}\\tag{equação de Bernoulli reduzida}\n",
        "\\end{equation}\n",
        "\n",
        "Definindo $u(t)=(1-m)R(t)$ e $w(t)=(1-m)T(t)$, encontramos a solução usando o método do fator integrante,\n",
        "\\begin{equation}\n",
        "\\begin{aligned}\n",
        "z(t)=e^{-\\int u(t)dt}\\left[\\int e^{\\int u(t)dt}w(t)dt + A\\right].\n",
        "\\end{aligned}\n",
        "\\end{equation}\n",
        "lembrando que $z(t)=y^{1-m}(t)$ a solução será \n",
        "\\begin{equation}\n",
        "\\begin{aligned}\n",
        "y(t)=\\left(e^{-\\int u(t)dt}\\left[\\int e^{\\int u(t)dt}w(t)dt + A\\right]\\right)^{\\frac{1}{1-m}}.\n",
        "\\end{aligned}\\tag{solução da EDO de Bernoulli}\n",
        "\\end{equation}"
      ]
    },
    {
      "cell_type": "markdown",
      "metadata": {
        "id": "7RWpxtEKgX3v",
        "colab_type": "text"
      },
      "source": [
        "## Modelo de crescimento de Solow\n",
        "### Premissas\n",
        "- Seja a função de produção $Q(K,L)$ com $K, L > 0$.\n",
        "- Definimos  $\\kappa=\\frac{K}{L}$ (razão capital-trabalho).\n",
        "- A função é linear se $Q(K,L)= LQ(\\frac{K}{L},1)=L\\Phi(\\kappa)$.\t\n",
        "- P1) Taxa de variação do capital é proporcional a função de produção.\n",
        "\\begin{equation}\n",
        "\\begin{aligned}\n",
        "\\frac{dK}{dt}&=sQ(K,L), \\text{ sendo } s>0.\n",
        "\\end{aligned}\n",
        "\\end{equation}\n",
        "- P2) Taxa de variação da força de trabalho é proporcional a função força de trabalho.\n",
        "\\begin{equation}\n",
        "\\begin{aligned}\n",
        "\\frac{dL}{dt}&=\\lambda L, \\text{ sendo }\\lambda>0.\n",
        "\\end{aligned}\n",
        "\\end{equation}\n",
        "\n",
        "Usando as premissa (P1) de Solow\n",
        "\\begin{equation}\n",
        "\\begin{aligned}\n",
        "\\frac{dK}{dt}&=sQ(K,L)=sL\\Phi(\\kappa).\n",
        "\\end{aligned}\\tag{4}\n",
        "\\end{equation}\n",
        "por definição $\\kappa=\\frac{K}{L}$, ou $K=\\kappa L$. Derivando o produto em relação a $t$\n",
        "\\begin{equation}\n",
        "\\begin{aligned}\n",
        "\\frac{dK}{dt}=\\frac{d\\kappa}{dt}L+\\kappa\\frac{dL}{dt},\n",
        "\\end{aligned}\n",
        "\\end{equation}\n",
        "podemos reescrever a equação (4), \n",
        "\\begin{equation}\n",
        "\\begin{aligned}\n",
        "\\frac{d\\kappa}{dt}L+\\kappa\\frac{dL}{dt}&=sL\\Phi(\\kappa).\n",
        "\\end{aligned}\n",
        "\\end{equation}\n",
        "\n",
        "Usando a premissa (P2) \n",
        "\\begin{equation}\n",
        "\\begin{aligned}\n",
        "\\frac{d\\kappa}{dt}L+\\kappa\\lambda L&=sL\\Phi(\\kappa),\n",
        "\\end{aligned}\n",
        "\\end{equation}\n",
        "dividindo a equação por L,\n",
        "\\begin{equation}\n",
        "\\begin{aligned}\n",
        "\\frac{d\\kappa}{dt}+\\lambda\\kappa &=s\\Phi(\\kappa).\n",
        "\\end{aligned}\\tag{Equação de Solow}\n",
        "\\end{equation}"
      ]
    },
    {
      "cell_type": "markdown",
      "metadata": {
        "id": "ZI0hyHS06-Sk",
        "colab_type": "text"
      },
      "source": [
        "## Função de produção de Cobb-Douglas\n",
        "\\begin{equation}\n",
        "\\begin{aligned}\n",
        "P(L,K)&=\\beta K^{\\alpha}L^{1-\\alpha}, \\text{ sendo } \\alpha>0,\n",
        "\\end{aligned}\\tag{Cobb-Douglas}\n",
        "\\end{equation}\n",
        "definindo $\\kappa=\\frac{K}{L}$ podemos reescrever,\n",
        "\\begin{equation}\n",
        "\\begin{aligned}\n",
        "P(L,K)&=\\beta K^{\\alpha}L^{1-\\alpha},\\\\\n",
        "P(L,K)&=\\beta L\\left(\\frac{K}{L}\\right)^{\\alpha},\\\\\n",
        "\\end{aligned}\n",
        "\\end{equation}\n",
        "definimos, $\\Phi(\\kappa)=\\left(\\frac{K}{L}\\right)^{\\alpha}=\\kappa^\\alpha$, assim\n"
      ]
    },
    {
      "cell_type": "markdown",
      "metadata": {
        "id": "S7cJgJFp-U3V",
        "colab_type": "text"
      },
      "source": [
        "Usando as premissa (P1) de Solow\n",
        "\\begin{equation}\n",
        "\\begin{aligned}\n",
        "\\frac{dK}{dt}&=sQ(K,L)=s\\beta L\\Phi(\\kappa).\n",
        "\\end{aligned}\\tag{5}\n",
        "\\end{equation}\n",
        "\n",
        "Derivando o produto em relação a $t$\n",
        "\\begin{equation}\n",
        "\\begin{aligned}\n",
        "\\frac{dK}{dt}=\\frac{d\\kappa}{dt}L+\\kappa\\frac{dL}{dt},\n",
        "\\end{aligned}\n",
        "\\end{equation}\n",
        "podemos reescrever a equação (5), \n",
        "\\begin{equation}\n",
        "\\begin{aligned}\n",
        "\\frac{d\\kappa}{dt}L+\\kappa\\frac{dL}{dt}&=s\\beta L\\Phi(\\kappa).\n",
        "\\end{aligned}\n",
        "\\end{equation}\n",
        "\n",
        "Usando a premissa (P2) \n",
        "\\begin{equation}\n",
        "\\begin{aligned}\n",
        "\\frac{d\\kappa}{dt}L+\\kappa\\lambda L&=s\\beta L\\Phi(\\kappa),\n",
        "\\end{aligned}\n",
        "\\end{equation}\n",
        "dividindo a equação por L,\n",
        "\\begin{equation}\n",
        "\\begin{aligned}\n",
        "\\frac{d\\kappa}{dt}+\\lambda\\kappa &=s\\beta\\Phi(\\kappa).\n",
        "\\end{aligned}\\tag{Equação de Solow}\n",
        "\\end{equation}\n",
        "lembrando que $\\Phi(\\kappa)=\\kappa^\\alpha$.\n",
        "\\begin{equation}\n",
        "\\begin{aligned}\n",
        "\\frac{d\\kappa}{dt}+\\lambda\\kappa &=s\\beta\\kappa^\\alpha.\n",
        "\\end{aligned}\n",
        "\\end{equation} \n",
        "deduzimos a equação de Solow a partir da função de produção de Cobb-Douglas, e verificamos que a equação é uma EDO de Bernoulli."
      ]
    },
    {
      "cell_type": "markdown",
      "metadata": {
        "id": "hn0UDEvjAqRW",
        "colab_type": "text"
      },
      "source": [
        "## Solução da EDO com a função de Cobb-Douglas\n",
        "\\begin{equation}\n",
        "\\begin{aligned}\n",
        "\\frac{1}{\\kappa^\\alpha}\\frac{d\\kappa}{dt}+\\lambda\\kappa^{1-\\alpha} &=s\\beta.\n",
        "\\end{aligned}\\tag{5}\n",
        "\\end{equation} \n",
        "\n",
        "Definindo $z(t)=\\kappa(t)^{1-\\alpha}$e derivando em relação ao tempo teremos,\n",
        "\\begin{equation}\n",
        "\\begin{aligned}\n",
        "\\frac{dz}{dt}&=\\frac{d\\kappa^{1-\\alpha}}{dt},\\\\\n",
        "\\frac{dz}{dt}&=(1-\\alpha)\\kappa^{-\\alpha}\\frac{d\\kappa}{dt},\\\\\n",
        "\\frac{1}{1-\\alpha}\\frac{dz}{dt}&=\\kappa^{-\\alpha}\\frac{d\\kappa}{dt},\\\\\n",
        "\\end{aligned}\n",
        "\\end{equation}\n",
        "substituindo na equação (5),\n",
        "\\begin{equation}\n",
        "\\begin{aligned}\n",
        "\\frac{1}{1-\\alpha}\\frac{dz}{dt} + \\lambda z=s\\beta,\\\\\n",
        "\\end{aligned}\n",
        "\\end{equation}\n",
        "resultando na EDO com coeficientes constantes,\n",
        "\\begin{equation}\n",
        "\\begin{aligned}\n",
        "\\frac{dz}{dt} + (1-\\alpha)\\lambda z=(1-\\alpha)s\\beta.\\\\\n",
        "\\end{aligned}\\tag{equação de Bernoulli reduzida}\n",
        "\\end{equation}\n",
        "\n",
        "Definindo $z=(1-\\alpha)\\lambda$ e $b=(1-\\alpha)s\\beta$, encontramos a solução usando o método para coeficientes constantes (podemos usar fator integrante),\n",
        "\\begin{equation}\n",
        "\\begin{aligned}\n",
        "z(t)=\\left[z(0)-\\frac{b}{a}\\right]e^{-at}+\\frac{b}{a}.\n",
        "\\end{aligned}\n",
        "\\end{equation}\n",
        "então\n",
        "\\begin{equation}\n",
        "\\begin{aligned}\n",
        "z(t)=\\left[z(0)-\\frac{s\\beta}{\\lambda}\\right]e^{-(1-\\alpha)\\lambda t}+\\frac{s\\beta}{\\lambda}.\n",
        "\\end{aligned}\n",
        "\\end{equation}\n",
        "lembrando que $z(t)=\\kappa^{1-\\alpha}(t)$ a solução será \n",
        "\\begin{equation}\n",
        "\\begin{aligned}\n",
        "\\kappa(t)=\\left(\\left[\\kappa(0)^{1-\\alpha}-\\frac{s\\beta}{\\lambda}\\right]e^{-(1-\\alpha)\\lambda t}+\\frac{s\\beta}{\\lambda}\\right)^{\\frac{1}{1-\\alpha}}.\n",
        "\\end{aligned}\\tag{Solução da EDO de Bernoulli}\n",
        "\\end{equation}\n",
        "\n",
        "O comportamento assintótico ($t\\rightarrow\\infty$) pode ser observado, e afirmamos que o equilíbio para a razão capital trabalho $\\kappa^*$ acontece em\n",
        "\\begin{equation}\n",
        "\\begin{aligned}\n",
        "\\kappa^*=\\left(\\frac{s\\beta}{\\lambda}\\right)^{\\frac{1}{1-\\alpha}}.\n",
        "\\end{aligned}\\tag{Equilíbrio para $\\kappa$}\n",
        "\\end{equation}\n"
      ]
    },
    {
      "cell_type": "markdown",
      "metadata": {
        "id": "rZHGNHn9pCFY",
        "colab_type": "text"
      },
      "source": [
        "## Gráfico da solução\n",
        "- $\\alpha=0.25$\n",
        "- $\\beta=1$\n",
        "- $s=0.5$\n",
        "- $\\lambda=0.1$\n",
        "- $\\kappa_0=1000$"
      ]
    },
    {
      "cell_type": "code",
      "metadata": {
        "id": "ogr4ZgMNqaf2",
        "colab_type": "code",
        "colab": {
          "base_uri": "https://localhost:8080/",
          "height": 332
        },
        "outputId": "311efa86-500e-4337-af4a-b90ab3a9ecce"
      },
      "source": [
        "import matplotlib.pyplot as plt\n",
        "import numpy as np\n",
        "def sol_exata(t, alpha, beta, s, lbd, kappa0):\n",
        "  aux = ( (kappa0 * (1 - alpha) - (s * beta)/ lbd) * np.exp(-(1 - alpha) * t) \\\n",
        "         + (s * beta)/ lbd)\n",
        "  sol_exata = (aux)*(1 / (1 - alpha))\n",
        "  return sol_exata\n",
        "# Parâmetros de entrada\n",
        "alpha = 0.25\n",
        "beta = 1\n",
        "s = 0.5\n",
        "lbd= 0.1\n",
        "kappa0= 1000\n",
        "#\n",
        "ti = 1\n",
        "tf = 10\n",
        "n = 2048\n",
        "h = (tf - ti) / n\n",
        "t      = np.linspace(0, 0, n + 1)\n",
        "sol_ex = np.linspace(0, 0, n + 1)\n",
        "for i in range(0, n + 1):\n",
        "\tt[i] = ti + i * h\n",
        "# Solução exata\n",
        "for i in range(0, n + 1):\n",
        "  sol_ex[i] = sol_exata(t[i], alpha, beta, s, lbd, kappa0)\n",
        "# Plot\n",
        "p1, = plt.plot(t, sol_ex)\n",
        "plt.title('Solow  (Cobb-Douglas)')\n",
        "plt.xlabel('t')\n",
        "plt.ylabel('$\\kappa$')\n",
        "plt.grid(alpha=.3, linestyle='--')\n",
        "plt.legend(handles=[p1], loc='upper left')\n",
        "plt.show()"
      ],
      "execution_count": null,
      "outputs": [
        {
          "output_type": "stream",
          "text": [
            "/usr/local/lib/python3.6/dist-packages/ipykernel_launcher.py:31: UserWarning: The handle <matplotlib.lines.Line2D object at 0x7f6c7c4f45c0> has a label of '_line0' which cannot be automatically added to the legend.\n"
          ],
          "name": "stderr"
        },
        {
          "output_type": "display_data",
          "data": {
            "image/png": "[encoded data removed]",
            "text/plain": [
              "<Figure size 432x288 with 1 Axes>"
            ]
          },
          "metadata": {
            "tags": [],
            "needs_background": "light"
          }
        }
      ]
    },
    {
      "cell_type": "markdown",
      "metadata": {
        "id": "tg6Hnpo_NLlF",
        "colab_type": "text"
      },
      "source": [
        "## Programa para encontrar o valor para o equilíbrio"
      ]
    },
    {
      "cell_type": "code",
      "metadata": {
        "id": "TDPkOoSzNh2m",
        "colab_type": "code",
        "colab": {
          "base_uri": "https://localhost:8080/",
          "height": 34
        },
        "outputId": "43e453e6-d39d-484e-cb80-7af522efc4d4"
      },
      "source": [
        "alpha = 0.25\n",
        "beta = 1\n",
        "s = 0.5\n",
        "lbd= 0.1\n",
        "equil_kappa = ((s * beta)/ lbd)*(1 / (1 - alpha))\n",
        "print(equil_kappa)"
      ],
      "execution_count": null,
      "outputs": [
        {
          "output_type": "stream",
          "text": [
            "6.666666666666666\n"
          ],
          "name": "stdout"
        }
      ]
    },
    {
      "cell_type": "markdown",
      "metadata": {
        "id": "hADrEOS3KD_2",
        "colab_type": "text"
      },
      "source": [
        "# Referências\n",
        "- [1] Essential Mathematics for Economic Analysis.  Sydsaeter, K. and Hammond, P.J. and Strom, A. and Carvajal, A.\n",
        "- [2] Cálculo I. Weir, M.D. and Thomas, G.B. and Hass, J. and Giordano, F.R., Pearson Addison Wesley.\n"
      ]
    }
  ]
}