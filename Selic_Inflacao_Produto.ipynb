{
  "nbformat": 4,
  "nbformat_minor": 0,
  "metadata": {
    "colab": {
      "name": "Selic_Inflacao_Produto.ipynb",
      "provenance": [],
      "collapsed_sections": [],
      "include_colab_link": true
    },
    "kernelspec": {
      "name": "python3",
      "display_name": "Python 3"
    }
  },
  "cells": [
    {
      "cell_type": "markdown",
      "metadata": {
        "id": "view-in-github",
        "colab_type": "text"
      },
      "source": [
        "<a href=\"https://colab.research.google.com/github/lcbjrrr/quant/blob/master/Selic_Inflacao_Produto.ipynb\" target=\"_parent\"><img src=\"https://colab.research.google.com/assets/colab-badge.svg\" alt=\"Open In Colab\"/></a>"
      ]
    },
    {
      "cell_type": "code",
      "metadata": {
        "id": "f612QahEgR5U",
        "colab_type": "code",
        "outputId": "16e0c45f-6916-4aa2-c87f-4ea0e4817ca5",
        "colab": {
          "base_uri": "https://localhost:8080/",
          "height": 105
        }
      },
      "source": [
        "%load_ext rpy2.ipython\n"
      ],
      "execution_count": 0,
      "outputs": [
        {
          "output_type": "stream",
          "text": [
            "/usr/local/lib/python3.6/dist-packages/rpy2/robjects/pandas2ri.py:14: FutureWarning: pandas.core.index is deprecated and will be removed in a future version.  The public classes are available in the top-level namespace.\n",
            "  from pandas.core.index import Index as PandasIndex\n",
            "/usr/local/lib/python3.6/dist-packages/rpy2/robjects/pandas2ri.py:34: UserWarning: pandas >= 1.0 is not supported.\n",
            "  warnings.warn('pandas >= 1.0 is not supported.')\n"
          ],
          "name": "stderr"
        }
      ]
    },
    {
      "cell_type": "code",
      "metadata": {
        "id": "lpIH37Zjg8VB",
        "colab_type": "code",
        "colab": {}
      },
      "source": [
        "%%R\n",
        "install.packages('dynlm')"
      ],
      "execution_count": 0,
      "outputs": []
    },
    {
      "cell_type": "code",
      "metadata": {
        "id": "tcnU9gQahBIp",
        "colab_type": "code",
        "outputId": "3820f5d0-18d5-47d9-afcc-39bbc9d2ff49",
        "colab": {
          "base_uri": "https://localhost:8080/",
          "height": 204
        }
      },
      "source": [
        "%%R\n",
        "library(dynlm)"
      ],
      "execution_count": 0,
      "outputs": [
        {
          "output_type": "stream",
          "text": [
            "R[write to console]: Loading required package: zoo\n",
            "\n",
            "R[write to console]: \n",
            "Attaching package: ‘zoo’\n",
            "\n",
            "\n",
            "R[write to console]: The following objects are masked from ‘package:base’:\n",
            "\n",
            "    as.Date, as.Date.numeric\n",
            "\n",
            "\n"
          ],
          "name": "stderr"
        }
      ]
    },
    {
      "cell_type": "markdown",
      "metadata": {
        "id": "Z0z4csANgwKg",
        "colab_type": "text"
      },
      "source": [
        "**Previsao Selic [Taylor]**"
      ]
    },
    {
      "cell_type": "markdown",
      "metadata": {
        "id": "r_krUxUukQAp",
        "colab_type": "text"
      },
      "source": [
        "\\begin{align}\n",
        "i_t = \\alpha_0 + \\alpha_1 i_{t-1} + \\alpha_2 i_{t-2} + \\alpha_3 (\\pi_{t}^{e} - \\pi^{M}) + \\alpha_4 h_{t-1}  + u_t\n",
        "\\end{align} "
      ]
    },
    {
      "cell_type": "markdown",
      "metadata": {
        "id": "tQxZrZlfkaki",
        "colab_type": "text"
      },
      "source": [
        "Basicamente, a regra de Taylor a ser estimada relaciona a taxa básica de juros às suas próprias desagens de modo a incorporar a suavização da taxa de juros ao longo do tempo e, econometricamente, previnir autocorrelação nos resídios, a diferença entre a inflação projetada e a meta de inflação e uma medida de hiato do produto."
      ]
    },
    {
      "cell_type": "code",
      "metadata": {
        "id": "02M9jD7tgbAF",
        "colab_type": "code",
        "outputId": "789771e8-3dbf-4b3d-deb1-8972cf91272c",
        "colab": {
          "base_uri": "https://localhost:8080/",
          "height": 136
        }
      },
      "source": [
        "%%R\n",
        "dados_selic <- read.csv('https://raw.githubusercontent.com/lcbjrrr/macro_dummy/master/dados/_taylor.csv')\n",
        "head(dados_selic)"
      ],
      "execution_count": 0,
      "outputs": [
        {
          "output_type": "stream",
          "text": [
            "  X    selic    desvio      hiato\n",
            "1 1 19.05333  1.756400 -2.5179676\n",
            "2 2 18.91333 -3.759918 -1.1852716\n",
            "3 3 18.28333 -3.910159 -1.6804258\n",
            "4 4 17.96667 -3.291288 -0.5815099\n",
            "5 5 21.29000  1.513516 -0.2950724\n",
            "6 6 25.68667  5.576721 -2.2151814\n"
          ],
          "name": "stdout"
        }
      ]
    },
    {
      "cell_type": "code",
      "metadata": {
        "id": "jO_BxfzvgU8K",
        "colab_type": "code",
        "outputId": "017c2875-188e-4caa-95f1-1c4755f1f12e",
        "colab": {
          "base_uri": "https://localhost:8080/",
          "height": 459
        }
      },
      "source": [
        "%%R\n",
        "modelo = dynlm(selic~L(selic)+L(selic,2)+desvio+L(hiato,1), data=dados_selic)\n",
        "summary(modelo)\n"
      ],
      "execution_count": 0,
      "outputs": [
        {
          "output_type": "stream",
          "text": [
            "\n",
            "Time series regression with \"numeric\" data:\n",
            "Start = 1, End = 65\n",
            "\n",
            "Call:\n",
            "dynlm(formula = selic ~ L(selic) + L(selic, 2) + desvio + L(hiato, \n",
            "    1), data = dados_selic)\n",
            "\n",
            "Residuals:\n",
            "       Min         1Q     Median         3Q        Max \n",
            "-5.592e-16 -7.969e-17  1.605e-17  8.315e-17  3.489e-16 \n",
            "\n",
            "Coefficients: (1 not defined because of singularities)\n",
            "              Estimate Std. Error   t value Pr(>|t|)    \n",
            "(Intercept)  0.000e+00  6.625e-17  0.00e+00    1.000    \n",
            "L(selic)     1.000e+00  4.950e-18  2.02e+17   <2e-16 ***\n",
            "L(selic, 2)         NA         NA        NA       NA    \n",
            "desvio       1.038e-17  1.436e-17  7.23e-01    0.473    \n",
            "L(hiato, 1) -8.007e-18  9.474e-18 -8.45e-01    0.401    \n",
            "---\n",
            "Signif. codes:  0 ‘***’ 0.001 ‘**’ 0.01 ‘*’ 0.05 ‘.’ 0.1 ‘ ’ 1\n",
            "\n",
            "Residual standard error: 1.608e-16 on 61 degrees of freedom\n",
            "Multiple R-squared:      1,\tAdjusted R-squared:      1 \n",
            "F-statistic: 1.593e+34 on 3 and 61 DF,  p-value: < 2.2e-16\n",
            "\n"
          ],
          "name": "stdout"
        }
      ]
    },
    {
      "cell_type": "markdown",
      "metadata": {
        "id": "r8z7yYa4kpUK",
        "colab_type": "text"
      },
      "source": [
        "**Previsao Inflacao (IPCA) [Phillips]**"
      ]
    },
    {
      "cell_type": "markdown",
      "metadata": {
        "id": "hQJlVid-cRk0",
        "colab_type": "text"
      },
      "source": [
        "\\begin{align}\n",
        "\\pi_t^{livres} = \\sum_{i>0} \\beta_{1i} E_t \\pi^{total}_{t+i}+\\sum_{j>0} \\beta_{2j} \\pi^{total}_{t-j} +\\sum_{k \\geq 0} \\beta_{3k} \\pi^{importada}_{t-k} + \\sum_{l>0} \\beta_{4l} hiato_{t-l} + \\sum_{m = 1}^4 D_m + \\epsilon_t\n",
        "\\end{align}"
      ]
    },
    {
      "cell_type": "markdown",
      "metadata": {
        "id": "ZeqaFTYHoXBH",
        "colab_type": "text"
      },
      "source": [
        "![alt text](https://pbs.twimg.com/media/EUdHPTNWAAAyWz0?format=png&name=medium)"
      ]
    },
    {
      "cell_type": "markdown",
      "metadata": {
        "id": "0qE0sX_fWhtp",
        "colab_type": "text"
      },
      "source": [
        "\\begin{align}\n",
        "\\pi_t^{\\text{livres}}=\\sum_{i>0} \\beta_{1i}E_t\\pi_{t+i}^{total}+\\sum_{j>0} \\beta_{2j}\\pi_{t-j}^{\\text{total}}+\\sum_{k\\ge 0} \\beta_{3k}\\pi_{t-k}^{\\text{importada}}+\\sum_{l> 0} \\beta_{4l}\\text{hiato}_{t-l}+\\sum_{m=1}^4D_m+\\epsilon_t\n",
        "\\end{align}"
      ]
    },
    {
      "cell_type": "markdown",
      "metadata": {
        "id": "W3kz9nEXn1Ci",
        "colab_type": "text"
      },
      "source": [
        "Com a imposição da restrição de verticalidade de longo prazo:"
      ]
    },
    {
      "cell_type": "markdown",
      "metadata": {
        "id": "uIi80vjvy3n9",
        "colab_type": "text"
      },
      "source": [
        "\\begin{align}\n",
        "\\sum_{i>0} \\beta_{1i} +\\sum_{j>0} \\beta_{2j} +\\sum_{k \\geq 0} \\beta_{3k} = 1\n",
        "\\end{align}"
      ]
    },
    {
      "cell_type": "markdown",
      "metadata": {
        "id": "x8DdCCI1y3xW",
        "colab_type": "text"
      },
      "source": [
        "Basicamente, a inflação dos preços livres é uma função linear da inflação passada, das expectativas\n",
        "de inflação, do hiato do produto e da inflação importada."
      ]
    },
    {
      "cell_type": "code",
      "metadata": {
        "id": "fHxv3zMUm-Ji",
        "colab_type": "code",
        "outputId": "2f31ee5f-49d7-4827-9070-a2b789095767",
        "colab": {
          "base_uri": "https://localhost:8080/",
          "height": 374
        }
      },
      "source": [
        "%%R\n",
        "dados_ipca <- read.csv('https://raw.githubusercontent.com/lcbjrrr/macro_dummy/master/dados/_phillips.csv')\n",
        "head(dados_ipca)\n"
      ],
      "execution_count": 0,
      "outputs": [
        {
          "output_type": "stream",
          "text": [
            "  X date_quarter ipca_total ipca_livres    ic_br      hiato EInf_t.1  EInf_t.2\n",
            "1 1       2002.1   1.487163   1.5982659 310.4157 -1.1852716 1.105276 1.6003177\n",
            "2 2       2002.2   1.435929   0.6212278 317.4829 -1.6804258 1.473526 0.9259671\n",
            "3 3       2002.3   2.581039   2.5612390 503.2905 -0.5815099 1.089647 1.0786070\n",
            "4 4       2002.4   6.561323   6.3354543 739.6163 -0.2950724 2.030877 2.0350018\n",
            "5 5       2003.1   5.132745   4.1042089 743.0205 -2.2151814 2.228706 2.9853265\n",
            "6 6       2003.2   1.433538   1.6074202 557.6581 -3.0601695 2.688714 1.8486998\n",
            "   EInf_t.3  EInf_t.4  EInf_t.5 EInf_t.6 quarter  ipca_l1  ipca_l2   hiato_l3\n",
            "1 1.0008514 0.8394723 0.3125000       NA       1       NA       NA         NA\n",
            "2 0.9729816 0.8786364 0.5676923       NA       2 1.487163       NA         NA\n",
            "3 1.0947221 1.3430611 0.4050000       NA       3 1.435929 1.487163         NA\n",
            "4 2.6253412 1.6941884 0.7323529       NA       4 2.581039 1.435929 -1.1852716\n",
            "5 2.1303814 1.6529441 0.5400000       NA       1 6.561323 2.581039 -1.6804258\n",
            "6 1.8298061 1.3769489 0.8892857       NA       2 5.132745 6.561323 -0.5815099\n",
            "     ic_l1   Einf_1\n",
            "1       NA 1.105276\n",
            "2 310.4157 1.473526\n",
            "3 317.4829 1.089647\n",
            "4 503.2905 2.030877\n",
            "5 739.6163 2.228706\n",
            "6 743.0205 2.688714\n"
          ],
          "name": "stdout"
        }
      ]
    },
    {
      "cell_type": "code",
      "metadata": {
        "id": "ExxM1-vGnSAS",
        "colab_type": "code",
        "outputId": "a520cf57-089c-4e6d-9a4e-abe34940fb8a",
        "colab": {
          "base_uri": "https://localhost:8080/",
          "height": 442
        }
      },
      "source": [
        "%%R\n",
        "modelo_unr <- lm(ipca_livres ~ -1 + ipca_l1 + ipca_l2 + Einf_1 + hiato_l3 + ic_l1 + quarter, data = dados_ipca)\n",
        "\n",
        "summary(modelo_unr)"
      ],
      "execution_count": 0,
      "outputs": [
        {
          "output_type": "stream",
          "text": [
            "\n",
            "Call:\n",
            "lm(formula = ipca_livres ~ -1 + ipca_l1 + ipca_l2 + Einf_1 + \n",
            "    hiato_l3 + ic_l1 + quarter, data = dados_ipca)\n",
            "\n",
            "Residuals:\n",
            "    Min      1Q  Median      3Q     Max \n",
            "-1.2794 -0.4460  0.0019  0.2686  3.2631 \n",
            "\n",
            "Coefficients:\n",
            "           Estimate Std. Error t value Pr(>|t|)    \n",
            "ipca_l1   5.258e-01  1.348e-01   3.900 0.000264 ***\n",
            "ipca_l2  -6.161e-01  1.235e-01  -4.989 6.44e-06 ***\n",
            "Einf_1    1.462e+00  3.546e-01   4.124 0.000127 ***\n",
            "hiato_l3  6.215e-02  4.746e-02   1.310 0.195798    \n",
            "ic_l1    -9.423e-05  2.202e-04  -0.428 0.670444    \n",
            "quarter  -6.216e-02  1.175e-01  -0.529 0.598873    \n",
            "---\n",
            "Signif. codes:  0 ‘***’ 0.001 ‘**’ 0.01 ‘*’ 0.05 ‘.’ 0.1 ‘ ’ 1\n",
            "\n",
            "Residual standard error: 0.7752 on 55 degrees of freedom\n",
            "  (3 observations deleted due to missingness)\n",
            "Multiple R-squared:  0.8403,\tAdjusted R-squared:  0.8229 \n",
            "F-statistic: 48.25 on 6 and 55 DF,  p-value: < 2.2e-16\n",
            "\n"
          ],
          "name": "stdout"
        }
      ]
    },
    {
      "cell_type": "markdown",
      "metadata": {
        "id": "-GSi7y_oozLO",
        "colab_type": "text"
      },
      "source": [
        "**Prever o Hiato [IS]**"
      ]
    },
    {
      "cell_type": "markdown",
      "metadata": {
        "id": "jd8eKIjsozRX",
        "colab_type": "text"
      },
      "source": [
        "\\begin{align}\n",
        "h_t = \\beta_0 + \\sum_{i>0} \\beta_{1i} h_{t-1} + \\sum_{j>0} \\beta_{2j} r_{t-j} +\\sum_{k > 0} \\beta_{3k} \\Delta \\sup_{t-k} + u_t\n",
        "\\end{align} "
      ]
    },
    {
      "cell_type": "markdown",
      "metadata": {
        "id": "SYtiRvaqozhn",
        "colab_type": "text"
      },
      "source": [
        "Basicamente, a Curva IS estimada irá descrever a dinâmica do hiato do produto com base em suas\n",
        "próprias defasagens, da taxa de juros real ex-ante e da variação do superávit primário."
      ]
    },
    {
      "cell_type": "code",
      "metadata": {
        "id": "LjTzp6SKozpc",
        "colab_type": "code",
        "outputId": "46c4ce8e-d8e8-4983-9dcd-b7ae5ea36afa",
        "colab": {
          "base_uri": "https://localhost:8080/",
          "height": 136
        }
      },
      "source": [
        "%%R\n",
        "dados_hiato<- read.csv('https://raw.githubusercontent.com/lcbjrrr/macro_dummy/master/dados/_is.csv')\n",
        "head(dados_hiato)"
      ],
      "execution_count": 0,
      "outputs": [
        {
          "output_type": "stream",
          "text": [
            "  X      hiato      sup juroreal\n",
            "1 1 -1.1852716 2.827197 14.25316\n",
            "2 2 -1.6804258 2.732643 16.26550\n",
            "3 3 -0.5815099 2.792010 20.07476\n",
            "4 4 -0.2950724 2.751588 18.20586\n",
            "5 5 -2.2151814 3.245981 15.10020\n",
            "6 6 -3.0601695 3.703831 13.80967\n"
          ],
          "name": "stdout"
        }
      ]
    },
    {
      "cell_type": "code",
      "metadata": {
        "id": "E9Bb7XCdyL55",
        "colab_type": "code",
        "outputId": "ed713576-338d-410b-d3f2-59b3a574f8ad",
        "colab": {
          "base_uri": "https://localhost:8080/",
          "height": 255
        }
      },
      "source": [
        "%%R\n",
        "model = dynlm(hiato~L(hiato)+L(juroreal)+d(sup), data=dados_hiato)\n",
        "summary(model)"
      ],
      "execution_count": 0,
      "outputs": [
        {
          "output_type": "stream",
          "text": [
            "R[write to console]: Error in merge.zoo(hiato, L(hiato), L(juroreal), d(sup), retclass = \"list\",  : \n",
            "  all(sapply(args, function(x) is.zoo(x) || !is.plain(x) || (is.plain(x) &&  .... is not TRUE\n",
            "Calls: <Anonymous> ... model.frame.default -> eval -> eval -> merge.zoo -> stopifnot\n",
            "\n",
            "R[write to console]: In addition: \n",
            "R[write to console]: Warning message:\n",
            "\n",
            "R[write to console]: In summary.lm(modelo) :\n",
            "R[write to console]:  essentially perfect fit: summary may be unreliable\n",
            "\n"
          ],
          "name": "stderr"
        },
        {
          "output_type": "stream",
          "text": [
            "\n",
            "Error in merge.zoo(hiato, L(hiato), L(juroreal), d(sup), retclass = \"list\",  : \n",
            "  all(sapply(args, function(x) is.zoo(x) || !is.plain(x) || (is.plain(x) &&  .... is not TRUE\n",
            "Calls: <Anonymous> ... model.frame.default -> eval -> eval -> merge.zoo -> stopifnot\n"
          ],
          "name": "stdout"
        }
      ]
    }
  ]
}