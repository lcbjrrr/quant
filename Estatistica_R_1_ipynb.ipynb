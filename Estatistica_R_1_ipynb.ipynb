{
  "nbformat": 4,
  "nbformat_minor": 0,
  "metadata": {
    "colab": {
      "name": "Estatistica R - 1.ipynb.ipynb",
      "provenance": [],
      "include_colab_link": true
    },
    "kernelspec": {
      "name": "python3",
      "display_name": "Python 3"
    }
  },
  "cells": [
    {
      "cell_type": "markdown",
      "metadata": {
        "id": "view-in-github",
        "colab_type": "text"
      },
      "source": [
        "<a href=\"https://colab.research.google.com/github/lcbjrrr/quant/blob/master/Estatistica_R_1_ipynb.ipynb\" target=\"_parent\"><img src=\"https://colab.research.google.com/assets/colab-badge.svg\" alt=\"Open In Colab\"/></a>"
      ]
    },
    {
      "cell_type": "markdown",
      "metadata": {
        "id": "GsGk_bOH5_U5"
      },
      "source": [
        "**Analise Estatistica**"
      ]
    },
    {
      "cell_type": "code",
      "metadata": {
        "colab": {
          "base_uri": "https://localhost:8080/"
        },
        "id": "CZQpwrEVIQ-X",
        "outputId": "a096fc34-adf2-42df-90b9-30e3ba3428a8"
      },
      "source": [
        "%load_ext rpy2.ipython\n"
      ],
      "execution_count": 1,
      "outputs": [
        {
          "output_type": "stream",
          "text": [
            "/usr/local/lib/python3.6/dist-packages/rpy2/robjects/pandas2ri.py:14: FutureWarning: pandas.core.index is deprecated and will be removed in a future version.  The public classes are available in the top-level namespace.\n",
            "  from pandas.core.index import Index as PandasIndex\n",
            "/usr/local/lib/python3.6/dist-packages/rpy2/robjects/pandas2ri.py:34: UserWarning: pandas >= 1.0 is not supported.\n",
            "  warnings.warn('pandas >= 1.0 is not supported.')\n"
          ],
          "name": "stderr"
        }
      ]
    },
    {
      "cell_type": "code",
      "metadata": {
        "id": "-tKCnkt-5_cO",
        "colab": {
          "base_uri": "https://localhost:8080/"
        },
        "outputId": "86d6f7a6-3d27-49d2-e308-d1f6cbef54a1"
      },
      "source": [
        "%%R\n",
        "notas_turma <- read.csv('https://raw.githubusercontent.com/lcbjuk/ML/master/dados/notas_turma%20-%20final.csv')\n",
        "notas_turma\n",
        "\n"
      ],
      "execution_count": 2,
      "outputs": [
        {
          "output_type": "stream",
          "text": [
            "   Curso  Alunos  AP1  AP2  AP3 Nota Conceito\n",
            "1    ADM    João  9.0  8.0  9.0  8.6        B\n",
            "2    ADM   Maria  6.0  4.0 10.0  6.0        D\n",
            "3    DIR    José  4.0  3.0  4.0  3.6        F\n",
            "4    ADM   Pedro  8.0 10.0  7.0  8.6        B\n",
            "5    ECO   Paulo  7.5  8.0  9.5  8.1        B\n",
            "6    DIR  Esther  6.0  4.5  6.0  5.4        D\n",
            "7    ADM Gabriel  8.0  6.0  8.0  7.2        B\n",
            "8    DIR  Rafael  7.5 10.0  9.5  8.9        B\n",
            "9    ECO    Davi  6.0 10.0  7.0  7.8        B\n",
            "10   DIR  Silvio 10.0  9.5  9.5  9.7        A\n",
            "11   ADM   Sofia  8.0  7.0  6.0  7.2        B\n",
            "12   ADM  Raquel  4.5  4.0  4.0  4.2        F\n"
          ],
          "name": "stdout"
        }
      ]
    },
    {
      "cell_type": "code",
      "metadata": {
        "id": "giJnClCV7c1e",
        "colab": {
          "base_uri": "https://localhost:8080/"
        },
        "outputId": "006cc660-cc62-4866-cd29-ceaa4828391c"
      },
      "source": [
        "%%R\n",
        "notas_por_conceito <- table(notas_turma$Conceito)\n",
        "notas_por_conceito"
      ],
      "execution_count": 4,
      "outputs": [
        {
          "output_type": "stream",
          "text": [
            "\n",
            "A B D F \n",
            "1 7 2 2 \n"
          ],
          "name": "stdout"
        }
      ]
    },
    {
      "cell_type": "code",
      "metadata": {
        "id": "dEGj4co-7c6B",
        "colab": {
          "base_uri": "https://localhost:8080/",
          "height": 497
        },
        "outputId": "8ce4924b-3bb9-4113-e924-c38073424696"
      },
      "source": [
        "%%R\n",
        "barplot(notas_por_conceito)"
      ],
      "execution_count": 6,
      "outputs": [
        {
          "output_type": "display_data",
          "data": {
            "image/png": "[encoded data removed]"
          },
          "metadata": {
            "tags": []
          }
        }
      ]
    },
    {
      "cell_type": "code",
      "metadata": {
        "id": "9k-UidC97c8l",
        "colab": {
          "base_uri": "https://localhost:8080/",
          "height": 497
        },
        "outputId": "2b477dc7-e745-4833-db2f-3299afb1f5c6"
      },
      "source": [
        "%%R\n",
        "hist(notas_turma$Nota , breaks = c(0,5,7,9,10) , freq=T) "
      ],
      "execution_count": 9,
      "outputs": [
        {
          "output_type": "display_data",
          "data": {
            "image/png": "[encoded data removed]"
          },
          "metadata": {
            "tags": []
          }
        }
      ]
    },
    {
      "cell_type": "code",
      "metadata": {
        "id": "74iY8rql7dC_",
        "colab": {
          "base_uri": "https://localhost:8080/"
        },
        "outputId": "71ff82a3-a71b-43e8-aee8-132978294470"
      },
      "source": [
        "%%R\n",
        "summary(notas_turma$Nota)\n"
      ],
      "execution_count": 11,
      "outputs": [
        {
          "output_type": "stream",
          "text": [
            "   Min. 1st Qu.  Median    Mean 3rd Qu.    Max. \n",
            "  3.600   5.850   7.500   7.108   8.600   9.700 \n"
          ],
          "name": "stdout"
        }
      ]
    },
    {
      "cell_type": "code",
      "metadata": {
        "id": "x1Z4W0hw7dFN",
        "colab": {
          "base_uri": "https://localhost:8080/",
          "height": 497
        },
        "outputId": "440f515d-60d1-427f-e604-f4548887eee0"
      },
      "source": [
        "%%R\n",
        "boxplot(notas_turma['Nota'])\n"
      ],
      "execution_count": 12,
      "outputs": [
        {
          "output_type": "display_data",
          "data": {
            "image/png": "[encoded data removed]"
          },
          "metadata": {
            "tags": []
          }
        }
      ]
    }
  ]
}