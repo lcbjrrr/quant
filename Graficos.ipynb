{
  "nbformat": 4,
  "nbformat_minor": 0,
  "metadata": {
    "colab": {
      "name": "Graficos.ipynb",
      "provenance": [],
      "authorship_tag": "ABX9TyO/HaJ+5yZs6gTs9wua0vwp",
      "include_colab_link": true
    },
    "kernelspec": {
      "name": "python3",
      "display_name": "Python 3"
    }
  },
  "cells": [
    {
      "cell_type": "markdown",
      "metadata": {
        "id": "view-in-github",
        "colab_type": "text"
      },
      "source": [
        "<a href=\"https://colab.research.google.com/github/lcbjrrr/quant/blob/master/Graficos.ipynb\" target=\"_parent\"><img src=\"https://colab.research.google.com/assets/colab-badge.svg\" alt=\"Open In Colab\"/></a>"
      ]
    },
    {
      "cell_type": "code",
      "metadata": {
        "id": "DQAnCmMsKjIM"
      },
      "source": [
        ""
      ],
      "execution_count": null,
      "outputs": []
    },
    {
      "cell_type": "code",
      "metadata": {
        "id": "FFxWzBm0KmHk",
        "outputId": "5daa023b-9767-4e0d-ca72-77004fbec554",
        "colab": {
          "base_uri": "https://localhost:8080/",
          "height": 408
        }
      },
      "source": [
        "import pandas as pd\n",
        "contas = pd.read_csv('http://quant-ibmec.group/Plan3%20-%20orig.csv')\n",
        "contas"
      ],
      "execution_count": null,
      "outputs": [
        {
          "output_type": "execute_result",
          "data": {
            "text/html": [
              "<div>\n",
              "<style scoped>\n",
              "    .dataframe tbody tr th:only-of-type {\n",
              "        vertical-align: middle;\n",
              "    }\n",
              "\n",
              "    .dataframe tbody tr th {\n",
              "        vertical-align: top;\n",
              "    }\n",
              "\n",
              "    .dataframe thead th {\n",
              "        text-align: right;\n",
              "    }\n",
              "</style>\n",
              "<table border=\"1\" class=\"dataframe\">\n",
              "  <thead>\n",
              "    <tr style=\"text-align: right;\">\n",
              "      <th></th>\n",
              "      <th>Meses</th>\n",
              "      <th>Água</th>\n",
              "      <th>Energia</th>\n",
              "      <th>Telefonia</th>\n",
              "      <th>Condomínio</th>\n",
              "      <th>Suprimentos</th>\n",
              "    </tr>\n",
              "  </thead>\n",
              "  <tbody>\n",
              "    <tr>\n",
              "      <th>0</th>\n",
              "      <td>Janeiro</td>\n",
              "      <td>50.0</td>\n",
              "      <td>450.0</td>\n",
              "      <td>154.5</td>\n",
              "      <td>980.0</td>\n",
              "      <td>1,340.00</td>\n",
              "    </tr>\n",
              "    <tr>\n",
              "      <th>1</th>\n",
              "      <td>Fevereiro</td>\n",
              "      <td>55.0</td>\n",
              "      <td>425.0</td>\n",
              "      <td>138.0</td>\n",
              "      <td>980.0</td>\n",
              "      <td>2,450.00</td>\n",
              "    </tr>\n",
              "    <tr>\n",
              "      <th>2</th>\n",
              "      <td>Março</td>\n",
              "      <td>60.0</td>\n",
              "      <td>400.0</td>\n",
              "      <td>120.0</td>\n",
              "      <td>980.0</td>\n",
              "      <td>1,789.75</td>\n",
              "    </tr>\n",
              "    <tr>\n",
              "      <th>3</th>\n",
              "      <td>Abril</td>\n",
              "      <td>65.0</td>\n",
              "      <td>375.0</td>\n",
              "      <td>43.0</td>\n",
              "      <td>980.0</td>\n",
              "      <td>2,133.33</td>\n",
              "    </tr>\n",
              "    <tr>\n",
              "      <th>4</th>\n",
              "      <td>Maio</td>\n",
              "      <td>70.0</td>\n",
              "      <td>350.0</td>\n",
              "      <td>154.5</td>\n",
              "      <td>980.0</td>\n",
              "      <td>1,340.00</td>\n",
              "    </tr>\n",
              "    <tr>\n",
              "      <th>5</th>\n",
              "      <td>Junho</td>\n",
              "      <td>75.0</td>\n",
              "      <td>325.0</td>\n",
              "      <td>138.0</td>\n",
              "      <td>980.0</td>\n",
              "      <td>2,450.00</td>\n",
              "    </tr>\n",
              "    <tr>\n",
              "      <th>6</th>\n",
              "      <td>Julho</td>\n",
              "      <td>80.0</td>\n",
              "      <td>300.0</td>\n",
              "      <td>120.0</td>\n",
              "      <td>980.0</td>\n",
              "      <td>1,789.75</td>\n",
              "    </tr>\n",
              "    <tr>\n",
              "      <th>7</th>\n",
              "      <td>Agosto</td>\n",
              "      <td>85.0</td>\n",
              "      <td>275.0</td>\n",
              "      <td>43.0</td>\n",
              "      <td>980.0</td>\n",
              "      <td>2,133.33</td>\n",
              "    </tr>\n",
              "    <tr>\n",
              "      <th>8</th>\n",
              "      <td>Setembro</td>\n",
              "      <td>90.0</td>\n",
              "      <td>250.0</td>\n",
              "      <td>154.5</td>\n",
              "      <td>980.0</td>\n",
              "      <td>1,340.00</td>\n",
              "    </tr>\n",
              "    <tr>\n",
              "      <th>9</th>\n",
              "      <td>Outubro</td>\n",
              "      <td>95.0</td>\n",
              "      <td>225.0</td>\n",
              "      <td>138.0</td>\n",
              "      <td>980.0</td>\n",
              "      <td>2,450.00</td>\n",
              "    </tr>\n",
              "    <tr>\n",
              "      <th>10</th>\n",
              "      <td>Novembro</td>\n",
              "      <td>100.0</td>\n",
              "      <td>200.0</td>\n",
              "      <td>120.0</td>\n",
              "      <td>980.0</td>\n",
              "      <td>1,789.75</td>\n",
              "    </tr>\n",
              "    <tr>\n",
              "      <th>11</th>\n",
              "      <td>Dezembro</td>\n",
              "      <td>105.0</td>\n",
              "      <td>175.0</td>\n",
              "      <td>43.0</td>\n",
              "      <td>980.0</td>\n",
              "      <td>2,133.33</td>\n",
              "    </tr>\n",
              "  </tbody>\n",
              "</table>\n",
              "</div>"
            ],
            "text/plain": [
              "        Meses   Água  Energia  Telefonia  Condomínio  Suprimentos\n",
              "0     Janeiro   50.0    450.0      154.5       980.0    1,340.00 \n",
              "1   Fevereiro   55.0    425.0      138.0       980.0    2,450.00 \n",
              "2       Março   60.0    400.0      120.0       980.0    1,789.75 \n",
              "3       Abril   65.0    375.0       43.0       980.0    2,133.33 \n",
              "4        Maio   70.0    350.0      154.5       980.0    1,340.00 \n",
              "5       Junho   75.0    325.0      138.0       980.0    2,450.00 \n",
              "6       Julho   80.0    300.0      120.0       980.0    1,789.75 \n",
              "7      Agosto   85.0    275.0       43.0       980.0    2,133.33 \n",
              "8    Setembro   90.0    250.0      154.5       980.0    1,340.00 \n",
              "9     Outubro   95.0    225.0      138.0       980.0    2,450.00 \n",
              "10   Novembro  100.0    200.0      120.0       980.0    1,789.75 \n",
              "11   Dezembro  105.0    175.0       43.0       980.0    2,133.33 "
            ]
          },
          "metadata": {
            "tags": []
          },
          "execution_count": 4
        }
      ]
    },
    {
      "cell_type": "code",
      "metadata": {
        "id": "ji4orunCXfVP"
      },
      "source": [
        ""
      ],
      "execution_count": null,
      "outputs": []
    },
    {
      "cell_type": "code",
      "metadata": {
        "id": "bOEqm3jzfR9N",
        "outputId": "c2b9d441-8dd6-44ba-c1be-c282b8efa0f6",
        "colab": {
          "base_uri": "https://localhost:8080/",
          "height": 282
        }
      },
      "source": [
        "contas.plot.line()"
      ],
      "execution_count": null,
      "outputs": [
        {
          "output_type": "execute_result",
          "data": {
            "text/plain": [
              "<matplotlib.axes._subplots.AxesSubplot at 0x7f8f99e2dbe0>"
            ]
          },
          "metadata": {
            "tags": []
          },
          "execution_count": 6
        },
        {
          "output_type": "display_data",
          "data": {
            "image/png": "[encoded data removed]",
            "text/plain": [
              "<Figure size 432x288 with 1 Axes>"
            ]
          },
          "metadata": {
            "tags": [],
            "needs_background": "light"
          }
        }
      ]
    },
    {
      "cell_type": "code",
      "metadata": {
        "id": "OWk8YHRofd5G",
        "outputId": "c0f3e293-b40a-45de-8856-bc7fedce23cc",
        "colab": {
          "base_uri": "https://localhost:8080/",
          "height": 1000
        }
      },
      "source": [
        "melt = pd.read_csv('http://quant-ibmec.group/Plan3%20-%20melt%20-%20ok.csv')\n",
        "melt"
      ],
      "execution_count": null,
      "outputs": [
        {
          "output_type": "execute_result",
          "data": {
            "text/html": [
              "<div>\n",
              "<style scoped>\n",
              "    .dataframe tbody tr th:only-of-type {\n",
              "        vertical-align: middle;\n",
              "    }\n",
              "\n",
              "    .dataframe tbody tr th {\n",
              "        vertical-align: top;\n",
              "    }\n",
              "\n",
              "    .dataframe thead th {\n",
              "        text-align: right;\n",
              "    }\n",
              "</style>\n",
              "<table border=\"1\" class=\"dataframe\">\n",
              "  <thead>\n",
              "    <tr style=\"text-align: right;\">\n",
              "      <th></th>\n",
              "      <th>Categoria</th>\n",
              "      <th>Meses</th>\n",
              "      <th>Valores</th>\n",
              "    </tr>\n",
              "  </thead>\n",
              "  <tbody>\n",
              "    <tr>\n",
              "      <th>0</th>\n",
              "      <td>Água</td>\n",
              "      <td>Janeiro</td>\n",
              "      <td>50.00</td>\n",
              "    </tr>\n",
              "    <tr>\n",
              "      <th>1</th>\n",
              "      <td>Água</td>\n",
              "      <td>Fevereiro</td>\n",
              "      <td>55.00</td>\n",
              "    </tr>\n",
              "    <tr>\n",
              "      <th>2</th>\n",
              "      <td>Água</td>\n",
              "      <td>Março</td>\n",
              "      <td>60.00</td>\n",
              "    </tr>\n",
              "    <tr>\n",
              "      <th>3</th>\n",
              "      <td>Água</td>\n",
              "      <td>Abril</td>\n",
              "      <td>65.00</td>\n",
              "    </tr>\n",
              "    <tr>\n",
              "      <th>4</th>\n",
              "      <td>Água</td>\n",
              "      <td>Maio</td>\n",
              "      <td>70.00</td>\n",
              "    </tr>\n",
              "    <tr>\n",
              "      <th>5</th>\n",
              "      <td>Água</td>\n",
              "      <td>Junho</td>\n",
              "      <td>75.00</td>\n",
              "    </tr>\n",
              "    <tr>\n",
              "      <th>6</th>\n",
              "      <td>Água</td>\n",
              "      <td>Julho</td>\n",
              "      <td>80.00</td>\n",
              "    </tr>\n",
              "    <tr>\n",
              "      <th>7</th>\n",
              "      <td>Água</td>\n",
              "      <td>Agosto</td>\n",
              "      <td>85.00</td>\n",
              "    </tr>\n",
              "    <tr>\n",
              "      <th>8</th>\n",
              "      <td>Água</td>\n",
              "      <td>Setembro</td>\n",
              "      <td>90.00</td>\n",
              "    </tr>\n",
              "    <tr>\n",
              "      <th>9</th>\n",
              "      <td>Água</td>\n",
              "      <td>Outubro</td>\n",
              "      <td>95.00</td>\n",
              "    </tr>\n",
              "    <tr>\n",
              "      <th>10</th>\n",
              "      <td>Água</td>\n",
              "      <td>Novembro</td>\n",
              "      <td>100.00</td>\n",
              "    </tr>\n",
              "    <tr>\n",
              "      <th>11</th>\n",
              "      <td>Água</td>\n",
              "      <td>Dezembro</td>\n",
              "      <td>105.00</td>\n",
              "    </tr>\n",
              "    <tr>\n",
              "      <th>12</th>\n",
              "      <td>Energia</td>\n",
              "      <td>Janeiro</td>\n",
              "      <td>450.00</td>\n",
              "    </tr>\n",
              "    <tr>\n",
              "      <th>13</th>\n",
              "      <td>Energia</td>\n",
              "      <td>Fevereiro</td>\n",
              "      <td>425.00</td>\n",
              "    </tr>\n",
              "    <tr>\n",
              "      <th>14</th>\n",
              "      <td>Energia</td>\n",
              "      <td>Março</td>\n",
              "      <td>400.00</td>\n",
              "    </tr>\n",
              "    <tr>\n",
              "      <th>15</th>\n",
              "      <td>Energia</td>\n",
              "      <td>Abril</td>\n",
              "      <td>375.00</td>\n",
              "    </tr>\n",
              "    <tr>\n",
              "      <th>16</th>\n",
              "      <td>Energia</td>\n",
              "      <td>Maio</td>\n",
              "      <td>350.00</td>\n",
              "    </tr>\n",
              "    <tr>\n",
              "      <th>17</th>\n",
              "      <td>Energia</td>\n",
              "      <td>Junho</td>\n",
              "      <td>325.00</td>\n",
              "    </tr>\n",
              "    <tr>\n",
              "      <th>18</th>\n",
              "      <td>Energia</td>\n",
              "      <td>Julho</td>\n",
              "      <td>300.00</td>\n",
              "    </tr>\n",
              "    <tr>\n",
              "      <th>19</th>\n",
              "      <td>Energia</td>\n",
              "      <td>Agosto</td>\n",
              "      <td>275.00</td>\n",
              "    </tr>\n",
              "    <tr>\n",
              "      <th>20</th>\n",
              "      <td>Energia</td>\n",
              "      <td>Setembro</td>\n",
              "      <td>250.00</td>\n",
              "    </tr>\n",
              "    <tr>\n",
              "      <th>21</th>\n",
              "      <td>Energia</td>\n",
              "      <td>Outubro</td>\n",
              "      <td>225.00</td>\n",
              "    </tr>\n",
              "    <tr>\n",
              "      <th>22</th>\n",
              "      <td>Energia</td>\n",
              "      <td>Novembro</td>\n",
              "      <td>200.00</td>\n",
              "    </tr>\n",
              "    <tr>\n",
              "      <th>23</th>\n",
              "      <td>Energia</td>\n",
              "      <td>Dezembro</td>\n",
              "      <td>175.00</td>\n",
              "    </tr>\n",
              "    <tr>\n",
              "      <th>24</th>\n",
              "      <td>Telefonia</td>\n",
              "      <td>Janeiro</td>\n",
              "      <td>154.50</td>\n",
              "    </tr>\n",
              "    <tr>\n",
              "      <th>25</th>\n",
              "      <td>Telefonia</td>\n",
              "      <td>Fevereiro</td>\n",
              "      <td>138.00</td>\n",
              "    </tr>\n",
              "    <tr>\n",
              "      <th>26</th>\n",
              "      <td>Telefonia</td>\n",
              "      <td>Março</td>\n",
              "      <td>120.00</td>\n",
              "    </tr>\n",
              "    <tr>\n",
              "      <th>27</th>\n",
              "      <td>Telefonia</td>\n",
              "      <td>Abril</td>\n",
              "      <td>43.00</td>\n",
              "    </tr>\n",
              "    <tr>\n",
              "      <th>28</th>\n",
              "      <td>Telefonia</td>\n",
              "      <td>Maio</td>\n",
              "      <td>154.50</td>\n",
              "    </tr>\n",
              "    <tr>\n",
              "      <th>29</th>\n",
              "      <td>Telefonia</td>\n",
              "      <td>Junho</td>\n",
              "      <td>138.00</td>\n",
              "    </tr>\n",
              "    <tr>\n",
              "      <th>30</th>\n",
              "      <td>Telefonia</td>\n",
              "      <td>Julho</td>\n",
              "      <td>120.00</td>\n",
              "    </tr>\n",
              "    <tr>\n",
              "      <th>31</th>\n",
              "      <td>Telefonia</td>\n",
              "      <td>Agosto</td>\n",
              "      <td>43.00</td>\n",
              "    </tr>\n",
              "    <tr>\n",
              "      <th>32</th>\n",
              "      <td>Telefonia</td>\n",
              "      <td>Setembro</td>\n",
              "      <td>154.50</td>\n",
              "    </tr>\n",
              "    <tr>\n",
              "      <th>33</th>\n",
              "      <td>Telefonia</td>\n",
              "      <td>Outubro</td>\n",
              "      <td>138.00</td>\n",
              "    </tr>\n",
              "    <tr>\n",
              "      <th>34</th>\n",
              "      <td>Telefonia</td>\n",
              "      <td>Novembro</td>\n",
              "      <td>120.00</td>\n",
              "    </tr>\n",
              "    <tr>\n",
              "      <th>35</th>\n",
              "      <td>Telefonia</td>\n",
              "      <td>Dezembro</td>\n",
              "      <td>43.00</td>\n",
              "    </tr>\n",
              "    <tr>\n",
              "      <th>36</th>\n",
              "      <td>Condominio</td>\n",
              "      <td>Janeiro</td>\n",
              "      <td>980.00</td>\n",
              "    </tr>\n",
              "    <tr>\n",
              "      <th>37</th>\n",
              "      <td>Condominio</td>\n",
              "      <td>Fevereiro</td>\n",
              "      <td>980.00</td>\n",
              "    </tr>\n",
              "    <tr>\n",
              "      <th>38</th>\n",
              "      <td>Condominio</td>\n",
              "      <td>Março</td>\n",
              "      <td>980.00</td>\n",
              "    </tr>\n",
              "    <tr>\n",
              "      <th>39</th>\n",
              "      <td>Condominio</td>\n",
              "      <td>Abril</td>\n",
              "      <td>980.00</td>\n",
              "    </tr>\n",
              "    <tr>\n",
              "      <th>40</th>\n",
              "      <td>Condominio</td>\n",
              "      <td>Maio</td>\n",
              "      <td>980.00</td>\n",
              "    </tr>\n",
              "    <tr>\n",
              "      <th>41</th>\n",
              "      <td>Condominio</td>\n",
              "      <td>Junho</td>\n",
              "      <td>980.00</td>\n",
              "    </tr>\n",
              "    <tr>\n",
              "      <th>42</th>\n",
              "      <td>Condominio</td>\n",
              "      <td>Julho</td>\n",
              "      <td>980.00</td>\n",
              "    </tr>\n",
              "    <tr>\n",
              "      <th>43</th>\n",
              "      <td>Condominio</td>\n",
              "      <td>Agosto</td>\n",
              "      <td>980.00</td>\n",
              "    </tr>\n",
              "    <tr>\n",
              "      <th>44</th>\n",
              "      <td>Condominio</td>\n",
              "      <td>Setembro</td>\n",
              "      <td>980.00</td>\n",
              "    </tr>\n",
              "    <tr>\n",
              "      <th>45</th>\n",
              "      <td>Condominio</td>\n",
              "      <td>Outubro</td>\n",
              "      <td>980.00</td>\n",
              "    </tr>\n",
              "    <tr>\n",
              "      <th>46</th>\n",
              "      <td>Condominio</td>\n",
              "      <td>Novembro</td>\n",
              "      <td>980.00</td>\n",
              "    </tr>\n",
              "    <tr>\n",
              "      <th>47</th>\n",
              "      <td>Condominio</td>\n",
              "      <td>Dezembro</td>\n",
              "      <td>980.00</td>\n",
              "    </tr>\n",
              "    <tr>\n",
              "      <th>48</th>\n",
              "      <td>Suprimentos</td>\n",
              "      <td>Janeiro</td>\n",
              "      <td>1340.00</td>\n",
              "    </tr>\n",
              "    <tr>\n",
              "      <th>49</th>\n",
              "      <td>Suprimentos</td>\n",
              "      <td>Fevereiro</td>\n",
              "      <td>2450.00</td>\n",
              "    </tr>\n",
              "    <tr>\n",
              "      <th>50</th>\n",
              "      <td>Suprimentos</td>\n",
              "      <td>Março</td>\n",
              "      <td>1789.75</td>\n",
              "    </tr>\n",
              "    <tr>\n",
              "      <th>51</th>\n",
              "      <td>Suprimentos</td>\n",
              "      <td>Abril</td>\n",
              "      <td>2133.33</td>\n",
              "    </tr>\n",
              "    <tr>\n",
              "      <th>52</th>\n",
              "      <td>Suprimentos</td>\n",
              "      <td>Maio</td>\n",
              "      <td>1340.00</td>\n",
              "    </tr>\n",
              "    <tr>\n",
              "      <th>53</th>\n",
              "      <td>Suprimentos</td>\n",
              "      <td>Junho</td>\n",
              "      <td>2450.00</td>\n",
              "    </tr>\n",
              "    <tr>\n",
              "      <th>54</th>\n",
              "      <td>Suprimentos</td>\n",
              "      <td>Julho</td>\n",
              "      <td>1789.75</td>\n",
              "    </tr>\n",
              "    <tr>\n",
              "      <th>55</th>\n",
              "      <td>Suprimentos</td>\n",
              "      <td>Agosto</td>\n",
              "      <td>2133.33</td>\n",
              "    </tr>\n",
              "    <tr>\n",
              "      <th>56</th>\n",
              "      <td>Suprimentos</td>\n",
              "      <td>Setembro</td>\n",
              "      <td>1340.00</td>\n",
              "    </tr>\n",
              "    <tr>\n",
              "      <th>57</th>\n",
              "      <td>Suprimentos</td>\n",
              "      <td>Outubro</td>\n",
              "      <td>2450.00</td>\n",
              "    </tr>\n",
              "    <tr>\n",
              "      <th>58</th>\n",
              "      <td>Suprimentos</td>\n",
              "      <td>Novembro</td>\n",
              "      <td>1789.75</td>\n",
              "    </tr>\n",
              "    <tr>\n",
              "      <th>59</th>\n",
              "      <td>Suprimentos</td>\n",
              "      <td>Dezembro</td>\n",
              "      <td>2133.33</td>\n",
              "    </tr>\n",
              "  </tbody>\n",
              "</table>\n",
              "</div>"
            ],
            "text/plain": [
              "      Categoria      Meses  Valores\n",
              "0          Água    Janeiro    50.00\n",
              "1          Água  Fevereiro    55.00\n",
              "2          Água      Março    60.00\n",
              "3          Água      Abril    65.00\n",
              "4          Água       Maio    70.00\n",
              "5          Água      Junho    75.00\n",
              "6          Água      Julho    80.00\n",
              "7          Água     Agosto    85.00\n",
              "8          Água   Setembro    90.00\n",
              "9          Água    Outubro    95.00\n",
              "10         Água   Novembro   100.00\n",
              "11         Água   Dezembro   105.00\n",
              "12      Energia    Janeiro   450.00\n",
              "13      Energia  Fevereiro   425.00\n",
              "14      Energia      Março   400.00\n",
              "15      Energia      Abril   375.00\n",
              "16      Energia       Maio   350.00\n",
              "17      Energia      Junho   325.00\n",
              "18      Energia      Julho   300.00\n",
              "19      Energia     Agosto   275.00\n",
              "20      Energia   Setembro   250.00\n",
              "21      Energia    Outubro   225.00\n",
              "22      Energia   Novembro   200.00\n",
              "23      Energia   Dezembro   175.00\n",
              "24    Telefonia    Janeiro   154.50\n",
              "25    Telefonia  Fevereiro   138.00\n",
              "26    Telefonia      Março   120.00\n",
              "27    Telefonia      Abril    43.00\n",
              "28    Telefonia       Maio   154.50\n",
              "29    Telefonia      Junho   138.00\n",
              "30    Telefonia      Julho   120.00\n",
              "31    Telefonia     Agosto    43.00\n",
              "32    Telefonia   Setembro   154.50\n",
              "33    Telefonia    Outubro   138.00\n",
              "34    Telefonia   Novembro   120.00\n",
              "35    Telefonia   Dezembro    43.00\n",
              "36   Condominio    Janeiro   980.00\n",
              "37   Condominio  Fevereiro   980.00\n",
              "38   Condominio      Março   980.00\n",
              "39   Condominio      Abril   980.00\n",
              "40   Condominio       Maio   980.00\n",
              "41   Condominio      Junho   980.00\n",
              "42   Condominio      Julho   980.00\n",
              "43   Condominio     Agosto   980.00\n",
              "44   Condominio   Setembro   980.00\n",
              "45   Condominio    Outubro   980.00\n",
              "46   Condominio   Novembro   980.00\n",
              "47   Condominio   Dezembro   980.00\n",
              "48  Suprimentos    Janeiro  1340.00\n",
              "49  Suprimentos  Fevereiro  2450.00\n",
              "50  Suprimentos      Março  1789.75\n",
              "51  Suprimentos      Abril  2133.33\n",
              "52  Suprimentos       Maio  1340.00\n",
              "53  Suprimentos      Junho  2450.00\n",
              "54  Suprimentos      Julho  1789.75\n",
              "55  Suprimentos     Agosto  2133.33\n",
              "56  Suprimentos   Setembro  1340.00\n",
              "57  Suprimentos    Outubro  2450.00\n",
              "58  Suprimentos   Novembro  1789.75\n",
              "59  Suprimentos   Dezembro  2133.33"
            ]
          },
          "metadata": {
            "tags": []
          },
          "execution_count": 10
        }
      ]
    },
    {
      "cell_type": "code",
      "metadata": {
        "id": "4TmViKNlf7bf",
        "outputId": "82e4a1da-1c3e-4907-9838-53bf17b25288",
        "colab": {
          "base_uri": "https://localhost:8080/"
        }
      },
      "source": [
        "total_ano= melt.groupby('Categoria').sum()['Valores']\n",
        "total_ano"
      ],
      "execution_count": null,
      "outputs": [
        {
          "output_type": "execute_result",
          "data": {
            "text/plain": [
              "Categoria\n",
              "Condominio     11760.00\n",
              "Energia         3750.00\n",
              "Suprimentos    23139.24\n",
              "Telefonia       1366.50\n",
              "Água             930.00\n",
              "Name: Valores, dtype: float64"
            ]
          },
          "metadata": {
            "tags": []
          },
          "execution_count": 12
        }
      ]
    },
    {
      "cell_type": "code",
      "metadata": {
        "id": "OsN4ZRZPg-Km",
        "outputId": "8d8e4bc2-0848-4ba3-97bc-ab891bd0f842",
        "colab": {
          "base_uri": "https://localhost:8080/",
          "height": 349
        }
      },
      "source": [
        "total_ano.plot.bar()"
      ],
      "execution_count": null,
      "outputs": [
        {
          "output_type": "execute_result",
          "data": {
            "text/plain": [
              "<matplotlib.axes._subplots.AxesSubplot at 0x7f8f999509b0>"
            ]
          },
          "metadata": {
            "tags": []
          },
          "execution_count": 13
        },
        {
          "output_type": "display_data",
          "data": {
            "image/png": "[encoded data removed]",
            "text/plain": [
              "<Figure size 432x288 with 1 Axes>"
            ]
          },
          "metadata": {
            "tags": [],
            "needs_background": "light"
          }
        }
      ]
    },
    {
      "cell_type": "code",
      "metadata": {
        "id": "-oSaWufFhAlb",
        "outputId": "f2dd05da-d56c-40b1-c6f1-5bd869b5db18",
        "colab": {
          "base_uri": "https://localhost:8080/",
          "height": 265
        }
      },
      "source": [
        "total_ano.plot.pie()"
      ],
      "execution_count": null,
      "outputs": [
        {
          "output_type": "execute_result",
          "data": {
            "text/plain": [
              "<matplotlib.axes._subplots.AxesSubplot at 0x7f8f91adf8d0>"
            ]
          },
          "metadata": {
            "tags": []
          },
          "execution_count": 14
        },
        {
          "output_type": "display_data",
          "data": {
            "image/png": "[encoded data removed]",
            "text/plain": [
              "<Figure size 432x288 with 1 Axes>"
            ]
          },
          "metadata": {
            "tags": []
          }
        }
      ]
    },
    {
      "cell_type": "code",
      "metadata": {
        "id": "atMMU7tZlPZD",
        "outputId": "71b48edd-74eb-487f-b627-827d3c95f26d",
        "colab": {
          "base_uri": "https://localhost:8080/",
          "height": 408
        }
      },
      "source": [
        "import pandas as pd\n",
        "contas = pd.read_csv('http://quant-ibmec.group/Plan3%20-%20orig.csv')\n",
        "contas"
      ],
      "execution_count": null,
      "outputs": [
        {
          "output_type": "execute_result",
          "data": {
            "text/html": [
              "<div>\n",
              "<style scoped>\n",
              "    .dataframe tbody tr th:only-of-type {\n",
              "        vertical-align: middle;\n",
              "    }\n",
              "\n",
              "    .dataframe tbody tr th {\n",
              "        vertical-align: top;\n",
              "    }\n",
              "\n",
              "    .dataframe thead th {\n",
              "        text-align: right;\n",
              "    }\n",
              "</style>\n",
              "<table border=\"1\" class=\"dataframe\">\n",
              "  <thead>\n",
              "    <tr style=\"text-align: right;\">\n",
              "      <th></th>\n",
              "      <th>Meses</th>\n",
              "      <th>Água</th>\n",
              "      <th>Energia</th>\n",
              "      <th>Telefonia</th>\n",
              "      <th>Condomínio</th>\n",
              "      <th>Suprimentos</th>\n",
              "    </tr>\n",
              "  </thead>\n",
              "  <tbody>\n",
              "    <tr>\n",
              "      <th>0</th>\n",
              "      <td>Janeiro</td>\n",
              "      <td>50.0</td>\n",
              "      <td>450.0</td>\n",
              "      <td>154.5</td>\n",
              "      <td>980.0</td>\n",
              "      <td>1,340.00</td>\n",
              "    </tr>\n",
              "    <tr>\n",
              "      <th>1</th>\n",
              "      <td>Fevereiro</td>\n",
              "      <td>55.0</td>\n",
              "      <td>425.0</td>\n",
              "      <td>138.0</td>\n",
              "      <td>980.0</td>\n",
              "      <td>2,450.00</td>\n",
              "    </tr>\n",
              "    <tr>\n",
              "      <th>2</th>\n",
              "      <td>Março</td>\n",
              "      <td>60.0</td>\n",
              "      <td>400.0</td>\n",
              "      <td>120.0</td>\n",
              "      <td>980.0</td>\n",
              "      <td>1,789.75</td>\n",
              "    </tr>\n",
              "    <tr>\n",
              "      <th>3</th>\n",
              "      <td>Abril</td>\n",
              "      <td>65.0</td>\n",
              "      <td>375.0</td>\n",
              "      <td>43.0</td>\n",
              "      <td>980.0</td>\n",
              "      <td>2,133.33</td>\n",
              "    </tr>\n",
              "    <tr>\n",
              "      <th>4</th>\n",
              "      <td>Maio</td>\n",
              "      <td>70.0</td>\n",
              "      <td>350.0</td>\n",
              "      <td>154.5</td>\n",
              "      <td>980.0</td>\n",
              "      <td>1,340.00</td>\n",
              "    </tr>\n",
              "    <tr>\n",
              "      <th>5</th>\n",
              "      <td>Junho</td>\n",
              "      <td>75.0</td>\n",
              "      <td>325.0</td>\n",
              "      <td>138.0</td>\n",
              "      <td>980.0</td>\n",
              "      <td>2,450.00</td>\n",
              "    </tr>\n",
              "    <tr>\n",
              "      <th>6</th>\n",
              "      <td>Julho</td>\n",
              "      <td>80.0</td>\n",
              "      <td>300.0</td>\n",
              "      <td>120.0</td>\n",
              "      <td>980.0</td>\n",
              "      <td>1,789.75</td>\n",
              "    </tr>\n",
              "    <tr>\n",
              "      <th>7</th>\n",
              "      <td>Agosto</td>\n",
              "      <td>85.0</td>\n",
              "      <td>275.0</td>\n",
              "      <td>43.0</td>\n",
              "      <td>980.0</td>\n",
              "      <td>2,133.33</td>\n",
              "    </tr>\n",
              "    <tr>\n",
              "      <th>8</th>\n",
              "      <td>Setembro</td>\n",
              "      <td>90.0</td>\n",
              "      <td>250.0</td>\n",
              "      <td>154.5</td>\n",
              "      <td>980.0</td>\n",
              "      <td>1,340.00</td>\n",
              "    </tr>\n",
              "    <tr>\n",
              "      <th>9</th>\n",
              "      <td>Outubro</td>\n",
              "      <td>95.0</td>\n",
              "      <td>225.0</td>\n",
              "      <td>138.0</td>\n",
              "      <td>980.0</td>\n",
              "      <td>2,450.00</td>\n",
              "    </tr>\n",
              "    <tr>\n",
              "      <th>10</th>\n",
              "      <td>Novembro</td>\n",
              "      <td>100.0</td>\n",
              "      <td>200.0</td>\n",
              "      <td>120.0</td>\n",
              "      <td>980.0</td>\n",
              "      <td>1,789.75</td>\n",
              "    </tr>\n",
              "    <tr>\n",
              "      <th>11</th>\n",
              "      <td>Dezembro</td>\n",
              "      <td>105.0</td>\n",
              "      <td>175.0</td>\n",
              "      <td>43.0</td>\n",
              "      <td>980.0</td>\n",
              "      <td>2,133.33</td>\n",
              "    </tr>\n",
              "  </tbody>\n",
              "</table>\n",
              "</div>"
            ],
            "text/plain": [
              "        Meses   Água  Energia  Telefonia  Condomínio  Suprimentos\n",
              "0     Janeiro   50.0    450.0      154.5       980.0    1,340.00 \n",
              "1   Fevereiro   55.0    425.0      138.0       980.0    2,450.00 \n",
              "2       Março   60.0    400.0      120.0       980.0    1,789.75 \n",
              "3       Abril   65.0    375.0       43.0       980.0    2,133.33 \n",
              "4        Maio   70.0    350.0      154.5       980.0    1,340.00 \n",
              "5       Junho   75.0    325.0      138.0       980.0    2,450.00 \n",
              "6       Julho   80.0    300.0      120.0       980.0    1,789.75 \n",
              "7      Agosto   85.0    275.0       43.0       980.0    2,133.33 \n",
              "8    Setembro   90.0    250.0      154.5       980.0    1,340.00 \n",
              "9     Outubro   95.0    225.0      138.0       980.0    2,450.00 \n",
              "10   Novembro  100.0    200.0      120.0       980.0    1,789.75 \n",
              "11   Dezembro  105.0    175.0       43.0       980.0    2,133.33 "
            ]
          },
          "metadata": {
            "tags": []
          },
          "execution_count": 15
        }
      ]
    },
    {
      "cell_type": "code",
      "metadata": {
        "id": "FQcgekJplZCT",
        "outputId": "a51e9d2c-6568-473e-e1f1-e5efdac9875f",
        "colab": {
          "base_uri": "https://localhost:8080/",
          "height": 282
        }
      },
      "source": [
        "contas.plot.line()"
      ],
      "execution_count": null,
      "outputs": [
        {
          "output_type": "execute_result",
          "data": {
            "text/plain": [
              "<matplotlib.axes._subplots.AxesSubplot at 0x7f8f903d0ba8>"
            ]
          },
          "metadata": {
            "tags": []
          },
          "execution_count": 16
        },
        {
          "output_type": "display_data",
          "data": {
            "image/png": "[encoded data removed]",
            "text/plain": [
              "<Figure size 432x288 with 1 Axes>"
            ]
          },
          "metadata": {
            "tags": [],
            "needs_background": "light"
          }
        }
      ]
    },
    {
      "cell_type": "code",
      "metadata": {
        "id": "wl9O77PClcaX",
        "outputId": "11f6d5be-2486-4ea9-c021-fe3570497b64",
        "colab": {
          "base_uri": "https://localhost:8080/",
          "height": 282
        }
      },
      "source": [
        "contas.plot()"
      ],
      "execution_count": null,
      "outputs": [
        {
          "output_type": "execute_result",
          "data": {
            "text/plain": [
              "<matplotlib.axes._subplots.AxesSubplot at 0x7f8f8eb6fa90>"
            ]
          },
          "metadata": {
            "tags": []
          },
          "execution_count": 18
        },
        {
          "output_type": "display_data",
          "data": {
            "image/png": "[encoded data removed]",
            "text/plain": [
              "<Figure size 432x288 with 1 Axes>"
            ]
          },
          "metadata": {
            "tags": [],
            "needs_background": "light"
          }
        }
      ]
    },
    {
      "cell_type": "code",
      "metadata": {
        "id": "jngd-iX6mC0K",
        "outputId": "cedd9f6c-5528-4dc0-996d-a2009b89859d",
        "colab": {
          "base_uri": "https://localhost:8080/",
          "height": 138
        }
      },
      "source": [
        "melt = pd.read_csv('http://quant-ibmec.group/Plan3%20-%20melt%20-%20ok.csv')\n",
        "melt.head(3)"
      ],
      "execution_count": null,
      "outputs": [
        {
          "output_type": "execute_result",
          "data": {
            "text/html": [
              "<div>\n",
              "<style scoped>\n",
              "    .dataframe tbody tr th:only-of-type {\n",
              "        vertical-align: middle;\n",
              "    }\n",
              "\n",
              "    .dataframe tbody tr th {\n",
              "        vertical-align: top;\n",
              "    }\n",
              "\n",
              "    .dataframe thead th {\n",
              "        text-align: right;\n",
              "    }\n",
              "</style>\n",
              "<table border=\"1\" class=\"dataframe\">\n",
              "  <thead>\n",
              "    <tr style=\"text-align: right;\">\n",
              "      <th></th>\n",
              "      <th>Categoria</th>\n",
              "      <th>Meses</th>\n",
              "      <th>Valores</th>\n",
              "    </tr>\n",
              "  </thead>\n",
              "  <tbody>\n",
              "    <tr>\n",
              "      <th>0</th>\n",
              "      <td>Água</td>\n",
              "      <td>Janeiro</td>\n",
              "      <td>50.0</td>\n",
              "    </tr>\n",
              "    <tr>\n",
              "      <th>1</th>\n",
              "      <td>Água</td>\n",
              "      <td>Fevereiro</td>\n",
              "      <td>55.0</td>\n",
              "    </tr>\n",
              "    <tr>\n",
              "      <th>2</th>\n",
              "      <td>Água</td>\n",
              "      <td>Março</td>\n",
              "      <td>60.0</td>\n",
              "    </tr>\n",
              "  </tbody>\n",
              "</table>\n",
              "</div>"
            ],
            "text/plain": [
              "  Categoria      Meses  Valores\n",
              "0      Água    Janeiro     50.0\n",
              "1      Água  Fevereiro     55.0\n",
              "2      Água      Março     60.0"
            ]
          },
          "metadata": {
            "tags": []
          },
          "execution_count": 20
        }
      ]
    },
    {
      "cell_type": "code",
      "metadata": {
        "id": "DwITZ3IemIke",
        "outputId": "0286ad04-f557-42e1-80ef-15943de5bfb2",
        "colab": {
          "base_uri": "https://localhost:8080/"
        }
      },
      "source": [
        "total_por_ano = melt.groupby('Categoria').sum()['Valores']\n",
        "total_por_ano"
      ],
      "execution_count": null,
      "outputs": [
        {
          "output_type": "execute_result",
          "data": {
            "text/plain": [
              "Categoria\n",
              "Condominio     11760.00\n",
              "Energia         3750.00\n",
              "Suprimentos    23139.24\n",
              "Telefonia       1366.50\n",
              "Água             930.00\n",
              "Name: Valores, dtype: float64"
            ]
          },
          "metadata": {
            "tags": []
          },
          "execution_count": 22
        }
      ]
    },
    {
      "cell_type": "code",
      "metadata": {
        "id": "ozGnqUR8mRCT",
        "outputId": "512368a5-7a2b-4003-ef38-c8f29f4fe854",
        "colab": {
          "base_uri": "https://localhost:8080/",
          "height": 349
        }
      },
      "source": [
        "total_por_ano.plot.bar()\n"
      ],
      "execution_count": null,
      "outputs": [
        {
          "output_type": "execute_result",
          "data": {
            "text/plain": [
              "<matplotlib.axes._subplots.AxesSubplot at 0x7f8f8ea99898>"
            ]
          },
          "metadata": {
            "tags": []
          },
          "execution_count": 23
        },
        {
          "output_type": "display_data",
          "data": {
            "image/png": "[encoded data removed]",
            "text/plain": [
              "<Figure size 432x288 with 1 Axes>"
            ]
          },
          "metadata": {
            "tags": [],
            "needs_background": "light"
          }
        }
      ]
    },
    {
      "cell_type": "code",
      "metadata": {
        "id": "ZfWqktI_mWVY",
        "outputId": "e19f6b10-f66a-4334-cdd8-15b73b7104e5",
        "colab": {
          "base_uri": "https://localhost:8080/",
          "height": 265
        }
      },
      "source": [
        "total_por_ano.plot.pie()"
      ],
      "execution_count": null,
      "outputs": [
        {
          "output_type": "execute_result",
          "data": {
            "text/plain": [
              "<matplotlib.axes._subplots.AxesSubplot at 0x7f8f8ea1fba8>"
            ]
          },
          "metadata": {
            "tags": []
          },
          "execution_count": 24
        },
        {
          "output_type": "display_data",
          "data": {
            "image/png": "[encoded data removed]",
            "text/plain": [
              "<Figure size 432x288 with 1 Axes>"
            ]
          },
          "metadata": {
            "tags": []
          }
        }
      ]
    },
    {
      "cell_type": "code",
      "metadata": {
        "id": "Qpo1vjNlteqf",
        "outputId": "965ec171-0fd9-4865-b1e5-ee7eda02f576",
        "colab": {
          "base_uri": "https://localhost:8080/",
          "height": 408
        }
      },
      "source": [
        "import pandas as pd\n",
        "contas = pd.read_csv('http://quant-ibmec.group/Plan3%20-%20orig.csv')\n",
        "contas"
      ],
      "execution_count": null,
      "outputs": [
        {
          "output_type": "execute_result",
          "data": {
            "text/html": [
              "<div>\n",
              "<style scoped>\n",
              "    .dataframe tbody tr th:only-of-type {\n",
              "        vertical-align: middle;\n",
              "    }\n",
              "\n",
              "    .dataframe tbody tr th {\n",
              "        vertical-align: top;\n",
              "    }\n",
              "\n",
              "    .dataframe thead th {\n",
              "        text-align: right;\n",
              "    }\n",
              "</style>\n",
              "<table border=\"1\" class=\"dataframe\">\n",
              "  <thead>\n",
              "    <tr style=\"text-align: right;\">\n",
              "      <th></th>\n",
              "      <th>Meses</th>\n",
              "      <th>Água</th>\n",
              "      <th>Energia</th>\n",
              "      <th>Telefonia</th>\n",
              "      <th>Condomínio</th>\n",
              "      <th>Suprimentos</th>\n",
              "    </tr>\n",
              "  </thead>\n",
              "  <tbody>\n",
              "    <tr>\n",
              "      <th>0</th>\n",
              "      <td>Janeiro</td>\n",
              "      <td>50.0</td>\n",
              "      <td>450.0</td>\n",
              "      <td>154.5</td>\n",
              "      <td>980.0</td>\n",
              "      <td>1,340.00</td>\n",
              "    </tr>\n",
              "    <tr>\n",
              "      <th>1</th>\n",
              "      <td>Fevereiro</td>\n",
              "      <td>55.0</td>\n",
              "      <td>425.0</td>\n",
              "      <td>138.0</td>\n",
              "      <td>980.0</td>\n",
              "      <td>2,450.00</td>\n",
              "    </tr>\n",
              "    <tr>\n",
              "      <th>2</th>\n",
              "      <td>Março</td>\n",
              "      <td>60.0</td>\n",
              "      <td>400.0</td>\n",
              "      <td>120.0</td>\n",
              "      <td>980.0</td>\n",
              "      <td>1,789.75</td>\n",
              "    </tr>\n",
              "    <tr>\n",
              "      <th>3</th>\n",
              "      <td>Abril</td>\n",
              "      <td>65.0</td>\n",
              "      <td>375.0</td>\n",
              "      <td>43.0</td>\n",
              "      <td>980.0</td>\n",
              "      <td>2,133.33</td>\n",
              "    </tr>\n",
              "    <tr>\n",
              "      <th>4</th>\n",
              "      <td>Maio</td>\n",
              "      <td>70.0</td>\n",
              "      <td>350.0</td>\n",
              "      <td>154.5</td>\n",
              "      <td>980.0</td>\n",
              "      <td>1,340.00</td>\n",
              "    </tr>\n",
              "    <tr>\n",
              "      <th>5</th>\n",
              "      <td>Junho</td>\n",
              "      <td>75.0</td>\n",
              "      <td>325.0</td>\n",
              "      <td>138.0</td>\n",
              "      <td>980.0</td>\n",
              "      <td>2,450.00</td>\n",
              "    </tr>\n",
              "    <tr>\n",
              "      <th>6</th>\n",
              "      <td>Julho</td>\n",
              "      <td>80.0</td>\n",
              "      <td>300.0</td>\n",
              "      <td>120.0</td>\n",
              "      <td>980.0</td>\n",
              "      <td>1,789.75</td>\n",
              "    </tr>\n",
              "    <tr>\n",
              "      <th>7</th>\n",
              "      <td>Agosto</td>\n",
              "      <td>85.0</td>\n",
              "      <td>275.0</td>\n",
              "      <td>43.0</td>\n",
              "      <td>980.0</td>\n",
              "      <td>2,133.33</td>\n",
              "    </tr>\n",
              "    <tr>\n",
              "      <th>8</th>\n",
              "      <td>Setembro</td>\n",
              "      <td>90.0</td>\n",
              "      <td>250.0</td>\n",
              "      <td>154.5</td>\n",
              "      <td>980.0</td>\n",
              "      <td>1,340.00</td>\n",
              "    </tr>\n",
              "    <tr>\n",
              "      <th>9</th>\n",
              "      <td>Outubro</td>\n",
              "      <td>95.0</td>\n",
              "      <td>225.0</td>\n",
              "      <td>138.0</td>\n",
              "      <td>980.0</td>\n",
              "      <td>2,450.00</td>\n",
              "    </tr>\n",
              "    <tr>\n",
              "      <th>10</th>\n",
              "      <td>Novembro</td>\n",
              "      <td>100.0</td>\n",
              "      <td>200.0</td>\n",
              "      <td>120.0</td>\n",
              "      <td>980.0</td>\n",
              "      <td>1,789.75</td>\n",
              "    </tr>\n",
              "    <tr>\n",
              "      <th>11</th>\n",
              "      <td>Dezembro</td>\n",
              "      <td>105.0</td>\n",
              "      <td>175.0</td>\n",
              "      <td>43.0</td>\n",
              "      <td>980.0</td>\n",
              "      <td>2,133.33</td>\n",
              "    </tr>\n",
              "  </tbody>\n",
              "</table>\n",
              "</div>"
            ],
            "text/plain": [
              "        Meses   Água  Energia  Telefonia  Condomínio  Suprimentos\n",
              "0     Janeiro   50.0    450.0      154.5       980.0    1,340.00 \n",
              "1   Fevereiro   55.0    425.0      138.0       980.0    2,450.00 \n",
              "2       Março   60.0    400.0      120.0       980.0    1,789.75 \n",
              "3       Abril   65.0    375.0       43.0       980.0    2,133.33 \n",
              "4        Maio   70.0    350.0      154.5       980.0    1,340.00 \n",
              "5       Junho   75.0    325.0      138.0       980.0    2,450.00 \n",
              "6       Julho   80.0    300.0      120.0       980.0    1,789.75 \n",
              "7      Agosto   85.0    275.0       43.0       980.0    2,133.33 \n",
              "8    Setembro   90.0    250.0      154.5       980.0    1,340.00 \n",
              "9     Outubro   95.0    225.0      138.0       980.0    2,450.00 \n",
              "10   Novembro  100.0    200.0      120.0       980.0    1,789.75 \n",
              "11   Dezembro  105.0    175.0       43.0       980.0    2,133.33 "
            ]
          },
          "metadata": {
            "tags": []
          },
          "execution_count": 26
        }
      ]
    },
    {
      "cell_type": "code",
      "metadata": {
        "id": "c7DlhFl0t8bz",
        "outputId": "10542a10-304e-4515-a749-c530d2b157a8",
        "colab": {
          "base_uri": "https://localhost:8080/",
          "height": 282
        }
      },
      "source": [
        "contas.plot.line()"
      ],
      "execution_count": null,
      "outputs": [
        {
          "output_type": "execute_result",
          "data": {
            "text/plain": [
              "<matplotlib.axes._subplots.AxesSubplot at 0x7f8f8e9f62b0>"
            ]
          },
          "metadata": {
            "tags": []
          },
          "execution_count": 27
        },
        {
          "output_type": "display_data",
          "data": {
            "image/png": "[encoded data removed]",
            "text/plain": [
              "<Figure size 432x288 with 1 Axes>"
            ]
          },
          "metadata": {
            "tags": [],
            "needs_background": "light"
          }
        }
      ]
    },
    {
      "cell_type": "code",
      "metadata": {
        "id": "c3Xt3rwXt-x6",
        "outputId": "31333585-bff0-48a6-a966-779a9e5e9d67",
        "colab": {
          "base_uri": "https://localhost:8080/",
          "height": 282
        }
      },
      "source": [
        "contas.plot()"
      ],
      "execution_count": null,
      "outputs": [
        {
          "output_type": "execute_result",
          "data": {
            "text/plain": [
              "<matplotlib.axes._subplots.AxesSubplot at 0x7f8f8e907c88>"
            ]
          },
          "metadata": {
            "tags": []
          },
          "execution_count": 28
        },
        {
          "output_type": "display_data",
          "data": {
            "image/png": "[encoded data removed]",
            "text/plain": [
              "<Figure size 432x288 with 1 Axes>"
            ]
          },
          "metadata": {
            "tags": [],
            "needs_background": "light"
          }
        }
      ]
    },
    {
      "cell_type": "code",
      "metadata": {
        "id": "ojuFXXMFuFVv",
        "outputId": "ca378a01-af16-4c0b-9318-fdede02e5f5a",
        "colab": {
          "base_uri": "https://localhost:8080/",
          "height": 285
        }
      },
      "source": [
        "contas.plot.bar()"
      ],
      "execution_count": null,
      "outputs": [
        {
          "output_type": "execute_result",
          "data": {
            "text/plain": [
              "<matplotlib.axes._subplots.AxesSubplot at 0x7f8f8e9e9f98>"
            ]
          },
          "metadata": {
            "tags": []
          },
          "execution_count": 31
        },
        {
          "output_type": "display_data",
          "data": {
            "image/png": "[encoded data removed]",
            "text/plain": [
              "<Figure size 432x288 with 1 Axes>"
            ]
          },
          "metadata": {
            "tags": [],
            "needs_background": "light"
          }
        }
      ]
    },
    {
      "cell_type": "code",
      "metadata": {
        "id": "QinfSM--uoYF",
        "outputId": "b841b9a1-a608-42fb-a50e-24a158606c98",
        "colab": {
          "base_uri": "https://localhost:8080/",
          "height": 198
        }
      },
      "source": [
        " \n",
        "melt = pd.read_csv('http://quant-ibmec.group/Plan3%20-%20melt%20-%20ok.csv')\n",
        "melt.head()"
      ],
      "execution_count": null,
      "outputs": [
        {
          "output_type": "execute_result",
          "data": {
            "text/html": [
              "<div>\n",
              "<style scoped>\n",
              "    .dataframe tbody tr th:only-of-type {\n",
              "        vertical-align: middle;\n",
              "    }\n",
              "\n",
              "    .dataframe tbody tr th {\n",
              "        vertical-align: top;\n",
              "    }\n",
              "\n",
              "    .dataframe thead th {\n",
              "        text-align: right;\n",
              "    }\n",
              "</style>\n",
              "<table border=\"1\" class=\"dataframe\">\n",
              "  <thead>\n",
              "    <tr style=\"text-align: right;\">\n",
              "      <th></th>\n",
              "      <th>Categoria</th>\n",
              "      <th>Meses</th>\n",
              "      <th>Valores</th>\n",
              "    </tr>\n",
              "  </thead>\n",
              "  <tbody>\n",
              "    <tr>\n",
              "      <th>0</th>\n",
              "      <td>Água</td>\n",
              "      <td>Janeiro</td>\n",
              "      <td>50.0</td>\n",
              "    </tr>\n",
              "    <tr>\n",
              "      <th>1</th>\n",
              "      <td>Água</td>\n",
              "      <td>Fevereiro</td>\n",
              "      <td>55.0</td>\n",
              "    </tr>\n",
              "    <tr>\n",
              "      <th>2</th>\n",
              "      <td>Água</td>\n",
              "      <td>Março</td>\n",
              "      <td>60.0</td>\n",
              "    </tr>\n",
              "    <tr>\n",
              "      <th>3</th>\n",
              "      <td>Água</td>\n",
              "      <td>Abril</td>\n",
              "      <td>65.0</td>\n",
              "    </tr>\n",
              "    <tr>\n",
              "      <th>4</th>\n",
              "      <td>Água</td>\n",
              "      <td>Maio</td>\n",
              "      <td>70.0</td>\n",
              "    </tr>\n",
              "  </tbody>\n",
              "</table>\n",
              "</div>"
            ],
            "text/plain": [
              "  Categoria      Meses  Valores\n",
              "0      Água    Janeiro     50.0\n",
              "1      Água  Fevereiro     55.0\n",
              "2      Água      Março     60.0\n",
              "3      Água      Abril     65.0\n",
              "4      Água       Maio     70.0"
            ]
          },
          "metadata": {
            "tags": []
          },
          "execution_count": 34
        }
      ]
    },
    {
      "cell_type": "code",
      "metadata": {
        "id": "KVdPJ7XTu6ac",
        "outputId": "f038034a-c386-48ef-f2d4-0a7c9eb27057",
        "colab": {
          "base_uri": "https://localhost:8080/"
        }
      },
      "source": [
        "total_por_ano=melt.groupby('Categoria').sum()['Valores']\n",
        "total_por_ano"
      ],
      "execution_count": null,
      "outputs": [
        {
          "output_type": "execute_result",
          "data": {
            "text/plain": [
              "Categoria\n",
              "Condominio     11760.00\n",
              "Energia         3750.00\n",
              "Suprimentos    23139.24\n",
              "Telefonia       1366.50\n",
              "Água             930.00\n",
              "Name: Valores, dtype: float64"
            ]
          },
          "metadata": {
            "tags": []
          },
          "execution_count": 36
        }
      ]
    },
    {
      "cell_type": "code",
      "metadata": {
        "id": "Au2Mfbj_vC9Q",
        "outputId": "6d79eefb-b732-4592-97e4-010139e9cf39",
        "colab": {
          "base_uri": "https://localhost:8080/",
          "height": 349
        }
      },
      "source": [
        "total_por_ano.plot.bar()"
      ],
      "execution_count": null,
      "outputs": [
        {
          "output_type": "execute_result",
          "data": {
            "text/plain": [
              "<matplotlib.axes._subplots.AxesSubplot at 0x7f8f8e6428d0>"
            ]
          },
          "metadata": {
            "tags": []
          },
          "execution_count": 37
        },
        {
          "output_type": "display_data",
          "data": {
            "image/png": "[encoded data removed]",
            "text/plain": [
              "<Figure size 432x288 with 1 Axes>"
            ]
          },
          "metadata": {
            "tags": [],
            "needs_background": "light"
          }
        }
      ]
    },
    {
      "cell_type": "code",
      "metadata": {
        "id": "SBzb1MedvGsz",
        "outputId": "fceb51e3-4954-42ad-f84e-105757d4d307",
        "colab": {
          "base_uri": "https://localhost:8080/",
          "height": 265
        }
      },
      "source": [
        "total_por_ano.plot.pie()"
      ],
      "execution_count": null,
      "outputs": [
        {
          "output_type": "execute_result",
          "data": {
            "text/plain": [
              "<matplotlib.axes._subplots.AxesSubplot at 0x7f8f8e619b70>"
            ]
          },
          "metadata": {
            "tags": []
          },
          "execution_count": 38
        },
        {
          "output_type": "display_data",
          "data": {
            "image/png": "[encoded data removed]",
            "text/plain": [
              "<Figure size 432x288 with 1 Axes>"
            ]
          },
          "metadata": {
            "tags": []
          }
        }
      ]
    },
    {
      "cell_type": "code",
      "metadata": {
        "id": "iJj08NNNXgSq",
        "outputId": "2309e864-2a8a-4862-975e-73226485128a",
        "colab": {
          "base_uri": "https://localhost:8080/",
          "height": 408
        }
      },
      "source": [
        "import pandas as pd\n",
        "contas = pd.read_csv('http://quant-ibmec.group/Plan3%20-%20orig.csv')\n",
        "contas"
      ],
      "execution_count": null,
      "outputs": [
        {
          "output_type": "execute_result",
          "data": {
            "text/html": [
              "<div>\n",
              "<style scoped>\n",
              "    .dataframe tbody tr th:only-of-type {\n",
              "        vertical-align: middle;\n",
              "    }\n",
              "\n",
              "    .dataframe tbody tr th {\n",
              "        vertical-align: top;\n",
              "    }\n",
              "\n",
              "    .dataframe thead th {\n",
              "        text-align: right;\n",
              "    }\n",
              "</style>\n",
              "<table border=\"1\" class=\"dataframe\">\n",
              "  <thead>\n",
              "    <tr style=\"text-align: right;\">\n",
              "      <th></th>\n",
              "      <th>Meses</th>\n",
              "      <th>Água</th>\n",
              "      <th>Energia</th>\n",
              "      <th>Telefonia</th>\n",
              "      <th>Condomínio</th>\n",
              "      <th>Suprimentos</th>\n",
              "    </tr>\n",
              "  </thead>\n",
              "  <tbody>\n",
              "    <tr>\n",
              "      <th>0</th>\n",
              "      <td>Janeiro</td>\n",
              "      <td>50.0</td>\n",
              "      <td>450.0</td>\n",
              "      <td>154.5</td>\n",
              "      <td>980.0</td>\n",
              "      <td>1,340.00</td>\n",
              "    </tr>\n",
              "    <tr>\n",
              "      <th>1</th>\n",
              "      <td>Fevereiro</td>\n",
              "      <td>55.0</td>\n",
              "      <td>425.0</td>\n",
              "      <td>138.0</td>\n",
              "      <td>980.0</td>\n",
              "      <td>2,450.00</td>\n",
              "    </tr>\n",
              "    <tr>\n",
              "      <th>2</th>\n",
              "      <td>Março</td>\n",
              "      <td>60.0</td>\n",
              "      <td>400.0</td>\n",
              "      <td>120.0</td>\n",
              "      <td>980.0</td>\n",
              "      <td>1,789.75</td>\n",
              "    </tr>\n",
              "    <tr>\n",
              "      <th>3</th>\n",
              "      <td>Abril</td>\n",
              "      <td>65.0</td>\n",
              "      <td>375.0</td>\n",
              "      <td>43.0</td>\n",
              "      <td>980.0</td>\n",
              "      <td>2,133.33</td>\n",
              "    </tr>\n",
              "    <tr>\n",
              "      <th>4</th>\n",
              "      <td>Maio</td>\n",
              "      <td>70.0</td>\n",
              "      <td>350.0</td>\n",
              "      <td>154.5</td>\n",
              "      <td>980.0</td>\n",
              "      <td>1,340.00</td>\n",
              "    </tr>\n",
              "    <tr>\n",
              "      <th>5</th>\n",
              "      <td>Junho</td>\n",
              "      <td>75.0</td>\n",
              "      <td>325.0</td>\n",
              "      <td>138.0</td>\n",
              "      <td>980.0</td>\n",
              "      <td>2,450.00</td>\n",
              "    </tr>\n",
              "    <tr>\n",
              "      <th>6</th>\n",
              "      <td>Julho</td>\n",
              "      <td>80.0</td>\n",
              "      <td>300.0</td>\n",
              "      <td>120.0</td>\n",
              "      <td>980.0</td>\n",
              "      <td>1,789.75</td>\n",
              "    </tr>\n",
              "    <tr>\n",
              "      <th>7</th>\n",
              "      <td>Agosto</td>\n",
              "      <td>85.0</td>\n",
              "      <td>275.0</td>\n",
              "      <td>43.0</td>\n",
              "      <td>980.0</td>\n",
              "      <td>2,133.33</td>\n",
              "    </tr>\n",
              "    <tr>\n",
              "      <th>8</th>\n",
              "      <td>Setembro</td>\n",
              "      <td>90.0</td>\n",
              "      <td>250.0</td>\n",
              "      <td>154.5</td>\n",
              "      <td>980.0</td>\n",
              "      <td>1,340.00</td>\n",
              "    </tr>\n",
              "    <tr>\n",
              "      <th>9</th>\n",
              "      <td>Outubro</td>\n",
              "      <td>95.0</td>\n",
              "      <td>225.0</td>\n",
              "      <td>138.0</td>\n",
              "      <td>980.0</td>\n",
              "      <td>2,450.00</td>\n",
              "    </tr>\n",
              "    <tr>\n",
              "      <th>10</th>\n",
              "      <td>Novembro</td>\n",
              "      <td>100.0</td>\n",
              "      <td>200.0</td>\n",
              "      <td>120.0</td>\n",
              "      <td>980.0</td>\n",
              "      <td>1,789.75</td>\n",
              "    </tr>\n",
              "    <tr>\n",
              "      <th>11</th>\n",
              "      <td>Dezembro</td>\n",
              "      <td>105.0</td>\n",
              "      <td>175.0</td>\n",
              "      <td>43.0</td>\n",
              "      <td>980.0</td>\n",
              "      <td>2,133.33</td>\n",
              "    </tr>\n",
              "  </tbody>\n",
              "</table>\n",
              "</div>"
            ],
            "text/plain": [
              "        Meses   Água  Energia  Telefonia  Condomínio  Suprimentos\n",
              "0     Janeiro   50.0    450.0      154.5       980.0    1,340.00 \n",
              "1   Fevereiro   55.0    425.0      138.0       980.0    2,450.00 \n",
              "2       Março   60.0    400.0      120.0       980.0    1,789.75 \n",
              "3       Abril   65.0    375.0       43.0       980.0    2,133.33 \n",
              "4        Maio   70.0    350.0      154.5       980.0    1,340.00 \n",
              "5       Junho   75.0    325.0      138.0       980.0    2,450.00 \n",
              "6       Julho   80.0    300.0      120.0       980.0    1,789.75 \n",
              "7      Agosto   85.0    275.0       43.0       980.0    2,133.33 \n",
              "8    Setembro   90.0    250.0      154.5       980.0    1,340.00 \n",
              "9     Outubro   95.0    225.0      138.0       980.0    2,450.00 \n",
              "10   Novembro  100.0    200.0      120.0       980.0    1,789.75 \n",
              "11   Dezembro  105.0    175.0       43.0       980.0    2,133.33 "
            ]
          },
          "metadata": {
            "tags": []
          },
          "execution_count": 1
        }
      ]
    },
    {
      "cell_type": "code",
      "metadata": {
        "id": "WpqsG7fvXm4v",
        "outputId": "15ce23dc-95cc-4049-b5b0-4999c480f58b",
        "colab": {
          "base_uri": "https://localhost:8080/",
          "height": 282
        }
      },
      "source": [
        "contas.plot.line()"
      ],
      "execution_count": null,
      "outputs": [
        {
          "output_type": "execute_result",
          "data": {
            "text/plain": [
              "<matplotlib.axes._subplots.AxesSubplot at 0x7f6e7afb8c18>"
            ]
          },
          "metadata": {
            "tags": []
          },
          "execution_count": 3
        },
        {
          "output_type": "display_data",
          "data": {
            "image/png": "[encoded data removed]",
            "text/plain": [
              "<Figure size 432x288 with 1 Axes>"
            ]
          },
          "metadata": {
            "tags": [],
            "needs_background": "light"
          }
        }
      ]
    },
    {
      "cell_type": "code",
      "metadata": {
        "id": "9hShWwqMXssT",
        "outputId": "e0217999-5a88-4b24-bcea-9e17f7f400d7",
        "colab": {
          "base_uri": "https://localhost:8080/",
          "height": 282
        }
      },
      "source": [
        "contas.plot()"
      ],
      "execution_count": null,
      "outputs": [
        {
          "output_type": "execute_result",
          "data": {
            "text/plain": [
              "<matplotlib.axes._subplots.AxesSubplot at 0x7f6e7af6a2b0>"
            ]
          },
          "metadata": {
            "tags": []
          },
          "execution_count": 4
        },
        {
          "output_type": "display_data",
          "data": {
            "image/png": "[encoded data removed]",
            "text/plain": [
              "<Figure size 432x288 with 1 Axes>"
            ]
          },
          "metadata": {
            "tags": [],
            "needs_background": "light"
          }
        }
      ]
    },
    {
      "cell_type": "code",
      "metadata": {
        "id": "16PkyHs_Xxtf",
        "outputId": "714a3651-76ae-4fd2-ec29-1bcd84f82c78",
        "colab": {
          "base_uri": "https://localhost:8080/",
          "height": 285
        }
      },
      "source": [
        "contas.plot.bar()"
      ],
      "execution_count": null,
      "outputs": [
        {
          "output_type": "execute_result",
          "data": {
            "text/plain": [
              "<matplotlib.axes._subplots.AxesSubplot at 0x7f6e7aeb4748>"
            ]
          },
          "metadata": {
            "tags": []
          },
          "execution_count": 5
        },
        {
          "output_type": "display_data",
          "data": {
            "image/png": "[encoded data removed]",
            "text/plain": [
              "<Figure size 432x288 with 1 Axes>"
            ]
          },
          "metadata": {
            "tags": [],
            "needs_background": "light"
          }
        }
      ]
    },
    {
      "cell_type": "code",
      "metadata": {
        "id": "QVKWh7H4YPXq",
        "outputId": "f7167e9a-2845-43c7-f73c-f04a94b0507a",
        "colab": {
          "base_uri": "https://localhost:8080/",
          "height": 198
        }
      },
      "source": [
        "melt = pd.read_csv('http://quant-ibmec.group/Plan3%20-%20melt%20-%20ok.csv')\n",
        "melt.head()"
      ],
      "execution_count": null,
      "outputs": [
        {
          "output_type": "execute_result",
          "data": {
            "text/html": [
              "<div>\n",
              "<style scoped>\n",
              "    .dataframe tbody tr th:only-of-type {\n",
              "        vertical-align: middle;\n",
              "    }\n",
              "\n",
              "    .dataframe tbody tr th {\n",
              "        vertical-align: top;\n",
              "    }\n",
              "\n",
              "    .dataframe thead th {\n",
              "        text-align: right;\n",
              "    }\n",
              "</style>\n",
              "<table border=\"1\" class=\"dataframe\">\n",
              "  <thead>\n",
              "    <tr style=\"text-align: right;\">\n",
              "      <th></th>\n",
              "      <th>Categoria</th>\n",
              "      <th>Meses</th>\n",
              "      <th>Valores</th>\n",
              "    </tr>\n",
              "  </thead>\n",
              "  <tbody>\n",
              "    <tr>\n",
              "      <th>0</th>\n",
              "      <td>Água</td>\n",
              "      <td>Janeiro</td>\n",
              "      <td>50.0</td>\n",
              "    </tr>\n",
              "    <tr>\n",
              "      <th>1</th>\n",
              "      <td>Água</td>\n",
              "      <td>Fevereiro</td>\n",
              "      <td>55.0</td>\n",
              "    </tr>\n",
              "    <tr>\n",
              "      <th>2</th>\n",
              "      <td>Água</td>\n",
              "      <td>Março</td>\n",
              "      <td>60.0</td>\n",
              "    </tr>\n",
              "    <tr>\n",
              "      <th>3</th>\n",
              "      <td>Água</td>\n",
              "      <td>Abril</td>\n",
              "      <td>65.0</td>\n",
              "    </tr>\n",
              "    <tr>\n",
              "      <th>4</th>\n",
              "      <td>Água</td>\n",
              "      <td>Maio</td>\n",
              "      <td>70.0</td>\n",
              "    </tr>\n",
              "  </tbody>\n",
              "</table>\n",
              "</div>"
            ],
            "text/plain": [
              "  Categoria      Meses  Valores\n",
              "0      Água    Janeiro     50.0\n",
              "1      Água  Fevereiro     55.0\n",
              "2      Água      Março     60.0\n",
              "3      Água      Abril     65.0\n",
              "4      Água       Maio     70.0"
            ]
          },
          "metadata": {
            "tags": []
          },
          "execution_count": 6
        }
      ]
    },
    {
      "cell_type": "code",
      "metadata": {
        "id": "jPh2x4vkYUzp",
        "outputId": "c2c721a9-60f2-45b2-ae66-023739b090d8",
        "colab": {
          "base_uri": "https://localhost:8080/"
        }
      },
      "source": [
        "totais_por_ano =melt.groupby('Categoria').sum()['Valores']\n",
        "totais_por_ano"
      ],
      "execution_count": null,
      "outputs": [
        {
          "output_type": "execute_result",
          "data": {
            "text/plain": [
              "Categoria\n",
              "Condominio     11760.00\n",
              "Energia         3750.00\n",
              "Suprimentos    23139.24\n",
              "Telefonia       1366.50\n",
              "Água             930.00\n",
              "Name: Valores, dtype: float64"
            ]
          },
          "metadata": {
            "tags": []
          },
          "execution_count": 8
        }
      ]
    },
    {
      "cell_type": "code",
      "metadata": {
        "id": "hBRrN5k4YflV",
        "outputId": "3e4f52f9-69e8-4f60-90a4-3a1de75dcecd",
        "colab": {
          "base_uri": "https://localhost:8080/",
          "height": 349
        }
      },
      "source": [
        "totais_por_ano.plot.bar()"
      ],
      "execution_count": null,
      "outputs": [
        {
          "output_type": "execute_result",
          "data": {
            "text/plain": [
              "<matplotlib.axes._subplots.AxesSubplot at 0x7f6e72a89c50>"
            ]
          },
          "metadata": {
            "tags": []
          },
          "execution_count": 9
        },
        {
          "output_type": "display_data",
          "data": {
            "image/png": "[encoded data removed]",
            "text/plain": [
              "<Figure size 432x288 with 1 Axes>"
            ]
          },
          "metadata": {
            "tags": [],
            "needs_background": "light"
          }
        }
      ]
    },
    {
      "cell_type": "code",
      "metadata": {
        "id": "94GoQvNeYjWo",
        "outputId": "e01b3980-9467-4b85-be4b-d89248426707",
        "colab": {
          "base_uri": "https://localhost:8080/",
          "height": 265
        }
      },
      "source": [
        "totais_por_ano.plot.pie()"
      ],
      "execution_count": null,
      "outputs": [
        {
          "output_type": "execute_result",
          "data": {
            "text/plain": [
              "<matplotlib.axes._subplots.AxesSubplot at 0x7f6e7a8b9c18>"
            ]
          },
          "metadata": {
            "tags": []
          },
          "execution_count": 10
        },
        {
          "output_type": "display_data",
          "data": {
            "image/png": "[encoded data removed]",
            "text/plain": [
              "<Figure size 432x288 with 1 Axes>"
            ]
          },
          "metadata": {
            "tags": []
          }
        }
      ]
    },
    {
      "cell_type": "code",
      "metadata": {
        "id": "p4i409-UbDSP",
        "outputId": "44da9f1c-7778-4d87-e150-1b8a3eb4dd92",
        "colab": {
          "base_uri": "https://localhost:8080/",
          "height": 408
        }
      },
      "source": [
        "import pandas as pd\n",
        "contas = pd.read_csv('http://quant-ibmec.group/Plan3%20-%20orig.csv')\n",
        "contas"
      ],
      "execution_count": null,
      "outputs": [
        {
          "output_type": "execute_result",
          "data": {
            "text/html": [
              "<div>\n",
              "<style scoped>\n",
              "    .dataframe tbody tr th:only-of-type {\n",
              "        vertical-align: middle;\n",
              "    }\n",
              "\n",
              "    .dataframe tbody tr th {\n",
              "        vertical-align: top;\n",
              "    }\n",
              "\n",
              "    .dataframe thead th {\n",
              "        text-align: right;\n",
              "    }\n",
              "</style>\n",
              "<table border=\"1\" class=\"dataframe\">\n",
              "  <thead>\n",
              "    <tr style=\"text-align: right;\">\n",
              "      <th></th>\n",
              "      <th>Meses</th>\n",
              "      <th>Água</th>\n",
              "      <th>Energia</th>\n",
              "      <th>Telefonia</th>\n",
              "      <th>Condomínio</th>\n",
              "      <th>Suprimentos</th>\n",
              "    </tr>\n",
              "  </thead>\n",
              "  <tbody>\n",
              "    <tr>\n",
              "      <th>0</th>\n",
              "      <td>Janeiro</td>\n",
              "      <td>50.0</td>\n",
              "      <td>450.0</td>\n",
              "      <td>154.5</td>\n",
              "      <td>980.0</td>\n",
              "      <td>1,340.00</td>\n",
              "    </tr>\n",
              "    <tr>\n",
              "      <th>1</th>\n",
              "      <td>Fevereiro</td>\n",
              "      <td>55.0</td>\n",
              "      <td>425.0</td>\n",
              "      <td>138.0</td>\n",
              "      <td>980.0</td>\n",
              "      <td>2,450.00</td>\n",
              "    </tr>\n",
              "    <tr>\n",
              "      <th>2</th>\n",
              "      <td>Março</td>\n",
              "      <td>60.0</td>\n",
              "      <td>400.0</td>\n",
              "      <td>120.0</td>\n",
              "      <td>980.0</td>\n",
              "      <td>1,789.75</td>\n",
              "    </tr>\n",
              "    <tr>\n",
              "      <th>3</th>\n",
              "      <td>Abril</td>\n",
              "      <td>65.0</td>\n",
              "      <td>375.0</td>\n",
              "      <td>43.0</td>\n",
              "      <td>980.0</td>\n",
              "      <td>2,133.33</td>\n",
              "    </tr>\n",
              "    <tr>\n",
              "      <th>4</th>\n",
              "      <td>Maio</td>\n",
              "      <td>70.0</td>\n",
              "      <td>350.0</td>\n",
              "      <td>154.5</td>\n",
              "      <td>980.0</td>\n",
              "      <td>1,340.00</td>\n",
              "    </tr>\n",
              "    <tr>\n",
              "      <th>5</th>\n",
              "      <td>Junho</td>\n",
              "      <td>75.0</td>\n",
              "      <td>325.0</td>\n",
              "      <td>138.0</td>\n",
              "      <td>980.0</td>\n",
              "      <td>2,450.00</td>\n",
              "    </tr>\n",
              "    <tr>\n",
              "      <th>6</th>\n",
              "      <td>Julho</td>\n",
              "      <td>80.0</td>\n",
              "      <td>300.0</td>\n",
              "      <td>120.0</td>\n",
              "      <td>980.0</td>\n",
              "      <td>1,789.75</td>\n",
              "    </tr>\n",
              "    <tr>\n",
              "      <th>7</th>\n",
              "      <td>Agosto</td>\n",
              "      <td>85.0</td>\n",
              "      <td>275.0</td>\n",
              "      <td>43.0</td>\n",
              "      <td>980.0</td>\n",
              "      <td>2,133.33</td>\n",
              "    </tr>\n",
              "    <tr>\n",
              "      <th>8</th>\n",
              "      <td>Setembro</td>\n",
              "      <td>90.0</td>\n",
              "      <td>250.0</td>\n",
              "      <td>154.5</td>\n",
              "      <td>980.0</td>\n",
              "      <td>1,340.00</td>\n",
              "    </tr>\n",
              "    <tr>\n",
              "      <th>9</th>\n",
              "      <td>Outubro</td>\n",
              "      <td>95.0</td>\n",
              "      <td>225.0</td>\n",
              "      <td>138.0</td>\n",
              "      <td>980.0</td>\n",
              "      <td>2,450.00</td>\n",
              "    </tr>\n",
              "    <tr>\n",
              "      <th>10</th>\n",
              "      <td>Novembro</td>\n",
              "      <td>100.0</td>\n",
              "      <td>200.0</td>\n",
              "      <td>120.0</td>\n",
              "      <td>980.0</td>\n",
              "      <td>1,789.75</td>\n",
              "    </tr>\n",
              "    <tr>\n",
              "      <th>11</th>\n",
              "      <td>Dezembro</td>\n",
              "      <td>105.0</td>\n",
              "      <td>175.0</td>\n",
              "      <td>43.0</td>\n",
              "      <td>980.0</td>\n",
              "      <td>2,133.33</td>\n",
              "    </tr>\n",
              "  </tbody>\n",
              "</table>\n",
              "</div>"
            ],
            "text/plain": [
              "        Meses   Água  Energia  Telefonia  Condomínio  Suprimentos\n",
              "0     Janeiro   50.0    450.0      154.5       980.0    1,340.00 \n",
              "1   Fevereiro   55.0    425.0      138.0       980.0    2,450.00 \n",
              "2       Março   60.0    400.0      120.0       980.0    1,789.75 \n",
              "3       Abril   65.0    375.0       43.0       980.0    2,133.33 \n",
              "4        Maio   70.0    350.0      154.5       980.0    1,340.00 \n",
              "5       Junho   75.0    325.0      138.0       980.0    2,450.00 \n",
              "6       Julho   80.0    300.0      120.0       980.0    1,789.75 \n",
              "7      Agosto   85.0    275.0       43.0       980.0    2,133.33 \n",
              "8    Setembro   90.0    250.0      154.5       980.0    1,340.00 \n",
              "9     Outubro   95.0    225.0      138.0       980.0    2,450.00 \n",
              "10   Novembro  100.0    200.0      120.0       980.0    1,789.75 \n",
              "11   Dezembro  105.0    175.0       43.0       980.0    2,133.33 "
            ]
          },
          "metadata": {
            "tags": []
          },
          "execution_count": 11
        }
      ]
    },
    {
      "cell_type": "code",
      "metadata": {
        "id": "2W5R9vZmbD4f"
      },
      "source": [
        "contas.index = contas['Meses']"
      ],
      "execution_count": null,
      "outputs": []
    },
    {
      "cell_type": "code",
      "metadata": {
        "id": "7yIyg6XlbLm5",
        "outputId": "d69f8615-7b32-4cb6-b3c8-fe822e2e33fc",
        "colab": {
          "base_uri": "https://localhost:8080/",
          "height": 438
        }
      },
      "source": [
        "contas.drop('Meses', 1,inplace=True)\n",
        "contas"
      ],
      "execution_count": null,
      "outputs": [
        {
          "output_type": "execute_result",
          "data": {
            "text/html": [
              "<div>\n",
              "<style scoped>\n",
              "    .dataframe tbody tr th:only-of-type {\n",
              "        vertical-align: middle;\n",
              "    }\n",
              "\n",
              "    .dataframe tbody tr th {\n",
              "        vertical-align: top;\n",
              "    }\n",
              "\n",
              "    .dataframe thead th {\n",
              "        text-align: right;\n",
              "    }\n",
              "</style>\n",
              "<table border=\"1\" class=\"dataframe\">\n",
              "  <thead>\n",
              "    <tr style=\"text-align: right;\">\n",
              "      <th></th>\n",
              "      <th>Água</th>\n",
              "      <th>Energia</th>\n",
              "      <th>Telefonia</th>\n",
              "      <th>Condomínio</th>\n",
              "      <th>Suprimentos</th>\n",
              "    </tr>\n",
              "    <tr>\n",
              "      <th>Meses</th>\n",
              "      <th></th>\n",
              "      <th></th>\n",
              "      <th></th>\n",
              "      <th></th>\n",
              "      <th></th>\n",
              "    </tr>\n",
              "  </thead>\n",
              "  <tbody>\n",
              "    <tr>\n",
              "      <th>Janeiro</th>\n",
              "      <td>50.0</td>\n",
              "      <td>450.0</td>\n",
              "      <td>154.5</td>\n",
              "      <td>980.0</td>\n",
              "      <td>1,340.00</td>\n",
              "    </tr>\n",
              "    <tr>\n",
              "      <th>Fevereiro</th>\n",
              "      <td>55.0</td>\n",
              "      <td>425.0</td>\n",
              "      <td>138.0</td>\n",
              "      <td>980.0</td>\n",
              "      <td>2,450.00</td>\n",
              "    </tr>\n",
              "    <tr>\n",
              "      <th>Março</th>\n",
              "      <td>60.0</td>\n",
              "      <td>400.0</td>\n",
              "      <td>120.0</td>\n",
              "      <td>980.0</td>\n",
              "      <td>1,789.75</td>\n",
              "    </tr>\n",
              "    <tr>\n",
              "      <th>Abril</th>\n",
              "      <td>65.0</td>\n",
              "      <td>375.0</td>\n",
              "      <td>43.0</td>\n",
              "      <td>980.0</td>\n",
              "      <td>2,133.33</td>\n",
              "    </tr>\n",
              "    <tr>\n",
              "      <th>Maio</th>\n",
              "      <td>70.0</td>\n",
              "      <td>350.0</td>\n",
              "      <td>154.5</td>\n",
              "      <td>980.0</td>\n",
              "      <td>1,340.00</td>\n",
              "    </tr>\n",
              "    <tr>\n",
              "      <th>Junho</th>\n",
              "      <td>75.0</td>\n",
              "      <td>325.0</td>\n",
              "      <td>138.0</td>\n",
              "      <td>980.0</td>\n",
              "      <td>2,450.00</td>\n",
              "    </tr>\n",
              "    <tr>\n",
              "      <th>Julho</th>\n",
              "      <td>80.0</td>\n",
              "      <td>300.0</td>\n",
              "      <td>120.0</td>\n",
              "      <td>980.0</td>\n",
              "      <td>1,789.75</td>\n",
              "    </tr>\n",
              "    <tr>\n",
              "      <th>Agosto</th>\n",
              "      <td>85.0</td>\n",
              "      <td>275.0</td>\n",
              "      <td>43.0</td>\n",
              "      <td>980.0</td>\n",
              "      <td>2,133.33</td>\n",
              "    </tr>\n",
              "    <tr>\n",
              "      <th>Setembro</th>\n",
              "      <td>90.0</td>\n",
              "      <td>250.0</td>\n",
              "      <td>154.5</td>\n",
              "      <td>980.0</td>\n",
              "      <td>1,340.00</td>\n",
              "    </tr>\n",
              "    <tr>\n",
              "      <th>Outubro</th>\n",
              "      <td>95.0</td>\n",
              "      <td>225.0</td>\n",
              "      <td>138.0</td>\n",
              "      <td>980.0</td>\n",
              "      <td>2,450.00</td>\n",
              "    </tr>\n",
              "    <tr>\n",
              "      <th>Novembro</th>\n",
              "      <td>100.0</td>\n",
              "      <td>200.0</td>\n",
              "      <td>120.0</td>\n",
              "      <td>980.0</td>\n",
              "      <td>1,789.75</td>\n",
              "    </tr>\n",
              "    <tr>\n",
              "      <th>Dezembro</th>\n",
              "      <td>105.0</td>\n",
              "      <td>175.0</td>\n",
              "      <td>43.0</td>\n",
              "      <td>980.0</td>\n",
              "      <td>2,133.33</td>\n",
              "    </tr>\n",
              "  </tbody>\n",
              "</table>\n",
              "</div>"
            ],
            "text/plain": [
              "            Água  Energia  Telefonia  Condomínio  Suprimentos\n",
              "Meses                                                        \n",
              "Janeiro     50.0    450.0      154.5       980.0    1,340.00 \n",
              "Fevereiro   55.0    425.0      138.0       980.0    2,450.00 \n",
              "Março       60.0    400.0      120.0       980.0    1,789.75 \n",
              "Abril       65.0    375.0       43.0       980.0    2,133.33 \n",
              "Maio        70.0    350.0      154.5       980.0    1,340.00 \n",
              "Junho       75.0    325.0      138.0       980.0    2,450.00 \n",
              "Julho       80.0    300.0      120.0       980.0    1,789.75 \n",
              "Agosto      85.0    275.0       43.0       980.0    2,133.33 \n",
              "Setembro    90.0    250.0      154.5       980.0    1,340.00 \n",
              "Outubro     95.0    225.0      138.0       980.0    2,450.00 \n",
              "Novembro   100.0    200.0      120.0       980.0    1,789.75 \n",
              "Dezembro   105.0    175.0       43.0       980.0    2,133.33 "
            ]
          },
          "metadata": {
            "tags": []
          },
          "execution_count": 14
        }
      ]
    },
    {
      "cell_type": "code",
      "metadata": {
        "id": "Ct0_HOnpbW7n"
      },
      "source": [
        "t =contas.T"
      ],
      "execution_count": null,
      "outputs": []
    },
    {
      "cell_type": "code",
      "metadata": {
        "id": "hslPs1hhb-qA",
        "outputId": "7793ab9f-f290-4bab-c9b1-855fa47331cd",
        "colab": {
          "base_uri": "https://localhost:8080/",
          "height": 382
        }
      },
      "source": [
        "import seaborn as sns\n",
        "sns.barplot(t.index, t.values)"
      ],
      "execution_count": null,
      "outputs": [
        {
          "output_type": "stream",
          "text": [
            "/usr/local/lib/python3.6/dist-packages/seaborn/_decorators.py:43: FutureWarning: Pass the following variables as keyword args: x, y. From version 0.12, the only valid positional argument will be `data`, and passing other arguments without an explicit keyword will result in an error or misinterpretation.\n",
            "  FutureWarning\n"
          ],
          "name": "stderr"
        },
        {
          "output_type": "error",
          "ename": "TypeError",
          "evalue": "ignored",
          "traceback": [
            "\u001b[0;31m---------------------------------------------------------------------------\u001b[0m",
            "\u001b[0;31mTypeError\u001b[0m                                 Traceback (most recent call last)",
            "\u001b[0;32m<ipython-input-27-c25eb44273c7>\u001b[0m in \u001b[0;36m<module>\u001b[0;34m()\u001b[0m\n\u001b[1;32m      1\u001b[0m \u001b[0;32mimport\u001b[0m \u001b[0mseaborn\u001b[0m \u001b[0;32mas\u001b[0m \u001b[0msns\u001b[0m\u001b[0;34m\u001b[0m\u001b[0;34m\u001b[0m\u001b[0m\n\u001b[0;32m----> 2\u001b[0;31m \u001b[0msns\u001b[0m\u001b[0;34m.\u001b[0m\u001b[0mbarplot\u001b[0m\u001b[0;34m(\u001b[0m\u001b[0mt\u001b[0m\u001b[0;34m.\u001b[0m\u001b[0mindex\u001b[0m\u001b[0;34m,\u001b[0m \u001b[0mt\u001b[0m\u001b[0;34m.\u001b[0m\u001b[0mvalues\u001b[0m\u001b[0;34m)\u001b[0m\u001b[0;34m\u001b[0m\u001b[0;34m\u001b[0m\u001b[0m\n\u001b[0m",
            "\u001b[0;32m/usr/local/lib/python3.6/dist-packages/seaborn/_decorators.py\u001b[0m in \u001b[0;36minner_f\u001b[0;34m(*args, **kwargs)\u001b[0m\n\u001b[1;32m     44\u001b[0m             )\n\u001b[1;32m     45\u001b[0m         \u001b[0mkwargs\u001b[0m\u001b[0;34m.\u001b[0m\u001b[0mupdate\u001b[0m\u001b[0;34m(\u001b[0m\u001b[0;34m{\u001b[0m\u001b[0mk\u001b[0m\u001b[0;34m:\u001b[0m \u001b[0marg\u001b[0m \u001b[0;32mfor\u001b[0m \u001b[0mk\u001b[0m\u001b[0;34m,\u001b[0m \u001b[0marg\u001b[0m \u001b[0;32min\u001b[0m \u001b[0mzip\u001b[0m\u001b[0;34m(\u001b[0m\u001b[0msig\u001b[0m\u001b[0;34m.\u001b[0m\u001b[0mparameters\u001b[0m\u001b[0;34m,\u001b[0m \u001b[0margs\u001b[0m\u001b[0;34m)\u001b[0m\u001b[0;34m}\u001b[0m\u001b[0;34m)\u001b[0m\u001b[0;34m\u001b[0m\u001b[0;34m\u001b[0m\u001b[0m\n\u001b[0;32m---> 46\u001b[0;31m         \u001b[0;32mreturn\u001b[0m \u001b[0mf\u001b[0m\u001b[0;34m(\u001b[0m\u001b[0;34m**\u001b[0m\u001b[0mkwargs\u001b[0m\u001b[0;34m)\u001b[0m\u001b[0;34m\u001b[0m\u001b[0;34m\u001b[0m\u001b[0m\n\u001b[0m\u001b[1;32m     47\u001b[0m     \u001b[0;32mreturn\u001b[0m \u001b[0minner_f\u001b[0m\u001b[0;34m\u001b[0m\u001b[0;34m\u001b[0m\u001b[0m\n\u001b[1;32m     48\u001b[0m \u001b[0;34m\u001b[0m\u001b[0m\n",
            "\u001b[0;32m/usr/local/lib/python3.6/dist-packages/seaborn/categorical.py\u001b[0m in \u001b[0;36mbarplot\u001b[0;34m(x, y, hue, data, order, hue_order, estimator, ci, n_boot, units, seed, orient, color, palette, saturation, errcolor, errwidth, capsize, dodge, ax, **kwargs)\u001b[0m\n\u001b[1;32m   3170\u001b[0m                           \u001b[0mestimator\u001b[0m\u001b[0;34m,\u001b[0m \u001b[0mci\u001b[0m\u001b[0;34m,\u001b[0m \u001b[0mn_boot\u001b[0m\u001b[0;34m,\u001b[0m \u001b[0munits\u001b[0m\u001b[0;34m,\u001b[0m \u001b[0mseed\u001b[0m\u001b[0;34m,\u001b[0m\u001b[0;34m\u001b[0m\u001b[0;34m\u001b[0m\u001b[0m\n\u001b[1;32m   3171\u001b[0m                           \u001b[0morient\u001b[0m\u001b[0;34m,\u001b[0m \u001b[0mcolor\u001b[0m\u001b[0;34m,\u001b[0m \u001b[0mpalette\u001b[0m\u001b[0;34m,\u001b[0m \u001b[0msaturation\u001b[0m\u001b[0;34m,\u001b[0m\u001b[0;34m\u001b[0m\u001b[0;34m\u001b[0m\u001b[0m\n\u001b[0;32m-> 3172\u001b[0;31m                           errcolor, errwidth, capsize, dodge)\n\u001b[0m\u001b[1;32m   3173\u001b[0m \u001b[0;34m\u001b[0m\u001b[0m\n\u001b[1;32m   3174\u001b[0m     \u001b[0;32mif\u001b[0m \u001b[0max\u001b[0m \u001b[0;32mis\u001b[0m \u001b[0;32mNone\u001b[0m\u001b[0;34m:\u001b[0m\u001b[0;34m\u001b[0m\u001b[0;34m\u001b[0m\u001b[0m\n",
            "\u001b[0;32m/usr/local/lib/python3.6/dist-packages/seaborn/categorical.py\u001b[0m in \u001b[0;36m__init__\u001b[0;34m(self, x, y, hue, data, order, hue_order, estimator, ci, n_boot, units, seed, orient, color, palette, saturation, errcolor, errwidth, capsize, dodge)\u001b[0m\n\u001b[1;32m   1583\u001b[0m         \u001b[0;34m\"\"\"Initialize the plotter.\"\"\"\u001b[0m\u001b[0;34m\u001b[0m\u001b[0;34m\u001b[0m\u001b[0m\n\u001b[1;32m   1584\u001b[0m         self.establish_variables(x, y, hue, data, orient,\n\u001b[0;32m-> 1585\u001b[0;31m                                  order, hue_order, units)\n\u001b[0m\u001b[1;32m   1586\u001b[0m         \u001b[0mself\u001b[0m\u001b[0;34m.\u001b[0m\u001b[0mestablish_colors\u001b[0m\u001b[0;34m(\u001b[0m\u001b[0mcolor\u001b[0m\u001b[0;34m,\u001b[0m \u001b[0mpalette\u001b[0m\u001b[0;34m,\u001b[0m \u001b[0msaturation\u001b[0m\u001b[0;34m)\u001b[0m\u001b[0;34m\u001b[0m\u001b[0;34m\u001b[0m\u001b[0m\n\u001b[1;32m   1587\u001b[0m         \u001b[0mself\u001b[0m\u001b[0;34m.\u001b[0m\u001b[0mestimate_statistic\u001b[0m\u001b[0;34m(\u001b[0m\u001b[0mestimator\u001b[0m\u001b[0;34m,\u001b[0m \u001b[0mci\u001b[0m\u001b[0;34m,\u001b[0m \u001b[0mn_boot\u001b[0m\u001b[0;34m,\u001b[0m \u001b[0mseed\u001b[0m\u001b[0;34m)\u001b[0m\u001b[0;34m\u001b[0m\u001b[0;34m\u001b[0m\u001b[0m\n",
            "\u001b[0;32m/usr/local/lib/python3.6/dist-packages/seaborn/categorical.py\u001b[0m in \u001b[0;36mestablish_variables\u001b[0;34m(self, x, y, hue, data, orient, order, hue_order, units)\u001b[0m\n\u001b[1;32m    155\u001b[0m             \u001b[0;31m# Figure out the plotting orientation\u001b[0m\u001b[0;34m\u001b[0m\u001b[0;34m\u001b[0m\u001b[0;34m\u001b[0m\u001b[0m\n\u001b[1;32m    156\u001b[0m             orient = infer_orient(\n\u001b[0;32m--> 157\u001b[0;31m                 \u001b[0mx\u001b[0m\u001b[0;34m,\u001b[0m \u001b[0my\u001b[0m\u001b[0;34m,\u001b[0m \u001b[0morient\u001b[0m\u001b[0;34m,\u001b[0m \u001b[0mrequire_numeric\u001b[0m\u001b[0;34m=\u001b[0m\u001b[0mself\u001b[0m\u001b[0;34m.\u001b[0m\u001b[0mrequire_numeric\u001b[0m\u001b[0;34m\u001b[0m\u001b[0;34m\u001b[0m\u001b[0m\n\u001b[0m\u001b[1;32m    158\u001b[0m             )\n\u001b[1;32m    159\u001b[0m \u001b[0;34m\u001b[0m\u001b[0m\n",
            "\u001b[0;32m/usr/local/lib/python3.6/dist-packages/seaborn/_core.py\u001b[0m in \u001b[0;36minfer_orient\u001b[0;34m(x, y, orient, require_numeric)\u001b[0m\n\u001b[1;32m   1327\u001b[0m     \u001b[0;32melif\u001b[0m \u001b[0mrequire_numeric\u001b[0m \u001b[0;32mand\u001b[0m \u001b[0;34m\"numeric\"\u001b[0m \u001b[0;32mnot\u001b[0m \u001b[0;32min\u001b[0m \u001b[0;34m(\u001b[0m\u001b[0mx_type\u001b[0m\u001b[0;34m,\u001b[0m \u001b[0my_type\u001b[0m\u001b[0;34m)\u001b[0m\u001b[0;34m:\u001b[0m\u001b[0;34m\u001b[0m\u001b[0;34m\u001b[0m\u001b[0m\n\u001b[1;32m   1328\u001b[0m         \u001b[0merr\u001b[0m \u001b[0;34m=\u001b[0m \u001b[0;34m\"Neither the `x` nor `y` variable appears to be numeric.\"\u001b[0m\u001b[0;34m\u001b[0m\u001b[0;34m\u001b[0m\u001b[0m\n\u001b[0;32m-> 1329\u001b[0;31m         \u001b[0;32mraise\u001b[0m \u001b[0mTypeError\u001b[0m\u001b[0;34m(\u001b[0m\u001b[0merr\u001b[0m\u001b[0;34m)\u001b[0m\u001b[0;34m\u001b[0m\u001b[0;34m\u001b[0m\u001b[0m\n\u001b[0m\u001b[1;32m   1330\u001b[0m \u001b[0;34m\u001b[0m\u001b[0m\n\u001b[1;32m   1331\u001b[0m     \u001b[0;32melse\u001b[0m\u001b[0;34m:\u001b[0m\u001b[0;34m\u001b[0m\u001b[0;34m\u001b[0m\u001b[0m\n",
            "\u001b[0;31mTypeError\u001b[0m: Neither the `x` nor `y` variable appears to be numeric."
          ]
        }
      ]
    }
  ]
}