{
  "nbformat": 4,
  "nbformat_minor": 0,
  "metadata": {
    "colab": {
      "name": "Introdução à Programação.ipynb",
      "provenance": [],
      "authorship_tag": "ABX9TyPdLC0hxkvpndRq6ARfXXQ8",
      "include_colab_link": true
    },
    "kernelspec": {
      "name": "python3",
      "display_name": "Python 3"
    }
  },
  "cells": [
    {
      "cell_type": "markdown",
      "metadata": {
        "id": "view-in-github",
        "colab_type": "text"
      },
      "source": [
        "<a href=\"https://colab.research.google.com/github/lcbjrrr/quant/blob/master/Introdu%C3%A7%C3%A3o_%C3%A0_Programa%C3%A7%C3%A3o.ipynb\" target=\"_parent\"><img src=\"https://colab.research.google.com/assets/colab-badge.svg\" alt=\"Open In Colab\"/></a>"
      ]
    },
    {
      "cell_type": "markdown",
      "metadata": {
        "id": "ZgZ6sLPRB2lC",
        "colab_type": "text"
      },
      "source": [
        "#Ola Mundo"
      ]
    },
    {
      "cell_type": "markdown",
      "metadata": {
        "id": "51DfTmku-nja",
        "colab_type": "text"
      },
      "source": [
        "O primeiro programa de todo programador...\n",
        "\n",
        " \n",
        "![ ](https://pbs.twimg.com/media/Egyb3BxXgAc_nr0?format=png&name=900x900)\n",
        "\n"
      ]
    },
    {
      "cell_type": "code",
      "metadata": {
        "id": "IcL80gOm-nv0",
        "colab_type": "code",
        "colab": {
          "base_uri": "https://localhost:8080/",
          "height": 34
        },
        "outputId": "73c0fec6-bfc9-4b1d-c8fc-0e296411d5f3"
      },
      "source": [
        "print('Ola Mundo!')"
      ],
      "execution_count": 1,
      "outputs": [
        {
          "output_type": "stream",
          "text": [
            "Ola Mundo!\n"
          ],
          "name": "stdout"
        }
      ]
    },
    {
      "cell_type": "markdown",
      "metadata": {
        "id": "Qj_jrZo7B5mV",
        "colab_type": "text"
      },
      "source": [
        "#Operadores Aritimeticos"
      ]
    },
    {
      "cell_type": "markdown",
      "metadata": {
        "id": "ziha0NytB5wx",
        "colab_type": "text"
      },
      "source": [
        "![ ](https://pbs.twimg.com/media/EgyezSRWkAAHilj?format=png&name=small)"
      ]
    },
    {
      "cell_type": "code",
      "metadata": {
        "id": "P3OWnTNKB-bh",
        "colab_type": "code",
        "colab": {
          "base_uri": "https://localhost:8080/",
          "height": 34
        },
        "outputId": "0de13747-b445-4f7e-d60b-0cb1120bc880"
      },
      "source": [
        "(12+ 5*(3/2+(2**5 -13)/3))\n"
      ],
      "execution_count": 2,
      "outputs": [
        {
          "output_type": "execute_result",
          "data": {
            "text/plain": [
              "51.166666666666664"
            ]
          },
          "metadata": {
            "tags": []
          },
          "execution_count": 2
        }
      ]
    },
    {
      "cell_type": "markdown",
      "metadata": {
        "id": "9kx7IcpPCkoo",
        "colab_type": "text"
      },
      "source": [
        "#Variáveis - Tipos de Dados  "
      ]
    },
    {
      "cell_type": "markdown",
      "metadata": {
        "id": "dFuQH1cOClaF",
        "colab_type": "text"
      },
      "source": [
        "Em Python os tipos são (quase sempre) implícitos.\n",
        "Os tipos suportados são:\n",
        "\n",
        "**int**: inteiro \t\n",
        "\n",
        "**float**: ponto flutuante (num. decimal)\n",
        "\n",
        "**bool**: booleano (True ou False)\n",
        "\n",
        "**str**: string (texto)"
      ]
    },
    {
      "cell_type": "code",
      "metadata": {
        "id": "ALdsS9iUCs_N",
        "colab_type": "code",
        "colab": {}
      },
      "source": [
        "nota1 = 9 #int \n",
        "nota2 = 9.5 #float \n",
        "nome = 'Luiz' #string \n",
        "aprovado = (nota1>7) #bool"
      ],
      "execution_count": 4,
      "outputs": []
    },
    {
      "cell_type": "markdown",
      "metadata": {
        "id": "wWppjis2DJi_",
        "colab_type": "text"
      },
      "source": [
        "#Declarando e Chamando Funções \n"
      ]
    },
    {
      "cell_type": "markdown",
      "metadata": {
        "id": "la7DS00WDJrP",
        "colab_type": "text"
      },
      "source": [
        "***Declaração funções***:\n",
        "\n",
        "use a palavra **def**\n",
        "\n",
        "agrupando blocos de linhas de código com **“:”** e **tab**\n",
        "\n",
        "para retornar o valor use a função **return()**"
      ]
    },
    {
      "cell_type": "code",
      "metadata": {
        "id": "xNa4WQuHDKM_",
        "colab_type": "code",
        "colab": {}
      },
      "source": [
        "def somar(x,y):\n",
        "  s = x+y\n",
        "  return s"
      ],
      "execution_count": 6,
      "outputs": []
    },
    {
      "cell_type": "markdown",
      "metadata": {
        "id": "q4krqSH-DKVT",
        "colab_type": "text"
      },
      "source": [
        "***Chamada de funções*** \n",
        "use a função ***print***() para exibir o resultado\n"
      ]
    },
    {
      "cell_type": "code",
      "metadata": {
        "id": "lLfvryULDKb4",
        "colab_type": "code",
        "colab": {
          "base_uri": "https://localhost:8080/",
          "height": 34
        },
        "outputId": "a2c56c9c-b650-424b-8fa4-90a2f2dfdb60"
      },
      "source": [
        "r = somar(1,2)\n",
        "print(r)"
      ],
      "execution_count": 7,
      "outputs": [
        {
          "output_type": "stream",
          "text": [
            "3\n"
          ],
          "name": "stdout"
        }
      ]
    },
    {
      "cell_type": "markdown",
      "metadata": {
        "id": "X77t3OrrD1EB",
        "colab_type": "text"
      },
      "source": [
        "#Lendo do Teclado com input()\n"
      ]
    },
    {
      "cell_type": "markdown",
      "metadata": {
        "id": "KC6BjSQAEUQc",
        "colab_type": "text"
      },
      "source": [
        "Calculos o salario liquido"
      ]
    },
    {
      "cell_type": "code",
      "metadata": {
        "id": "pfXYNhk1D49m",
        "colab_type": "code",
        "colab": {
          "base_uri": "https://localhost:8080/",
          "height": 34
        },
        "outputId": "059d17e4-85e4-4cc7-883c-464adf2bb2da"
      },
      "source": [
        "salario_bruto = 4500\n",
        "inss = 0.09\n",
        "desconto_inss = salario_bruto * inss\n",
        "salario_liquido = salario_bruto - desconto_inss\n",
        "\n",
        "vale_transporte = salario_bruto * 0.02\n",
        "salario_liquido = salario_bruto - desconto_inss - vale_transporte\n",
        "\n",
        "print (\"salario a receber:\", salario_liquido)"
      ],
      "execution_count": 8,
      "outputs": [
        {
          "output_type": "stream",
          "text": [
            "salario a receber: 4005.0\n"
          ],
          "name": "stdout"
        }
      ]
    },
    {
      "cell_type": "markdown",
      "metadata": {
        "id": "-1crwx2LEW-M",
        "colab_type": "text"
      },
      "source": [
        "Encapsulando em uma fucao\n"
      ]
    },
    {
      "cell_type": "code",
      "metadata": {
        "id": "6eNyE8MZEXFH",
        "colab_type": "code",
        "colab": {}
      },
      "source": [
        "def sal_liq(salario_bruto):\n",
        "  inss = 0.09\n",
        "  desconto_inss = salario_bruto * inss\n",
        "  salario_liquido = salario_bruto - desconto_inss\n",
        "\n",
        "  vale_transporte = salario_bruto * 0.02\n",
        "  salario_liquido = salario_bruto - desconto_inss - vale_transporte\n",
        "\n",
        "  return salario_liquido\n",
        "\n",
        "sl = sal_liq(4500)\n",
        "print(sl)"
      ],
      "execution_count": null,
      "outputs": []
    },
    {
      "cell_type": "markdown",
      "metadata": {
        "id": "TUGL99BtEhNg",
        "colab_type": "text"
      },
      "source": [
        "Lendo do teclado com a funcao **input()**"
      ]
    },
    {
      "cell_type": "code",
      "metadata": {
        "id": "VblkBh8eEhVg",
        "colab_type": "code",
        "colab": {
          "base_uri": "https://localhost:8080/",
          "height": 52
        },
        "outputId": "2c786714-b1ae-44d9-bdbe-79568ce4d0f8"
      },
      "source": [
        "def sal_liq(salario_bruto):\n",
        "  inss = 0.09\n",
        "  desconto_inss = salario_bruto * inss\n",
        "  salario_liquido = salario_bruto - desconto_inss\n",
        "\n",
        "  vale_transporte = salario_bruto * 0.02\n",
        "  salario_liquido = salario_bruto - desconto_inss - vale_transporte\n",
        "\n",
        "  return salario_liquido\n",
        "\n",
        "sb = input('Qual o salario bruto?')\n",
        "sb = float(sb)\n",
        "sl = sal_liq(sb)\n",
        "print(sl)"
      ],
      "execution_count": 9,
      "outputs": [
        {
          "output_type": "stream",
          "text": [
            "Qual o salario bruto?1111\n",
            "988.79\n"
          ],
          "name": "stdout"
        }
      ]
    }
  ]
}