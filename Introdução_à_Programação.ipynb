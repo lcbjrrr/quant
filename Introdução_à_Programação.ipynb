{
  "nbformat": 4,
  "nbformat_minor": 0,
  "metadata": {
    "colab": {
      "name": "Introdução_à_Programação.ipynb",
      "provenance": [],
      "collapsed_sections": [],
      "include_colab_link": true
    },
    "kernelspec": {
      "name": "python3",
      "display_name": "Python 3"
    }
  },
  "cells": [
    {
      "cell_type": "markdown",
      "metadata": {
        "id": "view-in-github",
        "colab_type": "text"
      },
      "source": [
        "<a href=\"https://colab.research.google.com/github/lcbjrrr/quant/blob/master/Introdu%C3%A7%C3%A3o_%C3%A0_Programa%C3%A7%C3%A3o.ipynb\" target=\"_parent\"><img src=\"https://colab.research.google.com/assets/colab-badge.svg\" alt=\"Open In Colab\"/></a>"
      ]
    },
    {
      "cell_type": "markdown",
      "source": [
        "# Ficha Técnica\n",
        "\n",
        "Disciplina - Progamação e Machine Learning.\n",
        "\n",
        "Conteúdo -\n",
        "\n",
        " - Operadores aritméticos.\n",
        "\n",
        " - Variáveis - Tipos de Dados.\n",
        "\n",
        " - Declarando e Chamando Funções.\n",
        "  \n",
        " - Lendo do Teclado com input().\n",
        "\n",
        "\n",
        "Autores:\n",
        "\n",
        " - Anderson Borba (anderson.aborba@professores.ibmec.edu.br) e\n",
        "\n",
        " - Luiz Barboza (luiz.cbjunior@professores.ibmec.edu.br).\n",
        "\n",
        "Endereço eletrônico: http://quant-ibmec.group/python-e-ml/"
      ],
      "metadata": {
        "id": "L1wDk3_3MdvZ"
      }
    },
    {
      "cell_type": "markdown",
      "metadata": {
        "id": "ZgZ6sLPRB2lC"
      },
      "source": [
        "#Olá Mundo"
      ]
    },
    {
      "cell_type": "markdown",
      "metadata": {
        "id": "51DfTmku-nja"
      },
      "source": [
        "O primeiro programa de todo programador...\n",
        "\n",
        " \n",
        "![ ](https://pbs.twimg.com/media/Egyb3BxXgAc_nr0?format=png&name=900x900)\n",
        "\n"
      ]
    },
    {
      "cell_type": "code",
      "metadata": {
        "id": "IcL80gOm-nv0",
        "colab": {
          "base_uri": "https://localhost:8080/",
          "height": 34
        },
        "outputId": "73c0fec6-bfc9-4b1d-c8fc-0e296411d5f3"
      },
      "source": [
        "print('Ola Mundo!')"
      ],
      "execution_count": null,
      "outputs": [
        {
          "output_type": "stream",
          "text": [
            "Ola Mundo!\n"
          ],
          "name": "stdout"
        }
      ]
    },
    {
      "cell_type": "markdown",
      "metadata": {
        "id": "Qj_jrZo7B5mV"
      },
      "source": [
        "#Operadores Aritiméticos"
      ]
    },
    {
      "cell_type": "markdown",
      "metadata": {
        "id": "ziha0NytB5wx"
      },
      "source": [
        "![ ](https://pbs.twimg.com/media/EgyjdlrXsAAbQRG?format=png&name=small)"
      ]
    },
    {
      "cell_type": "markdown",
      "source": [
        "# Operador Adição"
      ],
      "metadata": {
        "id": "hP2SZyKKIN_a"
      }
    },
    {
      "cell_type": "code",
      "source": [
        "a = 5\n",
        "b = 10\n",
        "soma = a + b\n",
        "print(soma)"
      ],
      "metadata": {
        "colab": {
          "base_uri": "https://localhost:8080/"
        },
        "id": "StQTvAwnINUv",
        "outputId": "8155a540-7194-4b6e-cd56-1c8a2e386f1c"
      },
      "execution_count": null,
      "outputs": [
        {
          "output_type": "stream",
          "name": "stdout",
          "text": [
            "15\n"
          ]
        }
      ]
    },
    {
      "cell_type": "markdown",
      "source": [
        "# Operador Subtração"
      ],
      "metadata": {
        "id": "Yb1TQdzcIlSj"
      }
    },
    {
      "cell_type": "code",
      "source": [
        "a = 5\n",
        "b = 10\n",
        "dif = a - b\n",
        "print(dif)"
      ],
      "metadata": {
        "colab": {
          "base_uri": "https://localhost:8080/"
        },
        "outputId": "cb75ca33-8b34-4905-e33c-2d2243f7cf77",
        "id": "KMmPCTuYIqSP"
      },
      "execution_count": null,
      "outputs": [
        {
          "output_type": "stream",
          "name": "stdout",
          "text": [
            "-5\n"
          ]
        }
      ]
    },
    {
      "cell_type": "markdown",
      "source": [
        "# Operador Multiplicação"
      ],
      "metadata": {
        "id": "V1LO2rTJI32t"
      }
    },
    {
      "cell_type": "code",
      "source": [
        "a = 5\n",
        "b = 10\n",
        "mult = a * b\n",
        "print(mult)"
      ],
      "metadata": {
        "colab": {
          "base_uri": "https://localhost:8080/"
        },
        "outputId": "71e37b05-8cbd-4554-ad24-55ebd34b3a6c",
        "id": "mYJ6Vyx5JM3h"
      },
      "execution_count": null,
      "outputs": [
        {
          "output_type": "stream",
          "name": "stdout",
          "text": [
            "50\n"
          ]
        }
      ]
    },
    {
      "cell_type": "markdown",
      "source": [
        "# Operador Divisão"
      ],
      "metadata": {
        "id": "_2U8G1elJUmU"
      }
    },
    {
      "cell_type": "code",
      "source": [
        "a = 5\n",
        "b = 10\n",
        "div = a / b\n",
        "print(div)"
      ],
      "metadata": {
        "colab": {
          "base_uri": "https://localhost:8080/"
        },
        "id": "2LNpnrhiJWhU",
        "outputId": "82c64751-f594-4b7f-aac4-b088e59f7d4f"
      },
      "execution_count": null,
      "outputs": [
        {
          "output_type": "stream",
          "name": "stdout",
          "text": [
            "0.5\n"
          ]
        }
      ]
    },
    {
      "cell_type": "markdown",
      "source": [
        "# Operador Exponenciação"
      ],
      "metadata": {
        "id": "I0Bt4NY7Jnjl"
      }
    },
    {
      "cell_type": "code",
      "source": [
        "a = 3\n",
        "exp2 = a**2\n",
        "exp3 = a**3\n",
        "exp4 = a**4\n",
        "print(\"exp2=\",exp2)\n",
        "print(\"exp3=\",exp3)\n",
        "print(\"exp4=\",exp4)"
      ],
      "metadata": {
        "colab": {
          "base_uri": "https://localhost:8080/"
        },
        "id": "xvDfT1EJJtVE",
        "outputId": "5ad276c8-f992-4e15-9653-6d7a74b62784"
      },
      "execution_count": null,
      "outputs": [
        {
          "output_type": "stream",
          "name": "stdout",
          "text": [
            "exp2= 9\n",
            "exp3= 27\n",
            "exp4= 81\n"
          ]
        }
      ]
    },
    {
      "cell_type": "markdown",
      "source": [
        "# Operador Módulo (Retorna o resto da divisão)"
      ],
      "metadata": {
        "id": "fikWiV07KJHe"
      }
    },
    {
      "cell_type": "code",
      "source": [
        "a = 18\n",
        "b = 2\n",
        "mod1 = a % b\n",
        "print(\"mod1\", mod1)\n",
        "#\n",
        "a = 18\n",
        "b = 3\n",
        "mod2 = a % b\n",
        "print(\"mod2\", mod2)\n",
        "#\n",
        "b = 3\n",
        "mod3 = a % b\n",
        "print(\"mod3\", mod3)\n",
        "#\n",
        "b = 4\n",
        "mod4 = a % b\n",
        "print(\"mod4\", mod4)\n",
        "#\n",
        "b = 5\n",
        "mod5 = a % b\n",
        "print(\"mod5\", mod5)\n",
        "#\n",
        "b = 6 \n",
        "mod6 = a % b\n",
        "print(\"mod6\", mod6)"
      ],
      "metadata": {
        "colab": {
          "base_uri": "https://localhost:8080/"
        },
        "id": "kckT8hKEKthS",
        "outputId": "251f9ff6-6066-4ca1-dd18-30f749f2235d"
      },
      "execution_count": null,
      "outputs": [
        {
          "output_type": "stream",
          "name": "stdout",
          "text": [
            "mod1 0\n",
            "mod2 0\n",
            "mod3 0\n",
            "mod4 2\n",
            "mod5 3\n",
            "mod6 0\n"
          ]
        }
      ]
    },
    {
      "cell_type": "markdown",
      "source": [
        "# Expressão aritmética"
      ],
      "metadata": {
        "id": "hR6gZKhuPi7-"
      }
    },
    {
      "cell_type": "code",
      "metadata": {
        "id": "P3OWnTNKB-bh",
        "colab": {
          "base_uri": "https://localhost:8080/"
        },
        "outputId": "a71a1696-3edf-44d0-e80f-6fbc0e2ecfed"
      },
      "source": [
        "(12+ 5*(3/2+(2**5 -13)/3))"
      ],
      "execution_count": null,
      "outputs": [
        {
          "output_type": "execute_result",
          "data": {
            "text/plain": [
              "51.166666666666664"
            ]
          },
          "metadata": {},
          "execution_count": 19
        }
      ]
    },
    {
      "cell_type": "markdown",
      "metadata": {
        "id": "9kx7IcpPCkoo"
      },
      "source": [
        "#Variáveis - Tipos de Dados  "
      ]
    },
    {
      "cell_type": "markdown",
      "metadata": {
        "id": "dFuQH1cOClaF"
      },
      "source": [
        "Em Python os tipos são (quase sempre) implícitos.\n",
        "Os tipos suportados são:\n",
        "\n",
        "**int**: inteiro \t\n",
        "\n",
        "**float**: ponto flutuante (num. decimal)\n",
        "\n",
        "**bool**: booleano (True ou False)\n",
        "\n",
        "**str**: string (texto)"
      ]
    },
    {
      "cell_type": "code",
      "metadata": {
        "id": "ALdsS9iUCs_N",
        "colab": {
          "base_uri": "https://localhost:8080/"
        },
        "outputId": "0c3d7210-c511-4b79-eb86-c3802a77c959"
      },
      "source": [
        "nota1 = 9 #int \n",
        "nota2 = 9.5 #float \n",
        "nome = 'Luiz' #string \n",
        "aprovado = (nota1>7) #bool\n",
        "print(nome)\n",
        "print(aprovado)"
      ],
      "execution_count": null,
      "outputs": [
        {
          "output_type": "stream",
          "name": "stdout",
          "text": [
            "Luiz\n",
            "True\n"
          ]
        }
      ]
    },
    {
      "cell_type": "markdown",
      "metadata": {
        "id": "wWppjis2DJi_"
      },
      "source": [
        "#Declarando e Chamando Funções \n"
      ]
    },
    {
      "cell_type": "markdown",
      "metadata": {
        "id": "la7DS00WDJrP"
      },
      "source": [
        "***Declaração funções***:\n",
        "\n",
        "use a palavra **def**\n",
        "\n",
        "agrupando blocos de linhas de código com **“:”** e **tab**\n",
        "\n",
        "para retornar o valor use a função **return()**"
      ]
    },
    {
      "cell_type": "code",
      "metadata": {
        "id": "xNa4WQuHDKM_"
      },
      "source": [
        "def somar(x,y):\n",
        "  s = x+y\n",
        "  return s"
      ],
      "execution_count": null,
      "outputs": []
    },
    {
      "cell_type": "markdown",
      "metadata": {
        "id": "q4krqSH-DKVT"
      },
      "source": [
        "***Chamada de funções*** \n",
        "use a função ***print***() para exibir o resultado\n"
      ]
    },
    {
      "cell_type": "code",
      "metadata": {
        "id": "lLfvryULDKb4",
        "colab": {
          "base_uri": "https://localhost:8080/",
          "height": 34
        },
        "outputId": "a2c56c9c-b650-424b-8fa4-90a2f2dfdb60"
      },
      "source": [
        "r = somar(1,2)\n",
        "print(r)"
      ],
      "execution_count": null,
      "outputs": [
        {
          "output_type": "stream",
          "text": [
            "3\n"
          ],
          "name": "stdout"
        }
      ]
    },
    {
      "cell_type": "markdown",
      "metadata": {
        "id": "KC6BjSQAEUQc"
      },
      "source": [
        "Cálculo do salário líquido"
      ]
    },
    {
      "cell_type": "code",
      "metadata": {
        "id": "pfXYNhk1D49m",
        "colab": {
          "base_uri": "https://localhost:8080/"
        },
        "outputId": "4bcd2bd1-b498-426e-88d0-8f16b036177e"
      },
      "source": [
        "salario_bruto = 4500\n",
        "inss = 0.09\n",
        "desconto_inss = salario_bruto * inss\n",
        "salario_liquido = salario_bruto - desconto_inss\n",
        "\n",
        "vale_transporte = salario_bruto * 0.02\n",
        "salario_liquido = salario_bruto - desconto_inss - vale_transporte\n",
        "\n",
        "print (\"salario a receber:\", salario_liquido)"
      ],
      "execution_count": null,
      "outputs": [
        {
          "output_type": "stream",
          "name": "stdout",
          "text": [
            "salario a receber: 4005.0\n"
          ]
        }
      ]
    },
    {
      "cell_type": "markdown",
      "metadata": {
        "id": "-1crwx2LEW-M"
      },
      "source": [
        "Encapsulando em uma fucao\n"
      ]
    },
    {
      "cell_type": "code",
      "metadata": {
        "id": "6eNyE8MZEXFH"
      },
      "source": [
        "def sal_liq(salario_bruto):\n",
        "  inss = 0.09\n",
        "  desconto_inss = salario_bruto * inss\n",
        "  salario_liquido = salario_bruto - desconto_inss\n",
        "\n",
        "  vale_transporte = salario_bruto * 0.02\n",
        "  salario_liquido = salario_bruto - desconto_inss - vale_transporte\n",
        "\n",
        "  return salario_liquido\n",
        "\n",
        "sl = sal_liq(4500)\n",
        "print(sl)"
      ],
      "execution_count": null,
      "outputs": []
    },
    {
      "cell_type": "markdown",
      "metadata": {
        "id": "TUGL99BtEhNg"
      },
      "source": [
        "# Lendo do teclado com a funcao **input()**"
      ]
    },
    {
      "cell_type": "code",
      "metadata": {
        "id": "VblkBh8eEhVg",
        "colab": {
          "base_uri": "https://localhost:8080/"
        },
        "outputId": "3612c735-3919-44f1-c0a7-848a055264bb"
      },
      "source": [
        "def sal_liq(salario_bruto):\n",
        "  inss = 0.09\n",
        "  desconto_inss = salario_bruto * inss\n",
        "  salario_liquido = salario_bruto - desconto_inss\n",
        "\n",
        "  vale_transporte = salario_bruto * 0.02\n",
        "  salario_liquido = salario_bruto - desconto_inss - vale_transporte\n",
        "\n",
        "  return salario_liquido\n",
        "\n",
        "sb = input('Qual o salario bruto?')\n",
        "sb = float(sb)\n",
        "sl = sal_liq(sb)\n",
        "print(sl)"
      ],
      "execution_count": null,
      "outputs": [
        {
          "output_type": "stream",
          "name": "stdout",
          "text": [
            "Qual o salario bruto?4500\n",
            "4005.0\n"
          ]
        }
      ]
    }
  ]
}