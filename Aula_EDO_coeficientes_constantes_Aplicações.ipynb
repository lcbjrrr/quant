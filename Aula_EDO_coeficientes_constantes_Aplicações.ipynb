{
  "nbformat": 4,
  "nbformat_minor": 0,
  "metadata": {
    "colab": {
      "name": "Aula - EDO coeficientes constantes-Aplicações.ipynb",
      "provenance": [],
      "collapsed_sections": [],
      "include_colab_link": true
    },
    "kernelspec": {
      "display_name": "Python 3",
      "language": "python",
      "name": "python3"
    },
    "language_info": {
      "codemirror_mode": {
        "name": "ipython",
        "version": 3
      },
      "file_extension": ".py",
      "mimetype": "text/x-python",
      "name": "python",
      "nbconvert_exporter": "python",
      "pygments_lexer": "ipython3",
      "version": "3.7.4"
    }
  },
  "cells": [
    {
      "cell_type": "markdown",
      "metadata": {
        "id": "view-in-github",
        "colab_type": "text"
      },
      "source": [
        "<a href=\"https://colab.research.google.com/github/lcbjrrr/quant/blob/master/Aula_EDO_coeficientes_constantes_Aplica%C3%A7%C3%B5es.ipynb\" target=\"_parent\"><img src=\"https://colab.research.google.com/assets/colab-badge.svg\" alt=\"Open In Colab\"/></a>"
      ]
    },
    {
      "cell_type": "markdown",
      "metadata": {
        "colab_type": "text",
        "id": "BVzL9Q-e6mP_"
      },
      "source": [
        "# Ficha Técnica\n",
        "\n",
        "Disciplina - Otimização e processos dinâmicos.\n",
        "\n",
        "Conteúdo - EDO com coeficientes constantes.\n",
        "\n",
        "Aplicação - Aplicações - Linguagem de programação (Python).\n",
        "\n",
        "Autores: Anderson Borba e Luiz Barboza."
      ]
    },
    {
      "cell_type": "markdown",
      "metadata": {
        "colab_type": "text",
        "id": "G4aWVqqcCAE0"
      },
      "source": [
        "# EDO - Equação diferencial ordinária - Aplicações\n",
        "\n",
        "As aplicações usadas nos exemplos podem ser encontradas na referência (1)."
      ]
    },
    {
      "cell_type": "markdown",
      "metadata": {
        "id": "6qgSVBOqSW0x",
        "colab_type": "text"
      },
      "source": [
        "## A Lei para o Crescimento Natural\n",
        "\n",
        "Sendo que $x(t)$ denote o comportamento para o produção interno bruto(PIB) de um país. A razão $\\frac{\\dot{x}(t)}{x(t)}$, ou $\\frac{1}{x(t)}\\frac{d{x}}{dt}$ é conhecida como a taxa de variação relativa do PIB. Vários modelos econômicos postulam que a taxa de variação relativa é aproximadamente uma constante $r$.\n",
        "\n",
        "Assim, a taxa de variação relativa,\n",
        "\\begin{equation}\n",
        "\\begin{aligned}\n",
        " \\frac{\\dot{x}(t)}{x(t)}&=r\\\\\n",
        " \\dot{x}(t)&=rx(t)\\\\\n",
        " \\dot{x}(t)&-rx(t)=0\\\\\n",
        "\\end{aligned}\n",
        "\\end{equation}\n",
        "lembre-se que $\\dot{x}(t)=\\frac{d{x}}{dt}$, assim\n",
        "\\begin{equation}\n",
        "\\begin{aligned}\n",
        " \\frac{d{x}}{dt}&-rx(t)=0\\\\\n",
        "\\end{aligned}\\tag{Equação homogênea}\n",
        "\\end{equation}\n",
        "\n",
        "Uma classe de funções que apresentam esse comportamento são as funções expenciais. Podemos afirmar que \n",
        "\\begin{equation}\n",
        "\\begin{aligned}\n",
        " x(t)&=Ae^{rt}\n",
        "\\end{aligned}\n",
        "\\end{equation}\n",
        "satisfaz a equação homogênea.\n",
        "\n",
        "A condição inicial $x(0)=x_0$, consideramos $t=0$, define a única solução\n",
        "\\begin{equation}\n",
        "\\begin{aligned}\n",
        " x(0)&=Ae^{0}\\\\\n",
        " x_0&=A,\n",
        "\\end{aligned}\n",
        "\\end{equation}\n",
        "desta maneira, podemos afirmar que a solução exata (única) para a EDO homogênea é,\n",
        "\\begin{equation}\n",
        "\\begin{aligned}\n",
        " x(t)&=x_0e^{rt},\n",
        "\\end{aligned}\\tag{Solução da EDO homogênea}\n",
        "\\end{equation}\n",
        "a verificação deste fato pode ser realizada pelo leitor.\n",
        "\n",
        "A equação homogênea é importante para diversas áreas do conhecimento, pode ser usada em modelos para a lei do crescimento natural. A equação diferencial é conhecida por lei de Malthus’s."
      ]
    },
    {
      "cell_type": "markdown",
      "metadata": {
        "id": "TASnIlgle84A",
        "colab_type": "text"
      },
      "source": [
        "### Exemplo 1\n",
        "\n",
        "Se $S(t)$ indicar o volume de vendas de um determinado produto por unidade de tempo. Em um mercado estável, onde não é feita qualquer promoção de vendas, a diminuição em $S(t)$ por unidade de tempo é proporcional a $S(t)$. Assim, as vendas desaceleram à taxa proporcional constante $a > 0$, o que implica na equação,\n",
        "\\begin{equation}\n",
        "\\begin{aligned}\n",
        " \\dot{S}(t)&=-aS(t)\n",
        " \\end{aligned}\n",
        "\\end{equation}\n",
        "\n",
        "a) Ache a solução $S(t)$ se a condição inicial é $S(0)=S_0$\n",
        "\n",
        "b) Interprete a solução quanto t tende a infinito.\n",
        "\n"
      ]
    },
    {
      "cell_type": "markdown",
      "metadata": {
        "id": "V1MRhzZwxjnd",
        "colab_type": "text"
      },
      "source": [
        "Implementação em Python da solução com as seguintes constantes, $a=0.75$, $S_0=10$."
      ]
    },
    {
      "cell_type": "code",
      "metadata": {
        "id": "my6j2OP2xmN_",
        "colab_type": "code",
        "colab": {
          "base_uri": "https://localhost:8080/",
          "height": 295
        },
        "outputId": "f51c4981-b47c-4fc9-dbc2-c629f35829e2"
      },
      "source": [
        "import matplotlib.pyplot as plt\n",
        "import numpy as np\n",
        "def sol_exata(t):\n",
        "  a = 0.75\n",
        "  S0 = 10\n",
        "  sol_exata = S0 * np.exp(-a*t) \n",
        "  return sol_exata\n",
        "#\n",
        "ti = 0\n",
        "tf = 5\n",
        "n = 2048\n",
        "h = (tf - ti) / n\n",
        "t      = np.linspace(0, 0, n + 1)\n",
        "sol_ex = np.linspace(0, 0, n + 1)\n",
        "for i in range(0, n + 1):\n",
        "\tt[i] = ti + i * h\n",
        "# Solução exata\n",
        "for i in range(0, n + 1):\n",
        "\tsol_ex[i] = sol_exata(t[i])\n",
        "# Plot\n",
        "plt.plot(t, sol_ex)\n",
        "plt.title('Vendas')\n",
        "plt.xlabel('t')\n",
        "plt.ylabel('S(t)')\n",
        "plt.grid(alpha=.3, linestyle='--')\n",
        "plt.show()"
      ],
      "execution_count": null,
      "outputs": [
        {
          "output_type": "display_data",
          "data": {
            "image/png": "[encoded data removed]",
            "text/plain": [
              "<Figure size 432x288 with 1 Axes>"
            ]
          },
          "metadata": {
            "tags": [],
            "needs_background": "light"
          }
        }
      ]
    },
    {
      "cell_type": "markdown",
      "metadata": {
        "id": "p9SnnEpqFgux",
        "colab_type": "text"
      },
      "source": [
        "### Exemplo 2\n",
        "- Crescimento com limitação superior\n",
        "\n",
        "Suponha que uma população tem uma capacidade máxima de $K = 200$ (milhões), e no momento $t = 0$ há $50$ (milhões). Sendo $x(t)$ a população no tempo t. Seja $a = 0.05$, \n",
        "\n",
        "a) encontre a solução da equação \n",
        "$$\\frac{dx(t)}{dt} = a(K-x(t)).$$ \n",
        "\n",
        "b) Traçar um gráfico da solução"
      ]
    },
    {
      "cell_type": "code",
      "metadata": {
        "id": "3pyLUez0_KiZ",
        "colab_type": "code",
        "colab": {
          "base_uri": "https://localhost:8080/",
          "height": 295
        },
        "outputId": "41349b02-b63a-4abf-db99-8e6574ccece6"
      },
      "source": [
        "import matplotlib.pyplot as plt\n",
        "import numpy as np\n",
        "def sol_exata(t):\n",
        "  a = 0.05\n",
        "  x0 = 50\n",
        "  k = 200 \n",
        "  sol_exata = k + (x0 - k)* np.exp(-a*t) \n",
        "  return sol_exata\n",
        "#\n",
        "ti = 0\n",
        "tf = 100\n",
        "n = 2048\n",
        "h = (tf - ti) / n\n",
        "t      = np.linspace(0, 0, n + 1)\n",
        "sol_ex = np.linspace(0, 0, n + 1)\n",
        "for i in range(0, n + 1):\n",
        "\tt[i] = ti + i * h\n",
        "# Solução exata\n",
        "for i in range(0, n + 1):\n",
        "\tsol_ex[i] = sol_exata(t[i])\n",
        "# Plot\n",
        "plt.plot(t, sol_ex)\n",
        "plt.title('População')\n",
        "plt.xlabel('t')\n",
        "plt.ylabel('x(t)')\n",
        "plt.grid(alpha=.3, linestyle='--')\n",
        "plt.show()"
      ],
      "execution_count": null,
      "outputs": [
        {
          "output_type": "display_data",
          "data": {
            "image/png": "[encoded data removed]",
            "text/plain": [
              "<Figure size 432x288 with 1 Axes>"
            ]
          },
          "metadata": {
            "tags": [],
            "needs_background": "light"
          }
        }
      ]
    },
    {
      "cell_type": "markdown",
      "metadata": {
        "id": "t_oUQVaeHwA3",
        "colab_type": "text"
      },
      "source": [
        "### Exemplo 3\n",
        "- Crescimento logístico\n",
        "\n",
        "Um estudo da mecanização agrícola britânica a partir de $1950$ estimou que $y$, o número de tratores em uso (medido em milhares) em função de $t$ (medido em anos, de modo que $t=0$ corresponde a $1950$), foi aproximadamente por $y(t)=250+x(t)$, onde $x=x(t)$ satisfez a equação diferencial logística\n",
        "\\begin{equation}\n",
        "\\begin{aligned}\n",
        " \\frac{dx}{dt}&=0.34x\\cdot\\left(1-\\frac{x}{230}\\right),\n",
        " \\end{aligned}\n",
        "\\end{equation} \n",
        "com condições iniciais $x(0)=25$.\n",
        "\n",
        "(a) Encontrar uma expressão para $y(t)$, (Solucão da EDO).\n",
        "\n",
        "(b) Encontrar o limite de $y(t)$ como $t \\rightarrow \\infty$, e desenhar o gráfico.  "
      ]
    },
    {
      "cell_type": "markdown",
      "metadata": {
        "id": "c8D16VLpMFZl",
        "colab_type": "text"
      },
      "source": [
        "### Ideia\n",
        "Sendo \n",
        "\\begin{equation}\n",
        "\\begin{aligned}\n",
        " \\frac{dx}{dt}&=rx\\cdot\\left(1-\\frac{x}{K}\\right),\n",
        " \\end{aligned}\\tag{1}\n",
        "\\end{equation}\n",
        "Definindo,\n",
        "\\begin{equation}\n",
        "\\begin{aligned}\n",
        " u(t)&=-1+\\frac{K}{x(t)}\n",
        " \\end{aligned}\\tag{2}\n",
        "\\end{equation}\n",
        "derivando $u(t)$ com relação a t,\n",
        "\\begin{equation}\n",
        "\\begin{aligned}\n",
        " \\dot{u}(t)&=\\frac{d}{dt}\\left(\\frac{K}{x(t)}\\right)\\\\\n",
        " \\dot{u}(t)&=\\frac{d}{dt}\\left(Kx^{-1}(t)\\right)\\\\\n",
        " \\dot{u}(t)&=- Kx^{-2}(t)\\dot{x}(t)\\\\\n",
        " \\dot{u}(t)&=- K\\frac{1}{x^2}\\dot{x}(t)\\\\\n",
        "\\end{aligned}\n",
        "\\end{equation}\n",
        "usando a equação (1) teremos\n",
        "\\begin{equation}\n",
        "\\begin{aligned}\n",
        " \\dot{u}(t)&=- K\\frac{1}{x^2}rx\\cdot\\left(1-\\frac{x}{K}\\right)\\\\\n",
        " \\dot{u}(t)&=- K\\frac{r}{x}\\cdot\\left(1-\\frac{x}{K}\\right)\\\\\n",
        " \\dot{u}(t)&=-r\\left(\\frac{K}{x}-1\\right)\\\\\n",
        "  \\dot{u}(t)&=-ru(t)\\\\\n",
        "\\end{aligned}\n",
        "\\end{equation}\n",
        "podemos reecrever a equação por\n",
        "\\begin{equation}\n",
        "\\begin{aligned}\n",
        "  \\dot{u}(t)&+ru(t)=0\\\\\n",
        "\\end{aligned}\n",
        "\\end{equation}\n",
        "\n",
        "Sabemos que a solução da EDO homogênea é $u(t)=Ae^{-rt}$, usando a equação (1) teremos\n",
        "\\begin{equation}\n",
        "\\begin{aligned}\n",
        " u(t)=Ae^{-rt}&=-1+\\frac{K}{x(t)}\n",
        " \\end{aligned}\\tag{3}\n",
        "\\end{equation}\n",
        "fazendo algumas manipulações algébricas,\n",
        "\\begin{equation}\n",
        "\\begin{aligned}\n",
        " Ae^{-rt}+1&=\\frac{K}{x(t)}\\\\\n",
        " \\frac{Ae^{-rt}+1}{K}&=\\frac{1}{x(t)}\n",
        " \\end{aligned}\n",
        "\\end{equation}\n",
        "logo, a solução da EDO (1) pode ser definida por, \n",
        "\\begin{aligned}\n",
        " x(t)&=\\frac{K}{1+Ae^{-rt}},\\\\\n",
        " \\end{aligned}\n",
        " verificar se é solução."
      ]
    },
    {
      "cell_type": "code",
      "metadata": {
        "id": "x_pJNX1UAi4P",
        "colab_type": "code",
        "colab": {
          "base_uri": "https://localhost:8080/",
          "height": 573
        },
        "outputId": "78e7c9e3-8069-43f5-ede4-e2c489366cb4"
      },
      "source": [
        "import matplotlib.pyplot as plt\n",
        "import numpy as np\n",
        "def sol_exata_x(t):\n",
        "  r = 0.34\n",
        "  K = 230\n",
        "  x0 = 25\n",
        "  sol_exata_x = K / (1 + 25 * np.exp(-r * t)) \n",
        "  return sol_exata_x\n",
        "#\n",
        "def sol_exata_y(t):\n",
        "  c = 250\n",
        "  sol_exata_y = c + sol_exata_x(t)  \n",
        "  return sol_exata_y\n",
        "#\n",
        "ti = 0\n",
        "tf = 30\n",
        "n = 2048\n",
        "h = (tf - ti) / n\n",
        "t        = np.linspace(0, 0, n + 1)\n",
        "sol_ex_x = np.linspace(0, 0, n + 1)\n",
        "sol_ex_y = np.linspace(0, 0, n + 1)\n",
        "for i in range(0, n + 1):\n",
        "\tt[i] = ti + i * h\n",
        "# Solução exata\n",
        "for i in range(0, n + 1):\n",
        "  sol_ex_x[i] = sol_exata_x(t[i])\n",
        "  sol_ex_y[i] = sol_exata_y(t[i])\n",
        "# Plot\n",
        "plt.plot(t, sol_ex_x)\n",
        "plt.title('Equação logística')\n",
        "plt.xlabel('t')\n",
        "plt.ylabel('x(t)')\n",
        "plt.grid(alpha=.3, linestyle='--')\n",
        "plt.show()\n",
        "plt.plot(t, sol_ex_y)\n",
        "plt.title('Número de tratores')\n",
        "plt.xlabel('t')\n",
        "plt.ylabel('y(t)')\n",
        "plt.grid(alpha=.3, linestyle='--')\n",
        "plt.show()"
      ],
      "execution_count": null,
      "outputs": [
        {
          "output_type": "display_data",
          "data": {
            "image/png": "[encoded data removed]",
            "text/plain": [
              "<Figure size 432x288 with 1 Axes>"
            ]
          },
          "metadata": {
            "tags": [],
            "needs_background": "light"
          }
        },
        {
          "output_type": "display_data",
          "data": {
            "image/png": "[encoded data removed]",
            "text/plain": [
              "<Figure size 432x288 with 1 Axes>"
            ]
          },
          "metadata": {
            "tags": [],
            "needs_background": "light"
          }
        }
      ]
    },
    {
      "cell_type": "markdown",
      "metadata": {
        "id": "hADrEOS3KD_2",
        "colab_type": "text"
      },
      "source": [
        "# Referências\n",
        "- [1] Essential Mathematics for Economic Analysis.  Sydsaeter, K. and Hammond, P.J. and Strom, A. and Carvajal, A.,"
      ]
    }
  ]
}