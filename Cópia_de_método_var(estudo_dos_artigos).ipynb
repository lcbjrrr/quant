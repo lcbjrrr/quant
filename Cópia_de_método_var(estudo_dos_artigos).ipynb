{
  "nbformat": 4,
  "nbformat_minor": 0,
  "metadata": {
    "colab": {
      "name": "Cópia de método var(estudo dos artigos).ipynb",
      "provenance": [],
      "collapsed_sections": [],
      "include_colab_link": true
    },
    "kernelspec": {
      "name": "python3",
      "display_name": "Python 3"
    }
  },
  "cells": [
    {
      "cell_type": "markdown",
      "metadata": {
        "id": "view-in-github",
        "colab_type": "text"
      },
      "source": [
        "<a href=\"https://colab.research.google.com/github/lcbjrrr/quant/blob/master/C%C3%B3pia_de_m%C3%A9todo_var(estudo_dos_artigos).ipynb\" target=\"_parent\"><img src=\"https://colab.research.google.com/assets/colab-badge.svg\" alt=\"Open In Colab\"/></a>"
      ]
    },
    {
      "cell_type": "markdown",
      "metadata": {
        "id": "ID_zCjEmVGZk"
      },
      "source": [
        "Ficha Técnica\n",
        "\n",
        "Grupo de Macroeconomia aplicada.\n",
        "\n",
        "Conteúdo - Método VAR(Vetor Autorregressivo) .\n",
        "\n",
        "Aplicação:\n",
        "\n",
        "- Macroeconomia\n",
        "\n",
        "Autores:\n",
        "\n",
        "Anderson Borba (anderson.aborba@professores.ibmec.edu.br)\n",
        "\n",
        "Luiz Barboza (luiz.cbjunior@professores.ibmec.edu.br).\n",
        "\n",
        "Endereço eletrônico: http://quant-ibmec.group/"
      ]
    },
    {
      "cell_type": "markdown",
      "metadata": {
        "id": "tDgC74ybbwNu"
      },
      "source": [
        "# VAR- Vetor Autorregressivo\n",
        "\n",
        "O VAR - Vetor Autorregressivo será descrito para aplicação em modelos econômicos.\n",
        "\n",
        "Seja,\n",
        "\n",
        "- $x_t$ - Vetor com $n$-variáveis no tempo corrente.\n",
        "- $x_{t-i}$ - Vetor com $n$-variáveis em tempos anteriores $t-i$. Com $i=1,\\dots,p$.\n",
        "- $B_{n\\times n}$- Matriz inversível.\n",
        "- $\\Gamma_0$- Vetor com $n$-constantes.\n",
        "- $\\Gamma_i$- Matrizes ${n\\times n}$.\n",
        "- $D_{n\\times n}$- Matriz diagonal com os desvios padrão.\n",
        "- $\\varepsilon_t=[\\varepsilon_{yt},\\varepsilon_{zt}]^T$ distibuído de maneira independente e identicamente distribuida  não correlacionadas entre si em tempos atuais, assim como tempos passados.\n",
        "\\begin{equation}\n",
        "\\begin{aligned}\n",
        "Bx_t=\\Gamma_0+ \\sum_{i=1}^{p}\\Gamma_i x_{t-i}+D\\varepsilon_t,\n",
        "\\end{aligned}\\tag{VAR- sistema primitivo}\n",
        "\\end{equation}\n",
        "invertendo a matriz $B$, e pré-multiplicando o sistema VAR-primitivo, teremos\n",
        "\\begin{equation}\n",
        "\\begin{aligned}\n",
        "B^{-1}Bx_t=B^{-1}\\Gamma_0+ \\sum_{i=1}^{p}B^{-1}\\Gamma_i x_{t-i}+B^{-1}D\\varepsilon_t,\\\\\n",
        "Ix_t=B^{-1}\\Gamma_0+ \\sum_{i=1}^{p}B^{-1}\\Gamma_i x_{t-i}+B^{-1}D\\varepsilon_t.\n",
        "\\end{aligned}\n",
        "\\end{equation}\n",
        "\n",
        "Definindo,\n",
        "- $A_0=B^{-1}\\Gamma_0$,\n",
        "- $A_i= B^{-1}\\Gamma_i$, e \n",
        "- $e_t=B^{-1}D\\varepsilon_t$\n",
        "\\begin{equation}\n",
        "\\begin{aligned}\n",
        "x_t=A_0+ \\sum_{i=1}^{p}A_ix_{t-i}+e_t.\n",
        "\\end{aligned}\\tag{VAR- sistema padrão}\n",
        "\\end{equation}\n",
        "\n",
        "Sendo \n",
        "$$\n",
        "B = \\left[\n",
        "\\begin{array}{cc}\n",
        "b_{11} & b_{12}  \\\\\n",
        "b_{21} & b_{22} \\\\\n",
        "\\end{array}\n",
        "\\right].\n",
        "$$"
      ]
    },
    {
      "cell_type": "markdown",
      "metadata": {
        "id": "X2DFc44KMDKe"
      },
      "source": [
        "## Inversa da matriz B\n",
        "Seja\n",
        "$$\n",
        "B = \\left[\n",
        "\\begin{array}{cc}\n",
        "b_{11} & b_{12}  \\\\\n",
        "b_{21} & b_{22} \\\\\n",
        "\\end{array}\n",
        "\\right],\n",
        "$$\n",
        "podemos encontrar a matriz inversa $B^{-1}$,\n",
        "$$\n",
        "\\left[B|I\\right] = \\left[\n",
        "\\begin{array}{cc|cc}\n",
        "b_{11} & b_{12}&1&0  \\\\\n",
        "b_{21} & b_{22}&0&1 \\\\\n",
        "\\end{array}\n",
        "\\right],\n",
        "$$\n",
        "realizando as seguintes operações $L_2\\sim L_2-\\frac{b_{21}}{b_{11}}L_1$\n",
        "$$\n",
        "\\left[B|I\\right] = \\left[\n",
        "\\begin{array}{cc|cc}\n",
        "b_{11} & b_{12}&1&0 \\\\\n",
        "0 & b_{22}-\\frac{b_{21}b_{12}}{b_{11}} &-\\frac{b_{21}}{b_{11}}&1 \\\\\n",
        "\\end{array}\n",
        "\\right],\n",
        "$$\n",
        "$L_1\\sim \\frac{L_1}{b_{11}}$\n",
        "$$\n",
        "\\left[B|I\\right] = \\left[\n",
        "\\begin{array}{cc|cc}\n",
        " 1& \\frac{b_{12}}{b_{11}}&\\frac{1}{b_{11}}&0  \\\\\n",
        "0 & \\frac{b_{11} b_{22}-b_{21}b_{12}}{b_{11}} &-\\frac{b_{21}}{b_{11}}&1 \\\\\n",
        "\\end{array}\n",
        "\\right],\n",
        "$$\n",
        "$L_1\\sim L_1-\\frac{b_{21}}{b_{22}}L2$\n",
        "$$\n",
        "\\left[B|I\\right] = \\left[\n",
        "\\begin{array}{cc|cc}\n",
        " 1& 0  &\\frac{b_{22}}{b_{11}b_{22}-b_{21}b_{12}}&-\\frac{b_{12}}{b_{11}b_{22}-b_{21}b_{12}}   \\\\\n",
        "0 & \\frac{b_{11} b_{22}-b_{21}b_{12}}{b_{11}} &-\\frac{b_{21}}{b_{11}}&1 \\\\\n",
        "\\end{array}\n",
        "\\right],\n",
        "$$\n",
        "$L_2\\sim \\frac{L_2}{b_{22}}$\n",
        "$$\n",
        "\\left[I|B^{-1}\\right] = \\left[\n",
        "\\begin{array}{cc|cc}\n",
        " 1& 0  &\\frac{b_{22}}{b_{11}b_{22}-b_{21}b_{12}}&-\\frac{b_{12}}{b_{11}b_{22}-b_{21}b_{12}}   \\\\\n",
        "0 & 1&-\\frac{b_{21}}{b_{11} b_{22}-b_{21}b_{12}}&\\frac{b_{11}}{b_{11} b_{22}-b_{21}b_{12}} \\\\\n",
        "\\end{array}\n",
        "\\right].\n",
        "$$\n",
        "\n",
        "Definindo assim,\n",
        "$$\n",
        "B^{-1} = \\frac{1}{b_{11} b_{22}-b_{21}b_{12}}\\left[\n",
        "\\begin{array}{cc}\n",
        "b_{22} & -b_{12}  \\\\\n",
        "-b_{21} & b_{11} \\\\\n",
        "\\end{array}\n",
        "\\right],\n",
        "$$\n",
        "sendo determinante $|B|=b_{11}b_{22}-b_{21}b_{12}$, reescrevemos a matriz inversa\n",
        "$$\n",
        "B^{-1} = \\frac{1}{|B|}\\left[\n",
        "\\begin{array}{cc}\n",
        "b_{22} & -b_{12}  \\\\\n",
        "-b_{21} & b_{11} \\\\\n",
        "\\end{array}\n",
        "\\right].\n",
        "$$"
      ]
    },
    {
      "cell_type": "markdown",
      "metadata": {
        "id": "lEZg00Q0MGMl"
      },
      "source": [
        "No método VAR a matriz B é definida como:\n",
        "$$\n",
        "B = \\left[\n",
        "\\begin{array}{cc}\n",
        "1 & b_{12}  \\\\\n",
        "b_{21} & 1 \\\\\n",
        "\\end{array}\n",
        "\\right],\n",
        "$$\n",
        "assim, sua inversa \n",
        "$$\n",
        "B^{-1} = \\frac{1}{|B|}\\left[\n",
        "\\begin{array}{cc}\n",
        "1 & -b_{12}  \\\\\n",
        "-b_{21} & 1 \\\\\n",
        "\\end{array}\n",
        "\\right].\n",
        "$$ \n",
        "sendo determinante $|B|=1-b_{21}b_{12}$, reescrevemos a matriz inversa, e \n",
        "$$\n",
        "D =\\left[\n",
        "\\begin{array}{cc}\n",
        "\\sigma_y & 0  \\\\\n",
        "0 & \\sigma_z \\\\\n",
        "\\end{array}\n",
        "\\right].\n",
        "$$\n"
      ]
    },
    {
      "cell_type": "markdown",
      "metadata": {
        "id": "J39USiG0UUAr"
      },
      "source": [
        "\n",
        "O vetor erro,\n",
        "$$e_t=B^{-1}D\\varepsilon_t$$\n",
        "$$\n",
        "e_t =\\frac{1}{|B|}\\left[\n",
        "\\begin{array}{cc}\n",
        "1 & -b_{12}  \\\\\n",
        "-b_{21} & 1 \\\\\n",
        "\\end{array}\n",
        "\\right]\\left[\n",
        "\\begin{array}{cc}\n",
        "\\sigma_y & 0  \\\\\n",
        "0 & \\sigma_z \\\\\n",
        "\\end{array}\n",
        "\\right]\n",
        "\\left[\n",
        "  \\begin{array}{c}\n",
        "\\varepsilon_{yt}  \\\\\n",
        "\\varepsilon_{zt} \\\\\n",
        "\\end{array}\n",
        "\\right]\n",
        "$$"
      ]
    },
    {
      "cell_type": "markdown",
      "metadata": {
        "id": "Z_NTd-BWUnTb"
      },
      "source": [
        "$$\n",
        "e_t =\\frac{1}{1-b_{21}b_{12}}\n",
        "\\left[\n",
        "  \\begin{array}{c}\n",
        "\\sigma_y\\varepsilon_{yt} -b_{12} \\sigma_z\\varepsilon_{zt}   \\\\\n",
        "\\sigma_z\\varepsilon_{zt} -b_{21}\\sigma_z\\varepsilon_{yt} \\\\\n",
        "\\end{array}\n",
        "\\right].\n",
        "$$\n",
        "\n",
        "Sabemos o erro é definido com as seguintes propriedades:\n",
        "- $\\varepsilon_{yt}\\sim N(0, 1)$ e $\\varepsilon_{yt}\\sim N(0, 1)$,\n",
        "- Cov($\\varepsilon_{yt}$, $\\varepsilon_{xt}$)=0.\n",
        "\n",
        "Usando essa propriedade podemos definir a matriz\n",
        " \n",
        "$$\n",
        "\\Sigma =\\frac{1}{(1-b_{21}b_{12})^2}\\left[\n",
        "\\begin{array}{cc}\n",
        "\\sigma_y^2+b_{12}^2\\sigma_z^2 & -(b_{21}\\sigma_y^2+b_{12}\\sigma_z^2)  \\\\\n",
        "-(b_{21}\\sigma_y^2+b_{12}\\sigma_z^2) &\\sigma_z^2+b_{21}^2\\sigma_y^2 \\\\\n",
        "\\end{array}\n",
        "\\right].\n",
        "$$\n"
      ]
    },
    {
      "cell_type": "markdown",
      "metadata": {
        "id": "wC7ygYCOgnwI"
      },
      "source": [
        "$$\n",
        "\\Sigma =\\left[\n",
        "\\begin{array}{cc}\n",
        "var(e_{yt}) & cov(e_{yt},e_{zt})  \\\\\n",
        "cov(e_{zt},e_{yt}) &var(e_{zt}) \\\\\n",
        "\\end{array}\n",
        "\\right]=\\left[\n",
        "\\begin{array}{cc}\n",
        "\\sigma^2_y  & \\sigma_{yz}  \\\\\n",
        "\\sigma_{yz} & \\sigma^2_{z} \\\\\n",
        "\\end{array}\n",
        "\\right].\n",
        "$$"
      ]
    },
    {
      "cell_type": "markdown",
      "metadata": {
        "id": "oMd_bMMliQ_J"
      },
      "source": [
        "## Estabilidade e estacionaridade\n",
        "O sistema var de um nível de defasagem,\n",
        "\\begin{equation}\n",
        "\\begin{aligned}\n",
        "x_t=A_0+A_1x_{t-1}+e_t,\n",
        "\\end{aligned}\\tag{VAR- sistema padrão}\n",
        "\\end{equation}\n",
        "pode ser representado pelo processo indutivo seguinte , seja\n",
        "\\begin{equation}\n",
        "\\begin{aligned}\n",
        "x_{t-1}=A_0+ A_1x_{t-2}+e_{t-1},\n",
        "\\end{aligned}\\tag{VAR- sistema padrão}\n",
        "\\end{equation}\n",
        "e substituindo no sistema VAR padrão, para $n=1$\n",
        "\\begin{equation}\n",
        "\\begin{aligned}\n",
        "x_t=A_0+ A_1\\left(A_0+A_1x_{t-2}+e_{t-1}\\right)+e_t,\\\\\n",
        "x_t=A_0+ A_1A_0+A^2_1x_{t-2}+A_1e_{t-1}+e_t,\n",
        "\\end{aligned}\n",
        "\\end{equation}\n"
      ]
    },
    {
      "cell_type": "markdown",
      "metadata": {
        "id": "4TDS4SvwiabN"
      },
      "source": [
        "E assim sucessivamente,\n",
        "\n",
        "para $n=2$,\n",
        "\\begin{equation}\n",
        "\\begin{aligned}\n",
        "x_t=A_0+ A_1A_0+A^2_1\\left(A_0+A_1x_{t-3}+e_{t-2}\\right)+A_1e_{t-1}+e_t,\\\\\n",
        "x_t=A_0+ A_1A_0+A^2_1 A_0+A^3_1x_{t-3}+A^2_1e_{t-2}+A_1e_{t-1}+e_t,\n",
        "\\end{aligned}\n",
        "\\end{equation}\n",
        "para $n=3$,\n",
        "\\begin{equation}\n",
        "\\begin{aligned}\n",
        "x_t=A_0+ A_1A_0+A^2_1 A_0+A^3_1\\left(A_0+A_1x_{t-4}+e_{t-3}\\right)+A^2_1e_{t-2}+A_1e_{t-1}+e_t,\\\\\n",
        "x_t=A_0+ A_1A_0+A^2_1 A_0+A^3_1A_0+A^4_1x_{t-4}+A^3_1e_{t-3}+A^2_1e_{t-2}+A_1e_{t-1}+e_t,\n",
        "\\end{aligned}\n",
        "\\end{equation}"
      ]
    },
    {
      "cell_type": "markdown",
      "metadata": {
        "id": "iZEr9KeJimIT"
      },
      "source": [
        "para $n$ arbitrário,\n",
        "\\begin{equation}\n",
        "\\begin{aligned}\n",
        "x_t=(I+ A_1+A^2_1+A^3_1+\\dots+A^n_1)A_0+A^n_1e_{t-n}+\\dots+A^3_1e_{t-3}+A^2_1e_{t-2}+A_1e_{t-1}+e_t+A^{n+1}_1x_{t-n-1},\n",
        "\\end{aligned}\n",
        "\\end{equation}\n",
        "com a notação de somatório\n",
        "\\begin{equation}\n",
        "\\begin{aligned}\n",
        "x_t=A_0\\sum_{k=0}^{n}A^k_1+\\sum_{k=0}^{n}A^k_1 e_{t-k}+A^{n+1}_1x_{t-n-1},\n",
        "\\end{aligned}\\tag{1}\n",
        "\\end{equation}\n",
        "\n",
        "Nesse ponto a análise matricial fornece dois teorema que vamos usar,\n",
        "\n",
        "Teorema 1:\n",
        "\\begin{equation}\n",
        "\\begin{aligned}\n",
        "\\sum_{k=0}^{\\infty}A^k=(I-A)^{-1}\\text{, se e somente se, } |\\lambda|< 1 \\text{ sempre que} \\lambda\\in \\sigma(A),\n",
        "\\end{aligned}\n",
        "\\end{equation}\n",
        "onde $\\sigma(A)$ é o espectro da matriz $A$. \n",
        "\n",
        "Teorema 2:\n",
        "\n",
        "\\begin{equation}\n",
        "\\begin{aligned}\n",
        "\\lim_{k \\rightarrow \\infty}A^k=0\\text{, se e somente se, } |\\lambda|< 1 \\text{ sempre que} \\lambda\\in \\sigma(A).\n",
        "\\end{aligned}\n",
        "\\end{equation}\n"
      ]
    },
    {
      "cell_type": "markdown",
      "metadata": {
        "id": "wr_0fi9jixgr"
      },
      "source": [
        "Portanto, se $|\\lambda|<1$ quando $\\lambda\\in\\sigma(A)$, a equação (1) torna-se:\n",
        "\\begin{equation}\n",
        "\\begin{aligned}\n",
        "x_t=(I-A_1)^{-1}A_0+\\sum_{k=0}^{n}A^k_1 e_{t-k},\n",
        "\\end{aligned}\n",
        "\\end{equation}\n",
        "\n",
        "Sendo \n",
        "$$\n",
        "(I-A_1)^{-1}A_0 =\\frac{1}{(1-a_{11})(1-a_{22})-a_{12}a_{21}}\\left[\n",
        "\\begin{array}{cc}\n",
        "1-a_{22} & -a_{12}  \\\\\n",
        "-a_{21} & 1-a_{11} \\\\\n",
        "\\end{array}\n",
        "\\right]\\left[\n",
        "  \\begin{array}{c}\n",
        "a_{10}  \\\\\n",
        "a_{20} \\\\\n",
        "\\end{array}\n",
        "\\right],\n",
        "$$\n"
      ]
    },
    {
      "cell_type": "markdown",
      "metadata": {
        "id": "PjacyQJai5jP"
      },
      "source": [
        "desta forma, definimos o vetor $\\mu$ vetor média,\n",
        "$$\n",
        "\\mu=\\left[\n",
        "\\begin{array}{c}\\bar{x} \\\\\n",
        "\\bar{y}\n",
        "\\end{array}\\right]=\n",
        "\\frac{1}{(1-a_{11})(1-a_{22})-a_{12}a_{21}}\\left[\n",
        "\\begin{array}{c}\n",
        "(1-a_{22})a_{10} - a_{12}a_{20}  \\\\\n",
        "(1-a_{11})a_{20} - a_{21}a_{10}\\\\\n",
        "\\end{array}\n",
        "\\right]\n",
        "$$"
      ]
    },
    {
      "cell_type": "markdown",
      "metadata": {
        "id": "mx7tt9n5jBaI"
      },
      "source": [
        "\\begin{equation}\n",
        "\\begin{aligned}\n",
        "x_t=\\mu+\\sum_{k=0}^{n}A^k_1 e_{t-k}\\\\\n",
        "x_t-\\mu=\\sum_{k=0}^{n}A^k_1 e_{t-k}\\\\\n",
        "\\end{aligned}\\tag{equação para o erro médio}\n",
        "\\end{equation}\n",
        "podemos indentificar $x_t-\\mu$ com o erro, calculanto a matriz de covariancia\n",
        "\\begin{equation}\n",
        "\\begin{aligned}\n",
        "E[x_t-\\mu]^2=E\\left[\\sum_{k=0}^{n}A^k_1 e_{t-k}\\right]^2\\\\\n",
        "\\end{aligned}\n",
        "\\end{equation}\n",
        "usando a matriz $\\Sigma$\n",
        "\\begin{equation}\n",
        "\\begin{aligned}\n",
        "E[e_t]^2=\\left[\n",
        "\\begin{array}{c}\n",
        "e_{yt}  \\\\\n",
        "e_{zt} \\\\\n",
        "\\end{array}\n",
        "\\right]\n",
        "\\left[\n",
        "\\begin{array}{cc}\n",
        "e_{yt}  & e_{zt} \\\\\n",
        "\\end{array}\n",
        "\\right]=\\Sigma\\\\\n",
        "\\end{aligned}\n",
        "\\end{equation}"
      ]
    },
    {
      "cell_type": "markdown",
      "metadata": {
        "id": "hQbNNJOExwk8"
      },
      "source": [
        "## Função resposta ao impulso\n",
        "Lembrando o vetor erro, com $\\sigma_y=1$ e $\\sigma_z=1$\n",
        "$$\n",
        "e_t =\\frac{1}{|B|}\\left[\n",
        "\\begin{array}{cc}\n",
        "1 & -b_{12}  \\\\\n",
        "-b_{21} & 1 \\\\\n",
        "\\end{array}\n",
        "\\right]\n",
        "\\left[\n",
        "  \\begin{array}{c}\n",
        "\\varepsilon_{yt}  \\\\\n",
        "\\varepsilon_{zt} \\\\\n",
        "\\end{array}\n",
        "\\right]\n",
        "$$\n",
        "e equação para o erro médio\n",
        "\\begin{equation}\n",
        "\\begin{aligned}\n",
        "x_t=\\mu+\\sum_{k=0}^{n}A^k_1 e_{t-k}\\\\\n",
        "\\end{aligned}\\tag{equação para o erro médio}\n",
        "\\end{equation}\n"
      ]
    },
    {
      "cell_type": "markdown",
      "metadata": {
        "id": "Ex5Jg4hYzE5D"
      },
      "source": [
        "podemos escrever,\n",
        "\\begin{equation}\n",
        "x_t =\\mu +\\sum_{k=0}^{n}\\left[\n",
        "\\begin{array}{cc}\n",
        "a_{11} & a_{12}  \\\\\n",
        "a_{21} & a_{22} \\\\\n",
        "\\end{array}\n",
        "\\right]^k\n",
        "\\left[\n",
        "  \\begin{array}{c}\n",
        "e_{yt}  \\\\\n",
        "e_{zt} \\\\\n",
        "\\end{array}\n",
        "\\right]\n",
        "\\end{equation}\n",
        "usando a equação para o erro médio\n",
        "\\begin{equation}\n",
        "x_t =\\mu +\\frac{1}{|B|}\\sum_{k=0}^{n}\\left[\n",
        "\\begin{array}{cc}\n",
        "a_{11} & a_{12}  \\\\\n",
        "a_{21} & a_{22} \\\\\n",
        "\\end{array}\n",
        "\\right]^k\n",
        "\\left[\n",
        "\\begin{array}{cc}\n",
        "1 & -b_{12}  \\\\\n",
        "-b_{21} & 1 \\\\\n",
        "\\end{array}\n",
        "\\right]\n",
        "\\left[\n",
        "  \\begin{array}{c}\n",
        "\\varepsilon_{yt}  \\\\\n",
        "\\varepsilon_{zt} \\\\\n",
        "\\end{array}\n",
        "\\right]\n",
        "\\end{equation}"
      ]
    },
    {
      "cell_type": "markdown",
      "metadata": {
        "id": "NwJfPyTv03yw"
      },
      "source": [
        "Definindo\n",
        "\\begin{equation}\n",
        "\\phi_k=\n",
        "\\left[\n",
        "\\begin{array}{cc}\n",
        "a_{11} & a_{12}  \\\\\n",
        "a_{21} & a_{22} \\\\\n",
        "\\end{array}\n",
        "\\right]^k\n",
        "\\left[\n",
        "\\begin{array}{cc}\n",
        "1 & -b_{12}  \\\\\n",
        "-b_{21} & 1 \\\\\n",
        "\\end{array}\n",
        "\\right]=\n",
        "\\left[\n",
        "\\begin{array}{cc}\n",
        "\\phi_{11} & \\phi_{12}  \\\\\n",
        "\\phi_{21} & \\phi_{22} \\\\\n",
        "\\end{array}\n",
        "\\right]\n",
        "\\end{equation}\n",
        "teremos\n",
        "\\begin{equation}\n",
        "x_t =\\mu +\\frac{1}{|B|}\\sum_{k=0}^{n}\n",
        "\\left[\n",
        "\\begin{array}{cc}\n",
        "\\phi_{11} & \\phi_{12}  \\\\\n",
        "\\phi_{21} & \\phi_{22} \\\\\n",
        "\\end{array}\n",
        "\\right]\n",
        "\\left[\n",
        "  \\begin{array}{c}\n",
        "\\varepsilon_{yt}  \\\\\n",
        "\\varepsilon_{zt} \\\\\n",
        "\\end{array}\n",
        "\\right]\n",
        "\\end{equation}\n",
        "ou de forma mais compacta,\n",
        "\\begin{equation}\n",
        "x_t =\\mu +\\frac{1}{|B|}\\sum_{k=0}^{n}\n",
        "\\phi_k\\varepsilon_{t-k}\n",
        "\\end{equation}"
      ]
    },
    {
      "cell_type": "markdown",
      "metadata": {
        "id": "4S3uyzsMX7-w"
      },
      "source": [
        "## Exemplos numéricos\n",
        "$$\n",
        "A_1 =\\left[\n",
        "\\begin{array}{cc}\n",
        " 0.7& 0.2  \\\\\n",
        " 0.2 & 0.7 \\\\\n",
        "\\end{array}\n",
        "\\right]\n",
        "$$ e \n",
        "$$\n",
        "A_0 =\\left[\n",
        "\\begin{array}{c}\n",
        " 0.0  \\\\\n",
        " 0.0  \\\\\n",
        "\\end{array}\n",
        "\\right]\n",
        "$$"
      ]
    },
    {
      "cell_type": "code",
      "metadata": {
        "id": "97gCMFqyLW87",
        "outputId": "729a4d27-ff56-4e23-ced6-b42cbe07afaf",
        "colab": {
          "base_uri": "https://localhost:8080/",
          "height": 350
        }
      },
      "source": [
        "import numpy as np\n",
        "import matplotlib.pyplot as plt  \n",
        "n  = 100\n",
        "t  = np.linspace(0, 0, n + 1)\n",
        "y  = np.linspace(0, 0, n + 1)\n",
        "z  = np.linspace(0, 0, n + 1)\n",
        "a10= 0\n",
        "a20= 0\n",
        "# Matriz\n",
        "a11 = 0.7\n",
        "a22 = 0.7\n",
        "a12 = 0.2\n",
        "a21 = 0.2\n",
        "for i in range(1, n + 1):\n",
        "  t[i] = i\n",
        "  e = np.random.normal(0, 1, size=2) \n",
        "  y[i] = a10 + a11 * y[i - 1] + a12 * z[i - 1] + e[0]\n",
        "  z[i] = a20 + a21 * y[i - 1] + a22 * z[i - 1] + e[1] \t\n",
        "plt.figure(figsize=(5,5))\n",
        "plt.plot(t, y)\n",
        "plt.plot(t, z)\n",
        "plt.title('VAR')\n",
        "plt.ylabel('y(t) e z(t)')\n",
        "plt.xlabel('t')\n",
        "plt.legend(['y(t)', 'z(t)'])\n",
        "plt.show()  "
      ],
      "execution_count": null,
      "outputs": [
        {
          "output_type": "display_data",
          "data": {
            "image/png": "[encoded data removed]",
            "text/plain": [
              "<Figure size 360x360 with 1 Axes>"
            ]
          },
          "metadata": {
            "tags": [],
            "needs_background": "light"
          }
        }
      ]
    },
    {
      "cell_type": "markdown",
      "metadata": {
        "id": "1kSa4PWqYxoG"
      },
      "source": [
        "## Exemplo\n",
        "$$\n",
        "A_1 =\\left[\n",
        "\\begin{array}{cc}\n",
        " 0.5& -0.2  \\\\\n",
        " -0.2 & 0.5 \\\\\n",
        "\\end{array}\n",
        "\\right]\n",
        "$$ e \n",
        "$$\n",
        "A_0 =\\left[\n",
        "\\begin{array}{c}\n",
        " 0.0  \\\\\n",
        " 0.0  \\\\\n",
        "\\end{array}\n",
        "\\right]\n",
        "$$"
      ]
    },
    {
      "cell_type": "code",
      "metadata": {
        "id": "ozsSU2ZjT-PV",
        "outputId": "5dd49171-6a8f-452a-98b3-0240a0e5c00c",
        "colab": {
          "base_uri": "https://localhost:8080/",
          "height": 350
        }
      },
      "source": [
        "import numpy as np\n",
        "import matplotlib.pyplot as plt  \n",
        "n  = 100\n",
        "t  = np.linspace(0, 0, n + 1)\n",
        "y  = np.linspace(0, 0, n + 1)\n",
        "z  = np.linspace(0, 0, n + 1)\n",
        "a10= 0\n",
        "a20= 0\n",
        "# Matriz\n",
        "a11 = 0.5\n",
        "a22 = 0.5\n",
        "a12 = -0.2\n",
        "a21 = -0.2\n",
        "for i in range(1, n + 1):\n",
        "  t[i] = i\n",
        "  e = np.random.normal(0, 1, size=2)\n",
        "  y[i] = a10 + a11 * y[i - 1] + a12 * z[i - 1] + e[0]\n",
        "  z[i] = a20 + a21 * y[i - 1] + a22 * z[i - 1] + e[1] \n",
        "plt.figure(figsize=(5,5))\n",
        "plt.plot(t, y)\n",
        "plt.plot(t, z)\n",
        "plt.title('VAR')\n",
        "plt.ylabel('y(t) e z(t)')\n",
        "plt.xlabel('t')\n",
        "plt.legend(['y(t)', 'z(t)'])\n",
        "plt.show()  "
      ],
      "execution_count": null,
      "outputs": [
        {
          "output_type": "display_data",
          "data": {
            "image/png": "[encoded data removed]",
            "text/plain": [
              "<Figure size 360x360 with 1 Axes>"
            ]
          },
          "metadata": {
            "tags": [],
            "needs_background": "light"
          }
        }
      ]
    },
    {
      "cell_type": "markdown",
      "metadata": {
        "id": "lMyqTG_YVcTP"
      },
      "source": [
        "## Inserção de valor no vetor independente $A_0$ \n",
        "$$\n",
        "A_1 =\\left[\n",
        "\\begin{array}{cc}\n",
        " 0.7 & 0.2  \\\\\n",
        " 0.2 & 0.7 \\\\\n",
        "\\end{array}\n",
        "\\right]\n",
        "$$ e \n",
        "$$\n",
        "A_0 =\\left[\n",
        "\\begin{array}{c}\n",
        " 5.0  \\\\\n",
        " 0.0  \\\\\n",
        "\\end{array}\n",
        "\\right]\n",
        "$$"
      ]
    },
    {
      "cell_type": "code",
      "metadata": {
        "id": "HQXKp26ZVv1K",
        "outputId": "810a146a-d2c3-449d-c375-84c13dd0a732",
        "colab": {
          "base_uri": "https://localhost:8080/",
          "height": 350
        }
      },
      "source": [
        "import numpy as np\n",
        "import matplotlib.pyplot as plt  \n",
        "n  = 100\n",
        "t  = np.linspace(0, 0, n + 1)\n",
        "y  = np.linspace(0, 0, n + 1)\n",
        "z  = np.linspace(0, 0, n + 1)\n",
        "a10= 5\n",
        "a20= 0\n",
        "# Matriz\n",
        "a11 = 0.7\n",
        "a22 = 0.7\n",
        "a12 = 0.2\n",
        "a21 = 0.2\n",
        "for i in range(1, n + 1):\n",
        "  t[i] = i\n",
        "  e = np.random.normal(0, 1, size=2)\n",
        "  y[i] = a10 + a11 * y[i - 1] + a12 * z[i - 1] + e[0]\n",
        "  z[i] = a20 + a21 * y[i - 1] + a22 * z[i - 1] + e[1] \n",
        "plt.figure(figsize=(5,5))\n",
        "plt.plot(t, y)\n",
        "plt.plot(t, z)\n",
        "plt.title('VAR')\n",
        "plt.ylabel('y(t) e z(t)')\n",
        "plt.xlabel('t')\n",
        "plt.legend(['y(t)', 'z(t)'])\n",
        "plt.show()  "
      ],
      "execution_count": null,
      "outputs": [
        {
          "output_type": "display_data",
          "data": {
            "image/png": "[encoded data removed]",
            "text/plain": [
              "<Figure size 360x360 with 1 Axes>"
            ]
          },
          "metadata": {
            "tags": [],
            "needs_background": "light"
          }
        }
      ]
    },
    {
      "cell_type": "markdown",
      "metadata": {
        "id": "SEJjos4NZQfC"
      },
      "source": [
        "## Exemplo\n",
        "$$\n",
        "A_1 =\\left[\n",
        "\\begin{array}{cc}\n",
        " 0.5 & -0.2  \\\\\n",
        " -0.2 & 0.5 \\\\\n",
        "\\end{array}\n",
        "\\right]\n",
        "$$ e \n",
        "$$\n",
        "A_0 =\\left[\n",
        "\\begin{array}{c}\n",
        " 5.0  \\\\\n",
        " 0.0  \\\\\n",
        "\\end{array}\n",
        "\\right]\n",
        "$$"
      ]
    },
    {
      "cell_type": "code",
      "metadata": {
        "id": "Cfw65zjfWCzc",
        "outputId": "2e40d2a5-def2-4294-b12d-cd7a297586b6",
        "colab": {
          "base_uri": "https://localhost:8080/",
          "height": 350
        }
      },
      "source": [
        "import numpy as np\n",
        "import matplotlib.pyplot as plt  \n",
        "n  = 100\n",
        "t  = np.linspace(0, 0, n + 1)\n",
        "y  = np.linspace(0, 0, n + 1)\n",
        "z  = np.linspace(0, 0, n + 1)\n",
        "a10= 5\n",
        "a20= 0\n",
        "# Matriz\n",
        "a11 = 0.5\n",
        "a22 = 0.5\n",
        "a12 = -0.2\n",
        "a21 = -0.2\n",
        "for i in range(1, n + 1):\n",
        "  t[i] = i\n",
        "  e = np.random.normal(0, 1, size=2)\n",
        "  y[i] = a10 + a11 * y[i - 1] + a12 * z[i - 1] + e[0]\n",
        "  z[i] = a20 + a21 * y[i - 1] + a22 * z[i - 1] + e[1] \n",
        "plt.figure(figsize=(5,5))\n",
        "plt.plot(t, y)\n",
        "plt.plot(t, z)\n",
        "plt.title('VAR')\n",
        "plt.ylabel('y(t) e z(t)')\n",
        "plt.xlabel('t')\n",
        "plt.legend(['y(t)', 'z(t)'])\n",
        "plt.show()  "
      ],
      "execution_count": null,
      "outputs": [
        {
          "output_type": "display_data",
          "data": {
            "image/png": "[encoded data removed]",
            "text/plain": [
              "<Figure size 360x360 with 1 Axes>"
            ]
          },
          "metadata": {
            "tags": [],
            "needs_background": "light"
          }
        }
      ]
    },
    {
      "cell_type": "markdown",
      "metadata": {
        "id": "_x3DTRUTYfoA"
      },
      "source": [
        "## Função resposta ao impulso\n",
        "\\begin{equation}\n",
        "\\phi_k=\n",
        "\\left[\n",
        "\\begin{array}{cc}\n",
        "a_{11} & a_{12}  \\\\\n",
        "a_{21} & a_{22} \\\\\n",
        "\\end{array}\n",
        "\\right]^k\n",
        "\\left[\n",
        "\\begin{array}{cc}\n",
        "1 & -b_{12}  \\\\\n",
        "-b_{21} & 1 \\\\\n",
        "\\end{array}\n",
        "\\right]=\n",
        "\\left[\n",
        "\\begin{array}{cc}\n",
        "\\phi_{11} & \\phi_{12}  \\\\\n",
        "\\phi_{21} & \\phi_{22} \\\\\n",
        "\\end{array}\n",
        "\\right]\n",
        "\\end{equation}\n",
        "teremos\n",
        "\\begin{equation}\n",
        "x_t =\\mu +\\frac{1}{|B|}\\sum_{k=0}^{n}\n",
        "\\left[\n",
        "\\begin{array}{cc}\n",
        "\\phi_{11} & \\phi_{12}  \\\\\n",
        "\\phi_{21} & \\phi_{22} \\\\\n",
        "\\end{array}\n",
        "\\right]\n",
        "\\left[\n",
        "  \\begin{array}{c}\n",
        "\\varepsilon_{yt}  \\\\\n",
        "\\varepsilon_{zt} \\\\\n",
        "\\end{array}\n",
        "\\right]\n",
        "\\end{equation}\n",
        "Sendo as seguintes matrizes\n",
        "$$\n",
        "A =\\left[\n",
        "\\begin{array}{cc}\n",
        " 0.7& 0.2  \\\\\n",
        " 0.2 & 0.7 \\\\\n",
        "\\end{array}\n",
        "\\right]\n",
        "$$\n",
        "e\n",
        "$$\n",
        "B =\\left[\n",
        "\\begin{array}{cc}\n",
        " 1& -0.8  \\\\\n",
        " -0.8 & 1 \\\\\n",
        "\\end{array}\n",
        "\\right]\n",
        "$$"
      ]
    },
    {
      "cell_type": "markdown",
      "metadata": {
        "id": "kEw5MbioWJIp"
      },
      "source": [
        "\\begin{equation}\n",
        "\\phi_k=\n",
        "\\left[\n",
        "\\begin{array}{cc}\n",
        "0.7 & 0.2  \\\\\n",
        "0.2 & 0.7 \\\\\n",
        "\\end{array}\n",
        "\\right]^k\n",
        "\\left[\n",
        "\\begin{array}{cc}\n",
        "1 & -0.8  \\\\\n",
        "-0.8 & 1 \\\\\n",
        "\\end{array}\n",
        "\\right]=\n",
        "\\left[\n",
        "\\begin{array}{cc}\n",
        "\\phi_{11} & \\phi_{12}  \\\\\n",
        "\\phi_{21} & \\phi_{22} \\\\\n",
        "\\end{array}\n",
        "\\right]\n",
        "\\end{equation}"
      ]
    },
    {
      "cell_type": "code",
      "metadata": {
        "id": "iMHUBNtPsSVh",
        "outputId": "65818429-66b9-4358-cfe8-c65e779adda9",
        "colab": {
          "base_uri": "https://localhost:8080/",
          "height": 352
        }
      },
      "source": [
        "A = np.array([[0.7, 0.2],\n",
        "              [0.2, 0.7]])\n",
        "B = np.array([[1, -0.8],\n",
        "              [-0.8, 1]])\n",
        "BI = np.linalg.inv(B)\n",
        "n  = 10\n",
        "t   = np.linspace(0, 0, n + 1)\n",
        "iyy = np.linspace(0, 0, n + 1)\n",
        "iyz = np.linspace(0, 0, n + 1)\n",
        "for i in range(1, n + 1):\n",
        "  t[i] = i\n",
        "  A = np.linalg.matrix_power(A, i)\n",
        "  AUX = np.matmul(A, BI)\n",
        "  iyy[i] = AUX[0,0]\n",
        "  iyz[i] = AUX[1,0]\n",
        "plt.figure(figsize=(5,5))\n",
        "plt.plot(t[1:n], iyy[1:n])\n",
        "plt.plot(t[1:n], iyz[1:n])\n",
        "plt.title('Resposta do impulso y ao choque $\\\\varepsilon_{yt}$')\n",
        "plt.ylabel('impulso y(t) e z(t)')\n",
        "plt.xlabel('t')\n",
        "plt.legend(['iy(t)', 'iz(t)'])\n",
        "plt.show()"
      ],
      "execution_count": null,
      "outputs": [
        {
          "output_type": "display_data",
          "data": {
            "image/png": "[encoded data removed]",
            "text/plain": [
              "<Figure size 360x360 with 1 Axes>"
            ]
          },
          "metadata": {
            "tags": [],
            "needs_background": "light"
          }
        }
      ]
    },
    {
      "cell_type": "code",
      "metadata": {
        "id": "FSCYKK9_1Ijy",
        "outputId": "21449ced-0700-4c65-88d7-384e32f29eae",
        "colab": {
          "base_uri": "https://localhost:8080/",
          "height": 352
        }
      },
      "source": [
        "A = np.array([[0.7, 0.2],\n",
        "              [0.2, 0.7]])\n",
        "B = np.array([[1, -0.8],\n",
        "              [-0.8, 1]])\n",
        "BI = np.linalg.inv(B)\n",
        "n  = 20\n",
        "t   = np.linspace(0, 0, n + 1)\n",
        "iyy = np.linspace(0, 0, n + 1)\n",
        "iyz = np.linspace(0, 0, n + 1)\n",
        "for i in range(1, n + 1):\n",
        "  t[i] = i\n",
        "  A = np.linalg.matrix_power(A, i)\n",
        "  AUX = np.matmul(A, BI)\n",
        "  iyy[i] = AUX[0,1]\n",
        "  iyz[i] = AUX[1,1]\n",
        "plt.figure(figsize=(5,5))\n",
        "plt.plot(t[1:n], iyy[1:n])\n",
        "plt.plot(t[1:n], iyz[1:n])\n",
        "plt.title('Resposta do impulso  ao choque $\\\\varepsilon_{zt}$')\n",
        "plt.ylabel('impulso y(t) e z(t)')\n",
        "plt.xlabel('t')\n",
        "plt.legend(['iy(t)', 'iz(t)'])\n",
        "plt.show()"
      ],
      "execution_count": null,
      "outputs": [
        {
          "output_type": "display_data",
          "data": {
            "image/png": "[encoded data removed]",
            "text/plain": [
              "<Figure size 360x360 with 1 Axes>"
            ]
          },
          "metadata": {
            "tags": [],
            "needs_background": "light"
          }
        }
      ]
    },
    {
      "cell_type": "markdown",
      "metadata": {
        "id": "BMuZ4h750KpV"
      },
      "source": [
        "\n",
        "\n",
        "```\n",
        "  Summary of Regression Results   \n",
        "==================================\n",
        "Model:                         VAR\n",
        "Method:                        OLS\n",
        "Date:           Mon, 28, Sep, 2020\n",
        "Time:                     22:32:52\n",
        "--------------------------------------------------------------------\n",
        "No. of Equations:         2.00000    BIC:                   -12.5879\n",
        "Nobs:                     100.000    HQIC:                  -12.6810\n",
        "Log likelihood:           359.423    FPE:                2.91927e-06\n",
        "AIC:                     -12.7442    Det(Omega_mle):     2.75169e-06\n",
        "--------------------------------------------------------------------\n",
        "Results for equation inf\n",
        "=========================================================================\n",
        "            coefficient       std. error           t-stat            prob\n",
        "-------------------------------------------------------------------------\n",
        "const          0.012607         0.002676            4.711           0.000\n",
        "L1.inf         0.386653         0.093196            4.149           0.000\n",
        "L1.int         0.000465         0.000878            0.529           0.597\n",
        "=========================================================================\n",
        "\n",
        "Results for equation int\n",
        "=========================================================================\n",
        "            coefficient       std. error           t-stat            prob\n",
        "-------------------------------------------------------------------------\n",
        "const          0.134771         0.013263           10.162           0.000\n",
        "L1.inf         1.332716         0.461882            2.885           0.004\n",
        "L1.int         0.017518         0.004352            4.025           0.000\n",
        "=========================================================================\n",
        "\n",
        "Correlation matrix of residuals\n",
        "            inf       int\n",
        "inf    1.000000  0.133783\n",
        "int    0.133783  1.000000```\n",
        "\n"
      ]
    },
    {
      "cell_type": "code",
      "metadata": {
        "id": "y7dcgZyQ07k7",
        "outputId": "cb8f8977-2720-4aa0-850c-6b6007192f34",
        "colab": {
          "base_uri": "https://localhost:8080/",
          "height": 662
        }
      },
      "source": [
        "import pandas as pd\n",
        "dados = pd.read_csv('https://raw.githubusercontent.com/Grupo-de-Pesquisa-em-Macro-Aplicada/Ibmec-Pesquisa-Macro-Aplicada/master/1994-2019.csv')\n",
        "dados.tail(20)"
      ],
      "execution_count": null,
      "outputs": [
        {
          "output_type": "execute_result",
          "data": {
            "text/html": [
              "<div>\n",
              "<style scoped>\n",
              "    .dataframe tbody tr th:only-of-type {\n",
              "        vertical-align: middle;\n",
              "    }\n",
              "\n",
              "    .dataframe tbody tr th {\n",
              "        vertical-align: top;\n",
              "    }\n",
              "\n",
              "    .dataframe thead th {\n",
              "        text-align: right;\n",
              "    }\n",
              "</style>\n",
              "<table border=\"1\" class=\"dataframe\">\n",
              "  <thead>\n",
              "    <tr style=\"text-align: right;\">\n",
              "      <th></th>\n",
              "      <th>ano_tri</th>\n",
              "      <th>inf</th>\n",
              "      <th>int</th>\n",
              "    </tr>\n",
              "  </thead>\n",
              "  <tbody>\n",
              "    <tr>\n",
              "      <th>81</th>\n",
              "      <td>2015-1.0</td>\n",
              "      <td>0.024281</td>\n",
              "      <td>0.126754</td>\n",
              "    </tr>\n",
              "    <tr>\n",
              "      <th>82</th>\n",
              "      <td>2015-2.0</td>\n",
              "      <td>0.020127</td>\n",
              "      <td>0.131911</td>\n",
              "    </tr>\n",
              "    <tr>\n",
              "      <th>83</th>\n",
              "      <td>2015-3.0</td>\n",
              "      <td>0.024163</td>\n",
              "      <td>0.137485</td>\n",
              "    </tr>\n",
              "    <tr>\n",
              "      <th>84</th>\n",
              "      <td>2015-4.0</td>\n",
              "      <td>0.034240</td>\n",
              "      <td>0.138563</td>\n",
              "    </tr>\n",
              "    <tr>\n",
              "      <th>85</th>\n",
              "      <td>2016-1.0</td>\n",
              "      <td>0.027721</td>\n",
              "      <td>0.141250</td>\n",
              "    </tr>\n",
              "    <tr>\n",
              "      <th>86</th>\n",
              "      <td>2016-2.0</td>\n",
              "      <td>0.031484</td>\n",
              "      <td>0.141305</td>\n",
              "    </tr>\n",
              "    <tr>\n",
              "      <th>87</th>\n",
              "      <td>2016-3.0</td>\n",
              "      <td>0.000683</td>\n",
              "      <td>0.141148</td>\n",
              "    </tr>\n",
              "    <tr>\n",
              "      <th>88</th>\n",
              "      <td>2016-4.0</td>\n",
              "      <td>0.010116</td>\n",
              "      <td>0.139437</td>\n",
              "    </tr>\n",
              "    <tr>\n",
              "      <th>89</th>\n",
              "      <td>2017-1.0</td>\n",
              "      <td>0.004903</td>\n",
              "      <td>0.118016</td>\n",
              "    </tr>\n",
              "    <tr>\n",
              "      <th>90</th>\n",
              "      <td>2017-2.0</td>\n",
              "      <td>-0.012400</td>\n",
              "      <td>0.105573</td>\n",
              "    </tr>\n",
              "    <tr>\n",
              "      <th>91</th>\n",
              "      <td>2017-3.0</td>\n",
              "      <td>0.005589</td>\n",
              "      <td>0.094781</td>\n",
              "    </tr>\n",
              "    <tr>\n",
              "      <th>92</th>\n",
              "      <td>2017-4.0</td>\n",
              "      <td>0.016475</td>\n",
              "      <td>0.085452</td>\n",
              "    </tr>\n",
              "    <tr>\n",
              "      <th>93</th>\n",
              "      <td>2018-1.0</td>\n",
              "      <td>0.012950</td>\n",
              "      <td>0.066288</td>\n",
              "    </tr>\n",
              "    <tr>\n",
              "      <th>94</th>\n",
              "      <td>2018-2.0</td>\n",
              "      <td>0.041035</td>\n",
              "      <td>0.064385</td>\n",
              "    </tr>\n",
              "    <tr>\n",
              "      <th>95</th>\n",
              "      <td>2018-3.0</td>\n",
              "      <td>0.029331</td>\n",
              "      <td>0.064430</td>\n",
              "    </tr>\n",
              "    <tr>\n",
              "      <th>96</th>\n",
              "      <td>2018-4.0</td>\n",
              "      <td>0.002600</td>\n",
              "      <td>0.064282</td>\n",
              "    </tr>\n",
              "    <tr>\n",
              "      <th>97</th>\n",
              "      <td>2019-1.0</td>\n",
              "      <td>0.024050</td>\n",
              "      <td>0.062468</td>\n",
              "    </tr>\n",
              "    <tr>\n",
              "      <th>98</th>\n",
              "      <td>2019-2.0</td>\n",
              "      <td>0.019418</td>\n",
              "      <td>0.061984</td>\n",
              "    </tr>\n",
              "    <tr>\n",
              "      <th>99</th>\n",
              "      <td>2019-3.0</td>\n",
              "      <td>-0.000100</td>\n",
              "      <td>0.059859</td>\n",
              "    </tr>\n",
              "    <tr>\n",
              "      <th>100</th>\n",
              "      <td>2019-4.0</td>\n",
              "      <td>0.031691</td>\n",
              "      <td>0.053462</td>\n",
              "    </tr>\n",
              "  </tbody>\n",
              "</table>\n",
              "</div>"
            ],
            "text/plain": [
              "      ano_tri       inf       int\n",
              "81   2015-1.0  0.024281  0.126754\n",
              "82   2015-2.0  0.020127  0.131911\n",
              "83   2015-3.0  0.024163  0.137485\n",
              "84   2015-4.0  0.034240  0.138563\n",
              "85   2016-1.0  0.027721  0.141250\n",
              "86   2016-2.0  0.031484  0.141305\n",
              "87   2016-3.0  0.000683  0.141148\n",
              "88   2016-4.0  0.010116  0.139437\n",
              "89   2017-1.0  0.004903  0.118016\n",
              "90   2017-2.0 -0.012400  0.105573\n",
              "91   2017-3.0  0.005589  0.094781\n",
              "92   2017-4.0  0.016475  0.085452\n",
              "93   2018-1.0  0.012950  0.066288\n",
              "94   2018-2.0  0.041035  0.064385\n",
              "95   2018-3.0  0.029331  0.064430\n",
              "96   2018-4.0  0.002600  0.064282\n",
              "97   2019-1.0  0.024050  0.062468\n",
              "98   2019-2.0  0.019418  0.061984\n",
              "99   2019-3.0 -0.000100  0.059859\n",
              "100  2019-4.0  0.031691  0.053462"
            ]
          },
          "metadata": {
            "tags": []
          },
          "execution_count": 17
        }
      ]
    },
    {
      "cell_type": "code",
      "metadata": {
        "id": "rK-8D6GF0K01",
        "outputId": "c84cbdd6-c043-4a39-abf5-89c0c9083468",
        "colab": {
          "base_uri": "https://localhost:8080/",
          "height": 295
        }
      },
      "source": [
        "import numpy as np\n",
        "import matplotlib.pyplot as plt  \n",
        "n  = 5\n",
        "t  = np.linspace(0, 0, n + 1)\n",
        "y  = np.linspace(0, 0, n + 1)\n",
        "z  = np.linspace(0, 0, n + 1)\n",
        "# inflacao (inf)\n",
        "y[0]=0.029331\n",
        "# juros (int)\t\n",
        "z[0]=0.064430\n",
        "\n",
        "a10= 0.012607\n",
        "a20= 0.134771\n",
        "# Matriz\n",
        "a11 = 0.386653\n",
        "a12 = 0.000465\n",
        "a21 = 1.332716\n",
        "a22 = 0.017518\n",
        "for i in range(1, n + 1):\n",
        "  t[i] = i\n",
        "  #e = np.random.normal(0, 1, size=2)\n",
        "  y[i] = a10 + a11 * y[i - 1] + a12 * z[i - 1]\n",
        "  z[i] = a20 + a21 * y[i - 1] + a22 * z[i - 1]  \n",
        "\n",
        "print(y)\n",
        "print(z)\n",
        "print(dados['inf'][-6:])\n",
        "print(dados['int'][-6:])"
      ],
      "execution_count": null,
      "outputs": [
        {
          "output_type": "stream",
          "text": [
            "[0.029331   0.02397788 0.02195949 0.02117666 0.02087268 0.02075464]\n",
            "[0.06443    0.17498958 0.16979217 0.16701118 0.16591917 0.16549492]\n",
            "95     0.029331\n",
            "96     0.002600\n",
            "97     0.024050\n",
            "98     0.019418\n",
            "99    -0.000100\n",
            "100    0.031691\n",
            "Name: inf, dtype: float64\n",
            "95     0.064430\n",
            "96     0.064282\n",
            "97     0.062468\n",
            "98     0.061984\n",
            "99     0.059859\n",
            "100    0.053462\n",
            "Name: int, dtype: float64\n"
          ],
          "name": "stdout"
        }
      ]
    },
    {
      "cell_type": "code",
      "metadata": {
        "id": "syLlaKgy5FUp",
        "outputId": "c72fb819-d973-4f80-8e45-516ea2d9d945",
        "colab": {
          "base_uri": "https://localhost:8080/",
          "height": 465
        }
      },
      "source": [
        "\n",
        "fig, ax = plt.subplots(2, 1,figsize=(15, 8))\n",
        "\n",
        "ax[0].plot(t, y)\n",
        "ax[0].plot(t, dados['inf'][-6:])\n",
        "ax[0].legend(['inf-PREV', 'inf-R'])\n",
        "\n",
        "ax[1].plot(t, z)\n",
        "ax[1].plot(t, dados['int'][-6:])\n",
        "ax[1].legend(['int-PREV','int-R'])\n",
        "plt.show()  "
      ],
      "execution_count": null,
      "outputs": [
        {
          "output_type": "display_data",
          "data": {
            "image/png": "[encoded data removed]",
            "text/plain": [
              "<Figure size 1080x576 with 2 Axes>"
            ]
          },
          "metadata": {
            "tags": [],
            "needs_background": "light"
          }
        }
      ]
    },
    {
      "cell_type": "code",
      "metadata": {
        "id": "PFWSxUCq6kXY",
        "outputId": "86a64ddf-2e46-45c2-ecd7-10b24cdf1406",
        "colab": {
          "base_uri": "https://localhost:8080/",
          "height": 352
        }
      },
      "source": [
        "A = np.array([[0.7, 0.2],\n",
        "              [0.2, 0.7]])\n",
        "B = np.array([[1, -0.8],\n",
        "              [0, 1]])\n",
        "#?????\n",
        "BI = np.array([[a11, a12],\n",
        "              [a21, a22]])\n",
        "n  = 20\n",
        "t   = np.linspace(0, 0, n + 1)\n",
        "iyy = np.linspace(0, 0, n + 1)\n",
        "iyz = np.linspace(0, 0, n + 1)\n",
        "for i in range(1, n + 1):\n",
        "  t[i] = i\n",
        "  A = np.linalg.matrix_power(A, i)\n",
        "  AUX = np.matmul(A, BI)\n",
        "  iyy[i] = AUX[0,1]\n",
        "  iyz[i] = AUX[1,1]\n",
        "plt.figure(figsize=(5,5))\n",
        "plt.plot(t[1:n], iyy[1:n])\n",
        "plt.plot(t[1:n], iyz[1:n])\n",
        "plt.title('Resposta do impulso  ao choque $\\\\varepsilon_{zt}$')\n",
        "plt.ylabel('impulso y(t) e z(t)')\n",
        "plt.xlabel('t')\n",
        "plt.legend(['iy(t)', 'iz(t)'])\n",
        "plt.show()"
      ],
      "execution_count": null,
      "outputs": [
        {
          "output_type": "display_data",
          "data": {
            "image/png": "[encoded data removed]",
            "text/plain": [
              "<Figure size 360x360 with 1 Axes>"
            ]
          },
          "metadata": {
            "tags": [],
            "needs_background": "light"
          }
        }
      ]
    }
  ]
}