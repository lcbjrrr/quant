{
  "nbformat": 4,
  "nbformat_minor": 0,
  "metadata": {
    "colab": {
      "name": "dijkstra_teste",
      "provenance": [],
      "collapsed_sections": [],
      "include_colab_link": true
    },
    "kernelspec": {
      "name": "python3",
      "display_name": "Python 3"
    }
  },
  "cells": [
    {
      "cell_type": "markdown",
      "metadata": {
        "id": "view-in-github",
        "colab_type": "text"
      },
      "source": [
        "<a href=\"https://colab.research.google.com/github/lcbjrrr/quant/blob/master/dijkstra_teste.ipynb\" target=\"_parent\"><img src=\"https://colab.research.google.com/assets/colab-badge.svg\" alt=\"Open In Colab\"/></a>"
      ]
    },
    {
      "cell_type": "markdown",
      "metadata": {
        "id": "s8N1g5u9wONF"
      },
      "source": [
        "# Ficha Técnica\n",
        "\n",
        "Estudo - Método Dijkstra.\n",
        "\n",
        "Conteúdo - EDO \n",
        "- Algoritmos.\n",
        "- Gráfos.\n",
        "- Caminho mínimo.\n",
        "\n",
        "Resolução:\n",
        "- Exemplos.\n",
        "\n",
        "Autores: \n",
        "- Anderson Borba (anderson.aborba@professores.ibmec.edu.br) e\n",
        "- Luiz Barboza (luiz.cbjunior@professores.ibmec.edu.br).\n",
        "\n",
        "Endereço eletrônico: http://quant-ibmec.group/calculos/"
      ]
    },
    {
      "cell_type": "code",
      "metadata": {
        "colab": {
          "base_uri": "https://localhost:8080/"
        },
        "id": "0JMOkKSn90q6",
        "outputId": "6e18d247-5e22-4d72-c3b8-85c47a151014"
      },
      "source": [
        "import sys\n",
        "\n",
        "# Function to find out which of the unvisited node \n",
        "# needs to be visited next\n",
        "def to_be_visited():\n",
        "  global visited_and_distance\n",
        "  v = -10\n",
        "  # Choosing the vertex with the minimum distance\n",
        "  for index in range(number_of_vertices):\n",
        "    if visited_and_distance[index][0] == 0 \\\n",
        "      and (v < 0 or visited_and_distance[index][1] <= \\\n",
        "      visited_and_distance[v][1]):\n",
        "        v = index\n",
        "  return v\n",
        "# Exemplo 1\n",
        "# Creating the graph as an adjacency matrix\n",
        "#vertices = [[0, 1, 1, 0],\n",
        "#            [0, 0, 1, 0],\n",
        "#            [0, 0, 0, 1],\n",
        "#            [0, 0, 0, 0]]\n",
        "#edges =  [[0, 3, 4, 0],\n",
        "#          [0, 0, 0.5, 0],\n",
        "#          [0, 0, 0, 1],\n",
        "#          [0, 0, 0, 0]]\n",
        "#\n",
        "# Exemplo 2 - Livro do Cormen - pag 658\n",
        "# Creating the graph as an adjacency matrix\n",
        "vertices = [[0, 1, 1, 0, 0],\n",
        "            [0, 0, 1, 1, 0],\n",
        "            [0, 1, 0, 1, 1],\n",
        "            [0, 0, 0, 0, 1],\n",
        "            [1, 0, 0, 1, 0]]\n",
        "edges =  [[0, 10, 5, 0, 0],\n",
        "          [0,  0, 2, 1, 0],\n",
        "          [0, 3, 0, 0, 2],\n",
        "          [0, 0, 0, 0, 4],\n",
        "          [7, 0, 0, 6, 0]]\n",
        "number_of_vertices = len(vertices[0])\n",
        "# The first element of the lists inside visited_and_distance \n",
        "# denotes if the vertex has been visited.\n",
        "# The second element of the lists inside the visited_and_distance \n",
        "# denotes the distance from the source.\n",
        "visited_and_distance = [[0, 0]]\n",
        "for i in range(number_of_vertices-1):\n",
        "  visited_and_distance.append([0, sys.maxsize])\n",
        "\n",
        "for vertex in range(number_of_vertices):\n",
        "  # Finding the next vertex to be visited.\n",
        "  to_visit = to_be_visited()\n",
        "  for neighbor_index in range(number_of_vertices):\n",
        "    # Calculating the new distance for all unvisited neighbours\n",
        "    # of the chosen vertex.\n",
        "    if vertices[to_visit][neighbor_index] == 1 and \\\n",
        "     visited_and_distance[neighbor_index][0] == 0:\n",
        "      new_distance = visited_and_distance[to_visit][1] \\\n",
        "      + edges[to_visit][neighbor_index]\n",
        "      # Updating the distance of the neighbor if its current distance\n",
        "      # is greater than the distance that has just been calculated\n",
        "      if visited_and_distance[neighbor_index][1] > new_distance:\n",
        "        visited_and_distance[neighbor_index][1] = new_distance\n",
        "  # Visiting the vertex found earlier\n",
        "  visited_and_distance[to_visit][0] = 1\n",
        "\n",
        "i = 0 \n",
        "# Printing out the shortest distance from the source to each vertex       \n",
        "for distance in visited_and_distance:\n",
        "  print(\"The shortest distance of \",chr(ord('a') + i),\\\n",
        "  \" from the source vertex a is:\",distance[1])\n",
        "  i = i + 1\n",
        "\n"
      ],
      "execution_count": null,
      "outputs": [
        {
          "output_type": "stream",
          "text": [
            "The shortest distance of  a  from the source vertex a is: 0\n",
            "The shortest distance of  b  from the source vertex a is: 8\n",
            "The shortest distance of  c  from the source vertex a is: 5\n",
            "The shortest distance of  d  from the source vertex a is: 5\n",
            "The shortest distance of  e  from the source vertex a is: 7\n"
          ],
          "name": "stdout"
        }
      ]
    },
    {
      "cell_type": "markdown",
      "metadata": {
        "id": "mA5VUHWdwHQW"
      },
      "source": [
        "## Referências\n",
        "-  https://www.educative.io/edpresso/how-to-implement-dijkstras-algorithm-in-python\n",
        "\n",
        "\n",
        "- Introduction to Algorithms, Thomas H. Cormen, Charles E. Leiserson, Ronald L. Rivest."
      ]
    },
    {
      "cell_type": "markdown",
      "metadata": {
        "id": "Wccz2GDTwKTR"
      },
      "source": [
        ""
      ]
    }
  ]
}