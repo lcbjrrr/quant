{
  "cells": [
    {
      "cell_type": "markdown",
      "metadata": {
        "id": "view-in-github",
        "colab_type": "text"
      },
      "source": [
        "<a href=\"https://colab.research.google.com/github/lcbjrrr/quant/blob/master/Processamento_de_texto.ipynb\" target=\"_parent\"><img src=\"https://colab.research.google.com/assets/colab-badge.svg\" alt=\"Open In Colab\"/></a>"
      ]
    },
    {
      "cell_type": "markdown",
      "source": [
        "Ficha Técnica\n",
        "Disciplina - Data Mining.\n",
        "\n",
        "Conteúdo -\n",
        "\n",
        "- Processamento de texto\n",
        "\n",
        "Autores:\n",
        "\n",
        "Anderson Borba (anderson.aborba@professores.ibmec.edu.br) e\n",
        "\n",
        "Luiz Barboza (luiz.cbjunior@professores.ibmec.edu.br).\n",
        "\n",
        "Endereço eletrônico: http://quant-ibmec.group/python-e-ml/"
      ],
      "metadata": {
        "id": "jGB-rFl9-OoE"
      }
    },
    {
      "cell_type": "code",
      "execution_count": null,
      "metadata": {
        "colab": {
          "base_uri": "https://localhost:8080/"
        },
        "id": "01hgYxJYx5WI",
        "outputId": "dbebe5e8-811c-47f4-8058-96c3286ad51a"
      },
      "outputs": [
        {
          "output_type": "stream",
          "name": "stdout",
          "text": [
            "[nltk_data] Downloading package stopwords to /root/nltk_data...\n",
            "[nltk_data]   Package stopwords is already up-to-date!\n"
          ]
        },
        {
          "output_type": "execute_result",
          "data": {
            "text/plain": [
              "True"
            ]
          },
          "metadata": {},
          "execution_count": 22
        }
      ],
      "source": [
        "import sklearn\n",
        "from nltk.corpus import stopwords\n",
        "from sklearn.feature_extraction.text import CountVectorizer\n",
        "import nltk\n",
        "nltk.download('stopwords')"
      ]
    },
    {
      "cell_type": "code",
      "source": [
        "texto = ['Diretores financeiros que se responsabilizam pela tecnologia de IA estão preparando a si mesmos (e suas organizações) para o futuro.Quem toma decisões sobre investimentos em ferramentas de inteligênci',\n",
        "         'a artificial nas organizações? Quem deveria fazer isso? Obviamente, o diretor executivo e o diretor de tecnologia da informação da empresa. Quem mais poderia ser? Afirmamos  que,  embora  os  diretores ',\n",
        "         'financeiros não se imaginem líderes de inteligência artificial em suas empresas, eles podem ter um maior impacto na liderança de estratégia e adoção de IA. Há dois motivos principais para isso. O primeiro é que',\n",
        "         'que os diretores financeiros comandam a função financeira, e muitos processos e tarefas dessa área podem ser executados pela IA. Uma pesquisa entre organizações dos EUA constatou que 24% dos gerentes',\n",
        "         'financeiros já usam IA e outros 50% esperam usá-la em três ou cinco anos. O segundo motivo é que os diretores financeiros costumam ser os principais guardiões das avaliações de “valor pelo dinheiro” e,',\n",
        "         'portanto, deveriam supervisionar os investimentos em IA. Em 2018, uma pesquisa da Deloitte sobre tendências de reporte hierárquico de diretores de tecnologia da informação revelou que 28% deles se reportam ao', \n",
        "         'diretor financeiro. Isso é algo significativo em termos de IA porque uma pesquisa realizada pela Deloitte em 2020 constatou que TI (citada por 47% como uma das duas mais importantes no setor de aplicação, com',\n",
        "         'segurança cibernética em segundo lugar, citada por 22%) é a área em que mais provavelmente as empresas aplicarão IA e automação à repetição de tarefas e processos. Essas atividades incluem reinicialização de',\n",
        "         'servidores, monitoramento de redes, provisionamento de senhas de usuários, captura e monitoramento de tíquetes de problemas e também iniciativas como ajudar a validar e priorizar ameaças à segurança',\n",
        "         'cibernética. Quando diretores de tecnologia da informação defendem investimentos em IA, os diretores financeiros deveriam apoiar a iniciativa para integrar avaliações financeiras à estratégia de',\n",
        "         'tecnologia.Embora seja provável que a IA tenha no futuro um impacto radical sobre as práticas de negócio em toda a alta administração, ela já afeta essas práticas hoje em dia. Em outras palavras, o momento',\n",
        "         'para que os diretores financeiros assumam a liderança de IA é agora.Oportunidades para IA nas funções financeiras. A função financeira oferece várias áreas para o uso de IA. Vale a pena examinar algumas delas.',\n",
        "         'Uma das principais áreas para a  implantação de Robotic Process Automation (RPA – Automação robótica de processos) é o fechamento de períodos financeiros. Nesses momentos, a geração de relatórios costuma',\n",
        "         'envolver a extração de dados de vários sistemas, a consolidaçãoe reconciliação de diários em toda a organização e também as transferências de dados de grupos internos e para autoridades reguladoras. O',\n",
        "         'faturamento também envolve atividades e acesso a informaçõesde forma estruturada e repetível. A RPA é perfeitamente adequada. A redefinição da liderança de IA na alta administraçãoDiretores financeiros que',\n",
        "         'se responsabilizam pela tecnologia de IA estão preparando a si mesmos (e suas organizações) para o futuro.']"
      ],
      "metadata": {
        "id": "TslvCzXp0uW3"
      },
      "execution_count": null,
      "outputs": []
    },
    {
      "cell_type": "code",
      "execution_count": null,
      "metadata": {
        "id": "RgTtGCkdx5WP"
      },
      "outputs": [],
      "source": [
        "count_vectorizer = CountVectorizer(stop_words=stopwords.words('portuguese'))"
      ]
    },
    {
      "cell_type": "code",
      "execution_count": null,
      "metadata": {
        "colab": {
          "base_uri": "https://localhost:8080/"
        },
        "id": "D6418Xymx5WQ",
        "outputId": "27a285fb-1cf2-4054-f39f-65ea04d62ed7"
      },
      "outputs": [
        {
          "output_type": "execute_result",
          "data": {
            "text/plain": [
              "CountVectorizer(stop_words=['de', 'a', 'o', 'que', 'e', 'é', 'do', 'da', 'em',\n",
              "                            'um', 'para', 'com', 'não', 'uma', 'os', 'no', 'se',\n",
              "                            'na', 'por', 'mais', 'as', 'dos', 'como', 'mas',\n",
              "                            'ao', 'ele', 'das', 'à', 'seu', 'sua', ...])"
            ]
          },
          "metadata": {},
          "execution_count": 25
        }
      ],
      "source": [
        "count_vectorizer.fit(texto)"
      ]
    },
    {
      "cell_type": "code",
      "execution_count": null,
      "metadata": {
        "colab": {
          "base_uri": "https://localhost:8080/"
        },
        "id": "-gEY4XbMx5WR",
        "outputId": "ecce661e-a4a5-4e24-9d0a-19b0361d2432"
      },
      "outputs": [
        {
          "output_type": "stream",
          "name": "stderr",
          "text": [
            "/usr/local/lib/python3.7/dist-packages/sklearn/utils/deprecation.py:87: FutureWarning: Function get_feature_names is deprecated; get_feature_names is deprecated in 1.0 and will be removed in 1.2. Please use get_feature_names_out instead.\n",
            "  warnings.warn(msg, category=FutureWarning)\n"
          ]
        },
        {
          "output_type": "execute_result",
          "data": {
            "text/plain": [
              "['2018',\n",
              " '2020',\n",
              " '22',\n",
              " '24',\n",
              " '28',\n",
              " '47',\n",
              " '50',\n",
              " 'acesso',\n",
              " 'adequada',\n",
              " 'administração',\n",
              " 'administraçãodiretores',\n",
              " 'adoção',\n",
              " 'afeta',\n",
              " 'afirmamos',\n",
              " 'agora',\n",
              " 'ajudar',\n",
              " 'algo',\n",
              " 'algumas',\n",
              " 'alta',\n",
              " 'ameaças',\n",
              " 'anos',\n",
              " 'aplicarão',\n",
              " 'aplicação',\n",
              " 'apoiar',\n",
              " 'artificial',\n",
              " 'assumam',\n",
              " 'atividades',\n",
              " 'automation',\n",
              " 'automação',\n",
              " 'autoridades',\n",
              " 'avaliações',\n",
              " 'captura',\n",
              " 'cibernética',\n",
              " 'cinco',\n",
              " 'citada',\n",
              " 'comandam',\n",
              " 'consolidaçãoe',\n",
              " 'constatou',\n",
              " 'costuma',\n",
              " 'costumam',\n",
              " 'dados',\n",
              " 'decisões',\n",
              " 'defendem',\n",
              " 'deloitte',\n",
              " 'dessa',\n",
              " 'deveria',\n",
              " 'deveriam',\n",
              " 'dia',\n",
              " 'dinheiro',\n",
              " 'diretor',\n",
              " 'diretores',\n",
              " 'diários',\n",
              " 'dois',\n",
              " 'duas',\n",
              " 'embora',\n",
              " 'empresa',\n",
              " 'empresas',\n",
              " 'envolve',\n",
              " 'envolver',\n",
              " 'esperam',\n",
              " 'estratégia',\n",
              " 'estruturada',\n",
              " 'eua',\n",
              " 'examinar',\n",
              " 'executados',\n",
              " 'executivo',\n",
              " 'extração',\n",
              " 'faturamento',\n",
              " 'fazer',\n",
              " 'fechamento',\n",
              " 'ferramentas',\n",
              " 'financeira',\n",
              " 'financeiras',\n",
              " 'financeiro',\n",
              " 'financeiros',\n",
              " 'forma',\n",
              " 'função',\n",
              " 'funções',\n",
              " 'futuro',\n",
              " 'geração',\n",
              " 'gerentes',\n",
              " 'grupos',\n",
              " 'guardiões',\n",
              " 'hierárquico',\n",
              " 'hoje',\n",
              " 'ia',\n",
              " 'imaginem',\n",
              " 'impacto',\n",
              " 'implantação',\n",
              " 'importantes',\n",
              " 'incluem',\n",
              " 'informação',\n",
              " 'informaçõesde',\n",
              " 'iniciativa',\n",
              " 'iniciativas',\n",
              " 'integrar',\n",
              " 'inteligênci',\n",
              " 'inteligência',\n",
              " 'internos',\n",
              " 'investimentos',\n",
              " 'la',\n",
              " 'liderança',\n",
              " 'lugar',\n",
              " 'líderes',\n",
              " 'maior',\n",
              " 'mesmos',\n",
              " 'momento',\n",
              " 'momentos',\n",
              " 'monitoramento',\n",
              " 'motivo',\n",
              " 'motivos',\n",
              " 'muitos',\n",
              " 'negócio',\n",
              " 'nesses',\n",
              " 'obviamente',\n",
              " 'oferece',\n",
              " 'oportunidades',\n",
              " 'organização',\n",
              " 'organizações',\n",
              " 'outras',\n",
              " 'outros',\n",
              " 'palavras',\n",
              " 'pena',\n",
              " 'perfeitamente',\n",
              " 'períodos',\n",
              " 'pesquisa',\n",
              " 'podem',\n",
              " 'poderia',\n",
              " 'porque',\n",
              " 'portanto',\n",
              " 'preparando',\n",
              " 'primeiro',\n",
              " 'principais',\n",
              " 'priorizar',\n",
              " 'problemas',\n",
              " 'process',\n",
              " 'processos',\n",
              " 'provavelmente',\n",
              " 'provisionamento',\n",
              " 'provável',\n",
              " 'práticas',\n",
              " 'radical',\n",
              " 'realizada',\n",
              " 'reconciliação',\n",
              " 'redefinição',\n",
              " 'redes',\n",
              " 'reguladoras',\n",
              " 'reinicialização',\n",
              " 'relatórios',\n",
              " 'repetição',\n",
              " 'repetível',\n",
              " 'reportam',\n",
              " 'reporte',\n",
              " 'responsabilizam',\n",
              " 'revelou',\n",
              " 'robotic',\n",
              " 'robótica',\n",
              " 'rpa',\n",
              " 'segundo',\n",
              " 'segurança',\n",
              " 'senhas',\n",
              " 'ser',\n",
              " 'servidores',\n",
              " 'setor',\n",
              " 'si',\n",
              " 'significativo',\n",
              " 'sistemas',\n",
              " 'sobre',\n",
              " 'supervisionar',\n",
              " 'tarefas',\n",
              " 'tecnologia',\n",
              " 'tendências',\n",
              " 'ter',\n",
              " 'termos',\n",
              " 'ti',\n",
              " 'toda',\n",
              " 'toma',\n",
              " 'transferências',\n",
              " 'três',\n",
              " 'tíquetes',\n",
              " 'usam',\n",
              " 'uso',\n",
              " 'usuários',\n",
              " 'usá',\n",
              " 'vale',\n",
              " 'validar',\n",
              " 'valor',\n",
              " 'várias',\n",
              " 'vários',\n",
              " 'área',\n",
              " 'áreas']"
            ]
          },
          "metadata": {},
          "execution_count": 26
        }
      ],
      "source": [
        "count_vectorizer.get_feature_names()"
      ]
    },
    {
      "cell_type": "code",
      "execution_count": null,
      "metadata": {
        "colab": {
          "base_uri": "https://localhost:8080/"
        },
        "id": "oDfMCFggx5WS",
        "outputId": "0790c9a9-4745-47f5-b447-ed22cc3de1f2"
      },
      "outputs": [
        {
          "output_type": "execute_result",
          "data": {
            "text/plain": [
              "{'2018': 0,\n",
              " '2020': 1,\n",
              " '22': 2,\n",
              " '24': 3,\n",
              " '28': 4,\n",
              " '47': 5,\n",
              " '50': 6,\n",
              " 'acesso': 7,\n",
              " 'adequada': 8,\n",
              " 'administração': 9,\n",
              " 'administraçãodiretores': 10,\n",
              " 'adoção': 11,\n",
              " 'afeta': 12,\n",
              " 'afirmamos': 13,\n",
              " 'agora': 14,\n",
              " 'ajudar': 15,\n",
              " 'algo': 16,\n",
              " 'algumas': 17,\n",
              " 'alta': 18,\n",
              " 'ameaças': 19,\n",
              " 'anos': 20,\n",
              " 'aplicarão': 21,\n",
              " 'aplicação': 22,\n",
              " 'apoiar': 23,\n",
              " 'artificial': 24,\n",
              " 'assumam': 25,\n",
              " 'atividades': 26,\n",
              " 'automation': 27,\n",
              " 'automação': 28,\n",
              " 'autoridades': 29,\n",
              " 'avaliações': 30,\n",
              " 'captura': 31,\n",
              " 'cibernética': 32,\n",
              " 'cinco': 33,\n",
              " 'citada': 34,\n",
              " 'comandam': 35,\n",
              " 'consolidaçãoe': 36,\n",
              " 'constatou': 37,\n",
              " 'costuma': 38,\n",
              " 'costumam': 39,\n",
              " 'dados': 40,\n",
              " 'decisões': 41,\n",
              " 'defendem': 42,\n",
              " 'deloitte': 43,\n",
              " 'dessa': 44,\n",
              " 'deveria': 45,\n",
              " 'deveriam': 46,\n",
              " 'dia': 47,\n",
              " 'dinheiro': 48,\n",
              " 'diretor': 49,\n",
              " 'diretores': 50,\n",
              " 'diários': 51,\n",
              " 'dois': 52,\n",
              " 'duas': 53,\n",
              " 'embora': 54,\n",
              " 'empresa': 55,\n",
              " 'empresas': 56,\n",
              " 'envolve': 57,\n",
              " 'envolver': 58,\n",
              " 'esperam': 59,\n",
              " 'estratégia': 60,\n",
              " 'estruturada': 61,\n",
              " 'eua': 62,\n",
              " 'examinar': 63,\n",
              " 'executados': 64,\n",
              " 'executivo': 65,\n",
              " 'extração': 66,\n",
              " 'faturamento': 67,\n",
              " 'fazer': 68,\n",
              " 'fechamento': 69,\n",
              " 'ferramentas': 70,\n",
              " 'financeira': 71,\n",
              " 'financeiras': 72,\n",
              " 'financeiro': 73,\n",
              " 'financeiros': 74,\n",
              " 'forma': 75,\n",
              " 'função': 76,\n",
              " 'funções': 77,\n",
              " 'futuro': 78,\n",
              " 'geração': 79,\n",
              " 'gerentes': 80,\n",
              " 'grupos': 81,\n",
              " 'guardiões': 82,\n",
              " 'hierárquico': 83,\n",
              " 'hoje': 84,\n",
              " 'ia': 85,\n",
              " 'imaginem': 86,\n",
              " 'impacto': 87,\n",
              " 'implantação': 88,\n",
              " 'importantes': 89,\n",
              " 'incluem': 90,\n",
              " 'informação': 91,\n",
              " 'informaçõesde': 92,\n",
              " 'iniciativa': 93,\n",
              " 'iniciativas': 94,\n",
              " 'integrar': 95,\n",
              " 'inteligênci': 96,\n",
              " 'inteligência': 97,\n",
              " 'internos': 98,\n",
              " 'investimentos': 99,\n",
              " 'la': 100,\n",
              " 'liderança': 101,\n",
              " 'lugar': 102,\n",
              " 'líderes': 103,\n",
              " 'maior': 104,\n",
              " 'mesmos': 105,\n",
              " 'momento': 106,\n",
              " 'momentos': 107,\n",
              " 'monitoramento': 108,\n",
              " 'motivo': 109,\n",
              " 'motivos': 110,\n",
              " 'muitos': 111,\n",
              " 'negócio': 112,\n",
              " 'nesses': 113,\n",
              " 'obviamente': 114,\n",
              " 'oferece': 115,\n",
              " 'oportunidades': 116,\n",
              " 'organização': 117,\n",
              " 'organizações': 118,\n",
              " 'outras': 119,\n",
              " 'outros': 120,\n",
              " 'palavras': 121,\n",
              " 'pena': 122,\n",
              " 'perfeitamente': 123,\n",
              " 'períodos': 124,\n",
              " 'pesquisa': 125,\n",
              " 'podem': 126,\n",
              " 'poderia': 127,\n",
              " 'porque': 128,\n",
              " 'portanto': 129,\n",
              " 'preparando': 130,\n",
              " 'primeiro': 131,\n",
              " 'principais': 132,\n",
              " 'priorizar': 133,\n",
              " 'problemas': 134,\n",
              " 'process': 135,\n",
              " 'processos': 136,\n",
              " 'provavelmente': 137,\n",
              " 'provisionamento': 138,\n",
              " 'provável': 139,\n",
              " 'práticas': 140,\n",
              " 'radical': 141,\n",
              " 'realizada': 142,\n",
              " 'reconciliação': 143,\n",
              " 'redefinição': 144,\n",
              " 'redes': 145,\n",
              " 'reguladoras': 146,\n",
              " 'reinicialização': 147,\n",
              " 'relatórios': 148,\n",
              " 'repetição': 149,\n",
              " 'repetível': 150,\n",
              " 'reportam': 151,\n",
              " 'reporte': 152,\n",
              " 'responsabilizam': 153,\n",
              " 'revelou': 154,\n",
              " 'robotic': 155,\n",
              " 'robótica': 156,\n",
              " 'rpa': 157,\n",
              " 'segundo': 158,\n",
              " 'segurança': 159,\n",
              " 'senhas': 160,\n",
              " 'ser': 161,\n",
              " 'servidores': 162,\n",
              " 'setor': 163,\n",
              " 'si': 164,\n",
              " 'significativo': 165,\n",
              " 'sistemas': 166,\n",
              " 'sobre': 167,\n",
              " 'supervisionar': 168,\n",
              " 'tarefas': 169,\n",
              " 'tecnologia': 170,\n",
              " 'tendências': 171,\n",
              " 'ter': 172,\n",
              " 'termos': 173,\n",
              " 'ti': 174,\n",
              " 'toda': 175,\n",
              " 'toma': 176,\n",
              " 'transferências': 177,\n",
              " 'três': 178,\n",
              " 'tíquetes': 179,\n",
              " 'usam': 180,\n",
              " 'uso': 181,\n",
              " 'usuários': 182,\n",
              " 'usá': 183,\n",
              " 'vale': 184,\n",
              " 'validar': 185,\n",
              " 'valor': 186,\n",
              " 'várias': 187,\n",
              " 'vários': 188,\n",
              " 'área': 189,\n",
              " 'áreas': 190}"
            ]
          },
          "metadata": {},
          "execution_count": 27
        }
      ],
      "source": [
        "count_vectorizer.vocabulary_"
      ]
    },
    {
      "cell_type": "code",
      "execution_count": null,
      "metadata": {
        "colab": {
          "base_uri": "https://localhost:8080/"
        },
        "id": "UYpSlHqBx5WS",
        "outputId": "75895f74-0058-4085-cd1e-0c82cccbd8ba"
      },
      "outputs": [
        {
          "output_type": "execute_result",
          "data": {
            "text/plain": [
              "173"
            ]
          },
          "metadata": {},
          "execution_count": 32
        }
      ],
      "source": [
        "# it returns the ID for specific word.\n",
        "count_vectorizer.vocabulary_.get('termos')"
      ]
    },
    {
      "cell_type": "code",
      "execution_count": null,
      "metadata": {
        "id": "2EyQcpYkx5WT"
      },
      "outputs": [],
      "source": [
        "# It creates feature vectors from the training text\n",
        "transformed_vector = count_vectorizer.transform(texto)"
      ]
    },
    {
      "cell_type": "code",
      "execution_count": null,
      "metadata": {
        "colab": {
          "base_uri": "https://localhost:8080/"
        },
        "id": "At5VqcF-x5WU",
        "outputId": "99993c5a-d0ef-4931-a3a7-29b540a639a4"
      },
      "outputs": [
        {
          "output_type": "execute_result",
          "data": {
            "text/plain": [
              "(16, 191)"
            ]
          },
          "metadata": {},
          "execution_count": 35
        }
      ],
      "source": [
        "# there are 9 sentences and 55 unique words in our vocabulary\n",
        "transformed_vector.shape"
      ]
    },
    {
      "cell_type": "code",
      "execution_count": null,
      "metadata": {
        "colab": {
          "base_uri": "https://localhost:8080/"
        },
        "id": "r27kW3k-x5WV",
        "outputId": "59e5ccaa-c71f-490a-89c5-779990f0f06b"
      },
      "outputs": [
        {
          "output_type": "execute_result",
          "data": {
            "text/plain": [
              "array([[0, 0, 0, ..., 0, 0, 0],\n",
              "       [0, 0, 0, ..., 0, 0, 0],\n",
              "       [0, 0, 0, ..., 0, 0, 0],\n",
              "       ...,\n",
              "       [0, 0, 0, ..., 1, 0, 0],\n",
              "       [0, 0, 0, ..., 0, 0, 0],\n",
              "       [0, 0, 0, ..., 0, 0, 0]])"
            ]
          },
          "metadata": {},
          "execution_count": 36
        }
      ],
      "source": [
        "# converts to dense vector array (was sparse)\n",
        "transformed_vector.toarray()"
      ]
    },
    {
      "cell_type": "code",
      "execution_count": null,
      "metadata": {
        "colab": {
          "base_uri": "https://localhost:8080/"
        },
        "id": "2kaqPiBgx5WW",
        "outputId": "b825e81d-d93e-4421-b406-0885ebfdf589"
      },
      "outputs": [
        {
          "output_type": "execute_result",
          "data": {
            "text/plain": [
              "[array(['decisões', 'diretores', 'ferramentas', 'financeiros', 'futuro',\n",
              "        'ia', 'inteligênci', 'investimentos', 'mesmos', 'organizações',\n",
              "        'preparando', 'responsabilizam', 'si', 'sobre', 'tecnologia',\n",
              "        'toma'], dtype='<U22'),\n",
              " array(['afirmamos', 'artificial', 'deveria', 'diretor', 'diretores',\n",
              "        'embora', 'empresa', 'executivo', 'fazer', 'informação',\n",
              "        'obviamente', 'organizações', 'poderia', 'ser', 'tecnologia'],\n",
              "       dtype='<U22'),\n",
              " array(['adoção', 'artificial', 'dois', 'empresas', 'estratégia',\n",
              "        'financeiros', 'ia', 'imaginem', 'impacto', 'inteligência',\n",
              "        'liderança', 'líderes', 'maior', 'motivos', 'podem', 'primeiro',\n",
              "        'principais', 'ter'], dtype='<U22'),\n",
              " array(['24', 'comandam', 'constatou', 'dessa', 'diretores', 'eua',\n",
              "        'executados', 'financeira', 'financeiros', 'função', 'gerentes',\n",
              "        'ia', 'muitos', 'organizações', 'pesquisa', 'podem', 'processos',\n",
              "        'ser', 'tarefas', 'área'], dtype='<U22'),\n",
              " array(['50', 'anos', 'avaliações', 'cinco', 'costumam', 'dinheiro',\n",
              "        'diretores', 'esperam', 'financeiros', 'guardiões', 'ia', 'la',\n",
              "        'motivo', 'outros', 'principais', 'segundo', 'ser', 'três', 'usam',\n",
              "        'usá', 'valor'], dtype='<U22'),\n",
              " array(['2018', '28', 'deloitte', 'deveriam', 'diretores', 'hierárquico',\n",
              "        'ia', 'informação', 'investimentos', 'pesquisa', 'portanto',\n",
              "        'reportam', 'reporte', 'revelou', 'sobre', 'supervisionar',\n",
              "        'tecnologia', 'tendências'], dtype='<U22'),\n",
              " array(['2020', '47', 'algo', 'aplicação', 'citada', 'constatou',\n",
              "        'deloitte', 'diretor', 'duas', 'financeiro', 'ia', 'importantes',\n",
              "        'pesquisa', 'porque', 'realizada', 'setor', 'significativo',\n",
              "        'termos', 'ti'], dtype='<U22'),\n",
              " array(['22', 'aplicarão', 'atividades', 'automação', 'cibernética',\n",
              "        'citada', 'empresas', 'ia', 'incluem', 'lugar', 'processos',\n",
              "        'provavelmente', 'reinicialização', 'repetição', 'segundo',\n",
              "        'segurança', 'tarefas', 'área'], dtype='<U22'),\n",
              " array(['ajudar', 'ameaças', 'captura', 'iniciativas', 'monitoramento',\n",
              "        'priorizar', 'problemas', 'provisionamento', 'redes', 'segurança',\n",
              "        'senhas', 'servidores', 'tíquetes', 'usuários', 'validar'],\n",
              "       dtype='<U22'),\n",
              " array(['apoiar', 'avaliações', 'cibernética', 'defendem', 'deveriam',\n",
              "        'diretores', 'estratégia', 'financeiras', 'financeiros', 'ia',\n",
              "        'informação', 'iniciativa', 'integrar', 'investimentos',\n",
              "        'tecnologia'], dtype='<U22'),\n",
              " array(['administração', 'afeta', 'alta', 'dia', 'embora', 'futuro',\n",
              "        'hoje', 'ia', 'impacto', 'momento', 'negócio', 'outras',\n",
              "        'palavras', 'provável', 'práticas', 'radical', 'sobre',\n",
              "        'tecnologia', 'toda'], dtype='<U22'),\n",
              " array(['agora', 'algumas', 'assumam', 'diretores', 'examinar',\n",
              "        'financeira', 'financeiras', 'financeiros', 'função', 'funções',\n",
              "        'ia', 'liderança', 'oferece', 'oportunidades', 'pena', 'uso',\n",
              "        'vale', 'várias', 'áreas'], dtype='<U22'),\n",
              " array(['automation', 'automação', 'costuma', 'fechamento', 'financeiros',\n",
              "        'geração', 'implantação', 'momentos', 'nesses', 'períodos',\n",
              "        'principais', 'process', 'processos', 'relatórios', 'robotic',\n",
              "        'robótica', 'rpa', 'áreas'], dtype='<U22'),\n",
              " array(['autoridades', 'consolidaçãoe', 'dados', 'diários', 'envolver',\n",
              "        'extração', 'grupos', 'internos', 'organização', 'reconciliação',\n",
              "        'reguladoras', 'sistemas', 'toda', 'transferências', 'vários'],\n",
              "       dtype='<U22'),\n",
              " array(['acesso', 'adequada', 'administraçãodiretores', 'alta',\n",
              "        'atividades', 'envolve', 'estruturada', 'faturamento',\n",
              "        'financeiros', 'forma', 'ia', 'informaçõesde', 'liderança',\n",
              "        'perfeitamente', 'redefinição', 'repetível', 'rpa'], dtype='<U22'),\n",
              " array(['futuro', 'ia', 'mesmos', 'organizações', 'preparando',\n",
              "        'responsabilizam', 'si', 'tecnologia'], dtype='<U22')]"
            ]
          },
          "metadata": {},
          "execution_count": 37
        }
      ],
      "source": [
        "# re-generate sentence from transformed vector\n",
        "count_vectorizer.inverse_transform(transformed_vector)"
      ]
    },
    {
      "cell_type": "code",
      "execution_count": null,
      "metadata": {
        "colab": {
          "base_uri": "https://localhost:8080/"
        },
        "id": "1VfrV8g1x5WW",
        "outputId": "bee286f0-7249-4e20-dd4b-4884f0422e13"
      },
      "outputs": [
        {
          "output_type": "execute_result",
          "data": {
            "text/plain": [
              "array([[0, 0, 0, 0, 0, 0, 0, 0, 0, 0, 0, 1, 0, 0, 0, 0, 0, 0, 0, 0, 0, 0,\n",
              "        0, 0, 1, 0, 0, 0, 0, 0, 0, 0, 0, 0, 0, 0, 0, 0, 0, 0, 0, 0, 0, 0,\n",
              "        0, 0, 0, 0, 0, 0, 0, 0, 1, 0, 0, 0, 1, 0, 0, 0, 1, 0, 0, 0, 0, 0,\n",
              "        0, 0, 0, 0, 0, 0, 0, 0, 1, 0, 0, 0, 0, 0, 0, 0, 0, 0, 0, 1, 1, 1,\n",
              "        0, 0, 0, 0, 0, 0, 0, 0, 0, 1, 0, 0, 0, 1, 0, 1, 1, 0, 0, 0, 0, 0,\n",
              "        1, 0, 0, 0, 0, 0, 0, 0, 0, 0, 0, 0, 0, 0, 0, 0, 1, 0, 0, 0, 0, 1,\n",
              "        1, 0, 0, 0, 0, 0, 0, 0, 0, 0, 0, 0, 0, 0, 0, 0, 0, 0, 0, 0, 0, 0,\n",
              "        0, 0, 0, 0, 0, 0, 0, 0, 0, 0, 0, 0, 0, 0, 0, 0, 0, 0, 1, 0, 0, 0,\n",
              "        0, 0, 0, 0, 0, 0, 0, 0, 0, 0, 0, 0, 0, 0, 0]])"
            ]
          },
          "metadata": {},
          "execution_count": 38
        }
      ],
      "source": [
        "test_text = ['financeiros não se imaginem líderes de inteligência artificial em suas empresas, eles podem ter um maior impacto na liderança de estratégia e adoção de IA. Há dois motivos principais para isso. O primeiro é que']\n",
        "count_vectorizer.transform(test_text).toarray()"
      ]
    },
    {
      "cell_type": "markdown",
      "source": [
        "# Referência\n",
        "\n",
        "- https://github.com/asharifara/text-mining "
      ],
      "metadata": {
        "id": "IDmUgVSQ94TH"
      }
    }
  ],
  "metadata": {
    "kernelspec": {
      "display_name": "Python 3",
      "language": "python",
      "name": "python3"
    },
    "language_info": {
      "codemirror_mode": {
        "name": "ipython",
        "version": 3
      },
      "file_extension": ".py",
      "mimetype": "text/x-python",
      "name": "python",
      "nbconvert_exporter": "python",
      "pygments_lexer": "ipython3",
      "version": "3.6.8"
    },
    "colab": {
      "name": "Processamento de texto.ipynb",
      "provenance": [],
      "collapsed_sections": [],
      "include_colab_link": true
    }
  },
  "nbformat": 4,
  "nbformat_minor": 0
}