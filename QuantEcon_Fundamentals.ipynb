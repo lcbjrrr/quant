{
  "nbformat": 4,
  "nbformat_minor": 0,
  "metadata": {
    "colab": {
      "name": "QuantEcon_Fundamentals.ipynb",
      "provenance": [],
      "include_colab_link": true
    },
    "kernelspec": {
      "name": "python3",
      "display_name": "Python 3"
    }
  },
  "cells": [
    {
      "cell_type": "markdown",
      "metadata": {
        "id": "view-in-github",
        "colab_type": "text"
      },
      "source": [
        "<a href=\"https://colab.research.google.com/github/lcbjrrr/quant/blob/master/QuantEcon_Fundamentals.ipynb\" target=\"_parent\"><img src=\"https://colab.research.google.com/assets/colab-badge.svg\" alt=\"Open In Colab\"/></a>"
      ]
    },
    {
      "cell_type": "markdown",
      "metadata": {
        "id": "Pd5t3qYX4FeB",
        "colab_type": "text"
      },
      "source": [
        "***Alguns exemplos do [QuantEcon](https://datascience.quantecon.org/) - Funcoes Python***\n"
      ]
    },
    {
      "cell_type": "markdown",
      "metadata": {
        "id": "1urlNIw398zp",
        "colab_type": "text"
      },
      "source": [
        "**Cobb-Douglas**"
      ]
    },
    {
      "cell_type": "markdown",
      "metadata": {
        "id": "6c6GCe97-BYi",
        "colab_type": "text"
      },
      "source": [
        "\\begin{equation}\n",
        "Y=z K^{\\alpha} L^{1-\\alpha}\n",
        "\\end{equation}"
      ]
    },
    {
      "cell_type": "markdown",
      "metadata": {
        "id": "EXVbwqrB-TtQ",
        "colab_type": "text"
      },
      "source": [
        "A parameter α∈[0,1], called the “output elasticity of capital\n",
        "\n",
        "A value z called the Total Factor Productivity (TFP).\n",
        "\n"
      ]
    },
    {
      "cell_type": "code",
      "metadata": {
        "id": "EJtnzXWA-1eq",
        "colab_type": "code",
        "colab": {}
      },
      "source": [
        "z = 1\n",
        "alpha = 0.33\n",
        "\n",
        "def cobb_douglas(K, L):\n",
        "    return z * K**alpha * L**(1 - alpha)"
      ],
      "execution_count": 0,
      "outputs": []
    },
    {
      "cell_type": "code",
      "metadata": {
        "id": "sBVU2A4-_sMX",
        "colab_type": "code",
        "outputId": "19713684-cafd-4d71-fadd-2042fdb11104",
        "colab": {
          "base_uri": "https://localhost:8080/",
          "height": 34
        }
      },
      "source": [
        "cobb_douglas(1.0, 0.5)"
      ],
      "execution_count": 0,
      "outputs": [
        {
          "output_type": "execute_result",
          "data": {
            "text/plain": [
              "0.6285066872609142"
            ]
          },
          "metadata": {
            "tags": []
          },
          "execution_count": 11
        }
      ]
    },
    {
      "cell_type": "markdown",
      "metadata": {
        "id": "dq7Otp4d_OFe",
        "colab_type": "text"
      },
      "source": [
        "*Retorno de escala*"
      ]
    },
    {
      "cell_type": "markdown",
      "metadata": {
        "id": "oB1tiMZN_OOr",
        "colab_type": "text"
      },
      "source": [
        "\\begin{equation}\n",
        "Y_{2}=F\\left(K_{2}, L_{2}\\right)=F\\left(\\gamma K_{1}, \\gamma L_{1}\\right)\n",
        "\\end{equation}\n",
        "\n"
      ]
    },
    {
      "cell_type": "markdown",
      "metadata": {
        "id": "roZSFzAB_OXX",
        "colab_type": "text"
      },
      "source": [
        "If Y2Y1<γ then we say the production function has decreasing returns to scale.\n",
        "\n",
        "If Y2Y1=γ then we say the production function has constant returns to scale.\n",
        "\n",
        "If Y2Y1>γ then we say the production function has increasing returns to scale."
      ]
    },
    {
      "cell_type": "code",
      "metadata": {
        "id": "ti6QeJAe_cbB",
        "colab_type": "code",
        "colab": {}
      },
      "source": [
        "def returns_to_scale(K, L, gamma):\n",
        "    y1 = cobb_douglas(K, L)\n",
        "    y2 = cobb_douglas(gamma*K, gamma*L)\n",
        "    y_ratio = y2 / y1\n",
        "    return y_ratio / gamma"
      ],
      "execution_count": 0,
      "outputs": []
    },
    {
      "cell_type": "code",
      "metadata": {
        "id": "UbBiPgjw_08R",
        "colab_type": "code",
        "outputId": "35ac2908-eccd-4560-d451-f77e88139412",
        "colab": {
          "base_uri": "https://localhost:8080/",
          "height": 34
        }
      },
      "source": [
        "returns_to_scale(1.0, 0.5, 2.0)"
      ],
      "execution_count": 0,
      "outputs": [
        {
          "output_type": "execute_result",
          "data": {
            "text/plain": [
              "1.0"
            ]
          },
          "metadata": {
            "tags": []
          },
          "execution_count": 13
        }
      ]
    },
    {
      "cell_type": "markdown",
      "metadata": {
        "id": "VQlne5c-A_PS",
        "colab_type": "text"
      },
      "source": [
        "*Retornos multiplos*\n",
        " \n"
      ]
    },
    {
      "cell_type": "markdown",
      "metadata": {
        "id": "QrTfeejvBOV5",
        "colab_type": "text"
      },
      "source": [
        "alterando apenas uma variavel, no exemplo, Labor ..."
      ]
    },
    {
      "cell_type": "markdown",
      "metadata": {
        "id": "S3MsdkVuA_aa",
        "colab_type": "text"
      },
      "source": [
        "\\begin{equation}\n",
        "\\frac{F(K, L+\\varepsilon)-F(K, L)}{\\varepsilon}\n",
        "\\end{equation}"
      ]
    },
    {
      "cell_type": "markdown",
      "metadata": {
        "id": "WcVXD_XoA_iJ",
        "colab_type": "text"
      },
      "source": [
        "Produto marginal do trabalho (MPL) e Produto marginal do capital (MPK) sao definidos como:"
      ]
    },
    {
      "cell_type": "markdown",
      "metadata": {
        "id": "GrUQF6XFBXdo",
        "colab_type": "text"
      },
      "source": [
        "\\begin{equation}\n",
        "\\begin{aligned}\n",
        "\\operatorname{MPL}(K, L) &=\\frac{\\partial F(K, L)}{\\partial L} \\\\\n",
        "\\operatorname{MPK}(K, L) &=\\frac{\\partial F(K, L)}{\\partial K}\n",
        "\\end{aligned}\n",
        "\\end{equation}"
      ]
    },
    {
      "cell_type": "markdown",
      "metadata": {
        "id": "1cCiT0iHBXf_",
        "colab_type": "text"
      },
      "source": [
        "Aplicada as derivadas ao Cobb-Douglas"
      ]
    },
    {
      "cell_type": "markdown",
      "metadata": {
        "id": "68JG-VEeBXh6",
        "colab_type": "text"
      },
      "source": [
        "\\begin{equation}\n",
        "\\begin{array}{l}\n",
        "M P K(K, L)=z \\alpha\\left(\\frac{K}{L}\\right)^{\\alpha-1} \\\\\n",
        "M P L(K, L)=(1-\\alpha) z\\left(\\frac{K}{L}\\right)^{\\alpha}\n",
        "\\end{array}\n",
        "\\end{equation}"
      ]
    },
    {
      "cell_type": "code",
      "metadata": {
        "id": "LI1Y1sQ7Cg87",
        "colab_type": "code",
        "colab": {}
      },
      "source": [
        "def marginal_products(K, L, epsilon):\n",
        "\n",
        "    mpl = (cobb_douglas(K, L + epsilon) - cobb_douglas(K, L)) / epsilon\n",
        "    mpk = (cobb_douglas(K + epsilon, L) - cobb_douglas(K, L)) / epsilon\n",
        "\n",
        "    return mpl, mpk"
      ],
      "execution_count": 0,
      "outputs": []
    },
    {
      "cell_type": "code",
      "metadata": {
        "id": "X35ev00WChQg",
        "colab_type": "code",
        "outputId": "cd44f137-128c-4cbb-953a-a010c3c738ed",
        "colab": {
          "base_uri": "https://localhost:8080/",
          "height": 34
        }
      },
      "source": [
        "mpl, mpk = marginal_products(1.0, 0.5,  1e-4)\n",
        "print(f\"mpl = {mpl}, mpk = {mpk}\")"
      ],
      "execution_count": 0,
      "outputs": [
        {
          "output_type": "stream",
          "text": [
            "mpl = 0.8421711708284096, mpk = 0.20740025904131265\n"
          ],
          "name": "stdout"
        }
      ]
    },
    {
      "cell_type": "markdown",
      "metadata": {
        "id": "ZHKJFp8VGnZz",
        "colab_type": "text"
      },
      "source": [
        "**Pandas**"
      ]
    },
    {
      "cell_type": "code",
      "metadata": {
        "id": "vfwCZs9cGnw7",
        "colab_type": "code",
        "colab": {}
      },
      "source": [
        "!pip install qeds"
      ],
      "execution_count": 0,
      "outputs": []
    },
    {
      "cell_type": "code",
      "metadata": {
        "id": "CE4Na09nGpgB",
        "colab_type": "code",
        "colab": {}
      },
      "source": [
        "import pandas as pd\n",
        "\n",
        "# Don't worry about this line for now!\n",
        "%matplotlib inline\n",
        "# activate plot theme\n",
        "import qeds\n",
        "qeds.themes.mpl_style();"
      ],
      "execution_count": 0,
      "outputs": []
    },
    {
      "cell_type": "code",
      "metadata": {
        "id": "cU_q14QXG0Ak",
        "colab_type": "code",
        "outputId": "b9756109-603e-4219-f950-00a3cbf7e6c2",
        "colab": {
          "base_uri": "https://localhost:8080/",
          "height": 230
        }
      },
      "source": [
        "values = [5.6, 5.3, 4.3, 4.2, 5.8, 5.3, 4.6, 7.8, 9.1, 8., 5.7]\n",
        "years = list(range(1995, 2017, 2))\n",
        "\n",
        "unemp = pd.Series(data=values, index=years, name=\"Unemployment\")\n",
        "unemp"
      ],
      "execution_count": 0,
      "outputs": [
        {
          "output_type": "execute_result",
          "data": {
            "text/plain": [
              "1995    5.6\n",
              "1997    5.3\n",
              "1999    4.3\n",
              "2001    4.2\n",
              "2003    5.8\n",
              "2005    5.3\n",
              "2007    4.6\n",
              "2009    7.8\n",
              "2011    9.1\n",
              "2013    8.0\n",
              "2015    5.7\n",
              "Name: Unemployment, dtype: float64"
            ]
          },
          "metadata": {
            "tags": []
          },
          "execution_count": 10
        }
      ]
    }
  ]
}