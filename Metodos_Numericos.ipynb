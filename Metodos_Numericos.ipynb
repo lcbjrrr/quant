{
  "nbformat": 4,
  "nbformat_minor": 0,
  "metadata": {
    "colab": {
      "name": "Metodos_Numericos.ipynb",
      "provenance": [],
      "collapsed_sections": [],
      "include_colab_link": true
    },
    "kernelspec": {
      "name": "python3",
      "display_name": "Python 3"
    }
  },
  "cells": [
    {
      "cell_type": "markdown",
      "metadata": {
        "id": "view-in-github",
        "colab_type": "text"
      },
      "source": [
        "<a href=\"https://colab.research.google.com/github/lcbjrrr/quant/blob/master/Metodos_Numericos.ipynb\" target=\"_parent\"><img src=\"https://colab.research.google.com/assets/colab-badge.svg\" alt=\"Open In Colab\"/></a>"
      ]
    },
    {
      "cell_type": "code",
      "metadata": {
        "id": "wlpIJnAIBj7J",
        "colab_type": "code",
        "outputId": "6b8491e4-aa22-424f-a967-a2ffe4d72600",
        "colab": {
          "base_uri": "https://localhost:8080/",
          "height": 34
        }
      },
      "source": [
        "print('hello')"
      ],
      "execution_count": 0,
      "outputs": [
        {
          "output_type": "stream",
          "text": [
            "hello\n"
          ],
          "name": "stdout"
        }
      ]
    },
    {
      "cell_type": "markdown",
      "metadata": {
        "id": "icKFESFDzL6-",
        "colab_type": "text"
      },
      "source": [
        "**Este Colab Python esta em branco (não está mais!!!!!!!!!!) propositalmente**"
      ]
    },
    {
      "cell_type": "code",
      "metadata": {
        "id": "q2gbz8AUzMBg",
        "colab_type": "code",
        "colab": {}
      },
      "source": [
        ""
      ],
      "execution_count": 0,
      "outputs": []
    },
    {
      "cell_type": "code",
      "metadata": {
        "id": "dNCzCazZ3rpD",
        "colab_type": "code",
        "colab": {}
      },
      "source": [
        ""
      ],
      "execution_count": 0,
      "outputs": []
    },
    {
      "cell_type": "markdown",
      "metadata": {
        "id": "hXufGNj86qlf",
        "colab_type": "text"
      },
      "source": [
        "# Problemas de \"root finding\"\n",
        "\n",
        "## Método bisection\n",
        "\n",
        "Dada uma função contínua e um intervalo de procura que contém a raíz, o método consiste em iterar divisões deste intervalo, testando se os subintervalos contém a raíz, até encontrá-la.\n",
        "\n",
        "Abaixo, exemplo de implementação:"
      ]
    },
    {
      "cell_type": "code",
      "metadata": {
        "id": "CWQLZWLJ7v8-",
        "colab_type": "code",
        "colab": {}
      },
      "source": [
        "def bisection(f, a, b, max_iter):\n",
        "    \"\"\"\n",
        "    Implementação do método de bisection\n",
        "    ------------------------------------\n",
        "       \n",
        "    Parâmetros:\n",
        "    ----------\n",
        "    f : função para a qual se quer achar a raíz\n",
        "    a: limite inferior\n",
        "    b: limite superior\n",
        "    max_iter: número de iterações\n",
        "\n",
        "    Retorna:\n",
        "    -------\n",
        "    O ponto no qual f(x) =~ 0\n",
        "    \n",
        "    \"\"\"\n",
        "    \n",
        "    # se zero não parece estar contido dentro do intervalo, aborta\n",
        "    if f(a) * f(b) >= 0:\n",
        "        print(\"f(a) * f(b) >= 0, abortando.\")\n",
        "        return None\n",
        "\n",
        "    # começa iteração, testando se zero está dentro dos intervalos testados\n",
        "    for i in range(1, max_iter + 1):\n",
        "        # calcula middle point em torno do intervalo\n",
        "        mp = (a + b) / 2\n",
        "        f_mp = f(mp)\n",
        "\n",
        "        if f(a) * f_mp < 0:\n",
        "            b = mp\n",
        "\n",
        "        elif f(b) * f_mp < 0:\n",
        "            a = mp\n",
        "\n",
        "        # solução exata encontrada, não precisa continuar iterando\n",
        "        elif f_mp == 0:\n",
        "            print(\"Solução exata encontrada:\")\n",
        "            return mp\n",
        "\n",
        "    # retorna aproximação se atingir max_iter, não encontrando solução exata\n",
        "    print(\"Solução aproximada:\")\n",
        "    return (a + b) / 2"
      ],
      "execution_count": 0,
      "outputs": []
    },
    {
      "cell_type": "markdown",
      "metadata": {
        "id": "9d5CGc7f8CPR",
        "colab_type": "text"
      },
      "source": [
        "Como exemplo do uso do método, vamos considerar a seguinte função:\n",
        "\n",
        "$b(x) = e^x - e^{3.1415}$\n",
        "\n",
        "Aplicando o método:"
      ]
    },
    {
      "cell_type": "code",
      "metadata": {
        "id": "wrKR5CLZ8kGg",
        "colab_type": "code",
        "outputId": "b6c4cd2c-6d5b-4b8f-e957-c837a666b051",
        "colab": {
          "base_uri": "https://localhost:8080/",
          "height": 51
        }
      },
      "source": [
        "from numpy import exp\n",
        "\n",
        "f = lambda x: exp(x) - exp(3.1415)\n",
        "\n",
        "print(bisection(f, 0, 4, 100))"
      ],
      "execution_count": 0,
      "outputs": [
        {
          "output_type": "stream",
          "text": [
            "Solução exata encontrada:\n",
            "3.1415\n"
          ],
          "name": "stdout"
        }
      ]
    },
    {
      "cell_type": "markdown",
      "metadata": {
        "id": "ruPCSmNG5tOi",
        "colab_type": "text"
      },
      "source": [
        "Obs: essa notação de lambda é uma versão reduzida de uma função tradicional/usual em python como *def f(x):*. \n",
        "\n",
        "Assim, o mesmo código poderia ser: "
      ]
    },
    {
      "cell_type": "code",
      "metadata": {
        "id": "v-U12hK66CCE",
        "colab_type": "code",
        "outputId": "f3e78174-bdb6-46c9-c867-785fd0489f2a",
        "colab": {
          "base_uri": "https://localhost:8080/",
          "height": 51
        }
      },
      "source": [
        "from numpy import exp\n",
        "\n",
        "def ff(x): \n",
        "  return exp(x) - exp(3.1415)\n",
        "\n",
        "print(bisection(ff, 0, 4, 100))"
      ],
      "execution_count": 0,
      "outputs": [
        {
          "output_type": "stream",
          "text": [
            "Solução exata encontrada:\n",
            "3.1415\n"
          ],
          "name": "stdout"
        }
      ]
    },
    {
      "cell_type": "markdown",
      "metadata": {
        "id": "zn5EfwQ9-Nrn",
        "colab_type": "text"
      },
      "source": [
        "## Método de Newton\n",
        "\n",
        "*TODO: breve explicação do método.*\n",
        "\n",
        "Abaixo, exemplo de implementação:"
      ]
    },
    {
      "cell_type": "code",
      "metadata": {
        "id": "jimVydub-0ie",
        "colab_type": "code",
        "colab": {}
      },
      "source": [
        "import sys\n",
        "\n",
        "def newton(f, df, x0, epsilon, max_iter):\n",
        "    \"\"\"\n",
        "    Implementação do método de Newton para encontrar raízes de funções\n",
        "    -------------------------------------------------------------------\n",
        "\n",
        "    Parâmetros:\n",
        "    ----------\n",
        "    f: função a ser analisada\n",
        "    df: primeira derivada de f(x)\n",
        "    x0: chute inicial\n",
        "    epsilon: tolerância\n",
        "    max_iter: número máximo de iterações\n",
        "\n",
        "    Retorna:\n",
        "    -------\n",
        "    O ponto no qual f(x) =~ 0\n",
        "\n",
        "    \"\"\"\n",
        "\n",
        "    for n in range(1, max_iter):\n",
        "        f_x = f(x0)\n",
        "\n",
        "        # se condição de convergência satisfeita, achou solução aproximada\n",
        "        if abs(f_x) < epsilon:\n",
        "            print(\"Solução encontrada após \", n, \" iterações.\")\n",
        "            return(x0)\n",
        "\n",
        "        df_x = df(x0)\n",
        "        \n",
        "        # tenta dividir f_x/df_x, gerando erro caso a derivada seja zero\n",
        "        try:\n",
        "            x0 = x0 - f_x/df_x\n",
        "        except ZeroDivisionError:\n",
        "            print(\"Derivada igual a zero, abortando!\")\n",
        "            sys.exit(1)\n",
        "\n",
        "    print(\"Solução não encontrada, max_iter excedido.\")\n",
        "    return \"Solução não encontrada\""
      ],
      "execution_count": 0,
      "outputs": []
    },
    {
      "cell_type": "markdown",
      "metadata": {
        "id": "KKUPcRZy_CKi",
        "colab_type": "text"
      },
      "source": [
        "Como exemplo do uso do método, vamos considerar a seguinte função:\n",
        "\n",
        "$y(x) = x^{-5} - x^{-3}  - 3.1415$\n",
        "\n",
        "Primeiro, plotamos a função:\n",
        "\n"
      ]
    },
    {
      "cell_type": "code",
      "metadata": {
        "id": "V0OEjUThAOtl",
        "colab_type": "code",
        "outputId": "8a35a874-6f86-47ad-af8b-ea648428689a",
        "colab": {
          "base_uri": "https://localhost:8080/",
          "height": 295
        }
      },
      "source": [
        "import matplotlib.pyplot as plt\n",
        "import numpy as np\n",
        "\n",
        "# definindo a função y(x) e sua derivada\n",
        "y = lambda x: x ** (-5) - x ** (-3) - 3.1415\n",
        "dy = lambda x: - 5 * x ** (-6) + 3 ** (-4)\n",
        "\n",
        "# gerando grid equidistante para o eixo x do gráfico\n",
        "x = np.linspace(0.6, 10, 100)\n",
        "y_ = y(x)\n",
        "\n",
        "# criando o gráfico de D(X)\n",
        "plt.plot(x, y_)\n",
        "plt.title('y(x) com x = [0.6, 10]')\n",
        "plt.xlabel('x')\n",
        "plt.ylabel('y(x)')\n",
        "plt.grid(alpha=.3, linestyle='--')\n",
        "plt.show()"
      ],
      "execution_count": 0,
      "outputs": [
        {
          "output_type": "display_data",
          "data": {
            "image/png": "[encoded data removed]",
            "text/plain": [
              "<Figure size 432x288 with 1 Axes>"
            ]
          },
          "metadata": {
            "tags": [],
            "needs_background": "light"
          }
        }
      ]
    },
    {
      "cell_type": "markdown",
      "metadata": {
        "id": "smrQeSgKANdG",
        "colab_type": "text"
      },
      "source": [
        "Do gráfico, um bom chute inicial parece ser x = 1.\n",
        "\n",
        "Com o chute inicial definido, aplicamos o método:"
      ]
    },
    {
      "cell_type": "code",
      "metadata": {
        "id": "mky9m_37_bk6",
        "colab_type": "code",
        "outputId": "4d2e853f-56cd-42a5-e512-0ebd128ad0a8",
        "colab": {
          "base_uri": "https://localhost:8080/",
          "height": 51
        }
      },
      "source": [
        "import numpy as np\n",
        "\n",
        "# parâmetros do processo de otimização\n",
        "tol = 1e-10\n",
        "max_iter = 10**10\n",
        "\n",
        "# do gráfico, um bom chute inicial parece ser 0.7\n",
        "print(newton(y, dy, 1, tol, max_iter))"
      ],
      "execution_count": 0,
      "outputs": [
        {
          "output_type": "stream",
          "text": [
            "Solução encontrada após  27  iterações.\n",
            "0.6964929860426182\n"
          ],
          "name": "stdout"
        }
      ]
    },
    {
      "cell_type": "markdown",
      "metadata": {
        "id": "iMLJ8ILy6bdU",
        "colab_type": "text"
      },
      "source": [
        "Alguns desses métodos já estão obviamente encapsulados em bibliotecas, não precisando ser implementados do zero, igual fizemos, para fins didáticos, à cima. \n",
        "\n",
        "Exemplo do método de Bisection utilizando a biblioteca *scipy*:"
      ]
    },
    {
      "cell_type": "code",
      "metadata": {
        "id": "mLdXEsDZ6kvm",
        "colab_type": "code",
        "outputId": "adb0c6ee-f8a3-4436-e97d-639a2683b4f4",
        "colab": {
          "base_uri": "https://localhost:8080/",
          "height": 103
        }
      },
      "source": [
        "import scipy.optimize as opt\n",
        "\n",
        "def yy(x): \n",
        "  return x ** (-5) - x ** (-3) - 3.1415\n",
        "\n",
        "def dyy(x): \n",
        "  return -5 * x ** (-6) + 3 ** (-4)\n",
        "\n",
        "raiz = opt.root_scalar(yy , bracket=[0.1, 4], method='bisect')\n",
        "print(raiz)"
      ],
      "execution_count": 0,
      "outputs": [
        {
          "output_type": "stream",
          "text": [
            "      converged: True\n",
            "           flag: 'converged'\n",
            " function_calls: 43\n",
            "     iterations: 41\n",
            "           root: 0.6964929860419489\n"
          ],
          "name": "stdout"
        }
      ]
    },
    {
      "cell_type": "markdown",
      "metadata": {
        "id": "Ww_XDSyybhQK",
        "colab_type": "text"
      },
      "source": [
        "E, abaixo, do método de Newton:"
      ]
    },
    {
      "cell_type": "code",
      "metadata": {
        "id": "JABlgho2bjkQ",
        "colab_type": "code",
        "outputId": "498f0d82-8c28-46d5-b213-76534e54b510",
        "colab": {
          "base_uri": "https://localhost:8080/",
          "height": 103
        }
      },
      "source": [
        "import scipy.optimize as opt\n",
        "\n",
        "def yy(x): \n",
        "  return x ** (-5) - x ** (-3) - 3.1415\n",
        "\n",
        "def dyy(x): \n",
        "  return -5 * x ** (-6) + 3 ** (-4)\n",
        "\n",
        "raiz = opt.root_scalar(yy , fprime=dyy, x0=1, method='newton')\n",
        "print(raiz)"
      ],
      "execution_count": 0,
      "outputs": [
        {
          "output_type": "stream",
          "text": [
            "      converged: True\n",
            "           flag: 'converged'\n",
            " function_calls: 38\n",
            "     iterations: 19\n",
            "           root: 0.6964929802155978\n"
          ],
          "name": "stdout"
        }
      ]
    },
    {
      "cell_type": "markdown",
      "metadata": {
        "id": "NYG5nXHI9_8L",
        "colab_type": "text"
      },
      "source": [
        "# Maximização de uma função de Cobb-Douglas com restrição"
      ]
    },
    {
      "cell_type": "markdown",
      "metadata": {
        "id": "ElYLOJKD-bov",
        "colab_type": "text"
      },
      "source": [
        "\\begin{equation*}\n",
        "\\begin{aligned}\n",
        "& \\underset{K,L}{\\text{maximize}}\n",
        "& bL^{\\alpha}K^{1-\\alpha} & \\\\\n",
        "& \\text{sujeito a}\n",
        "&  mL+nK & = p.\n",
        "\\end{aligned}\n",
        "\\end{equation*}\n"
      ]
    },
    {
      "cell_type": "markdown",
      "metadata": {
        "id": "riYAofEwBGBT",
        "colab_type": "text"
      },
      "source": [
        "Definindo as funções:\n",
        "\\begin{equation*}\n",
        "\\begin{aligned}\n",
        "P(K,L)&=& bL^{\\alpha}K^{1-\\alpha}\\\\\n",
        "g(K,L)&=&mL+nK.\n",
        "\\end{aligned}\n",
        "\\end{equation*}\n",
        "O lagrangeano é definido como:\n",
        "\\begin{equation*}\n",
        "\\begin{aligned}\n",
        "\\ell(K,L)&=&P(K,L)-\\lambda g(K,L)\\\\\n",
        "\\ell(K,L)&=& bL^{\\alpha}K^{1-\\alpha} -\\lambda (mL+nK) \\\\\n",
        "\\end{aligned}\n",
        "\\end{equation*}\n",
        "\n",
        "Calculando os gradiente e rescrevendo a equação $\\nabla P=\\lambda \\nabla g$ implicando nas igualdades:\n",
        "\n",
        "\\begin{equation}\n",
        "\\begin{aligned}\n",
        "P_k&=&b(1-\\alpha)L^\\alpha K^{-\\alpha}&=&b(1-\\alpha)\\frac{L^\\alpha}{K^\\alpha}&=&\\lambda n&=&\\lambda g_K \\\\ \n",
        "P_L&=&b\\alpha L^{\\alpha-1} K^{1-\\alpha}&=&b\\alpha\\frac{L^{\\alpha-1}}{K^{\\alpha-1}}&=&b\\alpha\\frac{L^{\\alpha}}{K^{\\alpha}}\\frac{K}{L}&=&\\lambda m&=&\\lambda g_L\\\\ \n",
        "\\end{aligned}\n",
        "\\end{equation}\n",
        "dividindo as equações    \n",
        "\\begin{equation}\n",
        "\\begin{aligned}\n",
        "\\frac{b(1-\\alpha)\\frac{L^\\alpha}{K^\\alpha}}{b\\alpha\\frac{L^{\\alpha}}{K^{\\alpha}}\\frac{K}{L}}&=&\\frac{\\lambda n}{\\lambda m} \\\\ \n",
        "\\frac{(1-\\alpha)L}{\\alpha K}&=&\\frac{n}{m} \\\\ \n",
        "\\end{aligned}\n",
        "\\end{equation}\n",
        "usando a restrição do problema de otimização e dividindo por $m$,\n",
        "\\begin{equation}\n",
        "\\begin{aligned}\n",
        "mL+nK&=&p \\\\ \n",
        "L+\\frac{n}{m}K&=&\\frac{p}{m} \\\\ \n",
        "L+\\frac{(1-\\alpha)L}{\\alpha K}K&=&\\frac{p}{m} \\\\\n",
        "L+\\frac{(1-\\alpha)L}{\\alpha}&=&\\frac{p}{m} \\\\ \n",
        "\\frac{\\alpha L+(1-\\alpha)L}{\\alpha}&=&\\frac{p}{m} \\\\\n",
        "\\frac{L}{\\alpha}&=&\\frac{p}{m} \\\\\n",
        "L&=&\\alpha\\frac{p}{m} \\\\\n",
        "\\end{aligned}\n",
        "\\end{equation}\n",
        "Assim, a produção máxima ocorre para os seguintes valores\n",
        "\\begin{equation}\n",
        "\\begin{aligned}\n",
        "K&=&\\frac{(1-\\alpha)p}{n} \\\\\n",
        "L&=&\\frac{\\alpha p}{m} \\\\\n",
        "\\end{aligned}\n",
        "\\end{equation}"
      ]
    },
    {
      "cell_type": "code",
      "metadata": {
        "id": "gjKZZPJ5Siug",
        "colab_type": "code",
        "outputId": "225e0f58-9325-47bf-9919-fc60d74b9c2e",
        "colab": {
          "base_uri": "https://localhost:8080/",
          "height": 68
        }
      },
      "source": [
        "from scipy.optimize import minimize_scalar\n",
        "\n",
        "b = 1\n",
        "alpha = 1/3\n",
        "def utilidade(K, L):\n",
        "  return b * L**alpha * K**(1 - alpha)\n",
        "\n",
        "def restricao_isolando_K(L, p, n):\n",
        "  return (p - L) / n\n",
        "\n",
        "def f_objetivo(L,  p=20, n=2):\n",
        "    K = restricao_isolando_K(L, p, n)\n",
        "    return -utilidade(K, L)\n",
        "\n",
        "result = minimize_scalar(f_objetivo)\n",
        "L = result.x\n",
        "print('L', L)\n",
        "K = restricao_isolando_K(L, p=20, n=2)\n",
        "print('K' , K)\n",
        "U = utilidade(K,L)\n",
        "print('U', U)"
      ],
      "execution_count": 0,
      "outputs": [
        {
          "output_type": "stream",
          "text": [
            "L 6.666666738696083\n",
            "K 6.666666630651958\n",
            "U 6.666666666666667\n"
          ],
          "name": "stdout"
        }
      ]
    },
    {
      "cell_type": "markdown",
      "metadata": {
        "id": "ywJkpX7XSi9I",
        "colab_type": "text"
      },
      "source": [
        "Variando o n (multiplicador de K) ...\n"
      ]
    },
    {
      "cell_type": "code",
      "metadata": {
        "id": "RRLt7gRJSjF9",
        "colab_type": "code",
        "outputId": "e558cd55-5399-48d8-d88c-69dffae9a0f4",
        "colab": {
          "base_uri": "https://localhost:8080/",
          "height": 296
        }
      },
      "source": [
        "import numpy as np\n",
        "import matplotlib.pyplot as plt\n",
        "\n",
        "#n originalmente 2, agora analisamos variando de 0,1 a 2.5\n",
        "ns = np.linspace(0.5, 5, 50)\n",
        "p = 20\n",
        "\n",
        "# Create lists to store the results of the optimal A and B calculation\n",
        "Ks = []\n",
        "Ls = []\n",
        "for n in ns:\n",
        "    result = minimize_scalar(f_objetivo, args=(p,n))\n",
        "    l = result.x\n",
        "    Ls.append(l)\n",
        "    Ks.append(restricao_isolando_K(l, p, n))\n",
        "\n",
        "fig, ax = plt.subplots()\n",
        "\n",
        "ax.plot(ns, Ks, label=\"(K)apital\")\n",
        "ax.plot(ns, Ls, label=\"(L)abor\")\n",
        "ax.set_xlabel(\"n (multiplicador de K)\")\n",
        "ax.legend()"
      ],
      "execution_count": 0,
      "outputs": [
        {
          "output_type": "execute_result",
          "data": {
            "text/plain": [
              "<matplotlib.legend.Legend at 0x7fb575915908>"
            ]
          },
          "metadata": {
            "tags": []
          },
          "execution_count": 11
        },
        {
          "output_type": "display_data",
          "data": {
            "image/png": "[encoded data removed]",
            "text/plain": [
              "<Figure size 432x288 with 1 Axes>"
            ]
          },
          "metadata": {
            "tags": [],
            "needs_background": "light"
          }
        }
      ]
    },
    {
      "cell_type": "markdown",
      "metadata": {
        "id": "u_b6nML2UCNh",
        "colab_type": "text"
      },
      "source": [
        "# Introdução a Equações Diferenciais Ordinárias (EDO)  numéricas.\n",
        "\n"
      ]
    },
    {
      "cell_type": "markdown",
      "metadata": {
        "id": "nevv2w80fFgV",
        "colab_type": "text"
      },
      "source": [
        "Nesta seção temos o objetivo de resolver Equações Diferencias de primira Ordem,\n",
        "\\begin{equation}\n",
        "\\frac{dy}{dt}= f(t, y). \\tag{EDO}\n",
        "\\end{equation}"
      ]
    },
    {
      "cell_type": "markdown",
      "metadata": {
        "id": "AIW2vOehUqQo",
        "colab_type": "text"
      },
      "source": [
        "Seja a expansão em série de Taylor de uma funcão $y(x)$ com a regularidade necessária, isto é, a função diferenciável em $x$, então\n",
        "\\begin{equation}\n",
        "y(x+h) = y(x) + \\left.\\frac{dy}{dx}\\right|_x h +  \\frac{1}{2!}\\left.\\frac{dy^2}{dx^2}\\right|_x h^2+\\frac{1}{3!}\\left.\\frac{dy^3}{dx^3}\\right|_x h^3+\\frac{1}{4!}\\left.\\frac{dy^4}{dx^4}\\right|_x h^4+\\dots+o(h^n)+\\dots \\tag{1}\n",
        "\\end{equation} "
      ]
    },
    {
      "cell_type": "markdown",
      "metadata": {
        "id": "FdqqZtPlaaSG",
        "colab_type": "text"
      },
      "source": [
        "## Método de Euler"
      ]
    },
    {
      "cell_type": "markdown",
      "metadata": {
        "id": "O6-teOj1aipG",
        "colab_type": "text"
      },
      "source": [
        "Reescrevando a expansão de Taylor (1),\n",
        "\\begin{equation}\n",
        "y(x+h) - y(x) =h\\left( \\left.\\frac{dy}{dx}\\right|_x  +  \\frac{1}{2!}\\left.\\frac{d^2y}{dx^2}\\right|_x h+\\frac{1}{3!}\\left.\\frac{dy^3}{dx^3}\\right|_x h^2+\\frac{1}{4!}\\left.\\frac{dy^4}{dx^4}\\right|_x h^3+\\dots+o(h^{n-1})+\\dots \\tag{2}\\right.\n",
        "\\end{equation}\n",
        "\\begin{equation}\n",
        "\\frac{y(x+h) - y(x)}{h} =\\left.\\frac{dy}{dx}\\right|_x  +  \\frac{1}{2!}\\left.\\frac{d^2y}{dx^2}\\right|_x h+\\frac{1}{3!}\\left.\\frac{dy^3}{dx^3}\\right|_x h^2+\\frac{1}{4!}\\left.\\frac{dy^4}{dx^4}\\right|_x h^3+\\dots+o(h^{n-1})+\\dots \\tag{3}\n",
        "\\end{equation}\n"
      ]
    },
    {
      "cell_type": "markdown",
      "metadata": {
        "id": "gnzVC0ZLeZ-x",
        "colab_type": "text"
      },
      "source": [
        "Podemos considerar uma aproximação para a derivada primira como,\n",
        "\\begin{equation}\n",
        "\\frac{dy}{dx}  = \\frac{y(x+h) - y(x)}{h} +o(h), \\tag{4}\n",
        "\\end{equation}\n",
        "Retomando a (EDO) e usando (4) teremos\n",
        "\\begin{equation}\n",
        "\\frac{y(x+h) - y(x)}{h} = f(t,y), \\tag{5}\n",
        "\\end{equation}\n",
        "realizando o algebrismo necessário encontramos o método de Euler\n",
        "\\begin{equation}\n",
        "y(x+h) = y(x) + hf(t,y). \\tag{6}\n",
        "\\end{equation}\n",
        "\n",
        "Considerando o tempo discreto com passo $h$ teremos\n",
        "\\begin{equation}\n",
        "y_{i+1} = y_i + hf(t_i,y_i). \\tag{Método de Euler}\n",
        "\\end{equation}\n",
        "note que desprezamos o termo $o(h)$ na aproximação da derivada, desta maneira podemos afirmar que realizamos uma aproximação de ordem 1. \n"
      ]
    },
    {
      "cell_type": "markdown",
      "metadata": {
        "id": "YDiv2MtIUc8q",
        "colab_type": "text"
      },
      "source": [
        "Definimos as seguintes funções. "
      ]
    },
    {
      "cell_type": "code",
      "metadata": {
        "id": "4T23iuMYU3A7",
        "colab_type": "code",
        "colab": {}
      },
      "source": [
        "def fun1_2d(t, y):\n",
        "    fun1 = t - y + 2.0\n",
        "    return fun1\n",
        "def fun2_2d(t, y):\n",
        "    fun2 = y - t**2 + 1;\n",
        "    return fun2\n",
        "def fun3_2d(t, y):\n",
        "    fun3 = t * exp(3*t) - 2 * y\n",
        "    return fun3\n",
        "def fun4_2d(t, y):\n",
        "    fun4 = 2 * y / t + t**2 * exp(t)\n",
        "    return fun4  \n",
        "\n",
        "def fun_solow(t, y):\n",
        "    s = 0.4\n",
        "    A = 1\n",
        "    alpha = 0.3\n",
        "    delta = 0.1\n",
        "    n = 0.01\n",
        "    fun_solow = s * A * y**alpha - (delta +n) * y;\n",
        "    return fun_solow   "
      ],
      "execution_count": 0,
      "outputs": []
    },
    {
      "cell_type": "code",
      "metadata": {
        "colab_type": "code",
        "id": "j-BXbgb6vjES",
        "colab": {}
      },
      "source": [
        "def sol1_exata_pvi(t):\n",
        "    sol1 = exp(-t) + t + 1.0\n",
        "    return sol1\n",
        "def sol2_exata_pvi(t):\n",
        "    sol2 = (t + 1)**2 - 0.5 * exp(t)\n",
        "    return sol2\n",
        "def sol3_exata_pvi(t):\n",
        "    sol3 = t * t * (exp(t) - exp(1))\n",
        "    return sol3\n",
        "def sol4_exata_pvi(t):\n",
        "    sol4 = 0.2 * t * exp(3*t) - 0.04 * exp(3*t) + 0.04 * exp(-2*t)\n",
        "    return sol4    \n",
        "def sol_solow(t):\n",
        "    s = 0.4\n",
        "    A = 1\n",
        "    alpha = 0.3\n",
        "    delta = 0.1\n",
        "    n = 0.01  \n",
        "    k0 = 10\n",
        "    sol_solow = (A * s / (n + delta) + (k0**(1.0 - alpha) - A * s / (n + delta) ) * exp((alpha - 1.0) * (n + delta) * t))**(1.0 / (1.0 - alpha))\n",
        "    return sol_solow"
      ],
      "execution_count": 0,
      "outputs": []
    },
    {
      "cell_type": "code",
      "metadata": {
        "colab_type": "code",
        "id": "CBE4uwt2XfhI",
        "outputId": "296425ec-2832-45c8-b5d2-b0e69cecb43f",
        "colab": {
          "base_uri": "https://localhost:8080/",
          "height": 329
        }
      },
      "source": [
        "import numpy as np\n",
        "from numpy import exp\n",
        "import matplotlib.pyplot as plt\n",
        "\n",
        "a = 0\n",
        "b = 1\n",
        "n = 256\n",
        "h = (b - a) / n\n",
        "t      = np.linspace(0, 0, n + 1)\n",
        "y      = np.linspace(0, 0, n + 1)\n",
        "sol_ex = np.linspace(0, 0, n + 1)\n",
        "erro   = np.linspace(0, 0, n + 1)\n",
        "for i in range(0, n + 1):\n",
        "\tt[i] = a + i * h\n",
        "y[0] = sol2_exata_pvi(t[0])\n",
        "print(y[0])\n",
        "for i in range(1, n + 1):\n",
        "\ty[i] = y[i - 1] + h * fun2_2d(t[i - 1], y[i - 1])\n",
        "for i in range(0, n + 1):\n",
        "\tsol_ex[i] = sol2_exata_pvi(t[i])\n",
        "erro = abs(y - sol_ex)\n",
        "erro_max = max(erro)\n",
        "print(erro_max)\n",
        "# Plot\n",
        "plt.plot(t,erro )\n",
        "plt.title('Erro')\n",
        "plt.xlabel('t')\n",
        "plt.ylabel('y(t)')\n",
        "plt.grid(alpha=.3, linestyle='--')\n",
        "plt.show()"
      ],
      "execution_count": 0,
      "outputs": [
        {
          "output_type": "stream",
          "text": [
            "0.5\n",
            "0.004046271429433368\n"
          ],
          "name": "stdout"
        },
        {
          "output_type": "display_data",
          "data": {
            "image/png": "[encoded data removed]",
            "text/plain": [
              "<Figure size 432x288 with 1 Axes>"
            ]
          },
          "metadata": {
            "tags": [],
            "needs_background": "light"
          }
        }
      ]
    },
    {
      "cell_type": "code",
      "metadata": {
        "id": "8nrC8j5-1Zx1",
        "colab_type": "code",
        "outputId": "ac31acca-aa8f-4f54-8403-0059300615a7",
        "colab": {
          "base_uri": "https://localhost:8080/",
          "height": 265
        }
      },
      "source": [
        "plt.subplot()\n",
        "plt.plot(t,y)\n",
        "plt.plot(t, sol_ex)\n",
        "plt.show()"
      ],
      "execution_count": 0,
      "outputs": [
        {
          "output_type": "display_data",
          "data": {
            "image/png": "[encoded data removed]",
            "text/plain": [
              "<Figure size 432x288 with 1 Axes>"
            ]
          },
          "metadata": {
            "tags": [],
            "needs_background": "light"
          }
        }
      ]
    },
    {
      "cell_type": "code",
      "metadata": {
        "id": "mMUAgh6ZozX9",
        "colab_type": "code",
        "outputId": "e664d883-bf01-49e1-b068-74388642df9f",
        "colab": {
          "base_uri": "https://localhost:8080/",
          "height": 265
        }
      },
      "source": [
        "import numpy as np\n",
        "from scipy.integrate import odeint\n",
        "import matplotlib.pyplot as plt\n",
        "\n",
        "\n",
        "y0 = 0.5\n",
        "t = np.linspace(0,1,256)\n",
        "y = odeint(fun2_2d,y0,t)\n",
        "\n",
        "plt.plot(t,y)\n",
        "plt.show()"
      ],
      "execution_count": 0,
      "outputs": [
        {
          "output_type": "display_data",
          "data": {
            "image/png": "[encoded data removed]",
            "text/plain": [
              "<Figure size 432x288 with 1 Axes>"
            ]
          },
          "metadata": {
            "tags": [],
            "needs_background": "light"
          }
        }
      ]
    },
    {
      "cell_type": "markdown",
      "metadata": {
        "id": "Vg7VSg5_rnjg",
        "colab_type": "text"
      },
      "source": [
        "Na tabela mostramos o erro calculando a norma do máximo entre a solução exata e solução aproximada para cada partição $n$. Duplicamos o $n$ com objetivo de conhecer a razão entre dois erro consecutivos."
      ]
    },
    {
      "cell_type": "markdown",
      "metadata": {
        "colab_type": "text",
        "id": "otY0n8s_p-30"
      },
      "source": [
        "Dimensão | Euler | Razão\n",
        "--- | --- | ---\n",
        "n=16  |  0.06219386553919026  |   ****\n",
        "n=32  |  0.03176009200263774  |   1.9582\n",
        "n=64  |  0.016052576936856244 |   1.9785\n",
        "n=128 |  0.00807030670580211  |   1,9890\n",
        "n=256 |  0.004046271429433368 |   1,9945"
      ]
    },
    {
      "cell_type": "markdown",
      "metadata": {
        "id": "nYrcMLZZt9PC",
        "colab_type": "text"
      },
      "source": [
        "Observando os dados podemos concluir que o método realmente é de ordem $1$, isto é, aumentando o $n$ em duas vezes, a razão entre erros consecutivos converge para dois. É importante notar que esse fato nos mostra uma maneira de validar nosso código."
      ]
    },
    {
      "cell_type": "markdown",
      "metadata": {
        "id": "_rTsrO7tqUE0",
        "colab_type": "text"
      },
      "source": [
        "## Método de Euler Modifiacado"
      ]
    },
    {
      "cell_type": "code",
      "metadata": {
        "id": "VFd2NgxyqlJE",
        "colab_type": "code",
        "outputId": "3da557a0-0431-4a91-fbab-6d05ad161847",
        "colab": {
          "base_uri": "https://localhost:8080/",
          "height": 312
        }
      },
      "source": [
        "a = 0\n",
        "b = 1\n",
        "n = 256\n",
        "h = (b - a) / n\n",
        "t      = np.linspace(0, 0, n + 1)\n",
        "y      = np.linspace(0, 0, n + 1)\n",
        "sol_ex = np.linspace(0, 0, n + 1)\n",
        "erro   = np.linspace(0, 0, n + 1)\n",
        "for i in range(0, n + 1):\n",
        "\tt[i] = a + i * h\n",
        "y[0] = sol2_exata_pvi(t[0])\n",
        "for i in range(1, n + 1):\n",
        "  #introduzido k1 e k2\n",
        "  k1 = fun2_2d(t[i - 1], y[i - 1])\n",
        "  k2 = fun2_2d(t[i - 1] + h, y[i - 1] + h * k1)\n",
        "  y[i] = y[i - 1] + 0.5 * h * (k1 + k2)\n",
        "for i in range(0, n + 1):\n",
        "\tsol_ex[i] = sol2_exata_pvi(t[i])\n",
        "erro = abs(y - sol_ex)\n",
        "erro_max = max(erro)\n",
        "print(erro_max)\n",
        "# Plot\n",
        "plt.plot(t, erro)\n",
        "plt.title('Erro')\n",
        "plt.xlabel('t')\n",
        "plt.ylabel('y(t)')\n",
        "plt.grid(alpha=.3, linestyle='--')\n",
        "plt.show()"
      ],
      "execution_count": 0,
      "outputs": [
        {
          "output_type": "stream",
          "text": [
            "9.637483867397378e-06\n"
          ],
          "name": "stdout"
        },
        {
          "output_type": "display_data",
          "data": {
            "image/png": "[encoded data removed]",
            "text/plain": [
              "<Figure size 432x288 with 1 Axes>"
            ]
          },
          "metadata": {
            "tags": [],
            "needs_background": "light"
          }
        }
      ]
    },
    {
      "cell_type": "markdown",
      "metadata": {
        "id": "MzPKb3fRxRq4",
        "colab_type": "text"
      },
      "source": [
        "Na tabela mostramos o erro calculando a norma do máximo entre a solução exata e solução aproximada para cada partição  n . Duplicamos o  n  com objetivo de conhecer a razão entre dois erro consecutivos."
      ]
    },
    {
      "cell_type": "markdown",
      "metadata": {
        "id": "pImZZNfyuUUz",
        "colab_type": "text"
      },
      "source": [
        "Dimensão | Euler | Razão\n",
        "--- | --- | ---\n",
        "n=16  |    0.0024069711034573338  |   ****\n",
        "n=32  |  0.000609812026944212   | 3,947070   \n",
        "n=64  |  0.00015345353296147834 | 3,973919\n",
        "n=128 |  3.848785725635295e-05  | 3.987064 \n",
        "n=256 |  9.637483867397378e-06  | 3.993559 "
      ]
    },
    {
      "cell_type": "markdown",
      "metadata": {
        "id": "OcO5e_NLxbpz",
        "colab_type": "text"
      },
      "source": [
        "Observando os dados podemos concluir que o método realmente é de ordem $2$, isto é, aumentando o $n$ em duas vezes, a razão entre erros consecutivos converge para quatro. É importante notar que esse fato nos mostra uma maneira de validar nosso código."
      ]
    },
    {
      "cell_type": "markdown",
      "metadata": {
        "id": "GyyBjRtB0cr9",
        "colab_type": "text"
      },
      "source": [
        "## Método do ponto médio (Runge Kutta de ordem 2)"
      ]
    },
    {
      "cell_type": "code",
      "metadata": {
        "id": "9pMu6eoe0skv",
        "colab_type": "code",
        "outputId": "d19481ac-2745-4fbe-ddb7-0b27fd20c483",
        "colab": {
          "base_uri": "https://localhost:8080/",
          "height": 312
        }
      },
      "source": [
        "a = 0\n",
        "b = 1\n",
        "n = 256\n",
        "h = (b - a) / n\n",
        "t      = np.linspace(0, 0, n + 1)\n",
        "y      = np.linspace(0, 0, n + 1)\n",
        "sol_ex = np.linspace(0, 0, n + 1)\n",
        "erro   = np.linspace(0, 0, n + 1)\n",
        "for i in range(0, n + 1):\n",
        "\tt[i] = a + i * h\n",
        "y[0] = sol2_exata_pvi(t[0])\n",
        "for i in range(1, n + 1):\n",
        "  #alterado o calculo de k1 e k2\n",
        "  k1 = fun2_2d(t[i - 1], y[i - 1])\n",
        "  k2 = fun2_2d(t[i - 1] + 0.5 * h, y[i - 1] + 0.5 * h * k1)\n",
        "  y[i] = y[i - 1] + h * k2\n",
        "for i in range(0, n + 1):\n",
        "\tsol_ex[i] = sol2_exata_pvi(t[i])\n",
        "erro = abs(y - sol_ex)\n",
        "erro_max = max(erro)\n",
        "print(erro_max)\n",
        "# Plot\n",
        "plt.plot(t, erro)\n",
        "plt.title('Erro')\n",
        "plt.xlabel('t')\n",
        "plt.ylabel('y(t)')\n",
        "plt.grid(alpha=.3, linestyle='--')\n",
        "plt.show()"
      ],
      "execution_count": 0,
      "outputs": [
        {
          "output_type": "stream",
          "text": [
            "3.0955623593342807e-06\n"
          ],
          "name": "stdout"
        },
        {
          "output_type": "display_data",
          "data": {
            "image/png": "[encoded data removed]",
            "text/plain": [
              "<Figure size 432x288 with 1 Axes>"
            ]
          },
          "metadata": {
            "tags": [],
            "needs_background": "light"
          }
        }
      ]
    },
    {
      "cell_type": "markdown",
      "metadata": {
        "id": "9yBeOpmV1N6u",
        "colab_type": "text"
      },
      "source": [
        "Na tabela mostramos o erro calculando a norma do máximo entre a solução exata e solução aproximada para cada partição n . Duplicamos o n com objetivo de conhecer a razão entre dois erro consecutivos.\n",
        "\n",
        "Dimensão | Euler | Razão\n",
        "--- | --- | ---\n",
        "n=16  |  0.0007814090556594877 |   ****\n",
        "n=32  |  0.00019686739377489104 |  3.969215  \n",
        "n=64  |  4.9397542677187545e-05 | 3.985368\n",
        "n=128 | 1.237139418686084e-05   | 3.992884 \n",
        "n=256 |  3.0955623593342807e-06 | 3.996493\n",
        "\n",
        "Observando os dados podemos concluir que o método realmente é de ordem 2, isto é, aumentando o n em duas vezes, a razão entre erros consecutivos converge para quatro. É importante notar que esse fato nos mostra uma maneira de validar nosso código.\n",
        "\n"
      ]
    },
    {
      "cell_type": "markdown",
      "metadata": {
        "id": "aIqGPijmK_2x",
        "colab_type": "text"
      },
      "source": [
        "## Runge Kutta de 4 - ordem"
      ]
    },
    {
      "cell_type": "code",
      "metadata": {
        "id": "0O36LeAwLsCs",
        "colab_type": "code",
        "colab": {}
      },
      "source": [
        ""
      ],
      "execution_count": 0,
      "outputs": []
    },
    {
      "cell_type": "code",
      "metadata": {
        "colab_type": "code",
        "id": "QAqarxhmLyZE",
        "outputId": "14e74760-a950-4e1f-9369-4dd1e49a138e",
        "colab": {
          "base_uri": "https://localhost:8080/",
          "height": 312
        }
      },
      "source": [
        "a = 0\n",
        "b = 1\n",
        "n = 256\n",
        "h = (b - a) / n\n",
        "t      = np.linspace(0, 0, n + 1)\n",
        "y      = np.linspace(0, 0, n + 1)\n",
        "sol_ex = np.linspace(0, 0, n + 1)\n",
        "erro   = np.linspace(0, 0, n + 1)\n",
        "for i in range(0, n + 1):\n",
        "\tt[i] = a + i * h\n",
        "y[0] = sol2_exata_pvi(t[0])\n",
        "for i in range(1, n + 1):\n",
        "  k1 = fun2_2d(t[i - 1], y[i - 1])\n",
        "  k2 = fun2_2d(t[i - 1] + 0.5 * h, y[i - 1] + 0.5 * h * k1)\n",
        "  k3 = fun2_2d(t[i - 1] + 0.5 * h, y[i - 1] + 0.5 * h * k2)\n",
        "  k4 = fun2_2d(t[i - 1] +       h, y[i - 1] +       h * k3)\n",
        "  y[i] = y[i - 1] + (h/6.0) * (k1 + 2.0 * k2 + 2.0 * k3 + k4)\n",
        "for i in range(0, n + 1):\n",
        "\tsol_ex[i] = sol2_exata_pvi(t[i])\n",
        "erro = abs(y - sol_ex)\n",
        "erro_max = max(erro)\n",
        "print(erro_max)\n",
        "# Plot\n",
        "plt.plot(t, erro)\n",
        "plt.title('Erro')\n",
        "plt.xlabel('t')\n",
        "plt.ylabel('y(t)')\n",
        "plt.grid(alpha=.3, linestyle='--')\n",
        "plt.show()"
      ],
      "execution_count": 0,
      "outputs": [
        {
          "output_type": "stream",
          "text": [
            "5.687450510549752e-12\n"
          ],
          "name": "stdout"
        },
        {
          "output_type": "display_data",
          "data": {
            "image/png": "[encoded data removed]",
            "text/plain": [
              "<Figure size 432x288 with 1 Axes>"
            ]
          },
          "metadata": {
            "tags": [],
            "needs_background": "light"
          }
        }
      ]
    },
    {
      "cell_type": "markdown",
      "metadata": {
        "id": "XhKpngUkNSKW",
        "colab_type": "text"
      },
      "source": [
        " "
      ]
    },
    {
      "cell_type": "markdown",
      "metadata": {
        "colab_type": "text",
        "id": "v-mUhxksNSkJ"
      },
      "source": [
        "Na tabela mostramos o erro calculando a norma do máximo entre a solução exata e solução aproximada para cada partição  n . Duplicamos o  n  com objetivo de conhecer a razão entre dois erro consecutivos."
      ]
    },
    {
      "cell_type": "markdown",
      "metadata": {
        "colab_type": "text",
        "id": "O9a85-8QNSkM"
      },
      "source": [
        "Dimensão | Euler | Razão\n",
        "--- | --- | ---\n",
        "n=16  |  3.652760169892133e-07  |   ****\n",
        "n=32  |  2.3084619105162574e-08 |    15.8234\n",
        "n=64  |  1.4507128831553473e-09 |    15.9126\n",
        "n=128 |  9.091705166497377e-11  |    15.9564\n",
        "n=256 |  5.687450510549752e-12  |    15.9856"
      ]
    },
    {
      "cell_type": "markdown",
      "metadata": {
        "colab_type": "text",
        "id": "DRnFiplpNSkN"
      },
      "source": [
        "Observando os dados podemos concluir que o método realmente é de ordem $4$, isto é, aumentando o $n$ em duas vezes, a razão entre erros consecutivos converge para dezesseis. É importante notar que esse fato nos mostra uma maneira de validar nosso código."
      ]
    },
    {
      "cell_type": "markdown",
      "metadata": {
        "id": "r0s956fUn_GU",
        "colab_type": "text"
      },
      "source": [
        "##Solow"
      ]
    },
    {
      "cell_type": "markdown",
      "metadata": {
        "id": "qiO1kXea8P9o",
        "colab_type": "text"
      },
      "source": [
        "Equação para o acumulo de capital, ou seja, a taxa de variação do estoque de capital é igual ao investimento menos a depreciação e menos uma taxa do capital.\n",
        "\\begin{equation}\n",
        "\\dot{K}(t)  = Y(t) - C(t) - \\delta K(t), \\tag{Eq. do Acumulo de capital}\n",
        "\\end{equation}\n",
        "se \n",
        "\\begin{equation}\n",
        "Y(t) - C(t) =  sY(t), \\tag{Eq. Auxíliar}\n",
        "\\end{equation}\n",
        "e a razão do crescimento do trabalho é\n",
        "\\begin{equation}\n",
        "\\frac{\\dot{L}(t)}{L(t)} =  n.\n",
        "\\end{equation}\n",
        "\n",
        "Faremos a demostração da equação de acumulo de capital per capito. Sendo\n",
        "\\begin{equation}\n",
        "\\kappa(t) = \\frac{K(t)}{L(t)},\n",
        "\\end{equation}\n",
        "podemos escrever,\n",
        "\\begin{equation}\n",
        "K(t) = \\kappa(t) L(t),\n",
        "\\end{equation}\n",
        "\\begin{equation}\n",
        "\\dot{K}(t) = \\dot{\\kappa}(t) L(t) + \\kappa(t) \\dot{L}(t), \\tag{Derivada do capital}\n",
        "\\end{equation}  \n",
        "substituindo as equações da derivada do capital per capito e a equação auxiliar na equação de acumulo de capital teremos,\n",
        "\\begin{equation}\n",
        " \\dot{\\kappa}(t) L(t) + \\kappa(t) \\dot{L}(t) = sY(t) - \\delta K(t), \\\\\n",
        " \\dot{\\kappa}(t) L(t)  = sY(t) - \\delta K(t) - \\kappa(t) \\dot{L}(t), \\\\\n",
        " \\dot{\\kappa}(t) = s\\frac{Y(t)}{L(t)} - \\delta \\frac{K(t)}{L(t)} - \\kappa(t) \\frac{\\dot{L}(t)}{L(t)},\n",
        "\\end{equation} \n",
        "usando a razão de crescimento do trabalho, e as definições $\\kappa(t)=\\frac{K(t)}{L(t)}$ e $y(t)=\\frac{Y(t)}{L(t)}$ podemos rescrever a equação por\n",
        "\\begin{equation}\n",
        " \\dot{\\kappa}(t) = sy(t) - \\delta \\kappa(t) - n\\kappa(t),\n",
        "\\end{equation}\n",
        "usando ainda $y(t)=\\kappa^\\alpha$\n",
        "encontrando a equação diferencial ordinária do acumulo de capital per capito,\n",
        "\\begin{equation}\n",
        " \\dot{\\kappa}(t) = s\\kappa^\\alpha - (\\delta + n) \\kappa(t), \\tag{Eq. do acumulo de capital per capito}\n",
        "\\end{equation} "
      ]
    },
    {
      "cell_type": "markdown",
      "metadata": {
        "id": "aLpQuz6VLRhd",
        "colab_type": "text"
      },
      "source": [
        "# Solução exata para a equação do acumulo de capital"
      ]
    },
    {
      "cell_type": "markdown",
      "metadata": {
        "id": "qCcY9mrwLq9N",
        "colab_type": "text"
      },
      "source": [
        "\\begin{equation}\n",
        " \\kappa(t) = \\left[ \\frac{As}{n+\\delta}+\\left(k_0^{1-\\alpha}-\\frac{As}{n+\\delta}\\right)e^{(\\alpha-1)(n+\\delta)t}\\right]^\\frac{1}{1-\\alpha}.\n",
        "\\end{equation}"
      ]
    },
    {
      "cell_type": "markdown",
      "metadata": {
        "id": "arN88hOdVE_1",
        "colab_type": "text"
      },
      "source": [
        "# Método de Euler"
      ]
    },
    {
      "cell_type": "markdown",
      "metadata": {
        "id": "9BvIm72JLdro",
        "colab_type": "text"
      },
      "source": [
        ""
      ]
    },
    {
      "cell_type": "code",
      "metadata": {
        "id": "fK1OwPoWqzJQ",
        "colab_type": "code",
        "outputId": "8d1a64df-c284-4789-fdce-05c68f81a93c",
        "colab": {
          "base_uri": "https://localhost:8080/",
          "height": 312
        }
      },
      "source": [
        "a = 0\n",
        "b = 100\n",
        "n = 2048\n",
        "h = (b - a) / n\n",
        "t      = np.linspace(0, 0, n + 1)\n",
        "y      = np.linspace(0, 0, n + 1)\n",
        "sol_ex = np.linspace(0, 0, n + 1)\n",
        "erro   = np.linspace(0, 0, n + 1)\n",
        "for i in range(0, n + 1):\n",
        "\tt[i] = a + i * h\n",
        "y[0] = sol_solow(0)\n",
        "for i in range(1, n + 1):\n",
        "\ty[i] = y[i - 1] + h * fun_solow(t[i - 1], y[i - 1])\n",
        "for i in range(0, n + 1):\n",
        "\tsol_ex[i] = sol_solow(t[i])\n",
        "erro = abs(y - sol_ex)\n",
        "erro_max = max(erro)\n",
        "print(erro_max)\n",
        "# Plot\n",
        "plt.plot(t, y)\n",
        "#plt.plot(t, sol_ex)\n",
        "plt.title('Solow')\n",
        "plt.xlabel('t')\n",
        "plt.ylabel('y(t)')\n",
        "plt.grid(alpha=.3, linestyle='--')\n",
        "plt.show()"
      ],
      "execution_count": 0,
      "outputs": [
        {
          "output_type": "stream",
          "text": [
            "0.002716099117161974\n"
          ],
          "name": "stdout"
        },
        {
          "output_type": "display_data",
          "data": {
            "image/png": "[encoded data removed]",
            "text/plain": [
              "<Figure size 432x288 with 1 Axes>"
            ]
          },
          "metadata": {
            "tags": [],
            "needs_background": "light"
          }
        }
      ]
    },
    {
      "cell_type": "markdown",
      "metadata": {
        "id": "MsAJF9jeVQzD",
        "colab_type": "text"
      },
      "source": [
        "# Método de euler modificado"
      ]
    },
    {
      "cell_type": "code",
      "metadata": {
        "id": "nlc-LW8PVgqb",
        "colab_type": "code",
        "outputId": "78f4c172-18a3-43ff-aefc-51fe834674de",
        "colab": {
          "base_uri": "https://localhost:8080/",
          "height": 312
        }
      },
      "source": [
        "a = 0\n",
        "b = 100\n",
        "n = 2048\n",
        "h = (b - a) / n\n",
        "t      = np.linspace(0, 0, n + 1)\n",
        "y      = np.linspace(0, 0, n + 1)\n",
        "sol_ex = np.linspace(0, 0, n + 1)\n",
        "erro   = np.linspace(0, 0, n + 1)\n",
        "for i in range(0, n + 1):\n",
        "\tt[i] = a + i * h\n",
        "y[0] = sol_solow(t[0])\n",
        "for i in range(1, n + 1):\n",
        "  k1 = fun_solow(t[i - 1], y[i - 1])\n",
        "  k2 = fun_solow(t[i - 1] + h, y[i - 1] + h * k1)\n",
        "  y[i] = y[i - 1] + 0.5 * h * (k1 + k2)\n",
        "for i in range(0, n + 1):\n",
        "\tsol_ex[i] = sol_solow(t[i])\n",
        "erro = abs(y - sol_ex)\n",
        "erro_max = max(erro)\n",
        "print(erro_max)\n",
        "# Plot\n",
        "plt.plot(t, erro)\n",
        "plt.title('Erro')\n",
        "plt.xlabel('t')\n",
        "plt.ylabel('y(t)')\n",
        "plt.grid(alpha=.3, linestyle='--')\n",
        "plt.show()"
      ],
      "execution_count": 0,
      "outputs": [
        {
          "output_type": "stream",
          "text": [
            "3.591120170121087e-06\n"
          ],
          "name": "stdout"
        },
        {
          "output_type": "display_data",
          "data": {
            "image/png": "[encoded data removed]",
            "text/plain": [
              "<Figure size 432x288 with 1 Axes>"
            ]
          },
          "metadata": {
            "tags": [],
            "needs_background": "light"
          }
        }
      ]
    },
    {
      "cell_type": "markdown",
      "metadata": {
        "id": "OmqG4GL5WGEh",
        "colab_type": "text"
      },
      "source": [
        "## Método do ponto médio (Runge Kutta de ordem 2)"
      ]
    },
    {
      "cell_type": "code",
      "metadata": {
        "id": "Frz8RZyXWNlI",
        "colab_type": "code",
        "outputId": "d9511916-0039-4da0-f330-65863da586ec",
        "colab": {
          "base_uri": "https://localhost:8080/",
          "height": 312
        }
      },
      "source": [
        "a = 0\n",
        "b = 100\n",
        "n = 2048\n",
        "h = (b - a) / n\n",
        "t      = np.linspace(0, 0, n + 1)\n",
        "y      = np.linspace(0, 0, n + 1)\n",
        "sol_ex = np.linspace(0, 0, n + 1)\n",
        "erro   = np.linspace(0, 0, n + 1)\n",
        "for i in range(0, n + 1):\n",
        "\tt[i] = a + i * h\n",
        "y[0] = sol_solow(t[0])\n",
        "for i in range(1, n + 1):\n",
        "  k1 = fun_solow(t[i - 1], y[i - 1])\n",
        "  k2 = fun_solow(t[i - 1] + 0.5 * h, y[i - 1] + 0.5 * h * k1)\n",
        "  y[i] = y[i - 1] + h * k2\n",
        "for i in range(0, n + 1):\n",
        "\tsol_ex[i] = sol_solow(t[i])\n",
        "erro = abs(y - sol_ex)\n",
        "erro_max = max(erro)\n",
        "print(erro_max)\n",
        "# Plot\n",
        "plt.plot(t, erro)\n",
        "plt.title('Erro')\n",
        "plt.xlabel('t')\n",
        "plt.ylabel('y(t)')\n",
        "plt.grid(alpha=.3, linestyle='--')\n",
        "plt.show()"
      ],
      "execution_count": 0,
      "outputs": [
        {
          "output_type": "stream",
          "text": [
            "3.7500043124083504e-06\n"
          ],
          "name": "stdout"
        },
        {
          "output_type": "display_data",
          "data": {
            "image/png": "[encoded data removed]",
            "text/plain": [
              "<Figure size 432x288 with 1 Axes>"
            ]
          },
          "metadata": {
            "tags": [],
            "needs_background": "light"
          }
        }
      ]
    },
    {
      "cell_type": "markdown",
      "metadata": {
        "id": "hlkqW5XOWov6",
        "colab_type": "text"
      },
      "source": [
        "## Runge Kutta de 4 - ordem"
      ]
    },
    {
      "cell_type": "code",
      "metadata": {
        "id": "QdEJBFB_8KLG",
        "colab_type": "code",
        "colab": {}
      },
      "source": [
        "def fun_solow(t, y):\n",
        "    s = 0.4\n",
        "    A = 1\n",
        "    alpha = 0.3\n",
        "    delta = 0.1\n",
        "    n = 0.01\n",
        "    fun_solow = s * A * y**alpha - (delta +n) * y;\n",
        "    return fun_solow   \n",
        "def sol_solow(t):\n",
        "    s = 0.4\n",
        "    A = 1\n",
        "    alpha = 0.3\n",
        "    delta = 0.1\n",
        "    n = 0.01  \n",
        "    k0 = 3\n",
        "    sol_solow = (A * s / (n + delta) + (k0**(1.0 - alpha) - A * s / (n + delta) ) * exp((alpha - 1.0) * (n + delta) * t))**(1.0 / (1.0 - alpha))\n",
        "    return sol_solow "
      ],
      "execution_count": 0,
      "outputs": []
    },
    {
      "cell_type": "code",
      "metadata": {
        "id": "rIl9ZpPzWqnw",
        "colab_type": "code",
        "outputId": "7344c675-943b-4148-91c6-4d8e26367e78",
        "colab": {
          "base_uri": "https://localhost:8080/",
          "height": 312
        }
      },
      "source": [
        "a = 0\n",
        "b = 100\n",
        "n = 2048\n",
        "h = (b - a) / n\n",
        "t      = np.linspace(0, 0, n + 1)\n",
        "y      = np.linspace(0, 0, n + 1)\n",
        "sol_ex = np.linspace(0, 0, n + 1)\n",
        "erro   = np.linspace(0, 0, n + 1)\n",
        "for i in range(0, n + 1):\n",
        "\tt[i] = a + i * h\n",
        "y[0] = sol_solow(t[0])\n",
        "for i in range(1, n + 1):\n",
        "  k1 = fun_solow(t[i - 1], y[i - 1])\n",
        "  k2 = fun_solow(t[i - 1] + 0.5 * h, y[i - 1] + 0.5 * h * k1)\n",
        "  k3 = fun_solow(t[i - 1] + 0.5 * h, y[i - 1] + 0.5 * h * k2)\n",
        "  k4 = fun_solow(t[i - 1] +       h, y[i - 1] +       h * k3)\n",
        "  y[i] = y[i - 1] + (h/6.0) * (k1 + 2.0 * k2 + 2.0 * k3 + k4)\n",
        "for i in range(0, n + 1):\n",
        "\tsol_ex[i] = sol_solow(t[i])\n",
        "erro = abs(y - sol_ex)\n",
        "erro_max = max(erro)\n",
        "print(erro_max)\n",
        "# Plot\n",
        "plt.plot(t, erro)\n",
        "plt.title('Erro')\n",
        "plt.xlabel('t')\n",
        "plt.ylabel('y(t)')\n",
        "plt.grid(alpha=.3, linestyle='--')\n",
        "plt.show()"
      ],
      "execution_count": 0,
      "outputs": [
        {
          "output_type": "stream",
          "text": [
            "1.6857626405908377e-12\n"
          ],
          "name": "stdout"
        },
        {
          "output_type": "display_data",
          "data": {
            "image/png": "[encoded data removed]",
            "text/plain": [
              "<Figure size 432x288 with 1 Axes>"
            ]
          },
          "metadata": {
            "tags": [],
            "needs_background": "light"
          }
        }
      ]
    },
    {
      "cell_type": "code",
      "metadata": {
        "id": "2LqOcywl7dEJ",
        "colab_type": "code",
        "outputId": "367b714b-dec9-4875-fdbb-4d8705e49352",
        "colab": {
          "base_uri": "https://localhost:8080/",
          "height": 282
        }
      },
      "source": [
        "plt.subplot()\n",
        "plt.plot(t, y)\n",
        "plt.plot(t, sol_ex)"
      ],
      "execution_count": 0,
      "outputs": [
        {
          "output_type": "execute_result",
          "data": {
            "text/plain": [
              "[<matplotlib.lines.Line2D at 0x7fb574adb5c0>]"
            ]
          },
          "metadata": {
            "tags": []
          },
          "execution_count": 25
        },
        {
          "output_type": "display_data",
          "data": {
            "image/png": "[encoded data removed]",
            "text/plain": [
              "<Figure size 432x288 with 1 Axes>"
            ]
          },
          "metadata": {
            "tags": [],
            "needs_background": "light"
          }
        }
      ]
    },
    {
      "cell_type": "markdown",
      "metadata": {
        "id": "cGRqTpyqXSn0",
        "colab_type": "text"
      },
      "source": [
        "Dimensão | Euler | Euler Modificado | Runge - kutta 2 | Runge - kutta 4 \n",
        "--- | --- | --- | --- | ---\n",
        "n=128  | 0.044617686001597434   |0.0009615317933988621  |0.0010061482954144552      |1.9430015374410914e-07  \n",
        "n=256  | 0.02199241633925375    |0.00023467940866606085 |0.0002452900912164324      |1.1831513546667338e-08\n",
        "n=512  | 0.010920720681248497   |5.797328234979915e-05  |6.056109884688965e-05     |7.297371595882396e-10\n",
        "n=1024 | 0.0054415120234256875   |1.4407258696280678e-05 |1.5046724742617812e-05      |4.530598118890339e-11\n",
        "n=2048 | 0.002716099117161974  |3.591120170121087e-06|3.7500043124083504e-06      |2.8244073746463982e-12"
      ]
    },
    {
      "cell_type": "markdown",
      "metadata": {
        "id": "qWuJ6ocJZI7k",
        "colab_type": "text"
      },
      "source": [
        "Dimensão | Euler | Euler Modificado | Runge - kutta 2 | Runge - kutta 4 \n",
        "--- | --- | --- | --- | ---  \n",
        "n=256/128   | 2.0288   |4.0972 |  4.1019    |16.4223\n",
        "n=512/256   | 2.0138   |4.0481 |  4.0503    |16.2134\n",
        "n=1024/512  | 2.0069   |4.0239 |  4.0249    |16.1069\n",
        "n=2048/1024 | 2.0034   |4.0119 |  4.0125    |16.0409"
      ]
    },
    {
      "cell_type": "code",
      "metadata": {
        "id": "jo_3L5riKd_M",
        "colab_type": "code",
        "outputId": "c2341043-5323-458e-a232-2f9a8b106085",
        "colab": {
          "base_uri": "https://localhost:8080/",
          "height": 334
        }
      },
      "source": [
        "def estabilidade_euler(x, y):\n",
        "     z = complex(x, y)\n",
        "     estabilidade_euler = np.abs(1 + z)\n",
        "     return estabilidade_euler\n",
        "def estabilidade_rk_2(x, y):\n",
        "     z = complex(x, y)\n",
        "     estabilidade_rk_2 = np.abs(1 + z + z**2/2)\n",
        "     return estabilidade_rk_2\n",
        "def estabilidade_rk_3(x, y):\n",
        "     z = complex(x, y)\n",
        "     estabilidade_rk_3 = np.abs(1 + z + z**2/2 + z**3/6)\n",
        "     return estabilidade_rk_3\n",
        "def estabilidade_rk_4(x, y):\n",
        "     z = complex(x, y)\n",
        "     estabilidade_rk_4 = np.abs(1 + z + z**2/2 + z**3 / 6 + z**4 / 24)\n",
        "     return estabilidade_rk_4\n",
        "a1 = -4.7\n",
        "b1 =  4.7\n",
        "a2 = -3\n",
        "b2 =  3\n",
        "n = 5000\n",
        "m = 5000\n",
        "hx = (b1 - a1) / n\n",
        "hy = (b2 - a2) / m \n",
        "x      = np.linspace(0, 0, n + 1)\n",
        "y      = np.linspace(0, 0, m + 1)\n",
        "z2d_euler      = np.zeros(( len(x), len(y)))\n",
        "z2d_rk_2       = np.zeros(( len(x), len(y)))\n",
        "z2d_rk_3       = np.zeros(( len(x), len(y)))\n",
        "z2d_rk_4       = np.zeros(( len(x), len(y)))\n",
        "for i in range(0, n + 1):\n",
        "  x[i] = a1 + i * hx\n",
        "  y[i] = a2 + i * hy\n",
        "cont = 0\n",
        "for i in range(0, n + 1):\n",
        "  for j in range(0, n + 1):\n",
        "    valor_euler = estabilidade_euler(x[i], y[j])\n",
        "    valor_rk_2 = estabilidade_rk_2(x[i], y[j])\n",
        "    valor_rk_3 = estabilidade_rk_3(x[i], y[j])\n",
        "    valor_rk_4 = estabilidade_rk_4(x[i], y[j])\n",
        "    if (valor_euler < 1):\n",
        "      z2d_euler[j, i] = 1\n",
        "    if (valor_rk_2 < 1):\n",
        "      z2d_rk_2[j, i] = 1\n",
        "    if (valor_rk_3 < 1):\n",
        "      z2d_rk_3[j, i] = 1\n",
        "    if (valor_rk_4 < 1):\n",
        "      z2d_rk_4[j, i] = 1 \n",
        "#plt.imshow(z2d);\n",
        "plt.axis('equal')\n",
        "#plt.contourf(x, y, z2d_rk_4, 20, cmap='RdGy')\n",
        "\n"
      ],
      "execution_count": 0,
      "outputs": [
        {
          "output_type": "execute_result",
          "data": {
            "text/plain": [
              "(-0.05500000000000001,\n",
              " 0.05500000000000001,\n",
              " -0.05500000000000001,\n",
              " 0.05500000000000001)"
            ]
          },
          "metadata": {
            "tags": []
          },
          "execution_count": 40
        },
        {
          "output_type": "display_data",
          "data": {
            "image/png": "[encoded data removed]",
            "text/plain": [
              "<Figure size 432x288 with 1 Axes>"
            ]
          },
          "metadata": {
            "tags": [],
            "needs_background": "light"
          }
        }
      ]
    },
    {
      "cell_type": "code",
      "metadata": {
        "id": "7hIHtVuWSUQK",
        "colab_type": "code",
        "outputId": "a53bfb88-fb20-4328-81de-e171490971c0",
        "colab": {
          "base_uri": "https://localhost:8080/",
          "height": 286
        }
      },
      "source": [
        "plt.contourf(x, y, z2d_rk_4, 20)"
      ],
      "execution_count": 0,
      "outputs": [
        {
          "output_type": "execute_result",
          "data": {
            "text/plain": [
              "<matplotlib.contour.QuadContourSet at 0x7fb57441d160>"
            ]
          },
          "metadata": {
            "tags": []
          },
          "execution_count": 39
        },
        {
          "output_type": "display_data",
          "data": {
            "image/png": "[encoded data removed]",
            "text/plain": [
              "<Figure size 432x288 with 1 Axes>"
            ]
          },
          "metadata": {
            "tags": [],
            "needs_background": "light"
          }
        }
      ]
    }
  ]
}