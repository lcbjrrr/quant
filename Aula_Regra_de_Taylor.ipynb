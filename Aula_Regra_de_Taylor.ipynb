{
  "nbformat": 4,
  "nbformat_minor": 0,
  "metadata": {
    "kernelspec": {
      "display_name": "Python 3",
      "language": "python",
      "name": "python3"
    },
    "language_info": {
      "codemirror_mode": {
        "name": "ipython",
        "version": 3
      },
      "file_extension": ".py",
      "mimetype": "text/x-python",
      "name": "python",
      "nbconvert_exporter": "python",
      "pygments_lexer": "ipython3",
      "version": "3.7.4"
    },
    "colab": {
      "name": "Aula - Regra de Taylor.ipynb",
      "provenance": [],
      "include_colab_link": true
    }
  },
  "cells": [
    {
      "cell_type": "markdown",
      "metadata": {
        "id": "view-in-github",
        "colab_type": "text"
      },
      "source": [
        "<a href=\"https://colab.research.google.com/github/lcbjrrr/quant/blob/master/Aula_Regra_de_Taylor.ipynb\" target=\"_parent\"><img src=\"https://colab.research.google.com/assets/colab-badge.svg\" alt=\"Open In Colab\"/></a>"
      ]
    },
    {
      "cell_type": "markdown",
      "metadata": {
        "id": "glphn-uCiDbX",
        "colab_type": "text"
      },
      "source": [
        "# Ficha Técnica\n",
        "- Disciplinas - Otimização e processos dinâmicos, Cálculo de Multíplas variáveis e cálculo 1.\n",
        "- Conteúdo - Álgebra de equações.\n",
        "- Aplicação - Regra de Taylor.\n",
        "- Autores: Anderson Borba e Luiz Barboza."
      ]
    },
    {
      "cell_type": "markdown",
      "metadata": {
        "id": "u6Xv2xhbiDbZ",
        "colab_type": "text"
      },
      "source": [
        "# Modelo de três equações\n",
        "**1- Função perda do banco central**\n",
        "\\begin{equation}\n",
        "\\begin{aligned}\n",
        "L(\\pi_t, y_t) &= (y_t-y_e)^2+\\beta(\\pi_t-\\pi^T)^2\n",
        "\\end{aligned}\\tag{Eq. de perda do banco central}\n",
        "\\end{equation}\n",
        "**2- Curva de Philips**\n",
        "\\begin{equation}\n",
        "\\begin{aligned}\n",
        "\\pi_{t}&=\\pi_{t-1}+\\alpha\\left(y_{t}-y_{e}\\right)\n",
        "\\end{aligned}\\tag{Curva de Phillips - PC}\n",
        "\\end{equation}\n",
        "**3- Regra monetária**\n",
        "\\begin{equation}\n",
        "\\begin{aligned}\n",
        "y_{t}-y_e&=-\\alpha\\beta(\\pi_{t}-\\pi^T)\n",
        "\\end{aligned}\\tag{Regra monetária - MR}\n",
        "\\end{equation}\n",
        "**4- Curva IS**\n",
        "\\begin{equation}\n",
        "\\begin{aligned}\n",
        "y_t &=k\\left(c_{0}+a_{0}+G\\right)-k a_{1} r \\\\\n",
        "&=A-a r_s\n",
        "\\end{aligned}\\tag{Curva IS}\n",
        "\\end{equation}\n",
        "\n",
        "# Parâmetros chaves\n",
        "\n",
        "1) $\\pi_t$ - inflação efetiva no período t.\n",
        "\n",
        "2) $\\pi^T$ - meta de inflação.\n",
        "\n",
        "3) $\\beta$ - Preferência do banco central, determina o formato da função perda.\n",
        "\n",
        "4) $\\alpha$ - Inclinação da curva de Phillips (PC).\n",
        "\n",
        "5) $a$ - Mostra a sensibilidade dos juros a demanda agregada. \n",
        "\n",
        "6) $y_t$ - produto no período t.\n",
        "\n",
        "6) $y_e$ - Nível de equlíbrio do produto - produto potencial.\n",
        "\n",
        "7) $r_s$ - Taxa de juros real estável.\n",
        "\n",
        "# A regra monetária e a regra de Taylor.\n",
        "Escrevendo as equações para um período de tempo,\n",
        "\n",
        "**1- Função perda do banco central**\n",
        "\\begin{equation}\n",
        "\\begin{aligned}\n",
        "L(\\pi_1, y_1) &= (y_1-y_e)^2+\\beta(\\pi_1-\\pi^T)^2\n",
        "\\end{aligned}\\tag{Eq. de perda do banco central}\n",
        "\\end{equation}\n",
        "**2- Curva de Philips**\n",
        "\\begin{equation}\n",
        "\\begin{aligned}\n",
        "\\pi_1&=\\pi_0+\\alpha\\left(y_1-y_{e}\\right)\n",
        "\\end{aligned}\\tag{Curva de Phillips - PC}\n",
        "\\end{equation}\n",
        "**3- Regra monetária**\n",
        "\\begin{equation}\n",
        "\\begin{aligned}\n",
        "y_1-y_e&=-\\alpha\\beta(\\pi_1-\\pi^T)\n",
        "\\end{aligned}\\tag{Regra monetária - MR}\n",
        "\\end{equation}\n",
        "**4- Curva IS**\n",
        "\\begin{equation}\n",
        "\\begin{aligned}\n",
        "y_1 - y_e&=-a (r_0-r_s)\n",
        "\\end{aligned}\\tag{Curva IS}\n",
        "\\end{equation}\n",
        "\n",
        "Seja a regra monetária para um periodo, \n",
        "\\begin{equation}\n",
        "\\begin{aligned}\n",
        "y_1-y_e&=-\\alpha\\beta(\\pi_1-\\pi^T)\n",
        "\\end{aligned}\\tag{Regra monetária para um período- MR}\n",
        "\\end{equation}\n",
        "e substituindo a curva de Phillips, teremos\n",
        "\\begin{equation}\n",
        "\\begin{aligned}\n",
        "y_1-y_e&=-\\alpha\\beta(\\pi_0+\\alpha\\left(y_1-y_{e}\\right)-\\pi^T)\\\\\n",
        "\\frac{y_1-y_e}{-\\alpha\\beta}&=\\pi_0+\\alpha\\left(y_1-y_{e}\\right)-\\pi^T\\\\\n",
        "\\frac{y_1-y_e}{-\\alpha\\beta}-\\alpha\\left(y_1-y_{e}\\right)&=\\pi_0-\\pi^T\\\\\n",
        "\\end{aligned}\n",
        "\\end{equation}\n",
        "logo, \n",
        "\\begin{equation}\n",
        "\\begin{aligned}\n",
        "-\\left(\\alpha+\\frac{1}{\\alpha\\beta}\\right)(y_1-y_{e})&=\\pi_0-\\pi^T\\\\\n",
        "(y_1-y_{e})&=\\frac{1}{-\\left(\\alpha+\\frac{1}{\\alpha\\beta}\\right)}(\\pi_0-\\pi^T)\\\\\n",
        "\\end{aligned}\n",
        "\\end{equation}\n",
        "usando agora a equação para a curva IS\n",
        "\\begin{equation}\n",
        "\\begin{aligned}\n",
        "y_1 - y_e&=-a (r_0-r_s)\\\\\n",
        "\\end{aligned}\\tag{Curva IS}\n",
        "\\end{equation}\n",
        "\\begin{equation}\n",
        "\\begin{aligned}\n",
        "\\frac{1}{-\\left(\\alpha+\\frac{1}{\\alpha\\beta}\\right)}(\\pi_0-\\pi^T)&=-a (r_0-r_s)\\\\\n",
        "\\end{aligned}\n",
        "\\end{equation}\n",
        "portanto,\n",
        "\\begin{equation}\n",
        "\\begin{aligned}\n",
        "r_0-r_s&=\\frac{1}{a\\left(\\alpha+\\frac{1}{\\alpha\\beta}\\right)}(\\pi_0-\\pi^T)\\\\\n",
        "\\end{aligned}\\tag{Regra de Taylor}\n",
        "\\end{equation}\n",
        "\n",
        "Se $a=\\alpha=\\beta=1$ então\n",
        "\\begin{equation}\n",
        "\\begin{aligned}\n",
        "r_0-r_s&=0.5(\\pi_0-\\pi^T).\\\\\n",
        "\\end{aligned}\n",
        "\\end{equation}"
      ]
    },
    {
      "cell_type": "markdown",
      "metadata": {
        "id": "HDexcPvjiDba",
        "colab_type": "text"
      },
      "source": [
        "# Referências\n",
        "\n",
        "1) Macroeconomics: Institutions, Instability, and the Financial System by Carlin, Wendy, Soskice, David by Wendy Carlin\n"
      ]
    }
  ]
}