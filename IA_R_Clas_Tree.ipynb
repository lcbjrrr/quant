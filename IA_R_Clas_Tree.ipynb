{
  "nbformat": 4,
  "nbformat_minor": 0,
  "metadata": {
    "colab": {
      "provenance": [],
      "include_colab_link": true
    },
    "kernelspec": {
      "name": "python3",
      "display_name": "Python 3"
    }
  },
  "cells": [
    {
      "cell_type": "markdown",
      "metadata": {
        "id": "view-in-github",
        "colab_type": "text"
      },
      "source": [
        "<a href=\"https://colab.research.google.com/github/lcbjrrr/quant/blob/master/IA_R_Clas_Tree.ipynb\" target=\"_parent\"><img src=\"https://colab.research.google.com/assets/colab-badge.svg\" alt=\"Open In Colab\"/></a>"
      ]
    },
    {
      "cell_type": "code",
      "metadata": {
        "id": "08FaIDs7555J",
        "colab": {
          "base_uri": "https://localhost:8080/"
        },
        "outputId": "43c016b3-0099-49ed-96f0-e35513edf3ff"
      },
      "source": [
        "!pip uninstall rpy2 -y"
      ],
      "execution_count": 1,
      "outputs": [
        {
          "output_type": "stream",
          "name": "stdout",
          "text": [
            "Found existing installation: rpy2 3.5.5\n",
            "Uninstalling rpy2-3.5.5:\n",
            "  Successfully uninstalled rpy2-3.5.5\n"
          ]
        }
      ]
    },
    {
      "cell_type": "code",
      "source": [
        "!pip install rpy2==3.0.0"
      ],
      "metadata": {
        "colab": {
          "base_uri": "https://localhost:8080/"
        },
        "id": "hP39moYu4ZsJ",
        "outputId": "6243f7b5-ebfc-4299-91d7-c31c790da273"
      },
      "execution_count": 2,
      "outputs": [
        {
          "output_type": "stream",
          "name": "stdout",
          "text": [
            "Installing collected packages: simplegeneric, rpy2\n",
            "Successfully installed rpy2-3.0.0 simplegeneric-0.8.1\n"
          ]
        }
      ]
    },
    {
      "cell_type": "code",
      "source": [
        "%load_ext rpy2.ipython"
      ],
      "metadata": {
        "colab": {
          "base_uri": "https://localhost:8080/"
        },
        "id": "N4UgRngL4bdF",
        "outputId": "39c80152-97bd-4c15-bf04-d7223f19a74f"
      },
      "execution_count": 3,
      "outputs": [
        {
          "output_type": "stream",
          "name": "stderr",
          "text": [
            "/usr/local/lib/python3.8/dist-packages/rpy2/robjects/pandas2ri.py:15: FutureWarning: pandas.core.index is deprecated and will be removed in a future version.  The public classes are available in the top-level namespace.\n",
            "  from pandas.core.index import Index as PandasIndex\n"
          ]
        }
      ]
    },
    {
      "cell_type": "markdown",
      "metadata": {
        "id": "oPDu1nNBhzZ-"
      },
      "source": [
        "Tree"
      ]
    },
    {
      "cell_type": "code",
      "metadata": {
        "id": "-XI1b9ul6CVh",
        "outputId": "6b30be48-31fd-4249-9ff1-b097f7a87fd9",
        "colab": {
          "base_uri": "https://localhost:8080/"
        }
      },
      "source": [
        "%%R\n",
        "install.packages(\"rpart\")\n",
        "install.packages(\"rpart.plot\")\n",
        "\n",
        "library(rpart)\n",
        "library(rpart.plot)\n",
        "#library(rattle)\n",
        "\n"
      ],
      "execution_count": 4,
      "outputs": [
        {
          "output_type": "stream",
          "name": "stderr",
          "text": [
            "WARNING:rpy2.rinterface_lib.callbacks:R[write to console]: Installing package into ‘/usr/lib/R/site-library’\n",
            "(as ‘lib’ is unspecified)\n",
            "\n",
            "WARNING:rpy2.rinterface_lib.callbacks:R[write to console]: Error in contrib.url(repos, type) : \n",
            "  trying to use CRAN without setting a mirror\n",
            "Calls: <Anonymous> ... withVisible -> install.packages -> startsWith -> contrib.url\n",
            "\n"
          ]
        },
        {
          "output_type": "stream",
          "name": "stdout",
          "text": [
            "\n",
            "Error in contrib.url(repos, type) : \n",
            "  trying to use CRAN without setting a mirror\n",
            "Calls: <Anonymous> ... withVisible -> install.packages -> startsWith -> contrib.url\n"
          ]
        }
      ]
    },
    {
      "cell_type": "code",
      "metadata": {
        "id": "0VhV8hCx5801",
        "outputId": "81a5f2d1-2451-4752-b397-77bca6c6d7b5",
        "colab": {
          "base_uri": "https://localhost:8080/",
          "height": 285
        }
      },
      "source": [
        "%%R\n",
        "volei <- read.csv('https://raw.githubusercontent.com/lcbjrrr/data/main/JogarVolei%20-%20OK.csv')\n",
        "volei"
      ],
      "execution_count": 5,
      "outputs": [
        {
          "output_type": "display_data",
          "data": {
            "text/plain": [
              "     previsao temperatura umidade        vento jogar\n",
              "1  ensolarado      quente    alta nao_ventando   nao\n",
              "2  ensolarado      quente    alta     ventando   nao\n",
              "3     nublado      quente    alta nao_ventando   sim\n",
              "4     chuvoso      brando    alta nao_ventando   sim\n",
              "5     chuvoso        frio  normal nao_ventando   sim\n",
              "6     chuvoso        frio  normal     ventando   nao\n",
              "7     nublado        frio  normal     ventando   sim\n",
              "8  ensolarado      brando    alta nao_ventando   nao\n",
              "9  ensolarado        frio  normal nao_ventando   sim\n",
              "10    chuvoso      brando  normal nao_ventando   sim\n",
              "11 ensolarado      brando  normal     ventando   sim\n",
              "12    nublado      brando    alta     ventando   sim\n",
              "13    nublado      quente  normal nao_ventando   sim\n",
              "14    chuvoso      brando    alta     ventando   nao\n"
            ]
          },
          "metadata": {}
        }
      ]
    },
    {
      "cell_type": "code",
      "source": [
        "%%R\n",
        "arv <- rpart(jogar ~ ., data=volei, minbucket=1) \n",
        "summary(arv) # detailed summary of splits\n",
        "#prp(arv,type=2,extra=1)\n",
        "#fancyRpartPlot(arv)"
      ],
      "metadata": {
        "id": "sX78PW814v8A",
        "outputId": "ffa5dc2a-2bb7-4e16-af4f-a5926ede48c6",
        "colab": {
          "base_uri": "https://localhost:8080/"
        }
      },
      "execution_count": 6,
      "outputs": [
        {
          "output_type": "stream",
          "name": "stderr",
          "text": [
            "WARNING:rpy2.rinterface_lib.callbacks:R[write to console]: Error in rpart(jogar ~ ., data = volei, minbucket = 1) : \n",
            "  could not find function \"rpart\"\n",
            "Calls: <Anonymous> -> <Anonymous> -> withVisible\n",
            "\n"
          ]
        },
        {
          "output_type": "stream",
          "name": "stdout",
          "text": [
            "\n",
            "Error in rpart(jogar ~ ., data = volei, minbucket = 1) : \n",
            "  could not find function \"rpart\"\n",
            "Calls: <Anonymous> -> <Anonymous> -> withVisible\n"
          ]
        }
      ]
    },
    {
      "cell_type": "code",
      "metadata": {
        "id": "vJIjOprAEGfw",
        "outputId": "87949adf-aa53-41e9-d675-223531a7755a",
        "colab": {
          "base_uri": "https://localhost:8080/",
          "height": 497
        }
      },
      "source": [
        " %%R\n",
        " prp(arv,type=2,extra=1)\n"
      ],
      "execution_count": null,
      "outputs": [
        {
          "output_type": "display_data",
          "data": {
            "image/png": "[encoded data removed]"
          },
          "metadata": {
            "tags": []
          }
        }
      ]
    }
  ]
}