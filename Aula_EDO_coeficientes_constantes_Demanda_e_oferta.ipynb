{
  "nbformat": 4,
  "nbformat_minor": 0,
  "metadata": {
    "colab": {
      "name": "Aula- EDO coeficientes constantes - Demanda e oferta.ipynb",
      "provenance": [],
      "collapsed_sections": [
        "8KxnjxBeEwNk"
      ],
      "include_colab_link": true
    },
    "kernelspec": {
      "display_name": "Python 3",
      "language": "python",
      "name": "python3"
    },
    "language_info": {
      "codemirror_mode": {
        "name": "ipython",
        "version": 3
      },
      "file_extension": ".py",
      "mimetype": "text/x-python",
      "name": "python",
      "nbconvert_exporter": "python",
      "pygments_lexer": "ipython3",
      "version": "3.7.4"
    }
  },
  "cells": [
    {
      "cell_type": "markdown",
      "metadata": {
        "id": "view-in-github",
        "colab_type": "text"
      },
      "source": [
        "<a href=\"https://colab.research.google.com/github/lcbjrrr/quant/blob/master/Aula_EDO_coeficientes_constantes_Demanda_e_oferta.ipynb\" target=\"_parent\"><img src=\"https://colab.research.google.com/assets/colab-badge.svg\" alt=\"Open In Colab\"/></a>"
      ]
    },
    {
      "cell_type": "markdown",
      "metadata": {
        "colab_type": "text",
        "id": "BVzL9Q-e6mP_"
      },
      "source": [
        "# Ficha Técnica\n",
        "\n",
        "Disciplina - Otimização e processos dinâmicos.\n",
        "\n",
        "Conteúdo - EDO com coeficientes constantes.\n",
        "\n",
        "Aplicação - Equação para a dinâmica de preços de mercado - Linguagem de programação (Python).\n",
        "\n",
        "Autores: Anderson Borba e Luiz Barboza."
      ]
    },
    {
      "cell_type": "markdown",
      "metadata": {
        "id": "G4aWVqqcCAE0",
        "colab_type": "text"
      },
      "source": [
        "# EDO - Equação diferencial ordinária"
      ]
    },
    {
      "cell_type": "markdown",
      "metadata": {
        "id": "b3ROBu2oCAE1",
        "colab_type": "text"
      },
      "source": [
        "## Dinâmica de preço de mercado\n",
        "As funções consideradas tem variação com o tempo.\n",
        "Definimos,\n",
        "- O preço $P(t)$ é uma função de tempo;\n",
        "- A demanda $Q_d(t)$ é uma função de tempo;\n",
        "\\begin{equation}\n",
        "\\begin{aligned}\n",
        "Q_d(t) &=\\alpha-\\beta P(t)\n",
        "\\end{aligned}\\tag{Demanda}\n",
        "\\end{equation}\n",
        "- A oferta $Q_s(t)=-\\gamma+\\delta P(t)$ é uma função de tempo.\n",
        "\\begin{equation}\n",
        "\\begin{aligned}\n",
        "Q_s(t) &=-\\gamma+\\delta P(t)\n",
        "\\end{aligned}\\tag{Oferta}\n",
        "\\end{equation}\n",
        "\n",
        "No tempo considerado, o processo de ajuste de preços tende a trazer o preço até o nível de equilíbrio?(Converge ou diverge?)\n",
        "\n",
        "Isto é, $\\lim_{t\\to\\infty}P(t)=P^{*}$. Sendo $P^{*}=\\frac{\\alpha+\\gamma}{\\beta+\\delta}$"
      ]
    },
    {
      "cell_type": "markdown",
      "metadata": {
        "id": "NgM7zEF0CAE1",
        "colab_type": "text"
      },
      "source": [
        "## O modelo (EDO)\n",
        "Supondo que a taxa de variação de preço, em cada instante, é sempre diretamente proporcional ao \\textit{execesso de demanda} $(Q_d-Q_s)$ no instante.\n",
        "\n",
        "Representamos a afirmação acima em forma de equação diferencial,\n",
        "\\begin{equation}\n",
        "\\begin{aligned}\n",
        "\\frac{dP}{dt}&=j(Q_d-Q_s)\n",
        "\\end{aligned}\\tag{EDO}\n",
        "\\end{equation}\n",
        "onde, $j$ é uma constante de ajuste. "
      ]
    },
    {
      "cell_type": "markdown",
      "metadata": {
        "id": "ZWDNwMoCCAE2",
        "colab_type": "text"
      },
      "source": [
        "Usando as equações para a demanda e oferta, deduzimos a equação\n",
        "\\begin{equation}\n",
        "\\begin{aligned}\n",
        "\\frac{dP}{dt}+j(\\beta + \\delta) P(t)&=j(\\alpha+\\gamma);\n",
        "\\end{aligned}\\tag{EDO-Coeficientes constantes}\n",
        "\\end{equation}\n",
        "\n",
        "Definimos a solução\n",
        "\\begin{equation}\n",
        "\\begin{aligned}\n",
        "P(t)&=\\left[P(0)-\\frac{\\alpha+\\gamma}{\\beta+\\delta}\\right]e^{-j(\\beta+\\delta)t} + \\frac{\\alpha+\\gamma}{\\beta+\\delta};\n",
        "\\end{aligned}\\tag{Solução EDO-Coeficientes constantes}\n",
        "\\end{equation}\n",
        "ou\n",
        "\\begin{equation}\n",
        "\\begin{aligned}\n",
        "P(t)&=\\left[P(0)-P^{*}\\right]e^{-\\kappa t} +P^{*}\n",
        "\\end{aligned}\n",
        "\\end{equation}\n",
        "onde, $\\kappa=j(\\beta+\\delta)$. "
      ]
    },
    {
      "cell_type": "markdown",
      "metadata": {
        "id": "DSlKWFXBC1od",
        "colab_type": "text"
      },
      "source": [
        "Resolver uma EDO é encontrar uma função que depende da variável tempo e obedece a seguinte igualdade,\n",
        "\\begin{equation}\n",
        "\\begin{aligned}\n",
        "\\frac{dP}{dt}+aP(t)&=b\n",
        "\\end{aligned}\n",
        "\\end{equation}\n",
        "sendo $a$ e $b$ constantes."
      ]
    },
    {
      "cell_type": "markdown",
      "metadata": {
        "id": "QN-PUUwCEBJQ",
        "colab_type": "text"
      },
      "source": [
        "## EDO homogênea\n",
        "A equação diferencial \n",
        "\\begin{equation}\n",
        "\\begin{aligned}\n",
        "\\frac{dP}{dt}+ay(t)&=0\n",
        "\\end{aligned}\n",
        "\\end{equation}\n",
        "é definida como EDO homogênea e podemos propor a uma sulução por, \n",
        "\n",
        "\\begin{equation}\n",
        "\\begin{aligned}\n",
        "y(t)&=Ae^{-at}.\n",
        "\\end{aligned}\n",
        "\\end{equation}\n",
        "\n",
        "A verificação deixamos como exercício.\n"
      ]
    },
    {
      "cell_type": "markdown",
      "metadata": {
        "id": "09Q0TcRAFiHl",
        "colab_type": "text"
      },
      "source": [
        "## EDO não homogênea\n",
        "A equação diferencial \n",
        "\\begin{equation}\n",
        "\\begin{aligned}\n",
        "\\frac{dP}{dt}+ay(t)&=b\n",
        "\\end{aligned}\n",
        "\\end{equation}\n",
        "é definida como EDO não homogênea e podemos propor a uma sulução por, \n",
        "\\begin{equation}\n",
        "\\begin{aligned}\n",
        "y(t)&=y_h(t) + y_p(t).\n",
        "\\end{aligned}\n",
        "\\end{equation}\n",
        "\n",
        "Sendo a solução homogênea $y_h(t)=Ae^{-at}$ e a solução particular $y_p(t)=\\frac{b}{a}$, assim podemos escrever a solução geral por,\n",
        "\\begin{equation}\n",
        "\\begin{aligned}\n",
        "y(t)&=Ae^{-at} + \\frac{b}{a} .\n",
        "\\end{aligned}\\tag{Solução geral}\n",
        "\\end{equation}\n",
        "ou\n",
        "\\begin{equation}\n",
        "\\begin{aligned}\n",
        "y(t)&=\\left[y(0)-\\frac{b}{a}\\right]e^{-at} + \\frac{b}{a};\n",
        "\\end{aligned}\\tag{Solução EDO-Coeficientes constantes}\n",
        "\\end{equation}\n",
        "\n",
        "A EDO tem infinitas soluções, isto é, a constante $A$ é uma parâmetro livre. Para definir a solução única temos que atribuir valor a constante $A$, devemos ter um valor inicial para a equação $y(0)=K$.\n",
        "\n",
        "A verificação deixamos como exercício.\n",
        "\n"
      ]
    },
    {
      "cell_type": "markdown",
      "metadata": {
        "id": "0fiDNbt2HURJ",
        "colab_type": "text"
      },
      "source": [
        "## Exemplo Numérico\n",
        "\n",
        "Para o problema teremos as definições:\n",
        "- $\\alpha=10$\n",
        "- $\\beta=5$\n",
        "- $\\gamma=8$\n",
        "- $\\delta=4$\n",
        "- $j=1/10$\n",
        "\n",
        "A condição inicial é $P(0)=5$.\n",
        "\n",
        "Definimos a solução\n",
        "\\begin{equation}\n",
        "\\begin{aligned}\n",
        "P(t)&=\\left[P(0)-\\frac{\\alpha+\\gamma}{\\beta+\\delta}\\right]e^{-j(\\beta+\\delta)t} + \\frac{\\alpha+\\gamma}{\\beta+\\delta};\n",
        "\\end{aligned}\n",
        "\\end{equation}\n",
        "assim,\n",
        "Definimos a solução\n",
        "\\begin{equation}\n",
        "\\begin{aligned}\n",
        "P^{*}&=\\frac{\\alpha+\\gamma}{\\beta+\\delta}=2\\\\\n",
        "\\kappa&=\\beta+\\delta=9;\n",
        "\\end{aligned}\n",
        "\\end{equation}\n",
        "\n",
        "\\begin{equation}\n",
        "\\begin{aligned}\n",
        "P(t)&=3e^{-\\frac{9}{10}t} + 2;\n",
        "\\end{aligned}\n",
        "\\end{equation}\n",
        "A solução exata pode é colocada no gráfico com o programa abaixo,\n",
        "\n"
      ]
    },
    {
      "cell_type": "code",
      "metadata": {
        "id": "AJov3pHoIvXC",
        "colab_type": "code",
        "colab": {
          "base_uri": "https://localhost:8080/",
          "height": 295
        },
        "outputId": "17a86657-0c85-4e1b-cd53-30742dcf54d0"
      },
      "source": [
        "from numpy import exp\n",
        "import matplotlib.pyplot as plt\n",
        "import numpy as np\n",
        "def sol_exata(t):\n",
        "  alpha = 10\n",
        "  beta = 5\n",
        "  gamma = 8\n",
        "  delta = 4\n",
        "  jc = 0.1\n",
        "  p_star = (alpha + gamma) / (beta + delta)\n",
        "  kappa = beta + delta\n",
        "  P0 = 5\n",
        "  sol_exata = (P0 - p_star) * exp(-jc * kappa * t) + p_star\n",
        "  return sol_exata\n",
        "#\n",
        "ti = 0\n",
        "tf = 10\n",
        "n = 2048\n",
        "h = (tf - ti) / n\n",
        "t      = np.linspace(0, 0, n + 1)\n",
        "sol_ex = np.linspace(0, 0, n + 1)\n",
        "for i in range(0, n + 1):\n",
        "\tt[i] = ti + i * h\n",
        "# Solução exata\n",
        "for i in range(0, n + 1):\n",
        "\tsol_ex[i] = sol_exata(t[i])\n",
        "# Plot\n",
        "plt.plot(t, sol_ex)\n",
        "plt.title('Preço')\n",
        "plt.xlabel('t')\n",
        "plt.ylabel('P(t)')\n",
        "plt.grid(alpha=.3, linestyle='--')\n",
        "plt.show()"
      ],
      "execution_count": null,
      "outputs": [
        {
          "output_type": "display_data",
          "data": {
            "image/png": "[encoded data removed]",
            "text/plain": [
              "<Figure size 432x288 with 1 Axes>"
            ]
          },
          "metadata": {
            "tags": [],
            "needs_background": "light"
          }
        }
      ]
    },
    {
      "cell_type": "markdown",
      "metadata": {
        "colab_type": "text",
        "id": "NpCB-XHGKtWF"
      },
      "source": [
        "Observamos que os parâmetros usados no problema não são dados reais."
      ]
    }
  ]
}