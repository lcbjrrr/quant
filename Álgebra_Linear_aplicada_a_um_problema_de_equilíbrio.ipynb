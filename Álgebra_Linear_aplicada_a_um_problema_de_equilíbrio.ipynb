{
  "nbformat": 4,
  "nbformat_minor": 0,
  "metadata": {
    "colab": {
      "name": "Álgebra Linear aplicada a um problema de equilíbrio.ipynb",
      "provenance": [],
      "collapsed_sections": [],
      "include_colab_link": true
    },
    "kernelspec": {
      "name": "python3",
      "display_name": "Python 3"
    },
    "language_info": {
      "name": "python"
    }
  },
  "cells": [
    {
      "cell_type": "markdown",
      "metadata": {
        "id": "view-in-github",
        "colab_type": "text"
      },
      "source": [
        "<a href=\"https://colab.research.google.com/github/lcbjrrr/quant/blob/master/%C3%81lgebra_Linear_aplicada_a_um_problema_de_equil%C3%ADbrio.ipynb\" target=\"_parent\"><img src=\"https://colab.research.google.com/assets/colab-badge.svg\" alt=\"Open In Colab\"/></a>"
      ]
    },
    {
      "cell_type": "markdown",
      "metadata": {
        "id": "HTkan2N8LVIT"
      },
      "source": [
        "# Ficha Técnica\n",
        "\n",
        "Disciplina:  - Algebra linear e Processos Dinâmicos.\n",
        "\n",
        "Conteúdo: \n",
        "\n",
        "- Representação matricial\n",
        "\n",
        "- Operações com linhas em matrizes.\n",
        "\n",
        "- Matrizes elementares\n",
        "\n",
        "- Solução de sistemas Lineares\n",
        "\n",
        "Aplicação: \n",
        "- Aplicação em um problema de oferta e demanda. \n",
        "\n",
        "Autores: \n",
        "- Anderson Borba (anderson.aborba@professores.ibmec.edu.br) e\n",
        "- Luiz Barboza (luiz.cbjunior@professores.ibmec.edu.br).\n",
        "\n",
        "Endereço eletrônico: http://quant-ibmec.group/calculos/"
      ]
    },
    {
      "cell_type": "markdown",
      "metadata": {
        "id": "ijL0ymRRLxA-"
      },
      "source": [
        "# Sistemas de equações lineares:\n",
        "Um sistema linear com $m$ equações e $n$ incógnitas modela o problema de uma economia com $n$ bens.\n",
        "\n",
        "Equações lineares representando a demanda:\n",
        "\\begin{equation}\\nonumber\n",
        "    \\left\\{\n",
        "    \\begin{array}{ccccccccccc}\n",
        "        a_{11}p_1&+& a_{12}p_2&+& \\cdots&+& a_{1n}p_{n}&+&y_1Y&=&q_1^d \\\\\n",
        "        a_{21}p_1&+& a_{22}p_2&+& \\cdots&+& a_{2n}p_{n}&+&y_2Y&=&q_2^d \\\\\n",
        "        \\vdots & \\vdots& &&&& & &\\vdots &&\\vdots \\\\\n",
        "        a_{m1}p_1&+& a_{m2}p_2&+& \\cdots&+& a_{mn}p_{n}&+&y_mY&=&q_m^d \\\\\n",
        "    \\end{array}\n",
        "    \\right.\n",
        "\\end{equation}\n",
        "\n",
        "Equações lineares representando a oferta:\n",
        "\n",
        "\\begin{equation}\\nonumber\n",
        "    \\left\\{\n",
        "    \\begin{array}{ccc}\n",
        "        b_{11}p_1+ c_0^1&=&q_1^s \\\\\n",
        "        b_{21}p_2+ c_0^2&=&q_2^s \\\\\n",
        "        \\vdots &&\\vdots \\\\\n",
        "        b_{m1}p_3+ c_0^m&=&q_m^s \\\\\n",
        "    \\end{array}\n",
        "    \\right.\n",
        "\\end{equation}\n",
        "\n",
        "A solução do sistema linear é uma $n-$upla de números $(p_1,p_2,\\cdots,p_n)$ que satisfaça simultaneamento as $m$ equações nos dois sistemas lineares. No equilíbrio a demanda é igual a oferta para esse tipo de economia. Y representa a renda."
      ]
    },
    {
      "cell_type": "markdown",
      "metadata": {
        "id": "A29uDsQ1Pact"
      },
      "source": [
        "# Exemplo:\n",
        "Considere uma economia com três bens $(q_1, q_2, q_3)$. Onde $Y$ representa a renda:\n",
        "\n",
        "Equações lineares representando a demanda:\n",
        "\\begin{equation}\\nonumber\n",
        "    \\left\\{\n",
        "    \\begin{array}{cccccccccc}\n",
        "         -0.05p_1&+& 0.02p_2&-& 0.01p_3&+&0.02Y&=& q_1^d\\\\\n",
        "          0.01p_1&-& 0.04p_2&+& 0.01p_3&+&0.04Y&=& q_2^d\\\\\n",
        "         -0.03p_1&+& 0.02p_2&-& 0.06p_3&+&0.01Y &=& q_3^d\\\\\n",
        "    \\end{array}\n",
        "    \\right.,\n",
        "    \\left[\n",
        "    \\begin{array}{rrr}\n",
        "        -0.05&  0.02&  -0.01\\\\\n",
        "        0.01&  -0.04&  0.01\\\\\n",
        "        -0.03& 0.02& -0.06\\\\\n",
        "    \\end{array}\n",
        "    \\right]\\left[\n",
        "    \\begin{array}{r}\n",
        "        p_1\\\\\n",
        "        p_2\\\\\n",
        "        p_3\\\\\n",
        "    \\end{array}\n",
        "    \\right] +\n",
        "    \\left[\n",
        "    \\begin{array}{r}\n",
        "        0.02Y\\\\\n",
        "        0.04Y\\\\\n",
        "        0.01Y\\\\\n",
        "    \\end{array}\n",
        "    \\right]\n",
        "    =\n",
        "       \\left[\n",
        "    \\begin{array}{r}\n",
        "        q_1^d\\\\\n",
        "        q_2^d\\\\\n",
        "        q_3^d\\\\\n",
        "    \\end{array}\n",
        "    \\right]\n",
        "\\end{equation}"
      ]
    },
    {
      "cell_type": "markdown",
      "metadata": {
        "id": "YzDS-vxrQsgg"
      },
      "source": [
        "Equações lineares representando a oferta:\n",
        "\\begin{equation}\\nonumber\n",
        "    \\left\\{\n",
        "    \\begin{array}{ccccc}\n",
        "          0.2p_1&-&20 &=& q_1^s\\\\\n",
        "          0.3p_2&-&14 &=& q_2^s\\\\\n",
        "          0.1p_3&-&25 &=& q_3^s\\\\\n",
        "    \\end{array}\n",
        "    \\right.,\n",
        "    \\left[\n",
        "    \\begin{array}{rrr}\n",
        "        0.2&  0  &  0  \\\\\n",
        "        0  &  0.3&  0  \\\\\n",
        "        0  & 0   &  0.1\\\\\n",
        "    \\end{array}\n",
        "    \\right]=\n",
        "    \\left[\n",
        "    \\begin{array}{r}\n",
        "        q_1^s + 20\\\\\n",
        "        q_2^s + 14\\\\\n",
        "        q_3^s + 25\\\\\n",
        "    \\end{array}\n",
        "    \\right]\n",
        "\\end{equation}"
      ]
    },
    {
      "cell_type": "markdown",
      "metadata": {
        "id": "BvX3C-kAyk6g"
      },
      "source": [
        "Usando os seguintes fatos: na condição de equílibrio, a demanda é igual a oferta, e a renda é igual $Y=1000$. O sistema linear pode ser reescrito da seguinte forma:\n",
        "\\begin{equation}\\nonumber\n",
        "    \\left\\{\n",
        "    \\begin{array}{ccccccccccccc}\n",
        "         -0.05p_1&+& 0.02p_2&-& 0.01p_3&+&0.02Y&=&0.2p_1&-&20  \\\\\n",
        "          0.01p_1&-& 0.04p_2&+& 0.01p_3&+&0.04Y&=& 0.3p_2&-&14\\\\\n",
        "         -0.03p_1&+& 0.02p_2&-& 0.06p_3&+&0.01Y &=& 0.1p_3&-&25\\\\\n",
        "    \\end{array}\n",
        "    \\right.,\n",
        "\\end{equation}\n",
        "\\begin{equation}\\nonumber\n",
        "    \\left[\n",
        "    \\begin{array}{rrr}\n",
        "        -0.05&  0.02&  -0.01\\\\\n",
        "        0.01&  -0.04&  0.01\\\\\n",
        "        -0.03& 0.02& -0.06\\\\\n",
        "    \\end{array}\n",
        "    \\right]\n",
        "    \\left[\n",
        "    \\begin{array}{r}\n",
        "        p_1\\\\\n",
        "        p_2\\\\\n",
        "        p_3\\\\\n",
        "    \\end{array}\n",
        "    \\right]+\n",
        "    \\left[\n",
        "    \\begin{array}{r}\n",
        "        0.02Y\\\\\n",
        "        0.04Y\\\\\n",
        "        0.01Y\\\\\n",
        "    \\end{array}\n",
        "    \\right]\n",
        "    =\n",
        "    \\left[\n",
        "    \\begin{array}{rrr}\n",
        "        0.2&  0  &  0  \\\\\n",
        "        0  &  0.3&  0  \\\\\n",
        "        0  & 0   &  0.1\\\\\n",
        "    \\end{array}\n",
        "    \\right]\n",
        "    \\left[\n",
        "    \\begin{array}{r}\n",
        "        p_1\\\\\n",
        "        p_2\\\\\n",
        "        p_3\\\\\n",
        "    \\end{array}\n",
        "    \\right]-\n",
        "    \\left[\n",
        "    \\begin{array}{r}\n",
        "        20\\\\\n",
        "        14\\\\\n",
        "        25\\\\\n",
        "    \\end{array}\n",
        "    \\right].\n",
        "\\end{equation}"
      ]
    },
    {
      "cell_type": "markdown",
      "metadata": {
        "id": "RPzkXBun1rtT"
      },
      "source": [
        "Definindo:\n",
        "\\begin{equation}\\nonumber\n",
        "    A = \\left[\n",
        "    \\begin{array}{rrr}\n",
        "        -0.05&  0.02&  -0.01\\\\\n",
        "        0.01&  -0.04&  0.01\\\\\n",
        "        -0.03& 0.02& -0.06\\\\\n",
        "    \\end{array}\n",
        "    \\right],\n",
        "\\end{equation}\n",
        "\\begin{equation}\\nonumber\n",
        "    B = \\left[\n",
        "    \\begin{array}{rrr}\n",
        "        0.2&  0  &  0  \\\\\n",
        "        0  &  0.3&  0  \\\\\n",
        "        0  & 0   &  0.1\\\\\n",
        "    \\end{array}\n",
        "    \\right],\n",
        "    \\end{equation}\n",
        "\\begin{equation}\\nonumber\n",
        "    p = \\left[\n",
        "    \\begin{array}{r}\n",
        "        p_1\\\\\n",
        "        p_2\\\\\n",
        "        p_3\\\\\n",
        "    \\end{array}\n",
        "    \\right],\n",
        "\\end{equation}"
      ]
    },
    {
      "cell_type": "markdown",
      "metadata": {
        "id": "R5eO8zfN2pfu"
      },
      "source": [
        "\\begin{equation}\\nonumber\n",
        "\\hat{Y}=\\left[\\begin{array}{r}\n",
        "        0.02Y\\\\\n",
        "        0.04Y\\\\\n",
        "        0.01Y\\\\\n",
        "    \\end{array}\n",
        "    \\right],\n",
        "\\end{equation}\n",
        "e\n",
        "\\begin{equation}\\nonumber\n",
        "d=\\left[\\begin{array}{r}\n",
        "        20\\\\\n",
        "        14\\\\\n",
        "        25\\\\\n",
        "    \\end{array}\n",
        "    \\right].\n",
        "\\end{equation}"
      ]
    },
    {
      "cell_type": "markdown",
      "metadata": {
        "id": "APVehuX-2POH"
      },
      "source": [
        "O problema pode ser interpretado da seguinte maneira,\n",
        "$$Ap+\\hat{Y}=Bp-d,$$\n",
        "ou \n",
        "$$Ap-Bp=-\\hat{Y}-d,$$\n",
        "ou ainda,\n",
        "$$Bp-Ap=\\hat{Y} + d,$$\n",
        "então\n",
        "$$(B-A)p=\\hat{Y} + d.$$\n",
        "\n",
        "Podemos encontrar os preço de equílibrio $p$ invertendo a matriz $(B-A)$, isto é,\n",
        "$$p=(B-A)^{-1}(\\hat{Y}+d).$$\n",
        "\n",
        "Para resumir a notação definimos $F=B-A$ e $g=(\\hat{Y}+d)$, e reescrevemos:\n",
        "$$p=F^{-1}g$$\n"
      ]
    },
    {
      "cell_type": "markdown",
      "metadata": {
        "id": "gzI0xl9O48t2"
      },
      "source": [
        "### Resultado numérico\n",
        "Definindo F e g:"
      ]
    },
    {
      "cell_type": "code",
      "metadata": {
        "colab": {
          "base_uri": "https://localhost:8080/"
        },
        "id": "HOi0yqlG5x2z",
        "outputId": "18e63a5f-766e-42e0-d1c1-faef7b7940d6"
      },
      "source": [
        "import numpy as np\n",
        "A = np.array([[-0.05, 0.02,  -0.01],[0.01,  -0.04,  0.01],[ -0.03, 0.02, -0.06]])\n",
        "B = np.array([[0.2, 0,  0],[0,  0.3,  0],[ 0, 0, 0.1]])\n",
        "print(A)\n",
        "print(B)\n",
        "F = B - A\n",
        "print(F)"
      ],
      "execution_count": null,
      "outputs": [
        {
          "output_type": "stream",
          "text": [
            "[[-0.05  0.02 -0.01]\n",
            " [ 0.01 -0.04  0.01]\n",
            " [-0.03  0.02 -0.06]]\n",
            "[[0.2 0.  0. ]\n",
            " [0.  0.3 0. ]\n",
            " [0.  0.  0.1]]\n",
            "[[ 0.25 -0.02  0.01]\n",
            " [-0.01  0.34 -0.01]\n",
            " [ 0.03 -0.02  0.16]]\n"
          ],
          "name": "stdout"
        }
      ]
    },
    {
      "cell_type": "code",
      "metadata": {
        "colab": {
          "base_uri": "https://localhost:8080/"
        },
        "id": "32ndmZD-7K9j",
        "outputId": "def4b56a-00cb-4acc-bea5-0726513dd7f1"
      },
      "source": [
        "# Definição da renda\n",
        "Y = 1000\n",
        "YH = np.array([[0.02],[0.04],[0.01]])\n",
        "YH = Y * YH\n",
        "print(YH) \n",
        "# Vetor demanda\n",
        "d = np.array([[20],[14],[25]])\n",
        "print(d)\n",
        "# Vetor lado direito\n",
        "g = YH + d\n",
        "print(g) "
      ],
      "execution_count": null,
      "outputs": [
        {
          "output_type": "stream",
          "text": [
            "[[20.]\n",
            " [40.]\n",
            " [10.]]\n",
            "[[20]\n",
            " [14]\n",
            " [25]]\n",
            "[[40.]\n",
            " [54.]\n",
            " [35.]]\n"
          ],
          "name": "stdout"
        }
      ]
    },
    {
      "cell_type": "markdown",
      "metadata": {
        "id": "D6o6Qkx-8qEV"
      },
      "source": [
        "Eliminação gaussiana:"
      ]
    },
    {
      "cell_type": "code",
      "metadata": {
        "colab": {
          "base_uri": "https://localhost:8080/"
        },
        "id": "nUurzJif873H",
        "outputId": "45ec76f7-8075-4080-d39a-18c598316f2b"
      },
      "source": [
        "# Matriz \n",
        "print(F)\n",
        "# Lado direito\n",
        "print(g)\n"
      ],
      "execution_count": null,
      "outputs": [
        {
          "output_type": "stream",
          "text": [
            "[[ 0.25 -0.02  0.01]\n",
            " [-0.01  0.34 -0.01]\n",
            " [ 0.03 -0.02  0.16]]\n",
            "[[40.]\n",
            " [54.]\n",
            " [35.]]\n"
          ],
          "name": "stdout"
        }
      ]
    },
    {
      "cell_type": "markdown",
      "metadata": {
        "id": "x800HaLc9jjO"
      },
      "source": [
        "Definindo a matriz extendida:"
      ]
    },
    {
      "cell_type": "code",
      "metadata": {
        "colab": {
          "base_uri": "https://localhost:8080/"
        },
        "id": "_audwoWo9nWD",
        "outputId": "22c217e0-f93b-4e94-8107-a134451bd15e"
      },
      "source": [
        "FE = np.array([[0.25, -0.02,  0.01, 40],[-0.01,  0.34,  -0.01, 54],[ 0.03, -0.02, 0.16, 35]])\n",
        "print(FE)"
      ],
      "execution_count": null,
      "outputs": [
        {
          "output_type": "stream",
          "text": [
            "[[ 2.5e-01 -2.0e-02  1.0e-02  4.0e+01]\n",
            " [-1.0e-02  3.4e-01 -1.0e-02  5.4e+01]\n",
            " [ 3.0e-02 -2.0e-02  1.6e-01  3.5e+01]]\n"
          ],
          "name": "stdout"
        }
      ]
    },
    {
      "cell_type": "markdown",
      "metadata": {
        "id": "QG8oF5WdYTnN"
      },
      "source": [
        "Definindo a operação $L_2=>L_2-\\frac{a_{21}}{a_{11}}L_1$."
      ]
    },
    {
      "cell_type": "code",
      "metadata": {
        "id": "Pr3oKIGJYTnN",
        "colab": {
          "base_uri": "https://localhost:8080/"
        },
        "outputId": "ec0c73cf-4c6c-4575-9c7a-886418e0c852"
      },
      "source": [
        "E1 = np.array([[1,0,0],[-FE[1,0]/FE[0,0],1,0],[0,0,1]])\n",
        "print(E1)"
      ],
      "execution_count": null,
      "outputs": [
        {
          "output_type": "stream",
          "text": [
            "[[1.   0.   0.  ]\n",
            " [0.04 1.   0.  ]\n",
            " [0.   0.   1.  ]]\n"
          ],
          "name": "stdout"
        }
      ]
    },
    {
      "cell_type": "code",
      "metadata": {
        "id": "Yk5FTOb1YTnO",
        "colab": {
          "base_uri": "https://localhost:8080/"
        },
        "outputId": "882c5344-388e-4db8-dd6e-fe62dff9dfe5"
      },
      "source": [
        "E1 @ FE"
      ],
      "execution_count": null,
      "outputs": [
        {
          "output_type": "execute_result",
          "data": {
            "text/plain": [
              "array([[ 2.500e-01, -2.000e-02,  1.000e-02,  4.000e+01],\n",
              "       [ 0.000e+00,  3.392e-01, -9.600e-03,  5.560e+01],\n",
              "       [ 3.000e-02, -2.000e-02,  1.600e-01,  3.500e+01]])"
            ]
          },
          "metadata": {
            "tags": []
          },
          "execution_count": 6
        }
      ]
    },
    {
      "cell_type": "markdown",
      "metadata": {
        "id": "FzE2bVbaYTnP"
      },
      "source": [
        "Definindo a operação $L_3=>L_3-\\frac{a_{31}}{a_{11}}L_1$."
      ]
    },
    {
      "cell_type": "code",
      "metadata": {
        "id": "ugrAVDvaYTnQ",
        "colab": {
          "base_uri": "https://localhost:8080/"
        },
        "outputId": "95979fb4-030e-45a0-fb37-0cbd5deedef6"
      },
      "source": [
        "E2 = np.array([[1,0,0],[0,1,0],[-FE[2,0]/FE[0,0],0,1]])\n",
        "print(E2)"
      ],
      "execution_count": null,
      "outputs": [
        {
          "output_type": "stream",
          "text": [
            "[[ 1.    0.    0.  ]\n",
            " [ 0.    1.    0.  ]\n",
            " [-0.12  0.    1.  ]]\n"
          ],
          "name": "stdout"
        }
      ]
    },
    {
      "cell_type": "code",
      "metadata": {
        "id": "Dawo9uUoYTnQ",
        "colab": {
          "base_uri": "https://localhost:8080/"
        },
        "outputId": "81fff610-1d62-45a7-a657-a724afa66503"
      },
      "source": [
        "AUX = E2 @ E1 @ FE\n",
        "print(AUX)\n"
      ],
      "execution_count": null,
      "outputs": [
        {
          "output_type": "stream",
          "text": [
            "[[ 2.500e-01 -2.000e-02  1.000e-02  4.000e+01]\n",
            " [ 0.000e+00  3.392e-01 -9.600e-03  5.560e+01]\n",
            " [ 0.000e+00 -1.760e-02  1.588e-01  3.020e+01]]\n"
          ],
          "name": "stdout"
        }
      ]
    },
    {
      "cell_type": "markdown",
      "metadata": {
        "id": "QeQR6yDfYTnR"
      },
      "source": [
        "Definindo a operação $L_3=>L_3-\\frac{a_{32}}{a_{22}}L_2$."
      ]
    },
    {
      "cell_type": "code",
      "metadata": {
        "id": "8nNQD3DsYTnR",
        "colab": {
          "base_uri": "https://localhost:8080/"
        },
        "outputId": "544ad6d1-978e-42a4-8fd1-276c599984d3"
      },
      "source": [
        "E3 = np.array([[1,0,0],[0,1,0],[0,-AUX[2,1]/AUX[1,1],1]])\n",
        "print(E3)"
      ],
      "execution_count": null,
      "outputs": [
        {
          "output_type": "stream",
          "text": [
            "[[1.         0.         0.        ]\n",
            " [0.         1.         0.        ]\n",
            " [0.         0.05188679 1.        ]]\n"
          ],
          "name": "stdout"
        }
      ]
    },
    {
      "cell_type": "code",
      "metadata": {
        "id": "jXxH3kp2YTnS",
        "colab": {
          "base_uri": "https://localhost:8080/"
        },
        "outputId": "1365a437-0b15-4003-f650-b21b0060246e"
      },
      "source": [
        "E = E3 @ E2 @ E1\n",
        "print(E)"
      ],
      "execution_count": null,
      "outputs": [
        {
          "output_type": "stream",
          "text": [
            "[[ 1.          0.          0.        ]\n",
            " [ 0.04        1.          0.        ]\n",
            " [-0.11792453  0.05188679  1.        ]]\n"
          ],
          "name": "stdout"
        }
      ]
    },
    {
      "cell_type": "code",
      "metadata": {
        "id": "0mz3hpQuYTnS",
        "colab": {
          "base_uri": "https://localhost:8080/"
        },
        "outputId": "93520ac8-9160-4c9b-ca61-766d34c39aa0"
      },
      "source": [
        "EQ = E @ FE\n",
        "print(EQ)"
      ],
      "execution_count": null,
      "outputs": [
        {
          "output_type": "stream",
          "text": [
            "[[ 2.50000000e-01 -2.00000000e-02  1.00000000e-02  4.00000000e+01]\n",
            " [ 0.00000000e+00  3.39200000e-01 -9.60000000e-03  5.56000000e+01]\n",
            " [ 0.00000000e+00  0.00000000e+00  1.58301887e-01  3.30849057e+01]]\n"
          ],
          "name": "stdout"
        }
      ]
    },
    {
      "cell_type": "markdown",
      "metadata": {
        "id": "RLJBG7mDYTnT"
      },
      "source": [
        "Usamos a matriz equivalente E para encontrar o vetor solução aproximado $(p_1,p_2,p_3)$."
      ]
    },
    {
      "cell_type": "code",
      "metadata": {
        "id": "xEYQ57qtYTnT",
        "colab": {
          "base_uri": "https://localhost:8080/"
        },
        "outputId": "84afab94-ccd7-4652-eb3e-aee30ab70c92"
      },
      "source": [
        "p3=EQ[2,3]/EQ[2,2]\n",
        "print(p3)"
      ],
      "execution_count": null,
      "outputs": [
        {
          "output_type": "stream",
          "text": [
            "208.99880810488676\n"
          ],
          "name": "stdout"
        }
      ]
    },
    {
      "cell_type": "code",
      "metadata": {
        "id": "SkiEzJS4YTnT",
        "colab": {
          "base_uri": "https://localhost:8080/"
        },
        "outputId": "78baba6f-aace-4fa4-f815-c73db4b3a284"
      },
      "source": [
        "p2= (EQ[1,3] - EQ[1,2] * p3) / EQ[1,1] \n",
        "print(p2)"
      ],
      "execution_count": null,
      "outputs": [
        {
          "output_type": "stream",
          "text": [
            "169.83015494636473\n"
          ],
          "name": "stdout"
        }
      ]
    },
    {
      "cell_type": "code",
      "metadata": {
        "id": "WyjC-S6KYTnU",
        "colab": {
          "base_uri": "https://localhost:8080/"
        },
        "outputId": "4ebf98c5-d4cf-4afe-d08c-a784be4094bf"
      },
      "source": [
        "p1= (EQ[0,3] - EQ[0,2] * p3 - EQ[0,1] * p2) / EQ[0,0]\n",
        "print(p1)"
      ],
      "execution_count": null,
      "outputs": [
        {
          "output_type": "stream",
          "text": [
            "165.2264600715137\n"
          ],
          "name": "stdout"
        }
      ]
    },
    {
      "cell_type": "markdown",
      "metadata": {
        "id": "HUPuh1xNYTnU"
      },
      "source": [
        "A solução numérica para o preço de equílibrio $(p_1,p_2,p_3)=(165.2264600715137,169.83015494636473,208.99880810488676)$."
      ]
    },
    {
      "cell_type": "markdown",
      "metadata": {
        "id": "a66cdQ-BDB7w"
      },
      "source": [
        "Solução usando pacotes do Python:\n",
        "\n",
        "a) Usando a matriz inversa:"
      ]
    },
    {
      "cell_type": "code",
      "metadata": {
        "colab": {
          "base_uri": "https://localhost:8080/"
        },
        "id": "hlIvyK4JDes1",
        "outputId": "75c85faf-89fb-4b70-d0ab-a0908a6d7858"
      },
      "source": [
        "FINV = np.linalg.inv(F)\n",
        "p= FINV @ g\n",
        "print(p)\n"
      ],
      "execution_count": null,
      "outputs": [
        {
          "output_type": "stream",
          "text": [
            "[[165.22646007]\n",
            " [169.83015495]\n",
            " [208.9988081 ]]\n"
          ],
          "name": "stdout"
        }
      ]
    },
    {
      "cell_type": "markdown",
      "metadata": {
        "id": "gr4EKRtyWoxY"
      },
      "source": [
        "b) Usando o comando para a fatoração LU."
      ]
    },
    {
      "cell_type": "code",
      "metadata": {
        "colab": {
          "base_uri": "https://localhost:8080/"
        },
        "id": "Tk31fu6JKzFb",
        "outputId": "6c11a2c0-b880-4131-9542-64989adaa0be"
      },
      "source": [
        "from scipy.linalg import lu\n",
        "per, L, U = lu(F)\n",
        "print(L)\n",
        "print(U)\n",
        "print(L @ U)"
      ],
      "execution_count": null,
      "outputs": [
        {
          "output_type": "stream",
          "text": [
            "[[ 1.          0.          0.        ]\n",
            " [-0.04        1.          0.        ]\n",
            " [ 0.12       -0.05188679  1.        ]]\n",
            "[[ 0.25       -0.02        0.01      ]\n",
            " [ 0.          0.3392     -0.0096    ]\n",
            " [ 0.          0.          0.15830189]]\n",
            "[[ 0.25 -0.02  0.01]\n",
            " [-0.01  0.34 -0.01]\n",
            " [ 0.03 -0.02  0.16]]\n"
          ],
          "name": "stdout"
        }
      ]
    },
    {
      "cell_type": "markdown",
      "metadata": {
        "id": "UiEI6H88YTnV"
      },
      "source": [
        "# Referências\n",
        "- Anton, Howard Rorres, Chris. Álgebra Linear com Aplicações. Editora Bookman- 2012.\n",
        "- Fuad Aleskerov, Hasan Ersel, Dmitri Piontkovski. Linear Algebra for Economists. Springer - 2011.\n",
        "- https://www.math.ubc.ca/~pwalls/math-python/linear-algebra/solving-linear-systems/"
      ]
    }
  ]
}