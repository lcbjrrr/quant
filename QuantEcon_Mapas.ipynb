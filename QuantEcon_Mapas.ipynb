{
  "nbformat": 4,
  "nbformat_minor": 0,
  "metadata": {
    "colab": {
      "name": "QuantEcon_Mapas.ipynb",
      "provenance": [],
      "authorship_tag": "ABX9TyNpycwHaXPEXuMJO0J0QSSS",
      "include_colab_link": true
    },
    "kernelspec": {
      "name": "python3",
      "display_name": "Python 3"
    }
  },
  "cells": [
    {
      "cell_type": "markdown",
      "metadata": {
        "id": "view-in-github",
        "colab_type": "text"
      },
      "source": [
        "<a href=\"https://colab.research.google.com/github/lcbjrrr/quant/blob/master/QuantEcon_Mapas.ipynb\" target=\"_parent\"><img src=\"https://colab.research.google.com/assets/colab-badge.svg\" alt=\"Open In Colab\"/></a>"
      ]
    },
    {
      "cell_type": "markdown",
      "metadata": {
        "id": "V1lMq9o1ThBN",
        "colab_type": "text"
      },
      "source": [
        "***Mapa LATAM***"
      ]
    },
    {
      "cell_type": "code",
      "metadata": {
        "id": "xPct4gH-ThP6",
        "colab_type": "code",
        "outputId": "e9261878-3cf8-4cfa-fd2e-c0e73af8b236",
        "colab": {
          "base_uri": "https://localhost:8080/",
          "height": 204
        }
      },
      "source": [
        "import pandas as pd\n",
        "from shapely.geometry import Point\n",
        "\n",
        "df = pd.DataFrame({\n",
        "    'City': ['Buenos Aires', 'Brasilia', 'Santiago', 'Bogota', 'Caracas'],\n",
        "    'Country': ['Argentina', 'Brazil', 'Chile', 'Colombia', 'Venezuela'],\n",
        "    'Latitude': [-34.58, -15.78, -33.45, 4.60, 10.48],\n",
        "    'Longitude': [-58.66, -47.91, -70.66, -74.08, -66.86]\n",
        "})\n",
        "df[\"Coordinates\"] = list(zip(df.Longitude, df.Latitude))\n",
        "df[\"Coordinates\"] = df[\"Coordinates\"].apply(Point)\n",
        "df"
      ],
      "execution_count": 0,
      "outputs": [
        {
          "output_type": "execute_result",
          "data": {
            "text/html": [
              "<div>\n",
              "<style scoped>\n",
              "    .dataframe tbody tr th:only-of-type {\n",
              "        vertical-align: middle;\n",
              "    }\n",
              "\n",
              "    .dataframe tbody tr th {\n",
              "        vertical-align: top;\n",
              "    }\n",
              "\n",
              "    .dataframe thead th {\n",
              "        text-align: right;\n",
              "    }\n",
              "</style>\n",
              "<table border=\"1\" class=\"dataframe\">\n",
              "  <thead>\n",
              "    <tr style=\"text-align: right;\">\n",
              "      <th></th>\n",
              "      <th>City</th>\n",
              "      <th>Country</th>\n",
              "      <th>Latitude</th>\n",
              "      <th>Longitude</th>\n",
              "      <th>Coordinates</th>\n",
              "    </tr>\n",
              "  </thead>\n",
              "  <tbody>\n",
              "    <tr>\n",
              "      <th>0</th>\n",
              "      <td>Buenos Aires</td>\n",
              "      <td>Argentina</td>\n",
              "      <td>-34.58</td>\n",
              "      <td>-58.66</td>\n",
              "      <td>POINT (-58.66 -34.58)</td>\n",
              "    </tr>\n",
              "    <tr>\n",
              "      <th>1</th>\n",
              "      <td>Brasilia</td>\n",
              "      <td>Brazil</td>\n",
              "      <td>-15.78</td>\n",
              "      <td>-47.91</td>\n",
              "      <td>POINT (-47.91 -15.78)</td>\n",
              "    </tr>\n",
              "    <tr>\n",
              "      <th>2</th>\n",
              "      <td>Santiago</td>\n",
              "      <td>Chile</td>\n",
              "      <td>-33.45</td>\n",
              "      <td>-70.66</td>\n",
              "      <td>POINT (-70.66 -33.45)</td>\n",
              "    </tr>\n",
              "    <tr>\n",
              "      <th>3</th>\n",
              "      <td>Bogota</td>\n",
              "      <td>Colombia</td>\n",
              "      <td>4.60</td>\n",
              "      <td>-74.08</td>\n",
              "      <td>POINT (-74.08 4.6)</td>\n",
              "    </tr>\n",
              "    <tr>\n",
              "      <th>4</th>\n",
              "      <td>Caracas</td>\n",
              "      <td>Venezuela</td>\n",
              "      <td>10.48</td>\n",
              "      <td>-66.86</td>\n",
              "      <td>POINT (-66.86 10.48)</td>\n",
              "    </tr>\n",
              "  </tbody>\n",
              "</table>\n",
              "</div>"
            ],
            "text/plain": [
              "           City    Country  Latitude  Longitude            Coordinates\n",
              "0  Buenos Aires  Argentina    -34.58     -58.66  POINT (-58.66 -34.58)\n",
              "1      Brasilia     Brazil    -15.78     -47.91  POINT (-47.91 -15.78)\n",
              "2      Santiago      Chile    -33.45     -70.66  POINT (-70.66 -33.45)\n",
              "3        Bogota   Colombia      4.60     -74.08     POINT (-74.08 4.6)\n",
              "4       Caracas  Venezuela     10.48     -66.86   POINT (-66.86 10.48)"
            ]
          },
          "metadata": {
            "tags": []
          },
          "execution_count": 5
        }
      ]
    },
    {
      "cell_type": "code",
      "metadata": {
        "id": "0NRSCT6gUEeD",
        "colab_type": "code",
        "colab": {}
      },
      "source": [
        "!pip install geopandas"
      ],
      "execution_count": 0,
      "outputs": []
    },
    {
      "cell_type": "code",
      "metadata": {
        "id": "jOxiYQz_T9Zu",
        "colab_type": "code",
        "outputId": "24c212c5-a6a9-4dbd-c561-92d5a64eacc6",
        "colab": {
          "base_uri": "https://localhost:8080/",
          "height": 204
        }
      },
      "source": [
        "import geopandas as gpd\n",
        "\n",
        "gdf = gpd.GeoDataFrame(df, geometry=\"Coordinates\")\n",
        "gdf"
      ],
      "execution_count": 0,
      "outputs": [
        {
          "output_type": "execute_result",
          "data": {
            "text/html": [
              "<div>\n",
              "<style scoped>\n",
              "    .dataframe tbody tr th:only-of-type {\n",
              "        vertical-align: middle;\n",
              "    }\n",
              "\n",
              "    .dataframe tbody tr th {\n",
              "        vertical-align: top;\n",
              "    }\n",
              "\n",
              "    .dataframe thead th {\n",
              "        text-align: right;\n",
              "    }\n",
              "</style>\n",
              "<table border=\"1\" class=\"dataframe\">\n",
              "  <thead>\n",
              "    <tr style=\"text-align: right;\">\n",
              "      <th></th>\n",
              "      <th>City</th>\n",
              "      <th>Country</th>\n",
              "      <th>Latitude</th>\n",
              "      <th>Longitude</th>\n",
              "      <th>Coordinates</th>\n",
              "    </tr>\n",
              "  </thead>\n",
              "  <tbody>\n",
              "    <tr>\n",
              "      <th>0</th>\n",
              "      <td>Buenos Aires</td>\n",
              "      <td>Argentina</td>\n",
              "      <td>-34.58</td>\n",
              "      <td>-58.66</td>\n",
              "      <td>POINT (-58.66000 -34.58000)</td>\n",
              "    </tr>\n",
              "    <tr>\n",
              "      <th>1</th>\n",
              "      <td>Brasilia</td>\n",
              "      <td>Brazil</td>\n",
              "      <td>-15.78</td>\n",
              "      <td>-47.91</td>\n",
              "      <td>POINT (-47.91000 -15.78000)</td>\n",
              "    </tr>\n",
              "    <tr>\n",
              "      <th>2</th>\n",
              "      <td>Santiago</td>\n",
              "      <td>Chile</td>\n",
              "      <td>-33.45</td>\n",
              "      <td>-70.66</td>\n",
              "      <td>POINT (-70.66000 -33.45000)</td>\n",
              "    </tr>\n",
              "    <tr>\n",
              "      <th>3</th>\n",
              "      <td>Bogota</td>\n",
              "      <td>Colombia</td>\n",
              "      <td>4.60</td>\n",
              "      <td>-74.08</td>\n",
              "      <td>POINT (-74.08000 4.60000)</td>\n",
              "    </tr>\n",
              "    <tr>\n",
              "      <th>4</th>\n",
              "      <td>Caracas</td>\n",
              "      <td>Venezuela</td>\n",
              "      <td>10.48</td>\n",
              "      <td>-66.86</td>\n",
              "      <td>POINT (-66.86000 10.48000)</td>\n",
              "    </tr>\n",
              "  </tbody>\n",
              "</table>\n",
              "</div>"
            ],
            "text/plain": [
              "           City    Country  Latitude  Longitude                  Coordinates\n",
              "0  Buenos Aires  Argentina    -34.58     -58.66  POINT (-58.66000 -34.58000)\n",
              "1      Brasilia     Brazil    -15.78     -47.91  POINT (-47.91000 -15.78000)\n",
              "2      Santiago      Chile    -33.45     -70.66  POINT (-70.66000 -33.45000)\n",
              "3        Bogota   Colombia      4.60     -74.08    POINT (-74.08000 4.60000)\n",
              "4       Caracas  Venezuela     10.48     -66.86   POINT (-66.86000 10.48000)"
            ]
          },
          "metadata": {
            "tags": []
          },
          "execution_count": 9
        }
      ]
    },
    {
      "cell_type": "code",
      "metadata": {
        "id": "Ef_zgBdMUQM-",
        "colab_type": "code",
        "outputId": "4ab5f612-0415-4edc-9f0e-c661e97769ba",
        "colab": {
          "base_uri": "https://localhost:8080/",
          "height": 235
        }
      },
      "source": [
        "world = gpd.read_file(gpd.datasets.get_path(\"naturalearth_lowres\"))\n",
        "world = world.set_index(\"iso_a3\")\n",
        "\n",
        "world.head()"
      ],
      "execution_count": 0,
      "outputs": [
        {
          "output_type": "execute_result",
          "data": {
            "text/html": [
              "<div>\n",
              "<style scoped>\n",
              "    .dataframe tbody tr th:only-of-type {\n",
              "        vertical-align: middle;\n",
              "    }\n",
              "\n",
              "    .dataframe tbody tr th {\n",
              "        vertical-align: top;\n",
              "    }\n",
              "\n",
              "    .dataframe thead th {\n",
              "        text-align: right;\n",
              "    }\n",
              "</style>\n",
              "<table border=\"1\" class=\"dataframe\">\n",
              "  <thead>\n",
              "    <tr style=\"text-align: right;\">\n",
              "      <th></th>\n",
              "      <th>pop_est</th>\n",
              "      <th>continent</th>\n",
              "      <th>name</th>\n",
              "      <th>gdp_md_est</th>\n",
              "      <th>geometry</th>\n",
              "    </tr>\n",
              "    <tr>\n",
              "      <th>iso_a3</th>\n",
              "      <th></th>\n",
              "      <th></th>\n",
              "      <th></th>\n",
              "      <th></th>\n",
              "      <th></th>\n",
              "    </tr>\n",
              "  </thead>\n",
              "  <tbody>\n",
              "    <tr>\n",
              "      <th>FJI</th>\n",
              "      <td>920938</td>\n",
              "      <td>Oceania</td>\n",
              "      <td>Fiji</td>\n",
              "      <td>8374.0</td>\n",
              "      <td>MULTIPOLYGON (((180.00000 -16.06713, 180.00000...</td>\n",
              "    </tr>\n",
              "    <tr>\n",
              "      <th>TZA</th>\n",
              "      <td>53950935</td>\n",
              "      <td>Africa</td>\n",
              "      <td>Tanzania</td>\n",
              "      <td>150600.0</td>\n",
              "      <td>POLYGON ((33.90371 -0.95000, 34.07262 -1.05982...</td>\n",
              "    </tr>\n",
              "    <tr>\n",
              "      <th>ESH</th>\n",
              "      <td>603253</td>\n",
              "      <td>Africa</td>\n",
              "      <td>W. Sahara</td>\n",
              "      <td>906.5</td>\n",
              "      <td>POLYGON ((-8.66559 27.65643, -8.66512 27.58948...</td>\n",
              "    </tr>\n",
              "    <tr>\n",
              "      <th>CAN</th>\n",
              "      <td>35623680</td>\n",
              "      <td>North America</td>\n",
              "      <td>Canada</td>\n",
              "      <td>1674000.0</td>\n",
              "      <td>MULTIPOLYGON (((-122.84000 49.00000, -122.9742...</td>\n",
              "    </tr>\n",
              "    <tr>\n",
              "      <th>USA</th>\n",
              "      <td>326625791</td>\n",
              "      <td>North America</td>\n",
              "      <td>United States of America</td>\n",
              "      <td>18560000.0</td>\n",
              "      <td>MULTIPOLYGON (((-122.84000 49.00000, -120.0000...</td>\n",
              "    </tr>\n",
              "  </tbody>\n",
              "</table>\n",
              "</div>"
            ],
            "text/plain": [
              "          pop_est  ...                                           geometry\n",
              "iso_a3             ...                                                   \n",
              "FJI        920938  ...  MULTIPOLYGON (((180.00000 -16.06713, 180.00000...\n",
              "TZA      53950935  ...  POLYGON ((33.90371 -0.95000, 34.07262 -1.05982...\n",
              "ESH        603253  ...  POLYGON ((-8.66559 27.65643, -8.66512 27.58948...\n",
              "CAN      35623680  ...  MULTIPOLYGON (((-122.84000 49.00000, -122.9742...\n",
              "USA     326625791  ...  MULTIPOLYGON (((-122.84000 49.00000, -120.0000...\n",
              "\n",
              "[5 rows x 5 columns]"
            ]
          },
          "metadata": {
            "tags": []
          },
          "execution_count": 10
        }
      ]
    },
    {
      "cell_type": "code",
      "metadata": {
        "id": "erClioOoUcts",
        "colab_type": "code",
        "outputId": "f6de2089-86f9-407a-bcba-0c3dd01b958d",
        "colab": {
          "base_uri": "https://localhost:8080/",
          "height": 621
        }
      },
      "source": [
        "import matplotlib.pyplot as plt\n",
        "\n",
        "fig, gax = plt.subplots(figsize=(10,10))\n",
        "\n",
        "world.query(\"continent == 'South America'\").plot(ax = gax, edgecolor='black', color='white')\n",
        "\n",
        "# cities as pale red dots.\n",
        "gdf.plot(ax=gax, color='red', alpha = 0.5)\n",
        "\n",
        "gax.set_xlabel('longitude')\n",
        "gax.set_ylabel('latitude')\n",
        "gax.set_title('South America')\n",
        "\n",
        "# Kill the spines...\n",
        "gax.spines['top'].set_visible(False)\n",
        "gax.spines['right'].set_visible(False)\n",
        "# plt.axis('off')\n",
        "\n",
        "# Label the cities\n",
        "for x, y, label in zip(gdf['Coordinates'].x, gdf['Coordinates'].y, gdf['City']):\n",
        "    gax.annotate(label, xy=(x,y), xytext=(4,4), textcoords='offset points')\n",
        "\n",
        "plt.show()"
      ],
      "execution_count": 0,
      "outputs": [
        {
          "output_type": "display_data",
          "data": {
            "image/png": "[encoded data removed]",
            "text/plain": [
              "<Figure size 720x720 with 1 Axes>"
            ]
          },
          "metadata": {
            "tags": []
          }
        }
      ]
    }
  ]
}