{
  "cells": [
    {
      "cell_type": "markdown",
      "metadata": {
        "id": "view-in-github",
        "colab_type": "text"
      },
      "source": [
        "<a href=\"https://colab.research.google.com/github/lcbjrrr/quant/blob/master/Gabarito_Avalia%C3%A7%C3%A3o_Continuada_Corre%C3%A7%C3%A3o_de_algoritmos.ipynb\" target=\"_parent\"><img src=\"https://colab.research.google.com/assets/colab-badge.svg\" alt=\"Open In Colab\"/></a>"
      ]
    },
    {
      "cell_type": "markdown",
      "metadata": {
        "id": "pbesnl4tu9Qd"
      },
      "source": [
        "Ficha Técnica Disciplina - Programação e ML.\n",
        "\n",
        "Conteúdo \n",
        "Correção de algoritmos.\n",
        "\n",
        "Autores:\n",
        "\n",
        "Anderson Borba (anderson.aborba@professores.ibmec.edu.br) e\n",
        "\n",
        "Luiz Barboza (luiz.cbjunior@professores.ibmec.edu.br).\n",
        "\n",
        "Endereço eletrônico: http://quant-ibmec.group/calculos/"
      ]
    },
    {
      "cell_type": "markdown",
      "metadata": {
        "id": "CCx39_h9u9Qi"
      },
      "source": [
        "# Avaliação continuada\n",
        "Está AC deve ser realizada em duas etapas:\n",
        "1) Fazer os exercícios usando a técnica do teste de mesa, sem o auxílio do computador e entregar um documento parcial ao professor (2 horas aulas).\n",
        "2) Implementar suas correções (Corrigiu?) ou propor novas maneiras de corrigir os algoritmos (2 horas aulas).  "
      ]
    },
    {
      "cell_type": "markdown",
      "metadata": {
        "id": "CRWktL4ou9Qi"
      },
      "source": [
        "# EX (1) \n",
        "O algoritmo abaixo deveria fazer a soma de n valores dados pelo teclado. O algoritmos está errado. O estudante deve encontrar o erro e corrigir. "
      ]
    },
    {
      "cell_type": "code",
      "execution_count": null,
      "metadata": {
        "id": "OA4Wrfkhu9Qj",
        "outputId": "d756baec-8ea2-4850-8a64-df84137d35d6"
      },
      "outputs": [
        {
          "name": "stdout",
          "output_type": "stream",
          "text": [
            "Digite a primeira parcela da soma (0 para encerrar o programa) =1\n",
            "Digite a primeira parcela da soma (0 para encerrar o programa) =7\n",
            "Digite a primeira parcela da soma (0 para encerrar o programa) =5\n",
            "Digite a primeira parcela da soma (0 para encerrar o programa) =4\n",
            "Digite a primeira parcela da soma (0 para encerrar o programa) =3\n",
            "Digite a primeira parcela da soma (0 para encerrar o programa) =0\n",
            "20.0\n"
          ]
        }
      ],
      "source": [
        "soma = 0\n",
        "n = 1 \n",
        "while n != 0:\n",
        "    n = float(input(\"Digite a primeira parcela da soma (0 para encerrar o programa) =\"))\n",
        "    soma = soma + n\n",
        "print(soma)\n",
        "Programa corrigido:"
      ]
    },
    {
      "cell_type": "markdown",
      "metadata": {
        "id": "QBdZOw8Ou9Ql"
      },
      "source": [
        "# Ex (2) \n",
        "O programa abaixo está errado. O programa deveria receber 3 valores inteiros e retornar o menor e o menor valor.\n",
        "Programa corrigido:"
      ]
    },
    {
      "cell_type": "code",
      "execution_count": null,
      "metadata": {
        "id": "rENyyWZIu9Qm",
        "outputId": "7a7594f9-e3e0-487e-d6e3-66e72f823ae4"
      },
      "outputs": [
        {
          "name": "stdout",
          "output_type": "stream",
          "text": [
            "Digite o primeiro valor:5\n",
            "Digite o segundo valor:7\n",
            "Digite o terceiro valor:9\n",
            "O menor número digitado foi 5\n",
            "O maior número digitado foi 9\n"
          ]
        }
      ],
      "source": [
        "a = int(input(\"Digite o primeiro valor:\"))\n",
        "b = int(input(\"Digite o segundo valor:\"))\n",
        "c = int(input(\"Digite o terceiro valor:\"))\n",
        "maior = a\n",
        "if b > a and b > c:\n",
        "    maior = b\n",
        "if c > a and c > b:\n",
        "    maior = c\n",
        "menor = a\n",
        "if b < c and b < a:\n",
        "    menor = b\n",
        "if c < b and c < a:\n",
        "    menor = c\n",
        "print(\"O menor número digitado foi\", menor)\n",
        "print(\"O maior número digitado foi\", maior)"
      ]
    },
    {
      "cell_type": "markdown",
      "metadata": {
        "id": "-tauAkeYu9Qn"
      },
      "source": [
        "# Ex (3) \n",
        "O programa abaixo está errado. O programa deveria receber 3 valores inteiros e retornar o menor e o maior valor. (Outra maneira de resolver o problema acima)\n",
        "Programa corrigido:"
      ]
    },
    {
      "cell_type": "code",
      "execution_count": null,
      "metadata": {
        "id": "Y1vM9SbJu9Qo",
        "outputId": "3b237efb-b269-4c8a-8677-f4eb654fc467"
      },
      "outputs": [
        {
          "name": "stdout",
          "output_type": "stream",
          "text": [
            "Digite o primeiro valor:9 \n",
            "Digite o segundo valor:-1\n",
            "Digite o terceiro valor:-3\n",
            "O menor número digitado foi -3\n",
            "O maior número digitado foi 9\n"
          ]
        }
      ],
      "source": [
        "a = int(input(\"Digite o primeiro valor:\"))\n",
        "b = int(input(\"Digite o segundo valor:\"))\n",
        "c = int(input(\"Digite o terceiro valor:\"))\n",
        "if b > a:\n",
        "    maior = b\n",
        "else:\n",
        "    maior = a\n",
        "if c > maior:\n",
        "    maior = c\n",
        "if b < a:\n",
        "    menor = b\n",
        "else:\n",
        "    menor = a\n",
        "if c < menor:\n",
        "    menor = c\n",
        "print(\"O menor número digitado foi\", menor)\n",
        "print(\"O maior número digitado foi\", maior)"
      ]
    },
    {
      "cell_type": "markdown",
      "metadata": {
        "id": "Asgd8fBQu9Qp"
      },
      "source": [
        "# Ex (4)\n",
        "O programa soletrando está errado. O programa deveria estar imprimindo todas as letras da frase \"Programação e Machine Learning\". Corriga o mesmo.\n",
        "Programa corrigido."
      ]
    },
    {
      "cell_type": "code",
      "execution_count": null,
      "metadata": {
        "id": "v3sGNr-nu9Qp",
        "outputId": "e5cbadde-2a6a-4337-b800-bb5c2a692378"
      },
      "outputs": [
        {
          "name": "stdout",
          "output_type": "stream",
          "text": [
            "soletrando P\n",
            "soletrando r\n",
            "soletrando o\n",
            "soletrando g\n",
            "soletrando r\n",
            "soletrando a\n",
            "soletrando m\n",
            "soletrando a\n",
            "soletrando ç\n",
            "soletrando ã\n",
            "soletrando o\n",
            "soletrando  \n",
            "soletrando e\n",
            "soletrando  \n",
            "soletrando M\n",
            "soletrando a\n",
            "soletrando c\n",
            "soletrando h\n",
            "soletrando i\n",
            "soletrando n\n",
            "soletrando e\n",
            "soletrando  \n",
            "soletrando L\n",
            "soletrando e\n",
            "soletrando a\n",
            "soletrando r\n",
            "soletrando n\n",
            "soletrando i\n",
            "soletrando n\n",
            "soletrando g\n"
          ]
        }
      ],
      "source": [
        "s = \"Programação e Machine Learning\"\n",
        "for c in s:\n",
        "    print(\"soletrando\", c)"
      ]
    },
    {
      "cell_type": "code",
      "execution_count": null,
      "metadata": {
        "id": "Skmo9BMTu9Qq"
      },
      "outputs": [],
      "source": [
        ""
      ]
    }
  ],
  "metadata": {
    "kernelspec": {
      "display_name": "Python 3",
      "language": "python",
      "name": "python3"
    },
    "language_info": {
      "codemirror_mode": {
        "name": "ipython",
        "version": 3
      },
      "file_extension": ".py",
      "mimetype": "text/x-python",
      "name": "python",
      "nbconvert_exporter": "python",
      "pygments_lexer": "ipython3",
      "version": "3.7.3"
    },
    "colab": {
      "name": "Gabarito - Avaliação Continuada - Correção de algoritmos.ipynb",
      "provenance": [],
      "include_colab_link": true
    }
  },
  "nbformat": 4,
  "nbformat_minor": 0
}