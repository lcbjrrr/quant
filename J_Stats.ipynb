{
  "nbformat": 4,
  "nbformat_minor": 0,
  "metadata": {
    "colab": {
      "provenance": [],
      "include_colab_link": true
    },
    "kernelspec": {
      "display_name": "Julia",
      "language": "julia",
      "name": "julia"
    },
    "language_info": {
      "file_extension": ".jl",
      "mimetype": "application/julia",
      "name": "julia"
    },
    "accelerator": "TPU",
    "gpuClass": "standard"
  },
  "cells": [
    {
      "cell_type": "markdown",
      "metadata": {
        "id": "view-in-github",
        "colab_type": "text"
      },
      "source": [
        "<a href=\"https://colab.research.google.com/github/lcbjrrr/quant/blob/master/J_Stats.ipynb\" target=\"_parent\"><img src=\"https://colab.research.google.com/assets/colab-badge.svg\" alt=\"Open In Colab\"/></a>"
      ]
    },
    {
      "cell_type": "markdown",
      "source": [
        "**Topic:** Statistics\n",
        "\n",
        "**Title:** Stats with Julia\n",
        "\n",
        "**Author:** Luiz Barboza\n",
        "\n",
        "**Date:** 20/dec/22\n",
        "\n",
        "**Lang:** Julia\n",
        "\n",
        "**Site:** https://quant-research.group/\n",
        "\n",
        "**Email:** contato@quant-research.group"
      ],
      "metadata": {
        "id": "S7PA-4AAW20F"
      }
    },
    {
      "cell_type": "markdown",
      "source": [
        "# Julia Installation"
      ],
      "metadata": {
        "id": "wTmedJrDW2pY"
      }
    },
    {
      "cell_type": "code",
      "metadata": {
        "id": "GIeFXS0F0zww",
        "colab": {
          "base_uri": "https://localhost:8080/"
        },
        "outputId": "366b223e-9442-4439-c9e8-60fec91fd41e"
      },
      "source": [
        "%%shell\n",
        "set -e\n",
        "\n",
        "#---------------------------------------------------#\n",
        "JULIA_VERSION=\"1.8.3\" # any version ≥ 0.7.0\n",
        "JULIA_PACKAGES=\"IJulia BenchmarkTools\"\n",
        "JULIA_PACKAGES_IF_GPU=\"CUDA\" # or CuArrays for older Julia versions\n",
        "JULIA_NUM_THREADS=2\n",
        "#---------------------------------------------------#\n",
        "\n",
        "if [ -z `which julia` ]; then\n",
        "  # Install Julia\n",
        "  JULIA_VER=`cut -d '.' -f -2 <<< \"$JULIA_VERSION\"`\n",
        "  echo \"Installing Julia $JULIA_VERSION on the current Colab Runtime...\"\n",
        "  BASE_URL=\"https://julialang-s3.julialang.org/bin/linux/x64\"\n",
        "  URL=\"$BASE_URL/$JULIA_VER/julia-$JULIA_VERSION-linux-x86_64.tar.gz\"\n",
        "  wget -nv $URL -O /tmp/julia.tar.gz # -nv means \"not verbose\"\n",
        "  tar -x -f /tmp/julia.tar.gz -C /usr/local --strip-components 1\n",
        "  rm /tmp/julia.tar.gz\n",
        "\n",
        "  # Install Packages\n",
        "  nvidia-smi -L &> /dev/null && export GPU=1 || export GPU=0\n",
        "  if [ $GPU -eq 1 ]; then\n",
        "    JULIA_PACKAGES=\"$JULIA_PACKAGES $JULIA_PACKAGES_IF_GPU\"\n",
        "  fi\n",
        "  for PKG in `echo $JULIA_PACKAGES`; do\n",
        "    echo \"Installing Julia package $PKG...\"\n",
        "    julia -e 'using Pkg; pkg\"add '$PKG'; precompile;\"' &> /dev/null\n",
        "  done\n",
        "\n",
        "  # Install kernel and rename it to \"julia\"\n",
        "  echo \"Installing IJulia kernel...\"\n",
        "  julia -e 'using IJulia; IJulia.installkernel(\"julia\", env=Dict(\n",
        "      \"JULIA_NUM_THREADS\"=>\"'\"$JULIA_NUM_THREADS\"'\"))'\n",
        "  KERNEL_DIR=`julia -e \"using IJulia; print(IJulia.kerneldir())\"`\n",
        "  KERNEL_NAME=`ls -d \"$KERNEL_DIR\"/julia*`\n",
        "  mv -f $KERNEL_NAME \"$KERNEL_DIR\"/julia  \n",
        "\n",
        "  echo ''\n",
        "  echo \"Successfully installed `julia -v`!\"\n",
        "  echo \"Please reload this page (press Ctrl+R, ⌘+R, or the F5 key) then\"\n",
        "  echo \"jump to the 'Checking the Installation' section.\"\n",
        "fi"
      ],
      "execution_count": null,
      "outputs": [
        {
          "output_type": "stream",
          "name": "stdout",
          "text": [
            "Installing Julia 1.8.3 on the current Colab Runtime...\n",
            "2022-12-23 13:08:40 URL:https://storage.googleapis.com/julialang2/bin/linux/x64/1.8/julia-1.8.3-linux-x86_64.tar.gz [130030846/130030846] -> \"/tmp/julia.tar.gz\" [1]\n",
            "Installing Julia package IJulia...\n",
            "Installing Julia package BenchmarkTools...\n",
            "Installing IJulia kernel...\n",
            "\u001b[36m\u001b[1m[ \u001b[22m\u001b[39m\u001b[36m\u001b[1mInfo: \u001b[22m\u001b[39mInstalling julia kernelspec in /root/.local/share/jupyter/kernels/julia-1.8\n",
            "\n",
            "Successfully installed julia version 1.8.3!\n",
            "Please reload this page (press Ctrl+R, ⌘+R, or the F5 key) then\n",
            "jump to the 'Checking the Installation' section.\n"
          ]
        },
        {
          "output_type": "execute_result",
          "data": {
            "text/plain": []
          },
          "metadata": {},
          "execution_count": 1
        }
      ]
    },
    {
      "cell_type": "code",
      "metadata": {
        "id": "EEzvvzCl1i0F",
        "colab": {
          "base_uri": "https://localhost:8080/"
        },
        "outputId": "c91a4020-6615-49a4-967f-7220f315c3c5"
      },
      "source": [
        "versioninfo()"
      ],
      "execution_count": null,
      "outputs": [
        {
          "output_type": "stream",
          "name": "stdout",
          "text": [
            "Julia Version 1.8.3\n",
            "Commit 0434deb161e (2022-11-14 20:14 UTC)\n",
            "Platform Info:\n",
            "  OS: Linux (x86_64-linux-gnu)\n",
            "  CPU: 2 × Intel(R) Xeon(R) CPU @ 2.20GHz\n",
            "  WORD_SIZE: 64\n",
            "  LIBM: libopenlibm\n",
            "  LLVM: libLLVM-13.0.1 (ORCJIT, broadwell)\n",
            "  Threads: 2 on 2 virtual cores\n",
            "Environment:\n",
            "  LD_LIBRARY_PATH = /usr/local/nvidia/lib:/usr/local/nvidia/lib64\n",
            "  LD_PRELOAD = /usr/lib/x86_64-linux-gnu/libtcmalloc.so.4\n",
            "  JULIA_NUM_THREADS = 2\n"
          ]
        }
      ]
    },
    {
      "cell_type": "markdown",
      "source": [
        "# Descriptive Statistics"
      ],
      "metadata": {
        "id": "hiaTtbLZW9Kv"
      }
    },
    {
      "cell_type": "code",
      "source": [
        "import Pkg\n",
        "Pkg.add(\"CSV\")\n",
        "Pkg.add(\"DataFrames\")\n",
        "Pkg.add(\"Statistics\")\n",
        "Pkg.add(\"Plots\")\n",
        "Pkg.add(\"StatsPlots\")\n",
        "Pkg.add(\"FreqTables\")\n",
        "\n",
        "using CSV\n",
        "using DataFrames\n",
        "using Statistics\n",
        "using Plots\n",
        "using StatsPlots\n",
        "using FreqTables\n",
        "#Ps. Plots on the version 1.38 is incompatible with GPUs"
      ],
      "metadata": {
        "id": "X_2hBMum0xfg"
      },
      "execution_count": null,
      "outputs": []
    },
    {
      "cell_type": "code",
      "source": [
        ";wget https://raw.githubusercontent.com/lcbjrrr/data/main/grades%20-%20okk.csv"
      ],
      "metadata": {
        "id": "xil7rD-eXPe2"
      },
      "execution_count": null,
      "outputs": []
    },
    {
      "cell_type": "code",
      "source": [
        "#read csv: grades\n",
        "grades=CSV.read(\"grades - okk.csv\", DataFrame)\n",
        "print(grades)"
      ],
      "metadata": {
        "colab": {
          "base_uri": "https://localhost:8080/"
        },
        "id": "Fo8upgK8Xxjn",
        "outputId": "c8ed9334-1862-4bce-eab1-ce55f7108311"
      },
      "execution_count": null,
      "outputs": [
        {
          "output_type": "stream",
          "name": "stdout",
          "text": [
            "\u001b[1m12×7 DataFrame\u001b[0m\n",
            "\u001b[1m Row \u001b[0m│\u001b[1m Course  \u001b[0m\u001b[1m Student \u001b[0m\u001b[1m AP1     \u001b[0m\u001b[1m AP2     \u001b[0m\u001b[1m AP3     \u001b[0m\u001b[1m Grade   \u001b[0m\u001b[1m Score   \u001b[0m\n",
            "     │\u001b[90m String3 \u001b[0m\u001b[90m String7 \u001b[0m\u001b[90m Float64 \u001b[0m\u001b[90m Float64 \u001b[0m\u001b[90m Float64 \u001b[0m\u001b[90m Float64 \u001b[0m\u001b[90m String1 \u001b[0m\n",
            "─────┼───────────────────────────────────────────────────────────────\n",
            "   1 │ ADM      João         9.0      8.0      9.0      8.6  B\n",
            "   2 │ ADM      Maria        6.0      4.0     10.0      6.0  D\n",
            "   3 │ LAW      José         4.0      3.0      4.0      3.6  F\n",
            "   4 │ LAW      Pedro        8.0     10.0      7.0      8.6  B\n",
            "   5 │ ECO      Paulo        7.5      8.0      9.5      8.1  B\n",
            "   6 │ LAW      Esther       6.0      4.5      6.0      5.4  D\n",
            "   7 │ ADM      Gabriel      8.0      6.0      8.0      7.2  B\n",
            "   8 │ LAW      Rafael       7.5     10.0      9.5      8.9  B\n",
            "   9 │ ECO      Davi         6.0     10.0      7.0      7.8  B\n",
            "  10 │ LAW      Silvio      10.0      9.5      9.5      9.7  A\n",
            "  11 │ ADM      Sofia        8.0      7.0      6.0      7.2  B\n",
            "  12 │ ADM      Raquel       4.5      4.0      4.0      4.2  F"
          ]
        }
      ]
    },
    {
      "cell_type": "code",
      "source": [
        "# Categorical Frequency\n",
        "freq_cat = freqtable(grades.Score)"
      ],
      "metadata": {
        "colab": {
          "base_uri": "https://localhost:8080/"
        },
        "id": "bsWK7Ix5Yonb",
        "outputId": "48479cb5-dbbc-4274-fcbf-b620478c00a4"
      },
      "execution_count": null,
      "outputs": [
        {
          "output_type": "execute_result",
          "data": {
            "text/plain": [
              "4-element Named Vector{Int64}\n",
              "Dim1         │ \n",
              "─────────────┼──\n",
              "String1(\"A\") │ 1\n",
              "String1(\"B\") │ 7\n",
              "String1(\"D\") │ 2\n",
              "String1(\"F\") │ 2"
            ]
          },
          "metadata": {},
          "execution_count": 25
        }
      ]
    },
    {
      "cell_type": "code",
      "source": [
        "bar(names(freq_cat),values(freq_cat))"
      ],
      "metadata": {
        "colab": {
          "base_uri": "https://localhost:8080/",
          "height": 421
        },
        "id": "rkT1skA5RFPQ",
        "outputId": "8fe1c5d2-da54-4c7b-e848-9164910c86d7"
      },
      "execution_count": null,
      "outputs": [
        {
          "output_type": "execute_result",
          "data": {
            "image/svg+xml": "<?xml version=\"1.0\" encoding=\"utf-8\"?>\n<svg xmlns=\"http://www.w3.org/2000/svg\" xmlns:xlink=\"http://www.w3.org/1999/xlink\" width=\"600\" height=\"400\" viewBox=\"0 0 2400 1600\">\n<defs>\n  <clipPath id=\"clip470\">\n    <rect x=\"0\" y=\"0\" width=\"2400\" height=\"1600\"/>\n  </clipPath>\n</defs>\n<path clip-path=\"url(#clip470)\" d=\"\nM0 1600 L2400 1600 L2400 0 L0 0  Z\n  \" fill=\"#ffffff\" fill-rule=\"evenodd\" fill-opacity=\"1\"/>\n<defs>\n  <clipPath id=\"clip471\">\n    <rect x=\"480\" y=\"0\" width=\"1681\" height=\"1600\"/>\n  </clipPath>\n</defs>\n<path clip-path=\"url(#clip470)\" d=\"\nM112.177 1486.45 L2352.76 1486.45 L2352.76 47.2441 L112.177 47.2441  Z\n  \" fill=\"#ffffff\" fill-rule=\"evenodd\" fill-opacity=\"1\"/>\n<defs>\n  <clipPath id=\"clip472\">\n    <rect x=\"112\" y=\"47\" width=\"2242\" height=\"1440\"/>\n  </clipPath>\n</defs>\n<polyline clip-path=\"url(#clip472)\" style=\"stroke:#000000; stroke-linecap:round; stroke-linejoin:round; stroke-width:2; stroke-opacity:0.1; fill:none\" points=\"\n  445.319,1486.45 445.319,47.2441 \n  \"/>\n<polyline clip-path=\"url(#clip472)\" style=\"stroke:#000000; stroke-linecap:round; stroke-linejoin:round; stroke-width:2; stroke-opacity:0.1; fill:none\" points=\"\n  970.084,1486.45 970.084,47.2441 \n  \"/>\n<polyline clip-path=\"url(#clip472)\" style=\"stroke:#000000; stroke-linecap:round; stroke-linejoin:round; stroke-width:2; stroke-opacity:0.1; fill:none\" points=\"\n  1494.85,1486.45 1494.85,47.2441 \n  \"/>\n<polyline clip-path=\"url(#clip472)\" style=\"stroke:#000000; stroke-linecap:round; stroke-linejoin:round; stroke-width:2; stroke-opacity:0.1; fill:none\" points=\"\n  2019.61,1486.45 2019.61,47.2441 \n  \"/>\n<polyline clip-path=\"url(#clip470)\" style=\"stroke:#000000; stroke-linecap:round; stroke-linejoin:round; stroke-width:4; stroke-opacity:1; fill:none\" points=\"\n  112.177,1486.45 2352.76,1486.45 \n  \"/>\n<polyline clip-path=\"url(#clip470)\" style=\"stroke:#000000; stroke-linecap:round; stroke-linejoin:round; stroke-width:4; stroke-opacity:1; fill:none\" points=\"\n  445.319,1486.45 445.319,1467.55 \n  \"/>\n<polyline clip-path=\"url(#clip470)\" style=\"stroke:#000000; stroke-linecap:round; stroke-linejoin:round; stroke-width:4; stroke-opacity:1; fill:none\" points=\"\n  970.084,1486.45 970.084,1467.55 \n  \"/>\n<polyline clip-path=\"url(#clip470)\" style=\"stroke:#000000; stroke-linecap:round; stroke-linejoin:round; stroke-width:4; stroke-opacity:1; fill:none\" points=\"\n  1494.85,1486.45 1494.85,1467.55 \n  \"/>\n<polyline clip-path=\"url(#clip470)\" style=\"stroke:#000000; stroke-linecap:round; stroke-linejoin:round; stroke-width:4; stroke-opacity:1; fill:none\" points=\"\n  2019.61,1486.45 2019.61,1467.55 \n  \"/>\n<path clip-path=\"url(#clip470)\" d=\"M445.319 1518.89 L438.976 1536.09 L451.685 1536.09 L445.319 1518.89 M442.68 1514.29 L447.981 1514.29 L461.152 1548.85 L456.291 1548.85 L453.143 1539.98 L437.564 1539.98 L434.416 1548.85 L429.486 1548.85 L442.68 1514.29 Z\" fill=\"#000000\" fill-rule=\"evenodd\" fill-opacity=\"1\" /><path clip-path=\"url(#clip470)\" d=\"M962.503 1532.34 L962.503 1545.01 L970.003 1545.01 Q973.776 1545.01 975.582 1543.45 Q977.41 1541.88 977.41 1538.66 Q977.41 1535.42 975.582 1533.89 Q973.776 1532.34 970.003 1532.34 L962.503 1532.34 M962.503 1518.13 L962.503 1528.55 L969.424 1528.55 Q972.85 1528.55 974.517 1527.27 Q976.207 1525.98 976.207 1523.34 Q976.207 1520.72 974.517 1519.43 Q972.85 1518.13 969.424 1518.13 L962.503 1518.13 M957.827 1514.29 L969.772 1514.29 Q975.119 1514.29 978.012 1516.51 Q980.906 1518.73 980.906 1522.83 Q980.906 1526 979.424 1527.88 Q977.943 1529.75 975.072 1530.21 Q978.521 1530.95 980.42 1533.32 Q982.341 1535.65 982.341 1539.17 Q982.341 1543.8 979.193 1546.32 Q976.045 1548.85 970.234 1548.85 L957.827 1548.85 L957.827 1514.29 Z\" fill=\"#000000\" fill-rule=\"evenodd\" fill-opacity=\"1\" /><path clip-path=\"url(#clip470)\" d=\"M1485 1518.13 L1485 1545.01 L1490.65 1545.01 Q1497.8 1545.01 1501.11 1541.76 Q1504.44 1538.52 1504.44 1531.53 Q1504.44 1524.59 1501.11 1521.37 Q1497.8 1518.13 1490.65 1518.13 L1485 1518.13 M1480.32 1514.29 L1489.93 1514.29 Q1499.98 1514.29 1504.68 1518.48 Q1509.37 1522.64 1509.37 1531.53 Q1509.37 1540.47 1504.65 1544.66 Q1499.93 1548.85 1489.93 1548.85 L1480.32 1548.85 L1480.32 1514.29 Z\" fill=\"#000000\" fill-rule=\"evenodd\" fill-opacity=\"1\" /><path clip-path=\"url(#clip470)\" d=\"M2009.68 1514.29 L2029.54 1514.29 L2029.54 1518.22 L2014.36 1518.22 L2014.36 1528.41 L2028.06 1528.41 L2028.06 1532.34 L2014.36 1532.34 L2014.36 1548.85 L2009.68 1548.85 L2009.68 1514.29 Z\" fill=\"#000000\" fill-rule=\"evenodd\" fill-opacity=\"1\" /><polyline clip-path=\"url(#clip472)\" style=\"stroke:#000000; stroke-linecap:round; stroke-linejoin:round; stroke-width:2; stroke-opacity:0.1; fill:none\" points=\"\n  112.177,1445.72 2352.76,1445.72 \n  \"/>\n<polyline clip-path=\"url(#clip472)\" style=\"stroke:#000000; stroke-linecap:round; stroke-linejoin:round; stroke-width:2; stroke-opacity:0.1; fill:none\" points=\"\n  112.177,1057.79 2352.76,1057.79 \n  \"/>\n<polyline clip-path=\"url(#clip472)\" style=\"stroke:#000000; stroke-linecap:round; stroke-linejoin:round; stroke-width:2; stroke-opacity:0.1; fill:none\" points=\"\n  112.177,669.865 2352.76,669.865 \n  \"/>\n<polyline clip-path=\"url(#clip472)\" style=\"stroke:#000000; stroke-linecap:round; stroke-linejoin:round; stroke-width:2; stroke-opacity:0.1; fill:none\" points=\"\n  112.177,281.939 2352.76,281.939 \n  \"/>\n<polyline clip-path=\"url(#clip470)\" style=\"stroke:#000000; stroke-linecap:round; stroke-linejoin:round; stroke-width:4; stroke-opacity:1; fill:none\" points=\"\n  112.177,1486.45 112.177,47.2441 \n  \"/>\n<polyline clip-path=\"url(#clip470)\" style=\"stroke:#000000; stroke-linecap:round; stroke-linejoin:round; stroke-width:4; stroke-opacity:1; fill:none\" points=\"\n  112.177,1445.72 131.075,1445.72 \n  \"/>\n<polyline clip-path=\"url(#clip470)\" style=\"stroke:#000000; stroke-linecap:round; stroke-linejoin:round; stroke-width:4; stroke-opacity:1; fill:none\" points=\"\n  112.177,1057.79 131.075,1057.79 \n  \"/>\n<polyline clip-path=\"url(#clip470)\" style=\"stroke:#000000; stroke-linecap:round; stroke-linejoin:round; stroke-width:4; stroke-opacity:1; fill:none\" points=\"\n  112.177,669.865 131.075,669.865 \n  \"/>\n<polyline clip-path=\"url(#clip470)\" style=\"stroke:#000000; stroke-linecap:round; stroke-linejoin:round; stroke-width:4; stroke-opacity:1; fill:none\" points=\"\n  112.177,281.939 131.075,281.939 \n  \"/>\n<path clip-path=\"url(#clip470)\" d=\"M64.2328 1431.51 Q60.6217 1431.51 58.793 1435.08 Q56.9875 1438.62 56.9875 1445.75 Q56.9875 1452.86 58.793 1456.42 Q60.6217 1459.96 64.2328 1459.96 Q67.867 1459.96 69.6726 1456.42 Q71.5013 1452.86 71.5013 1445.75 Q71.5013 1438.62 69.6726 1435.08 Q67.867 1431.51 64.2328 1431.51 M64.2328 1427.81 Q70.0429 1427.81 73.0985 1432.42 Q76.1772 1437 76.1772 1445.75 Q76.1772 1454.48 73.0985 1459.08 Q70.0429 1463.67 64.2328 1463.67 Q58.4226 1463.67 55.344 1459.08 Q52.2884 1454.48 52.2884 1445.75 Q52.2884 1437 55.344 1432.42 Q58.4226 1427.81 64.2328 1427.81 Z\" fill=\"#000000\" fill-rule=\"evenodd\" fill-opacity=\"1\" /><path clip-path=\"url(#clip470)\" d=\"M59.8578 1071.13 L76.1772 1071.13 L76.1772 1075.07 L54.2328 1075.07 L54.2328 1071.13 Q56.8949 1068.38 61.4782 1063.75 Q66.0846 1059.1 67.2652 1057.76 Q69.5105 1055.23 70.3902 1053.5 Q71.2929 1051.74 71.2929 1050.05 Q71.2929 1047.29 69.3485 1045.56 Q67.4272 1043.82 64.3254 1043.82 Q62.1263 1043.82 59.6726 1044.58 Q57.2421 1045.35 54.4643 1046.9 L54.4643 1042.18 Q57.2884 1041.04 59.7421 1040.46 Q62.1958 1039.89 64.2328 1039.89 Q69.6031 1039.89 72.7976 1042.57 Q75.992 1045.26 75.992 1049.75 Q75.992 1051.88 75.1818 1053.8 Q74.3948 1055.7 72.2883 1058.29 Q71.7096 1058.96 68.6078 1062.18 Q65.5059 1065.37 59.8578 1071.13 Z\" fill=\"#000000\" fill-rule=\"evenodd\" fill-opacity=\"1\" /><path clip-path=\"url(#clip470)\" d=\"M66.5939 656.659 L54.7884 675.108 L66.5939 675.108 L66.5939 656.659 M65.367 652.585 L71.2466 652.585 L71.2466 675.108 L76.1772 675.108 L76.1772 678.996 L71.2466 678.996 L71.2466 687.145 L66.5939 687.145 L66.5939 678.996 L50.9921 678.996 L50.9921 674.483 L65.367 652.585 Z\" fill=\"#000000\" fill-rule=\"evenodd\" fill-opacity=\"1\" /><path clip-path=\"url(#clip470)\" d=\"M64.6495 280.076 Q61.5013 280.076 59.6495 282.228 Q57.8208 284.381 57.8208 288.131 Q57.8208 291.858 59.6495 294.034 Q61.5013 296.187 64.6495 296.187 Q67.7976 296.187 69.6263 294.034 Q71.4781 291.858 71.4781 288.131 Q71.4781 284.381 69.6263 282.228 Q67.7976 280.076 64.6495 280.076 M73.9318 265.423 L73.9318 269.682 Q72.1726 268.849 70.367 268.409 Q68.5846 267.969 66.8254 267.969 Q62.1958 267.969 59.7421 271.094 Q57.3115 274.219 56.9643 280.539 Q58.33 278.525 60.3902 277.46 Q62.4504 276.372 64.9272 276.372 Q70.1355 276.372 73.1448 279.543 Q76.1772 282.691 76.1772 288.131 Q76.1772 293.455 73.029 296.673 Q69.8809 299.89 64.6495 299.89 Q58.6541 299.89 55.4828 295.307 Q52.3116 290.701 52.3116 281.974 Q52.3116 273.779 56.2004 268.918 Q60.0893 264.034 66.6402 264.034 Q68.3994 264.034 70.1818 264.381 Q71.9874 264.728 73.9318 265.423 Z\" fill=\"#000000\" fill-rule=\"evenodd\" fill-opacity=\"1\" /><path clip-path=\"url(#clip472)\" d=\"\nM235.413 1251.75 L235.413 1445.72 L655.225 1445.72 L655.225 1251.75 L235.413 1251.75 L235.413 1251.75  Z\n  \" fill=\"#009af9\" fill-rule=\"evenodd\" fill-opacity=\"1\"/>\n<polyline clip-path=\"url(#clip472)\" style=\"stroke:#000000; stroke-linecap:round; stroke-linejoin:round; stroke-width:4; stroke-opacity:1; fill:none\" points=\"\n  235.413,1251.75 235.413,1445.72 655.225,1445.72 655.225,1251.75 235.413,1251.75 \n  \"/>\n<path clip-path=\"url(#clip472)\" d=\"\nM760.178 87.9763 L760.178 1445.72 L1179.99 1445.72 L1179.99 87.9763 L760.178 87.9763 L760.178 87.9763  Z\n  \" fill=\"#009af9\" fill-rule=\"evenodd\" fill-opacity=\"1\"/>\n<polyline clip-path=\"url(#clip472)\" style=\"stroke:#000000; stroke-linecap:round; stroke-linejoin:round; stroke-width:4; stroke-opacity:1; fill:none\" points=\"\n  760.178,87.9763 760.178,1445.72 1179.99,1445.72 1179.99,87.9763 760.178,87.9763 \n  \"/>\n<path clip-path=\"url(#clip472)\" d=\"\nM1284.94 1057.79 L1284.94 1445.72 L1704.76 1445.72 L1704.76 1057.79 L1284.94 1057.79 L1284.94 1057.79  Z\n  \" fill=\"#009af9\" fill-rule=\"evenodd\" fill-opacity=\"1\"/>\n<polyline clip-path=\"url(#clip472)\" style=\"stroke:#000000; stroke-linecap:round; stroke-linejoin:round; stroke-width:4; stroke-opacity:1; fill:none\" points=\"\n  1284.94,1057.79 1284.94,1445.72 1704.76,1445.72 1704.76,1057.79 1284.94,1057.79 \n  \"/>\n<path clip-path=\"url(#clip472)\" d=\"\nM1809.71 1057.79 L1809.71 1445.72 L2229.52 1445.72 L2229.52 1057.79 L1809.71 1057.79 L1809.71 1057.79  Z\n  \" fill=\"#009af9\" fill-rule=\"evenodd\" fill-opacity=\"1\"/>\n<polyline clip-path=\"url(#clip472)\" style=\"stroke:#000000; stroke-linecap:round; stroke-linejoin:round; stroke-width:4; stroke-opacity:1; fill:none\" points=\"\n  1809.71,1057.79 1809.71,1445.72 2229.52,1445.72 2229.52,1057.79 1809.71,1057.79 \n  \"/>\n<circle clip-path=\"url(#clip472)\" style=\"fill:#009af9; stroke:none; fill-opacity:0\" cx=\"445.319\" cy=\"1251.75\" r=\"2\"/>\n<circle clip-path=\"url(#clip472)\" style=\"fill:#009af9; stroke:none; fill-opacity:0\" cx=\"970.084\" cy=\"87.9763\" r=\"2\"/>\n<circle clip-path=\"url(#clip472)\" style=\"fill:#009af9; stroke:none; fill-opacity:0\" cx=\"1494.85\" cy=\"1057.79\" r=\"2\"/>\n<circle clip-path=\"url(#clip472)\" style=\"fill:#009af9; stroke:none; fill-opacity:0\" cx=\"2019.61\" cy=\"1057.79\" r=\"2\"/>\n<path clip-path=\"url(#clip470)\" d=\"\nM2001.58 198.898 L2278.07 198.898 L2278.07 95.2176 L2001.58 95.2176  Z\n  \" fill=\"#ffffff\" fill-rule=\"evenodd\" fill-opacity=\"1\"/>\n<polyline clip-path=\"url(#clip470)\" style=\"stroke:#000000; stroke-linecap:round; stroke-linejoin:round; stroke-width:4; stroke-opacity:1; fill:none\" points=\"\n  2001.58,198.898 2278.07,198.898 2278.07,95.2176 2001.58,95.2176 2001.58,198.898 \n  \"/>\n<path clip-path=\"url(#clip470)\" d=\"\nM2026.48 167.794 L2175.85 167.794 L2175.85 126.322 L2026.48 126.322 L2026.48 167.794  Z\n  \" fill=\"#009af9\" fill-rule=\"evenodd\" fill-opacity=\"1\"/>\n<polyline clip-path=\"url(#clip470)\" style=\"stroke:#000000; stroke-linecap:round; stroke-linejoin:round; stroke-width:4; stroke-opacity:1; fill:none\" points=\"\n  2026.48,167.794 2175.85,167.794 2175.85,126.322 2026.48,126.322 2026.48,167.794 \n  \"/>\n<path clip-path=\"url(#clip470)\" d=\"M2214.59 166.745 Q2212.78 171.375 2211.07 172.787 Q2209.36 174.199 2206.49 174.199 L2203.08 174.199 L2203.08 170.634 L2205.58 170.634 Q2207.34 170.634 2208.31 169.8 Q2209.29 168.967 2210.47 165.865 L2211.23 163.921 L2200.74 138.412 L2205.26 138.412 L2213.36 158.689 L2221.46 138.412 L2225.98 138.412 L2214.59 166.745 Z\" fill=\"#000000\" fill-rule=\"evenodd\" fill-opacity=\"1\" /><path clip-path=\"url(#clip470)\" d=\"M2233.27 160.402 L2240.91 160.402 L2240.91 134.037 L2232.6 135.703 L2232.6 131.444 L2240.86 129.778 L2245.54 129.778 L2245.54 160.402 L2253.17 160.402 L2253.17 164.338 L2233.27 164.338 L2233.27 160.402 Z\" fill=\"#000000\" fill-rule=\"evenodd\" fill-opacity=\"1\" /></svg>\n"
          },
          "metadata": {},
          "execution_count": 26
        }
      ]
    },
    {
      "cell_type": "code",
      "source": [
        "histogram(grades.Grade,bins=[0,5,7,9,10])"
      ],
      "metadata": {
        "colab": {
          "base_uri": "https://localhost:8080/",
          "height": 421
        },
        "id": "afIQBgDaZ-6a",
        "outputId": "f5521f11-f535-4daf-9eba-28b0916e99ac"
      },
      "execution_count": null,
      "outputs": [
        {
          "output_type": "execute_result",
          "data": {
            "image/svg+xml": "<?xml version=\"1.0\" encoding=\"utf-8\"?>\n<svg xmlns=\"http://www.w3.org/2000/svg\" xmlns:xlink=\"http://www.w3.org/1999/xlink\" width=\"600\" height=\"400\" viewBox=\"0 0 2400 1600\">\n<defs>\n  <clipPath id=\"clip510\">\n    <rect x=\"0\" y=\"0\" width=\"2400\" height=\"1600\"/>\n  </clipPath>\n</defs>\n<path clip-path=\"url(#clip510)\" d=\"\nM0 1600 L2400 1600 L2400 0 L0 0  Z\n  \" fill=\"#ffffff\" fill-rule=\"evenodd\" fill-opacity=\"1\"/>\n<defs>\n  <clipPath id=\"clip511\">\n    <rect x=\"480\" y=\"0\" width=\"1681\" height=\"1600\"/>\n  </clipPath>\n</defs>\n<path clip-path=\"url(#clip510)\" d=\"\nM112.177 1486.45 L2352.76 1486.45 L2352.76 47.2441 L112.177 47.2441  Z\n  \" fill=\"#ffffff\" fill-rule=\"evenodd\" fill-opacity=\"1\"/>\n<defs>\n  <clipPath id=\"clip512\">\n    <rect x=\"112\" y=\"47\" width=\"2242\" height=\"1440\"/>\n  </clipPath>\n</defs>\n<polyline clip-path=\"url(#clip512)\" style=\"stroke:#000000; stroke-linecap:round; stroke-linejoin:round; stroke-width:2; stroke-opacity:0.1; fill:none\" points=\"\n  235.413,1486.45 235.413,47.2441 \n  \"/>\n<polyline clip-path=\"url(#clip512)\" style=\"stroke:#000000; stroke-linecap:round; stroke-linejoin:round; stroke-width:2; stroke-opacity:0.1; fill:none\" points=\"\n  733.94,1486.45 733.94,47.2441 \n  \"/>\n<polyline clip-path=\"url(#clip512)\" style=\"stroke:#000000; stroke-linecap:round; stroke-linejoin:round; stroke-width:2; stroke-opacity:0.1; fill:none\" points=\"\n  1232.47,1486.45 1232.47,47.2441 \n  \"/>\n<polyline clip-path=\"url(#clip512)\" style=\"stroke:#000000; stroke-linecap:round; stroke-linejoin:round; stroke-width:2; stroke-opacity:0.1; fill:none\" points=\"\n  1730.99,1486.45 1730.99,47.2441 \n  \"/>\n<polyline clip-path=\"url(#clip512)\" style=\"stroke:#000000; stroke-linecap:round; stroke-linejoin:round; stroke-width:2; stroke-opacity:0.1; fill:none\" points=\"\n  2229.52,1486.45 2229.52,47.2441 \n  \"/>\n<polyline clip-path=\"url(#clip510)\" style=\"stroke:#000000; stroke-linecap:round; stroke-linejoin:round; stroke-width:4; stroke-opacity:1; fill:none\" points=\"\n  112.177,1486.45 2352.76,1486.45 \n  \"/>\n<polyline clip-path=\"url(#clip510)\" style=\"stroke:#000000; stroke-linecap:round; stroke-linejoin:round; stroke-width:4; stroke-opacity:1; fill:none\" points=\"\n  235.413,1486.45 235.413,1467.55 \n  \"/>\n<polyline clip-path=\"url(#clip510)\" style=\"stroke:#000000; stroke-linecap:round; stroke-linejoin:round; stroke-width:4; stroke-opacity:1; fill:none\" points=\"\n  733.94,1486.45 733.94,1467.55 \n  \"/>\n<polyline clip-path=\"url(#clip510)\" style=\"stroke:#000000; stroke-linecap:round; stroke-linejoin:round; stroke-width:4; stroke-opacity:1; fill:none\" points=\"\n  1232.47,1486.45 1232.47,1467.55 \n  \"/>\n<polyline clip-path=\"url(#clip510)\" style=\"stroke:#000000; stroke-linecap:round; stroke-linejoin:round; stroke-width:4; stroke-opacity:1; fill:none\" points=\"\n  1730.99,1486.45 1730.99,1467.55 \n  \"/>\n<polyline clip-path=\"url(#clip510)\" style=\"stroke:#000000; stroke-linecap:round; stroke-linejoin:round; stroke-width:4; stroke-opacity:1; fill:none\" points=\"\n  2229.52,1486.45 2229.52,1467.55 \n  \"/>\n<path clip-path=\"url(#clip510)\" d=\"M212.797 1517.37 Q209.186 1517.37 207.358 1520.93 Q205.552 1524.47 205.552 1531.6 Q205.552 1538.71 207.358 1542.27 Q209.186 1545.82 212.797 1545.82 Q216.432 1545.82 218.237 1542.27 Q220.066 1538.71 220.066 1531.6 Q220.066 1524.47 218.237 1520.93 Q216.432 1517.37 212.797 1517.37 M212.797 1513.66 Q218.608 1513.66 221.663 1518.27 Q224.742 1522.85 224.742 1531.6 Q224.742 1540.33 221.663 1544.94 Q218.608 1549.52 212.797 1549.52 Q206.987 1549.52 203.909 1544.94 Q200.853 1540.33 200.853 1531.6 Q200.853 1522.85 203.909 1518.27 Q206.987 1513.66 212.797 1513.66 Z\" fill=\"#000000\" fill-rule=\"evenodd\" fill-opacity=\"1\" /><path clip-path=\"url(#clip510)\" d=\"M232.959 1542.97 L237.844 1542.97 L237.844 1548.85 L232.959 1548.85 L232.959 1542.97 Z\" fill=\"#000000\" fill-rule=\"evenodd\" fill-opacity=\"1\" /><path clip-path=\"url(#clip510)\" d=\"M258.029 1517.37 Q254.418 1517.37 252.589 1520.93 Q250.783 1524.47 250.783 1531.6 Q250.783 1538.71 252.589 1542.27 Q254.418 1545.82 258.029 1545.82 Q261.663 1545.82 263.468 1542.27 Q265.297 1538.71 265.297 1531.6 Q265.297 1524.47 263.468 1520.93 Q261.663 1517.37 258.029 1517.37 M258.029 1513.66 Q263.839 1513.66 266.894 1518.27 Q269.973 1522.85 269.973 1531.6 Q269.973 1540.33 266.894 1544.94 Q263.839 1549.52 258.029 1549.52 Q252.218 1549.52 249.14 1544.94 Q246.084 1540.33 246.084 1531.6 Q246.084 1522.85 249.14 1518.27 Q252.218 1513.66 258.029 1513.66 Z\" fill=\"#000000\" fill-rule=\"evenodd\" fill-opacity=\"1\" /><path clip-path=\"url(#clip510)\" d=\"M705.676 1544.91 L721.995 1544.91 L721.995 1548.85 L700.051 1548.85 L700.051 1544.91 Q702.713 1542.16 707.296 1537.53 Q711.903 1532.88 713.083 1531.53 Q715.329 1529.01 716.208 1527.27 Q717.111 1525.51 717.111 1523.82 Q717.111 1521.07 715.167 1519.33 Q713.245 1517.6 710.144 1517.6 Q707.945 1517.6 705.491 1518.36 Q703.06 1519.13 700.283 1520.68 L700.283 1515.95 Q703.107 1514.82 705.56 1514.24 Q708.014 1513.66 710.051 1513.66 Q715.421 1513.66 718.616 1516.35 Q721.81 1519.03 721.81 1523.52 Q721.81 1525.65 721 1527.57 Q720.213 1529.47 718.107 1532.07 Q717.528 1532.74 714.426 1535.95 Q711.324 1539.15 705.676 1544.91 Z\" fill=\"#000000\" fill-rule=\"evenodd\" fill-opacity=\"1\" /><path clip-path=\"url(#clip510)\" d=\"M731.81 1542.97 L736.694 1542.97 L736.694 1548.85 L731.81 1548.85 L731.81 1542.97 Z\" fill=\"#000000\" fill-rule=\"evenodd\" fill-opacity=\"1\" /><path clip-path=\"url(#clip510)\" d=\"M746.926 1514.29 L765.282 1514.29 L765.282 1518.22 L751.208 1518.22 L751.208 1526.7 Q752.227 1526.35 753.245 1526.19 Q754.264 1526 755.282 1526 Q761.069 1526 764.449 1529.17 Q767.828 1532.34 767.828 1537.76 Q767.828 1543.34 764.356 1546.44 Q760.884 1549.52 754.565 1549.52 Q752.389 1549.52 750.12 1549.15 Q747.875 1548.78 745.467 1548.04 L745.467 1543.34 Q747.551 1544.47 749.773 1545.03 Q751.995 1545.58 754.472 1545.58 Q758.477 1545.58 760.815 1543.48 Q763.153 1541.37 763.153 1537.76 Q763.153 1534.15 760.815 1532.04 Q758.477 1529.94 754.472 1529.94 Q752.597 1529.94 750.722 1530.35 Q748.87 1530.77 746.926 1531.65 L746.926 1514.29 Z\" fill=\"#000000\" fill-rule=\"evenodd\" fill-opacity=\"1\" /><path clip-path=\"url(#clip510)\" d=\"M1199.63 1514.29 L1217.99 1514.29 L1217.99 1518.22 L1203.91 1518.22 L1203.91 1526.7 Q1204.93 1526.35 1205.95 1526.19 Q1206.97 1526 1207.99 1526 Q1213.77 1526 1217.15 1529.17 Q1220.53 1532.34 1220.53 1537.76 Q1220.53 1543.34 1217.06 1546.44 Q1213.59 1549.52 1207.27 1549.52 Q1205.09 1549.52 1202.83 1549.15 Q1200.58 1548.78 1198.17 1548.04 L1198.17 1543.34 Q1200.26 1544.47 1202.48 1545.03 Q1204.7 1545.58 1207.18 1545.58 Q1211.18 1545.58 1213.52 1543.48 Q1215.86 1541.37 1215.86 1537.76 Q1215.86 1534.15 1213.52 1532.04 Q1211.18 1529.94 1207.18 1529.94 Q1205.3 1529.94 1203.43 1530.35 Q1201.58 1530.77 1199.63 1531.65 L1199.63 1514.29 Z\" fill=\"#000000\" fill-rule=\"evenodd\" fill-opacity=\"1\" /><path clip-path=\"url(#clip510)\" d=\"M1229.75 1542.97 L1234.63 1542.97 L1234.63 1548.85 L1229.75 1548.85 L1229.75 1542.97 Z\" fill=\"#000000\" fill-rule=\"evenodd\" fill-opacity=\"1\" /><path clip-path=\"url(#clip510)\" d=\"M1254.82 1517.37 Q1251.2 1517.37 1249.38 1520.93 Q1247.57 1524.47 1247.57 1531.6 Q1247.57 1538.71 1249.38 1542.27 Q1251.2 1545.82 1254.82 1545.82 Q1258.45 1545.82 1260.26 1542.27 Q1262.08 1538.71 1262.08 1531.6 Q1262.08 1524.47 1260.26 1520.93 Q1258.45 1517.37 1254.82 1517.37 M1254.82 1513.66 Q1260.63 1513.66 1263.68 1518.27 Q1266.76 1522.85 1266.76 1531.6 Q1266.76 1540.33 1263.68 1544.94 Q1260.63 1549.52 1254.82 1549.52 Q1249.01 1549.52 1245.93 1544.94 Q1242.87 1540.33 1242.87 1531.6 Q1242.87 1522.85 1245.93 1518.27 Q1249.01 1513.66 1254.82 1513.66 Z\" fill=\"#000000\" fill-rule=\"evenodd\" fill-opacity=\"1\" /><path clip-path=\"url(#clip510)\" d=\"M1697.31 1514.29 L1719.54 1514.29 L1719.54 1516.28 L1706.99 1548.85 L1702.1 1548.85 L1713.91 1518.22 L1697.31 1518.22 L1697.31 1514.29 Z\" fill=\"#000000\" fill-rule=\"evenodd\" fill-opacity=\"1\" /><path clip-path=\"url(#clip510)\" d=\"M1728.66 1542.97 L1733.54 1542.97 L1733.54 1548.85 L1728.66 1548.85 L1728.66 1542.97 Z\" fill=\"#000000\" fill-rule=\"evenodd\" fill-opacity=\"1\" /><path clip-path=\"url(#clip510)\" d=\"M1743.77 1514.29 L1762.13 1514.29 L1762.13 1518.22 L1748.05 1518.22 L1748.05 1526.7 Q1749.07 1526.35 1750.09 1526.19 Q1751.11 1526 1752.13 1526 Q1757.91 1526 1761.29 1529.17 Q1764.67 1532.34 1764.67 1537.76 Q1764.67 1543.34 1761.2 1546.44 Q1757.73 1549.52 1751.41 1549.52 Q1749.23 1549.52 1746.97 1549.15 Q1744.72 1548.78 1742.31 1548.04 L1742.31 1543.34 Q1744.4 1544.47 1746.62 1545.03 Q1748.84 1545.58 1751.32 1545.58 Q1755.32 1545.58 1757.66 1543.48 Q1760 1541.37 1760 1537.76 Q1760 1534.15 1757.66 1532.04 Q1755.32 1529.94 1751.32 1529.94 Q1749.44 1529.94 1747.57 1530.35 Q1745.72 1530.77 1743.77 1531.65 L1743.77 1514.29 Z\" fill=\"#000000\" fill-rule=\"evenodd\" fill-opacity=\"1\" /><path clip-path=\"url(#clip510)\" d=\"M2181.59 1544.91 L2189.23 1544.91 L2189.23 1518.55 L2180.92 1520.21 L2180.92 1515.95 L2189.18 1514.29 L2193.86 1514.29 L2193.86 1544.91 L2201.5 1544.91 L2201.5 1548.85 L2181.59 1548.85 L2181.59 1544.91 Z\" fill=\"#000000\" fill-rule=\"evenodd\" fill-opacity=\"1\" /><path clip-path=\"url(#clip510)\" d=\"M2220.94 1517.37 Q2217.33 1517.37 2215.5 1520.93 Q2213.7 1524.47 2213.7 1531.6 Q2213.7 1538.71 2215.5 1542.27 Q2217.33 1545.82 2220.94 1545.82 Q2224.58 1545.82 2226.38 1542.27 Q2228.21 1538.71 2228.21 1531.6 Q2228.21 1524.47 2226.38 1520.93 Q2224.58 1517.37 2220.94 1517.37 M2220.94 1513.66 Q2226.75 1513.66 2229.81 1518.27 Q2232.89 1522.85 2232.89 1531.6 Q2232.89 1540.33 2229.81 1544.94 Q2226.75 1549.52 2220.94 1549.52 Q2215.13 1549.52 2212.05 1544.94 Q2209 1540.33 2209 1531.6 Q2209 1522.85 2212.05 1518.27 Q2215.13 1513.66 2220.94 1513.66 Z\" fill=\"#000000\" fill-rule=\"evenodd\" fill-opacity=\"1\" /><path clip-path=\"url(#clip510)\" d=\"M2241.11 1542.97 L2245.99 1542.97 L2245.99 1548.85 L2241.11 1548.85 L2241.11 1542.97 Z\" fill=\"#000000\" fill-rule=\"evenodd\" fill-opacity=\"1\" /><path clip-path=\"url(#clip510)\" d=\"M2266.17 1517.37 Q2262.56 1517.37 2260.74 1520.93 Q2258.93 1524.47 2258.93 1531.6 Q2258.93 1538.71 2260.74 1542.27 Q2262.56 1545.82 2266.17 1545.82 Q2269.81 1545.82 2271.61 1542.27 Q2273.44 1538.71 2273.44 1531.6 Q2273.44 1524.47 2271.61 1520.93 Q2269.81 1517.37 2266.17 1517.37 M2266.17 1513.66 Q2271.99 1513.66 2275.04 1518.27 Q2278.12 1522.85 2278.12 1531.6 Q2278.12 1540.33 2275.04 1544.94 Q2271.99 1549.52 2266.17 1549.52 Q2260.36 1549.52 2257.29 1544.94 Q2254.23 1540.33 2254.23 1531.6 Q2254.23 1522.85 2257.29 1518.27 Q2260.36 1513.66 2266.17 1513.66 Z\" fill=\"#000000\" fill-rule=\"evenodd\" fill-opacity=\"1\" /><polyline clip-path=\"url(#clip512)\" style=\"stroke:#000000; stroke-linecap:round; stroke-linejoin:round; stroke-width:2; stroke-opacity:0.1; fill:none\" points=\"\n  112.177,1445.72 2352.76,1445.72 \n  \"/>\n<polyline clip-path=\"url(#clip512)\" style=\"stroke:#000000; stroke-linecap:round; stroke-linejoin:round; stroke-width:2; stroke-opacity:0.1; fill:none\" points=\"\n  112.177,1057.79 2352.76,1057.79 \n  \"/>\n<polyline clip-path=\"url(#clip512)\" style=\"stroke:#000000; stroke-linecap:round; stroke-linejoin:round; stroke-width:2; stroke-opacity:0.1; fill:none\" points=\"\n  112.177,669.865 2352.76,669.865 \n  \"/>\n<polyline clip-path=\"url(#clip512)\" style=\"stroke:#000000; stroke-linecap:round; stroke-linejoin:round; stroke-width:2; stroke-opacity:0.1; fill:none\" points=\"\n  112.177,281.939 2352.76,281.939 \n  \"/>\n<polyline clip-path=\"url(#clip510)\" style=\"stroke:#000000; stroke-linecap:round; stroke-linejoin:round; stroke-width:4; stroke-opacity:1; fill:none\" points=\"\n  112.177,1486.45 112.177,47.2441 \n  \"/>\n<polyline clip-path=\"url(#clip510)\" style=\"stroke:#000000; stroke-linecap:round; stroke-linejoin:round; stroke-width:4; stroke-opacity:1; fill:none\" points=\"\n  112.177,1445.72 131.075,1445.72 \n  \"/>\n<polyline clip-path=\"url(#clip510)\" style=\"stroke:#000000; stroke-linecap:round; stroke-linejoin:round; stroke-width:4; stroke-opacity:1; fill:none\" points=\"\n  112.177,1057.79 131.075,1057.79 \n  \"/>\n<polyline clip-path=\"url(#clip510)\" style=\"stroke:#000000; stroke-linecap:round; stroke-linejoin:round; stroke-width:4; stroke-opacity:1; fill:none\" points=\"\n  112.177,669.865 131.075,669.865 \n  \"/>\n<polyline clip-path=\"url(#clip510)\" style=\"stroke:#000000; stroke-linecap:round; stroke-linejoin:round; stroke-width:4; stroke-opacity:1; fill:none\" points=\"\n  112.177,281.939 131.075,281.939 \n  \"/>\n<path clip-path=\"url(#clip510)\" d=\"M64.2328 1431.51 Q60.6217 1431.51 58.793 1435.08 Q56.9875 1438.62 56.9875 1445.75 Q56.9875 1452.86 58.793 1456.42 Q60.6217 1459.96 64.2328 1459.96 Q67.867 1459.96 69.6726 1456.42 Q71.5013 1452.86 71.5013 1445.75 Q71.5013 1438.62 69.6726 1435.08 Q67.867 1431.51 64.2328 1431.51 M64.2328 1427.81 Q70.0429 1427.81 73.0985 1432.42 Q76.1772 1437 76.1772 1445.75 Q76.1772 1454.48 73.0985 1459.08 Q70.0429 1463.67 64.2328 1463.67 Q58.4226 1463.67 55.344 1459.08 Q52.2884 1454.48 52.2884 1445.75 Q52.2884 1437 55.344 1432.42 Q58.4226 1427.81 64.2328 1427.81 Z\" fill=\"#000000\" fill-rule=\"evenodd\" fill-opacity=\"1\" /><path clip-path=\"url(#clip510)\" d=\"M59.8578 1071.13 L76.1772 1071.13 L76.1772 1075.07 L54.2328 1075.07 L54.2328 1071.13 Q56.8949 1068.38 61.4782 1063.75 Q66.0846 1059.1 67.2652 1057.76 Q69.5105 1055.23 70.3902 1053.5 Q71.2929 1051.74 71.2929 1050.05 Q71.2929 1047.29 69.3485 1045.56 Q67.4272 1043.82 64.3254 1043.82 Q62.1263 1043.82 59.6726 1044.58 Q57.2421 1045.35 54.4643 1046.9 L54.4643 1042.18 Q57.2884 1041.04 59.7421 1040.46 Q62.1958 1039.89 64.2328 1039.89 Q69.6031 1039.89 72.7976 1042.57 Q75.992 1045.26 75.992 1049.75 Q75.992 1051.88 75.1818 1053.8 Q74.3948 1055.7 72.2883 1058.29 Q71.7096 1058.96 68.6078 1062.18 Q65.5059 1065.37 59.8578 1071.13 Z\" fill=\"#000000\" fill-rule=\"evenodd\" fill-opacity=\"1\" /><path clip-path=\"url(#clip510)\" d=\"M66.5939 656.659 L54.7884 675.108 L66.5939 675.108 L66.5939 656.659 M65.367 652.585 L71.2466 652.585 L71.2466 675.108 L76.1772 675.108 L76.1772 678.996 L71.2466 678.996 L71.2466 687.145 L66.5939 687.145 L66.5939 678.996 L50.9921 678.996 L50.9921 674.483 L65.367 652.585 Z\" fill=\"#000000\" fill-rule=\"evenodd\" fill-opacity=\"1\" /><path clip-path=\"url(#clip510)\" d=\"M64.6495 280.076 Q61.5013 280.076 59.6495 282.228 Q57.8208 284.381 57.8208 288.131 Q57.8208 291.858 59.6495 294.034 Q61.5013 296.187 64.6495 296.187 Q67.7976 296.187 69.6263 294.034 Q71.4781 291.858 71.4781 288.131 Q71.4781 284.381 69.6263 282.228 Q67.7976 280.076 64.6495 280.076 M73.9318 265.423 L73.9318 269.682 Q72.1726 268.849 70.367 268.409 Q68.5846 267.969 66.8254 267.969 Q62.1958 267.969 59.7421 271.094 Q57.3115 274.219 56.9643 280.539 Q58.33 278.525 60.3902 277.46 Q62.4504 276.372 64.9272 276.372 Q70.1355 276.372 73.1448 279.543 Q76.1772 282.691 76.1772 288.131 Q76.1772 293.455 73.029 296.673 Q69.8809 299.89 64.6495 299.89 Q58.6541 299.89 55.4828 295.307 Q52.3116 290.701 52.3116 281.974 Q52.3116 273.779 56.2004 268.918 Q60.0893 264.034 66.6402 264.034 Q68.3994 264.034 70.1818 264.381 Q71.9874 264.728 73.9318 265.423 Z\" fill=\"#000000\" fill-rule=\"evenodd\" fill-opacity=\"1\" /><path clip-path=\"url(#clip512)\" d=\"\nM235.413 1057.79 L235.413 1445.72 L1232.47 1445.72 L1232.47 1057.79 L235.413 1057.79 L235.413 1057.79  Z\n  \" fill=\"#009af9\" fill-rule=\"evenodd\" fill-opacity=\"1\"/>\n<polyline clip-path=\"url(#clip512)\" style=\"stroke:#000000; stroke-linecap:round; stroke-linejoin:round; stroke-width:4; stroke-opacity:1; fill:none\" points=\"\n  235.413,1057.79 235.413,1445.72 1232.47,1445.72 1232.47,1057.79 235.413,1057.79 \n  \"/>\n<path clip-path=\"url(#clip512)\" d=\"\nM1232.47 1057.79 L1232.47 1445.72 L1631.29 1445.72 L1631.29 1057.79 L1232.47 1057.79 L1232.47 1057.79  Z\n  \" fill=\"#009af9\" fill-rule=\"evenodd\" fill-opacity=\"1\"/>\n<polyline clip-path=\"url(#clip512)\" style=\"stroke:#000000; stroke-linecap:round; stroke-linejoin:round; stroke-width:4; stroke-opacity:1; fill:none\" points=\"\n  1232.47,1057.79 1232.47,1445.72 1631.29,1445.72 1631.29,1057.79 1232.47,1057.79 \n  \"/>\n<path clip-path=\"url(#clip512)\" d=\"\nM1631.29 87.9763 L1631.29 1445.72 L2030.11 1445.72 L2030.11 87.9763 L1631.29 87.9763 L1631.29 87.9763  Z\n  \" fill=\"#009af9\" fill-rule=\"evenodd\" fill-opacity=\"1\"/>\n<polyline clip-path=\"url(#clip512)\" style=\"stroke:#000000; stroke-linecap:round; stroke-linejoin:round; stroke-width:4; stroke-opacity:1; fill:none\" points=\"\n  1631.29,87.9763 1631.29,1445.72 2030.11,1445.72 2030.11,87.9763 1631.29,87.9763 \n  \"/>\n<path clip-path=\"url(#clip512)\" d=\"\nM2030.11 1251.75 L2030.11 1445.72 L2229.52 1445.72 L2229.52 1251.75 L2030.11 1251.75 L2030.11 1251.75  Z\n  \" fill=\"#009af9\" fill-rule=\"evenodd\" fill-opacity=\"1\"/>\n<polyline clip-path=\"url(#clip512)\" style=\"stroke:#000000; stroke-linecap:round; stroke-linejoin:round; stroke-width:4; stroke-opacity:1; fill:none\" points=\"\n  2030.11,1251.75 2030.11,1445.72 2229.52,1445.72 2229.52,1251.75 2030.11,1251.75 \n  \"/>\n<circle clip-path=\"url(#clip512)\" style=\"fill:#009af9; stroke:none; fill-opacity:0\" cx=\"733.94\" cy=\"1057.79\" r=\"2\"/>\n<circle clip-path=\"url(#clip512)\" style=\"fill:#009af9; stroke:none; fill-opacity:0\" cx=\"1431.88\" cy=\"1057.79\" r=\"2\"/>\n<circle clip-path=\"url(#clip512)\" style=\"fill:#009af9; stroke:none; fill-opacity:0\" cx=\"1830.7\" cy=\"87.9763\" r=\"2\"/>\n<circle clip-path=\"url(#clip512)\" style=\"fill:#009af9; stroke:none; fill-opacity:0\" cx=\"2129.81\" cy=\"1251.75\" r=\"2\"/>\n<path clip-path=\"url(#clip510)\" d=\"\nM186.863 198.898 L463.351 198.898 L463.351 95.2176 L186.863 95.2176  Z\n  \" fill=\"#ffffff\" fill-rule=\"evenodd\" fill-opacity=\"1\"/>\n<polyline clip-path=\"url(#clip510)\" style=\"stroke:#000000; stroke-linecap:round; stroke-linejoin:round; stroke-width:4; stroke-opacity:1; fill:none\" points=\"\n  186.863,198.898 463.351,198.898 463.351,95.2176 186.863,95.2176 186.863,198.898 \n  \"/>\n<path clip-path=\"url(#clip510)\" d=\"\nM211.758 167.794 L361.13 167.794 L361.13 126.322 L211.758 126.322 L211.758 167.794  Z\n  \" fill=\"#009af9\" fill-rule=\"evenodd\" fill-opacity=\"1\"/>\n<polyline clip-path=\"url(#clip510)\" style=\"stroke:#000000; stroke-linecap:round; stroke-linejoin:round; stroke-width:4; stroke-opacity:1; fill:none\" points=\"\n  211.758,167.794 361.13,167.794 361.13,126.322 211.758,126.322 211.758,167.794 \n  \"/>\n<path clip-path=\"url(#clip510)\" d=\"M399.868 166.745 Q398.063 171.375 396.35 172.787 Q394.637 174.199 391.766 174.199 L388.364 174.199 L388.364 170.634 L390.864 170.634 Q392.623 170.634 393.595 169.8 Q394.567 168.967 395.748 165.865 L396.512 163.921 L386.026 138.412 L390.54 138.412 L398.641 158.689 L406.743 138.412 L411.257 138.412 L399.868 166.745 Z\" fill=\"#000000\" fill-rule=\"evenodd\" fill-opacity=\"1\" /><path clip-path=\"url(#clip510)\" d=\"M418.549 160.402 L426.188 160.402 L426.188 134.037 L417.877 135.703 L417.877 131.444 L426.141 129.778 L430.817 129.778 L430.817 160.402 L438.456 160.402 L438.456 164.338 L418.549 164.338 L418.549 160.402 Z\" fill=\"#000000\" fill-rule=\"evenodd\" fill-opacity=\"1\" /></svg>\n"
          },
          "metadata": {},
          "execution_count": 27
        }
      ]
    },
    {
      "cell_type": "code",
      "source": [
        "describe(grades.Grade)"
      ],
      "metadata": {
        "colab": {
          "base_uri": "https://localhost:8080/"
        },
        "id": "j-74JPWgZXYa",
        "outputId": "6c23d7f6-3d0b-410d-b746-6a367507d47e"
      },
      "execution_count": null,
      "outputs": [
        {
          "output_type": "stream",
          "name": "stdout",
          "text": [
            "Summary Stats:\n",
            "Length:         12\n",
            "Missing Count:  0\n",
            "Mean:           7.108333\n",
            "Minimum:        3.600000\n",
            "1st Quartile:   5.850000\n",
            "Median:         7.500000\n",
            "3rd Quartile:   8.600000\n",
            "Maximum:        9.700000\n",
            "Type:           Float64\n"
          ]
        }
      ]
    },
    {
      "cell_type": "code",
      "source": [
        "boxplot(grades.Grade)"
      ],
      "metadata": {
        "colab": {
          "base_uri": "https://localhost:8080/",
          "height": 421
        },
        "id": "sBHZBv3QZs4A",
        "outputId": "65db51bd-a877-4377-8e87-b28e9d97251a"
      },
      "execution_count": null,
      "outputs": [
        {
          "output_type": "execute_result",
          "data": {
            "image/svg+xml": "<?xml version=\"1.0\" encoding=\"utf-8\"?>\n<svg xmlns=\"http://www.w3.org/2000/svg\" xmlns:xlink=\"http://www.w3.org/1999/xlink\" width=\"600\" height=\"400\" viewBox=\"0 0 2400 1600\">\n<defs>\n  <clipPath id=\"clip310\">\n    <rect x=\"0\" y=\"0\" width=\"2400\" height=\"1600\"/>\n  </clipPath>\n</defs>\n<path clip-path=\"url(#clip310)\" d=\"\nM0 1600 L2400 1600 L2400 0 L0 0  Z\n  \" fill=\"#ffffff\" fill-rule=\"evenodd\" fill-opacity=\"1\"/>\n<defs>\n  <clipPath id=\"clip311\">\n    <rect x=\"480\" y=\"0\" width=\"1681\" height=\"1600\"/>\n  </clipPath>\n</defs>\n<path clip-path=\"url(#clip310)\" d=\"\nM112.177 1486.45 L2352.76 1486.45 L2352.76 47.2441 L112.177 47.2441  Z\n  \" fill=\"#ffffff\" fill-rule=\"evenodd\" fill-opacity=\"1\"/>\n<defs>\n  <clipPath id=\"clip312\">\n    <rect x=\"112\" y=\"47\" width=\"2242\" height=\"1440\"/>\n  </clipPath>\n</defs>\n<polyline clip-path=\"url(#clip312)\" style=\"stroke:#000000; stroke-linecap:round; stroke-linejoin:round; stroke-width:2; stroke-opacity:0.1; fill:none\" points=\"\n  175.59,1486.45 175.59,47.2441 \n  \"/>\n<polyline clip-path=\"url(#clip312)\" style=\"stroke:#000000; stroke-linecap:round; stroke-linejoin:round; stroke-width:2; stroke-opacity:0.1; fill:none\" points=\"\n  704.028,1486.45 704.028,47.2441 \n  \"/>\n<polyline clip-path=\"url(#clip312)\" style=\"stroke:#000000; stroke-linecap:round; stroke-linejoin:round; stroke-width:2; stroke-opacity:0.1; fill:none\" points=\"\n  1232.47,1486.45 1232.47,47.2441 \n  \"/>\n<polyline clip-path=\"url(#clip312)\" style=\"stroke:#000000; stroke-linecap:round; stroke-linejoin:round; stroke-width:2; stroke-opacity:0.1; fill:none\" points=\"\n  1760.9,1486.45 1760.9,47.2441 \n  \"/>\n<polyline clip-path=\"url(#clip312)\" style=\"stroke:#000000; stroke-linecap:round; stroke-linejoin:round; stroke-width:2; stroke-opacity:0.1; fill:none\" points=\"\n  2289.34,1486.45 2289.34,47.2441 \n  \"/>\n<polyline clip-path=\"url(#clip310)\" style=\"stroke:#000000; stroke-linecap:round; stroke-linejoin:round; stroke-width:4; stroke-opacity:1; fill:none\" points=\"\n  112.177,1486.45 2352.76,1486.45 \n  \"/>\n<polyline clip-path=\"url(#clip310)\" style=\"stroke:#000000; stroke-linecap:round; stroke-linejoin:round; stroke-width:4; stroke-opacity:1; fill:none\" points=\"\n  175.59,1486.45 175.59,1467.55 \n  \"/>\n<polyline clip-path=\"url(#clip310)\" style=\"stroke:#000000; stroke-linecap:round; stroke-linejoin:round; stroke-width:4; stroke-opacity:1; fill:none\" points=\"\n  704.028,1486.45 704.028,1467.55 \n  \"/>\n<polyline clip-path=\"url(#clip310)\" style=\"stroke:#000000; stroke-linecap:round; stroke-linejoin:round; stroke-width:4; stroke-opacity:1; fill:none\" points=\"\n  1232.47,1486.45 1232.47,1467.55 \n  \"/>\n<polyline clip-path=\"url(#clip310)\" style=\"stroke:#000000; stroke-linecap:round; stroke-linejoin:round; stroke-width:4; stroke-opacity:1; fill:none\" points=\"\n  1760.9,1486.45 1760.9,1467.55 \n  \"/>\n<polyline clip-path=\"url(#clip310)\" style=\"stroke:#000000; stroke-linecap:round; stroke-linejoin:round; stroke-width:4; stroke-opacity:1; fill:none\" points=\"\n  2289.34,1486.45 2289.34,1467.55 \n  \"/>\n<path clip-path=\"url(#clip310)\" d=\"M152.893 1517.37 Q149.282 1517.37 147.453 1520.93 Q145.648 1524.47 145.648 1531.6 Q145.648 1538.71 147.453 1542.27 Q149.282 1545.82 152.893 1545.82 Q156.527 1545.82 158.333 1542.27 Q160.162 1538.71 160.162 1531.6 Q160.162 1524.47 158.333 1520.93 Q156.527 1517.37 152.893 1517.37 M152.893 1513.66 Q158.703 1513.66 161.759 1518.27 Q164.838 1522.85 164.838 1531.6 Q164.838 1540.33 161.759 1544.94 Q158.703 1549.52 152.893 1549.52 Q147.083 1549.52 144.004 1544.94 Q140.949 1540.33 140.949 1531.6 Q140.949 1522.85 144.004 1518.27 Q147.083 1513.66 152.893 1513.66 Z\" fill=\"#000000\" fill-rule=\"evenodd\" fill-opacity=\"1\" /><path clip-path=\"url(#clip310)\" d=\"M173.055 1542.97 L177.939 1542.97 L177.939 1548.85 L173.055 1548.85 L173.055 1542.97 Z\" fill=\"#000000\" fill-rule=\"evenodd\" fill-opacity=\"1\" /><path clip-path=\"url(#clip310)\" d=\"M198.703 1529.7 Q195.555 1529.7 193.703 1531.86 Q191.874 1534.01 191.874 1537.76 Q191.874 1541.49 193.703 1543.66 Q195.555 1545.82 198.703 1545.82 Q201.851 1545.82 203.68 1543.66 Q205.532 1541.49 205.532 1537.76 Q205.532 1534.01 203.68 1531.86 Q201.851 1529.7 198.703 1529.7 M207.985 1515.05 L207.985 1519.31 Q206.226 1518.48 204.421 1518.04 Q202.638 1517.6 200.879 1517.6 Q196.249 1517.6 193.796 1520.72 Q191.365 1523.85 191.018 1530.17 Q192.384 1528.15 194.444 1527.09 Q196.504 1526 198.981 1526 Q204.189 1526 207.198 1529.17 Q210.231 1532.32 210.231 1537.76 Q210.231 1543.08 207.083 1546.3 Q203.935 1549.52 198.703 1549.52 Q192.708 1549.52 189.536 1544.94 Q186.365 1540.33 186.365 1531.6 Q186.365 1523.41 190.254 1518.55 Q194.143 1513.66 200.694 1513.66 Q202.453 1513.66 204.235 1514.01 Q206.041 1514.36 207.985 1515.05 Z\" fill=\"#000000\" fill-rule=\"evenodd\" fill-opacity=\"1\" /><path clip-path=\"url(#clip310)\" d=\"M681.459 1517.37 Q677.848 1517.37 676.019 1520.93 Q674.214 1524.47 674.214 1531.6 Q674.214 1538.71 676.019 1542.27 Q677.848 1545.82 681.459 1545.82 Q685.093 1545.82 686.899 1542.27 Q688.727 1538.71 688.727 1531.6 Q688.727 1524.47 686.899 1520.93 Q685.093 1517.37 681.459 1517.37 M681.459 1513.66 Q687.269 1513.66 690.325 1518.27 Q693.403 1522.85 693.403 1531.6 Q693.403 1540.33 690.325 1544.94 Q687.269 1549.52 681.459 1549.52 Q675.649 1549.52 672.57 1544.94 Q669.514 1540.33 669.514 1531.6 Q669.514 1522.85 672.57 1518.27 Q675.649 1513.66 681.459 1513.66 Z\" fill=\"#000000\" fill-rule=\"evenodd\" fill-opacity=\"1\" /><path clip-path=\"url(#clip310)\" d=\"M701.621 1542.97 L706.505 1542.97 L706.505 1548.85 L701.621 1548.85 L701.621 1542.97 Z\" fill=\"#000000\" fill-rule=\"evenodd\" fill-opacity=\"1\" /><path clip-path=\"url(#clip310)\" d=\"M726.69 1532.44 Q723.357 1532.44 721.435 1534.22 Q719.537 1536 719.537 1539.13 Q719.537 1542.25 721.435 1544.03 Q723.357 1545.82 726.69 1545.82 Q730.023 1545.82 731.945 1544.03 Q733.866 1542.23 733.866 1539.13 Q733.866 1536 731.945 1534.22 Q730.047 1532.44 726.69 1532.44 M722.014 1530.45 Q719.005 1529.7 717.315 1527.64 Q715.648 1525.58 715.648 1522.62 Q715.648 1518.48 718.588 1516.07 Q721.551 1513.66 726.69 1513.66 Q731.852 1513.66 734.792 1516.07 Q737.732 1518.48 737.732 1522.62 Q737.732 1525.58 736.042 1527.64 Q734.375 1529.7 731.389 1530.45 Q734.769 1531.23 736.644 1533.52 Q738.542 1535.82 738.542 1539.13 Q738.542 1544.15 735.463 1546.83 Q732.408 1549.52 726.69 1549.52 Q720.973 1549.52 717.894 1546.83 Q714.838 1544.15 714.838 1539.13 Q714.838 1535.82 716.736 1533.52 Q718.635 1531.23 722.014 1530.45 M720.301 1523.06 Q720.301 1525.75 721.968 1527.25 Q723.658 1528.76 726.69 1528.76 Q729.699 1528.76 731.389 1527.25 Q733.102 1525.75 733.102 1523.06 Q733.102 1520.38 731.389 1518.87 Q729.699 1517.37 726.69 1517.37 Q723.658 1517.37 721.968 1518.87 Q720.301 1520.38 720.301 1523.06 Z\" fill=\"#000000\" fill-rule=\"evenodd\" fill-opacity=\"1\" /><path clip-path=\"url(#clip310)\" d=\"M1199.62 1544.91 L1207.26 1544.91 L1207.26 1518.55 L1198.95 1520.21 L1198.95 1515.95 L1207.21 1514.29 L1211.89 1514.29 L1211.89 1544.91 L1219.53 1544.91 L1219.53 1548.85 L1199.62 1548.85 L1199.62 1544.91 Z\" fill=\"#000000\" fill-rule=\"evenodd\" fill-opacity=\"1\" /><path clip-path=\"url(#clip310)\" d=\"M1228.97 1542.97 L1233.86 1542.97 L1233.86 1548.85 L1228.97 1548.85 L1228.97 1542.97 Z\" fill=\"#000000\" fill-rule=\"evenodd\" fill-opacity=\"1\" /><path clip-path=\"url(#clip310)\" d=\"M1254.04 1517.37 Q1250.43 1517.37 1248.6 1520.93 Q1246.8 1524.47 1246.8 1531.6 Q1246.8 1538.71 1248.6 1542.27 Q1250.43 1545.82 1254.04 1545.82 Q1257.67 1545.82 1259.48 1542.27 Q1261.31 1538.71 1261.31 1531.6 Q1261.31 1524.47 1259.48 1520.93 Q1257.67 1517.37 1254.04 1517.37 M1254.04 1513.66 Q1259.85 1513.66 1262.91 1518.27 Q1265.98 1522.85 1265.98 1531.6 Q1265.98 1540.33 1262.91 1544.94 Q1259.85 1549.52 1254.04 1549.52 Q1248.23 1549.52 1245.15 1544.94 Q1242.1 1540.33 1242.1 1531.6 Q1242.1 1522.85 1245.15 1518.27 Q1248.23 1513.66 1254.04 1513.66 Z\" fill=\"#000000\" fill-rule=\"evenodd\" fill-opacity=\"1\" /><path clip-path=\"url(#clip310)\" d=\"M1728.86 1544.91 L1736.5 1544.91 L1736.5 1518.55 L1728.19 1520.21 L1728.19 1515.95 L1736.45 1514.29 L1741.12 1514.29 L1741.12 1544.91 L1748.76 1544.91 L1748.76 1548.85 L1728.86 1548.85 L1728.86 1544.91 Z\" fill=\"#000000\" fill-rule=\"evenodd\" fill-opacity=\"1\" /><path clip-path=\"url(#clip310)\" d=\"M1758.21 1542.97 L1763.09 1542.97 L1763.09 1548.85 L1758.21 1548.85 L1758.21 1542.97 Z\" fill=\"#000000\" fill-rule=\"evenodd\" fill-opacity=\"1\" /><path clip-path=\"url(#clip310)\" d=\"M1777.31 1544.91 L1793.62 1544.91 L1793.62 1548.85 L1771.68 1548.85 L1771.68 1544.91 Q1774.34 1542.16 1778.93 1537.53 Q1783.53 1532.88 1784.71 1531.53 Q1786.96 1529.01 1787.84 1527.27 Q1788.74 1525.51 1788.74 1523.82 Q1788.74 1521.07 1786.8 1519.33 Q1784.87 1517.6 1781.77 1517.6 Q1779.57 1517.6 1777.12 1518.36 Q1774.69 1519.13 1771.91 1520.68 L1771.91 1515.95 Q1774.74 1514.82 1777.19 1514.24 Q1779.64 1513.66 1781.68 1513.66 Q1787.05 1513.66 1790.25 1516.35 Q1793.44 1519.03 1793.44 1523.52 Q1793.44 1525.65 1792.63 1527.57 Q1791.84 1529.47 1789.74 1532.07 Q1789.16 1532.74 1786.06 1535.95 Q1782.95 1539.15 1777.31 1544.91 Z\" fill=\"#000000\" fill-rule=\"evenodd\" fill-opacity=\"1\" /><path clip-path=\"url(#clip310)\" d=\"M2256.25 1544.91 L2263.89 1544.91 L2263.89 1518.55 L2255.58 1520.21 L2255.58 1515.95 L2263.85 1514.29 L2268.52 1514.29 L2268.52 1544.91 L2276.16 1544.91 L2276.16 1548.85 L2256.25 1548.85 L2256.25 1544.91 Z\" fill=\"#000000\" fill-rule=\"evenodd\" fill-opacity=\"1\" /><path clip-path=\"url(#clip310)\" d=\"M2285.6 1542.97 L2290.49 1542.97 L2290.49 1548.85 L2285.6 1548.85 L2285.6 1542.97 Z\" fill=\"#000000\" fill-rule=\"evenodd\" fill-opacity=\"1\" /><path clip-path=\"url(#clip310)\" d=\"M2313.52 1518.36 L2301.72 1536.81 L2313.52 1536.81 L2313.52 1518.36 M2312.29 1514.29 L2318.17 1514.29 L2318.17 1536.81 L2323.1 1536.81 L2323.1 1540.7 L2318.17 1540.7 L2318.17 1548.85 L2313.52 1548.85 L2313.52 1540.7 L2297.92 1540.7 L2297.92 1536.19 L2312.29 1514.29 Z\" fill=\"#000000\" fill-rule=\"evenodd\" fill-opacity=\"1\" /><polyline clip-path=\"url(#clip312)\" style=\"stroke:#000000; stroke-linecap:round; stroke-linejoin:round; stroke-width:2; stroke-opacity:0.1; fill:none\" points=\"\n  112.177,1356.68 2352.76,1356.68 \n  \"/>\n<polyline clip-path=\"url(#clip312)\" style=\"stroke:#000000; stroke-linecap:round; stroke-linejoin:round; stroke-width:2; stroke-opacity:0.1; fill:none\" points=\"\n  112.177,1134.1 2352.76,1134.1 \n  \"/>\n<polyline clip-path=\"url(#clip312)\" style=\"stroke:#000000; stroke-linecap:round; stroke-linejoin:round; stroke-width:2; stroke-opacity:0.1; fill:none\" points=\"\n  112.177,911.523 2352.76,911.523 \n  \"/>\n<polyline clip-path=\"url(#clip312)\" style=\"stroke:#000000; stroke-linecap:round; stroke-linejoin:round; stroke-width:2; stroke-opacity:0.1; fill:none\" points=\"\n  112.177,688.943 2352.76,688.943 \n  \"/>\n<polyline clip-path=\"url(#clip312)\" style=\"stroke:#000000; stroke-linecap:round; stroke-linejoin:round; stroke-width:2; stroke-opacity:0.1; fill:none\" points=\"\n  112.177,466.363 2352.76,466.363 \n  \"/>\n<polyline clip-path=\"url(#clip312)\" style=\"stroke:#000000; stroke-linecap:round; stroke-linejoin:round; stroke-width:2; stroke-opacity:0.1; fill:none\" points=\"\n  112.177,243.782 2352.76,243.782 \n  \"/>\n<polyline clip-path=\"url(#clip310)\" style=\"stroke:#000000; stroke-linecap:round; stroke-linejoin:round; stroke-width:4; stroke-opacity:1; fill:none\" points=\"\n  112.177,1486.45 112.177,47.2441 \n  \"/>\n<polyline clip-path=\"url(#clip310)\" style=\"stroke:#000000; stroke-linecap:round; stroke-linejoin:round; stroke-width:4; stroke-opacity:1; fill:none\" points=\"\n  112.177,1356.68 131.075,1356.68 \n  \"/>\n<polyline clip-path=\"url(#clip310)\" style=\"stroke:#000000; stroke-linecap:round; stroke-linejoin:round; stroke-width:4; stroke-opacity:1; fill:none\" points=\"\n  112.177,1134.1 131.075,1134.1 \n  \"/>\n<polyline clip-path=\"url(#clip310)\" style=\"stroke:#000000; stroke-linecap:round; stroke-linejoin:round; stroke-width:4; stroke-opacity:1; fill:none\" points=\"\n  112.177,911.523 131.075,911.523 \n  \"/>\n<polyline clip-path=\"url(#clip310)\" style=\"stroke:#000000; stroke-linecap:round; stroke-linejoin:round; stroke-width:4; stroke-opacity:1; fill:none\" points=\"\n  112.177,688.943 131.075,688.943 \n  \"/>\n<polyline clip-path=\"url(#clip310)\" style=\"stroke:#000000; stroke-linecap:round; stroke-linejoin:round; stroke-width:4; stroke-opacity:1; fill:none\" points=\"\n  112.177,466.363 131.075,466.363 \n  \"/>\n<polyline clip-path=\"url(#clip310)\" style=\"stroke:#000000; stroke-linecap:round; stroke-linejoin:round; stroke-width:4; stroke-opacity:1; fill:none\" points=\"\n  112.177,243.782 131.075,243.782 \n  \"/>\n<path clip-path=\"url(#clip310)\" d=\"M66.5939 1343.48 L54.7884 1361.93 L66.5939 1361.93 L66.5939 1343.48 M65.367 1339.4 L71.2466 1339.4 L71.2466 1361.93 L76.1772 1361.93 L76.1772 1365.82 L71.2466 1365.82 L71.2466 1373.96 L66.5939 1373.96 L66.5939 1365.82 L50.9921 1365.82 L50.9921 1361.3 L65.367 1339.4 Z\" fill=\"#000000\" fill-rule=\"evenodd\" fill-opacity=\"1\" /><path clip-path=\"url(#clip310)\" d=\"M55.2745 1116.82 L73.6309 1116.82 L73.6309 1120.76 L59.5569 1120.76 L59.5569 1129.23 Q60.5754 1128.88 61.5939 1128.72 Q62.6124 1128.54 63.6309 1128.54 Q69.418 1128.54 72.7976 1131.71 Q76.1772 1134.88 76.1772 1140.3 Q76.1772 1145.87 72.705 1148.98 Q69.2328 1152.05 62.9134 1152.05 Q60.7374 1152.05 58.4689 1151.68 Q56.2236 1151.31 53.8162 1150.57 L53.8162 1145.87 Q55.8995 1147.01 58.1217 1147.56 Q60.3439 1148.12 62.8208 1148.12 Q66.8254 1148.12 69.1633 1146.01 Q71.5013 1143.91 71.5013 1140.3 Q71.5013 1136.68 69.1633 1134.58 Q66.8254 1132.47 62.8208 1132.47 Q60.9458 1132.47 59.0708 1132.89 Q57.2189 1133.3 55.2745 1134.18 L55.2745 1116.82 Z\" fill=\"#000000\" fill-rule=\"evenodd\" fill-opacity=\"1\" /><path clip-path=\"url(#clip310)\" d=\"M64.6495 909.66 Q61.5013 909.66 59.6495 911.812 Q57.8208 913.965 57.8208 917.715 Q57.8208 921.442 59.6495 923.618 Q61.5013 925.771 64.6495 925.771 Q67.7976 925.771 69.6263 923.618 Q71.4781 921.442 71.4781 917.715 Q71.4781 913.965 69.6263 911.812 Q67.7976 909.66 64.6495 909.66 M73.9318 895.007 L73.9318 899.266 Q72.1726 898.433 70.367 897.993 Q68.5846 897.553 66.8254 897.553 Q62.1958 897.553 59.7421 900.678 Q57.3115 903.803 56.9643 910.123 Q58.33 908.109 60.3902 907.044 Q62.4504 905.956 64.9272 905.956 Q70.1355 905.956 73.1448 909.127 Q76.1772 912.275 76.1772 917.715 Q76.1772 923.039 73.029 926.257 Q69.8809 929.474 64.6495 929.474 Q58.6541 929.474 55.4828 924.891 Q52.3116 920.285 52.3116 911.558 Q52.3116 903.363 56.2004 898.502 Q60.0893 893.618 66.6402 893.618 Q68.3994 893.618 70.1818 893.965 Q71.9874 894.313 73.9318 895.007 Z\" fill=\"#000000\" fill-rule=\"evenodd\" fill-opacity=\"1\" /><path clip-path=\"url(#clip310)\" d=\"M53.9551 671.663 L76.1772 671.663 L76.1772 673.654 L63.6309 706.223 L58.7467 706.223 L70.5522 675.598 L53.9551 675.598 L53.9551 671.663 Z\" fill=\"#000000\" fill-rule=\"evenodd\" fill-opacity=\"1\" /><path clip-path=\"url(#clip310)\" d=\"M64.3254 467.231 Q60.9921 467.231 59.0708 469.013 Q57.1726 470.796 57.1726 473.921 Q57.1726 477.045 59.0708 478.828 Q60.9921 480.61 64.3254 480.61 Q67.6587 480.61 69.58 478.828 Q71.5013 477.022 71.5013 473.921 Q71.5013 470.796 69.58 469.013 Q67.6819 467.231 64.3254 467.231 M59.6495 465.24 Q56.6402 464.499 54.9504 462.439 Q53.2838 460.379 53.2838 457.416 Q53.2838 453.272 56.2236 450.865 Q59.1865 448.458 64.3254 448.458 Q69.4874 448.458 72.4272 450.865 Q75.367 453.272 75.367 457.416 Q75.367 460.379 73.6772 462.439 Q72.0105 464.499 69.0244 465.24 Q72.404 466.027 74.279 468.319 Q76.1772 470.61 76.1772 473.921 Q76.1772 478.944 73.0985 481.629 Q70.0429 484.314 64.3254 484.314 Q58.6078 484.314 55.5291 481.629 Q52.4736 478.944 52.4736 473.921 Q52.4736 470.61 54.3717 468.319 Q56.2699 466.027 59.6495 465.24 M57.9365 457.856 Q57.9365 460.541 59.6032 462.046 Q61.293 463.55 64.3254 463.55 Q67.3346 463.55 69.0244 462.046 Q70.7374 460.541 70.7374 457.856 Q70.7374 455.171 69.0244 453.666 Q67.3346 452.161 64.3254 452.161 Q61.293 452.161 59.6032 453.666 Q57.9365 455.171 57.9365 457.856 Z\" fill=\"#000000\" fill-rule=\"evenodd\" fill-opacity=\"1\" /><path clip-path=\"url(#clip310)\" d=\"M54.5569 260.345 L54.5569 256.086 Q56.3162 256.919 58.1217 257.359 Q59.9273 257.799 61.6634 257.799 Q66.293 257.799 68.7235 254.697 Q71.1772 251.572 71.5244 245.229 Q70.1818 247.22 68.1217 248.285 Q66.0615 249.35 63.5615 249.35 Q58.3763 249.35 55.344 246.225 Q52.3347 243.076 52.3347 237.637 Q52.3347 232.313 55.4828 229.095 Q58.631 225.877 63.8624 225.877 Q69.8578 225.877 73.0059 230.484 Q76.1772 235.067 76.1772 243.817 Q76.1772 251.988 72.2883 256.873 Q68.4226 261.734 61.8717 261.734 Q60.1124 261.734 58.3069 261.387 Q56.5014 261.039 54.5569 260.345 M63.8624 245.692 Q67.0106 245.692 68.8393 243.539 Q70.6911 241.387 70.6911 237.637 Q70.6911 233.91 68.8393 231.757 Q67.0106 229.581 63.8624 229.581 Q60.7143 229.581 58.8625 231.757 Q57.0338 233.91 57.0338 237.637 Q57.0338 241.387 58.8625 243.539 Q60.7143 245.692 63.8624 245.692 Z\" fill=\"#000000\" fill-rule=\"evenodd\" fill-opacity=\"1\" /><path clip-path=\"url(#clip312)\" d=\"\nM1232.47 1445.72 L704.028 1445.72 L1760.9 1445.72 L1232.47 1445.72 L1232.47 944.91 L1232.47 1445.72  Z\n  \" fill=\"#009af9\" fill-rule=\"evenodd\" fill-opacity=\"1\"/>\n<polyline clip-path=\"url(#clip312)\" style=\"stroke:#000000; stroke-linecap:round; stroke-linejoin:round; stroke-width:4; stroke-opacity:1; fill:none\" points=\"\n  1232.47,1445.72 704.028,1445.72 1760.9,1445.72 1232.47,1445.72 1232.47,944.91 1232.47,1445.72 \n  \"/>\n<path clip-path=\"url(#clip312)\" d=\"\nM2289.34 944.91 L2289.34 577.653 L175.59 577.653 L175.59 944.91 L2289.34 944.91 L2289.34 577.653 L2289.34 944.91  Z\n  \" fill=\"#009af9\" fill-rule=\"evenodd\" fill-opacity=\"1\"/>\n<polyline clip-path=\"url(#clip312)\" style=\"stroke:#000000; stroke-linecap:round; stroke-linejoin:round; stroke-width:4; stroke-opacity:1; fill:none\" points=\"\n  2289.34,944.91 2289.34,577.653 175.59,577.653 175.59,944.91 2289.34,944.91 2289.34,577.653 2289.34,944.91 \n  \"/>\n<path clip-path=\"url(#clip312)\" d=\"\nM2289.34 332.815 L175.59 332.815 L175.59 577.653 L2289.34 577.653 L2289.34 332.815 L1232.47 332.815 L2289.34 332.815  Z\n  \" fill=\"#009af9\" fill-rule=\"evenodd\" fill-opacity=\"1\"/>\n<polyline clip-path=\"url(#clip312)\" style=\"stroke:#000000; stroke-linecap:round; stroke-linejoin:round; stroke-width:4; stroke-opacity:1; fill:none\" points=\"\n  2289.34,332.815 175.59,332.815 175.59,577.653 2289.34,577.653 2289.34,332.815 1232.47,332.815 2289.34,332.815 \n  \"/>\n<path clip-path=\"url(#clip312)\" d=\"\nM1232.47 87.9763 L704.028 87.9763 L1760.9 87.9763 L1232.47 87.9763 L1232.47 332.815 L1232.47 87.9763  Z\n  \" fill=\"#009af9\" fill-rule=\"evenodd\" fill-opacity=\"1\"/>\n<polyline clip-path=\"url(#clip312)\" style=\"stroke:#000000; stroke-linecap:round; stroke-linejoin:round; stroke-width:4; stroke-opacity:1; fill:none\" points=\"\n  1232.47,87.9763 704.028,87.9763 1760.9,87.9763 1232.47,87.9763 1232.47,332.815 1232.47,87.9763 \n  \"/>\n<polyline clip-path=\"url(#clip312)\" style=\"stroke:#009af9; stroke-linecap:round; stroke-linejoin:round; stroke-width:0; stroke-opacity:1; fill:none\" points=\"\n  1232.47,1445.72 704.028,1445.72 1760.9,1445.72 1232.47,1445.72 1232.47,944.91 \n  \"/>\n<polyline clip-path=\"url(#clip312)\" style=\"stroke:#009af9; stroke-linecap:round; stroke-linejoin:round; stroke-width:0; stroke-opacity:1; fill:none\" points=\"\n  2289.34,944.91 2289.34,577.653 175.59,577.653 175.59,944.91 2289.34,944.91 2289.34,577.653 \n  \"/>\n<polyline clip-path=\"url(#clip312)\" style=\"stroke:#009af9; stroke-linecap:round; stroke-linejoin:round; stroke-width:0; stroke-opacity:1; fill:none\" points=\"\n  2289.34,332.815 175.59,332.815 175.59,577.653 2289.34,577.653 2289.34,332.815 1232.47,332.815 \n  \"/>\n<polyline clip-path=\"url(#clip312)\" style=\"stroke:#009af9; stroke-linecap:round; stroke-linejoin:round; stroke-width:0; stroke-opacity:1; fill:none\" points=\"\n  1232.47,87.9763 704.028,87.9763 1760.9,87.9763 1232.47,87.9763 1232.47,332.815 \n  \"/>\n<path clip-path=\"url(#clip310)\" d=\"\nM2001.58 1438.47 L2278.07 1438.47 L2278.07 1334.79 L2001.58 1334.79  Z\n  \" fill=\"#ffffff\" fill-rule=\"evenodd\" fill-opacity=\"1\"/>\n<polyline clip-path=\"url(#clip310)\" style=\"stroke:#000000; stroke-linecap:round; stroke-linejoin:round; stroke-width:4; stroke-opacity:1; fill:none\" points=\"\n  2001.58,1438.47 2278.07,1438.47 2278.07,1334.79 2001.58,1334.79 2001.58,1438.47 \n  \"/>\n<path clip-path=\"url(#clip310)\" d=\"\nM2026.48 1407.37 L2175.85 1407.37 L2175.85 1365.9 L2026.48 1365.9 L2026.48 1407.37  Z\n  \" fill=\"#009af9\" fill-rule=\"evenodd\" fill-opacity=\"1\"/>\n<polyline clip-path=\"url(#clip310)\" style=\"stroke:#000000; stroke-linecap:round; stroke-linejoin:round; stroke-width:4; stroke-opacity:1; fill:none\" points=\"\n  2026.48,1407.37 2175.85,1407.37 2175.85,1365.9 2026.48,1365.9 2026.48,1407.37 \n  \"/>\n<path clip-path=\"url(#clip310)\" d=\"M2214.59 1406.32 Q2212.78 1410.95 2211.07 1412.36 Q2209.36 1413.78 2206.49 1413.78 L2203.08 1413.78 L2203.08 1410.21 L2205.58 1410.21 Q2207.34 1410.21 2208.31 1409.38 Q2209.29 1408.54 2210.47 1405.44 L2211.23 1403.5 L2200.74 1377.99 L2205.26 1377.99 L2213.36 1398.27 L2221.46 1377.99 L2225.98 1377.99 L2214.59 1406.32 Z\" fill=\"#000000\" fill-rule=\"evenodd\" fill-opacity=\"1\" /><path clip-path=\"url(#clip310)\" d=\"M2233.27 1399.98 L2240.91 1399.98 L2240.91 1373.61 L2232.6 1375.28 L2232.6 1371.02 L2240.86 1369.35 L2245.54 1369.35 L2245.54 1399.98 L2253.17 1399.98 L2253.17 1403.91 L2233.27 1403.91 L2233.27 1399.98 Z\" fill=\"#000000\" fill-rule=\"evenodd\" fill-opacity=\"1\" /></svg>\n"
          },
          "metadata": {},
          "execution_count": 13
        }
      ]
    }
  ]
}