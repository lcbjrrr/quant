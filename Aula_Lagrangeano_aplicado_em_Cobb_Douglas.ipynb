{
  "nbformat": 4,
  "nbformat_minor": 0,
  "metadata": {
    "colab": {
      "name": "Aula- Lagrangeano aplicado em Cobb-Douglas.ipynb",
      "provenance": [],
      "collapsed_sections": [],
      "include_colab_link": true
    },
    "kernelspec": {
      "display_name": "Python 3",
      "language": "python",
      "name": "python3"
    },
    "language_info": {
      "codemirror_mode": {
        "name": "ipython",
        "version": 3
      },
      "file_extension": ".py",
      "mimetype": "text/x-python",
      "name": "python",
      "nbconvert_exporter": "python",
      "pygments_lexer": "ipython3",
      "version": "3.7.4"
    }
  },
  "cells": [
    {
      "cell_type": "markdown",
      "metadata": {
        "id": "view-in-github",
        "colab_type": "text"
      },
      "source": [
        "<a href=\"https://colab.research.google.com/github/lcbjrrr/quant/blob/master/Aula_Lagrangeano_aplicado_em_Cobb_Douglas.ipynb\" target=\"_parent\"><img src=\"https://colab.research.google.com/assets/colab-badge.svg\" alt=\"Open In Colab\"/></a>"
      ]
    },
    {
      "cell_type": "markdown",
      "metadata": {
        "id": "h44h6jNlU-e4",
        "colab_type": "text"
      },
      "source": [
        "# Ficha Técnica\n",
        "Disciplinas - Cálculo de Multiplas variáveis, Otimização e processos dinâmicos.\n",
        "\n",
        "Conteúdo - Método dos multiplicadores de Lagrange.\n",
        "\n",
        "Aplicação - Função de Cobb-Douglas.\n",
        "\n",
        "Autores: Anderson Borba e Luiz Barboza."
      ]
    },
    {
      "cell_type": "markdown",
      "metadata": {
        "colab_type": "text",
        "id": "NYG5nXHI9_8L"
      },
      "source": [
        "# Maximização de uma função de Cobb-Douglas com restrição"
      ]
    },
    {
      "cell_type": "markdown",
      "metadata": {
        "colab_type": "text",
        "id": "ElYLOJKD-bov"
      },
      "source": [
        "\\begin{equation*}\n",
        "\\begin{aligned}\n",
        "& \\underset{K,L}{\\text{maximize}}\n",
        "& bL^{\\alpha}K^{1-\\alpha} & \\\\\n",
        "& \\text{sujeito a}\n",
        "&  mL+nK & = p.\n",
        "\\end{aligned}\n",
        "\\end{equation*}\n"
      ]
    },
    {
      "cell_type": "markdown",
      "metadata": {
        "colab_type": "text",
        "id": "riYAofEwBGBT"
      },
      "source": [
        "Definindo as funções \n",
        "\\begin{equation*}\n",
        "\\begin{aligned}\n",
        "P(K,L)&=& bL^{\\alpha}K^{1-\\alpha}\\\\\n",
        "g(K,L)&=&mL+nK.\n",
        "\\end{aligned}\n",
        "\\end{equation*}\n",
        "O lagrangeano é definido como\n",
        "\\begin{equation*}\n",
        "\\begin{aligned}\n",
        "\\ell(K,L)&=&P(K,L)-\\lambda g(K,L)\\\\\n",
        "\\ell(K,L)&=& bL^{\\alpha}K^{1-\\alpha} -\\lambda (mL+nK) \\\\\n",
        "\\end{aligned}\n",
        "\\end{equation*}\n",
        "calculando os gradiente e rescrevendo a equação $\\nabla P=\\lambda \\nabla g$ implicando nas igualdade\n",
        "\\begin{equation}\n",
        "\\begin{aligned}\n",
        "P_k&=&b(1-\\alpha)L^\\alpha K^{-\\alpha}&=&b(1-\\alpha)\\frac{L^\\alpha}{K^\\alpha}&=&\\lambda n&=&\\lambda g_K \\\\ \n",
        "P_L&=&b\\alpha L^{\\alpha-1} K^{1-\\alpha}&=&b\\alpha\\frac{L^{\\alpha-1}}{K^{\\alpha-1}}&=&b\\alpha\\frac{L^{\\alpha}}{K^{\\alpha}}\\frac{K}{L}&=&\\lambda m&=&\\lambda g_L\\\\ \n",
        "\\end{aligned}\n",
        "\\end{equation}\n",
        "dividindo as equações    \n",
        "\\begin{equation}\n",
        "\\begin{aligned}\n",
        "\\frac{b(1-\\alpha)\\frac{L^\\alpha}{K^\\alpha}}{b\\alpha\\frac{L^{\\alpha}}{K^{\\alpha}}\\frac{K}{L}}&=&\\frac{\\lambda n}{\\lambda m} \\\\ \n",
        "\\frac{(1-\\alpha)L}{\\alpha K}&=&\\frac{n}{m} \\\\ \n",
        "\\end{aligned}\n",
        "\\end{equation}\n",
        "usando a restrição do problema de otimização e dividindo por $m$,\n",
        "\\begin{equation}\n",
        "\\begin{aligned}\n",
        "mL+nK&=&p \\\\ \n",
        "L+\\frac{n}{m}K&=&\\frac{p}{m} \\\\ \n",
        "L+\\frac{(1-\\alpha)L}{\\alpha K}K&=&\\frac{p}{m} \\\\\n",
        "L+\\frac{(1-\\alpha)L}{\\alpha}&=&\\frac{p}{m} \\\\ \n",
        "\\frac{\\alpha L+(1-\\alpha)L}{\\alpha}&=&\\frac{p}{m} \\\\\n",
        "\\frac{L}{\\alpha}&=&\\frac{p}{m} \\\\\n",
        "L&=&\\alpha\\frac{p}{m} \\\\\n",
        "\\end{aligned}\n",
        "\\end{equation}\n",
        "Assim, a produção máxima ocorre para os seguintes valores\n",
        "\\begin{equation}\n",
        "\\begin{aligned}\n",
        "K&=&\\frac{(1-\\alpha)p}{n} \\\\\n",
        "L&=&\\frac{\\alpha p}{m} \\\\\n",
        "\\end{aligned}\n",
        "\\end{equation}"
      ]
    },
    {
      "cell_type": "markdown",
      "metadata": {
        "id": "l_PRw96DU-e6",
        "colab_type": "text"
      },
      "source": [
        "# Referência\n",
        "1- Stewart, James, Cálculo, Vol. 2, Editora Thomson, 8a. edição, 2016."
      ]
    }
  ]
}