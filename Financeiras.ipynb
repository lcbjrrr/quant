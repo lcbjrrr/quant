{
  "nbformat": 4,
  "nbformat_minor": 0,
  "metadata": {
    "colab": {
      "name": "Financeiras.ipynb",
      "provenance": [],
      "authorship_tag": "ABX9TyMsDz/tjR0r97wVetz5Y8y0",
      "include_colab_link": true
    },
    "kernelspec": {
      "name": "python3",
      "display_name": "Python 3"
    }
  },
  "cells": [
    {
      "cell_type": "markdown",
      "metadata": {
        "id": "view-in-github",
        "colab_type": "text"
      },
      "source": [
        "<a href=\"https://colab.research.google.com/github/lcbjrrr/quant/blob/master/Financeiras.ipynb\" target=\"_parent\"><img src=\"https://colab.research.google.com/assets/colab-badge.svg\" alt=\"Open In Colab\"/></a>"
      ]
    },
    {
      "cell_type": "code",
      "metadata": {
        "id": "SgPHYSoMXqN3",
        "outputId": "a7373043-1a85-4095-e352-7285a4b4dcd6",
        "colab": {
          "base_uri": "https://localhost:8080/",
          "height": 70
        }
      },
      "source": [
        "!curl https://raw.githubusercontent.com/lcbjrrr/quant/master/financeiras.py > financeiras.py "
      ],
      "execution_count": 1,
      "outputs": [
        {
          "output_type": "stream",
          "text": [
            "  % Total    % Received % Xferd  Average Speed   Time    Time     Time  Current\n",
            "                                 Dload  Upload   Total   Spent    Left  Speed\n",
            "100  2593  100  2593    0     0   7717      0 --:--:-- --:--:-- --:--:--  7717\n"
          ],
          "name": "stdout"
        }
      ]
    },
    {
      "cell_type": "code",
      "metadata": {
        "id": "zswuUxxBarJX"
      },
      "source": [
        "import financeiras as f"
      ],
      "execution_count": 2,
      "outputs": []
    },
    {
      "cell_type": "markdown",
      "metadata": {
        "id": "nHMg1g8NXlqd"
      },
      "source": [
        "Crie uma funcao que dado um aporte inicial, a quantidade de meses, e numero de periodos, ela calcule o valor final rendido usando a regra de JUROS SIMPLES\n"
      ]
    },
    {
      "cell_type": "code",
      "metadata": {
        "id": "kM5TI7MVXlxZ",
        "outputId": "b1d6ab84-5da6-46c9-8322-ea9114770378",
        "colab": {
          "base_uri": "https://localhost:8080/",
          "height": 87
        }
      },
      "source": [
        "a = float(input('Aporte '))\n",
        "t= float(input('Taxa '))\n",
        "p = float(input('Periodos '))\n",
        "\n",
        "rend = f.juros_simples(a,t,p)\n",
        "print(rend)"
      ],
      "execution_count": 3,
      "outputs": [
        {
          "output_type": "stream",
          "text": [
            "Aporte 100\n",
            "Taxa 0.01\n",
            "Periodos 10\n",
            "110.0\n"
          ],
          "name": "stdout"
        }
      ]
    },
    {
      "cell_type": "markdown",
      "metadata": {
        "id": "mrFc4CnJYAa8"
      },
      "source": [
        "Crie uma funcao que dado um aporte inicial, a quantidade de meses, e numero de periodos, ela calcule o valor final rendido usando a regra de JUROS COMPOSTOS\n"
      ]
    },
    {
      "cell_type": "code",
      "metadata": {
        "id": "tNo1muyFYAig",
        "outputId": "456c400f-64c3-428c-8881-277fe2684807",
        "colab": {
          "base_uri": "https://localhost:8080/",
          "height": 87
        }
      },
      "source": [
        "a = float(input('Aporte '))\n",
        "t= float(input('Taxa '))\n",
        "p = int(input('Periodos '))\n",
        "\n",
        "rend = f.juros_compostos(a,t,p)\n",
        "print(rend)"
      ],
      "execution_count": 4,
      "outputs": [
        {
          "output_type": "stream",
          "text": [
            "Aporte 100\n",
            "Taxa 0.01\n",
            "Periodos 10\n",
            "110.46221254112045\n"
          ],
          "name": "stdout"
        }
      ]
    },
    {
      "cell_type": "markdown",
      "metadata": {
        "id": "9U78OfnDYER1"
      },
      "source": [
        "Crie uma funcao de Valor Futuro, que calcula o valor de rendimento de uma aplicacao financeira, \n",
        "<br>Dado um aporte inicial VP e parcelas mensais PGTO por N periodos a uma taxa i. \n"
      ]
    },
    {
      "cell_type": "code",
      "metadata": {
        "id": "UIddXT4nYEYq",
        "outputId": "d1821442-bacc-4140-a649-5d102abef540",
        "colab": {
          "base_uri": "https://localhost:8080/",
          "height": 105
        }
      },
      "source": [
        "pv = float(input('Aporte inicial: '))\n",
        "pmt = float(input('Mensais: '))\n",
        "per = int(input('Periodo: '))\n",
        "tx  = float(input('Taxa: '))\n",
        "\n",
        "rendido = f.valor_futuro(pv,pmt,per,tx)\n",
        "print(rendido)"
      ],
      "execution_count": 5,
      "outputs": [
        {
          "output_type": "stream",
          "text": [
            "Aporte inicial: 100\n",
            "Mensais: 10\n",
            "Periodo: 10\n",
            "Taxa: 0.01\n",
            "215.08433795232497\n"
          ],
          "name": "stdout"
        }
      ]
    },
    {
      "cell_type": "markdown",
      "metadata": {
        "id": "J4aEdmzrYXxS"
      },
      "source": [
        "Crie uma funcao de Valor Presente, que calcula o valor de trazer uma divida do futura (VF) e traze-lo para o presente para quita-la a vista com desconto\n",
        "<br>Alem do VF, sua funcao deve considerar, N periodos e uma taxa i. \n"
      ]
    },
    {
      "cell_type": "code",
      "metadata": {
        "id": "qMhYpUbhYX5S",
        "outputId": "94319454-ecbf-4f40-98d7-c8416e16522d",
        "colab": {
          "base_uri": "https://localhost:8080/",
          "height": 87
        }
      },
      "source": [
        "vf = float(input('Divida Futura: '))\n",
        "per = int(input('Periodo: '))\n",
        "tx  = float(input('Taxa: '))\n",
        "\n",
        "rendido = f.vp(vf,per,tx)\n",
        "print(rendido)"
      ],
      "execution_count": 6,
      "outputs": [
        {
          "output_type": "stream",
          "text": [
            "Divida Futura: 100\n",
            "Periodo: 3\n",
            "Taxa: 0.01\n",
            "97.05901479276444\n"
          ],
          "name": "stdout"
        }
      ]
    },
    {
      "cell_type": "markdown",
      "metadata": {
        "id": "67Pq1aPTYssB"
      },
      "source": [
        "Uma loja apresenta um cartaz de um produto indicando o valor a vista, em comparação ao valor parcelado em 2 vezes (para 30 e 60 dias), mas não cumpre a resolução do Banco Central de apresentar a taxa de juros embutida bcb.gov.br/pre/normativos/busca/downloadNormativo.asp?arquivo=/Lists/Normativos/Attachments/48005/Res_3517_v1_O.pdf Crie uma função que dado valor a vista, o valor das parcelas, calcule o juros deste financiamento Atenção: Existem ao menos duas formas de resolução, uma de maneira algébrica, ou seja, desenvolva a equação. E outra de maneira por aproximação, seu programa vai testando soluções (não aleatórias) que vai ser aproximando do resultado correto. Para esta opção, até 0.3% de erro no seu cálculo é aceito. Desafio: Utilizando o método de aproximação como solução, estenda seu programa para ao invés de trabalhar com apenas 2 parcelas, trabalhe com N. \n"
      ]
    },
    {
      "cell_type": "code",
      "metadata": {
        "id": "JJFy_ADVYs0R",
        "outputId": "81a25b7c-8bed-41ee-b5fc-689c7b0abb24",
        "colab": {
          "base_uri": "https://localhost:8080/",
          "height": 70
        }
      },
      "source": [
        "avista = float(input('Valor a vista: '))\n",
        "pgto = float(input('Valor Parcela: '))\n",
        " \n",
        "\n",
        "print(f.rate(avista,pgto))\n",
        "\n"
      ],
      "execution_count": 7,
      "outputs": [
        {
          "output_type": "stream",
          "text": [
            "Valor a vista: 100\n",
            "Valor Parcela: 60\n",
            "0.13066238629180746\n"
          ],
          "name": "stdout"
        }
      ]
    },
    {
      "cell_type": "markdown",
      "metadata": {
        "id": "t6FzxI-kZCK_"
      },
      "source": [
        "Você gostaria de comprar a vista (no futuro) um produto no valor VF, mas dispõe de apenas VP, atualmente (no presente). Aplicando esse seu valor em um fundo que rende (i) ao mês, por quantos meses você precisa deixar seu dinheiro aplicado? Crie um programa que faca esse cálculo para você. Obs: Leia do teclado do valor da taxa i% na forma extensa, exemplo 10%\n"
      ]
    },
    {
      "cell_type": "code",
      "metadata": {
        "id": "JzoftmaQZCRh",
        "outputId": "91ebe3c1-49ac-45f9-e55c-324c26d7d6b9",
        "colab": {
          "base_uri": "https://localhost:8080/",
          "height": 87
        }
      },
      "source": [
        "fv = float(input('Valor Futuro '))\n",
        "pv = float(input('Valor Presente '))\n",
        "rate = float(input('Taxa % '))\n",
        "nn = f.nper(fv,pv,rate/100)\n",
        "print(nn)\n"
      ],
      "execution_count": 9,
      "outputs": [
        {
          "output_type": "stream",
          "text": [
            "Valor Futuro 100\n",
            "Valor Presente 90\n",
            "Taxa % 10\n",
            "1.1054487136015807\n"
          ],
          "name": "stdout"
        }
      ]
    },
    {
      "cell_type": "markdown",
      "metadata": {
        "id": "jjhu1kAQZHxZ"
      },
      "source": [
        "Você recebeu um folheto do anúncio de um produto que a vista custaria VP.\n",
        "Ou uma opção de parcelado em 2 vezes (30 e 60 dias), com juros de i%.\n",
        "Mas o folheto veio rasurado o valor parcela. Crie um programa para calcular este valor de parcela\n",
        "Obs: Leia do teclado do valor da taxa i% na forma extensa, exemplo 10%\n"
      ]
    },
    {
      "cell_type": "code",
      "metadata": {
        "id": "P0s-wrfZZH3m",
        "outputId": "7b74f14f-752c-42a0-a606-b0a179d7cc92",
        "colab": {
          "base_uri": "https://localhost:8080/",
          "height": 70
        }
      },
      "source": [
        "pv = float(input('Valor a vista '))\n",
        "i = float(input('Juros % '))\n",
        "pp = f.pgto(pv,i/100)\n",
        "print(pp) "
      ],
      "execution_count": 10,
      "outputs": [
        {
          "output_type": "stream",
          "text": [
            "Valor a vista 100\n",
            "Juros % 10\n",
            "57.61904761904761\n"
          ],
          "name": "stdout"
        }
      ]
    },
    {
      "cell_type": "markdown",
      "metadata": {
        "id": "sH0Z-5FYZL5h"
      },
      "source": [
        "Faça um programa que leia do teclado a inflação mensal (IPCA) mensal de um período de 12 mesesEm seguida calcule a inflação acumulada em cada um dos 4 trimestres do ano\n",
        "<br>Obs Leia os valores percentuais x100 (%)\n"
      ]
    },
    {
      "cell_type": "code",
      "metadata": {
        "id": "OheeFgHiZMAM",
        "outputId": "983625a2-9518-438b-c3b3-6db4391acfaa",
        "colab": {
          "base_uri": "https://localhost:8080/",
          "height": 247
        }
      },
      "source": [
        "ipca = []\n",
        "for i in range(0,12,1):\n",
        "    inf = float(input('IPCA '))\n",
        "    ipca.append(inf)\n",
        "\n",
        "t = f.ipca_tri(ipca)\n",
        "print(t)"
      ],
      "execution_count": 11,
      "outputs": [
        {
          "output_type": "stream",
          "text": [
            "IPCA 10\n",
            "IPCA 9\n",
            "IPCA 8\n",
            "IPCA 7\n",
            "IPCA 6\n",
            "IPCA 5\n",
            "IPCA 4\n",
            "IPCA 4\n",
            "IPCA 3\n",
            "IPCA 3\n",
            "IPCA 2\n",
            "IPCA 2\n",
            "[29.49200000000003, 25.96040000000004, 22.493600000000026, 19.091000000000015]\n"
          ],
          "name": "stdout"
        }
      ]
    },
    {
      "cell_type": "markdown",
      "metadata": {
        "id": "xGLHpcdOZlRC"
      },
      "source": [
        "Faça um programa que leia do teclado o número de desempregados mensal de um período de 12 meses # Em seguida calcule o volume de desemprego médio de cada trimestre\n"
      ]
    },
    {
      "cell_type": "code",
      "metadata": {
        "id": "0MoqjnktZlZO",
        "outputId": "9f2b2682-36ae-45ab-a2a3-8a6d757f05e4",
        "colab": {
          "base_uri": "https://localhost:8080/",
          "height": 247
        }
      },
      "source": [
        "\n",
        "des = []\n",
        "for i in range(0,12,1):\n",
        "    inf = float(input('Desemprego '))\n",
        "    des.append(inf)\n",
        "\n",
        "t = f.tri(des)\n",
        "print(t)"
      ],
      "execution_count": 12,
      "outputs": [
        {
          "output_type": "stream",
          "text": [
            "Desemprego 14\n",
            "Desemprego 13\n",
            "Desemprego 13\n",
            "Desemprego 12\n",
            "Desemprego 12\n",
            "Desemprego 1\n",
            "Desemprego 11\n",
            "Desemprego 11\n",
            "Desemprego 10\n",
            "Desemprego 10\n",
            "Desemprego 11\n",
            "Desemprego 9\n",
            "[13.333333333333334, 12.666666666666666, 12.333333333333334, 8.333333333333334]\n"
          ],
          "name": "stdout"
        }
      ]
    },
    {
      "cell_type": "markdown",
      "metadata": {
        "id": "aWj5pNrVZv3b"
      },
      "source": [
        "Faça um programa que leia do teclado a quantidade de casos de covid diários das últimas 3 semanas # Seu programa deve apresentar então a quantidade máxima de casos em cada semana\n"
      ]
    },
    {
      "cell_type": "code",
      "metadata": {
        "id": "ot3YYVyRZwAJ",
        "outputId": "7f43eba5-1e34-4556-815e-244ef19af7b5",
        "colab": {
          "base_uri": "https://localhost:8080/",
          "height": 461
        }
      },
      "source": [
        "covs=[]\n",
        "for s in range(0,3,1):\n",
        "    print('Semana 1  --------')\n",
        "    for d in range(0,7,1):\n",
        "        cov = float(input('Covid '))\n",
        "        covs.append(cov)\n",
        "\n",
        "mm = f.maximo(covs)\n",
        "print(mm)"
      ],
      "execution_count": 13,
      "outputs": [
        {
          "output_type": "stream",
          "text": [
            "Semana 1  --------\n",
            "Covid 150\n",
            "Covid 140\n",
            "Covid 140\n",
            "Covid 120\n",
            "Covid 103\n",
            "Covid 130\n",
            "Covid 133\n",
            "Semana 1  --------\n",
            "Covid 140\n",
            "Covid 133\n",
            "Covid 122\n",
            "Covid 111\n",
            "Covid 102\n",
            "Covid 100\n",
            "Covid 104\n",
            "Semana 1  --------\n",
            "Covid 140\n",
            "Covid 130\n",
            "Covid 120\n",
            "Covid 110\n",
            "Covid 110\n",
            "Covid 120\n",
            "Covid 120\n",
            "[150.0, 140.0, 140.0]\n"
          ],
          "name": "stdout"
        }
      ]
    },
    {
      "cell_type": "markdown",
      "metadata": {
        "id": "qrPeBv66Z5PL"
      },
      "source": [
        "Faça um programa que leia do teclado o PIB nominal e o valor de inflação dos últimos 5 anos. Seu programa deve apresentar os valores de PIB real, ou seja, os valores nominais corrigidos pela inflação a valor presente Leia do teclado em pares PIB e Inflação do ano mais atual para o mais antigo \n",
        "Obs: Leia os valores percentuais x100 (%) \n"
      ]
    },
    {
      "cell_type": "code",
      "metadata": {
        "id": "KcEqBCO4Z5V6",
        "outputId": "cf173ff1-903b-45f2-8cf0-08e060fa4e64",
        "colab": {
          "base_uri": "https://localhost:8080/",
          "height": 212
        }
      },
      "source": [
        "pibs = []\n",
        "infs = []\n",
        "for i in range(0,5,1):\n",
        "    pib = float(input('PIB '))\n",
        "    pibs.append(pib)\n",
        "    inf = float(input('IPCA '))\n",
        "    infs.append(inf)\n",
        "\n",
        "rr = f.pib_real(pibs, infs)\n",
        "print(rr)\n"
      ],
      "execution_count": 14,
      "outputs": [
        {
          "output_type": "stream",
          "text": [
            "PIB 1500\n",
            "IPCA 10\n",
            "PIB 1400\n",
            "IPCA 9\n",
            "PIB 1300\n",
            "IPCA 8\n",
            "PIB 120\n",
            "IPCA 7\n",
            "PIB 1200\n",
            "IPCA 6\n",
            "[1500.0, 1540.0000000000002, 1558.7000000000003, 155.39040000000003, 1662.6772800000003]\n"
          ],
          "name": "stdout"
        }
      ]
    },
    {
      "cell_type": "markdown",
      "metadata": {
        "id": "eOrF7hMIZ81e"
      },
      "source": [
        "Apareceu-lhe uma oportunidade de investimento numa startup de R X mil. As projeções de retorno de investimento nesta empresa no primeiro ano de R Y mil e R Z mil no segundo ano. Crie um programa que calcula a TIR (taxa interna de retorno) para esse seu investimento \n"
      ]
    },
    {
      "cell_type": "code",
      "metadata": {
        "id": "Oyl3GxVhZ88M",
        "outputId": "e7d64105-b177-4b44-d8a9-1bc3437ec14b",
        "colab": {
          "base_uri": "https://localhost:8080/",
          "height": 87
        }
      },
      "source": [
        "x = float(input('Investimento: '))\n",
        "y = float(input('Retorno 1o ano: '))\n",
        "z  = float(input('Retorno 2o ano: '))\n",
        "\n",
        "irr=f.tir(x,y,z)\n",
        "print(irr)\n"
      ],
      "execution_count": 15,
      "outputs": [
        {
          "output_type": "stream",
          "text": [
            "Investimento: 50000\n",
            "Retorno 1o ano: 30000\n",
            "Retorno 2o ano: 30000\n",
            "0.1306623862918075\n"
          ],
          "name": "stdout"
        }
      ]
    }
  ]
}