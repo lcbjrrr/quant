{
  "nbformat": 4,
  "nbformat_minor": 0,
  "metadata": {
    "colab": {
      "name": "Controle de Fluxo - Loops/ Laços (For e While).ipynb",
      "provenance": [],
      "authorship_tag": "ABX9TyNaqgmSvDTJ8pWAIrEif09I",
      "include_colab_link": true
    },
    "kernelspec": {
      "name": "python3",
      "display_name": "Python 3"
    }
  },
  "cells": [
    {
      "cell_type": "markdown",
      "metadata": {
        "id": "view-in-github",
        "colab_type": "text"
      },
      "source": [
        "<a href=\"https://colab.research.google.com/github/lcbjrrr/quant/blob/master/Controle_de_Fluxo_Loops_La%C3%A7os_(For_e_While).ipynb\" target=\"_parent\"><img src=\"https://colab.research.google.com/assets/colab-badge.svg\" alt=\"Open In Colab\"/></a>"
      ]
    },
    {
      "cell_type": "markdown",
      "metadata": {
        "id": "nXf1iy80JQu-",
        "colab_type": "text"
      },
      "source": [
        "#FOR"
      ]
    },
    {
      "cell_type": "markdown",
      "metadata": {
        "id": "QzCsyPKQJS9R",
        "colab_type": "text"
      },
      "source": [
        "**for** *cont* **in range**(*v_ini*, *v_fim*, *incremento*):\n",
        "\n",
        "  . . . \n"
      ]
    },
    {
      "cell_type": "code",
      "metadata": {
        "id": "3ga_cVrYJcFL",
        "colab_type": "code",
        "colab": {
          "base_uri": "https://localhost:8080/",
          "height": 176
        },
        "outputId": "7942608a-7111-4d7c-db67-ca142aaf3c8a"
      },
      "source": [
        "for i in range(1,10,1):\n",
        "  print(i)"
      ],
      "execution_count": 1,
      "outputs": [
        {
          "output_type": "stream",
          "text": [
            "1\n",
            "2\n",
            "3\n",
            "4\n",
            "5\n",
            "6\n",
            "7\n",
            "8\n",
            "9\n"
          ],
          "name": "stdout"
        }
      ]
    },
    {
      "cell_type": "code",
      "metadata": {
        "id": "HVXqRvI7J9YT",
        "colab_type": "code",
        "colab": {
          "base_uri": "https://localhost:8080/",
          "height": 194
        },
        "outputId": "5670d0fc-3cf6-4f53-9f5c-7176288d8721"
      },
      "source": [
        "for i in range(5): \n",
        "      num=int(input(\"Digite um número inteiro:\"))\n",
        "      if num%2==0:\n",
        "         print(num, \"é um número par\")\n",
        "      else:\n",
        "        print(num, \"é um número ímpar\")"
      ],
      "execution_count": 2,
      "outputs": [
        {
          "output_type": "stream",
          "text": [
            "Digite um número inteiro:1\n",
            "Digite um número inteiro:4\n",
            "1 é um número ímpar\n",
            "4 é um número par\n",
            "Digite um número inteiro:5\n",
            "5 é um número ímpar\n",
            "Digite um número inteiro:55\n",
            "55 é um número ímpar\n",
            "Digite um número inteiro:22\n",
            "22 é um número par\n"
          ],
          "name": "stdout"
        }
      ]
    },
    {
      "cell_type": "code",
      "metadata": {
        "id": "fDyE-aEOKFm0",
        "colab_type": "code",
        "colab": {
          "base_uri": "https://localhost:8080/",
          "height": 123
        },
        "outputId": "8dfeb881-960b-477b-90e5-435735347437"
      },
      "source": [
        "soma= 0\n",
        "for i in range(1,6,1):\n",
        "  n = int(input('digite o numero '))\n",
        "  soma = soma + n\n",
        "print(soma)"
      ],
      "execution_count": 4,
      "outputs": [
        {
          "output_type": "stream",
          "text": [
            "digite o numero 1\n",
            "digite o numero 4\n",
            "digite o numero 5\n",
            "digite o numero 6\n",
            "digite o numero 2\n",
            "18\n"
          ],
          "name": "stdout"
        }
      ]
    },
    {
      "cell_type": "code",
      "metadata": {
        "id": "cp9Ht6DMKTVG",
        "colab_type": "code",
        "colab": {
          "base_uri": "https://localhost:8080/",
          "height": 123
        },
        "outputId": "0c9d9925-80a4-449d-d722-f21897aec707"
      },
      "source": [
        "maior=0\n",
        "for i in range(5): \n",
        "      num=int(input(\"Digite um número inteiro positivo:\"))\n",
        "      if num>maior:\n",
        "         maior=num\n",
        "print(\"O maior valor digitado é \", maior)"
      ],
      "execution_count": 5,
      "outputs": [
        {
          "output_type": "stream",
          "text": [
            "Digite um número inteiro positivo:1\n",
            "Digite um número inteiro positivo:5\n",
            "Digite um número inteiro positivo:2\n",
            "Digite um número inteiro positivo:66\n",
            "Digite um número inteiro positivo:3\n",
            "O maior valor digitado é  66\n"
          ],
          "name": "stdout"
        }
      ]
    },
    {
      "cell_type": "markdown",
      "metadata": {
        "id": "f5BahD9kKf3L",
        "colab_type": "text"
      },
      "source": [
        "#WHILE"
      ]
    },
    {
      "cell_type": "markdown",
      "metadata": {
        "id": "Cqg-MMZFKf9H",
        "colab_type": "text"
      },
      "source": [
        "**while** (*condição*): \n",
        "\n",
        "...\n",
        "\n",
        "\n",
        "\n"
      ]
    },
    {
      "cell_type": "code",
      "metadata": {
        "id": "_UfnZ7rcKlUf",
        "colab_type": "code",
        "colab": {
          "base_uri": "https://localhost:8080/",
          "height": 176
        },
        "outputId": "bdb36a8c-42fa-4161-911e-ff0b79dcd9eb"
      },
      "source": [
        "i=1\n",
        "while(i<10):\n",
        "  print(i)\n",
        "  i=i+1"
      ],
      "execution_count": 6,
      "outputs": [
        {
          "output_type": "stream",
          "text": [
            "1\n",
            "2\n",
            "3\n",
            "4\n",
            "5\n",
            "6\n",
            "7\n",
            "8\n",
            "9\n"
          ],
          "name": "stdout"
        }
      ]
    },
    {
      "cell_type": "code",
      "metadata": {
        "id": "LICyBs5HK1Jm",
        "colab_type": "code",
        "colab": {
          "base_uri": "https://localhost:8080/",
          "height": 123
        },
        "outputId": "1bc1312d-4125-4554-d5c3-0ba2f4aab555"
      },
      "source": [
        "num=1\n",
        "while (num!=0):\n",
        "      num=int(input(\"Digite um número inteiro (0 - encerra):\"))\n",
        "      if num%2==0:\n",
        "         print(num, \"é um número par\")\n",
        "      else:\n",
        "        print(num, \"é um número ímpar\")\n"
      ],
      "execution_count": 7,
      "outputs": [
        {
          "output_type": "stream",
          "text": [
            "Digite um número inteiro (0 - encerra):1\n",
            "1 é um número ímpar\n",
            "Digite um número inteiro (0 - encerra):2\n",
            "2 é um número par\n",
            "Digite um número inteiro (0 - encerra):0\n",
            "0 é um número par\n"
          ],
          "name": "stdout"
        }
      ]
    }
  ]
}