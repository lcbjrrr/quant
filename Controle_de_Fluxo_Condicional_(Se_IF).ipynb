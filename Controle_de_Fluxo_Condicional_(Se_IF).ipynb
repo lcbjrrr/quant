{
  "nbformat": 4,
  "nbformat_minor": 0,
  "metadata": {
    "colab": {
      "name": "Controle de Fluxo - Condicional (Se / IF).ipynb",
      "provenance": [],
      "authorship_tag": "ABX9TyP8k1C06UxmZtXIRLkdsuuF",
      "include_colab_link": true
    },
    "kernelspec": {
      "name": "python3",
      "display_name": "Python 3"
    }
  },
  "cells": [
    {
      "cell_type": "markdown",
      "metadata": {
        "id": "view-in-github",
        "colab_type": "text"
      },
      "source": [
        "<a href=\"https://colab.research.google.com/github/lcbjrrr/quant/blob/master/Controle_de_Fluxo_Condicional_(Se_IF).ipynb\" target=\"_parent\"><img src=\"https://colab.research.google.com/assets/colab-badge.svg\" alt=\"Open In Colab\"/></a>"
      ]
    },
    {
      "cell_type": "markdown",
      "metadata": {
        "id": "xC4FZ7o9Fu-p",
        "colab_type": "text"
      },
      "source": [
        "#Operadores Lógicos e Relacionais"
      ]
    },
    {
      "cell_type": "markdown",
      "metadata": {
        "id": "54dkXbmQFvXZ",
        "colab_type": "text"
      },
      "source": [
        "**`Operadores Relecionais`**\n",
        "\n",
        "![ ](https://pbs.twimg.com/media/EgyezSRWkAAHilj?format=png&name=small)"
      ]
    },
    {
      "cell_type": "markdown",
      "metadata": {
        "id": "6K-V5xv-GlMw",
        "colab_type": "text"
      },
      "source": [
        "**Operadores Lógicos**\n",
        "\n",
        "![ ](https://pbs.twimg.com/media/EgyjgNiXcAEBQQv?format=jpg&name=medium)"
      ]
    },
    {
      "cell_type": "code",
      "metadata": {
        "id": "2yhNmTWuFvdt",
        "colab_type": "code",
        "colab": {
          "base_uri": "https://localhost:8080/",
          "height": 35
        },
        "outputId": "f800a248-44b4-4191-f2b4-47b72f980e9e"
      },
      "source": [
        "\n",
        "def aprovacao(nota, freq):\n",
        "  if(nota>=7 and freq>=0.75):\n",
        "    aprov = 'aprovado'\n",
        "  else: \n",
        "    aprov = 'reprovado'\n",
        "  return aprov\n",
        "\n",
        "r = aprovacao(8,0.9)\n",
        "r"
      ],
      "execution_count": 1,
      "outputs": [
        {
          "output_type": "execute_result",
          "data": {
            "application/vnd.google.colaboratory.intrinsic+json": {
              "type": "string"
            },
            "text/plain": [
              "'aprovado'"
            ]
          },
          "metadata": {
            "tags": []
          },
          "execution_count": 1
        }
      ]
    },
    {
      "cell_type": "code",
      "metadata": {
        "id": "N7rxwLeMIbm6",
        "colab_type": "code",
        "colab": {
          "base_uri": "https://localhost:8080/",
          "height": 35
        },
        "outputId": "21a00211-9095-4835-b45b-4cb5705adf1d"
      },
      "source": [
        "def nota_conceito(nota):\n",
        "  if(nota>=9):\n",
        "    conceito = 'A'\n",
        "  elif(nota<9 and nota>=7):\n",
        "    conceito = 'B'\n",
        "  elif(nota<7 and nota>=5):\n",
        "    conceito = 'D'\n",
        "  else:\n",
        "    conceito = 'D'\n",
        "  return conceito\n",
        "\n",
        "nc = nota_conceito(9.5)\n",
        "nc\n"
      ],
      "execution_count": 2,
      "outputs": [
        {
          "output_type": "execute_result",
          "data": {
            "application/vnd.google.colaboratory.intrinsic+json": {
              "type": "string"
            },
            "text/plain": [
              "'A'"
            ]
          },
          "metadata": {
            "tags": []
          },
          "execution_count": 2
        }
      ]
    }
  ]
}