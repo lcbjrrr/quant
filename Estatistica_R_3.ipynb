{
  "nbformat": 4,
  "nbformat_minor": 0,
  "metadata": {
    "colab": {
      "name": "Estatistica R - 3.ipynb",
      "provenance": [],
      "authorship_tag": "ABX9TyMW+hKTKmfcZqcw9BIhor7O",
      "include_colab_link": true
    },
    "kernelspec": {
      "name": "python3",
      "display_name": "Python 3"
    }
  },
  "cells": [
    {
      "cell_type": "markdown",
      "metadata": {
        "id": "view-in-github",
        "colab_type": "text"
      },
      "source": [
        "<a href=\"https://colab.research.google.com/github/lcbjrrr/quant/blob/master/Estatistica_R_3.ipynb\" target=\"_parent\"><img src=\"https://colab.research.google.com/assets/colab-badge.svg\" alt=\"Open In Colab\"/></a>"
      ]
    },
    {
      "cell_type": "code",
      "metadata": {
        "colab": {
          "base_uri": "https://localhost:8080/"
        },
        "id": "wjTjIEvdN0Tf",
        "outputId": "793169ce-de27-4b97-a8db-e5c498962c89"
      },
      "source": [
        "%load_ext rpy2.ipython\n"
      ],
      "execution_count": 1,
      "outputs": [
        {
          "output_type": "stream",
          "text": [
            "/usr/local/lib/python3.6/dist-packages/rpy2/robjects/pandas2ri.py:14: FutureWarning: pandas.core.index is deprecated and will be removed in a future version.  The public classes are available in the top-level namespace.\n",
            "  from pandas.core.index import Index as PandasIndex\n",
            "/usr/local/lib/python3.6/dist-packages/rpy2/robjects/pandas2ri.py:34: UserWarning: pandas >= 1.0 is not supported.\n",
            "  warnings.warn('pandas >= 1.0 is not supported.')\n"
          ],
          "name": "stderr"
        }
      ]
    },
    {
      "cell_type": "markdown",
      "metadata": {
        "id": "rG0yZDWXbJNN"
      },
      "source": [
        "#Probabilidade"
      ]
    },
    {
      "cell_type": "code",
      "metadata": {
        "colab": {
          "base_uri": "https://localhost:8080/"
        },
        "id": "VtK5ncBmUPNR",
        "outputId": "76068320-de1e-4e9f-eb39-fa10893b05e5"
      },
      "source": [
        "%%R\n",
        "x<-1.8\n",
        "u<-1.7\n",
        "o<-0.1\n",
        "Z<- (x-u)/o\n",
        "print(Z) #normalizacao\n",
        "um_oitenta<-pnorm(Z)\n",
        "print(um_oitenta)"
      ],
      "execution_count": 3,
      "outputs": [
        {
          "output_type": "stream",
          "text": [
            "[1] 1\n",
            "[1] 0.8413447\n"
          ],
          "name": "stdout"
        }
      ]
    },
    {
      "cell_type": "code",
      "metadata": {
        "colab": {
          "base_uri": "https://localhost:8080/"
        },
        "id": "NK1dPzS9WsL0",
        "outputId": "08c1cb90-707b-4237-b7e4-8a0ceb3c8a21"
      },
      "source": [
        "%%R\n",
        "x<-1.6\n",
        "Z<- (x-u)/o\n",
        "print(Z) #normalizacao\n",
        "print(pnorm(Z))\n",
        "um_oitenta-pnorm(Z)"
      ],
      "execution_count": null,
      "outputs": [
        {
          "output_type": "stream",
          "text": [
            "[1] -1\n",
            "[1] 0.1586553\n",
            "[1] 0.6826895\n"
          ],
          "name": "stdout"
        }
      ]
    },
    {
      "cell_type": "code",
      "metadata": {
        "colab": {
          "base_uri": "https://localhost:8080/"
        },
        "id": "IV2zOlicXRsW",
        "outputId": "6bdb71a2-6518-4650-a0a9-6d660f873f60"
      },
      "source": [
        "%%R\n",
        "x<-1.9\n",
        "Z<- (x-u)/o\n",
        "print(Z) #normalizacao\n",
        "print(pnorm(Z))\n",
        "1-pnorm(Z)"
      ],
      "execution_count": null,
      "outputs": [
        {
          "output_type": "stream",
          "text": [
            "[1] 2\n",
            "[1] 0.9772499\n",
            "[1] 0.02275013\n"
          ],
          "name": "stdout"
        }
      ]
    },
    {
      "cell_type": "markdown",
      "metadata": {
        "id": "3q3M9nz3bGw1"
      },
      "source": [
        "#Amostragem"
      ]
    },
    {
      "cell_type": "code",
      "metadata": {
        "id": "dMEF63oIbper",
        "colab": {
          "base_uri": "https://localhost:8080/"
        },
        "outputId": "bc5480de-27ed-4b3b-fe1d-477f006f9432"
      },
      "source": [
        "%%R\n",
        "install.packages('dplyr')\n",
        "library(dplyr)"
      ],
      "execution_count": 5,
      "outputs": [
        {
          "output_type": "stream",
          "text": [
            "R[write to console]: Installing package into ‘/usr/local/lib/R/site-library’\n",
            "(as ‘lib’ is unspecified)\n",
            "\n",
            "R[write to console]: trying URL 'https://cran.rstudio.com/src/contrib/dplyr_1.0.2.tar.gz'\n",
            "\n",
            "R[write to console]: Content type 'application/x-gzip'\n",
            "R[write to console]:  length 935654 bytes (913 KB)\n",
            "\n",
            "R[write to console]: =\n",
            "R[write to console]: =\n",
            "R[write to console]: =\n",
            "R[write to console]: =\n",
            "R[write to console]: =\n",
            "R[write to console]: =\n",
            "R[write to console]: =\n",
            "R[write to console]: =\n",
            "R[write to console]: =\n",
            "R[write to console]: =\n",
            "R[write to console]: =\n",
            "R[write to console]: =\n",
            "R[write to console]: =\n",
            "R[write to console]: =\n",
            "R[write to console]: =\n",
            "R[write to console]: =\n",
            "R[write to console]: =\n",
            "R[write to console]: =\n",
            "R[write to console]: =\n",
            "R[write to console]: =\n",
            "R[write to console]: =\n",
            "R[write to console]: =\n",
            "R[write to console]: =\n",
            "R[write to console]: =\n",
            "R[write to console]: =\n",
            "R[write to console]: =\n",
            "R[write to console]: =\n",
            "R[write to console]: =\n",
            "R[write to console]: =\n",
            "R[write to console]: =\n",
            "R[write to console]: =\n",
            "R[write to console]: =\n",
            "R[write to console]: =\n",
            "R[write to console]: =\n",
            "R[write to console]: =\n",
            "R[write to console]: =\n",
            "R[write to console]: =\n",
            "R[write to console]: =\n",
            "R[write to console]: =\n",
            "R[write to console]: =\n",
            "R[write to console]: =\n",
            "R[write to console]: =\n",
            "R[write to console]: =\n",
            "R[write to console]: =\n",
            "R[write to console]: =\n",
            "R[write to console]: =\n",
            "R[write to console]: =\n",
            "R[write to console]: =\n",
            "R[write to console]: =\n",
            "R[write to console]: =\n",
            "R[write to console]: \n",
            "\n",
            "R[write to console]: downloaded 913 KB\n",
            "\n",
            "\n",
            "R[write to console]: \n",
            "\n",
            "R[write to console]: \n",
            "R[write to console]: The downloaded source packages are in\n",
            "\t‘/tmp/RtmpSnUyOi/downloaded_packages’\n",
            "R[write to console]: \n",
            "R[write to console]: \n",
            "\n",
            "R[write to console]: \n",
            "Attaching package: ‘dplyr’\n",
            "\n",
            "\n",
            "R[write to console]: The following objects are masked from ‘package:stats’:\n",
            "\n",
            "    filter, lag\n",
            "\n",
            "\n",
            "R[write to console]: The following objects are masked from ‘package:base’:\n",
            "\n",
            "    intersect, setdiff, setequal, union\n",
            "\n",
            "\n"
          ],
          "name": "stderr"
        }
      ]
    },
    {
      "cell_type": "code",
      "metadata": {
        "colab": {
          "base_uri": "https://localhost:8080/"
        },
        "id": "hPwtLkJ0bIiA",
        "outputId": "b47044de-0eb2-4db9-ea6f-e1957be16415"
      },
      "source": [
        "%%R\n",
        "populacao <- read.csv('http://quant-ibmec.group/benchmark%20-%20ok.csv')\n",
        "head(populacao)"
      ],
      "execution_count": 6,
      "outputs": [
        {
          "output_type": "stream",
          "text": [
            "  Estudo Renda UF SEXO COR Idade   Altura\n",
            "1     12   800 RO    M PAR    23 1.603808\n",
            "2     12  1150 RO    F BRA    23 1.739790\n",
            "3     15   880 RO    F PAR    35 1.760444\n",
            "4      6  3500 RO    M BRA    46 1.783158\n",
            "5      9   150 RO    F PAR    47 1.690631\n",
            "6     12   790 RO    F PAR    34 1.637906\n"
          ],
          "name": "stdout"
        }
      ]
    },
    {
      "cell_type": "code",
      "metadata": {
        "colab": {
          "base_uri": "https://localhost:8080/"
        },
        "id": "nA8ddAx1bbR3",
        "outputId": "5e799d95-d96b-4c84-9be3-d1213fb07fe5"
      },
      "source": [
        "%%R\n",
        "sample_n(populacao,2)"
      ],
      "execution_count": 8,
      "outputs": [
        {
          "output_type": "stream",
          "text": [
            "  Estudo Renda UF SEXO COR Idade   Altura\n",
            "1     16  8000 SP    M BRA    45 1.615335\n",
            "2      8  2500 RJ    M PAR    33 1.749081\n"
          ],
          "name": "stdout"
        }
      ]
    },
    {
      "cell_type": "code",
      "metadata": {
        "colab": {
          "base_uri": "https://localhost:8080/"
        },
        "id": "tCcXAaN4glPA",
        "outputId": "267833c1-051a-4a98-c63f-dfab28436a5b"
      },
      "source": [
        "%%R\n",
        "sample(populacao$Idade,1)"
      ],
      "execution_count": 11,
      "outputs": [
        {
          "output_type": "stream",
          "text": [
            "[1] 45\n"
          ],
          "name": "stdout"
        }
      ]
    },
    {
      "cell_type": "code",
      "metadata": {
        "colab": {
          "base_uri": "https://localhost:8080/"
        },
        "id": "c4910Y3vcGS-",
        "outputId": "c8bd9108-b535-4f19-a3a8-a21f72b5e7fc"
      },
      "source": [
        "%%R\n",
        "print(mean(populacao$Idade))\n",
        "amostra <- sample_n(populacao,100)\n",
        "print(mean(amostra$Idade))"
      ],
      "execution_count": 12,
      "outputs": [
        {
          "output_type": "stream",
          "text": [
            "[1] 44.07142\n",
            "[1] 43.64\n"
          ],
          "name": "stdout"
        }
      ]
    },
    {
      "cell_type": "code",
      "metadata": {
        "colab": {
          "base_uri": "https://localhost:8080/"
        },
        "id": "FKZjOKpKeoBO",
        "outputId": "76a4fa25-d637-49cb-a898-13766e21fd5c"
      },
      "source": [
        "%%R\n",
        "print(nrow(populacao))\n",
        "n <- 50 # tam. amostra\n",
        "u_amostras <- c()\n",
        "for (i in 1:300){\n",
        "    amostra <- sample(populacao$Idade,n)\n",
        "    u_amostras <- c(u_amostras, mean(amostra))\n",
        "}\n",
        "print(mean(populacao$Idade))\n",
        "mean(u_amostras)\n"
      ],
      "execution_count": 13,
      "outputs": [
        {
          "output_type": "stream",
          "text": [
            "[1] 76840\n",
            "[1] 44.07142\n",
            "[1] 44.20947\n"
          ],
          "name": "stdout"
        }
      ]
    },
    {
      "cell_type": "code",
      "metadata": {
        "colab": {
          "base_uri": "https://localhost:8080/",
          "height": 497
        },
        "id": "cKEmre9mK80L",
        "outputId": "b0d581c7-03fe-41b1-aa14-4353c6f48dfe"
      },
      "source": [
        "%%R\n",
        "hist(u_amostras)"
      ],
      "execution_count": 14,
      "outputs": [
        {
          "output_type": "display_data",
          "data": {
            "image/png": "[encoded data removed]"
          },
          "metadata": {
            "tags": []
          }
        }
      ]
    },
    {
      "cell_type": "code",
      "metadata": {
        "colab": {
          "base_uri": "https://localhost:8080/"
        },
        "id": "kTg_lW-9esb-",
        "outputId": "a3d9f388-57f4-4521-f688-dd9da1f91125"
      },
      "source": [
        "%%R\n",
        "print(sd(u_amostras))\n",
        "sd(populacao$Idade) / sqrt(n)"
      ],
      "execution_count": 16,
      "outputs": [
        {
          "output_type": "stream",
          "text": [
            "[1] 1.734057\n",
            "[1] 1.765021\n"
          ],
          "name": "stdout"
        }
      ]
    },
    {
      "cell_type": "markdown",
      "metadata": {
        "id": "zBVsOfNnmoVf"
      },
      "source": [
        "# Nível de Confiança e Significância\n"
      ]
    },
    {
      "cell_type": "markdown",
      "metadata": {
        "id": "YDbxArbfoy8r"
      },
      "source": [
        "\n",
        "Suponha que os pesos dos sacos de arroz de uma indústria alimentícia se distribuem aproximadamente como uma normal de desvio padrão populacional igual a 150 g. Selecionada uma amostra aleatório de 20 sacos de um lote específico, obteve-se um peso médio de 5.050 g. Construa um intervalo de confiança para a média populacional assumindo um nível de significância de 5%."
      ]
    },
    {
      "cell_type": "code",
      "metadata": {
        "colab": {
          "base_uri": "https://localhost:8080/"
        },
        "id": "vTrZa8LUmpSf",
        "outputId": "916566b5-1aef-4290-ab23-71ecbfe55aec"
      },
      "source": [
        "%%R\n",
        "sig <- 0.05\n",
        "conf <- 1-sig\n",
        "Z <- qnorm(conf+sig/2)\n",
        "Z"
      ],
      "execution_count": 17,
      "outputs": [
        {
          "output_type": "stream",
          "text": [
            "[1] 1.959964\n"
          ],
          "name": "stdout"
        }
      ]
    },
    {
      "cell_type": "code",
      "metadata": {
        "colab": {
          "base_uri": "https://localhost:8080/"
        },
        "id": "_2vAzuDWpPeZ",
        "outputId": "ec7bcd8d-f4fa-4c1d-f61c-4ef9f749239d"
      },
      "source": [
        "%%R\n",
        "\n",
        "devpad <- 150\n",
        "n <-20\n",
        "u <- 5050\n",
        "e <- Z * (devpad / sqrt(n))\n",
        "print(e)\n",
        "print(u-e)\n",
        "print(u+e)"
      ],
      "execution_count": 18,
      "outputs": [
        {
          "output_type": "stream",
          "text": [
            "[1] 65.73919\n",
            "[1] 4984.261\n",
            "[1] 5115.739\n"
          ],
          "name": "stdout"
        }
      ]
    },
    {
      "cell_type": "code",
      "metadata": {
        "id": "D8kJM2FQqGRa"
      },
      "source": [
        "%%R\n",
        "install.packages('DescTools')\n",
        "library(DescTools)\n",
        "\n",
        "install.packages(\"ggplot2\")\n",
        "library(ggplot2)"
      ],
      "execution_count": null,
      "outputs": []
    },
    {
      "cell_type": "code",
      "metadata": {
        "colab": {
          "base_uri": "https://localhost:8080/"
        },
        "id": "_6bGVoh7q6Db",
        "outputId": "ee777cbd-37fe-4ce7-a05f-1285f2bf865d"
      },
      "source": [
        "%%R\n",
        "MeanCI(x = u, sd = devpad / sqrt(n), type = 'norm', conf.level = conf, sides = 'two.sided')\n"
      ],
      "execution_count": 20,
      "outputs": [
        {
          "output_type": "stream",
          "text": [
            "    mean   lwr.ci   upr.ci \n",
            "5050.000 4984.261 5115.739 \n"
          ],
          "name": "stdout"
        }
      ]
    },
    {
      "cell_type": "markdown",
      "metadata": {
        "id": "b_OOibSkxzK8"
      },
      "source": [
        "# Calculando N"
      ]
    },
    {
      "cell_type": "code",
      "metadata": {
        "colab": {
          "base_uri": "https://localhost:8080/"
        },
        "id": "p2y2wYozx1JP",
        "outputId": "46de02c2-5a45-4ac5-9045-28b46e504c61"
      },
      "source": [
        "%%R\n",
        "renda_5000 <- populacao[populacao$Renda <= 5000, ]\n",
        "u <- mean(renda_5000$Renda)\n",
        "s <- sd(renda_5000$Renda)\n",
        "print(u)\n",
        "print(s)"
      ],
      "execution_count": null,
      "outputs": [
        {
          "output_type": "stream",
          "text": [
            "[1] 1426.537\n",
            "[1] 1082.795\n"
          ],
          "name": "stdout"
        }
      ]
    },
    {
      "cell_type": "code",
      "metadata": {
        "colab": {
          "base_uri": "https://localhost:8080/"
        },
        "id": "K5PDw3t3ybnH",
        "outputId": "ed820358-6dc8-4957-fe48-78f6f5438061"
      },
      "source": [
        "%%R\n",
        "#z <- qnorm(.975)\n",
        "#e <- 10\n",
        "#n <- (z * (s / e)) ** 2\n",
        "#round(n)"
      ],
      "execution_count": null,
      "outputs": [
        {
          "output_type": "stream",
          "text": [
            "NULL\n"
          ],
          "name": "stdout"
        }
      ]
    },
    {
      "cell_type": "code",
      "metadata": {
        "colab": {
          "base_uri": "https://localhost:8080/"
        },
        "id": "phh_0zGly5Qg",
        "outputId": "4214616c-3d5a-46fb-cefa-7e7cc7a6ee54"
      },
      "source": [
        "%%R\n",
        "Z <- qnorm(.975)\n",
        "n <- 500\n",
        "e <- Z * (s / sqrt(n))\n",
        "e"
      ],
      "execution_count": null,
      "outputs": [
        {
          "output_type": "stream",
          "text": [
            "[1] 94.90938\n"
          ],
          "name": "stdout"
        }
      ]
    },
    {
      "cell_type": "code",
      "metadata": {
        "colab": {
          "base_uri": "https://localhost:8080/"
        },
        "id": "_ZYrtgVcyjBn",
        "outputId": "118b5cbb-ba75-4a9d-e86c-c98abd2fb2b0"
      },
      "source": [
        "%%R\n",
        "limite_inferior <- mean(renda_5000$Renda) - (Z * (sd(renda_5000$Renda) / sqrt(n)))\n",
        "limite_superior <- mean(renda_5000$Renda) + (Z * (sd(renda_5000$Renda) / sqrt(n)))\n",
        "print(limite_inferior)\n",
        "print(limite_superior)"
      ],
      "execution_count": null,
      "outputs": [
        {
          "output_type": "stream",
          "text": [
            "[1] 1331.628\n",
            "[1] 1521.447\n"
          ],
          "name": "stdout"
        }
      ]
    },
    {
      "cell_type": "code",
      "metadata": {
        "colab": {
          "base_uri": "https://localhost:8080/",
          "height": 496
        },
        "id": "ZmRjpekRynlf",
        "outputId": "0908a84e-09b5-4b70-c5be-43ed4754d99c"
      },
      "source": [
        "%%R\n",
        "\n",
        "medias <- c()\n",
        "\n",
        "for(i in 1:300){\n",
        "    medias <- c(medias, mean(sample_n(renda_5000, n)$Renda))\n",
        "}\n",
        "medias <- data.frame(medias)\n",
        "\n",
        "ggplot(data = medias, aes(x = c(1:300), y = medias)) + \n",
        "    geom_point(size = 1.5, stroke = 0) + \n",
        "    geom_hline(yintercept = u, color = 'green') + \n",
        "    geom_hline(yintercept = limite_inferior, color = 'red') + \n",
        "    geom_hline(yintercept = limite_superior, color = 'red')"
      ],
      "execution_count": null,
      "outputs": [
        {
          "output_type": "display_data",
          "data": {
            "image/png": "[encoded data removed]"
          },
          "metadata": {
            "tags": []
          }
        }
      ]
    }
  ]
}