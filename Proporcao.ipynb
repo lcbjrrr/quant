{
  "nbformat": 4,
  "nbformat_minor": 0,
  "metadata": {
    "colab": {
      "name": "Proporcao.ipynb",
      "provenance": [],
      "collapsed_sections": [],
      "authorship_tag": "ABX9TyMy/5Kt5pkJBVhQWoOgzSDQ",
      "include_colab_link": true
    },
    "kernelspec": {
      "name": "python3",
      "display_name": "Python 3"
    },
    "language_info": {
      "name": "python"
    }
  },
  "cells": [
    {
      "cell_type": "markdown",
      "metadata": {
        "id": "view-in-github",
        "colab_type": "text"
      },
      "source": [
        "<a href=\"https://colab.research.google.com/github/lcbjrrr/quant/blob/master/Proporcao.ipynb\" target=\"_parent\"><img src=\"https://colab.research.google.com/assets/colab-badge.svg\" alt=\"Open In Colab\"/></a>"
      ]
    },
    {
      "cell_type": "code",
      "metadata": {
        "colab": {
          "base_uri": "https://localhost:8080/",
          "height": 112
        },
        "id": "dPHaxRM2gBbE",
        "outputId": "c0d5aa27-f99d-442a-8f05-ee5ba11595da"
      },
      "source": [
        "import pandas as pd\n",
        "notas = pd.read_csv('https://raw.githubusercontent.com/lcbjrrr/quant/master/notas%20(2).csv')\n",
        "notas.head(2)"
      ],
      "execution_count": null,
      "outputs": [
        {
          "output_type": "execute_result",
          "data": {
            "text/html": [
              "<div>\n",
              "<style scoped>\n",
              "    .dataframe tbody tr th:only-of-type {\n",
              "        vertical-align: middle;\n",
              "    }\n",
              "\n",
              "    .dataframe tbody tr th {\n",
              "        vertical-align: top;\n",
              "    }\n",
              "\n",
              "    .dataframe thead th {\n",
              "        text-align: right;\n",
              "    }\n",
              "</style>\n",
              "<table border=\"1\" class=\"dataframe\">\n",
              "  <thead>\n",
              "    <tr style=\"text-align: right;\">\n",
              "      <th></th>\n",
              "      <th>Curso</th>\n",
              "      <th>Alunos</th>\n",
              "      <th>AP1</th>\n",
              "      <th>AP2</th>\n",
              "      <th>AP3</th>\n",
              "      <th>Nota</th>\n",
              "      <th>Conceito</th>\n",
              "    </tr>\n",
              "  </thead>\n",
              "  <tbody>\n",
              "    <tr>\n",
              "      <th>0</th>\n",
              "      <td>ADM</td>\n",
              "      <td>João</td>\n",
              "      <td>9.0</td>\n",
              "      <td>8.0</td>\n",
              "      <td>9.0</td>\n",
              "      <td>8.6</td>\n",
              "      <td>B</td>\n",
              "    </tr>\n",
              "    <tr>\n",
              "      <th>1</th>\n",
              "      <td>ADM</td>\n",
              "      <td>Maria</td>\n",
              "      <td>6.0</td>\n",
              "      <td>4.0</td>\n",
              "      <td>10.0</td>\n",
              "      <td>6.0</td>\n",
              "      <td>D</td>\n",
              "    </tr>\n",
              "  </tbody>\n",
              "</table>\n",
              "</div>"
            ],
            "text/plain": [
              "  Curso Alunos  AP1  AP2   AP3  Nota Conceito\n",
              "0   ADM   João  9.0  8.0   9.0   8.6        B\n",
              "1   ADM  Maria  6.0  4.0  10.0   6.0        D"
            ]
          },
          "metadata": {},
          "execution_count": 9
        }
      ]
    },
    {
      "cell_type": "code",
      "metadata": {
        "colab": {
          "base_uri": "https://localhost:8080/"
        },
        "id": "dg-wCuexgTCZ",
        "outputId": "9024fdfd-545a-4627-f8a8-8fae551f2da4"
      },
      "source": [
        "qtdalunos_por_curso = notas.groupby('Curso').count()['Alunos']\n",
        "qtdalunos_por_curso"
      ],
      "execution_count": null,
      "outputs": [
        {
          "output_type": "execute_result",
          "data": {
            "text/plain": [
              "Curso\n",
              "ADM    6\n",
              "DIR    4\n",
              "ECO    2\n",
              "Name: Alunos, dtype: int64"
            ]
          },
          "metadata": {},
          "execution_count": 10
        }
      ]
    },
    {
      "cell_type": "code",
      "metadata": {
        "colab": {
          "base_uri": "https://localhost:8080/",
          "height": 266
        },
        "id": "zloL_KD0gmR1",
        "outputId": "a10ae52a-f29e-4c91-b73b-214c14854b09"
      },
      "source": [
        "qtdalunos_por_curso.plot(kind='pie')"
      ],
      "execution_count": null,
      "outputs": [
        {
          "output_type": "execute_result",
          "data": {
            "text/plain": [
              "<matplotlib.axes._subplots.AxesSubplot at 0x7fe02605ff50>"
            ]
          },
          "metadata": {},
          "execution_count": 11
        },
        {
          "output_type": "display_data",
          "data": {
            "image/png": "[encoded data removed]",
            "text/plain": [
              "<Figure size 432x288 with 1 Axes>"
            ]
          },
          "metadata": {}
        }
      ]
    },
    {
      "cell_type": "code",
      "metadata": {
        "id": "4MFfiQF5EVnC"
      },
      "source": [
        "%load_ext rpy2.ipython"
      ],
      "execution_count": null,
      "outputs": []
    },
    {
      "cell_type": "code",
      "metadata": {
        "colab": {
          "base_uri": "https://localhost:8080/"
        },
        "id": "h7Xn6V_ogA7K",
        "outputId": "f52c320b-4cc3-457d-c3e0-8f0083a365d1"
      },
      "source": [
        "%%R \n",
        "notas<-read.csv(\"https://quant-ibmec.group/notas.csv\")\n",
        "notas"
      ],
      "execution_count": null,
      "outputs": [
        {
          "output_type": "stream",
          "name": "stdout",
          "text": [
            "   Curso  Alunos  AP1  AP2  AP3 Nota Conceito\n",
            "1    ADM    João  9.0  8.0  9.0  8.6        B\n",
            "2    ADM   Maria  6.0  4.0 10.0  6.0        D\n",
            "3    DIR    José  4.0  3.0  4.0  3.6        F\n",
            "4    ADM   Pedro  8.0 10.0  7.0  8.6        B\n",
            "5    ECO   Paulo  7.5  8.0  9.5  8.1        B\n",
            "6    DIR  Esther  6.0  4.5  6.0  5.4        D\n",
            "7    ADM Gabriel  8.0  6.0  8.0  7.2        B\n",
            "8    DIR  Rafael  7.5 10.0  9.5  8.9        B\n",
            "9    ECO    Davi  6.0 10.0  7.0  7.8        B\n",
            "10   DIR  Silvio 10.0  9.5  9.5  9.7        A\n",
            "11   ADM   Sofia  8.0  7.0  6.0  7.2        B\n",
            "12   ADM  Raquel  4.5  4.0  4.0  4.2        F\n"
          ]
        }
      ]
    },
    {
      "cell_type": "code",
      "metadata": {
        "colab": {
          "base_uri": "https://localhost:8080/"
        },
        "id": "CAX4DwmXgxry",
        "outputId": "f32cd7d4-a5b8-46b2-a8bb-5372f291d8fa"
      },
      "source": [
        "%%R\n",
        "qtdalunos_por_curso <- tapply(notas$Alunos,notas$Curso,NROW)  \n",
        "qtdalunos_por_curso"
      ],
      "execution_count": null,
      "outputs": [
        {
          "output_type": "stream",
          "name": "stdout",
          "text": [
            "     ADM DIR ECO\n",
            "[1,]   6   4   2\n"
          ]
        }
      ]
    },
    {
      "cell_type": "code",
      "metadata": {
        "colab": {
          "base_uri": "https://localhost:8080/",
          "height": 497
        },
        "id": "MvGZnar5gzv-",
        "outputId": "dd0f28db-cc63-4308-b94f-9ca9659ef1d7"
      },
      "source": [
        "%%R\n",
        "pie(qtdalunos_por_curso)"
      ],
      "execution_count": null,
      "outputs": [
        {
          "output_type": "display_data",
          "data": {
            "image/png": "[encoded data removed]"
          },
          "metadata": {}
        }
      ]
    },
    {
      "cell_type": "code",
      "metadata": {
        "id": "yvGTply6Ee0t"
      },
      "source": [
        "%%R\n",
        "install.packages(\"dplyr\")\n",
        "install.packages(\"ggplot2\")\n",
        "install.packages(\"readr\")\n",
        "library(readr)\n",
        "library(dplyr)\n",
        "library(ggplot2) "
      ],
      "execution_count": null,
      "outputs": []
    },
    {
      "cell_type": "code",
      "metadata": {
        "colab": {
          "base_uri": "https://localhost:8080/"
        },
        "id": "kXtneTl2hasR",
        "outputId": "68659727-5d7e-42c5-8308-4a0fa17d85af"
      },
      "source": [
        "%%R \n",
        "notas<-read_csv(\"https://quant-ibmec.group/notas.csv\")\n",
        "notas"
      ],
      "execution_count": null,
      "outputs": [
        {
          "output_type": "stream",
          "name": "stdout",
          "text": [
            "Rows: 12 Columns: 7\n",
            "── Column specification ────────────────────────────────────────────────────────\n",
            "Delimiter: \",\"\n",
            "chr (3): Curso, Alunos, Conceito\n",
            "dbl (4): AP1, AP2, AP3, Nota\n",
            "\n",
            "ℹ Use `spec()` to retrieve the full column specification for this data.\n",
            "ℹ Specify the column types or set `show_col_types = FALSE` to quiet this message.\n",
            "# A tibble: 12 × 7\n",
            "   Curso Alunos    AP1   AP2   AP3  Nota Conceito\n",
            "   <chr> <chr>   <dbl> <dbl> <dbl> <dbl> <chr>   \n",
            " 1 ADM   João      9     8     9     8.6 B       \n",
            " 2 ADM   Maria     6     4    10     6   D       \n",
            " 3 DIR   José      4     3     4     3.6 F       \n",
            " 4 ADM   Pedro     8    10     7     8.6 B       \n",
            " 5 ECO   Paulo     7.5   8     9.5   8.1 B       \n",
            " 6 DIR   Esther    6     4.5   6     5.4 D       \n",
            " 7 ADM   Gabriel   8     6     8     7.2 B       \n",
            " 8 DIR   Rafael    7.5  10     9.5   8.9 B       \n",
            " 9 ECO   Davi      6    10     7     7.8 B       \n",
            "10 DIR   Silvio   10     9.5   9.5   9.7 A       \n",
            "11 ADM   Sofia     8     7     6     7.2 B       \n",
            "12 ADM   Raquel    4.5   4     4     4.2 F       \n"
          ]
        }
      ]
    },
    {
      "cell_type": "code",
      "metadata": {
        "colab": {
          "base_uri": "https://localhost:8080/"
        },
        "id": "fdlNTxXjha2R",
        "outputId": "0fe284a8-9e4c-4cde-b602-a619a2f93270"
      },
      "source": [
        "%%R\n",
        "alunos_por_curso <- notas %>% group_by(Curso) %>% summarize(qtd = NROW(Curso))\n",
        "alunos_por_curso"
      ],
      "execution_count": null,
      "outputs": [
        {
          "output_type": "stream",
          "name": "stdout",
          "text": [
            "# A tibble: 3 × 2\n",
            "  Curso   qtd\n",
            "  <chr> <int>\n",
            "1 ADM       6\n",
            "2 DIR       4\n",
            "3 ECO       2\n"
          ]
        }
      ]
    },
    {
      "cell_type": "code",
      "metadata": {
        "colab": {
          "base_uri": "https://localhost:8080/",
          "height": 497
        },
        "id": "-Jx6xDQ2M__8",
        "outputId": "17b689f9-4463-4944-fa8d-1c9eead4ca58"
      },
      "source": [
        "%%R\n",
        "ggplot(data=alunos_por_curso,aes(x=\"\",y=qtd,fill=Curso)) + \n",
        "  geom_bar(stat='identity') +\n",
        "  coord_polar(\"y\") +\n",
        "  geom_text(aes(label = qtd/sum(qtd)*100),position=position_stack(vjust = 0.5) )"
      ],
      "execution_count": null,
      "outputs": [
        {
          "output_type": "display_data",
          "data": {
            "image/png": "[encoded data removed]"
          },
          "metadata": {}
        }
      ]
    }
  ]
}