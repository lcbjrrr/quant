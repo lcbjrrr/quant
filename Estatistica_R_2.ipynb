{
  "nbformat": 4,
  "nbformat_minor": 0,
  "metadata": {
    "colab": {
      "name": "Estatistica R - 2.ipynb",
      "provenance": [],
      "authorship_tag": "ABX9TyOfK9AGAiNdqEBdtAkieLEp",
      "include_colab_link": true
    },
    "kernelspec": {
      "name": "python3",
      "display_name": "Python 3"
    }
  },
  "cells": [
    {
      "cell_type": "markdown",
      "metadata": {
        "id": "view-in-github",
        "colab_type": "text"
      },
      "source": [
        "<a href=\"https://colab.research.google.com/github/lcbjrrr/quant/blob/master/Estatistica_R_2.ipynb\" target=\"_parent\"><img src=\"https://colab.research.google.com/assets/colab-badge.svg\" alt=\"Open In Colab\"/></a>"
      ]
    },
    {
      "cell_type": "code",
      "metadata": {
        "colab": {
          "base_uri": "https://localhost:8080/"
        },
        "id": "_GCzz2Q9fFKb",
        "outputId": "9f589a62-a6d8-48f3-8e1b-428b4e5db221"
      },
      "source": [
        "%load_ext rpy2.ipython\n"
      ],
      "execution_count": null,
      "outputs": [
        {
          "output_type": "stream",
          "text": [
            "The rpy2.ipython extension is already loaded. To reload it, use:\n",
            "  %reload_ext rpy2.ipython\n"
          ],
          "name": "stdout"
        }
      ]
    },
    {
      "cell_type": "code",
      "metadata": {
        "colab": {
          "base_uri": "https://localhost:8080/"
        },
        "id": "73ZE-4WkfLrS",
        "outputId": "970aed31-d6fb-4430-f736-c1601d652106"
      },
      "source": [
        "%%R\n",
        "notas <- read.csv('http://quant-ibmec.group/notas_turma%20-%20final.csv')\n",
        "notas"
      ],
      "execution_count": null,
      "outputs": [
        {
          "output_type": "stream",
          "text": [
            "   Curso  Alunos  AP1  AP2  AP3 Nota Conceito\n",
            "1    ADM    João  9.0  8.0  9.0  8.6        B\n",
            "2    ADM   Maria  6.0  4.0 10.0  6.0        D\n",
            "3    DIR    José  4.0  3.0  4.0  3.6        F\n",
            "4    ADM   Pedro  8.0 10.0  7.0  8.6        B\n",
            "5    ECO   Paulo  7.5  8.0  9.5  8.1        B\n",
            "6    DIR  Esther  6.0  4.5  6.0  5.4        D\n",
            "7    ADM Gabriel  8.0  6.0  8.0  7.2        B\n",
            "8    DIR  Rafael  7.5 10.0  9.5  8.9        B\n",
            "9    ECO    Davi  6.0 10.0  7.0  7.8        B\n",
            "10   DIR  Silvio 10.0  9.5  9.5  9.7        A\n",
            "11   ADM   Sofia  8.0  7.0  6.0  7.2        B\n",
            "12   ADM  Raquel  4.5  4.0  4.0  4.2        F\n"
          ],
          "name": "stdout"
        }
      ]
    },
    {
      "cell_type": "code",
      "metadata": {
        "colab": {
          "base_uri": "https://localhost:8080/"
        },
        "id": "ZKj3l29NflJr",
        "outputId": "83a0994d-958f-427b-e8ed-692e378af5d6"
      },
      "source": [
        "%%R\n",
        "freq <- table(notas$Conceito)\n",
        "freq"
      ],
      "execution_count": null,
      "outputs": [
        {
          "output_type": "stream",
          "text": [
            "\n",
            "A B D F \n",
            "1 7 2 2 \n"
          ],
          "name": "stdout"
        }
      ]
    },
    {
      "cell_type": "code",
      "metadata": {
        "colab": {
          "base_uri": "https://localhost:8080/",
          "height": 496
        },
        "id": "FufYQjZwfyVR",
        "outputId": "36309401-9f29-4c2f-b7e6-d7aef190c89e"
      },
      "source": [
        "%%R\n",
        "barplot(freq)"
      ],
      "execution_count": null,
      "outputs": [
        {
          "output_type": "display_data",
          "data": {
            "image/png": "[encoded data removed]"
          },
          "metadata": {
            "tags": []
          }
        }
      ]
    },
    {
      "cell_type": "code",
      "metadata": {
        "colab": {
          "base_uri": "https://localhost:8080/",
          "height": 496
        },
        "id": "8IGAGUoAf2y4",
        "outputId": "caee7a77-f94d-4908-80ab-f28a3dbb772d"
      },
      "source": [
        "%%R\n",
        "hist(notas$Nota , breaks=c(0,5,7,9,10), labels=c('F','D','B','A'),freq=T)"
      ],
      "execution_count": null,
      "outputs": [
        {
          "output_type": "display_data",
          "data": {
            "image/png": "[encoded data removed]"
          },
          "metadata": {
            "tags": []
          }
        }
      ]
    },
    {
      "cell_type": "code",
      "metadata": {
        "colab": {
          "base_uri": "https://localhost:8080/"
        },
        "id": "DfmEPbRair8R",
        "outputId": "db6e35e0-0b6d-4a14-853d-19024f32c30c"
      },
      "source": [
        "%%R\n",
        "freq<-table(cut(notas$Nota , breaks=c(0,5,7,9,10), labels=c('F','D','B','A')))\n",
        "freq"
      ],
      "execution_count": null,
      "outputs": [
        {
          "output_type": "stream",
          "text": [
            "\n",
            "F D B A \n",
            "2 2 7 1 \n"
          ],
          "name": "stdout"
        }
      ]
    },
    {
      "cell_type": "code",
      "metadata": {
        "colab": {
          "base_uri": "https://localhost:8080/",
          "height": 496
        },
        "id": "gXUxKlxFgYBj",
        "outputId": "66b6abe0-a5eb-46bb-d431-a664be442a77"
      },
      "source": [
        "%%R\n",
        "boxplot(notas$Nota)"
      ],
      "execution_count": null,
      "outputs": [
        {
          "output_type": "display_data",
          "data": {
            "image/png": "[encoded data removed]"
          },
          "metadata": {
            "tags": []
          }
        }
      ]
    },
    {
      "cell_type": "code",
      "metadata": {
        "colab": {
          "base_uri": "https://localhost:8080/"
        },
        "id": "0oue0iKvmyVe",
        "outputId": "ee6d95ad-cbcc-4a2e-d5dc-3476e9d8fd06"
      },
      "source": [
        "%%R\n",
        "summary(notas$Nota )"
      ],
      "execution_count": null,
      "outputs": [
        {
          "output_type": "stream",
          "text": [
            "   Min. 1st Qu.  Median    Mean 3rd Qu.    Max. \n",
            "  3.600   5.850   7.500   7.108   8.600   9.700 \n"
          ],
          "name": "stdout"
        }
      ]
    },
    {
      "cell_type": "code",
      "metadata": {
        "colab": {
          "base_uri": "https://localhost:8080/"
        },
        "id": "12iI-sQwlIv0",
        "outputId": "55a24eba-228e-46bd-b9f3-6165b3b711b4"
      },
      "source": [
        "%%R\n",
        "print(mean(notas$Nota))\n",
        "print(median(notas$Nota))"
      ],
      "execution_count": null,
      "outputs": [
        {
          "output_type": "stream",
          "text": [
            "[1] 7.108333\n",
            "[1] 7.5\n"
          ],
          "name": "stdout"
        }
      ]
    },
    {
      "cell_type": "code",
      "metadata": {
        "colab": {
          "base_uri": "https://localhost:8080/"
        },
        "id": "OvQJFg4frd6N",
        "outputId": "a6e7dddd-dbb5-47b5-98ce-cb377e34f3da"
      },
      "source": [
        "%%R\n",
        "print(sd(notas$Nota))\n",
        "print(var(notas$Nota))"
      ],
      "execution_count": null,
      "outputs": [
        {
          "output_type": "stream",
          "text": [
            "[1] 1.925172\n",
            "[1] 3.706288\n"
          ],
          "name": "stdout"
        }
      ]
    },
    {
      "cell_type": "code",
      "metadata": {
        "colab": {
          "base_uri": "https://localhost:8080/"
        },
        "id": "vECr26Ksp_hO",
        "outputId": "e7be3bc9-3dbf-4646-8504-066936408edc"
      },
      "source": [
        "%%R\n",
        "quantile(notas$Nota) "
      ],
      "execution_count": null,
      "outputs": [
        {
          "output_type": "stream",
          "text": [
            "  0%  25%  50%  75% 100% \n",
            "3.60 5.85 7.50 8.60 9.70 \n"
          ],
          "name": "stdout"
        }
      ]
    }
  ]
}