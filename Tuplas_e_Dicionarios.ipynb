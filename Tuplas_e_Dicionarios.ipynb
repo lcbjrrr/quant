{
  "nbformat": 4,
  "nbformat_minor": 0,
  "metadata": {
    "colab": {
      "name": "Tuplas e Dicionarios.ipynb",
      "provenance": [],
      "authorship_tag": "ABX9TyPHEB+o6aQC23jFjvUvkOJj",
      "include_colab_link": true
    },
    "kernelspec": {
      "name": "python3",
      "display_name": "Python 3"
    }
  },
  "cells": [
    {
      "cell_type": "markdown",
      "metadata": {
        "id": "view-in-github",
        "colab_type": "text"
      },
      "source": [
        "<a href=\"https://colab.research.google.com/github/lcbjrrr/quant/blob/master/Tuplas_e_Dicionarios.ipynb\" target=\"_parent\"><img src=\"https://colab.research.google.com/assets/colab-badge.svg\" alt=\"Open In Colab\"/></a>"
      ]
    },
    {
      "cell_type": "markdown",
      "metadata": {
        "id": "mMOjYeaSTCLQ",
        "colab_type": "text"
      },
      "source": [
        "#Listas: Slicing\n"
      ]
    },
    {
      "cell_type": "code",
      "metadata": {
        "id": "M9XPFGgTTCxf",
        "colab_type": "code",
        "colab": {
          "base_uri": "https://localhost:8080/",
          "height": 87
        },
        "outputId": "c3a0ba01-2028-4f65-fe09-bff3038c212f"
      },
      "source": [
        "lista = [1, 2, 3, 4, 5]\n",
        "print (lista[1:1]) \n",
        "print (lista[1:3])\n",
        "print (lista[1:-1]) \n",
        "print (lista[:2])"
      ],
      "execution_count": 1,
      "outputs": [
        {
          "output_type": "stream",
          "text": [
            "[]\n",
            "[2, 3]\n",
            "[2, 3, 4]\n",
            "[1, 2]\n"
          ],
          "name": "stdout"
        }
      ]
    },
    {
      "cell_type": "markdown",
      "metadata": {
        "id": "q9yxskOpTJIM",
        "colab_type": "text"
      },
      "source": [
        "#Tuplas"
      ]
    },
    {
      "cell_type": "markdown",
      "metadata": {
        "id": "D_JtBEOBTKxR",
        "colab_type": "text"
      },
      "source": [
        "Tuplas são sequências de valores, semelhante listas; \n",
        "Os valores de uma tupla, ao contrário de uma lista, são imutáveis;\n",
        "\n",
        "Tuplas usam parênteses enquanto listas usam colchetes:\n",
        "\n",
        "**lista = [2, 4, 6, 8, 10] **\n",
        " \n",
        "***tupla = (2, 4, 6, 8, 10)*** \n",
        "\n",
        "Acesso é feito pela posição, da mesma forma que nas listas \n",
        "\n",
        "**tupla = (2, 4, 6, 8, 10)**\n",
        "\n",
        "**print(*tupla[3]*)**\n"
      ]
    },
    {
      "cell_type": "code",
      "metadata": {
        "id": "Bw6fkig5TLwx",
        "colab_type": "code",
        "colab": {
          "base_uri": "https://localhost:8080/",
          "height": 34
        },
        "outputId": "f24f9482-942c-4238-9f19-8948e8d1f00a"
      },
      "source": [
        "tupla = (2, 4, 6, 8, 10)\n",
        "print(tupla[3])"
      ],
      "execution_count": 2,
      "outputs": [
        {
          "output_type": "stream",
          "text": [
            "8\n"
          ],
          "name": "stdout"
        }
      ]
    },
    {
      "cell_type": "markdown",
      "metadata": {
        "id": "kzEjHMFATkzc",
        "colab_type": "text"
      },
      "source": [
        "**Tuplas: Operadores Básicos**  \n",
        "\n",
        "![ ](https://pbs.twimg.com/media/EgywiTWWoAADOQQ?format=jpg&name=medium)\n"
      ]
    },
    {
      "cell_type": "markdown",
      "metadata": {
        "id": "SpVDSRhQT46e",
        "colab_type": "text"
      },
      "source": [
        "#Dicionarios"
      ]
    },
    {
      "cell_type": "markdown",
      "metadata": {
        "id": "xhzO_oLlUS4z",
        "colab_type": "text"
      },
      "source": [
        "##Laços/Loops e Listas/Vetores\n"
      ]
    },
    {
      "cell_type": "code",
      "metadata": {
        "id": "sF0ID9dcUOCp",
        "colab_type": "code",
        "colab": {
          "base_uri": "https://localhost:8080/",
          "height": 34
        },
        "outputId": "41ab38dc-ceef-4416-8844-7ff41cd596eb"
      },
      "source": [
        "def media_turma():\n",
        "  alunos = [5,5,6,6,7,7,8,8,9,9]\n",
        "  soma = 0\n",
        "  for i in range(0,10,1):\n",
        "    soma = soma + alunos[i]\n",
        "  return soma/10\n",
        "\n",
        "med = media_turma()\n",
        "med\n"
      ],
      "execution_count": 3,
      "outputs": [
        {
          "output_type": "execute_result",
          "data": {
            "text/plain": [
              "7.0"
            ]
          },
          "metadata": {
            "tags": []
          },
          "execution_count": 3
        }
      ]
    },
    {
      "cell_type": "markdown",
      "metadata": {
        "id": "uTqUpWq_UW6Q",
        "colab_type": "text"
      },
      "source": [
        "##Dicionarios"
      ]
    },
    {
      "cell_type": "markdown",
      "metadata": {
        "id": "cOvFBrn5Uc5-",
        "colab_type": "text"
      },
      "source": [
        "Dicionários assim como as listas e tuplas são para armazenar dados porém um dicionário não é uma sequência de valores ordenados, desse modo não podemos acessar esses dados por um índice como fazemos em listas e tuplas.\n",
        "\n",
        "```\n",
        "turma_dic = {\"luiz\":5.0,\n",
        "        \"anderson\":10.0}ódigo\n",
        "```\n",
        "\n",
        "Para acessar os dados de um dicionário fazemos por meio de chaves (nomes que iremos associar aos dados)\n",
        "\n",
        "\n",
        "```\n",
        "print(turma_dic['luiz'])\n",
        "print(turma_dic['anderson'])\n",
        "```\n",
        "\n"
      ]
    },
    {
      "cell_type": "code",
      "metadata": {
        "id": "mPRj4f2iUqZy",
        "colab_type": "code",
        "colab": {
          "base_uri": "https://localhost:8080/",
          "height": 52
        },
        "outputId": "494b05b4-e70c-49a9-a8b6-70127bf28393"
      },
      "source": [
        "turma_dic = {\"luiz\":5.0,\n",
        "        \"anderson\":10.0} \n",
        "print(turma_dic['luiz'])\n",
        "print(turma_dic['anderson'])"
      ],
      "execution_count": 5,
      "outputs": [
        {
          "output_type": "stream",
          "text": [
            "5.0\n",
            "10.0\n"
          ],
          "name": "stdout"
        }
      ]
    },
    {
      "cell_type": "markdown",
      "metadata": {
        "id": "T2oUSn-_U3V2",
        "colab_type": "text"
      },
      "source": [
        "**Remover Elementos**\n",
        "\n",
        " Para saber o tamanho usamos ainda ***len***() e para demover ***del***()  \n"
      ]
    },
    {
      "cell_type": "code",
      "metadata": {
        "id": "AgWPz0i3VLdJ",
        "colab_type": "code",
        "colab": {
          "base_uri": "https://localhost:8080/",
          "height": 70
        },
        "outputId": "7bf9f7f4-0f7b-4ea3-9224-3893229d17b4"
      },
      "source": [
        "print('Tamanho: ',len(turma_dic))\n",
        "\n",
        "del turma_dic['luiz']\n",
        "print('Tamanho: ',len(turma_dic))\n",
        "print(turma_dic)"
      ],
      "execution_count": 6,
      "outputs": [
        {
          "output_type": "stream",
          "text": [
            "Tamanho:  2\n",
            "Tamanho:  1\n",
            "{'anderson': 10.0}\n"
          ],
          "name": "stdout"
        }
      ]
    },
    {
      "cell_type": "markdown",
      "metadata": {
        "id": "-gT1GBaiVMxz",
        "colab_type": "text"
      },
      "source": [
        "Voltando ao exemplo anterior..."
      ]
    },
    {
      "cell_type": "code",
      "metadata": {
        "id": "S944M9isVNLI",
        "colab_type": "code",
        "colab": {
          "base_uri": "https://localhost:8080/",
          "height": 34
        },
        "outputId": "a7addd2a-95d2-4e9b-cbbd-88c9fb3bdfca"
      },
      "source": [
        "def media_dicionario_turma(dic_turma):\n",
        "    soma=0\n",
        "    for nome_aluno in dic_turma:\n",
        "        nota_aluno = dic_turma[nome_aluno]\n",
        "        soma = soma + nota_aluno\n",
        "    return soma/ len(dic_turma)\n",
        "    \n",
        "turma_dic = {\"luiz\":5.0,\n",
        "        \"anderson\":10.0}\n",
        "\n",
        "mdt = media_dicionario_turma(turma_dic)\n",
        "print(mdt)"
      ],
      "execution_count": 7,
      "outputs": [
        {
          "output_type": "stream",
          "text": [
            "7.5\n"
          ],
          "name": "stdout"
        }
      ]
    },
    {
      "cell_type": "markdown",
      "metadata": {
        "id": "ouIziRtxVeCm",
        "colab_type": "text"
      },
      "source": [
        "Notas Finais"
      ]
    },
    {
      "cell_type": "code",
      "metadata": {
        "id": "vM-UDuP8VfZ7",
        "colab_type": "code",
        "colab": {
          "base_uri": "https://localhost:8080/",
          "height": 70
        },
        "outputId": "562da573-3d06-4c30-b37b-674233bd84ef"
      },
      "source": [
        "def calc_media(notas):\n",
        "    soma = 0\n",
        "    for i in range(0,len(notas),1):\n",
        "        soma = soma + notas[i]\n",
        "    return soma / len(notas)\n",
        "    \n",
        "def notas_final(turma):\n",
        "    soma = 0\n",
        "    for nome_aluno in turma:\n",
        "        notas_aluno = turma[nome_aluno]\n",
        "        media_aluno = calc_media(notas_aluno)\n",
        "        soma = soma + media_aluno\n",
        "        print(nome_aluno +\" \"  +str(media_aluno)) \n",
        "    return soma / len(turma)\n",
        "\n",
        "turma_final = {\"luiz\":[5,6,7],\n",
        "             \"anderson\":[7,8,9]}\n",
        "mdt = notas_final(turma_final) \n",
        "print('Media turma',mdt) "
      ],
      "execution_count": 9,
      "outputs": [
        {
          "output_type": "stream",
          "text": [
            "luiz 6.0\n",
            "anderson 8.0\n",
            "Media turma 7.0\n"
          ],
          "name": "stdout"
        }
      ]
    },
    {
      "cell_type": "markdown",
      "metadata": {
        "id": "8Wln-xAYVihN",
        "colab_type": "text"
      },
      "source": [
        "**Outras Operacoes**\n",
        "\n",
        "Verificando se existe uma chave específica, in.\n",
        "\n",
        "***print(‘luiz’ in turma_dic)***\n",
        "\n",
        "get(), busca a informação, caso não encontre exibe uma mensagem\n",
        "\n",
        "***print(turma_dic.get(\"liuz\",\"informação não encontrada\"))***\n",
        "\n",
        "Inserindo novos itens na lista\n",
        "\n",
        "***turma_dic[\"luiz\"].append(9.5)***\n",
        "\n",
        "Limpando um dicionário\n",
        "\n",
        "***turma_dic.clear()***  \n",
        "\n"
      ]
    }
  ]
}