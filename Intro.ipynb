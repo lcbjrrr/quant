{
  "nbformat": 4,
  "nbformat_minor": 0,
  "metadata": {
    "colab": {
      "name": "Intro.ipynb",
      "provenance": [],
      "authorship_tag": "ABX9TyPbxo3psNgtDmpep/DYzZHe",
      "include_colab_link": true
    },
    "kernelspec": {
      "display_name": "Python 3",
      "name": "python3"
    },
    "language_info": {
      "name": "python"
    }
  },
  "cells": [
    {
      "cell_type": "markdown",
      "metadata": {
        "id": "view-in-github",
        "colab_type": "text"
      },
      "source": [
        "<a href=\"https://colab.research.google.com/github/lcbjrrr/quant/blob/master/Intro.ipynb\" target=\"_parent\"><img src=\"https://colab.research.google.com/assets/colab-badge.svg\" alt=\"Open In Colab\"/></a>"
      ]
    },
    {
      "cell_type": "code",
      "metadata": {
        "id": "YFsYIIriHzqS"
      },
      "source": [
        "%load_ext rpy2.ipython"
      ],
      "execution_count": null,
      "outputs": []
    },
    {
      "cell_type": "code",
      "metadata": {
        "colab": {
          "base_uri": "https://localhost:8080/"
        },
        "id": "A2KsM1H_H_hT",
        "outputId": "46e4de57-f743-4a8b-b253-7cfedd85cc78"
      },
      "source": [
        "%%R\n",
        "print('OLA MUNDO')"
      ],
      "execution_count": null,
      "outputs": [
        {
          "name": "stdout",
          "output_type": "stream",
          "text": [
            "[1] \"OLA MUNDO\"\n"
          ]
        }
      ]
    },
    {
      "cell_type": "code",
      "metadata": {
        "colab": {
          "base_uri": "https://localhost:8080/"
        },
        "id": "7ZvTpk3IIiAc",
        "outputId": "c597439c-0907-4e45-fddc-0441c8f5d336"
      },
      "source": [
        "x=1\n",
        "if (x==1):\n",
        "  print('sim x eh 1')"
      ],
      "execution_count": null,
      "outputs": [
        {
          "name": "stdout",
          "output_type": "stream",
          "text": [
            "sim x eh 1\n"
          ]
        }
      ]
    },
    {
      "cell_type": "code",
      "metadata": {
        "colab": {
          "base_uri": "https://localhost:8080/"
        },
        "id": "T7I5Hth5IxLx",
        "outputId": "c38b41e4-4df9-4fe0-869d-669a8de79593"
      },
      "source": [
        "%%R\n",
        "x <- 0\n",
        "x = 2\n",
        "if (x == 1){\n",
        "    print('sim x eh 1')\n",
        "}else{\n",
        "    print('sim x NAO eh 1')\n",
        "}"
      ],
      "execution_count": null,
      "outputs": [
        {
          "name": "stdout",
          "output_type": "stream",
          "text": [
            "[1] \"sim x NAO eh 1\"\n"
          ]
        }
      ]
    },
    {
      "cell_type": "code",
      "metadata": {
        "colab": {
          "base_uri": "https://localhost:8080/"
        },
        "id": "N62S50NLJ9S4",
        "outputId": "3ea12fa2-c07a-473e-a2f7-78a05e5402c2"
      },
      "source": [
        "def somar(x,y):\n",
        "  s = x+y\n",
        "  return s\n",
        "\n",
        "r=somar(1,2)\n",
        "print(r)"
      ],
      "execution_count": null,
      "outputs": [
        {
          "name": "stdout",
          "output_type": "stream",
          "text": [
            "3\n"
          ]
        }
      ]
    },
    {
      "cell_type": "code",
      "metadata": {
        "colab": {
          "base_uri": "https://localhost:8080/"
        },
        "id": "378OdH4vJ7oN",
        "outputId": "542d23ed-1b90-41c2-fe89-3fdad054cd6f"
      },
      "source": [
        " \n",
        "somar <- function(x,y){\n",
        "    s<-x+y\n",
        "    return(s)\n",
        "}\n",
        "\n",
        "r<-somar(1,2)\n",
        "print(r)"
      ],
      "execution_count": null,
      "outputs": [
        {
          "name": "stdout",
          "output_type": "stream",
          "text": [
            "[1] 3\n"
          ]
        }
      ]
    },
    {
      "cell_type": "code",
      "metadata": {
        "colab": {
          "base_uri": "https://localhost:8080/"
        },
        "id": "xLm31hPQKsKv",
        "outputId": "a52146ab-da7b-4b6c-b88b-574715c96cb3"
      },
      "source": [
        "%%R \n",
        "aprovacao <-function(nota, freq){\n",
        "    if (nota>=7 & freq>=0.75){\n",
        "        aprov <- \"APROVADO\"\n",
        "    }else{\n",
        "        aprov <- \"REPROVADO\"\n",
        "    }\n",
        "    return(aprov)\n",
        "}\n",
        "ze<-aprovacao(9,0.8)\n",
        "print(ze)"
      ],
      "execution_count": null,
      "outputs": [
        {
          "name": "stdout",
          "output_type": "stream",
          "text": [
            "[1] \"APROVADO\"\n"
          ]
        }
      ]
    },
    {
      "cell_type": "code",
      "metadata": {
        "colab": {
          "base_uri": "https://localhost:8080/"
        },
        "id": "sknBSm_WK5D2",
        "outputId": "c919acf7-9dd5-4ae9-c46a-bccda3a3f816"
      },
      "source": [
        "%%R\n",
        "media_turma <- function(){\n",
        "    notas <- c(5,5,6,6,7,7,8,8,9,9)\n",
        "    s<-0\n",
        "    for (n in notas ){\n",
        "      s<-s+n    \n",
        "    }\n",
        "    media<- s /10\n",
        "    return(media)\n",
        "}\n",
        "\n",
        "m <- media_turma()\n",
        "print(m)\n"
      ],
      "execution_count": null,
      "outputs": [
        {
          "name": "stdout",
          "output_type": "stream",
          "text": [
            "[1] 7\n"
          ]
        }
      ]
    },
    {
      "cell_type": "code",
      "metadata": {
        "colab": {
          "base_uri": "https://localhost:8080/"
        },
        "id": "sdm-jBVCPyJj",
        "outputId": "114d3ce3-6dba-4b0f-92b1-5d3140efe758"
      },
      "source": [
        "%%R\n",
        "media_turma <- function(){\n",
        "    notas <- c(5,5,6,6,7,7,8,8,9,9)\n",
        "    s<-0\n",
        "    for (i in 1:10 ){\n",
        "      s <- s + notas[i]    \n",
        "    }\n",
        "    media<- s /10\n",
        "    return(media)\n",
        "}\n",
        "\n",
        "m <- media_turma()\n",
        "print(m)\n"
      ],
      "execution_count": null,
      "outputs": [
        {
          "name": "stdout",
          "output_type": "stream",
          "text": [
            "[1] 7\n"
          ]
        }
      ]
    },
    {
      "cell_type": "code",
      "metadata": {
        "colab": {
          "base_uri": "https://localhost:8080/",
          "height": 112
        },
        "id": "fNnqzxakN8Ml",
        "outputId": "439f5ed5-36a1-4815-9999-b4c402e0ad5a"
      },
      "source": [
        "import pandas as pd\n",
        "df=pd.read_csv('https://raw.githubusercontent.com/lcbjuk/IBMEC/master/notas_turma%20-%20final.csv')\n",
        "df.head(2)"
      ],
      "execution_count": null,
      "outputs": [
        {
          "data": {
            "text/html": [
              "<div>\n",
              "<style scoped>\n",
              "    .dataframe tbody tr th:only-of-type {\n",
              "        vertical-align: middle;\n",
              "    }\n",
              "\n",
              "    .dataframe tbody tr th {\n",
              "        vertical-align: top;\n",
              "    }\n",
              "\n",
              "    .dataframe thead th {\n",
              "        text-align: right;\n",
              "    }\n",
              "</style>\n",
              "<table border=\"1\" class=\"dataframe\">\n",
              "  <thead>\n",
              "    <tr style=\"text-align: right;\">\n",
              "      <th></th>\n",
              "      <th>Curso</th>\n",
              "      <th>Alunos</th>\n",
              "      <th>AP1</th>\n",
              "      <th>AP2</th>\n",
              "      <th>AP3</th>\n",
              "      <th>Nota</th>\n",
              "      <th>Conceito</th>\n",
              "    </tr>\n",
              "  </thead>\n",
              "  <tbody>\n",
              "    <tr>\n",
              "      <th>0</th>\n",
              "      <td>ADM</td>\n",
              "      <td>João</td>\n",
              "      <td>9.0</td>\n",
              "      <td>8.0</td>\n",
              "      <td>9.0</td>\n",
              "      <td>8.6</td>\n",
              "      <td>B</td>\n",
              "    </tr>\n",
              "    <tr>\n",
              "      <th>1</th>\n",
              "      <td>ADM</td>\n",
              "      <td>Maria</td>\n",
              "      <td>6.0</td>\n",
              "      <td>4.0</td>\n",
              "      <td>10.0</td>\n",
              "      <td>6.0</td>\n",
              "      <td>D</td>\n",
              "    </tr>\n",
              "  </tbody>\n",
              "</table>\n",
              "</div>"
            ],
            "text/plain": [
              "  Curso Alunos  AP1  AP2   AP3  Nota Conceito\n",
              "0   ADM   João  9.0  8.0   9.0   8.6        B\n",
              "1   ADM  Maria  6.0  4.0  10.0   6.0        D"
            ]
          },
          "execution_count": 27,
          "metadata": {
            "tags": []
          },
          "output_type": "execute_result"
        }
      ]
    },
    {
      "cell_type": "code",
      "metadata": {
        "colab": {
          "base_uri": "https://localhost:8080/"
        },
        "id": "ttjoNvGWOEcg",
        "outputId": "8367d933-d109-45d9-c597-70995d63229d"
      },
      "source": [
        "%%R\n",
        "dados<-read.csv('https://raw.githubusercontent.com/lcbjuk/IBMEC/master/notas_turma%20-%20final.csv')\n",
        "head(dados,2)"
      ],
      "execution_count": null,
      "outputs": [
        {
          "output_type": "stream",
          "text": [
            "  Curso Alunos AP1 AP2 AP3 Nota Conceito\n",
            "1   ADM   João   9   8   9  8.6        B\n",
            "2   ADM  Maria   6   4  10  6.0        D\n"
          ],
          "name": "stdout"
        }
      ]
    },
    {
      "cell_type": "code",
      "metadata": {
        "colab": {
          "base_uri": "https://localhost:8080/"
        },
        "id": "DS7KIJoqQX5Y",
        "outputId": "13681488-66cb-49aa-f806-ab4abb31f95e"
      },
      "source": [
        "%%R\n",
        "media_por_curso <- tapply(dados$Nota,dados$Curso, mean)\n",
        "media_por_curso"
      ],
      "execution_count": null,
      "outputs": [
        {
          "output_type": "stream",
          "text": [
            "     ADM      DIR      ECO \n",
            "6.966667 6.900000 7.950000 \n"
          ],
          "name": "stdout"
        }
      ]
    },
    {
      "cell_type": "code",
      "metadata": {
        "colab": {
          "base_uri": "https://localhost:8080/"
        },
        "id": "7FoskPNMOvHv",
        "outputId": "14f1ad74-2e81-4b27-d5fb-bd9651254374"
      },
      "source": [
        "%%R\n",
        "nf<-dados$AP1 * 0.4 +dados$AP2 * 0.4+dados$AP3 * 0.2\n",
        "print(nf)"
      ],
      "execution_count": null,
      "outputs": [
        {
          "name": "stdout",
          "output_type": "stream",
          "text": [
            " [1] 8.6 6.0 3.6 8.6 8.1 5.4 7.2 8.9 7.8 9.7 7.2 4.2\n"
          ]
        }
      ]
    },
    {
      "cell_type": "code",
      "metadata": {
        "colab": {
          "base_uri": "https://localhost:8080/"
        },
        "id": "okGHZwb4n46K",
        "outputId": "8de91752-faff-4854-b0f2-256e9e7b1684"
      },
      "source": [
        "from  google.colab import drive\n",
        "drive.mount('/content/drive')\n",
        "%%R\n",
        "covid <- read.csv('/content/drive/My Drive/IBMEC/Data Viz/brazil_covid19.csv')\n",
        "covid"
      ],
      "execution_count": null,
      "outputs": [
        {
          "name": "stdout",
          "output_type": "stream",
          "text": [
            "Mounted at /content/drive\n"
          ]
        }
      ]
    },
    {
      "cell_type": "code",
      "metadata": {
        "colab": {
          "base_uri": "https://localhost:8080/",
          "height": 112
        },
        "id": "iLf6OP1ioQMx",
        "outputId": "cfb84e2d-42f6-42b5-a332-d77fae597500"
      },
      "source": [
        "import pandas as pd\n",
        "cov=pd.read_csv('/content/drive/My Drive/IBMEC/Data Viz/brazil_covid19.csv')\n",
        "cov.head(2)"
      ],
      "execution_count": null,
      "outputs": [
        {
          "data": {
            "text/html": [
              "<div>\n",
              "<style scoped>\n",
              "    .dataframe tbody tr th:only-of-type {\n",
              "        vertical-align: middle;\n",
              "    }\n",
              "\n",
              "    .dataframe tbody tr th {\n",
              "        vertical-align: top;\n",
              "    }\n",
              "\n",
              "    .dataframe thead th {\n",
              "        text-align: right;\n",
              "    }\n",
              "</style>\n",
              "<table border=\"1\" class=\"dataframe\">\n",
              "  <thead>\n",
              "    <tr style=\"text-align: right;\">\n",
              "      <th></th>\n",
              "      <th>date</th>\n",
              "      <th>region</th>\n",
              "      <th>state</th>\n",
              "      <th>cases</th>\n",
              "      <th>deaths</th>\n",
              "    </tr>\n",
              "  </thead>\n",
              "  <tbody>\n",
              "    <tr>\n",
              "      <th>0</th>\n",
              "      <td>2020-02-25</td>\n",
              "      <td>Centro-Oeste</td>\n",
              "      <td>DF</td>\n",
              "      <td>0.0</td>\n",
              "      <td>0</td>\n",
              "    </tr>\n",
              "    <tr>\n",
              "      <th>1</th>\n",
              "      <td>2020-02-25</td>\n",
              "      <td>Centro-Oeste</td>\n",
              "      <td>GO</td>\n",
              "      <td>0.0</td>\n",
              "      <td>0</td>\n",
              "    </tr>\n",
              "  </tbody>\n",
              "</table>\n",
              "</div>"
            ],
            "text/plain": [
              "         date        region state  cases  deaths\n",
              "0  2020-02-25  Centro-Oeste    DF    0.0       0\n",
              "1  2020-02-25  Centro-Oeste    GO    0.0       0"
            ]
          },
          "execution_count": 39,
          "metadata": {
            "tags": []
          },
          "output_type": "execute_result"
        }
      ]
    },
    {
      "cell_type": "code",
      "metadata": {
        "colab": {
          "background_save": true
        },
        "id": "JvDSLS4iodSq"
      },
      "source": [
        "%%R\n",
        "covid <- read.csv('/content/drive/My Drive/IBMEC/Data Viz/brazil_covid19.csv')\n",
        "covid"
      ],
      "execution_count": null,
      "outputs": []
    },
    {
      "cell_type": "code",
      "metadata": {
        "id": "-WYedBX9nf0W"
      },
      "source": [
        ""
      ],
      "execution_count": null,
      "outputs": []
    }
  ]
}