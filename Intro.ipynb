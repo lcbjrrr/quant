{
  "nbformat": 4,
  "nbformat_minor": 0,
  "metadata": {
    "colab": {
      "provenance": [],
      "include_colab_link": true
    },
    "kernelspec": {
      "display_name": "Python 3",
      "name": "python3"
    },
    "language_info": {
      "name": "python"
    }
  },
  "cells": [
    {
      "cell_type": "markdown",
      "metadata": {
        "id": "view-in-github",
        "colab_type": "text"
      },
      "source": [
        "<a href=\"https://colab.research.google.com/github/lcbjrrr/quant/blob/master/Intro.ipynb\" target=\"_parent\"><img src=\"https://colab.research.google.com/assets/colab-badge.svg\" alt=\"Open In Colab\"/></a>"
      ]
    },
    {
      "cell_type": "markdown",
      "source": [
        "**Topic:** R Lang\n",
        "\n",
        "**Title:** Introduction to R\n",
        "\n",
        "**Author:** Luiz Barboza\n",
        "\n",
        "**Date:** 20/dec/22\n",
        "\n",
        "**Lang:** R\n",
        "\n",
        "**Site:** https://quant-research.group/\n",
        "\n",
        "**Email:** contato@quant-research.group"
      ],
      "metadata": {
        "id": "DCfWEqtQXRmK"
      }
    },
    {
      "cell_type": "code",
      "metadata": {
        "id": "YFsYIIriHzqS",
        "outputId": "69b2533f-a1bb-4dec-e722-af2627850700",
        "colab": {
          "base_uri": "https://localhost:8080/"
        }
      },
      "source": [
        "!pip uninstall rpy2 -y\n"
      ],
      "execution_count": 1,
      "outputs": [
        {
          "output_type": "stream",
          "name": "stdout",
          "text": [
            "Found existing installation: rpy2 3.5.5\n",
            "Uninstalling rpy2-3.5.5:\n",
            "  Successfully uninstalled rpy2-3.5.5\n"
          ]
        }
      ]
    },
    {
      "cell_type": "code",
      "source": [
        "!pip install rpy2==3.0.0\n"
      ],
      "metadata": {
        "id": "SV7gUX2zV3sR"
      },
      "execution_count": null,
      "outputs": []
    },
    {
      "cell_type": "code",
      "source": [
        "%load_ext rpy2.ipython"
      ],
      "metadata": {
        "id": "F4o5b7oXV4cz",
        "outputId": "bec81b31-5e6a-424f-ac29-35c748ecfbd4",
        "colab": {
          "base_uri": "https://localhost:8080/"
        }
      },
      "execution_count": 3,
      "outputs": [
        {
          "output_type": "stream",
          "name": "stderr",
          "text": [
            "/usr/local/lib/python3.8/dist-packages/rpy2/robjects/pandas2ri.py:15: FutureWarning: pandas.core.index is deprecated and will be removed in a future version.  The public classes are available in the top-level namespace.\n",
            "  from pandas.core.index import Index as PandasIndex\n"
          ]
        }
      ]
    },
    {
      "cell_type": "code",
      "metadata": {
        "colab": {
          "base_uri": "https://localhost:8080/",
          "height": 35
        },
        "id": "A2KsM1H_H_hT",
        "outputId": "17dd4d45-83b9-4c3d-fb0f-c80828632fba"
      },
      "source": [
        "%%R\n",
        "print('HELLO WORLD')"
      ],
      "execution_count": 8,
      "outputs": [
        {
          "output_type": "display_data",
          "data": {
            "text/plain": [
              "[1] \"HELLO WORLD\"\n"
            ]
          },
          "metadata": {}
        }
      ]
    },
    {
      "cell_type": "code",
      "metadata": {
        "colab": {
          "base_uri": "https://localhost:8080/",
          "height": 35
        },
        "id": "7ZvTpk3IIiAc",
        "outputId": "e44da3e7-36ab-49d2-fce5-42cf58629781"
      },
      "source": [
        "%%R\n",
        "x<-1\n",
        "y<-2\n",
        "s<-x+y\n",
        "print(s)"
      ],
      "execution_count": 6,
      "outputs": [
        {
          "output_type": "display_data",
          "data": {
            "text/plain": [
              "[1] 3\n"
            ]
          },
          "metadata": {}
        }
      ]
    },
    {
      "cell_type": "code",
      "metadata": {
        "colab": {
          "base_uri": "https://localhost:8080/",
          "height": 35
        },
        "id": "378OdH4vJ7oN",
        "outputId": "d25f0299-a4c7-4d09-b1f5-b031f75e49fd"
      },
      "source": [
        "%%R\n",
        "mysum <- function(x,y){\n",
        "    s<-x+y\n",
        "    return(s)\n",
        "}\n",
        "\n",
        "r<-mysum(11,22)\n",
        "print(r)"
      ],
      "execution_count": 11,
      "outputs": [
        {
          "output_type": "display_data",
          "data": {
            "text/plain": [
              "[1] 33\n"
            ]
          },
          "metadata": {}
        }
      ]
    },
    {
      "cell_type": "code",
      "metadata": {
        "colab": {
          "base_uri": "https://localhost:8080/",
          "height": 35
        },
        "id": "xLm31hPQKsKv",
        "outputId": "beeac1a5-6d61-437d-f445-b46a869b3333"
      },
      "source": [
        "%%R \n",
        "approval <-function(nota, freq){\n",
        "    if (nota>=7 & freq>=0.75){\n",
        "        aprov <- \"PASS\"\n",
        "    }else{\n",
        "        aprov <- \"FAIL\"\n",
        "    }\n",
        "    return(aprov)\n",
        "}\n",
        "john<-approval(9,0.8)\n",
        "print(john)"
      ],
      "execution_count": 12,
      "outputs": [
        {
          "output_type": "display_data",
          "data": {
            "text/plain": [
              "[1] \"PASS\"\n"
            ]
          },
          "metadata": {}
        }
      ]
    },
    {
      "cell_type": "code",
      "metadata": {
        "colab": {
          "base_uri": "https://localhost:8080/",
          "height": 35
        },
        "id": "sknBSm_WK5D2",
        "outputId": "57d8d773-e8d3-4491-d74c-22db9bda164b"
      },
      "source": [
        "%%R\n",
        "avg <- function(){\n",
        "    grades <- c(5,5,6,6,7,7,8,8,9,9)\n",
        "    s<-0\n",
        "    for (n in grades ){\n",
        "      s<-s+n    \n",
        "    }\n",
        "    a<- s /10\n",
        "    return(a)\n",
        "}\n",
        "\n",
        "aa <- avg()\n",
        "print(aa)\n"
      ],
      "execution_count": 13,
      "outputs": [
        {
          "output_type": "display_data",
          "data": {
            "text/plain": [
              "[1] 7\n"
            ]
          },
          "metadata": {}
        }
      ]
    },
    {
      "cell_type": "code",
      "metadata": {
        "colab": {
          "base_uri": "https://localhost:8080/",
          "height": 35
        },
        "id": "sdm-jBVCPyJj",
        "outputId": "d8296402-48c4-4b96-8b77-e61fb52171af"
      },
      "source": [
        "%%R\n",
        "avg <- function(){\n",
        "    grades <- c(5,5,6,6,7,7,8,8,9,9)\n",
        "    s<-0\n",
        "    for (i in 1:10 ){\n",
        "      s <- s + grades[i]    \n",
        "    }\n",
        "    a<- s /10\n",
        "    return(a)\n",
        "}\n",
        "\n",
        "aa <- avg()\n",
        "print(aa)"
      ],
      "execution_count": 14,
      "outputs": [
        {
          "output_type": "display_data",
          "data": {
            "text/plain": [
              "[1] 7\n"
            ]
          },
          "metadata": {}
        }
      ]
    },
    {
      "cell_type": "code",
      "metadata": {
        "colab": {
          "base_uri": "https://localhost:8080/",
          "height": 71
        },
        "id": "ttjoNvGWOEcg",
        "outputId": "48532fd5-7007-414a-d1bb-8ff1f4f89ede"
      },
      "source": [
        "%%R\n",
        "df<-read.csv('https://raw.githubusercontent.com/lcbjrrr/data/main/grades%20-%20okk.csv')\n",
        "head(dados,2)"
      ],
      "execution_count": 17,
      "outputs": [
        {
          "output_type": "display_data",
          "data": {
            "text/plain": [
              "  Course Student AP1 AP2 AP3 Grade Score\n",
              "1    ADM    João   9   8   9   8.6     B\n",
              "2    ADM   Maria   6   4  10   6.0     D\n"
            ]
          },
          "metadata": {}
        }
      ]
    },
    {
      "cell_type": "code",
      "metadata": {
        "colab": {
          "base_uri": "https://localhost:8080/",
          "height": 53
        },
        "id": "DS7KIJoqQX5Y",
        "outputId": "c2fa24a3-03a2-4d4e-8e87-31f8f561e1b7"
      },
      "source": [
        "%%R\n",
        "media_por_curso <- tapply(df$Grade,df$Course, mean)\n",
        "media_por_curso"
      ],
      "execution_count": 18,
      "outputs": [
        {
          "output_type": "display_data",
          "data": {
            "text/plain": [
              " ADM  ECO  LAW \n",
              "6.64 7.95 7.24 \n"
            ]
          },
          "metadata": {}
        }
      ]
    },
    {
      "cell_type": "code",
      "metadata": {
        "colab": {
          "base_uri": "https://localhost:8080/",
          "height": 35
        },
        "id": "7FoskPNMOvHv",
        "outputId": "9eed5fd1-fb36-4373-f6c9-38d01e42e387"
      },
      "source": [
        "%%R\n",
        "nf<-df$AP1 * 0.4 +df$AP2 * 0.4+df$AP3 * 0.2\n",
        "print(nf)"
      ],
      "execution_count": 19,
      "outputs": [
        {
          "output_type": "display_data",
          "data": {
            "text/plain": [
              " [1] 8.6 6.0 3.6 8.6 8.1 5.4 7.2 8.9 7.8 9.7 7.2 4.2\n"
            ]
          },
          "metadata": {}
        }
      ]
    },
    {
      "cell_type": "code",
      "metadata": {
        "colab": {
          "base_uri": "https://localhost:8080/",
          "height": 88
        },
        "id": "JvDSLS4iodSq",
        "outputId": "5a1664cc-c2d0-48f6-b1f9-77425dc0e153"
      },
      "source": [
        "%%R\n",
        "covid <- read.csv('https://raw.githubusercontent.com/lcbjrrr/quant/master/covid19%20-%20cases.csv')\n",
        "head(covid,3)"
      ],
      "execution_count": 21,
      "outputs": [
        {
          "output_type": "display_data",
          "data": {
            "text/plain": [
              "     date Brazil India US\n",
              "1 1/23/20      0     0  0\n",
              "2 1/24/20      0     0  1\n",
              "3 1/25/20      0     0  0\n"
            ]
          },
          "metadata": {}
        }
      ]
    },
    {
      "cell_type": "code",
      "source": [
        "%%R\n",
        "covid$date <-  as.Date(covid$date, \"%m/%d/%y\")\n",
        "rownames(covid) <- covid$date\n",
        "head(covid,3)"
      ],
      "metadata": {
        "colab": {
          "base_uri": "https://localhost:8080/",
          "height": 88
        },
        "id": "vHWMSWTvpGTb",
        "outputId": "77ee5e99-5b40-4589-f068-dc7a5480f6f3"
      },
      "execution_count": 24,
      "outputs": [
        {
          "output_type": "display_data",
          "data": {
            "text/plain": [
              "                 date Brazil India US\n",
              "2020-01-23 2020-01-23      0     0  0\n",
              "2020-01-24 2020-01-24      0     0  1\n",
              "2020-01-25 2020-01-25      0     0  0\n"
            ]
          },
          "metadata": {}
        }
      ]
    },
    {
      "cell_type": "code",
      "source": [
        "%%R\n",
        "plot(Brazil~date,data=covid,type='l')\n"
      ],
      "metadata": {
        "colab": {
          "base_uri": "https://localhost:8080/",
          "height": 497
        },
        "id": "3vG_xJr8oyga",
        "outputId": "2a5b2966-b6cc-43d1-843f-824437b09655"
      },
      "execution_count": 27,
      "outputs": [
        {
          "output_type": "display_data",
          "data": {
            "image/png": "[encoded data removed]"
          },
          "metadata": {}
        }
      ]
    }
  ]
}