{
  "nbformat": 4,
  "nbformat_minor": 0,
  "metadata": {
    "colab": {
      "name": "Numpy.ipynb",
      "provenance": [],
      "collapsed_sections": [],
      "authorship_tag": "ABX9TyOxpjDLH4BoyZIZvkobhNE9",
      "include_colab_link": true
    },
    "kernelspec": {
      "name": "python3",
      "display_name": "Python 3"
    }
  },
  "cells": [
    {
      "cell_type": "markdown",
      "metadata": {
        "id": "view-in-github",
        "colab_type": "text"
      },
      "source": [
        "<a href=\"https://colab.research.google.com/github/lcbjrrr/quant/blob/master/Numpy.ipynb\" target=\"_parent\"><img src=\"https://colab.research.google.com/assets/colab-badge.svg\" alt=\"Open In Colab\"/></a>"
      ]
    },
    {
      "cell_type": "code",
      "metadata": {
        "id": "TnfKvMmNe86I"
      },
      "source": [
        "import numpy as np\n"
      ],
      "execution_count": null,
      "outputs": []
    },
    {
      "cell_type": "markdown",
      "metadata": {
        "id": "SLwPhH_Xb-xY"
      },
      "source": [
        "#Vetor/Array\n"
      ]
    },
    {
      "cell_type": "code",
      "metadata": {
        "id": "GHSQx4IEfUmd",
        "outputId": "c84101cb-b925-44f3-ca62-3b27d4624e78",
        "colab": {
          "base_uri": "https://localhost:8080/",
          "height": 52
        }
      },
      "source": [
        "import numpy as np\n",
        "\n",
        "a1 = [1, 2, 3]\n",
        "print(a1)\n",
        "a2 = np.array([1, 2, 3])   \n",
        "print(a2)"
      ],
      "execution_count": null,
      "outputs": [
        {
          "output_type": "stream",
          "text": [
            "[1, 2, 3]\n",
            "[1 2 3]\n"
          ],
          "name": "stdout"
        }
      ]
    },
    {
      "cell_type": "markdown",
      "metadata": {
        "id": "riNtXvU7fVeP"
      },
      "source": [
        "# 2D"
      ]
    },
    {
      "cell_type": "code",
      "metadata": {
        "id": "FbLd0XLTfyar",
        "outputId": "2c407fde-1076-4a8f-f5ce-342c70f847af",
        "colab": {
          "base_uri": "https://localhost:8080/",
          "height": 69
        }
      },
      "source": [
        "b = np.array( [ [1,2,3],\n",
        "                [4,5,6] ] )   \n",
        "print(b)\n",
        "\n",
        "print(b.shape)\n"
      ],
      "execution_count": null,
      "outputs": [
        {
          "output_type": "stream",
          "text": [
            "[[1 2 3]\n",
            " [4 5 6]]\n",
            "(2, 3)\n"
          ],
          "name": "stdout"
        }
      ]
    },
    {
      "cell_type": "markdown",
      "metadata": {
        "id": "KB1cb9fhEgWx"
      },
      "source": [
        "#Acessando"
      ]
    },
    {
      "cell_type": "code",
      "metadata": {
        "id": "T950TMCKEfK-",
        "outputId": "22efa5e3-6c6b-4e93-b32d-c5bad524bdb9",
        "colab": {
          "base_uri": "https://localhost:8080/",
          "height": 52
        }
      },
      "source": [
        "# Opcao usual de acesso\n",
        "print(b[1,1])\n",
        "\n",
        "# Outra opcao de acesso\n",
        "print(b[1][1])"
      ],
      "execution_count": null,
      "outputs": [
        {
          "output_type": "stream",
          "text": [
            "5\n",
            "5\n"
          ],
          "name": "stdout"
        }
      ]
    },
    {
      "cell_type": "markdown",
      "metadata": {
        "id": "LRXde2HWHH7D"
      },
      "source": [
        "#Outras Inicializacoes"
      ]
    },
    {
      "cell_type": "code",
      "metadata": {
        "id": "8sOmfYT3HKfI",
        "outputId": "b3e49d65-1c15-4196-dc6f-19fa517d52b2",
        "colab": {
          "base_uri": "https://localhost:8080/",
          "height": 52
        }
      },
      "source": [
        "zero2_2 = np.zeros( (2,2) )\n",
        "print(zero2_2)"
      ],
      "execution_count": null,
      "outputs": [
        {
          "output_type": "stream",
          "text": [
            "[[0. 0.]\n",
            " [0. 0.]]\n"
          ],
          "name": "stdout"
        }
      ]
    },
    {
      "cell_type": "code",
      "metadata": {
        "id": "1A6GAt59HThl",
        "outputId": "59535097-4a8c-4500-a225-411069e38094",
        "colab": {
          "base_uri": "https://localhost:8080/",
          "height": 69
        }
      },
      "source": [
        "ones3_3 = np.ones( (3,3) )\n",
        "print(ones3_3)"
      ],
      "execution_count": null,
      "outputs": [
        {
          "output_type": "stream",
          "text": [
            "[[1. 1. 1.]\n",
            " [1. 1. 1.]\n",
            " [1. 1. 1.]]\n"
          ],
          "name": "stdout"
        }
      ]
    },
    {
      "cell_type": "markdown",
      "metadata": {
        "id": "dXLkz7hHfzp0"
      },
      "source": [
        "# Slicing\n"
      ]
    },
    {
      "cell_type": "code",
      "metadata": {
        "id": "OEID0hVFfzzf",
        "outputId": "800e4305-623f-478f-9a11-f43b75681b43",
        "colab": {
          "base_uri": "https://localhost:8080/",
          "height": 104
        }
      },
      "source": [
        "a = np.array([[1,2,3,4], \n",
        "              [5,6,7,8], \n",
        "              [9,10,11,12]])\n",
        "print(a)\n",
        "\n",
        "fatia = a[2:3,0:4]\n",
        "print('FATIA')\n",
        "print(fatia)"
      ],
      "execution_count": null,
      "outputs": [
        {
          "output_type": "stream",
          "text": [
            "[[ 1  2  3  4]\n",
            " [ 5  6  7  8]\n",
            " [ 9 10 11 12]]\n",
            "FATIA\n",
            "[[ 9 10 11 12]]\n"
          ],
          "name": "stdout"
        }
      ]
    },
    {
      "cell_type": "markdown",
      "metadata": {
        "id": "txv0rtGdpRIq"
      },
      "source": [
        "#Query"
      ]
    },
    {
      "cell_type": "code",
      "metadata": {
        "id": "27x-xj3bpRQb",
        "outputId": "dff3b397-195e-4bad-c3ff-5a01ad331bf2",
        "colab": {
          "base_uri": "https://localhost:8080/",
          "height": 87
        }
      },
      "source": [
        "a = np.array([[1,2], \n",
        "              [3, 4], \n",
        "              [5, 6]])\n",
        "print(a)\n",
        "print(a[a>2])"
      ],
      "execution_count": null,
      "outputs": [
        {
          "output_type": "stream",
          "text": [
            "[[1 2]\n",
            " [3 4]\n",
            " [5 6]]\n",
            "[3 4 5 6]\n"
          ],
          "name": "stdout"
        }
      ]
    },
    {
      "cell_type": "markdown",
      "metadata": {
        "id": "ua0oxQj4pmn-"
      },
      "source": [
        "\n",
        "\n",
        "# Soma (elemento a elemento)\n"
      ]
    },
    {
      "cell_type": "code",
      "metadata": {
        "id": "-EfcqJxWpmut",
        "outputId": "663da70c-6409-466b-cf59-e28bc703fb0b",
        "colab": {
          "base_uri": "https://localhost:8080/",
          "height": 34
        }
      },
      "source": [
        "x = np.array([1,2])\n",
        "y = np.array([5,6])\n",
        "z = x + y\n",
        "print(z)"
      ],
      "execution_count": null,
      "outputs": [
        {
          "output_type": "stream",
          "text": [
            "[6 8]\n"
          ],
          "name": "stdout"
        }
      ]
    },
    {
      "cell_type": "code",
      "metadata": {
        "id": "v59Weo9b0pFw",
        "outputId": "c0bfe2d8-9b46-4224-bbe6-a6eb746f72d8",
        "colab": {
          "base_uri": "https://localhost:8080/",
          "height": 34
        }
      },
      "source": [
        "# atente que com lista nao funciona\n",
        "x = [1,2]\n",
        "y = [5,6]\n",
        "z = x + y\n",
        "print(z)"
      ],
      "execution_count": null,
      "outputs": [
        {
          "output_type": "stream",
          "text": [
            "[1, 2, 5, 6]\n"
          ],
          "name": "stdout"
        }
      ]
    },
    {
      "cell_type": "markdown",
      "metadata": {
        "id": "K-RcF_qF08Ey"
      },
      "source": [
        "# Subtracao (elemento a elemento)\n"
      ]
    },
    {
      "cell_type": "code",
      "metadata": {
        "id": "KkGAz5WN08Ng",
        "outputId": "6bd8e93f-b3bb-4ad9-fbaf-6760a4089c5b",
        "colab": {
          "base_uri": "https://localhost:8080/",
          "height": 52
        }
      },
      "source": [
        "x = np.array([[1,2],[3,4]])\n",
        "y = np.array([[5,6],[7,8]])\n",
        "z = x - y\n",
        "print(z)"
      ],
      "execution_count": null,
      "outputs": [
        {
          "output_type": "stream",
          "text": [
            "[[-4 -4]\n",
            " [-4 -4]]\n"
          ],
          "name": "stdout"
        }
      ]
    },
    {
      "cell_type": "markdown",
      "metadata": {
        "id": "nlXYA_kP1KB2"
      },
      "source": [
        "# Divisao (elemento a elemento)\n"
      ]
    },
    {
      "cell_type": "code",
      "metadata": {
        "id": "jDVHWot81KII",
        "outputId": "a3a5dae5-8cc9-4d50-822a-2906487d6f5b",
        "colab": {
          "base_uri": "https://localhost:8080/",
          "height": 52
        }
      },
      "source": [
        "x = np.array([[1,2],[3,4]])\n",
        "y = np.array([[5,6],[7,8]])\n",
        "z = x / y\n",
        "print(z)"
      ],
      "execution_count": null,
      "outputs": [
        {
          "output_type": "stream",
          "text": [
            "[[0.2        0.33333333]\n",
            " [0.42857143 0.5       ]]\n"
          ],
          "name": "stdout"
        }
      ]
    },
    {
      "cell_type": "markdown",
      "metadata": {
        "id": "k_oAxmiB1YJ1"
      },
      "source": [
        "# Multiplacacao (elemento a elemento)\n"
      ]
    },
    {
      "cell_type": "code",
      "metadata": {
        "id": "41jYKMqv1YQ7",
        "outputId": "94aaf353-17ec-463b-fd6d-db6bd9b5f50a",
        "colab": {
          "base_uri": "https://localhost:8080/",
          "height": 52
        }
      },
      "source": [
        "x = np.array([[1,2],[3,4]])\n",
        "y = np.array([[5,6],[7,8]])\n",
        "z = x * y\n",
        "print(z)"
      ],
      "execution_count": null,
      "outputs": [
        {
          "output_type": "stream",
          "text": [
            "[[ 5 12]\n",
            " [21 32]]\n"
          ],
          "name": "stdout"
        }
      ]
    },
    {
      "cell_type": "markdown",
      "metadata": {
        "id": "gOYV43cs1gnu"
      },
      "source": [
        "# Multiplacacao DE MATRIZES\n"
      ]
    },
    {
      "cell_type": "code",
      "metadata": {
        "id": "QD4O_81D1gvN",
        "outputId": "36c94494-cb90-456f-897b-07bce15aa696",
        "colab": {
          "base_uri": "https://localhost:8080/",
          "height": 247
        }
      },
      "source": [
        "notas = np.array([ [7,8,9],\n",
        "                   [5,6,7],\n",
        "                   [5,5,5],\n",
        "                   [9,9,9] ])\n",
        "pesos = np.array([ [0.4],\n",
        "                   [0.4],\n",
        "                   [0.2] ])\n",
        "\n",
        "medias = notas @ pesos \n",
        "\n",
        "print(notas)\n",
        "print(notas.shape)\n",
        "print(pesos)\n",
        "print(pesos.shape)\n",
        "print(medias)"
      ],
      "execution_count": null,
      "outputs": [
        {
          "output_type": "stream",
          "text": [
            "[[7 8 9]\n",
            " [5 6 7]\n",
            " [5 5 5]\n",
            " [9 9 9]]\n",
            "(4, 3)\n",
            "[[0.4]\n",
            " [0.4]\n",
            " [0.2]]\n",
            "(3, 1)\n",
            "[[7.8]\n",
            " [5.8]\n",
            " [5. ]\n",
            " [9. ]]\n"
          ],
          "name": "stdout"
        }
      ]
    },
    {
      "cell_type": "code",
      "metadata": {
        "id": "qtxXEv1z7aLB"
      },
      "source": [
        "# note que...\n",
        "medias = pesos @ notas "
      ],
      "execution_count": null,
      "outputs": []
    },
    {
      "cell_type": "markdown",
      "metadata": {
        "id": "oT5lLsA0CJaY"
      },
      "source": [
        "---------------------------------------------------------------------------\n",
        "ValueError                                Traceback (most recent call last)\n",
        "<ipython-input-24-6d2011f25ab2> in <module>()\n",
        "      1 # note que...\n",
        "----> 2 medias = pesos @ notas\n",
        "\n",
        "ValueError: matmul: Input operand 1 has a mismatch in its core dimension 0, with gufunc signature <br> (n?,k),(k,m?)->(n?,m?) (size 4 is different from 1)"
      ]
    },
    {
      "cell_type": "code",
      "metadata": {
        "id": "0w56Opwz7rhS"
      },
      "source": [
        "print(pesos)\n",
        "print(pesos.shape)\n",
        "print(notas)\n",
        "print(notas.shape)"
      ],
      "execution_count": null,
      "outputs": []
    },
    {
      "cell_type": "markdown",
      "metadata": {
        "id": "cRmNzB6w8Pm1"
      },
      "source": [
        "# Transposta"
      ]
    },
    {
      "cell_type": "code",
      "metadata": {
        "id": "x-l7jGee8Pt6",
        "outputId": "0298a769-14db-4802-db52-766c18a17631",
        "colab": {
          "base_uri": "https://localhost:8080/",
          "height": 52
        }
      },
      "source": [
        "pesos_t = pesos.T\n",
        "print(pesos_t)\n",
        "print(pesos_t.shape)"
      ],
      "execution_count": null,
      "outputs": [
        {
          "output_type": "stream",
          "text": [
            "[[0.4 0.4 0.2]]\n",
            "(1, 3)\n"
          ],
          "name": "stdout"
        }
      ]
    },
    {
      "cell_type": "code",
      "metadata": {
        "id": "lbaOCEqD9JT7",
        "outputId": "15ea04ba-f346-4e85-9744-b2a2ff494f89",
        "colab": {
          "base_uri": "https://localhost:8080/",
          "height": 87
        }
      },
      "source": [
        "notas_t = notas.T\n",
        "print(notas_t)\n",
        "print(notas_t.shape)"
      ],
      "execution_count": null,
      "outputs": [
        {
          "output_type": "stream",
          "text": [
            "[[7 5 5 9]\n",
            " [8 6 5 9]\n",
            " [9 7 5 9]]\n",
            "(3, 4)\n"
          ],
          "name": "stdout"
        }
      ]
    },
    {
      "cell_type": "code",
      "metadata": {
        "id": "j32e3JG_8ygd",
        "outputId": "b14daeef-4aba-48f1-9129-22e066046a44",
        "colab": {
          "base_uri": "https://localhost:8080/",
          "height": 34
        }
      },
      "source": [
        "# agora...\n",
        "medias = pesos_t @ notas_t \n",
        "print(medias)"
      ],
      "execution_count": null,
      "outputs": [
        {
          "output_type": "stream",
          "text": [
            "[[7.8 5.8 5.  9. ]]\n"
          ],
          "name": "stdout"
        }
      ]
    },
    {
      "cell_type": "markdown",
      "metadata": {
        "id": "Tfg9M2JmcKM3"
      },
      "source": [
        "#Funcoes"
      ]
    },
    {
      "cell_type": "code",
      "metadata": {
        "id": "bCD5OcTFcJdL",
        "outputId": "b9307e22-a7b9-4f74-cb2b-537177054138",
        "colab": {
          "base_uri": "https://localhost:8080/",
          "height": 121
        }
      },
      "source": [
        "import numpy as np\n",
        "\n",
        "notas = np.array([ [7,8,9],\n",
        "                   [5,6,7],\n",
        "                   [5,5,5],\n",
        "                   [9,9,9] ])\n",
        "pesos = np.array([ [0.4],\n",
        "                   [0.4],\n",
        "                   [0.2] ])\n",
        "\n",
        "medias = notas @ pesos \n",
        "print(medias)\n",
        "print(medias[medias>7])\n",
        "notas[notas>=9]"
      ],
      "execution_count": null,
      "outputs": [
        {
          "output_type": "stream",
          "text": [
            "[[7.8]\n",
            " [5.8]\n",
            " [5. ]\n",
            " [9. ]]\n",
            "[7.8 9. ]\n"
          ],
          "name": "stdout"
        },
        {
          "output_type": "execute_result",
          "data": {
            "text/plain": [
              "array([9, 9, 9, 9])"
            ]
          },
          "metadata": {
            "tags": []
          },
          "execution_count": 75
        }
      ]
    },
    {
      "cell_type": "code",
      "metadata": {
        "id": "GlS9hUjVH4zW",
        "outputId": "c93f2606-d27a-4d12-ab2c-fe542eb6a91c",
        "colab": {
          "base_uri": "https://localhost:8080/",
          "height": 104
        }
      },
      "source": [
        "media = medias.mean()\n",
        "desv = medias.std()\n",
        "menor = medias.cumin()\n",
        "maior = medias.max()\n",
        "soma = medias.sum()\n",
        "\n",
        "print(media)\n",
        "print(desv)\n",
        "print(menor)\n",
        "print(maior)\n",
        "print(soma)\n"
      ],
      "execution_count": null,
      "outputs": [
        {
          "output_type": "stream",
          "text": [
            "6.9\n",
            "1.5842979517754858\n",
            "5.0\n",
            "9.0\n",
            "27.6\n"
          ],
          "name": "stdout"
        }
      ]
    }
  ]
}