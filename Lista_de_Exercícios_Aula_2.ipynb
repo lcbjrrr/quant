{
  "nbformat": 4,
  "nbformat_minor": 0,
  "metadata": {
    "colab": {
      "name": "Lista de Exercícios Aula 2.ipynb",
      "provenance": [],
      "collapsed_sections": [],
      "authorship_tag": "ABX9TyOzoE5fvEucaFd/8pi5gk/s",
      "include_colab_link": true
    },
    "kernelspec": {
      "name": "python3",
      "display_name": "Python 3"
    },
    "language_info": {
      "name": "python"
    }
  },
  "cells": [
    {
      "cell_type": "markdown",
      "metadata": {
        "id": "view-in-github",
        "colab_type": "text"
      },
      "source": [
        "<a href=\"https://colab.research.google.com/github/lcbjrrr/quant/blob/master/Lista_de_Exerc%C3%ADcios_Aula_2.ipynb\" target=\"_parent\"><img src=\"https://colab.research.google.com/assets/colab-badge.svg\" alt=\"Open In Colab\"/></a>"
      ]
    },
    {
      "cell_type": "markdown",
      "metadata": {
        "id": "J87XvV2YMAnb"
      },
      "source": [
        "1.\tForam retiradas 25 peças da produção diária de uma máquina, encontrando-se para uma medida uma média de 5,2 mm. Sabendo-se que as medidas têm distribuição normal com desvio-padrão populacional 1,2 mm, construir intervalos de confiança para a média aos níveis de 90%, 95% e 99%."
      ]
    },
    {
      "cell_type": "code",
      "metadata": {
        "colab": {
          "base_uri": "https://localhost:8080/"
        },
        "id": "QKoiMA1zMAvo",
        "outputId": "e20b7196-0863-48b2-dc20-4cda0b19da08"
      },
      "source": [
        "from scipy.stats import norm\n",
        "from math import sqrt\n",
        "\n",
        "x=5.2\n",
        "o=1.2\n",
        "n=25 \n",
        "\n",
        "z05 = norm.ppf((1-0.05)+0.05/2)\n",
        "z01 = norm.ppf((1-0.01)+0.01/2)\n",
        "z10 = norm.ppf((1-0.10)+0.10/2)\n",
        "\n",
        "e05 = z05 * (o / sqrt(n))\n",
        "e01 = z01 * (o / sqrt(n))\n",
        "e10 = z10 * (o / sqrt(n))\n",
        "print('5%',x,x-e05,x+e05)\n",
        "print('1%',x,x-e01,x+e01)\n",
        "print('10%',x,x-e10,x+e10)\n"
      ],
      "execution_count": 9,
      "outputs": [
        {
          "output_type": "stream",
          "name": "stdout",
          "text": [
            "5% 5.2 4.729608643710387 5.670391356289613\n",
            "1% 5.2 4.581800967148264 5.818199032851736\n",
            "10% 5.2 4.805235129531646 5.594764870468354\n"
          ]
        }
      ]
    },
    {
      "cell_type": "code",
      "metadata": {
        "colab": {
          "base_uri": "https://localhost:8080/"
        },
        "id": "AHXBZduOQ5Sm",
        "outputId": "391d7414-98f9-4ac8-f635-090c9149d749"
      },
      "source": [
        "print(norm.interval(alpha = 0.95, loc = x, scale = o / sqrt(n)))\n",
        "print(norm.interval(alpha = 0.99, loc = x, scale = o / sqrt(n)))\n",
        "print(norm.interval(alpha = 0.90, loc = x, scale = o / sqrt(n)))"
      ],
      "execution_count": 59,
      "outputs": [
        {
          "output_type": "stream",
          "name": "stdout",
          "text": [
            "(4.729608643710387, 5.670391356289613)\n",
            "(4.581800967148264, 5.818199032851736)\n",
            "(4.805235129531646, 5.594764870468353)\n"
          ]
        }
      ]
    },
    {
      "cell_type": "code",
      "metadata": {
        "colab": {
          "base_uri": "https://localhost:8080/"
        },
        "id": "g2-rpnBkQCzc",
        "outputId": "a26332c1-24c5-46cc-d152-bf9d3739916c"
      },
      "source": [
        "from scipy.stats import t\n",
        "from math import sqrt\n",
        "\n",
        "x=5.2\n",
        "o=1.2\n",
        "n=25 \n",
        "\n",
        "t05 = t.ppf((1-0.05)+0.05/2, n-1)\n",
        "t01 = t.ppf((1-0.01)+0.01/2, n-1)\n",
        "t10 = t.ppf((1-0.10)+0.10/2, n-1)\n",
        "\n",
        "e10 = t10 * o\n",
        "e05 = t05 * o\n",
        "e01 = t01 * o\n",
        "print('5%',x,x-e05,x+e05)\n",
        "print('1%',x,x-e01,x+e01)\n",
        "print('10%',x,x-e10,x+e10)\n"
      ],
      "execution_count": 57,
      "outputs": [
        {
          "output_type": "stream",
          "name": "stdout",
          "text": [
            "5% 5.2 2.723321726046376 7.676678273953625\n",
            "1% 5.2 1.8436725942726353 8.556327405727366\n",
            "10% 5.2 3.1469415041086855 7.253058495891315\n"
          ]
        }
      ]
    },
    {
      "cell_type": "code",
      "metadata": {
        "colab": {
          "base_uri": "https://localhost:8080/"
        },
        "id": "vmchQ55BcipP",
        "outputId": "f116a50d-11b2-44d9-dbea-8c6f0eea8d6e"
      },
      "source": [
        "from scipy.stats import t\n",
        "print(t.interval(0.95,n-1,x,o))\n",
        "print(t.interval(0.99,n-1,x,o))\n",
        "print(t.interval(0.90,n-1,x,o))"
      ],
      "execution_count": 62,
      "outputs": [
        {
          "output_type": "stream",
          "name": "stdout",
          "text": [
            "(23.284518762072693, 30.482147904593965)\n",
            "(21.23833315635278, 32.52833351031388)\n",
            "(24.06226561159651, 29.70440105507015)\n"
          ]
        }
      ]
    },
    {
      "cell_type": "markdown",
      "metadata": {
        "id": "dkZ_O2E3MA3L"
      },
      "source": [
        "2.\tDe uma distribuição normal com o2 = 1.96 (variancia), obteve-se a seguinte amostra: 25,2; 26,0; 26,4; 27,1; 28,2; 28,4. Determinar o intervalo de confiança para a média da população, sendo a = 0,05 e a = 0,10."
      ]
    },
    {
      "cell_type": "code",
      "metadata": {
        "colab": {
          "base_uri": "https://localhost:8080/"
        },
        "id": "ws0CreztdKiV",
        "outputId": "3e132ff4-7216-4030-c7e6-1403e40e2051"
      },
      "source": [
        "from scipy.stats import t\n",
        "from numpy import mean\n",
        "o = sqrt(1.96)\n",
        "ams = [25.2,26,26.4,27.1,28.2,28.4]\n",
        "n = len(ams)\n",
        "x = mean(ams)\n",
        "print(t.interval(0.90,n-1,x,o))\n",
        "print(t.interval(0.95,n-1,x,o))"
      ],
      "execution_count": 63,
      "outputs": [
        {
          "output_type": "stream",
          "name": "stdout",
          "text": [
            "(24.06226561159651, 29.70440105507015)\n",
            "(23.284518762072693, 30.482147904593965)\n"
          ]
        }
      ]
    },
    {
      "cell_type": "markdown",
      "metadata": {
        "id": "nwWSL46TMBGE"
      },
      "source": [
        "3.\tSuponha que as alturas dos alunos de nossa faculdade tenham distribuição normal com o = 15 cm. Foi retirada uma amostra aleatória de 100 alunos, obtendo-se X = 175 cm. Construir, ao nível de significância de 95% o intervalo para a verdadeira altura média dos alunos."
      ]
    },
    {
      "cell_type": "code",
      "metadata": {
        "colab": {
          "base_uri": "https://localhost:8080/"
        },
        "id": "E6Scf5zFMBNr",
        "outputId": "ae961f8f-a749-4a05-8bf4-af665d6eca9a"
      },
      "source": [
        "from math import sqrt\n",
        "o=15\n",
        "x=175\n",
        "n=100\n",
        "print('media',x)\n",
        "norm.interval(alpha = 1-0.05, loc = x, scale = o / sqrt(n))"
      ],
      "execution_count": 64,
      "outputs": [
        {
          "output_type": "stream",
          "name": "stdout",
          "text": [
            "media 175\n"
          ]
        },
        {
          "output_type": "execute_result",
          "data": {
            "text/plain": [
              "(172.0600540231899, 177.9399459768101)"
            ]
          },
          "metadata": {},
          "execution_count": 64
        }
      ]
    },
    {
      "cell_type": "markdown",
      "metadata": {
        "id": "9GVDMp1RMBVk"
      },
      "source": [
        "4.\tDados n = 10, X = 110 e S = 10, determinar os intervalos de confiança u aos níveis de 90% e 95%."
      ]
    },
    {
      "cell_type": "code",
      "metadata": {
        "colab": {
          "base_uri": "https://localhost:8080/"
        },
        "id": "MPwIlWFEMBca",
        "outputId": "4906b21f-fb9b-4333-b5ec-3319159e10cc"
      },
      "source": [
        "from scipy.stats import t\n",
        "n=10\n",
        "x=110\n",
        "s=10\n",
        "print(t.interval(0.95,n-1,x,s))\n",
        "print(t.interval(0.90,n-1,x,s))"
      ],
      "execution_count": 66,
      "outputs": [
        {
          "output_type": "stream",
          "name": "stdout",
          "text": [
            "(87.3784283725901, 132.6215716274099)\n",
            "(91.66887067346366, 128.33112932653634)\n"
          ]
        }
      ]
    },
    {
      "cell_type": "markdown",
      "metadata": {
        "id": "HMobci14MBjf"
      },
      "source": [
        "5.\tUma amostra é composta pelos seguintes elementos: 7, 7, 8, 9, 9, 9, 10, 11, 11, 11, 12, 13, 13, 14, 15, 15. Construir os intervalos de confiança para a média sendo: 1 - a = 97,5% e 1 - a = 75%."
      ]
    },
    {
      "cell_type": "code",
      "metadata": {
        "colab": {
          "base_uri": "https://localhost:8080/"
        },
        "id": "zgOuKHLwMBrC",
        "outputId": "c5d1eadf-bf07-4e2e-8496-85afa417fcf9"
      },
      "source": [
        "from scipy.stats import t\n",
        "from numpy import mean,std\n",
        "ams = [7,7,8,9,9,10,11,11,11,11,12,13,13,14,15,15]\n",
        "n = len(ams)\n",
        "x = mean(ams)\n",
        "s=std(ams)\n",
        "print('media',x)\n",
        "print(t.interval(0.975,n-1,x,s))\n",
        "print(t.interval(0.75,n-1,x,s))"
      ],
      "execution_count": 70,
      "outputs": [
        {
          "output_type": "stream",
          "name": "stdout",
          "text": [
            "media 11.0\n",
            "(4.7753007413181106, 17.224699258681895)\n",
            "(8.008276789783215, 13.991723210216785)\n"
          ]
        }
      ]
    },
    {
      "cell_type": "markdown",
      "metadata": {
        "id": "lUZwtNyFMByH"
      },
      "source": [
        "6.\tColhida uma amostra de 30 peças, forneceu os seguintes pesos:\n",
        "250,\t265,\t267,\t269,\t271,\t275,\t277,\t281,\t283,\t284,\n",
        "287,\t289,\t291,\t293,\t293,\t298,\t301,\t303,\t306,\t307,\n",
        "307,\t309,\t311,\t315,\t319,\t322,\t324,\t328,\t335,\t339.\n",
        "Por meio da construção do intervalo de confiança, responder se esta amostra satisfaz a especificação pela qual o peso médio deve ser 300 kg.\n",
        "Sugestão: Adote a = 5%."
      ]
    },
    {
      "cell_type": "code",
      "metadata": {
        "colab": {
          "base_uri": "https://localhost:8080/"
        },
        "id": "yT7kCoG5MB5O",
        "outputId": "a6b9a1a4-1ad0-438e-b4a3-3ca0d9bcfe78"
      },
      "source": [
        "from scipy.stats import norm\n",
        "from numpy import mean,std\n",
        "u=300\n",
        "ams=[250,265,267,269,271,275,277,281,283,284,287,289,291,293,293,298,301,303,306,307,307,309,311,315,319,322,324,328,335,339]\n",
        "x=mean(ams)\n",
        "n=len(ams)\n",
        "s=std(ams)\n",
        "norm.interval(alpha = 0.95, loc = x, scale = s / sqrt(n))\n",
        "#sim, satifaz, pois 300 ta no intervalo"
      ],
      "execution_count": 71,
      "outputs": [
        {
          "output_type": "execute_result",
          "data": {
            "text/plain": [
              "(288.81229203361283, 304.4543746330538)"
            ]
          },
          "metadata": {},
          "execution_count": 71
        }
      ]
    },
    {
      "cell_type": "markdown",
      "metadata": {
        "id": "rNnO9YLqMCAS"
      },
      "source": [
        "7. Em uma fábrica, colhida uma amostra de certa peça, obtiveram-se a: seguintes medidas para os diâmetros:\n",
        "10,\t11,\t11,\t11,\t12,\t12,\t12,\t12,\t13,\t13,\n",
        "13,\t13,\t13,\t13,\t13,\t13,\t13,\t13,\t\t13,\t13,\n",
        "14,\t\t14,\t14,\t14,\t14,\t15,\t15,\t15,\t16,\t16.\n",
        "a)\tEstimar a média e a variância;\n",
        "b)\tConstruir um intervalo de confiança para a média sendo a = 5%."
      ]
    },
    {
      "cell_type": "code",
      "metadata": {
        "colab": {
          "base_uri": "https://localhost:8080/"
        },
        "id": "K_D-4hHnMCHb",
        "outputId": "c7cf0dd3-05fc-4103-8301-26d142809bb5"
      },
      "source": [
        "from scipy.stats import norm\n",
        "from numpy import mean,std,var\n",
        "\n",
        "ams=[10,11,11,11,12,12,12,12,13,13,13,13,13,13,13,13,13,13,13,13,14,14,14,14,14,15,15,15,16,16]\n",
        "x=mean(ams)\n",
        "n=len(ams)\n",
        "s=std(ams)\n",
        "print('media',x,'var',var(ams))\n",
        "norm.interval(alpha = 0.95, loc = x, scale = s / sqrt(n))\n"
      ],
      "execution_count": 72,
      "outputs": [
        {
          "output_type": "stream",
          "name": "stdout",
          "text": [
            "media 13.133333333333333 var 1.9822222222222228\n"
          ]
        },
        {
          "output_type": "execute_result",
          "data": {
            "text/plain": [
              "(12.629526986935186, 13.63713967973148)"
            ]
          },
          "metadata": {},
          "execution_count": 72
        }
      ]
    },
    {
      "cell_type": "markdown",
      "metadata": {
        "id": "H7-1L-PBMCOt"
      },
      "source": [
        "8.\tEm quatro leituras experimentais de um \"comercial\" de 30 segundos, o locutor levou em média 29,2 segundos com uma S2 = 5,76 segundos ao quadrado. Construir os limites de confiança para a média. Dado a = 10%,"
      ]
    },
    {
      "cell_type": "code",
      "metadata": {
        "colab": {
          "base_uri": "https://localhost:8080/"
        },
        "id": "x1ehidcQMCV_",
        "outputId": "8bb7bbc3-6d90-403b-9767-6a8486f6f3a3"
      },
      "source": [
        "from scipy.stats import t\n",
        "from math import sqrt\n",
        "n=4\n",
        "x=29.2\n",
        "s2=5.76\n",
        "a=0.1\n",
        "s=sqrt(s2)\n",
        "t.interval(1-a,n-1,x,s)"
      ],
      "execution_count": 73,
      "outputs": [
        {
          "output_type": "execute_result",
          "data": {
            "text/plain": [
              "(23.551927756475614, 34.848072243524385)"
            ]
          },
          "metadata": {},
          "execution_count": 73
        }
      ]
    }
  ]
}