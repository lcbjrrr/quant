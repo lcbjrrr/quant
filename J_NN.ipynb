{
  "nbformat": 4,
  "nbformat_minor": 0,
  "metadata": {
    "colab": {
      "provenance": [],
      "include_colab_link": true
    },
    "kernelspec": {
      "display_name": "Julia",
      "language": "julia",
      "name": "julia"
    },
    "language_info": {
      "file_extension": ".jl",
      "mimetype": "application/julia",
      "name": "julia"
    },
    "gpuClass": "standard"
  },
  "cells": [
    {
      "cell_type": "markdown",
      "metadata": {
        "id": "view-in-github",
        "colab_type": "text"
      },
      "source": [
        "<a href=\"https://colab.research.google.com/github/lcbjrrr/quant/blob/master/J_NN.ipynb\" target=\"_parent\"><img src=\"https://colab.research.google.com/assets/colab-badge.svg\" alt=\"Open In Colab\"/></a>"
      ]
    },
    {
      "cell_type": "markdown",
      "source": [
        "**Topic:** AI/ML\n",
        "\n",
        "**Title:** Neural Network (with Flux)\n",
        "\n",
        "**Author:** Luiz Barboza\n",
        "\n",
        "**Date:** 20/dec/22\n",
        "\n",
        "**Lang:** Julia\n",
        "\n",
        "**Site:** https://quant-research.group/\n",
        "\n",
        "**Email:** contato@quant-research.group\n"
      ],
      "metadata": {
        "id": "S7PA-4AAW20F"
      }
    },
    {
      "cell_type": "markdown",
      "source": [
        "# Julia Installation"
      ],
      "metadata": {
        "id": "wTmedJrDW2pY"
      }
    },
    {
      "cell_type": "code",
      "metadata": {
        "id": "GIeFXS0F0zww",
        "colab": {
          "base_uri": "https://localhost:8080/"
        },
        "outputId": "d7b32796-5dc7-40b0-a776-ad7d545bb298"
      },
      "source": [
        "%%shell\n",
        "set -e\n",
        "\n",
        "#---------------------------------------------------#\n",
        "JULIA_VERSION=\"1.8.3\" # any version ≥ 0.7.0\n",
        "JULIA_PACKAGES=\"IJulia BenchmarkTools\"\n",
        "JULIA_PACKAGES_IF_GPU=\"CUDA\" # or CuArrays for older Julia versions\n",
        "JULIA_NUM_THREADS=2\n",
        "#---------------------------------------------------#\n",
        "\n",
        "if [ -z `which julia` ]; then\n",
        "  # Install Julia\n",
        "  JULIA_VER=`cut -d '.' -f -2 <<< \"$JULIA_VERSION\"`\n",
        "  echo \"Installing Julia $JULIA_VERSION on the current Colab Runtime...\"\n",
        "  BASE_URL=\"https://julialang-s3.julialang.org/bin/linux/x64\"\n",
        "  URL=\"$BASE_URL/$JULIA_VER/julia-$JULIA_VERSION-linux-x86_64.tar.gz\"\n",
        "  wget -nv $URL -O /tmp/julia.tar.gz # -nv means \"not verbose\"\n",
        "  tar -x -f /tmp/julia.tar.gz -C /usr/local --strip-components 1\n",
        "  rm /tmp/julia.tar.gz\n",
        "\n",
        "  # Install Packages\n",
        "  nvidia-smi -L &> /dev/null && export GPU=1 || export GPU=0\n",
        "  if [ $GPU -eq 1 ]; then\n",
        "    JULIA_PACKAGES=\"$JULIA_PACKAGES $JULIA_PACKAGES_IF_GPU\"\n",
        "  fi\n",
        "  for PKG in `echo $JULIA_PACKAGES`; do\n",
        "    echo \"Installing Julia package $PKG...\"\n",
        "    julia -e 'using Pkg; pkg\"add '$PKG'; precompile;\"' &> /dev/null\n",
        "  done\n",
        "\n",
        "  # Install kernel and rename it to \"julia\"\n",
        "  echo \"Installing IJulia kernel...\"\n",
        "  julia -e 'using IJulia; IJulia.installkernel(\"julia\", env=Dict(\n",
        "      \"JULIA_NUM_THREADS\"=>\"'\"$JULIA_NUM_THREADS\"'\"))'\n",
        "  KERNEL_DIR=`julia -e \"using IJulia; print(IJulia.kerneldir())\"`\n",
        "  KERNEL_NAME=`ls -d \"$KERNEL_DIR\"/julia*`\n",
        "  mv -f $KERNEL_NAME \"$KERNEL_DIR\"/julia  \n",
        "\n",
        "  echo ''\n",
        "  echo \"Successfully installed `julia -v`!\"\n",
        "  echo \"Please reload this page (press Ctrl+R, ⌘+R, or the F5 key) then\"\n",
        "  echo \"jump to the 'Checking the Installation' section.\"\n",
        "fi"
      ],
      "execution_count": null,
      "outputs": [
        {
          "output_type": "stream",
          "name": "stdout",
          "text": [
            "Installing Julia 1.8.3 on the current Colab Runtime...\n",
            "2023-01-05 21:16:00 URL:https://julialang-s3.julialang.org/bin/linux/x64/1.8/julia-1.8.3-linux-x86_64.tar.gz [130030846/130030846] -> \"/tmp/julia.tar.gz\" [1]\n",
            "Installing Julia package IJulia...\n",
            "Installing Julia package BenchmarkTools...\n",
            "Installing IJulia kernel...\n",
            "\u001b[36m\u001b[1m[ \u001b[22m\u001b[39m\u001b[36m\u001b[1mInfo: \u001b[22m\u001b[39mInstalling julia kernelspec in /root/.local/share/jupyter/kernels/julia-1.8\n",
            "\n",
            "Successfully installed julia version 1.8.3!\n",
            "Please reload this page (press Ctrl+R, ⌘+R, or the F5 key) then\n",
            "jump to the 'Checking the Installation' section.\n"
          ]
        },
        {
          "output_type": "execute_result",
          "data": {
            "text/plain": []
          },
          "metadata": {},
          "execution_count": 1
        }
      ]
    },
    {
      "cell_type": "code",
      "metadata": {
        "id": "EEzvvzCl1i0F",
        "colab": {
          "base_uri": "https://localhost:8080/"
        },
        "outputId": "e2bb5c9b-6588-4a75-cc28-7f2811a96a9c"
      },
      "source": [
        "versioninfo()"
      ],
      "execution_count": null,
      "outputs": [
        {
          "output_type": "stream",
          "name": "stdout",
          "text": [
            "Julia Version 1.8.3\n",
            "Commit 0434deb161e (2022-11-14 20:14 UTC)\n",
            "Platform Info:\n",
            "  OS: Linux (x86_64-linux-gnu)\n",
            "  CPU: 2 × AMD EPYC 7B12\n",
            "  WORD_SIZE: 64\n",
            "  LIBM: libopenlibm\n",
            "  LLVM: libLLVM-13.0.1 (ORCJIT, znver2)\n",
            "  Threads: 2 on 2 virtual cores\n",
            "Environment:\n",
            "  LD_LIBRARY_PATH = /usr/local/nvidia/lib:/usr/local/nvidia/lib64\n",
            "  LD_PRELOAD = /usr/lib/x86_64-linux-gnu/libtcmalloc.so.4\n",
            "  JULIA_NUM_THREADS = 2\n"
          ]
        }
      ]
    },
    {
      "cell_type": "markdown",
      "source": [
        "# Neural Networks (with Flux)"
      ],
      "metadata": {
        "id": "hiaTtbLZW9Kv"
      }
    },
    {
      "cell_type": "code",
      "source": [
        "import Pkg\n",
        "Pkg.add(\"CSV\")\n",
        "Pkg.add(\"DataFrames\")\n",
        "Pkg.add(\"Lathe\") \n",
        "Pkg.add(\"Flux\") \n",
        "Pkg.add(\"StatsBase\") \n",
        "Pkg.add(\"EvalMetrics\") \n",
        "\n",
        "using CSV\n",
        "using DataFrames\n",
        "using Lathe\n",
        "using Lathe.preprocess: TrainTestSplit\n",
        "using Flux\n",
        "using Flux: crossentropy, throttle\n",
        "using StatsBase\n",
        "using EvalMetrics"
      ],
      "metadata": {
        "id": "X_2hBMum0xfg"
      },
      "execution_count": null,
      "outputs": []
    },
    {
      "cell_type": "markdown",
      "source": [
        "## NN - Classification"
      ],
      "metadata": {
        "id": "UdqJFBU9n664"
      }
    },
    {
      "cell_type": "code",
      "source": [
        ";wget https://raw.githubusercontent.com/lcbjrrr/data/main/banking%20-%20train.csv\n"
      ],
      "metadata": {
        "id": "J4rThhldynQI"
      },
      "execution_count": null,
      "outputs": []
    },
    {
      "cell_type": "code",
      "source": [
        ";wget https://raw.githubusercontent.com/lcbjrrr/data/main/banking%20-%20tests.csv"
      ],
      "metadata": {
        "id": "FZ6nVmE5yqj7"
      },
      "execution_count": null,
      "outputs": []
    },
    {
      "cell_type": "code",
      "source": [
        "train=CSV.read(\"banking - train.csv\", DataFrame)\n",
        "first(train,5)"
      ],
      "metadata": {
        "id": "uUwv-VidynSc",
        "colab": {
          "base_uri": "https://localhost:8080/",
          "height": 198
        },
        "outputId": "4ae40c1c-c069-4852-d6c8-149bbd48537f"
      },
      "execution_count": null,
      "outputs": [
        {
          "output_type": "execute_result",
          "data": {
            "text/plain": [
              "\u001b[1m5×3 DataFrame\u001b[0m\n",
              "\u001b[1m Row \u001b[0m│\u001b[1m salary  \u001b[0m\u001b[1m balance \u001b[0m\u001b[1m default \u001b[0m\n",
              "\u001b[1m     \u001b[0m│\u001b[90m Float64 \u001b[0m\u001b[90m Float64 \u001b[0m\u001b[90m Int64   \u001b[0m\n",
              "─────┼───────────────────────────\n",
              "   1 │  1000.0    100.0        0\n",
              "   2 │   950.0     95.0        0\n",
              "   3 │   800.0     85.0        0\n",
              "   4 │  1100.0   5500.0        0\n",
              "   5 │   999.0   6000.0        0"
            ],
            "text/html": [
              "<table class=\"data-frame\"><thead><tr><th></th><th>salary</th><th>balance</th><th>default</th></tr><tr><th></th><th>Float64</th><th>Float64</th><th>Int64</th></tr></thead><tbody><p>5 rows × 3 columns</p><tr><th>1</th><td>1000.0</td><td>100.0</td><td>0</td></tr><tr><th>2</th><td>950.0</td><td>95.0</td><td>0</td></tr><tr><th>3</th><td>800.0</td><td>85.0</td><td>0</td></tr><tr><th>4</th><td>1100.0</td><td>5500.0</td><td>0</td></tr><tr><th>5</th><td>999.0</td><td>6000.0</td><td>0</td></tr></tbody></table>"
            ],
            "text/latex": "\\begin{tabular}{r|ccc}\n\t& salary & balance & default\\\\\n\t\\hline\n\t& Float64 & Float64 & Int64\\\\\n\t\\hline\n\t1 & 1000.0 & 100.0 & 0 \\\\\n\t2 & 950.0 & 95.0 & 0 \\\\\n\t3 & 800.0 & 85.0 & 0 \\\\\n\t4 & 1100.0 & 5500.0 & 0 \\\\\n\t5 & 999.0 & 6000.0 & 0 \\\\\n\\end{tabular}\n"
          },
          "metadata": {},
          "execution_count": 5
        }
      ]
    },
    {
      "cell_type": "code",
      "source": [
        "test=CSV.read(\"banking - tests.csv\", DataFrame)\n",
        "first(train,5)"
      ],
      "metadata": {
        "id": "6X2MHHD7ynUx",
        "colab": {
          "base_uri": "https://localhost:8080/",
          "height": 198
        },
        "outputId": "be534ab8-c9fe-4ced-a4d1-db0bad2ea0bd"
      },
      "execution_count": null,
      "outputs": [
        {
          "output_type": "execute_result",
          "data": {
            "text/plain": [
              "\u001b[1m5×3 DataFrame\u001b[0m\n",
              "\u001b[1m Row \u001b[0m│\u001b[1m salary  \u001b[0m\u001b[1m balance \u001b[0m\u001b[1m default \u001b[0m\n",
              "\u001b[1m     \u001b[0m│\u001b[90m Float64 \u001b[0m\u001b[90m Float64 \u001b[0m\u001b[90m Int64   \u001b[0m\n",
              "─────┼───────────────────────────\n",
              "   1 │  1000.0    100.0        0\n",
              "   2 │   950.0     95.0        0\n",
              "   3 │   800.0     85.0        0\n",
              "   4 │  1100.0   5500.0        0\n",
              "   5 │   999.0   6000.0        0"
            ],
            "text/html": [
              "<table class=\"data-frame\"><thead><tr><th></th><th>salary</th><th>balance</th><th>default</th></tr><tr><th></th><th>Float64</th><th>Float64</th><th>Int64</th></tr></thead><tbody><p>5 rows × 3 columns</p><tr><th>1</th><td>1000.0</td><td>100.0</td><td>0</td></tr><tr><th>2</th><td>950.0</td><td>95.0</td><td>0</td></tr><tr><th>3</th><td>800.0</td><td>85.0</td><td>0</td></tr><tr><th>4</th><td>1100.0</td><td>5500.0</td><td>0</td></tr><tr><th>5</th><td>999.0</td><td>6000.0</td><td>0</td></tr></tbody></table>"
            ],
            "text/latex": "\\begin{tabular}{r|ccc}\n\t& salary & balance & default\\\\\n\t\\hline\n\t& Float64 & Float64 & Int64\\\\\n\t\\hline\n\t1 & 1000.0 & 100.0 & 0 \\\\\n\t2 & 950.0 & 95.0 & 0 \\\\\n\t3 & 800.0 & 85.0 & 0 \\\\\n\t4 & 1100.0 & 5500.0 & 0 \\\\\n\t5 & 999.0 & 6000.0 & 0 \\\\\n\\end{tabular}\n"
          },
          "metadata": {},
          "execution_count": 7
        }
      ]
    },
    {
      "cell_type": "code",
      "source": [
        "X_train  = transpose(hcat([ row.salary for row in eachrow(train)],[ row.balance for row in eachrow(train)]))\n",
        "y_train = transpose([row.default for row in eachrow(train)])\n",
        "y_train"
      ],
      "metadata": {
        "id": "0cOa46WfynW6",
        "colab": {
          "base_uri": "https://localhost:8080/"
        },
        "outputId": "446d7ee2-0339-4dae-ec1d-b728c5cdb6b6"
      },
      "execution_count": 68,
      "outputs": [
        {
          "output_type": "execute_result",
          "data": {
            "text/plain": [
              "1×16 transpose(::Vector{Int64}) with eltype Int64:\n",
              " 0  0  0  0  0  0  0  0  0  1  1  1  0  0  0  0"
            ]
          },
          "metadata": {},
          "execution_count": 68
        }
      ]
    },
    {
      "cell_type": "code",
      "source": [
        "EP = 20\n",
        "N=length(y_train)\n",
        "BS=floor(Int,N/EP)\n",
        "data = Flux.Data.DataLoader((X_train, y_train), batchsize=BS,shuffle=true);\n",
        "nn    = Chain(\n",
        "  Dense(2,4, relu),\n",
        "  Dense(4,3, relu),\n",
        "  Dense(3,1,identity),\n",
        "  softmax\n",
        "  ) \n",
        "loss(x, y) = Flux.Losses.binarycrossentropy(nn(x), y)\n",
        "for i in 1:EP\n",
        "    # train (loss func, NN params, data/batches, optimizer)\n",
        "    Flux.train!(loss, Flux.params(nn), data,ADAM())\n",
        "end\n",
        "pred_train  =  transpose([nn(X_train[i:i+1])[1] for i in 1:2:N*2])\n",
        "pred_train"
      ],
      "metadata": {
        "id": "T_VUxSstyvxH",
        "colab": {
          "base_uri": "https://localhost:8080/"
        },
        "outputId": "a6badef4-1a31-4bd0-8a04-4d2a1e0ada35"
      },
      "execution_count": null,
      "outputs": [
        {
          "output_type": "execute_result",
          "data": {
            "text/plain": [
              "1×16 transpose(::Vector{Float64}) with eltype Float64:\n",
              " 1.0  1.0  1.0  1.0  1.0  1.0  1.0  1.0  …  1.0  1.0  1.0  1.0  1.0  1.0  1.0"
            ]
          },
          "metadata": {},
          "execution_count": 10
        }
      ]
    },
    {
      "cell_type": "code",
      "source": [
        "function accuracy(y,pred)\n",
        "  acc = sum(pred.==y)/length(y)\n",
        "  return acc\n",
        "end\n",
        "\n",
        "acc_train = accuracy(y_train, pred_train)\n",
        "print(\"Acc. Train: \",acc_train)"
      ],
      "metadata": {
        "id": "mlSPxGzmyvzZ",
        "colab": {
          "base_uri": "https://localhost:8080/"
        },
        "outputId": "e31605f9-495c-490e-fd73-a78f9db61666"
      },
      "execution_count": null,
      "outputs": [
        {
          "output_type": "stream",
          "name": "stdout",
          "text": [
            "Acc. Train: 0.1875"
          ]
        }
      ]
    },
    {
      "cell_type": "code",
      "source": [
        "X_test = transpose(hcat([ row.salary for row in eachrow(test)],[ row.balance for row in eachrow(test)]))\n",
        "y_test = transpose([row.default for row in eachrow(test)])\n",
        "print(y_test)\n"
      ],
      "metadata": {
        "id": "_8xFSA9myv1x",
        "colab": {
          "base_uri": "https://localhost:8080/"
        },
        "outputId": "2782618e-f74d-4da2-b78c-ae415538113b"
      },
      "execution_count": 69,
      "outputs": [
        {
          "output_type": "stream",
          "name": "stdout",
          "text": [
            "[1 0 0 0 0 0 0 1 0 1]"
          ]
        }
      ]
    },
    {
      "cell_type": "code",
      "source": [
        "pred_test  =  transpose([ Int64(nn(X_test[i:i+1])[1]) for i in 1:2:length(y_test)*2])\n",
        "print(pred_test)"
      ],
      "metadata": {
        "colab": {
          "base_uri": "https://localhost:8080/"
        },
        "id": "nHluieAE51wP",
        "outputId": "1d48783d-e590-43fe-f899-da07a3e606c9"
      },
      "execution_count": 70,
      "outputs": [
        {
          "output_type": "stream",
          "name": "stdout",
          "text": [
            "[1 1 1 1 1 1 1 1 1 1]"
          ]
        }
      ]
    },
    {
      "cell_type": "code",
      "source": [
        "acc_test = accuracy(y_test, pred_test)\n",
        "print(\"Acc. Test: \",acc_test)"
      ],
      "metadata": {
        "colab": {
          "base_uri": "https://localhost:8080/"
        },
        "id": "yrB3BZsFzcOA",
        "outputId": "f7527b66-3e39-4600-d514-4f9a1620610a"
      },
      "execution_count": 71,
      "outputs": [
        {
          "output_type": "stream",
          "name": "stdout",
          "text": [
            "Acc. Test: 0.3"
          ]
        }
      ]
    },
    {
      "cell_type": "code",
      "source": [
        "counts( y_test,pred_test)"
      ],
      "metadata": {
        "colab": {
          "base_uri": "https://localhost:8080/"
        },
        "id": "BeOCG4XFzcQT",
        "outputId": "ad027c11-eabf-4365-888b-ae568592319c"
      },
      "execution_count": 72,
      "outputs": [
        {
          "output_type": "execute_result",
          "data": {
            "text/plain": [
              "2×1 Matrix{Int64}:\n",
              " 7\n",
              " 3"
            ]
          },
          "metadata": {},
          "execution_count": 72
        }
      ]
    },
    {
      "cell_type": "code",
      "source": [
        "println(\"Precision: \",precision(vec(y_test),vec(pred_test)) )\n",
        "println(\"Recall: \" , recall(vec(y_test),vec(pred_test)) )"
      ],
      "metadata": {
        "colab": {
          "base_uri": "https://localhost:8080/"
        },
        "id": "Sb-yzDXtz1a8",
        "outputId": "4aca12b6-3032-4c37-eb3c-c01b58b019ee"
      },
      "execution_count": 74,
      "outputs": [
        {
          "output_type": "stream",
          "name": "stdout",
          "text": [
            "Precision: 0.3\n",
            "Recall: 1.0\n"
          ]
        }
      ]
    },
    {
      "cell_type": "markdown",
      "source": [
        "# Second Example: Gender"
      ],
      "metadata": {
        "id": "-ag9Zjuuyni5"
      }
    },
    {
      "cell_type": "code",
      "source": [
        ";wget https://raw.githubusercontent.com/lcbjrrr/data/main/gender%20-%20all.csv"
      ],
      "metadata": {
        "id": "xil7rD-eXPe2"
      },
      "execution_count": null,
      "outputs": []
    },
    {
      "cell_type": "code",
      "source": [
        "df=CSV.read(\"gender - all.csv\", DataFrame)\n",
        "first(df,5)"
      ],
      "metadata": {
        "colab": {
          "base_uri": "https://localhost:8080/",
          "height": 198
        },
        "id": "Fo8upgK8Xxjn",
        "outputId": "f6ab24a4-01cc-40ee-99b9-bf7c4b4e8cf7"
      },
      "execution_count": 76,
      "outputs": [
        {
          "output_type": "execute_result",
          "data": {
            "text/plain": [
              "\u001b[1m5×3 DataFrame\u001b[0m\n",
              "\u001b[1m Row \u001b[0m│\u001b[1m G     \u001b[0m\u001b[1m H       \u001b[0m\u001b[1m W        \u001b[0m\n",
              "\u001b[1m     \u001b[0m│\u001b[90m Int64 \u001b[0m\u001b[90m Float64 \u001b[0m\u001b[90m Float64  \u001b[0m\n",
              "─────┼──────────────────────────\n",
              "   1 │     0  187.571  109.952\n",
              "   2 │     0  174.706   73.7775\n",
              "   3 │     0  188.24    96.7004\n",
              "   4 │     0  182.197  100.019\n",
              "   5 │     0  177.5     93.7954"
            ],
            "text/html": [
              "<table class=\"data-frame\"><thead><tr><th></th><th>G</th><th>H</th><th>W</th></tr><tr><th></th><th>Int64</th><th>Float64</th><th>Float64</th></tr></thead><tbody><p>5 rows × 3 columns</p><tr><th>1</th><td>0</td><td>187.571</td><td>109.952</td></tr><tr><th>2</th><td>0</td><td>174.706</td><td>73.7775</td></tr><tr><th>3</th><td>0</td><td>188.24</td><td>96.7004</td></tr><tr><th>4</th><td>0</td><td>182.197</td><td>100.019</td></tr><tr><th>5</th><td>0</td><td>177.5</td><td>93.7954</td></tr></tbody></table>"
            ],
            "text/latex": "\\begin{tabular}{r|ccc}\n\t& G & H & W\\\\\n\t\\hline\n\t& Int64 & Float64 & Float64\\\\\n\t\\hline\n\t1 & 0 & 187.571 & 109.952 \\\\\n\t2 & 0 & 174.706 & 73.7775 \\\\\n\t3 & 0 & 188.24 & 96.7004 \\\\\n\t4 & 0 & 182.197 & 100.019 \\\\\n\t5 & 0 & 177.5 & 93.7954 \\\\\n\\end{tabular}\n"
          },
          "metadata": {},
          "execution_count": 76
        }
      ]
    },
    {
      "cell_type": "code",
      "source": [
        "train, test = TrainTestSplit(df,.70)"
      ],
      "metadata": {
        "id": "DsFmCCNAefeo"
      },
      "execution_count": null,
      "outputs": []
    },
    {
      "cell_type": "code",
      "source": [
        "X_train  = transpose(hcat([ row.H for row in eachrow(train)],[ row.W for row in eachrow(train)]))\n",
        "y_train = transpose([row.G for row in eachrow(train)])\n",
        "y_train"
      ],
      "metadata": {
        "colab": {
          "base_uri": "https://localhost:8080/"
        },
        "id": "711PsThLgXS3",
        "outputId": "27d04774-76b9-4fab-db8a-2af9d00767f0"
      },
      "execution_count": 78,
      "outputs": [
        {
          "output_type": "execute_result",
          "data": {
            "text/plain": [
              "1×6968 transpose(::Vector{Int64}) with eltype Int64:\n",
              " 0  0  0  0  0  0  0  0  0  0  0  0  0  …  1  1  1  1  1  1  1  1  1  1  1  1"
            ]
          },
          "metadata": {},
          "execution_count": 78
        }
      ]
    },
    {
      "cell_type": "code",
      "source": [
        "EP = 20\n",
        "N=length(y_train)\n",
        "BS=floor(Int,N/EP)\n",
        "data = Flux.Data.DataLoader((X_train, y_train), batchsize=BS,shuffle=true);\n",
        "nn    = Chain(\n",
        "  Dense(2,4, relu),\n",
        "  Dense(4,3, relu),\n",
        "  Dense(3,1,identity),\n",
        "  softmax\n",
        "  ) \n",
        "loss(x, y) = Flux.Losses.binarycrossentropy(nn(x), y)\n",
        "for i in 1:EP\n",
        "    # train (loss func, NN params, data/batches, optimizer)\n",
        "    Flux.train!(loss, Flux.params(nn), data,ADAM())\n",
        "end\n",
        "pred_train  =  transpose([nn(X_train[i:i+1])[1] for i in 1:2:N*2])\n",
        "pred_train"
      ],
      "metadata": {
        "id": "6_l9TSmorHrN",
        "colab": {
          "base_uri": "https://localhost:8080/"
        },
        "outputId": "8e95a242-46d4-44c0-f6a1-07a2b4db0d4d"
      },
      "execution_count": 79,
      "outputs": [
        {
          "output_type": "execute_result",
          "data": {
            "text/plain": [
              "1×6968 transpose(::Vector{Float64}) with eltype Float64:\n",
              " 1.0  1.0  1.0  1.0  1.0  1.0  1.0  1.0  …  1.0  1.0  1.0  1.0  1.0  1.0  1.0"
            ]
          },
          "metadata": {},
          "execution_count": 79
        }
      ]
    },
    {
      "cell_type": "code",
      "source": [
        "function accuracy(y,pred)\n",
        "  acc = sum(pred.==y)/length(y)\n",
        "  return acc\n",
        "end\n",
        "\n",
        "acc_train = accuracy(y_train, pred_train)\n",
        "print(\"Acc. Train: \",acc_train)"
      ],
      "metadata": {
        "colab": {
          "base_uri": "https://localhost:8080/"
        },
        "id": "YyqIFS8BlH6k",
        "outputId": "d14b6ae8-e7fa-4e56-d823-fb7dbbda2293"
      },
      "execution_count": 80,
      "outputs": [
        {
          "output_type": "stream",
          "name": "stdout",
          "text": [
            "Acc. Train: 0.5086107921928817"
          ]
        }
      ]
    },
    {
      "cell_type": "code",
      "source": [
        "X_test = transpose(hcat([ row.H for row in eachrow(test)],[ row.W for row in eachrow(test)]))\n",
        "y_test = transpose([row.G for row in eachrow(test)])\n",
        "\n",
        "pred_test  =  transpose([ Int64(nn(X_test[i:i+1])[1]) for i in 1:2:length(y_test)*2])\n"
      ],
      "metadata": {
        "colab": {
          "base_uri": "https://localhost:8080/"
        },
        "id": "9-zTZYsNjqGp",
        "outputId": "038866c4-0ef9-4040-b97e-3dfe22a89640"
      },
      "execution_count": 84,
      "outputs": [
        {
          "output_type": "execute_result",
          "data": {
            "text/plain": [
              "1×3032 transpose(::Vector{Int64}) with eltype Int64:\n",
              " 1  1  1  1  1  1  1  1  1  1  1  1  1  …  1  1  1  1  1  1  1  1  1  1  1  1"
            ]
          },
          "metadata": {},
          "execution_count": 84
        }
      ]
    },
    {
      "cell_type": "code",
      "source": [
        "acc_test = accuracy(y_test, pred_test)\n",
        "print(\"Acc. Test: \",acc_test)"
      ],
      "metadata": {
        "colab": {
          "base_uri": "https://localhost:8080/"
        },
        "id": "c7OQV8rR5mQk",
        "outputId": "10bed992-1978-4b0c-b0c1-091e8496fd1d"
      },
      "execution_count": 85,
      "outputs": [
        {
          "output_type": "stream",
          "name": "stdout",
          "text": [
            "Acc. Test: 0.48021108179419525"
          ]
        }
      ]
    },
    {
      "cell_type": "code",
      "source": [
        "counts( y_test,pred_test)"
      ],
      "metadata": {
        "colab": {
          "base_uri": "https://localhost:8080/"
        },
        "id": "GUkBr4iLiOTK",
        "outputId": "e7575952-638e-4d0c-e886-a0f4a33a62ef"
      },
      "execution_count": 86,
      "outputs": [
        {
          "output_type": "execute_result",
          "data": {
            "text/plain": [
              "2×1 Matrix{Int64}:\n",
              " 1576\n",
              " 1456"
            ]
          },
          "metadata": {},
          "execution_count": 86
        }
      ]
    },
    {
      "cell_type": "code",
      "source": [
        "println(\"Precision: \",precision(vec(y_test),vec(pred_test)) )\n",
        "println(\"Recall: \" , recall(vec(y_test),vec(pred_test)) )"
      ],
      "metadata": {
        "colab": {
          "base_uri": "https://localhost:8080/"
        },
        "id": "3OrmtJspiPUO",
        "outputId": "a431384e-ffb0-42d9-b0a7-202ab7dac912"
      },
      "execution_count": 87,
      "outputs": [
        {
          "output_type": "stream",
          "name": "stdout",
          "text": [
            "Precision: 0.48021108179419525\n",
            "Recall: 1.0\n"
          ]
        }
      ]
    },
    {
      "cell_type": "markdown",
      "source": [
        "\n",
        "\n",
        "```\n",
        "X_train  = [ [row.H,row.W] for row in eachrow(train)]\n",
        "y_train = [ row.G for row in eachrow(train)]\n",
        "batches = (Flux.batch(X_train),Flux.batch(y_train))\n",
        "nn = Chain(\n",
        "  Dense(2,4, relu),\n",
        "  Dense(4,3, relu),\n",
        "  Dense(3,1,identity),\n",
        "  softmax\n",
        "  )\n",
        "L(x,y)=Flux.crossentropy(nn(x), y)\n",
        "evalcb = () -> @show(L) \n",
        "for i in 1:11\n",
        "  Flux.train!(L,Flux.params(nn),[batches],ADAM(), cb = Flux.throttle(evalcb, 1))\n",
        "end\n",
        "pred_train  = [ nn(row[1]) for row in eachrow(X_train)]\n",
        "\n",
        "```\n",
        "\n"
      ],
      "metadata": {
        "id": "NPRgXaHSxWDY"
      }
    },
    {
      "cell_type": "markdown",
      "source": [
        "\n",
        "\n",
        "```\n",
        " \n",
        "#Auxiliary functions for generating our data\n",
        "function generate_real_data(n)\n",
        "    x1 = rand(1,n) .- 0.5\n",
        "    x2 = (x1 .* x1)*3 .+ randn(1,n)*0.1\n",
        "    return vcat(x1,x2)\n",
        "end\n",
        "function generate_fake_data(n)\n",
        "    θ  = 2*π*rand(1,n)\n",
        "    r  = rand(1,n)/3\n",
        "    x1 = @. r*cos(θ)\n",
        "    x2 = @. r*sin(θ)+0.5\n",
        "    return vcat(x1,x2)\n",
        "end\n",
        "# Creating our data\n",
        "train_size = 5000\n",
        "real = generate_real_data(train_size)\n",
        "fake = generate_fake_data(train_size)\n",
        "# Visualizing\n",
        "scatter(real[1,1:500],real[2,1:500])\n",
        "scatter!(fake[1,1:500],fake[2,1:500])\n",
        "function NeuralNetwork()\n",
        "    return Chain(\n",
        "            Dense(2, 25,relu),\n",
        "            Dense(25,1,x->σ.(x))\n",
        "            )\n",
        "end\n",
        "# Organizing the data in batches\n",
        "X    = hcat(real,fake)\n",
        "\n",
        "Y    = vcat(ones(train_size),zeros(train_size))\n",
        "\n",
        "data = Flux.Data.DataLoader((X, Y'), batchsize=100,shuffle=true);\n",
        "# Defining our model, optimization algorithm and loss function\n",
        "m    = NeuralNetwork()\n",
        "opt = Descent(0.05)\n",
        "loss(x, y) = sum(Flux.Losses.binarycrossentropy(m(x), y))\n",
        "# Training Method 1\n",
        "ps = Flux.params(m)\n",
        "epochs = 20\n",
        "for i in 1:epochs\n",
        "    Flux.train!(loss, ps, data, opt)\n",
        "end\n",
        "println(mean(m(real)),mean(m(fake))) # Print model prediction\n",
        "# Visualizing the model predictions\n",
        "scatter(real[1,1:100],real[2,1:100],zcolor=m(real)')\n",
        "scatter!(fake[1,1:100],fake[2,1:100],zcolor=m(fake)',legend=false)\n",
        "\n",
        "```\n",
        "\n"
      ],
      "metadata": {
        "id": "Ygk2xa7ZWENw"
      }
    }
  ]
}