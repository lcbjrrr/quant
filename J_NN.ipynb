{
  "nbformat": 4,
  "nbformat_minor": 0,
  "metadata": {
    "colab": {
      "provenance": [],
      "include_colab_link": true
    },
    "kernelspec": {
      "display_name": "Julia",
      "language": "julia",
      "name": "julia"
    },
    "language_info": {
      "file_extension": ".jl",
      "mimetype": "application/julia",
      "name": "julia"
    },
    "gpuClass": "standard"
  },
  "cells": [
    {
      "cell_type": "markdown",
      "metadata": {
        "id": "view-in-github",
        "colab_type": "text"
      },
      "source": [
        "<a href=\"https://colab.research.google.com/github/lcbjrrr/quant/blob/master/J_NN.ipynb\" target=\"_parent\"><img src=\"https://colab.research.google.com/assets/colab-badge.svg\" alt=\"Open In Colab\"/></a>"
      ]
    },
    {
      "cell_type": "markdown",
      "source": [
        "**Topic:** AI/ML\n",
        "\n",
        "**Title:** Neural Network (with Flux)\n",
        "\n",
        "**Author:** Luiz Barboza\n",
        "\n",
        "**Date:** 20/dec/22\n",
        "\n",
        "**Lang:** Julia\n",
        "\n",
        "**Site:** https://quant-research.group/\n",
        "\n",
        "**Email:** contato@quant-research.group\n"
      ],
      "metadata": {
        "id": "S7PA-4AAW20F"
      }
    },
    {
      "cell_type": "markdown",
      "source": [
        "# Julia Installation"
      ],
      "metadata": {
        "id": "wTmedJrDW2pY"
      }
    },
    {
      "cell_type": "code",
      "metadata": {
        "id": "GIeFXS0F0zww",
        "colab": {
          "base_uri": "https://localhost:8080/"
        },
        "outputId": "b7011bce-3acb-420b-b436-7a47bc635907"
      },
      "source": [
        "%%shell\n",
        "set -e\n",
        "\n",
        "#---------------------------------------------------#\n",
        "JULIA_VERSION=\"1.8.3\" # any version ≥ 0.7.0\n",
        "JULIA_PACKAGES=\"IJulia BenchmarkTools\"\n",
        "JULIA_PACKAGES_IF_GPU=\"CUDA\" # or CuArrays for older Julia versions\n",
        "JULIA_NUM_THREADS=2\n",
        "#---------------------------------------------------#\n",
        "\n",
        "if [ -z `which julia` ]; then\n",
        "  # Install Julia\n",
        "  JULIA_VER=`cut -d '.' -f -2 <<< \"$JULIA_VERSION\"`\n",
        "  echo \"Installing Julia $JULIA_VERSION on the current Colab Runtime...\"\n",
        "  BASE_URL=\"https://julialang-s3.julialang.org/bin/linux/x64\"\n",
        "  URL=\"$BASE_URL/$JULIA_VER/julia-$JULIA_VERSION-linux-x86_64.tar.gz\"\n",
        "  wget -nv $URL -O /tmp/julia.tar.gz # -nv means \"not verbose\"\n",
        "  tar -x -f /tmp/julia.tar.gz -C /usr/local --strip-components 1\n",
        "  rm /tmp/julia.tar.gz\n",
        "\n",
        "  # Install Packages\n",
        "  nvidia-smi -L &> /dev/null && export GPU=1 || export GPU=0\n",
        "  if [ $GPU -eq 1 ]; then\n",
        "    JULIA_PACKAGES=\"$JULIA_PACKAGES $JULIA_PACKAGES_IF_GPU\"\n",
        "  fi\n",
        "  for PKG in `echo $JULIA_PACKAGES`; do\n",
        "    echo \"Installing Julia package $PKG...\"\n",
        "    julia -e 'using Pkg; pkg\"add '$PKG'; precompile;\"' &> /dev/null\n",
        "  done\n",
        "\n",
        "  # Install kernel and rename it to \"julia\"\n",
        "  echo \"Installing IJulia kernel...\"\n",
        "  julia -e 'using IJulia; IJulia.installkernel(\"julia\", env=Dict(\n",
        "      \"JULIA_NUM_THREADS\"=>\"'\"$JULIA_NUM_THREADS\"'\"))'\n",
        "  KERNEL_DIR=`julia -e \"using IJulia; print(IJulia.kerneldir())\"`\n",
        "  KERNEL_NAME=`ls -d \"$KERNEL_DIR\"/julia*`\n",
        "  mv -f $KERNEL_NAME \"$KERNEL_DIR\"/julia  \n",
        "\n",
        "  echo ''\n",
        "  echo \"Successfully installed `julia -v`!\"\n",
        "  echo \"Please reload this page (press Ctrl+R, ⌘+R, or the F5 key) then\"\n",
        "  echo \"jump to the 'Checking the Installation' section.\"\n",
        "fi"
      ],
      "execution_count": null,
      "outputs": [
        {
          "output_type": "stream",
          "name": "stdout",
          "text": [
            "Installing Julia 1.8.3 on the current Colab Runtime...\n",
            "2022-12-21 20:55:19 URL:https://storage.googleapis.com/julialang2/bin/linux/x64/1.8/julia-1.8.3-linux-x86_64.tar.gz [130030846/130030846] -> \"/tmp/julia.tar.gz\" [1]\n",
            "Installing Julia package IJulia...\n"
          ]
        }
      ]
    },
    {
      "cell_type": "code",
      "metadata": {
        "id": "EEzvvzCl1i0F",
        "colab": {
          "base_uri": "https://localhost:8080/"
        },
        "outputId": "9d6ede8d-5a24-4a8a-e6aa-e5f6a903b526"
      },
      "source": [
        "versioninfo()"
      ],
      "execution_count": 1,
      "outputs": [
        {
          "output_type": "stream",
          "name": "stdout",
          "text": [
            "Julia Version 1.8.3\n",
            "Commit 0434deb161e (2022-11-14 20:14 UTC)\n",
            "Platform Info:\n",
            "  OS: Linux (x86_64-linux-gnu)\n",
            "  CPU: 2 × AMD EPYC 7B12\n",
            "  WORD_SIZE: 64\n",
            "  LIBM: libopenlibm\n",
            "  LLVM: libLLVM-13.0.1 (ORCJIT, znver2)\n",
            "  Threads: 2 on 2 virtual cores\n",
            "Environment:\n",
            "  LD_LIBRARY_PATH = /usr/local/nvidia/lib:/usr/local/nvidia/lib64\n",
            "  LD_PRELOAD = /usr/lib/x86_64-linux-gnu/libtcmalloc.so.4\n",
            "  JULIA_NUM_THREADS = 2\n"
          ]
        }
      ]
    },
    {
      "cell_type": "markdown",
      "source": [
        "# Neural Networks (with Flux)"
      ],
      "metadata": {
        "id": "hiaTtbLZW9Kv"
      }
    },
    {
      "cell_type": "code",
      "source": [
        "import Pkg\n",
        "Pkg.add(\"CSV\")\n",
        "Pkg.add(\"DataFrames\")\n",
        "Pkg.add(\"Lathe\") \n",
        "Pkg.add(\"Flux\") \n",
        "\n",
        "using CSV\n",
        "using DataFrames\n",
        "using Lathe\n",
        "using Lathe.preprocess: TrainTestSplit\n",
        "using Flux\n",
        "using Flux: crossentropy, throttle"
      ],
      "metadata": {
        "id": "X_2hBMum0xfg",
        "colab": {
          "base_uri": "https://localhost:8080/"
        },
        "outputId": "ac22d874-65e4-4200-8fb4-4bba17a805d5"
      },
      "execution_count": 73,
      "outputs": [
        {
          "output_type": "stream",
          "name": "stderr",
          "text": [
            "\u001b[32m\u001b[1m   Resolving\u001b[22m\u001b[39m package versions...\n",
            "\u001b[32m\u001b[1m  No Changes\u001b[22m\u001b[39m to `~/.julia/environments/v1.8/Project.toml`\n",
            "\u001b[32m\u001b[1m  No Changes\u001b[22m\u001b[39m to `~/.julia/environments/v1.8/Manifest.toml`\n",
            "\u001b[32m\u001b[1m   Resolving\u001b[22m\u001b[39m package versions...\n",
            "\u001b[32m\u001b[1m  No Changes\u001b[22m\u001b[39m to `~/.julia/environments/v1.8/Project.toml`\n",
            "\u001b[32m\u001b[1m  No Changes\u001b[22m\u001b[39m to `~/.julia/environments/v1.8/Manifest.toml`\n",
            "\u001b[32m\u001b[1m   Resolving\u001b[22m\u001b[39m package versions...\n",
            "\u001b[32m\u001b[1m  No Changes\u001b[22m\u001b[39m to `~/.julia/environments/v1.8/Project.toml`\n",
            "\u001b[32m\u001b[1m  No Changes\u001b[22m\u001b[39m to `~/.julia/environments/v1.8/Manifest.toml`\n",
            "\u001b[32m\u001b[1m   Resolving\u001b[22m\u001b[39m package versions...\n",
            "\u001b[32m\u001b[1m  No Changes\u001b[22m\u001b[39m to `~/.julia/environments/v1.8/Project.toml`\n",
            "\u001b[32m\u001b[1m  No Changes\u001b[22m\u001b[39m to `~/.julia/environments/v1.8/Manifest.toml`\n"
          ]
        }
      ]
    },
    {
      "cell_type": "markdown",
      "source": [
        "## NN - Classification"
      ],
      "metadata": {
        "id": "UdqJFBU9n664"
      }
    },
    {
      "cell_type": "code",
      "source": [
        ";wget https://raw.githubusercontent.com/lcbjrrr/data/main/gender%20-%20all.csv"
      ],
      "metadata": {
        "id": "xil7rD-eXPe2"
      },
      "execution_count": null,
      "outputs": []
    },
    {
      "cell_type": "code",
      "source": [
        "#read csv\n",
        "df=CSV.read(\"gender - all.csv\", DataFrame)\n",
        "first(df,5)"
      ],
      "metadata": {
        "colab": {
          "base_uri": "https://localhost:8080/",
          "height": 198
        },
        "id": "Fo8upgK8Xxjn",
        "outputId": "89d5f466-7368-4d99-f569-2373ee7ac59b"
      },
      "execution_count": 4,
      "outputs": [
        {
          "output_type": "execute_result",
          "data": {
            "text/plain": [
              "\u001b[1m5×3 DataFrame\u001b[0m\n",
              "\u001b[1m Row \u001b[0m│\u001b[1m G     \u001b[0m\u001b[1m H       \u001b[0m\u001b[1m W        \u001b[0m\n",
              "\u001b[1m     \u001b[0m│\u001b[90m Int64 \u001b[0m\u001b[90m Float64 \u001b[0m\u001b[90m Float64  \u001b[0m\n",
              "─────┼──────────────────────────\n",
              "   1 │     0  187.571  109.952\n",
              "   2 │     0  174.706   73.7775\n",
              "   3 │     0  188.24    96.7004\n",
              "   4 │     0  182.197  100.019\n",
              "   5 │     0  177.5     93.7954"
            ],
            "text/html": [
              "<table class=\"data-frame\"><thead><tr><th></th><th>G</th><th>H</th><th>W</th></tr><tr><th></th><th>Int64</th><th>Float64</th><th>Float64</th></tr></thead><tbody><p>5 rows × 3 columns</p><tr><th>1</th><td>0</td><td>187.571</td><td>109.952</td></tr><tr><th>2</th><td>0</td><td>174.706</td><td>73.7775</td></tr><tr><th>3</th><td>0</td><td>188.24</td><td>96.7004</td></tr><tr><th>4</th><td>0</td><td>182.197</td><td>100.019</td></tr><tr><th>5</th><td>0</td><td>177.5</td><td>93.7954</td></tr></tbody></table>"
            ],
            "text/latex": "\\begin{tabular}{r|ccc}\n\t& G & H & W\\\\\n\t\\hline\n\t& Int64 & Float64 & Float64\\\\\n\t\\hline\n\t1 & 0 & 187.571 & 109.952 \\\\\n\t2 & 0 & 174.706 & 73.7775 \\\\\n\t3 & 0 & 188.24 & 96.7004 \\\\\n\t4 & 0 & 182.197 & 100.019 \\\\\n\t5 & 0 & 177.5 & 93.7954 \\\\\n\\end{tabular}\n"
          },
          "metadata": {},
          "execution_count": 4
        }
      ]
    },
    {
      "cell_type": "code",
      "source": [
        "train, test = TrainTestSplit(df,.70)"
      ],
      "metadata": {
        "id": "DsFmCCNAefeo",
        "colab": {
          "base_uri": "https://localhost:8080/"
        },
        "outputId": "85e6f25f-ee71-49a1-b378-c60b16c04671"
      },
      "execution_count": 6,
      "outputs": [
        {
          "output_type": "execute_result",
          "data": {
            "text/plain": [
              "(\u001b[1m7016×3 DataFrame\u001b[0m\n",
              "\u001b[1m  Row \u001b[0m│\u001b[1m G     \u001b[0m\u001b[1m H       \u001b[0m\u001b[1m W        \u001b[0m\n",
              "\u001b[1m      \u001b[0m│\u001b[90m Int64 \u001b[0m\u001b[90m Float64 \u001b[0m\u001b[90m Float64  \u001b[0m\n",
              "──────┼──────────────────────────\n",
              "    1 │     0  187.571  109.952\n",
              "    2 │     0  174.706   73.7775\n",
              "    3 │     0  182.197  100.019\n",
              "    4 │     0  177.5     93.7954\n",
              "    5 │     0  170.823   69.1873\n",
              "    6 │     0  174.714   83.6036\n",
              "    7 │     0  173.605   76.3505\n",
              "    8 │     0  170.228   79.9679\n",
              "    9 │     0  161.179   71.0908\n",
              "   10 │     0  181.968   97.1551\n",
              "   11 │     0  164.506   75.967\n",
              "  ⋮   │   ⋮       ⋮        ⋮\n",
              " 7007 │     1  154.826   43.4939\n",
              " 7008 │     1  159.097   46.7516\n",
              " 7009 │     1  157.678   63.0417\n",
              " 7010 │     1  152.477   44.4034\n",
              " 7011 │     1  150.11    50.2408\n",
              " 7012 │     1  168.079   62.1716\n",
              " 7013 │     1  170.351   77.6672\n",
              " 7014 │     1  162.225   58.3979\n",
              " 7015 │     1  175.347   74.4784\n",
              " 7016 │     1  157.338   51.6587\n",
              "\u001b[36m                6995 rows omitted\u001b[0m, \u001b[1m2984×3 DataFrame\u001b[0m\n",
              "\u001b[1m  Row \u001b[0m│\u001b[1m G     \u001b[0m\u001b[1m H       \u001b[0m\u001b[1m W       \u001b[0m\n",
              "\u001b[1m      \u001b[0m│\u001b[90m Int64 \u001b[0m\u001b[90m Float64 \u001b[0m\u001b[90m Float64 \u001b[0m\n",
              "──────┼─────────────────────────\n",
              "    1 │     0  188.24   96.7004\n",
              "    2 │     0  180.836  84.8204\n",
              "    3 │     0  171.82   78.2668\n",
              "    4 │     0  162.495  78.5834\n",
              "    5 │     0  172.504  79.1436\n",
              "    6 │     0  176.376  89.8779\n",
              "    7 │     0  172.449  73.6394\n",
              "    8 │     0  184.914  94.0128\n",
              "    9 │     0  173.981  70.1557\n",
              "   10 │     0  181.682  88.651\n",
              "   11 │     0  175.453  89.7674\n",
              "  ⋮   │   ⋮       ⋮        ⋮\n",
              " 2975 │     1  160.081  60.9128\n",
              " 2976 │     1  165.84   64.455\n",
              " 2977 │     1  159.775  65.4865\n",
              " 2978 │     1  172.581  73.3099\n",
              " 2979 │     1  157.038  57.6965\n",
              " 2980 │     1  154.06   55.9474\n",
              " 2981 │     1  145.734  51.9055\n",
              " 2982 │     1  157.622  56.88\n",
              " 2983 │     1  149.979  50.7761\n",
              " 2984 │     1  160.476  64.2119\n",
              "\u001b[36m               2963 rows omitted\u001b[0m)"
            ]
          },
          "metadata": {},
          "execution_count": 6
        }
      ]
    },
    {
      "cell_type": "code",
      "source": [
        "X_train  = [ [row.H, row.W] for row in eachrow(train)]\n",
        "y_train = [ [row.G] for row in eachrow(train)]\n",
        "y_train"
      ],
      "metadata": {
        "colab": {
          "base_uri": "https://localhost:8080/"
        },
        "id": "711PsThLgXS3",
        "outputId": "17108904-78ef-4b74-f602-814b9f2e7aaa"
      },
      "execution_count": 64,
      "outputs": [
        {
          "output_type": "execute_result",
          "data": {
            "text/plain": [
              "7016-element Vector{Vector{Int64}}:\n",
              " [0]\n",
              " [0]\n",
              " [0]\n",
              " [0]\n",
              " [0]\n",
              " [0]\n",
              " [0]\n",
              " [0]\n",
              " [0]\n",
              " [0]\n",
              " [0]\n",
              " [0]\n",
              " [0]\n",
              " ⋮\n",
              " [1]\n",
              " [1]\n",
              " [1]\n",
              " [1]\n",
              " [1]\n",
              " [1]\n",
              " [1]\n",
              " [1]\n",
              " [1]\n",
              " [1]\n",
              " [1]\n",
              " [1]"
            ]
          },
          "metadata": {},
          "execution_count": 64
        }
      ]
    },
    {
      "cell_type": "code",
      "source": [
        "zip(X_train,y_train)"
      ],
      "metadata": {
        "colab": {
          "base_uri": "https://localhost:8080/"
        },
        "id": "otHnxHElrY6Y",
        "outputId": "de25a110-c1f3-4e3e-ab58-6b1201382686"
      },
      "execution_count": 101,
      "outputs": [
        {
          "output_type": "execute_result",
          "data": {
            "text/plain": [
              "zip([[187.5714232, 109.9516196], [174.7060363, 73.77748751], [182.1966851, 100.0193047], [177.4997615, 93.79536392], [170.8226598, 69.18734353], [174.7141064, 83.60358573], [173.6052294, 76.35050477], [170.2281321, 79.96792745], [161.1794947, 71.09076199], [181.967645, 97.15507704]  …  [154.825914, 43.49394288], [159.0971543, 46.75161964], [157.6776925, 63.04167285], [152.4773018, 44.4033783], [150.1095551, 50.24076622], [168.0785365, 62.17157008], [170.3505728, 77.66722995], [162.2247002, 58.39787217], [175.3469776, 74.47839152], [157.3383845, 51.65868303]], [[0], [0], [0], [0], [0], [0], [0], [0], [0], [0]  …  [1], [1], [1], [1], [1], [1], [1], [1], [1], [1]])"
            ]
          },
          "metadata": {},
          "execution_count": 101
        }
      ]
    },
    {
      "cell_type": "code",
      "source": [
        "nn = Chain(\n",
        "  Dense(2,4, relu),\n",
        "  Dense(4,3, relu),\n",
        "  Dense(3,1,identity),\n",
        "  softmax\n",
        "  )\n",
        "L(x,y)=Flux.crossentropy(nn(x), y)\n",
        "Flux.train!(L,Flux.params(nn),zip(X_train,y_train),ADAM())"
      ],
      "metadata": {
        "id": "6_l9TSmorHrN"
      },
      "execution_count": 130,
      "outputs": []
    },
    {
      "cell_type": "code",
      "source": [
        "pred_train  = [ nn(row[1]) for row in eachrow(X_train)]"
      ],
      "metadata": {
        "colab": {
          "base_uri": "https://localhost:8080/"
        },
        "id": "C1BLXAzkmyYZ",
        "outputId": "a1db8cd7-394f-4da7-f959-7c4d068e846b"
      },
      "execution_count": 131,
      "outputs": [
        {
          "output_type": "execute_result",
          "data": {
            "text/plain": [
              "7016-element Vector{Vector{Float64}}:\n",
              " [1.0]\n",
              " [1.0]\n",
              " [1.0]\n",
              " [1.0]\n",
              " [1.0]\n",
              " [1.0]\n",
              " [1.0]\n",
              " [1.0]\n",
              " [1.0]\n",
              " [1.0]\n",
              " [1.0]\n",
              " [1.0]\n",
              " [1.0]\n",
              " ⋮\n",
              " [1.0]\n",
              " [1.0]\n",
              " [1.0]\n",
              " [1.0]\n",
              " [1.0]\n",
              " [1.0]\n",
              " [1.0]\n",
              " [1.0]\n",
              " [1.0]\n",
              " [1.0]\n",
              " [1.0]\n",
              " [1.0]"
            ]
          },
          "metadata": {},
          "execution_count": 131
        }
      ]
    },
    {
      "cell_type": "code",
      "source": [
        "function accuracy(y,pred)\n",
        "  acc = sum(pred.==y)/length(y)\n",
        "  return acc\n",
        "end\n",
        "\n",
        "acc_train = accuracy(y_train, pred_train)\n",
        "print(\"Acc. Train: \",acc_train)"
      ],
      "metadata": {
        "colab": {
          "base_uri": "https://localhost:8080/"
        },
        "id": "YyqIFS8BlH6k",
        "outputId": "6018950c-b861-4129-9833-055e521fd3a6"
      },
      "execution_count": 132,
      "outputs": [
        {
          "output_type": "stream",
          "name": "stdout",
          "text": [
            "Acc. Train: 0.5"
          ]
        }
      ]
    },
    {
      "cell_type": "code",
      "source": [
        "X_test  = [ [row.H, row.W] for row in eachrow(test)]\n",
        "y_test = [ [row.G] for row in eachrow(test)]\n",
        "pred_test  = [ nn(row[1]) for row in eachrow(X_test)]\n",
        "acc_test = accuracy(y_test, pred_test)\n",
        "print(\"Acc. Test: \",acc_test)"
      ],
      "metadata": {
        "colab": {
          "base_uri": "https://localhost:8080/"
        },
        "id": "9-zTZYsNjqGp",
        "outputId": "1f22c39b-9a50-409e-aa4a-37539f5152b9"
      },
      "execution_count": 133,
      "outputs": [
        {
          "output_type": "stream",
          "name": "stdout",
          "text": [
            "Acc. Test: 0.5"
          ]
        }
      ]
    },
    {
      "cell_type": "markdown",
      "source": [
        "\n",
        "\n",
        "```\n",
        "batches = (Flux.batch(X_train),Flux.batch(y_train))\n",
        "nn = Chain(\n",
        "  Dense(2,4, relu),\n",
        "  Dense(4,3, relu),\n",
        "  Dense(3,1,identity),\n",
        "  softmax\n",
        "  )\n",
        "L(x,y)=Flux.crossentropy(nn(x), y)\n",
        "evalcb = () -> @show(L) \n",
        "for i in 1:11\n",
        "  Flux.train!(L,Flux.params(nn),[batches],ADAM(), cb = Flux.throttle(evalcb, 1))\n",
        "end\n",
        "```\n",
        "\n"
      ],
      "metadata": {
        "id": "NPRgXaHSxWDY"
      }
    }
  ]
}