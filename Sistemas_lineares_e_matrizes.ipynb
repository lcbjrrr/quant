{
  "nbformat": 4,
  "nbformat_minor": 0,
  "metadata": {
    "kernelspec": {
      "display_name": "Python 3",
      "language": "python",
      "name": "python3"
    },
    "language_info": {
      "codemirror_mode": {
        "name": "ipython",
        "version": 3
      },
      "file_extension": ".py",
      "mimetype": "text/x-python",
      "name": "python",
      "nbconvert_exporter": "python",
      "pygments_lexer": "ipython3",
      "version": "3.7.4"
    },
    "colab": {
      "name": "Sistemas_lineares_e_matrizes.ipynb",
      "provenance": [],
      "include_colab_link": true
    }
  },
  "cells": [
    {
      "cell_type": "markdown",
      "metadata": {
        "id": "view-in-github",
        "colab_type": "text"
      },
      "source": [
        "<a href=\"https://colab.research.google.com/github/lcbjrrr/quant/blob/master/Sistemas_lineares_e_matrizes.ipynb\" target=\"_parent\"><img src=\"https://colab.research.google.com/assets/colab-badge.svg\" alt=\"Open In Colab\"/></a>"
      ]
    },
    {
      "cell_type": "markdown",
      "metadata": {
        "id": "hU8HoNu5YTm-"
      },
      "source": [
        "# Ficha Técnica\n",
        "\n",
        "Disciplina - Algebra linear e Processos Dinâmicos.\n",
        "\n",
        "Conteúdo -\n",
        "\n",
        "- Resolução de sistemas lineares.\n",
        "\n",
        "- Representação matricial\n",
        "\n",
        "- Operações com linhas em matrizes.\n",
        "\n",
        "Autores: \n",
        "\n",
        "- Anderson Borba (anderson.aborba@professores.ibmec.edu.br) e\n",
        "\n",
        "- Luiz Barboza (luiz.cbjunior@professores.ibmec.edu.br).\n",
        "\n",
        "Endereço eletrônico: http://quant-ibmec.group/calculos/"
      ]
    },
    {
      "cell_type": "markdown",
      "metadata": {
        "id": "wffB2ykeYTnJ"
      },
      "source": [
        "# Sistemas de equações lineares:\n",
        "Um sistema linear de equações com $m$ equações e $n$ incógnitas é um conjunto de equações do tipo:\n",
        "\\begin{equation}\\nonumber\n",
        "    \\left\\{\n",
        "    \\begin{array}{ccccccccc}\n",
        "        a_{11}x_1&+& a_{12}x_2&+& \\cdots&+& a_{1n}x_{n}&=&b_1 \\\\\n",
        "        a_{21}x_1&+& a_{22}x_2&+& \\cdots&+& a_{2n}x_{n}&=&b_2 \\\\\n",
        "        \\vdots & \\vdots& && & &\\vdots &&\\vdots \\\\\n",
        "        a_{m1}x_1&+& a_{m2}x_2&+& \\cdots&+& a_{mn}x_{n}&=&b_n \\\\\n",
        "    \\end{array}\n",
        "    \\right.\n",
        "\\end{equation}\n",
        "A solução do sistema linear é uma $n-$upla de números $(x_1,x_2,\\cdots,x_n)$ que satisfaça simultaneamento a $m$ equações."
      ]
    },
    {
      "cell_type": "markdown",
      "metadata": {
        "id": "6cnoRTksYTnK"
      },
      "source": [
        "# Sistema linear na forma matricial:\n",
        "\\begin{equation}\\nonumber\n",
        "    \\left[\n",
        "    \\begin{array}{cccc}\n",
        "        a_{11}& a_{12}& \\cdots& a_{1n} \\\\\n",
        "        a_{21}& a_{22}& \\cdots& a_{2n} \\\\\n",
        "        \\vdots & \\vdots&  &\\vdots \\\\\n",
        "        a_{m1}& a_{m2}& \\cdots& a_{mn} \\\\\n",
        "    \\end{array}\n",
        "    \\right]\n",
        "    \\left[\n",
        "    \\begin{array}{c}\n",
        "        x_1 \\\\\n",
        "        x_2 \\\\\n",
        "        \\vdots \\\\\n",
        "        x_n \\\\\n",
        "    \\end{array}\n",
        "    \\right]=\n",
        "    \\left[\n",
        "    \\begin{array}{c}\n",
        "        b_1 \\\\\n",
        "        b_2 \\\\\n",
        "        \\vdots \\\\\n",
        "        b_n \\\\\n",
        "    \\end{array}\n",
        "    \\right]\n",
        "\\end{equation}\n",
        "Podemos escrever $Ax=b$."
      ]
    },
    {
      "cell_type": "markdown",
      "metadata": {
        "id": "zXdk5U8jYTnL"
      },
      "source": [
        "EX 1:\n",
        "\\begin{equation}\\nonumber\n",
        "    \\left\\{\n",
        "    \\begin{array}{cccccccc}\n",
        "         x_1&+& 4x_2&+& 3x_3&=& 1\\\\\n",
        "        2x_1&-& 5x_2&-& 4x_3&=& 4\\\\\n",
        "         x_1&-& 3x_2&-& 3x_3&=& 5\\\\\n",
        "    \\end{array}\n",
        "    \\right.,\n",
        "    \\left[\n",
        "    \\begin{array}{rrr|r}\n",
        "        1&  4&  3& 1\\\\\n",
        "        2&  5&  4& 4\\\\\n",
        "        1& -3& -2& 5\\\\\n",
        "    \\end{array}\n",
        "    \\right]\n",
        "\\end{equation}"
      ]
    },
    {
      "cell_type": "code",
      "metadata": {
        "id": "VAulDkFLYTnL",
        "colab": {
          "base_uri": "https://localhost:8080/"
        },
        "outputId": "340a8b52-a484-42f0-e45c-d41892ca35fb"
      },
      "source": [
        "import numpy as np\n",
        "import matplotlib.pyplot as plt\n",
        "import scipy.linalg as la\n",
        "\n",
        "A = np.array([[1.,4.,3.,1],[2.,5.,4.,4],[1.,-3.,-2.,5]])\n",
        "print(A)"
      ],
      "execution_count": null,
      "outputs": [
        {
          "output_type": "stream",
          "text": [
            "[[ 1.  4.  3.  1.]\n",
            " [ 2.  5.  4.  4.]\n",
            " [ 1. -3. -2.  5.]]\n"
          ],
          "name": "stdout"
        }
      ]
    },
    {
      "cell_type": "markdown",
      "metadata": {
        "id": "QG8oF5WdYTnN"
      },
      "source": [
        "Definindo a operação $L_2=>L_2-\\frac{a_{21}}{a_{11}}L_1$, isto é, $L_2=>L_2-\\frac{2}{1}L_1$"
      ]
    },
    {
      "cell_type": "code",
      "metadata": {
        "id": "Pr3oKIGJYTnN",
        "colab": {
          "base_uri": "https://localhost:8080/"
        },
        "outputId": "fa3622a6-168a-4b45-b8da-261d9c71c7a3"
      },
      "source": [
        "E1 = np.array([[1,0,0],[-2,1,0],[0,0,1]])\n",
        "print(E1)"
      ],
      "execution_count": null,
      "outputs": [
        {
          "output_type": "stream",
          "text": [
            "[[ 1  0  0]\n",
            " [-2  1  0]\n",
            " [ 0  0  1]]\n"
          ],
          "name": "stdout"
        }
      ]
    },
    {
      "cell_type": "markdown",
      "metadata": {
        "id": "3j7wKaj5YTnO"
      },
      "source": [
        "\\begin{equation}\\nonumber\n",
        "    \\left\\{\n",
        "    \\begin{array}{cccccccc}\n",
        "         x_1&+& 4x_2&+& 3x_3&=& 1\\\\\n",
        "        0x_1&-& 3x_2&-& 2x_3&=& 2\\\\\n",
        "         x_1&-& 3x_2&-& 2x_3&=& 5\\\\\n",
        "    \\end{array}\n",
        "    \\right.,\n",
        "    \\left[\n",
        "    \\begin{array}{rrr|r}\n",
        "        1&  4&  3& 1\\\\\n",
        "        0&  -3&  -2& 2\\\\\n",
        "        1& -3& -2& 5\\\\\n",
        "    \\end{array}\n",
        "    \\right]\n",
        "\\end{equation}"
      ]
    },
    {
      "cell_type": "code",
      "metadata": {
        "id": "Yk5FTOb1YTnO",
        "colab": {
          "base_uri": "https://localhost:8080/"
        },
        "outputId": "f369f532-52a9-41b2-c9fa-ac1a633945f5"
      },
      "source": [
        "E1 @ A"
      ],
      "execution_count": null,
      "outputs": [
        {
          "output_type": "execute_result",
          "data": {
            "text/plain": [
              "array([[ 1.,  4.,  3.,  1.],\n",
              "       [ 0., -3., -2.,  2.],\n",
              "       [ 1., -3., -2.,  5.]])"
            ]
          },
          "metadata": {
            "tags": []
          },
          "execution_count": 3
        }
      ]
    },
    {
      "cell_type": "markdown",
      "metadata": {
        "id": "FzE2bVbaYTnP"
      },
      "source": [
        "Definindo a operação $L_3=>L_3-\\frac{a_{31}}{a_{31}}L_1$, isto é, $L_3=>L_3-\\frac{1}{1}L_1$"
      ]
    },
    {
      "cell_type": "code",
      "metadata": {
        "id": "ugrAVDvaYTnQ",
        "colab": {
          "base_uri": "https://localhost:8080/"
        },
        "outputId": "7a4c8f0f-6372-4599-e21b-e87c60a2cd03"
      },
      "source": [
        "E2 = np.array([[1,0,0],[0,1,0],[-1,0,1]])\n",
        "print(E2)"
      ],
      "execution_count": null,
      "outputs": [
        {
          "output_type": "stream",
          "text": [
            "[[ 1  0  0]\n",
            " [ 0  1  0]\n",
            " [-1  0  1]]\n"
          ],
          "name": "stdout"
        }
      ]
    },
    {
      "cell_type": "markdown",
      "metadata": {
        "id": "eHA8xfCKYTnQ"
      },
      "source": [
        "\\begin{equation}\\nonumber\n",
        "    \\left\\{\n",
        "    \\begin{array}{cccccccc}\n",
        "         x_1&+& 4x_2&+& 3x_3&=& 1\\\\\n",
        "        0x_1&-& 3x_2&-& 2x_3&=& 2\\\\\n",
        "        0x_1&-& 7x_2&-& 5x_3&=& 4\\\\\n",
        "    \\end{array}\n",
        "    \\right.,\n",
        "    \\left[\n",
        "    \\begin{array}{rrr|r}\n",
        "        1&  4&  3& 1\\\\\n",
        "        0&  -3&  -2& 2\\\\\n",
        "        0& -7& -5& 4\\\\\n",
        "    \\end{array}\n",
        "    \\right]\n",
        "\\end{equation}"
      ]
    },
    {
      "cell_type": "code",
      "metadata": {
        "id": "Dawo9uUoYTnQ",
        "colab": {
          "base_uri": "https://localhost:8080/"
        },
        "outputId": "8f6ae465-b67b-4a3d-9b57-2a247ceaae3a"
      },
      "source": [
        "E2 @ E1 @ A\n"
      ],
      "execution_count": null,
      "outputs": [
        {
          "output_type": "execute_result",
          "data": {
            "text/plain": [
              "array([[ 1.,  4.,  3.,  1.],\n",
              "       [ 0., -3., -2.,  2.],\n",
              "       [ 0., -7., -5.,  4.]])"
            ]
          },
          "metadata": {
            "tags": []
          },
          "execution_count": 5
        }
      ]
    },
    {
      "cell_type": "markdown",
      "metadata": {
        "id": "QeQR6yDfYTnR"
      },
      "source": [
        "Definindo a operação $L_3=>L_3-\\frac{a_{32}}{a_{22}}L_2$, isto é, $L_3=>L_3-\\frac{7}{3}L_2$"
      ]
    },
    {
      "cell_type": "code",
      "metadata": {
        "id": "8nNQD3DsYTnR",
        "colab": {
          "base_uri": "https://localhost:8080/"
        },
        "outputId": "ec49c58c-d02f-435c-faec-fbe185bb3b34"
      },
      "source": [
        "E3 = np.array([[1,0,0],[0,1,0],[0,-7/3,1]])\n",
        "print(E3)"
      ],
      "execution_count": null,
      "outputs": [
        {
          "output_type": "stream",
          "text": [
            "[[ 1.          0.          0.        ]\n",
            " [ 0.          1.          0.        ]\n",
            " [ 0.         -2.33333333  1.        ]]\n"
          ],
          "name": "stdout"
        }
      ]
    },
    {
      "cell_type": "markdown",
      "metadata": {
        "id": "tm8jPG1iYTnR"
      },
      "source": [
        "Encontramos a matriz triangular superior equivalente: \n",
        "\\begin{equation}\\nonumber\n",
        "    \\left\\{\n",
        "    \\begin{array}{cccccccc}\n",
        "         x_1&+& 4x_2&+& 3x_3&=& 1\\\\\n",
        "        0x_1&-& 3x_2&-& 2x_3&=& 2\\\\\n",
        "        0x_1&-& 0x_2&-& \\frac{1}{3}x_3&=&-\\frac{2}{3} \\\\\n",
        "    \\end{array}\n",
        "    \\right.,\n",
        "    \\left[\n",
        "    \\begin{array}{rrr|r}\n",
        "        1&  4&  3& 1\\\\\n",
        "        0&  -3&  -2& 2\\\\\n",
        "        0& 0& -\\frac{1}{3}& -\\frac{2}{3}\\\\\n",
        "    \\end{array}\n",
        "    \\right]\n",
        "\\end{equation}"
      ]
    },
    {
      "cell_type": "code",
      "metadata": {
        "id": "jXxH3kp2YTnS",
        "colab": {
          "base_uri": "https://localhost:8080/"
        },
        "outputId": "3e6ff750-a784-49b9-f0b5-2d822e03b363"
      },
      "source": [
        "E = E3 @ E2 @ E1\n",
        "print(E)"
      ],
      "execution_count": null,
      "outputs": [
        {
          "output_type": "stream",
          "text": [
            "[[ 1.          0.          0.        ]\n",
            " [-2.          1.          0.        ]\n",
            " [ 3.66666667 -2.33333333  1.        ]]\n"
          ],
          "name": "stdout"
        }
      ]
    },
    {
      "cell_type": "code",
      "metadata": {
        "id": "0mz3hpQuYTnS",
        "colab": {
          "base_uri": "https://localhost:8080/"
        },
        "outputId": "9ee5dc0c-eb24-441f-9706-f99b5442e479"
      },
      "source": [
        "EQ = E @ A\n",
        "print(EQ)"
      ],
      "execution_count": null,
      "outputs": [
        {
          "output_type": "stream",
          "text": [
            "[[ 1.00000000e+00  4.00000000e+00  3.00000000e+00  1.00000000e+00]\n",
            " [ 0.00000000e+00 -3.00000000e+00 -2.00000000e+00  2.00000000e+00]\n",
            " [ 0.00000000e+00  4.44089210e-16 -3.33333333e-01 -6.66666667e-01]]\n"
          ],
          "name": "stdout"
        }
      ]
    },
    {
      "cell_type": "markdown",
      "metadata": {
        "id": "RLJBG7mDYTnT"
      },
      "source": [
        "Usamos a matriz equivalente E para encontrar o vetor solução aproximado $(x_1,x_2,x_3)$."
      ]
    },
    {
      "cell_type": "code",
      "metadata": {
        "id": "xEYQ57qtYTnT",
        "colab": {
          "base_uri": "https://localhost:8080/"
        },
        "outputId": "73630722-5fe9-4c1e-cc28-ae6e059c86a7"
      },
      "source": [
        "x3=EQ[2,3]/EQ[2,2]\n",
        "print(x3)"
      ],
      "execution_count": null,
      "outputs": [
        {
          "output_type": "stream",
          "text": [
            "1.9999999999999973\n"
          ],
          "name": "stdout"
        }
      ]
    },
    {
      "cell_type": "code",
      "metadata": {
        "id": "SkiEzJS4YTnT",
        "colab": {
          "base_uri": "https://localhost:8080/"
        },
        "outputId": "53efab5f-1caa-40b8-fa47-7de44c670ab2"
      },
      "source": [
        "x2=- 1/3 *(2 + 2 * x3) \n",
        "print(x2)"
      ],
      "execution_count": null,
      "outputs": [
        {
          "output_type": "stream",
          "text": [
            "-1.9999999999999982\n"
          ],
          "name": "stdout"
        }
      ]
    },
    {
      "cell_type": "code",
      "metadata": {
        "id": "WyjC-S6KYTnU",
        "colab": {
          "base_uri": "https://localhost:8080/"
        },
        "outputId": "1bc4c093-7cfc-4fe6-bb74-3031425eb715"
      },
      "source": [
        "x1= 1 - 4 * x2 - 3 * x3\n",
        "print(x1)"
      ],
      "execution_count": null,
      "outputs": [
        {
          "output_type": "stream",
          "text": [
            "3.000000000000001\n"
          ],
          "name": "stdout"
        }
      ]
    },
    {
      "cell_type": "markdown",
      "metadata": {
        "id": "HUPuh1xNYTnU"
      },
      "source": [
        "Encontramos a solução numéricamente $(x_1,x_2,x_3) = (3.000000000000001,-1.9999999999999982,1.9999999999999973)$. A solução exata é $(x_1,x_2,x_3)=(3,-2,2)$, assim podemos afirmar que a solução encontrada numéricamente aproxima a solução exata encontrada de forma algébrica. "
      ]
    },
    {
      "cell_type": "markdown",
      "metadata": {
        "id": "lDnllZ8aYTnU"
      },
      "source": [
        "Ex 2: a) Escrever o sistema linear na forma padrão,\n",
        "\\begin{equation}\\nonumber\n",
        "    \\left[\n",
        "    \\begin{array}{rrrrr|r}\n",
        "         1&  1&  2& 2&1& 1\\\\\n",
        "         2&  2&  4& 4&3& 1\\\\\n",
        "         2&  2&  4& 4&2& 2\\\\\n",
        "         3&  5& 8& 6&5& 3\\\\\n",
        "     \\end{array}\n",
        "\\right]\n",
        "\\end{equation}\n",
        "b) Resolver usando operações por linhas na forma matricial.     "
      ]
    },
    {
      "cell_type": "markdown",
      "metadata": {
        "id": "UiEI6H88YTnV"
      },
      "source": [
        "# Referências\n",
        "- Anton, Howard Rorres, Chris. Álgebra Linear com Aplicações. Editora Bookman- 2012.\n",
        "- https://www.math.ubc.ca/~pwalls/math-python/linear-algebra/solving-linear-systems/"
      ]
    }
  ]
}