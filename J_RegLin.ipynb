{
  "nbformat": 4,
  "nbformat_minor": 0,
  "metadata": {
    "colab": {
      "provenance": [],
      "include_colab_link": true
    },
    "kernelspec": {
      "display_name": "Julia",
      "language": "julia",
      "name": "julia"
    },
    "language_info": {
      "file_extension": ".jl",
      "mimetype": "application/julia",
      "name": "julia"
    },
    "gpuClass": "standard"
  },
  "cells": [
    {
      "cell_type": "markdown",
      "metadata": {
        "id": "view-in-github",
        "colab_type": "text"
      },
      "source": [
        "<a href=\"https://colab.research.google.com/github/lcbjrrr/quant/blob/master/J_RegLin.ipynb\" target=\"_parent\"><img src=\"https://colab.research.google.com/assets/colab-badge.svg\" alt=\"Open In Colab\"/></a>"
      ]
    },
    {
      "cell_type": "markdown",
      "source": [
        "**Topic:** AI/ML\n",
        "\n",
        "**Title:** Linear Regression\n",
        "\n",
        "**Author:** Luiz Barboza\n",
        "\n",
        "**Date:** 20/dec/22\n",
        "\n",
        "**Lang:** Julia\n",
        "\n",
        "**Site:** https://quant-research.group/\n",
        "\n",
        "**Email:** contato@quant-research.group\n"
      ],
      "metadata": {
        "id": "S7PA-4AAW20F"
      }
    },
    {
      "cell_type": "markdown",
      "source": [
        "# Julia Installation"
      ],
      "metadata": {
        "id": "wTmedJrDW2pY"
      }
    },
    {
      "cell_type": "code",
      "metadata": {
        "id": "GIeFXS0F0zww",
        "colab": {
          "base_uri": "https://localhost:8080/"
        },
        "outputId": "4dfae30a-9d71-4565-d66d-5f852d681dc5"
      },
      "source": [
        "%%shell\n",
        "set -e\n",
        "\n",
        "#---------------------------------------------------#\n",
        "JULIA_VERSION=\"1.8.3\" # any version ≥ 0.7.0\n",
        "JULIA_PACKAGES=\"IJulia BenchmarkTools\"\n",
        "JULIA_PACKAGES_IF_GPU=\"CUDA\" # or CuArrays for older Julia versions\n",
        "JULIA_NUM_THREADS=2\n",
        "#---------------------------------------------------#\n",
        "\n",
        "if [ -z `which julia` ]; then\n",
        "  # Install Julia\n",
        "  JULIA_VER=`cut -d '.' -f -2 <<< \"$JULIA_VERSION\"`\n",
        "  echo \"Installing Julia $JULIA_VERSION on the current Colab Runtime...\"\n",
        "  BASE_URL=\"https://julialang-s3.julialang.org/bin/linux/x64\"\n",
        "  URL=\"$BASE_URL/$JULIA_VER/julia-$JULIA_VERSION-linux-x86_64.tar.gz\"\n",
        "  wget -nv $URL -O /tmp/julia.tar.gz # -nv means \"not verbose\"\n",
        "  tar -x -f /tmp/julia.tar.gz -C /usr/local --strip-components 1\n",
        "  rm /tmp/julia.tar.gz\n",
        "\n",
        "  # Install Packages\n",
        "  nvidia-smi -L &> /dev/null && export GPU=1 || export GPU=0\n",
        "  if [ $GPU -eq 1 ]; then\n",
        "    JULIA_PACKAGES=\"$JULIA_PACKAGES $JULIA_PACKAGES_IF_GPU\"\n",
        "  fi\n",
        "  for PKG in `echo $JULIA_PACKAGES`; do\n",
        "    echo \"Installing Julia package $PKG...\"\n",
        "    julia -e 'using Pkg; pkg\"add '$PKG'; precompile;\"' &> /dev/null\n",
        "  done\n",
        "\n",
        "  # Install kernel and rename it to \"julia\"\n",
        "  echo \"Installing IJulia kernel...\"\n",
        "  julia -e 'using IJulia; IJulia.installkernel(\"julia\", env=Dict(\n",
        "      \"JULIA_NUM_THREADS\"=>\"'\"$JULIA_NUM_THREADS\"'\"))'\n",
        "  KERNEL_DIR=`julia -e \"using IJulia; print(IJulia.kerneldir())\"`\n",
        "  KERNEL_NAME=`ls -d \"$KERNEL_DIR\"/julia*`\n",
        "  mv -f $KERNEL_NAME \"$KERNEL_DIR\"/julia  \n",
        "\n",
        "  echo ''\n",
        "  echo \"Successfully installed `julia -v`!\"\n",
        "  echo \"Please reload this page (press Ctrl+R, ⌘+R, or the F5 key) then\"\n",
        "  echo \"jump to the 'Checking the Installation' section.\"\n",
        "fi"
      ],
      "execution_count": null,
      "outputs": [
        {
          "output_type": "stream",
          "name": "stdout",
          "text": [
            "Installing Julia 1.8.3 on the current Colab Runtime...\n",
            "2022-12-21 11:19:13 URL:https://storage.googleapis.com/julialang2/bin/linux/x64/1.8/julia-1.8.3-linux-x86_64.tar.gz [130030846/130030846] -> \"/tmp/julia.tar.gz\" [1]\n",
            "Installing Julia package IJulia...\n",
            "Installing Julia package BenchmarkTools...\n",
            "Installing IJulia kernel...\n",
            "\u001b[36m\u001b[1m[ \u001b[22m\u001b[39m\u001b[36m\u001b[1mInfo: \u001b[22m\u001b[39mInstalling julia kernelspec in /root/.local/share/jupyter/kernels/julia-1.8\n"
          ]
        }
      ]
    },
    {
      "cell_type": "code",
      "metadata": {
        "id": "EEzvvzCl1i0F",
        "colab": {
          "base_uri": "https://localhost:8080/"
        },
        "outputId": "7fc5563a-45e8-4d58-8220-1db1e3a6b13f"
      },
      "source": [
        "versioninfo()"
      ],
      "execution_count": null,
      "outputs": [
        {
          "output_type": "stream",
          "name": "stdout",
          "text": [
            "Julia Version 1.8.3\n",
            "Commit 0434deb161e (2022-11-14 20:14 UTC)\n",
            "Platform Info:\n",
            "  OS: Linux (x86_64-linux-gnu)\n",
            "  CPU: 2 × Intel(R) Xeon(R) CPU @ 2.20GHz\n",
            "  WORD_SIZE: 64\n",
            "  LIBM: libopenlibm\n",
            "  LLVM: libLLVM-13.0.1 (ORCJIT, broadwell)\n",
            "  Threads: 2 on 2 virtual cores\n",
            "Environment:\n",
            "  LD_LIBRARY_PATH = /usr/local/nvidia/lib:/usr/local/nvidia/lib64\n",
            "  LD_PRELOAD = /usr/lib/x86_64-linux-gnu/libtcmalloc.so.4\n",
            "  JULIA_NUM_THREADS = 2\n"
          ]
        }
      ]
    },
    {
      "cell_type": "markdown",
      "source": [
        "# Linear Regression"
      ],
      "metadata": {
        "id": "hiaTtbLZW9Kv"
      }
    },
    {
      "cell_type": "code",
      "source": [
        "import Pkg\n",
        "Pkg.add(\"CSV\")\n",
        "Pkg.add(\"DataFrames\")\n",
        "Pkg.add(\"Statistics\")\n",
        "Pkg.add(\"StatsPlots\")\n",
        "Pkg.add(\"GLM\")\n",
        "Pkg.add(\"MLBase\")\n",
        "Pkg.add(\"Lathe\") \n",
        "using CSV\n",
        "using DataFrames\n",
        "using Statistics\n",
        "using StatsPlots\n",
        "using GLM\n",
        "using MLBase\n",
        "using Lathe\n",
        "using Lathe.preprocess: TrainTestSplit\n"
      ],
      "metadata": {
        "id": "X_2hBMum0xfg"
      },
      "execution_count": null,
      "outputs": []
    },
    {
      "cell_type": "code",
      "source": [
        "Pkg.add(\"Lathe\")  \n",
        "using Lathe"
      ],
      "metadata": {
        "id": "5W-iCyvgcu_A"
      },
      "execution_count": null,
      "outputs": []
    },
    {
      "cell_type": "code",
      "source": [
        ";wget https://raw.githubusercontent.com/lcbjuk/ML/master/dados/notas%20-%20ok.csv "
      ],
      "metadata": {
        "id": "aFUf01iQboro"
      },
      "execution_count": null,
      "outputs": []
    },
    {
      "cell_type": "code",
      "source": [
        ";wget https://raw.githubusercontent.com/lcbjrrr/data/main/notas%20-%20tr.csv"
      ],
      "metadata": {
        "id": "0xUijpLobYY1"
      },
      "execution_count": null,
      "outputs": []
    },
    {
      "cell_type": "code",
      "source": [
        ";wget https://raw.githubusercontent.com/lcbjrrr/data/main/notas%20-%20ts.csv"
      ],
      "metadata": {
        "id": "xil7rD-eXPe2"
      },
      "execution_count": null,
      "outputs": []
    },
    {
      "cell_type": "code",
      "source": [
        "#read csv: train data\n",
        "train=CSV.read(\"notas - tr.csv\", DataFrame)\n",
        "first(train,5)"
      ],
      "metadata": {
        "colab": {
          "base_uri": "https://localhost:8080/",
          "height": 192
        },
        "id": "Fo8upgK8Xxjn",
        "outputId": "d679b08f-7d73-4823-a766-a73de0d7ec5d"
      },
      "execution_count": null,
      "outputs": [
        {
          "output_type": "execute_result",
          "data": {
            "text/plain": [
              "\u001b[1m5×3 DataFrame\u001b[0m\n",
              "\u001b[1m Row \u001b[0m│\u001b[1m AP1     \u001b[0m\u001b[1m AP2     \u001b[0m\u001b[1m AP3     \u001b[0m\n",
              "     │\u001b[90m Float64 \u001b[0m\u001b[90m Float64 \u001b[0m\u001b[90m Float64 \u001b[0m\n",
              "─────┼───────────────────────────\n",
              "   1 │    10.0     10.0      9.0\n",
              "   2 │     9.0     10.0      9.0\n",
              "   3 │     9.5     10.0     10.0\n",
              "   4 │     9.4      9.9      9.9\n",
              "   5 │     9.3      9.8      9.8"
            ],
            "text/html": [
              "<div><div style = \"float: left;\"><span>5×3 DataFrame</span></div><div style = \"clear: both;\"></div></div><div class = \"data-frame\" style = \"overflow-x: scroll;\"><table class = \"data-frame\" style = \"margin-bottom: 6px;\"><thead><tr class = \"header\"><th class = \"rowNumber\" style = \"font-weight: bold; text-align: right;\">Row</th><th style = \"text-align: left;\">AP1</th><th style = \"text-align: left;\">AP2</th><th style = \"text-align: left;\">AP3</th></tr><tr class = \"subheader headerLastRow\"><th class = \"rowNumber\" style = \"font-weight: bold; text-align: right;\"></th><th title = \"Float64\" style = \"text-align: left;\">Float64</th><th title = \"Float64\" style = \"text-align: left;\">Float64</th><th title = \"Float64\" style = \"text-align: left;\">Float64</th></tr></thead><tbody><tr><td class = \"rowNumber\" style = \"font-weight: bold; text-align: right;\">1</td><td style = \"text-align: right;\">10.0</td><td style = \"text-align: right;\">10.0</td><td style = \"text-align: right;\">9.0</td></tr><tr><td class = \"rowNumber\" style = \"font-weight: bold; text-align: right;\">2</td><td style = \"text-align: right;\">9.0</td><td style = \"text-align: right;\">10.0</td><td style = \"text-align: right;\">9.0</td></tr><tr><td class = \"rowNumber\" style = \"font-weight: bold; text-align: right;\">3</td><td style = \"text-align: right;\">9.5</td><td style = \"text-align: right;\">10.0</td><td style = \"text-align: right;\">10.0</td></tr><tr><td class = \"rowNumber\" style = \"font-weight: bold; text-align: right;\">4</td><td style = \"text-align: right;\">9.4</td><td style = \"text-align: right;\">9.9</td><td style = \"text-align: right;\">9.9</td></tr><tr><td class = \"rowNumber\" style = \"font-weight: bold; text-align: right;\">5</td><td style = \"text-align: right;\">9.3</td><td style = \"text-align: right;\">9.8</td><td style = \"text-align: right;\">9.8</td></tr></tbody></table></div>"
            ],
            "text/latex": "\\begin{tabular}{r|ccc}\n\t& AP1 & AP2 & AP3\\\\\n\t\\hline\n\t& Float64 & Float64 & Float64\\\\\n\t\\hline\n\t1 & 10.0 & 10.0 & 9.0 \\\\\n\t2 & 9.0 & 10.0 & 9.0 \\\\\n\t3 & 9.5 & 10.0 & 10.0 \\\\\n\t4 & 9.4 & 9.9 & 9.9 \\\\\n\t5 & 9.3 & 9.8 & 9.8 \\\\\n\\end{tabular}\n"
          },
          "metadata": {},
          "execution_count": 6
        }
      ]
    },
    {
      "cell_type": "code",
      "source": [
        "#read csv: test data\n",
        "test=CSV.read(\"notas - tr.csv\", DataFrame)\n",
        "first(test,3)"
      ],
      "metadata": {
        "colab": {
          "base_uri": "https://localhost:8080/",
          "height": 149
        },
        "id": "uHSv-9KZb01G",
        "outputId": "bf991983-00bc-4f60-e237-35b432ff9a5a"
      },
      "execution_count": null,
      "outputs": [
        {
          "output_type": "execute_result",
          "data": {
            "text/plain": [
              "\u001b[1m3×3 DataFrame\u001b[0m\n",
              "\u001b[1m Row \u001b[0m│\u001b[1m AP1     \u001b[0m\u001b[1m AP2     \u001b[0m\u001b[1m AP3     \u001b[0m\n",
              "     │\u001b[90m Float64 \u001b[0m\u001b[90m Float64 \u001b[0m\u001b[90m Float64 \u001b[0m\n",
              "─────┼───────────────────────────\n",
              "   1 │    10.0     10.0      9.0\n",
              "   2 │     9.0     10.0      9.0\n",
              "   3 │     9.5     10.0     10.0"
            ],
            "text/html": [
              "<div><div style = \"float: left;\"><span>3×3 DataFrame</span></div><div style = \"clear: both;\"></div></div><div class = \"data-frame\" style = \"overflow-x: scroll;\"><table class = \"data-frame\" style = \"margin-bottom: 6px;\"><thead><tr class = \"header\"><th class = \"rowNumber\" style = \"font-weight: bold; text-align: right;\">Row</th><th style = \"text-align: left;\">AP1</th><th style = \"text-align: left;\">AP2</th><th style = \"text-align: left;\">AP3</th></tr><tr class = \"subheader headerLastRow\"><th class = \"rowNumber\" style = \"font-weight: bold; text-align: right;\"></th><th title = \"Float64\" style = \"text-align: left;\">Float64</th><th title = \"Float64\" style = \"text-align: left;\">Float64</th><th title = \"Float64\" style = \"text-align: left;\">Float64</th></tr></thead><tbody><tr><td class = \"rowNumber\" style = \"font-weight: bold; text-align: right;\">1</td><td style = \"text-align: right;\">10.0</td><td style = \"text-align: right;\">10.0</td><td style = \"text-align: right;\">9.0</td></tr><tr><td class = \"rowNumber\" style = \"font-weight: bold; text-align: right;\">2</td><td style = \"text-align: right;\">9.0</td><td style = \"text-align: right;\">10.0</td><td style = \"text-align: right;\">9.0</td></tr><tr><td class = \"rowNumber\" style = \"font-weight: bold; text-align: right;\">3</td><td style = \"text-align: right;\">9.5</td><td style = \"text-align: right;\">10.0</td><td style = \"text-align: right;\">10.0</td></tr></tbody></table></div>"
            ],
            "text/latex": "\\begin{tabular}{r|ccc}\n\t& AP1 & AP2 & AP3\\\\\n\t\\hline\n\t& Float64 & Float64 & Float64\\\\\n\t\\hline\n\t1 & 10.0 & 10.0 & 9.0 \\\\\n\t2 & 9.0 & 10.0 & 9.0 \\\\\n\t3 & 9.5 & 10.0 & 10.0 \\\\\n\\end{tabular}\n"
          },
          "metadata": {},
          "execution_count": 7
        }
      ]
    },
    {
      "cell_type": "code",
      "source": [
        "#read csv: all\n",
        "df=CSV.read(\"notas - ok.csv\", DataFrame)\n",
        "first(test,3)"
      ],
      "metadata": {
        "colab": {
          "base_uri": "https://localhost:8080/",
          "height": 149
        },
        "id": "x00HXwt5bxYf",
        "outputId": "58fcc11f-b580-41bc-f447-e4ff58d026e9"
      },
      "execution_count": null,
      "outputs": [
        {
          "output_type": "execute_result",
          "data": {
            "text/plain": [
              "\u001b[1m3×3 DataFrame\u001b[0m\n",
              "\u001b[1m Row \u001b[0m│\u001b[1m AP1     \u001b[0m\u001b[1m AP2     \u001b[0m\u001b[1m AP3     \u001b[0m\n",
              "     │\u001b[90m Float64 \u001b[0m\u001b[90m Float64 \u001b[0m\u001b[90m Float64 \u001b[0m\n",
              "─────┼───────────────────────────\n",
              "   1 │    10.0     10.0      9.0\n",
              "   2 │     9.0     10.0      9.0\n",
              "   3 │     9.5     10.0     10.0"
            ],
            "text/html": [
              "<div><div style = \"float: left;\"><span>3×3 DataFrame</span></div><div style = \"clear: both;\"></div></div><div class = \"data-frame\" style = \"overflow-x: scroll;\"><table class = \"data-frame\" style = \"margin-bottom: 6px;\"><thead><tr class = \"header\"><th class = \"rowNumber\" style = \"font-weight: bold; text-align: right;\">Row</th><th style = \"text-align: left;\">AP1</th><th style = \"text-align: left;\">AP2</th><th style = \"text-align: left;\">AP3</th></tr><tr class = \"subheader headerLastRow\"><th class = \"rowNumber\" style = \"font-weight: bold; text-align: right;\"></th><th title = \"Float64\" style = \"text-align: left;\">Float64</th><th title = \"Float64\" style = \"text-align: left;\">Float64</th><th title = \"Float64\" style = \"text-align: left;\">Float64</th></tr></thead><tbody><tr><td class = \"rowNumber\" style = \"font-weight: bold; text-align: right;\">1</td><td style = \"text-align: right;\">10.0</td><td style = \"text-align: right;\">10.0</td><td style = \"text-align: right;\">9.0</td></tr><tr><td class = \"rowNumber\" style = \"font-weight: bold; text-align: right;\">2</td><td style = \"text-align: right;\">9.0</td><td style = \"text-align: right;\">10.0</td><td style = \"text-align: right;\">9.0</td></tr><tr><td class = \"rowNumber\" style = \"font-weight: bold; text-align: right;\">3</td><td style = \"text-align: right;\">9.5</td><td style = \"text-align: right;\">10.0</td><td style = \"text-align: right;\">10.0</td></tr></tbody></table></div>"
            ],
            "text/latex": "\\begin{tabular}{r|ccc}\n\t& AP1 & AP2 & AP3\\\\\n\t\\hline\n\t& Float64 & Float64 & Float64\\\\\n\t\\hline\n\t1 & 10.0 & 10.0 & 9.0 \\\\\n\t2 & 9.0 & 10.0 & 9.0 \\\\\n\t3 & 9.5 & 10.0 & 10.0 \\\\\n\\end{tabular}\n"
          },
          "metadata": {},
          "execution_count": 8
        }
      ]
    },
    {
      "cell_type": "markdown",
      "source": [
        "## Correlation and Scatterplot"
      ],
      "metadata": {
        "id": "0bS4feerbrB3"
      }
    },
    {
      "cell_type": "code",
      "source": [
        "#Correlation\n",
        "cor(df.AP2,df.AP3)"
      ],
      "metadata": {
        "colab": {
          "base_uri": "https://localhost:8080/"
        },
        "id": "bsWK7Ix5Yonb",
        "outputId": "f836aec3-8052-4378-d39b-d588766dae05"
      },
      "execution_count": null,
      "outputs": [
        {
          "output_type": "execute_result",
          "data": {
            "text/plain": [
              "0.952690666552573"
            ]
          },
          "metadata": {},
          "execution_count": 12
        }
      ]
    },
    {
      "cell_type": "code",
      "source": [
        "scatter(df.AP2,df.AP3)"
      ],
      "metadata": {
        "colab": {
          "base_uri": "https://localhost:8080/",
          "height": 421
        },
        "id": "afIQBgDaZ-6a",
        "outputId": "431e7729-36fd-4f50-b3dc-b967e8c5e836"
      },
      "execution_count": null,
      "outputs": [
        {
          "output_type": "execute_result",
          "data": {
            "image/svg+xml": "<?xml version=\"1.0\" encoding=\"utf-8\"?>\n<svg xmlns=\"http://www.w3.org/2000/svg\" xmlns:xlink=\"http://www.w3.org/1999/xlink\" width=\"600\" height=\"400\" viewBox=\"0 0 2400 1600\">\n<defs>\n  <clipPath id=\"clip920\">\n    <rect x=\"0\" y=\"0\" width=\"2400\" height=\"1600\"/>\n  </clipPath>\n</defs>\n<path clip-path=\"url(#clip920)\" d=\"\nM0 1600 L2400 1600 L2400 0 L0 0  Z\n  \" fill=\"#ffffff\" fill-rule=\"evenodd\" fill-opacity=\"1\"/>\n<defs>\n  <clipPath id=\"clip921\">\n    <rect x=\"480\" y=\"0\" width=\"1681\" height=\"1600\"/>\n  </clipPath>\n</defs>\n<path clip-path=\"url(#clip920)\" d=\"\nM138.959 1486.45 L2352.76 1486.45 L2352.76 47.2441 L138.959 47.2441  Z\n  \" fill=\"#ffffff\" fill-rule=\"evenodd\" fill-opacity=\"1\"/>\n<defs>\n  <clipPath id=\"clip922\">\n    <rect x=\"138\" y=\"47\" width=\"2215\" height=\"1440\"/>\n  </clipPath>\n</defs>\n<polyline clip-path=\"url(#clip922)\" style=\"stroke:#000000; stroke-linecap:round; stroke-linejoin:round; stroke-width:2; stroke-opacity:0.1; fill:none\" points=\"\n  201.614,1486.45 201.614,47.2441 \n  \"/>\n<polyline clip-path=\"url(#clip922)\" style=\"stroke:#000000; stroke-linecap:round; stroke-linejoin:round; stroke-width:2; stroke-opacity:0.1; fill:none\" points=\"\n  549.695,1486.45 549.695,47.2441 \n  \"/>\n<polyline clip-path=\"url(#clip922)\" style=\"stroke:#000000; stroke-linecap:round; stroke-linejoin:round; stroke-width:2; stroke-opacity:0.1; fill:none\" points=\"\n  897.776,1486.45 897.776,47.2441 \n  \"/>\n<polyline clip-path=\"url(#clip922)\" style=\"stroke:#000000; stroke-linecap:round; stroke-linejoin:round; stroke-width:2; stroke-opacity:0.1; fill:none\" points=\"\n  1245.86,1486.45 1245.86,47.2441 \n  \"/>\n<polyline clip-path=\"url(#clip922)\" style=\"stroke:#000000; stroke-linecap:round; stroke-linejoin:round; stroke-width:2; stroke-opacity:0.1; fill:none\" points=\"\n  1593.94,1486.45 1593.94,47.2441 \n  \"/>\n<polyline clip-path=\"url(#clip922)\" style=\"stroke:#000000; stroke-linecap:round; stroke-linejoin:round; stroke-width:2; stroke-opacity:0.1; fill:none\" points=\"\n  1942.02,1486.45 1942.02,47.2441 \n  \"/>\n<polyline clip-path=\"url(#clip922)\" style=\"stroke:#000000; stroke-linecap:round; stroke-linejoin:round; stroke-width:2; stroke-opacity:0.1; fill:none\" points=\"\n  2290.1,1486.45 2290.1,47.2441 \n  \"/>\n<polyline clip-path=\"url(#clip920)\" style=\"stroke:#000000; stroke-linecap:round; stroke-linejoin:round; stroke-width:4; stroke-opacity:1; fill:none\" points=\"\n  138.959,1486.45 2352.76,1486.45 \n  \"/>\n<polyline clip-path=\"url(#clip920)\" style=\"stroke:#000000; stroke-linecap:round; stroke-linejoin:round; stroke-width:4; stroke-opacity:1; fill:none\" points=\"\n  201.614,1486.45 201.614,1467.55 \n  \"/>\n<polyline clip-path=\"url(#clip920)\" style=\"stroke:#000000; stroke-linecap:round; stroke-linejoin:round; stroke-width:4; stroke-opacity:1; fill:none\" points=\"\n  549.695,1486.45 549.695,1467.55 \n  \"/>\n<polyline clip-path=\"url(#clip920)\" style=\"stroke:#000000; stroke-linecap:round; stroke-linejoin:round; stroke-width:4; stroke-opacity:1; fill:none\" points=\"\n  897.776,1486.45 897.776,1467.55 \n  \"/>\n<polyline clip-path=\"url(#clip920)\" style=\"stroke:#000000; stroke-linecap:round; stroke-linejoin:round; stroke-width:4; stroke-opacity:1; fill:none\" points=\"\n  1245.86,1486.45 1245.86,1467.55 \n  \"/>\n<polyline clip-path=\"url(#clip920)\" style=\"stroke:#000000; stroke-linecap:round; stroke-linejoin:round; stroke-width:4; stroke-opacity:1; fill:none\" points=\"\n  1593.94,1486.45 1593.94,1467.55 \n  \"/>\n<polyline clip-path=\"url(#clip920)\" style=\"stroke:#000000; stroke-linecap:round; stroke-linejoin:round; stroke-width:4; stroke-opacity:1; fill:none\" points=\"\n  1942.02,1486.45 1942.02,1467.55 \n  \"/>\n<polyline clip-path=\"url(#clip920)\" style=\"stroke:#000000; stroke-linecap:round; stroke-linejoin:round; stroke-width:4; stroke-opacity:1; fill:none\" points=\"\n  2290.1,1486.45 2290.1,1467.55 \n  \"/>\n<path clip-path=\"url(#clip920)\" d=\"M204.623 1518.36 L192.818 1536.81 L204.623 1536.81 L204.623 1518.36 M203.396 1514.29 L209.276 1514.29 L209.276 1536.81 L214.207 1536.81 L214.207 1540.7 L209.276 1540.7 L209.276 1548.85 L204.623 1548.85 L204.623 1540.7 L189.022 1540.7 L189.022 1536.19 L203.396 1514.29 Z\" fill=\"#000000\" fill-rule=\"evenodd\" fill-opacity=\"1\" /><path clip-path=\"url(#clip920)\" d=\"M539.973 1514.29 L558.329 1514.29 L558.329 1518.22 L544.255 1518.22 L544.255 1526.7 Q545.274 1526.35 546.293 1526.19 Q547.311 1526 548.33 1526 Q554.117 1526 557.496 1529.17 Q560.876 1532.34 560.876 1537.76 Q560.876 1543.34 557.404 1546.44 Q553.931 1549.52 547.612 1549.52 Q545.436 1549.52 543.168 1549.15 Q540.922 1548.78 538.515 1548.04 L538.515 1543.34 Q540.598 1544.47 542.82 1545.03 Q545.043 1545.58 547.519 1545.58 Q551.524 1545.58 553.862 1543.48 Q556.2 1541.37 556.2 1537.76 Q556.2 1534.15 553.862 1532.04 Q551.524 1529.94 547.519 1529.94 Q545.644 1529.94 543.769 1530.35 Q541.918 1530.77 539.973 1531.65 L539.973 1514.29 Z\" fill=\"#000000\" fill-rule=\"evenodd\" fill-opacity=\"1\" /><path clip-path=\"url(#clip920)\" d=\"M898.182 1529.7 Q895.033 1529.7 893.182 1531.86 Q891.353 1534.01 891.353 1537.76 Q891.353 1541.49 893.182 1543.66 Q895.033 1545.82 898.182 1545.82 Q901.33 1545.82 903.158 1543.66 Q905.01 1541.49 905.01 1537.76 Q905.01 1534.01 903.158 1531.86 Q901.33 1529.7 898.182 1529.7 M907.464 1515.05 L907.464 1519.31 Q905.705 1518.48 903.899 1518.04 Q902.117 1517.6 900.357 1517.6 Q895.728 1517.6 893.274 1520.72 Q890.844 1523.85 890.496 1530.17 Q891.862 1528.15 893.922 1527.09 Q895.982 1526 898.459 1526 Q903.668 1526 906.677 1529.17 Q909.709 1532.32 909.709 1537.76 Q909.709 1543.08 906.561 1546.3 Q903.413 1549.52 898.182 1549.52 Q892.186 1549.52 889.015 1544.94 Q885.844 1540.33 885.844 1531.6 Q885.844 1523.41 889.733 1518.55 Q893.621 1513.66 900.172 1513.66 Q901.932 1513.66 903.714 1514.01 Q905.519 1514.36 907.464 1515.05 Z\" fill=\"#000000\" fill-rule=\"evenodd\" fill-opacity=\"1\" /><path clip-path=\"url(#clip920)\" d=\"M1234.75 1514.29 L1256.97 1514.29 L1256.97 1516.28 L1244.42 1548.85 L1239.54 1548.85 L1251.34 1518.22 L1234.75 1518.22 L1234.75 1514.29 Z\" fill=\"#000000\" fill-rule=\"evenodd\" fill-opacity=\"1\" /><path clip-path=\"url(#clip920)\" d=\"M1593.94 1532.44 Q1590.61 1532.44 1588.68 1534.22 Q1586.79 1536 1586.79 1539.13 Q1586.79 1542.25 1588.68 1544.03 Q1590.61 1545.82 1593.94 1545.82 Q1597.27 1545.82 1599.19 1544.03 Q1601.11 1542.23 1601.11 1539.13 Q1601.11 1536 1599.19 1534.22 Q1597.3 1532.44 1593.94 1532.44 M1589.26 1530.45 Q1586.25 1529.7 1584.56 1527.64 Q1582.9 1525.58 1582.9 1522.62 Q1582.9 1518.48 1585.84 1516.07 Q1588.8 1513.66 1593.94 1513.66 Q1599.1 1513.66 1602.04 1516.07 Q1604.98 1518.48 1604.98 1522.62 Q1604.98 1525.58 1603.29 1527.64 Q1601.62 1529.7 1598.64 1530.45 Q1602.02 1531.23 1603.89 1533.52 Q1605.79 1535.82 1605.79 1539.13 Q1605.79 1544.15 1602.71 1546.83 Q1599.66 1549.52 1593.94 1549.52 Q1588.22 1549.52 1585.14 1546.83 Q1582.09 1544.15 1582.09 1539.13 Q1582.09 1535.82 1583.99 1533.52 Q1585.88 1531.23 1589.26 1530.45 M1587.55 1523.06 Q1587.55 1525.75 1589.22 1527.25 Q1590.91 1528.76 1593.94 1528.76 Q1596.95 1528.76 1598.64 1527.25 Q1600.35 1525.75 1600.35 1523.06 Q1600.35 1520.38 1598.64 1518.87 Q1596.95 1517.37 1593.94 1517.37 Q1590.91 1517.37 1589.22 1518.87 Q1587.55 1520.38 1587.55 1523.06 Z\" fill=\"#000000\" fill-rule=\"evenodd\" fill-opacity=\"1\" /><path clip-path=\"url(#clip920)\" d=\"M1932.32 1548.13 L1932.32 1543.87 Q1934.08 1544.7 1935.89 1545.14 Q1937.69 1545.58 1939.43 1545.58 Q1944.06 1545.58 1946.49 1542.48 Q1948.94 1539.36 1949.29 1533.01 Q1947.95 1535.01 1945.89 1536.07 Q1943.83 1537.13 1941.33 1537.13 Q1936.14 1537.13 1933.11 1534.01 Q1930.1 1530.86 1930.1 1525.42 Q1930.1 1520.1 1933.25 1516.88 Q1936.4 1513.66 1941.63 1513.66 Q1947.62 1513.66 1950.77 1518.27 Q1953.94 1522.85 1953.94 1531.6 Q1953.94 1539.77 1950.05 1544.66 Q1946.19 1549.52 1939.64 1549.52 Q1937.88 1549.52 1936.07 1549.17 Q1934.27 1548.82 1932.32 1548.13 M1941.63 1533.48 Q1944.77 1533.48 1946.6 1531.32 Q1948.46 1529.17 1948.46 1525.42 Q1948.46 1521.7 1946.6 1519.54 Q1944.77 1517.37 1941.63 1517.37 Q1938.48 1517.37 1936.63 1519.54 Q1934.8 1521.7 1934.8 1525.42 Q1934.8 1529.17 1936.63 1531.32 Q1938.48 1533.48 1941.63 1533.48 Z\" fill=\"#000000\" fill-rule=\"evenodd\" fill-opacity=\"1\" /><path clip-path=\"url(#clip920)\" d=\"M2264.79 1544.91 L2272.43 1544.91 L2272.43 1518.55 L2264.12 1520.21 L2264.12 1515.95 L2272.38 1514.29 L2277.06 1514.29 L2277.06 1544.91 L2284.7 1544.91 L2284.7 1548.85 L2264.79 1548.85 L2264.79 1544.91 Z\" fill=\"#000000\" fill-rule=\"evenodd\" fill-opacity=\"1\" /><path clip-path=\"url(#clip920)\" d=\"M2304.14 1517.37 Q2300.53 1517.37 2298.7 1520.93 Q2296.9 1524.47 2296.9 1531.6 Q2296.9 1538.71 2298.7 1542.27 Q2300.53 1545.82 2304.14 1545.82 Q2307.77 1545.82 2309.58 1542.27 Q2311.41 1538.71 2311.41 1531.6 Q2311.41 1524.47 2309.58 1520.93 Q2307.77 1517.37 2304.14 1517.37 M2304.14 1513.66 Q2309.95 1513.66 2313.01 1518.27 Q2316.08 1522.85 2316.08 1531.6 Q2316.08 1540.33 2313.01 1544.94 Q2309.95 1549.52 2304.14 1549.52 Q2298.33 1549.52 2295.25 1544.94 Q2292.2 1540.33 2292.2 1531.6 Q2292.2 1522.85 2295.25 1518.27 Q2298.33 1513.66 2304.14 1513.66 Z\" fill=\"#000000\" fill-rule=\"evenodd\" fill-opacity=\"1\" /><polyline clip-path=\"url(#clip922)\" style=\"stroke:#000000; stroke-linecap:round; stroke-linejoin:round; stroke-width:2; stroke-opacity:0.1; fill:none\" points=\"\n  138.959,1341.27 2352.76,1341.27 \n  \"/>\n<polyline clip-path=\"url(#clip922)\" style=\"stroke:#000000; stroke-linecap:round; stroke-linejoin:round; stroke-width:2; stroke-opacity:0.1; fill:none\" points=\"\n  138.959,1132.39 2352.76,1132.39 \n  \"/>\n<polyline clip-path=\"url(#clip922)\" style=\"stroke:#000000; stroke-linecap:round; stroke-linejoin:round; stroke-width:2; stroke-opacity:0.1; fill:none\" points=\"\n  138.959,923.508 2352.76,923.508 \n  \"/>\n<polyline clip-path=\"url(#clip922)\" style=\"stroke:#000000; stroke-linecap:round; stroke-linejoin:round; stroke-width:2; stroke-opacity:0.1; fill:none\" points=\"\n  138.959,714.625 2352.76,714.625 \n  \"/>\n<polyline clip-path=\"url(#clip922)\" style=\"stroke:#000000; stroke-linecap:round; stroke-linejoin:round; stroke-width:2; stroke-opacity:0.1; fill:none\" points=\"\n  138.959,505.742 2352.76,505.742 \n  \"/>\n<polyline clip-path=\"url(#clip922)\" style=\"stroke:#000000; stroke-linecap:round; stroke-linejoin:round; stroke-width:2; stroke-opacity:0.1; fill:none\" points=\"\n  138.959,296.859 2352.76,296.859 \n  \"/>\n<polyline clip-path=\"url(#clip922)\" style=\"stroke:#000000; stroke-linecap:round; stroke-linejoin:round; stroke-width:2; stroke-opacity:0.1; fill:none\" points=\"\n  138.959,87.9763 2352.76,87.9763 \n  \"/>\n<polyline clip-path=\"url(#clip920)\" style=\"stroke:#000000; stroke-linecap:round; stroke-linejoin:round; stroke-width:4; stroke-opacity:1; fill:none\" points=\"\n  138.959,1486.45 138.959,47.2441 \n  \"/>\n<polyline clip-path=\"url(#clip920)\" style=\"stroke:#000000; stroke-linecap:round; stroke-linejoin:round; stroke-width:4; stroke-opacity:1; fill:none\" points=\"\n  138.959,1341.27 157.857,1341.27 \n  \"/>\n<polyline clip-path=\"url(#clip920)\" style=\"stroke:#000000; stroke-linecap:round; stroke-linejoin:round; stroke-width:4; stroke-opacity:1; fill:none\" points=\"\n  138.959,1132.39 157.857,1132.39 \n  \"/>\n<polyline clip-path=\"url(#clip920)\" style=\"stroke:#000000; stroke-linecap:round; stroke-linejoin:round; stroke-width:4; stroke-opacity:1; fill:none\" points=\"\n  138.959,923.508 157.857,923.508 \n  \"/>\n<polyline clip-path=\"url(#clip920)\" style=\"stroke:#000000; stroke-linecap:round; stroke-linejoin:round; stroke-width:4; stroke-opacity:1; fill:none\" points=\"\n  138.959,714.625 157.857,714.625 \n  \"/>\n<polyline clip-path=\"url(#clip920)\" style=\"stroke:#000000; stroke-linecap:round; stroke-linejoin:round; stroke-width:4; stroke-opacity:1; fill:none\" points=\"\n  138.959,505.742 157.857,505.742 \n  \"/>\n<polyline clip-path=\"url(#clip920)\" style=\"stroke:#000000; stroke-linecap:round; stroke-linejoin:round; stroke-width:4; stroke-opacity:1; fill:none\" points=\"\n  138.959,296.859 157.857,296.859 \n  \"/>\n<polyline clip-path=\"url(#clip920)\" style=\"stroke:#000000; stroke-linecap:round; stroke-linejoin:round; stroke-width:4; stroke-opacity:1; fill:none\" points=\"\n  138.959,87.9763 157.857,87.9763 \n  \"/>\n<path clip-path=\"url(#clip920)\" d=\"M93.3762 1328.07 L81.5707 1346.52 L93.3762 1346.52 L93.3762 1328.07 M92.1493 1323.99 L98.0289 1323.99 L98.0289 1346.52 L102.959 1346.52 L102.959 1350.41 L98.0289 1350.41 L98.0289 1358.55 L93.3762 1358.55 L93.3762 1350.41 L77.7744 1350.41 L77.7744 1345.89 L92.1493 1323.99 Z\" fill=\"#000000\" fill-rule=\"evenodd\" fill-opacity=\"1\" /><path clip-path=\"url(#clip920)\" d=\"M82.0568 1115.11 L100.413 1115.11 L100.413 1119.05 L86.3392 1119.05 L86.3392 1127.52 Q87.3577 1127.17 88.3762 1127.01 Q89.3947 1126.82 90.4132 1126.82 Q96.2002 1126.82 99.5798 1130 Q102.959 1133.17 102.959 1138.58 Q102.959 1144.16 99.4872 1147.26 Q96.015 1150.34 89.6956 1150.34 Q87.5197 1150.34 85.2512 1149.97 Q83.0058 1149.6 80.5984 1148.86 L80.5984 1144.16 Q82.6818 1145.3 84.904 1145.85 Q87.1262 1146.41 89.603 1146.41 Q93.6076 1146.41 95.9456 1144.3 Q98.2835 1142.19 98.2835 1138.58 Q98.2835 1134.97 95.9456 1132.87 Q93.6076 1130.76 89.603 1130.76 Q87.728 1130.76 85.8531 1131.18 Q84.0012 1131.59 82.0568 1132.47 L82.0568 1115.11 Z\" fill=\"#000000\" fill-rule=\"evenodd\" fill-opacity=\"1\" /><path clip-path=\"url(#clip920)\" d=\"M91.4317 921.645 Q88.2836 921.645 86.4318 923.798 Q84.6031 925.95 84.6031 929.7 Q84.6031 933.427 86.4318 935.603 Q88.2836 937.756 91.4317 937.756 Q94.5799 937.756 96.4085 935.603 Q98.2604 933.427 98.2604 929.7 Q98.2604 925.95 96.4085 923.798 Q94.5799 921.645 91.4317 921.645 M100.714 906.992 L100.714 911.251 Q98.9548 910.418 97.1493 909.978 Q95.3669 909.538 93.6076 909.538 Q88.978 909.538 86.5243 912.663 Q84.0938 915.788 83.7466 922.108 Q85.1123 920.094 87.1725 919.029 Q89.2327 917.941 91.7095 917.941 Q96.9178 917.941 99.927 921.112 Q102.959 924.261 102.959 929.7 Q102.959 935.024 99.8113 938.242 Q96.6632 941.46 91.4317 941.46 Q85.4364 941.46 82.2651 936.876 Q79.0938 932.27 79.0938 923.543 Q79.0938 915.349 82.9827 910.487 Q86.8716 905.603 93.4225 905.603 Q95.1817 905.603 96.9641 905.95 Q98.7696 906.298 100.714 906.992 Z\" fill=\"#000000\" fill-rule=\"evenodd\" fill-opacity=\"1\" /><path clip-path=\"url(#clip920)\" d=\"M80.7373 697.345 L102.959 697.345 L102.959 699.336 L90.4132 731.905 L85.529 731.905 L97.3345 701.28 L80.7373 701.28 L80.7373 697.345 Z\" fill=\"#000000\" fill-rule=\"evenodd\" fill-opacity=\"1\" /><path clip-path=\"url(#clip920)\" d=\"M91.1077 506.61 Q87.7743 506.61 85.8531 508.393 Q83.9549 510.175 83.9549 513.3 Q83.9549 516.425 85.8531 518.207 Q87.7743 519.99 91.1077 519.99 Q94.441 519.99 96.3623 518.207 Q98.2835 516.402 98.2835 513.3 Q98.2835 510.175 96.3623 508.393 Q94.4641 506.61 91.1077 506.61 M86.4318 504.62 Q83.4225 503.879 81.7327 501.819 Q80.066 499.758 80.066 496.796 Q80.066 492.652 83.0058 490.245 Q85.9688 487.837 91.1077 487.837 Q96.2697 487.837 99.2095 490.245 Q102.149 492.652 102.149 496.796 Q102.149 499.758 100.459 501.819 Q98.7928 503.879 95.8067 504.62 Q99.1863 505.407 101.061 507.698 Q102.959 509.99 102.959 513.3 Q102.959 518.323 99.8808 521.008 Q96.8252 523.694 91.1077 523.694 Q85.3901 523.694 82.3114 521.008 Q79.2559 518.323 79.2559 513.3 Q79.2559 509.99 81.154 507.698 Q83.0521 505.407 86.4318 504.62 M84.7188 497.235 Q84.7188 499.921 86.3855 501.425 Q88.0753 502.93 91.1077 502.93 Q94.1169 502.93 95.8067 501.425 Q97.5197 499.921 97.5197 497.235 Q97.5197 494.55 95.8067 493.046 Q94.1169 491.541 91.1077 491.541 Q88.0753 491.541 86.3855 493.046 Q84.7188 494.55 84.7188 497.235 Z\" fill=\"#000000\" fill-rule=\"evenodd\" fill-opacity=\"1\" /><path clip-path=\"url(#clip920)\" d=\"M81.3392 313.422 L81.3392 309.162 Q83.0984 309.996 84.904 310.436 Q86.7095 310.875 88.4456 310.875 Q93.0752 310.875 95.5058 307.774 Q97.9595 304.649 98.3067 298.306 Q96.9641 300.297 94.9039 301.362 Q92.8438 302.426 90.3438 302.426 Q85.1586 302.426 82.1262 299.301 Q79.117 296.153 79.117 290.713 Q79.117 285.389 82.2651 282.172 Q85.4132 278.954 90.6447 278.954 Q96.64 278.954 99.7882 283.561 Q102.959 288.144 102.959 296.894 Q102.959 305.065 99.0706 309.949 Q95.2049 314.811 88.654 314.811 Q86.8947 314.811 85.0892 314.463 Q83.2836 314.116 81.3392 313.422 M90.6447 298.769 Q93.7928 298.769 95.6215 296.616 Q97.4734 294.463 97.4734 290.713 Q97.4734 286.987 95.6215 284.834 Q93.7928 282.658 90.6447 282.658 Q87.4966 282.658 85.6447 284.834 Q83.816 286.987 83.816 290.713 Q83.816 294.463 85.6447 296.616 Q87.4966 298.769 90.6447 298.769 Z\" fill=\"#000000\" fill-rule=\"evenodd\" fill-opacity=\"1\" /><path clip-path=\"url(#clip920)\" d=\"M51.6634 101.321 L59.3023 101.321 L59.3023 74.9555 L50.9921 76.6222 L50.9921 72.3629 L59.256 70.6963 L63.9319 70.6963 L63.9319 101.321 L71.5707 101.321 L71.5707 105.256 L51.6634 105.256 L51.6634 101.321 Z\" fill=\"#000000\" fill-rule=\"evenodd\" fill-opacity=\"1\" /><path clip-path=\"url(#clip920)\" d=\"M91.0151 73.775 Q87.404 73.775 85.5753 77.3398 Q83.7697 80.8814 83.7697 88.011 Q83.7697 95.1174 85.5753 98.6822 Q87.404 102.224 91.0151 102.224 Q94.6493 102.224 96.4548 98.6822 Q98.2835 95.1174 98.2835 88.011 Q98.2835 80.8814 96.4548 77.3398 Q94.6493 73.775 91.0151 73.775 M91.0151 70.0713 Q96.8252 70.0713 99.8808 74.6777 Q102.959 79.261 102.959 88.011 Q102.959 96.7378 99.8808 101.344 Q96.8252 105.928 91.0151 105.928 Q85.2049 105.928 82.1262 101.344 Q79.0707 96.7378 79.0707 88.011 Q79.0707 79.261 82.1262 74.6777 Q85.2049 70.0713 91.0151 70.0713 Z\" fill=\"#000000\" fill-rule=\"evenodd\" fill-opacity=\"1\" /><circle clip-path=\"url(#clip922)\" cx=\"2290.1\" cy=\"296.859\" r=\"14.4\" fill=\"#009af9\" fill-rule=\"evenodd\" fill-opacity=\"1\" stroke=\"#000000\" stroke-opacity=\"1\" stroke-width=\"3.2\"/>\n<circle clip-path=\"url(#clip922)\" cx=\"2290.1\" cy=\"296.859\" r=\"14.4\" fill=\"#009af9\" fill-rule=\"evenodd\" fill-opacity=\"1\" stroke=\"#000000\" stroke-opacity=\"1\" stroke-width=\"3.2\"/>\n<circle clip-path=\"url(#clip922)\" cx=\"2290.1\" cy=\"87.9763\" r=\"14.4\" fill=\"#009af9\" fill-rule=\"evenodd\" fill-opacity=\"1\" stroke=\"#000000\" stroke-opacity=\"1\" stroke-width=\"3.2\"/>\n<circle clip-path=\"url(#clip922)\" cx=\"2255.29\" cy=\"108.865\" r=\"14.4\" fill=\"#009af9\" fill-rule=\"evenodd\" fill-opacity=\"1\" stroke=\"#000000\" stroke-opacity=\"1\" stroke-width=\"3.2\"/>\n<circle clip-path=\"url(#clip922)\" cx=\"2220.49\" cy=\"129.753\" r=\"14.4\" fill=\"#009af9\" fill-rule=\"evenodd\" fill-opacity=\"1\" stroke=\"#000000\" stroke-opacity=\"1\" stroke-width=\"3.2\"/>\n<circle clip-path=\"url(#clip922)\" cx=\"2185.68\" cy=\"150.641\" r=\"14.4\" fill=\"#009af9\" fill-rule=\"evenodd\" fill-opacity=\"1\" stroke=\"#000000\" stroke-opacity=\"1\" stroke-width=\"3.2\"/>\n<circle clip-path=\"url(#clip922)\" cx=\"2150.87\" cy=\"171.529\" r=\"14.4\" fill=\"#009af9\" fill-rule=\"evenodd\" fill-opacity=\"1\" stroke=\"#000000\" stroke-opacity=\"1\" stroke-width=\"3.2\"/>\n<circle clip-path=\"url(#clip922)\" cx=\"2116.06\" cy=\"192.418\" r=\"14.4\" fill=\"#009af9\" fill-rule=\"evenodd\" fill-opacity=\"1\" stroke=\"#000000\" stroke-opacity=\"1\" stroke-width=\"3.2\"/>\n<circle clip-path=\"url(#clip922)\" cx=\"1245.86\" cy=\"1132.39\" r=\"14.4\" fill=\"#009af9\" fill-rule=\"evenodd\" fill-opacity=\"1\" stroke=\"#000000\" stroke-opacity=\"1\" stroke-width=\"3.2\"/>\n<circle clip-path=\"url(#clip922)\" cx=\"897.776\" cy=\"1341.27\" r=\"14.4\" fill=\"#009af9\" fill-rule=\"evenodd\" fill-opacity=\"1\" stroke=\"#000000\" stroke-opacity=\"1\" stroke-width=\"3.2\"/>\n<circle clip-path=\"url(#clip922)\" cx=\"1071.82\" cy=\"1236.83\" r=\"14.4\" fill=\"#009af9\" fill-rule=\"evenodd\" fill-opacity=\"1\" stroke=\"#000000\" stroke-opacity=\"1\" stroke-width=\"3.2\"/>\n<circle clip-path=\"url(#clip922)\" cx=\"1037.01\" cy=\"1257.72\" r=\"14.4\" fill=\"#009af9\" fill-rule=\"evenodd\" fill-opacity=\"1\" stroke=\"#000000\" stroke-opacity=\"1\" stroke-width=\"3.2\"/>\n<circle clip-path=\"url(#clip922)\" cx=\"1002.2\" cy=\"1278.61\" r=\"14.4\" fill=\"#009af9\" fill-rule=\"evenodd\" fill-opacity=\"1\" stroke=\"#000000\" stroke-opacity=\"1\" stroke-width=\"3.2\"/>\n<circle clip-path=\"url(#clip922)\" cx=\"967.393\" cy=\"1299.5\" r=\"14.4\" fill=\"#009af9\" fill-rule=\"evenodd\" fill-opacity=\"1\" stroke=\"#000000\" stroke-opacity=\"1\" stroke-width=\"3.2\"/>\n<circle clip-path=\"url(#clip922)\" cx=\"932.585\" cy=\"1320.39\" r=\"14.4\" fill=\"#009af9\" fill-rule=\"evenodd\" fill-opacity=\"1\" stroke=\"#000000\" stroke-opacity=\"1\" stroke-width=\"3.2\"/>\n<circle clip-path=\"url(#clip922)\" cx=\"897.776\" cy=\"1341.27\" r=\"14.4\" fill=\"#009af9\" fill-rule=\"evenodd\" fill-opacity=\"1\" stroke=\"#000000\" stroke-opacity=\"1\" stroke-width=\"3.2\"/>\n<circle clip-path=\"url(#clip922)\" cx=\"619.312\" cy=\"1299.5\" r=\"14.4\" fill=\"#009af9\" fill-rule=\"evenodd\" fill-opacity=\"1\" stroke=\"#000000\" stroke-opacity=\"1\" stroke-width=\"3.2\"/>\n<circle clip-path=\"url(#clip922)\" cx=\"584.503\" cy=\"1320.39\" r=\"14.4\" fill=\"#009af9\" fill-rule=\"evenodd\" fill-opacity=\"1\" stroke=\"#000000\" stroke-opacity=\"1\" stroke-width=\"3.2\"/>\n<circle clip-path=\"url(#clip922)\" cx=\"549.695\" cy=\"1341.27\" r=\"14.4\" fill=\"#009af9\" fill-rule=\"evenodd\" fill-opacity=\"1\" stroke=\"#000000\" stroke-opacity=\"1\" stroke-width=\"3.2\"/>\n<circle clip-path=\"url(#clip922)\" cx=\"514.887\" cy=\"1362.16\" r=\"14.4\" fill=\"#009af9\" fill-rule=\"evenodd\" fill-opacity=\"1\" stroke=\"#000000\" stroke-opacity=\"1\" stroke-width=\"3.2\"/>\n<circle clip-path=\"url(#clip922)\" cx=\"480.079\" cy=\"1383.05\" r=\"14.4\" fill=\"#009af9\" fill-rule=\"evenodd\" fill-opacity=\"1\" stroke=\"#000000\" stroke-opacity=\"1\" stroke-width=\"3.2\"/>\n<circle clip-path=\"url(#clip922)\" cx=\"445.271\" cy=\"1403.94\" r=\"14.4\" fill=\"#009af9\" fill-rule=\"evenodd\" fill-opacity=\"1\" stroke=\"#000000\" stroke-opacity=\"1\" stroke-width=\"3.2\"/>\n<circle clip-path=\"url(#clip922)\" cx=\"410.463\" cy=\"1424.83\" r=\"14.4\" fill=\"#009af9\" fill-rule=\"evenodd\" fill-opacity=\"1\" stroke=\"#000000\" stroke-opacity=\"1\" stroke-width=\"3.2\"/>\n<circle clip-path=\"url(#clip922)\" cx=\"375.655\" cy=\"1445.72\" r=\"14.4\" fill=\"#009af9\" fill-rule=\"evenodd\" fill-opacity=\"1\" stroke=\"#000000\" stroke-opacity=\"1\" stroke-width=\"3.2\"/>\n<circle clip-path=\"url(#clip922)\" cx=\"201.614\" cy=\"1341.27\" r=\"14.4\" fill=\"#009af9\" fill-rule=\"evenodd\" fill-opacity=\"1\" stroke=\"#000000\" stroke-opacity=\"1\" stroke-width=\"3.2\"/>\n<circle clip-path=\"url(#clip922)\" cx=\"549.695\" cy=\"1132.39\" r=\"14.4\" fill=\"#009af9\" fill-rule=\"evenodd\" fill-opacity=\"1\" stroke=\"#000000\" stroke-opacity=\"1\" stroke-width=\"3.2\"/>\n<circle clip-path=\"url(#clip922)\" cx=\"375.655\" cy=\"1236.83\" r=\"14.4\" fill=\"#009af9\" fill-rule=\"evenodd\" fill-opacity=\"1\" stroke=\"#000000\" stroke-opacity=\"1\" stroke-width=\"3.2\"/>\n<circle clip-path=\"url(#clip922)\" cx=\"723.736\" cy=\"1027.95\" r=\"14.4\" fill=\"#009af9\" fill-rule=\"evenodd\" fill-opacity=\"1\" stroke=\"#000000\" stroke-opacity=\"1\" stroke-width=\"3.2\"/>\n<circle clip-path=\"url(#clip922)\" cx=\"1942.02\" cy=\"87.9763\" r=\"14.4\" fill=\"#009af9\" fill-rule=\"evenodd\" fill-opacity=\"1\" stroke=\"#000000\" stroke-opacity=\"1\" stroke-width=\"3.2\"/>\n<circle clip-path=\"url(#clip922)\" cx=\"2116.06\" cy=\"87.9763\" r=\"14.4\" fill=\"#009af9\" fill-rule=\"evenodd\" fill-opacity=\"1\" stroke=\"#000000\" stroke-opacity=\"1\" stroke-width=\"3.2\"/>\n<circle clip-path=\"url(#clip922)\" cx=\"2116.06\" cy=\"87.9763\" r=\"14.4\" fill=\"#009af9\" fill-rule=\"evenodd\" fill-opacity=\"1\" stroke=\"#000000\" stroke-opacity=\"1\" stroke-width=\"3.2\"/>\n<circle clip-path=\"url(#clip922)\" cx=\"2116.06\" cy=\"87.9763\" r=\"14.4\" fill=\"#009af9\" fill-rule=\"evenodd\" fill-opacity=\"1\" stroke=\"#000000\" stroke-opacity=\"1\" stroke-width=\"3.2\"/>\n<circle clip-path=\"url(#clip922)\" cx=\"2116.06\" cy=\"87.9763\" r=\"14.4\" fill=\"#009af9\" fill-rule=\"evenodd\" fill-opacity=\"1\" stroke=\"#000000\" stroke-opacity=\"1\" stroke-width=\"3.2\"/>\n<circle clip-path=\"url(#clip922)\" cx=\"2116.06\" cy=\"87.9763\" r=\"14.4\" fill=\"#009af9\" fill-rule=\"evenodd\" fill-opacity=\"1\" stroke=\"#000000\" stroke-opacity=\"1\" stroke-width=\"3.2\"/>\n<circle clip-path=\"url(#clip922)\" cx=\"1942.02\" cy=\"87.9763\" r=\"14.4\" fill=\"#009af9\" fill-rule=\"evenodd\" fill-opacity=\"1\" stroke=\"#000000\" stroke-opacity=\"1\" stroke-width=\"3.2\"/>\n<circle clip-path=\"url(#clip922)\" cx=\"1942.02\" cy=\"87.9763\" r=\"14.4\" fill=\"#009af9\" fill-rule=\"evenodd\" fill-opacity=\"1\" stroke=\"#000000\" stroke-opacity=\"1\" stroke-width=\"3.2\"/>\n<circle clip-path=\"url(#clip922)\" cx=\"1942.02\" cy=\"87.9763\" r=\"14.4\" fill=\"#009af9\" fill-rule=\"evenodd\" fill-opacity=\"1\" stroke=\"#000000\" stroke-opacity=\"1\" stroke-width=\"3.2\"/>\n<circle clip-path=\"url(#clip922)\" cx=\"1942.02\" cy=\"87.9763\" r=\"14.4\" fill=\"#009af9\" fill-rule=\"evenodd\" fill-opacity=\"1\" stroke=\"#000000\" stroke-opacity=\"1\" stroke-width=\"3.2\"/>\n<circle clip-path=\"url(#clip922)\" cx=\"1942.02\" cy=\"87.9763\" r=\"14.4\" fill=\"#009af9\" fill-rule=\"evenodd\" fill-opacity=\"1\" stroke=\"#000000\" stroke-opacity=\"1\" stroke-width=\"3.2\"/>\n<circle clip-path=\"url(#clip922)\" cx=\"1942.02\" cy=\"87.9763\" r=\"14.4\" fill=\"#009af9\" fill-rule=\"evenodd\" fill-opacity=\"1\" stroke=\"#000000\" stroke-opacity=\"1\" stroke-width=\"3.2\"/>\n<path clip-path=\"url(#clip920)\" d=\"\nM212.753 198.898 L486.563 198.898 L486.563 95.2176 L212.753 95.2176  Z\n  \" fill=\"#ffffff\" fill-rule=\"evenodd\" fill-opacity=\"1\"/>\n<polyline clip-path=\"url(#clip920)\" style=\"stroke:#000000; stroke-linecap:round; stroke-linejoin:round; stroke-width:4; stroke-opacity:1; fill:none\" points=\"\n  212.753,198.898 486.563,198.898 486.563,95.2176 212.753,95.2176 212.753,198.898 \n  \"/>\n<circle clip-path=\"url(#clip920)\" cx=\"311.144\" cy=\"147.058\" r=\"23.04\" fill=\"#009af9\" fill-rule=\"evenodd\" fill-opacity=\"1\" stroke=\"#000000\" stroke-opacity=\"1\" stroke-width=\"5.12\"/>\n<path clip-path=\"url(#clip920)\" d=\"M423.377 166.745 Q421.572 171.375 419.859 172.787 Q418.146 174.199 415.275 174.199 L411.873 174.199 L411.873 170.634 L414.373 170.634 Q416.132 170.634 417.104 169.8 Q418.076 168.967 419.257 165.865 L420.021 163.921 L409.535 138.412 L414.048 138.412 L422.15 158.689 L430.252 138.412 L434.766 138.412 L423.377 166.745 Z\" fill=\"#000000\" fill-rule=\"evenodd\" fill-opacity=\"1\" /><path clip-path=\"url(#clip920)\" d=\"M442.058 160.402 L449.696 160.402 L449.696 134.037 L441.386 135.703 L441.386 131.444 L449.65 129.778 L454.326 129.778 L454.326 160.402 L461.965 160.402 L461.965 164.338 L442.058 164.338 L442.058 160.402 Z\" fill=\"#000000\" fill-rule=\"evenodd\" fill-opacity=\"1\" /></svg>\n"
          },
          "metadata": {},
          "execution_count": 13
        }
      ]
    },
    {
      "cell_type": "markdown",
      "source": [
        "## Linear Regression"
      ],
      "metadata": {
        "id": "4_nDh-Z6dQ9_"
      }
    },
    {
      "cell_type": "code",
      "source": [
        "train, test = TrainTestSplit(df,.80)"
      ],
      "metadata": {
        "id": "DsFmCCNAefeo",
        "colab": {
          "base_uri": "https://localhost:8080/"
        },
        "outputId": "b94370ec-509e-4c4e-e600-f94157364de6"
      },
      "execution_count": null,
      "outputs": [
        {
          "output_type": "execute_result",
          "data": {
            "text/plain": [
              "(\u001b[1m31×4 DataFrame\u001b[0m\n",
              "\u001b[1m Row \u001b[0m│\u001b[1m AP1     \u001b[0m\u001b[1m AP2     \u001b[0m\u001b[1m AP3     \u001b[0m\u001b[1m Final   \u001b[0m\n",
              "     │\u001b[90m Float64 \u001b[0m\u001b[90m Float64 \u001b[0m\u001b[90m Float64 \u001b[0m\u001b[90m Float64 \u001b[0m\n",
              "─────┼────────────────────────────────────\n",
              "   1 │    10.0     10.0      9.0     9.8\n",
              "   2 │     9.0     10.0      9.0     9.4\n",
              "   3 │     9.5     10.0     10.0     9.8\n",
              "   4 │     9.2      9.7      9.7     9.5\n",
              "   5 │     9.0      9.5      9.5     9.3\n",
              "   6 │    10.0      7.0      5.0     7.8\n",
              "   7 │     9.5      6.5      4.5     7.3\n",
              "   8 │     9.4      6.4      4.4     7.2\n",
              "   9 │     9.3      6.3      4.3     7.1\n",
              "  10 │     9.2      6.2      4.2     7.0\n",
              "  11 │     9.1      6.1      4.1     6.9\n",
              "  ⋮  │    ⋮        ⋮        ⋮        ⋮\n",
              "  22 │     5.5      5.5      5.5     5.5\n",
              "  23 │     5.0      9.0     10.0     7.6\n",
              "  24 │     5.1      9.5     10.0     7.84\n",
              "  25 │     5.2      9.5     10.0     7.88\n",
              "  26 │     5.3      9.5     10.0     7.92\n",
              "  27 │     5.4      9.5     10.0     7.96\n",
              "  28 │     4.9      9.0     10.0     7.56\n",
              "  29 │     4.7      9.0     10.0     7.48\n",
              "  30 │     4.5      9.0     10.0     7.4\n",
              "  31 │     4.4      9.0     10.0     7.36\n",
              "\u001b[36m                           10 rows omitted\u001b[0m, \u001b[1m9×4 DataFrame\u001b[0m\n",
              "\u001b[1m Row \u001b[0m│\u001b[1m AP1     \u001b[0m\u001b[1m AP2     \u001b[0m\u001b[1m AP3     \u001b[0m\u001b[1m Final   \u001b[0m\n",
              "     │\u001b[90m Float64 \u001b[0m\u001b[90m Float64 \u001b[0m\u001b[90m Float64 \u001b[0m\u001b[90m Float64 \u001b[0m\n",
              "─────┼────────────────────────────────────\n",
              "   1 │     9.4      9.9      9.9     9.7\n",
              "   2 │     9.3      9.8      9.8     9.6\n",
              "   3 │     9.1      9.6      9.6     9.4\n",
              "   4 │     9.0      6.0      4.0     6.8\n",
              "   5 │     4.9      4.9      3.9     4.7\n",
              "   6 │     4.6      4.6      3.6     4.4\n",
              "   7 │     5.5      9.5     10.0     8.0\n",
              "   8 │     4.8      9.0     10.0     7.52\n",
              "   9 │     4.6      9.0     10.0     7.44)"
            ]
          },
          "metadata": {},
          "execution_count": 21
        }
      ]
    },
    {
      "cell_type": "code",
      "source": [
        "linreg = lm(@formula(AP3 ~ AP1 + AP2), train)"
      ],
      "metadata": {
        "colab": {
          "base_uri": "https://localhost:8080/"
        },
        "id": "NBXYEaK3dwme",
        "outputId": "f95bc9c7-1775-4d66-b27c-f4704b459bc5"
      },
      "execution_count": null,
      "outputs": [
        {
          "output_type": "execute_result",
          "data": {
            "text/plain": [
              "StatsModels.TableRegressionModel{LinearModel{GLM.LmResp{Vector{Float64}}, GLM.DensePredChol{Float64, LinearAlgebra.CholeskyPivoted{Float64, Matrix{Float64}, Vector{Int64}}}}, Matrix{Float64}}\n",
              "\n",
              "AP3 ~ 1 + AP1 + AP2\n",
              "\n",
              "Coefficients:\n",
              "──────────────────────────────────────────────────────────────────────────\n",
              "                 Coef.  Std. Error       t  Pr(>|t|)  Lower 95%  Upper 95%\n",
              "──────────────────────────────────────────────────────────────────────────\n",
              "(Intercept)  -0.49022    0.309468    -1.58    0.1244  -1.12414    0.143698\n",
              "AP1          -0.387663   0.0341381  -11.36    <1e-11  -0.457592  -0.317734\n",
              "AP2           1.35408    0.0359722   37.64    <1e-24   1.28039    1.42776\n",
              "──────────────────────────────────────────────────────────────────────────"
            ]
          },
          "metadata": {},
          "execution_count": 22
        }
      ]
    },
    {
      "cell_type": "code",
      "source": [
        "function predict_ap3(ap1, ap2)\n",
        "  ap3 = -0.387663*ap1 + 1.35408*ap2 + -0.49022\n",
        "  return ap3\n",
        "end\n",
        "predict_ap3(8,8)"
      ],
      "metadata": {
        "colab": {
          "base_uri": "https://localhost:8080/"
        },
        "id": "VqhULYhGeLT6",
        "outputId": "544e42d0-4c4d-4ffb-95e1-6650de2e7f4b"
      },
      "execution_count": null,
      "outputs": [
        {
          "output_type": "execute_result",
          "data": {
            "text/plain": [
              "7.241116"
            ]
          },
          "metadata": {},
          "execution_count": 23
        }
      ]
    },
    {
      "cell_type": "code",
      "source": [
        "pred_train = predict(linreg,train)"
      ],
      "metadata": {
        "colab": {
          "base_uri": "https://localhost:8080/"
        },
        "id": "-HUgx8hYefBV",
        "outputId": "10e6c2e1-afc3-437f-b51b-7ffb4b708213"
      },
      "execution_count": null,
      "outputs": [
        {
          "output_type": "execute_result",
          "data": {
            "text/plain": [
              "31-element Vector{Union{Missing, Float64}}:\n",
              "  9.173937968727834\n",
              "  9.561601070981625\n",
              "  9.36776951985473\n",
              "  9.077844793705417\n",
              "  8.88456164293921\n",
              "  5.111701400473335\n",
              "  4.628493523557813\n",
              "  4.531851948174708\n",
              "  4.4352103727916035\n",
              "  4.3385687974085005\n",
              "  4.241927222025396\n",
              "  4.145285646642291\n",
              "  4.535142350338827\n",
              "  ⋮\n",
              "  4.3418591995726175\n",
              "  3.8586513226570958\n",
              "  4.82506707648814\n",
              "  9.758174623911952\n",
              " 10.396447741728991\n",
              " 10.357681431503611\n",
              " 10.318915121278232\n",
              " 10.280148811052854\n",
              "  9.79694093413733\n",
              "  9.87447355458809\n",
              "  9.952006175038846\n",
              "  9.990772485264225"
            ]
          },
          "metadata": {},
          "execution_count": 32
        }
      ]
    },
    {
      "cell_type": "code",
      "source": [
        "r2(linreg)"
      ],
      "metadata": {
        "colab": {
          "base_uri": "https://localhost:8080/"
        },
        "id": "QVOQub1jfyDh",
        "outputId": "6d1440ff-43ee-477d-865a-df19615f9f26"
      },
      "execution_count": null,
      "outputs": [
        {
          "output_type": "execute_result",
          "data": {
            "text/plain": [
              "0.9806904975645492"
            ]
          },
          "metadata": {},
          "execution_count": 33
        }
      ]
    },
    {
      "cell_type": "code",
      "source": [
        "pred_test=predict(linreg,test)"
      ],
      "metadata": {
        "colab": {
          "base_uri": "https://localhost:8080/"
        },
        "id": "M5eyU-smf6dU",
        "outputId": "b1890e93-8e0e-4b5e-e3f3-0a95da6a30b1"
      },
      "execution_count": null,
      "outputs": [
        {
          "output_type": "execute_result",
          "data": {
            "text/plain": [
              "9-element Vector{Union{Missing, Float64}}:\n",
              "  9.271127944471626\n",
              "  9.174486369088521\n",
              "  8.981203218322314\n",
              "  4.145285646642291\n",
              "  4.245217624189514\n",
              "  3.9552928980402005\n",
              " 10.241382500827473\n",
              "  9.835707244362709\n",
              "  9.913239864813468"
            ]
          },
          "metadata": {},
          "execution_count": 34
        }
      ]
    },
    {
      "cell_type": "code",
      "source": [
        "function MSE(y, pred)\n",
        "  df = DataFrame(y = y, pred = pred)\n",
        "  df.error = df[!,:y] - df[!,:pred]\n",
        "  df.error_sq = df.error.*df.error\n",
        "  mean(df.error_sq)\n",
        "end"
      ],
      "metadata": {
        "colab": {
          "base_uri": "https://localhost:8080/"
        },
        "id": "ly_nZaxEgjKb",
        "outputId": "756420ba-11a3-4d8a-ddbb-b9a174212358"
      },
      "execution_count": null,
      "outputs": [
        {
          "output_type": "execute_result",
          "data": {
            "text/plain": [
              "MSE (generic function with 1 method)"
            ]
          },
          "metadata": {},
          "execution_count": 36
        }
      ]
    },
    {
      "cell_type": "code",
      "source": [
        "function R2(y,pred)\n",
        "  df = DataFrame(y = y, pred = pred)\n",
        "  avg_y = mean(y)\n",
        "  df.y_diff_sq = (df.y .- avg_y) .* (df.y .- avg_y)\n",
        "  sum_y_diff_sq = sum(df.y_diff_sq)\n",
        "  df.error = df[!,:y] - df[!,:pred]\n",
        "  df.error_sq = df.error.*df.error  \n",
        "  sum_pred_diff_sq = sum(df.error_sq)\n",
        "  r2 = 1 - sum_pred_diff_sq/sum_y_diff_sq\n",
        "  return r2\n",
        "end"
      ],
      "metadata": {
        "colab": {
          "base_uri": "https://localhost:8080/"
        },
        "id": "yAP9jzqIwR9Q",
        "outputId": "5327071e-7e33-4ffc-84c2-9b6d60ff34ff"
      },
      "execution_count": null,
      "outputs": [
        {
          "output_type": "execute_result",
          "data": {
            "text/plain": [
              "R2 (generic function with 1 method)"
            ]
          },
          "metadata": {},
          "execution_count": 42
        }
      ]
    },
    {
      "cell_type": "code",
      "source": [
        "mse_test = MSE(test.AP3,pred_test)\n",
        "rmse_test = sqrt(mse_test)\n",
        "r2_test = R2(test.AP3,pred_test)\n",
        "print(\"\\nMSE Test: \",mse_test)\n",
        "print(\"\\nRMSE Test: \",rmse_test)\n",
        "print(\"\\nR2 Test: \",r2_test)"
      ],
      "metadata": {
        "colab": {
          "base_uri": "https://localhost:8080/"
        },
        "id": "HBLcCUoSgdZ9",
        "outputId": "98aa3134-0132-4c34-91ec-dce93ae5a740"
      },
      "execution_count": null,
      "outputs": [
        {
          "output_type": "stream",
          "name": "stdout",
          "text": [
            "\n",
            "MSE Test: 0.16988421495361522\n",
            "RMSE Test: 0.4121701286527388\n",
            "R2 Test: 0.9791751847646072"
          ]
        }
      ]
    },
    {
      "cell_type": "code",
      "source": [
        "mse_train = MSE(train.AP3,pred_train)\n",
        "rmse_train = sqrt(mse_train)\n",
        "r2_train = R2(train.AP3,pred_train)\n",
        "print(\"\\nMSE train: \",mse_train)\n",
        "print(\"\\nRMSE train: \",rmse_train)\n",
        "print(\"\\nR2 train: \",r2_train)"
      ],
      "metadata": {
        "colab": {
          "base_uri": "https://localhost:8080/"
        },
        "id": "POOD-WPPwEJk",
        "outputId": "344009b4-1cc2-4e2f-a1d6-c15b13dd74e4"
      },
      "execution_count": 48,
      "outputs": [
        {
          "output_type": "stream",
          "name": "stdout",
          "text": [
            "\n",
            "MSE train: 0.14926828083509477\n",
            "RMSE train: 0.38635253439714196\n",
            "R2 train: 0.9806904975645492"
          ]
        }
      ]
    }
  ]
}