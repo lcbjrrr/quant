{
  "nbformat": 4,
  "nbformat_minor": 0,
  "metadata": {
    "colab": {
      "name": "integral_dupla_aproximada.ipynb",
      "provenance": [],
      "collapsed_sections": [
        "hADrEOS3KD_2"
      ],
      "include_colab_link": true
    },
    "kernelspec": {
      "display_name": "Python 3",
      "language": "python",
      "name": "python3"
    },
    "language_info": {
      "codemirror_mode": {
        "name": "ipython",
        "version": 3
      },
      "file_extension": ".py",
      "mimetype": "text/x-python",
      "name": "python",
      "nbconvert_exporter": "python",
      "pygments_lexer": "ipython3",
      "version": "3.7.4"
    }
  },
  "cells": [
    {
      "cell_type": "markdown",
      "metadata": {
        "id": "view-in-github",
        "colab_type": "text"
      },
      "source": [
        "<a href=\"https://colab.research.google.com/github/lcbjrrr/quant/blob/master/integral_dupla_aproximada.ipynb\" target=\"_parent\"><img src=\"https://colab.research.google.com/assets/colab-badge.svg\" alt=\"Open In Colab\"/></a>"
      ]
    },
    {
      "cell_type": "markdown",
      "metadata": {
        "id": "BVzL9Q-e6mP_"
      },
      "source": [
        "# Ficha Técnica\n",
        "\n",
        "Disciplina - Cálculo de Múltiplas de Variáveis.\n",
        "\n",
        "Conteúdo - Integração Dupla Aproximada Numéricamente.\n",
        "\n",
        "Aplicação:\n",
        " \n",
        "- Calcular a integral dupla aproximada.\n",
        "- Linguagem de programação (Python).\n",
        "\n",
        "Autores: \n",
        "- Anderson Borba (anderson.aborba@professores.ibmec.edu.br) e\n",
        "- Luiz Barboza (luiz.cbjunior@professores.ibmec.edu.br).\n",
        "\n",
        "Endereço eletrônico: http://quant-ibmec.group/calculos/"
      ]
    },
    {
      "cell_type": "markdown",
      "metadata": {
        "id": "G4aWVqqcCAE0"
      },
      "source": [
        "# Definição de integral dupla\n",
        "\\begin{equation}\n",
        "\\begin{aligned}\n",
        "\\iint_R f(x,y)dt=\\lim_{m,n\\to\\infty} \\sum_{i=1}^{m}\\sum_{j=1}^{n}f(x_i,y_j)\\Delta A \n",
        "\\end{aligned}\\tag{Definição de Integral Dupla}\n",
        "\\end{equation}\n",
        "onde,\n",
        "\n",
        "- f(x, y) função de duas variáveis.\n",
        "- $m$ - número de elementos da partição na direção $x$.\n",
        "- $n$ - número de elementos da partição na direção $y$.\n",
        "- $\\Delta x$ - tamanho da partição definida na direção $x$.\n",
        "- $\\Delta y$ - tamanho da partição definida na direção $y$.\n",
        "- Elemento de área $\\Delta A= \\Delta x \\Delta y$. "
      ]
    },
    {
      "cell_type": "markdown",
      "metadata": {
        "id": "Urz_cnxVHM42"
      },
      "source": [
        "## Exemplo\n",
        "- 1) Encontrar a integral da função $f(x,y) = 16 - x^2 - 2y^2$, na região $[0,2]\\times[0,2]$.\n",
        "Solução da integral: $$\\iint_R f(x,y)dA=48$$\n",
        "- 2) Encontrar a integral da função $f(x,y) = x - 3y^2$, na região $[0,2]\\times[1,2]$.\n",
        "$$\\iint_R f(x,y)dA=-12$$"
      ]
    },
    {
      "cell_type": "code",
      "metadata": {
        "id": "ogr4ZgMNqaf2",
        "colab": {
          "base_uri": "https://localhost:8080/"
        },
        "outputId": "ce8f9622-2c21-417c-f426-d8b5a0e59bac"
      },
      "source": [
        "import matplotlib.pyplot as plt\n",
        "import numpy as np\n",
        "def f(x,y):\n",
        "  f = 16 - x**2 - 2 * y**2\n",
        "  return f\n",
        "def f1(x,y):\n",
        "  f1 = x - 3 * y**2\n",
        "  return f1\n",
        "#\n",
        "xi = 0\n",
        "xf = 2\n",
        "# Aumentar nx para aproximar o valor da  integral dupla\n",
        "nx = 4\n",
        "hx = (xf - xi) / nx\n",
        "yi = 0\n",
        "yf = 2\n",
        "# Aumentar ny para aproximar o valor da integral dupla\n",
        "ny = 4\n",
        "hy = (yf - yi) / ny\n",
        "x  = np.linspace(0, 0, nx + 1)\n",
        "y  = np.linspace(0, 0, ny + 1)\n",
        "for i in range(0, nx + 1):\n",
        "  x[i] = xi + i * hx\n",
        "for j in range(0, ny + 1):\n",
        "  y[j] = yi + j * hy\n",
        "#\n",
        "int_aprox = 0\n",
        "for i in range(0, nx):\n",
        "  for j in range(0, ny):\n",
        "    deltax = (x[i + 1] - x[i])\n",
        "    deltay = (y[i + 1] - y[i])\n",
        "    deltaA = deltax * deltay\n",
        "    int_aprox = int_aprox + f(x[i + 1], y[j + 1]) * deltaA \n",
        "#\n",
        "sol = 48\n",
        "erro = np.abs(sol - int_aprox)\n",
        "print(int_aprox)\n",
        "print(erro)\n",
        "\n"
      ],
      "execution_count": null,
      "outputs": [
        {
          "output_type": "stream",
          "text": [
            "41.5\n",
            "6.5\n"
          ],
          "name": "stdout"
        }
      ]
    },
    {
      "cell_type": "markdown",
      "metadata": {
        "id": "REtgCtHBG8wD"
      },
      "source": [
        "# Regra do ponto médio para integral dupla\n",
        "\\begin{equation}\n",
        "\\begin{aligned}\n",
        "\\iint_R f(x,y)dt=\\lim_{m,n\\to\\infty} \\sum_{i=1}^{m}\\sum_{j=1}^{n}f(\\bar{x}_i,\\bar{y}_j)\\Delta A \n",
        "\\end{aligned}\\tag{Definição de Integral Dupla}\n",
        "\\end{equation}\n",
        "onde,\n",
        "\n",
        "- f(x, y) função de duas variáveis.\n",
        "- $(\\bar{x}_i,\\bar{y}_j)$ ponto médio para cada elemento de área. \n",
        "- $m$ - número de elementos da partição na direção $x$.\n",
        "- $n$ - número de elementos da partição na direção $y$.\n",
        "- $\\Delta x$ - tamanho da partição definida na direção $x$.\n",
        "- $\\Delta y$ - tamanho da partição definida na direção $y$.\n",
        "- Elemento de área $\\Delta A= \\Delta x \\Delta y$. "
      ]
    },
    {
      "cell_type": "code",
      "metadata": {
        "colab": {
          "base_uri": "https://localhost:8080/"
        },
        "id": "b7rP6AmLB5-T",
        "outputId": "a4830838-8daa-4f51-dfb6-6d9ee4074ad1"
      },
      "source": [
        "int_aprox = 0\n",
        "for i in range(0, nx):\n",
        "  for j in range(0, ny):\n",
        "    deltax = (x[i + 1] - x[i])\n",
        "    deltay = (y[i + 1] - y[i])\n",
        "    deltaA = deltax * deltay\n",
        "    xm = x[i] + deltax / 2\n",
        "    ym = y[i] + deltay / 2\n",
        "    int_aprox = int_aprox + f(xm, ym) * deltaA \n",
        "#\n",
        "sol = 48\n",
        "erro = np.abs(sol - int_aprox)\n",
        "print(int_aprox)\n",
        "print(erro)"
      ],
      "execution_count": null,
      "outputs": [
        {
          "output_type": "stream",
          "text": [
            "48.25\n",
            "0.25\n"
          ],
          "name": "stdout"
        }
      ]
    },
    {
      "cell_type": "markdown",
      "metadata": {
        "id": "hADrEOS3KD_2"
      },
      "source": [
        "# Referências\n",
        "- [1] Cálculo, volume 2 - James Stewart, Editora Cengage.\n"
      ]
    }
  ]
}