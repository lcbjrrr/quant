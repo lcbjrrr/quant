{
  "nbformat": 4,
  "nbformat_minor": 0,
  "metadata": {
    "colab": {
      "provenance": [],
      "include_colab_link": true
    },
    "kernelspec": {
      "name": "python3",
      "display_name": "Python 3"
    }
  },
  "cells": [
    {
      "cell_type": "markdown",
      "metadata": {
        "id": "view-in-github",
        "colab_type": "text"
      },
      "source": [
        "<a href=\"https://colab.research.google.com/github/lcbjrrr/quant/blob/master/IA_R_Clas_RegLog.ipynb\" target=\"_parent\"><img src=\"https://colab.research.google.com/assets/colab-badge.svg\" alt=\"Open In Colab\"/></a>"
      ]
    },
    {
      "cell_type": "code",
      "metadata": {
        "id": "WnwqmNcyeyMO",
        "colab": {
          "base_uri": "https://localhost:8080/"
        },
        "outputId": "39e383bd-3838-4287-c0f6-503a9416aec2"
      },
      "source": [
        "!pip uninstall rpy2 -y"
      ],
      "execution_count": 1,
      "outputs": [
        {
          "output_type": "stream",
          "name": "stdout",
          "text": [
            "Found existing installation: rpy2 3.5.5\n",
            "Uninstalling rpy2-3.5.5:\n",
            "  Successfully uninstalled rpy2-3.5.5\n"
          ]
        }
      ]
    },
    {
      "cell_type": "code",
      "source": [
        "!pip install rpy2==3.0.0"
      ],
      "metadata": {
        "id": "aclZStp5E4EQ"
      },
      "execution_count": null,
      "outputs": []
    },
    {
      "cell_type": "code",
      "metadata": {
        "id": "FCpLBuC5e-1M",
        "outputId": "d571c347-62c9-48e9-c5ae-fba1b2063b9a",
        "colab": {
          "base_uri": "https://localhost:8080/"
        }
      },
      "source": [
        "%load_ext rpy2.ipython"
      ],
      "execution_count": 4,
      "outputs": [
        {
          "output_type": "stream",
          "name": "stdout",
          "text": [
            "The rpy2.ipython extension is already loaded. To reload it, use:\n",
            "  %reload_ext rpy2.ipython\n"
          ]
        }
      ]
    },
    {
      "cell_type": "code",
      "source": [
        "%%R\n",
        "#install.packages(\"glm\",repos = \"http://cran.us.r-project.org\")"
      ],
      "metadata": {
        "id": "DRr-GKcOMTWo",
        "colab": {
          "base_uri": "https://localhost:8080/",
          "height": 35
        },
        "outputId": "09fb2966-1288-4260-f4c4-b8fa8927b8bb"
      },
      "execution_count": 14,
      "outputs": [
        {
          "output_type": "display_data",
          "data": {
            "text/plain": [
              "NULL\n"
            ]
          },
          "metadata": {}
        }
      ]
    },
    {
      "cell_type": "code",
      "source": [
        "%%R\n",
        "#library(\"glm2\")"
      ],
      "metadata": {
        "id": "pNYpl9wLFgrL"
      },
      "execution_count": null,
      "outputs": []
    },
    {
      "cell_type": "code",
      "source": [
        "%%R \n",
        "Score <- function(mod,Xs,y_exp,t=\"\"){\n",
        "   if(t==\"response\"){\n",
        "     prevs<-predict(mod,Xs,type=t)>0.5\n",
        "   }else if(t==\"knn\"){\n",
        "     df<-data.frame(y_exp,Xs)\n",
        "     prevs<-mod(df,df,cl=df$y,k=3)\n",
        "   }else{\n",
        "     prevs<-predict(mod,Xs)   \n",
        "   }\n",
        "   score<-sum(prevs==y_exp)/length(prevs)\n",
        "   return(score)\n",
        "}\n",
        " \n",
        "Accuracy <- function(y_exp,prevs){\n",
        "   accuracy<-sum(prevs==y_exp)/length(prevs)\n",
        "   return(accuracy)\n",
        "}\n",
        " \n",
        "ConfusionMatrix <- function(y_exp,prevs){ \n",
        "   cm<-table(y_exp,prevs)\n",
        "   return(cm)\n",
        "} \n",
        "\n",
        "PrecisionRecall <- function(y_exp,prevs){\n",
        "   cm<-table(y_exp,prevs)\n",
        "   tp<-cm[2,2]\n",
        "   tn<-cm[1,1]\n",
        "   fn<-cm[2,1]\n",
        "   fp<-cm[1,2]\n",
        "   precision <- tp/(tp+fp)\n",
        "   recall <- tp/(tp+fn)\n",
        "   return(c(precision,recall)) \n",
        "}\n"
      ],
      "metadata": {
        "id": "kEqUSq7HND23"
      },
      "execution_count": 38,
      "outputs": []
    },
    {
      "cell_type": "code",
      "source": [
        "%%R\n",
        "train <- read.csv('https://raw.githubusercontent.com/lcbjrrr/data/main/gender%20-%20tr.csv')\n",
        "print(train)\n",
        "rlog <- glm( G ~ . , data = train, family='binomial')\n",
        "rlog\n"
      ],
      "metadata": {
        "colab": {
          "base_uri": "https://localhost:8080/",
          "height": 356
        },
        "id": "3bquU1wRNGlw",
        "outputId": "2932a676-8a03-4309-91a6-104c2422190f"
      },
      "execution_count": 13,
      "outputs": [
        {
          "output_type": "display_data",
          "data": {
            "text/plain": [
              "  G   H  W\n",
              "1 0 178 72\n",
              "2 0 179 81\n",
              "3 1 163 55\n",
              "4 1 168 58\n",
              "5 0 181 98\n",
              "6 1 170 60\n",
              "7 0 184 78\n",
              "8 1 171 59\n",
              "\n",
              "Call:  glm(formula = G ~ ., family = \"binomial\", data = train)\n",
              "\n",
              "Coefficients:\n",
              "(Intercept)            H            W  \n",
              "  1243.0080      -7.2523       0.3435  \n",
              "\n",
              "Degrees of Freedom: 7 Total (i.e. Null);  5 Residual\n",
              "Null Deviance:\t    11.09 \n",
              "Residual Deviance: 3.56e-10 \tAIC: 6\n"
            ]
          },
          "metadata": {}
        }
      ]
    },
    {
      "cell_type": "code",
      "source": [
        "%%R\n",
        "test <- read.csv('https://raw.githubusercontent.com/lcbjrrr/data/main/gender%20-%20ts.csv')\n",
        "test[,2:3]"
      ],
      "metadata": {
        "colab": {
          "base_uri": "https://localhost:8080/",
          "height": 71
        },
        "id": "piR3Ltx-MXlQ",
        "outputId": "2928596e-7bd5-4920-b7da-7f2838715de0"
      },
      "execution_count": 17,
      "outputs": [
        {
          "output_type": "display_data",
          "data": {
            "text/plain": [
              "    H  W\n",
              "1 175 75\n",
              "2 165 65\n"
            ]
          },
          "metadata": {}
        }
      ]
    },
    {
      "cell_type": "code",
      "source": [
        "%%R\n",
        "pred_test<- factor(predict(rlog,test[,2:3],type = \"response\")>0.5,levels=c(F,T))\n",
        "pred_test"
      ],
      "metadata": {
        "colab": {
          "base_uri": "https://localhost:8080/",
          "height": 71
        },
        "id": "w1QoZDEMO9cl",
        "outputId": "ec6eb5c3-8975-4309-ab5b-511bd37d56de"
      },
      "execution_count": 25,
      "outputs": [
        {
          "output_type": "display_data",
          "data": {
            "text/plain": [
              "    1     2 \n",
              "FALSE  TRUE \n",
              "Levels: FALSE TRUE\n"
            ]
          },
          "metadata": {}
        }
      ]
    },
    {
      "cell_type": "code",
      "source": [
        "%%R \n",
        "print(\"ACC Train: \")\n",
        "Score(rlog,train[,2:3],train[,1],\"response\")"
      ],
      "metadata": {
        "colab": {
          "base_uri": "https://localhost:8080/",
          "height": 53
        },
        "id": "j_XdkRc-GChd",
        "outputId": "de5cad2e-8ce7-45ee-cae1-5b59c5901f49"
      },
      "execution_count": 30,
      "outputs": [
        {
          "output_type": "display_data",
          "data": {
            "text/plain": [
              "[1] \"ACC Train: \"\n",
              "[1] 1\n"
            ]
          },
          "metadata": {}
        }
      ]
    },
    {
      "cell_type": "code",
      "source": [
        "%%R\n",
        "print(\"ACC Test: \")\n",
        "y_ref <- factor(test[,1]>0.5,levels=c(F,T))\n",
        "Accuracy(y_ref,pred_test)"
      ],
      "metadata": {
        "colab": {
          "base_uri": "https://localhost:8080/",
          "height": 53
        },
        "id": "05PcdxFPGo7N",
        "outputId": "6562d62c-e36b-433a-f919-c6707baf791d"
      },
      "execution_count": 36,
      "outputs": [
        {
          "output_type": "display_data",
          "data": {
            "text/plain": [
              "[1] \"ACC Test: \"\n",
              "[1] 1\n"
            ]
          },
          "metadata": {}
        }
      ]
    },
    {
      "cell_type": "code",
      "source": [
        "%%R\n",
        "print(\"CM Test: \")\n",
        "ConfusionMatrix(y_ref,pred_test)"
      ],
      "metadata": {
        "colab": {
          "base_uri": "https://localhost:8080/",
          "height": 106
        },
        "id": "gzHDbFYfQ3RU",
        "outputId": "019455eb-c911-4400-b76a-6748960de539"
      },
      "execution_count": 39,
      "outputs": [
        {
          "output_type": "display_data",
          "data": {
            "text/plain": [
              "[1] \"CM Test: \"\n",
              "       prevs\n",
              "y_exp   FALSE TRUE\n",
              "  FALSE     1    0\n",
              "  TRUE      0    1\n"
            ]
          },
          "metadata": {}
        }
      ]
    },
    {
      "cell_type": "code",
      "source": [
        "%%R\n",
        "print(\"Precision / Recall - Test: \")\n",
        "PrecisionRecall(y_ref,pred_test)"
      ],
      "metadata": {
        "colab": {
          "base_uri": "https://localhost:8080/",
          "height": 53
        },
        "id": "XDA1ybNMRiZp",
        "outputId": "a342fa2d-e487-45dc-8e21-eb9029a658b7"
      },
      "execution_count": 42,
      "outputs": [
        {
          "output_type": "display_data",
          "data": {
            "text/plain": [
              "[1] \"Precision / Recall - Test: \"\n",
              "[1] 1 1\n"
            ]
          },
          "metadata": {}
        }
      ]
    }
  ]
}