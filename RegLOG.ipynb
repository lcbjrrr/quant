{
  "nbformat": 4,
  "nbformat_minor": 0,
  "metadata": {
    "colab": {
      "name": "RegLOG.ipynb",
      "provenance": [],
      "authorship_tag": "ABX9TyMGHJM+MOkZ+BG48QcGylpV",
      "include_colab_link": true
    },
    "kernelspec": {
      "name": "python3",
      "display_name": "Python 3"
    },
    "language_info": {
      "name": "python"
    }
  },
  "cells": [
    {
      "cell_type": "markdown",
      "metadata": {
        "id": "view-in-github",
        "colab_type": "text"
      },
      "source": [
        "<a href=\"https://colab.research.google.com/github/lcbjrrr/quant/blob/master/RegLOG.ipynb\" target=\"_parent\"><img src=\"https://colab.research.google.com/assets/colab-badge.svg\" alt=\"Open In Colab\"/></a>"
      ]
    },
    {
      "cell_type": "code",
      "metadata": {
        "id": "NjHVrDsHh89r"
      },
      "source": [
        ""
      ],
      "execution_count": null,
      "outputs": []
    },
    {
      "cell_type": "code",
      "metadata": {
        "colab": {
          "base_uri": "https://localhost:8080/"
        },
        "id": "209fNCKBjf7X",
        "outputId": "357ac143-2d4a-47a1-bcb1-5cd68d9924b2"
      },
      "source": [
        "import pandas as pd \n",
        "notas = pd.read_csv('https://raw.githubusercontent.com/lcbjrrr/quant/master/notas%20-%20aprov.csv')\n",
        "\n",
        "import sklearn.linear_model as skl_lm\n",
        "\n",
        "clf = skl_lm.LogisticRegression()\n",
        "clf.fit(notas[ ['AP1','AP2'] ] , notas['aprov'])\n",
        "\n",
        "ap1_ap2_futuras = pd.DataFrame({\n",
        "    'AP1':[8,2,3.5],\n",
        "    'AP2':[8,4,8]\n",
        "})\n",
        "clf.predict(ap1_ap2_futuras)\n"
      ],
      "execution_count": 3,
      "outputs": [
        {
          "output_type": "execute_result",
          "data": {
            "text/plain": [
              "array([1, 0, 1])"
            ]
          },
          "metadata": {},
          "execution_count": 3
        }
      ]
    }
  ]
}