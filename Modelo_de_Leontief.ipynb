{
  "nbformat": 4,
  "nbformat_minor": 0,
  "metadata": {
    "kernelspec": {
      "display_name": "Python 3",
      "language": "python",
      "name": "python3"
    },
    "language_info": {
      "codemirror_mode": {
        "name": "ipython",
        "version": 3
      },
      "file_extension": ".py",
      "mimetype": "text/x-python",
      "name": "python",
      "nbconvert_exporter": "python",
      "pygments_lexer": "ipython3",
      "version": "3.7.4"
    },
    "colab": {
      "name": "Modelo de Leontief.ipynb",
      "provenance": [],
      "include_colab_link": true
    }
  },
  "cells": [
    {
      "cell_type": "markdown",
      "metadata": {
        "id": "view-in-github",
        "colab_type": "text"
      },
      "source": [
        "<a href=\"https://colab.research.google.com/github/lcbjrrr/quant/blob/master/Modelo_de_Leontief.ipynb\" target=\"_parent\"><img src=\"https://colab.research.google.com/assets/colab-badge.svg\" alt=\"Open In Colab\"/></a>"
      ]
    },
    {
      "cell_type": "markdown",
      "metadata": {
        "id": "hVsIB34kZrHu"
      },
      "source": [
        "Ficha Técnica\n",
        "Disciplina - Algebra linear e Processos Dinâmicos.\n",
        "\n",
        "Conteúdo -\n",
        "\n",
        "Aplicações de Álgebra Linear.\n",
        "\n",
        "Modelos de Leontief.\n",
        "\n",
        "Autores:\n",
        "\n",
        "Anderson Borba (anderson.aborba@professores.ibmec.edu.br) e\n",
        "\n",
        "Luiz Barboza (luiz.cbjunior@professores.ibmec.edu.br).\n",
        "\n",
        "Endereço eletrônico: http://quant-ibmec.group/calculos/"
      ]
    },
    {
      "cell_type": "markdown",
      "metadata": {
        "id": "YtY2rqTfZrHy"
      },
      "source": [
        "# Aplicação de álgebra linear.\n",
        "- Modelos econômicos para troca de Bens (Modelos de Leontief).\n",
        "- Modelo ${\\bf x}= C{\\bf x}+ {\\bf d}$.\n",
        "- Vetor produção (Valores em unidades monetárias).\n",
        "\\begin{equation}\n",
        "        {\\bf x} = \n",
        "    \\left[\n",
        "    \\begin{array}{c}\n",
        "        x_1  \\\\\n",
        "        x_2  \\\\\n",
        "        \\vdots\\\\\n",
        "        x_n  \\\\\n",
        "    \\end{array}\n",
        "    \\right]\n",
        "\\end{equation}\n",
        "- Vetor demanda.\n",
        "\\begin{equation}\n",
        "        {\\bf d} = \n",
        "    \\left[\n",
        "    \\begin{array}{c}\n",
        "        d_1  \\\\\n",
        "        d_2  \\\\\n",
        "        \\vdots\\\\\n",
        "        d_n  \\\\\n",
        "    \\end{array}\n",
        "    \\right]\n",
        "\\end{equation}\n",
        "- Matriz de consumo.\n",
        "\\begin{equation}\n",
        "    \\left[\n",
        "    \\begin{array}{cccc}\n",
        "        c_{11}& c_{12}& \\cdots& c_{1n} \\\\\n",
        "        c_{21}& c_{22}& \\cdots& c_{2n} \\\\\n",
        "        \\vdots & \\vdots&  &\\vdots \\\\\n",
        "        c_{n1}& c_{n2}& \\cdots& c_{nn} \\\\\n",
        "    \\end{array}\n",
        "    \\right]\n",
        "\\end{equation}\n",
        "- $C_{ij}$ representam as vendas de $i$ para $j$.\n",
        "# Modelos de Leontief\n",
        "  - ${\\bf x}=C{\\bf x}+{\\bf d}$.\n",
        "  - ${\\bf x}-C{\\bf x}={\\bf d}$.\n",
        "  - $(I-C){\\bf x}={\\bf d}$.\n",
        "  \n",
        "Resolvendo esse sistema linear teremos o vetor de produção ${\\bf x}$ em valores de unidades monetárias.\n",
        "\n",
        "## Exemplo\n",
        "Seja ${\\bf x}$ o vetor produção\n",
        "\\begin{equation}\\nonumber\n",
        "    \\left[\n",
        "    \\begin{array}{c}\n",
        "\t    x_1 \\\\\n",
        "\t    x_2 \\\\\n",
        "\t    x_3\\\\\n",
        "    \\end{array}\n",
        "    \\right].\n",
        "\\end{equation}\n",
        "Seja ${\\bf d}$ o vetor demanda externa\n",
        "\\begin{equation}\\nonumber\n",
        "    \\left[\n",
        "    \\begin{array}{c}\n",
        "        d_1 \\\\\n",
        "        d_2 \\\\\n",
        "        d_3 \\\\\n",
        "    \\end{array}\n",
        "    \\right]=\n",
        "    \\left[\n",
        "    \\begin{array}{c}\n",
        "        50 \\\\\n",
        "        30 \\\\\n",
        "        20 \\\\\n",
        "    \\end{array}\n",
        "    \\right].\n",
        "\\end{equation}\n",
        " - Índice 1 - Manufatura.\n",
        " - Índice 2 - Agricultura.\n",
        " - Índice 3 - Serviços.\n",
        "  \n",
        "E seja $C$ a matriz de consumo\n",
        "\\begin{equation}\n",
        "    \\left[\n",
        "    \\begin{array}{cccc|r}\n",
        "       0.50   & 0.40 & 0.20\\\\\n",
        "       0.20 & 0.30   & 0.10\\\\\n",
        "       0.10 & 0.10 & 0.30\\\\\n",
        "    \\end{array}\n",
        "    \\right].\n",
        "\\end{equation}\n",
        "Para saber o valor em unidades monetárias produzida vamos resolver $(I-C){\\bf x}={\\bf d}$. Portanto,\n",
        "\\begin{equation}\\nonumber\n",
        "    \\left[\n",
        "    \\begin{array}{c}\n",
        "        x_1 \\\\\n",
        "        x_2 \\\\\n",
        "        x_3 \\\\\n",
        "    \\end{array}\n",
        "    \\right]=\n",
        "    \\left[\n",
        "    \\begin{array}{c}\n",
        "        225.92\\\\\n",
        "        118.51 \\\\\n",
        "        77.77\\\\\n",
        "    \\end{array}\n",
        "    \\right].\n",
        "\\end{equation} "
      ]
    },
    {
      "cell_type": "markdown",
      "metadata": {
        "id": "X7Nvo5NeZrHz"
      },
      "source": [
        "# Resolução do sistema linear\n",
        "## Eliminação de Gauss"
      ]
    },
    {
      "cell_type": "code",
      "metadata": {
        "colab": {
          "base_uri": "https://localhost:8080/"
        },
        "id": "HNBmQvUXZrH0",
        "outputId": "e440b3eb-e4d2-4265-a254-e9744d35a75a"
      },
      "source": [
        "import numpy as np\n",
        "import matplotlib.pyplot as plt\n",
        "import scipy.linalg as la\n",
        "\n",
        "C = np.array([[0.5,0.4,0.2],[0.2,0.3,0.1],[0.1,0.1,0.3]])\n",
        "print(C)"
      ],
      "execution_count": null,
      "outputs": [
        {
          "output_type": "stream",
          "text": [
            "[[0.5 0.4 0.2]\n",
            " [0.2 0.3 0.1]\n",
            " [0.1 0.1 0.3]]\n"
          ],
          "name": "stdout"
        }
      ]
    },
    {
      "cell_type": "code",
      "metadata": {
        "colab": {
          "base_uri": "https://localhost:8080/"
        },
        "id": "0pSn850MZrH1",
        "outputId": "c0e7c204-f604-4495-f34c-0a1b964c1c88"
      },
      "source": [
        "I = np.identity(3, dtype=float)\n",
        "print(I)"
      ],
      "execution_count": null,
      "outputs": [
        {
          "output_type": "stream",
          "text": [
            "[[1. 0. 0.]\n",
            " [0. 1. 0.]\n",
            " [0. 0. 1.]]\n"
          ],
          "name": "stdout"
        }
      ]
    },
    {
      "cell_type": "code",
      "metadata": {
        "colab": {
          "base_uri": "https://localhost:8080/"
        },
        "id": "cC2l0KWEZrH1",
        "outputId": "71fdf35a-a613-4e81-b863-51319ab06fc9"
      },
      "source": [
        "A = I - C\n",
        "print(A)"
      ],
      "execution_count": null,
      "outputs": [
        {
          "output_type": "stream",
          "text": [
            "[[ 0.5 -0.4 -0.2]\n",
            " [-0.2  0.7 -0.1]\n",
            " [-0.1 -0.1  0.7]]\n"
          ],
          "name": "stdout"
        }
      ]
    },
    {
      "cell_type": "markdown",
      "metadata": {
        "id": "-01NDfkzZrH2"
      },
      "source": [
        "### Matriz extendida"
      ]
    },
    {
      "cell_type": "code",
      "metadata": {
        "colab": {
          "base_uri": "https://localhost:8080/"
        },
        "id": "UkrpaC_7ZrH2",
        "outputId": "6abc60b7-cb43-4abe-f4aa-f3b86303e0c9"
      },
      "source": [
        "AE = np.array([[0.5,-0.4,-0.2,50.0],[-0.2,0.7,-0.1,30.0],[-0.1,-0.1,0.7,20.0]])\n",
        "print(AE)"
      ],
      "execution_count": null,
      "outputs": [
        {
          "output_type": "stream",
          "text": [
            "[[ 0.5 -0.4 -0.2 50. ]\n",
            " [-0.2  0.7 -0.1 30. ]\n",
            " [-0.1 -0.1  0.7 20. ]]\n"
          ],
          "name": "stdout"
        }
      ]
    },
    {
      "cell_type": "markdown",
      "metadata": {
        "id": "4tIuOBDcZrH2"
      },
      "source": [
        "### Operações com linhas e matrizes elementares"
      ]
    },
    {
      "cell_type": "markdown",
      "metadata": {
        "id": "x1a4UJpGZrH2"
      },
      "source": [
        "Definindo a operação $L_2=>L_2-\\frac{a_{21}}{a_{11}}L_1$, isto é, $L_2=>L_2+\\frac{2}{5}L_1$"
      ]
    },
    {
      "cell_type": "code",
      "metadata": {
        "colab": {
          "base_uri": "https://localhost:8080/"
        },
        "id": "29m8pay4ZrH3",
        "outputId": "ceb2f550-c059-4560-b208-ea99ebb17099"
      },
      "source": [
        "E1 = np.array([[1,0,0],[2/5,1,0],[0,0,1]])\n",
        "print(E1)"
      ],
      "execution_count": null,
      "outputs": [
        {
          "output_type": "stream",
          "text": [
            "[[1.  0.  0. ]\n",
            " [0.4 1.  0. ]\n",
            " [0.  0.  1. ]]\n"
          ],
          "name": "stdout"
        }
      ]
    },
    {
      "cell_type": "code",
      "metadata": {
        "colab": {
          "base_uri": "https://localhost:8080/"
        },
        "id": "9FKYbwjMZrH3",
        "outputId": "711495c4-78e1-426e-991c-55a8fbe8a7a6"
      },
      "source": [
        "E1 @ AE"
      ],
      "execution_count": null,
      "outputs": [
        {
          "output_type": "execute_result",
          "data": {
            "text/plain": [
              "array([[ 0.5 , -0.4 , -0.2 , 50.  ],\n",
              "       [ 0.  ,  0.54, -0.18, 50.  ],\n",
              "       [-0.1 , -0.1 ,  0.7 , 20.  ]])"
            ]
          },
          "metadata": {
            "tags": []
          },
          "execution_count": 7
        }
      ]
    },
    {
      "cell_type": "markdown",
      "metadata": {
        "id": "I5wvuKVsZrH3"
      },
      "source": [
        "Definindo a operação $L_3=>L_3-\\frac{a_{31}}{a_{11}}L_1$, isto é, $L_3=>L_3+\\frac{1}{5}L_1$"
      ]
    },
    {
      "cell_type": "code",
      "metadata": {
        "colab": {
          "base_uri": "https://localhost:8080/"
        },
        "id": "tu5pAPDQZrH4",
        "outputId": "2bd3d2d0-ca80-4d19-f571-8502cf81cdb4"
      },
      "source": [
        "E2 = np.array([[1,0,0],[0,1,0],[1/5,0,1]])\n",
        "print(E2)"
      ],
      "execution_count": null,
      "outputs": [
        {
          "output_type": "stream",
          "text": [
            "[[1.  0.  0. ]\n",
            " [0.  1.  0. ]\n",
            " [0.2 0.  1. ]]\n"
          ],
          "name": "stdout"
        }
      ]
    },
    {
      "cell_type": "code",
      "metadata": {
        "colab": {
          "base_uri": "https://localhost:8080/"
        },
        "id": "2l-fAwXdZrH4",
        "outputId": "802f2f36-0032-4cc6-c4c8-e48383144610"
      },
      "source": [
        "E2 @ E1 @ AE"
      ],
      "execution_count": null,
      "outputs": [
        {
          "output_type": "execute_result",
          "data": {
            "text/plain": [
              "array([[ 0.5 , -0.4 , -0.2 , 50.  ],\n",
              "       [ 0.  ,  0.54, -0.18, 50.  ],\n",
              "       [ 0.  , -0.18,  0.66, 30.  ]])"
            ]
          },
          "metadata": {
            "tags": []
          },
          "execution_count": 9
        }
      ]
    },
    {
      "cell_type": "markdown",
      "metadata": {
        "id": "9bozIRydZrH4"
      },
      "source": [
        "Definindo a operação $L_3=>L_3-\\frac{a_{32}}{a_{22}}L_2$, isto é, $L_3=>L_3+\\frac{1}{3}L_2$"
      ]
    },
    {
      "cell_type": "code",
      "metadata": {
        "colab": {
          "base_uri": "https://localhost:8080/"
        },
        "id": "d1rxnplaZrH4",
        "outputId": "b4ab09bf-4d27-495c-c70b-bd0ca54776e8"
      },
      "source": [
        "E3 = np.array([[1,0,0],[0,1,0],[0,1/3,1]])\n",
        "print(E3)"
      ],
      "execution_count": null,
      "outputs": [
        {
          "output_type": "stream",
          "text": [
            "[[1.         0.         0.        ]\n",
            " [0.         1.         0.        ]\n",
            " [0.         0.33333333 1.        ]]\n"
          ],
          "name": "stdout"
        }
      ]
    },
    {
      "cell_type": "code",
      "metadata": {
        "colab": {
          "base_uri": "https://localhost:8080/"
        },
        "id": "S_1zCd6QZrH5",
        "outputId": "cb703c5d-ee30-4354-cf73-ee8d7b9b7f34"
      },
      "source": [
        "U = E3 @ E2 @ E1 @ AE\n",
        "print(U)"
      ],
      "execution_count": null,
      "outputs": [
        {
          "output_type": "stream",
          "text": [
            "[[ 5.00000000e-01 -4.00000000e-01 -2.00000000e-01  5.00000000e+01]\n",
            " [ 0.00000000e+00  5.40000000e-01 -1.80000000e-01  5.00000000e+01]\n",
            " [ 1.38777878e-17 -5.55111512e-17  6.00000000e-01  4.66666667e+01]]\n"
          ],
          "name": "stdout"
        }
      ]
    },
    {
      "cell_type": "markdown",
      "metadata": {
        "id": "kCyogVZoZrH5"
      },
      "source": [
        "Solução do sistema linear (retrosubstituíção)"
      ]
    },
    {
      "cell_type": "code",
      "metadata": {
        "colab": {
          "base_uri": "https://localhost:8080/"
        },
        "id": "I-ueXTkyZrH5",
        "outputId": "01238a5e-e502-45d8-9776-e9a3842f9e38"
      },
      "source": [
        "x3 = U[2,3] / U[2,2]\n",
        "x2 = (U[1,3] - U[1,2] * x3) / U[1,1]\n",
        "x1 = (U[0,3] - U[0,2] * x3 - U[0,1] * x2) / U[0,0]\n",
        "print(x1)\n",
        "print(x2)\n",
        "print(x3)"
      ],
      "execution_count": null,
      "outputs": [
        {
          "output_type": "stream",
          "text": [
            "225.92592592592595\n",
            "118.51851851851853\n",
            "77.77777777777779\n"
          ],
          "name": "stdout"
        }
      ]
    },
    {
      "cell_type": "markdown",
      "metadata": {
        "id": "KdX-5TtLZrH6"
      },
      "source": [
        "Solução do sistema linear $x=(x_1,x_2,x_3)=(225.9259, 118.5185, 77.7777)$."
      ]
    },
    {
      "cell_type": "markdown",
      "metadata": {
        "id": "XNlbY3kCZrH6"
      },
      "source": [
        "### Solução usando a matriz inversa de (I-C)\n",
        "Seja $A = (I-C)$ temos que encontrar $A^{-1}$ para calcula $x=A^{-1}d$."
      ]
    },
    {
      "cell_type": "code",
      "metadata": {
        "colab": {
          "base_uri": "https://localhost:8080/"
        },
        "id": "4yKdj0UQZrH6",
        "outputId": "b438f3d7-d67b-4a38-d247-dda4b7492520"
      },
      "source": [
        "d = np.array([[50],[30],[20]])\n",
        "print(d)"
      ],
      "execution_count": null,
      "outputs": [
        {
          "output_type": "stream",
          "text": [
            "[[50]\n",
            " [30]\n",
            " [20]]\n"
          ],
          "name": "stdout"
        }
      ]
    },
    {
      "cell_type": "code",
      "metadata": {
        "colab": {
          "base_uri": "https://localhost:8080/"
        },
        "id": "v1ODiEgkZrH6",
        "outputId": "3f7548e4-e8cc-4972-91d9-2dc42cdb7887"
      },
      "source": [
        "AINV = np.linalg.inv(A)\n",
        "x = AINV @ d\n",
        "print(x)\n"
      ],
      "execution_count": null,
      "outputs": [
        {
          "output_type": "stream",
          "text": [
            "[[225.92592593]\n",
            " [118.51851852]\n",
            " [ 77.77777778]]\n"
          ],
          "name": "stdout"
        }
      ]
    },
    {
      "cell_type": "code",
      "metadata": {
        "colab": {
          "base_uri": "https://localhost:8080/"
        },
        "id": "rFB7SyLvbtEY",
        "outputId": "be237892-df93-4f0f-fd0e-f101fa44d2ab"
      },
      "source": [
        "AINV"
      ],
      "execution_count": null,
      "outputs": [
        {
          "output_type": "execute_result",
          "data": {
            "text/plain": [
              "array([[2.96296296, 1.85185185, 1.11111111],\n",
              "       [0.92592593, 2.03703704, 0.55555556],\n",
              "       [0.55555556, 0.55555556, 1.66666667]])"
            ]
          },
          "metadata": {
            "tags": []
          },
          "execution_count": 16
        }
      ]
    },
    {
      "cell_type": "markdown",
      "metadata": {
        "id": "ZQK7rteGZrH7"
      },
      "source": [
        "Solução do sistema linear $x=(x_1,x_2,x_3)=(225.9259, 118.5185, 77.7777)$. "
      ]
    },
    {
      "cell_type": "markdown",
      "metadata": {
        "id": "etQG_0GsZrH7"
      },
      "source": [
        "# Referências\n",
        "- Anton, Howard Rorres, Chris. Álgebra Linear com Aplicações. Editora Bookman - 2012.\n",
        "- Carl D, Meyer, Matrix Analysis and Applied Linear Algebra, Editora SIAM - 2000  "
      ]
    }
  ]
}