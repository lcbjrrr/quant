{
  "nbformat": 4,
  "nbformat_minor": 0,
  "metadata": {
    "colab": {
      "name": "EDO-Numérica-Solow.ipynb",
      "provenance": [],
      "include_colab_link": true
    },
    "kernelspec": {
      "name": "python3",
      "display_name": "Python 3"
    }
  },
  "cells": [
    {
      "cell_type": "markdown",
      "metadata": {
        "id": "view-in-github",
        "colab_type": "text"
      },
      "source": [
        "<a href=\"https://colab.research.google.com/github/lcbjrrr/quant/blob/master/EDO_Num%C3%A9rica_Solow.ipynb\" target=\"_parent\"><img src=\"https://colab.research.google.com/assets/colab-badge.svg\" alt=\"Open In Colab\"/></a>"
      ]
    },
    {
      "cell_type": "markdown",
      "metadata": {
        "colab_type": "text",
        "id": "BVzL9Q-e6mP_"
      },
      "source": [
        "# Ficha Técnica\n",
        "\n",
        "Disciplina - Otimização e processos dinâmicos.\n",
        "\n",
        "Conteúdo - EDO \n",
        "- Equação diferencial ordinária.\n",
        "- EDO Numérica.\n",
        "- Equações de diferenças.\n",
        "\n",
        "Resolução:\n",
        "- EDO numérica.\n",
        "- Aplicação na equação de Solow.\n",
        "- Programação em Python.\n",
        "\n",
        "Observações:\n",
        "- Material debatido no grupo de pesquisa em Macroeconomia aplicada do Ibmec-SP \n",
        "- http://dgp.cnpq.br/dgp/espelhogrupo/2650993364668746\n",
        "\n",
        "\n",
        "Autores: \n",
        "- Anderson Borba (anderson.aborba@professores.ibmec.edu.br) e\n",
        "- Luiz Barboza (luiz.cbjunior@professores.ibmec.edu.br).\n",
        "\n",
        "Endereço eletrônico: http://quant-ibmec.group/calculos/"
      ]
    },
    {
      "cell_type": "markdown",
      "metadata": {
        "id": "IwIjApcpWm46",
        "colab_type": "text"
      },
      "source": [
        "## Equação diferencial ordinária (EDO) numérica aplicada a equação de Solow\n",
        "Seja a equação para o acúmulo de capital, onde, a taxa de variação do capital é igual ao investimento menos a depreciação do estoque de capital.\n",
        "\\begin{equation}\n",
        "\\dot{K}(t)  = sY(t)- \\delta K(t), \\tag{Eq. do Acumulo de capital}\n",
        "\\end{equation}\n",
        "com $s$ e $\\delta$ números positivos.\n",
        "\n",
        "A razão do crescimento do trabalho é dada por\n",
        "\\begin{equation}\n",
        "\\frac{\\dot{L}(t)}{L(t)} =  n.\n",
        "\\end{equation}\n",
        "\n",
        "Demostração da equação de acumulo de capital per capita. Definindo,\n",
        "\\begin{equation}\n",
        "\\kappa(t) = \\frac{K(t)}{L(t)},\n",
        "\\end{equation}\n",
        "podemos escrever,\n",
        "\\begin{equation}\n",
        "K(t) = \\kappa(t) L(t),\n",
        "\\end{equation}\n",
        "derivando em relação ao tempo,\n",
        "\\begin{equation}\n",
        "\\dot{K}(t) = \\dot{\\kappa}(t) L(t) + \\kappa(t) \\dot{L}(t), \\tag{Derivada do capital}\n",
        "\\end{equation}  \n",
        "substituindo as equações da derivada do capital per capita,\n",
        "\\begin{equation}\n",
        " \\dot{\\kappa}(t) L(t) + \\kappa(t) \\dot{L}(t) = sY(t) - \\delta K(t), \\\\\n",
        " \\dot{\\kappa}(t) L(t)  = sY(t) - \\delta K(t) - \\kappa(t) \\dot{L}(t), \\\\\n",
        " \\dot{\\kappa}(t) = s\\frac{Y(t)}{L(t)} - \\delta \\frac{K(t)}{L(t)} - \\kappa(t) \\frac{\\dot{L}(t)}{L(t)},\n",
        "\\end{equation} \n",
        "usando a razão de crescimento do trabalho, e as definições $\\kappa(t)=\\frac{K(t)}{L(t)}$ e $y(t)=\\frac{Y(t)}{L(t)}$ podemos rescrever a equação por\n",
        "\\begin{equation}\n",
        " \\dot{\\kappa}(t) = sy(t) - \\delta \\kappa(t) - n\\kappa(t),\n",
        "\\end{equation}\n",
        "definindo $y(t)=A\\kappa^\\alpha$, deduzimos a equação diferencial ordinária do acúmulo de capital per capita,\n",
        "\\begin{equation}\n",
        " \\dot{\\kappa}(t) = sA\\kappa^\\alpha - (\\delta + n) \\kappa(t). \\tag{Eq. do acúmulo de capital per capita}\n",
        "\\end{equation} \n"
      ]
    },
    {
      "cell_type": "markdown",
      "metadata": {
        "id": "hn0UDEvjAqRW",
        "colab_type": "text"
      },
      "source": [
        "## Solução analítica da EDO (Eq. de Bernoulli)\n",
        "Reescrevendo a equação de acumulo do capital per capita,\n",
        "\\begin{equation}\n",
        "\\begin{aligned}\n",
        "\\frac{1}{\\kappa^\\alpha}\\frac{d\\kappa}{dt}+(\\delta+n)\\kappa^{1-\\alpha} &=sA.\n",
        "\\end{aligned}\\tag{5}\n",
        "\\end{equation} \n",
        "\n",
        "Definindo $z(t)=\\kappa(t)^{1-\\alpha}$e derivando em relação ao tempo teremos,\n",
        "\\begin{equation}\n",
        "\\begin{aligned}\n",
        "\\frac{dz}{dt}&=\\frac{d\\kappa^{1-\\alpha}}{dt},\\\\\n",
        "\\frac{dz}{dt}&=(1-\\alpha)\\kappa^{-\\alpha}\\frac{d\\kappa}{dt},\\\\\n",
        "\\frac{1}{1-\\alpha}\\frac{dz}{dt}&=\\kappa^{-\\alpha}\\frac{d\\kappa}{dt},\\\\\n",
        "\\end{aligned}\n",
        "\\end{equation}\n",
        "substituindo na equação (5),\n",
        "\\begin{equation}\n",
        "\\begin{aligned}\n",
        "\\frac{1}{1-\\alpha}\\frac{dz}{dt} + (\\delta+n) z=sA,\\\\\n",
        "\\end{aligned}\n",
        "\\end{equation}\n",
        "resultando na EDO com coeficientes constantes,\n",
        "\\begin{equation}\n",
        "\\begin{aligned}\n",
        "\\frac{dz}{dt} + (1-\\alpha)(\\delta+n) z=(1-\\alpha)sA.\\\\\n",
        "\\end{aligned}\\tag{equação de Bernoulli reduzida}\n",
        "\\end{equation}\n",
        "\n",
        "Definindo $a=(1-\\alpha)(\\delta+n)$ e $b=(1-\\alpha)sA$, encontramos a solução usando o método para coeficientes constantes (podemos usar fator integrante),\n",
        "\\begin{equation}\n",
        "\\begin{aligned}\n",
        "z(t)=\\left[z(0)-\\frac{b}{a}\\right]e^{-at}+\\frac{b}{a},\n",
        "\\end{aligned}\n",
        "\\end{equation}\n",
        "então\n",
        "\\begin{equation}\n",
        "\\begin{aligned}\n",
        "z(t)=\\left[z(0)-\\frac{sA}{\\delta + n}\\right]e^{-(1-\\alpha)(\\delta+n) t}+\\frac{sA}{\\delta+n}.\n",
        "\\end{aligned}\n",
        "\\end{equation}\n",
        "lembrando que $z(t)=\\kappa^{1-\\alpha}(t)$ a solução será \n",
        "\\begin{equation}\n",
        "\\begin{aligned}\n",
        "\\kappa(t)=\\left(\\left[\\kappa(0)^{1-\\alpha}-\\frac{sA}{\\delta+n}\\right]e^{-(1-\\alpha)(\\delta+n) t}+\\frac{sA}{\\delta+n}\\right)^{\\frac{1}{1-\\alpha}}.\n",
        "\\end{aligned}\\tag{Solução da EDO de Bernoulli}\n",
        "\\end{equation}\n",
        "\n",
        "O comportamento assintótico ($t\\rightarrow\\infty$) pode ser observado, e afirmamos que o equilíbio para a razão capital trabalho $\\kappa^*$ acontece em\n",
        "\\begin{equation}\n",
        "\\begin{aligned}\n",
        "\\kappa^*=\\left(\\frac{sA}{\\delta+n}\\right)^{\\frac{1}{1-\\alpha}}.\n",
        "\\end{aligned}\\tag{Equilíbrio para $\\kappa$}\n",
        "\\end{equation}\n"
      ]
    },
    {
      "cell_type": "markdown",
      "metadata": {
        "id": "WTL8eUHiWxM0",
        "colab_type": "text"
      },
      "source": [
        "## Solução numérica da equação de Solow"
      ]
    },
    {
      "cell_type": "code",
      "metadata": {
        "id": "U1Lx96EgWyTY",
        "colab_type": "code",
        "colab": {
          "base_uri": "https://localhost:8080/",
          "height": 329
        },
        "outputId": "c192b4ed-a74b-435f-faf1-5edafd52aad2"
      },
      "source": [
        "def fun_solow(t, y):\n",
        "    s = 0.4\n",
        "    A = 1\n",
        "    alpha = 0.3\n",
        "    delta = 0.1\n",
        "    n = 0.01\n",
        "    fun_solow = s * A * y**alpha - (delta +n) * y;\n",
        "    return fun_solow\n",
        "def sol_solow(t):\n",
        "    s = 0.4\n",
        "    A = 1\n",
        "    alpha = 0.3\n",
        "    delta = 0.1\n",
        "    n = 0.01  \n",
        "    k0 = 0.01\n",
        "    sol_solow = (A * s / (n + delta) + (k0**(1.0 - alpha) - \\\n",
        "                A * s / (n + delta) ) * exp((alpha - 1.0) * \\\n",
        "                (n + delta) * t))**(1.0 / (1.0 - alpha))\n",
        "    return sol_solow\n",
        "import numpy as np\n",
        "from numpy import exp\n",
        "import matplotlib.pyplot as plt\n",
        "a = 0\n",
        "b = 50\n",
        "n = 256\n",
        "h = (b - a) / n\n",
        "t      = np.linspace(0, 0, n + 1)\n",
        "y      = np.linspace(0, 0, n + 1)\n",
        "sol_ex = np.linspace(0, 0, n + 1)\n",
        "erro   = np.linspace(0, 0, n + 1)\n",
        "for i in range(0, n + 1):\n",
        "\tt[i] = a + i * h\n",
        "y[0] = sol_solow(t[0])\n",
        "print(y[0])\n",
        "for i in range(1, n + 1):\n",
        "\ty[i] = y[i - 1] + h * fun_solow(t[i - 1], y[i - 1])\n",
        "for i in range(0, n + 1):\n",
        "\tsol_ex[i] = sol_solow(t[i])\n",
        "erro = abs(y - sol_ex)\n",
        "erro_max = max(erro)\n",
        "print(erro_max)\n",
        "# Plot\n",
        "plt.plot(t, y )\n",
        "plt.title('EDO- Solow')\n",
        "plt.xlabel('t')\n",
        "plt.ylabel('$\\kappa(t)$')\n",
        "plt.grid(alpha=.3, linestyle='--')\n",
        "plt.show()"
      ],
      "execution_count": null,
      "outputs": [
        {
          "output_type": "stream",
          "text": [
            "0.010000000000000057\n",
            "0.031706417124879094\n"
          ],
          "name": "stdout"
        },
        {
          "output_type": "display_data",
          "data": {
            "image/png": "[encoded data removed]",
            "text/plain": [
              "<Figure size 432x288 with 1 Axes>"
            ]
          },
          "metadata": {
            "tags": [],
            "needs_background": "light"
          }
        }
      ]
    },
    {
      "cell_type": "markdown",
      "metadata": {
        "id": "PFkubr3neNf3",
        "colab_type": "text"
      },
      "source": [
        "## Gráfico $\\dot{\\kappa}\\times \\kappa$\n"
      ]
    },
    {
      "cell_type": "code",
      "metadata": {
        "id": "p8JdXb6BeaSK",
        "colab_type": "code",
        "colab": {
          "base_uri": "https://localhost:8080/",
          "height": 295
        },
        "outputId": "9905db12-aabb-41a9-e33a-6d91db7c48a9"
      },
      "source": [
        "y     = np.linspace(0, 0, n + 1)\n",
        "dot_y = np.linspace(0, 0, n + 1)\n",
        "for i in range(0, n + 1):\n",
        "\tt[i] = a + i * h\n",
        "for i in range(0, n + 1):\n",
        "  y[i]     = sol_solow(t[i])\n",
        "  dot_y[i] = fun_solow(t[i], y[i])\n",
        "# Plot\n",
        "plt.plot(y, dot_y)\n",
        "plt.title('EDO- Solow')\n",
        "plt.xlabel('$\\kappa$')\n",
        "plt.ylabel('$\\dot{\\kappa}(t)$')\n",
        "plt.grid(alpha=.3, linestyle='--')\n",
        "plt.show()"
      ],
      "execution_count": null,
      "outputs": [
        {
          "output_type": "display_data",
          "data": {
            "image/png": "[encoded data removed]",
            "text/plain": [
              "<Figure size 432x288 with 1 Axes>"
            ]
          },
          "metadata": {
            "tags": [],
            "needs_background": "light"
          }
        }
      ]
    }
  ]
}