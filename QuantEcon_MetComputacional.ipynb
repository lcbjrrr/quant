{
  "nbformat": 4,
  "nbformat_minor": 0,
  "metadata": {
    "colab": {
      "name": "QuantEcon_MetComputacional.ipynb",
      "provenance": [],
      "authorship_tag": "ABX9TyOSfbCf4niy3BLzA5yeMwi7",
      "include_colab_link": true
    },
    "kernelspec": {
      "name": "python3",
      "display_name": "Python 3"
    }
  },
  "cells": [
    {
      "cell_type": "markdown",
      "metadata": {
        "id": "view-in-github",
        "colab_type": "text"
      },
      "source": [
        "<a href=\"https://colab.research.google.com/github/lcbjrrr/quant/blob/master/QuantEcon_MetComputacional.ipynb\" target=\"_parent\"><img src=\"https://colab.research.google.com/assets/colab-badge.svg\" alt=\"Open In Colab\"/></a>"
      ]
    },
    {
      "cell_type": "markdown",
      "metadata": {
        "id": "kx5ePpJ_K6w5",
        "colab_type": "text"
      },
      "source": [
        "***Alguns exemplos do [QuantEcon](https://datascience.quantecon.org/) - Metodos Computacionais***"
      ]
    },
    {
      "cell_type": "markdown",
      "metadata": {
        "id": "1xH5NVmwIB8k",
        "colab_type": "text"
      },
      "source": [
        "**Dinamica do Desemprego**"
      ]
    },
    {
      "cell_type": "markdown",
      "metadata": {
        "id": "l0BX8xWOKmEE",
        "colab_type": "text"
      },
      "source": [
        "Consider an economy where in any given year, α=5% of workers lose their jobs and ϕ=10% of unemployed workers find jobs.\n",
        "\n",
        "Define the vector x0=[900,000100,000] as the number of employed and unemployed workers (respectively) at time 0 in the economy."
      ]
    },
    {
      "cell_type": "markdown",
      "metadata": {
        "id": "GgdSRQYwKtD4",
        "colab_type": "text"
      },
      "source": [
        "\\begin{equation}\n",
        "A=\\left[\\begin{array}{cc}\n",
        "1-\\alpha & \\alpha \\\\\n",
        "\\phi & 1-\\phi\n",
        "\\end{array}\\right]\n",
        "\\end{equation}"
      ]
    },
    {
      "cell_type": "markdown",
      "metadata": {
        "id": "1M5EPvgTK267",
        "colab_type": "text"
      },
      "source": [
        "\\begin{equation}\n",
        "x_{t+1}=A^{\\prime} x_{t}\n",
        "\\end{equation}"
      ]
    },
    {
      "cell_type": "markdown",
      "metadata": {
        "id": "4QF8zfC8LyE5",
        "colab_type": "text"
      },
      "source": [
        "\\begin{equation}\n",
        "x_{1}=\\left[\\begin{array}{l}\n",
        "(1-\\alpha) 900,000+\\phi 100,000 \\\\\n",
        "\\alpha 900,000+(1-\\phi) 100,000\n",
        "\\end{array}\\right]=A^{\\prime} x_{0}\n",
        "\\end{equation}"
      ]
    },
    {
      "cell_type": "code",
      "metadata": {
        "id": "pOk3u6lqMPwH",
        "colab_type": "code",
        "colab": {}
      },
      "source": [
        "import numpy as np\n",
        "phi = 0.1\n",
        "alpha = 0.05\n",
        "\n",
        "x0 = np.array([900_000, 100_000])\n",
        "A = np.array([[1-alpha, alpha], [phi, 1-phi]])\n",
        "\n",
        "def simulate(x0, A, T=10):\n",
        "    nX = x0.shape[0]\n",
        "    out = np.zeros((T, nX))\n",
        "    out[0, :] = x0\n",
        "\n",
        "    for t in range(1, T):\n",
        "        out[t, :] = A.T @ out[t-1, :]\n",
        "    return out"
      ],
      "execution_count": 0,
      "outputs": []
    },
    {
      "cell_type": "code",
      "metadata": {
        "id": "TkPCe7l9M-Ni",
        "colab_type": "code",
        "outputId": "6b6800ed-627f-4888-e082-00a838abe698",
        "colab": {
          "base_uri": "https://localhost:8080/",
          "height": 296
        }
      },
      "source": [
        "import matplotlib.pyplot as plt\n",
        "\n",
        "def plot_simulation(x0, A, T=2):\n",
        "    X = simulate(x0, A, T)\n",
        "    fig, ax = plt.subplots()\n",
        "    ax.plot(X[:, 0])\n",
        "    ax.plot(X[:, 1])\n",
        "    ax.set_xlabel(\"t\")\n",
        "    ax.legend([\"Employed\", \"Unemployed\"])\n",
        "    return ax\n",
        "\n",
        "plot_simulation(x0, A, 50)"
      ],
      "execution_count": 0,
      "outputs": [
        {
          "output_type": "execute_result",
          "data": {
            "text/plain": [
              "<matplotlib.axes._subplots.AxesSubplot at 0x7f9f24821860>"
            ]
          },
          "metadata": {
            "tags": []
          },
          "execution_count": 8
        },
        {
          "output_type": "display_data",
          "data": {
            "image/png": "[encoded data removed]",
            "text/plain": [
              "<Figure size 432x288 with 1 Axes>"
            ]
          },
          "metadata": {
            "tags": []
          }
        }
      ]
    }
  ]
}