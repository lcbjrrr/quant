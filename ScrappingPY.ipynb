{
  "nbformat": 4,
  "nbformat_minor": 0,
  "metadata": {
    "colab": {
      "provenance": [],
      "authorship_tag": "ABX9TyPiIVinBp4c5ypNMALWETeD",
      "include_colab_link": true
    },
    "kernelspec": {
      "name": "python3",
      "display_name": "Python 3"
    }
  },
  "cells": [
    {
      "cell_type": "markdown",
      "metadata": {
        "id": "view-in-github",
        "colab_type": "text"
      },
      "source": [
        "<a href=\"https://colab.research.google.com/github/lcbjrrr/quant/blob/master/ScrappingPY.ipynb\" target=\"_parent\"><img src=\"https://colab.research.google.com/assets/colab-badge.svg\" alt=\"Open In Colab\"/></a>"
      ]
    },
    {
      "cell_type": "markdown",
      "source": [
        "\n",
        "\n",
        "```\n",
        "<html>\n",
        "\n",
        "    <head>\n",
        "        <link rel=\"stylesheet\" href=\"a.css\">\n",
        "        <title>Titulo da Pagina</title>\n",
        "    </head>\n",
        "    \n",
        "    <body>\n",
        "        <h1 >Topico 1</h1>\n",
        "        <div class=banana>\n",
        "        Banana, pacoba ou pacova[1] é uma pseudobaga da bananeira, uma planta herbácea vivaz acaule da família Musaceae\n",
        "        <br>\n",
        "        (género Musa - além do género Ensete, que produz as chamadas \"falsas bananas\").\n",
        "        <br>\n",
        "        São cultivadas em 130 países. Originárias do sudeste da Ásia são atualmente cultivadas em praticamente todas as regiões tropicais do planeta.\n",
        "        </div>\n",
        "        <p>\n",
        "        <a href=\"https://pt.wikipedia.org/wiki/Banana\">Banana</a>\n",
        "            \n",
        "        <table>\n",
        "            <tr>\n",
        "                <td>DATA</td>\n",
        "                <td>APRESENTADORs</td>\n",
        "                <td>TEMA</td>\n",
        "            </tr>\n",
        "            <tr>\n",
        "                <td>1/1/20</td>\n",
        "                <td>Luiz</td>\n",
        "                <td>Python</td>\n",
        "            </tr>\n",
        "            <tr>\n",
        "                <td>2/2/2020</td>\n",
        "                <td>Joao</td>\n",
        "                <td>Excel</td>\n",
        "            </tr>\n",
        "        </table>\n",
        "\n",
        "<p>\n",
        "<img src=\"https://m.media-amazon.com/images/I/61fZ+YAYGaL._SL1500_.jpg\"/>\n",
        "</p></p>\n",
        "    </body>\n",
        "    \n",
        "    \n",
        "</html>\n",
        "```\n",
        "\n",
        "\n",
        "\n"
      ],
      "metadata": {
        "id": "577Nx_lGj4iZ"
      }
    },
    {
      "cell_type": "code",
      "metadata": {
        "id": "aJHVn_kja6Lu",
        "colab": {
          "resources": {
            "http://localhost:8080/61fZ+YAYGaL._SL1500_.jpg": {
              "data": "CjwhRE9DVFlQRSBodG1sPgo8aHRtbCBsYW5nPWVuPgogIDxtZXRhIGNoYXJzZXQ9dXRmLTg+CiAgPG1ldGEgbmFtZT12aWV3cG9ydCBjb250ZW50PSJpbml0aWFsLXNjYWxlPTEsIG1pbmltdW0tc2NhbGU9MSwgd2lkdGg9ZGV2aWNlLXdpZHRoIj4KICA8dGl0bGU+RXJyb3IgNDA0IChOb3QgRm91bmQpISExPC90aXRsZT4KICA8c3R5bGU+CiAgICAqe21hcmdpbjowO3BhZGRpbmc6MH1odG1sLGNvZGV7Zm9udDoxNXB4LzIycHggYXJpYWwsc2Fucy1zZXJpZn1odG1se2JhY2tncm91bmQ6I2ZmZjtjb2xvcjojMjIyO3BhZGRpbmc6MTVweH1ib2R5e21hcmdpbjo3JSBhdXRvIDA7bWF4LXdpZHRoOjM5MHB4O21pbi1oZWlnaHQ6MTgwcHg7cGFkZGluZzozMHB4IDAgMTVweH0qID4gYm9keXtiYWNrZ3JvdW5kOnVybCgvL3d3dy5nb29nbGUuY29tL2ltYWdlcy9lcnJvcnMvcm9ib3QucG5nKSAxMDAlIDVweCBuby1yZXBlYXQ7cGFkZGluZy1yaWdodDoyMDVweH1we21hcmdpbjoxMXB4IDAgMjJweDtvdmVyZmxvdzpoaWRkZW59aW5ze2NvbG9yOiM3Nzc7dGV4dC1kZWNvcmF0aW9uOm5vbmV9YSBpbWd7Ym9yZGVyOjB9QG1lZGlhIHNjcmVlbiBhbmQgKG1heC13aWR0aDo3NzJweCl7Ym9keXtiYWNrZ3JvdW5kOm5vbmU7bWFyZ2luLXRvcDowO21heC13aWR0aDpub25lO3BhZGRpbmctcmlnaHQ6MH19I2xvZ297YmFja2dyb3VuZDp1cmwoLy93d3cuZ29vZ2xlLmNvbS9pbWFnZXMvbG9nb3MvZXJyb3JwYWdlL2Vycm9yX2xvZ28tMTUweDU0LnBuZykgbm8tcmVwZWF0O21hcmdpbi1sZWZ0Oi01cHh9QG1lZGlhIG9ubHkgc2NyZWVuIGFuZCAobWluLXJlc29sdXRpb246MTkyZHBpKXsjbG9nb3tiYWNrZ3JvdW5kOnVybCgvL3d3dy5nb29nbGUuY29tL2ltYWdlcy9sb2dvcy9lcnJvcnBhZ2UvZXJyb3JfbG9nby0xNTB4NTQtMngucG5nKSBuby1yZXBlYXQgMCUgMCUvMTAwJSAxMDAlOy1tb3otYm9yZGVyLWltYWdlOnVybCgvL3d3dy5nb29nbGUuY29tL2ltYWdlcy9sb2dvcy9lcnJvcnBhZ2UvZXJyb3JfbG9nby0xNTB4NTQtMngucG5nKSAwfX1AbWVkaWEgb25seSBzY3JlZW4gYW5kICgtd2Via2l0LW1pbi1kZXZpY2UtcGl4ZWwtcmF0aW86Mil7I2xvZ297YmFja2dyb3VuZDp1cmwoLy93d3cuZ29vZ2xlLmNvbS9pbWFnZXMvbG9nb3MvZXJyb3JwYWdlL2Vycm9yX2xvZ28tMTUweDU0LTJ4LnBuZykgbm8tcmVwZWF0Oy13ZWJraXQtYmFja2dyb3VuZC1zaXplOjEwMCUgMTAwJX19I2xvZ297ZGlzcGxheTppbmxpbmUtYmxvY2s7aGVpZ2h0OjU0cHg7d2lkdGg6MTUwcHh9CiAgPC9zdHlsZT4KICA8YSBocmVmPS8vd3d3Lmdvb2dsZS5jb20vPjxzcGFuIGlkPWxvZ28gYXJpYS1sYWJlbD1Hb29nbGU+PC9zcGFuPjwvYT4KICA8cD48Yj40MDQuPC9iPiA8aW5zPlRoYXTigJlzIGFuIGVycm9yLjwvaW5zPgogIDxwPiAgPGlucz5UaGF04oCZcyBhbGwgd2Uga25vdy48L2lucz4K",
              "ok": false,
              "headers": [
                [
                  "content-length",
                  "1449"
                ],
                [
                  "content-type",
                  "text/html; charset=utf-8"
                ]
              ],
              "status": 404,
              "status_text": ""
            },
            "http://localhost:8080/a.css": {
              "data": "CjwhRE9DVFlQRSBodG1sPgo8aHRtbCBsYW5nPWVuPgogIDxtZXRhIGNoYXJzZXQ9dXRmLTg+CiAgPG1ldGEgbmFtZT12aWV3cG9ydCBjb250ZW50PSJpbml0aWFsLXNjYWxlPTEsIG1pbmltdW0tc2NhbGU9MSwgd2lkdGg9ZGV2aWNlLXdpZHRoIj4KICA8dGl0bGU+RXJyb3IgNDA0IChOb3QgRm91bmQpISExPC90aXRsZT4KICA8c3R5bGU+CiAgICAqe21hcmdpbjowO3BhZGRpbmc6MH1odG1sLGNvZGV7Zm9udDoxNXB4LzIycHggYXJpYWwsc2Fucy1zZXJpZn1odG1se2JhY2tncm91bmQ6I2ZmZjtjb2xvcjojMjIyO3BhZGRpbmc6MTVweH1ib2R5e21hcmdpbjo3JSBhdXRvIDA7bWF4LXdpZHRoOjM5MHB4O21pbi1oZWlnaHQ6MTgwcHg7cGFkZGluZzozMHB4IDAgMTVweH0qID4gYm9keXtiYWNrZ3JvdW5kOnVybCgvL3d3dy5nb29nbGUuY29tL2ltYWdlcy9lcnJvcnMvcm9ib3QucG5nKSAxMDAlIDVweCBuby1yZXBlYXQ7cGFkZGluZy1yaWdodDoyMDVweH1we21hcmdpbjoxMXB4IDAgMjJweDtvdmVyZmxvdzpoaWRkZW59aW5ze2NvbG9yOiM3Nzc7dGV4dC1kZWNvcmF0aW9uOm5vbmV9YSBpbWd7Ym9yZGVyOjB9QG1lZGlhIHNjcmVlbiBhbmQgKG1heC13aWR0aDo3NzJweCl7Ym9keXtiYWNrZ3JvdW5kOm5vbmU7bWFyZ2luLXRvcDowO21heC13aWR0aDpub25lO3BhZGRpbmctcmlnaHQ6MH19I2xvZ297YmFja2dyb3VuZDp1cmwoLy93d3cuZ29vZ2xlLmNvbS9pbWFnZXMvbG9nb3MvZXJyb3JwYWdlL2Vycm9yX2xvZ28tMTUweDU0LnBuZykgbm8tcmVwZWF0O21hcmdpbi1sZWZ0Oi01cHh9QG1lZGlhIG9ubHkgc2NyZWVuIGFuZCAobWluLXJlc29sdXRpb246MTkyZHBpKXsjbG9nb3tiYWNrZ3JvdW5kOnVybCgvL3d3dy5nb29nbGUuY29tL2ltYWdlcy9sb2dvcy9lcnJvcnBhZ2UvZXJyb3JfbG9nby0xNTB4NTQtMngucG5nKSBuby1yZXBlYXQgMCUgMCUvMTAwJSAxMDAlOy1tb3otYm9yZGVyLWltYWdlOnVybCgvL3d3dy5nb29nbGUuY29tL2ltYWdlcy9sb2dvcy9lcnJvcnBhZ2UvZXJyb3JfbG9nby0xNTB4NTQtMngucG5nKSAwfX1AbWVkaWEgb25seSBzY3JlZW4gYW5kICgtd2Via2l0LW1pbi1kZXZpY2UtcGl4ZWwtcmF0aW86Mil7I2xvZ297YmFja2dyb3VuZDp1cmwoLy93d3cuZ29vZ2xlLmNvbS9pbWFnZXMvbG9nb3MvZXJyb3JwYWdlL2Vycm9yX2xvZ28tMTUweDU0LTJ4LnBuZykgbm8tcmVwZWF0Oy13ZWJraXQtYmFja2dyb3VuZC1zaXplOjEwMCUgMTAwJX19I2xvZ297ZGlzcGxheTppbmxpbmUtYmxvY2s7aGVpZ2h0OjU0cHg7d2lkdGg6MTUwcHh9CiAgPC9zdHlsZT4KICA8YSBocmVmPS8vd3d3Lmdvb2dsZS5jb20vPjxzcGFuIGlkPWxvZ28gYXJpYS1sYWJlbD1Hb29nbGU+PC9zcGFuPjwvYT4KICA8cD48Yj40MDQuPC9iPiA8aW5zPlRoYXTigJlzIGFuIGVycm9yLjwvaW5zPgogIDxwPiAgPGlucz5UaGF04oCZcyBhbGwgd2Uga25vdy48L2lucz4K",
              "ok": false,
              "headers": [
                [
                  "content-length",
                  "1449"
                ],
                [
                  "content-type",
                  "text/html; charset=utf-8"
                ]
              ],
              "status": 404,
              "status_text": ""
            }
          },
          "base_uri": "https://localhost:8080/",
          "height": 254
        },
        "outputId": "84c1c284-df54-4559-e936-948ebee720bc"
      },
      "source": [
        "%%html\n",
        "<html>\n",
        "\n",
        "    <head>\n",
        "        <link rel=\"stylesheet\" href=\"a.css\">\n",
        "        <title>Titulo da Pagina</title>\n",
        "    </head>\n",
        "\n",
        "    <body>\n",
        "        <h1 >Topico 1</h1>\n",
        "        <div class=banana>\n",
        "        Banana, pacoba ou pacova[1] é uma pseudobaga da bananeira, uma planta herbácea vivaz acaule da família Musaceae\n",
        "        <br>\n",
        "        (género Musa - além do género Ensete, que produz as chamadas \"falsas bananas\").\n",
        "        <br>\n",
        "        São cultivadas em 130 países. Originárias do sudeste da Ásia são atualmente cultivadas em praticamente todas as regiões tropicais do planeta.\n",
        "        </div>\n",
        "        <p>\n",
        "        <a href=\"https://pt.wikipedia.org/wiki/Banana\">Banana</a>\n",
        "\n",
        "        <table>\n",
        "            <tr>\n",
        "                <td>DATA</td>\n",
        "                <td>APRESENTADORs</td>\n",
        "                <td>TEMA</td>\n",
        "            </tr>\n",
        "            <tr>\n",
        "                <td>1/1/20</td>\n",
        "                <td>Luiz</td>\n",
        "                <td>Python</td>\n",
        "            </tr>\n",
        "            <tr>\n",
        "                <td>2/2/2020</td>\n",
        "                <td>Joao</td>\n",
        "                <td>Excel</td>\n",
        "            </tr>\n",
        "        </table>\n",
        "\n",
        "<p>\n",
        "<img src=\"61fZ+YAYGaL._SL1500_.jpg\"/>\n",
        "</p></p>\n",
        "    </body>\n",
        "\n",
        "\n",
        "</html>"
      ],
      "execution_count": null,
      "outputs": [
        {
          "output_type": "display_data",
          "data": {
            "text/plain": [
              "<IPython.core.display.HTML object>"
            ],
            "text/html": [
              "<html>\n",
              "\n",
              "    <head>\n",
              "        <link rel=\"stylesheet\" href=\"a.css\">\n",
              "        <title>Titulo da Pagina</title>\n",
              "    </head>\n",
              "\n",
              "    <body>\n",
              "        <h1 >Topico 1</h1>\n",
              "        <div class=banana>\n",
              "        Banana, pacoba ou pacova[1] é uma pseudobaga da bananeira, uma planta herbácea vivaz acaule da família Musaceae\n",
              "        <br>\n",
              "        (género Musa - além do género Ensete, que produz as chamadas \"falsas bananas\").\n",
              "        <br>\n",
              "        São cultivadas em 130 países. Originárias do sudeste da Ásia são atualmente cultivadas em praticamente todas as regiões tropicais do planeta.\n",
              "        </div>\n",
              "        <p>\n",
              "        <a href=\"https://pt.wikipedia.org/wiki/Banana\">Banana</a>\n",
              "\n",
              "        <table>\n",
              "            <tr>\n",
              "                <td>DATA</td>\n",
              "                <td>APRESENTADORs</td>\n",
              "                <td>TEMA</td>\n",
              "            </tr>\n",
              "            <tr>\n",
              "                <td>1/1/20</td>\n",
              "                <td>Luiz</td>\n",
              "                <td>Python</td>\n",
              "            </tr>\n",
              "            <tr>\n",
              "                <td>2/2/2020</td>\n",
              "                <td>Joao</td>\n",
              "                <td>Excel</td>\n",
              "            </tr>\n",
              "        </table>\n",
              "\n",
              "<p>\n",
              "<img src=\"61fZ+YAYGaL._SL1500_.jpg\"/>\n",
              "</p></p>\n",
              "    </body>\n",
              "\n",
              "\n",
              "</html>\n"
            ]
          },
          "metadata": {}
        }
      ]
    },
    {
      "cell_type": "code",
      "metadata": {
        "id": "q8MGcnv0b-MQ",
        "outputId": "a4d62391-7957-4448-c29c-0cbf2c1e00dc",
        "colab": {
          "base_uri": "https://localhost:8080/",
          "height": 853
        }
      },
      "source": [
        "from bs4 import BeautifulSoup\n",
        "from urllib.request import urlopen\n",
        "\n",
        "url ='https://quant-research.group/banana.html'\n",
        "resp = urlopen(url)\n",
        "pag = resp.read()\n",
        "print(pag)\n",
        "html = BeautifulSoup(pag,'html.parser')\n",
        "html"
      ],
      "execution_count": null,
      "outputs": [
        {
          "output_type": "stream",
          "text": [
            "b'\\n<html>\\n\\n    <script src=\"script.js\"></script>\\n\\n\\t<head>\\n\\t\\t<link rel=\"stylesheet\" href=\"estilo.css\">\\n\\t\\t<title> Titulo da pagina </title>\\n\\t</head>\\n\\t\\n\\t\\n\\t<body onload=\"alo()\">\\n\\t\\t<h1>Topico 1</h1>\\n\\t\\t<div class=banana>\\n\\t\\tBanana, pacoba ou pacova \\xc3\\x83\\xc2\\xa9 uma pseudobaga da bananeira,\\n\\t\\t<br> \\n\\t\\tuma planta herb\\xc3\\x83\\xc2\\xa1cea vivaz acaule da fam\\xc3\\x83\\xc2\\xadlia Musaceae.\\n\\t\\t<p> \\n\\t\\tS\\xc3\\x83\\xc2\\xa3o cultivadas em 130 pa\\xc3\\x83\\xc2\\xadses. Origin\\xc3\\x83\\xc2\\xa1rias do sudeste da \\n\\t\\t\\xc3\\x83\\xc2\\x81sia s\\xc3\\x83\\xc2\\xa3o atualmente cultivadas em praticamente todas as \\n\\t\\tregi\\xc3\\x83\\xc2\\xb5es tropicais do planeta.\\n\\t</div>\\n\\t<a href=https://pt.wikipedia.org/wiki/Banana>Link p Banana</a>\\n\\t<br>\\n\\t\\n\\t<p>\\n\\t<table>\\n\\t\\t<tr>\\n\\t\\t\\t<td>DATA </td>\\n\\t\\t\\t<td>APRESENTADOR</td>\\n\\t\\t\\t<td>TEMA</td>\\n\\t\\t</tr>\\n\\t\\t<tr>\\n\\t\\t\\t<td>1/5/20 </td>\\n\\t\\t\\t<td>Luiz </td>\\n\\t\\t\\t<td><a href=https://www.youtube.com/watch?v=jc_xIvPbwhs&feature=youtu.be>Scrapping</a></td>\\n\\t\\t</tr>\\n\\t\\t<tr>\\n\\t\\t\\t<td>3/5/20 </td>\\n\\t\\t\\t<td>Joao </td>\\n\\t\\t\\t<td>Banco da Dados</td>\\n\\t\\t</tr>\\n\\t\\t<tr>\\n\\t\\t\\t<td>5/5/20 </td>\\n\\t\\t\\t<td>Maria </td>\\n\\t\\t\\t<td>Trading</td>\\n\\t\\t</tr>\\n\\t</table>\\n\\t<p>\\n\\t<img src=Banana.jpg /> \\n\\t</body>\\n\\n\\n</html>'\n"
          ],
          "name": "stdout"
        },
        {
          "output_type": "execute_result",
          "data": {
            "text/plain": [
              "\n",
              "<html>\n",
              "<script src=\"script.js\"></script>\n",
              "<head>\n",
              "<link href=\"estilo.css\" rel=\"stylesheet\"/>\n",
              "<title> Titulo da pagina </title>\n",
              "</head>\n",
              "<body onload=\"alo()\">\n",
              "<h1>Topico 1</h1>\n",
              "<div class=\"banana\">\n",
              "\t\tBanana, pacoba ou pacova Ã© uma pseudobaga da bananeira,\n",
              "\t\t<br/> \n",
              "\t\tuma planta herbÃ¡cea vivaz acaule da famÃ­lia Musaceae.\n",
              "\t\t<p> \n",
              "\t\tSÃ£o cultivadas em 130 paÃ­ses. OriginÃ¡rias do sudeste da \n",
              "\t\tÃsia sÃ£o atualmente cultivadas em praticamente todas as \n",
              "\t\tregiÃµes tropicais do planeta.\n",
              "\t</p></div>\n",
              "<a href=\"https://pt.wikipedia.org/wiki/Banana\">Link p Banana</a>\n",
              "<br/>\n",
              "<p>\n",
              "<table>\n",
              "<tr>\n",
              "<td>DATA </td>\n",
              "<td>APRESENTADOR</td>\n",
              "<td>TEMA</td>\n",
              "</tr>\n",
              "<tr>\n",
              "<td>1/5/20 </td>\n",
              "<td>Luiz </td>\n",
              "<td><a href=\"https://www.youtube.com/watch?v=jc_xIvPbwhs&amp;feature=youtu.be\">Scrapping</a></td>\n",
              "</tr>\n",
              "<tr>\n",
              "<td>3/5/20 </td>\n",
              "<td>Joao </td>\n",
              "<td>Banco da Dados</td>\n",
              "</tr>\n",
              "<tr>\n",
              "<td>5/5/20 </td>\n",
              "<td>Maria </td>\n",
              "<td>Trading</td>\n",
              "</tr>\n",
              "</table>\n",
              "<p>\n",
              "<img src=\"Banana.jpg\"/>\n",
              "</p></p></body>\n",
              "</html>"
            ]
          },
          "metadata": {
            "tags": []
          },
          "execution_count": 8
        }
      ]
    },
    {
      "cell_type": "code",
      "metadata": {
        "id": "-Jg9PVRscv_l",
        "outputId": "9ea3faa0-004d-4cc3-f3c7-6253238ef4eb",
        "colab": {
          "base_uri": "https://localhost:8080/",
          "height": 35
        }
      },
      "source": [
        "html.h1.get_text()"
      ],
      "execution_count": null,
      "outputs": [
        {
          "output_type": "execute_result",
          "data": {
            "application/vnd.google.colaboratory.intrinsic+json": {
              "type": "string"
            },
            "text/plain": [
              "'Topico 1'"
            ]
          },
          "metadata": {
            "tags": []
          },
          "execution_count": 11
        }
      ]
    },
    {
      "cell_type": "code",
      "metadata": {
        "id": "9zqMXqOfc8sr",
        "outputId": "07b94a80-a227-4cc4-cf54-7d19a14049fd",
        "colab": {
          "base_uri": "https://localhost:8080/",
          "height": 69
        }
      },
      "source": [
        "html.find('div',class_='banana').get_text()"
      ],
      "execution_count": null,
      "outputs": [
        {
          "output_type": "execute_result",
          "data": {
            "application/vnd.google.colaboratory.intrinsic+json": {
              "type": "string"
            },
            "text/plain": [
              "'\\n\\t\\tBanana, pacoba ou pacova Ã© uma pseudobaga da bananeira,\\n\\t\\t \\n\\t\\tuma planta herbÃ¡cea vivaz acaule da famÃ\\xadlia Musaceae.\\n\\t\\t \\n\\t\\tSÃ£o cultivadas em 130 paÃ\\xadses. OriginÃ¡rias do sudeste da \\n\\t\\tÃ\\x81sia sÃ£o atualmente cultivadas em praticamente todas as \\n\\t\\tregiÃµes tropicais do planeta.\\n\\t'"
            ]
          },
          "metadata": {
            "tags": []
          },
          "execution_count": 13
        }
      ]
    },
    {
      "cell_type": "code",
      "metadata": {
        "id": "h0eQxv3Wg-hz",
        "outputId": "127bea5e-5af1-4e6f-9152-c3887f880f64",
        "colab": {
          "base_uri": "https://localhost:8080/",
          "height": 391
        }
      },
      "source": [
        "tabela=html.find('table')\n",
        "tabela"
      ],
      "execution_count": null,
      "outputs": [
        {
          "output_type": "execute_result",
          "data": {
            "text/plain": [
              "<table>\n",
              "<tr>\n",
              "<td>DATA </td>\n",
              "<td>APRESENTADOR</td>\n",
              "<td>TEMA</td>\n",
              "</tr>\n",
              "<tr>\n",
              "<td>1/5/20 </td>\n",
              "<td>Luiz </td>\n",
              "<td><a href=\"https://www.youtube.com/watch?v=jc_xIvPbwhs&amp;feature=youtu.be\">Scrapping</a></td>\n",
              "</tr>\n",
              "<tr>\n",
              "<td>3/5/20 </td>\n",
              "<td>Joao </td>\n",
              "<td>Banco da Dados</td>\n",
              "</tr>\n",
              "<tr>\n",
              "<td>5/5/20 </td>\n",
              "<td>Maria </td>\n",
              "<td>Trading</td>\n",
              "</tr>\n",
              "</table>"
            ]
          },
          "metadata": {
            "tags": []
          },
          "execution_count": 15
        }
      ]
    },
    {
      "cell_type": "code",
      "metadata": {
        "id": "hyoek-eHhIkN",
        "outputId": "ca99ebf9-09d5-44fd-b241-79bdbbaa3383",
        "colab": {
          "base_uri": "https://localhost:8080/",
          "height": 102
        }
      },
      "source": [
        "import pandas as pd\n",
        "df=pd.read_html(str(tabela))[0]\n",
        "df"
      ],
      "execution_count": null,
      "outputs": [
        {
          "output_type": "execute_result",
          "data": {
            "text/plain": [
              "0      DATA\n",
              "1    1/5/20\n",
              "2    3/5/20\n",
              "3    5/5/20\n",
              "Name: 0, dtype: object"
            ]
          },
          "metadata": {
            "tags": []
          },
          "execution_count": 21
        }
      ]
    },
    {
      "cell_type": "code",
      "metadata": {
        "id": "J6R9t4dYhcOb",
        "outputId": "0e4346b1-f019-4987-db99-b9d3b261a3e4",
        "colab": {
          "base_uri": "https://localhost:8080/",
          "height": 142
        }
      },
      "source": [
        "df.columns = df.iloc[0,:]\n",
        "df.drop([0],inplace=True)\n",
        "df"
      ],
      "execution_count": null,
      "outputs": [
        {
          "output_type": "execute_result",
          "data": {
            "text/html": [
              "<div>\n",
              "<style scoped>\n",
              "    .dataframe tbody tr th:only-of-type {\n",
              "        vertical-align: middle;\n",
              "    }\n",
              "\n",
              "    .dataframe tbody tr th {\n",
              "        vertical-align: top;\n",
              "    }\n",
              "\n",
              "    .dataframe thead th {\n",
              "        text-align: right;\n",
              "    }\n",
              "</style>\n",
              "<table border=\"1\" class=\"dataframe\">\n",
              "  <thead>\n",
              "    <tr style=\"text-align: right;\">\n",
              "      <th></th>\n",
              "      <th>DATA</th>\n",
              "      <th>APRESENTADOR</th>\n",
              "      <th>TEMA</th>\n",
              "    </tr>\n",
              "  </thead>\n",
              "  <tbody>\n",
              "    <tr>\n",
              "      <th>1</th>\n",
              "      <td>1/5/20</td>\n",
              "      <td>Luiz</td>\n",
              "      <td>Scrapping</td>\n",
              "    </tr>\n",
              "    <tr>\n",
              "      <th>2</th>\n",
              "      <td>3/5/20</td>\n",
              "      <td>Joao</td>\n",
              "      <td>Banco da Dados</td>\n",
              "    </tr>\n",
              "    <tr>\n",
              "      <th>3</th>\n",
              "      <td>5/5/20</td>\n",
              "      <td>Maria</td>\n",
              "      <td>Trading</td>\n",
              "    </tr>\n",
              "  </tbody>\n",
              "</table>\n",
              "</div>"
            ],
            "text/plain": [
              "0    DATA APRESENTADOR            TEMA\n",
              "1  1/5/20         Luiz       Scrapping\n",
              "2  3/5/20         Joao  Banco da Dados\n",
              "3  5/5/20        Maria         Trading"
            ]
          },
          "metadata": {
            "tags": []
          },
          "execution_count": 23
        }
      ]
    },
    {
      "cell_type": "markdown",
      "source": [],
      "metadata": {
        "id": "m-RYoyWVj33c"
      }
    }
  ]
}