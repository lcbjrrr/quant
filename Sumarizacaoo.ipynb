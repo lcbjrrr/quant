{
  "nbformat": 4,
  "nbformat_minor": 0,
  "metadata": {
    "colab": {
      "name": "Sumarizacaoo.ipynb",
      "provenance": [],
      "authorship_tag": "ABX9TyOEJKG8od3iKNubcaiMIl7p",
      "include_colab_link": true
    },
    "kernelspec": {
      "name": "python3",
      "display_name": "Python 3"
    },
    "language_info": {
      "name": "python"
    }
  },
  "cells": [
    {
      "cell_type": "markdown",
      "metadata": {
        "id": "view-in-github",
        "colab_type": "text"
      },
      "source": [
        "<a href=\"https://colab.research.google.com/github/lcbjrrr/quant/blob/master/Sumarizacaoo.ipynb\" target=\"_parent\"><img src=\"https://colab.research.google.com/assets/colab-badge.svg\" alt=\"Open In Colab\"/></a>"
      ]
    },
    {
      "cell_type": "markdown",
      "metadata": {
        "id": "RZTboX_tCtyD"
      },
      "source": [
        "# Py"
      ]
    },
    {
      "cell_type": "code",
      "metadata": {
        "colab": {
          "base_uri": "https://localhost:8080/",
          "height": 112
        },
        "id": "ROottqPhS53U",
        "outputId": "6ae2a5a4-dd02-4958-f774-6dc23684dda8"
      },
      "source": [
        "import pandas as pd\n",
        "df = pd.read_csv('https://raw.githubusercontent.com/lcbjrrr/quant/master/notas%20(2).csv')\n",
        "df.head(2)"
      ],
      "execution_count": 2,
      "outputs": [
        {
          "output_type": "execute_result",
          "data": {
            "text/html": [
              "<div>\n",
              "<style scoped>\n",
              "    .dataframe tbody tr th:only-of-type {\n",
              "        vertical-align: middle;\n",
              "    }\n",
              "\n",
              "    .dataframe tbody tr th {\n",
              "        vertical-align: top;\n",
              "    }\n",
              "\n",
              "    .dataframe thead th {\n",
              "        text-align: right;\n",
              "    }\n",
              "</style>\n",
              "<table border=\"1\" class=\"dataframe\">\n",
              "  <thead>\n",
              "    <tr style=\"text-align: right;\">\n",
              "      <th></th>\n",
              "      <th>Curso</th>\n",
              "      <th>Alunos</th>\n",
              "      <th>AP1</th>\n",
              "      <th>AP2</th>\n",
              "      <th>AP3</th>\n",
              "      <th>Nota</th>\n",
              "      <th>Conceito</th>\n",
              "    </tr>\n",
              "  </thead>\n",
              "  <tbody>\n",
              "    <tr>\n",
              "      <th>0</th>\n",
              "      <td>ADM</td>\n",
              "      <td>João</td>\n",
              "      <td>9.0</td>\n",
              "      <td>8.0</td>\n",
              "      <td>9.0</td>\n",
              "      <td>8.6</td>\n",
              "      <td>B</td>\n",
              "    </tr>\n",
              "    <tr>\n",
              "      <th>1</th>\n",
              "      <td>ADM</td>\n",
              "      <td>Maria</td>\n",
              "      <td>6.0</td>\n",
              "      <td>4.0</td>\n",
              "      <td>10.0</td>\n",
              "      <td>6.0</td>\n",
              "      <td>D</td>\n",
              "    </tr>\n",
              "  </tbody>\n",
              "</table>\n",
              "</div>"
            ],
            "text/plain": [
              "  Curso Alunos  AP1  AP2   AP3  Nota Conceito\n",
              "0   ADM   João  9.0  8.0   9.0   8.6        B\n",
              "1   ADM  Maria  6.0  4.0  10.0   6.0        D"
            ]
          },
          "metadata": {},
          "execution_count": 2
        }
      ]
    },
    {
      "cell_type": "code",
      "metadata": {
        "colab": {
          "base_uri": "https://localhost:8080/"
        },
        "id": "BxlNKUs0PvBG",
        "outputId": "0f8a5fc9-4d19-41e7-b100-f0731f6dd887"
      },
      "source": [
        "media_por_curso = df.groupby('Curso').mean()['Nota']\n",
        "media_por_curso"
      ],
      "execution_count": 3,
      "outputs": [
        {
          "output_type": "execute_result",
          "data": {
            "text/plain": [
              "Curso\n",
              "ADM    6.966667\n",
              "DIR    6.900000\n",
              "ECO    7.950000\n",
              "Name: Nota, dtype: float64"
            ]
          },
          "metadata": {},
          "execution_count": 3
        }
      ]
    },
    {
      "cell_type": "code",
      "metadata": {
        "colab": {
          "base_uri": "https://localhost:8080/"
        },
        "id": "dOy3xrzRTwWG",
        "outputId": "884747cf-8804-45d5-db37-58ce2136b9f1"
      },
      "source": [
        "nota_final = df['AP1'] * 0.4 + df['AP2'] * 0.4 + df['AP3'] * 0.2\n",
        "nota_final"
      ],
      "execution_count": 4,
      "outputs": [
        {
          "output_type": "execute_result",
          "data": {
            "text/plain": [
              "0     8.6\n",
              "1     6.0\n",
              "2     3.6\n",
              "3     8.6\n",
              "4     8.1\n",
              "5     5.4\n",
              "6     7.2\n",
              "7     8.9\n",
              "8     7.8\n",
              "9     9.7\n",
              "10    7.2\n",
              "11    4.2\n",
              "dtype: float64"
            ]
          },
          "metadata": {},
          "execution_count": 4
        }
      ]
    },
    {
      "cell_type": "code",
      "metadata": {
        "colab": {
          "base_uri": "https://localhost:8080/"
        },
        "id": "MOIvrnqOW973",
        "outputId": "6ffd255e-7e86-4d19-a69c-8b2162c6cd64"
      },
      "source": [
        "#from google.colab import drive\n",
        "#drive.mount('/content/drive')"
      ],
      "execution_count": null,
      "outputs": [
        {
          "output_type": "stream",
          "text": [
            "Mounted at /content/drive\n"
          ],
          "name": "stdout"
        }
      ]
    },
    {
      "cell_type": "code",
      "metadata": {
        "colab": {
          "base_uri": "https://localhost:8080/",
          "height": 423
        },
        "id": "DmJ4FUd2XPtU",
        "outputId": "3dc049e0-fa5a-4b99-9306-ef72e9b510b5"
      },
      "source": [
        "#import pandas as pd\n",
        "#covid = pd.read_csv('/content/drive/My Drive/IBMEC/Data Viz/brazil_covid19.csv')\n",
        "#covid"
      ],
      "execution_count": null,
      "outputs": [
        {
          "output_type": "execute_result",
          "data": {
            "text/html": [
              "<div>\n",
              "<style scoped>\n",
              "    .dataframe tbody tr th:only-of-type {\n",
              "        vertical-align: middle;\n",
              "    }\n",
              "\n",
              "    .dataframe tbody tr th {\n",
              "        vertical-align: top;\n",
              "    }\n",
              "\n",
              "    .dataframe thead th {\n",
              "        text-align: right;\n",
              "    }\n",
              "</style>\n",
              "<table border=\"1\" class=\"dataframe\">\n",
              "  <thead>\n",
              "    <tr style=\"text-align: right;\">\n",
              "      <th></th>\n",
              "      <th>date</th>\n",
              "      <th>region</th>\n",
              "      <th>state</th>\n",
              "      <th>cases</th>\n",
              "      <th>deaths</th>\n",
              "    </tr>\n",
              "  </thead>\n",
              "  <tbody>\n",
              "    <tr>\n",
              "      <th>0</th>\n",
              "      <td>2020-02-25</td>\n",
              "      <td>Centro-Oeste</td>\n",
              "      <td>DF</td>\n",
              "      <td>0.0</td>\n",
              "      <td>0</td>\n",
              "    </tr>\n",
              "    <tr>\n",
              "      <th>1</th>\n",
              "      <td>2020-02-25</td>\n",
              "      <td>Centro-Oeste</td>\n",
              "      <td>GO</td>\n",
              "      <td>0.0</td>\n",
              "      <td>0</td>\n",
              "    </tr>\n",
              "    <tr>\n",
              "      <th>2</th>\n",
              "      <td>2020-02-25</td>\n",
              "      <td>Centro-Oeste</td>\n",
              "      <td>MS</td>\n",
              "      <td>0.0</td>\n",
              "      <td>0</td>\n",
              "    </tr>\n",
              "    <tr>\n",
              "      <th>3</th>\n",
              "      <td>2020-02-25</td>\n",
              "      <td>Centro-Oeste</td>\n",
              "      <td>MT</td>\n",
              "      <td>0.0</td>\n",
              "      <td>0</td>\n",
              "    </tr>\n",
              "    <tr>\n",
              "      <th>4</th>\n",
              "      <td>2020-02-25</td>\n",
              "      <td>Nordeste</td>\n",
              "      <td>AL</td>\n",
              "      <td>0.0</td>\n",
              "      <td>0</td>\n",
              "    </tr>\n",
              "    <tr>\n",
              "      <th>...</th>\n",
              "      <td>...</td>\n",
              "      <td>...</td>\n",
              "      <td>...</td>\n",
              "      <td>...</td>\n",
              "      <td>...</td>\n",
              "    </tr>\n",
              "    <tr>\n",
              "      <th>12253</th>\n",
              "      <td>2021-05-23</td>\n",
              "      <td>Sudeste</td>\n",
              "      <td>RJ</td>\n",
              "      <td>840480.0</td>\n",
              "      <td>49515</td>\n",
              "    </tr>\n",
              "    <tr>\n",
              "      <th>12254</th>\n",
              "      <td>2021-05-23</td>\n",
              "      <td>Sudeste</td>\n",
              "      <td>SP</td>\n",
              "      <td>3188105.0</td>\n",
              "      <td>107614</td>\n",
              "    </tr>\n",
              "    <tr>\n",
              "      <th>12255</th>\n",
              "      <td>2021-05-23</td>\n",
              "      <td>Sul</td>\n",
              "      <td>PR</td>\n",
              "      <td>1060683.0</td>\n",
              "      <td>25506</td>\n",
              "    </tr>\n",
              "    <tr>\n",
              "      <th>12256</th>\n",
              "      <td>2021-05-23</td>\n",
              "      <td>Sul</td>\n",
              "      <td>RS</td>\n",
              "      <td>1059990.0</td>\n",
              "      <td>27419</td>\n",
              "    </tr>\n",
              "    <tr>\n",
              "      <th>12257</th>\n",
              "      <td>2021-05-23</td>\n",
              "      <td>Sul</td>\n",
              "      <td>SC</td>\n",
              "      <td>947810.0</td>\n",
              "      <td>14822</td>\n",
              "    </tr>\n",
              "  </tbody>\n",
              "</table>\n",
              "<p>12258 rows × 5 columns</p>\n",
              "</div>"
            ],
            "text/plain": [
              "             date        region state      cases  deaths\n",
              "0      2020-02-25  Centro-Oeste    DF        0.0       0\n",
              "1      2020-02-25  Centro-Oeste    GO        0.0       0\n",
              "2      2020-02-25  Centro-Oeste    MS        0.0       0\n",
              "3      2020-02-25  Centro-Oeste    MT        0.0       0\n",
              "4      2020-02-25      Nordeste    AL        0.0       0\n",
              "...           ...           ...   ...        ...     ...\n",
              "12253  2021-05-23       Sudeste    RJ   840480.0   49515\n",
              "12254  2021-05-23       Sudeste    SP  3188105.0  107614\n",
              "12255  2021-05-23           Sul    PR  1060683.0   25506\n",
              "12256  2021-05-23           Sul    RS  1059990.0   27419\n",
              "12257  2021-05-23           Sul    SC   947810.0   14822\n",
              "\n",
              "[12258 rows x 5 columns]"
            ]
          },
          "metadata": {
            "tags": []
          },
          "execution_count": 25
        }
      ]
    },
    {
      "cell_type": "code",
      "metadata": {
        "colab": {
          "base_uri": "https://localhost:8080/"
        },
        "id": "bXxP5YuFXhNa",
        "outputId": "b197bff9-958c-4133-d439-89933f240670"
      },
      "source": [
        "#covid['deaths'].sum()"
      ],
      "execution_count": null,
      "outputs": [
        {
          "output_type": "execute_result",
          "data": {
            "text/plain": [
              "69894323"
            ]
          },
          "metadata": {
            "tags": []
          },
          "execution_count": 26
        }
      ]
    },
    {
      "cell_type": "markdown",
      "metadata": {
        "id": "49RhD21jCsXi"
      },
      "source": [
        "# R"
      ]
    },
    {
      "cell_type": "code",
      "metadata": {
        "id": "N0b-MuHFtGH9"
      },
      "source": [
        "%load_ext rpy2.ipython"
      ],
      "execution_count": 5,
      "outputs": []
    },
    {
      "cell_type": "code",
      "metadata": {
        "colab": {
          "base_uri": "https://localhost:8080/"
        },
        "id": "PKUGl9H0Crge",
        "outputId": "7b71874c-aa4e-41a1-86f6-52e86dbace06"
      },
      "source": [
        "%%R\n",
        "dados <-read.csv('https://raw.githubusercontent.com/lcbjrrr/quant/master/notas%20(2).csv')\n",
        "head(dados,2)"
      ],
      "execution_count": 8,
      "outputs": [
        {
          "output_type": "stream",
          "name": "stdout",
          "text": [
            "  Curso Alunos AP1 AP2 AP3 Nota Conceito\n",
            "1   ADM   João   9   8   9  8.6        B\n",
            "2   ADM  Maria   6   4  10  6.0        D\n"
          ]
        }
      ]
    },
    {
      "cell_type": "code",
      "metadata": {
        "colab": {
          "base_uri": "https://localhost:8080/"
        },
        "id": "kMocnTxJC5TM",
        "outputId": "7863cd9d-fcf0-4f09-ab9c-3bbb97105350"
      },
      "source": [
        "%%R\n",
        "tapply(dados$Nota, dados$Curso, mean)"
      ],
      "execution_count": 9,
      "outputs": [
        {
          "output_type": "stream",
          "name": "stdout",
          "text": [
            "     ADM      DIR      ECO \n",
            "6.966667 6.900000 7.950000 \n"
          ]
        }
      ]
    }
  ]
}