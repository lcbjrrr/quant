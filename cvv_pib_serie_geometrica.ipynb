{
 "cells": [
  {
   "cell_type": "markdown",
   "metadata": {
    "colab_type": "text",
    "id": "view-in-github"
   },
   "source": [
    "<a href=\"https://colab.research.google.com/github/lcbjrrr/quant/blob/master/cvv_pib_serie_geometrica.ipynb\" target=\"_parent\"><img src=\"https://colab.research.google.com/assets/colab-badge.svg\" alt=\"Open In Colab\"/></a>"
   ]
  },
  {
   "cell_type": "markdown",
   "metadata": {
    "colab_type": "text",
    "id": "TXU7E6neJcGJ"
   },
   "source": [
    "# Ficha Técnica\n",
    "- Disciplina - Cálculo de Várias Variáveis.\n",
    "- Conteúdo - Introdução a séries.\n",
    "- Aplicação - Curva IS.\n",
    "- Autores: Anderson Borba e Luiz Barboza."
   ]
  },
  {
   "cell_type": "markdown",
   "metadata": {
    "colab_type": "text",
    "id": "9GwsPRg3-vm6"
   },
   "source": [
    "# Produto Interno Bruto - PIB"
   ]
  },
  {
   "cell_type": "markdown",
   "metadata": {
    "colab_type": "text",
    "id": "n226jbGXi0QY"
   },
   "source": [
    "## Curva de demanda IS\n",
    "Na curva IS, o I significa investimento e S a poupança.\n",
    "\n",
    "Uma economia fechada pode ser representado pela equação\n",
    "$$\n",
    "\\begin{aligned}\n",
    "y^D &= C + I + G, \n",
    "\\end{aligned}\n",
    "$$\n",
    "no equlíbrio de mercado  $y=y^D$. Então\n",
    "$$\n",
    "\\begin{aligned}\n",
    "y &= C + I + G. \n",
    "\\end{aligned}\\tag{1}\n",
    "$$\n",
    "onde $C$ é o consumo, $I$ o investimento, e $G$ gasto do governo.\n",
    "## Consumo agregado linear\n",
    "Considerando a equação\n",
    "$$\n",
    "\\begin{aligned}\n",
    "C &= c_0 + c_1(y - T), \\\\\n",
    "\\end{aligned}\\tag{2}\n",
    "$$\n",
    "onde, $c_0$ é uma constante de consumo, $T=ty$ é a taxa líquida de transferência, tal que $0<t<1$ e $0<c_1<1$, $c_1$ é definido como uma propensão marginal para o consumo. \n",
    "$$\n",
    "\\begin{aligned}\n",
    "C &= c_0 + c_1(1 - t)y, \\\\\n",
    "\\end{aligned}\\tag{Função de consumo keynesiana}\n",
    "$$\n",
    "substituindo a função de consumo keynesiana em (1) no equilíbrio, teremos,\n",
    "$$\n",
    "\\begin{aligned} \n",
    "y &= c_0 + c_1(1 - t)y + I + G\\\\\n",
    "\\end{aligned}\n",
    "$$\n",
    "$$\n",
    "\\begin{aligned}\n",
    "y -  c_1(1 - t)y &= c_0 + + I + G\\\\ \n",
    "(1 - c_1(1 - t))y &= c_0 +  I + G\\\\\n",
    "\\end{aligned}\n",
    "$$\n",
    "podemos escrever \n",
    "$$\n",
    "\\begin{aligned}\n",
    "y &= \\frac{1}{1 - c_1(1 - t)}(c_0 + I + G).\\\\\n",
    "\\end{aligned}\\tag{3}\n",
    "$$\n",
    "\n",
    "Definimos o multiplicador,\n",
    "$$\n",
    "\\begin{aligned}\n",
    "\\kappa &= \\frac{1}{1 - c_1(1 - t)}.\\\\\n",
    "\\end{aligned}\\tag{4}\n",
    "$$\n",
    "e a demanda autonoma (DA)\n",
    "$$\n",
    "\\begin{aligned}\n",
    "\\text{DA} &= (c_0 + I + G).\\\\\n",
    "\\end{aligned}\n",
    "$$\n",
    " "
   ]
  },
  {
   "cell_type": "markdown",
   "metadata": {
    "colab_type": "text",
    "id": "r24BnoemRUbj"
   },
   "source": [
    "![texto alternativo](https://github.com/anderborba/aula_ibmec/raw/master/figura_pib_serie_1.jpeg)"
   ]
  },
  {
   "cell_type": "markdown",
   "metadata": {
    "colab_type": "text",
    "id": "fL07aFIjo-cU"
   },
   "source": [
    "\n",
    "# Variação do produto $y$. Aplicação de Série Geométrica\n",
    "\n",
    "Seja a variação do produto $\\Delta y$ e a variação da demanda agregada $\\Delta G$  \n",
    "$$\n",
    "\\begin{aligned}\n",
    "\\Delta y &=\\Delta y_1+\\Delta y_2+\\dots+\\Delta y_n+\\dots .\\\\\n",
    "\\Delta y &=\\Delta G+(c_1(1 - t))\\Delta G+(c_1(1 - t))^2\\Delta G\\dots+(c_1(1 - t))^n\\Delta G+\\dots\\\\\n",
    "\\Delta y &=(1+(c_1(1 - t))+(c_1(1 - t))^2\\dots+(c_1(1 - t))^n+\\dots)\\Delta G .\\\\\n",
    "\\Delta y &=\\sum_{k=0}^{\\infty}(c_1(1 - t))^k\\Delta G .\\\\\n",
    "\\end{aligned}\\tag{5}\n",
    "$$\n",
    "o somatório $\\sum_{k=0}^{\\infty}(c_1(1 - t))^k$ é uma série infinita geométrico com termo geral $a_n=1$ e raio de convergência $r=c_1(1 - t))<1$, portanto convergente com soma $S=\\frac{1}{1-r}$.  \n",
    "$$\n",
    "\\begin{aligned}\n",
    "S &= \\frac{1}{1 - c_1(1 - t)}.\\\\\n",
    "\\end{aligned}\n",
    "$$\n",
    "observando a eq(4) notamos que $S$ igual ao multiplicador $\\kappa$,  \n",
    "$$\n",
    "\\begin{aligned}\n",
    "\\Delta y &= \\frac{1}{1 - c_1(1 - t)}\\Delta G.\\\\\n",
    "\\Delta y &= \\kappa\\Delta G.\\\\\n",
    "\\end{aligned}\\tag{6}\n",
    "$$\n",
    "# Curva IS\n",
    "Seja \n",
    "$$\n",
    "\\begin{aligned}\n",
    "y &= \\frac{1}{1 - c_1(1 - t)}(c_0 + I + G),\\\\\n",
    "\\end{aligned}\n",
    "$$\n",
    "usando a definição de $\\kappa$\n",
    "$$\n",
    "\\begin{aligned}\n",
    "y &= \\kappa(c_0 + I + G),\\\\\n",
    "\\end{aligned}\n",
    "$$\n",
    "e definindo a função investimento por\n",
    "$$\n",
    "\\begin{aligned}\n",
    "I &= a_0-a_1 r,\\\\\n",
    "\\end{aligned}\n",
    "$$\n",
    "portanto\n",
    "$$\n",
    "\\begin{aligned}\n",
    "y &= \\kappa(c_0 + a_0 - a_1 r + G)\\\\\n",
    "\\end{aligned}\n",
    "$$\n",
    "$$\n",
    "\\begin{aligned}\n",
    "y &=\\kappa\\left(c_{0}+a_{0}+G\\right)-\\kappa a_{1} r \\\\\n",
    "\\end{aligned}\n",
    "$$\n",
    "Definindo,\n",
    "$$\n",
    "\\begin{aligned}\n",
    "A &=k\\left(c_0+a_0+G\\right) \\\\\n",
    "a &= \\kappa a_1\n",
    "\\end{aligned}\n",
    "$$\n",
    "obtemos a curva IS,\n",
    "$$\n",
    "\\begin{aligned}\n",
    "y &=A-a r \\\\\n",
    "\\end{aligned}\\tag{Curva IS}\n",
    "$$"
   ]
  },
  {
   "cell_type": "code",
   "execution_count": null,
   "metadata": {
    "colab": {
     "base_uri": "https://localhost:8080/",
     "height": 282
    },
    "colab_type": "code",
    "id": "jl07Ffqii6aw",
    "outputId": "329ba4a2-19dc-4ba5-faee-7be21de1760f"
   },
   "outputs": [
    {
     "data": {
      "text/plain": [
       "[<matplotlib.lines.Line2D at 0x7f26d74ded68>]"
      ]
     },
     "execution_count": 1,
     "metadata": {
      "tags": []
     },
     "output_type": "execute_result"
    },
    {
     "data": {
      "image/png": "[encoded data removed]",
      "text/plain": [
       "<Figure size 432x288 with 1 Axes>"
      ]
     },
     "metadata": {
      "needs_background": "light",
      "tags": []
     },
     "output_type": "display_data"
    }
   ],
   "source": [
    "import numpy as np\n",
    "import matplotlib.pyplot as plt\n",
    "\n",
    "def IS (r, k=0.9, c0=0.6, a0=1, a1=1, G=0):\n",
    "  return k*(c0+a0+G) - k*a1*r\n",
    "\n",
    "juros_r = np.arange(0,2,0.1)\n",
    "plt.plot(juros_r, IS(juros_r))\n",
    "plt.plot(juros_r, IS(juros_r,G=1))\n",
    "plt.plot(juros_r, IS(juros_r,G=2))"
   ]
  },
  {
   "cell_type": "markdown",
   "metadata": {
    "colab_type": "text",
    "id": "Vr8RuGopwkGy"
   },
   "source": [
    "# Referências\n",
    "\n",
    "1) Macroeconomics: Institutions, Instability, and the Financial System by Carlin, Wendy, Soskice, David by Wendy Carlin\n"
   ]
  }
 ],
 "metadata": {
  "colab": {
   "collapsed_sections": [],
   "include_colab_link": true,
   "name": "cvv_pib_serie_geometrica.ipynb",
   "provenance": []
  },
  "kernelspec": {
   "display_name": "Python 3",
   "language": "python",
   "name": "python3"
  },
  "language_info": {
   "codemirror_mode": {
    "name": "ipython",
    "version": 3
   },
   "file_extension": ".py",
   "mimetype": "text/x-python",
   "name": "python",
   "nbconvert_exporter": "python",
   "pygments_lexer": "ipython3",
   "version": "3.7.4"
  }
 },
 "nbformat": 4,
 "nbformat_minor": 1
}
