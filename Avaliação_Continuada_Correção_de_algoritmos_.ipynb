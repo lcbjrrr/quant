{
  "cells": [
    {
      "cell_type": "markdown",
      "metadata": {
        "id": "view-in-github",
        "colab_type": "text"
      },
      "source": [
        "<a href=\"https://colab.research.google.com/github/lcbjrrr/quant/blob/master/Avalia%C3%A7%C3%A3o_Continuada_Corre%C3%A7%C3%A3o_de_algoritmos_.ipynb\" target=\"_parent\"><img src=\"https://colab.research.google.com/assets/colab-badge.svg\" alt=\"Open In Colab\"/></a>"
      ]
    },
    {
      "cell_type": "markdown",
      "metadata": {
        "id": "nxFh0m8C2l9h"
      },
      "source": [
        "Ficha Técnica Disciplina - Programação e ML.\n",
        "\n",
        "Conteúdo \n",
        "Correção de algoritmos.\n",
        "\n",
        "Autores:\n",
        "\n",
        "Anderson Borba (anderson.aborba@professores.ibmec.edu.br) e\n",
        "\n",
        "Luiz Barboza (luiz.cbjunior@professores.ibmec.edu.br).\n",
        "\n",
        "Endereço eletrônico: http://quant-ibmec.group/calculos/"
      ]
    },
    {
      "cell_type": "markdown",
      "metadata": {
        "id": "wPSkT6J02l9m"
      },
      "source": [
        "# Avaliação continuada\n",
        "Está AC deve ser realizada em duas etapas:\n",
        "- 1) Fazer os exercícios usando a técnica do teste de mesa, sem o auxílio do computador e entregar um documento parcial ao professor (2 horas aulas).\n",
        "- 2) Implementar suas correções (Corrigiu?) ou propor novas maneiras de corrigir os algoritmos (2 horas aulas). Entregar o notebook com os programas corretos."
      ]
    },
    {
      "cell_type": "markdown",
      "metadata": {
        "id": "pbVKXh312l9m"
      },
      "source": [
        "# EX (1) \n",
        "O algoritmo abaixo deveria fazer a soma de n valores dados pelo teclado. O algoritmos está errado. O estudante deve encontrar o erro e corrigir. "
      ]
    },
    {
      "cell_type": "code",
      "execution_count": null,
      "metadata": {
        "id": "V1Xf5hXe2l9n",
        "outputId": "7d963fa1-bcb3-4edf-c88c-dc1e9f942bcd"
      },
      "outputs": [
        {
          "name": "stdout",
          "output_type": "stream",
          "text": [
            "0\n"
          ]
        }
      ],
      "source": [
        "soma = 0 \n",
        "while n != 0:\n",
        "    n = float(input(\"Digite a primeira parcela da soma (0 para encerrar o programa) =\"))\n",
        "    soma = soma + 1\n",
        "print(soma)"
      ]
    },
    {
      "cell_type": "markdown",
      "metadata": {
        "id": "0Q5SLAGm2l9p"
      },
      "source": [
        "# EX (2)\n",
        "O programa abaixo está errado. O programa deveria receber 3 valores inteiros e retornar o menor e o maior valor. Corrigir o programa."
      ]
    },
    {
      "cell_type": "code",
      "execution_count": null,
      "metadata": {
        "id": "9uk8ibQM2l9p",
        "outputId": "8847c018-14e3-414a-d1f8-4f3366592161"
      },
      "outputs": [
        {
          "name": "stdout",
          "output_type": "stream",
          "text": [
            "Digite o primeiro valor:10\n",
            "Digite o segundo valor:8\n",
            "Digite o terceiro valor:-1\n",
            "O menor número digitado foi  -1\n",
            "O maior número digitado foi  8\n"
          ]
        }
      ],
      "source": [
        "a = int(input(\"Digite o primeiro valor:\"))\n",
        "b = int(input(\"Digite o segundo valor:\"))\n",
        "c = int(input(\"Digite o terceiro valor:\"))\n",
        "maior = a\n",
        "if b > a or b > c:\n",
        "    maior = b\n",
        "if c > a or c > b:\n",
        "    maior = c\n",
        "menor = a\n",
        "if b < c and b < a:\n",
        "    menor = b\n",
        "if c < b and c < a:\n",
        "    menor = c\n",
        "print(\"O menor número digitado foi \", menor)\n",
        "print(\"O maior número digitado foi \", maior)"
      ]
    },
    {
      "cell_type": "markdown",
      "metadata": {
        "id": "rTSXiNyD2l9q"
      },
      "source": [
        "# Ex (3) \n",
        "O programa abaixo está errado. O programa deveria receber 3 valores inteiros e retornar o menor e o maior valor. Corrigir o programa. (Outra maneira de resolver o problema acima)"
      ]
    },
    {
      "cell_type": "code",
      "execution_count": null,
      "metadata": {
        "id": "uizBOIuc2l9r",
        "outputId": "05f0e489-7270-4f1b-c476-8e3768b03a80"
      },
      "outputs": [
        {
          "name": "stdout",
          "output_type": "stream",
          "text": [
            "Digite o primeiro valor:-9\n",
            "Digite o segundo valor:2\n",
            "Digite o terceiro valor:6\n",
            "O menor número digitado foi 6\n",
            "O maior número digitado foi 6\n"
          ]
        }
      ],
      "source": [
        "a = int(input(\"Digite o primeiro valor:\"))\n",
        "b = int(input(\"Digite o segundo valor:\"))\n",
        "c = int(input(\"Digite o terceiro valor:\"))\n",
        "if b < a:\n",
        "    maior = b\n",
        "else:\n",
        "    maior = a\n",
        "if c > maior:\n",
        "    maior = c\n",
        "if b < a:\n",
        "    menor = b\n",
        "else:\n",
        "    menor = a\n",
        "if c > menor:\n",
        "    menor = c\n",
        "print(\"O menor número digitado foi\", menor)\n",
        "print(\"O maior número digitado foi\", maior)"
      ]
    },
    {
      "cell_type": "markdown",
      "metadata": {
        "id": "LhyzZDJq2l9s"
      },
      "source": [
        "# Ex (4)\n",
        "O programa soletrando está errado. O programa deveria estar imprimindo todas as letras da frase \"Programação e Machine Learning\". Corriga o mesmo."
      ]
    },
    {
      "cell_type": "code",
      "execution_count": null,
      "metadata": {
        "id": "LvXcKY_C2l9t",
        "outputId": "19a4bae7-69a0-4f63-f0cd-2a32ad604780"
      },
      "outputs": [
        {
          "ename": "SyntaxError",
          "evalue": "invalid syntax (<ipython-input-11-b6a4e3db4a74>, line 2)",
          "output_type": "error",
          "traceback": [
            "\u001b[0;36m  File \u001b[0;32m\"<ipython-input-11-b6a4e3db4a74>\"\u001b[0;36m, line \u001b[0;32m2\u001b[0m\n\u001b[0;31m    for c in s\u001b[0m\n\u001b[0m              ^\u001b[0m\n\u001b[0;31mSyntaxError\u001b[0m\u001b[0;31m:\u001b[0m invalid syntax\n"
          ]
        }
      ],
      "source": [
        "s = \"Programação e Machine Learning\"\n",
        "for c in s\n",
        "    print(\"soletrando\", c)"
      ]
    },
    {
      "cell_type": "code",
      "execution_count": null,
      "metadata": {
        "id": "-FA9a-GM2l9t"
      },
      "outputs": [],
      "source": [
        ""
      ]
    }
  ],
  "metadata": {
    "kernelspec": {
      "display_name": "Python 3",
      "language": "python",
      "name": "python3"
    },
    "language_info": {
      "codemirror_mode": {
        "name": "ipython",
        "version": 3
      },
      "file_extension": ".py",
      "mimetype": "text/x-python",
      "name": "python",
      "nbconvert_exporter": "python",
      "pygments_lexer": "ipython3",
      "version": "3.7.3"
    },
    "colab": {
      "name": "Avaliação Continuada - Correção de algoritmos .ipynb",
      "provenance": [],
      "include_colab_link": true
    }
  },
  "nbformat": 4,
  "nbformat_minor": 0
}