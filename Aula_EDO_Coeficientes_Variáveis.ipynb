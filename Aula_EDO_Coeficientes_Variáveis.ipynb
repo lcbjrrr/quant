{
  "nbformat": 4,
  "nbformat_minor": 0,
  "metadata": {
    "colab": {
      "name": "Aula_EDO- Coeficientes Variáveis.ipynb",
      "provenance": [],
      "collapsed_sections": [
        "BVzL9Q-e6mP_",
        "p9SnnEpqFgux",
        "hADrEOS3KD_2"
      ],
      "include_colab_link": true
    },
    "kernelspec": {
      "display_name": "Python 3",
      "language": "python",
      "name": "python3"
    },
    "language_info": {
      "codemirror_mode": {
        "name": "ipython",
        "version": 3
      },
      "file_extension": ".py",
      "mimetype": "text/x-python",
      "name": "python",
      "nbconvert_exporter": "python",
      "pygments_lexer": "ipython3",
      "version": "3.7.4"
    }
  },
  "cells": [
    {
      "cell_type": "markdown",
      "metadata": {
        "id": "view-in-github",
        "colab_type": "text"
      },
      "source": [
        "<a href=\"https://colab.research.google.com/github/lcbjrrr/quant/blob/master/Aula_EDO_Coeficientes_Vari%C3%A1veis.ipynb\" target=\"_parent\"><img src=\"https://colab.research.google.com/assets/colab-badge.svg\" alt=\"Open In Colab\"/></a>"
      ]
    },
    {
      "cell_type": "markdown",
      "metadata": {
        "colab_type": "text",
        "id": "BVzL9Q-e6mP_"
      },
      "source": [
        "# Ficha Técnica\n",
        "\n",
        "Disciplina - Otimização e processos dinâmicos.\n",
        "\n",
        "Conteúdo - EDO Coeficientes variáveis.\n",
        "\n",
        "Aplicação:\n",
        " \n",
        "- Método do fator integrante.\n",
        "- Modelo de crescimento econômico com investimento externo.\n",
        "- Linguagem de programação (Python).\n",
        "\n",
        "Autores: \n",
        "- Anderson Borba (anderson.aborba@professores.ibmec.edu.br) e\n",
        "- Luiz Barboza (luiz.cbjunior@professores.ibmec.edu.br).\n",
        "\n",
        "Endereço eletrônico: http://quant-ibmec.group/calculos/"
      ]
    },
    {
      "cell_type": "markdown",
      "metadata": {
        "colab_type": "text",
        "id": "G4aWVqqcCAE0"
      },
      "source": [
        "# EDO - Coeficientes variáveis\n",
        "\n",
        "A equação diferencial ordinária escrita por,\n",
        "\\begin{equation}\n",
        "\\begin{aligned}\n",
        "\\frac{dy}{dt}+ u(t)y(t)=w(t),\n",
        "\\end{aligned}\\tag{EDO-Coeficientes variáveis}\n",
        "\\end{equation}\n",
        "é chamada de EDO com os coeficientes constantes.\n",
        "\n",
        "## Método do fator integrante.\n",
        "\n",
        "A solução pode ser encontrada da seguinte forma, multiplicamos ambos os lados da equação pela função $v(t)$ positiva.\n",
        "\\begin{equation}\n",
        "\\begin{aligned}\n",
        "v(t)\\frac{dy}{dt}+v(t)u(t)y(t)=v(t)w(t),\n",
        "\\end{aligned}\\tag{1}\n",
        "\\end{equation}\n",
        "gostariamos de escrever essa equação como\n",
        "\\begin{equation}\n",
        "\\begin{aligned}\n",
        "v(t)\\frac{dy}{dt}+\\frac{dv}{dt}y(t)=v(t)w(t).\n",
        "\\end{aligned}\\tag{2}\n",
        "\\end{equation}\n",
        "Assim usando a regra do produto teriamos,\n",
        "\\begin{equation}\n",
        "\\begin{aligned}\n",
        "\\frac{d(vy)}{dt}=v(t)w(t),\n",
        "\\end{aligned}\n",
        "\\end{equation}\n",
        "agora, integrando ambos lados encontramos a solução $y(t)$ dependendo ainda de $v(t)$,\n",
        "\\begin{equation}\n",
        "\\begin{aligned}\n",
        "\\int\\frac{d(vy)}{dt}dt=\\int v(t)w(t) dt,\n",
        "\\end{aligned}\n",
        "\\end{equation}\n",
        "aplicando o segundo teorema fundamental do cálculo,\n",
        "\\begin{equation}\n",
        "\\begin{aligned}\n",
        "vy=\\int v(t)w(t) dt + A,\n",
        "\\end{aligned}\n",
        "\\end{equation}\n",
        "assim, \n",
        "\\begin{equation}\n",
        "\\begin{aligned}\n",
        "y(t)=\\frac{1}{v}\\left[\\int v(t)w(t)dt + A\\right],\n",
        "\\end{aligned}\\tag{3}\n",
        "\\end{equation}\n",
        "temos uma candidata a solução, porém não conhecemos $v$.\n",
        "\n",
        "Comparando as equações (1) e (2) verificamos que para usar a equação anterior é necessário a seguinte igualdade\n",
        "\\begin{equation}\n",
        "\\begin{aligned}\n",
        "\\frac{dv}{dt}=v(t)u(t),\n",
        "\\end{aligned}\\tag{4}\n",
        "\\end{equation}\n",
        "sabemos resolver (4) pelo método da separação de variáveis,\n",
        "\\begin{equation}\n",
        "\\begin{aligned}\n",
        "\\frac{dv}{v(t)}=u(t)dt,\n",
        "\\end{aligned}\n",
        "\\end{equation}\n",
        "integrando de ambos os lados,\n",
        "\\begin{equation}\n",
        "\\begin{aligned}\n",
        "\\int\\frac{dv}{v(t)}=\\int u(t)dt,\n",
        "\\end{aligned}\n",
        "\\end{equation}\n",
        "e resolvendo a integral,\n",
        "\\begin{equation}\n",
        "\\begin{aligned}\n",
        "\\ln v(t)=\\int u(t)dt,\n",
        "\\end{aligned}\n",
        "\\end{equation}\n",
        "lembrando que $v(t)$ foi definida positiva, e usando a exponencial para obter a solução de forma explícita,\n",
        "\\begin{equation}\n",
        "\\begin{aligned}\n",
        "e^{\\ln v(t)}=e^{\\int u(t)dt},\n",
        "\\end{aligned}\n",
        "\\end{equation}\n",
        "portanto, desta forma conhecemos a função $v(t)$\n",
        "\\begin{equation}\n",
        "\\begin{aligned}\n",
        "v(t)=e^{\\int u(t)dt},\n",
        "\\end{aligned}\\tag{5}\n",
        "\\end{equation}\n",
        "usanda a equação (3) e (5) temos a solução por fator integrante, definimos a função $v(t)$ como o fator integrante.\n",
        "\\begin{equation}\n",
        "\\begin{aligned}\n",
        "y(t)=e^{-\\int u(t)dt}\\left[\\int e^{\\int u(t)dt}w(t)dt + A\\right].\n",
        "\\end{aligned}\\tag{Solução por fator integrante}\n",
        "\\end{equation}"
      ]
    },
    {
      "cell_type": "markdown",
      "metadata": {
        "id": "7RWpxtEKgX3v",
        "colab_type": "text"
      },
      "source": [
        "## Exemplo 1\n",
        "\\begin{equation}\n",
        "\\begin{aligned}\n",
        "\\frac{dy}{dt} - \\frac{3}{t}y=t, \\text{ sendo } t>0,\n",
        "\\end{aligned}\n",
        "\\end{equation}\n",
        "- solução\n",
        "fator integrante $v(t)=e^{\\int \\frac{-3}{t} dt}=e^{-3\\ln t}=e^{\\ln t^{-3}}=t^{-3}=\\frac{1}{t^3}$.\n",
        "\n",
        "Lembrando que a solução é dada pela esquação (Solução por fator integrante)\n",
        "\\begin{equation}\n",
        "\\begin{aligned}\n",
        "y(t)=t^3\\left[\\int \\frac{1}{t^2}dt + A\\right],\\\\\n",
        "y(t)=t^3\\left[-\\frac{1}{t} + A\\right],\n",
        "\\end{aligned}\n",
        "\\end{equation}\n",
        "assim a solução é \n",
        "\\begin{equation}\n",
        "\\begin{aligned}\n",
        "y(t)=-t^2 + At^3, \\text{ sendo } t>0.\n",
        "\\end{aligned}\n",
        "\\end{equation}"
      ]
    },
    {
      "cell_type": "markdown",
      "metadata": {
        "id": "rZHGNHn9pCFY",
        "colab_type": "text"
      },
      "source": [
        "## Infinitas Soluções\n",
        "Podemos escolher qualquer constante $A$. O programa abaixo mostra quatro soluções para o problema."
      ]
    },
    {
      "cell_type": "code",
      "metadata": {
        "id": "YpC2pfH6ken_",
        "colab_type": "code",
        "colab": {
          "base_uri": "https://localhost:8080/",
          "height": 295
        },
        "outputId": "2f657534-3ebe-4188-a73b-af148376efd0"
      },
      "source": [
        "import matplotlib.pyplot as plt\n",
        "import numpy as np\n",
        "def sol_exata(t, A):\n",
        "  sol_exata = -t**2 + A * t** 3 \n",
        "  return sol_exata\n",
        "#\n",
        "A1 = 1\n",
        "A2 = 1.25\n",
        "A3 = 1.50\n",
        "A4 = 1.75\n",
        "ti = 1\n",
        "tf = 2\n",
        "n = 2048\n",
        "h = (tf - ti) / n\n",
        "t      = np.linspace(0, 0, n + 1)\n",
        "sol_ex_1 = np.linspace(0, 0, n + 1)\n",
        "sol_ex_2 = np.linspace(0, 0, n + 1)\n",
        "sol_ex_3 = np.linspace(0, 0, n + 1)\n",
        "sol_ex_4 = np.linspace(0, 0, n + 1)\n",
        "for i in range(0, n + 1):\n",
        "\tt[i] = ti + i * h\n",
        "# Solução exata\n",
        "for i in range(0, n + 1):\n",
        "  sol_ex_1[i] = sol_exata(t[i], A1)\n",
        "  sol_ex_2[i] = sol_exata(t[i], A2)\n",
        "  sol_ex_3[i] = sol_exata(t[i], A3)\n",
        "  sol_ex_4[i] = sol_exata(t[i], A4)\n",
        "# Plot\n",
        "p1, = plt.plot(t, sol_ex_1, label=\"A = 1.0\")\n",
        "p2, = plt.plot(t, sol_ex_2, label=\"A = 1.25\")\n",
        "p3, = plt.plot(t, sol_ex_3, label=\"A = 1.50\")\n",
        "p4, = plt.plot(t, sol_ex_4, label=\"A = 1.75\")\n",
        "plt.title('EDO')\n",
        "plt.xlabel('t')\n",
        "plt.ylabel('y(t)')\n",
        "plt.grid(alpha=.3, linestyle='--')\n",
        "plt.legend(handles=[p1, p2, p3, p4], loc='upper left')\n",
        "plt.show()"
      ],
      "execution_count": null,
      "outputs": [
        {
          "output_type": "display_data",
          "data": {
            "image/png": "[encoded data removed]",
            "text/plain": [
              "<Figure size 432x288 with 1 Axes>"
            ]
          },
          "metadata": {
            "tags": [],
            "needs_background": "light"
          }
        }
      ]
    },
    {
      "cell_type": "markdown",
      "metadata": {
        "id": "NVXsVH-PpMF_",
        "colab_type": "text"
      },
      "source": [
        "## Única solução.\n",
        "Quando usamos a condição inicial $y(1)=0$, definimos a constante $A=1$, e $t=1$ como tempo inicial para a EDO. Podemos ver a solução única no seguinte programa."
      ]
    },
    {
      "cell_type": "code",
      "metadata": {
        "id": "ogr4ZgMNqaf2",
        "colab_type": "code",
        "colab": {
          "base_uri": "https://localhost:8080/",
          "height": 295
        },
        "outputId": "cc038ede-b717-45a4-b53f-a3b96ab2be84"
      },
      "source": [
        "import matplotlib.pyplot as plt\n",
        "import numpy as np\n",
        "def sol_exata(t, A):\n",
        "  sol_exata = -t**2 + A * t** 3 \n",
        "  return sol_exata\n",
        "#\n",
        "A = 1\n",
        "ti = 1\n",
        "tf = 2\n",
        "n = 2048\n",
        "h = (tf - ti) / n\n",
        "t      = np.linspace(0, 0, n + 1)\n",
        "sol_ex = np.linspace(0, 0, n + 1)\n",
        "for i in range(0, n + 1):\n",
        "\tt[i] = ti + i * h\n",
        "# Solução exata\n",
        "for i in range(0, n + 1):\n",
        "  sol_ex[i] = sol_exata(t[i], A1)\n",
        "# Plot\n",
        "p1, = plt.plot(t, sol_ex_1, label=\"A = 1.0\")\n",
        "plt.title('EDO')\n",
        "plt.xlabel('t')\n",
        "plt.ylabel('y(t)')\n",
        "plt.grid(alpha=.3, linestyle='--')\n",
        "plt.legend(handles=[p1], loc='upper left')\n",
        "plt.show()"
      ],
      "execution_count": null,
      "outputs": [
        {
          "output_type": "display_data",
          "data": {
            "image/png": "[encoded data removed]",
            "text/plain": [
              "<Figure size 432x288 with 1 Axes>"
            ]
          },
          "metadata": {
            "tags": [],
            "needs_background": "light"
          }
        }
      ]
    },
    {
      "cell_type": "markdown",
      "metadata": {
        "id": "6qgSVBOqSW0x",
        "colab_type": "text"
      },
      "source": [
        "## O modelo de crescimento econômico\n",
        "\n",
        "Seja $X(t)$ o produto interno bruto por ano, $K(t)$ é o estoque de capital, $H(t)$ é a entrada líquida de investimento externo por ano, e $N(t)$ é o tamanho da população, tudo medido no tempo t. Sendo,\n",
        "- a) $X=0.2K(t),$\n",
        "- b) $\\frac{dK}{dt}= 0.1X(t)+H(t),$\n",
        "- c) $N(t)=50\\text{e}^{0.03t}.$\n",
        "\n",
        "Assumindo $H(t) = 10e^{0,04t}$ para encontrar a EDO na variável $K(t)$. \n",
        "\n",
        "Encontrar:\n",
        "- (I) A solução da EDO, sendo dado que a condição inicial é $K(0) = 200$. \n",
        "- (II) A expressão para $x(t) =\\frac{X(t)}{N(t)}$, chamado de produto interno per capita.\n",
        "\n",
        "Obs:\n",
        "- (a) Assumimos que o volume de produção é simplesmente proporcional ao estoque de capital, sendo o factor de proporcionalidade $0.2$ chamado a produtividade média do capital. \n",
        "- (b) Assumimos que a variação do capital por ano é igual à poupança interna mais o investimento externo líquido, e a poupança é proporcional à produção, sendo o factor de proporcionalidade $0.1$ designado por taxa de poupança.\n",
        "- (c) Mostra que a população aumenta a uma taxa de crescimento proporcional constante $0.03$. \n"
      ]
    },
    {
      "cell_type": "markdown",
      "metadata": {
        "id": "a3beAYQpTdTM",
        "colab_type": "text"
      },
      "source": [
        "### Comportamento do capital ao longo do tempo\n",
        "\\begin{equation}\n",
        "\\begin{aligned}\n",
        " K(t)=500e^{0.04t} - 300e^{0.02t}.\\\\\n",
        "\\end{aligned}\n",
        "\\end{equation}"
      ]
    },
    {
      "cell_type": "code",
      "metadata": {
        "id": "my6j2OP2xmN_",
        "colab_type": "code",
        "colab": {
          "base_uri": "https://localhost:8080/",
          "height": 295
        },
        "outputId": "ceb7f6fe-5124-426f-ee32-3c0bb53af068"
      },
      "source": [
        "import matplotlib.pyplot as plt\n",
        "import numpy as np\n",
        "def sol_exata(t):\n",
        "  c1 = 500\n",
        "  c2 = 300 \n",
        "  r1 = 0.04\n",
        "  r2 = 0.02\n",
        "  sol_exata = c1 * np.exp(r1*t) - c2 * np.exp(r2*t)  \n",
        "  return sol_exata\n",
        "#\n",
        "ti = 0\n",
        "tf = 100\n",
        "n = 2048\n",
        "h = (tf - ti) / n\n",
        "t      = np.linspace(0, 0, n + 1)\n",
        "sol_ex = np.linspace(0, 0, n + 1)\n",
        "for i in range(0, n + 1):\n",
        "\tt[i] = ti + i * h\n",
        "# Solução exata\n",
        "for i in range(0, n + 1):\n",
        "\tsol_ex[i] = sol_exata(t[i])\n",
        "# Plot\n",
        "plt.plot(t, sol_ex)\n",
        "plt.title('Capital')\n",
        "plt.xlabel('t')\n",
        "plt.ylabel('K(t)')\n",
        "plt.grid(alpha=.3, linestyle='--')\n",
        "plt.show()"
      ],
      "execution_count": null,
      "outputs": [
        {
          "output_type": "display_data",
          "data": {
            "image/png": "[encoded data removed]",
            "text/plain": [
              "<Figure size 432x288 with 1 Axes>"
            ]
          },
          "metadata": {
            "tags": [],
            "needs_background": "light"
          }
        }
      ]
    },
    {
      "cell_type": "markdown",
      "metadata": {
        "id": "IdK1NXm3ua9A",
        "colab_type": "text"
      },
      "source": [
        ""
      ]
    },
    {
      "cell_type": "markdown",
      "metadata": {
        "id": "cwuk2TsSua6y",
        "colab_type": "text"
      },
      "source": [
        ""
      ]
    },
    {
      "cell_type": "markdown",
      "metadata": {
        "id": "p9SnnEpqFgux",
        "colab_type": "text"
      },
      "source": [
        "### Comportamento do produto interno per capita $x(t)=\\frac{X(t)}{N(t)}$ ao longo do tempo\n",
        "\\begin{equation}\n",
        "\\begin{aligned}\n",
        " x(t)=\\frac{X(t)}{N(t)}=\\frac{0.2K(t)}{N(t)}.\\\\\n",
        "\\end{aligned}\n",
        "\\end{equation}\n",
        "Assim, usando a solução da EDO e a definição de $N(t)$,\n",
        "\\begin{equation}\n",
        "\\begin{aligned}\n",
        " x(t)=\\frac{0.2(500e^{0.04t} - 300e^{0.02t})}{50\\text{e}^{0.03t}}.\\\\\n",
        "\\end{aligned}\n",
        "\\end{equation}\n",
        "\n",
        "Produto interno per capita,\n",
        "\\begin{equation}\n",
        "\\begin{aligned}\n",
        " x(t)=2e^{0.01t} - 1.2e^{-0.01t}.\\\\\n",
        "\\end{aligned}\n",
        "\\end{equation}"
      ]
    },
    {
      "cell_type": "code",
      "metadata": {
        "id": "3pyLUez0_KiZ",
        "colab_type": "code",
        "colab": {
          "base_uri": "https://localhost:8080/",
          "height": 295
        },
        "outputId": "2b66264d-e702-4f60-ab63-4767cf4fea5e"
      },
      "source": [
        "import matplotlib.pyplot as plt\n",
        "import numpy as np\n",
        "def sol_exata(t):\n",
        "  c1 = 2\n",
        "  c2 = 1.2 \n",
        "  r1 = 0.01\n",
        "  sol_exata = c1 * np.exp(r1*t) - c2 * np.exp(-r1*t)  \n",
        "  return sol_exata\n",
        "#\n",
        "ti = 0\n",
        "tf = 100\n",
        "n = 2048\n",
        "h = (tf - ti) / n\n",
        "t      = np.linspace(0, 0, n + 1)\n",
        "sol_ex = np.linspace(0, 0, n + 1)\n",
        "for i in range(0, n + 1):\n",
        "\tt[i] = ti + i * h\n",
        "# Solução exata\n",
        "for i in range(0, n + 1):\n",
        "\tsol_ex[i] = sol_exata(t[i])\n",
        "# Plot\n",
        "plt.plot(t, sol_ex)\n",
        "plt.title('Produto interno per capita')\n",
        "plt.xlabel('t')\n",
        "plt.ylabel('x(t)')\n",
        "plt.grid(alpha=.3, linestyle='--')\n",
        "plt.show()"
      ],
      "execution_count": null,
      "outputs": [
        {
          "output_type": "display_data",
          "data": {
            "image/png": "[encoded data removed]",
            "text/plain": [
              "<Figure size 432x288 with 1 Axes>"
            ]
          },
          "metadata": {
            "tags": [],
            "needs_background": "light"
          }
        }
      ]
    },
    {
      "cell_type": "markdown",
      "metadata": {
        "id": "hADrEOS3KD_2",
        "colab_type": "text"
      },
      "source": [
        "# Referências\n",
        "- [1] Essential Mathematics for Economic Analysis.  Sydsaeter, K. and Hammond, P.J. and Strom, A. and Carvajal, A.\n",
        "- [2] Cálculo I. Weir, M.D. and Thomas, G.B. and Hass, J. and Giordano, F.R., Pearson Addison Wesley.\n"
      ]
    }
  ]
}