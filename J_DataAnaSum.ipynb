{
  "nbformat": 4,
  "nbformat_minor": 0,
  "metadata": {
    "colab": {
      "provenance": [],
      "include_colab_link": true
    },
    "kernelspec": {
      "display_name": "Julia",
      "language": "julia",
      "name": "julia"
    },
    "language_info": {
      "file_extension": ".jl",
      "mimetype": "application/julia",
      "name": "julia"
    },
    "accelerator": "GPU"
  },
  "cells": [
    {
      "cell_type": "markdown",
      "metadata": {
        "id": "view-in-github",
        "colab_type": "text"
      },
      "source": [
        "<a href=\"https://colab.research.google.com/github/lcbjrrr/quant/blob/master/J_DataAnaSum.ipynb\" target=\"_parent\"><img src=\"https://colab.research.google.com/assets/colab-badge.svg\" alt=\"Open In Colab\"/></a>"
      ]
    },
    {
      "cell_type": "markdown",
      "source": [
        "**Author:** Luiz Barboza\n",
        "\n",
        "**Date:** 20/dec/22\n",
        "\n",
        "**Title:** Data Analysis (Summarization)\n",
        "\n",
        "**Lang:** Julia"
      ],
      "metadata": {
        "id": "vNJxtaOiJWql"
      }
    },
    {
      "cell_type": "markdown",
      "source": [
        "# Julia Instalation"
      ],
      "metadata": {
        "id": "I2PdaV2qJySS"
      }
    },
    {
      "cell_type": "code",
      "metadata": {
        "id": "GIeFXS0F0zww",
        "colab": {
          "base_uri": "https://localhost:8080/"
        },
        "outputId": "e107fe50-339d-43d2-ecab-08281315b342"
      },
      "source": [
        "%%shell\n",
        "set -e\n",
        "\n",
        "#---------------------------------------------------#\n",
        "JULIA_VERSION=\"1.8.3\" # any version ≥ 0.7.0\n",
        "JULIA_PACKAGES=\"IJulia BenchmarkTools\"\n",
        "JULIA_PACKAGES_IF_GPU=\"CUDA\" # or CuArrays for older Julia versions\n",
        "JULIA_NUM_THREADS=2\n",
        "#---------------------------------------------------#\n",
        "\n",
        "if [ -z `which julia` ]; then\n",
        "  # Install Julia\n",
        "  JULIA_VER=`cut -d '.' -f -2 <<< \"$JULIA_VERSION\"`\n",
        "  echo \"Installing Julia $JULIA_VERSION on the current Colab Runtime...\"\n",
        "  BASE_URL=\"https://julialang-s3.julialang.org/bin/linux/x64\"\n",
        "  URL=\"$BASE_URL/$JULIA_VER/julia-$JULIA_VERSION-linux-x86_64.tar.gz\"\n",
        "  wget -nv $URL -O /tmp/julia.tar.gz # -nv means \"not verbose\"\n",
        "  tar -x -f /tmp/julia.tar.gz -C /usr/local --strip-components 1\n",
        "  rm /tmp/julia.tar.gz\n",
        "\n",
        "  # Install Packages\n",
        "  nvidia-smi -L &> /dev/null && export GPU=1 || export GPU=0\n",
        "  if [ $GPU -eq 1 ]; then\n",
        "    JULIA_PACKAGES=\"$JULIA_PACKAGES $JULIA_PACKAGES_IF_GPU\"\n",
        "  fi\n",
        "  for PKG in `echo $JULIA_PACKAGES`; do\n",
        "    echo \"Installing Julia package $PKG...\"\n",
        "    julia -e 'using Pkg; pkg\"add '$PKG'; precompile;\"' &> /dev/null\n",
        "  done\n",
        "\n",
        "  # Install kernel and rename it to \"julia\"\n",
        "  echo \"Installing IJulia kernel...\"\n",
        "  julia -e 'using IJulia; IJulia.installkernel(\"julia\", env=Dict(\n",
        "      \"JULIA_NUM_THREADS\"=>\"'\"$JULIA_NUM_THREADS\"'\"))'\n",
        "  KERNEL_DIR=`julia -e \"using IJulia; print(IJulia.kerneldir())\"`\n",
        "  KERNEL_NAME=`ls -d \"$KERNEL_DIR\"/julia*`\n",
        "  mv -f $KERNEL_NAME \"$KERNEL_DIR\"/julia  \n",
        "\n",
        "  echo ''\n",
        "  echo \"Successfully installed `julia -v`!\"\n",
        "  echo \"Please reload this page (press Ctrl+R, ⌘+R, or the F5 key) then\"\n",
        "  echo \"jump to the 'Checking the Installation' section.\"\n",
        "fi"
      ],
      "execution_count": null,
      "outputs": [
        {
          "output_type": "stream",
          "name": "stdout",
          "text": [
            "Installing Julia 1.8.3 on the current Colab Runtime...\n",
            "2022-12-21 00:21:16 URL:https://julialang-s3.julialang.org/bin/linux/x64/1.8/julia-1.8.3-linux-x86_64.tar.gz [130030846/130030846] -> \"/tmp/julia.tar.gz\" [1]\n",
            "Installing Julia package IJulia...\n",
            "Installing Julia package BenchmarkTools...\n",
            "Installing Julia package CUDA...\n"
          ]
        }
      ]
    },
    {
      "cell_type": "code",
      "metadata": {
        "id": "EEzvvzCl1i0F",
        "colab": {
          "base_uri": "https://localhost:8080/"
        },
        "outputId": "0fcd4dcb-e2b9-4781-c431-008afdee92fa"
      },
      "source": [
        "versioninfo()"
      ],
      "execution_count": 1,
      "outputs": [
        {
          "output_type": "stream",
          "name": "stdout",
          "text": [
            "Julia Version 1.8.3\n",
            "Commit 0434deb161e (2022-11-14 20:14 UTC)\n",
            "Platform Info:\n",
            "  OS: Linux (x86_64-linux-gnu)\n",
            "  CPU: 2 × Intel(R) Xeon(R) CPU @ 2.30GHz\n",
            "  WORD_SIZE: 64\n",
            "  LIBM: libopenlibm\n",
            "  LLVM: libLLVM-13.0.1 (ORCJIT, haswell)\n",
            "  Threads: 2 on 2 virtual cores\n",
            "Environment:\n",
            "  LD_LIBRARY_PATH = /usr/lib64-nvidia\n",
            "  LD_PRELOAD = /usr/lib/x86_64-linux-gnu/libtcmalloc.so.4\n",
            "  JULIA_NUM_THREADS = 2\n"
          ]
        }
      ]
    },
    {
      "cell_type": "markdown",
      "source": [
        "# Data Analysis and Summarization"
      ],
      "metadata": {
        "id": "HRBcQ0QhJ5pD"
      }
    },
    {
      "cell_type": "markdown",
      "source": [
        "## Libs"
      ],
      "metadata": {
        "id": "JpH6fXf0J_jy"
      }
    },
    {
      "cell_type": "code",
      "metadata": {
        "id": "Z3IpBJjap9Sm"
      },
      "source": [
        "import Pkg\n",
        "Pkg.add(\"CSV\")\n",
        "Pkg.add(\"DataFrames\")\n",
        "Pkg.add(\"Statistics\")\n",
        "\n",
        "using CSV\n",
        "using DataFrames\n",
        "using Statistics\n"
      ],
      "execution_count": null,
      "outputs": []
    },
    {
      "cell_type": "markdown",
      "source": [
        "## Data Analysis"
      ],
      "metadata": {
        "id": "XALLOGIkKDCV"
      }
    },
    {
      "cell_type": "code",
      "source": [
        ";wget https://raw.githubusercontent.com/lcbjrrr/data/main/grades%20-%20okk.csv"
      ],
      "metadata": {
        "colab": {
          "base_uri": "https://localhost:8080/"
        },
        "id": "Dn5Yye6ZEKTk",
        "outputId": "5ca920ab-3668-4a9d-bbf9-d7fa034d29dc"
      },
      "execution_count": 9,
      "outputs": [
        {
          "output_type": "stream",
          "name": "stderr",
          "text": [
            "--2022-12-21 00:27:58--  https://raw.githubusercontent.com/lcbjrrr/data/main/grades%20-%20okk.csv\n",
            "Resolving raw.githubusercontent.com (raw.githubusercontent.com)... 185.199.108.133, 185.199.109.133, 185.199.110.133, ...\n",
            "Connecting to raw.githubusercontent.com (raw.githubusercontent.com)|185.199.108.133|:443... connected.\n",
            "HTTP request sent, awaiting response... 200 OK\n",
            "Length: 338 [text/plain]\n",
            "Saving to: ‘grades - okk.csv.2’\n",
            "\n",
            "     0K                                                       100% 21.5M=0s\n",
            "\n",
            "2022-12-21 00:27:58 (21.5 MB/s) - ‘grades - okk.csv.2’ saved [338/338]\n",
            "\n"
          ]
        }
      ]
    },
    {
      "cell_type": "code",
      "source": [
        "#read csv\n",
        "grades=CSV.read(\"grades - okk.csv\", DataFrame)\n",
        "print(grades)"
      ],
      "metadata": {
        "colab": {
          "base_uri": "https://localhost:8080/"
        },
        "id": "l7ZPNV7GEe4B",
        "outputId": "4a1aa87c-9d3e-41c6-b907-a172d9129e70"
      },
      "execution_count": 11,
      "outputs": [
        {
          "output_type": "stream",
          "name": "stdout",
          "text": [
            "\u001b[1m12×7 DataFrame\u001b[0m\n",
            "\u001b[1m Row \u001b[0m│\u001b[1m Course  \u001b[0m\u001b[1m Student \u001b[0m\u001b[1m AP1     \u001b[0m\u001b[1m AP2     \u001b[0m\u001b[1m AP3     \u001b[0m\u001b[1m Grade   \u001b[0m\u001b[1m Score   \u001b[0m\n",
            "     │\u001b[90m String3 \u001b[0m\u001b[90m String7 \u001b[0m\u001b[90m Float64 \u001b[0m\u001b[90m Float64 \u001b[0m\u001b[90m Float64 \u001b[0m\u001b[90m Float64 \u001b[0m\u001b[90m String1 \u001b[0m\n",
            "─────┼───────────────────────────────────────────────────────────────\n",
            "   1 │ ADM      João         9.0      8.0      9.0      8.6  B\n",
            "   2 │ ADM      Maria        6.0      4.0     10.0      6.0  D\n",
            "   3 │ LAW      José         4.0      3.0      4.0      3.6  F\n",
            "   4 │ LAW      Pedro        8.0     10.0      7.0      8.6  B\n",
            "   5 │ ECO      Paulo        7.5      8.0      9.5      8.1  B\n",
            "   6 │ LAW      Esther       6.0      4.5      6.0      5.4  D\n",
            "   7 │ ADM      Gabriel      8.0      6.0      8.0      7.2  B\n",
            "   8 │ LAW      Rafael       7.5     10.0      9.5      8.9  B\n",
            "   9 │ ECO      Davi         6.0     10.0      7.0      7.8  B\n",
            "  10 │ LAW      Silvio      10.0      9.5      9.5      9.7  A\n",
            "  11 │ ADM      Sofia        8.0      7.0      6.0      7.2  B\n",
            "  12 │ ADM      Raquel       4.5      4.0      4.0      4.2  F"
          ]
        }
      ]
    },
    {
      "cell_type": "code",
      "source": [
        "#select column\n",
        "grades.Score "
      ],
      "metadata": {
        "colab": {
          "base_uri": "https://localhost:8080/"
        },
        "id": "ZELRojo4FVFj",
        "outputId": "882d0f68-0e44-4a12-9511-2fdc4dd7df6c"
      },
      "execution_count": 30,
      "outputs": [
        {
          "output_type": "execute_result",
          "data": {
            "text/plain": [
              "12-element Vector{String1}:\n",
              " \"B\"\n",
              " \"D\"\n",
              " \"F\"\n",
              " \"B\"\n",
              " \"B\"\n",
              " \"D\"\n",
              " \"B\"\n",
              " \"B\"\n",
              " \"B\"\n",
              " \"A\"\n",
              " \"B\"\n",
              " \"F\""
            ]
          },
          "metadata": {},
          "execution_count": 30
        }
      ]
    },
    {
      "cell_type": "code",
      "source": [
        "#select columns\n",
        "grades[:,[:Grade,:Score]]"
      ],
      "metadata": {
        "colab": {
          "base_uri": "https://localhost:8080/",
          "height": 341
        },
        "id": "Ivp6l12eHRt2",
        "outputId": "35b66af7-051e-46f8-b697-8ff07801b3dd"
      },
      "execution_count": 40,
      "outputs": [
        {
          "output_type": "execute_result",
          "data": {
            "text/plain": [
              "\u001b[1m12×2 DataFrame\u001b[0m\n",
              "\u001b[1m Row \u001b[0m│\u001b[1m Grade   \u001b[0m\u001b[1m Score   \u001b[0m\n",
              "     │\u001b[90m Float64 \u001b[0m\u001b[90m String1 \u001b[0m\n",
              "─────┼──────────────────\n",
              "   1 │     8.6  B\n",
              "   2 │     6.0  D\n",
              "   3 │     3.6  F\n",
              "   4 │     8.6  B\n",
              "   5 │     8.1  B\n",
              "   6 │     5.4  D\n",
              "   7 │     7.2  B\n",
              "   8 │     8.9  B\n",
              "   9 │     7.8  B\n",
              "  10 │     9.7  A\n",
              "  11 │     7.2  B\n",
              "  12 │     4.2  F"
            ],
            "text/html": [
              "<div><div style = \"float: left;\"><span>12×2 DataFrame</span></div><div style = \"clear: both;\"></div></div><div class = \"data-frame\" style = \"overflow-x: scroll;\"><table class = \"data-frame\" style = \"margin-bottom: 6px;\"><thead><tr class = \"header\"><th class = \"rowNumber\" style = \"font-weight: bold; text-align: right;\">Row</th><th style = \"text-align: left;\">Grade</th><th style = \"text-align: left;\">Score</th></tr><tr class = \"subheader headerLastRow\"><th class = \"rowNumber\" style = \"font-weight: bold; text-align: right;\"></th><th title = \"Float64\" style = \"text-align: left;\">Float64</th><th title = \"String1\" style = \"text-align: left;\">String1</th></tr></thead><tbody><tr><td class = \"rowNumber\" style = \"font-weight: bold; text-align: right;\">1</td><td style = \"text-align: right;\">8.6</td><td style = \"text-align: left;\">B</td></tr><tr><td class = \"rowNumber\" style = \"font-weight: bold; text-align: right;\">2</td><td style = \"text-align: right;\">6.0</td><td style = \"text-align: left;\">D</td></tr><tr><td class = \"rowNumber\" style = \"font-weight: bold; text-align: right;\">3</td><td style = \"text-align: right;\">3.6</td><td style = \"text-align: left;\">F</td></tr><tr><td class = \"rowNumber\" style = \"font-weight: bold; text-align: right;\">4</td><td style = \"text-align: right;\">8.6</td><td style = \"text-align: left;\">B</td></tr><tr><td class = \"rowNumber\" style = \"font-weight: bold; text-align: right;\">5</td><td style = \"text-align: right;\">8.1</td><td style = \"text-align: left;\">B</td></tr><tr><td class = \"rowNumber\" style = \"font-weight: bold; text-align: right;\">6</td><td style = \"text-align: right;\">5.4</td><td style = \"text-align: left;\">D</td></tr><tr><td class = \"rowNumber\" style = \"font-weight: bold; text-align: right;\">7</td><td style = \"text-align: right;\">7.2</td><td style = \"text-align: left;\">B</td></tr><tr><td class = \"rowNumber\" style = \"font-weight: bold; text-align: right;\">8</td><td style = \"text-align: right;\">8.9</td><td style = \"text-align: left;\">B</td></tr><tr><td class = \"rowNumber\" style = \"font-weight: bold; text-align: right;\">9</td><td style = \"text-align: right;\">7.8</td><td style = \"text-align: left;\">B</td></tr><tr><td class = \"rowNumber\" style = \"font-weight: bold; text-align: right;\">10</td><td style = \"text-align: right;\">9.7</td><td style = \"text-align: left;\">A</td></tr><tr><td class = \"rowNumber\" style = \"font-weight: bold; text-align: right;\">11</td><td style = \"text-align: right;\">7.2</td><td style = \"text-align: left;\">B</td></tr><tr><td class = \"rowNumber\" style = \"font-weight: bold; text-align: right;\">12</td><td style = \"text-align: right;\">4.2</td><td style = \"text-align: left;\">F</td></tr></tbody></table></div>"
            ],
            "text/latex": "\\begin{tabular}{r|cc}\n\t& Grade & Score\\\\\n\t\\hline\n\t& Float64 & String1\\\\\n\t\\hline\n\t1 & 8.6 & B \\\\\n\t2 & 6.0 & D \\\\\n\t3 & 3.6 & F \\\\\n\t4 & 8.6 & B \\\\\n\t5 & 8.1 & B \\\\\n\t6 & 5.4 & D \\\\\n\t7 & 7.2 & B \\\\\n\t8 & 8.9 & B \\\\\n\t9 & 7.8 & B \\\\\n\t10 & 9.7 & A \\\\\n\t11 & 7.2 & B \\\\\n\t12 & 4.2 & F \\\\\n\\end{tabular}\n"
          },
          "metadata": {},
          "execution_count": 40
        }
      ]
    },
    {
      "cell_type": "code",
      "source": [
        "#filter rows\n",
        "filter(:Score => ==(\"A\"), grades)"
      ],
      "metadata": {
        "colab": {
          "base_uri": "https://localhost:8080/",
          "height": 106
        },
        "id": "3jcbS5PqGcDQ",
        "outputId": "11a5e05a-1ac2-43db-c789-d6b04a688eef"
      },
      "execution_count": 27,
      "outputs": [
        {
          "output_type": "execute_result",
          "data": {
            "text/plain": [
              "\u001b[1m1×7 DataFrame\u001b[0m\n",
              "\u001b[1m Row \u001b[0m│\u001b[1m Course  \u001b[0m\u001b[1m Student \u001b[0m\u001b[1m AP1     \u001b[0m\u001b[1m AP2     \u001b[0m\u001b[1m AP3     \u001b[0m\u001b[1m Grade   \u001b[0m\u001b[1m Score   \u001b[0m\n",
              "     │\u001b[90m String3 \u001b[0m\u001b[90m String7 \u001b[0m\u001b[90m Float64 \u001b[0m\u001b[90m Float64 \u001b[0m\u001b[90m Float64 \u001b[0m\u001b[90m Float64 \u001b[0m\u001b[90m String1 \u001b[0m\n",
              "─────┼───────────────────────────────────────────────────────────────\n",
              "   1 │ LAW      Silvio      10.0      9.5      9.5      9.7  A"
            ],
            "text/html": [
              "<div><div style = \"float: left;\"><span>1×7 DataFrame</span></div><div style = \"clear: both;\"></div></div><div class = \"data-frame\" style = \"overflow-x: scroll;\"><table class = \"data-frame\" style = \"margin-bottom: 6px;\"><thead><tr class = \"header\"><th class = \"rowNumber\" style = \"font-weight: bold; text-align: right;\">Row</th><th style = \"text-align: left;\">Course</th><th style = \"text-align: left;\">Student</th><th style = \"text-align: left;\">AP1</th><th style = \"text-align: left;\">AP2</th><th style = \"text-align: left;\">AP3</th><th style = \"text-align: left;\">Grade</th><th style = \"text-align: left;\">Score</th></tr><tr class = \"subheader headerLastRow\"><th class = \"rowNumber\" style = \"font-weight: bold; text-align: right;\"></th><th title = \"String3\" style = \"text-align: left;\">String3</th><th title = \"String7\" style = \"text-align: left;\">String7</th><th title = \"Float64\" style = \"text-align: left;\">Float64</th><th title = \"Float64\" style = \"text-align: left;\">Float64</th><th title = \"Float64\" style = \"text-align: left;\">Float64</th><th title = \"Float64\" style = \"text-align: left;\">Float64</th><th title = \"String1\" style = \"text-align: left;\">String1</th></tr></thead><tbody><tr><td class = \"rowNumber\" style = \"font-weight: bold; text-align: right;\">1</td><td style = \"text-align: left;\">LAW</td><td style = \"text-align: left;\">Silvio</td><td style = \"text-align: right;\">10.0</td><td style = \"text-align: right;\">9.5</td><td style = \"text-align: right;\">9.5</td><td style = \"text-align: right;\">9.7</td><td style = \"text-align: left;\">A</td></tr></tbody></table></div>"
            ],
            "text/latex": "\\begin{tabular}{r|ccccccc}\n\t& Course & Student & AP1 & AP2 & AP3 & Grade & Score\\\\\n\t\\hline\n\t& String3 & String7 & Float64 & Float64 & Float64 & Float64 & String1\\\\\n\t\\hline\n\t1 & LAW & Silvio & 10.0 & 9.5 & 9.5 & 9.7 & A \\\\\n\\end{tabular}\n"
          },
          "metadata": {},
          "execution_count": 27
        }
      ]
    },
    {
      "cell_type": "code",
      "source": [
        "#head\n",
        "first(grades,2)"
      ],
      "metadata": {
        "colab": {
          "base_uri": "https://localhost:8080/",
          "height": 128
        },
        "id": "9tvgwEZtHvnu",
        "outputId": "a05dbc89-8e46-46fb-a954-0099346449a6"
      },
      "execution_count": 31,
      "outputs": [
        {
          "output_type": "execute_result",
          "data": {
            "text/plain": [
              "\u001b[1m2×7 DataFrame\u001b[0m\n",
              "\u001b[1m Row \u001b[0m│\u001b[1m Course  \u001b[0m\u001b[1m Student \u001b[0m\u001b[1m AP1     \u001b[0m\u001b[1m AP2     \u001b[0m\u001b[1m AP3     \u001b[0m\u001b[1m Grade   \u001b[0m\u001b[1m Score   \u001b[0m\n",
              "     │\u001b[90m String3 \u001b[0m\u001b[90m String7 \u001b[0m\u001b[90m Float64 \u001b[0m\u001b[90m Float64 \u001b[0m\u001b[90m Float64 \u001b[0m\u001b[90m Float64 \u001b[0m\u001b[90m String1 \u001b[0m\n",
              "─────┼───────────────────────────────────────────────────────────────\n",
              "   1 │ ADM      João         9.0      8.0      9.0      8.6  B\n",
              "   2 │ ADM      Maria        6.0      4.0     10.0      6.0  D"
            ],
            "text/html": [
              "<div><div style = \"float: left;\"><span>2×7 DataFrame</span></div><div style = \"clear: both;\"></div></div><div class = \"data-frame\" style = \"overflow-x: scroll;\"><table class = \"data-frame\" style = \"margin-bottom: 6px;\"><thead><tr class = \"header\"><th class = \"rowNumber\" style = \"font-weight: bold; text-align: right;\">Row</th><th style = \"text-align: left;\">Course</th><th style = \"text-align: left;\">Student</th><th style = \"text-align: left;\">AP1</th><th style = \"text-align: left;\">AP2</th><th style = \"text-align: left;\">AP3</th><th style = \"text-align: left;\">Grade</th><th style = \"text-align: left;\">Score</th></tr><tr class = \"subheader headerLastRow\"><th class = \"rowNumber\" style = \"font-weight: bold; text-align: right;\"></th><th title = \"String3\" style = \"text-align: left;\">String3</th><th title = \"String7\" style = \"text-align: left;\">String7</th><th title = \"Float64\" style = \"text-align: left;\">Float64</th><th title = \"Float64\" style = \"text-align: left;\">Float64</th><th title = \"Float64\" style = \"text-align: left;\">Float64</th><th title = \"Float64\" style = \"text-align: left;\">Float64</th><th title = \"String1\" style = \"text-align: left;\">String1</th></tr></thead><tbody><tr><td class = \"rowNumber\" style = \"font-weight: bold; text-align: right;\">1</td><td style = \"text-align: left;\">ADM</td><td style = \"text-align: left;\">João</td><td style = \"text-align: right;\">9.0</td><td style = \"text-align: right;\">8.0</td><td style = \"text-align: right;\">9.0</td><td style = \"text-align: right;\">8.6</td><td style = \"text-align: left;\">B</td></tr><tr><td class = \"rowNumber\" style = \"font-weight: bold; text-align: right;\">2</td><td style = \"text-align: left;\">ADM</td><td style = \"text-align: left;\">Maria</td><td style = \"text-align: right;\">6.0</td><td style = \"text-align: right;\">4.0</td><td style = \"text-align: right;\">10.0</td><td style = \"text-align: right;\">6.0</td><td style = \"text-align: left;\">D</td></tr></tbody></table></div>"
            ],
            "text/latex": "\\begin{tabular}{r|ccccccc}\n\t& Course & Student & AP1 & AP2 & AP3 & Grade & Score\\\\\n\t\\hline\n\t& String3 & String7 & Float64 & Float64 & Float64 & Float64 & String1\\\\\n\t\\hline\n\t1 & ADM & João & 9.0 & 8.0 & 9.0 & 8.6 & B \\\\\n\t2 & ADM & Maria & 6.0 & 4.0 & 10.0 & 6.0 & D \\\\\n\\end{tabular}\n"
          },
          "metadata": {},
          "execution_count": 31
        }
      ]
    },
    {
      "cell_type": "code",
      "source": [
        "#tail\n",
        "last(grades,1)"
      ],
      "metadata": {
        "colab": {
          "base_uri": "https://localhost:8080/",
          "height": 106
        },
        "id": "kt4xJxpVHyvk",
        "outputId": "07984a04-2ca3-4a50-a345-698588ed2a1c"
      },
      "execution_count": 32,
      "outputs": [
        {
          "output_type": "execute_result",
          "data": {
            "text/plain": [
              "\u001b[1m1×7 DataFrame\u001b[0m\n",
              "\u001b[1m Row \u001b[0m│\u001b[1m Course  \u001b[0m\u001b[1m Student \u001b[0m\u001b[1m AP1     \u001b[0m\u001b[1m AP2     \u001b[0m\u001b[1m AP3     \u001b[0m\u001b[1m Grade   \u001b[0m\u001b[1m Score   \u001b[0m\n",
              "     │\u001b[90m String3 \u001b[0m\u001b[90m String7 \u001b[0m\u001b[90m Float64 \u001b[0m\u001b[90m Float64 \u001b[0m\u001b[90m Float64 \u001b[0m\u001b[90m Float64 \u001b[0m\u001b[90m String1 \u001b[0m\n",
              "─────┼───────────────────────────────────────────────────────────────\n",
              "   1 │ ADM      Raquel       4.5      4.0      4.0      4.2  F"
            ],
            "text/html": [
              "<div><div style = \"float: left;\"><span>1×7 DataFrame</span></div><div style = \"clear: both;\"></div></div><div class = \"data-frame\" style = \"overflow-x: scroll;\"><table class = \"data-frame\" style = \"margin-bottom: 6px;\"><thead><tr class = \"header\"><th class = \"rowNumber\" style = \"font-weight: bold; text-align: right;\">Row</th><th style = \"text-align: left;\">Course</th><th style = \"text-align: left;\">Student</th><th style = \"text-align: left;\">AP1</th><th style = \"text-align: left;\">AP2</th><th style = \"text-align: left;\">AP3</th><th style = \"text-align: left;\">Grade</th><th style = \"text-align: left;\">Score</th></tr><tr class = \"subheader headerLastRow\"><th class = \"rowNumber\" style = \"font-weight: bold; text-align: right;\"></th><th title = \"String3\" style = \"text-align: left;\">String3</th><th title = \"String7\" style = \"text-align: left;\">String7</th><th title = \"Float64\" style = \"text-align: left;\">Float64</th><th title = \"Float64\" style = \"text-align: left;\">Float64</th><th title = \"Float64\" style = \"text-align: left;\">Float64</th><th title = \"Float64\" style = \"text-align: left;\">Float64</th><th title = \"String1\" style = \"text-align: left;\">String1</th></tr></thead><tbody><tr><td class = \"rowNumber\" style = \"font-weight: bold; text-align: right;\">1</td><td style = \"text-align: left;\">ADM</td><td style = \"text-align: left;\">Raquel</td><td style = \"text-align: right;\">4.5</td><td style = \"text-align: right;\">4.0</td><td style = \"text-align: right;\">4.0</td><td style = \"text-align: right;\">4.2</td><td style = \"text-align: left;\">F</td></tr></tbody></table></div>"
            ],
            "text/latex": "\\begin{tabular}{r|ccccccc}\n\t& Course & Student & AP1 & AP2 & AP3 & Grade & Score\\\\\n\t\\hline\n\t& String3 & String7 & Float64 & Float64 & Float64 & Float64 & String1\\\\\n\t\\hline\n\t1 & ADM & Raquel & 4.5 & 4.0 & 4.0 & 4.2 & F \\\\\n\\end{tabular}\n"
          },
          "metadata": {},
          "execution_count": 32
        }
      ]
    },
    {
      "cell_type": "markdown",
      "source": [
        "## Summarization (Consolidation) "
      ],
      "metadata": {
        "id": "IV9tEFgSKfVW"
      }
    },
    {
      "cell_type": "code",
      "source": [
        "# Summarize: group by Course (categorical), and calculate mean on Grade (numerical)\n",
        "combine(groupby(grades, :Course), :Grade=> mean)"
      ],
      "metadata": {
        "colab": {
          "base_uri": "https://localhost:8080/",
          "height": 149
        },
        "id": "jEeY5hBwH7cn",
        "outputId": "2c824ee8-afc7-4c48-a995-099887814677"
      },
      "execution_count": 39,
      "outputs": [
        {
          "output_type": "execute_result",
          "data": {
            "text/plain": [
              "\u001b[1m3×2 DataFrame\u001b[0m\n",
              "\u001b[1m Row \u001b[0m│\u001b[1m Course  \u001b[0m\u001b[1m Grade_mean \u001b[0m\n",
              "     │\u001b[90m String3 \u001b[0m\u001b[90m Float64    \u001b[0m\n",
              "─────┼─────────────────────\n",
              "   1 │ ADM            6.64\n",
              "   2 │ LAW            7.24\n",
              "   3 │ ECO            7.95"
            ],
            "text/html": [
              "<div><div style = \"float: left;\"><span>3×2 DataFrame</span></div><div style = \"clear: both;\"></div></div><div class = \"data-frame\" style = \"overflow-x: scroll;\"><table class = \"data-frame\" style = \"margin-bottom: 6px;\"><thead><tr class = \"header\"><th class = \"rowNumber\" style = \"font-weight: bold; text-align: right;\">Row</th><th style = \"text-align: left;\">Course</th><th style = \"text-align: left;\">Grade_mean</th></tr><tr class = \"subheader headerLastRow\"><th class = \"rowNumber\" style = \"font-weight: bold; text-align: right;\"></th><th title = \"String3\" style = \"text-align: left;\">String3</th><th title = \"Float64\" style = \"text-align: left;\">Float64</th></tr></thead><tbody><tr><td class = \"rowNumber\" style = \"font-weight: bold; text-align: right;\">1</td><td style = \"text-align: left;\">ADM</td><td style = \"text-align: right;\">6.64</td></tr><tr><td class = \"rowNumber\" style = \"font-weight: bold; text-align: right;\">2</td><td style = \"text-align: left;\">LAW</td><td style = \"text-align: right;\">7.24</td></tr><tr><td class = \"rowNumber\" style = \"font-weight: bold; text-align: right;\">3</td><td style = \"text-align: left;\">ECO</td><td style = \"text-align: right;\">7.95</td></tr></tbody></table></div>"
            ],
            "text/latex": "\\begin{tabular}{r|cc}\n\t& Course & Grade\\_mean\\\\\n\t\\hline\n\t& String3 & Float64\\\\\n\t\\hline\n\t1 & ADM & 6.64 \\\\\n\t2 & LAW & 7.24 \\\\\n\t3 & ECO & 7.95 \\\\\n\\end{tabular}\n"
          },
          "metadata": {},
          "execution_count": 39
        }
      ]
    }
  ]
}