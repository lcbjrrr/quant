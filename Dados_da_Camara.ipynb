{
  "nbformat": 4,
  "nbformat_minor": 0,
  "metadata": {
    "kernelspec": {
      "display_name": "Python 3",
      "language": "python",
      "name": "python3"
    },
    "language_info": {
      "codemirror_mode": {
        "name": "ipython",
        "version": 3
      },
      "file_extension": ".py",
      "mimetype": "text/x-python",
      "name": "python",
      "nbconvert_exporter": "python",
      "pygments_lexer": "ipython3",
      "version": "3.7.3"
    },
    "colab": {
      "name": "Dados da Camara.ipynb",
      "provenance": [],
      "include_colab_link": true
    }
  },
  "cells": [
    {
      "cell_type": "markdown",
      "metadata": {
        "id": "view-in-github",
        "colab_type": "text"
      },
      "source": [
        "<a href=\"https://colab.research.google.com/github/lcbjrrr/quant/blob/master/Dados_da_Camara.ipynb\" target=\"_parent\"><img src=\"https://colab.research.google.com/assets/colab-badge.svg\" alt=\"Open In Colab\"/></a>"
      ]
    },
    {
      "cell_type": "markdown",
      "metadata": {
        "id": "Qm5vke7eYMIV",
        "colab_type": "text"
      },
      "source": [
        "Vamos voltar aos Dados Públicos da Câmara, via Pandas\n",
        "---------------"
      ]
    },
    {
      "cell_type": "code",
      "metadata": {
        "id": "vu7RAPgrYMIW",
        "colab_type": "code",
        "outputId": "df57919f-2ca2-4a8f-dd60-2c6a86f13dfa",
        "colab": {
          "base_uri": "https://localhost:8080/",
          "height": 34
        }
      },
      "source": [
        "import pandas as pd\n",
        "\n",
        "\n",
        "df = pd.read_csv('https://raw.githubusercontent.com/lcbjrrr/quant/master/Ano-2019%20-%20OK.csv', encoding='utf-8', decimal=',')\n",
        "df.shape"
      ],
      "execution_count": 10,
      "outputs": [
        {
          "output_type": "execute_result",
          "data": {
            "text/plain": [
              "(8528, 29)"
            ]
          },
          "metadata": {
            "tags": []
          },
          "execution_count": 10
        }
      ]
    },
    {
      "cell_type": "code",
      "metadata": {
        "id": "92rt1jurYMIa",
        "colab_type": "code",
        "colab": {}
      },
      "source": [
        "df.rename(columns={'txNomeParlamentar': 'NOME_PARLAMENTAR', \n",
        "                   'ideCadastro': 'ID_CADASTRO', \n",
        "                   'nuCarteiraParlamentar': 'NUMERO_CARTEIRA_PARLAMENTAR',\n",
        "                   'nuLegislatura': 'NUMERO_LEGISLATURA', \n",
        "                   'sgUF': 'UF', \n",
        "                   'sgPartido': 'PARTIDO', \n",
        "                   'codLegislatura': 'COD_LEGISLATURA', \n",
        "                   'numSubCota': 'NUMERO_SUB_COTA',\n",
        "                   'txtDescricao': 'DESCRICAO', \n",
        "                   'numEspecificacaoSubCota': 'NUMERO_ESPECIFICACAO_SUB_COTA', \n",
        "                   'txtDescricaoEspecificacao': 'DESCRICAO_ESPECIFICACAO', \n",
        "                   'txtFornecedor': 'FORNECEDOR',\n",
        "                   'txtCNPJCPF': 'CPF_CNPJ', \n",
        "                   'txtNumero': 'NUMERO', \n",
        "                   'indTipoDocumento': 'IND_TIPO_DOCUMENTO',\n",
        "                   'datEmissao': 'DATA_EMISSAO', \n",
        "                   'vlrDocumento': 'VALOR_DOCUMENTO', \n",
        "                   'vlrGlosa': 'VALOR_GLOSA', \n",
        "                   'vlrLiquido': 'VALOR_LIQUIDO', \n",
        "                   'numMes': 'NUMERO_MES', \n",
        "                   'numAno': 'ANO', \n",
        "                   'numParcela': 'NUMERO_PARCELA', \n",
        "                   'txtPassageiro': 'PASSAGEIRO', \n",
        "                   'txtTrecho': 'TRECHO',\n",
        "                   'numLote': 'NUMERO_LOTE', \n",
        "                   'numRessarcimento': 'NUMERO_RESSASRCIMENTO', \n",
        "                   'vlrRestituicao': 'VALOR_RESTITUICAO', \n",
        "                   'nuDeputadoId': 'ID_DEPUTADO', \n",
        "                   'ideDocumento': 'ID_DOCUMENTO'}, inplace=True)"
      ],
      "execution_count": 0,
      "outputs": []
    },
    {
      "cell_type": "code",
      "metadata": {
        "id": "6KLApFsYYMId",
        "colab_type": "code",
        "outputId": "d04b4742-24f2-44e3-ad74-771343afb310",
        "colab": {
          "base_uri": "https://localhost:8080/",
          "height": 651
        }
      },
      "source": [
        "df.sample(10)"
      ],
      "execution_count": 12,
      "outputs": [
        {
          "output_type": "execute_result",
          "data": {
            "text/html": [
              "<div>\n",
              "<style scoped>\n",
              "    .dataframe tbody tr th:only-of-type {\n",
              "        vertical-align: middle;\n",
              "    }\n",
              "\n",
              "    .dataframe tbody tr th {\n",
              "        vertical-align: top;\n",
              "    }\n",
              "\n",
              "    .dataframe thead th {\n",
              "        text-align: right;\n",
              "    }\n",
              "</style>\n",
              "<table border=\"1\" class=\"dataframe\">\n",
              "  <thead>\n",
              "    <tr style=\"text-align: right;\">\n",
              "      <th></th>\n",
              "      <th>NOME_PARLAMENTAR</th>\n",
              "      <th>ID_CADASTRO</th>\n",
              "      <th>NUMERO_CARTEIRA_PARLAMENTAR</th>\n",
              "      <th>NUMERO_LEGISLATURA</th>\n",
              "      <th>UF</th>\n",
              "      <th>PARTIDO</th>\n",
              "      <th>COD_LEGISLATURA</th>\n",
              "      <th>NUMERO_SUB_COTA</th>\n",
              "      <th>DESCRICAO</th>\n",
              "      <th>NUMERO_ESPECIFICACAO_SUB_COTA</th>\n",
              "      <th>DESCRICAO_ESPECIFICACAO</th>\n",
              "      <th>FORNECEDOR</th>\n",
              "      <th>CPF_CNPJ</th>\n",
              "      <th>NUMERO</th>\n",
              "      <th>IND_TIPO_DOCUMENTO</th>\n",
              "      <th>DATA_EMISSAO</th>\n",
              "      <th>VALOR_DOCUMENTO</th>\n",
              "      <th>VALOR_GLOSA</th>\n",
              "      <th>VALOR_LIQUIDO</th>\n",
              "      <th>NUMERO_MES</th>\n",
              "      <th>ANO</th>\n",
              "      <th>NUMERO_PARCELA</th>\n",
              "      <th>PASSAGEIRO</th>\n",
              "      <th>TRECHO</th>\n",
              "      <th>NUMERO_LOTE</th>\n",
              "      <th>NUMERO_RESSASRCIMENTO</th>\n",
              "      <th>VALOR_RESTITUICAO</th>\n",
              "      <th>ID_DEPUTADO</th>\n",
              "      <th>ID_DOCUMENTO</th>\n",
              "    </tr>\n",
              "  </thead>\n",
              "  <tbody>\n",
              "    <tr>\n",
              "      <th>513</th>\n",
              "      <td>NELSON MARQUEZELLI</td>\n",
              "      <td>73553.0</td>\n",
              "      <td>381.0</td>\n",
              "      <td>2015.0</td>\n",
              "      <td>SP</td>\n",
              "      <td>PTB</td>\n",
              "      <td>55</td>\n",
              "      <td>3</td>\n",
              "      <td>COMBUSTÍVEIS E LUBRIFICANTES.</td>\n",
              "      <td>1</td>\n",
              "      <td>Veículos Automotores</td>\n",
              "      <td>POSTO PANTERA EIRELI</td>\n",
              "      <td>437.597.780/0019-1</td>\n",
              "      <td>378576</td>\n",
              "      <td>4</td>\n",
              "      <td>2019-01-09T00:00:00</td>\n",
              "      <td>142.32</td>\n",
              "      <td>0</td>\n",
              "      <td>142.32</td>\n",
              "      <td>1</td>\n",
              "      <td>2019</td>\n",
              "      <td>0</td>\n",
              "      <td>NaN</td>\n",
              "      <td>NaN</td>\n",
              "      <td>1556904</td>\n",
              "      <td>NaN</td>\n",
              "      <td>NaN</td>\n",
              "      <td>773</td>\n",
              "      <td>6743827</td>\n",
              "    </tr>\n",
              "    <tr>\n",
              "      <th>3111</th>\n",
              "      <td>FÁBIO RAMALHO</td>\n",
              "      <td>141427.0</td>\n",
              "      <td>238.0</td>\n",
              "      <td>NaN</td>\n",
              "      <td>MG</td>\n",
              "      <td>MDB</td>\n",
              "      <td>55</td>\n",
              "      <td>999</td>\n",
              "      <td>Emissão Bilhete Aéreo</td>\n",
              "      <td>0</td>\n",
              "      <td>NaN</td>\n",
              "      <td>Cia Aérea - TAM</td>\n",
              "      <td>020.128.620/0016-0</td>\n",
              "      <td>Bilhete: 957-2189.068067</td>\n",
              "      <td>0</td>\n",
              "      <td>2019-01-18T00:00:00</td>\n",
              "      <td>665.05</td>\n",
              "      <td>0</td>\n",
              "      <td>665.05</td>\n",
              "      <td>1</td>\n",
              "      <td>2019</td>\n",
              "      <td>0</td>\n",
              "      <td>FÁBIO RAMALHO</td>\n",
              "      <td>CNF/BSB</td>\n",
              "      <td>0</td>\n",
              "      <td>0.0</td>\n",
              "      <td>NaN</td>\n",
              "      <td>1830</td>\n",
              "      <td>1634785</td>\n",
              "    </tr>\n",
              "    <tr>\n",
              "      <th>3647</th>\n",
              "      <td>ROGÉRIO MARINHO</td>\n",
              "      <td>141535.0</td>\n",
              "      <td>124.0</td>\n",
              "      <td>2015.0</td>\n",
              "      <td>RN</td>\n",
              "      <td>PSDB</td>\n",
              "      <td>55</td>\n",
              "      <td>3</td>\n",
              "      <td>COMBUSTÍVEIS E LUBRIFICANTES.</td>\n",
              "      <td>1</td>\n",
              "      <td>Veículos Automotores</td>\n",
              "      <td>FRATELLI POSTO DE COMBUSTIVEIS LTDA</td>\n",
              "      <td>088.840.380/0018-6</td>\n",
              "      <td>71848</td>\n",
              "      <td>4</td>\n",
              "      <td>2019-01-05T00:00:00</td>\n",
              "      <td>125.41</td>\n",
              "      <td>0</td>\n",
              "      <td>125.41</td>\n",
              "      <td>1</td>\n",
              "      <td>2019</td>\n",
              "      <td>0</td>\n",
              "      <td>NaN</td>\n",
              "      <td>NaN</td>\n",
              "      <td>1552592</td>\n",
              "      <td>NaN</td>\n",
              "      <td>NaN</td>\n",
              "      <td>1931</td>\n",
              "      <td>6733733</td>\n",
              "    </tr>\n",
              "    <tr>\n",
              "      <th>2542</th>\n",
              "      <td>FERNANDO MONTEIRO</td>\n",
              "      <td>92699.0</td>\n",
              "      <td>146.0</td>\n",
              "      <td>NaN</td>\n",
              "      <td>PE</td>\n",
              "      <td>PP</td>\n",
              "      <td>55</td>\n",
              "      <td>3</td>\n",
              "      <td>COMBUSTÍVEIS E LUBRIFICANTES.</td>\n",
              "      <td>1</td>\n",
              "      <td>Veículos Automotores</td>\n",
              "      <td>POSTO QUARTO DE MILHA LTDA</td>\n",
              "      <td>040.775.770/0074-8</td>\n",
              "      <td>4534</td>\n",
              "      <td>4</td>\n",
              "      <td>2019-01-03T00:00:00</td>\n",
              "      <td>274.34</td>\n",
              "      <td>0</td>\n",
              "      <td>274.34</td>\n",
              "      <td>1</td>\n",
              "      <td>2019</td>\n",
              "      <td>0</td>\n",
              "      <td>NaN</td>\n",
              "      <td>NaN</td>\n",
              "      <td>1555306</td>\n",
              "      <td>NaN</td>\n",
              "      <td>NaN</td>\n",
              "      <td>3090</td>\n",
              "      <td>6741079</td>\n",
              "    </tr>\n",
              "    <tr>\n",
              "      <th>4950</th>\n",
              "      <td>VICENTE CANDIDO</td>\n",
              "      <td>160622.0</td>\n",
              "      <td>395.0</td>\n",
              "      <td>2015.0</td>\n",
              "      <td>SP</td>\n",
              "      <td>PT</td>\n",
              "      <td>55</td>\n",
              "      <td>13</td>\n",
              "      <td>FORNECIMENTO DE ALIMENTAÇÃO DO PARLAMENTAR</td>\n",
              "      <td>0</td>\n",
              "      <td>NaN</td>\n",
              "      <td>CHOPERIA PONTO CHIC DO PARAISO EIRELI</td>\n",
              "      <td>019.614.850/0014-2</td>\n",
              "      <td>31205</td>\n",
              "      <td>4</td>\n",
              "      <td>2019-01-07T00:00:00</td>\n",
              "      <td>74.09</td>\n",
              "      <td>0</td>\n",
              "      <td>74.09</td>\n",
              "      <td>1</td>\n",
              "      <td>2019</td>\n",
              "      <td>0</td>\n",
              "      <td>NaN</td>\n",
              "      <td>NaN</td>\n",
              "      <td>1555195</td>\n",
              "      <td>NaN</td>\n",
              "      <td>NaN</td>\n",
              "      <td>2246</td>\n",
              "      <td>6740818</td>\n",
              "    </tr>\n",
              "    <tr>\n",
              "      <th>7534</th>\n",
              "      <td>SHÉRIDAN</td>\n",
              "      <td>178961.0</td>\n",
              "      <td>8.0</td>\n",
              "      <td>NaN</td>\n",
              "      <td>RR</td>\n",
              "      <td>PSDB</td>\n",
              "      <td>56</td>\n",
              "      <td>1</td>\n",
              "      <td>MANUTENÇÃO DE ESCRITÓRIO DE APOIO À ATIVIDADE ...</td>\n",
              "      <td>0</td>\n",
              "      <td>NaN</td>\n",
              "      <td>EMIDIO SOUTO PEREIRA - EPP</td>\n",
              "      <td>133.457.280/0010-5</td>\n",
              "      <td>433</td>\n",
              "      <td>4</td>\n",
              "      <td>2019-02-05T00:00:00</td>\n",
              "      <td>370</td>\n",
              "      <td>0</td>\n",
              "      <td>370</td>\n",
              "      <td>2</td>\n",
              "      <td>2019</td>\n",
              "      <td>0</td>\n",
              "      <td>NaN</td>\n",
              "      <td>NaN</td>\n",
              "      <td>1566628</td>\n",
              "      <td>NaN</td>\n",
              "      <td>NaN</td>\n",
              "      <td>2969</td>\n",
              "      <td>6760149</td>\n",
              "    </tr>\n",
              "    <tr>\n",
              "      <th>1419</th>\n",
              "      <td>LEONARDO PICCIANI</td>\n",
              "      <td>74254.0</td>\n",
              "      <td>312.0</td>\n",
              "      <td>2015.0</td>\n",
              "      <td>RJ</td>\n",
              "      <td>MDB</td>\n",
              "      <td>55</td>\n",
              "      <td>999</td>\n",
              "      <td>Emissão Bilhete Aéreo</td>\n",
              "      <td>0</td>\n",
              "      <td>NaN</td>\n",
              "      <td>Cia Aérea - TAM</td>\n",
              "      <td>020.128.620/0016-0</td>\n",
              "      <td>Bilhete: 957-2188.633028</td>\n",
              "      <td>0</td>\n",
              "      <td>2019-01-14T00:00:00</td>\n",
              "      <td>1343.39</td>\n",
              "      <td>0</td>\n",
              "      <td>1343.39</td>\n",
              "      <td>1</td>\n",
              "      <td>2019</td>\n",
              "      <td>0</td>\n",
              "      <td>LEONARDO PICCIANI</td>\n",
              "      <td>BSB/GIG</td>\n",
              "      <td>0</td>\n",
              "      <td>0.0</td>\n",
              "      <td>NaN</td>\n",
              "      <td>1583</td>\n",
              "      <td>1634597</td>\n",
              "    </tr>\n",
              "    <tr>\n",
              "      <th>2319</th>\n",
              "      <td>MAURO LOPES</td>\n",
              "      <td>74749.0</td>\n",
              "      <td>252.0</td>\n",
              "      <td>NaN</td>\n",
              "      <td>MG</td>\n",
              "      <td>MDB</td>\n",
              "      <td>56</td>\n",
              "      <td>11</td>\n",
              "      <td>SERVIÇOS POSTAIS</td>\n",
              "      <td>0</td>\n",
              "      <td>NaN</td>\n",
              "      <td>CORREIOS - SEDEX CONVENCIONAL</td>\n",
              "      <td>000.000.000/0000-7</td>\n",
              "      <td>RSP : 2272801</td>\n",
              "      <td>1</td>\n",
              "      <td>2019-02-12T16:34:25</td>\n",
              "      <td>30.81</td>\n",
              "      <td>0</td>\n",
              "      <td>30.81</td>\n",
              "      <td>2</td>\n",
              "      <td>2019</td>\n",
              "      <td>0</td>\n",
              "      <td>NaN</td>\n",
              "      <td>NaN</td>\n",
              "      <td>0</td>\n",
              "      <td>0.0</td>\n",
              "      <td>NaN</td>\n",
              "      <td>1125</td>\n",
              "      <td>0</td>\n",
              "    </tr>\n",
              "    <tr>\n",
              "      <th>3226</th>\n",
              "      <td>CHICO D'ANGELO</td>\n",
              "      <td>141439.0</td>\n",
              "      <td>293.0</td>\n",
              "      <td>NaN</td>\n",
              "      <td>RJ</td>\n",
              "      <td>PDT</td>\n",
              "      <td>55</td>\n",
              "      <td>122</td>\n",
              "      <td>SERVIÇO DE TÁXI, PEDÁGIO E ESTACIONAMENTO</td>\n",
              "      <td>0</td>\n",
              "      <td>NaN</td>\n",
              "      <td>SINDICATO DOS PERMISSIONARIOS DE TAXIS E MOTOR...</td>\n",
              "      <td>000.317.080/0037-1</td>\n",
              "      <td>s</td>\n",
              "      <td>1</td>\n",
              "      <td>2019-01-31T00:00:00</td>\n",
              "      <td>30</td>\n",
              "      <td>0</td>\n",
              "      <td>30</td>\n",
              "      <td>1</td>\n",
              "      <td>2019</td>\n",
              "      <td>0</td>\n",
              "      <td>NaN</td>\n",
              "      <td>NaN</td>\n",
              "      <td>1566331</td>\n",
              "      <td>NaN</td>\n",
              "      <td>NaN</td>\n",
              "      <td>1799</td>\n",
              "      <td>6758264</td>\n",
              "    </tr>\n",
              "    <tr>\n",
              "      <th>7194</th>\n",
              "      <td>SERGIO SOUZA</td>\n",
              "      <td>178933.0</td>\n",
              "      <td>467.0</td>\n",
              "      <td>NaN</td>\n",
              "      <td>PR</td>\n",
              "      <td>MDB</td>\n",
              "      <td>55</td>\n",
              "      <td>10</td>\n",
              "      <td>TELEFONIA</td>\n",
              "      <td>0</td>\n",
              "      <td>NaN</td>\n",
              "      <td>TELEFONICA BRASIL S.A.</td>\n",
              "      <td>025.581.570/5182-4</td>\n",
              "      <td>274272593</td>\n",
              "      <td>0</td>\n",
              "      <td>2019-01-04T00:00:00</td>\n",
              "      <td>190.01</td>\n",
              "      <td>7.49</td>\n",
              "      <td>182.52</td>\n",
              "      <td>1</td>\n",
              "      <td>2019</td>\n",
              "      <td>0</td>\n",
              "      <td>NaN</td>\n",
              "      <td>NaN</td>\n",
              "      <td>1555176</td>\n",
              "      <td>NaN</td>\n",
              "      <td>NaN</td>\n",
              "      <td>3062</td>\n",
              "      <td>6740191</td>\n",
              "    </tr>\n",
              "  </tbody>\n",
              "</table>\n",
              "</div>"
            ],
            "text/plain": [
              "        NOME_PARLAMENTAR  ID_CADASTRO  NUMERO_CARTEIRA_PARLAMENTAR  \\\n",
              "513   NELSON MARQUEZELLI      73553.0                        381.0   \n",
              "3111       FÁBIO RAMALHO     141427.0                        238.0   \n",
              "3647     ROGÉRIO MARINHO     141535.0                        124.0   \n",
              "2542   FERNANDO MONTEIRO      92699.0                        146.0   \n",
              "4950     VICENTE CANDIDO     160622.0                        395.0   \n",
              "7534            SHÉRIDAN     178961.0                          8.0   \n",
              "1419   LEONARDO PICCIANI      74254.0                        312.0   \n",
              "2319         MAURO LOPES      74749.0                        252.0   \n",
              "3226      CHICO D'ANGELO     141439.0                        293.0   \n",
              "7194        SERGIO SOUZA     178933.0                        467.0   \n",
              "\n",
              "      NUMERO_LEGISLATURA  UF PARTIDO  COD_LEGISLATURA  NUMERO_SUB_COTA  \\\n",
              "513               2015.0  SP     PTB               55                3   \n",
              "3111                 NaN  MG     MDB               55              999   \n",
              "3647              2015.0  RN    PSDB               55                3   \n",
              "2542                 NaN  PE      PP               55                3   \n",
              "4950              2015.0  SP      PT               55               13   \n",
              "7534                 NaN  RR    PSDB               56                1   \n",
              "1419              2015.0  RJ     MDB               55              999   \n",
              "2319                 NaN  MG     MDB               56               11   \n",
              "3226                 NaN  RJ     PDT               55              122   \n",
              "7194                 NaN  PR     MDB               55               10   \n",
              "\n",
              "                                              DESCRICAO  \\\n",
              "513                       COMBUSTÍVEIS E LUBRIFICANTES.   \n",
              "3111                              Emissão Bilhete Aéreo   \n",
              "3647                      COMBUSTÍVEIS E LUBRIFICANTES.   \n",
              "2542                      COMBUSTÍVEIS E LUBRIFICANTES.   \n",
              "4950         FORNECIMENTO DE ALIMENTAÇÃO DO PARLAMENTAR   \n",
              "7534  MANUTENÇÃO DE ESCRITÓRIO DE APOIO À ATIVIDADE ...   \n",
              "1419                              Emissão Bilhete Aéreo   \n",
              "2319                                   SERVIÇOS POSTAIS   \n",
              "3226          SERVIÇO DE TÁXI, PEDÁGIO E ESTACIONAMENTO   \n",
              "7194                                          TELEFONIA   \n",
              "\n",
              "      NUMERO_ESPECIFICACAO_SUB_COTA DESCRICAO_ESPECIFICACAO  \\\n",
              "513                               1    Veículos Automotores   \n",
              "3111                              0                     NaN   \n",
              "3647                              1    Veículos Automotores   \n",
              "2542                              1    Veículos Automotores   \n",
              "4950                              0                     NaN   \n",
              "7534                              0                     NaN   \n",
              "1419                              0                     NaN   \n",
              "2319                              0                     NaN   \n",
              "3226                              0                     NaN   \n",
              "7194                              0                     NaN   \n",
              "\n",
              "                                             FORNECEDOR            CPF_CNPJ  \\\n",
              "513                                POSTO PANTERA EIRELI  437.597.780/0019-1   \n",
              "3111                                    Cia Aérea - TAM  020.128.620/0016-0   \n",
              "3647                FRATELLI POSTO DE COMBUSTIVEIS LTDA  088.840.380/0018-6   \n",
              "2542                         POSTO QUARTO DE MILHA LTDA  040.775.770/0074-8   \n",
              "4950              CHOPERIA PONTO CHIC DO PARAISO EIRELI  019.614.850/0014-2   \n",
              "7534                         EMIDIO SOUTO PEREIRA - EPP  133.457.280/0010-5   \n",
              "1419                                    Cia Aérea - TAM  020.128.620/0016-0   \n",
              "2319                      CORREIOS - SEDEX CONVENCIONAL  000.000.000/0000-7   \n",
              "3226  SINDICATO DOS PERMISSIONARIOS DE TAXIS E MOTOR...  000.317.080/0037-1   \n",
              "7194                             TELEFONICA BRASIL S.A.  025.581.570/5182-4   \n",
              "\n",
              "                        NUMERO  IND_TIPO_DOCUMENTO         DATA_EMISSAO  \\\n",
              "513                     378576                   4  2019-01-09T00:00:00   \n",
              "3111  Bilhete: 957-2189.068067                   0  2019-01-18T00:00:00   \n",
              "3647                     71848                   4  2019-01-05T00:00:00   \n",
              "2542                      4534                   4  2019-01-03T00:00:00   \n",
              "4950                     31205                   4  2019-01-07T00:00:00   \n",
              "7534                       433                   4  2019-02-05T00:00:00   \n",
              "1419  Bilhete: 957-2188.633028                   0  2019-01-14T00:00:00   \n",
              "2319             RSP : 2272801                   1  2019-02-12T16:34:25   \n",
              "3226                         s                   1  2019-01-31T00:00:00   \n",
              "7194                 274272593                   0  2019-01-04T00:00:00   \n",
              "\n",
              "     VALOR_DOCUMENTO VALOR_GLOSA VALOR_LIQUIDO  NUMERO_MES   ANO  \\\n",
              "513           142.32           0        142.32           1  2019   \n",
              "3111          665.05           0        665.05           1  2019   \n",
              "3647          125.41           0        125.41           1  2019   \n",
              "2542          274.34           0        274.34           1  2019   \n",
              "4950           74.09           0         74.09           1  2019   \n",
              "7534             370           0           370           2  2019   \n",
              "1419         1343.39           0       1343.39           1  2019   \n",
              "2319           30.81           0         30.81           2  2019   \n",
              "3226              30           0            30           1  2019   \n",
              "7194          190.01        7.49        182.52           1  2019   \n",
              "\n",
              "      NUMERO_PARCELA         PASSAGEIRO   TRECHO  NUMERO_LOTE  \\\n",
              "513                0                NaN      NaN      1556904   \n",
              "3111               0      FÁBIO RAMALHO  CNF/BSB            0   \n",
              "3647               0                NaN      NaN      1552592   \n",
              "2542               0                NaN      NaN      1555306   \n",
              "4950               0                NaN      NaN      1555195   \n",
              "7534               0                NaN      NaN      1566628   \n",
              "1419               0  LEONARDO PICCIANI  BSB/GIG            0   \n",
              "2319               0                NaN      NaN            0   \n",
              "3226               0                NaN      NaN      1566331   \n",
              "7194               0                NaN      NaN      1555176   \n",
              "\n",
              "      NUMERO_RESSASRCIMENTO  VALOR_RESTITUICAO  ID_DEPUTADO  ID_DOCUMENTO  \n",
              "513                     NaN                NaN          773       6743827  \n",
              "3111                    0.0                NaN         1830       1634785  \n",
              "3647                    NaN                NaN         1931       6733733  \n",
              "2542                    NaN                NaN         3090       6741079  \n",
              "4950                    NaN                NaN         2246       6740818  \n",
              "7534                    NaN                NaN         2969       6760149  \n",
              "1419                    0.0                NaN         1583       1634597  \n",
              "2319                    0.0                NaN         1125             0  \n",
              "3226                    NaN                NaN         1799       6758264  \n",
              "7194                    NaN                NaN         3062       6740191  "
            ]
          },
          "metadata": {
            "tags": []
          },
          "execution_count": 12
        }
      ]
    },
    {
      "cell_type": "code",
      "metadata": {
        "id": "BIzD9Wi_YMIf",
        "colab_type": "code",
        "outputId": "bc62f1da-5410-4346-b35b-03702ee93a4b",
        "colab": {
          "base_uri": "https://localhost:8080/",
          "height": 610
        }
      },
      "source": [
        "df.groupby('PARTIDO').size().sort_values().tail(20).plot(kind='barh', figsize=(10,10))"
      ],
      "execution_count": 13,
      "outputs": [
        {
          "output_type": "execute_result",
          "data": {
            "text/plain": [
              "<matplotlib.axes._subplots.AxesSubplot at 0x7f12a46631d0>"
            ]
          },
          "metadata": {
            "tags": []
          },
          "execution_count": 13
        },
        {
          "output_type": "display_data",
          "data": {
            "image/png": "[encoded data removed]",
            "text/plain": [
              "<Figure size 720x720 with 1 Axes>"
            ]
          },
          "metadata": {
            "tags": [],
            "needs_background": "light"
          }
        }
      ]
    },
    {
      "cell_type": "code",
      "metadata": {
        "id": "mjt0H8qNYMIi",
        "colab_type": "code",
        "outputId": "b617e1c3-cb39-414b-b60c-df73f9e682c8",
        "colab": {
          "base_uri": "https://localhost:8080/",
          "height": 230
        }
      },
      "source": [
        "#Parlamentares que mais registraram gastos \n",
        "pd.value_counts(df['NOME_PARLAMENTAR'])"
      ],
      "execution_count": 14,
      "outputs": [
        {
          "output_type": "execute_result",
          "data": {
            "text/plain": [
              "JORGE TADEU MUDALEN         86\n",
              "SUBTENENTE GONZAGA          81\n",
              "ROGÉRIO PENINHA MENDONÇA    79\n",
              "VALTENIR PEREIRA            78\n",
              "ZÉ SILVA                    71\n",
              "                            ..\n",
              "PSD                          1\n",
              "CRISTIANO VALE               1\n",
              "TIAGO DIMAS                  1\n",
              "MARRECA FILHO                1\n",
              "PR. MARCO FELICIANO          1\n",
              "Name: NOME_PARLAMENTAR, Length: 559, dtype: int64"
            ]
          },
          "metadata": {
            "tags": []
          },
          "execution_count": 14
        }
      ]
    },
    {
      "cell_type": "code",
      "metadata": {
        "id": "Yf92tx02YMIk",
        "colab_type": "code",
        "outputId": "76e9b16f-0756-4937-bef7-4f8c452fb5ea",
        "colab": {
          "base_uri": "https://localhost:8080/",
          "height": 354
        }
      },
      "source": [
        "df.query('NOME_PARLAMENTAR == \"EDUARDO BOLSONARO\"')['VALOR_LIQUIDO'].value_counts().head(30)"
      ],
      "execution_count": 15,
      "outputs": [
        {
          "output_type": "execute_result",
          "data": {
            "text/plain": [
              "31.4       2\n",
              "1344.25    1\n",
              "70.4       1\n",
              "36.56      1\n",
              "66.3       1\n",
              "68.5       1\n",
              "85.3       1\n",
              "633.25     1\n",
              "255.65     1\n",
              "413.49     1\n",
              "200.15     1\n",
              "1041.39    1\n",
              "165.49     1\n",
              "264.43     1\n",
              "33.92      1\n",
              "70         1\n",
              "141.83     1\n",
              "960        1\n",
              "Name: VALOR_LIQUIDO, dtype: int64"
            ]
          },
          "metadata": {
            "tags": []
          },
          "execution_count": 15
        }
      ]
    },
    {
      "cell_type": "code",
      "metadata": {
        "id": "uIp0NITeYMIn",
        "colab_type": "code",
        "outputId": "eb9b586d-a889-479c-c27f-af9cc8a3dd55",
        "colab": {
          "base_uri": "https://localhost:8080/",
          "height": 610
        }
      },
      "source": [
        "#Tipos de gastos\n",
        "df.groupby('DESCRICAO').size().sort_values().tail(20).plot(kind='barh', figsize=(10,10))"
      ],
      "execution_count": 16,
      "outputs": [
        {
          "output_type": "execute_result",
          "data": {
            "text/plain": [
              "<matplotlib.axes._subplots.AxesSubplot at 0x7f12a46149e8>"
            ]
          },
          "metadata": {
            "tags": []
          },
          "execution_count": 16
        },
        {
          "output_type": "display_data",
          "data": {
            "image/png": "[encoded data removed]",
            "text/plain": [
              "<Figure size 720x720 with 1 Axes>"
            ]
          },
          "metadata": {
            "tags": [],
            "needs_background": "light"
          }
        }
      ]
    },
    {
      "cell_type": "code",
      "metadata": {
        "id": "gnkFLhpAYMIs",
        "colab_type": "code",
        "outputId": "0898f51a-9402-41bf-9160-3b0d2cc8f5f8",
        "colab": {
          "base_uri": "https://localhost:8080/",
          "height": 610
        }
      },
      "source": [
        "df.groupby('NOME_PARLAMENTAR').size().sort_values().tail(20).plot(kind='barh', figsize=(10,10))"
      ],
      "execution_count": 17,
      "outputs": [
        {
          "output_type": "execute_result",
          "data": {
            "text/plain": [
              "<matplotlib.axes._subplots.AxesSubplot at 0x7f12a451ff98>"
            ]
          },
          "metadata": {
            "tags": []
          },
          "execution_count": 17
        },
        {
          "output_type": "display_data",
          "data": {
            "image/png": "[encoded data removed]",
            "text/plain": [
              "<Figure size 720x720 with 1 Axes>"
            ]
          },
          "metadata": {
            "tags": [],
            "needs_background": "light"
          }
        }
      ]
    }
  ]
}