{
  "nbformat": 4,
  "nbformat_minor": 0,
  "metadata": {
    "colab": {
      "name": "aula-EDO-Numérica-Equações de diferenças.ipynb",
      "provenance": [],
      "collapsed_sections": []
    },
    "kernelspec": {
      "name": "python3",
      "display_name": "Python 3"
    }
  },
  "cells": [
    {
      "cell_type": "markdown",
      "metadata": {
        "colab_type": "text",
        "id": "BVzL9Q-e6mP_"
      },
      "source": [
        "# Ficha Técnica\n",
        "\n",
        "Disciplina - Otimização e processos dinâmicos.\n",
        "\n",
        "Conteúdo - EDO \n",
        "- Equação diferencial ordinária.\n",
        "- EDO Numérica.\n",
        "- EDO Equações de diferenças.\n",
        "\n",
        "Resolução:\n",
        "- EDO numérica.\n",
        "- Programação em Python.\n",
        "\n",
        "Observações:\n",
        "- Material debatido no grupo de pesquisa em Macroeconomia aplicada do Ibmec-SP \n",
        "- http://dgp.cnpq.br/dgp/espelhogrupo/2650993364668746\n",
        "\n",
        "Autores: \n",
        "- Anderson Borba (anderson.aborba@professores.ibmec.edu.br) e\n",
        "- Luiz Barboza (luiz.cbjunior@professores.ibmec.edu.br).\n",
        "\n",
        "Endereço eletrônico: http://quant-ibmec.group/calculos/"
      ]
    },
    {
      "cell_type": "markdown",
      "metadata": {
        "id": "bKmP1R-UmitG",
        "colab_type": "text"
      },
      "source": [
        "# Introdução a Equações Diferenciais Ordinárias (EDO)  numéricas.\n",
        "O objetivo é resolver Equações Diferencias Ordinárias (EDO) de primeira ordem numéricamente,\n",
        "\\begin{equation}\n",
        "\\frac{dy}{dt}= f(t, y). \\tag{EDO}\n",
        "\\end{equation}\n",
        "\n",
        "Seja a expansão em série de Taylor de uma funcão $y(x)$ com a regularidade necessária,\n",
        "\\begin{equation}\n",
        "y(x+h) = y(x) + \\left.\\frac{dy}{dx}\\right|_x h +  \\frac{1}{2!}\\left.\\frac{dy^2}{dx^2}\\right|_x h^2+\\frac{1}{3!}\\left.\\frac{dy^3}{dx^3}\\right|_x h^3+\\frac{1}{4!}\\left.\\frac{dy^4}{dx^4}\\right|_x h^4+\\dots\n",
        "\\end{equation} \n",
        "\\begin{equation}\n",
        "+\\dots+o(h^n)+\\dots \\tag{1}\n",
        "\\end{equation} \n",
        "## Método de Euler\n",
        "Reescrevando a expansão em série de Taylor (1),\n",
        "\\begin{equation}\n",
        "y(x+h) - y(x) =h\\left( \\left.\\frac{dy}{dx}\\right|_x  +  \\frac{1}{2!}\\left.\\frac{d^2y}{dx^2}\\right|_x h+\\frac{1}{3!}\\left.\\frac{dy^3}{dx^3}\\right|_x h^2+\\frac{1}{4!}\\left.\\frac{dy^4}{dx^4}\\right|_x h^3+\\dots.\\right.\n",
        "\\end{equation}\n",
        "\\begin{equation}\n",
        "+\\dots + o(h^{n-1})+\\dots \\tag{2}\n",
        "\\end{equation}\n",
        "\\begin{equation}\n",
        "\\frac{y(x+h) - y(x)}{h} =\\left.\\frac{dy}{dx}\\right|_x  +  \\frac{1}{2!}\\left.\\frac{d^2y}{dx^2}\\right|_x h+\\frac{1}{3!}\\left.\\frac{dy^3}{dx^3}\\right|_x h^2+\\frac{1}{4!}\\left.\\frac{dy^4}{dx^4}\\right|_x h^3+\\dots\n",
        "\\end{equation}\n",
        "\\begin{equation}\n",
        "+\\dots+o(h^{n-1})+\\dots \\tag{3}\n",
        "\\end{equation}\n",
        "Podemos considerar a aproximação para a derivada,\n",
        "\\begin{equation}\n",
        "\\frac{dy}{dx}  = \\frac{y(x+h) - y(x)}{h} +o(h), \\tag{4}\n",
        "\\end{equation}\n",
        "retomando a (EDO) e usando (4) teremos\n",
        "\\begin{equation}\n",
        "\\frac{y(x+h) - y(x)}{h} = f(t,y), \\tag{5}\n",
        "\\end{equation}\n",
        "realizando o algebrismo necessário encontramos o método de Euler\n",
        "\\begin{equation}\n",
        "y(x+h) = y(x) + hf(t,y). \\tag{6}\n",
        "\\end{equation}\n",
        "\n",
        "Considerando o tempo discreto com passo $h$ teremos\n",
        "\\begin{equation}\n",
        "y_{i+1} = y_i + hf(t_i,y_i). \\tag{Método de Euler}\n",
        "\\end{equation}\n",
        "note que desprezamos o termo $o(h)$ na aproximação da derivada, desta maneira podemos afirmar que realizamos uma aproximação de ordem 1."
      ]
    },
    {
      "cell_type": "markdown",
      "metadata": {
        "id": "icLcY9l4PICg",
        "colab_type": "text"
      },
      "source": [
        "## EDO programadas\n",
        "Seja\n",
        "\\begin{equation}\n",
        "\\frac{dy}{dt}= f(t, y), \\tag{EDO}\n",
        "\\end{equation}\n",
        "com $f(t, y)=f_i(t, y)$, $i=1,2,3,$ e, $4$,\n",
        "\\begin{equation}\n",
        "f_1(t, y)=t-y+2,\n",
        "\\end{equation}\n",
        "\\begin{equation}\n",
        "f_2(t, y)=y-t^2+1,\n",
        "\\end{equation}\n",
        "\\begin{equation}\n",
        "f_3(t, y)=te^{3t}-2y,\n",
        "\\end{equation}\n",
        "\\begin{equation}\n",
        "f_4(t, y)=\\frac{2y}{t}+t^2e^t.\n",
        "\\end{equation}\n",
        "Encontre e verifique as soluções da EDO. Use as mesmas para definir as condições iniciais $y(0)$ da EDO."
      ]
    },
    {
      "cell_type": "code",
      "metadata": {
        "id": "1sGAQ2N5oiDk",
        "colab_type": "code",
        "colab": {}
      },
      "source": [
        "def fun1_2d(t, y):\n",
        "    fun1 = t - y + 2.0\n",
        "    return fun1\n",
        "def fun2_2d(t, y):\n",
        "    fun2 = y - t**2 + 1;\n",
        "    return fun2\n",
        "def fun3_2d(t, y):\n",
        "    fun3 = t * exp(3*t) - 2 * y\n",
        "    return fun3\n",
        "def fun4_2d(t, y):\n",
        "    fun4 = 2 * y / t + t**2 * exp(t)\n",
        "    return fun4  \n"
      ],
      "execution_count": null,
      "outputs": []
    },
    {
      "cell_type": "code",
      "metadata": {
        "id": "my2Hp3hIosh-",
        "colab_type": "code",
        "colab": {}
      },
      "source": [
        "def sol1_exata_pvi(t):\n",
        "    sol1 = exp(-t) + t + 1.0\n",
        "    return sol1\n",
        "def sol2_exata_pvi(t):\n",
        "    sol2 = (t + 1)**2 - 0.5 * exp(t)\n",
        "    return sol2\n",
        "def sol3_exata_pvi(t):\n",
        "    sol3 = t * t * (exp(t) - exp(1))\n",
        "    return sol3\n",
        "def sol4_exata_pvi(t):\n",
        "    sol4 = 0.2 * t * exp(3*t) - 0.04 * exp(3*t) + 0.04 * exp(-2*t)\n",
        "    return sol4    "
      ],
      "execution_count": null,
      "outputs": []
    },
    {
      "cell_type": "code",
      "metadata": {
        "id": "YSb-lF6eoyMC",
        "colab_type": "code",
        "colab": {
          "base_uri": "https://localhost:8080/",
          "height": 305
        },
        "outputId": "523f41f2-2512-43de-d469-5a83cd3fef34"
      },
      "source": [
        "import numpy as np\n",
        "from numpy import exp\n",
        "import matplotlib.pyplot as plt\n",
        "a = 0\n",
        "b = 1\n",
        "n = 256\n",
        "h = (b - a) / n\n",
        "t      = np.linspace(0, 0, n + 1)\n",
        "y      = np.linspace(0, 0, n + 1)\n",
        "sol_ex = np.linspace(0, 0, n + 1)\n",
        "erro   = np.linspace(0, 0, n + 1)\n",
        "for i in range(0, n + 1):\n",
        "\tt[i] = a + i * h\n",
        "y[0] = sol2_exata_pvi(t[0])\n",
        "print(y[0])\n",
        "for i in range(1, n + 1):\n",
        "\ty[i] = y[i - 1] + h * fun2_2d(t[i - 1], y[i - 1])\n",
        "for i in range(0, n + 1):\n",
        "\tsol_ex[i] = sol2_exata_pvi(t[i])\n",
        "erro = abs(y - sol_ex)\n",
        "erro_max = max(erro)\n",
        "print(erro_max)\n",
        "# Plot\n",
        "plt.plot(t,erro )\n",
        "plt.title('Erro')\n",
        "plt.xlabel('t')\n",
        "plt.ylabel('y(t)')\n",
        "plt.grid(alpha=.3, linestyle='--')\n",
        "plt.show()"
      ],
      "execution_count": null,
      "outputs": [
        {
          "output_type": "stream",
          "text": [
            "0.5\n",
            "0.004046271429433368\n"
          ],
          "name": "stdout"
        },
        {
          "output_type": "display_data",
          "data": {
            "image/png": "[encoded data removed]",
            "text/plain": [
              "<Figure size 432x288 with 1 Axes>"
            ]
          },
          "metadata": {
            "tags": [],
            "needs_background": "light"
          }
        }
      ]
    },
    {
      "cell_type": "markdown",
      "metadata": {
        "id": "zHQZ2i4iNMju",
        "colab_type": "text"
      },
      "source": [
        "## Erro do Método de Euler \n",
        "Na tabela mostramos o erro calculando a norma do máximo entre a solução exata e solução aproximada para cada partição do eixo t com dimensão $n$. Duplicamos o $n$ com objetivo de conhecer a razão entre dois erro consecutivos.\n",
        "\n",
        "Dimensão | Euler | Razão\n",
        "--- | --- | ---\n",
        "n=16  |  0.06219386553919026  |   ****\n",
        "n=32  |  0.03176009200263774  |   1.9582\n",
        "n=64  |  0.016052576936856244 |   1.9785\n",
        "n=128 |  0.00807030670580211  |   1,9890\n",
        "n=256 |  0.004046271429433368 |   1,9945\n",
        "\n",
        "Observando os dados podemos concluir que o método realmente é de ordem $1$, isto é, aumentando o $n$ em duas vezes, a razão entre erros consecutivos converge para dois. É importante notar que esse fato nos mostra uma maneira de validar nosso código. Para gerar esses dados foi usado a função $f_2(t,y)$."
      ]
    },
    {
      "cell_type": "markdown",
      "metadata": {
        "id": "3EtJNZmdHxjO",
        "colab_type": "text"
      },
      "source": [
        "## Exercício\n",
        "\n",
        "Uma equação diferencial ordinária linear de primeira ordem pode ser escrita por $$\\frac{dy}{dt}=f(t).$$\n",
        "Seja $f(t)= e^{k t}$, onde $k=5$. \n",
        "\n",
        "a) Encontre a solução da equação diferencial ordinária.\n",
        "\n",
        "b) Escreva a equação discreta no tempo, ou seja, a equação de diferenças.\n",
        "\n",
        "c) Encontre a solução para cada $t$ com a condição inicial $y(0)=\\frac{1}{5}$. Defina $h=0.25$ no intervalo $t\\in[0,1]$, ou seja, defina os tempos, $t=0.25, 0.5, 0.75, 1$. Repita para $h=0.1$ em $t\\in[0,1]$.\n",
        "\n",
        "d) Em cada iteração do processo, encontre o erro em relação a solução exata. Tanto para $h=0.25$ quanto $h=0.1$."
      ]
    },
    {
      "cell_type": "markdown",
      "metadata": {
        "id": "a1BmDfGluQya",
        "colab_type": "text"
      },
      "source": [
        "## Referências\n",
        "- Computer Methods for Ordinary Differential Equations And Differential Algebraic equation. Uri M. Acher, Linda R. Petzold- SIAM\n",
        "\n",
        "- Análise Numérica - Richard Burden (Autor), J. Douglas Faires (Autor) - Thomson"
      ]
    }
  ]
}