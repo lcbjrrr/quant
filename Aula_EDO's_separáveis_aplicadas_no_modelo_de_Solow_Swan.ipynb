{
  "nbformat": 4,
  "nbformat_minor": 0,
  "metadata": {
    "colab": {
      "name": "Aula - EDO's separáveis aplicadas no modelo de Solow-Swan.ipynb",
      "provenance": [],
      "collapsed_sections": [
        "BVzL9Q-e6mP_",
        "FtXaT7jcFP82",
        "hADrEOS3KD_2"
      ],
      "include_colab_link": true
    },
    "kernelspec": {
      "display_name": "Python 3",
      "language": "python",
      "name": "python3"
    },
    "language_info": {
      "codemirror_mode": {
        "name": "ipython",
        "version": 3
      },
      "file_extension": ".py",
      "mimetype": "text/x-python",
      "name": "python",
      "nbconvert_exporter": "python",
      "pygments_lexer": "ipython3",
      "version": "3.7.4"
    }
  },
  "cells": [
    {
      "cell_type": "markdown",
      "metadata": {
        "id": "view-in-github",
        "colab_type": "text"
      },
      "source": [
        "<a href=\"https://colab.research.google.com/github/lcbjrrr/quant/blob/master/Aula_EDO's_separ%C3%A1veis_aplicadas_no_modelo_de_Solow_Swan.ipynb\" target=\"_parent\"><img src=\"https://colab.research.google.com/assets/colab-badge.svg\" alt=\"Open In Colab\"/></a>"
      ]
    },
    {
      "cell_type": "markdown",
      "metadata": {
        "colab_type": "text",
        "id": "BVzL9Q-e6mP_"
      },
      "source": [
        "# Ficha Técnica\n",
        "\n",
        "Disciplina - Otimização e processos dinâmicos.\n",
        "\n",
        "Conteúdo - EDO Separáveis.\n",
        "\n",
        "Aplicação:\n",
        " \n",
        "- Modelo de crescimento econômico de Solow-Swan \n",
        "\n",
        "- Linguagem de programação (Python).\n",
        "\n",
        "Autores: \n",
        "- Anderson Borba (anderson.aborba@professores.ibmec.edu.br) e\n",
        "- Luiz Barboza (luiz.cbjunior@professores.ibmec.edu.br)."
      ]
    },
    {
      "cell_type": "markdown",
      "metadata": {
        "colab_type": "text",
        "id": "G4aWVqqcCAE0"
      },
      "source": [
        "# EDO - Separáveis\n",
        "\n",
        "A equação diferencial ordinária que pode ser escrita por,\n",
        "\\begin{equation}\n",
        "\\begin{aligned}\n",
        "\\frac{dy}{dt}=f(t)g(y)\n",
        "\\end{aligned}\\tag{EDO separável}\n",
        "\\end{equation}\n",
        "é chamada de EDO separável.\n",
        "\n",
        "A solução pode ser encontrada da seguinte forma, \n",
        "\\begin{equation}\n",
        "\\begin{aligned}\n",
        "\\frac{dy}{g(y)}=f(t)dt,\n",
        "\\end{aligned}\n",
        "\\end{equation}\n",
        "\\begin{equation}\n",
        "\\begin{aligned}\n",
        "\\int \\frac{dy}{g(y)}=\\int f(t)dt,\n",
        "\\end{aligned}\n",
        "\\end{equation}      \n",
        "resolvendo as integrais encontramos a solução $y(t)$."
      ]
    },
    {
      "cell_type": "markdown",
      "metadata": {
        "id": "FtXaT7jcFP82",
        "colab_type": "text"
      },
      "source": [
        "## Exemplos\n",
        "- Ex 1) Seja a EDO separável\n",
        " \\begin{equation}\n",
        "\\begin{aligned}\n",
        "\\frac{dy}{dt}=\\text{e}^ty^2,\n",
        "\\end{aligned}\n",
        "\\end{equation}\n",
        "com condição inicial $y(0)=1$.\n",
        "- Solução\n",
        "\\begin{equation}\n",
        "\\begin{aligned}\n",
        "\\frac{dy}{y^2}=\\text{e}^tdt,\\\\\n",
        "\\int\\frac{dy}{y^2}=\\int\\text{e}^tdt,\\\\\n",
        "\\int y^{-2} dy=\\int\\text{e}^tdt,\\\\\n",
        "-y^{-1} + c_1 =e^t + c_2,\\\\\n",
        "-y^{-1} =e^t + c_2 - c_1,\\\\\n",
        "\\end{aligned}\n",
        "\\end{equation}\n",
        "definindo $c = c_2 - c_1$,\n",
        "\\begin{equation}\n",
        "\\begin{aligned}\n",
        " -\\frac{1}{y}=e^t + c.\\\\\n",
        "\\end{aligned}\n",
        "\\end{equation}\n",
        "\n",
        "Escrevemos a solução como\n",
        "\\begin{equation}\n",
        "\\begin{aligned}\n",
        " y(t)=\\frac{-1}{e^t + c},\\\\\n",
        "\\end{aligned}\\tag{1}\n",
        "\\end{equation}\n",
        "desta forma, podemos notar que a EDO tem infinitas solução, pois a constante $c$ pode ser qualquer número.\n",
        "\n",
        "A EDO tem solução única quando usarmos a condiçao inicial $y(0)=1$, assim substituindo na equação (1) encontramos o valor para $c=-2$. Portanto, a solução única para a EDO é\n",
        "\\begin{equation}\n",
        "\\begin{aligned}\n",
        " y(t)=\\frac{1}{2 - e^t}.\\\\\n",
        "\\end{aligned}\\tag{2}\n",
        "\\end{equation}\n",
        "\n",
        "\n"
      ]
    },
    {
      "cell_type": "markdown",
      "metadata": {
        "id": "s_gMcB2VZmte",
        "colab_type": "text"
      },
      "source": [
        "- Ex 2) Seja a EDO separável\n",
        " \\begin{equation}\n",
        "\\begin{aligned}\n",
        "\\frac{dy}{dt}=\\frac{e^{1-t}}{\\ln(y)}.\n",
        "\\end{aligned}\n",
        "\\end{equation}\n",
        "- Solução\n",
        "\\begin{equation}\n",
        "\\begin{aligned}\n",
        "\\ln(y)dy=e^{1-t}dt,\\\\\n",
        "\\int\\ln(y)dy=\\int e^{1-t}dt,\\\\\n",
        "y\\ln(y)-y=-e^{1-t}+c.\\\\\n",
        "\\end{aligned}\n",
        "\\end{equation}\n",
        "\n",
        "Escrevemos a solução como\n",
        "\\begin{equation}\n",
        "\\begin{aligned}\n",
        "y\\ln(y)-y=-e^{1-t}+c\n",
        "\\end{aligned}\n",
        "\\end{equation}\n",
        "desta forma, podemos notar que a EDO tem infinitas solução, pois a constante $c$ pode ser qualquer número, e a solução está na forma implícita.\n"
      ]
    },
    {
      "cell_type": "markdown",
      "metadata": {
        "id": "6qgSVBOqSW0x",
        "colab_type": "text"
      },
      "source": [
        "## O modelo de crescimento econômico Solow-Swan\n",
        "Seja $X=X(t)$ o produto nacional, $K=K(t)$ o estoque de capital e $L=L(t)$ o número de trabalhadores em um país no momento t. Suponha que, para todos $t\\geq 0$,\n",
        "- a) $X=\\sqrt{KL},$\n",
        "- b) $\\frac{dK}{dt}= 0.4X,$\n",
        "- c) $L(t)=\\text{e}^{0.04t},$\n",
        "\n",
        "encontre:\n",
        "\n",
        "- I) Uma única equação diferencial para $K=K(t)$ e ache a solução dessa equação quando $K(0)=10000$.\n",
        "- II) Qual é a razão capital-trabalho, $\\kappa(t)=\\frac{K(t)}{L(t)}$.\n",
        "\n",
        "Obs: Em,\n",
        "\n",
        "(a) temos uma função de produção Cobb-Douglas, \n",
        "\n",
        "(b) diz que a taxa de  investimento é proporcional ao produto nacional, enquanto \n",
        "\n",
        "(c) implica que a força de trabalho cresce exponencialmente.\n",
        "        \t\n",
        "\n"
      ]
    },
    {
      "cell_type": "markdown",
      "metadata": {
        "id": "a3beAYQpTdTM",
        "colab_type": "text"
      },
      "source": [
        "### Comportamento do capital ao longo do tempo\n",
        "\\begin{equation}\n",
        "\\begin{aligned}\n",
        " K(t)=100(e^{0.02t} + 9)^2.\\\\\n",
        "\\end{aligned}\n",
        "\\end{equation}"
      ]
    },
    {
      "cell_type": "code",
      "metadata": {
        "id": "my6j2OP2xmN_",
        "colab_type": "code",
        "colab": {
          "base_uri": "https://localhost:8080/",
          "height": 295
        },
        "outputId": "8b1ea30e-4d75-4a0c-b988-18c9d1711ca2"
      },
      "source": [
        "import matplotlib.pyplot as plt\n",
        "import numpy as np\n",
        "def sol_exata(t):\n",
        "  c1 = 100\n",
        "  c2 = 0.02 \n",
        "  c3 = 9 \n",
        "  sol_exata = c1 * (np.exp(c2*t) + c3)**2 \n",
        "  return sol_exata\n",
        "#\n",
        "ti = 0\n",
        "tf = 100\n",
        "n = 2048\n",
        "h = (tf - ti) / n\n",
        "t      = np.linspace(0, 0, n + 1)\n",
        "sol_ex = np.linspace(0, 0, n + 1)\n",
        "for i in range(0, n + 1):\n",
        "\tt[i] = ti + i * h\n",
        "# Solução exata\n",
        "for i in range(0, n + 1):\n",
        "\tsol_ex[i] = sol_exata(t[i])\n",
        "# Plot\n",
        "plt.plot(t, sol_ex)\n",
        "plt.title('Capital')\n",
        "plt.xlabel('t')\n",
        "plt.ylabel('K(t)')\n",
        "plt.grid(alpha=.3, linestyle='--')\n",
        "plt.show()"
      ],
      "execution_count": null,
      "outputs": [
        {
          "output_type": "display_data",
          "data": {
            "image/png": "[encoded data removed]",
            "text/plain": [
              "<Figure size 432x288 with 1 Axes>"
            ]
          },
          "metadata": {
            "tags": [],
            "needs_background": "light"
          }
        }
      ]
    },
    {
      "cell_type": "markdown",
      "metadata": {
        "id": "p9SnnEpqFgux",
        "colab_type": "text"
      },
      "source": [
        "### Comportamento do $\\kappa(t)$ ao longo do tempo\n",
        "\\begin{equation}\n",
        "\\begin{aligned}\n",
        " \\kappa(t)=100(1 + 9e^{-0.02t})^2.\\\\\n",
        "\\end{aligned}\n",
        "\\end{equation}\n"
      ]
    },
    {
      "cell_type": "code",
      "metadata": {
        "id": "3pyLUez0_KiZ",
        "colab_type": "code",
        "colab": {
          "base_uri": "https://localhost:8080/",
          "height": 295
        },
        "outputId": "da927a4f-81bc-4c04-be6f-34e8b4ac4966"
      },
      "source": [
        "import matplotlib.pyplot as plt\n",
        "import numpy as np\n",
        "def sol_exata(t):\n",
        "  c1 = 100\n",
        "  c2 = 0.02 \n",
        "  c3 = 9 \n",
        "  sol_exata = c1 * (1 + c3 * np.exp(-c2*t))**2 \n",
        " \n",
        "  return sol_exata\n",
        "#\n",
        "ti = 0\n",
        "tf = 1000\n",
        "n = 2048\n",
        "h = (tf - ti) / n\n",
        "t      = np.linspace(0, 0, n + 1)\n",
        "sol_ex = np.linspace(0, 0, n + 1)\n",
        "for i in range(0, n + 1):\n",
        "\tt[i] = ti + i * h\n",
        "# Solução exata\n",
        "for i in range(0, n + 1):\n",
        "\tsol_ex[i] = sol_exata(t[i])\n",
        "# Plot\n",
        "plt.plot(t, sol_ex)\n",
        "plt.title('Razão capital trabalho')\n",
        "plt.xlabel('t')\n",
        "plt.ylabel('capital/trabalho')\n",
        "plt.grid(alpha=.3, linestyle='--')\n",
        "plt.show()"
      ],
      "execution_count": null,
      "outputs": [
        {
          "output_type": "display_data",
          "data": {
            "image/png": "[encoded data removed]",
            "text/plain": [
              "<Figure size 432x288 with 1 Axes>"
            ]
          },
          "metadata": {
            "tags": [],
            "needs_background": "light"
          }
        }
      ]
    },
    {
      "cell_type": "markdown",
      "metadata": {
        "id": "hADrEOS3KD_2",
        "colab_type": "text"
      },
      "source": [
        "# Referências\n",
        "- [1] Essential Mathematics for Economic Analysis.  Sydsaeter, K. and Hammond, P.J. and Strom, A. and Carvajal, A.,"
      ]
    }
  ]
}