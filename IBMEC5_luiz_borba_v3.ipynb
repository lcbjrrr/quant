{
  "nbformat": 4,
  "nbformat_minor": 0,
  "metadata": {
    "colab": {
      "name": "IBMEC5_luiz_borba_v3.ipynb",
      "provenance": [],
      "collapsed_sections": [],
      "include_colab_link": true
    },
    "kernelspec": {
      "name": "python3",
      "display_name": "Python 3"
    }
  },
  "cells": [
    {
      "cell_type": "markdown",
      "metadata": {
        "id": "view-in-github",
        "colab_type": "text"
      },
      "source": [
        "<a href=\"https://colab.research.google.com/github/lcbjrrr/quant/blob/master/IBMEC5_luiz_borba_v3.ipynb\" target=\"_parent\"><img src=\"https://colab.research.google.com/assets/colab-badge.svg\" alt=\"Open In Colab\"/></a>"
      ]
    },
    {
      "cell_type": "markdown",
      "source": [
        "Ficha Técnica Disciplina - Data Mining.\n",
        "\n",
        "Conteúdo - Regressão Linear\n",
        "\n",
        "Autores:\n",
        "\n",
        "Anderson Borba (anderson.aborba@professores.ibmec.edu.br) e\n",
        "\n",
        "Luiz Barboza (luiz.cbjunior@professores.ibmec.edu.br).\n",
        "\n",
        "Endereço eletrônico: http://quant-ibmec.group/python-e-ml/"
      ],
      "metadata": {
        "id": "i6SGHH3QXZ6l"
      }
    },
    {
      "cell_type": "markdown",
      "metadata": {
        "id": "FuTN6S3A6ZL6"
      },
      "source": [
        "## Regressão Linear\n",
        "\n"
      ]
    },
    {
      "cell_type": "code",
      "metadata": {
        "id": "CoJZsQW_6ZUm",
        "colab": {
          "base_uri": "https://localhost:8080/",
          "height": 143
        },
        "outputId": "b0ebabac-533a-4713-a31a-56bd3fdf6011"
      },
      "source": [
        "import pandas as pd\n",
        "treino = pd.read_csv('https://raw.githubusercontent.com/lcbjuk/ML/master/dados/notas%20-%20ok.csv')\n",
        "treino.head(3)"
      ],
      "execution_count": 1,
      "outputs": [
        {
          "output_type": "execute_result",
          "data": {
            "text/plain": [
              "    AP1   AP2   AP3  Final\n",
              "0  10.0  10.0   9.0    9.8\n",
              "1   9.0  10.0   9.0    9.4\n",
              "2   9.5  10.0  10.0    9.8"
            ],
            "text/html": [
              "\n",
              "  <div id=\"df-bf637a15-e3d1-43eb-a217-ba4077f1cdc5\">\n",
              "    <div class=\"colab-df-container\">\n",
              "      <div>\n",
              "<style scoped>\n",
              "    .dataframe tbody tr th:only-of-type {\n",
              "        vertical-align: middle;\n",
              "    }\n",
              "\n",
              "    .dataframe tbody tr th {\n",
              "        vertical-align: top;\n",
              "    }\n",
              "\n",
              "    .dataframe thead th {\n",
              "        text-align: right;\n",
              "    }\n",
              "</style>\n",
              "<table border=\"1\" class=\"dataframe\">\n",
              "  <thead>\n",
              "    <tr style=\"text-align: right;\">\n",
              "      <th></th>\n",
              "      <th>AP1</th>\n",
              "      <th>AP2</th>\n",
              "      <th>AP3</th>\n",
              "      <th>Final</th>\n",
              "    </tr>\n",
              "  </thead>\n",
              "  <tbody>\n",
              "    <tr>\n",
              "      <th>0</th>\n",
              "      <td>10.0</td>\n",
              "      <td>10.0</td>\n",
              "      <td>9.0</td>\n",
              "      <td>9.8</td>\n",
              "    </tr>\n",
              "    <tr>\n",
              "      <th>1</th>\n",
              "      <td>9.0</td>\n",
              "      <td>10.0</td>\n",
              "      <td>9.0</td>\n",
              "      <td>9.4</td>\n",
              "    </tr>\n",
              "    <tr>\n",
              "      <th>2</th>\n",
              "      <td>9.5</td>\n",
              "      <td>10.0</td>\n",
              "      <td>10.0</td>\n",
              "      <td>9.8</td>\n",
              "    </tr>\n",
              "  </tbody>\n",
              "</table>\n",
              "</div>\n",
              "      <button class=\"colab-df-convert\" onclick=\"convertToInteractive('df-bf637a15-e3d1-43eb-a217-ba4077f1cdc5')\"\n",
              "              title=\"Convert this dataframe to an interactive table.\"\n",
              "              style=\"display:none;\">\n",
              "        \n",
              "  <svg xmlns=\"http://www.w3.org/2000/svg\" height=\"24px\"viewBox=\"0 0 24 24\"\n",
              "       width=\"24px\">\n",
              "    <path d=\"M0 0h24v24H0V0z\" fill=\"none\"/>\n",
              "    <path d=\"M18.56 5.44l.94 2.06.94-2.06 2.06-.94-2.06-.94-.94-2.06-.94 2.06-2.06.94zm-11 1L8.5 8.5l.94-2.06 2.06-.94-2.06-.94L8.5 2.5l-.94 2.06-2.06.94zm10 10l.94 2.06.94-2.06 2.06-.94-2.06-.94-.94-2.06-.94 2.06-2.06.94z\"/><path d=\"M17.41 7.96l-1.37-1.37c-.4-.4-.92-.59-1.43-.59-.52 0-1.04.2-1.43.59L10.3 9.45l-7.72 7.72c-.78.78-.78 2.05 0 2.83L4 21.41c.39.39.9.59 1.41.59.51 0 1.02-.2 1.41-.59l7.78-7.78 2.81-2.81c.8-.78.8-2.07 0-2.86zM5.41 20L4 18.59l7.72-7.72 1.47 1.35L5.41 20z\"/>\n",
              "  </svg>\n",
              "      </button>\n",
              "      \n",
              "  <style>\n",
              "    .colab-df-container {\n",
              "      display:flex;\n",
              "      flex-wrap:wrap;\n",
              "      gap: 12px;\n",
              "    }\n",
              "\n",
              "    .colab-df-convert {\n",
              "      background-color: #E8F0FE;\n",
              "      border: none;\n",
              "      border-radius: 50%;\n",
              "      cursor: pointer;\n",
              "      display: none;\n",
              "      fill: #1967D2;\n",
              "      height: 32px;\n",
              "      padding: 0 0 0 0;\n",
              "      width: 32px;\n",
              "    }\n",
              "\n",
              "    .colab-df-convert:hover {\n",
              "      background-color: #E2EBFA;\n",
              "      box-shadow: 0px 1px 2px rgba(60, 64, 67, 0.3), 0px 1px 3px 1px rgba(60, 64, 67, 0.15);\n",
              "      fill: #174EA6;\n",
              "    }\n",
              "\n",
              "    [theme=dark] .colab-df-convert {\n",
              "      background-color: #3B4455;\n",
              "      fill: #D2E3FC;\n",
              "    }\n",
              "\n",
              "    [theme=dark] .colab-df-convert:hover {\n",
              "      background-color: #434B5C;\n",
              "      box-shadow: 0px 1px 3px 1px rgba(0, 0, 0, 0.15);\n",
              "      filter: drop-shadow(0px 1px 2px rgba(0, 0, 0, 0.3));\n",
              "      fill: #FFFFFF;\n",
              "    }\n",
              "  </style>\n",
              "\n",
              "      <script>\n",
              "        const buttonEl =\n",
              "          document.querySelector('#df-bf637a15-e3d1-43eb-a217-ba4077f1cdc5 button.colab-df-convert');\n",
              "        buttonEl.style.display =\n",
              "          google.colab.kernel.accessAllowed ? 'block' : 'none';\n",
              "\n",
              "        async function convertToInteractive(key) {\n",
              "          const element = document.querySelector('#df-bf637a15-e3d1-43eb-a217-ba4077f1cdc5');\n",
              "          const dataTable =\n",
              "            await google.colab.kernel.invokeFunction('convertToInteractive',\n",
              "                                                     [key], {});\n",
              "          if (!dataTable) return;\n",
              "\n",
              "          const docLinkHtml = 'Like what you see? Visit the ' +\n",
              "            '<a target=\"_blank\" href=https://colab.research.google.com/notebooks/data_table.ipynb>data table notebook</a>'\n",
              "            + ' to learn more about interactive tables.';\n",
              "          element.innerHTML = '';\n",
              "          dataTable['output_type'] = 'display_data';\n",
              "          await google.colab.output.renderOutput(dataTable, element);\n",
              "          const docLink = document.createElement('div');\n",
              "          docLink.innerHTML = docLinkHtml;\n",
              "          element.appendChild(docLink);\n",
              "        }\n",
              "      </script>\n",
              "    </div>\n",
              "  </div>\n",
              "  "
            ]
          },
          "metadata": {},
          "execution_count": 1
        }
      ]
    },
    {
      "cell_type": "code",
      "source": [
        "from sklearn.linear_model import LinearRegression\n",
        "reglin = LinearRegression()\n",
        "reglin.fit(treino[['AP1','AP2']] , treino['AP3'])\n",
        "print(reglin.coef_, reglin.intercept_)\n"
      ],
      "metadata": {
        "colab": {
          "base_uri": "https://localhost:8080/"
        },
        "id": "XBKPGMrNM9go",
        "outputId": "113f087d-5462-4232-ab9d-3f8b2ba816b3"
      },
      "execution_count": 4,
      "outputs": [
        {
          "output_type": "stream",
          "name": "stdout",
          "text": [
            "[-0.36608176  1.38338992] -0.8257714929014783\n"
          ]
        }
      ]
    },
    {
      "cell_type": "code",
      "source": [
        "def prever_ap3(ap1, ap2):\n",
        "  ap3 = ap1 * -0.366 + ap2 * 1.383 - 0.825\n",
        "  return ap3\n",
        "\n",
        "print(prever_ap3(8,8))\n",
        "print(prever_ap3(2,4))\n",
        "print(prever_ap3(3.5,8))"
      ],
      "metadata": {
        "colab": {
          "base_uri": "https://localhost:8080/"
        },
        "id": "5Jaj4LEtM_sf",
        "outputId": "3dd69fde-fd69-455a-e586-bb1d6a9b1bee"
      },
      "execution_count": 5,
      "outputs": [
        {
          "output_type": "stream",
          "name": "stdout",
          "text": [
            "7.310999999999999\n",
            "3.9749999999999996\n",
            "8.958\n"
          ]
        }
      ]
    },
    {
      "cell_type": "code",
      "metadata": {
        "id": "B_8LVUgA6kiB",
        "colab": {
          "base_uri": "https://localhost:8080/",
          "height": 143
        },
        "outputId": "e68d15d9-ebc8-46d5-a247-b56d296d52db"
      },
      "source": [
        "teste = pd.read_csv('https://raw.githubusercontent.com/lcbjrrr/quant/master/notas-rl%20-%20test.csv')\n",
        "teste"
      ],
      "execution_count": 25,
      "outputs": [
        {
          "output_type": "execute_result",
          "data": {
            "text/plain": [
              "   AP1  AP2  AP3\n",
              "0  8.0    8    7\n",
              "1  2.0    4    4\n",
              "2  3.5    8    9"
            ],
            "text/html": [
              "\n",
              "  <div id=\"df-3ed1ce1e-4d55-43c4-aeed-9c20e29a259f\">\n",
              "    <div class=\"colab-df-container\">\n",
              "      <div>\n",
              "<style scoped>\n",
              "    .dataframe tbody tr th:only-of-type {\n",
              "        vertical-align: middle;\n",
              "    }\n",
              "\n",
              "    .dataframe tbody tr th {\n",
              "        vertical-align: top;\n",
              "    }\n",
              "\n",
              "    .dataframe thead th {\n",
              "        text-align: right;\n",
              "    }\n",
              "</style>\n",
              "<table border=\"1\" class=\"dataframe\">\n",
              "  <thead>\n",
              "    <tr style=\"text-align: right;\">\n",
              "      <th></th>\n",
              "      <th>AP1</th>\n",
              "      <th>AP2</th>\n",
              "      <th>AP3</th>\n",
              "    </tr>\n",
              "  </thead>\n",
              "  <tbody>\n",
              "    <tr>\n",
              "      <th>0</th>\n",
              "      <td>8.0</td>\n",
              "      <td>8</td>\n",
              "      <td>7</td>\n",
              "    </tr>\n",
              "    <tr>\n",
              "      <th>1</th>\n",
              "      <td>2.0</td>\n",
              "      <td>4</td>\n",
              "      <td>4</td>\n",
              "    </tr>\n",
              "    <tr>\n",
              "      <th>2</th>\n",
              "      <td>3.5</td>\n",
              "      <td>8</td>\n",
              "      <td>9</td>\n",
              "    </tr>\n",
              "  </tbody>\n",
              "</table>\n",
              "</div>\n",
              "      <button class=\"colab-df-convert\" onclick=\"convertToInteractive('df-3ed1ce1e-4d55-43c4-aeed-9c20e29a259f')\"\n",
              "              title=\"Convert this dataframe to an interactive table.\"\n",
              "              style=\"display:none;\">\n",
              "        \n",
              "  <svg xmlns=\"http://www.w3.org/2000/svg\" height=\"24px\"viewBox=\"0 0 24 24\"\n",
              "       width=\"24px\">\n",
              "    <path d=\"M0 0h24v24H0V0z\" fill=\"none\"/>\n",
              "    <path d=\"M18.56 5.44l.94 2.06.94-2.06 2.06-.94-2.06-.94-.94-2.06-.94 2.06-2.06.94zm-11 1L8.5 8.5l.94-2.06 2.06-.94-2.06-.94L8.5 2.5l-.94 2.06-2.06.94zm10 10l.94 2.06.94-2.06 2.06-.94-2.06-.94-.94-2.06-.94 2.06-2.06.94z\"/><path d=\"M17.41 7.96l-1.37-1.37c-.4-.4-.92-.59-1.43-.59-.52 0-1.04.2-1.43.59L10.3 9.45l-7.72 7.72c-.78.78-.78 2.05 0 2.83L4 21.41c.39.39.9.59 1.41.59.51 0 1.02-.2 1.41-.59l7.78-7.78 2.81-2.81c.8-.78.8-2.07 0-2.86zM5.41 20L4 18.59l7.72-7.72 1.47 1.35L5.41 20z\"/>\n",
              "  </svg>\n",
              "      </button>\n",
              "      \n",
              "  <style>\n",
              "    .colab-df-container {\n",
              "      display:flex;\n",
              "      flex-wrap:wrap;\n",
              "      gap: 12px;\n",
              "    }\n",
              "\n",
              "    .colab-df-convert {\n",
              "      background-color: #E8F0FE;\n",
              "      border: none;\n",
              "      border-radius: 50%;\n",
              "      cursor: pointer;\n",
              "      display: none;\n",
              "      fill: #1967D2;\n",
              "      height: 32px;\n",
              "      padding: 0 0 0 0;\n",
              "      width: 32px;\n",
              "    }\n",
              "\n",
              "    .colab-df-convert:hover {\n",
              "      background-color: #E2EBFA;\n",
              "      box-shadow: 0px 1px 2px rgba(60, 64, 67, 0.3), 0px 1px 3px 1px rgba(60, 64, 67, 0.15);\n",
              "      fill: #174EA6;\n",
              "    }\n",
              "\n",
              "    [theme=dark] .colab-df-convert {\n",
              "      background-color: #3B4455;\n",
              "      fill: #D2E3FC;\n",
              "    }\n",
              "\n",
              "    [theme=dark] .colab-df-convert:hover {\n",
              "      background-color: #434B5C;\n",
              "      box-shadow: 0px 1px 3px 1px rgba(0, 0, 0, 0.15);\n",
              "      filter: drop-shadow(0px 1px 2px rgba(0, 0, 0, 0.3));\n",
              "      fill: #FFFFFF;\n",
              "    }\n",
              "  </style>\n",
              "\n",
              "      <script>\n",
              "        const buttonEl =\n",
              "          document.querySelector('#df-3ed1ce1e-4d55-43c4-aeed-9c20e29a259f button.colab-df-convert');\n",
              "        buttonEl.style.display =\n",
              "          google.colab.kernel.accessAllowed ? 'block' : 'none';\n",
              "\n",
              "        async function convertToInteractive(key) {\n",
              "          const element = document.querySelector('#df-3ed1ce1e-4d55-43c4-aeed-9c20e29a259f');\n",
              "          const dataTable =\n",
              "            await google.colab.kernel.invokeFunction('convertToInteractive',\n",
              "                                                     [key], {});\n",
              "          if (!dataTable) return;\n",
              "\n",
              "          const docLinkHtml = 'Like what you see? Visit the ' +\n",
              "            '<a target=\"_blank\" href=https://colab.research.google.com/notebooks/data_table.ipynb>data table notebook</a>'\n",
              "            + ' to learn more about interactive tables.';\n",
              "          element.innerHTML = '';\n",
              "          dataTable['output_type'] = 'display_data';\n",
              "          await google.colab.output.renderOutput(dataTable, element);\n",
              "          const docLink = document.createElement('div');\n",
              "          docLink.innerHTML = docLinkHtml;\n",
              "          element.appendChild(docLink);\n",
              "        }\n",
              "      </script>\n",
              "    </div>\n",
              "  </div>\n",
              "  "
            ]
          },
          "metadata": {},
          "execution_count": 25
        }
      ]
    },
    {
      "cell_type": "code",
      "source": [
        "prev_teste = reglin.predict(teste[['AP1','AP2']])\n",
        "prev_teste"
      ],
      "metadata": {
        "colab": {
          "base_uri": "https://localhost:8080/"
        },
        "id": "QUaUXHI4NPU0",
        "outputId": "e5ef6a96-7473-4dc3-abd9-9adec4905b15"
      },
      "execution_count": 27,
      "outputs": [
        {
          "output_type": "execute_result",
          "data": {
            "text/plain": [
              "array([7.31269382, 3.97562468, 8.96006172])"
            ]
          },
          "metadata": {},
          "execution_count": 27
        }
      ]
    },
    {
      "cell_type": "code",
      "metadata": {
        "id": "H-LRrhwR692G",
        "colab": {
          "base_uri": "https://localhost:8080/"
        },
        "outputId": "317bb58d-0580-466e-a64e-2211cf3c13b1"
      },
      "source": [
        "r2_treino = reglin.score(treino[['AP1','AP2']] , treino['AP3'])\n",
        "r2_treino"
      ],
      "execution_count": 28,
      "outputs": [
        {
          "output_type": "execute_result",
          "data": {
            "text/plain": [
              "0.9818896713333346"
            ]
          },
          "metadata": {},
          "execution_count": 28
        }
      ]
    },
    {
      "cell_type": "code",
      "metadata": {
        "id": "Q71uACAF66zq",
        "colab": {
          "base_uri": "https://localhost:8080/"
        },
        "outputId": "a0776a98-d212-4b13-9eff-f85be09bb10a"
      },
      "source": [
        "from sklearn import metrics\n",
        "prev_treino = reglin.predict(treino[['AP1','AP2']])\n",
        "r2_treino = metrics.r2_score(treino['AP3'] , prev_treino)\n",
        "print('R2 Treino',r2_treino)"
      ],
      "execution_count": 29,
      "outputs": [
        {
          "output_type": "stream",
          "name": "stdout",
          "text": [
            "R2 Treino 0.9818896713333346\n"
          ]
        }
      ]
    },
    {
      "cell_type": "code",
      "metadata": {
        "id": "gUAhxTvU65L7",
        "colab": {
          "base_uri": "https://localhost:8080/"
        },
        "outputId": "614ee72d-ee01-4a28-d662-a16f92159c39"
      },
      "source": [
        "mse = metrics.mean_squared_error(treino['AP3'] , prev_treino) \n",
        "print('MSE Treino',mse)\n",
        "print('Erro Medio Treino',mse**(1/2))"
      ],
      "execution_count": 30,
      "outputs": [
        {
          "output_type": "stream",
          "name": "stdout",
          "text": [
            "MSE Treino 0.14550924670519017\n",
            "Erro Medio Treino 0.38145674290172166\n"
          ]
        }
      ]
    },
    {
      "cell_type": "code",
      "source": [
        "prev_teste = reglin.predict(teste[['AP1','AP2']])\n",
        "r2_teste = metrics.r2_score(teste['AP3'] , prev_teste)\n",
        "print('R2 teste',r2_treino)\n",
        "mse = metrics.mean_squared_error(teste['AP3'] , prev_teste) \n",
        "print('MSE teste',mse)\n",
        "print('Erro Medio teste',mse**(1/2))"
      ],
      "metadata": {
        "colab": {
          "base_uri": "https://localhost:8080/"
        },
        "id": "LNgIhmCJO6uA",
        "outputId": "cae9aa3c-3bc6-4968-997f-a56aab5b06a1"
      },
      "execution_count": 31,
      "outputs": [
        {
          "output_type": "stream",
          "name": "stdout",
          "text": [
            "R2 teste 0.9818896713333346\n",
            "MSE teste 0.0333222153227253\n",
            "Erro Medio teste 0.18254373536970614\n"
          ]
        }
      ]
    },
    {
      "cell_type": "code",
      "metadata": {
        "id": "qq-jBvwS621X",
        "colab": {
          "base_uri": "https://localhost:8080/",
          "height": 143
        },
        "outputId": "bd9395da-c023-4e92-c61c-533f4534a0dc"
      },
      "source": [
        "import statsmodels.api as sm\n",
        "treino[['AP1','AP2']].head(3)"
      ],
      "execution_count": 32,
      "outputs": [
        {
          "output_type": "execute_result",
          "data": {
            "text/plain": [
              "    AP1   AP2\n",
              "0  10.0  10.0\n",
              "1   9.0  10.0\n",
              "2   9.5  10.0"
            ],
            "text/html": [
              "\n",
              "  <div id=\"df-1b56c72f-da72-4f73-a40f-a69417284049\">\n",
              "    <div class=\"colab-df-container\">\n",
              "      <div>\n",
              "<style scoped>\n",
              "    .dataframe tbody tr th:only-of-type {\n",
              "        vertical-align: middle;\n",
              "    }\n",
              "\n",
              "    .dataframe tbody tr th {\n",
              "        vertical-align: top;\n",
              "    }\n",
              "\n",
              "    .dataframe thead th {\n",
              "        text-align: right;\n",
              "    }\n",
              "</style>\n",
              "<table border=\"1\" class=\"dataframe\">\n",
              "  <thead>\n",
              "    <tr style=\"text-align: right;\">\n",
              "      <th></th>\n",
              "      <th>AP1</th>\n",
              "      <th>AP2</th>\n",
              "    </tr>\n",
              "  </thead>\n",
              "  <tbody>\n",
              "    <tr>\n",
              "      <th>0</th>\n",
              "      <td>10.0</td>\n",
              "      <td>10.0</td>\n",
              "    </tr>\n",
              "    <tr>\n",
              "      <th>1</th>\n",
              "      <td>9.0</td>\n",
              "      <td>10.0</td>\n",
              "    </tr>\n",
              "    <tr>\n",
              "      <th>2</th>\n",
              "      <td>9.5</td>\n",
              "      <td>10.0</td>\n",
              "    </tr>\n",
              "  </tbody>\n",
              "</table>\n",
              "</div>\n",
              "      <button class=\"colab-df-convert\" onclick=\"convertToInteractive('df-1b56c72f-da72-4f73-a40f-a69417284049')\"\n",
              "              title=\"Convert this dataframe to an interactive table.\"\n",
              "              style=\"display:none;\">\n",
              "        \n",
              "  <svg xmlns=\"http://www.w3.org/2000/svg\" height=\"24px\"viewBox=\"0 0 24 24\"\n",
              "       width=\"24px\">\n",
              "    <path d=\"M0 0h24v24H0V0z\" fill=\"none\"/>\n",
              "    <path d=\"M18.56 5.44l.94 2.06.94-2.06 2.06-.94-2.06-.94-.94-2.06-.94 2.06-2.06.94zm-11 1L8.5 8.5l.94-2.06 2.06-.94-2.06-.94L8.5 2.5l-.94 2.06-2.06.94zm10 10l.94 2.06.94-2.06 2.06-.94-2.06-.94-.94-2.06-.94 2.06-2.06.94z\"/><path d=\"M17.41 7.96l-1.37-1.37c-.4-.4-.92-.59-1.43-.59-.52 0-1.04.2-1.43.59L10.3 9.45l-7.72 7.72c-.78.78-.78 2.05 0 2.83L4 21.41c.39.39.9.59 1.41.59.51 0 1.02-.2 1.41-.59l7.78-7.78 2.81-2.81c.8-.78.8-2.07 0-2.86zM5.41 20L4 18.59l7.72-7.72 1.47 1.35L5.41 20z\"/>\n",
              "  </svg>\n",
              "      </button>\n",
              "      \n",
              "  <style>\n",
              "    .colab-df-container {\n",
              "      display:flex;\n",
              "      flex-wrap:wrap;\n",
              "      gap: 12px;\n",
              "    }\n",
              "\n",
              "    .colab-df-convert {\n",
              "      background-color: #E8F0FE;\n",
              "      border: none;\n",
              "      border-radius: 50%;\n",
              "      cursor: pointer;\n",
              "      display: none;\n",
              "      fill: #1967D2;\n",
              "      height: 32px;\n",
              "      padding: 0 0 0 0;\n",
              "      width: 32px;\n",
              "    }\n",
              "\n",
              "    .colab-df-convert:hover {\n",
              "      background-color: #E2EBFA;\n",
              "      box-shadow: 0px 1px 2px rgba(60, 64, 67, 0.3), 0px 1px 3px 1px rgba(60, 64, 67, 0.15);\n",
              "      fill: #174EA6;\n",
              "    }\n",
              "\n",
              "    [theme=dark] .colab-df-convert {\n",
              "      background-color: #3B4455;\n",
              "      fill: #D2E3FC;\n",
              "    }\n",
              "\n",
              "    [theme=dark] .colab-df-convert:hover {\n",
              "      background-color: #434B5C;\n",
              "      box-shadow: 0px 1px 3px 1px rgba(0, 0, 0, 0.15);\n",
              "      filter: drop-shadow(0px 1px 2px rgba(0, 0, 0, 0.3));\n",
              "      fill: #FFFFFF;\n",
              "    }\n",
              "  </style>\n",
              "\n",
              "      <script>\n",
              "        const buttonEl =\n",
              "          document.querySelector('#df-1b56c72f-da72-4f73-a40f-a69417284049 button.colab-df-convert');\n",
              "        buttonEl.style.display =\n",
              "          google.colab.kernel.accessAllowed ? 'block' : 'none';\n",
              "\n",
              "        async function convertToInteractive(key) {\n",
              "          const element = document.querySelector('#df-1b56c72f-da72-4f73-a40f-a69417284049');\n",
              "          const dataTable =\n",
              "            await google.colab.kernel.invokeFunction('convertToInteractive',\n",
              "                                                     [key], {});\n",
              "          if (!dataTable) return;\n",
              "\n",
              "          const docLinkHtml = 'Like what you see? Visit the ' +\n",
              "            '<a target=\"_blank\" href=https://colab.research.google.com/notebooks/data_table.ipynb>data table notebook</a>'\n",
              "            + ' to learn more about interactive tables.';\n",
              "          element.innerHTML = '';\n",
              "          dataTable['output_type'] = 'display_data';\n",
              "          await google.colab.output.renderOutput(dataTable, element);\n",
              "          const docLink = document.createElement('div');\n",
              "          docLink.innerHTML = docLinkHtml;\n",
              "          element.appendChild(docLink);\n",
              "        }\n",
              "      </script>\n",
              "    </div>\n",
              "  </div>\n",
              "  "
            ]
          },
          "metadata": {},
          "execution_count": 32
        }
      ]
    },
    {
      "cell_type": "code",
      "source": [
        "ap1_ap2 = sm.add_constant(treino[['AP1','AP2']])\n",
        "ap1_ap2.head(3)"
      ],
      "metadata": {
        "colab": {
          "base_uri": "https://localhost:8080/",
          "height": 199
        },
        "id": "2g9CVugCOsFI",
        "outputId": "4c067a18-9789-40a1-e8c9-5dbf2d3ca813"
      },
      "execution_count": 33,
      "outputs": [
        {
          "output_type": "stream",
          "name": "stderr",
          "text": [
            "/usr/local/lib/python3.7/dist-packages/statsmodels/tsa/tsatools.py:117: FutureWarning: In a future version of pandas all arguments of concat except for the argument 'objs' will be keyword-only\n",
            "  x = pd.concat(x[::order], 1)\n"
          ]
        },
        {
          "output_type": "execute_result",
          "data": {
            "text/plain": [
              "   const   AP1   AP2\n",
              "0    1.0  10.0  10.0\n",
              "1    1.0   9.0  10.0\n",
              "2    1.0   9.5  10.0"
            ],
            "text/html": [
              "\n",
              "  <div id=\"df-723a9878-2a8d-4148-a1dd-9e03909d514b\">\n",
              "    <div class=\"colab-df-container\">\n",
              "      <div>\n",
              "<style scoped>\n",
              "    .dataframe tbody tr th:only-of-type {\n",
              "        vertical-align: middle;\n",
              "    }\n",
              "\n",
              "    .dataframe tbody tr th {\n",
              "        vertical-align: top;\n",
              "    }\n",
              "\n",
              "    .dataframe thead th {\n",
              "        text-align: right;\n",
              "    }\n",
              "</style>\n",
              "<table border=\"1\" class=\"dataframe\">\n",
              "  <thead>\n",
              "    <tr style=\"text-align: right;\">\n",
              "      <th></th>\n",
              "      <th>const</th>\n",
              "      <th>AP1</th>\n",
              "      <th>AP2</th>\n",
              "    </tr>\n",
              "  </thead>\n",
              "  <tbody>\n",
              "    <tr>\n",
              "      <th>0</th>\n",
              "      <td>1.0</td>\n",
              "      <td>10.0</td>\n",
              "      <td>10.0</td>\n",
              "    </tr>\n",
              "    <tr>\n",
              "      <th>1</th>\n",
              "      <td>1.0</td>\n",
              "      <td>9.0</td>\n",
              "      <td>10.0</td>\n",
              "    </tr>\n",
              "    <tr>\n",
              "      <th>2</th>\n",
              "      <td>1.0</td>\n",
              "      <td>9.5</td>\n",
              "      <td>10.0</td>\n",
              "    </tr>\n",
              "  </tbody>\n",
              "</table>\n",
              "</div>\n",
              "      <button class=\"colab-df-convert\" onclick=\"convertToInteractive('df-723a9878-2a8d-4148-a1dd-9e03909d514b')\"\n",
              "              title=\"Convert this dataframe to an interactive table.\"\n",
              "              style=\"display:none;\">\n",
              "        \n",
              "  <svg xmlns=\"http://www.w3.org/2000/svg\" height=\"24px\"viewBox=\"0 0 24 24\"\n",
              "       width=\"24px\">\n",
              "    <path d=\"M0 0h24v24H0V0z\" fill=\"none\"/>\n",
              "    <path d=\"M18.56 5.44l.94 2.06.94-2.06 2.06-.94-2.06-.94-.94-2.06-.94 2.06-2.06.94zm-11 1L8.5 8.5l.94-2.06 2.06-.94-2.06-.94L8.5 2.5l-.94 2.06-2.06.94zm10 10l.94 2.06.94-2.06 2.06-.94-2.06-.94-.94-2.06-.94 2.06-2.06.94z\"/><path d=\"M17.41 7.96l-1.37-1.37c-.4-.4-.92-.59-1.43-.59-.52 0-1.04.2-1.43.59L10.3 9.45l-7.72 7.72c-.78.78-.78 2.05 0 2.83L4 21.41c.39.39.9.59 1.41.59.51 0 1.02-.2 1.41-.59l7.78-7.78 2.81-2.81c.8-.78.8-2.07 0-2.86zM5.41 20L4 18.59l7.72-7.72 1.47 1.35L5.41 20z\"/>\n",
              "  </svg>\n",
              "      </button>\n",
              "      \n",
              "  <style>\n",
              "    .colab-df-container {\n",
              "      display:flex;\n",
              "      flex-wrap:wrap;\n",
              "      gap: 12px;\n",
              "    }\n",
              "\n",
              "    .colab-df-convert {\n",
              "      background-color: #E8F0FE;\n",
              "      border: none;\n",
              "      border-radius: 50%;\n",
              "      cursor: pointer;\n",
              "      display: none;\n",
              "      fill: #1967D2;\n",
              "      height: 32px;\n",
              "      padding: 0 0 0 0;\n",
              "      width: 32px;\n",
              "    }\n",
              "\n",
              "    .colab-df-convert:hover {\n",
              "      background-color: #E2EBFA;\n",
              "      box-shadow: 0px 1px 2px rgba(60, 64, 67, 0.3), 0px 1px 3px 1px rgba(60, 64, 67, 0.15);\n",
              "      fill: #174EA6;\n",
              "    }\n",
              "\n",
              "    [theme=dark] .colab-df-convert {\n",
              "      background-color: #3B4455;\n",
              "      fill: #D2E3FC;\n",
              "    }\n",
              "\n",
              "    [theme=dark] .colab-df-convert:hover {\n",
              "      background-color: #434B5C;\n",
              "      box-shadow: 0px 1px 3px 1px rgba(0, 0, 0, 0.15);\n",
              "      filter: drop-shadow(0px 1px 2px rgba(0, 0, 0, 0.3));\n",
              "      fill: #FFFFFF;\n",
              "    }\n",
              "  </style>\n",
              "\n",
              "      <script>\n",
              "        const buttonEl =\n",
              "          document.querySelector('#df-723a9878-2a8d-4148-a1dd-9e03909d514b button.colab-df-convert');\n",
              "        buttonEl.style.display =\n",
              "          google.colab.kernel.accessAllowed ? 'block' : 'none';\n",
              "\n",
              "        async function convertToInteractive(key) {\n",
              "          const element = document.querySelector('#df-723a9878-2a8d-4148-a1dd-9e03909d514b');\n",
              "          const dataTable =\n",
              "            await google.colab.kernel.invokeFunction('convertToInteractive',\n",
              "                                                     [key], {});\n",
              "          if (!dataTable) return;\n",
              "\n",
              "          const docLinkHtml = 'Like what you see? Visit the ' +\n",
              "            '<a target=\"_blank\" href=https://colab.research.google.com/notebooks/data_table.ipynb>data table notebook</a>'\n",
              "            + ' to learn more about interactive tables.';\n",
              "          element.innerHTML = '';\n",
              "          dataTable['output_type'] = 'display_data';\n",
              "          await google.colab.output.renderOutput(dataTable, element);\n",
              "          const docLink = document.createElement('div');\n",
              "          docLink.innerHTML = docLinkHtml;\n",
              "          element.appendChild(docLink);\n",
              "        }\n",
              "      </script>\n",
              "    </div>\n",
              "  </div>\n",
              "  "
            ]
          },
          "metadata": {},
          "execution_count": 33
        }
      ]
    },
    {
      "cell_type": "code",
      "source": [
        "rl = sm.OLS(treino['AP3'] , ap1_ap2).fit()\n",
        "rl.summary()"
      ],
      "metadata": {
        "colab": {
          "base_uri": "https://localhost:8080/",
          "height": 473
        },
        "id": "PPysLRX-Owi9",
        "outputId": "d7d04e02-92b6-4c8a-9bd1-d6a1368077ee"
      },
      "execution_count": 34,
      "outputs": [
        {
          "output_type": "execute_result",
          "data": {
            "text/plain": [
              "<class 'statsmodels.iolib.summary.Summary'>\n",
              "\"\"\"\n",
              "                            OLS Regression Results                            \n",
              "==============================================================================\n",
              "Dep. Variable:                    AP3   R-squared:                       0.982\n",
              "Model:                            OLS   Adj. R-squared:                  0.981\n",
              "Method:                 Least Squares   F-statistic:                     1003.\n",
              "Date:                Wed, 13 Apr 2022   Prob (F-statistic):           5.91e-33\n",
              "Time:                        14:11:27   Log-Likelihood:                -18.207\n",
              "No. Observations:                  40   AIC:                             42.41\n",
              "Df Residuals:                      37   BIC:                             47.48\n",
              "Df Model:                           2                                         \n",
              "Covariance Type:            nonrobust                                         \n",
              "==============================================================================\n",
              "                 coef    std err          t      P>|t|      [0.025      0.975]\n",
              "------------------------------------------------------------------------------\n",
              "const         -0.8258      0.265     -3.111      0.004      -1.364      -0.288\n",
              "AP1           -0.3661      0.030    -12.318      0.000      -0.426      -0.306\n",
              "AP2            1.3834      0.031     44.788      0.000       1.321       1.446\n",
              "==============================================================================\n",
              "Omnibus:                        4.027   Durbin-Watson:                   0.680\n",
              "Prob(Omnibus):                  0.134   Jarque-Bera (JB):                3.534\n",
              "Skew:                           0.642   Prob(JB):                        0.171\n",
              "Kurtosis:                       2.314   Cond. No.                         43.9\n",
              "==============================================================================\n",
              "\n",
              "Warnings:\n",
              "[1] Standard Errors assume that the covariance matrix of the errors is correctly specified.\n",
              "\"\"\""
            ],
            "text/html": [
              "<table class=\"simpletable\">\n",
              "<caption>OLS Regression Results</caption>\n",
              "<tr>\n",
              "  <th>Dep. Variable:</th>           <td>AP3</td>       <th>  R-squared:         </th> <td>   0.982</td>\n",
              "</tr>\n",
              "<tr>\n",
              "  <th>Model:</th>                   <td>OLS</td>       <th>  Adj. R-squared:    </th> <td>   0.981</td>\n",
              "</tr>\n",
              "<tr>\n",
              "  <th>Method:</th>             <td>Least Squares</td>  <th>  F-statistic:       </th> <td>   1003.</td>\n",
              "</tr>\n",
              "<tr>\n",
              "  <th>Date:</th>             <td>Wed, 13 Apr 2022</td> <th>  Prob (F-statistic):</th> <td>5.91e-33</td>\n",
              "</tr>\n",
              "<tr>\n",
              "  <th>Time:</th>                 <td>14:11:27</td>     <th>  Log-Likelihood:    </th> <td> -18.207</td>\n",
              "</tr>\n",
              "<tr>\n",
              "  <th>No. Observations:</th>      <td>    40</td>      <th>  AIC:               </th> <td>   42.41</td>\n",
              "</tr>\n",
              "<tr>\n",
              "  <th>Df Residuals:</th>          <td>    37</td>      <th>  BIC:               </th> <td>   47.48</td>\n",
              "</tr>\n",
              "<tr>\n",
              "  <th>Df Model:</th>              <td>     2</td>      <th>                     </th>     <td> </td>   \n",
              "</tr>\n",
              "<tr>\n",
              "  <th>Covariance Type:</th>      <td>nonrobust</td>    <th>                     </th>     <td> </td>   \n",
              "</tr>\n",
              "</table>\n",
              "<table class=\"simpletable\">\n",
              "<tr>\n",
              "    <td></td>       <th>coef</th>     <th>std err</th>      <th>t</th>      <th>P>|t|</th>  <th>[0.025</th>    <th>0.975]</th>  \n",
              "</tr>\n",
              "<tr>\n",
              "  <th>const</th> <td>   -0.8258</td> <td>    0.265</td> <td>   -3.111</td> <td> 0.004</td> <td>   -1.364</td> <td>   -0.288</td>\n",
              "</tr>\n",
              "<tr>\n",
              "  <th>AP1</th>   <td>   -0.3661</td> <td>    0.030</td> <td>  -12.318</td> <td> 0.000</td> <td>   -0.426</td> <td>   -0.306</td>\n",
              "</tr>\n",
              "<tr>\n",
              "  <th>AP2</th>   <td>    1.3834</td> <td>    0.031</td> <td>   44.788</td> <td> 0.000</td> <td>    1.321</td> <td>    1.446</td>\n",
              "</tr>\n",
              "</table>\n",
              "<table class=\"simpletable\">\n",
              "<tr>\n",
              "  <th>Omnibus:</th>       <td> 4.027</td> <th>  Durbin-Watson:     </th> <td>   0.680</td>\n",
              "</tr>\n",
              "<tr>\n",
              "  <th>Prob(Omnibus):</th> <td> 0.134</td> <th>  Jarque-Bera (JB):  </th> <td>   3.534</td>\n",
              "</tr>\n",
              "<tr>\n",
              "  <th>Skew:</th>          <td> 0.642</td> <th>  Prob(JB):          </th> <td>   0.171</td>\n",
              "</tr>\n",
              "<tr>\n",
              "  <th>Kurtosis:</th>      <td> 2.314</td> <th>  Cond. No.          </th> <td>    43.9</td>\n",
              "</tr>\n",
              "</table><br/><br/>Warnings:<br/>[1] Standard Errors assume that the covariance matrix of the errors is correctly specified."
            ]
          },
          "metadata": {},
          "execution_count": 34
        }
      ]
    },
    {
      "cell_type": "code",
      "metadata": {
        "id": "3gCXY2WI6l51",
        "colab": {
          "base_uri": "https://localhost:8080/",
          "height": 443
        },
        "outputId": "7ebc247c-5220-49cc-e5c5-924e6e0aaafc"
      },
      "source": [
        "import seaborn as sns\n",
        "sns.lmplot('AP2' , 'AP3' , data=treino)\n"
      ],
      "execution_count": 35,
      "outputs": [
        {
          "output_type": "stream",
          "name": "stderr",
          "text": [
            "/usr/local/lib/python3.7/dist-packages/seaborn/_decorators.py:43: FutureWarning: Pass the following variables as keyword args: x, y. From version 0.12, the only valid positional argument will be `data`, and passing other arguments without an explicit keyword will result in an error or misinterpretation.\n",
            "  FutureWarning\n"
          ]
        },
        {
          "output_type": "execute_result",
          "data": {
            "text/plain": [
              "<seaborn.axisgrid.FacetGrid at 0x7f03f77d5f90>"
            ]
          },
          "metadata": {},
          "execution_count": 35
        },
        {
          "output_type": "display_data",
          "data": {
            "text/plain": [
              "<Figure size 360x360 with 1 Axes>"
            ],
            "image/png": "[encoded data removed]"
          },
          "metadata": {
            "needs_background": "light"
          }
        }
      ]
    },
    {
      "cell_type": "code",
      "metadata": {
        "id": "THtQjtZ56mD6",
        "colab": {
          "base_uri": "https://localhost:8080/",
          "height": 175
        },
        "outputId": "c6900458-b7e2-4629-fb22-714773ec8b03"
      },
      "source": [
        "treino.corr()"
      ],
      "execution_count": 36,
      "outputs": [
        {
          "output_type": "execute_result",
          "data": {
            "text/plain": [
              "            AP1       AP2       AP3     Final\n",
              "AP1    1.000000  0.278632  0.003717  0.630113\n",
              "AP2    0.278632  1.000000  0.952691  0.920175\n",
              "AP3    0.003717  0.952691  1.000000  0.776387\n",
              "Final  0.630113  0.920175  0.776387  1.000000"
            ],
            "text/html": [
              "\n",
              "  <div id=\"df-63185475-6e34-4eb8-9a4a-a2042104311a\">\n",
              "    <div class=\"colab-df-container\">\n",
              "      <div>\n",
              "<style scoped>\n",
              "    .dataframe tbody tr th:only-of-type {\n",
              "        vertical-align: middle;\n",
              "    }\n",
              "\n",
              "    .dataframe tbody tr th {\n",
              "        vertical-align: top;\n",
              "    }\n",
              "\n",
              "    .dataframe thead th {\n",
              "        text-align: right;\n",
              "    }\n",
              "</style>\n",
              "<table border=\"1\" class=\"dataframe\">\n",
              "  <thead>\n",
              "    <tr style=\"text-align: right;\">\n",
              "      <th></th>\n",
              "      <th>AP1</th>\n",
              "      <th>AP2</th>\n",
              "      <th>AP3</th>\n",
              "      <th>Final</th>\n",
              "    </tr>\n",
              "  </thead>\n",
              "  <tbody>\n",
              "    <tr>\n",
              "      <th>AP1</th>\n",
              "      <td>1.000000</td>\n",
              "      <td>0.278632</td>\n",
              "      <td>0.003717</td>\n",
              "      <td>0.630113</td>\n",
              "    </tr>\n",
              "    <tr>\n",
              "      <th>AP2</th>\n",
              "      <td>0.278632</td>\n",
              "      <td>1.000000</td>\n",
              "      <td>0.952691</td>\n",
              "      <td>0.920175</td>\n",
              "    </tr>\n",
              "    <tr>\n",
              "      <th>AP3</th>\n",
              "      <td>0.003717</td>\n",
              "      <td>0.952691</td>\n",
              "      <td>1.000000</td>\n",
              "      <td>0.776387</td>\n",
              "    </tr>\n",
              "    <tr>\n",
              "      <th>Final</th>\n",
              "      <td>0.630113</td>\n",
              "      <td>0.920175</td>\n",
              "      <td>0.776387</td>\n",
              "      <td>1.000000</td>\n",
              "    </tr>\n",
              "  </tbody>\n",
              "</table>\n",
              "</div>\n",
              "      <button class=\"colab-df-convert\" onclick=\"convertToInteractive('df-63185475-6e34-4eb8-9a4a-a2042104311a')\"\n",
              "              title=\"Convert this dataframe to an interactive table.\"\n",
              "              style=\"display:none;\">\n",
              "        \n",
              "  <svg xmlns=\"http://www.w3.org/2000/svg\" height=\"24px\"viewBox=\"0 0 24 24\"\n",
              "       width=\"24px\">\n",
              "    <path d=\"M0 0h24v24H0V0z\" fill=\"none\"/>\n",
              "    <path d=\"M18.56 5.44l.94 2.06.94-2.06 2.06-.94-2.06-.94-.94-2.06-.94 2.06-2.06.94zm-11 1L8.5 8.5l.94-2.06 2.06-.94-2.06-.94L8.5 2.5l-.94 2.06-2.06.94zm10 10l.94 2.06.94-2.06 2.06-.94-2.06-.94-.94-2.06-.94 2.06-2.06.94z\"/><path d=\"M17.41 7.96l-1.37-1.37c-.4-.4-.92-.59-1.43-.59-.52 0-1.04.2-1.43.59L10.3 9.45l-7.72 7.72c-.78.78-.78 2.05 0 2.83L4 21.41c.39.39.9.59 1.41.59.51 0 1.02-.2 1.41-.59l7.78-7.78 2.81-2.81c.8-.78.8-2.07 0-2.86zM5.41 20L4 18.59l7.72-7.72 1.47 1.35L5.41 20z\"/>\n",
              "  </svg>\n",
              "      </button>\n",
              "      \n",
              "  <style>\n",
              "    .colab-df-container {\n",
              "      display:flex;\n",
              "      flex-wrap:wrap;\n",
              "      gap: 12px;\n",
              "    }\n",
              "\n",
              "    .colab-df-convert {\n",
              "      background-color: #E8F0FE;\n",
              "      border: none;\n",
              "      border-radius: 50%;\n",
              "      cursor: pointer;\n",
              "      display: none;\n",
              "      fill: #1967D2;\n",
              "      height: 32px;\n",
              "      padding: 0 0 0 0;\n",
              "      width: 32px;\n",
              "    }\n",
              "\n",
              "    .colab-df-convert:hover {\n",
              "      background-color: #E2EBFA;\n",
              "      box-shadow: 0px 1px 2px rgba(60, 64, 67, 0.3), 0px 1px 3px 1px rgba(60, 64, 67, 0.15);\n",
              "      fill: #174EA6;\n",
              "    }\n",
              "\n",
              "    [theme=dark] .colab-df-convert {\n",
              "      background-color: #3B4455;\n",
              "      fill: #D2E3FC;\n",
              "    }\n",
              "\n",
              "    [theme=dark] .colab-df-convert:hover {\n",
              "      background-color: #434B5C;\n",
              "      box-shadow: 0px 1px 3px 1px rgba(0, 0, 0, 0.15);\n",
              "      filter: drop-shadow(0px 1px 2px rgba(0, 0, 0, 0.3));\n",
              "      fill: #FFFFFF;\n",
              "    }\n",
              "  </style>\n",
              "\n",
              "      <script>\n",
              "        const buttonEl =\n",
              "          document.querySelector('#df-63185475-6e34-4eb8-9a4a-a2042104311a button.colab-df-convert');\n",
              "        buttonEl.style.display =\n",
              "          google.colab.kernel.accessAllowed ? 'block' : 'none';\n",
              "\n",
              "        async function convertToInteractive(key) {\n",
              "          const element = document.querySelector('#df-63185475-6e34-4eb8-9a4a-a2042104311a');\n",
              "          const dataTable =\n",
              "            await google.colab.kernel.invokeFunction('convertToInteractive',\n",
              "                                                     [key], {});\n",
              "          if (!dataTable) return;\n",
              "\n",
              "          const docLinkHtml = 'Like what you see? Visit the ' +\n",
              "            '<a target=\"_blank\" href=https://colab.research.google.com/notebooks/data_table.ipynb>data table notebook</a>'\n",
              "            + ' to learn more about interactive tables.';\n",
              "          element.innerHTML = '';\n",
              "          dataTable['output_type'] = 'display_data';\n",
              "          await google.colab.output.renderOutput(dataTable, element);\n",
              "          const docLink = document.createElement('div');\n",
              "          docLink.innerHTML = docLinkHtml;\n",
              "          element.appendChild(docLink);\n",
              "        }\n",
              "      </script>\n",
              "    </div>\n",
              "  </div>\n",
              "  "
            ]
          },
          "metadata": {},
          "execution_count": 36
        }
      ]
    },
    {
      "cell_type": "code",
      "metadata": {
        "id": "zMl4UN3p6mS3",
        "colab": {
          "base_uri": "https://localhost:8080/",
          "height": 744
        },
        "outputId": "14653f89-8a73-48c0-a073-bb9c57036abb"
      },
      "source": [
        "sns.pairplot(treino)\n"
      ],
      "execution_count": 37,
      "outputs": [
        {
          "output_type": "execute_result",
          "data": {
            "text/plain": [
              "<seaborn.axisgrid.PairGrid at 0x7f03f4edb7d0>"
            ]
          },
          "metadata": {},
          "execution_count": 37
        },
        {
          "output_type": "display_data",
          "data": {
            "text/plain": [
              "<Figure size 720x720 with 20 Axes>"
            ],
            "image/png": "[encoded data removed]"
          },
          "metadata": {
            "needs_background": "light"
          }
        }
      ]
    },
    {
      "cell_type": "markdown",
      "metadata": {
        "id": "kzi2JgeE6nHI"
      },
      "source": [
        "**[Exercicios] Regressao Linear**\n"
      ]
    },
    {
      "cell_type": "code",
      "metadata": {
        "id": "mVApWhQv6nPl",
        "colab": {
          "base_uri": "https://localhost:8080/",
          "height": 597
        },
        "outputId": "1ba1b071-33de-4827-ba5e-99ae020cf1bc"
      },
      "source": [
        "import pandas as pd\n",
        "dados = pd.read_csv('https://raw.githubusercontent.com/lcbjuk/ML/master/dados/usd_ibov_20%20-%2020.csv')\n",
        "dados.head()\n",
        "\n",
        "import seaborn as sns\n",
        "sns.lmplot('bov','usd',data=dados)\n",
        "\n",
        "from sklearn.linear_model import LinearRegression\n",
        "\n",
        "rl = LinearRegression()\n",
        "\n",
        "rl.fit(dados[['bov']] , dados['usd'])\n",
        "print(rl.coef_,rl.intercept_)\n",
        "\n",
        "ibov_fut = pd.DataFrame({'ibov':[110,100,90,80,70,60]})\n",
        "rl.predict(ibov_fut)"
      ],
      "execution_count": null,
      "outputs": [
        {
          "output_type": "stream",
          "name": "stderr",
          "text": [
            "/usr/local/lib/python3.7/dist-packages/seaborn/_decorators.py:43: FutureWarning: Pass the following variables as keyword args: x, y. From version 0.12, the only valid positional argument will be `data`, and passing other arguments without an explicit keyword will result in an error or misinterpretation.\n",
            "  FutureWarning\n"
          ]
        },
        {
          "output_type": "stream",
          "name": "stdout",
          "text": [
            "[-0.01783154] 6.303900300544503\n"
          ]
        },
        {
          "output_type": "stream",
          "name": "stderr",
          "text": [
            "/usr/local/lib/python3.7/dist-packages/sklearn/base.py:493: FutureWarning: The feature names should match those that were passed during fit. Starting version 1.2, an error will be raised.\n",
            "Feature names unseen at fit time:\n",
            "- ibov\n",
            "Feature names seen at fit time, yet now missing:\n",
            "- bov\n",
            "\n",
            "  warnings.warn(message, FutureWarning)\n"
          ]
        },
        {
          "output_type": "execute_result",
          "data": {
            "text/plain": [
              "array([4.34243043, 4.52074588, 4.69906132, 4.87737676, 5.0556922 ,\n",
              "       5.23400765])"
            ]
          },
          "metadata": {},
          "execution_count": 22
        },
        {
          "output_type": "display_data",
          "data": {
            "text/plain": [
              "<Figure size 360x360 with 1 Axes>"
            ],
            "image/png": "[encoded data removed]"
          },
          "metadata": {
            "needs_background": "light"
          }
        }
      ]
    },
    {
      "cell_type": "markdown",
      "source": [
        "# Ideias teóricas sobre regressão linear\n",
        "Vamos apresentar os conceitos de regressão linear para um conjunto de dados definidos como segue.\n",
        "## Dados tabelados\n",
        "Vamos montar o conjunto de dados como mostra a tabela abaixo."
      ],
      "metadata": {
        "id": "y0h6hI36aKN5"
      }
    },
    {
      "cell_type": "markdown",
      "source": [
        "\\begin{array}{c} \\hline\n",
        "x & y \\\\ \\hline\n",
        "x_1 & y_1  \\\\\n",
        "x_2 & y_2 \\\\\n",
        "x_3 & y_3  \\\\\n",
        "x_4 & y_4  \\\\\n",
        "x_5 & y_5  \\\\\n",
        " \\hline\n",
        "\\end{array}\n"
      ],
      "metadata": {
        "id": "BAxzD1JIbwPA"
      }
    },
    {
      "cell_type": "markdown",
      "source": [
        "Assim, vamos aplicar a reta $y = ax+b$, observe que os parâmetros a ser encontrados são $(a, b)$, respectivamente o coeficiente angular e o coeficiente linear da reta. Teremos então,"
      ],
      "metadata": {
        "id": "6ysgLEsx830l"
      }
    },
    {
      "cell_type": "markdown",
      "source": [
        "\\begin{array}{c} \\hline\n",
        "y = ax+b \\\\ \n",
        " \\hline\\hline\n",
        " y_1= ax_1+b \\\\ \n",
        " y_2= ax_2+b\\\\\n",
        " y_3= ax_3+b \\\\\n",
        " y_4= ax_4+b  \\\\\n",
        " y_5= ax_5+b \\\\\n",
        " \\hline\n",
        "\\end{array}"
      ],
      "metadata": {
        "id": "b5NjWxzmcicN"
      }
    },
    {
      "cell_type": "markdown",
      "source": [
        "## Representaçao matricial\n",
        "Os dados acima podem ser representados da seguinte forma:\n",
        "$$\n",
        "  \\left[ \\begin{array}{cc}\n",
        "   x_1 & 1 \\\\\n",
        "   x_2 & 1 \\\\\n",
        "   x_3 & 1 \\\\\n",
        "   x_4 & 1 \\\\\n",
        "   x_5 & 1 \\\\\n",
        "  \\end{array}  \\right]\n",
        " \\left[\\begin{array}{c}\n",
        "       a\\\\\n",
        "       b\\\\\n",
        "   \\end{array}\\right]=\n",
        "   \\left[\\begin{array}{c}\n",
        "      y_1 \\\\\n",
        "      y_2\\\\\n",
        "      y_3\\\\\n",
        "      y_4\\\\\n",
        "      y_5\\\\\n",
        "   \\end{array}\\right]. \n",
        "$$ "
      ],
      "metadata": {
        "id": "RL9UqZXcdI4O"
      }
    },
    {
      "cell_type": "markdown",
      "source": [
        "Definindo,\n",
        "$$\n",
        "  M=\\left[ \\begin{array}{cc}\n",
        "   x_1 & 1 \\\\\n",
        "   x_2 & 1 \\\\\n",
        "   x_3 & 1 \\\\\n",
        "   x_4 & 1 \\\\\n",
        "   x_5 & 1 \\\\\n",
        "  \\end{array}  \\right],\n",
        " v=\\left[\\begin{array}{c}\n",
        "       a\\\\\n",
        "       b\\\\\n",
        "   \\end{array}\\right],\n",
        "   y=\\left[\\begin{array}{c}\n",
        "      y_1 \\\\\n",
        "      y_2\\\\\n",
        "      y_3\\\\\n",
        "      y_4\\\\\n",
        "      y_5\\\\\n",
        "   \\end{array}\\right] \n",
        "$$ "
      ],
      "metadata": {
        "id": "ZgYhfwUif79Z"
      }
    },
    {
      "cell_type": "markdown",
      "source": [
        "$$Mv=y$$\n",
        "Tomando o sistema linear como base, e multiplicando os dois lados pela matriz $M$ transposta.\n",
        "$$M^TMv=M^Ty$$\n",
        "$$\n",
        "\\left[ \\begin{array}{ccccc}\n",
        "   x_1 & x_2 & x_3 & x_4&  x_5\\\\\n",
        "     1 &   1 &   1 &   1&    1\\\\\n",
        "  \\end{array}  \\right]\n",
        "  \\left[ \\begin{array}{cc}\n",
        "   x_1 & 1 \\\\\n",
        "   x_2 & 1 \\\\\n",
        "   x_3 & 1 \\\\\n",
        "   x_4 & 1 \\\\\n",
        "   x_5 & 1 \\\\\n",
        "  \\end{array}  \\right]\n",
        " \\left[\\begin{array}{c}\n",
        "       a\\\\\n",
        "       b\\\\\n",
        "   \\end{array}\\right]=\n",
        "   \\left[ \\begin{array}{ccccc}\n",
        "   x_1 & x_2 & x_3 & x_4&  x_5\\\\\n",
        "     1 &   1 &   1 &   1&    1\\\\\n",
        "  \\end{array}  \\right]\n",
        "   \\left[\\begin{array}{c}\n",
        "      y_1 \\\\\n",
        "      y_2\\\\\n",
        "      y_3\\\\\n",
        "      y_4\\\\\n",
        "      y_5\\\\\n",
        "   \\end{array}\\right] \n",
        "$$"
      ],
      "metadata": {
        "id": "e2QM2CVygZaZ"
      }
    },
    {
      "cell_type": "markdown",
      "source": [
        "Gerando o sistema linear,\n",
        "$$\n",
        "  \\left[ \\begin{array}{cc}\n",
        "   \\sum_{i=1}^{5}x_i^2 & \\sum_{i=1}^{5}x_i \\\\\n",
        "   \\sum_{i=1}^{5}x_i& \\sum_{i=1}^{5} 1 \\\\\n",
        "  \\end{array}  \\right]\n",
        " \\left[\\begin{array}{c}\n",
        "       a\\\\\n",
        "       b\\\\\n",
        "   \\end{array}\\right]=\n",
        "   \\left[\\begin{array}{c}\n",
        "      \\sum_{i=1}^{5}x_iy_i \\\\\n",
        "      \\sum_{i=1}^{5} y_i\\\\\n",
        "   \\end{array}\\right] \n",
        "$$"
      ],
      "metadata": {
        "id": "im7uabUIgueO"
      }
    },
    {
      "cell_type": "markdown",
      "source": [
        "Definido por,\n",
        "$$\\overline{M}v=\\bar{y}$$\n",
        "onde \n",
        "$$\\overline{M} = \\left[ \\begin{array}{cc}\n",
        "   \\sum_{i=1}^{5}x_i^2 & \\sum_{i=1}^{5}x_i \\\\\n",
        "   \\sum_{i=1}^{5}x_i& \\sum_{i=1}^{5} 1 \\\\\n",
        "  \\end{array}  \\right]$$\n",
        "e\n",
        "$$\\bar{y}=\\left[\\begin{array}{c}\n",
        "      \\sum_{i=1}^{5}x_iy_i \\\\\n",
        "      \\sum_{i=1}^{5} y_i\\\\\n",
        "   \\end{array}\\right]$$"
      ],
      "metadata": {
        "id": "_a0Y4vxLg-Lf"
      }
    },
    {
      "cell_type": "markdown",
      "source": [
        "Resolvendo o sistema linear por eliminação de Gauss.\n",
        "\\begin{equation}\\nonumber\n",
        "    \\left[\n",
        "    \\begin{array}{rr|r}\n",
        "        a_{11} &  a_{12}& \\overline{y_1}\\\\\n",
        "        a_{21}&   a_{22}& \\overline{y_2}\\\\\n",
        "    \\end{array}\n",
        "    \\right].\n",
        "\\end{equation}\n",
        "\n",
        "Iniciaremos com a operação por linha,\n",
        "$L_2=>L_2-\\frac{a_{21}}{a_{11}}L_1$\n",
        "  \\begin{equation}\\nonumber\n",
        "    \\left[\n",
        "    \\begin{array}{rr|r}\n",
        "        a_{11} &  a_{12}& \\overline{y_1}\\\\\n",
        "        0      &  a_{22}-\\frac{a_{21}a_{12}}{a_{11}} &\\overline{y_2}-\\frac{a_{21}\\overline{y_1}}{a_{11}}\\\\\n",
        "    \\end{array}\n",
        "    \\right]\n",
        "\\end{equation}\n",
        "    \\begin{equation}\\nonumber\n",
        "    \\left[\n",
        "    \\begin{array}{rr|r}\n",
        "        a_{11} &  a_{12}& \\overline{y_1}\\\\\n",
        "        0      &  \\frac{a_{22}a_{11}-a_{21}a_{12}}{a_{11}} &\\frac{a_{11}\\overline{y_2}-a_{21}\\overline{y_1}}{a_{11}}\\\\\n",
        "    \\end{array}\n",
        "    \\right]\n",
        "\\end{equation}\n",
        "Realizando a seguinte operação por linha teremos,\n",
        "\n",
        "$L_1=>L_1-\\frac{a_{11}a_{12}}{a_{22}a_{11}-a_{21}a_{12}}L_2$\n",
        "\n",
        "\\begin{equation}\\nonumber\n",
        "    \\left[\n",
        "    \\begin{array}{rr|r}\n",
        "        a_{11} &  0                                       & \\frac{a_{22}a_{11}\\overline{y_1}-a_{12}a_{11}\\overline{y_2}}{a_{22}a_{11}-a_{21}a_{12}}\\\\\n",
        "        0      &  \\frac{a_{22}a_{11}-a_{21}a_{12}}{a_{11}} &\\frac{a_{11}\\overline{y_2}-a_{21}\\overline{y_1}}{a_{11}}\\\\\n",
        "    \\end{array}\n",
        "    \\right].\n",
        "\\end{equation}"
      ],
      "metadata": {
        "id": "X-X_I3Eshu5q"
      }
    },
    {
      "cell_type": "markdown",
      "source": [
        "E por fim, para finalizar a forma escalonada,\n",
        "\n",
        "$L_1=>\\frac{1}{a_{11}}L_1$\n",
        "\n",
        "$L_2=>\\frac{a_{11}}{a_{22}a_{11}-a_{21}a_{12}}L_2$\n",
        "\n",
        "\\begin{equation}\\nonumber\n",
        "    \\left[\n",
        "    \\begin{array}{rr|r}\n",
        "        1 &  0                                       & \\frac{a_{22}\\overline{y_1}-a_{12}\\overline{y_2}}{a_{22}a_{11}-a_{21}a_{12}}\\\\\n",
        "        0      &  1&\\frac{a_{11}\\overline{y_2}-a_{21}\\overline{y_1}}{a_{22}a_{11}-a_{21}a_{12}}\\\\\n",
        "    \\end{array}\n",
        "    \\right]\n",
        "\\end{equation}\n",
        "Desta forma podemos encontrar $(a,b)$,\n",
        " \\begin{array}{ccc}\n",
        "   a &=& \\frac{a_{22}\\overline{y_1}-a_{12}\\overline{y_2}}{a_{22}a_{11}-a_{21}a_{12}} \\\\\n",
        "   b &=& \\frac{a_{11}\\overline{y_2}-a_{21}\\overline{y_1}}{a_{22}a_{11}-a_{21}a_{12}} \\\\\n",
        "  \\end{array}  "
      ],
      "metadata": {
        "id": "I7v-n_ptib9F"
      }
    },
    {
      "cell_type": "markdown",
      "source": [
        "Resumindo o problema de regressão linear para a base de dados definida acima,\n",
        "$$\n",
        "  \\left[ \\begin{array}{cc}\n",
        "   \\sum_{i=1}^{5}x_i^2 & \\sum_{i=1}^{5}x_i \\\\\n",
        "   \\sum_{i=1}^{5}x_i& \\sum_{i=1}^{5} 1 \\\\\n",
        "  \\end{array}  \\right]\n",
        " \\left[\\begin{array}{c}\n",
        "       a\\\\\n",
        "       b\\\\\n",
        "   \\end{array}\\right]=\n",
        "   \\left[\\begin{array}{c}\n",
        "      \\sum_{i=1}^{5}x_iy_i \\\\\n",
        "      \\sum_{i=1}^{5} y_i\\\\\n",
        "   \\end{array}\\right] \n",
        "$$\n",
        "encontramos os parâmetros$ (a,b)$\n",
        "$$\n",
        "  \\begin{array}{ccc}\n",
        "   a &=& \\frac{5\\sum_{i=1}^{5}x_iy_i-\\sum_{i=1}^{5}x_i\\sum_{i=1}^{5} y_i}{5\\sum_{i=1}^{5}x_i^2-\\left(\\sum_{i=1}^{5}x_i\\right)^2} \n",
        "   \\end{array}\n",
        "   $$\n",
        "   $$\n",
        "     \\begin{array}{ccc}\n",
        "   b &=& \\frac{\\sum_{i=1}^{5}x_i^2\\sum_{i=1}^{5} y_i-\\sum_{i=1}^{5}x_i\\sum_{i=1}^{5}x_iy_i}{5\\sum_{i=1}^{5}x_i^2-\\left(\\sum_{i=1}^{5}x_i\\right)^2} \n",
        "  \\end{array}  \n",
        "  $$"
      ],
      "metadata": {
        "id": "Dx75p24TiwLK"
      }
    },
    {
      "cell_type": "markdown",
      "source": [
        "Se a base de dados tem $n$ linha podemos usar,\n",
        "\\begin{array}{ccc}\n",
        "   a &=& \\frac{n\\sum_{i=1}^{n}x_iy_i-\\sum_{i=1}^{n}x_i\\sum_{i=1}^{n} y_i}{n\\sum_{i=1}^{n}x_i^2-\\left(\\sum_{i=1}^{n}x_i\\right)^2} \n",
        "   \\end{array}\n",
        "     \\begin{array}{ccc}\n",
        "   b &=& \\frac{\\sum_{i=1}^{n}x_i^2\\sum_{i=1}^{n} y_i-\\sum_{i=1}^{n}x_i\\sum_{i=1}^{n}x_iy_i}{n\\sum_{i=1}^{n}x_i^2-\\left(\\sum_{i=1}^{n}x_i\\right)^2} \n",
        "  \\end{array} "
      ],
      "metadata": {
        "id": "7Ls0AIIRjH67"
      }
    },
    {
      "cell_type": "markdown",
      "source": [
        "Abaixo programamos duas maneiras de obter os parâmetros $(a,b)$, uma usando a inversão de matrizes da biblioteca Numpy, e outra, encontramos os parâmetros como definido acima. "
      ],
      "metadata": {
        "id": "mUWFgnUbBTlV"
      }
    },
    {
      "cell_type": "markdown",
      "source": [
        "### Solução usando a inversão de matrizes na biblioteca Numpy"
      ],
      "metadata": {
        "id": "zq9AXrI3BAGI"
      }
    },
    {
      "cell_type": "code",
      "source": [
        "# Copiamos a base de dados para uma estrutura de matriz\n",
        "MAT=nts.to_numpy()\n",
        "print(MAT)"
      ],
      "metadata": {
        "colab": {
          "base_uri": "https://localhost:8080/"
        },
        "id": "-9XSAl2GpyQb",
        "outputId": "4de01853-8f63-4294-a1ab-634f9f174c8f"
      },
      "execution_count": null,
      "outputs": [
        {
          "output_type": "stream",
          "name": "stdout",
          "text": [
            "[[10.   10.    9.    9.8 ]\n",
            " [ 9.   10.    9.    9.4 ]\n",
            " [ 9.5  10.   10.    9.8 ]\n",
            " [ 9.4   9.9   9.9   9.7 ]\n",
            " [ 9.3   9.8   9.8   9.6 ]\n",
            " [ 9.2   9.7   9.7   9.5 ]\n",
            " [ 9.1   9.6   9.6   9.4 ]\n",
            " [ 9.    9.5   9.5   9.3 ]\n",
            " [10.    7.    5.    7.8 ]\n",
            " [ 9.    6.    4.    6.8 ]\n",
            " [ 9.5   6.5   4.5   7.3 ]\n",
            " [ 9.4   6.4   4.4   7.2 ]\n",
            " [ 9.3   6.3   4.3   7.1 ]\n",
            " [ 9.2   6.2   4.2   7.  ]\n",
            " [ 9.1   6.1   4.1   6.9 ]\n",
            " [ 9.    6.    4.    6.8 ]\n",
            " [ 5.2   5.2   4.2   5.  ]\n",
            " [ 5.1   5.1   4.1   4.9 ]\n",
            " [ 5.    5.    4.    4.8 ]\n",
            " [ 4.9   4.9   3.9   4.7 ]\n",
            " [ 4.8   4.8   3.8   4.6 ]\n",
            " [ 4.7   4.7   3.7   4.5 ]\n",
            " [ 4.6   4.6   3.6   4.4 ]\n",
            " [ 4.5   4.5   3.5   4.3 ]\n",
            " [ 4.    4.    4.    4.  ]\n",
            " [ 5.    5.    5.    5.  ]\n",
            " [ 4.5   4.5   4.5   4.5 ]\n",
            " [ 5.5   5.5   5.5   5.5 ]\n",
            " [ 5.    9.   10.    7.6 ]\n",
            " [ 5.1   9.5  10.    7.84]\n",
            " [ 5.2   9.5  10.    7.88]\n",
            " [ 5.3   9.5  10.    7.92]\n",
            " [ 5.4   9.5  10.    7.96]\n",
            " [ 5.5   9.5  10.    8.  ]\n",
            " [ 4.9   9.   10.    7.56]\n",
            " [ 4.8   9.   10.    7.52]\n",
            " [ 4.7   9.   10.    7.48]\n",
            " [ 4.6   9.   10.    7.44]\n",
            " [ 4.5   9.   10.    7.4 ]\n",
            " [ 4.4   9.   10.    7.36]]\n"
          ]
        }
      ]
    },
    {
      "cell_type": "code",
      "source": [
        "dimensao = MAT.shape\n",
        "m = dimensao[0]\n",
        "n = dimensao[1]\n",
        "print(\"m\", m)\n",
        "print(\"n\", n)"
      ],
      "metadata": {
        "colab": {
          "base_uri": "https://localhost:8080/"
        },
        "id": "7iayxe9Opo3p",
        "outputId": "84b548da-d2c5-499b-fc10-6b4d6a1e6aa9"
      },
      "execution_count": null,
      "outputs": [
        {
          "output_type": "stream",
          "name": "stdout",
          "text": [
            "m 40\n",
            "n 4\n"
          ]
        }
      ]
    },
    {
      "cell_type": "code",
      "source": [
        "# Definimos os vetores (x,y). Usamos as notas Ap1 da base de dados, mas podia ser qualquer outra coluna. \n",
        "import numpy as np\n",
        "x = np.zeros(m)\n",
        "y = np.zeros(m)\n",
        "for k in range(m):\n",
        "  x[k] = (k + 1)\n",
        "  y[k] = MAT[k,0]\n",
        "#\n",
        "x"
      ],
      "metadata": {
        "colab": {
          "base_uri": "https://localhost:8080/"
        },
        "id": "V_1-WdBEqmAU",
        "outputId": "de867d63-ebb9-4ef6-8d61-75efa2e8ceb4"
      },
      "execution_count": null,
      "outputs": [
        {
          "output_type": "execute_result",
          "data": {
            "text/plain": [
              "array([ 1.,  2.,  3.,  4.,  5.,  6.,  7.,  8.,  9., 10., 11., 12., 13.,\n",
              "       14., 15., 16., 17., 18., 19., 20., 21., 22., 23., 24., 25., 26.,\n",
              "       27., 28., 29., 30., 31., 32., 33., 34., 35., 36., 37., 38., 39.,\n",
              "       40.])"
            ]
          },
          "metadata": {},
          "execution_count": 57
        }
      ]
    },
    {
      "cell_type": "code",
      "source": [
        "# Definimos o sistema linear MBx=b. MB é a matriz M barra.\n",
        "BM = np.zeros((2,2))\n",
        "b = np.zeros(2)\n",
        "soma1 = 0\n",
        "soma2 = 0\n",
        "soma3 = 0\n",
        "soma4 = 0\n",
        "soma5 = 0\n",
        "soma6 = 0\n",
        "for k in range(m):\n",
        "  soma1 = soma1 + x[k]**2\n",
        "  soma2 = soma2 + x[k]\n",
        "  soma3 = soma3 + x[k]\n",
        "  soma4 = soma4 + 1\n",
        "  soma5 = soma5 + x[k] * y[k]\n",
        "  soma6 = soma6 + y[k]\n",
        "##\n",
        "BM[0,0] = soma1\n",
        "BM[0,1] = soma2\n",
        "BM[1,0] = soma3\n",
        "BM[1,1] = soma4\n",
        "b[0] = soma5\n",
        "b[1] = soma6"
      ],
      "metadata": {
        "id": "TAytUmXJs5Um"
      },
      "execution_count": null,
      "outputs": []
    },
    {
      "cell_type": "markdown",
      "source": [
        "Solução usando subrotinas de inversão de matrizes do numpy"
      ],
      "metadata": {
        "id": "MArXskyRvr2B"
      }
    },
    {
      "cell_type": "code",
      "source": [
        "BMINV = np.zeros((2,2))\n",
        "MBINV = np.linalg.inv(BM)\n",
        "sol = np.zeros(2)\n",
        "sol = MBINV @ b\n",
        "sol"
      ],
      "metadata": {
        "colab": {
          "base_uri": "https://localhost:8080/"
        },
        "id": "21AGQ-mDvyAg",
        "outputId": "a44e2b11-b888-418b-9883-8d14c0f2b91a"
      },
      "execution_count": null,
      "outputs": [
        {
          "output_type": "execute_result",
          "data": {
            "text/plain": [
              "array([-0.16189493,  9.97384615])"
            ]
          },
          "metadata": {},
          "execution_count": 65
        }
      ]
    },
    {
      "cell_type": "markdown",
      "source": [
        "### Solução usando eliminação de Gauss"
      ],
      "metadata": {
        "id": "qk9lEHUByI0U"
      }
    },
    {
      "cell_type": "code",
      "source": [
        "s = np.zeros(2)\n",
        "s[0] = (m * b[0] - BM[1,0] * b[1]) / (m * BM[0,0] - (BM[0,1])**2)\n",
        "s[1] = (BM[0,0] * b[1] - BM[1,0] * b[0]) / (m * BM[0,0] - (BM[0,1])**2)\n",
        "s"
      ],
      "metadata": {
        "colab": {
          "base_uri": "https://localhost:8080/"
        },
        "id": "Ce1qFxxayNIc",
        "outputId": "bc3c3f48-35be-4a85-91f7-2228c0827a7c"
      },
      "execution_count": null,
      "outputs": [
        {
          "output_type": "execute_result",
          "data": {
            "text/plain": [
              "array([-0.16189493,  9.97384615])"
            ]
          },
          "metadata": {},
          "execution_count": 73
        }
      ]
    },
    {
      "cell_type": "markdown",
      "source": [
        "Rotina para gerar o gráfico da base de dados e a aproximação por regressão linear."
      ],
      "metadata": {
        "id": "-axzVRqiCnuz"
      }
    },
    {
      "cell_type": "code",
      "source": [
        "reta_aprox = np.zeros(m)\n",
        "xp = np.zeros(m)\n",
        "for k in range(1, m): \n",
        "  xp[k - 1] = (x[k] + x[k - 1]) / 2\n",
        "for k in range(1, m):\n",
        "  reta_aprox[k - 1] = s[0] * xp[k - 1]  + s[1]"
      ],
      "metadata": {
        "id": "OiIPsAEv1IIP"
      },
      "execution_count": null,
      "outputs": []
    },
    {
      "cell_type": "code",
      "source": [
        "import matplotlib.pyplot as plt\n",
        "plt.figure(figsize=(10, 5))\n",
        "plt.plot(x[1: m-1], y[1: m-1], label='linear')  # Plot some data on the (implicit) axes.\n",
        "plt.plot(xp[1: m-1], reta_aprox[1: m-1], label='quadratic')  # etc.\n",
        "plt.xlabel('x label')\n",
        "plt.ylabel('y label')\n",
        "plt.title(\"Simple Plot\")\n",
        "plt.legend();"
      ],
      "metadata": {
        "colab": {
          "base_uri": "https://localhost:8080/",
          "height": 350
        },
        "id": "neTkP6BG0lhS",
        "outputId": "01015295-616c-404e-8f6f-9c868f1042d7"
      },
      "execution_count": null,
      "outputs": [
        {
          "output_type": "display_data",
          "data": {
            "text/plain": [
              "<Figure size 720x360 with 1 Axes>"
            ],
            "image/png": "[encoded data removed]"
          },
          "metadata": {
            "needs_background": "light"
          }
        }
      ]
    },
    {
      "cell_type": "markdown",
      "source": [
        "# Referência\n",
        "- Applied Numerical Linear Algebra - Jammes Demmel - Editora SIAM.\n",
        "\n",
        "- Reconhecimento de padrões - Rogério Negri - Editora Blucher \n"
      ],
      "metadata": {
        "id": "iYm4U4aUDRRf"
      }
    }
  ]
}