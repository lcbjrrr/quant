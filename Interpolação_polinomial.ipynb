{
  "nbformat": 4,
  "nbformat_minor": 0,
  "metadata": {
    "colab": {
      "name": "Interpolação_polinomial.ipynb",
      "provenance": [],
      "collapsed_sections": [],
      "include_colab_link": true
    },
    "kernelspec": {
      "name": "python3",
      "display_name": "Python 3"
    },
    "language_info": {
      "name": "python"
    }
  },
  "cells": [
    {
      "cell_type": "markdown",
      "metadata": {
        "id": "view-in-github",
        "colab_type": "text"
      },
      "source": [
        "<a href=\"https://colab.research.google.com/github/lcbjrrr/quant/blob/master/Interpola%C3%A7%C3%A3o_polinomial.ipynb\" target=\"_parent\"><img src=\"https://colab.research.google.com/assets/colab-badge.svg\" alt=\"Open In Colab\"/></a>"
      ]
    },
    {
      "cell_type": "markdown",
      "metadata": {
        "id": "CJNiket2o3jy"
      },
      "source": [
        "Ficha Técnica\n",
        "\n",
        "Álgebra Linear e Processos Dinâmicos.\n",
        "\n",
        "Conteúdo - Interpolação Polinomial (Um exemplo).\n",
        "        \n",
        "         - Eliminação Gaussiana.\n",
        "\n",
        "         - Matriz inversa.\n",
        "\n",
        "         - Determinantes\n",
        "\n",
        "Aplicação: Teoria da aproximação.\n",
        "\n",
        "Autores:\n",
        "\n",
        "Anderson Borba (anderson.aborba@professores.ibmec.edu.br)\n",
        "\n",
        "Luiz Barboza (luiz.cbjunior@professores.ibmec.edu.br).\n",
        "\n",
        "Endereço eletrônico: http://quant-ibmec.group/"
      ]
    },
    {
      "cell_type": "markdown",
      "metadata": {
        "id": "9QnS3cqbpTKO"
      },
      "source": [
        "Exercício: A curva $y(x)=ax^2+bx+c$ para pelos pontos $(x_1,y_1)$, $(x_2,y_2)$ e $(x_3,y_3)$. Resolva o problema usando álgebra linear.\n",
        "\n",
        "Solução: Aplicando os pontos dados na função $y(x)$ teremos o seguinte sistema linear,\n",
        "$$\n",
        "\\begin{array}{ccccccc}\n",
        "ax_1^2 &+&bx_1&+&c&=&y_1 \\\\\n",
        "ax_2^2 &+&bx_2&+&c&=&y_2 \\\\\n",
        "ax_3^2 &+&bx_3&+&c&=&y_3, \\\\\n",
        "\\end{array}\n",
        "$$\n",
        "podemos escrever esse sistema linear na forma matricial, \n",
        "$$\n",
        "\\begin{bmatrix}\n",
        "x_1^2 & x_1 & 1\\\\\n",
        "x_2^2 & x_2 & 1\\\\\n",
        "x_3^2 & x_3 & 1\\\\\n",
        "\\end{bmatrix}\n",
        "\\begin{bmatrix}\n",
        "a\\\\\n",
        "b\\\\\n",
        "c\\\\\n",
        "\\end{bmatrix}\n",
        "=\\begin{bmatrix}\n",
        "y_1\\\\\n",
        "y_2\\\\\n",
        "y_3\\\\\n",
        "\\end{bmatrix}.\n",
        "$$\n",
        "Sendo,\n",
        "$$ \n",
        "A = \\begin{bmatrix}\n",
        "x_1^2 & x_1 & 1\\\\\n",
        "x_2^2 & x_2 & 1\\\\\n",
        "x_3^2 & x_3 & 1\\\\\n",
        "\\end{bmatrix},\n",
        "$$\n",
        "$$\n",
        "x= \\begin{bmatrix}\n",
        "a\\\\\n",
        "b\\\\\n",
        "c\\\\\n",
        "\\end{bmatrix},\n",
        "$$\n",
        "e \n",
        "$$\n",
        "b=\\begin{bmatrix}\n",
        "y_1\\\\\n",
        "y_2\\\\\n",
        "y_3\\\\\n",
        "\\end{bmatrix},\n",
        "$$\n",
        "vamos resolver o sistema linear $Ax=b$ usando a eliminação gaussiana por linhas,\n",
        "\n",
        "Escrevando o sistema linear na forma extendida,\n",
        "$$\n",
        "\\left[\n",
        "\\begin{array}{ccc|c}\n",
        "x_1^2 &x_1&1&y_1 \\\\\n",
        "x_2^2 &x_2&1&y_2 \\\\\n",
        "x_3^2 &x_3&1&y_3, \\\\\n",
        "\\end{array}\n",
        "\\right]\n",
        "$$"
      ]
    },
    {
      "cell_type": "markdown",
      "metadata": {
        "id": "gXKGXJaXw7CM"
      },
      "source": [
        "Definindo as operações  e aplicando ao sistema linera na forma extendida,\n",
        "- $L2=>L2−\\frac{a21}{a11}L1$ , isto é,  $L2=>L2−\\frac{x_2^2}{x_1^2}L1$\n",
        "- $L3=>L3−\\frac{a31}{a11}L1$ , isto é,  $L3=>L3−\\frac{x_3^2}{x_1^2}L1$\n",
        "$$\n",
        "\\left[\n",
        "\\begin{array}{ccc|c}\n",
        "x_1^2 &x_1&1&y_1 \\\\\n",
        "x_2^2 &x_2&1&y_2 \\\\\n",
        "x_3^2 &x_3&1&y_3 \\\\\n",
        "\\end{array}\n",
        "\\right]=\n",
        "\\left[\n",
        "\\begin{array}{ccc|c}\n",
        "x_1^2 &x_1&1&y_1 \\\\\n",
        "0 &\\frac{x_1x_2-x_2^2}{x_1}&\\frac{x_1^2-x_2^2}{x_1^2}&\\frac{x_1^2y_2-x_2^2y_1}{x_1^2} \\\\\n",
        "0 &\\frac{x_1x_3-x_3^2}{x_1}&\\frac{x_1^2-x_2^2}{x_1^2}&\\frac{x_1^2y_3-x_3^2y_1}{x_1^2} \\\\\n",
        "\\end{array}\n",
        "\\right]\n",
        "$$\n",
        "definindo as operações,\n",
        "- $L2=>x_1^2L2$\n",
        "- $L3=>x_1^2L3$,\n",
        "$$\n",
        "\\left[\n",
        "\\begin{array}{ccc|c}\n",
        "x_1^2 &x_1&1&y_1 \\\\\n",
        "0 &x_1(x_1x_2-x_2^2)&x_1^2-x_2^2&x_1^2y_2-x_2^2y_1 \\\\\n",
        "0 &x_1(x_1x_3-x_3^2)&x_1^2-x_3^2&x_1^2y_3-x_3^2y_1 \\\\\n",
        "\\end{array}\n",
        "\\right]\n",
        "$$"
      ]
    },
    {
      "cell_type": "markdown",
      "metadata": {
        "id": "6QcMitzF0UAk"
      },
      "source": [
        "Definindo $L3=>L3−\\frac{a32}{a22}L2$ , isto é,  $L3=>L3−\\frac{x_1x_3-x_3^2}{x_1x_2-x_2^2}L1$.\n",
        "$$\n",
        "\\left[\n",
        "\\begin{array}{ccc|c}\n",
        "x_1^2 &x_1&1&y_1 \\\\\n",
        "0 &x_1(x_1x_2-x_2^2)&x_1^2-x_2^2&x_1^2y_2-x_2^2y_1 \\\\\n",
        "0 &0&(x_1^2-x_3^2)-\\frac{x_1x_3-x_3^2}{x_1x_2-x_2^2}(x_1^2-x_2^2)&x_1^2y_3-x_3^2y_1 - \\frac{x_1x_3-x_3^2}{x_1x_2-x_2^2}(x_1^2y_2-x_2^2y_1)\\\\\n",
        "\\end{array}\n",
        "\\right]\n",
        "$$"
      ]
    },
    {
      "cell_type": "markdown",
      "metadata": {
        "id": "UBF_S5Df2nPD"
      },
      "source": [
        "A solução será:\n",
        "$$c=\\frac{x_1^2y_3-x_3^2y_1 - \\frac{x_1x_3-x_3^2}{x_1x_2-x_2^2}(x_1^2y_2-x_2^2y_1)}{(x_1^2-x_3^2)-\\frac{x_1x_3-x_3^2}{x_1x_2-x_2^2}(x_1^2-x_2^2)},$$\n",
        "$$b= \\frac{(x_1^2y_2-x_2^2y_1)-c(x_1^2-x_2^2)}{x_1(x_1x_2-x_2^2)}\n",
        "$$\n",
        "$$a=\\frac{y_1-bx_1-c}{x_1^2}$$"
      ]
    },
    {
      "cell_type": "markdown",
      "metadata": {
        "id": "5qMBIiUw7-Ox"
      },
      "source": [
        "Exemplo numérico: Seja dado os pontos $(1,5)$,$(2,3)$ e $(3,3)$ podemos encontrar $a,b$ e $c$ para gerar o polinômio $y=ax^2+bx-c$."
      ]
    },
    {
      "cell_type": "markdown",
      "metadata": {
        "id": "jTwJ5fhivLlZ"
      },
      "source": [
        "OBS (dica): Resolver desta forma:\n",
        "$$\n",
        "\\begin{array}{ccccccc}\n",
        "c &+& bx_1 &+& ax_1^2&=&y_1 \\\\\n",
        "c &+& bx_2 &+& ax_2^2&=&y_2 \\\\\n",
        "c &+& bx_3 &+& ax_3^2&=&y_3 \\\\\n",
        "\\end{array}\n",
        "$$"
      ]
    },
    {
      "cell_type": "code",
      "metadata": {
        "colab": {
          "base_uri": "https://localhost:8080/",
          "height": 347
        },
        "id": "bJfl1l_h8bbY",
        "outputId": "c6f74d38-50cb-4e0d-949f-ecce339c696d"
      },
      "source": [
        "import matplotlib.pyplot as plt\n",
        "xi=[1,2,3]\n",
        "yi=[5,3,3]\n",
        "# Resolvendo c\n",
        "const = ((xi[0] * xi[2]- xi[2]**2) / (xi[0] * xi[1]- xi[1]**2))\n",
        "aux1 = xi[0]**2 * yi[2] - xi[2]**2 * yi[0] - const * (xi[0]**2 * yi[1] - xi[1]**2 * yi[0])\n",
        "aux2 = (xi[0]**2 - xi[2]**2) - const * (xi[0]**2 - xi[1]**2) \n",
        "cc= aux1 / aux2 \n",
        "# Resolvendo b\n",
        "aux1 = (xi[0]**2 * yi[1] - xi[1]**2 * yi[0]) - cc * (xi[0]**2 - xi[1]**2)  \n",
        "aux2 = xi[0] * (xi[0] * xi[1] - xi[1]**2)\n",
        "bb = aux1 / aux2\n",
        "# Resolvendo a\n",
        "aux1 = yi[0] - bb * xi[0] - cc\n",
        "aux2 = xi[0]**1\n",
        "aa = aux1 / aux2\n",
        "print(aa)\n",
        "print(bb)\n",
        "print(cc)\n",
        "# Plot\n",
        "plt.plot(xi[0], yi[0], 'ro') \n",
        "plt.plot(xi[1], yi[1], 'ro')\n",
        "plt.plot(xi[2], yi[2], 'ro')  \n",
        "plt.title('Pontos para interpolação')\n",
        "plt.xlabel('x')\n",
        "plt.ylabel('y(x)')\n",
        "plt.grid(alpha=.3, linestyle='--')\n",
        "plt.show()"
      ],
      "execution_count": null,
      "outputs": [
        {
          "output_type": "stream",
          "text": [
            "1.0\n",
            "-5.0\n",
            "9.0\n"
          ],
          "name": "stdout"
        },
        {
          "output_type": "display_data",
          "data": {
            "image/png": "[encoded data removed]",
            "text/plain": [
              "<Figure size 432x288 with 1 Axes>"
            ]
          },
          "metadata": {
            "tags": [],
            "needs_background": "light"
          }
        }
      ]
    },
    {
      "cell_type": "markdown",
      "metadata": {
        "id": "rHz61hJh9T87"
      },
      "source": [
        "A solução para a interpolação polinomial é $y=x^2-5x+9$. "
      ]
    },
    {
      "cell_type": "markdown",
      "metadata": {
        "id": "XvULEvPAAMla"
      },
      "source": [
        "Exemplo numérico usando as bibliotecas disponíveis para python: "
      ]
    },
    {
      "cell_type": "code",
      "metadata": {
        "colab": {
          "base_uri": "https://localhost:8080/"
        },
        "id": "sgsIDvUGAnlf",
        "outputId": "5afbe4f5-5578-4bf7-9f10-1fded17cf6fa"
      },
      "source": [
        "import numpy as np\n",
        "import matplotlib.pyplot as plt\n",
        "# Definindo a matriz\n",
        "A = np.array([[xi[0]**2, xi[0], 1],[xi[1]**2, xi[1], 1],[xi[2]**2, xi[2], 1]])\n",
        "print(A)\n",
        "# Calculando o determinante\n",
        "det = np.linalg.det(A)\n",
        "print(det)\n",
        "# Encontrando a matriz inversa\n",
        "AINV = np.linalg.inv(A)\n",
        "print(AINV)"
      ],
      "execution_count": null,
      "outputs": [
        {
          "output_type": "stream",
          "text": [
            "[[1 1 1]\n",
            " [4 2 1]\n",
            " [9 3 1]]\n",
            "-2.0\n",
            "[[ 0.5 -1.   0.5]\n",
            " [-2.5  4.  -1.5]\n",
            " [ 3.  -3.   1. ]]\n"
          ],
          "name": "stdout"
        }
      ]
    },
    {
      "cell_type": "code",
      "metadata": {
        "colab": {
          "base_uri": "https://localhost:8080/"
        },
        "id": "_LhA7Ivt-QOw",
        "outputId": "1527b98c-23fd-4419-a738-0b8ffaf41dab"
      },
      "source": [
        "# Verificando se a inversa está correta\n",
        "I = A @ AINV\n",
        "print(I)"
      ],
      "execution_count": null,
      "outputs": [
        {
          "output_type": "stream",
          "text": [
            "[[ 1.00000000e+00 -8.88178420e-16  3.33066907e-16]\n",
            " [ 0.00000000e+00  1.00000000e+00  2.22044605e-16]\n",
            " [-4.44089210e-16 -8.88178420e-16  1.00000000e+00]]\n"
          ],
          "name": "stdout"
        }
      ]
    },
    {
      "cell_type": "code",
      "metadata": {
        "colab": {
          "base_uri": "https://localhost:8080/"
        },
        "id": "tu5pAPDQZrH4",
        "outputId": "706482b7-f40b-4eac-99f5-e0b62b3b8b6e"
      },
      "source": [
        "# Definindo o vetor b (lado direito do sistema linear)\n",
        "b = np.array([[yi[0]],[yi[1]],[yi[2]]])\n",
        "print(b)\n",
        "# Encontrando a solução do sistema linear\n",
        "x = AINV @ b\n",
        "print(x)"
      ],
      "execution_count": null,
      "outputs": [
        {
          "output_type": "stream",
          "text": [
            "[[5]\n",
            " [3]\n",
            " [3]]\n",
            "[[ 1.]\n",
            " [-5.]\n",
            " [ 9.]]\n"
          ],
          "name": "stdout"
        }
      ]
    },
    {
      "cell_type": "markdown",
      "metadata": {
        "id": "cswFyWc8-5Q3"
      },
      "source": [
        "Podemos verificar que é o mesmo polinômio que encontramos $y=x^2-5x+9$."
      ]
    },
    {
      "cell_type": "markdown",
      "metadata": {
        "id": "ArFZZjjI_Lds"
      },
      "source": [
        "# Gráfico"
      ]
    },
    {
      "cell_type": "code",
      "metadata": {
        "colab": {
          "base_uri": "https://localhost:8080/",
          "height": 295
        },
        "id": "oL4N_Jpy_OlX",
        "outputId": "216a3df0-61d3-4c65-8210-dfad782ac976"
      },
      "source": [
        "from numpy import exp\n",
        "import matplotlib.pyplot as plt\n",
        "import numpy as np\n",
        "# Definição de função quadrática\n",
        "def y(x, a, b, c):\n",
        "  valor = a * x**2 + b * x + c\n",
        "  return valor\n",
        "#\n",
        "xi = 0\n",
        "xf = 5\n",
        "n = 512\n",
        "h = (xf - xi) / n\n",
        "x      = np.linspace(0, 0, n + 1)\n",
        "sol = np.linspace(0, 0, n + 1)\n",
        "for i in range(0, n + 1):\n",
        "\tx[i] = xi + i * h\n",
        "# Valor da função no ponto x\n",
        "for i in range(0, n + 1):\n",
        "\tsol[i] = y(x[i], aa, bb, cc)\n",
        "# Plot\n",
        "plt.plot(x, sol)\n",
        "plt.plot(1, 5, 'ro') \n",
        "plt.plot(2, 3, 'ro')\n",
        "plt.plot(3, 3, 'ro')  \n",
        "plt.title('Interpolação Quadrática')\n",
        "plt.xlabel('x')\n",
        "plt.ylabel('y(x)')\n",
        "plt.grid(alpha=.3, linestyle='--')\n",
        "plt.show()"
      ],
      "execution_count": null,
      "outputs": [
        {
          "output_type": "display_data",
          "data": {
            "image/png": "[encoded data removed]",
            "text/plain": [
              "<Figure size 432x288 with 1 Axes>"
            ]
          },
          "metadata": {
            "tags": [],
            "needs_background": "light"
          }
        }
      ]
    },
    {
      "cell_type": "markdown",
      "metadata": {
        "id": "QftDKF6HEkO0"
      },
      "source": [
        "# Referência\n",
        "- Anton, Howard Rorres, Chris. Álgebra Linear com Aplicações. Editora Bookman - 2012."
      ]
    }
  ]
}