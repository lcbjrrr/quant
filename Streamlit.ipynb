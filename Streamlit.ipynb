{
  "nbformat": 4,
  "nbformat_minor": 0,
  "metadata": {
    "colab": {
      "provenance": [],
      "authorship_tag": "ABX9TyMtaIIDFhZxgADbv6UFUlvb",
      "include_colab_link": true
    },
    "kernelspec": {
      "name": "python3",
      "display_name": "Python 3"
    },
    "language_info": {
      "name": "python"
    }
  },
  "cells": [
    {
      "cell_type": "markdown",
      "metadata": {
        "id": "view-in-github",
        "colab_type": "text"
      },
      "source": [
        "<a href=\"https://colab.research.google.com/github/lcbjrrr/quant/blob/master/Streamlit.ipynb\" target=\"_parent\"><img src=\"https://colab.research.google.com/assets/colab-badge.svg\" alt=\"Open In Colab\"/></a>"
      ]
    },
    {
      "cell_type": "code",
      "source": [
        "!pip install streamlit"
      ],
      "metadata": {
        "id": "NjFq4qaYpWsA"
      },
      "execution_count": null,
      "outputs": []
    },
    {
      "cell_type": "code",
      "execution_count": null,
      "metadata": {
        "id": "bkMRrX10pDE5"
      },
      "outputs": [],
      "source": [
        "\n",
        "import streamlit as st\n",
        "import pandas as pd\n",
        "notas = pd.read_csv('https://raw.githubusercontent.com/lcbjuk/ML/master/dados/notas_turma%20-%20final.csv')\n",
        "st.write(notas)\n",
        "st.bar_chart(data=notas,x='Alunos',y='Nota')\n",
        "\n",
        "\n"
      ]
    },
    {
      "cell_type": "code",
      "source": [
        "import streamlit as st\n",
        "import pandas as pd\n",
        "notas = pd.read_csv('https://raw.githubusercontent.com/lcbjuk/ML/master/dados/notas_turma%20-%20final.csv')\n",
        "agg = notas.groupby('Curso')['Nota'].mean()\n",
        "agg = agg.reset_index()\n",
        "st.write(agg)\n",
        "st.bar_chart(agg.set_index('Curso'))\n",
        "\n"
      ],
      "metadata": {
        "id": "yXuqPHd_pFe9"
      },
      "execution_count": null,
      "outputs": []
    },
    {
      "cell_type": "code",
      "source": [
        "\n",
        "import streamlit as st\n",
        "import pandas as pd\n",
        "cov = pd.read_csv('https://raw.githubusercontent.com/lcbjrrr/quant/master/covid_br%20-%20ok.csv')\n",
        "br = cov[  cov['Country/Region']=='Brazil'   ]\n",
        "brasil=br.T[4:]\n",
        "brasil.index = pd.to_datetime(brasil.index , format='%m/%d/%y')\n",
        "novos = brasil.diff().rolling(7).mean()\n",
        "st.line_chart(novos)\n",
        "\n"
      ],
      "metadata": {
        "id": "f1pNBpFUpJC1"
      },
      "execution_count": null,
      "outputs": []
    }
  ]
}