{
  "nbformat": 4,
  "nbformat_minor": 0,
  "metadata": {
    "colab": {
      "name": "Modelos_de_crescimento_1)Cobb_Douglas_2)Investimento.ipynb",
      "provenance": [],
      "collapsed_sections": [
        "BVzL9Q-e6mP_",
        "hADrEOS3KD_2"
      ],
      "include_colab_link": true
    },
    "kernelspec": {
      "display_name": "Python 3",
      "language": "python",
      "name": "python3"
    },
    "language_info": {
      "codemirror_mode": {
        "name": "ipython",
        "version": 3
      },
      "file_extension": ".py",
      "mimetype": "text/x-python",
      "name": "python",
      "nbconvert_exporter": "python",
      "pygments_lexer": "ipython3",
      "version": "3.7.4"
    }
  },
  "cells": [
    {
      "cell_type": "markdown",
      "metadata": {
        "id": "view-in-github",
        "colab_type": "text"
      },
      "source": [
        "<a href=\"https://colab.research.google.com/github/lcbjrrr/quant/blob/master/Modelos_de_crescimento_1)Cobb_Douglas_2)Investimento.ipynb\" target=\"_parent\"><img src=\"https://colab.research.google.com/assets/colab-badge.svg\" alt=\"Open In Colab\"/></a>"
      ]
    },
    {
      "cell_type": "markdown",
      "metadata": {
        "colab_type": "text",
        "id": "BVzL9Q-e6mP_"
      },
      "source": [
        "# Ficha Técnica\n",
        "\n",
        "Disciplina - Otimização e processos dinâmicos.\n",
        "\n",
        "Conteúdo - EDO - Equação deferencial ordinária.\n",
        "               - EDO separável.\n",
        "               - EDO com Coef variável (fator integrante).\n",
        "\n",
        "Resolução:\n",
        "- Modelos de crescimento econômico (Cobb-Douglas).\n",
        "- Modelos de crescimento econômico (Entrada de investimento) .\n",
        "- Programação em Python.\n",
        "\n",
        "Autores: \n",
        "- Anderson Borba (anderson.aborba@professores.ibmec.edu.br) e\n",
        "- Luiz Barboza (luiz.cbjunior@professores.ibmec.edu.br).\n",
        "\n",
        "Endereço eletrônico: http://quant-ibmec.group/calculos/"
      ]
    },
    {
      "cell_type": "markdown",
      "metadata": {
        "colab_type": "text",
        "id": "6qgSVBOqSW0x"
      },
      "source": [
        "## Modelos econômicos\n",
        "\n",
        "**1)** Seja $X(t)$ o produto interno bruto por ano, $K(t)$ é o estoque de capital, $L(t)$ é o número de trabalhadores no país, todas as variáveis medidas no tempo t. Sendo,\n",
        "- a) $X= A K^{1-\\alpha}(t)L^\\alpha(t),$\n",
        "- b) $\\frac{dK}{dt}= s X(t),$\n",
        "- c) $L(t)=L_0\\text{e}^{\\lambda t}.$\n",
        "\n",
        "Onde $A$, $\\alpha$, $s$. $L_0$ e $\\lambda$, são constante positivas, com $0< \\alpha <1$. \n",
        "\n",
        "Encontrar:\n",
        "- (I) A solução da EDO, sendo dado que a condição inicial é $K(0) = K_0>0$. \n",
        "- (II) A expressão para $\\kappa(t) =\\frac{K(t)}{L(t)}$.\n",
        "\n",
        "Obs:\n",
        "- (a) Assumimos que o produto interno bruto é uma função de produção de Cobb-Douglas.\n",
        "- (b) O investimento agregado é propocional ao produto interno bruto.\n",
        "- (c) A força de trabalho cresce exponencialmente.\n",
        "\n"
      ]
    },
    {
      "cell_type": "markdown",
      "metadata": {
        "colab_type": "text",
        "id": "OVv8cgZs-Uwu"
      },
      "source": [
        "**Resolução 1)**\n",
        "\n",
        "- I) Usando as equações nos itens (a) e (b) teremos:\n",
        "\\begin{equation}\n",
        "\\begin{aligned}\n",
        "\\frac{dK}{dt}&= s X(t)=sA K^{1-\\alpha}(t)L^\\alpha(t)=sA K^{1-\\alpha}(t)L_0\\text{e}^{\\lambda t},\n",
        "\\end{aligned}\n",
        "\\end{equation}\n",
        "\\begin{equation}\n",
        "\\begin{aligned}\n",
        "\\frac{dK}{dt}&= sAL^{\\alpha}_0\\text{e}^{\\alpha\\lambda t} K^{1-\\alpha}(t),\n",
        "\\end{aligned}\\tag{1}\n",
        "\\end{equation}\n",
        "\n",
        "A EDO (1) é separável, então\n",
        "\\begin{equation}\n",
        "\\begin{aligned}\n",
        "\\frac{dK}{K^{1-\\alpha}}&= sAL^{\\alpha}_0\\text{e}^{\\alpha\\lambda t}dt,\\\\\n",
        "K^{\\alpha-1}dK&= sAL^{\\alpha}_0\\text{e}^{\\alpha\\lambda t}dt,\n",
        "\\end{aligned}\n",
        "\\end{equation}\n",
        "integrando de ambos os lados,\n",
        "\\begin{equation}\n",
        "\\begin{aligned}\n",
        "\\int K^{\\alpha-1}dK&= \\int sAL^{\\alpha}_0\\text{e}^{\\alpha\\lambda t}dt,\n",
        "\\end{aligned}\n",
        "\\end{equation}\n",
        "\\begin{equation}\n",
        "\\begin{aligned}\n",
        "\\frac{K^{\\alpha}}{\\alpha}&= \\frac{sAL^{\\alpha}_0}{\\alpha\\lambda} \\text{e}^{\\alpha\\lambda t}+C,\n",
        "\\end{aligned}\n",
        "\\end{equation}\n",
        "se $C_1=\\alpha C$ teremos,\n",
        "\\begin{equation}\n",
        "\\begin{aligned}\n",
        "K^{\\alpha}&= \\frac{sAL^{\\alpha}_0}{\\lambda} \\text{e}^{\\alpha\\lambda t}+C_1,\n",
        "\\end{aligned}\n",
        "\\end{equation}\n",
        "usando a condição inicial $K(0)=K_0$,\n",
        "\\begin{equation}\n",
        "\\begin{aligned}\n",
        "K_0^{\\alpha}&= \\frac{sAL^{\\alpha}_0}{\\lambda}+C_1,\n",
        "\\end{aligned}\n",
        "\\end{equation}\n",
        "assim o valor da constante de integração,\n",
        "\\begin{equation}\n",
        "\\begin{aligned}\n",
        "C_1 & = K_0^{\\alpha} - \\frac{sAL^{\\alpha}_0}{\\lambda},\n",
        "\\end{aligned}\n",
        "\\end{equation}\n",
        "substituindo na solução,\n",
        "\\begin{equation}\n",
        "\\begin{aligned}\n",
        "K^{\\alpha}&= \\frac{sAL^{\\alpha}_0}{\\lambda} \\text{e}^{\\alpha\\lambda t}+K_0^{\\alpha} - \\frac{sAL^{\\alpha}_0}{\\lambda},\\\\\n",
        "K^{\\alpha}&=K_0^{\\alpha} + \\frac{sAL^{\\alpha}_0}{\\lambda}\\left( \\text{e}^{\\alpha\\lambda t} - 1\\right).\\\\\n",
        "\\end{aligned}\n",
        "\\end{equation}\n",
        "\n",
        "Portanto, a solução é \n",
        "\\begin{equation}\n",
        "\\begin{aligned}\n",
        "K(t)&=\\left[K_0^{\\alpha} + \\frac{sAL^{\\alpha}_0}{\\lambda}\\left( \\text{e}^{\\alpha\\lambda t} - 1\\right)\\right]^{\\frac{1}{\\alpha}}.\\\\\n",
        "\\end{aligned}\n",
        "\\end{equation}\n"
      ]
    },
    {
      "cell_type": "markdown",
      "metadata": {
        "colab_type": "text",
        "id": "HKK3EpAg6Fv_"
      },
      "source": [
        "- II) A razão $\\kappa(t)=\\frac{K(t)}{L(t)},$\n",
        "\\begin{equation}\n",
        "\\begin{aligned}\n",
        "\\kappa(t)&=\\frac{K(t)}{L(t)}=\\frac{\\left[K_0^{\\alpha} + \\frac{sAL^{\\alpha}_0}{\\lambda}\\left(\\text{e}^{\\alpha\\lambda t} - 1\\right)\\right]^{\\frac{1}{\\alpha}}}{L_0\\text{e}^{\\lambda t}},\\\\\n",
        "\\kappa(t)&=\\frac{K(t)}{L(t)}=\\left[\\frac{K_0^{\\alpha}}{L_0\\text{e}^{\\alpha\\lambda t}} + \\frac{sAL^{\\alpha}_0}{\\lambda L_0\\text{e}^{\\alpha\\lambda t}}\\left(\\text{e}^{\\alpha\\lambda t} - 1\\right)\\right]^{\\frac{1}{\\alpha}},\\\\\n",
        "\\kappa(t)&=\\frac{K(t)}{L(t)}=\\left[\\frac{K_0^{\\alpha}\\text{e}^{-\\alpha\\lambda t}}{L_0} + \\frac{sAL^{\\alpha}_0}{\\lambda L_0}\\left(\\text{e}^{\\alpha\\lambda t}\\text{e}^{-\\alpha\\lambda t} - \\text{e}^{-\\alpha\\lambda t}\\right)\\right]^{\\frac{1}{\\alpha}},\\\\\n",
        "\\kappa(t)&=\\frac{K(t)}{L(t)}=\\left[\\frac{K_0^{\\alpha}\\text{e}^{-\\alpha\\lambda t}}{L_0} + \\frac{sAL^{\\alpha-1}_0}{\\lambda}\\left(1 - \\text{e}^{-\\alpha\\lambda t}\\right)\\right]^{\\frac{1}{\\alpha}},\\\\\n",
        "\\end{aligned}\n",
        "\\end{equation}\n",
        "\n",
        "Comportamento assintótico de $\\kappa$\n",
        "\\begin{equation}\n",
        "\\begin{aligned}\n",
        "\\lim_{t\\rightarrow\\infty}\\kappa(t)&=\\left[\\frac{sAL^{\\alpha-1}_0}{\\lambda}\\right]^{\\frac{1}{\\alpha}}.\\\\\n",
        "\\end{aligned}\n",
        "\\end{equation}"
      ]
    },
    {
      "cell_type": "markdown",
      "metadata": {
        "colab_type": "text",
        "id": "0YR7lbLLLakk"
      },
      "source": [
        "## Código para o gráfico de $K(t)$\n",
        "Sendo as constantes do problema:\n",
        "- $\\alpha=\\frac{1}{2}$,\n",
        "- $A=1$,\n",
        "- $s=0.4$,\n",
        "- $L_0=1$,\n",
        "- $\\lambda=0.04$,\n",
        "- $K_0=10000$.\n"
      ]
    },
    {
      "cell_type": "code",
      "metadata": {
        "colab_type": "code",
        "id": "a4aePuF8LWkU",
        "colab": {
          "base_uri": "https://localhost:8080/",
          "height": 295
        },
        "outputId": "9e080358-1b6e-4246-a753-1b071fda3a7c"
      },
      "source": [
        "import matplotlib.pyplot as plt\n",
        "import numpy as np\n",
        "def sol_exata(t):\n",
        "  alpha = 0.5\n",
        "  A = 1\n",
        "  s = 0.4\n",
        "  L0 = 1\n",
        "  lbd = 0.04\n",
        "  K0 = 10000\n",
        "  sol_exata = (K0**alpha + (s * A * L0**alpha / lbd) * (np.exp(alpha*lbd*t) - 1))**(1/alpha) \n",
        "  return sol_exata\n",
        "#\n",
        "ti = 0\n",
        "tf = 100\n",
        "n = 2048\n",
        "h = (tf - ti) / n\n",
        "t      = np.linspace(0, 0, n + 1)\n",
        "sol_ex = np.linspace(0, 0, n + 1)\n",
        "for i in range(0, n + 1):\n",
        "\tt[i] = ti + i * h\n",
        "# Solução exata\n",
        "for i in range(0, n + 1):\n",
        "\tsol_ex[i] = sol_exata(t[i])\n",
        "# Plot\n",
        "plt.plot(t, sol_ex)\n",
        "plt.title('Capital')\n",
        "plt.xlabel('t')\n",
        "plt.ylabel('K(t)')\n",
        "plt.grid(alpha=.3, linestyle='--')\n",
        "plt.show()"
      ],
      "execution_count": null,
      "outputs": [
        {
          "output_type": "display_data",
          "data": {
            "image/png": "[encoded data removed]",
            "text/plain": [
              "<Figure size 432x288 with 1 Axes>"
            ]
          },
          "metadata": {
            "tags": [],
            "needs_background": "light"
          }
        }
      ]
    },
    {
      "cell_type": "markdown",
      "metadata": {
        "colab_type": "text",
        "id": "pGdbq-3_BAuO"
      },
      "source": [
        "## Código para o gráfico do comportamento assintótido de $\\kappa(t)$"
      ]
    },
    {
      "cell_type": "code",
      "metadata": {
        "colab_type": "code",
        "id": "22v4cbc7A8gJ",
        "colab": {
          "base_uri": "https://localhost:8080/",
          "height": 295
        },
        "outputId": "cb7c1f65-b6c1-4e70-a844-499582392dc1"
      },
      "source": [
        "import matplotlib.pyplot as plt\n",
        "import numpy as np\n",
        "def sol_exata(t):\n",
        "  alpha = 0.5\n",
        "  A = 1\n",
        "  s = 0.4\n",
        "  L0 = 1\n",
        "  lbd = 0.04\n",
        "  K0 = 10000\n",
        "  sol_exata = ((K0**alpha * np.exp(-alpha*lbd*t))/L0 + (s * A * L0**(alpha-1) / lbd) * (1 - np.exp(-alpha*lbd*t)))**(1/alpha) \n",
        "  return sol_exata\n",
        "#\n",
        "ti = 0\n",
        "tf = 100\n",
        "n = 2048\n",
        "h = (tf - ti) / n\n",
        "t      = np.linspace(0, 0, n + 1)\n",
        "sol_ex = np.linspace(0, 0, n + 1)\n",
        "for i in range(0, n + 1):\n",
        "\tt[i] = ti + i * h\n",
        "# Solução exata\n",
        "for i in range(0, n + 1):\n",
        "\tsol_ex[i] = sol_exata(t[i])\n",
        "# Plot\n",
        "plt.plot(t, sol_ex)\n",
        "plt.title('Produto interno per capita')\n",
        "plt.xlabel('t')\n",
        "plt.ylabel('x(t)')\n",
        "plt.grid(alpha=.3, linestyle='--')\n",
        "plt.show()"
      ],
      "execution_count": null,
      "outputs": [
        {
          "output_type": "display_data",
          "data": {
            "image/png": "[encoded data removed]",
            "text/plain": [
              "<Figure size 432x288 with 1 Axes>"
            ]
          },
          "metadata": {
            "tags": [],
            "needs_background": "light"
          }
        }
      ]
    },
    {
      "cell_type": "markdown",
      "metadata": {
        "colab_type": "text",
        "id": "rsOmZWUiCSz7"
      },
      "source": [
        "## Código para encontrar a constante assintótica $\\kappa$"
      ]
    },
    {
      "cell_type": "code",
      "metadata": {
        "colab_type": "code",
        "id": "63dVWpGZCRtz",
        "colab": {
          "base_uri": "https://localhost:8080/",
          "height": 34
        },
        "outputId": "a8670758-68c8-4021-e100-5625459db6fc"
      },
      "source": [
        "alpha = 0.5\n",
        "A = 1\n",
        "s = 0.4\n",
        "L0 = 1\n",
        "lbd = 0.04\n",
        "K0 = 10000\n",
        "cons_assint = (s * A * L0**(alpha-1) / lbd)**(1/alpha) \n",
        "print(cons_assint)"
      ],
      "execution_count": null,
      "outputs": [
        {
          "output_type": "stream",
          "text": [
            "100.0\n"
          ],
          "name": "stdout"
        }
      ]
    },
    {
      "cell_type": "markdown",
      "metadata": {
        "colab_type": "text",
        "id": "Pa5n3rSq-OGB"
      },
      "source": [
        "\n",
        "**2)** Seja $X(t)$ o produto interno bruto por ano, $K(t)$ é o estoque de capital, $H(t)$ é a entrada líquida de investimento externo por ano, e $N(t)$ é o tamanho da população, todas as variáveis medidas no tempo t. Sendo,\n",
        "- a) $X=\\sigma K(t),$\n",
        "- b) $\\frac{dK}{dt}= \\alpha X(t)+H(t),$\n",
        "- c) $N(t)=N_0e^{\\rho t}.$\n",
        "\n",
        "Assumindo $H(t) = H_0e^{\\mu t}$ para encontrar a EDO na variável $K(t)$. \n",
        "\n",
        "Encontrar:\n",
        "- (I) A solução da EDO, sendo dado que a condição inicial é $K(0) = K_0$, e considerando $\\alpha\\rho\\neq\\mu$. \n",
        "- (II) A expressão para $x(t) =\\frac{X(t)}{N(t)}$, chamado de produto interno bruto per capita.\n",
        "\n",
        "Obs:\n",
        "- (a) Assumimos que o volume de produção é simplesmente proporcional ao estoque de capital, sendo o factor de proporcionalidade $\\sigma$ chamado a produtividade média do capital. \n",
        "- (b) Assumimos que a variação do capital por ano é igual à poupança interna mais o investimento externo líquido, e a poupança é proporcional à produção, sendo o factor de proporcionalidade $\\alpha$ designado por taxa de poupança.\n",
        "- (c) Mostra que a população aumenta a uma taxa de crescimento proporcional constante $\\rho$. \n",
        "- (d) Mostra que o investimento externo aumenta a uma taxa de crescimento proporcional constante $\\mu$. \n"
      ]
    },
    {
      "cell_type": "markdown",
      "metadata": {
        "colab_type": "text",
        "id": "bGZF77Wp0Hjt"
      },
      "source": [
        "Resolução:\n",
        "\\begin{equation}\n",
        "\\begin{aligned}\n",
        "\\frac{dK}{dt}&= \\alpha X(t)+H(t)=\\alpha\\sigma K(t)+H_0\\text{e}^{\\mu t},\n",
        "\\end{aligned}\n",
        "\\end{equation}\n",
        "assim encontramos a EDO com coeficientes variáveis,\n",
        "\\begin{equation}\n",
        "\\begin{aligned}\n",
        "\\frac{dK}{dt}-\\alpha\\sigma K(t)&=H_0e^{\\mu t},\n",
        "\\end{aligned}\n",
        "\\end{equation}\n",
        "a EDO pode ser resolvida pelo método do fator integrante.\n",
        "\n",
        "Analisando a EDO podemos afirmar que $u(t)=-\\alpha\\sigma$, e $w(t)=H_0e^{\\mu t}$, desta forma usando\n",
        "\\begin{equation}\n",
        "\\begin{aligned}\n",
        "K(t)=\\frac{1}{v}\\left[\\int v(t)w(t)dt + A\\right],\n",
        "\\end{aligned}\n",
        "\\end{equation}\n",
        "temos que encontrar $v$.\n",
        "\\begin{equation}\n",
        "\\begin{aligned}\n",
        "v(t)=e^{\\int -\\alpha\\sigma dt}=e^{-\\alpha\\sigma\\int  dt}=e^{-\\alpha\\sigma t},\n",
        "\\end{aligned}\n",
        "\\end{equation}\n",
        "encontramos o fator integrante $v(t)$ como o fator.\n",
        "\n",
        "Substituindo em,\n",
        "\\begin{equation}\n",
        "\\begin{aligned}\n",
        "K(t)=e^{-\\int u(t)dt}\\left[\\int e^{\\int u(t)dt}w(t)dt + A\\right].\n",
        "\\end{aligned}\\tag{Solução por fator integrante}\n",
        "\\end{equation}\n",
        "teremos,\n",
        "\\begin{equation}\n",
        "\\begin{aligned}\n",
        "K(t)=e^{\\alpha\\sigma t}\\left[\\int e^{-\\alpha\\sigma t}H_0e^{\\mu t}dt + A\\right],\\\\\n",
        "K(t)=e^{\\alpha\\sigma t}\\left[H_0\\int e^{(\\mu-\\alpha\\sigma)t}dt + A\\right],\\\\\n",
        "K(t)=e^{\\alpha\\sigma t}\\left[\\frac{H_0}{\\mu-\\alpha\\sigma}e^{(\\mu-\\alpha\\sigma)t} + A\\right],\\\\\n",
        "K(t)=\\frac{H_0}{\\mu-\\alpha\\sigma}e^{\\mu t} + Ae^{\\alpha\\sigma t}.\\\\\n",
        "\\end{aligned}\n",
        "\\end{equation}\n"
      ]
    },
    {
      "cell_type": "markdown",
      "metadata": {
        "colab_type": "text",
        "id": "KYPkF5ZF7KlW"
      },
      "source": [
        "Encontramos a solução sem aplicação da condição inicial (infinitas soluções).\n",
        "\\begin{equation}\n",
        "\\begin{aligned}\n",
        "K(t)=\\frac{H_0}{\\mu-\\alpha\\sigma}e^{\\mu t} + Ae^{\\alpha\\sigma t},\\\\\n",
        "\\end{aligned}\\tag{1}\n",
        "\\end{equation}\n",
        "podemos usar a condição de inicial $K(0)=k_0$,\n",
        "\\begin{equation}\n",
        "\\begin{aligned}\n",
        "K(0)=\\frac{H_0}{\\mu-\\alpha\\sigma}+A,\\\\\n",
        "\\end{aligned}\n",
        "\\end{equation}\n",
        "encontramos\n",
        "\\begin{equation}\n",
        "\\begin{aligned}\n",
        "A &=K_0-\\frac{H_0}{\\mu-\\alpha\\sigma},\\\\\n",
        "\\end{aligned}\n",
        "\\end{equation}\n",
        "substituindo na equação (1) encontramos a solução,\n",
        "\\begin{equation}\n",
        "\\begin{aligned}\n",
        "K(t)=\\frac{H_0}{\\mu-\\alpha\\sigma}e^{\\mu t} + \\left(K_0-\\frac{H_0}{\\mu-\\alpha\\sigma}\\right)e^{\\alpha\\sigma t},\\\\\n",
        "\\end{aligned}\\tag{Solução da EDO}\n",
        "\\end{equation}"
      ]
    },
    {
      "cell_type": "markdown",
      "metadata": {
        "colab_type": "text",
        "id": "VSlKaki3BqEo"
      },
      "source": [
        "II) A razão $x(t)=\\frac{X(t)}{N(t)}=\\frac{\\sigma K(t)}{N_0e^{\\rho t}},$\n",
        "\\begin{equation}\n",
        "\\begin{aligned}\n",
        "x(t)=\\frac{\\frac{\\sigma H_0}{\\mu-\\alpha\\sigma}e^{\\mu t} + \\left(\\sigma K_0-\\sigma \\frac{H_0}{\\mu-\\alpha\\sigma}\\right)e^{\\alpha\\sigma t}}{N_0e^{\\rho t}},\\\\\n",
        "x(t)=\\frac{\\sigma H_0}{N_0(\\mu-\\alpha\\sigma)}e^{(\\mu-\\rho) t} + \\left(\\frac{\\sigma K_0}{N_0}-\\frac{\\sigma H_0}{N_0(\\mu-\\alpha\\sigma)}\\right)e^{(\\alpha\\sigma-\\rho) t},\\\\\n",
        "x(t)=\\frac{\\sigma H_0}{N_0(\\mu-\\alpha\\sigma)}e^{(\\mu-\\rho) t} + \\frac{\\sigma K_0e^{(\\alpha\\sigma-\\rho) t}}{N_0}-\\frac{\\sigma H_0e^{(\\alpha\\sigma-\\rho) t}}{N_0(\\mu-\\alpha\\sigma)},\\\\\n",
        "x(t)= \\frac{\\sigma K_0e^{(\\alpha\\sigma-\\rho) t}}{N_0}+\\frac{\\sigma H_0}{N_0(\\mu-\\alpha\\sigma)}e^{(\\mu-\\rho) t} -\\frac{\\sigma H_0e^{(\\alpha\\sigma-\\rho) t}}{N_0(\\mu-\\alpha\\sigma)},\\\\\n",
        "x(t)= x(0)e^{(\\alpha\\sigma-\\rho) t}+\\frac{\\sigma H_0e^{(\\alpha\\sigma-\\rho) t}}{N_0(\\alpha\\sigma-\\mu)}\\left(1-\\frac{e^{(\\mu-\\rho) t}}{e^{(\\alpha\\sigma-\\rho) t}}\\right),\\\\\n",
        "x(t)= x(0)e^{(\\alpha\\sigma-\\rho) t}+\\frac{\\sigma}{(\\alpha\\sigma-\\mu)}\\frac{H_0}{N_0}e^{(\\alpha\\sigma-\\rho) t}\\left(1-e^{(\\mu-\\alpha\\sigma) t}\\right),\\\\\n",
        "\\end{aligned}\\tag{Solução da EDO}\n",
        "\\end{equation}\n"
      ]
    },
    {
      "cell_type": "markdown",
      "metadata": {
        "colab_type": "text",
        "id": "UrEUzjLvSjyc"
      },
      "source": [
        "# Programa para o gráfico de $K(t)$\n",
        "Parâmetros para o programa,\n",
        "- $\\sigma = 0.2$\n",
        "- $\\alpha = 0.1$\n",
        "- $\\rho=0.03$\n",
        "- $\\mu=0.04$\n",
        "- $K0=200$\n",
        "- $H0=10$\n",
        "- $N0=50$"
      ]
    },
    {
      "cell_type": "code",
      "metadata": {
        "colab_type": "code",
        "id": "L-pyFTFGSgZX",
        "colab": {
          "base_uri": "https://localhost:8080/",
          "height": 295
        },
        "outputId": "cd45e098-312a-443b-a0fc-0dff51fc970d"
      },
      "source": [
        "import matplotlib.pyplot as plt\n",
        "import numpy as np\n",
        "def sol_exata(t):\n",
        "  sigma = 0.2\n",
        "  alpha = 0.1\n",
        "  rho   = 0.03\n",
        "  mu = 0.04\n",
        "  N0 = 50\n",
        "  H0 = 10\n",
        "  K0 = 200\n",
        "  c1 = K0 - H0 / (mu- alpha * sigma)\n",
        "  c2 = H0 / (mu- alpha * sigma)\n",
        "  sol_exata = c1 * np.exp(alpha * sigma * t) + c2 * np.exp(mu * t)  \n",
        "  return sol_exata\n",
        "#\n",
        "ti = 0\n",
        "tf = 100\n",
        "n = 2048\n",
        "h = (tf - ti) / n\n",
        "t      = np.linspace(0, 0, n + 1)\n",
        "sol_ex = np.linspace(0, 0, n + 1)\n",
        "for i in range(0, n + 1):\n",
        "\tt[i] = ti + i * h\n",
        "# Solução exata\n",
        "for i in range(0, n + 1):\n",
        "\tsol_ex[i] = sol_exata(t[i])\n",
        "# Plot\n",
        "plt.plot(t, sol_ex)\n",
        "plt.title('Capital')\n",
        "plt.xlabel('t')\n",
        "plt.ylabel('K(t)')\n",
        "plt.grid(alpha=.3, linestyle='--')\n",
        "plt.show()"
      ],
      "execution_count": null,
      "outputs": [
        {
          "output_type": "display_data",
          "data": {
            "image/png": "[encoded data removed]",
            "text/plain": [
              "<Figure size 432x288 with 1 Axes>"
            ]
          },
          "metadata": {
            "tags": [],
            "needs_background": "light"
          }
        }
      ]
    },
    {
      "cell_type": "markdown",
      "metadata": {
        "colab_type": "text",
        "id": "ZI-sWStVUXIa"
      },
      "source": [
        "# Programa para o gráfico de $x(t)$"
      ]
    },
    {
      "cell_type": "code",
      "metadata": {
        "colab_type": "code",
        "id": "OZkJw9jNUaX4",
        "colab": {
          "base_uri": "https://localhost:8080/",
          "height": 295
        },
        "outputId": "a97264a5-3da0-4354-c89d-37016ab9b9a9"
      },
      "source": [
        "import matplotlib.pyplot as plt\n",
        "import numpy as np\n",
        "def sol_exata(t):\n",
        "  sigma = 0.2\n",
        "  alpha = 0.1\n",
        "  rho   = 0.03\n",
        "  mu = 0.04\n",
        "  N0 = 50\n",
        "  H0 = 10\n",
        "  K0 = 200\n",
        "  c1 = (sigma * K0) / N0\n",
        "  c2 = (sigma * H0) / (N0 * (alpha * sigma - mu))\n",
        "  sol_exata = c1 * np.exp((alpha * sigma - rho) * t) \\\n",
        "            + c2 * np.exp((alpha * sigma - rho) * t) \\\n",
        "            * (1 - np.exp((mu - alpha * sigma ) * t))\n",
        "  return sol_exata\n",
        "#\n",
        "ti = 0\n",
        "tf = 100\n",
        "n = 2048\n",
        "h = (tf - ti) / n\n",
        "t      = np.linspace(0, 0, n + 1)\n",
        "sol_ex = np.linspace(0, 0, n + 1)\n",
        "for i in range(0, n + 1):\n",
        "\tt[i] = ti + i * h\n",
        "# Solução exata\n",
        "for i in range(0, n + 1):\n",
        "\tsol_ex[i] = sol_exata(t[i])\n",
        "# Plot\n",
        "plt.plot(t, sol_ex)\n",
        "plt.title('Produto interno per capita')\n",
        "plt.xlabel('t')\n",
        "plt.ylabel('x(t)')\n",
        "plt.grid(alpha=.3, linestyle='--')\n",
        "plt.show()"
      ],
      "execution_count": null,
      "outputs": [
        {
          "output_type": "display_data",
          "data": {
            "image/png": "[encoded data removed]",
            "text/plain": [
              "<Figure size 432x288 with 1 Axes>"
            ]
          },
          "metadata": {
            "tags": [],
            "needs_background": "light"
          }
        }
      ]
    },
    {
      "cell_type": "markdown",
      "metadata": {
        "colab_type": "text",
        "id": "hADrEOS3KD_2"
      },
      "source": [
        "# Referências\n",
        "- [1] Essential Mathematics for Economic Analysis.  Sydsaeter, K. and Hammond, P.J. and Strom, A. and Carvajal, A.\n",
        "- [2] Cálculo I. Weir, M.D. and Thomas, G.B. and Hass, J. and Giordano, F.R., Pearson Addison Wesley.\n"
      ]
    }
  ]
}