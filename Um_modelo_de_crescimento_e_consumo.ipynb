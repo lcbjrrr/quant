{
  "nbformat": 4,
  "nbformat_minor": 0,
  "metadata": {
    "colab": {
      "name": "Um_modelo_de_crescimento_e_consumo.ipynb",
      "provenance": [],
      "include_colab_link": true
    },
    "kernelspec": {
      "display_name": "Python 3",
      "language": "python",
      "name": "python3"
    },
    "language_info": {
      "codemirror_mode": {
        "name": "ipython",
        "version": 3
      },
      "file_extension": ".py",
      "mimetype": "text/x-python",
      "name": "python",
      "nbconvert_exporter": "python",
      "pygments_lexer": "ipython3",
      "version": "3.7.3"
    }
  },
  "cells": [
    {
      "cell_type": "markdown",
      "metadata": {
        "id": "view-in-github",
        "colab_type": "text"
      },
      "source": [
        "<a href=\"https://colab.research.google.com/github/lcbjrrr/quant/blob/master/Um_modelo_de_crescimento_e_consumo.ipynb\" target=\"_parent\"><img src=\"https://colab.research.google.com/assets/colab-badge.svg\" alt=\"Open In Colab\"/></a>"
      ]
    },
    {
      "cell_type": "markdown",
      "metadata": {
        "id": "dUpGF_fJ7z7m"
      },
      "source": [
        "# Ficha Técnica\n",
        "\n",
        "Disciplina\n",
        "\n",
        "- Álgebra linear e processos dinâmicos.\n",
        "\n",
        "Conteúdo \n",
        "\n",
        "- Autovalores e autovetores.\n",
        "\n",
        "Aplicação \n",
        "\n",
        "- Modelo de crescimento e consumo. \n",
        "\n",
        "- Linguagem de programação (Python).\n",
        "\n",
        "Autores: \n",
        "- Anderson Borba (anderson.aborba@professores.ibmec.edu.br) e\n",
        "\n",
        "- Luiz Barboza (luiz.cbjunior@professores.ibmec.edu.br).\n",
        "\n",
        "Endereço eletrônico: http://quant-ibmec.group/"
      ]
    },
    {
      "cell_type": "markdown",
      "metadata": {
        "id": "ZHf7rqVF7z7p"
      },
      "source": [
        "# Modelo de crescimento e consumo\n",
        "Considere uma economia com n setores que produzem n bens denotados pelo vetor $\\mathbf{x}$. Todos os bens são utilizadas como insumos na produção e consumidas pelos trabalhadores.\n",
        "\n",
        "- Os requisitos de entrada de bens na produção são dados por uma matriz $A$ $n\\times n$ entrada/saída. \n",
        "\n",
        "- Os requisitos de mão-de-obra são dados por um vetor linha $\\mathbf{a}$ mão-de-obra/saída. (OBS: Observe que todos os elementos de $A$ e $\\mathbf{a}$ são não-negativos). \n",
        "\n",
        "- Supõe-se que a cesta de consumo dos trabalhadores é dada pelo vetor linha c. (Esta pode ser interpretado como uma cesta salarial que reflete o salário mínimo social, determinado por condições sociais e históricas da sociedade em questão).\n",
        "\n",
        "Este sistema de produção e seu uso pode ser resumido da seguinte forma:\n",
        "\n",
        "Output = entrada de produção requerida + consumo (dos trabalhadores), ou\n",
        "\n",
        "\\begin{equation}\n",
        "\\begin{aligned}\n",
        "x= Ax + c^T a \\cdot x.\n",
        "\\end{aligned}\\tag{Economia sem crescimento}\n",
        "\\end{equation}\n",
        "\n",
        "Esta economia utiliza toda produção e consumo corrente, portanto, ela é incapaz de crescer. Agora vamos introduzir o crescimento neste quadro.\n",
        "\n",
        "Por uma questão de simplicidade, suponhamos que os formuladores de políticas públicas tenham como objetivo o crescimento de todos os setores em uma mesma taxa, ou seja, em uma \"direção de crescimento equilibrado\". Portanto, a quantidade extra de bens\n",
        "necessário para ter crescimento é dado por:\n",
        "\\begin{equation}\n",
        "\\begin{aligned}\n",
        "s= g(Ax + c^T a \\cdot x).\n",
        "\\end{aligned}\\tag{Fator de crescimento}\n",
        "\\end{equation}"
      ]
    },
    {
      "cell_type": "markdown",
      "metadata": {
        "id": "7NGN05KD7z7q"
      },
      "source": [
        "Onde g é a taxa de crescimento equilibrado (um escalar) da economia. \n",
        "\n",
        "Considerando o sistema de produção,\n",
        "\\begin{equation}\n",
        "\\begin{aligned}\n",
        "x= Ax + c^T a \\cdot x + s,\\\\\n",
        "x= Ax + c^T a \\cdot x + g(Ax + c^T a \\cdot x).\n",
        "\\end{aligned}\\tag{Economia com crescimento}\n",
        "\\end{equation}\n",
        "Onde o primeiro termo corresponde aos requisitos de entrada para consumo atual e o segundo termo significa os requisitos de entrada para o crescimento.\n",
        "\n",
        "Realizando a álgebra necessária:\n",
        "\\begin{equation}\n",
        "\\begin{aligned}\n",
        "x= (A + c^T a) x + g(A + c^T a) x,\\\\\n",
        "x= (1 + g)(A + c^T a)x\\\\\n",
        "\\frac{1}{(1 + g)}x = (A + c^T a) x.\\\\\n",
        "\\end{aligned}\n",
        "\\end{equation}\n",
        "\n",
        "Vamos definir\n",
        "\\begin{equation}\n",
        "\\begin{aligned}\n",
        "B = (A + c^T a),\\\\\n",
        "\\end{aligned}\n",
        "\\end{equation}\n",
        "e \n",
        "\\begin{equation}\n",
        "\\begin{aligned}\n",
        "\\lambda = \\frac{1}{1+g}.\\\\\n",
        "\\end{aligned}\n",
        "\\end{equation}\n",
        "Onde b é a \"matriz de entrada aumentada\", ou seja, que leva em conta as necessidades de consumo da mão-de-obra, e trata esta última como um insumo da produção. E $\\lambda$ definimos como autovalores.\n",
        "\n",
        "Portanto, podemos reescrever\n",
        "\\begin{equation}\n",
        "\\begin{aligned}\n",
        "\\lambda x = B x.\\\\\n",
        "\\end{aligned}\\tag{Equação matricial}\n",
        "\\end{equation}\n"
      ]
    },
    {
      "cell_type": "markdown",
      "metadata": {
        "id": "7HDG-Vq_7z7r"
      },
      "source": [
        "Pergunta 1. Suponhamos que os formuladores de políticas gostariam de saber a taxa de crescimento máxima viável para esta economia? Sendo dado a tecnologia $(A, \\mathbf{a})$ e exogenamente o vetor $\\mathbf{c}$ representa a cesta de consumo dos trabalhadores.\n",
        "\n",
        "Podemos responder da seguinte maneira: Note que o sistema de equações matriciais pode ser reescrito como\n",
        "\\begin{equation}\n",
        "\\begin{aligned}\n",
        "\\lambda x - B x = 0.\\\\\n",
        "(\\lambda I - B) x = 0.\\\\\n",
        "\\end{aligned}\\tag{Auto-sistema}\n",
        "\\end{equation}\n",
        "onde $I$ é a matriz de identidade $n\\times n$ e $0$ é o vetor $n\\times 1$ zero.\n",
        "\n",
        "A partir do auto-sistema a resposta a pergunta acima pode ser obtida encontrando os autovalores e autovetores correspondentes da matriz B. Neste contexto, um sistema de produção é viável se ao menos puder se sustentar, ou seja, se o autovalor for não negativo."
      ]
    },
    {
      "cell_type": "markdown",
      "metadata": {
        "id": "zQTeBRmE7z7r"
      },
      "source": [
        "# Exemplo numérico de uma economia\n",
        "Suponha que a tecnologia da economia é dada pela seguinte entrada/saída matriz $A$, e mão-de-obra/saída pelo vetor $\\mathbf{a}$\n",
        "\\begin{equation}\n",
        "    A= \\left[\n",
        "    \\begin{array}{ccc}\n",
        "       0.120 &0.170 &0.120 \\\\\n",
        "       0.140 &0.110 &0.140  \\\\\n",
        "       0.110 &0.130 &0.110  \\\\\n",
        "    \\end{array}\n",
        "    \\right]\n",
        "\\end{equation}\n",
        "\\begin{equation}\n",
        "        {\\bf a} = \n",
        "    \\left[\n",
        "    \\begin{array}{c}\n",
        "        0.36 \\\\\n",
        "        0.37\\\\\n",
        "        0.40 \\\\\n",
        "    \\end{array}\n",
        "    \\right]\n",
        "\\end{equation}\n",
        "E o vetor de consumo $\\mathbf{c}$,\n",
        "\\begin{equation}\n",
        "        {\\bf c} = \n",
        "    \\left[\n",
        "    \\begin{array}{c}\n",
        "        0.6 \\\\\n",
        "        0.45\\\\\n",
        "        0.45 \\\\\n",
        "    \\end{array}\n",
        "    \\right]\n",
        "\\end{equation}\n"
      ]
    },
    {
      "cell_type": "code",
      "metadata": {
        "colab": {
          "base_uri": "https://localhost:8080/"
        },
        "id": "WCs6PENs7z7s",
        "outputId": "97e1df4d-200f-464c-ef1f-a54f016f499f"
      },
      "source": [
        "import numpy as np\n",
        "import matplotlib.pyplot as plt\n",
        "import scipy.linalg as la\n",
        "\n",
        "A = np.array([[0.120,0.170,0.120],[0.140,0.110,0.140],[0.110,0.130,0.110]])\n",
        "a = np.array([[0.36,0.37,0.40]])\n",
        "c = np.array([[0.6,0.45,0.45]])\n",
        "print(A)\n",
        "print(a)\n",
        "print(c)"
      ],
      "execution_count": null,
      "outputs": [
        {
          "output_type": "stream",
          "text": [
            "[[0.12 0.17 0.12]\n",
            " [0.14 0.11 0.14]\n",
            " [0.11 0.13 0.11]]\n",
            "[[0.36 0.37 0.4 ]]\n",
            "[[0.6  0.45 0.45]]\n"
          ],
          "name": "stdout"
        }
      ]
    },
    {
      "cell_type": "code",
      "metadata": {
        "colab": {
          "base_uri": "https://localhost:8080/"
        },
        "id": "fokW2Q1M7z7t",
        "outputId": "bf6d7ff0-0fa9-4d3d-d641-524e1e4fbf1e"
      },
      "source": [
        "CA= np.matmul(np.transpose(c), a)\n",
        "print(CA)"
      ],
      "execution_count": null,
      "outputs": [
        {
          "output_type": "stream",
          "text": [
            "[[0.216  0.222  0.24  ]\n",
            " [0.162  0.1665 0.18  ]\n",
            " [0.162  0.1665 0.18  ]]\n"
          ],
          "name": "stdout"
        }
      ]
    },
    {
      "cell_type": "code",
      "metadata": {
        "colab": {
          "base_uri": "https://localhost:8080/"
        },
        "id": "LwfwZg7D7z7t",
        "outputId": "f88d13a6-d252-4a1d-d3e3-998e780e48ee"
      },
      "source": [
        "B = A + CA\n",
        "print(B)\n",
        "from numpy import linalg as la\n",
        "lambdas, v = la.eig(B)\n",
        "print('Autovalores de B\\n',lambdas)\n",
        "print('Autovetores de B\\n', v)\n",
        "g1 = (1 - lambdas[0]) / lambdas[0] * 100\n",
        "g2 = (1 - lambdas[1]) / lambdas[1] * 100\n",
        "g3 = (1 - lambdas[2]) / lambdas[2] * 100\n",
        "print('Taxa percentual de crecimento:',g1)\n",
        "print('Taxa percentual de crecimento:',g2)\n",
        "print('Taxa percentual de crecimento:',g3)"
      ],
      "execution_count": null,
      "outputs": [
        {
          "output_type": "stream",
          "text": [
            "[[0.336  0.392  0.36  ]\n",
            " [0.302  0.2765 0.32  ]\n",
            " [0.272  0.2965 0.29  ]]\n",
            "Autovalores de B\n",
            " [ 9.45510680e-01 -2.82176429e-04 -4.27285032e-02]\n",
            "Autovetores de B\n",
            " [[-0.65767447 -0.71353561  0.63710354]\n",
            " [-0.54541702 -0.03069231 -0.75554924]\n",
            " [-0.51960039  0.69994637  0.1524612 ]]\n",
            "Taxa percentual de crecimento: 5.762951333327542\n",
            "Taxa percentual de crecimento: -354488.21183808125\n",
            "Taxa percentual de crecimento: -2440.3581308470866\n"
          ],
          "name": "stdout"
        }
      ]
    },
    {
      "cell_type": "markdown",
      "metadata": {
        "id": "AaBj8SpW7z7u"
      },
      "source": [
        "Dos autovalores da matriz B apenas o primeiro é positivo. Portanto, os outros não têm significado econômico. Tecnicamente a taxa de crescimento máxima viável para esta economia é 5.7 porcento no período considerado.\n",
        "\n",
        "Pergunta 2. Esta economia pode permitir um aumento de 10% no bem de consumo dos trabalhadores?"
      ]
    },
    {
      "cell_type": "code",
      "metadata": {
        "colab": {
          "base_uri": "https://localhost:8080/"
        },
        "id": "XJMxFmzf7z7u",
        "outputId": "8160892e-8d1b-4aa9-93db-872b20b29ba1"
      },
      "source": [
        "c1 = np.array([[0.70,0.55,0.55]])\n",
        "CA1= np.matmul(np.transpose(c1), a)\n",
        "B1 = A + CA1\n",
        "print(B1)\n",
        "from numpy import linalg as la\n",
        "lambdas1, v1 = la.eig(B1)\n",
        "print('Autovalores de B\\n',lambdas1)\n",
        "print('Autovetores de B\\n',v1)\n",
        "g11 = (1 - lambdas1[0]) / lambdas1[0] * 100\n",
        "g12 = (1 - lambdas1[1]) / lambdas1[1] * 100\n",
        "g13 = (1 - lambdas1[2]) / lambdas1[2] * 100 \n",
        "print('Taxa percentual de crecimento:',g11)\n",
        "print('Taxa percentual de crecimento:',g12)\n",
        "print('Taxa percentual de crecimento:',g13)"
      ],
      "execution_count": null,
      "outputs": [
        {
          "output_type": "stream",
          "text": [
            "[[0.372  0.429  0.4   ]\n",
            " [0.338  0.3135 0.36  ]\n",
            " [0.308  0.3335 0.33  ]]\n",
            "Autovalores de B\n",
            " [ 1.05842281e+00 -1.28049597e-04 -4.27947592e-02]\n",
            "Autovetores de B\n",
            " [[-0.64959866 -0.71532095  0.63776239]\n",
            " [-0.54894892 -0.03044751 -0.7556644 ]\n",
            " [-0.52600063  0.69813243  0.14909883]]\n",
            "Taxa percentual de crecimento: -5.51979873395116\n",
            "Taxa percentual de crecimento: -781047.40064608\n",
            "Taxa percentual de crecimento: -2436.7347278639104\n"
          ],
          "name": "stdout"
        }
      ]
    },
    {
      "cell_type": "markdown",
      "metadata": {
        "id": "i7J0PthA7z7u"
      },
      "source": [
        "# Referências\n",
        "- Anton, Howard Rorres, Chris. Álgebra Linear com Aplicações. Editora Bookman - 2012.\n",
        "\n",
        "- Carl D, Meyer, Matrix Analysis and Applied Linear Algebra, Editora SIAM - 2000  \n",
        "\n",
        "- Fuad Aleskerov • Hasan Ersel Dmitri Piontkovski, Linear Algebra for Economists, Editora Springer, 2011. "
      ]
    }
  ]
}