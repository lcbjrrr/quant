{
  "nbformat": 4,
  "nbformat_minor": 0,
  "metadata": {
    "colab": {
      "provenance": [],
      "include_colab_link": true
    },
    "kernelspec": {
      "name": "python3",
      "display_name": "Python 3"
    }
  },
  "cells": [
    {
      "cell_type": "markdown",
      "metadata": {
        "id": "view-in-github",
        "colab_type": "text"
      },
      "source": [
        "<a href=\"https://colab.research.google.com/github/lcbjrrr/quant/blob/master/IA_R_Clas_NeuralNet.ipynb\" target=\"_parent\"><img src=\"https://colab.research.google.com/assets/colab-badge.svg\" alt=\"Open In Colab\"/></a>"
      ]
    },
    {
      "cell_type": "code",
      "metadata": {
        "id": "WnwqmNcyeyMO",
        "colab": {
          "base_uri": "https://localhost:8080/"
        },
        "outputId": "c0b20393-3d8b-45be-ba81-847cb85cf5ef"
      },
      "source": [
        "!pip uninstall rpy2 -y"
      ],
      "execution_count": 1,
      "outputs": [
        {
          "output_type": "stream",
          "name": "stdout",
          "text": [
            "Found existing installation: rpy2 3.5.5\n",
            "Uninstalling rpy2-3.5.5:\n",
            "  Successfully uninstalled rpy2-3.5.5\n"
          ]
        }
      ]
    },
    {
      "cell_type": "code",
      "source": [
        "!pip install rpy2==3.0.0"
      ],
      "metadata": {
        "id": "aclZStp5E4EQ"
      },
      "execution_count": null,
      "outputs": []
    },
    {
      "cell_type": "code",
      "metadata": {
        "id": "FCpLBuC5e-1M",
        "outputId": "b353b8de-d6fc-4b31-ca07-b91b59d9f977",
        "colab": {
          "base_uri": "https://localhost:8080/"
        }
      },
      "source": [
        "%load_ext rpy2.ipython"
      ],
      "execution_count": 3,
      "outputs": [
        {
          "output_type": "stream",
          "name": "stderr",
          "text": [
            "/usr/local/lib/python3.8/dist-packages/rpy2/robjects/pandas2ri.py:15: FutureWarning: pandas.core.index is deprecated and will be removed in a future version.  The public classes are available in the top-level namespace.\n",
            "  from pandas.core.index import Index as PandasIndex\n"
          ]
        }
      ]
    },
    {
      "cell_type": "code",
      "source": [
        "#Redes Neurais \n",
        "%%R\n",
        "install.packages(\"neuralnet\",repos = \"http://cran.us.r-project.org\")"
      ],
      "metadata": {
        "id": "DRr-GKcOMTWo"
      },
      "execution_count": null,
      "outputs": []
    },
    {
      "cell_type": "code",
      "source": [
        "%%R\n",
        "library(\"neuralnet\")"
      ],
      "metadata": {
        "id": "pNYpl9wLFgrL"
      },
      "execution_count": 6,
      "outputs": []
    },
    {
      "cell_type": "code",
      "source": [
        "%%R\n",
        "train <- read.csv('https://raw.githubusercontent.com/lcbjrrr/data/main/homem_mulher%20-%20ok.csv')\n",
        "print(train)\n",
        "nn <- neuralnet( SEXO ~ ., data=train, hidden=c(3,2,3),threshold =1,stepmax=100 )\n",
        "nn"
      ],
      "metadata": {
        "colab": {
          "base_uri": "https://localhost:8080/",
          "height": 1000
        },
        "id": "piR3Ltx-MXlQ",
        "outputId": "ae6c8390-24a8-4e71-b7cd-5ac09112db20"
      },
      "execution_count": 9,
      "outputs": [
        {
          "output_type": "display_data",
          "data": {
            "text/plain": [
              "  SEXO ALTURA PESO\n",
              "1    1    178   72\n",
              "2    1    179   81\n",
              "3    2    163   55\n",
              "4    2    168   58\n",
              "5    1    181   98\n",
              "6    2    170   60\n",
              "7    1    184   78\n",
              "8    2    171   59\n",
              "$call\n",
              "neuralnet(formula = SEXO ~ ., data = train, hidden = c(3, 2, \n",
              "    3), threshold = 1, stepmax = 100)\n",
              "\n",
              "$response\n",
              "  SEXO\n",
              "1    1\n",
              "2    1\n",
              "3    2\n",
              "4    2\n",
              "5    1\n",
              "6    2\n",
              "7    1\n",
              "8    2\n",
              "\n",
              "$covariate\n",
              "     ALTURA PESO\n",
              "[1,]    178   72\n",
              "[2,]    179   81\n",
              "[3,]    163   55\n",
              "[4,]    168   58\n",
              "[5,]    181   98\n",
              "[6,]    170   60\n",
              "[7,]    184   78\n",
              "[8,]    171   59\n",
              "\n",
              "$model.list\n",
              "$model.list$response\n",
              "[1] \"SEXO\"\n",
              "\n",
              "$model.list$variables\n",
              "[1] \"ALTURA\" \"PESO\"  \n",
              "\n",
              "\n",
              "$err.fct\n",
              "function (x, y) \n",
              "{\n",
              "    1/2 * (y - x)^2\n",
              "}\n",
              "<bytecode: 0x61a03f8>\n",
              "<environment: 0x55dddc8>\n",
              "attr(,\"type\")\n",
              "[1] \"sse\"\n",
              "\n",
              "$act.fct\n",
              "function (x) \n",
              "{\n",
              "    1/(1 + exp(-x))\n",
              "}\n",
              "<bytecode: 0x619fa48>\n",
              "<environment: 0x55dd8c0>\n",
              "attr(,\"type\")\n",
              "[1] \"logistic\"\n",
              "\n",
              "$linear.output\n",
              "[1] TRUE\n",
              "\n",
              "$data\n",
              "  SEXO ALTURA PESO\n",
              "1    1    178   72\n",
              "2    1    179   81\n",
              "3    2    163   55\n",
              "4    2    168   58\n",
              "5    1    181   98\n",
              "6    2    170   60\n",
              "7    1    184   78\n",
              "8    2    171   59\n",
              "\n",
              "$exclude\n",
              "NULL\n",
              "\n",
              "$net.result\n",
              "$net.result[[1]]\n",
              "         [,1]\n",
              "[1,] 1.433922\n",
              "[2,] 1.433922\n",
              "[3,] 1.433922\n",
              "[4,] 1.433922\n",
              "[5,] 1.433922\n",
              "[6,] 1.433922\n",
              "[7,] 1.433922\n",
              "[8,] 1.433922\n",
              "\n",
              "\n",
              "$weights\n",
              "$weights[[1]]\n",
              "$weights[[1]][[1]]\n",
              "           [,1]        [,2]       [,3]\n",
              "[1,]  1.9935523 -0.09883271 -0.1488445\n",
              "[2,]  0.8873493 -1.23432229 -0.7049636\n",
              "[3,] -0.5727063 -0.70504700 -0.7141214\n",
              "\n",
              "$weights[[1]][[2]]\n",
              "            [,1]      [,2]\n",
              "[1,]  0.57926952 0.4918133\n",
              "[2,]  0.08619455 0.8910735\n",
              "[3,] -0.85216658 0.2144376\n",
              "[4,] -0.68148034 1.6972755\n",
              "\n",
              "$weights[[1]][[3]]\n",
              "          [,1]       [,2]       [,3]\n",
              "[1,] 0.5402250  0.5578822 -0.8476529\n",
              "[2,] 0.1950270 -0.6857375  0.1946598\n",
              "[3,] 0.8311209  2.0319448  0.5521782\n",
              "\n",
              "$weights[[1]][[4]]\n",
              "           [,1]\n",
              "[1,]  0.7598810\n",
              "[2,]  0.9984586\n",
              "[3,] -0.4299347\n",
              "[4,]  0.5776930\n",
              "\n",
              "\n",
              "\n",
              "$generalized.weights\n",
              "$generalized.weights[[1]]\n",
              "             [,1]         [,2]\n",
              "[1,] 1.927886e-79 1.952930e-79\n",
              "[2,] 1.540525e-82 1.560537e-82\n",
              "[3,] 1.412118e-69 1.430462e-69\n",
              "[4,] 4.882531e-72 4.945957e-72\n",
              "[5,] 2.009012e-88 2.035110e-88\n",
              "[6,] 2.857876e-73 2.895002e-73\n",
              "[7,] 3.866132e-83 3.916354e-83\n",
              "[8,] 2.884168e-73 2.921635e-73\n",
              "\n",
              "\n",
              "$startweights\n",
              "$startweights[[1]]\n",
              "$startweights[[1]][[1]]\n",
              "           [,1]       [,2]       [,3]\n",
              "[1,]  1.9935523  0.1011673 -0.1488445\n",
              "[2,]  0.8873493 -1.0343223 -0.7049636\n",
              "[3,] -0.5727063 -0.5050470 -0.7141214\n",
              "\n",
              "$startweights[[1]][[2]]\n",
              "           [,1]       [,2]\n",
              "[1,]  0.3792695 0.29181328\n",
              "[2,] -0.1138054 0.69107354\n",
              "[3,] -1.0521666 0.01443757\n",
              "[4,] -0.8814803 1.49727545\n",
              "\n",
              "$startweights[[1]][[3]]\n",
              "            [,1]       [,2]         [,3]\n",
              "[1,]  0.34022502  0.7578822 -1.047652919\n",
              "[2,] -0.00497297 -0.4857375 -0.005340175\n",
              "[3,]  0.63112093  2.2319448  0.352178216\n",
              "\n",
              "$startweights[[1]][[4]]\n",
              "           [,1]\n",
              "[1,]  0.5598810\n",
              "[2,]  0.7984586\n",
              "[3,] -0.6299347\n",
              "[4,]  0.3776930\n",
              "\n",
              "\n",
              "\n",
              "$result.matrix\n",
              "                             [,1]\n",
              "error                  1.01746527\n",
              "reached.threshold      0.52862491\n",
              "steps                  3.00000000\n",
              "Intercept.to.1layhid1  1.99355235\n",
              "ALTURA.to.1layhid1     0.88734930\n",
              "PESO.to.1layhid1      -0.57270629\n",
              "Intercept.to.1layhid2 -0.09883271\n",
              "ALTURA.to.1layhid2    -1.23432229\n",
              "PESO.to.1layhid2      -0.70504700\n",
              "Intercept.to.1layhid3 -0.14884446\n",
              "ALTURA.to.1layhid3    -0.70496360\n",
              "PESO.to.1layhid3      -0.71412139\n",
              "Intercept.to.2layhid1  0.57926952\n",
              "1layhid1.to.2layhid1   0.08619455\n",
              "1layhid2.to.2layhid1  -0.85216658\n",
              "1layhid3.to.2layhid1  -0.68148034\n",
              "Intercept.to.2layhid2  0.49181328\n",
              "1layhid1.to.2layhid2   0.89107354\n",
              "1layhid2.to.2layhid2   0.21443757\n",
              "1layhid3.to.2layhid2   1.69727545\n",
              "Intercept.to.3layhid1  0.54022502\n",
              "2layhid1.to.3layhid1   0.19502703\n",
              "2layhid2.to.3layhid1   0.83112093\n",
              "Intercept.to.3layhid2  0.55788221\n",
              "2layhid1.to.3layhid2  -0.68573751\n",
              "2layhid2.to.3layhid2   2.03194482\n",
              "Intercept.to.3layhid3 -0.84765292\n",
              "2layhid1.to.3layhid3   0.19465982\n",
              "2layhid2.to.3layhid3   0.55217822\n",
              "Intercept.to.SEXO      0.75988104\n",
              "3layhid1.to.SEXO       0.99845861\n",
              "3layhid2.to.SEXO      -0.42993470\n",
              "3layhid3.to.SEXO       0.57769301\n",
              "\n",
              "attr(,\"class\")\n",
              "[1] \"nn\"\n"
            ]
          },
          "metadata": {}
        }
      ]
    },
    {
      "cell_type": "code",
      "source": [
        "%%R\n",
        "prever <- read.csv('https://raw.githubusercontent.com/lcbjrrr/data/main/homem_mulher%20-%20prev.csv')\n",
        "prever[,2:3]"
      ],
      "metadata": {
        "colab": {
          "base_uri": "https://localhost:8080/",
          "height": 53
        },
        "id": "j_XdkRc-GChd",
        "outputId": "f311d0bb-ef1a-4a4c-faa6-9bb22998df33"
      },
      "execution_count": 12,
      "outputs": [
        {
          "output_type": "display_data",
          "data": {
            "text/plain": [
              "  ALTURA PESO\n",
              "1    175   75\n"
            ]
          },
          "metadata": {}
        }
      ]
    },
    {
      "cell_type": "code",
      "source": [
        "%%R\n",
        "compute(nn,prever[,2:3])$net.result"
      ],
      "metadata": {
        "colab": {
          "base_uri": "https://localhost:8080/",
          "height": 53
        },
        "id": "05PcdxFPGo7N",
        "outputId": "8f53be4a-9afe-43fe-bc91-54c241ab8579"
      },
      "execution_count": 16,
      "outputs": [
        {
          "output_type": "display_data",
          "data": {
            "text/plain": [
              "         [,1]\n",
              "[1,] 1.433922\n"
            ]
          },
          "metadata": {}
        }
      ]
    }
  ]
}