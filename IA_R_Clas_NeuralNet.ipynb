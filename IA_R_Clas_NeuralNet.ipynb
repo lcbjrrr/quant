{
  "nbformat": 4,
  "nbformat_minor": 0,
  "metadata": {
    "colab": {
      "provenance": [],
      "include_colab_link": true
    },
    "kernelspec": {
      "name": "python3",
      "display_name": "Python 3"
    }
  },
  "cells": [
    {
      "cell_type": "markdown",
      "metadata": {
        "id": "view-in-github",
        "colab_type": "text"
      },
      "source": [
        "<a href=\"https://colab.research.google.com/github/lcbjrrr/quant/blob/master/IA_R_Clas_NeuralNet.ipynb\" target=\"_parent\"><img src=\"https://colab.research.google.com/assets/colab-badge.svg\" alt=\"Open In Colab\"/></a>"
      ]
    },
    {
      "cell_type": "code",
      "metadata": {
        "id": "WnwqmNcyeyMO",
        "colab": {
          "base_uri": "https://localhost:8080/"
        },
        "outputId": "ff4bef46-042a-454e-cec3-d93099f6ccdb"
      },
      "source": [
        "!pip uninstall rpy2 -y"
      ],
      "execution_count": 1,
      "outputs": [
        {
          "output_type": "stream",
          "name": "stdout",
          "text": [
            "Found existing installation: rpy2 3.5.5\n",
            "Uninstalling rpy2-3.5.5:\n",
            "  Successfully uninstalled rpy2-3.5.5\n"
          ]
        }
      ]
    },
    {
      "cell_type": "code",
      "source": [
        "!pip install rpy2==3.0.0"
      ],
      "metadata": {
        "id": "aclZStp5E4EQ"
      },
      "execution_count": null,
      "outputs": []
    },
    {
      "cell_type": "code",
      "metadata": {
        "id": "FCpLBuC5e-1M",
        "outputId": "4ebd2716-99b1-4010-a678-cc84523e3a5f",
        "colab": {
          "base_uri": "https://localhost:8080/"
        }
      },
      "source": [
        "%load_ext rpy2.ipython"
      ],
      "execution_count": 4,
      "outputs": [
        {
          "output_type": "stream",
          "name": "stdout",
          "text": [
            "The rpy2.ipython extension is already loaded. To reload it, use:\n",
            "  %reload_ext rpy2.ipython\n"
          ]
        }
      ]
    },
    {
      "cell_type": "code",
      "source": [
        "#Redes Neurais \n",
        "%%R\n",
        "install.packages(\"neuralnet\",repos = \"http://cran.us.r-project.org\")"
      ],
      "metadata": {
        "id": "DRr-GKcOMTWo"
      },
      "execution_count": null,
      "outputs": []
    },
    {
      "cell_type": "code",
      "source": [
        "%%R\n",
        "library(\"neuralnet\")"
      ],
      "metadata": {
        "id": "pNYpl9wLFgrL"
      },
      "execution_count": 6,
      "outputs": []
    },
    {
      "cell_type": "code",
      "source": [
        "%%R\n",
        "train <- read.csv('https://raw.githubusercontent.com/lcbjrrr/data/main/homem_mulher%20-%20ok.csv')\n",
        "train"
      ],
      "metadata": {
        "colab": {
          "base_uri": "https://localhost:8080/",
          "height": 178
        },
        "id": "piR3Ltx-MXlQ",
        "outputId": "95cfd1cd-c2e4-42df-a5ff-5a300855a098"
      },
      "execution_count": 7,
      "outputs": [
        {
          "output_type": "display_data",
          "data": {
            "text/plain": [
              "  SEXO ALTURA PESO\n",
              "1    1    178   72\n",
              "2    1    179   81\n",
              "3    2    163   55\n",
              "4    2    168   58\n",
              "5    1    181   98\n",
              "6    2    170   60\n",
              "7    1    184   78\n",
              "8    2    171   59\n"
            ]
          },
          "metadata": {}
        }
      ]
    },
    {
      "cell_type": "code",
      "source": [
        "%%R\n",
        "nn <- neuralnet( SEXO ~ ., data=train, hidden=c(3,2,3),threshold =1,stepmax=100 )\n",
        "plot(nn)"
      ],
      "metadata": {
        "colab": {
          "base_uri": "https://localhost:8080/"
        },
        "id": "o1j_FAh5fFQ2",
        "outputId": "1793f93b-e75d-4c70-b28d-4b0e6944892a"
      },
      "execution_count": 9,
      "outputs": [
        {
          "output_type": "stream",
          "name": "stderr",
          "text": [
            "WARNING:rpy2.rinterface_lib.callbacks:R[write to console]: dev.new(): using pdf(file=\"Rplots1.pdf\")\n",
            "\n"
          ]
        }
      ]
    },
    {
      "cell_type": "markdown",
      "source": [
        "![https://pbs.twimg.com/media/FlI8zuwXoAEYwft?format=jpg&name=medium](https://pbs.twimg.com/media/FlI8zuwXoAEYwft?format=jpg&name=medium)"
      ],
      "metadata": {
        "id": "tLDF-YUogNeY"
      }
    },
    {
      "cell_type": "code",
      "source": [
        "%%R\n",
        "prever <- read.csv('https://raw.githubusercontent.com/lcbjrrr/data/main/homem_mulher%20-%20prev.csv')\n",
        "prever[,2:3]"
      ],
      "metadata": {
        "colab": {
          "base_uri": "https://localhost:8080/",
          "height": 53
        },
        "id": "j_XdkRc-GChd",
        "outputId": "f311d0bb-ef1a-4a4c-faa6-9bb22998df33"
      },
      "execution_count": null,
      "outputs": [
        {
          "output_type": "display_data",
          "data": {
            "text/plain": [
              "  ALTURA PESO\n",
              "1    175   75\n"
            ]
          },
          "metadata": {}
        }
      ]
    },
    {
      "cell_type": "code",
      "source": [
        "%%R\n",
        "compute(nn,prever[,2:3])$net.result"
      ],
      "metadata": {
        "colab": {
          "base_uri": "https://localhost:8080/",
          "height": 53
        },
        "id": "05PcdxFPGo7N",
        "outputId": "8f53be4a-9afe-43fe-bc91-54c241ab8579"
      },
      "execution_count": null,
      "outputs": [
        {
          "output_type": "display_data",
          "data": {
            "text/plain": [
              "         [,1]\n",
              "[1,] 1.433922\n"
            ]
          },
          "metadata": {}
        }
      ]
    }
  ]
}