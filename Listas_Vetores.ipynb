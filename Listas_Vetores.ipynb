{
  "cells": [
    {
      "cell_type": "markdown",
      "metadata": {
        "id": "view-in-github",
        "colab_type": "text"
      },
      "source": [
        "<a href=\"https://colab.research.google.com/github/lcbjrrr/quant/blob/master/Listas_Vetores.ipynb\" target=\"_parent\"><img src=\"https://colab.research.google.com/assets/colab-badge.svg\" alt=\"Open In Colab\"/></a>"
      ]
    },
    {
      "cell_type": "markdown",
      "metadata": {
        "id": "HxEJp-gtQEVE"
      },
      "source": [
        "# Ficha Técnica\n",
        "\n",
        "Disciplina - Programação e Machine Learning.\n",
        "\n",
        "Conteúdo -\n",
        "\n",
        "- Listas ou vetores.\n",
        "\n",
        "- Manipulação de vetores.\n",
        "\n",
        "\n",
        "Autores: \n",
        "\n",
        "- Anderson Borba (anderson.aborba@professores.ibmec.edu.br) e\n",
        "\n",
        "- Luiz Barboza (luiz.cbjunior@professores.ibmec.edu.br).\n",
        "\n",
        "Endereço eletrônico: http://quant-ibmec.group/"
      ]
    },
    {
      "cell_type": "markdown",
      "metadata": {
        "id": "sfLY4SnjOjRk"
      },
      "source": [
        "# Listas ou vetores\n",
        "\n",
        "São variáveis que guardam mais de um valor. Declara-se um vetor, colocando entre colchetes uma sequência de dados separados por vírgula. \n",
        "\n",
        "**vetor = [ x1, x2, …, xn]**\n",
        " \n",
        "Exemplos:\n",
        "\n",
        "Lista vazia\n",
        "\n",
        "x = []\n",
        "\n",
        "Lista de dados de mesmo tipo \n",
        "\n",
        "x = [1, 4, 5, 10, 6, -5, 8, -9]\n",
        "\n",
        "Listas de dados de tipos diferentes. \n",
        "\n",
        "x = [12, “python” ,6.56, 0, “programação”]\n",
        "\n",
        "Listas podem conter outras listas. \n",
        "\n",
        "x = [1, 4, [5, 10, 6], -5, 8, [-9, -7]]\n"
      ]
    },
    {
      "cell_type": "code",
      "execution_count": null,
      "metadata": {
        "id": "pi5oxzCrQEVI",
        "outputId": "0062ea7d-353d-480e-9ffe-6a66465eb7f9"
      },
      "outputs": [
        {
          "name": "stdout",
          "output_type": "stream",
          "text": [
            "[]\n"
          ]
        }
      ],
      "source": [
        "x=[]\n",
        "print(x)"
      ]
    },
    {
      "cell_type": "code",
      "execution_count": null,
      "metadata": {
        "id": "uJwrAvcOQEVJ",
        "outputId": "80d9a303-48c5-469d-b007-5774ccdb9fb8"
      },
      "outputs": [
        {
          "name": "stdout",
          "output_type": "stream",
          "text": [
            "[1, 4, 5, 10, 6, -5, 8, -9]\n"
          ]
        }
      ],
      "source": [
        "x = [1, 4, 5, 10, 6, -5, 8, -9]\n",
        "print(x)"
      ]
    },
    {
      "cell_type": "code",
      "execution_count": null,
      "metadata": {
        "id": "rTg2nyhWQEVK",
        "outputId": "6096d75b-bc6e-43a0-c4e9-629c3932fd2a"
      },
      "outputs": [
        {
          "name": "stdout",
          "output_type": "stream",
          "text": [
            "[12, 'python', 6.56, 0, 'programação']\n"
          ]
        }
      ],
      "source": [
        "x = [12, \"python\" ,6.56, 0, \"programação\"]\n",
        "print(x)"
      ]
    },
    {
      "cell_type": "code",
      "execution_count": null,
      "metadata": {
        "id": "xSpdykx_QEVK",
        "outputId": "d2147cf6-0a0a-4fd2-83f4-56f2b94c9b7a"
      },
      "outputs": [
        {
          "name": "stdout",
          "output_type": "stream",
          "text": [
            "[1, 4, [5, 10, 6], -5, 8, [-9, -7]]\n"
          ]
        }
      ],
      "source": [
        "x = [1, 4, [5, 10, 6], -5, 8, [-9, -7]]\n",
        "print(x)"
      ]
    },
    {
      "cell_type": "code",
      "execution_count": null,
      "metadata": {
        "id": "cw1PlVBYQEVK",
        "outputId": "55f83785-dd98-4932-e7ef-fb773a20b273"
      },
      "outputs": [
        {
          "data": {
            "text/plain": [
              "1"
            ]
          },
          "execution_count": 6,
          "metadata": {},
          "output_type": "execute_result"
        }
      ],
      "source": [
        "x[0]"
      ]
    },
    {
      "cell_type": "code",
      "execution_count": null,
      "metadata": {
        "id": "ScLvoYgjQEVL",
        "outputId": "b843a34b-08cf-4b10-e0d7-078fc5dd21c0"
      },
      "outputs": [
        {
          "data": {
            "text/plain": [
              "4"
            ]
          },
          "execution_count": 7,
          "metadata": {},
          "output_type": "execute_result"
        }
      ],
      "source": [
        "x[1]"
      ]
    },
    {
      "cell_type": "code",
      "execution_count": null,
      "metadata": {
        "id": "ncAfLVmxQEVL",
        "outputId": "64dcba93-6b91-48ff-e327-ce2ddd849d13"
      },
      "outputs": [
        {
          "data": {
            "text/plain": [
              "[5, 10, 6]"
            ]
          },
          "execution_count": 9,
          "metadata": {},
          "output_type": "execute_result"
        }
      ],
      "source": [
        "x[2]"
      ]
    },
    {
      "cell_type": "code",
      "execution_count": null,
      "metadata": {
        "id": "k3RoShmBQEVM",
        "outputId": "2f355cc6-edee-4a48-c2c1-bbed9c9cc074"
      },
      "outputs": [
        {
          "data": {
            "text/plain": [
              "5"
            ]
          },
          "execution_count": 10,
          "metadata": {},
          "output_type": "execute_result"
        }
      ],
      "source": [
        "x[2][0]"
      ]
    },
    {
      "cell_type": "code",
      "execution_count": null,
      "metadata": {
        "id": "ZWHa2xr6QEVM",
        "outputId": "4bea1f17-2943-44d8-9302-db07229426ae"
      },
      "outputs": [
        {
          "data": {
            "text/plain": [
              "10"
            ]
          },
          "execution_count": 11,
          "metadata": {},
          "output_type": "execute_result"
        }
      ],
      "source": [
        "x[2][1]"
      ]
    },
    {
      "cell_type": "code",
      "execution_count": null,
      "metadata": {
        "id": "dJbLFRx9QEVN",
        "outputId": "a25d251f-b6ec-4d4c-e56e-a5fc3f398872"
      },
      "outputs": [
        {
          "data": {
            "text/plain": [
              "6"
            ]
          },
          "execution_count": 12,
          "metadata": {},
          "output_type": "execute_result"
        }
      ],
      "source": [
        "x[2][2]"
      ]
    },
    {
      "cell_type": "code",
      "execution_count": null,
      "metadata": {
        "id": "fdsCgEfPQEVN",
        "outputId": "d5d9bef7-33f1-482a-a572-76323b0fdcd6"
      },
      "outputs": [
        {
          "data": {
            "text/plain": [
              "-5"
            ]
          },
          "execution_count": 13,
          "metadata": {},
          "output_type": "execute_result"
        }
      ],
      "source": [
        "x[3]"
      ]
    },
    {
      "cell_type": "code",
      "execution_count": null,
      "metadata": {
        "id": "kn6WLySSQEVN",
        "outputId": "6899b506-e609-48a8-960f-09daa5708d75"
      },
      "outputs": [
        {
          "data": {
            "text/plain": [
              "8"
            ]
          },
          "execution_count": 14,
          "metadata": {},
          "output_type": "execute_result"
        }
      ],
      "source": [
        "x[4]"
      ]
    },
    {
      "cell_type": "code",
      "execution_count": null,
      "metadata": {
        "id": "m_g_NGHhQEVN",
        "outputId": "60d70b5f-1ddd-4e16-edee-6fceb62b3ede"
      },
      "outputs": [
        {
          "data": {
            "text/plain": [
              "[-9, -7]"
            ]
          },
          "execution_count": 15,
          "metadata": {},
          "output_type": "execute_result"
        }
      ],
      "source": [
        "x[5]"
      ]
    },
    {
      "cell_type": "code",
      "execution_count": null,
      "metadata": {
        "id": "x1fm-4zBQEVO",
        "outputId": "e5ce8f43-6465-45bc-d611-af3b9c32e8c0"
      },
      "outputs": [
        {
          "data": {
            "text/plain": [
              "-9"
            ]
          },
          "execution_count": 16,
          "metadata": {},
          "output_type": "execute_result"
        }
      ],
      "source": [
        "x[5][0]"
      ]
    },
    {
      "cell_type": "code",
      "execution_count": null,
      "metadata": {
        "id": "Msz-p1JcQEVO",
        "outputId": "82cd6c31-9ad4-4a55-b92a-d1b5d68a23da"
      },
      "outputs": [
        {
          "data": {
            "text/plain": [
              "-7"
            ]
          },
          "execution_count": 17,
          "metadata": {},
          "output_type": "execute_result"
        }
      ],
      "source": [
        "x[5][1]"
      ]
    },
    {
      "cell_type": "markdown",
      "metadata": {
        "id": "sYNDV9uwOh61"
      },
      "source": [
        "# Lista / Vetores\n"
      ]
    },
    {
      "cell_type": "code",
      "execution_count": null,
      "metadata": {
        "colab": {
          "base_uri": "https://localhost:8080/",
          "height": 34
        },
        "id": "-xNFX7VVOjyJ",
        "outputId": "e27cdf93-0941-4157-f83c-903b29c90e2d"
      },
      "outputs": [
        {
          "name": "stdout",
          "output_type": "stream",
          "text": [
            "6\n"
          ]
        }
      ],
      "source": [
        "notas = [ 5 , 6 , 2 , 9 , 2, 7 ]\n",
        "print (notas[1])"
      ]
    },
    {
      "cell_type": "markdown",
      "metadata": {
        "id": "g-crbEamO7L9"
      },
      "source": [
        "## Listas/Vetores & Laços/Loops \n"
      ]
    },
    {
      "cell_type": "code",
      "execution_count": null,
      "metadata": {
        "colab": {
          "base_uri": "https://localhost:8080/",
          "height": 123
        },
        "id": "qOWCGLV4O7S2",
        "outputId": "d254016b-240c-44eb-cd48-cf500acb14f9"
      },
      "outputs": [
        {
          "name": "stdout",
          "output_type": "stream",
          "text": [
            "5\n",
            "6\n",
            "2\n",
            "9\n",
            "2\n",
            "7\n"
          ]
        }
      ],
      "source": [
        "for i in range(6):\n",
        "  print(notas[i])"
      ]
    },
    {
      "cell_type": "markdown",
      "metadata": {
        "id": "dXvPA-FwPUyn"
      },
      "source": [
        "O tamanho do vetor (Length) pode ser encontrado com o comando \n",
        "\n",
        "- len()\n",
        "Ex:"
      ]
    },
    {
      "cell_type": "code",
      "execution_count": null,
      "metadata": {
        "id": "w-jRRL25QEVP",
        "outputId": "24ca85ac-3561-473f-c1f3-ebc0e717d7db"
      },
      "outputs": [
        {
          "name": "stdout",
          "output_type": "stream",
          "text": [
            "O tamanho do vetor (lista) é: 6\n"
          ]
        }
      ],
      "source": [
        "n = len(notas)\n",
        "print(\"O tamanho do vetor (lista) é:\", n)"
      ]
    },
    {
      "cell_type": "code",
      "execution_count": null,
      "metadata": {
        "colab": {
          "base_uri": "https://localhost:8080/",
          "height": 123
        },
        "id": "IPCox_A6PU-9",
        "outputId": "5b5cb805-d44f-4518-ecf2-14e9ef67648d"
      },
      "outputs": [
        {
          "name": "stdout",
          "output_type": "stream",
          "text": [
            "O índice do vetor (lista) é: 0 E o seu valor 5\n",
            "O índice do vetor (lista) é: 1 E o seu valor 6\n",
            "O índice do vetor (lista) é: 2 E o seu valor 2\n",
            "O índice do vetor (lista) é: 3 E o seu valor 9\n",
            "O índice do vetor (lista) é: 4 E o seu valor 2\n",
            "O índice do vetor (lista) é: 5 E o seu valor 7\n"
          ]
        }
      ],
      "source": [
        "for i in range(n):\n",
        "  print(\"O índice do vetor (lista) é:\", i, \"E o seu valor\", notas[i])"
      ]
    },
    {
      "cell_type": "markdown",
      "metadata": {
        "id": "YP1mZC6QPXOZ"
      },
      "source": [
        "## Outro formato para a estrutura de repetição FOR\n"
      ]
    },
    {
      "cell_type": "code",
      "execution_count": null,
      "metadata": {
        "colab": {
          "base_uri": "https://localhost:8080/",
          "height": 123
        },
        "id": "HC6wLBZcPkzH",
        "outputId": "bbb159d1-09bb-4bd8-baad-1f25bebea2bb"
      },
      "outputs": [
        {
          "name": "stdout",
          "output_type": "stream",
          "text": [
            "5\n",
            "6\n",
            "2\n",
            "9\n",
            "2\n",
            "7\n"
          ]
        }
      ],
      "source": [
        "for n in notas:\n",
        "  print(n)"
      ]
    },
    {
      "cell_type": "markdown",
      "metadata": {
        "id": "W89VgSvJPwpa"
      },
      "source": [
        "# Outras Operações com listas ou vetores"
      ]
    },
    {
      "cell_type": "markdown",
      "metadata": {
        "id": "AmTvbxFxPxKv"
      },
      "source": [
        "Procurando valores em uma lista usando o comando <elemento> in <lista> \n",
        "\n",
        "**print (\"Tem nota 10 na turma 1:\", 10 in notas_turma1)**\n",
        "\n",
        "Encontrar a frequência de um elemento na lista usando o comando count(). \n",
        "\n",
        "**print (notas_turma1.count(6))**\n",
        "\n",
        "O comando append(e) adiciona um novo elemento no final da lista ou vetor. \n",
        "\n",
        "**notas_turma1.append(2.5)**\n",
        "\n",
        "O comando insert(p,e) adiciona um novo elemento na lista ou vetores em uma posição específica.\n",
        "\n",
        "**notas_turma1.insert(0,5.75)**\n",
        "\n",
        "O comando pop() remove último o elemento da lista ou vetores. \n",
        "\n",
        "**notas_turma1.pop()**\n",
        "\n",
        "O comando remove(e) remove a primeira ocorrência do elemento especificado na lista ou vetores.\n",
        "\n",
        "**notas_turma1.remove(6)**\n",
        "\n",
        "O comando sort() ordena os itens na lista ou vetores em ordem crescente.\n",
        "\n",
        "**notas_turma1.sort()**\n",
        "\n",
        "O comando reverse() inverte as posições dos itens na lista ou vetores.\n",
        "\n",
        "**notas_turma1.reverse()**\n"
      ]
    },
    {
      "cell_type": "markdown",
      "metadata": {
        "id": "qJW7WhQYQdd8"
      },
      "source": [
        "# Exemplos"
      ]
    },
    {
      "cell_type": "markdown",
      "metadata": {
        "id": "ZVL9G1OzQj67"
      },
      "source": [
        "Não esqueça de inicializar a lista!!!!!!\n"
      ]
    },
    {
      "cell_type": "code",
      "execution_count": null,
      "metadata": {
        "colab": {
          "base_uri": "https://localhost:8080/",
          "height": 257
        },
        "id": "GzvfQjD4QdoN",
        "outputId": "89668326-b191-4fe0-8f45-fea2cbef174e"
      },
      "outputs": [
        {
          "name": "stdout",
          "output_type": "stream",
          "text": [
            "Informe o nome do aluno 1: José\n"
          ]
        },
        {
          "ename": "IndexError",
          "evalue": "list assignment index out of range",
          "output_type": "error",
          "traceback": [
            "\u001b[0;31m---------------------------------------------------------------------------\u001b[0m",
            "\u001b[0;31mIndexError\u001b[0m                                Traceback (most recent call last)",
            "\u001b[0;32m<ipython-input-27-552cae8ad488>\u001b[0m in \u001b[0;36m<module>\u001b[0;34m()\u001b[0m\n\u001b[0;32m----> 1\u001b[0;31m \u001b[0malunos\u001b[0m\u001b[0;34m[\u001b[0m\u001b[0;36m0\u001b[0m\u001b[0;34m]\u001b[0m \u001b[0;34m=\u001b[0m \u001b[0mstr\u001b[0m\u001b[0;34m(\u001b[0m\u001b[0minput\u001b[0m\u001b[0;34m(\u001b[0m\u001b[0;34m'Informe o nome do aluno 1: '\u001b[0m\u001b[0;34m)\u001b[0m\u001b[0;34m)\u001b[0m\u001b[0;34m\u001b[0m\u001b[0;34m\u001b[0m\u001b[0m\n\u001b[0m\u001b[1;32m      2\u001b[0m \u001b[0malunos\u001b[0m\u001b[0;34m[\u001b[0m\u001b[0;36m1\u001b[0m\u001b[0;34m]\u001b[0m \u001b[0;34m=\u001b[0m \u001b[0mstr\u001b[0m\u001b[0;34m(\u001b[0m\u001b[0minput\u001b[0m\u001b[0;34m(\u001b[0m\u001b[0;34m'Informe o nome do aluno 2: '\u001b[0m\u001b[0;34m)\u001b[0m\u001b[0;34m)\u001b[0m\u001b[0;34m\u001b[0m\u001b[0;34m\u001b[0m\u001b[0m\n\u001b[1;32m      3\u001b[0m \u001b[0malunos\u001b[0m\u001b[0;34m[\u001b[0m\u001b[0;36m2\u001b[0m\u001b[0;34m]\u001b[0m \u001b[0;34m=\u001b[0m \u001b[0mstr\u001b[0m\u001b[0;34m(\u001b[0m\u001b[0minput\u001b[0m\u001b[0;34m(\u001b[0m\u001b[0;34m'Informe o nome do aluno 3: '\u001b[0m\u001b[0;34m)\u001b[0m\u001b[0;34m)\u001b[0m\u001b[0;34m\u001b[0m\u001b[0;34m\u001b[0m\u001b[0m\n\u001b[1;32m      4\u001b[0m \u001b[0malunos\u001b[0m\u001b[0;34m[\u001b[0m\u001b[0;36m3\u001b[0m\u001b[0;34m]\u001b[0m \u001b[0;34m=\u001b[0m \u001b[0mstr\u001b[0m\u001b[0;34m(\u001b[0m\u001b[0minput\u001b[0m\u001b[0;34m(\u001b[0m\u001b[0;34m'Informe o nome do aluno 4: '\u001b[0m\u001b[0;34m)\u001b[0m\u001b[0;34m)\u001b[0m\u001b[0;34m\u001b[0m\u001b[0;34m\u001b[0m\u001b[0m\n\u001b[1;32m      5\u001b[0m \u001b[0mprint\u001b[0m\u001b[0;34m(\u001b[0m\u001b[0malunoss\u001b[0m\u001b[0;34m)\u001b[0m\u001b[0;34m\u001b[0m\u001b[0;34m\u001b[0m\u001b[0m\n",
            "\u001b[0;31mIndexError\u001b[0m: list assignment index out of range"
          ]
        }
      ],
      "source": [
        "alunos[0] = str(input('Informe o nome do aluno 1: '))\n",
        "alunos[1] = str(input('Informe o nome do aluno 2: '))\n",
        "alunos[2] = str(input('Informe o nome do aluno 3: '))\n",
        "alunos[3] = str(input('Informe o nome do aluno 4: '))\n",
        "print(alunos)"
      ]
    },
    {
      "cell_type": "markdown",
      "metadata": {
        "id": "HjwKmC75QEVR"
      },
      "source": [
        "Corrigindo o problema, maneira 1."
      ]
    },
    {
      "cell_type": "code",
      "execution_count": null,
      "metadata": {
        "id": "r8IKJxqCQEVR",
        "outputId": "215e0a45-3ef9-44fb-b717-2536a28d30d3"
      },
      "outputs": [
        {
          "name": "stdout",
          "output_type": "stream",
          "text": [
            "Informe o nome do aluno 1: José\n",
            "Informe o nome do aluno 2: Luiz\n",
            "Informe o nome do aluno 3: Borba\n",
            "Informe o nome do aluno 4: Paulo\n",
            "['José', 'Luiz', 'Borba', 'Paulo']\n"
          ]
        }
      ],
      "source": [
        "alunos= [\"\",\"\",\"\",\"\"]\n",
        "alunos[0] = str(input('Informe o nome do aluno 1: '))\n",
        "alunos[1] = str(input('Informe o nome do aluno 2: '))\n",
        "alunos[2] = str(input('Informe o nome do aluno 3: '))\n",
        "alunos[3] = str(input('Informe o nome do aluno 4: '))\n",
        "print(alunos)"
      ]
    },
    {
      "cell_type": "markdown",
      "metadata": {
        "id": "BTZleiisQqm7"
      },
      "source": [
        "Corrigindo o problema, maneira 2. Inicializando e usando o operacao **append**()"
      ]
    },
    {
      "cell_type": "code",
      "execution_count": null,
      "metadata": {
        "colab": {
          "base_uri": "https://localhost:8080/",
          "height": 105
        },
        "id": "xOfQtlxSQvc2",
        "outputId": "165f363f-6a57-4fef-e7c3-13f2be7ed337"
      },
      "outputs": [
        {
          "name": "stdout",
          "output_type": "stream",
          "text": [
            "Informe o nome do aluno 1: José\n",
            "Informe o nome do aluno 2: Luiz\n",
            "Informe o nome do aluno 3: Borba\n",
            "Informe o nome do aluno 4: Paulo\n",
            "['José', 'Luiz', 'Borba', 'Paulo']\n"
          ]
        }
      ],
      "source": [
        "alunos=[] #criar a lista\n",
        "alunos.append(str(input('Informe o nome do aluno 1: ')))\n",
        "alunos.append(str(input('Informe o nome do aluno 2: ')))\n",
        "alunos.append(str(input('Informe o nome do aluno 3: ')))\n",
        "alunos.append(str(input('Informe o nome do aluno 4: ')))\n",
        "print(alunos)"
      ]
    },
    {
      "cell_type": "markdown",
      "metadata": {
        "id": "1CleYibpRG9r"
      },
      "source": [
        "Melhorando (e muito)..."
      ]
    },
    {
      "cell_type": "code",
      "execution_count": null,
      "metadata": {
        "colab": {
          "base_uri": "https://localhost:8080/",
          "height": 105
        },
        "id": "PMJc2RedRhsr",
        "outputId": "14ad30e5-c255-4097-f721-bd0f8100b5fe"
      },
      "outputs": [
        {
          "name": "stdout",
          "output_type": "stream",
          "text": [
            "Informe o nome do aluno 1: José\n",
            "Informe o nome do aluno 2: Luiz\n",
            "Informe o nome do aluno 3: Borba\n",
            "Informe o nome do aluno 4: Paulo\n",
            "['José', 'Luiz', 'Borba', 'Paulo']\n"
          ]
        }
      ],
      "source": [
        "alunos=[] \n",
        "for i in range(4):\n",
        "    aluno=str(input('Informe o nome do aluno '+ str(i+1) +': '))\n",
        "    alunos.append(aluno)\n",
        "print(alunos)\n"
      ]
    },
    {
      "cell_type": "markdown",
      "metadata": {
        "id": "FxFCSjrIRopJ"
      },
      "source": [
        "Evoluindo (com while)"
      ]
    },
    {
      "cell_type": "code",
      "execution_count": null,
      "metadata": {
        "colab": {
          "base_uri": "https://localhost:8080/",
          "height": 158
        },
        "id": "GtZUWDIlRowI",
        "outputId": "d4ca568f-9bc6-454b-d48b-b0de3dd8b5dc"
      },
      "outputs": [
        {
          "name": "stdout",
          "output_type": "stream",
          "text": [
            "Informe o nome do aluno 0: José\n",
            "Informe o nome do aluno 1: Luiz\n",
            "Informe o nome do aluno 2: Borba\n",
            "Informe o nome do aluno 3: Paulo\n",
            "Informe o nome do aluno 4: Sergio\n",
            "Informe o nome do aluno 5: Rodrigo\n",
            "Informe o nome do aluno 6: 0\n",
            "Informe o nome do aluno 7: 3\n",
            "Informe o nome do aluno 8: \n",
            "['José', 'Luiz', 'Borba', 'Paulo', 'Sergio', 'Rodrigo', '0', '3']\n"
          ]
        }
      ],
      "source": [
        "alunos=[]\n",
        "i=0\n",
        "aluno=str(input('Informe o nome do aluno '+ str(i) +': '))\n",
        "while (aluno!=''):\n",
        "    i=i+1\n",
        "    alunos.append(aluno)\n",
        "    aluno=str(input('Informe o nome do aluno '+ str(i) +': '))\n",
        "print(alunos)\n",
        "\n"
      ]
    },
    {
      "cell_type": "markdown",
      "metadata": {
        "id": "1nANbGmWR6I2"
      },
      "source": [
        "Registrando notas..."
      ]
    },
    {
      "cell_type": "code",
      "execution_count": null,
      "metadata": {
        "colab": {
          "base_uri": "https://localhost:8080/",
          "height": 194
        },
        "id": "0ebXHDAKR6l6",
        "outputId": "f87a99bd-eb50-4930-dd60-9179ea08d232"
      },
      "outputs": [
        {
          "name": "stdout",
          "output_type": "stream",
          "text": [
            "Informe o nome do aluno 1: Jose\n",
            "Informe o nome do aluno 2: Luiz\n",
            "Informe o nome do aluno 3: Borba\n",
            "Informe o nome do aluno 4: Paulo\n",
            "Informe o nome do aluno 5: \n",
            "Informe a nota do  Jose: 7\n",
            "Informe a nota do  Luiz: 10\n",
            "Informe a nota do  Borba: 10\n",
            "Informe a nota do  Paulo: 10\n",
            "Jose nota= 7.0\n",
            "Luiz nota= 10.0\n",
            "Borba nota= 10.0\n",
            "Paulo nota= 10.0\n"
          ]
        }
      ],
      "source": [
        "alunos=[]; notas=[]\n",
        "aluno = 'xxx'; i=0\n",
        "while (aluno!=''):\n",
        "    i=i+1\n",
        "    aluno=str(input('Informe o nome do aluno '+ str(i) +': '))\n",
        "    alunos.append(aluno)\n",
        "alunos.pop()\n",
        "for i in range (len(alunos)):\n",
        "    nota=float(input('Informe a nota do  '+ alunos[i] +': '))\n",
        "    notas.append(nota)\n",
        "for i in range (len(alunos)):\n",
        "    print (alunos[i], \"nota=\", notas[i])\n"
      ]
    },
    {
      "cell_type": "markdown",
      "metadata": {
        "id": "MOQpp4J-SMB5"
      },
      "source": [
        "Calculando a média e parabenizando\n"
      ]
    },
    {
      "cell_type": "code",
      "execution_count": null,
      "metadata": {
        "colab": {
          "base_uri": "https://localhost:8080/",
          "height": 194
        },
        "id": "rtz129x3SMMY",
        "outputId": "e7a666ca-6571-4eff-d3e3-2e83ff76e8e9"
      },
      "outputs": [
        {
          "name": "stdout",
          "output_type": "stream",
          "text": [
            "Informe o nome do aluno 0: José\n",
            "Informe o nome do aluno 1: Luiz\n",
            "Informe o nome do aluno 2: Borba\n",
            "Informe o nome do aluno 3: Paulo\n",
            "Informe o nome do aluno 4: \n",
            "['José', 'Luiz', 'Borba', 'Paulo']\n",
            "Informe a nota do  José: 5\n",
            "Informe a nota do  Luiz: 8\n",
            "Informe a nota do  Borba: 8\n",
            "Informe a nota do  Paulo: 9\n",
            "José nota= 5.0\n",
            "Luiz nota= 8.0\n",
            "Borba nota= 8.0\n",
            "Paulo nota= 9.0\n",
            "média da turma = 7.5\n",
            "Parabéns Luiz sua nota foi  8.0\n",
            "Parabéns Borba sua nota foi  8.0\n",
            "Parabéns Paulo sua nota foi  9.0\n"
          ]
        }
      ],
      "source": [
        "notas=[]\n",
        "alunos=[]\n",
        "i=0\n",
        "aluno=str(input('Informe o nome do aluno '+ str(i) +': '))\n",
        "while (aluno!=''):\n",
        "    i=i+1\n",
        "    alunos.append(aluno)\n",
        "    aluno=str(input('Informe o nome do aluno '+ str(i) +': '))\n",
        "print(alunos)\n",
        "\n",
        "for i in range (len(alunos)):\n",
        "    nota=float(input('Informe a nota do  '+ alunos[i] +': '))\n",
        "    notas.append(nota)\n",
        "\n",
        "for i in range (len(alunos)):\n",
        "    print (alunos[i], \"nota=\", notas[i])\n",
        "\n",
        "total=len(notas)\n",
        "media = sum(notas)/total\n",
        "print (\"média da turma =\", media)\n",
        "\n",
        "for i in range (len(alunos)):\n",
        "    if notas[i]>=media:\n",
        "       print (\"Parabéns\", alunos[i], \"sua nota foi \", notas[i])\n"
      ]
    },
    {
      "cell_type": "markdown",
      "metadata": {
        "id": "m8lc6qIGQEVT"
      },
      "source": [
        "# Operações com Listas (Vetores)"
      ]
    },
    {
      "cell_type": "markdown",
      "metadata": {
        "id": "X4AX9vVsQEVT"
      },
      "source": [
        "Soma de vetores:"
      ]
    },
    {
      "cell_type": "code",
      "execution_count": null,
      "metadata": {
        "id": "KdletYq8QEVT",
        "outputId": "860eb7f4-ce26-4e77-c597-2d171d0b6c57"
      },
      "outputs": [
        {
          "name": "stdout",
          "output_type": "stream",
          "text": [
            "[1, 1, 1, 1, 1, 1, 1, 1, 1, 1]\n",
            "[3, 3, 3, 3, 3, 3, 3, 3, 3, 3]\n"
          ]
        }
      ],
      "source": [
        "v1 = [1,1,1,1,1,1,1,1,1,1]\n",
        "v2 = [3,3,3,3,3,3,3,3,3,3]\n",
        "print(v1)\n",
        "print(v2)"
      ]
    },
    {
      "cell_type": "markdown",
      "metadata": {
        "id": "mYxyYl3YQEVU"
      },
      "source": [
        "## Concatenando duas listas"
      ]
    },
    {
      "cell_type": "code",
      "execution_count": null,
      "metadata": {
        "id": "N2Z41j1PQEVU",
        "outputId": "ace754b3-e5dd-4610-e4b7-2ac4f3870951"
      },
      "outputs": [
        {
          "name": "stdout",
          "output_type": "stream",
          "text": [
            "[1, 1, 1, 1, 1, 1, 1, 1, 1, 1, 3, 3, 3, 3, 3, 3, 3, 3, 3, 3]\n"
          ]
        }
      ],
      "source": [
        "vc = v1 + v2\n",
        "print(vc)"
      ]
    },
    {
      "cell_type": "code",
      "execution_count": null,
      "metadata": {
        "id": "qScgbW9JQEVU",
        "outputId": "7ab2527f-0870-4ce2-99ab-1d360028966f"
      },
      "outputs": [
        {
          "name": "stdout",
          "output_type": "stream",
          "text": [
            "20\n"
          ]
        }
      ],
      "source": [
        "print(len(vc))"
      ]
    },
    {
      "cell_type": "code",
      "execution_count": null,
      "metadata": {
        "id": "GV1RinUZQEVU",
        "outputId": "a649291d-8bb8-4452-8dfe-a847752929df"
      },
      "outputs": [
        {
          "data": {
            "text/plain": [
              "1"
            ]
          },
          "execution_count": 45,
          "metadata": {},
          "output_type": "execute_result"
        }
      ],
      "source": [
        "vc[0]"
      ]
    },
    {
      "cell_type": "code",
      "execution_count": null,
      "metadata": {
        "id": "0TU8jMvuQEVU",
        "outputId": "ce500719-3eb3-4ea6-b375-d88e1ef1bddb"
      },
      "outputs": [
        {
          "data": {
            "text/plain": [
              "1"
            ]
          },
          "execution_count": 46,
          "metadata": {},
          "output_type": "execute_result"
        }
      ],
      "source": [
        "vc[9]"
      ]
    },
    {
      "cell_type": "code",
      "execution_count": null,
      "metadata": {
        "id": "hFo-3XE_QEVU",
        "outputId": "0b6b41f1-6ae4-48d8-f078-802f0e830b7f"
      },
      "outputs": [
        {
          "data": {
            "text/plain": [
              "3"
            ]
          },
          "execution_count": 48,
          "metadata": {},
          "output_type": "execute_result"
        }
      ],
      "source": [
        "vc[10]"
      ]
    },
    {
      "cell_type": "code",
      "execution_count": null,
      "metadata": {
        "id": "DybI2ySmQEVU",
        "outputId": "859b9030-87e9-43d0-cc12-cf63af38d6a8"
      },
      "outputs": [
        {
          "data": {
            "text/plain": [
              "3"
            ]
          },
          "execution_count": 50,
          "metadata": {},
          "output_type": "execute_result"
        }
      ],
      "source": [
        "vc[19]"
      ]
    },
    {
      "cell_type": "code",
      "execution_count": null,
      "metadata": {
        "id": "F5kwWtJ2QEVV"
      },
      "outputs": [],
      "source": [
        ""
      ]
    },
    {
      "cell_type": "markdown",
      "metadata": {
        "id": "txIbXlttQEVV"
      },
      "source": [
        "## Somando vetores usando o FOR\n"
      ]
    },
    {
      "cell_type": "code",
      "execution_count": null,
      "metadata": {
        "id": "5e-CjPr2QEVV",
        "outputId": "bf2aff7f-6c21-49ae-8382-13c94d621ca0"
      },
      "outputs": [
        {
          "name": "stdout",
          "output_type": "stream",
          "text": [
            "[4, 4, 4, 4, 4, 4, 4, 4, 4, 4]\n"
          ]
        }
      ],
      "source": [
        "n = len(v1)\n",
        "vs = [0,0,0,0,0,0,0,0,0,0]\n",
        "for i in range(n):\n",
        "    vs[i]= v1[i] + v2[1]\n",
        "print(vs)"
      ]
    },
    {
      "cell_type": "markdown",
      "metadata": {
        "id": "wvp66dcJQEVV"
      },
      "source": [
        "## Somando listas (vetores) usando a biblioteca numpy"
      ]
    },
    {
      "cell_type": "code",
      "execution_count": null,
      "metadata": {
        "id": "NwHhWzgwQEVV",
        "outputId": "7be05e93-1c30-4586-caee-80861fb32438"
      },
      "outputs": [
        {
          "name": "stdout",
          "output_type": "stream",
          "text": [
            "[4 4 4 4 4 4 4 4 4 4]\n"
          ]
        }
      ],
      "source": [
        "import numpy as np\n",
        "vsoma = np.add(v1, v2)\n",
        "print(vsoma)"
      ]
    },
    {
      "cell_type": "markdown",
      "metadata": {
        "id": "UXlJ6T7XQEVV"
      },
      "source": [
        "## Particionando listas (vetores)"
      ]
    },
    {
      "cell_type": "code",
      "execution_count": null,
      "metadata": {
        "id": "iu-pFhFJQEVV",
        "outputId": "f4f59c8a-0ac9-4740-e81f-50bdfe0e5591"
      },
      "outputs": [
        {
          "data": {
            "text/plain": [
              "[1, 1, 1, 1, 1]"
            ]
          },
          "execution_count": 54,
          "metadata": {},
          "output_type": "execute_result"
        }
      ],
      "source": [
        "vc[0:5] "
      ]
    },
    {
      "cell_type": "code",
      "execution_count": null,
      "metadata": {
        "id": "r31fawWWQEVV",
        "outputId": "ab7121a1-e4f8-444b-e413-0918594b9933"
      },
      "outputs": [
        {
          "data": {
            "text/plain": [
              "[1, 1, 3, 3]"
            ]
          },
          "execution_count": 55,
          "metadata": {},
          "output_type": "execute_result"
        }
      ],
      "source": [
        "vc[8:12]"
      ]
    },
    {
      "cell_type": "code",
      "execution_count": null,
      "metadata": {
        "id": "7qxiXySiQEVW",
        "outputId": "ce4c97c5-da7c-4941-9f3b-110efe43e6a3"
      },
      "outputs": [
        {
          "data": {
            "text/plain": [
              "[3, 3, 3, 3, 3]"
            ]
          },
          "execution_count": 57,
          "metadata": {},
          "output_type": "execute_result"
        }
      ],
      "source": [
        "vc[15:20]"
      ]
    },
    {
      "cell_type": "code",
      "execution_count": null,
      "metadata": {
        "id": "8S7a_BSnQEVW",
        "outputId": "2b5b51ab-707e-468f-a4f8-034cf17544ce"
      },
      "outputs": [
        {
          "data": {
            "text/plain": [
              "[1, 1, 1, 1, 1, 1, 1, 1, 1, 1, 3, 3, 3, 3, 3, 3, 3, 3, 3, 3]"
            ]
          },
          "execution_count": 59,
          "metadata": {},
          "output_type": "execute_result"
        }
      ],
      "source": [
        "vc"
      ]
    },
    {
      "cell_type": "code",
      "execution_count": null,
      "metadata": {
        "id": "VpP1mPOPQEVW",
        "outputId": "85e7fef4-966d-4aac-dbd3-54e0a3b9de41"
      },
      "outputs": [
        {
          "data": {
            "text/plain": [
              "[1, 1, 1, 1, 3, 3, 3]"
            ]
          },
          "execution_count": 60,
          "metadata": {},
          "output_type": "execute_result"
        }
      ],
      "source": [
        "vc[::3] # Retorno o primeiro da lista a cada 3 elementos"
      ]
    },
    {
      "cell_type": "markdown",
      "metadata": {
        "id": "kWpUAamAQEVW"
      },
      "source": [
        "## Exercícios: Algoritmos de Busca\n",
        "### Exercício 1\n",
        "Algoritmos de busca verificam se uma dada informação ocorre em uma sequência ou não. Por exemplo, dada uma sequência de números guardados em uma lista seq e um número x, escreva uma função que responda à pergunta: x ocorre na sequência?\n",
        "\n",
        "Uma possível solução é percorrer a lista toda variando o índice i de 0 a len(seq)-1 e comparando cada elemento seq[i] com x. Caso o valor seja encontrado a função retorna True e, caso contrário, retorna False. Essa solução é conhecida como Busca Sequencial."
      ]
    },
    {
      "cell_type": "code",
      "execution_count": null,
      "metadata": {
        "id": "49AzX0ZDQEVW"
      },
      "outputs": [],
      "source": [
        "def busca_sequencial( seq, x):\n",
        "    '''(list, float) -> bool'''\n",
        "    for i in range(len(seq)):\n",
        "        if seq[i] == x:\n",
        "            return True\n",
        "    return False"
      ]
    },
    {
      "cell_type": "code",
      "execution_count": null,
      "metadata": {
        "id": "w5t0ivHGQEVW",
        "outputId": "19399040-600e-407e-ca26-0a29244fc84d",
        "colab": {
          "base_uri": "https://localhost:8080/"
        }
      },
      "outputs": [
        {
          "output_type": "execute_result",
          "data": {
            "text/plain": [
              "True"
            ]
          },
          "metadata": {},
          "execution_count": 2
        }
      ],
      "source": [
        "seq = [3, 4, 5, 7, 1, 4, 2, 8, 9]\n",
        "x = 7\n",
        "busca_sequencial(seq, x)"
      ]
    },
    {
      "cell_type": "markdown",
      "metadata": {
        "id": "H-pFDPKfQEVW"
      },
      "source": [
        "### Exercício 2\n",
        "Quando utilizamos o algoritmo de busca sequencial para procurar um elemento de valor x em uma sequência seq, toda a sequência precisa ser varrida quando x não está presente em seq.\n",
        "\n",
        "Para criarmos um algoritmo mais eficiente, vamos assumir que a sequência esteja em ordem alfabética, como em um dicionário. Nesse caso, ao invés de testar um elemento de cada vez sequencialmente, podemos aplicar o seguinte algoritmo:\n",
        "\n",
        "considere o elemento M, no meio da lista.\n",
        "\n",
        "- caso x for igual a M, então a busca termina pois encontramos o valor procurado.\n",
        "- caso M for maior que x, então x deve estar na primeira metade da sequência. A busca deve continuar apenas nessa metade. Mas se o comprimento dessa metade for nulo, a busca deve termina e o valor não foi encontrado.\n",
        "- caso M for menor que x, então x deve estar na segunda metade da sequência. A busca deve continuar apenas nessa metade. mas se o comprimento dessa metade for nulo, então a busca termina e o valor não foi encontrado.\n",
        "\n",
        "Esse algoritmo é conhecido como Busca Binária pois a cada iteração metade da sequência é eliminada da busca. Dessa forma, usando o algoritmo de busca sequencial em uma sequência com 1024 elementos, todos os 1024 elementos devem ser testados antes do algoritmo indicar que o elemento não está na lista. No caso da busca binária, o primeiro teste elimina 512 elementos, o segundo 256, o terceiro 128, e depois 64, 32, 16, 8, 4, 2, até que a lista contenha apenas 1 elemento. Dessa forma, ao invés de 1024, apenas 10 elementos (ou log(len(seq))) precisam ser testados.\n",
        "obs: Exercício encontrado em: https://panda.ime.usp.br/aulasPython/static/aulasPython/aula23.html"
      ]
    },
    {
      "cell_type": "code",
      "execution_count": null,
      "metadata": {
        "id": "4DpX3x8UQEVX",
        "outputId": "b3bc2c8a-e3a6-43c3-b6e0-e320617ad0ca",
        "colab": {
          "base_uri": "https://localhost:8080/",
          "height": 131
        }
      },
      "outputs": [
        {
          "output_type": "error",
          "ename": "IndentationError",
          "evalue": "ignored",
          "traceback": [
            "\u001b[0;36m  File \u001b[0;32m\"<ipython-input-4-01fc391e9c36>\"\u001b[0;36m, line \u001b[0;32m7\u001b[0m\n\u001b[0;31m    return encontrado\u001b[0m\n\u001b[0m    ^\u001b[0m\n\u001b[0;31mIndentationError\u001b[0m\u001b[0;31m:\u001b[0m unexpected indent\n"
          ]
        }
      ],
      "source": [
        "def busca_binaria(seq, x):\n",
        "   ''' (list, float) -> bool\n",
        "        retorna a posicao em que x ocorre na lista ordenada,\n",
        "        ou None caso contrario, usando o algoritmo de busca binaria.\n",
        "        '''\n",
        "    # escreva a sua funcao\n",
        "    return encontrado\n",
        "\n",
        "\n",
        "# escreva alguns testes da funcao busca_binaria\n",
        "seq = [4, 10, 80, 90, 91, 99, 100, 101]\n",
        "testes = [80, 50]\n",
        "\n",
        "for t in testes:\n",
        "    pos = busca_binaria(seq, t)\n",
        "    if pos is False:\n",
        "        print(\"Nao achei \", t)\n",
        "    else:\n",
        "        print(\"Achei \", t)\n"
      ]
    },
    {
      "cell_type": "markdown",
      "metadata": {
        "id": "_aB0-QfRQEVX"
      },
      "source": [
        "### Solução do exercício 2"
      ]
    },
    {
      "cell_type": "code",
      "execution_count": null,
      "metadata": {
        "id": "GNplButrQEVX"
      },
      "outputs": [],
      "source": [
        "def busca_binaria(seq, x):\n",
        "    ''' (list, float) -> bool\n",
        "        retorna a posicao em que x ocorre na lista ordenada,\n",
        "        ou None caso contrario, usando o algoritmo de busca binaria.\n",
        "    '''\n",
        "    pri = 0\n",
        "    ult = len(seq) - 1\n",
        "    encontrado = False\n",
        "    while pri <= ult and not encontrado:\n",
        "        pontomedio = int((pri + ult) / 2)\n",
        "        if seq[pontomedio] == x:\n",
        "            encontrado = True\n",
        "        else:\n",
        "            if x < seq[pontomedio]:\n",
        "                ult = pontomedio - 1\n",
        "            else:\n",
        "                pri = pontomedio + 1\n",
        "    return encontrado"
      ]
    },
    {
      "cell_type": "code",
      "execution_count": null,
      "metadata": {
        "id": "OAS1CIaYQEVX",
        "outputId": "c1667448-50d6-46de-8fa1-9e8c99eb5920",
        "colab": {
          "base_uri": "https://localhost:8080/"
        }
      },
      "outputs": [
        {
          "output_type": "stream",
          "name": "stdout",
          "text": [
            "Achei  80\n",
            "Nao achei  50\n",
            "Achei  91\n",
            "Nao achei  93\n"
          ]
        }
      ],
      "source": [
        "# Escreva alguns testes da funcao busca_binaria\n",
        "seq = [4, 10, 80, 90, 91, 99, 100, 101]\n",
        "testes = [80, 50, 91, 93]\n",
        "\n",
        "for t in testes:\n",
        "    pos = busca_binaria(seq, t)\n",
        "    if pos is False:\n",
        "        print(\"Nao achei \", t)\n",
        "    else:\n",
        "        print(\"Achei \", t)"
      ]
    },
    {
      "cell_type": "markdown",
      "metadata": {
        "id": "ClCMU5thQEVX"
      },
      "source": [
        "Referências:\n",
        "- https://panda.ime.usp.br/aulasPython/static/aulasPython/aula23.html\n",
        "- Paulo Feofiloff - Algoritmos em linguagem C - Editora Campus - Elsevier"
      ]
    }
  ],
  "metadata": {
    "colab": {
      "name": "Listas_Vetores.ipynb",
      "provenance": [],
      "include_colab_link": true
    },
    "kernelspec": {
      "display_name": "Python 3",
      "language": "python",
      "name": "python3"
    },
    "language_info": {
      "codemirror_mode": {
        "name": "ipython",
        "version": 3
      },
      "file_extension": ".py",
      "mimetype": "text/x-python",
      "name": "python",
      "nbconvert_exporter": "python",
      "pygments_lexer": "ipython3",
      "version": "3.7.3"
    }
  },
  "nbformat": 4,
  "nbformat_minor": 0
}