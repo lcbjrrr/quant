{
  "nbformat": 4,
  "nbformat_minor": 0,
  "metadata": {
    "colab": {
      "name": "Listas / Vetores.ipynb",
      "provenance": [],
      "authorship_tag": "ABX9TyOlafogKF41c4s4ZpWk+H+B",
      "include_colab_link": true
    },
    "kernelspec": {
      "name": "python3",
      "display_name": "Python 3"
    }
  },
  "cells": [
    {
      "cell_type": "markdown",
      "metadata": {
        "id": "view-in-github",
        "colab_type": "text"
      },
      "source": [
        "<a href=\"https://colab.research.google.com/github/lcbjrrr/quant/blob/master/Listas_Vetores.ipynb\" target=\"_parent\"><img src=\"https://colab.research.google.com/assets/colab-badge.svg\" alt=\"Open In Colab\"/></a>"
      ]
    },
    {
      "cell_type": "markdown",
      "metadata": {
        "id": "sYNDV9uwOh61",
        "colab_type": "text"
      },
      "source": [
        "#Lista / Vetores\n"
      ]
    },
    {
      "cell_type": "markdown",
      "metadata": {
        "id": "sfLY4SnjOjRk",
        "colab_type": "text"
      },
      "source": [
        "São variáveis que guardam mais de um valor. Declara-se um vetor, colocando entre colchetes uma sequência de dados separados por vírgula. \n",
        "\n",
        "**vetor = [ x1, x2, …, xn]**\n",
        " \n",
        "Exemplos:\n",
        "\n",
        "Lista vazia\n",
        "\n",
        "x = []\n",
        "\n",
        "Lista de dados de mesmo tipo \n",
        "\n",
        "x = [1, 4, 5, 10, 6, -5, 8, -9]\n",
        "\n",
        "Listas de dados de tipos diferentes. \n",
        "\n",
        "x = [12, “python” ,6.56, 0, “programação”]\n",
        "\n",
        "Listas podem conter outras listas. \n",
        "\n",
        "x = [1, 4, [5, 10, 6], -5, 8, [-9, -7]]\n"
      ]
    },
    {
      "cell_type": "code",
      "metadata": {
        "id": "-xNFX7VVOjyJ",
        "colab_type": "code",
        "colab": {
          "base_uri": "https://localhost:8080/",
          "height": 34
        },
        "outputId": "e27cdf93-0941-4157-f83c-903b29c90e2d"
      },
      "source": [
        "notas = [ 5 , 6 , 2 , 9 , 2, 7 ]\n",
        "print (notas[1])"
      ],
      "execution_count": null,
      "outputs": [
        {
          "output_type": "stream",
          "text": [
            "6\n"
          ],
          "name": "stdout"
        }
      ]
    },
    {
      "cell_type": "markdown",
      "metadata": {
        "id": "g-crbEamO7L9",
        "colab_type": "text"
      },
      "source": [
        "Listas/Vetores & Laços/Loops \n"
      ]
    },
    {
      "cell_type": "code",
      "metadata": {
        "id": "qOWCGLV4O7S2",
        "colab_type": "code",
        "colab": {
          "base_uri": "https://localhost:8080/",
          "height": 123
        },
        "outputId": "d254016b-240c-44eb-cd48-cf500acb14f9"
      },
      "source": [
        "for i in range(6):\n",
        "  print(notas[i])"
      ],
      "execution_count": null,
      "outputs": [
        {
          "output_type": "stream",
          "text": [
            "5\n",
            "6\n",
            "2\n",
            "9\n",
            "2\n",
            "7\n"
          ],
          "name": "stdout"
        }
      ]
    },
    {
      "cell_type": "markdown",
      "metadata": {
        "id": "dXvPA-FwPUyn",
        "colab_type": "text"
      },
      "source": [
        "Length - len() "
      ]
    },
    {
      "cell_type": "code",
      "metadata": {
        "id": "IPCox_A6PU-9",
        "colab_type": "code",
        "colab": {
          "base_uri": "https://localhost:8080/",
          "height": 123
        },
        "outputId": "5b5cb805-d44f-4518-ecf2-14e9ef67648d"
      },
      "source": [
        "for i in range(len(notas)):\n",
        "  print(notas[i])"
      ],
      "execution_count": null,
      "outputs": [
        {
          "output_type": "stream",
          "text": [
            "5\n",
            "6\n",
            "2\n",
            "9\n",
            "2\n",
            "7\n"
          ],
          "name": "stdout"
        }
      ]
    },
    {
      "cell_type": "markdown",
      "metadata": {
        "id": "YP1mZC6QPXOZ",
        "colab_type": "text"
      },
      "source": [
        "#Outro formato de FOR\n"
      ]
    },
    {
      "cell_type": "code",
      "metadata": {
        "id": "HC6wLBZcPkzH",
        "colab_type": "code",
        "colab": {
          "base_uri": "https://localhost:8080/",
          "height": 123
        },
        "outputId": "bbb159d1-09bb-4bd8-baad-1f25bebea2bb"
      },
      "source": [
        "for n in notas:\n",
        "  print(n)"
      ],
      "execution_count": null,
      "outputs": [
        {
          "output_type": "stream",
          "text": [
            "5\n",
            "6\n",
            "2\n",
            "9\n",
            "2\n",
            "7\n"
          ],
          "name": "stdout"
        }
      ]
    },
    {
      "cell_type": "markdown",
      "metadata": {
        "id": "W89VgSvJPwpa",
        "colab_type": "text"
      },
      "source": [
        "#Outras Operacoes"
      ]
    },
    {
      "cell_type": "markdown",
      "metadata": {
        "id": "AmTvbxFxPxKv",
        "colab_type": "text"
      },
      "source": [
        "Procurando valores em uma lista <elemento> in <lista> \n",
        "\n",
        "**print (\"Tem nota 10 na turma 1:\", 10 in notas_turma1)**\n",
        "\n",
        "Frequência de um elemento na lista, count() \n",
        "\n",
        "**print (notas_turma1.count(6))**\n",
        "\n",
        "append(e): adicionar um novo elemento no final \n",
        "\n",
        "**notas_turma1.append(2.5)**\n",
        "\n",
        "insert(p,e): adicionar um novo elemento em uma posição específica\n",
        "\n",
        "**notas_turma1.insert(0,5.75)**\n",
        "\n",
        "pop(): remove último o elemento da lista \n",
        "\n",
        "**notas_turma1.pop()**\n",
        "\n",
        "remove(e): remove a primeira ocorrência do elemento\n",
        "\n",
        "**notas_turma1.remove(6)**\n",
        "\n",
        "sort(): ordena os itens na lista, ordem crescente\n",
        "\n",
        "**notas_turma1.sort()**\n",
        "\n",
        "reverse(): inverte as posições dos itens na lista\n",
        "\n",
        "**notas_turma1.reverse()**\n"
      ]
    },
    {
      "cell_type": "markdown",
      "metadata": {
        "id": "qJW7WhQYQdd8",
        "colab_type": "text"
      },
      "source": [
        "#Exemplos"
      ]
    },
    {
      "cell_type": "markdown",
      "metadata": {
        "id": "ZVL9G1OzQj67",
        "colab_type": "text"
      },
      "source": [
        "Nao esqueca de inicializar a lista"
      ]
    },
    {
      "cell_type": "code",
      "metadata": {
        "id": "GzvfQjD4QdoN",
        "colab_type": "code",
        "colab": {
          "base_uri": "https://localhost:8080/",
          "height": 257
        },
        "outputId": "89668326-b191-4fe0-8f45-fea2cbef174e"
      },
      "source": [
        "alunoss[0] = str(input('Informe o nome do aluno 1: '))\n",
        "alunoss[1] = str(input('Informe o nome do aluno 2: '))\n",
        "alunoss[2] = str(input('Informe o nome do aluno 3: '))\n",
        "alunoss[3] = str(input('Informe o nome do aluno 4: '))\n",
        "print(alunoss)"
      ],
      "execution_count": null,
      "outputs": [
        {
          "output_type": "stream",
          "text": [
            "Informe o nome do aluno 1: ze\n"
          ],
          "name": "stdout"
        },
        {
          "output_type": "error",
          "ename": "NameError",
          "evalue": "ignored",
          "traceback": [
            "\u001b[0;31m---------------------------------------------------------------------------\u001b[0m",
            "\u001b[0;31mNameError\u001b[0m                                 Traceback (most recent call last)",
            "\u001b[0;32m<ipython-input-5-56f03dd5eb53>\u001b[0m in \u001b[0;36m<module>\u001b[0;34m()\u001b[0m\n\u001b[0;32m----> 1\u001b[0;31m \u001b[0malunoss\u001b[0m\u001b[0;34m[\u001b[0m\u001b[0;36m0\u001b[0m\u001b[0;34m]\u001b[0m \u001b[0;34m=\u001b[0m \u001b[0mstr\u001b[0m\u001b[0;34m(\u001b[0m\u001b[0minput\u001b[0m\u001b[0;34m(\u001b[0m\u001b[0;34m'Informe o nome do aluno 1: '\u001b[0m\u001b[0;34m)\u001b[0m\u001b[0;34m)\u001b[0m\u001b[0;34m\u001b[0m\u001b[0;34m\u001b[0m\u001b[0m\n\u001b[0m\u001b[1;32m      2\u001b[0m \u001b[0malunoss\u001b[0m\u001b[0;34m[\u001b[0m\u001b[0;36m1\u001b[0m\u001b[0;34m]\u001b[0m \u001b[0;34m=\u001b[0m \u001b[0mstr\u001b[0m\u001b[0;34m(\u001b[0m\u001b[0minput\u001b[0m\u001b[0;34m(\u001b[0m\u001b[0;34m'Informe o nome do aluno 2: '\u001b[0m\u001b[0;34m)\u001b[0m\u001b[0;34m)\u001b[0m\u001b[0;34m\u001b[0m\u001b[0;34m\u001b[0m\u001b[0m\n\u001b[1;32m      3\u001b[0m \u001b[0malunoss\u001b[0m\u001b[0;34m[\u001b[0m\u001b[0;36m2\u001b[0m\u001b[0;34m]\u001b[0m \u001b[0;34m=\u001b[0m \u001b[0mstr\u001b[0m\u001b[0;34m(\u001b[0m\u001b[0minput\u001b[0m\u001b[0;34m(\u001b[0m\u001b[0;34m'Informe o nome do aluno 3: '\u001b[0m\u001b[0;34m)\u001b[0m\u001b[0;34m)\u001b[0m\u001b[0;34m\u001b[0m\u001b[0;34m\u001b[0m\u001b[0m\n\u001b[1;32m      4\u001b[0m \u001b[0malunoss\u001b[0m\u001b[0;34m[\u001b[0m\u001b[0;36m3\u001b[0m\u001b[0;34m]\u001b[0m \u001b[0;34m=\u001b[0m \u001b[0mstr\u001b[0m\u001b[0;34m(\u001b[0m\u001b[0minput\u001b[0m\u001b[0;34m(\u001b[0m\u001b[0;34m'Informe o nome do aluno 4: '\u001b[0m\u001b[0;34m)\u001b[0m\u001b[0;34m)\u001b[0m\u001b[0;34m\u001b[0m\u001b[0;34m\u001b[0m\u001b[0m\n\u001b[1;32m      5\u001b[0m \u001b[0mprint\u001b[0m\u001b[0;34m(\u001b[0m\u001b[0malunoss\u001b[0m\u001b[0;34m)\u001b[0m\u001b[0;34m\u001b[0m\u001b[0;34m\u001b[0m\u001b[0m\n",
            "\u001b[0;31mNameError\u001b[0m: name 'alunoss' is not defined"
          ]
        }
      ]
    },
    {
      "cell_type": "markdown",
      "metadata": {
        "id": "BTZleiisQqm7",
        "colab_type": "text"
      },
      "source": [
        "Inicializando e usando o operacao **append**()"
      ]
    },
    {
      "cell_type": "code",
      "metadata": {
        "id": "xOfQtlxSQvc2",
        "colab_type": "code",
        "colab": {
          "base_uri": "https://localhost:8080/",
          "height": 105
        },
        "outputId": "165f363f-6a57-4fef-e7c3-13f2be7ed337"
      },
      "source": [
        "alunos=[] #criar a lista\n",
        "alunos.append(str(input('Informe o nome do aluno 1: ')))\n",
        "alunos.append(str(input('Informe o nome do aluno 2: ')))\n",
        "alunos.append(str(input('Informe o nome do aluno 3: ')))\n",
        "alunos.append(str(input('Informe o nome do aluno 4: ')))\n",
        "print(alunos)"
      ],
      "execution_count": null,
      "outputs": [
        {
          "output_type": "stream",
          "text": [
            "Informe o nome do aluno 1: ze\n",
            "Informe o nome do aluno 2: mane\n",
            "Informe o nome do aluno 3: joao\n",
            "Informe o nome do aluno 4: maria\n",
            "['ze', 'mane', 'joao', 'maria']\n"
          ],
          "name": "stdout"
        }
      ]
    },
    {
      "cell_type": "markdown",
      "metadata": {
        "id": "1CleYibpRG9r",
        "colab_type": "text"
      },
      "source": [
        "Melhorando..."
      ]
    },
    {
      "cell_type": "code",
      "metadata": {
        "id": "PMJc2RedRhsr",
        "colab_type": "code",
        "colab": {
          "base_uri": "https://localhost:8080/",
          "height": 105
        },
        "outputId": "14ad30e5-c255-4097-f721-bd0f8100b5fe"
      },
      "source": [
        "alunos=[] \n",
        "for i in range(4):\n",
        "    aluno=str(input('Informe o nome do aluno '+ str(i+1) +': '))\n",
        "    alunos.append(aluno)\n",
        "print(alunos)\n"
      ],
      "execution_count": null,
      "outputs": [
        {
          "output_type": "stream",
          "text": [
            "Informe o nome do aluno 1: ze\n",
            "Informe o nome do aluno 2: mane\n",
            "Informe o nome do aluno 3: jooa\n",
            "Informe o nome do aluno 4: maria\n",
            "['ze', 'mane', 'jooa', 'maria']\n"
          ],
          "name": "stdout"
        }
      ]
    },
    {
      "cell_type": "markdown",
      "metadata": {
        "id": "FxFCSjrIRopJ",
        "colab_type": "text"
      },
      "source": [
        "Evoluindo (com while)"
      ]
    },
    {
      "cell_type": "code",
      "metadata": {
        "id": "GtZUWDIlRowI",
        "colab_type": "code",
        "colab": {
          "base_uri": "https://localhost:8080/",
          "height": 158
        },
        "outputId": "d4ca568f-9bc6-454b-d48b-b0de3dd8b5dc"
      },
      "source": [
        "alunos=[]\n",
        "i=0\n",
        "aluno=str(input('Informe o nome do aluno '+ str(i) +': '))\n",
        "while (aluno!=''):\n",
        "    i=i+1\n",
        "    alunos.append(aluno)\n",
        "    aluno=str(input('Informe o nome do aluno '+ str(i) +': '))\n",
        "print(alunos)\n",
        "\n"
      ],
      "execution_count": null,
      "outputs": [
        {
          "output_type": "stream",
          "text": [
            "Informe o nome do aluno 0: ze\n",
            "Informe o nome do aluno 1: mane \n",
            "Informe o nome do aluno 2: joao\n",
            "Informe o nome do aluno 3: maria\n",
            "Informe o nome do aluno 4: tio\n",
            "Informe o nome do aluno 5: 0\n",
            "Informe o nome do aluno 6: \n",
            "['ze', 'mane ', 'joao', 'maria', 'tio', '0']\n"
          ],
          "name": "stdout"
        }
      ]
    },
    {
      "cell_type": "markdown",
      "metadata": {
        "id": "1nANbGmWR6I2",
        "colab_type": "text"
      },
      "source": [
        "Registrando notas..."
      ]
    },
    {
      "cell_type": "code",
      "metadata": {
        "id": "0ebXHDAKR6l6",
        "colab_type": "code",
        "colab": {
          "base_uri": "https://localhost:8080/",
          "height": 194
        },
        "outputId": "f87a99bd-eb50-4930-dd60-9179ea08d232"
      },
      "source": [
        "alunos=[]; notas=[]\n",
        "aluno = 'xxx'; i=0\n",
        "while (aluno!=''):\n",
        "    i=i+1\n",
        "    aluno=str(input('Informe o nome do aluno '+ str(i) +': '))\n",
        "    alunos.append(aluno)\n",
        "alunos.pop()\n",
        "for i in range (len(alunos)):\n",
        "    nota=float(input('Informe a nota do  '+ alunos[i] +': '))\n",
        "    notas.append(nota)\n",
        "for i in range (len(alunos)):\n",
        "    print (alunos[i], \"nota=\", notas[i])\n"
      ],
      "execution_count": null,
      "outputs": [
        {
          "output_type": "stream",
          "text": [
            "Informe o nome do aluno 1: joao\n",
            "Informe o nome do aluno 2: mane\n",
            "Informe o nome do aluno 3: maria\n",
            "Informe o nome do aluno 4: \n",
            "Informe a nota do  joao: 4\n",
            "Informe a nota do  mane: 5\n",
            "Informe a nota do  maria: 6\n",
            "joao nota= 4.0\n",
            "mane nota= 5.0\n",
            "maria nota= 6.0\n"
          ],
          "name": "stdout"
        }
      ]
    },
    {
      "cell_type": "markdown",
      "metadata": {
        "id": "MOQpp4J-SMB5",
        "colab_type": "text"
      },
      "source": [
        "Calculando a média e parabenizando\n"
      ]
    },
    {
      "cell_type": "code",
      "metadata": {
        "id": "rtz129x3SMMY",
        "colab_type": "code",
        "colab": {
          "base_uri": "https://localhost:8080/",
          "height": 194
        },
        "outputId": "e7a666ca-6571-4eff-d3e3-2e83ff76e8e9"
      },
      "source": [
        "notas=[]\n",
        "alunos=[]\n",
        "i=0\n",
        "aluno=str(input('Informe o nome do aluno '+ str(i) +': '))\n",
        "while (aluno!=''):\n",
        "    i=i+1\n",
        "    alunos.append(aluno)\n",
        "    aluno=str(input('Informe o nome do aluno '+ str(i) +': '))\n",
        "print(alunos)\n",
        "\n",
        "for i in range (len(alunos)):\n",
        "    nota=float(input('Informe a nota do  '+ alunos[i] +': '))\n",
        "    notas.append(nota)\n",
        "\n",
        "for i in range (len(alunos)):\n",
        "    print (alunos[i], \"nota=\", notas[i])\n",
        "\n",
        "total=len(notas)\n",
        "media = sum(notas)/total\n",
        "print (\"média da turma =\", media)\n",
        "\n",
        "for i in range (len(alunos)):\n",
        "    if notas[i]>=media:\n",
        "       print (\"Parabéns\", alunos[i], \"sua nota foi \", notas[i])\n"
      ],
      "execution_count": null,
      "outputs": [
        {
          "output_type": "stream",
          "text": [
            "Informe o nome do aluno 0: joao\n",
            "Informe o nome do aluno 1: maria\n",
            "Informe o nome do aluno 2: \n",
            "['joao', 'maria']\n",
            "Informe a nota do  joao: 7\n",
            "Informe a nota do  maria: 6\n",
            "joao nota= 7.0\n",
            "maria nota= 6.0\n",
            "média da turma = 6.5\n",
            "Parabéns joao sua nota foi  7.0\n"
          ],
          "name": "stdout"
        }
      ]
    }
  ]
}