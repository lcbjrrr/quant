{
  "nbformat": 4,
  "nbformat_minor": 0,
  "metadata": {
    "colab": {
      "name": "Aula - Inflação cartesiano tempo.ipynb",
      "provenance": [],
      "collapsed_sections": [
        "8KxnjxBeEwNk"
      ],
      "include_colab_link": true
    },
    "kernelspec": {
      "display_name": "Python 3",
      "language": "python",
      "name": "python3"
    },
    "language_info": {
      "codemirror_mode": {
        "name": "ipython",
        "version": 3
      },
      "file_extension": ".py",
      "mimetype": "text/x-python",
      "name": "python",
      "nbconvert_exporter": "python",
      "pygments_lexer": "ipython3",
      "version": "3.7.4"
    }
  },
  "cells": [
    {
      "cell_type": "markdown",
      "metadata": {
        "id": "view-in-github",
        "colab_type": "text"
      },
      "source": [
        "<a href=\"https://colab.research.google.com/github/lcbjrrr/quant/blob/master/Aula_Infla%C3%A7%C3%A3o_cartesiano_tempo.ipynb\" target=\"_parent\"><img src=\"https://colab.research.google.com/assets/colab-badge.svg\" alt=\"Open In Colab\"/></a>"
      ]
    },
    {
      "cell_type": "markdown",
      "metadata": {
        "id": "BVzL9Q-e6mP_",
        "colab_type": "text"
      },
      "source": [
        "# Ficha Técnica\n",
        "\n",
        "Disciplina - Otimização e processos dinâmicos.\n",
        "\n",
        "Conteúdo - Processos iterativos.\n",
        "\n",
        "Aplicação - Inflação - Regra monetária- MR - Linguagem de programação (Python).\n",
        "\n",
        "Autores: Anderson Borba e Luiz Barboza."
      ]
    },
    {
      "cell_type": "markdown",
      "metadata": {
        "colab_type": "text",
        "id": "8KxnjxBeEwNk"
      },
      "source": [
        "# Modelo de três equações\n",
        "**1- Função perda do banco central**\n",
        "\\begin{equation}\n",
        "\\begin{aligned}\n",
        "L(\\pi, y) &= (y_t-y_e)^2+\\beta(\\pi_t-\\pi^T)^2\n",
        "\\end{aligned}\\tag{Eq. de perda do banco central}\n",
        "\\end{equation}\n",
        "**2- Curva de Philips**\n",
        "\\begin{equation}\n",
        "\\begin{aligned}\n",
        "\\pi_{t}&=\\pi_{t-1}+\\alpha\\left(y_{t}-y_{e}\\right)\n",
        "\\end{aligned}\\tag{Curva de Phillips - PC}\n",
        "\\end{equation}\n",
        "**3- Regra monetária**\n",
        "\\begin{equation}\n",
        "\\begin{aligned}\n",
        "y_{t}-y_e&=-\\alpha\\beta(\\pi_{t}-\\pi^T)\n",
        "\\end{aligned}\\tag{Regra monetária - MR}\n",
        "\\end{equation}\n",
        "**4- Curva IS**\n",
        "\\begin{equation}\n",
        "\\begin{aligned}\n",
        "y_t &=k\\left(c_{0}+a_{0}+G\\right)-k a_{1} r_{t-1} \\\\\n",
        "y_t&=A-ar_{t-1}\n",
        "\\end{aligned}\\tag{Curva IS}\n",
        "\\end{equation}\n",
        "definindo $A=k\\left(c_{0}+a_{0}+G\\right)$ e $a=k a_{1}r$. \n"
      ]
    },
    {
      "cell_type": "markdown",
      "metadata": {
        "colab_type": "text",
        "id": "vXBYvkKIHsx2"
      },
      "source": [
        "# Definição das variáveis e parâmetros\n",
        "\n",
        "1) $\\pi_t$ - inflação efetiva no período t,\n",
        "\n",
        "2) $\\pi^T$ - meta de inflação\n",
        "\n",
        "3) $\\beta$ - Preferência do banco central, determina o formato da funão perda.\n",
        "\n",
        "4) $\\alpha$ - Inclinação da curva de Phillips (PC), modificar a regra monetária (MR).\n",
        "\n",
        "5) $a$ - Mostra a sensibilidade dos juros a demanda agregada. \n",
        "\n",
        "6) $y_t$ - produto no período t.\n",
        "\n",
        "6) $y_e$ - Nível de equlíbrio do produto, modifica a regra monetária - produto potencial.\n",
        "\n",
        "7) $r_s$ - Taxa de juros real estável."
      ]
    },
    {
      "cell_type": "markdown",
      "metadata": {
        "id": "2kfG7pUTAJXY",
        "colab_type": "text"
      },
      "source": [
        "Considerando que o produto estimado será alcançado se $y_e=A-ar_s$, podemos definir um segunda versão para a curva IS.\n",
        "\n",
        "\\begin{equation}\n",
        "\\begin{aligned}\n",
        "y_t-ye &=A-ar_{t-1}-(A-ar_s) \\\\\n",
        "y_t-ye&=-a(r_{t-1}-r_s)\n",
        "\\end{aligned}\\tag{Curva IS em função dos desvios}\n",
        "\\end{equation}\n"
      ]
    },
    {
      "cell_type": "markdown",
      "metadata": {
        "colab_type": "text",
        "id": "DQIPq9anWPL7"
      },
      "source": [
        "# A regra de Taylor.\n",
        "\n",
        "Partindo da regra monetária - MR no tempo corrente, \n",
        "\\begin{equation}\n",
        "\\begin{aligned}\n",
        "y_t-y_e&=-\\alpha\\beta(\\pi_t-\\pi^T),\n",
        "\\end{aligned}\n",
        "\\end{equation}\n",
        "e substituindo a curva de Phillips, teremos\n",
        "\\begin{equation}\n",
        "\\begin{aligned}\n",
        "y_t-y_e&=-\\alpha\\beta(\\pi_{t-1}+\\alpha\\left(y_t-y_{e}\\right)-\\pi^T),\\\\\n",
        "\\frac{y_t-y_e}{-\\alpha\\beta}&=\\pi_{t-1}+\\alpha\\left(y_t-y_{e}\\right)-\\pi^T,\\\\\n",
        "\\frac{y_t-y_e}{-\\alpha\\beta}-\\alpha\\left(y_t-y_{e}\\right)&=\\pi_{t-1}-\\pi^T,\\\\\n",
        "\\end{aligned}\n",
        "\\end{equation}\n",
        "logo \n",
        "\\begin{equation}\n",
        "\\begin{aligned}\n",
        "-\\left(\\alpha+\\frac{1}{\\alpha\\beta}\\right)(y_t-y_{e})&=\\pi_{t-1}-\\pi^T,\\\\\n",
        "(y_t-y_{e})&=\\frac{1}{-\\left(\\alpha+\\frac{1}{\\alpha\\beta}\\right)}(\\pi_{t-1}-\\pi^T),\\\\\n",
        "\\end{aligned}\n",
        "\\end{equation}\n",
        "usando agora a equação da curva IS em função dos desvios  \n",
        "\\begin{equation}\n",
        "\\begin{aligned}\n",
        "y_t - y_e&=-a (r_{t-1}-r_s),\\\\\n",
        "\\frac{1}{-\\left(\\alpha+\\frac{1}{\\alpha\\beta}\\right)}(\\pi_{t-1}-\\pi^T)&=-a (r_{t-1}-r_s),\\\\\n",
        "\\end{aligned}\\tag{Curva IS}\n",
        "\\end{equation}\n",
        "portanto,\n",
        "\\begin{equation}\n",
        "\\begin{aligned}\n",
        "r_{t-1}-r_s&=\\frac{1}{a\\left(\\alpha+\\frac{1}{\\alpha\\beta}\\right)}(\\pi_{t-1}-\\pi^T).\\\\\n",
        "\\end{aligned}\\tag{Regra de Taylor}\n",
        "\\end{equation}\n",
        "\n",
        "Se $a=\\alpha=\\beta=1$ então\n",
        "\\begin{equation}\n",
        "\\begin{aligned}\n",
        "r_{t-1}-r_s&=0.5(\\pi_{t-1}-\\pi^T).\\\\\n",
        "\\end{aligned}\n",
        "\\end{equation}\n",
        "\n",
        "\n",
        "\n"
      ]
    },
    {
      "cell_type": "markdown",
      "metadata": {
        "colab_type": "text",
        "id": "GH2FYExbsrBd"
      },
      "source": [
        "## Gráfico da inflação cartesiano tempo\n",
        "\n",
        "Na equação Curva de Phillips (PC)\n",
        "\\begin{equation}\n",
        "\\begin{aligned}\n",
        "\\pi_{t}&=\\pi_{t-1}+\\alpha\\left(y_{t}-y_{e}\\right),\\\\\n",
        "\\end{aligned}\n",
        "\\end{equation}\n",
        "substitua a equação para a regra monetária-MR\n",
        "\\begin{equation}\n",
        "\\begin{aligned}\n",
        "y_{t}&=y_e - \\alpha\\beta(\\pi_{t}-\\pi^T),\n",
        "\\end{aligned}\n",
        "\\end{equation}\n",
        "desta forma, teremos\n",
        "\\begin{equation}\n",
        "\\begin{aligned}\n",
        "\\pi_{t}&=\\pi_{t-1}+\\alpha\\left(y_{t}-y_{e}\\right),\\\\\n",
        "\\pi_{t}&=\\pi_{t-1}+\\alpha\\left(y_e - \\alpha\\beta(\\pi_{t}-\\pi^T)-y_{e}\\right),\\\\\n",
        "\\pi_{t}&=\\pi_{t-1}-\\alpha^2\\beta(\\pi_{t}-\\pi^T),\\\\\n",
        "\\pi_{t}&=\\pi_{t-1}-\\alpha^2\\beta\\pi_{t}+\\alpha^2\\beta\\pi^T,\n",
        "\\end{aligned}\n",
        "\\end{equation}\n",
        "\\begin{equation}\n",
        "\\begin{aligned}\n",
        "\\pi_{t}+\\alpha^2\\beta\\pi_{t}&=\\pi_{t-1}+\\alpha^2\\beta\\pi^T,\\\\\n",
        "(1+\\alpha^2\\beta)\\pi_{t}&=\\pi_{t-1}+\\alpha^2\\beta\\pi^T.\n",
        "\\end{aligned}\n",
        "\\end{equation}\n",
        "\n",
        "A equação de diferenças para a inflação\n",
        "\\begin{equation}\n",
        "\\begin{aligned}\n",
        "\\pi_{t}&=\\frac{\\pi_{t-1}+\\alpha^2\\beta\\pi^T}{(1+\\alpha^2\\beta)}.\n",
        "\\end{aligned}\n",
        "\\end{equation}\n",
        "\n",
        "O código na linguagem Python mostra o processo iterativo e o gráfico inflação cartesiano tempo."
      ]
    },
    {
      "cell_type": "code",
      "metadata": {
        "colab_type": "code",
        "id": "BmgogPk_srKC",
        "colab": {
          "base_uri": "https://localhost:8080/",
          "height": 352
        },
        "outputId": "b71bdb61-730c-4c82-80c2-55929eb39320"
      },
      "source": [
        "import matplotlib.pyplot as plt\n",
        "import numpy as np\n",
        "import pandas as pd\n",
        "import seaborn as sns\n",
        "\n",
        "alfa = 0.1\n",
        "beta = 1.7\n",
        "pi0  = 1.45\n",
        "piT  = 0.7\n",
        "def PI(pi_tmenos1, piT, alfa, beta):\n",
        "    aux = 1.0 / (1 + alfa**2 * beta)\n",
        "    return aux * (pi_tmenos1 + alfa**2 * beta * piT)\n",
        "a = 0\n",
        "b = 20\n",
        "n = 500\n",
        "h = (b - a) / n\n",
        "t       = np.linspace(0, 0, n + 1)\n",
        "pi      = np.linspace(0, 0, n + 1)\n",
        "for i in range(0, n + 1):# Resumo - Modelo de três equações\n",
        "\tt[i] = a + i * h\n",
        "pi[0] = pi0\n",
        "for i in range(1, n + 1):\n",
        "\tpi[i] = PI(pi[i - 1], piT, alfa, beta)\n",
        "#\n",
        "plt.figure(figsize=(15,5))\n",
        "plt.plot(t, pi)\n",
        "plt.title('$\\pi$ - Inflação')\n",
        "plt.ylabel('$\\pi$')\n",
        "plt.xlabel('t')\n",
        "plt.show()"
      ],
      "execution_count": null,
      "outputs": [
        {
          "output_type": "display_data",
          "data": {
            "image/png": "[encoded data removed]",
            "text/plain": [
              "<Figure size 1080x360 with 1 Axes>"
            ]
          },
          "metadata": {
            "tags": [],
            "needs_background": "light"
          }
        }
      ]
    },
    {
      "cell_type": "markdown",
      "metadata": {
        "id": "NpCB-XHGKtWF",
        "colab_type": "text"
      },
      "source": [
        "O gráfico mostra a o comportamento da inflação posterior ao choque, podemos notar que aconteceu a estabilização da inflação a medida que o tempo evoluiu. Observamos que os parâmetros usados não são reais."
      ]
    }
  ]
}