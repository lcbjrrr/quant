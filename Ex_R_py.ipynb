{
  "nbformat": 4,
  "nbformat_minor": 0,
  "metadata": {
    "colab": {
      "name": "Ex_R_py.ipynb",
      "provenance": [],
      "authorship_tag": "ABX9TyOk2+Co6XLuE1NcQ2f5id9U",
      "include_colab_link": true
    },
    "kernelspec": {
      "name": "python3",
      "display_name": "Python 3"
    },
    "language_info": {
      "name": "python"
    }
  },
  "cells": [
    {
      "cell_type": "markdown",
      "metadata": {
        "id": "view-in-github",
        "colab_type": "text"
      },
      "source": [
        "<a href=\"https://colab.research.google.com/github/lcbjrrr/quant/blob/master/Ex_R_py.ipynb\" target=\"_parent\"><img src=\"https://colab.research.google.com/assets/colab-badge.svg\" alt=\"Open In Colab\"/></a>"
      ]
    },
    {
      "cell_type": "code",
      "metadata": {
        "id": "lMR6ypVjONC5"
      },
      "source": [
        "%load_ext rpy2.ipython"
      ],
      "execution_count": null,
      "outputs": []
    },
    {
      "cell_type": "code",
      "metadata": {
        "colab": {
          "base_uri": "https://localhost:8080/"
        },
        "id": "kklrN8jrOflA",
        "outputId": "2fdb2e47-46a0-4bdd-8da1-de0f92f3393e"
      },
      "source": [
        "def media_final(ap1,ap2,ap3):\n",
        "  mf = ap1*0.4+ap2*0.4+ap3*0.2\n",
        "  return mf\n",
        "\n",
        "n1 = float(input('digite nota ap1 '))\n",
        "n2 = float(input('digite nota ap2 '))\n",
        "n3 = float(input('digite nota ap3 '))\n",
        "\n",
        "joao = media_final(n1,n2,n3)\n",
        "print(joao)"
      ],
      "execution_count": null,
      "outputs": [
        {
          "output_type": "stream",
          "name": "stdout",
          "text": [
            "digite nota ap1 7\n",
            "digite nota ap2 8\n",
            "digite nota ap3 9\n",
            "7.8\n"
          ]
        }
      ]
    },
    {
      "cell_type": "code",
      "metadata": {
        "colab": {
          "base_uri": "https://localhost:8080/"
        },
        "id": "wX4Ba1tlRenS",
        "outputId": "5e599e70-5a4b-4010-86d4-09ae90303740"
      },
      "source": [
        "%%R\n",
        "media_final <- function(ap1,ap2,ap3){\n",
        "  mf <- ap1*0.4+ap2*0.4+ap3*0.2\n",
        "  return(mf)\n",
        "}\n",
        "n1 <- as.numeric(readline(prompt=\"ap1 \"))\n",
        "n2 <- as.numeric(readline(prompt=\"ap2 \"))\n",
        "n3 <- as.numeric(readline(prompt=\"ap3 \"))\n",
        "joao <- media_final(n1,n2,n3)\n",
        "print(joao)"
      ],
      "execution_count": null,
      "outputs": [
        {
          "output_type": "stream",
          "name": "stdout",
          "text": [
            "ap1 7\n",
            "ap2 8\n",
            "ap3 9\n",
            "[1] 7.8\n"
          ]
        }
      ]
    },
    {
      "cell_type": "code",
      "metadata": {
        "colab": {
          "base_uri": "https://localhost:8080/"
        },
        "id": "6xyoRm2fPLuz",
        "outputId": "446bd668-341d-4749-c3f5-b05b73dba682"
      },
      "source": [
        "def CtoF(c):\n",
        "  f = (c * 9/5) + 32 \n",
        "  return f\n",
        "t = int(input('C '))\n",
        "trintaC = CtoF(t)\n",
        "print(trintaC)"
      ],
      "execution_count": null,
      "outputs": [
        {
          "output_type": "stream",
          "name": "stdout",
          "text": [
            "C 40\n",
            "104.0\n"
          ]
        }
      ]
    },
    {
      "cell_type": "code",
      "metadata": {
        "colab": {
          "base_uri": "https://localhost:8080/"
        },
        "id": "OCVMnChwSO5n",
        "outputId": "824c57b3-e36d-4258-c766-ccc1c10eb2fc"
      },
      "source": [
        "%%R\n",
        "CtoF <- function(c){\n",
        "  f <- (c * 9/5) + 32 \n",
        "  return(f)    \n",
        "}\n",
        "t <- as.numeric(readline(prompt=\"oC \"))\n",
        "trintaC <- CtoF(t)\n",
        "print(trintaC)"
      ],
      "execution_count": null,
      "outputs": [
        {
          "output_type": "stream",
          "name": "stdout",
          "text": [
            "oC 35\n",
            "[1] 95\n"
          ]
        }
      ]
    },
    {
      "cell_type": "code",
      "metadata": {
        "colab": {
          "base_uri": "https://localhost:8080/"
        },
        "id": "fgch-x5FPtSF",
        "outputId": "15106e42-0f60-44c3-91d5-fb6f3a9eb51d"
      },
      "source": [
        "def IMC(p,a):\n",
        "  i = p/(a*a)\n",
        "  return i\n",
        "pp = float(input('peso '))\n",
        "aa = float(input('altura '))\n",
        "luiz=IMC(pp,aa)\n",
        "print(luiz)"
      ],
      "execution_count": null,
      "outputs": [
        {
          "output_type": "stream",
          "name": "stdout",
          "text": [
            "peso 70\n",
            "altura 1.7\n",
            "24.221453287197235\n"
          ]
        }
      ]
    },
    {
      "cell_type": "code",
      "metadata": {
        "colab": {
          "base_uri": "https://localhost:8080/"
        },
        "id": "lih-GN7HSd63",
        "outputId": "a8360cf6-cf67-4aa3-afa6-56fef83857e4"
      },
      "source": [
        "%%R\n",
        "IMC <-function (p,a){\n",
        "  i <- p/(a*a)\n",
        "  return(i)\n",
        "}\n",
        "luiz <- IMC(70,1.70)\n",
        "print(luiz)"
      ],
      "execution_count": null,
      "outputs": [
        {
          "output_type": "stream",
          "name": "stdout",
          "text": [
            "[1] 24.22145\n"
          ]
        }
      ]
    },
    {
      "cell_type": "code",
      "metadata": {
        "colab": {
          "base_uri": "https://localhost:8080/"
        },
        "id": "A3uGqAtmQFkK",
        "outputId": "10bbff55-f5c2-4961-a76d-374dd2f3b566"
      },
      "source": [
        "def nota_conceito(nota):\n",
        "  if nota>=9:\n",
        "    nc = 'A'\n",
        "  elif nota<9 and nota>=7:\n",
        "    nc = 'B'\n",
        "  elif nota<7 and nota>=5:\n",
        "    nc = 'D'\n",
        "  else:\n",
        "    nc = 'F'\n",
        "  return nc \n",
        "n = float(input('nota '))\n",
        "luiz=nota_conceito(n)\n",
        "print(luiz)"
      ],
      "execution_count": null,
      "outputs": [
        {
          "output_type": "stream",
          "name": "stdout",
          "text": [
            "nota 8\n",
            "B\n"
          ]
        }
      ]
    },
    {
      "cell_type": "code",
      "metadata": {
        "colab": {
          "base_uri": "https://localhost:8080/"
        },
        "id": "8G_XHBBDSsv3",
        "outputId": "af2e5796-4f70-4fee-eb3c-0711238f3d2e"
      },
      "source": [
        "%%R\n",
        "nota_conceito <- function(nota){\n",
        "  if (nota>=9){\n",
        "    nc <- 'A'\n",
        "  }else if (nota<9 & nota>=7){\n",
        "    nc <- 'B'\n",
        "  }else if (nota<7 & nota>=5){\n",
        "    nc <- 'D'\n",
        "  }else{\n",
        "    nc <- 'F'\n",
        "  }\n",
        "  return(nc) \n",
        "}\n",
        "luiz <- nota_conceito(8)\n",
        "print(luiz)"
      ],
      "execution_count": null,
      "outputs": [
        {
          "output_type": "stream",
          "name": "stdout",
          "text": [
            "[1] \"B\"\n"
          ]
        }
      ]
    },
    {
      "cell_type": "code",
      "metadata": {
        "colab": {
          "base_uri": "https://localhost:8080/"
        },
        "id": "uYn3defiQ49M",
        "outputId": "c6c9b0ff-ace2-4932-9a0c-fc6abeb1ceda"
      },
      "source": [
        "notas = [5,5,6,11,10,7,8,8,9,9]\n",
        "maior = 0\n",
        "for i in range(0,len(notas),1):\n",
        "  if notas[i] > maior:\n",
        "    maior = notas[i]\n",
        "print(maior)"
      ],
      "execution_count": null,
      "outputs": [
        {
          "output_type": "stream",
          "name": "stdout",
          "text": [
            "11\n"
          ]
        }
      ]
    },
    {
      "cell_type": "code",
      "metadata": {
        "colab": {
          "base_uri": "https://localhost:8080/"
        },
        "id": "S9QZXuZGTnZK",
        "outputId": "5e282940-ced1-424b-ca19-ec3412fd329b"
      },
      "source": [
        "notas = [5,5,6,11,10,7,8,8,9,9]\n",
        "maior = 0\n",
        "for n in notas:\n",
        "  if n > maior:\n",
        "    maior = n\n",
        "print(maior)"
      ],
      "execution_count": null,
      "outputs": [
        {
          "output_type": "stream",
          "name": "stdout",
          "text": [
            "11\n"
          ]
        }
      ]
    },
    {
      "cell_type": "code",
      "metadata": {
        "colab": {
          "base_uri": "https://localhost:8080/"
        },
        "id": "ObaPFsklThPI",
        "outputId": "6621064f-55a2-4fd7-ecfa-eb6eebfd4b8b"
      },
      "source": [
        "%%R\n",
        "notas <- c(5,5,6,11,10,7,8,8,9,9)\n",
        "maior <- 0\n",
        "for (n in notas){\n",
        "  if (n > maior){\n",
        "    maior = n\n",
        "  }\n",
        "}\n",
        "print(maior)"
      ],
      "execution_count": null,
      "outputs": [
        {
          "output_type": "stream",
          "name": "stdout",
          "text": [
            "[1] 11\n"
          ]
        }
      ]
    }
  ]
}