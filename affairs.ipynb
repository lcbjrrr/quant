{
  "nbformat": 4,
  "nbformat_minor": 0,
  "metadata": {
    "colab": {
      "name": "affairs.ipynb",
      "provenance": [],
      "collapsed_sections": [
        "ewQ250cYX3XY"
      ],
      "include_colab_link": true
    },
    "kernelspec": {
      "name": "python3",
      "display_name": "Python 3"
    },
    "language_info": {
      "name": "python"
    }
  },
  "cells": [
    {
      "cell_type": "markdown",
      "metadata": {
        "id": "view-in-github",
        "colab_type": "text"
      },
      "source": [
        "<a href=\"https://colab.research.google.com/github/lcbjrrr/quant/blob/master/affairs.ipynb\" target=\"_parent\"><img src=\"https://colab.research.google.com/assets/colab-badge.svg\" alt=\"Open In Colab\"/></a>"
      ]
    },
    {
      "cell_type": "markdown",
      "metadata": {
        "id": "bOV0uE8K7r8g"
      },
      "source": [
        "# Enunciado"
      ]
    },
    {
      "cell_type": "markdown",
      "metadata": {
        "id": "fCvHca1r0QzT"
      },
      "source": [
        "A atividade a ser desenvolvida no Colab deve conter as seguintes seções\n",
        "\n",
        ">  Introdução\n",
        "    - descreva os dados que serão analisados\n",
        "    - detalhe qual será o foco do processo de classificação\n",
        "\n",
        "> Regressão Logística\n",
        "   - Apresentar a regressão logística simples para diferentes preditores\n",
        "   - Sugestão de discussão: sinal do coeficiente de algum preditor mudou? Em caso afirmativo, apresente uma análise da motivação dessa modificação. Em caso negativo, análise o fato de poder remover algum dos preditores da regressão \\múltipla e ainda continuar com um modelo aceitável.\n",
        "\n",
        "   Individual: no mínimo 3 preditores\n",
        "   Dupla: no mínimo 4 preditores\n",
        "   Trio: no mínimo 5 preditores\n",
        "\n",
        "   Justifique os preditores selecionados para iniciar a regressão logística \n",
        "\n",
        "> K-NN\n",
        "   - Apresentar K-NN para diferentes combinações entre métrica e número de vizinhos\n",
        "   - Sugestão de discussão: a influência do número de vizinhos é significativa? a métrica influencia os resultados?\n",
        "\n",
        "   Individual: no mínimo 3 combinações\n",
        "   Dupla: no mínimo 5 combinações\n",
        "   Trio: no mínimo 7 combinações\n",
        "\n",
        "> Árvore de decisão\n",
        "   - Apresentar árvores de decisão para diferentes combinações entre profundidade e número máximo de folhas\n",
        "   - Sugestão de discussão: qual a influência nos resultados quanto a número de folhas e profundidade?\n",
        "\n",
        "   Individual: no mínimo 3 combinações\n",
        "   Dupla: no mínimo 5 combinações\n",
        "   Trio: no mínimo 7 combinações\n",
        "\n",
        "> Floresta aleatória\n",
        "   - Apresentar florestas aleatórias para diferentes combinações entre profundidade, número máximo de folhas, número de árvores e número de preditores\n",
        "   - Faça análise do “out of bag error”\n",
        "   - Sugestão de discussão: qual a influência nos resultados quanto a número de preditores?\n",
        "\n",
        "   Individual: no mínimo 4 combinações\n",
        "   Dupla: no mínimo 6 combinações\n",
        "   Trio: no mínimo 8 combinações\n",
        "\n",
        "> LDA\n",
        "   - Apresentar LDA para diferentes threshold\n",
        "   - Sugestão de discussão: há uma melhora com a variação do threshold?\n",
        "\n",
        "   Individual: no mínimo 2 valores de threshold\n",
        "   Dupla: no mínimo 3 valores de threshold\n",
        "   Trio: no mínimo 4 valores de threshold\n",
        "\n",
        "> SVM\n",
        "   - Apresentar SVM para diferentes combinações de kernels, C e Gamma\n",
        "   - Sugestão de discussão: qual a influência nos resultados quanto aos kenels, C e Gamma\n",
        "\n",
        "   Individual: no mínimo 4 combinações\n",
        "   Dupla: no mínimo 6 combinações\n",
        "   Trio: no mínimo 8 combinações\n",
        "\n",
        "> Comparação entre os modelos\n",
        "   - além da comparação, apresente as vantagens e desvantagens nos algoritmos utilizados\n",
        "\n",
        "> Conclusão, Considerações finais, Dificuldades e Desafios\n",
        "   - os modelos de classificação abordados foram relevantes?\n",
        "   - quais as dificuldades encontradas e desafios superados para o desenvolvimento da atividade\n",
        "\n",
        "> Referência\n",
        "   - artigos, livros, sites e outras fontes utilizadas \n",
        "   - seguir o padrão ABNT\n",
        "\n",
        "ATENÇÃO\n",
        "- TODAS as seções acima citadas devem estar presentes, seja no Colab ou em outro arquivo anexo (pdf, doc, ppt)\n",
        "- TODO método de classificação deve ser acompanhado de discussão"
      ]
    },
    {
      "cell_type": "markdown",
      "metadata": {
        "id": "kNbi_7WD7rB9"
      },
      "source": [
        "# Base de Dados"
      ]
    },
    {
      "cell_type": "markdown",
      "metadata": {
        "id": "B-02-rPX7ycW"
      },
      "source": [
        "A base de dados analisados indica um cadastro de mulheres com uma serie de atributos que tiveram um caso extra conjugal, identificado pela variavel **Had_Affair**. Veja detalhes dos demais campos abaixo.\n",
        "- rate_marriage: nota de 1 a 5 para a satisfacao da mulher em seu casamento\n",
        "- age: idade\n",
        "- yrs_married: tempo de casada\t\n",
        "- children:\tquantidade de filhos\n",
        "- religious: nivel de religiosidade, sendo 1 nenhum e 5 maximo. \t\n",
        "- educ: numero de anos de educacao formal\n",
        "-\toccupation:\tprofissao, sendo 1 = estudante, 2 = agricultura, 3 = executivo; 4 = professor; 5 = administrador; e 6 = profissional com grau avançado de estudo\n",
        "- occupation_husb: profissao do marido\t\n",
        "- Had_Affair: label categorico, 0 ou 1, indicando se teve um caso ou nao"
      ]
    },
    {
      "cell_type": "markdown",
      "metadata": {
        "id": "L_eIMzH34xqX"
      },
      "source": [
        "<img src=\"https://pbs.twimg.com/media/E4RVBnoWQAEm_yX?format=jpg&name=medium\" alt=\"drawing\" width=\"400\"/>\n"
      ]
    },
    {
      "cell_type": "code",
      "metadata": {
        "colab": {
          "base_uri": "https://localhost:8080/",
          "height": 278
        },
        "id": "H4_CDspWh8mW",
        "outputId": "da455030-a285-484a-e013-6402b4ea51a3"
      },
      "source": [
        "import pandas as pd\n",
        "df=pd.read_csv('https://raw.githubusercontent.com/lcbjrrr/quant/master/affairs.csv')\n",
        "df['Had_Affair'] = df['affair'].map({True:1,False:0})\n",
        "df.drop(['Unnamed: 0','affair'],axis=1,inplace=True)\n",
        "print(df.shape)\n",
        "print(df['Had_Affair'].value_counts())\n",
        "df.head()"
      ],
      "execution_count": 97,
      "outputs": [
        {
          "output_type": "stream",
          "name": "stdout",
          "text": [
            "(6366, 9)\n",
            "0    4313\n",
            "1    2053\n",
            "Name: Had_Affair, dtype: int64\n"
          ]
        },
        {
          "output_type": "execute_result",
          "data": {
            "text/plain": [
              "   rate_marriage   age  yrs_married  children  religious  educ  occupation  \\\n",
              "0            3.0  32.0          9.0       3.0        3.0  17.0         2.0   \n",
              "1            3.0  27.0         13.0       3.0        1.0  14.0         3.0   \n",
              "2            4.0  22.0          2.5       0.0        1.0  16.0         3.0   \n",
              "3            4.0  37.0         16.5       4.0        3.0  16.0         5.0   \n",
              "4            5.0  27.0          9.0       1.0        1.0  14.0         3.0   \n",
              "\n",
              "   occupation_husb  Had_Affair  \n",
              "0              5.0           1  \n",
              "1              4.0           1  \n",
              "2              5.0           1  \n",
              "3              5.0           1  \n",
              "4              4.0           1  "
            ],
            "text/html": [
              "\n",
              "  <div id=\"df-6fb93abe-bcef-4761-ad7c-ccceabe434f1\">\n",
              "    <div class=\"colab-df-container\">\n",
              "      <div>\n",
              "<style scoped>\n",
              "    .dataframe tbody tr th:only-of-type {\n",
              "        vertical-align: middle;\n",
              "    }\n",
              "\n",
              "    .dataframe tbody tr th {\n",
              "        vertical-align: top;\n",
              "    }\n",
              "\n",
              "    .dataframe thead th {\n",
              "        text-align: right;\n",
              "    }\n",
              "</style>\n",
              "<table border=\"1\" class=\"dataframe\">\n",
              "  <thead>\n",
              "    <tr style=\"text-align: right;\">\n",
              "      <th></th>\n",
              "      <th>rate_marriage</th>\n",
              "      <th>age</th>\n",
              "      <th>yrs_married</th>\n",
              "      <th>children</th>\n",
              "      <th>religious</th>\n",
              "      <th>educ</th>\n",
              "      <th>occupation</th>\n",
              "      <th>occupation_husb</th>\n",
              "      <th>Had_Affair</th>\n",
              "    </tr>\n",
              "  </thead>\n",
              "  <tbody>\n",
              "    <tr>\n",
              "      <th>0</th>\n",
              "      <td>3.0</td>\n",
              "      <td>32.0</td>\n",
              "      <td>9.0</td>\n",
              "      <td>3.0</td>\n",
              "      <td>3.0</td>\n",
              "      <td>17.0</td>\n",
              "      <td>2.0</td>\n",
              "      <td>5.0</td>\n",
              "      <td>1</td>\n",
              "    </tr>\n",
              "    <tr>\n",
              "      <th>1</th>\n",
              "      <td>3.0</td>\n",
              "      <td>27.0</td>\n",
              "      <td>13.0</td>\n",
              "      <td>3.0</td>\n",
              "      <td>1.0</td>\n",
              "      <td>14.0</td>\n",
              "      <td>3.0</td>\n",
              "      <td>4.0</td>\n",
              "      <td>1</td>\n",
              "    </tr>\n",
              "    <tr>\n",
              "      <th>2</th>\n",
              "      <td>4.0</td>\n",
              "      <td>22.0</td>\n",
              "      <td>2.5</td>\n",
              "      <td>0.0</td>\n",
              "      <td>1.0</td>\n",
              "      <td>16.0</td>\n",
              "      <td>3.0</td>\n",
              "      <td>5.0</td>\n",
              "      <td>1</td>\n",
              "    </tr>\n",
              "    <tr>\n",
              "      <th>3</th>\n",
              "      <td>4.0</td>\n",
              "      <td>37.0</td>\n",
              "      <td>16.5</td>\n",
              "      <td>4.0</td>\n",
              "      <td>3.0</td>\n",
              "      <td>16.0</td>\n",
              "      <td>5.0</td>\n",
              "      <td>5.0</td>\n",
              "      <td>1</td>\n",
              "    </tr>\n",
              "    <tr>\n",
              "      <th>4</th>\n",
              "      <td>5.0</td>\n",
              "      <td>27.0</td>\n",
              "      <td>9.0</td>\n",
              "      <td>1.0</td>\n",
              "      <td>1.0</td>\n",
              "      <td>14.0</td>\n",
              "      <td>3.0</td>\n",
              "      <td>4.0</td>\n",
              "      <td>1</td>\n",
              "    </tr>\n",
              "  </tbody>\n",
              "</table>\n",
              "</div>\n",
              "      <button class=\"colab-df-convert\" onclick=\"convertToInteractive('df-6fb93abe-bcef-4761-ad7c-ccceabe434f1')\"\n",
              "              title=\"Convert this dataframe to an interactive table.\"\n",
              "              style=\"display:none;\">\n",
              "        \n",
              "  <svg xmlns=\"http://www.w3.org/2000/svg\" height=\"24px\"viewBox=\"0 0 24 24\"\n",
              "       width=\"24px\">\n",
              "    <path d=\"M0 0h24v24H0V0z\" fill=\"none\"/>\n",
              "    <path d=\"M18.56 5.44l.94 2.06.94-2.06 2.06-.94-2.06-.94-.94-2.06-.94 2.06-2.06.94zm-11 1L8.5 8.5l.94-2.06 2.06-.94-2.06-.94L8.5 2.5l-.94 2.06-2.06.94zm10 10l.94 2.06.94-2.06 2.06-.94-2.06-.94-.94-2.06-.94 2.06-2.06.94z\"/><path d=\"M17.41 7.96l-1.37-1.37c-.4-.4-.92-.59-1.43-.59-.52 0-1.04.2-1.43.59L10.3 9.45l-7.72 7.72c-.78.78-.78 2.05 0 2.83L4 21.41c.39.39.9.59 1.41.59.51 0 1.02-.2 1.41-.59l7.78-7.78 2.81-2.81c.8-.78.8-2.07 0-2.86zM5.41 20L4 18.59l7.72-7.72 1.47 1.35L5.41 20z\"/>\n",
              "  </svg>\n",
              "      </button>\n",
              "      \n",
              "  <style>\n",
              "    .colab-df-container {\n",
              "      display:flex;\n",
              "      flex-wrap:wrap;\n",
              "      gap: 12px;\n",
              "    }\n",
              "\n",
              "    .colab-df-convert {\n",
              "      background-color: #E8F0FE;\n",
              "      border: none;\n",
              "      border-radius: 50%;\n",
              "      cursor: pointer;\n",
              "      display: none;\n",
              "      fill: #1967D2;\n",
              "      height: 32px;\n",
              "      padding: 0 0 0 0;\n",
              "      width: 32px;\n",
              "    }\n",
              "\n",
              "    .colab-df-convert:hover {\n",
              "      background-color: #E2EBFA;\n",
              "      box-shadow: 0px 1px 2px rgba(60, 64, 67, 0.3), 0px 1px 3px 1px rgba(60, 64, 67, 0.15);\n",
              "      fill: #174EA6;\n",
              "    }\n",
              "\n",
              "    [theme=dark] .colab-df-convert {\n",
              "      background-color: #3B4455;\n",
              "      fill: #D2E3FC;\n",
              "    }\n",
              "\n",
              "    [theme=dark] .colab-df-convert:hover {\n",
              "      background-color: #434B5C;\n",
              "      box-shadow: 0px 1px 3px 1px rgba(0, 0, 0, 0.15);\n",
              "      filter: drop-shadow(0px 1px 2px rgba(0, 0, 0, 0.3));\n",
              "      fill: #FFFFFF;\n",
              "    }\n",
              "  </style>\n",
              "\n",
              "      <script>\n",
              "        const buttonEl =\n",
              "          document.querySelector('#df-6fb93abe-bcef-4761-ad7c-ccceabe434f1 button.colab-df-convert');\n",
              "        buttonEl.style.display =\n",
              "          google.colab.kernel.accessAllowed ? 'block' : 'none';\n",
              "\n",
              "        async function convertToInteractive(key) {\n",
              "          const element = document.querySelector('#df-6fb93abe-bcef-4761-ad7c-ccceabe434f1');\n",
              "          const dataTable =\n",
              "            await google.colab.kernel.invokeFunction('convertToInteractive',\n",
              "                                                     [key], {});\n",
              "          if (!dataTable) return;\n",
              "\n",
              "          const docLinkHtml = 'Like what you see? Visit the ' +\n",
              "            '<a target=\"_blank\" href=https://colab.research.google.com/notebooks/data_table.ipynb>data table notebook</a>'\n",
              "            + ' to learn more about interactive tables.';\n",
              "          element.innerHTML = '';\n",
              "          dataTable['output_type'] = 'display_data';\n",
              "          await google.colab.output.renderOutput(dataTable, element);\n",
              "          const docLink = document.createElement('div');\n",
              "          docLink.innerHTML = docLinkHtml;\n",
              "          element.appendChild(docLink);\n",
              "        }\n",
              "      </script>\n",
              "    </div>\n",
              "  </div>\n",
              "  "
            ]
          },
          "metadata": {},
          "execution_count": 97
        }
      ]
    },
    {
      "cell_type": "markdown",
      "metadata": {
        "id": "KqLdUeyeD8mN"
      },
      "source": [
        "**Análise**\n",
        "\n",
        "Vemos a estrutura dos dados e principalmente que as classes estao balancedas, sendo cerca de 2/3 da mulheres que nao tiveram um caso, 4313 e aproximadamente 1/3, 2053, que tiveram."
      ]
    },
    {
      "cell_type": "markdown",
      "metadata": {
        "id": "KH1DufkM97dX"
      },
      "source": [
        "# Análise Inicial"
      ]
    },
    {
      "cell_type": "markdown",
      "metadata": {
        "id": "8EQCAE_-_X8c"
      },
      "source": [
        "Nesta secao vamos realizar uma analise previa da relacao de algumas variaveis antes mesmo de simular modelos nas secoes seguintes"
      ]
    },
    {
      "cell_type": "code",
      "metadata": {
        "colab": {
          "base_uri": "https://localhost:8080/",
          "height": 475
        },
        "id": "rUVxWQbgiNcM",
        "outputId": "9bde9051-7653-428f-97ff-77a3388af301"
      },
      "source": [
        "\n",
        "caso_por_idade = df.pivot_table(index='age', values='rate_marriage',columns='Had_Affair', aggfunc='count')\n",
        "print(caso_por_idade)\n",
        "caso_por_idade.plot(kind='bar')"
      ],
      "execution_count": 98,
      "outputs": [
        {
          "output_type": "stream",
          "name": "stdout",
          "text": [
            "Had_Affair     0    1\n",
            "age                  \n",
            "17.5         126   13\n",
            "22.0        1394  406\n",
            "27.0        1298  633\n",
            "32.0         644  425\n",
            "37.0         364  270\n",
            "42.0         487  306\n"
          ]
        },
        {
          "output_type": "execute_result",
          "data": {
            "text/plain": [
              "<matplotlib.axes._subplots.AxesSubplot at 0x7f3777effbd0>"
            ]
          },
          "metadata": {},
          "execution_count": 98
        },
        {
          "output_type": "display_data",
          "data": {
            "text/plain": [
              "<Figure size 432x288 with 1 Axes>"
            ],
            "image/png": "[encoded data removed]"
          },
          "metadata": {}
        }
      ]
    },
    {
      "cell_type": "markdown",
      "metadata": {
        "id": "S4kgp3ff-B7w"
      },
      "source": [
        "**Análise**\n",
        "\n",
        "Pelo gráfico de barras acima, temos a percepção que idade parece ser um fator de influência na classificação de traição, em particular para as mais jovens, de 17 a 27 anos sao MENOS propensos a trair. Para as idades acima de 27, a propensão se equilibra"
      ]
    },
    {
      "cell_type": "code",
      "metadata": {
        "colab": {
          "base_uri": "https://localhost:8080/",
          "height": 493
        },
        "id": "lklW6aSenYek",
        "outputId": "a6990ee4-dd15-455c-ea83-e7d69e13cb4b"
      },
      "source": [
        "caso_por_idade = df.pivot_table(index='yrs_married', values='rate_marriage',columns='Had_Affair', aggfunc='count')\n",
        "print(caso_por_idade)\n",
        "caso_por_idade.plot(kind='bar')"
      ],
      "execution_count": 99,
      "outputs": [
        {
          "output_type": "stream",
          "name": "stdout",
          "text": [
            "Had_Affair      0    1\n",
            "yrs_married           \n",
            "0.5           354   16\n",
            "2.5          1595  439\n",
            "6.0           754  387\n",
            "9.0           348  254\n",
            "13.0          347  243\n",
            "16.5          449  369\n",
            "23.0          466  345\n"
          ]
        },
        {
          "output_type": "execute_result",
          "data": {
            "text/plain": [
              "<matplotlib.axes._subplots.AxesSubplot at 0x7f3777e95e10>"
            ]
          },
          "metadata": {},
          "execution_count": 99
        },
        {
          "output_type": "display_data",
          "data": {
            "text/plain": [
              "<Figure size 432x288 with 1 Axes>"
            ],
            "image/png": "[encoded data removed]"
          },
          "metadata": {}
        }
      ]
    },
    {
      "cell_type": "markdown",
      "metadata": {
        "id": "FYqoS3HN-UN6"
      },
      "source": [
        "**Análise**\n",
        "\n",
        "Tempo de casada tambem parece ser um fator, as mulheres com menos tempos de casada, 2.5 a 6 anos parecem ser MENOS propensas se envolver em um caso extra conjugal. E para as casadas a mais de 6 anos a propensao se equilibra"
      ]
    },
    {
      "cell_type": "code",
      "metadata": {
        "colab": {
          "base_uri": "https://localhost:8080/",
          "height": 470
        },
        "id": "_EqQonUXnf1E",
        "outputId": "9598958e-486d-4632-a1bd-14537c115d45"
      },
      "source": [
        "caso_por_idade = df.pivot_table(index='children', values='rate_marriage',columns='Had_Affair', aggfunc='count')\n",
        "print(caso_por_idade)\n",
        "caso_por_idade.plot(kind='bar')"
      ],
      "execution_count": 100,
      "outputs": [
        {
          "output_type": "stream",
          "name": "stdout",
          "text": [
            "Had_Affair     0    1\n",
            "children             \n",
            "0.0         1912  502\n",
            "1.0          747  412\n",
            "2.0          873  608\n",
            "3.0          460  321\n",
            "4.0          197  131\n",
            "5.5          124   79\n"
          ]
        },
        {
          "output_type": "execute_result",
          "data": {
            "text/plain": [
              "<matplotlib.axes._subplots.AxesSubplot at 0x7f3777dc0390>"
            ]
          },
          "metadata": {},
          "execution_count": 100
        },
        {
          "output_type": "display_data",
          "data": {
            "text/plain": [
              "<Figure size 432x288 with 1 Axes>"
            ],
            "image/png": "[encoded data removed]"
          },
          "metadata": {}
        }
      ]
    },
    {
      "cell_type": "markdown",
      "metadata": {
        "id": "87nruf72-n6E"
      },
      "source": [
        "**Análise**\n",
        "\n",
        "O fato de ser uma familia ja com filhos parece ser um fator na inibição de traição. As mulheres que tem ao menos um filho tem uma propensão equivalente em ter ou nao ter um caso extra conjugal. Ja as mulheres sem filho tem um propensão muito MENOR com relação a traição. A hipotose inicial é que o casal sem filhos, foca sua atenção no relacionamento."
      ]
    },
    {
      "cell_type": "code",
      "metadata": {
        "colab": {
          "base_uri": "https://localhost:8080/",
          "height": 447
        },
        "id": "6w5IT9GQRmdA",
        "outputId": "14811b3f-b856-40e2-e36c-e2737450dbb7"
      },
      "source": [
        "caso_por_nota = df.pivot_table(index='rate_marriage', values='children',columns='Had_Affair', aggfunc='count')\n",
        "print(caso_por_nota)\n",
        "caso_por_nota.plot(kind='bar')"
      ],
      "execution_count": 101,
      "outputs": [
        {
          "output_type": "stream",
          "name": "stdout",
          "text": [
            "Had_Affair        0    1\n",
            "rate_marriage           \n",
            "1.0              25   74\n",
            "2.0             127  221\n",
            "3.0             446  547\n",
            "4.0            1518  724\n",
            "5.0            2197  487\n"
          ]
        },
        {
          "output_type": "execute_result",
          "data": {
            "text/plain": [
              "<matplotlib.axes._subplots.AxesSubplot at 0x7f377887a6d0>"
            ]
          },
          "metadata": {},
          "execution_count": 101
        },
        {
          "output_type": "display_data",
          "data": {
            "text/plain": [
              "<Figure size 432x288 with 1 Axes>"
            ],
            "image/png": "[encoded data removed]"
          },
          "metadata": {}
        }
      ]
    },
    {
      "cell_type": "markdown",
      "metadata": {
        "id": "YLtAIS4GUh6E"
      },
      "source": [
        "**Análise**\n",
        "\n",
        "Nota dada ao casamento eh a primeira feature que vemos efetivamente a tendência de traição superar a nao-traição, mais especificamente para os casos de notas <= a 3,0."
      ]
    },
    {
      "cell_type": "markdown",
      "metadata": {
        "id": "BIytSIxp_JOx"
      },
      "source": [
        "# Analise Estatistica"
      ]
    },
    {
      "cell_type": "markdown",
      "metadata": {
        "id": "jOAimizO_wJg"
      },
      "source": [
        "Dando sequencia nas analises preliminares, nesta secao vamos ver propriedades estatisticas de algumas variaveis como calculo de quartis e correlacoes"
      ]
    },
    {
      "cell_type": "code",
      "metadata": {
        "colab": {
          "base_uri": "https://localhost:8080/",
          "height": 300
        },
        "id": "uvEwuRUM_LZu",
        "outputId": "8009236f-205c-4bf2-d7e7-f287ee73be42"
      },
      "source": [
        "df.describe()"
      ],
      "execution_count": 102,
      "outputs": [
        {
          "output_type": "execute_result",
          "data": {
            "text/plain": [
              "       rate_marriage          age  yrs_married     children    religious  \\\n",
              "count    6366.000000  6366.000000  6366.000000  6366.000000  6366.000000   \n",
              "mean        4.109645    29.082862     9.009425     1.396874     2.426170   \n",
              "std         0.961430     6.847882     7.280120     1.433471     0.878369   \n",
              "min         1.000000    17.500000     0.500000     0.000000     1.000000   \n",
              "25%         4.000000    22.000000     2.500000     0.000000     2.000000   \n",
              "50%         4.000000    27.000000     6.000000     1.000000     2.000000   \n",
              "75%         5.000000    32.000000    16.500000     2.000000     3.000000   \n",
              "max         5.000000    42.000000    23.000000     5.500000     4.000000   \n",
              "\n",
              "              educ   occupation  occupation_husb   Had_Affair  \n",
              "count  6366.000000  6366.000000      6366.000000  6366.000000  \n",
              "mean     14.209865     3.424128         3.850141     0.322495  \n",
              "std       2.178003     0.942399         1.346435     0.467468  \n",
              "min       9.000000     1.000000         1.000000     0.000000  \n",
              "25%      12.000000     3.000000         3.000000     0.000000  \n",
              "50%      14.000000     3.000000         4.000000     0.000000  \n",
              "75%      16.000000     4.000000         5.000000     1.000000  \n",
              "max      20.000000     6.000000         6.000000     1.000000  "
            ],
            "text/html": [
              "\n",
              "  <div id=\"df-984115cd-d0b4-46b4-9e9f-5459a106c28e\">\n",
              "    <div class=\"colab-df-container\">\n",
              "      <div>\n",
              "<style scoped>\n",
              "    .dataframe tbody tr th:only-of-type {\n",
              "        vertical-align: middle;\n",
              "    }\n",
              "\n",
              "    .dataframe tbody tr th {\n",
              "        vertical-align: top;\n",
              "    }\n",
              "\n",
              "    .dataframe thead th {\n",
              "        text-align: right;\n",
              "    }\n",
              "</style>\n",
              "<table border=\"1\" class=\"dataframe\">\n",
              "  <thead>\n",
              "    <tr style=\"text-align: right;\">\n",
              "      <th></th>\n",
              "      <th>rate_marriage</th>\n",
              "      <th>age</th>\n",
              "      <th>yrs_married</th>\n",
              "      <th>children</th>\n",
              "      <th>religious</th>\n",
              "      <th>educ</th>\n",
              "      <th>occupation</th>\n",
              "      <th>occupation_husb</th>\n",
              "      <th>Had_Affair</th>\n",
              "    </tr>\n",
              "  </thead>\n",
              "  <tbody>\n",
              "    <tr>\n",
              "      <th>count</th>\n",
              "      <td>6366.000000</td>\n",
              "      <td>6366.000000</td>\n",
              "      <td>6366.000000</td>\n",
              "      <td>6366.000000</td>\n",
              "      <td>6366.000000</td>\n",
              "      <td>6366.000000</td>\n",
              "      <td>6366.000000</td>\n",
              "      <td>6366.000000</td>\n",
              "      <td>6366.000000</td>\n",
              "    </tr>\n",
              "    <tr>\n",
              "      <th>mean</th>\n",
              "      <td>4.109645</td>\n",
              "      <td>29.082862</td>\n",
              "      <td>9.009425</td>\n",
              "      <td>1.396874</td>\n",
              "      <td>2.426170</td>\n",
              "      <td>14.209865</td>\n",
              "      <td>3.424128</td>\n",
              "      <td>3.850141</td>\n",
              "      <td>0.322495</td>\n",
              "    </tr>\n",
              "    <tr>\n",
              "      <th>std</th>\n",
              "      <td>0.961430</td>\n",
              "      <td>6.847882</td>\n",
              "      <td>7.280120</td>\n",
              "      <td>1.433471</td>\n",
              "      <td>0.878369</td>\n",
              "      <td>2.178003</td>\n",
              "      <td>0.942399</td>\n",
              "      <td>1.346435</td>\n",
              "      <td>0.467468</td>\n",
              "    </tr>\n",
              "    <tr>\n",
              "      <th>min</th>\n",
              "      <td>1.000000</td>\n",
              "      <td>17.500000</td>\n",
              "      <td>0.500000</td>\n",
              "      <td>0.000000</td>\n",
              "      <td>1.000000</td>\n",
              "      <td>9.000000</td>\n",
              "      <td>1.000000</td>\n",
              "      <td>1.000000</td>\n",
              "      <td>0.000000</td>\n",
              "    </tr>\n",
              "    <tr>\n",
              "      <th>25%</th>\n",
              "      <td>4.000000</td>\n",
              "      <td>22.000000</td>\n",
              "      <td>2.500000</td>\n",
              "      <td>0.000000</td>\n",
              "      <td>2.000000</td>\n",
              "      <td>12.000000</td>\n",
              "      <td>3.000000</td>\n",
              "      <td>3.000000</td>\n",
              "      <td>0.000000</td>\n",
              "    </tr>\n",
              "    <tr>\n",
              "      <th>50%</th>\n",
              "      <td>4.000000</td>\n",
              "      <td>27.000000</td>\n",
              "      <td>6.000000</td>\n",
              "      <td>1.000000</td>\n",
              "      <td>2.000000</td>\n",
              "      <td>14.000000</td>\n",
              "      <td>3.000000</td>\n",
              "      <td>4.000000</td>\n",
              "      <td>0.000000</td>\n",
              "    </tr>\n",
              "    <tr>\n",
              "      <th>75%</th>\n",
              "      <td>5.000000</td>\n",
              "      <td>32.000000</td>\n",
              "      <td>16.500000</td>\n",
              "      <td>2.000000</td>\n",
              "      <td>3.000000</td>\n",
              "      <td>16.000000</td>\n",
              "      <td>4.000000</td>\n",
              "      <td>5.000000</td>\n",
              "      <td>1.000000</td>\n",
              "    </tr>\n",
              "    <tr>\n",
              "      <th>max</th>\n",
              "      <td>5.000000</td>\n",
              "      <td>42.000000</td>\n",
              "      <td>23.000000</td>\n",
              "      <td>5.500000</td>\n",
              "      <td>4.000000</td>\n",
              "      <td>20.000000</td>\n",
              "      <td>6.000000</td>\n",
              "      <td>6.000000</td>\n",
              "      <td>1.000000</td>\n",
              "    </tr>\n",
              "  </tbody>\n",
              "</table>\n",
              "</div>\n",
              "      <button class=\"colab-df-convert\" onclick=\"convertToInteractive('df-984115cd-d0b4-46b4-9e9f-5459a106c28e')\"\n",
              "              title=\"Convert this dataframe to an interactive table.\"\n",
              "              style=\"display:none;\">\n",
              "        \n",
              "  <svg xmlns=\"http://www.w3.org/2000/svg\" height=\"24px\"viewBox=\"0 0 24 24\"\n",
              "       width=\"24px\">\n",
              "    <path d=\"M0 0h24v24H0V0z\" fill=\"none\"/>\n",
              "    <path d=\"M18.56 5.44l.94 2.06.94-2.06 2.06-.94-2.06-.94-.94-2.06-.94 2.06-2.06.94zm-11 1L8.5 8.5l.94-2.06 2.06-.94-2.06-.94L8.5 2.5l-.94 2.06-2.06.94zm10 10l.94 2.06.94-2.06 2.06-.94-2.06-.94-.94-2.06-.94 2.06-2.06.94z\"/><path d=\"M17.41 7.96l-1.37-1.37c-.4-.4-.92-.59-1.43-.59-.52 0-1.04.2-1.43.59L10.3 9.45l-7.72 7.72c-.78.78-.78 2.05 0 2.83L4 21.41c.39.39.9.59 1.41.59.51 0 1.02-.2 1.41-.59l7.78-7.78 2.81-2.81c.8-.78.8-2.07 0-2.86zM5.41 20L4 18.59l7.72-7.72 1.47 1.35L5.41 20z\"/>\n",
              "  </svg>\n",
              "      </button>\n",
              "      \n",
              "  <style>\n",
              "    .colab-df-container {\n",
              "      display:flex;\n",
              "      flex-wrap:wrap;\n",
              "      gap: 12px;\n",
              "    }\n",
              "\n",
              "    .colab-df-convert {\n",
              "      background-color: #E8F0FE;\n",
              "      border: none;\n",
              "      border-radius: 50%;\n",
              "      cursor: pointer;\n",
              "      display: none;\n",
              "      fill: #1967D2;\n",
              "      height: 32px;\n",
              "      padding: 0 0 0 0;\n",
              "      width: 32px;\n",
              "    }\n",
              "\n",
              "    .colab-df-convert:hover {\n",
              "      background-color: #E2EBFA;\n",
              "      box-shadow: 0px 1px 2px rgba(60, 64, 67, 0.3), 0px 1px 3px 1px rgba(60, 64, 67, 0.15);\n",
              "      fill: #174EA6;\n",
              "    }\n",
              "\n",
              "    [theme=dark] .colab-df-convert {\n",
              "      background-color: #3B4455;\n",
              "      fill: #D2E3FC;\n",
              "    }\n",
              "\n",
              "    [theme=dark] .colab-df-convert:hover {\n",
              "      background-color: #434B5C;\n",
              "      box-shadow: 0px 1px 3px 1px rgba(0, 0, 0, 0.15);\n",
              "      filter: drop-shadow(0px 1px 2px rgba(0, 0, 0, 0.3));\n",
              "      fill: #FFFFFF;\n",
              "    }\n",
              "  </style>\n",
              "\n",
              "      <script>\n",
              "        const buttonEl =\n",
              "          document.querySelector('#df-984115cd-d0b4-46b4-9e9f-5459a106c28e button.colab-df-convert');\n",
              "        buttonEl.style.display =\n",
              "          google.colab.kernel.accessAllowed ? 'block' : 'none';\n",
              "\n",
              "        async function convertToInteractive(key) {\n",
              "          const element = document.querySelector('#df-984115cd-d0b4-46b4-9e9f-5459a106c28e');\n",
              "          const dataTable =\n",
              "            await google.colab.kernel.invokeFunction('convertToInteractive',\n",
              "                                                     [key], {});\n",
              "          if (!dataTable) return;\n",
              "\n",
              "          const docLinkHtml = 'Like what you see? Visit the ' +\n",
              "            '<a target=\"_blank\" href=https://colab.research.google.com/notebooks/data_table.ipynb>data table notebook</a>'\n",
              "            + ' to learn more about interactive tables.';\n",
              "          element.innerHTML = '';\n",
              "          dataTable['output_type'] = 'display_data';\n",
              "          await google.colab.output.renderOutput(dataTable, element);\n",
              "          const docLink = document.createElement('div');\n",
              "          docLink.innerHTML = docLinkHtml;\n",
              "          element.appendChild(docLink);\n",
              "        }\n",
              "      </script>\n",
              "    </div>\n",
              "  </div>\n",
              "  "
            ]
          },
          "metadata": {},
          "execution_count": 102
        }
      ]
    },
    {
      "cell_type": "markdown",
      "metadata": {
        "id": "tldqNCL0AD5s"
      },
      "source": [
        "**Analise** \n",
        "\n",
        "Aqui temos os calculos dos quartis a serem discutidos nos boxplots a seguir"
      ]
    },
    {
      "cell_type": "code",
      "metadata": {
        "colab": {
          "base_uri": "https://localhost:8080/",
          "height": 313
        },
        "id": "9KH_X4flGSh8",
        "outputId": "fab7cb6b-786e-4d52-8ae2-e68141136517"
      },
      "source": [
        "import seaborn as sns\n",
        "sns.boxplot(data=df, y='age',x='Had_Affair')"
      ],
      "execution_count": 103,
      "outputs": [
        {
          "output_type": "execute_result",
          "data": {
            "text/plain": [
              "<matplotlib.axes._subplots.AxesSubplot at 0x7f3777d36150>"
            ]
          },
          "metadata": {},
          "execution_count": 103
        },
        {
          "output_type": "display_data",
          "data": {
            "text/plain": [
              "<Figure size 432x288 with 1 Axes>"
            ],
            "image/png": "[encoded data removed]"
          },
          "metadata": {}
        }
      ]
    },
    {
      "cell_type": "markdown",
      "metadata": {
        "id": "89Tq7zhUW90a"
      },
      "source": [
        "**Análise**\n",
        "\n",
        "Concentração de idade em quem tem affair é maior com o passar da idade."
      ]
    },
    {
      "cell_type": "code",
      "metadata": {
        "colab": {
          "base_uri": "https://localhost:8080/",
          "height": 313
        },
        "id": "PoFcSA23GjXw",
        "outputId": "e959fd4e-9581-474f-b89e-8adb699b7389"
      },
      "source": [
        "sns.boxplot(data=df, y='yrs_married',x='Had_Affair')"
      ],
      "execution_count": 104,
      "outputs": [
        {
          "output_type": "execute_result",
          "data": {
            "text/plain": [
              "<matplotlib.axes._subplots.AxesSubplot at 0x7f3777c4e150>"
            ]
          },
          "metadata": {},
          "execution_count": 104
        },
        {
          "output_type": "display_data",
          "data": {
            "text/plain": [
              "<Figure size 432x288 with 1 Axes>"
            ],
            "image/png": "[encoded data removed]"
          },
          "metadata": {}
        }
      ]
    },
    {
      "cell_type": "markdown",
      "metadata": {
        "id": "xFDrVvb6U5CG"
      },
      "source": [
        "**Análise**\n",
        "\n",
        "Vemos aqui a media de tempo de casado superior para as mulheres que tiveram um caso. Veremos que este junto com nota dada a casamento como os principais fatores que influenciam na traição."
      ]
    },
    {
      "cell_type": "code",
      "metadata": {
        "colab": {
          "base_uri": "https://localhost:8080/",
          "height": 313
        },
        "id": "sjFtcI9fGj5N",
        "outputId": "10ea8b76-2e9a-4dbd-fc8b-efe96468e3fa"
      },
      "source": [
        "sns.boxplot(data=df, y='children',x='Had_Affair')"
      ],
      "execution_count": 105,
      "outputs": [
        {
          "output_type": "execute_result",
          "data": {
            "text/plain": [
              "<matplotlib.axes._subplots.AxesSubplot at 0x7f3778a51550>"
            ]
          },
          "metadata": {},
          "execution_count": 105
        },
        {
          "output_type": "display_data",
          "data": {
            "text/plain": [
              "<Figure size 432x288 with 1 Axes>"
            ],
            "image/png": "[encoded data removed]"
          },
          "metadata": {}
        }
      ]
    },
    {
      "cell_type": "markdown",
      "metadata": {
        "id": "QJxtRwuGVIt8"
      },
      "source": [
        "**Análise**\n",
        "\n",
        "A quantidade de filhos também aparenta ser um fator, menos filhos menor a traição, mais filhos aumenta a propensão para traição."
      ]
    },
    {
      "cell_type": "code",
      "metadata": {
        "colab": {
          "base_uri": "https://localhost:8080/",
          "height": 634
        },
        "id": "3_aE14QvVI2c",
        "outputId": "3f66cbb0-b833-425f-e922-2276a924b0e5"
      },
      "source": [
        "print(df[df['Had_Affair']==0]['rate_marriage'].describe())\n",
        "print(df[df['Had_Affair']==1]['rate_marriage'].describe())\n",
        "sns.boxplot(data=df, y='rate_marriage',x='Had_Affair')"
      ],
      "execution_count": 106,
      "outputs": [
        {
          "output_type": "stream",
          "name": "stdout",
          "text": [
            "count    4313.000000\n",
            "mean        4.329701\n",
            "std         0.821099\n",
            "min         1.000000\n",
            "25%         4.000000\n",
            "50%         5.000000\n",
            "75%         5.000000\n",
            "max         5.000000\n",
            "Name: rate_marriage, dtype: float64\n",
            "count    2053.000000\n",
            "mean        3.647345\n",
            "std         1.065286\n",
            "min         1.000000\n",
            "25%         3.000000\n",
            "50%         4.000000\n",
            "75%         4.000000\n",
            "max         5.000000\n",
            "Name: rate_marriage, dtype: float64\n"
          ]
        },
        {
          "output_type": "execute_result",
          "data": {
            "text/plain": [
              "<matplotlib.axes._subplots.AxesSubplot at 0x7f3778652690>"
            ]
          },
          "metadata": {},
          "execution_count": 106
        },
        {
          "output_type": "display_data",
          "data": {
            "text/plain": [
              "<Figure size 432x288 with 1 Axes>"
            ],
            "image/png": "[encoded data removed]"
          },
          "metadata": {}
        }
      ]
    },
    {
      "cell_type": "markdown",
      "metadata": {
        "id": "9sQUHHQ7VI-O"
      },
      "source": [
        "**Análise**\n",
        "\n",
        "Como podemos ver aqui, a nota dada ao casamento parece ser um fator. As mulheres que nao se envolveram em um caso extra conjugal, apresentam uma nota mediana de 5,0. Enquanto as que se envolveram, tem uma nota mediana de 4,0."
      ]
    },
    {
      "cell_type": "code",
      "metadata": {
        "colab": {
          "base_uri": "https://localhost:8080/",
          "height": 238
        },
        "id": "Yzn4l8xqAQ-5",
        "outputId": "a410d960-d4e0-43e2-e1d1-abfeda848a3d"
      },
      "source": [
        "df[[\t'rate_marriage',\t'age',\t'yrs_married',\t'children',\t'religious',\t'educ']].corr()"
      ],
      "execution_count": 107,
      "outputs": [
        {
          "output_type": "execute_result",
          "data": {
            "text/plain": [
              "               rate_marriage       age  yrs_married  children  religious  \\\n",
              "rate_marriage       1.000000 -0.111127    -0.128978 -0.129161   0.078794   \n",
              "age                -0.111127  1.000000     0.894082  0.673902   0.136598   \n",
              "yrs_married        -0.128978  0.894082     1.000000  0.772806   0.132683   \n",
              "children           -0.129161  0.673902     0.772806  1.000000   0.141845   \n",
              "religious           0.078794  0.136598     0.132683  0.141845   1.000000   \n",
              "educ                0.079869  0.027960    -0.109058 -0.141918   0.032245   \n",
              "\n",
              "                   educ  \n",
              "rate_marriage  0.079869  \n",
              "age            0.027960  \n",
              "yrs_married   -0.109058  \n",
              "children      -0.141918  \n",
              "religious      0.032245  \n",
              "educ           1.000000  "
            ],
            "text/html": [
              "\n",
              "  <div id=\"df-2e561025-f00d-4d5c-9a68-07cf4122a2e1\">\n",
              "    <div class=\"colab-df-container\">\n",
              "      <div>\n",
              "<style scoped>\n",
              "    .dataframe tbody tr th:only-of-type {\n",
              "        vertical-align: middle;\n",
              "    }\n",
              "\n",
              "    .dataframe tbody tr th {\n",
              "        vertical-align: top;\n",
              "    }\n",
              "\n",
              "    .dataframe thead th {\n",
              "        text-align: right;\n",
              "    }\n",
              "</style>\n",
              "<table border=\"1\" class=\"dataframe\">\n",
              "  <thead>\n",
              "    <tr style=\"text-align: right;\">\n",
              "      <th></th>\n",
              "      <th>rate_marriage</th>\n",
              "      <th>age</th>\n",
              "      <th>yrs_married</th>\n",
              "      <th>children</th>\n",
              "      <th>religious</th>\n",
              "      <th>educ</th>\n",
              "    </tr>\n",
              "  </thead>\n",
              "  <tbody>\n",
              "    <tr>\n",
              "      <th>rate_marriage</th>\n",
              "      <td>1.000000</td>\n",
              "      <td>-0.111127</td>\n",
              "      <td>-0.128978</td>\n",
              "      <td>-0.129161</td>\n",
              "      <td>0.078794</td>\n",
              "      <td>0.079869</td>\n",
              "    </tr>\n",
              "    <tr>\n",
              "      <th>age</th>\n",
              "      <td>-0.111127</td>\n",
              "      <td>1.000000</td>\n",
              "      <td>0.894082</td>\n",
              "      <td>0.673902</td>\n",
              "      <td>0.136598</td>\n",
              "      <td>0.027960</td>\n",
              "    </tr>\n",
              "    <tr>\n",
              "      <th>yrs_married</th>\n",
              "      <td>-0.128978</td>\n",
              "      <td>0.894082</td>\n",
              "      <td>1.000000</td>\n",
              "      <td>0.772806</td>\n",
              "      <td>0.132683</td>\n",
              "      <td>-0.109058</td>\n",
              "    </tr>\n",
              "    <tr>\n",
              "      <th>children</th>\n",
              "      <td>-0.129161</td>\n",
              "      <td>0.673902</td>\n",
              "      <td>0.772806</td>\n",
              "      <td>1.000000</td>\n",
              "      <td>0.141845</td>\n",
              "      <td>-0.141918</td>\n",
              "    </tr>\n",
              "    <tr>\n",
              "      <th>religious</th>\n",
              "      <td>0.078794</td>\n",
              "      <td>0.136598</td>\n",
              "      <td>0.132683</td>\n",
              "      <td>0.141845</td>\n",
              "      <td>1.000000</td>\n",
              "      <td>0.032245</td>\n",
              "    </tr>\n",
              "    <tr>\n",
              "      <th>educ</th>\n",
              "      <td>0.079869</td>\n",
              "      <td>0.027960</td>\n",
              "      <td>-0.109058</td>\n",
              "      <td>-0.141918</td>\n",
              "      <td>0.032245</td>\n",
              "      <td>1.000000</td>\n",
              "    </tr>\n",
              "  </tbody>\n",
              "</table>\n",
              "</div>\n",
              "      <button class=\"colab-df-convert\" onclick=\"convertToInteractive('df-2e561025-f00d-4d5c-9a68-07cf4122a2e1')\"\n",
              "              title=\"Convert this dataframe to an interactive table.\"\n",
              "              style=\"display:none;\">\n",
              "        \n",
              "  <svg xmlns=\"http://www.w3.org/2000/svg\" height=\"24px\"viewBox=\"0 0 24 24\"\n",
              "       width=\"24px\">\n",
              "    <path d=\"M0 0h24v24H0V0z\" fill=\"none\"/>\n",
              "    <path d=\"M18.56 5.44l.94 2.06.94-2.06 2.06-.94-2.06-.94-.94-2.06-.94 2.06-2.06.94zm-11 1L8.5 8.5l.94-2.06 2.06-.94-2.06-.94L8.5 2.5l-.94 2.06-2.06.94zm10 10l.94 2.06.94-2.06 2.06-.94-2.06-.94-.94-2.06-.94 2.06-2.06.94z\"/><path d=\"M17.41 7.96l-1.37-1.37c-.4-.4-.92-.59-1.43-.59-.52 0-1.04.2-1.43.59L10.3 9.45l-7.72 7.72c-.78.78-.78 2.05 0 2.83L4 21.41c.39.39.9.59 1.41.59.51 0 1.02-.2 1.41-.59l7.78-7.78 2.81-2.81c.8-.78.8-2.07 0-2.86zM5.41 20L4 18.59l7.72-7.72 1.47 1.35L5.41 20z\"/>\n",
              "  </svg>\n",
              "      </button>\n",
              "      \n",
              "  <style>\n",
              "    .colab-df-container {\n",
              "      display:flex;\n",
              "      flex-wrap:wrap;\n",
              "      gap: 12px;\n",
              "    }\n",
              "\n",
              "    .colab-df-convert {\n",
              "      background-color: #E8F0FE;\n",
              "      border: none;\n",
              "      border-radius: 50%;\n",
              "      cursor: pointer;\n",
              "      display: none;\n",
              "      fill: #1967D2;\n",
              "      height: 32px;\n",
              "      padding: 0 0 0 0;\n",
              "      width: 32px;\n",
              "    }\n",
              "\n",
              "    .colab-df-convert:hover {\n",
              "      background-color: #E2EBFA;\n",
              "      box-shadow: 0px 1px 2px rgba(60, 64, 67, 0.3), 0px 1px 3px 1px rgba(60, 64, 67, 0.15);\n",
              "      fill: #174EA6;\n",
              "    }\n",
              "\n",
              "    [theme=dark] .colab-df-convert {\n",
              "      background-color: #3B4455;\n",
              "      fill: #D2E3FC;\n",
              "    }\n",
              "\n",
              "    [theme=dark] .colab-df-convert:hover {\n",
              "      background-color: #434B5C;\n",
              "      box-shadow: 0px 1px 3px 1px rgba(0, 0, 0, 0.15);\n",
              "      filter: drop-shadow(0px 1px 2px rgba(0, 0, 0, 0.3));\n",
              "      fill: #FFFFFF;\n",
              "    }\n",
              "  </style>\n",
              "\n",
              "      <script>\n",
              "        const buttonEl =\n",
              "          document.querySelector('#df-2e561025-f00d-4d5c-9a68-07cf4122a2e1 button.colab-df-convert');\n",
              "        buttonEl.style.display =\n",
              "          google.colab.kernel.accessAllowed ? 'block' : 'none';\n",
              "\n",
              "        async function convertToInteractive(key) {\n",
              "          const element = document.querySelector('#df-2e561025-f00d-4d5c-9a68-07cf4122a2e1');\n",
              "          const dataTable =\n",
              "            await google.colab.kernel.invokeFunction('convertToInteractive',\n",
              "                                                     [key], {});\n",
              "          if (!dataTable) return;\n",
              "\n",
              "          const docLinkHtml = 'Like what you see? Visit the ' +\n",
              "            '<a target=\"_blank\" href=https://colab.research.google.com/notebooks/data_table.ipynb>data table notebook</a>'\n",
              "            + ' to learn more about interactive tables.';\n",
              "          element.innerHTML = '';\n",
              "          dataTable['output_type'] = 'display_data';\n",
              "          await google.colab.output.renderOutput(dataTable, element);\n",
              "          const docLink = document.createElement('div');\n",
              "          docLink.innerHTML = docLinkHtml;\n",
              "          element.appendChild(docLink);\n",
              "        }\n",
              "      </script>\n",
              "    </div>\n",
              "  </div>\n",
              "  "
            ]
          },
          "metadata": {},
          "execution_count": 107
        }
      ]
    },
    {
      "cell_type": "code",
      "metadata": {
        "colab": {
          "base_uri": "https://localhost:8080/",
          "height": 391
        },
        "id": "3yNwAR2BBI_p",
        "outputId": "f44243fd-aeff-4007-b402-c81c340e968c"
      },
      "source": [
        "import seaborn as sns\n",
        "sns.heatmap(df[[\t'rate_marriage',\t'age',\t'yrs_married',\t'children',\t'religious',\t'educ']].corr())"
      ],
      "execution_count": 108,
      "outputs": [
        {
          "output_type": "execute_result",
          "data": {
            "text/plain": [
              "<matplotlib.axes._subplots.AxesSubplot at 0x7f3778744410>"
            ]
          },
          "metadata": {},
          "execution_count": 108
        },
        {
          "output_type": "display_data",
          "data": {
            "text/plain": [
              "<Figure size 432x288 with 2 Axes>"
            ],
            "image/png": "[encoded data removed]"
          },
          "metadata": {}
        }
      ]
    },
    {
      "cell_type": "markdown",
      "metadata": {
        "id": "DRbMG0WsBtTX"
      },
      "source": [
        "Observando as features discretas na tabela de correlacao acima e no respetivo mapa de calor, temos a percepcao que idade esta altamente relacionada com tempo de casamento e quantidade de filhos. Alem da quantidade de filhos estar correlacionada com tempo de casamento. Estes podem ser indicios para nao utilizar a variavel idade. Bem como talvez substituir a variavel quantidade de filhos para se tem filho ou nao."
      ]
    },
    {
      "cell_type": "markdown",
      "metadata": {
        "id": "d94zoYTuH4ds"
      },
      "source": [
        "# Data Engenieering"
      ]
    },
    {
      "cell_type": "markdown",
      "metadata": {
        "id": "DL5TBNJLC_Dr"
      },
      "source": [
        "Nessa secao faremos um pre-processamento de dados para poder trabalhalos no modelos. Entre as operacoes faremos a transformacao de variaveis categoricas para variaveis dummies. Alem disso, criaremos a coluna de se tem filho ou nao. Por fim, faremos separacao dos dados de treino e teste"
      ]
    },
    {
      "cell_type": "code",
      "metadata": {
        "colab": {
          "base_uri": "https://localhost:8080/",
          "height": 300
        },
        "id": "T5qEedi0H94F",
        "outputId": "39bc1df2-e318-4e3b-fb94-fa12e612c8cd"
      },
      "source": [
        "# Transformando features categoricas em colunas distintas (dummies), Occupation e Occupation_husb. \n",
        "occ_dummies = pd.get_dummies(df['occupation'])\n",
        "hus_occ_dummies = pd.get_dummies(df['occupation_husb'])\n",
        "occ_dummies.columns = ['occ1','occ2','occ3','occ4','occ5','occ6']\n",
        "hus_occ_dummies.columns = ['hocc1','hocc2','hocc3','hocc4','hocc5','hocc6']\n",
        "X = pd.concat([df,occ_dummies,hus_occ_dummies],axis=1)\n",
        "X.head()"
      ],
      "execution_count": 109,
      "outputs": [
        {
          "output_type": "execute_result",
          "data": {
            "text/plain": [
              "   rate_marriage   age  yrs_married  children  religious  educ  occupation  \\\n",
              "0            3.0  32.0          9.0       3.0        3.0  17.0         2.0   \n",
              "1            3.0  27.0         13.0       3.0        1.0  14.0         3.0   \n",
              "2            4.0  22.0          2.5       0.0        1.0  16.0         3.0   \n",
              "3            4.0  37.0         16.5       4.0        3.0  16.0         5.0   \n",
              "4            5.0  27.0          9.0       1.0        1.0  14.0         3.0   \n",
              "\n",
              "   occupation_husb  Had_Affair  occ1  ...  occ3  occ4  occ5  occ6  hocc1  \\\n",
              "0              5.0           1     0  ...     0     0     0     0      0   \n",
              "1              4.0           1     0  ...     1     0     0     0      0   \n",
              "2              5.0           1     0  ...     1     0     0     0      0   \n",
              "3              5.0           1     0  ...     0     0     1     0      0   \n",
              "4              4.0           1     0  ...     1     0     0     0      0   \n",
              "\n",
              "   hocc2  hocc3  hocc4  hocc5  hocc6  \n",
              "0      0      0      0      1      0  \n",
              "1      0      0      1      0      0  \n",
              "2      0      0      0      1      0  \n",
              "3      0      0      0      1      0  \n",
              "4      0      0      1      0      0  \n",
              "\n",
              "[5 rows x 21 columns]"
            ],
            "text/html": [
              "\n",
              "  <div id=\"df-2c6ce201-4cf1-42f9-be8f-65139241fa7d\">\n",
              "    <div class=\"colab-df-container\">\n",
              "      <div>\n",
              "<style scoped>\n",
              "    .dataframe tbody tr th:only-of-type {\n",
              "        vertical-align: middle;\n",
              "    }\n",
              "\n",
              "    .dataframe tbody tr th {\n",
              "        vertical-align: top;\n",
              "    }\n",
              "\n",
              "    .dataframe thead th {\n",
              "        text-align: right;\n",
              "    }\n",
              "</style>\n",
              "<table border=\"1\" class=\"dataframe\">\n",
              "  <thead>\n",
              "    <tr style=\"text-align: right;\">\n",
              "      <th></th>\n",
              "      <th>rate_marriage</th>\n",
              "      <th>age</th>\n",
              "      <th>yrs_married</th>\n",
              "      <th>children</th>\n",
              "      <th>religious</th>\n",
              "      <th>educ</th>\n",
              "      <th>occupation</th>\n",
              "      <th>occupation_husb</th>\n",
              "      <th>Had_Affair</th>\n",
              "      <th>occ1</th>\n",
              "      <th>...</th>\n",
              "      <th>occ3</th>\n",
              "      <th>occ4</th>\n",
              "      <th>occ5</th>\n",
              "      <th>occ6</th>\n",
              "      <th>hocc1</th>\n",
              "      <th>hocc2</th>\n",
              "      <th>hocc3</th>\n",
              "      <th>hocc4</th>\n",
              "      <th>hocc5</th>\n",
              "      <th>hocc6</th>\n",
              "    </tr>\n",
              "  </thead>\n",
              "  <tbody>\n",
              "    <tr>\n",
              "      <th>0</th>\n",
              "      <td>3.0</td>\n",
              "      <td>32.0</td>\n",
              "      <td>9.0</td>\n",
              "      <td>3.0</td>\n",
              "      <td>3.0</td>\n",
              "      <td>17.0</td>\n",
              "      <td>2.0</td>\n",
              "      <td>5.0</td>\n",
              "      <td>1</td>\n",
              "      <td>0</td>\n",
              "      <td>...</td>\n",
              "      <td>0</td>\n",
              "      <td>0</td>\n",
              "      <td>0</td>\n",
              "      <td>0</td>\n",
              "      <td>0</td>\n",
              "      <td>0</td>\n",
              "      <td>0</td>\n",
              "      <td>0</td>\n",
              "      <td>1</td>\n",
              "      <td>0</td>\n",
              "    </tr>\n",
              "    <tr>\n",
              "      <th>1</th>\n",
              "      <td>3.0</td>\n",
              "      <td>27.0</td>\n",
              "      <td>13.0</td>\n",
              "      <td>3.0</td>\n",
              "      <td>1.0</td>\n",
              "      <td>14.0</td>\n",
              "      <td>3.0</td>\n",
              "      <td>4.0</td>\n",
              "      <td>1</td>\n",
              "      <td>0</td>\n",
              "      <td>...</td>\n",
              "      <td>1</td>\n",
              "      <td>0</td>\n",
              "      <td>0</td>\n",
              "      <td>0</td>\n",
              "      <td>0</td>\n",
              "      <td>0</td>\n",
              "      <td>0</td>\n",
              "      <td>1</td>\n",
              "      <td>0</td>\n",
              "      <td>0</td>\n",
              "    </tr>\n",
              "    <tr>\n",
              "      <th>2</th>\n",
              "      <td>4.0</td>\n",
              "      <td>22.0</td>\n",
              "      <td>2.5</td>\n",
              "      <td>0.0</td>\n",
              "      <td>1.0</td>\n",
              "      <td>16.0</td>\n",
              "      <td>3.0</td>\n",
              "      <td>5.0</td>\n",
              "      <td>1</td>\n",
              "      <td>0</td>\n",
              "      <td>...</td>\n",
              "      <td>1</td>\n",
              "      <td>0</td>\n",
              "      <td>0</td>\n",
              "      <td>0</td>\n",
              "      <td>0</td>\n",
              "      <td>0</td>\n",
              "      <td>0</td>\n",
              "      <td>0</td>\n",
              "      <td>1</td>\n",
              "      <td>0</td>\n",
              "    </tr>\n",
              "    <tr>\n",
              "      <th>3</th>\n",
              "      <td>4.0</td>\n",
              "      <td>37.0</td>\n",
              "      <td>16.5</td>\n",
              "      <td>4.0</td>\n",
              "      <td>3.0</td>\n",
              "      <td>16.0</td>\n",
              "      <td>5.0</td>\n",
              "      <td>5.0</td>\n",
              "      <td>1</td>\n",
              "      <td>0</td>\n",
              "      <td>...</td>\n",
              "      <td>0</td>\n",
              "      <td>0</td>\n",
              "      <td>1</td>\n",
              "      <td>0</td>\n",
              "      <td>0</td>\n",
              "      <td>0</td>\n",
              "      <td>0</td>\n",
              "      <td>0</td>\n",
              "      <td>1</td>\n",
              "      <td>0</td>\n",
              "    </tr>\n",
              "    <tr>\n",
              "      <th>4</th>\n",
              "      <td>5.0</td>\n",
              "      <td>27.0</td>\n",
              "      <td>9.0</td>\n",
              "      <td>1.0</td>\n",
              "      <td>1.0</td>\n",
              "      <td>14.0</td>\n",
              "      <td>3.0</td>\n",
              "      <td>4.0</td>\n",
              "      <td>1</td>\n",
              "      <td>0</td>\n",
              "      <td>...</td>\n",
              "      <td>1</td>\n",
              "      <td>0</td>\n",
              "      <td>0</td>\n",
              "      <td>0</td>\n",
              "      <td>0</td>\n",
              "      <td>0</td>\n",
              "      <td>0</td>\n",
              "      <td>1</td>\n",
              "      <td>0</td>\n",
              "      <td>0</td>\n",
              "    </tr>\n",
              "  </tbody>\n",
              "</table>\n",
              "<p>5 rows × 21 columns</p>\n",
              "</div>\n",
              "      <button class=\"colab-df-convert\" onclick=\"convertToInteractive('df-2c6ce201-4cf1-42f9-be8f-65139241fa7d')\"\n",
              "              title=\"Convert this dataframe to an interactive table.\"\n",
              "              style=\"display:none;\">\n",
              "        \n",
              "  <svg xmlns=\"http://www.w3.org/2000/svg\" height=\"24px\"viewBox=\"0 0 24 24\"\n",
              "       width=\"24px\">\n",
              "    <path d=\"M0 0h24v24H0V0z\" fill=\"none\"/>\n",
              "    <path d=\"M18.56 5.44l.94 2.06.94-2.06 2.06-.94-2.06-.94-.94-2.06-.94 2.06-2.06.94zm-11 1L8.5 8.5l.94-2.06 2.06-.94-2.06-.94L8.5 2.5l-.94 2.06-2.06.94zm10 10l.94 2.06.94-2.06 2.06-.94-2.06-.94-.94-2.06-.94 2.06-2.06.94z\"/><path d=\"M17.41 7.96l-1.37-1.37c-.4-.4-.92-.59-1.43-.59-.52 0-1.04.2-1.43.59L10.3 9.45l-7.72 7.72c-.78.78-.78 2.05 0 2.83L4 21.41c.39.39.9.59 1.41.59.51 0 1.02-.2 1.41-.59l7.78-7.78 2.81-2.81c.8-.78.8-2.07 0-2.86zM5.41 20L4 18.59l7.72-7.72 1.47 1.35L5.41 20z\"/>\n",
              "  </svg>\n",
              "      </button>\n",
              "      \n",
              "  <style>\n",
              "    .colab-df-container {\n",
              "      display:flex;\n",
              "      flex-wrap:wrap;\n",
              "      gap: 12px;\n",
              "    }\n",
              "\n",
              "    .colab-df-convert {\n",
              "      background-color: #E8F0FE;\n",
              "      border: none;\n",
              "      border-radius: 50%;\n",
              "      cursor: pointer;\n",
              "      display: none;\n",
              "      fill: #1967D2;\n",
              "      height: 32px;\n",
              "      padding: 0 0 0 0;\n",
              "      width: 32px;\n",
              "    }\n",
              "\n",
              "    .colab-df-convert:hover {\n",
              "      background-color: #E2EBFA;\n",
              "      box-shadow: 0px 1px 2px rgba(60, 64, 67, 0.3), 0px 1px 3px 1px rgba(60, 64, 67, 0.15);\n",
              "      fill: #174EA6;\n",
              "    }\n",
              "\n",
              "    [theme=dark] .colab-df-convert {\n",
              "      background-color: #3B4455;\n",
              "      fill: #D2E3FC;\n",
              "    }\n",
              "\n",
              "    [theme=dark] .colab-df-convert:hover {\n",
              "      background-color: #434B5C;\n",
              "      box-shadow: 0px 1px 3px 1px rgba(0, 0, 0, 0.15);\n",
              "      filter: drop-shadow(0px 1px 2px rgba(0, 0, 0, 0.3));\n",
              "      fill: #FFFFFF;\n",
              "    }\n",
              "  </style>\n",
              "\n",
              "      <script>\n",
              "        const buttonEl =\n",
              "          document.querySelector('#df-2c6ce201-4cf1-42f9-be8f-65139241fa7d button.colab-df-convert');\n",
              "        buttonEl.style.display =\n",
              "          google.colab.kernel.accessAllowed ? 'block' : 'none';\n",
              "\n",
              "        async function convertToInteractive(key) {\n",
              "          const element = document.querySelector('#df-2c6ce201-4cf1-42f9-be8f-65139241fa7d');\n",
              "          const dataTable =\n",
              "            await google.colab.kernel.invokeFunction('convertToInteractive',\n",
              "                                                     [key], {});\n",
              "          if (!dataTable) return;\n",
              "\n",
              "          const docLinkHtml = 'Like what you see? Visit the ' +\n",
              "            '<a target=\"_blank\" href=https://colab.research.google.com/notebooks/data_table.ipynb>data table notebook</a>'\n",
              "            + ' to learn more about interactive tables.';\n",
              "          element.innerHTML = '';\n",
              "          dataTable['output_type'] = 'display_data';\n",
              "          await google.colab.output.renderOutput(dataTable, element);\n",
              "          const docLink = document.createElement('div');\n",
              "          docLink.innerHTML = docLinkHtml;\n",
              "          element.appendChild(docLink);\n",
              "        }\n",
              "      </script>\n",
              "    </div>\n",
              "  </div>\n",
              "  "
            ]
          },
          "metadata": {},
          "execution_count": 109
        }
      ]
    },
    {
      "cell_type": "code",
      "metadata": {
        "id": "n8H2iWv9DvM7"
      },
      "source": [
        "# Criacao da coluna se tem filhos\n",
        "X['tem_filhos'] = X['children'] > 0\n",
        "X['tem_filhos'] = X['tem_filhos'].map({True:1,False:0})"
      ],
      "execution_count": 110,
      "outputs": []
    },
    {
      "cell_type": "code",
      "metadata": {
        "colab": {
          "base_uri": "https://localhost:8080/",
          "height": 270
        },
        "id": "hulXT9g6H_6R",
        "outputId": "b75f2fea-bedc-4add-d21f-a0729c694b07"
      },
      "source": [
        "\n",
        "# Removendo o label, Had_Affair, features que nao serao usadas na previsao, como Occupation e Occupation_husb. \n",
        "# Bem como uma das dummies para evitar colineariedade entre features, occ1','hocc1\n",
        "Xs = X.drop(['children','occupation','occupation_husb','Had_Affair','occ1','hocc1'],axis=1)\n",
        "Xs.head()"
      ],
      "execution_count": 111,
      "outputs": [
        {
          "output_type": "execute_result",
          "data": {
            "text/plain": [
              "   rate_marriage   age  yrs_married  religious  educ  occ2  occ3  occ4  occ5  \\\n",
              "0            3.0  32.0          9.0        3.0  17.0     1     0     0     0   \n",
              "1            3.0  27.0         13.0        1.0  14.0     0     1     0     0   \n",
              "2            4.0  22.0          2.5        1.0  16.0     0     1     0     0   \n",
              "3            4.0  37.0         16.5        3.0  16.0     0     0     0     1   \n",
              "4            5.0  27.0          9.0        1.0  14.0     0     1     0     0   \n",
              "\n",
              "   occ6  hocc2  hocc3  hocc4  hocc5  hocc6  tem_filhos  \n",
              "0     0      0      0      0      1      0           1  \n",
              "1     0      0      0      1      0      0           1  \n",
              "2     0      0      0      0      1      0           0  \n",
              "3     0      0      0      0      1      0           1  \n",
              "4     0      0      0      1      0      0           1  "
            ],
            "text/html": [
              "\n",
              "  <div id=\"df-05111da3-0d83-4ae8-810f-b80f4fdf0506\">\n",
              "    <div class=\"colab-df-container\">\n",
              "      <div>\n",
              "<style scoped>\n",
              "    .dataframe tbody tr th:only-of-type {\n",
              "        vertical-align: middle;\n",
              "    }\n",
              "\n",
              "    .dataframe tbody tr th {\n",
              "        vertical-align: top;\n",
              "    }\n",
              "\n",
              "    .dataframe thead th {\n",
              "        text-align: right;\n",
              "    }\n",
              "</style>\n",
              "<table border=\"1\" class=\"dataframe\">\n",
              "  <thead>\n",
              "    <tr style=\"text-align: right;\">\n",
              "      <th></th>\n",
              "      <th>rate_marriage</th>\n",
              "      <th>age</th>\n",
              "      <th>yrs_married</th>\n",
              "      <th>religious</th>\n",
              "      <th>educ</th>\n",
              "      <th>occ2</th>\n",
              "      <th>occ3</th>\n",
              "      <th>occ4</th>\n",
              "      <th>occ5</th>\n",
              "      <th>occ6</th>\n",
              "      <th>hocc2</th>\n",
              "      <th>hocc3</th>\n",
              "      <th>hocc4</th>\n",
              "      <th>hocc5</th>\n",
              "      <th>hocc6</th>\n",
              "      <th>tem_filhos</th>\n",
              "    </tr>\n",
              "  </thead>\n",
              "  <tbody>\n",
              "    <tr>\n",
              "      <th>0</th>\n",
              "      <td>3.0</td>\n",
              "      <td>32.0</td>\n",
              "      <td>9.0</td>\n",
              "      <td>3.0</td>\n",
              "      <td>17.0</td>\n",
              "      <td>1</td>\n",
              "      <td>0</td>\n",
              "      <td>0</td>\n",
              "      <td>0</td>\n",
              "      <td>0</td>\n",
              "      <td>0</td>\n",
              "      <td>0</td>\n",
              "      <td>0</td>\n",
              "      <td>1</td>\n",
              "      <td>0</td>\n",
              "      <td>1</td>\n",
              "    </tr>\n",
              "    <tr>\n",
              "      <th>1</th>\n",
              "      <td>3.0</td>\n",
              "      <td>27.0</td>\n",
              "      <td>13.0</td>\n",
              "      <td>1.0</td>\n",
              "      <td>14.0</td>\n",
              "      <td>0</td>\n",
              "      <td>1</td>\n",
              "      <td>0</td>\n",
              "      <td>0</td>\n",
              "      <td>0</td>\n",
              "      <td>0</td>\n",
              "      <td>0</td>\n",
              "      <td>1</td>\n",
              "      <td>0</td>\n",
              "      <td>0</td>\n",
              "      <td>1</td>\n",
              "    </tr>\n",
              "    <tr>\n",
              "      <th>2</th>\n",
              "      <td>4.0</td>\n",
              "      <td>22.0</td>\n",
              "      <td>2.5</td>\n",
              "      <td>1.0</td>\n",
              "      <td>16.0</td>\n",
              "      <td>0</td>\n",
              "      <td>1</td>\n",
              "      <td>0</td>\n",
              "      <td>0</td>\n",
              "      <td>0</td>\n",
              "      <td>0</td>\n",
              "      <td>0</td>\n",
              "      <td>0</td>\n",
              "      <td>1</td>\n",
              "      <td>0</td>\n",
              "      <td>0</td>\n",
              "    </tr>\n",
              "    <tr>\n",
              "      <th>3</th>\n",
              "      <td>4.0</td>\n",
              "      <td>37.0</td>\n",
              "      <td>16.5</td>\n",
              "      <td>3.0</td>\n",
              "      <td>16.0</td>\n",
              "      <td>0</td>\n",
              "      <td>0</td>\n",
              "      <td>0</td>\n",
              "      <td>1</td>\n",
              "      <td>0</td>\n",
              "      <td>0</td>\n",
              "      <td>0</td>\n",
              "      <td>0</td>\n",
              "      <td>1</td>\n",
              "      <td>0</td>\n",
              "      <td>1</td>\n",
              "    </tr>\n",
              "    <tr>\n",
              "      <th>4</th>\n",
              "      <td>5.0</td>\n",
              "      <td>27.0</td>\n",
              "      <td>9.0</td>\n",
              "      <td>1.0</td>\n",
              "      <td>14.0</td>\n",
              "      <td>0</td>\n",
              "      <td>1</td>\n",
              "      <td>0</td>\n",
              "      <td>0</td>\n",
              "      <td>0</td>\n",
              "      <td>0</td>\n",
              "      <td>0</td>\n",
              "      <td>1</td>\n",
              "      <td>0</td>\n",
              "      <td>0</td>\n",
              "      <td>1</td>\n",
              "    </tr>\n",
              "  </tbody>\n",
              "</table>\n",
              "</div>\n",
              "      <button class=\"colab-df-convert\" onclick=\"convertToInteractive('df-05111da3-0d83-4ae8-810f-b80f4fdf0506')\"\n",
              "              title=\"Convert this dataframe to an interactive table.\"\n",
              "              style=\"display:none;\">\n",
              "        \n",
              "  <svg xmlns=\"http://www.w3.org/2000/svg\" height=\"24px\"viewBox=\"0 0 24 24\"\n",
              "       width=\"24px\">\n",
              "    <path d=\"M0 0h24v24H0V0z\" fill=\"none\"/>\n",
              "    <path d=\"M18.56 5.44l.94 2.06.94-2.06 2.06-.94-2.06-.94-.94-2.06-.94 2.06-2.06.94zm-11 1L8.5 8.5l.94-2.06 2.06-.94-2.06-.94L8.5 2.5l-.94 2.06-2.06.94zm10 10l.94 2.06.94-2.06 2.06-.94-2.06-.94-.94-2.06-.94 2.06-2.06.94z\"/><path d=\"M17.41 7.96l-1.37-1.37c-.4-.4-.92-.59-1.43-.59-.52 0-1.04.2-1.43.59L10.3 9.45l-7.72 7.72c-.78.78-.78 2.05 0 2.83L4 21.41c.39.39.9.59 1.41.59.51 0 1.02-.2 1.41-.59l7.78-7.78 2.81-2.81c.8-.78.8-2.07 0-2.86zM5.41 20L4 18.59l7.72-7.72 1.47 1.35L5.41 20z\"/>\n",
              "  </svg>\n",
              "      </button>\n",
              "      \n",
              "  <style>\n",
              "    .colab-df-container {\n",
              "      display:flex;\n",
              "      flex-wrap:wrap;\n",
              "      gap: 12px;\n",
              "    }\n",
              "\n",
              "    .colab-df-convert {\n",
              "      background-color: #E8F0FE;\n",
              "      border: none;\n",
              "      border-radius: 50%;\n",
              "      cursor: pointer;\n",
              "      display: none;\n",
              "      fill: #1967D2;\n",
              "      height: 32px;\n",
              "      padding: 0 0 0 0;\n",
              "      width: 32px;\n",
              "    }\n",
              "\n",
              "    .colab-df-convert:hover {\n",
              "      background-color: #E2EBFA;\n",
              "      box-shadow: 0px 1px 2px rgba(60, 64, 67, 0.3), 0px 1px 3px 1px rgba(60, 64, 67, 0.15);\n",
              "      fill: #174EA6;\n",
              "    }\n",
              "\n",
              "    [theme=dark] .colab-df-convert {\n",
              "      background-color: #3B4455;\n",
              "      fill: #D2E3FC;\n",
              "    }\n",
              "\n",
              "    [theme=dark] .colab-df-convert:hover {\n",
              "      background-color: #434B5C;\n",
              "      box-shadow: 0px 1px 3px 1px rgba(0, 0, 0, 0.15);\n",
              "      filter: drop-shadow(0px 1px 2px rgba(0, 0, 0, 0.3));\n",
              "      fill: #FFFFFF;\n",
              "    }\n",
              "  </style>\n",
              "\n",
              "      <script>\n",
              "        const buttonEl =\n",
              "          document.querySelector('#df-05111da3-0d83-4ae8-810f-b80f4fdf0506 button.colab-df-convert');\n",
              "        buttonEl.style.display =\n",
              "          google.colab.kernel.accessAllowed ? 'block' : 'none';\n",
              "\n",
              "        async function convertToInteractive(key) {\n",
              "          const element = document.querySelector('#df-05111da3-0d83-4ae8-810f-b80f4fdf0506');\n",
              "          const dataTable =\n",
              "            await google.colab.kernel.invokeFunction('convertToInteractive',\n",
              "                                                     [key], {});\n",
              "          if (!dataTable) return;\n",
              "\n",
              "          const docLinkHtml = 'Like what you see? Visit the ' +\n",
              "            '<a target=\"_blank\" href=https://colab.research.google.com/notebooks/data_table.ipynb>data table notebook</a>'\n",
              "            + ' to learn more about interactive tables.';\n",
              "          element.innerHTML = '';\n",
              "          dataTable['output_type'] = 'display_data';\n",
              "          await google.colab.output.renderOutput(dataTable, element);\n",
              "          const docLink = document.createElement('div');\n",
              "          docLink.innerHTML = docLinkHtml;\n",
              "          element.appendChild(docLink);\n",
              "        }\n",
              "      </script>\n",
              "    </div>\n",
              "  </div>\n",
              "  "
            ]
          },
          "metadata": {},
          "execution_count": 111
        }
      ]
    },
    {
      "cell_type": "code",
      "metadata": {
        "colab": {
          "base_uri": "https://localhost:8080/"
        },
        "id": "0h_QOrZ1IFN2",
        "outputId": "783bd5c9-1553-467f-e12e-e5eeaad9cc48"
      },
      "source": [
        "Y = df.Had_Affair\n",
        "Y.head()"
      ],
      "execution_count": 112,
      "outputs": [
        {
          "output_type": "execute_result",
          "data": {
            "text/plain": [
              "0    1\n",
              "1    1\n",
              "2    1\n",
              "3    1\n",
              "4    1\n",
              "Name: Had_Affair, dtype: int64"
            ]
          },
          "metadata": {},
          "execution_count": 112
        }
      ]
    },
    {
      "cell_type": "code",
      "metadata": {
        "id": "ohShudn8IXJu"
      },
      "source": [
        "# Separacao dos dados de treino e teste\n",
        "from sklearn.model_selection import train_test_split\n",
        "from sklearn import metrics\n",
        "from sklearn.metrics import mean_squared_error,accuracy_score,confusion_matrix\n",
        "\n",
        "\n",
        "X_train, X_test, Y_train, Y_test = train_test_split(Xs, Y) "
      ],
      "execution_count": 113,
      "outputs": []
    },
    {
      "cell_type": "markdown",
      "metadata": {
        "id": "eKdRH47M_LoK"
      },
      "source": [
        "# Regressao Logistica"
      ]
    },
    {
      "cell_type": "markdown",
      "metadata": {
        "id": "YmlIWaEhO8XB"
      },
      "source": [
        "Vamos inicialmente criar uma Regressao Logistica com todas as variaveis, e na sequencia ir removendo as menos relevantes, uma de cada vez."
      ]
    },
    {
      "cell_type": "code",
      "metadata": {
        "colab": {
          "base_uri": "https://localhost:8080/",
          "height": 692
        },
        "id": "DFOo21MyEk69",
        "outputId": "ca3b2abf-43f9-43e3-f752-c48cf961828c"
      },
      "source": [
        "import statsmodels.api as sm\n",
        "XX = sm.add_constant(Xs)\n",
        "\n",
        "rl1 = sm.Logit(Y, XX).fit()\n",
        "rl1.summary2().tables[1]"
      ],
      "execution_count": 114,
      "outputs": [
        {
          "output_type": "stream",
          "name": "stdout",
          "text": [
            "Optimization terminated successfully.\n",
            "         Current function value: 0.540604\n",
            "         Iterations 6\n"
          ]
        },
        {
          "output_type": "stream",
          "name": "stderr",
          "text": [
            "/usr/local/lib/python3.7/dist-packages/statsmodels/tsa/tsatools.py:117: FutureWarning: In a future version of pandas all arguments of concat except for the argument 'objs' will be keyword-only\n",
            "  x = pd.concat(x[::order], 1)\n"
          ]
        },
        {
          "output_type": "execute_result",
          "data": {
            "text/plain": [
              "                  Coef.  Std.Err.          z          P>|z|    [0.025  \\\n",
              "const          2.679728  0.576809   4.645784   3.387878e-06  1.549204   \n",
              "rate_marriage -0.694059  0.031580 -21.978133  4.662489e-107 -0.755954   \n",
              "age           -0.058084  0.010381  -5.595200   2.203678e-08 -0.078430   \n",
              "yrs_married    0.091918  0.010337   8.891811   6.012113e-19  0.071657   \n",
              "religious     -0.383416  0.034930 -10.976657   4.948982e-28 -0.451878   \n",
              "educ           0.005239  0.017389   0.301285   7.631975e-01 -0.028843   \n",
              "occ2           0.366616  0.450450   0.813887   4.157095e-01 -0.516250   \n",
              "occ3           0.723502  0.444317   1.628345   1.034519e-01 -0.147344   \n",
              "occ4           0.453069  0.445369   1.017289   3.090160e-01 -0.419838   \n",
              "occ5           1.076255  0.449489   2.394396   1.664778e-02  0.195272   \n",
              "occ6           1.110533  0.496508   2.236689   2.530667e-02  0.137396   \n",
              "hocc2          0.105205  0.187204   0.561981   5.741291e-01 -0.261708   \n",
              "hocc3          0.219519  0.203243   1.080083   2.801050e-01 -0.178830   \n",
              "hocc4          0.070498  0.182231   0.386860   6.988601e-01 -0.286669   \n",
              "hocc5          0.107699  0.183788   0.585997   5.578775e-01 -0.252519   \n",
              "hocc6          0.121560  0.204749   0.593704   5.527098e-01 -0.279740   \n",
              "tem_filhos     0.435518  0.080108   5.436615   5.430233e-08  0.278508   \n",
              "\n",
              "                 0.975]  \n",
              "const          3.810253  \n",
              "rate_marriage -0.632164  \n",
              "age           -0.037737  \n",
              "yrs_married    0.112179  \n",
              "religious     -0.314954  \n",
              "educ           0.039322  \n",
              "occ2           1.249482  \n",
              "occ3           1.594348  \n",
              "occ4           1.325976  \n",
              "occ5           1.957237  \n",
              "occ6           2.083670  \n",
              "hocc2          0.472119  \n",
              "hocc3          0.617868  \n",
              "hocc4          0.427665  \n",
              "hocc5          0.467917  \n",
              "hocc6          0.522860  \n",
              "tem_filhos     0.592527  "
            ],
            "text/html": [
              "\n",
              "  <div id=\"df-8d7ebfe2-7b56-447e-9da7-c9d688ca613f\">\n",
              "    <div class=\"colab-df-container\">\n",
              "      <div>\n",
              "<style scoped>\n",
              "    .dataframe tbody tr th:only-of-type {\n",
              "        vertical-align: middle;\n",
              "    }\n",
              "\n",
              "    .dataframe tbody tr th {\n",
              "        vertical-align: top;\n",
              "    }\n",
              "\n",
              "    .dataframe thead th {\n",
              "        text-align: right;\n",
              "    }\n",
              "</style>\n",
              "<table border=\"1\" class=\"dataframe\">\n",
              "  <thead>\n",
              "    <tr style=\"text-align: right;\">\n",
              "      <th></th>\n",
              "      <th>Coef.</th>\n",
              "      <th>Std.Err.</th>\n",
              "      <th>z</th>\n",
              "      <th>P&gt;|z|</th>\n",
              "      <th>[0.025</th>\n",
              "      <th>0.975]</th>\n",
              "    </tr>\n",
              "  </thead>\n",
              "  <tbody>\n",
              "    <tr>\n",
              "      <th>const</th>\n",
              "      <td>2.679728</td>\n",
              "      <td>0.576809</td>\n",
              "      <td>4.645784</td>\n",
              "      <td>3.387878e-06</td>\n",
              "      <td>1.549204</td>\n",
              "      <td>3.810253</td>\n",
              "    </tr>\n",
              "    <tr>\n",
              "      <th>rate_marriage</th>\n",
              "      <td>-0.694059</td>\n",
              "      <td>0.031580</td>\n",
              "      <td>-21.978133</td>\n",
              "      <td>4.662489e-107</td>\n",
              "      <td>-0.755954</td>\n",
              "      <td>-0.632164</td>\n",
              "    </tr>\n",
              "    <tr>\n",
              "      <th>age</th>\n",
              "      <td>-0.058084</td>\n",
              "      <td>0.010381</td>\n",
              "      <td>-5.595200</td>\n",
              "      <td>2.203678e-08</td>\n",
              "      <td>-0.078430</td>\n",
              "      <td>-0.037737</td>\n",
              "    </tr>\n",
              "    <tr>\n",
              "      <th>yrs_married</th>\n",
              "      <td>0.091918</td>\n",
              "      <td>0.010337</td>\n",
              "      <td>8.891811</td>\n",
              "      <td>6.012113e-19</td>\n",
              "      <td>0.071657</td>\n",
              "      <td>0.112179</td>\n",
              "    </tr>\n",
              "    <tr>\n",
              "      <th>religious</th>\n",
              "      <td>-0.383416</td>\n",
              "      <td>0.034930</td>\n",
              "      <td>-10.976657</td>\n",
              "      <td>4.948982e-28</td>\n",
              "      <td>-0.451878</td>\n",
              "      <td>-0.314954</td>\n",
              "    </tr>\n",
              "    <tr>\n",
              "      <th>educ</th>\n",
              "      <td>0.005239</td>\n",
              "      <td>0.017389</td>\n",
              "      <td>0.301285</td>\n",
              "      <td>7.631975e-01</td>\n",
              "      <td>-0.028843</td>\n",
              "      <td>0.039322</td>\n",
              "    </tr>\n",
              "    <tr>\n",
              "      <th>occ2</th>\n",
              "      <td>0.366616</td>\n",
              "      <td>0.450450</td>\n",
              "      <td>0.813887</td>\n",
              "      <td>4.157095e-01</td>\n",
              "      <td>-0.516250</td>\n",
              "      <td>1.249482</td>\n",
              "    </tr>\n",
              "    <tr>\n",
              "      <th>occ3</th>\n",
              "      <td>0.723502</td>\n",
              "      <td>0.444317</td>\n",
              "      <td>1.628345</td>\n",
              "      <td>1.034519e-01</td>\n",
              "      <td>-0.147344</td>\n",
              "      <td>1.594348</td>\n",
              "    </tr>\n",
              "    <tr>\n",
              "      <th>occ4</th>\n",
              "      <td>0.453069</td>\n",
              "      <td>0.445369</td>\n",
              "      <td>1.017289</td>\n",
              "      <td>3.090160e-01</td>\n",
              "      <td>-0.419838</td>\n",
              "      <td>1.325976</td>\n",
              "    </tr>\n",
              "    <tr>\n",
              "      <th>occ5</th>\n",
              "      <td>1.076255</td>\n",
              "      <td>0.449489</td>\n",
              "      <td>2.394396</td>\n",
              "      <td>1.664778e-02</td>\n",
              "      <td>0.195272</td>\n",
              "      <td>1.957237</td>\n",
              "    </tr>\n",
              "    <tr>\n",
              "      <th>occ6</th>\n",
              "      <td>1.110533</td>\n",
              "      <td>0.496508</td>\n",
              "      <td>2.236689</td>\n",
              "      <td>2.530667e-02</td>\n",
              "      <td>0.137396</td>\n",
              "      <td>2.083670</td>\n",
              "    </tr>\n",
              "    <tr>\n",
              "      <th>hocc2</th>\n",
              "      <td>0.105205</td>\n",
              "      <td>0.187204</td>\n",
              "      <td>0.561981</td>\n",
              "      <td>5.741291e-01</td>\n",
              "      <td>-0.261708</td>\n",
              "      <td>0.472119</td>\n",
              "    </tr>\n",
              "    <tr>\n",
              "      <th>hocc3</th>\n",
              "      <td>0.219519</td>\n",
              "      <td>0.203243</td>\n",
              "      <td>1.080083</td>\n",
              "      <td>2.801050e-01</td>\n",
              "      <td>-0.178830</td>\n",
              "      <td>0.617868</td>\n",
              "    </tr>\n",
              "    <tr>\n",
              "      <th>hocc4</th>\n",
              "      <td>0.070498</td>\n",
              "      <td>0.182231</td>\n",
              "      <td>0.386860</td>\n",
              "      <td>6.988601e-01</td>\n",
              "      <td>-0.286669</td>\n",
              "      <td>0.427665</td>\n",
              "    </tr>\n",
              "    <tr>\n",
              "      <th>hocc5</th>\n",
              "      <td>0.107699</td>\n",
              "      <td>0.183788</td>\n",
              "      <td>0.585997</td>\n",
              "      <td>5.578775e-01</td>\n",
              "      <td>-0.252519</td>\n",
              "      <td>0.467917</td>\n",
              "    </tr>\n",
              "    <tr>\n",
              "      <th>hocc6</th>\n",
              "      <td>0.121560</td>\n",
              "      <td>0.204749</td>\n",
              "      <td>0.593704</td>\n",
              "      <td>5.527098e-01</td>\n",
              "      <td>-0.279740</td>\n",
              "      <td>0.522860</td>\n",
              "    </tr>\n",
              "    <tr>\n",
              "      <th>tem_filhos</th>\n",
              "      <td>0.435518</td>\n",
              "      <td>0.080108</td>\n",
              "      <td>5.436615</td>\n",
              "      <td>5.430233e-08</td>\n",
              "      <td>0.278508</td>\n",
              "      <td>0.592527</td>\n",
              "    </tr>\n",
              "  </tbody>\n",
              "</table>\n",
              "</div>\n",
              "      <button class=\"colab-df-convert\" onclick=\"convertToInteractive('df-8d7ebfe2-7b56-447e-9da7-c9d688ca613f')\"\n",
              "              title=\"Convert this dataframe to an interactive table.\"\n",
              "              style=\"display:none;\">\n",
              "        \n",
              "  <svg xmlns=\"http://www.w3.org/2000/svg\" height=\"24px\"viewBox=\"0 0 24 24\"\n",
              "       width=\"24px\">\n",
              "    <path d=\"M0 0h24v24H0V0z\" fill=\"none\"/>\n",
              "    <path d=\"M18.56 5.44l.94 2.06.94-2.06 2.06-.94-2.06-.94-.94-2.06-.94 2.06-2.06.94zm-11 1L8.5 8.5l.94-2.06 2.06-.94-2.06-.94L8.5 2.5l-.94 2.06-2.06.94zm10 10l.94 2.06.94-2.06 2.06-.94-2.06-.94-.94-2.06-.94 2.06-2.06.94z\"/><path d=\"M17.41 7.96l-1.37-1.37c-.4-.4-.92-.59-1.43-.59-.52 0-1.04.2-1.43.59L10.3 9.45l-7.72 7.72c-.78.78-.78 2.05 0 2.83L4 21.41c.39.39.9.59 1.41.59.51 0 1.02-.2 1.41-.59l7.78-7.78 2.81-2.81c.8-.78.8-2.07 0-2.86zM5.41 20L4 18.59l7.72-7.72 1.47 1.35L5.41 20z\"/>\n",
              "  </svg>\n",
              "      </button>\n",
              "      \n",
              "  <style>\n",
              "    .colab-df-container {\n",
              "      display:flex;\n",
              "      flex-wrap:wrap;\n",
              "      gap: 12px;\n",
              "    }\n",
              "\n",
              "    .colab-df-convert {\n",
              "      background-color: #E8F0FE;\n",
              "      border: none;\n",
              "      border-radius: 50%;\n",
              "      cursor: pointer;\n",
              "      display: none;\n",
              "      fill: #1967D2;\n",
              "      height: 32px;\n",
              "      padding: 0 0 0 0;\n",
              "      width: 32px;\n",
              "    }\n",
              "\n",
              "    .colab-df-convert:hover {\n",
              "      background-color: #E2EBFA;\n",
              "      box-shadow: 0px 1px 2px rgba(60, 64, 67, 0.3), 0px 1px 3px 1px rgba(60, 64, 67, 0.15);\n",
              "      fill: #174EA6;\n",
              "    }\n",
              "\n",
              "    [theme=dark] .colab-df-convert {\n",
              "      background-color: #3B4455;\n",
              "      fill: #D2E3FC;\n",
              "    }\n",
              "\n",
              "    [theme=dark] .colab-df-convert:hover {\n",
              "      background-color: #434B5C;\n",
              "      box-shadow: 0px 1px 3px 1px rgba(0, 0, 0, 0.15);\n",
              "      filter: drop-shadow(0px 1px 2px rgba(0, 0, 0, 0.3));\n",
              "      fill: #FFFFFF;\n",
              "    }\n",
              "  </style>\n",
              "\n",
              "      <script>\n",
              "        const buttonEl =\n",
              "          document.querySelector('#df-8d7ebfe2-7b56-447e-9da7-c9d688ca613f button.colab-df-convert');\n",
              "        buttonEl.style.display =\n",
              "          google.colab.kernel.accessAllowed ? 'block' : 'none';\n",
              "\n",
              "        async function convertToInteractive(key) {\n",
              "          const element = document.querySelector('#df-8d7ebfe2-7b56-447e-9da7-c9d688ca613f');\n",
              "          const dataTable =\n",
              "            await google.colab.kernel.invokeFunction('convertToInteractive',\n",
              "                                                     [key], {});\n",
              "          if (!dataTable) return;\n",
              "\n",
              "          const docLinkHtml = 'Like what you see? Visit the ' +\n",
              "            '<a target=\"_blank\" href=https://colab.research.google.com/notebooks/data_table.ipynb>data table notebook</a>'\n",
              "            + ' to learn more about interactive tables.';\n",
              "          element.innerHTML = '';\n",
              "          dataTable['output_type'] = 'display_data';\n",
              "          await google.colab.output.renderOutput(dataTable, element);\n",
              "          const docLink = document.createElement('div');\n",
              "          docLink.innerHTML = docLinkHtml;\n",
              "          element.appendChild(docLink);\n",
              "        }\n",
              "      </script>\n",
              "    </div>\n",
              "  </div>\n",
              "  "
            ]
          },
          "metadata": {},
          "execution_count": 114
        }
      ]
    },
    {
      "cell_type": "markdown",
      "metadata": {
        "id": "qbxeaEK9FCRj"
      },
      "source": [
        "**Analise**\n",
        "\n",
        "Dado a alta correlacao da idade com outras variaveis como tempo de casamento, parece ter pouca relevancia, assim estamos removendo esta"
      ]
    },
    {
      "cell_type": "code",
      "metadata": {
        "colab": {
          "base_uri": "https://localhost:8080/",
          "height": 605
        },
        "id": "lLA5z9BNGR8T",
        "outputId": "3909d279-801d-49f1-e760-7de2fcb11a14"
      },
      "source": [
        "XX.drop(['age'],axis=1, inplace=True)\n",
        "rl2 = sm.Logit(Y, XX).fit()\n",
        "rl2.summary2().tables[1]"
      ],
      "execution_count": 115,
      "outputs": [
        {
          "output_type": "stream",
          "name": "stdout",
          "text": [
            "Optimization terminated successfully.\n",
            "         Current function value: 0.543122\n",
            "         Iterations 6\n"
          ]
        },
        {
          "output_type": "execute_result",
          "data": {
            "text/plain": [
              "                  Coef.  Std.Err.          z          P>|z|    [0.025  \\\n",
              "const          1.787707  0.551671   3.240532   1.193070e-03  0.706452   \n",
              "rate_marriage -0.687030  0.031457 -21.840282  9.615990e-106 -0.748684   \n",
              "yrs_married    0.041521  0.004995   8.313342   9.304408e-17  0.031732   \n",
              "religious     -0.388403  0.034851 -11.144646   7.604574e-29 -0.456710   \n",
              "educ          -0.014347  0.016958  -0.846046   3.975271e-01 -0.047585   \n",
              "occ2           0.321168  0.448376   0.716292   4.738113e-01 -0.557633   \n",
              "occ3           0.673681  0.442217   1.523416   1.276547e-01 -0.193049   \n",
              "occ4           0.392381  0.443172   0.885392   3.759453e-01 -0.476221   \n",
              "occ5           1.012203  0.447287   2.262983   2.363674e-02  0.135536   \n",
              "occ6           1.031058  0.493731   2.088297   3.677108e-02  0.063362   \n",
              "hocc2          0.070163  0.187352   0.374495   7.080362e-01 -0.297042   \n",
              "hocc3          0.162856  0.203284   0.801124   4.230598e-01 -0.235574   \n",
              "hocc4          0.041815  0.182446   0.229192   8.187199e-01 -0.315772   \n",
              "hocc5          0.057578  0.183850   0.313177   7.541458e-01 -0.302762   \n",
              "hocc6          0.060781  0.204457   0.297278   7.662539e-01 -0.339947   \n",
              "tem_filhos     0.463789  0.079597   5.826724   5.652593e-09  0.307782   \n",
              "\n",
              "                 0.975]  \n",
              "const          2.868962  \n",
              "rate_marriage -0.625375  \n",
              "yrs_married    0.051310  \n",
              "religious     -0.320096  \n",
              "educ           0.018890  \n",
              "occ2           1.199969  \n",
              "occ3           1.540411  \n",
              "occ4           1.260983  \n",
              "occ5           1.888869  \n",
              "occ6           1.998754  \n",
              "hocc2          0.437367  \n",
              "hocc3          0.561286  \n",
              "hocc4          0.399402  \n",
              "hocc5          0.417918  \n",
              "hocc6          0.461508  \n",
              "tem_filhos     0.619796  "
            ],
            "text/html": [
              "\n",
              "  <div id=\"df-b3346276-e458-4dbd-97ac-c180898f38b6\">\n",
              "    <div class=\"colab-df-container\">\n",
              "      <div>\n",
              "<style scoped>\n",
              "    .dataframe tbody tr th:only-of-type {\n",
              "        vertical-align: middle;\n",
              "    }\n",
              "\n",
              "    .dataframe tbody tr th {\n",
              "        vertical-align: top;\n",
              "    }\n",
              "\n",
              "    .dataframe thead th {\n",
              "        text-align: right;\n",
              "    }\n",
              "</style>\n",
              "<table border=\"1\" class=\"dataframe\">\n",
              "  <thead>\n",
              "    <tr style=\"text-align: right;\">\n",
              "      <th></th>\n",
              "      <th>Coef.</th>\n",
              "      <th>Std.Err.</th>\n",
              "      <th>z</th>\n",
              "      <th>P&gt;|z|</th>\n",
              "      <th>[0.025</th>\n",
              "      <th>0.975]</th>\n",
              "    </tr>\n",
              "  </thead>\n",
              "  <tbody>\n",
              "    <tr>\n",
              "      <th>const</th>\n",
              "      <td>1.787707</td>\n",
              "      <td>0.551671</td>\n",
              "      <td>3.240532</td>\n",
              "      <td>1.193070e-03</td>\n",
              "      <td>0.706452</td>\n",
              "      <td>2.868962</td>\n",
              "    </tr>\n",
              "    <tr>\n",
              "      <th>rate_marriage</th>\n",
              "      <td>-0.687030</td>\n",
              "      <td>0.031457</td>\n",
              "      <td>-21.840282</td>\n",
              "      <td>9.615990e-106</td>\n",
              "      <td>-0.748684</td>\n",
              "      <td>-0.625375</td>\n",
              "    </tr>\n",
              "    <tr>\n",
              "      <th>yrs_married</th>\n",
              "      <td>0.041521</td>\n",
              "      <td>0.004995</td>\n",
              "      <td>8.313342</td>\n",
              "      <td>9.304408e-17</td>\n",
              "      <td>0.031732</td>\n",
              "      <td>0.051310</td>\n",
              "    </tr>\n",
              "    <tr>\n",
              "      <th>religious</th>\n",
              "      <td>-0.388403</td>\n",
              "      <td>0.034851</td>\n",
              "      <td>-11.144646</td>\n",
              "      <td>7.604574e-29</td>\n",
              "      <td>-0.456710</td>\n",
              "      <td>-0.320096</td>\n",
              "    </tr>\n",
              "    <tr>\n",
              "      <th>educ</th>\n",
              "      <td>-0.014347</td>\n",
              "      <td>0.016958</td>\n",
              "      <td>-0.846046</td>\n",
              "      <td>3.975271e-01</td>\n",
              "      <td>-0.047585</td>\n",
              "      <td>0.018890</td>\n",
              "    </tr>\n",
              "    <tr>\n",
              "      <th>occ2</th>\n",
              "      <td>0.321168</td>\n",
              "      <td>0.448376</td>\n",
              "      <td>0.716292</td>\n",
              "      <td>4.738113e-01</td>\n",
              "      <td>-0.557633</td>\n",
              "      <td>1.199969</td>\n",
              "    </tr>\n",
              "    <tr>\n",
              "      <th>occ3</th>\n",
              "      <td>0.673681</td>\n",
              "      <td>0.442217</td>\n",
              "      <td>1.523416</td>\n",
              "      <td>1.276547e-01</td>\n",
              "      <td>-0.193049</td>\n",
              "      <td>1.540411</td>\n",
              "    </tr>\n",
              "    <tr>\n",
              "      <th>occ4</th>\n",
              "      <td>0.392381</td>\n",
              "      <td>0.443172</td>\n",
              "      <td>0.885392</td>\n",
              "      <td>3.759453e-01</td>\n",
              "      <td>-0.476221</td>\n",
              "      <td>1.260983</td>\n",
              "    </tr>\n",
              "    <tr>\n",
              "      <th>occ5</th>\n",
              "      <td>1.012203</td>\n",
              "      <td>0.447287</td>\n",
              "      <td>2.262983</td>\n",
              "      <td>2.363674e-02</td>\n",
              "      <td>0.135536</td>\n",
              "      <td>1.888869</td>\n",
              "    </tr>\n",
              "    <tr>\n",
              "      <th>occ6</th>\n",
              "      <td>1.031058</td>\n",
              "      <td>0.493731</td>\n",
              "      <td>2.088297</td>\n",
              "      <td>3.677108e-02</td>\n",
              "      <td>0.063362</td>\n",
              "      <td>1.998754</td>\n",
              "    </tr>\n",
              "    <tr>\n",
              "      <th>hocc2</th>\n",
              "      <td>0.070163</td>\n",
              "      <td>0.187352</td>\n",
              "      <td>0.374495</td>\n",
              "      <td>7.080362e-01</td>\n",
              "      <td>-0.297042</td>\n",
              "      <td>0.437367</td>\n",
              "    </tr>\n",
              "    <tr>\n",
              "      <th>hocc3</th>\n",
              "      <td>0.162856</td>\n",
              "      <td>0.203284</td>\n",
              "      <td>0.801124</td>\n",
              "      <td>4.230598e-01</td>\n",
              "      <td>-0.235574</td>\n",
              "      <td>0.561286</td>\n",
              "    </tr>\n",
              "    <tr>\n",
              "      <th>hocc4</th>\n",
              "      <td>0.041815</td>\n",
              "      <td>0.182446</td>\n",
              "      <td>0.229192</td>\n",
              "      <td>8.187199e-01</td>\n",
              "      <td>-0.315772</td>\n",
              "      <td>0.399402</td>\n",
              "    </tr>\n",
              "    <tr>\n",
              "      <th>hocc5</th>\n",
              "      <td>0.057578</td>\n",
              "      <td>0.183850</td>\n",
              "      <td>0.313177</td>\n",
              "      <td>7.541458e-01</td>\n",
              "      <td>-0.302762</td>\n",
              "      <td>0.417918</td>\n",
              "    </tr>\n",
              "    <tr>\n",
              "      <th>hocc6</th>\n",
              "      <td>0.060781</td>\n",
              "      <td>0.204457</td>\n",
              "      <td>0.297278</td>\n",
              "      <td>7.662539e-01</td>\n",
              "      <td>-0.339947</td>\n",
              "      <td>0.461508</td>\n",
              "    </tr>\n",
              "    <tr>\n",
              "      <th>tem_filhos</th>\n",
              "      <td>0.463789</td>\n",
              "      <td>0.079597</td>\n",
              "      <td>5.826724</td>\n",
              "      <td>5.652593e-09</td>\n",
              "      <td>0.307782</td>\n",
              "      <td>0.619796</td>\n",
              "    </tr>\n",
              "  </tbody>\n",
              "</table>\n",
              "</div>\n",
              "      <button class=\"colab-df-convert\" onclick=\"convertToInteractive('df-b3346276-e458-4dbd-97ac-c180898f38b6')\"\n",
              "              title=\"Convert this dataframe to an interactive table.\"\n",
              "              style=\"display:none;\">\n",
              "        \n",
              "  <svg xmlns=\"http://www.w3.org/2000/svg\" height=\"24px\"viewBox=\"0 0 24 24\"\n",
              "       width=\"24px\">\n",
              "    <path d=\"M0 0h24v24H0V0z\" fill=\"none\"/>\n",
              "    <path d=\"M18.56 5.44l.94 2.06.94-2.06 2.06-.94-2.06-.94-.94-2.06-.94 2.06-2.06.94zm-11 1L8.5 8.5l.94-2.06 2.06-.94-2.06-.94L8.5 2.5l-.94 2.06-2.06.94zm10 10l.94 2.06.94-2.06 2.06-.94-2.06-.94-.94-2.06-.94 2.06-2.06.94z\"/><path d=\"M17.41 7.96l-1.37-1.37c-.4-.4-.92-.59-1.43-.59-.52 0-1.04.2-1.43.59L10.3 9.45l-7.72 7.72c-.78.78-.78 2.05 0 2.83L4 21.41c.39.39.9.59 1.41.59.51 0 1.02-.2 1.41-.59l7.78-7.78 2.81-2.81c.8-.78.8-2.07 0-2.86zM5.41 20L4 18.59l7.72-7.72 1.47 1.35L5.41 20z\"/>\n",
              "  </svg>\n",
              "      </button>\n",
              "      \n",
              "  <style>\n",
              "    .colab-df-container {\n",
              "      display:flex;\n",
              "      flex-wrap:wrap;\n",
              "      gap: 12px;\n",
              "    }\n",
              "\n",
              "    .colab-df-convert {\n",
              "      background-color: #E8F0FE;\n",
              "      border: none;\n",
              "      border-radius: 50%;\n",
              "      cursor: pointer;\n",
              "      display: none;\n",
              "      fill: #1967D2;\n",
              "      height: 32px;\n",
              "      padding: 0 0 0 0;\n",
              "      width: 32px;\n",
              "    }\n",
              "\n",
              "    .colab-df-convert:hover {\n",
              "      background-color: #E2EBFA;\n",
              "      box-shadow: 0px 1px 2px rgba(60, 64, 67, 0.3), 0px 1px 3px 1px rgba(60, 64, 67, 0.15);\n",
              "      fill: #174EA6;\n",
              "    }\n",
              "\n",
              "    [theme=dark] .colab-df-convert {\n",
              "      background-color: #3B4455;\n",
              "      fill: #D2E3FC;\n",
              "    }\n",
              "\n",
              "    [theme=dark] .colab-df-convert:hover {\n",
              "      background-color: #434B5C;\n",
              "      box-shadow: 0px 1px 3px 1px rgba(0, 0, 0, 0.15);\n",
              "      filter: drop-shadow(0px 1px 2px rgba(0, 0, 0, 0.3));\n",
              "      fill: #FFFFFF;\n",
              "    }\n",
              "  </style>\n",
              "\n",
              "      <script>\n",
              "        const buttonEl =\n",
              "          document.querySelector('#df-b3346276-e458-4dbd-97ac-c180898f38b6 button.colab-df-convert');\n",
              "        buttonEl.style.display =\n",
              "          google.colab.kernel.accessAllowed ? 'block' : 'none';\n",
              "\n",
              "        async function convertToInteractive(key) {\n",
              "          const element = document.querySelector('#df-b3346276-e458-4dbd-97ac-c180898f38b6');\n",
              "          const dataTable =\n",
              "            await google.colab.kernel.invokeFunction('convertToInteractive',\n",
              "                                                     [key], {});\n",
              "          if (!dataTable) return;\n",
              "\n",
              "          const docLinkHtml = 'Like what you see? Visit the ' +\n",
              "            '<a target=\"_blank\" href=https://colab.research.google.com/notebooks/data_table.ipynb>data table notebook</a>'\n",
              "            + ' to learn more about interactive tables.';\n",
              "          element.innerHTML = '';\n",
              "          dataTable['output_type'] = 'display_data';\n",
              "          await google.colab.output.renderOutput(dataTable, element);\n",
              "          const docLink = document.createElement('div');\n",
              "          docLink.innerHTML = docLinkHtml;\n",
              "          element.appendChild(docLink);\n",
              "        }\n",
              "      </script>\n",
              "    </div>\n",
              "  </div>\n",
              "  "
            ]
          },
          "metadata": {},
          "execution_count": 115
        }
      ]
    },
    {
      "cell_type": "markdown",
      "metadata": {
        "id": "Cdwb4K2FGx6K"
      },
      "source": [
        "**Analise** \n",
        "\n",
        "Percebemos entao que a ocupacao do marido tem pouca relevancia na analise, assim estamos removendo estas."
      ]
    },
    {
      "cell_type": "code",
      "metadata": {
        "colab": {
          "base_uri": "https://localhost:8080/",
          "height": 448
        },
        "id": "HwS_oSDpFUtF",
        "outputId": "6a7a0bea-91c0-40ab-8f33-1518ba2e4419"
      },
      "source": [
        "XX.drop(['hocc2','hocc3','hocc4','hocc5','hocc6'],axis=1, inplace=True)\n",
        "rl3 = sm.Logit(Y, XX).fit()\n",
        "rl3.summary2().tables[1]\n"
      ],
      "execution_count": 116,
      "outputs": [
        {
          "output_type": "stream",
          "name": "stdout",
          "text": [
            "Optimization terminated successfully.\n",
            "         Current function value: 0.543219\n",
            "         Iterations 6\n"
          ]
        },
        {
          "output_type": "execute_result",
          "data": {
            "text/plain": [
              "                  Coef.  Std.Err.          z          P>|z|    [0.025  \\\n",
              "const          1.853573  0.527623   3.513066   4.429674e-04  0.819452   \n",
              "rate_marriage -0.687890  0.031412 -21.899029  2.653728e-106 -0.749456   \n",
              "yrs_married    0.041683  0.004955   8.412695   4.006949e-17  0.031971   \n",
              "religious     -0.387507  0.034822 -11.128263   9.139934e-29 -0.455757   \n",
              "educ          -0.015007  0.016640  -0.901870   3.671258e-01 -0.047620   \n",
              "occ2           0.326269  0.446718   0.730370   4.651642e-01 -0.549282   \n",
              "occ3           0.680681  0.440869   1.543953   1.225997e-01 -0.183406   \n",
              "occ4           0.395243  0.441848   0.894522   3.710425e-01 -0.470763   \n",
              "occ5           1.013346  0.445783   2.273184   2.301512e-02  0.139628   \n",
              "occ6           1.034190  0.490932   2.106582   3.515383e-02  0.071980   \n",
              "tem_filhos     0.464529  0.079359   5.853495   4.813476e-09  0.308988   \n",
              "\n",
              "                 0.975]  \n",
              "const          2.887694  \n",
              "rate_marriage -0.626324  \n",
              "yrs_married    0.051394  \n",
              "religious     -0.319258  \n",
              "educ           0.017606  \n",
              "occ2           1.201821  \n",
              "occ3           1.544769  \n",
              "occ4           1.261249  \n",
              "occ5           1.887065  \n",
              "occ6           1.996399  \n",
              "tem_filhos     0.620070  "
            ],
            "text/html": [
              "\n",
              "  <div id=\"df-bdcdeaf2-8f97-4660-8cbf-73db87abf36e\">\n",
              "    <div class=\"colab-df-container\">\n",
              "      <div>\n",
              "<style scoped>\n",
              "    .dataframe tbody tr th:only-of-type {\n",
              "        vertical-align: middle;\n",
              "    }\n",
              "\n",
              "    .dataframe tbody tr th {\n",
              "        vertical-align: top;\n",
              "    }\n",
              "\n",
              "    .dataframe thead th {\n",
              "        text-align: right;\n",
              "    }\n",
              "</style>\n",
              "<table border=\"1\" class=\"dataframe\">\n",
              "  <thead>\n",
              "    <tr style=\"text-align: right;\">\n",
              "      <th></th>\n",
              "      <th>Coef.</th>\n",
              "      <th>Std.Err.</th>\n",
              "      <th>z</th>\n",
              "      <th>P&gt;|z|</th>\n",
              "      <th>[0.025</th>\n",
              "      <th>0.975]</th>\n",
              "    </tr>\n",
              "  </thead>\n",
              "  <tbody>\n",
              "    <tr>\n",
              "      <th>const</th>\n",
              "      <td>1.853573</td>\n",
              "      <td>0.527623</td>\n",
              "      <td>3.513066</td>\n",
              "      <td>4.429674e-04</td>\n",
              "      <td>0.819452</td>\n",
              "      <td>2.887694</td>\n",
              "    </tr>\n",
              "    <tr>\n",
              "      <th>rate_marriage</th>\n",
              "      <td>-0.687890</td>\n",
              "      <td>0.031412</td>\n",
              "      <td>-21.899029</td>\n",
              "      <td>2.653728e-106</td>\n",
              "      <td>-0.749456</td>\n",
              "      <td>-0.626324</td>\n",
              "    </tr>\n",
              "    <tr>\n",
              "      <th>yrs_married</th>\n",
              "      <td>0.041683</td>\n",
              "      <td>0.004955</td>\n",
              "      <td>8.412695</td>\n",
              "      <td>4.006949e-17</td>\n",
              "      <td>0.031971</td>\n",
              "      <td>0.051394</td>\n",
              "    </tr>\n",
              "    <tr>\n",
              "      <th>religious</th>\n",
              "      <td>-0.387507</td>\n",
              "      <td>0.034822</td>\n",
              "      <td>-11.128263</td>\n",
              "      <td>9.139934e-29</td>\n",
              "      <td>-0.455757</td>\n",
              "      <td>-0.319258</td>\n",
              "    </tr>\n",
              "    <tr>\n",
              "      <th>educ</th>\n",
              "      <td>-0.015007</td>\n",
              "      <td>0.016640</td>\n",
              "      <td>-0.901870</td>\n",
              "      <td>3.671258e-01</td>\n",
              "      <td>-0.047620</td>\n",
              "      <td>0.017606</td>\n",
              "    </tr>\n",
              "    <tr>\n",
              "      <th>occ2</th>\n",
              "      <td>0.326269</td>\n",
              "      <td>0.446718</td>\n",
              "      <td>0.730370</td>\n",
              "      <td>4.651642e-01</td>\n",
              "      <td>-0.549282</td>\n",
              "      <td>1.201821</td>\n",
              "    </tr>\n",
              "    <tr>\n",
              "      <th>occ3</th>\n",
              "      <td>0.680681</td>\n",
              "      <td>0.440869</td>\n",
              "      <td>1.543953</td>\n",
              "      <td>1.225997e-01</td>\n",
              "      <td>-0.183406</td>\n",
              "      <td>1.544769</td>\n",
              "    </tr>\n",
              "    <tr>\n",
              "      <th>occ4</th>\n",
              "      <td>0.395243</td>\n",
              "      <td>0.441848</td>\n",
              "      <td>0.894522</td>\n",
              "      <td>3.710425e-01</td>\n",
              "      <td>-0.470763</td>\n",
              "      <td>1.261249</td>\n",
              "    </tr>\n",
              "    <tr>\n",
              "      <th>occ5</th>\n",
              "      <td>1.013346</td>\n",
              "      <td>0.445783</td>\n",
              "      <td>2.273184</td>\n",
              "      <td>2.301512e-02</td>\n",
              "      <td>0.139628</td>\n",
              "      <td>1.887065</td>\n",
              "    </tr>\n",
              "    <tr>\n",
              "      <th>occ6</th>\n",
              "      <td>1.034190</td>\n",
              "      <td>0.490932</td>\n",
              "      <td>2.106582</td>\n",
              "      <td>3.515383e-02</td>\n",
              "      <td>0.071980</td>\n",
              "      <td>1.996399</td>\n",
              "    </tr>\n",
              "    <tr>\n",
              "      <th>tem_filhos</th>\n",
              "      <td>0.464529</td>\n",
              "      <td>0.079359</td>\n",
              "      <td>5.853495</td>\n",
              "      <td>4.813476e-09</td>\n",
              "      <td>0.308988</td>\n",
              "      <td>0.620070</td>\n",
              "    </tr>\n",
              "  </tbody>\n",
              "</table>\n",
              "</div>\n",
              "      <button class=\"colab-df-convert\" onclick=\"convertToInteractive('df-bdcdeaf2-8f97-4660-8cbf-73db87abf36e')\"\n",
              "              title=\"Convert this dataframe to an interactive table.\"\n",
              "              style=\"display:none;\">\n",
              "        \n",
              "  <svg xmlns=\"http://www.w3.org/2000/svg\" height=\"24px\"viewBox=\"0 0 24 24\"\n",
              "       width=\"24px\">\n",
              "    <path d=\"M0 0h24v24H0V0z\" fill=\"none\"/>\n",
              "    <path d=\"M18.56 5.44l.94 2.06.94-2.06 2.06-.94-2.06-.94-.94-2.06-.94 2.06-2.06.94zm-11 1L8.5 8.5l.94-2.06 2.06-.94-2.06-.94L8.5 2.5l-.94 2.06-2.06.94zm10 10l.94 2.06.94-2.06 2.06-.94-2.06-.94-.94-2.06-.94 2.06-2.06.94z\"/><path d=\"M17.41 7.96l-1.37-1.37c-.4-.4-.92-.59-1.43-.59-.52 0-1.04.2-1.43.59L10.3 9.45l-7.72 7.72c-.78.78-.78 2.05 0 2.83L4 21.41c.39.39.9.59 1.41.59.51 0 1.02-.2 1.41-.59l7.78-7.78 2.81-2.81c.8-.78.8-2.07 0-2.86zM5.41 20L4 18.59l7.72-7.72 1.47 1.35L5.41 20z\"/>\n",
              "  </svg>\n",
              "      </button>\n",
              "      \n",
              "  <style>\n",
              "    .colab-df-container {\n",
              "      display:flex;\n",
              "      flex-wrap:wrap;\n",
              "      gap: 12px;\n",
              "    }\n",
              "\n",
              "    .colab-df-convert {\n",
              "      background-color: #E8F0FE;\n",
              "      border: none;\n",
              "      border-radius: 50%;\n",
              "      cursor: pointer;\n",
              "      display: none;\n",
              "      fill: #1967D2;\n",
              "      height: 32px;\n",
              "      padding: 0 0 0 0;\n",
              "      width: 32px;\n",
              "    }\n",
              "\n",
              "    .colab-df-convert:hover {\n",
              "      background-color: #E2EBFA;\n",
              "      box-shadow: 0px 1px 2px rgba(60, 64, 67, 0.3), 0px 1px 3px 1px rgba(60, 64, 67, 0.15);\n",
              "      fill: #174EA6;\n",
              "    }\n",
              "\n",
              "    [theme=dark] .colab-df-convert {\n",
              "      background-color: #3B4455;\n",
              "      fill: #D2E3FC;\n",
              "    }\n",
              "\n",
              "    [theme=dark] .colab-df-convert:hover {\n",
              "      background-color: #434B5C;\n",
              "      box-shadow: 0px 1px 3px 1px rgba(0, 0, 0, 0.15);\n",
              "      filter: drop-shadow(0px 1px 2px rgba(0, 0, 0, 0.3));\n",
              "      fill: #FFFFFF;\n",
              "    }\n",
              "  </style>\n",
              "\n",
              "      <script>\n",
              "        const buttonEl =\n",
              "          document.querySelector('#df-bdcdeaf2-8f97-4660-8cbf-73db87abf36e button.colab-df-convert');\n",
              "        buttonEl.style.display =\n",
              "          google.colab.kernel.accessAllowed ? 'block' : 'none';\n",
              "\n",
              "        async function convertToInteractive(key) {\n",
              "          const element = document.querySelector('#df-bdcdeaf2-8f97-4660-8cbf-73db87abf36e');\n",
              "          const dataTable =\n",
              "            await google.colab.kernel.invokeFunction('convertToInteractive',\n",
              "                                                     [key], {});\n",
              "          if (!dataTable) return;\n",
              "\n",
              "          const docLinkHtml = 'Like what you see? Visit the ' +\n",
              "            '<a target=\"_blank\" href=https://colab.research.google.com/notebooks/data_table.ipynb>data table notebook</a>'\n",
              "            + ' to learn more about interactive tables.';\n",
              "          element.innerHTML = '';\n",
              "          dataTable['output_type'] = 'display_data';\n",
              "          await google.colab.output.renderOutput(dataTable, element);\n",
              "          const docLink = document.createElement('div');\n",
              "          docLink.innerHTML = docLinkHtml;\n",
              "          element.appendChild(docLink);\n",
              "        }\n",
              "      </script>\n",
              "    </div>\n",
              "  </div>\n",
              "  "
            ]
          },
          "metadata": {},
          "execution_count": 116
        }
      ]
    },
    {
      "cell_type": "markdown",
      "metadata": {
        "id": "k8to2vS0HjGU"
      },
      "source": [
        "**Analise** \n",
        "\n",
        "Exceto as ocupacoes 5 (administradora) e 6 (alto grau de estudo) as demais profissioes da mulheres parece nao influenciar na propensao a trair."
      ]
    },
    {
      "cell_type": "code",
      "metadata": {
        "colab": {
          "base_uri": "https://localhost:8080/",
          "height": 354
        },
        "id": "TAU0zGJZIFsn",
        "outputId": "c6b98841-97a4-447c-a171-df3d805cafd2"
      },
      "source": [
        "XX.drop(['occ2','occ3','occ4'],axis=1, inplace=True)\n",
        "rl4 = sm.Logit(Y, XX).fit()\n",
        "rl4.summary2().tables[1]"
      ],
      "execution_count": 117,
      "outputs": [
        {
          "output_type": "stream",
          "name": "stdout",
          "text": [
            "Optimization terminated successfully.\n",
            "         Current function value: 0.545042\n",
            "         Iterations 6\n"
          ]
        },
        {
          "output_type": "execute_result",
          "data": {
            "text/plain": [
              "                  Coef.  Std.Err.          z          P>|z|    [0.025  \\\n",
              "const          2.700955  0.252625  10.691566   1.114728e-26  2.205819   \n",
              "rate_marriage -0.692140  0.031374 -22.060696  7.541359e-108 -0.753633   \n",
              "yrs_married    0.042755  0.004940   8.654612   4.945933e-18  0.033073   \n",
              "religious     -0.388420  0.034735 -11.182284   4.979195e-29 -0.456500   \n",
              "educ          -0.034646  0.014185  -2.442371   1.459115e-02 -0.062448   \n",
              "occ5           0.479644  0.087649   5.472309   4.442096e-08  0.307855   \n",
              "occ6           0.575428  0.225780   2.548622   1.081495e-02  0.132907   \n",
              "tem_filhos     0.418996  0.078601   5.330670   9.785098e-08  0.264941   \n",
              "\n",
              "                 0.975]  \n",
              "const          3.196090  \n",
              "rate_marriage -0.630647  \n",
              "yrs_married    0.052438  \n",
              "religious     -0.320340  \n",
              "educ          -0.006843  \n",
              "occ5           0.651434  \n",
              "occ6           1.017950  \n",
              "tem_filhos     0.573052  "
            ],
            "text/html": [
              "\n",
              "  <div id=\"df-dbf3f88e-f869-4dba-be57-988148ebbc10\">\n",
              "    <div class=\"colab-df-container\">\n",
              "      <div>\n",
              "<style scoped>\n",
              "    .dataframe tbody tr th:only-of-type {\n",
              "        vertical-align: middle;\n",
              "    }\n",
              "\n",
              "    .dataframe tbody tr th {\n",
              "        vertical-align: top;\n",
              "    }\n",
              "\n",
              "    .dataframe thead th {\n",
              "        text-align: right;\n",
              "    }\n",
              "</style>\n",
              "<table border=\"1\" class=\"dataframe\">\n",
              "  <thead>\n",
              "    <tr style=\"text-align: right;\">\n",
              "      <th></th>\n",
              "      <th>Coef.</th>\n",
              "      <th>Std.Err.</th>\n",
              "      <th>z</th>\n",
              "      <th>P&gt;|z|</th>\n",
              "      <th>[0.025</th>\n",
              "      <th>0.975]</th>\n",
              "    </tr>\n",
              "  </thead>\n",
              "  <tbody>\n",
              "    <tr>\n",
              "      <th>const</th>\n",
              "      <td>2.700955</td>\n",
              "      <td>0.252625</td>\n",
              "      <td>10.691566</td>\n",
              "      <td>1.114728e-26</td>\n",
              "      <td>2.205819</td>\n",
              "      <td>3.196090</td>\n",
              "    </tr>\n",
              "    <tr>\n",
              "      <th>rate_marriage</th>\n",
              "      <td>-0.692140</td>\n",
              "      <td>0.031374</td>\n",
              "      <td>-22.060696</td>\n",
              "      <td>7.541359e-108</td>\n",
              "      <td>-0.753633</td>\n",
              "      <td>-0.630647</td>\n",
              "    </tr>\n",
              "    <tr>\n",
              "      <th>yrs_married</th>\n",
              "      <td>0.042755</td>\n",
              "      <td>0.004940</td>\n",
              "      <td>8.654612</td>\n",
              "      <td>4.945933e-18</td>\n",
              "      <td>0.033073</td>\n",
              "      <td>0.052438</td>\n",
              "    </tr>\n",
              "    <tr>\n",
              "      <th>religious</th>\n",
              "      <td>-0.388420</td>\n",
              "      <td>0.034735</td>\n",
              "      <td>-11.182284</td>\n",
              "      <td>4.979195e-29</td>\n",
              "      <td>-0.456500</td>\n",
              "      <td>-0.320340</td>\n",
              "    </tr>\n",
              "    <tr>\n",
              "      <th>educ</th>\n",
              "      <td>-0.034646</td>\n",
              "      <td>0.014185</td>\n",
              "      <td>-2.442371</td>\n",
              "      <td>1.459115e-02</td>\n",
              "      <td>-0.062448</td>\n",
              "      <td>-0.006843</td>\n",
              "    </tr>\n",
              "    <tr>\n",
              "      <th>occ5</th>\n",
              "      <td>0.479644</td>\n",
              "      <td>0.087649</td>\n",
              "      <td>5.472309</td>\n",
              "      <td>4.442096e-08</td>\n",
              "      <td>0.307855</td>\n",
              "      <td>0.651434</td>\n",
              "    </tr>\n",
              "    <tr>\n",
              "      <th>occ6</th>\n",
              "      <td>0.575428</td>\n",
              "      <td>0.225780</td>\n",
              "      <td>2.548622</td>\n",
              "      <td>1.081495e-02</td>\n",
              "      <td>0.132907</td>\n",
              "      <td>1.017950</td>\n",
              "    </tr>\n",
              "    <tr>\n",
              "      <th>tem_filhos</th>\n",
              "      <td>0.418996</td>\n",
              "      <td>0.078601</td>\n",
              "      <td>5.330670</td>\n",
              "      <td>9.785098e-08</td>\n",
              "      <td>0.264941</td>\n",
              "      <td>0.573052</td>\n",
              "    </tr>\n",
              "  </tbody>\n",
              "</table>\n",
              "</div>\n",
              "      <button class=\"colab-df-convert\" onclick=\"convertToInteractive('df-dbf3f88e-f869-4dba-be57-988148ebbc10')\"\n",
              "              title=\"Convert this dataframe to an interactive table.\"\n",
              "              style=\"display:none;\">\n",
              "        \n",
              "  <svg xmlns=\"http://www.w3.org/2000/svg\" height=\"24px\"viewBox=\"0 0 24 24\"\n",
              "       width=\"24px\">\n",
              "    <path d=\"M0 0h24v24H0V0z\" fill=\"none\"/>\n",
              "    <path d=\"M18.56 5.44l.94 2.06.94-2.06 2.06-.94-2.06-.94-.94-2.06-.94 2.06-2.06.94zm-11 1L8.5 8.5l.94-2.06 2.06-.94-2.06-.94L8.5 2.5l-.94 2.06-2.06.94zm10 10l.94 2.06.94-2.06 2.06-.94-2.06-.94-.94-2.06-.94 2.06-2.06.94z\"/><path d=\"M17.41 7.96l-1.37-1.37c-.4-.4-.92-.59-1.43-.59-.52 0-1.04.2-1.43.59L10.3 9.45l-7.72 7.72c-.78.78-.78 2.05 0 2.83L4 21.41c.39.39.9.59 1.41.59.51 0 1.02-.2 1.41-.59l7.78-7.78 2.81-2.81c.8-.78.8-2.07 0-2.86zM5.41 20L4 18.59l7.72-7.72 1.47 1.35L5.41 20z\"/>\n",
              "  </svg>\n",
              "      </button>\n",
              "      \n",
              "  <style>\n",
              "    .colab-df-container {\n",
              "      display:flex;\n",
              "      flex-wrap:wrap;\n",
              "      gap: 12px;\n",
              "    }\n",
              "\n",
              "    .colab-df-convert {\n",
              "      background-color: #E8F0FE;\n",
              "      border: none;\n",
              "      border-radius: 50%;\n",
              "      cursor: pointer;\n",
              "      display: none;\n",
              "      fill: #1967D2;\n",
              "      height: 32px;\n",
              "      padding: 0 0 0 0;\n",
              "      width: 32px;\n",
              "    }\n",
              "\n",
              "    .colab-df-convert:hover {\n",
              "      background-color: #E2EBFA;\n",
              "      box-shadow: 0px 1px 2px rgba(60, 64, 67, 0.3), 0px 1px 3px 1px rgba(60, 64, 67, 0.15);\n",
              "      fill: #174EA6;\n",
              "    }\n",
              "\n",
              "    [theme=dark] .colab-df-convert {\n",
              "      background-color: #3B4455;\n",
              "      fill: #D2E3FC;\n",
              "    }\n",
              "\n",
              "    [theme=dark] .colab-df-convert:hover {\n",
              "      background-color: #434B5C;\n",
              "      box-shadow: 0px 1px 3px 1px rgba(0, 0, 0, 0.15);\n",
              "      filter: drop-shadow(0px 1px 2px rgba(0, 0, 0, 0.3));\n",
              "      fill: #FFFFFF;\n",
              "    }\n",
              "  </style>\n",
              "\n",
              "      <script>\n",
              "        const buttonEl =\n",
              "          document.querySelector('#df-dbf3f88e-f869-4dba-be57-988148ebbc10 button.colab-df-convert');\n",
              "        buttonEl.style.display =\n",
              "          google.colab.kernel.accessAllowed ? 'block' : 'none';\n",
              "\n",
              "        async function convertToInteractive(key) {\n",
              "          const element = document.querySelector('#df-dbf3f88e-f869-4dba-be57-988148ebbc10');\n",
              "          const dataTable =\n",
              "            await google.colab.kernel.invokeFunction('convertToInteractive',\n",
              "                                                     [key], {});\n",
              "          if (!dataTable) return;\n",
              "\n",
              "          const docLinkHtml = 'Like what you see? Visit the ' +\n",
              "            '<a target=\"_blank\" href=https://colab.research.google.com/notebooks/data_table.ipynb>data table notebook</a>'\n",
              "            + ' to learn more about interactive tables.';\n",
              "          element.innerHTML = '';\n",
              "          dataTable['output_type'] = 'display_data';\n",
              "          await google.colab.output.renderOutput(dataTable, element);\n",
              "          const docLink = document.createElement('div');\n",
              "          docLink.innerHTML = docLinkHtml;\n",
              "          element.appendChild(docLink);\n",
              "        }\n",
              "      </script>\n",
              "    </div>\n",
              "  </div>\n",
              "  "
            ]
          },
          "metadata": {},
          "execution_count": 117
        }
      ]
    },
    {
      "cell_type": "markdown",
      "metadata": {
        "id": "9K1zodApIZXZ"
      },
      "source": [
        "**Analise** \n",
        "\n",
        "Tempo de educacao tambem parace nao ser relevante. Assim, estou removendo estas."
      ]
    },
    {
      "cell_type": "code",
      "metadata": {
        "colab": {
          "base_uri": "https://localhost:8080/",
          "height": 322
        },
        "id": "9njNOwTGIhJF",
        "outputId": "ef636557-3ae4-457d-ee92-4b60e07375c7"
      },
      "source": [
        "XX.drop(['educ'],axis=1, inplace=True)\n",
        "rl5 = sm.Logit(Y, XX).fit()\n",
        "rl5.summary2().tables[1]"
      ],
      "execution_count": 118,
      "outputs": [
        {
          "output_type": "stream",
          "name": "stdout",
          "text": [
            "Optimization terminated successfully.\n",
            "         Current function value: 0.545514\n",
            "         Iterations 6\n"
          ]
        },
        {
          "output_type": "execute_result",
          "data": {
            "text/plain": [
              "                  Coef.  Std.Err.          z          P>|z|    [0.025  \\\n",
              "const          2.217742  0.155584  14.254270   4.216857e-46  1.912802   \n",
              "rate_marriage -0.695589  0.031349 -22.188829  4.403139e-109 -0.757031   \n",
              "yrs_married    0.043219  0.004936   8.756506   2.013957e-18  0.033545   \n",
              "religious     -0.390828  0.034681 -11.269075   1.865193e-29 -0.458803   \n",
              "occ5           0.481224  0.087554   5.496288   3.878695e-08  0.309621   \n",
              "occ6           0.442404  0.219246   2.017844   4.360750e-02  0.012690   \n",
              "tem_filhos     0.435128  0.078296   5.557473   2.737088e-08  0.281670   \n",
              "\n",
              "                 0.975]  \n",
              "const          2.522681  \n",
              "rate_marriage -0.634147  \n",
              "yrs_married    0.052892  \n",
              "religious     -0.322854  \n",
              "occ5           0.652828  \n",
              "occ6           0.872118  \n",
              "tem_filhos     0.588585  "
            ],
            "text/html": [
              "\n",
              "  <div id=\"df-43fe96f8-f229-4c8c-8d39-85c9d3619b15\">\n",
              "    <div class=\"colab-df-container\">\n",
              "      <div>\n",
              "<style scoped>\n",
              "    .dataframe tbody tr th:only-of-type {\n",
              "        vertical-align: middle;\n",
              "    }\n",
              "\n",
              "    .dataframe tbody tr th {\n",
              "        vertical-align: top;\n",
              "    }\n",
              "\n",
              "    .dataframe thead th {\n",
              "        text-align: right;\n",
              "    }\n",
              "</style>\n",
              "<table border=\"1\" class=\"dataframe\">\n",
              "  <thead>\n",
              "    <tr style=\"text-align: right;\">\n",
              "      <th></th>\n",
              "      <th>Coef.</th>\n",
              "      <th>Std.Err.</th>\n",
              "      <th>z</th>\n",
              "      <th>P&gt;|z|</th>\n",
              "      <th>[0.025</th>\n",
              "      <th>0.975]</th>\n",
              "    </tr>\n",
              "  </thead>\n",
              "  <tbody>\n",
              "    <tr>\n",
              "      <th>const</th>\n",
              "      <td>2.217742</td>\n",
              "      <td>0.155584</td>\n",
              "      <td>14.254270</td>\n",
              "      <td>4.216857e-46</td>\n",
              "      <td>1.912802</td>\n",
              "      <td>2.522681</td>\n",
              "    </tr>\n",
              "    <tr>\n",
              "      <th>rate_marriage</th>\n",
              "      <td>-0.695589</td>\n",
              "      <td>0.031349</td>\n",
              "      <td>-22.188829</td>\n",
              "      <td>4.403139e-109</td>\n",
              "      <td>-0.757031</td>\n",
              "      <td>-0.634147</td>\n",
              "    </tr>\n",
              "    <tr>\n",
              "      <th>yrs_married</th>\n",
              "      <td>0.043219</td>\n",
              "      <td>0.004936</td>\n",
              "      <td>8.756506</td>\n",
              "      <td>2.013957e-18</td>\n",
              "      <td>0.033545</td>\n",
              "      <td>0.052892</td>\n",
              "    </tr>\n",
              "    <tr>\n",
              "      <th>religious</th>\n",
              "      <td>-0.390828</td>\n",
              "      <td>0.034681</td>\n",
              "      <td>-11.269075</td>\n",
              "      <td>1.865193e-29</td>\n",
              "      <td>-0.458803</td>\n",
              "      <td>-0.322854</td>\n",
              "    </tr>\n",
              "    <tr>\n",
              "      <th>occ5</th>\n",
              "      <td>0.481224</td>\n",
              "      <td>0.087554</td>\n",
              "      <td>5.496288</td>\n",
              "      <td>3.878695e-08</td>\n",
              "      <td>0.309621</td>\n",
              "      <td>0.652828</td>\n",
              "    </tr>\n",
              "    <tr>\n",
              "      <th>occ6</th>\n",
              "      <td>0.442404</td>\n",
              "      <td>0.219246</td>\n",
              "      <td>2.017844</td>\n",
              "      <td>4.360750e-02</td>\n",
              "      <td>0.012690</td>\n",
              "      <td>0.872118</td>\n",
              "    </tr>\n",
              "    <tr>\n",
              "      <th>tem_filhos</th>\n",
              "      <td>0.435128</td>\n",
              "      <td>0.078296</td>\n",
              "      <td>5.557473</td>\n",
              "      <td>2.737088e-08</td>\n",
              "      <td>0.281670</td>\n",
              "      <td>0.588585</td>\n",
              "    </tr>\n",
              "  </tbody>\n",
              "</table>\n",
              "</div>\n",
              "      <button class=\"colab-df-convert\" onclick=\"convertToInteractive('df-43fe96f8-f229-4c8c-8d39-85c9d3619b15')\"\n",
              "              title=\"Convert this dataframe to an interactive table.\"\n",
              "              style=\"display:none;\">\n",
              "        \n",
              "  <svg xmlns=\"http://www.w3.org/2000/svg\" height=\"24px\"viewBox=\"0 0 24 24\"\n",
              "       width=\"24px\">\n",
              "    <path d=\"M0 0h24v24H0V0z\" fill=\"none\"/>\n",
              "    <path d=\"M18.56 5.44l.94 2.06.94-2.06 2.06-.94-2.06-.94-.94-2.06-.94 2.06-2.06.94zm-11 1L8.5 8.5l.94-2.06 2.06-.94-2.06-.94L8.5 2.5l-.94 2.06-2.06.94zm10 10l.94 2.06.94-2.06 2.06-.94-2.06-.94-.94-2.06-.94 2.06-2.06.94z\"/><path d=\"M17.41 7.96l-1.37-1.37c-.4-.4-.92-.59-1.43-.59-.52 0-1.04.2-1.43.59L10.3 9.45l-7.72 7.72c-.78.78-.78 2.05 0 2.83L4 21.41c.39.39.9.59 1.41.59.51 0 1.02-.2 1.41-.59l7.78-7.78 2.81-2.81c.8-.78.8-2.07 0-2.86zM5.41 20L4 18.59l7.72-7.72 1.47 1.35L5.41 20z\"/>\n",
              "  </svg>\n",
              "      </button>\n",
              "      \n",
              "  <style>\n",
              "    .colab-df-container {\n",
              "      display:flex;\n",
              "      flex-wrap:wrap;\n",
              "      gap: 12px;\n",
              "    }\n",
              "\n",
              "    .colab-df-convert {\n",
              "      background-color: #E8F0FE;\n",
              "      border: none;\n",
              "      border-radius: 50%;\n",
              "      cursor: pointer;\n",
              "      display: none;\n",
              "      fill: #1967D2;\n",
              "      height: 32px;\n",
              "      padding: 0 0 0 0;\n",
              "      width: 32px;\n",
              "    }\n",
              "\n",
              "    .colab-df-convert:hover {\n",
              "      background-color: #E2EBFA;\n",
              "      box-shadow: 0px 1px 2px rgba(60, 64, 67, 0.3), 0px 1px 3px 1px rgba(60, 64, 67, 0.15);\n",
              "      fill: #174EA6;\n",
              "    }\n",
              "\n",
              "    [theme=dark] .colab-df-convert {\n",
              "      background-color: #3B4455;\n",
              "      fill: #D2E3FC;\n",
              "    }\n",
              "\n",
              "    [theme=dark] .colab-df-convert:hover {\n",
              "      background-color: #434B5C;\n",
              "      box-shadow: 0px 1px 3px 1px rgba(0, 0, 0, 0.15);\n",
              "      filter: drop-shadow(0px 1px 2px rgba(0, 0, 0, 0.3));\n",
              "      fill: #FFFFFF;\n",
              "    }\n",
              "  </style>\n",
              "\n",
              "      <script>\n",
              "        const buttonEl =\n",
              "          document.querySelector('#df-43fe96f8-f229-4c8c-8d39-85c9d3619b15 button.colab-df-convert');\n",
              "        buttonEl.style.display =\n",
              "          google.colab.kernel.accessAllowed ? 'block' : 'none';\n",
              "\n",
              "        async function convertToInteractive(key) {\n",
              "          const element = document.querySelector('#df-43fe96f8-f229-4c8c-8d39-85c9d3619b15');\n",
              "          const dataTable =\n",
              "            await google.colab.kernel.invokeFunction('convertToInteractive',\n",
              "                                                     [key], {});\n",
              "          if (!dataTable) return;\n",
              "\n",
              "          const docLinkHtml = 'Like what you see? Visit the ' +\n",
              "            '<a target=\"_blank\" href=https://colab.research.google.com/notebooks/data_table.ipynb>data table notebook</a>'\n",
              "            + ' to learn more about interactive tables.';\n",
              "          element.innerHTML = '';\n",
              "          dataTable['output_type'] = 'display_data';\n",
              "          await google.colab.output.renderOutput(dataTable, element);\n",
              "          const docLink = document.createElement('div');\n",
              "          docLink.innerHTML = docLinkHtml;\n",
              "          element.appendChild(docLink);\n",
              "        }\n",
              "      </script>\n",
              "    </div>\n",
              "  </div>\n",
              "  "
            ]
          },
          "metadata": {},
          "execution_count": 118
        }
      ]
    },
    {
      "cell_type": "markdown",
      "metadata": {
        "id": "5kF0ONnsIvRs"
      },
      "source": [
        "**Analise** \n",
        "\n",
        "Parece que chegamos no modelo mais adequado utilizando nota ao casamento, tempo de casamento, nivel de religiosidade, as profissioes de administradora e alta educacao, e se tem filhos, como sendo as features primarias para a previsao do label se trai ou nao."
      ]
    },
    {
      "cell_type": "markdown",
      "metadata": {
        "id": "uw7jqnvlJNrH"
      },
      "source": [
        "Na sequencias entao vamos re-treinar esse modelo final usando outra biblioteca, separando dados de treino e teste, e calculando as metricas de acuracia e MSE"
      ]
    },
    {
      "cell_type": "code",
      "metadata": {
        "id": "r96AG3NMpaQR",
        "colab": {
          "base_uri": "https://localhost:8080/",
          "height": 380
        },
        "outputId": "c2e945ac-8afd-4b3c-cae1-9eea863d1e48"
      },
      "source": [
        "from sklearn.linear_model import LogisticRegression\n",
        "import seaborn as sns\n",
        "from sklearn.metrics import mean_squared_error,accuracy_score,confusion_matrix\n",
        "\n",
        "rlog = LogisticRegression() \n",
        "rlog.fit(X_train[['rate_marriage','yrs_married','religious','occ5','occ6','tem_filhos']], Y_train)\n",
        "score_train = rlog.score(X_train[['rate_marriage','yrs_married','religious','occ5','occ6','tem_filhos']], Y_train)\n",
        "previsoes = rlog.predict(X_test[['rate_marriage','yrs_married','religious','occ5','occ6','tem_filhos']]) \n",
        "score_test = accuracy_score(Y_test,previsoes)\n",
        "print('Acuraria Treino',score_train)\n",
        "print('Acuraria TESTE',score_test)\n",
        "print('MSE Teste',mean_squared_error(Y_test,previsoes))\n",
        "cm = confusion_matrix(Y_test, previsoes)\n",
        "print(cm)\n",
        "sns.heatmap(cm,annot=True)"
      ],
      "execution_count": 119,
      "outputs": [
        {
          "output_type": "stream",
          "name": "stdout",
          "text": [
            "Acuraria Treino 0.7235023041474654\n",
            "Acuraria TESTE 0.7198492462311558\n",
            "MSE Teste 0.28015075376884424\n",
            "[[960 122]\n",
            " [324 186]]\n"
          ]
        },
        {
          "output_type": "execute_result",
          "data": {
            "text/plain": [
              "<matplotlib.axes._subplots.AxesSubplot at 0x7f3777ba4550>"
            ]
          },
          "metadata": {},
          "execution_count": 119
        },
        {
          "output_type": "display_data",
          "data": {
            "text/plain": [
              "<Figure size 432x288 with 2 Axes>"
            ],
            "image/png": "[encoded data removed]"
          },
          "metadata": {}
        }
      ]
    },
    {
      "cell_type": "markdown",
      "metadata": {
        "id": "fPng1yUuC0cT"
      },
      "source": [
        "**Análise**\n",
        "\n",
        "Podemos ver que tivemos uma acurácia superior a 70% tanto em treino quanto em teste na previsao das mulheres que tiveram um caso extra conjugal com base nas informacoes de qualidade do casamento, tempo de casada, idade, quantidade de filhos, nivel de reliogisidade, nivel educacional, alem da profissao dela e do marido."
      ]
    },
    {
      "cell_type": "markdown",
      "metadata": {
        "id": "ewQ250cYX3XY"
      },
      "source": [
        "# Regressao Logistica II"
      ]
    },
    {
      "cell_type": "code",
      "metadata": {
        "id": "86n4-Zi-X5Ov",
        "colab": {
          "base_uri": "https://localhost:8080/",
          "height": 349
        },
        "outputId": "655c731f-aed8-44b5-9249-cae75756dbd9"
      },
      "source": [
        "import numpy as np\n",
        "import sklearn.linear_model as skl_lm\n",
        "import matplotlib.pyplot as plt\n",
        "import seaborn as sns\n",
        "\n",
        "import pandas as pd\n",
        "affairs=pd.read_csv('https://raw.githubusercontent.com/lcbjrrr/quant/master/affairs.csv')\n",
        "\n",
        "X_train = affairs.yrs_married.values.reshape(-1,1)\n",
        "#print(X_train)\n",
        "y = affairs.affair\n",
        "\n",
        "X_test = np.arange(affairs.yrs_married.min(), affairs.yrs_married.max()).reshape(-1,1)\n",
        "\n",
        "clf = skl_lm.LogisticRegression()\n",
        "clf.fit(X_train,y)\n",
        "prob = clf.predict_proba(X_test)\n",
        "\n",
        "\n",
        "\n",
        "fig, (ax1,ax2) = plt.subplots(1,2, figsize=(12,5))\n",
        "\n",
        "sns.regplot(x=\"yrs_married\", y=\"affair\", data=affairs, ax=ax1, scatter_kws={'color':'orange'})\n",
        "\n",
        "ax2.scatter(X_train, y, color='orange')\n",
        "ax2.plot(X_test, prob[:,1])\n",
        "\n",
        "for ax in fig.axes:\n",
        "    ax.set_ylabel('Probabilidade de Affair')\n",
        "    ax.set_xlabel('Anos Casados')\n",
        "\n",
        "\n"
      ],
      "execution_count": 120,
      "outputs": [
        {
          "output_type": "display_data",
          "data": {
            "text/plain": [
              "<Figure size 864x360 with 2 Axes>"
            ],
            "image/png": "[encoded data removed]"
          },
          "metadata": {}
        }
      ]
    },
    {
      "cell_type": "markdown",
      "metadata": {
        "id": "lCaMcAFUZ-xf"
      },
      "source": [
        "**Análise**\n",
        "\n",
        "Aumenta a probabilidade com os anos de casado."
      ]
    },
    {
      "cell_type": "code",
      "metadata": {
        "id": "5K77fO-mYC70",
        "colab": {
          "base_uri": "https://localhost:8080/",
          "height": 221
        },
        "outputId": "4393f2b8-6762-43eb-aa5b-4972ba41043b"
      },
      "source": [
        "import statsmodels.api as sm\n",
        "X_train = sm.add_constant(affairs.age)\n",
        "est = sm.Logit(y.ravel(), X_train).fit()\n",
        "est.summary2().tables[1]\n",
        "\n"
      ],
      "execution_count": 121,
      "outputs": [
        {
          "output_type": "stream",
          "name": "stdout",
          "text": [
            "Optimization terminated successfully.\n",
            "         Current function value: 0.618131\n",
            "         Iterations 5\n"
          ]
        },
        {
          "output_type": "stream",
          "name": "stderr",
          "text": [
            "/usr/local/lib/python3.7/dist-packages/statsmodels/tsa/tsatools.py:117: FutureWarning: In a future version of pandas all arguments of concat except for the argument 'objs' will be keyword-only\n",
            "  x = pd.concat(x[::order], 1)\n"
          ]
        },
        {
          "output_type": "execute_result",
          "data": {
            "text/plain": [
              "          Coef.  Std.Err.          z         P>|z|    [0.025    0.975]\n",
              "const -2.071481  0.119108 -17.391664  9.542299e-68 -2.304927 -1.838034\n",
              "age    0.045155  0.003897  11.586809  4.807119e-31  0.037517  0.052793"
            ],
            "text/html": [
              "\n",
              "  <div id=\"df-39e07833-1625-4600-9c3a-120a4e562e2c\">\n",
              "    <div class=\"colab-df-container\">\n",
              "      <div>\n",
              "<style scoped>\n",
              "    .dataframe tbody tr th:only-of-type {\n",
              "        vertical-align: middle;\n",
              "    }\n",
              "\n",
              "    .dataframe tbody tr th {\n",
              "        vertical-align: top;\n",
              "    }\n",
              "\n",
              "    .dataframe thead th {\n",
              "        text-align: right;\n",
              "    }\n",
              "</style>\n",
              "<table border=\"1\" class=\"dataframe\">\n",
              "  <thead>\n",
              "    <tr style=\"text-align: right;\">\n",
              "      <th></th>\n",
              "      <th>Coef.</th>\n",
              "      <th>Std.Err.</th>\n",
              "      <th>z</th>\n",
              "      <th>P&gt;|z|</th>\n",
              "      <th>[0.025</th>\n",
              "      <th>0.975]</th>\n",
              "    </tr>\n",
              "  </thead>\n",
              "  <tbody>\n",
              "    <tr>\n",
              "      <th>const</th>\n",
              "      <td>-2.071481</td>\n",
              "      <td>0.119108</td>\n",
              "      <td>-17.391664</td>\n",
              "      <td>9.542299e-68</td>\n",
              "      <td>-2.304927</td>\n",
              "      <td>-1.838034</td>\n",
              "    </tr>\n",
              "    <tr>\n",
              "      <th>age</th>\n",
              "      <td>0.045155</td>\n",
              "      <td>0.003897</td>\n",
              "      <td>11.586809</td>\n",
              "      <td>4.807119e-31</td>\n",
              "      <td>0.037517</td>\n",
              "      <td>0.052793</td>\n",
              "    </tr>\n",
              "  </tbody>\n",
              "</table>\n",
              "</div>\n",
              "      <button class=\"colab-df-convert\" onclick=\"convertToInteractive('df-39e07833-1625-4600-9c3a-120a4e562e2c')\"\n",
              "              title=\"Convert this dataframe to an interactive table.\"\n",
              "              style=\"display:none;\">\n",
              "        \n",
              "  <svg xmlns=\"http://www.w3.org/2000/svg\" height=\"24px\"viewBox=\"0 0 24 24\"\n",
              "       width=\"24px\">\n",
              "    <path d=\"M0 0h24v24H0V0z\" fill=\"none\"/>\n",
              "    <path d=\"M18.56 5.44l.94 2.06.94-2.06 2.06-.94-2.06-.94-.94-2.06-.94 2.06-2.06.94zm-11 1L8.5 8.5l.94-2.06 2.06-.94-2.06-.94L8.5 2.5l-.94 2.06-2.06.94zm10 10l.94 2.06.94-2.06 2.06-.94-2.06-.94-.94-2.06-.94 2.06-2.06.94z\"/><path d=\"M17.41 7.96l-1.37-1.37c-.4-.4-.92-.59-1.43-.59-.52 0-1.04.2-1.43.59L10.3 9.45l-7.72 7.72c-.78.78-.78 2.05 0 2.83L4 21.41c.39.39.9.59 1.41.59.51 0 1.02-.2 1.41-.59l7.78-7.78 2.81-2.81c.8-.78.8-2.07 0-2.86zM5.41 20L4 18.59l7.72-7.72 1.47 1.35L5.41 20z\"/>\n",
              "  </svg>\n",
              "      </button>\n",
              "      \n",
              "  <style>\n",
              "    .colab-df-container {\n",
              "      display:flex;\n",
              "      flex-wrap:wrap;\n",
              "      gap: 12px;\n",
              "    }\n",
              "\n",
              "    .colab-df-convert {\n",
              "      background-color: #E8F0FE;\n",
              "      border: none;\n",
              "      border-radius: 50%;\n",
              "      cursor: pointer;\n",
              "      display: none;\n",
              "      fill: #1967D2;\n",
              "      height: 32px;\n",
              "      padding: 0 0 0 0;\n",
              "      width: 32px;\n",
              "    }\n",
              "\n",
              "    .colab-df-convert:hover {\n",
              "      background-color: #E2EBFA;\n",
              "      box-shadow: 0px 1px 2px rgba(60, 64, 67, 0.3), 0px 1px 3px 1px rgba(60, 64, 67, 0.15);\n",
              "      fill: #174EA6;\n",
              "    }\n",
              "\n",
              "    [theme=dark] .colab-df-convert {\n",
              "      background-color: #3B4455;\n",
              "      fill: #D2E3FC;\n",
              "    }\n",
              "\n",
              "    [theme=dark] .colab-df-convert:hover {\n",
              "      background-color: #434B5C;\n",
              "      box-shadow: 0px 1px 3px 1px rgba(0, 0, 0, 0.15);\n",
              "      filter: drop-shadow(0px 1px 2px rgba(0, 0, 0, 0.3));\n",
              "      fill: #FFFFFF;\n",
              "    }\n",
              "  </style>\n",
              "\n",
              "      <script>\n",
              "        const buttonEl =\n",
              "          document.querySelector('#df-39e07833-1625-4600-9c3a-120a4e562e2c button.colab-df-convert');\n",
              "        buttonEl.style.display =\n",
              "          google.colab.kernel.accessAllowed ? 'block' : 'none';\n",
              "\n",
              "        async function convertToInteractive(key) {\n",
              "          const element = document.querySelector('#df-39e07833-1625-4600-9c3a-120a4e562e2c');\n",
              "          const dataTable =\n",
              "            await google.colab.kernel.invokeFunction('convertToInteractive',\n",
              "                                                     [key], {});\n",
              "          if (!dataTable) return;\n",
              "\n",
              "          const docLinkHtml = 'Like what you see? Visit the ' +\n",
              "            '<a target=\"_blank\" href=https://colab.research.google.com/notebooks/data_table.ipynb>data table notebook</a>'\n",
              "            + ' to learn more about interactive tables.';\n",
              "          element.innerHTML = '';\n",
              "          dataTable['output_type'] = 'display_data';\n",
              "          await google.colab.output.renderOutput(dataTable, element);\n",
              "          const docLink = document.createElement('div');\n",
              "          docLink.innerHTML = docLinkHtml;\n",
              "          element.appendChild(docLink);\n",
              "        }\n",
              "      </script>\n",
              "    </div>\n",
              "  </div>\n",
              "  "
            ]
          },
          "metadata": {},
          "execution_count": 121
        }
      ]
    },
    {
      "cell_type": "code",
      "metadata": {
        "id": "K_nkl2sDYD6P",
        "colab": {
          "base_uri": "https://localhost:8080/",
          "height": 284
        },
        "outputId": "03703488-16ad-424d-b7af-8ea8e119ec11"
      },
      "source": [
        "X_train = sm.add_constant(affairs[['age', 'yrs_married', 'rate_marriage']])\n",
        "y = affairs.affair\n",
        "est = sm.Logit(y.ravel(), X_train).fit()\n",
        "est.summary2().tables[1]"
      ],
      "execution_count": 122,
      "outputs": [
        {
          "output_type": "stream",
          "name": "stdout",
          "text": [
            "Optimization terminated successfully.\n",
            "         Current function value: 0.556651\n",
            "         Iterations 6\n"
          ]
        },
        {
          "output_type": "stream",
          "name": "stderr",
          "text": [
            "/usr/local/lib/python3.7/dist-packages/statsmodels/tsa/tsatools.py:117: FutureWarning: In a future version of pandas all arguments of concat except for the argument 'objs' will be keyword-only\n",
            "  x = pd.concat(x[::order], 1)\n"
          ]
        },
        {
          "output_type": "execute_result",
          "data": {
            "text/plain": [
              "                  Coef.  Std.Err.          z          P>|z|    [0.025  \\\n",
              "const          3.032377  0.249265  12.165270   4.758710e-34  2.543826   \n",
              "age           -0.063218  0.009746  -6.486824   8.766445e-11 -0.082319   \n",
              "yrs_married    0.106243  0.009205  11.542467   8.058052e-31  0.088203   \n",
              "rate_marriage -0.727327  0.030956 -23.495828  4.499668e-122 -0.787999   \n",
              "\n",
              "                 0.975]  \n",
              "const          3.520928  \n",
              "age           -0.044117  \n",
              "yrs_married    0.124284  \n",
              "rate_marriage -0.666655  "
            ],
            "text/html": [
              "\n",
              "  <div id=\"df-8d735614-108e-454d-97ef-581854c91b92\">\n",
              "    <div class=\"colab-df-container\">\n",
              "      <div>\n",
              "<style scoped>\n",
              "    .dataframe tbody tr th:only-of-type {\n",
              "        vertical-align: middle;\n",
              "    }\n",
              "\n",
              "    .dataframe tbody tr th {\n",
              "        vertical-align: top;\n",
              "    }\n",
              "\n",
              "    .dataframe thead th {\n",
              "        text-align: right;\n",
              "    }\n",
              "</style>\n",
              "<table border=\"1\" class=\"dataframe\">\n",
              "  <thead>\n",
              "    <tr style=\"text-align: right;\">\n",
              "      <th></th>\n",
              "      <th>Coef.</th>\n",
              "      <th>Std.Err.</th>\n",
              "      <th>z</th>\n",
              "      <th>P&gt;|z|</th>\n",
              "      <th>[0.025</th>\n",
              "      <th>0.975]</th>\n",
              "    </tr>\n",
              "  </thead>\n",
              "  <tbody>\n",
              "    <tr>\n",
              "      <th>const</th>\n",
              "      <td>3.032377</td>\n",
              "      <td>0.249265</td>\n",
              "      <td>12.165270</td>\n",
              "      <td>4.758710e-34</td>\n",
              "      <td>2.543826</td>\n",
              "      <td>3.520928</td>\n",
              "    </tr>\n",
              "    <tr>\n",
              "      <th>age</th>\n",
              "      <td>-0.063218</td>\n",
              "      <td>0.009746</td>\n",
              "      <td>-6.486824</td>\n",
              "      <td>8.766445e-11</td>\n",
              "      <td>-0.082319</td>\n",
              "      <td>-0.044117</td>\n",
              "    </tr>\n",
              "    <tr>\n",
              "      <th>yrs_married</th>\n",
              "      <td>0.106243</td>\n",
              "      <td>0.009205</td>\n",
              "      <td>11.542467</td>\n",
              "      <td>8.058052e-31</td>\n",
              "      <td>0.088203</td>\n",
              "      <td>0.124284</td>\n",
              "    </tr>\n",
              "    <tr>\n",
              "      <th>rate_marriage</th>\n",
              "      <td>-0.727327</td>\n",
              "      <td>0.030956</td>\n",
              "      <td>-23.495828</td>\n",
              "      <td>4.499668e-122</td>\n",
              "      <td>-0.787999</td>\n",
              "      <td>-0.666655</td>\n",
              "    </tr>\n",
              "  </tbody>\n",
              "</table>\n",
              "</div>\n",
              "      <button class=\"colab-df-convert\" onclick=\"convertToInteractive('df-8d735614-108e-454d-97ef-581854c91b92')\"\n",
              "              title=\"Convert this dataframe to an interactive table.\"\n",
              "              style=\"display:none;\">\n",
              "        \n",
              "  <svg xmlns=\"http://www.w3.org/2000/svg\" height=\"24px\"viewBox=\"0 0 24 24\"\n",
              "       width=\"24px\">\n",
              "    <path d=\"M0 0h24v24H0V0z\" fill=\"none\"/>\n",
              "    <path d=\"M18.56 5.44l.94 2.06.94-2.06 2.06-.94-2.06-.94-.94-2.06-.94 2.06-2.06.94zm-11 1L8.5 8.5l.94-2.06 2.06-.94-2.06-.94L8.5 2.5l-.94 2.06-2.06.94zm10 10l.94 2.06.94-2.06 2.06-.94-2.06-.94-.94-2.06-.94 2.06-2.06.94z\"/><path d=\"M17.41 7.96l-1.37-1.37c-.4-.4-.92-.59-1.43-.59-.52 0-1.04.2-1.43.59L10.3 9.45l-7.72 7.72c-.78.78-.78 2.05 0 2.83L4 21.41c.39.39.9.59 1.41.59.51 0 1.02-.2 1.41-.59l7.78-7.78 2.81-2.81c.8-.78.8-2.07 0-2.86zM5.41 20L4 18.59l7.72-7.72 1.47 1.35L5.41 20z\"/>\n",
              "  </svg>\n",
              "      </button>\n",
              "      \n",
              "  <style>\n",
              "    .colab-df-container {\n",
              "      display:flex;\n",
              "      flex-wrap:wrap;\n",
              "      gap: 12px;\n",
              "    }\n",
              "\n",
              "    .colab-df-convert {\n",
              "      background-color: #E8F0FE;\n",
              "      border: none;\n",
              "      border-radius: 50%;\n",
              "      cursor: pointer;\n",
              "      display: none;\n",
              "      fill: #1967D2;\n",
              "      height: 32px;\n",
              "      padding: 0 0 0 0;\n",
              "      width: 32px;\n",
              "    }\n",
              "\n",
              "    .colab-df-convert:hover {\n",
              "      background-color: #E2EBFA;\n",
              "      box-shadow: 0px 1px 2px rgba(60, 64, 67, 0.3), 0px 1px 3px 1px rgba(60, 64, 67, 0.15);\n",
              "      fill: #174EA6;\n",
              "    }\n",
              "\n",
              "    [theme=dark] .colab-df-convert {\n",
              "      background-color: #3B4455;\n",
              "      fill: #D2E3FC;\n",
              "    }\n",
              "\n",
              "    [theme=dark] .colab-df-convert:hover {\n",
              "      background-color: #434B5C;\n",
              "      box-shadow: 0px 1px 3px 1px rgba(0, 0, 0, 0.15);\n",
              "      filter: drop-shadow(0px 1px 2px rgba(0, 0, 0, 0.3));\n",
              "      fill: #FFFFFF;\n",
              "    }\n",
              "  </style>\n",
              "\n",
              "      <script>\n",
              "        const buttonEl =\n",
              "          document.querySelector('#df-8d735614-108e-454d-97ef-581854c91b92 button.colab-df-convert');\n",
              "        buttonEl.style.display =\n",
              "          google.colab.kernel.accessAllowed ? 'block' : 'none';\n",
              "\n",
              "        async function convertToInteractive(key) {\n",
              "          const element = document.querySelector('#df-8d735614-108e-454d-97ef-581854c91b92');\n",
              "          const dataTable =\n",
              "            await google.colab.kernel.invokeFunction('convertToInteractive',\n",
              "                                                     [key], {});\n",
              "          if (!dataTable) return;\n",
              "\n",
              "          const docLinkHtml = 'Like what you see? Visit the ' +\n",
              "            '<a target=\"_blank\" href=https://colab.research.google.com/notebooks/data_table.ipynb>data table notebook</a>'\n",
              "            + ' to learn more about interactive tables.';\n",
              "          element.innerHTML = '';\n",
              "          dataTable['output_type'] = 'display_data';\n",
              "          await google.colab.output.renderOutput(dataTable, element);\n",
              "          const docLink = document.createElement('div');\n",
              "          docLink.innerHTML = docLinkHtml;\n",
              "          element.appendChild(docLink);\n",
              "        }\n",
              "      </script>\n",
              "    </div>\n",
              "  </div>\n",
              "  "
            ]
          },
          "metadata": {},
          "execution_count": 122
        }
      ]
    },
    {
      "cell_type": "code",
      "metadata": {
        "id": "BRiVMO4WYLgj",
        "colab": {
          "base_uri": "https://localhost:8080/",
          "height": 367
        },
        "outputId": "f6488366-ae46-4036-cb83-c11896e52561"
      },
      "source": [
        "affairs['affair2'] = affairs.affair.factorize()[0]\n",
        "\n",
        "\n",
        "X_train = affairs[affairs.religious==1.0].age.values.reshape(-1,1)\n",
        "y = affairs[affairs.religious==1.0].affair2\n",
        "\n",
        "##print(y)\n",
        "\n",
        "X_train2 = affairs[affairs.religious==2.0].age.values.reshape(-1,1)\n",
        "y2 = affairs[affairs.religious==2.0].affair2\n",
        "\n",
        "#print(y2)\n",
        "\n",
        "X_test = np.arange(affairs.age.min(), affairs.age.max()).reshape(-1,1)\n",
        "\n",
        "clf = skl_lm.LogisticRegression()\n",
        "clf.fit(X_train,y)\n",
        "prob = clf.predict_proba(X_test)\n",
        "\n",
        "\n",
        "clf2 = skl_lm.LogisticRegression()\n",
        "clf2.fit(X_train2,y2)\n",
        "prob2 = clf2.predict_proba(X_test)\n",
        "\n",
        "\n",
        "fig, ax = plt.subplots(1,1, figsize=(6,5))\n",
        "\n",
        "ax.plot(X_test, pd.DataFrame(prob)[1], label='Religião 1')\n",
        "ax.plot(X_test, pd.DataFrame(prob2)[1], label='Religião 2')\n",
        "ax.set_ylabel('Affair')\n",
        "ax.set_xlabel('Age')\n",
        "\n",
        "ax.set_xlim(0, 50)\n",
        "ax.legend(loc=2)"
      ],
      "execution_count": 123,
      "outputs": [
        {
          "output_type": "execute_result",
          "data": {
            "text/plain": [
              "<matplotlib.legend.Legend at 0x7f37779c4e50>"
            ]
          },
          "metadata": {},
          "execution_count": 123
        },
        {
          "output_type": "display_data",
          "data": {
            "text/plain": [
              "<Figure size 432x360 with 1 Axes>"
            ],
            "image/png": "[encoded data removed]"
          },
          "metadata": {}
        }
      ]
    },
    {
      "cell_type": "markdown",
      "metadata": {
        "id": "yjpTKQU-aMbw"
      },
      "source": [
        "**Análise**\n",
        "\n",
        "Aparentemente a sacanagem rola indepedente da religiosidade. :)"
      ]
    },
    {
      "cell_type": "code",
      "metadata": {
        "id": "c1TWHWLsYdDa",
        "colab": {
          "base_uri": "https://localhost:8080/",
          "height": 293
        },
        "outputId": "8ab9cc05-9cda-45ce-9415-8e37238558fb"
      },
      "source": [
        "from sklearn.metrics import confusion_matrix\n",
        "\n",
        "import seaborn as sns\n",
        "\n",
        "X_train = affairs[['children','age','religious']]\n",
        "y = affairs.affair2\n",
        "\n",
        "clf = skl_lm.LogisticRegression()\n",
        "clf.fit(X_train,y)\n",
        "\n",
        "y_pred = clf.predict(X_train)\n",
        "cm = confusion_matrix(y,y_pred)\n",
        "\n",
        "affairs_cm = pd.DataFrame(cm, range(2),range(2))\n",
        "sns.set(font_scale=1.4)\n",
        "sns.heatmap(affairs_cm, annot=True, annot_kws={\"size\": 16})"
      ],
      "execution_count": 124,
      "outputs": [
        {
          "output_type": "execute_result",
          "data": {
            "text/plain": [
              "<matplotlib.axes._subplots.AxesSubplot at 0x7f3778dc00d0>"
            ]
          },
          "metadata": {},
          "execution_count": 124
        },
        {
          "output_type": "display_data",
          "data": {
            "text/plain": [
              "<Figure size 432x288 with 2 Axes>"
            ],
            "image/png": "[encoded data removed]"
          },
          "metadata": {}
        }
      ]
    },
    {
      "cell_type": "markdown",
      "metadata": {
        "id": "Z9haf6GgHFp4"
      },
      "source": [
        "# KNN"
      ]
    },
    {
      "cell_type": "markdown",
      "metadata": {
        "id": "dHCmnhcmKIg_"
      },
      "source": [
        "Vamos iniciar o KNN com um parametro de 3 vizinhos. E na sequencia vamos alterando esse hiperparametro e features selecionadas com base no que aprendemos na regressao logistica"
      ]
    },
    {
      "cell_type": "code",
      "metadata": {
        "id": "r13MmhMsHFw8",
        "colab": {
          "base_uri": "https://localhost:8080/",
          "height": 380
        },
        "outputId": "88cee3c4-b012-48dc-a0c2-4a4205739f01"
      },
      "source": [
        "from sklearn.neighbors import KNeighborsClassifier \n",
        "from sklearn.metrics import accuracy_score,confusion_matrix\n",
        "from sklearn.model_selection import train_test_split\n",
        "\n",
        "X_train, X_test, Y_train, Y_test = train_test_split(Xs, Y) \n",
        "\n",
        "knn1 = KNeighborsClassifier(n_neighbors = 3 )\n",
        "knn1.fit(X_train,Y_train)\n",
        "print('Acuracia Treino',knn1.score(X_train,Y_train))\n",
        "y_pred = knn1.predict(X_test)\n",
        "print('Acuracia Teste',accuracy_score(Y_test,y_pred))\n",
        "print('MSE Teste',mean_squared_error(Y_test,previsoes))\n",
        "cm = confusion_matrix(Y_test, y_pred)\n",
        "print(cm)\n",
        "sns.heatmap(cm,annot=True)"
      ],
      "execution_count": 125,
      "outputs": [
        {
          "output_type": "stream",
          "name": "stdout",
          "text": [
            "Acuracia Treino 0.8152492668621701\n",
            "Acuracia Teste 0.6790201005025126\n",
            "MSE Teste 0.4001256281407035\n",
            "[[866 197]\n",
            " [314 215]]\n"
          ]
        },
        {
          "output_type": "execute_result",
          "data": {
            "text/plain": [
              "<matplotlib.axes._subplots.AxesSubplot at 0x7f377791d550>"
            ]
          },
          "metadata": {},
          "execution_count": 125
        },
        {
          "output_type": "display_data",
          "data": {
            "text/plain": [
              "<Figure size 432x288 with 2 Axes>"
            ],
            "image/png": "[encoded data removed]"
          },
          "metadata": {}
        }
      ]
    },
    {
      "cell_type": "markdown",
      "metadata": {
        "id": "QC_yMRDTaWXP"
      },
      "source": [
        "**Análise**\n",
        "\n",
        "Neste primeiro KNN com 3 vizinhos tivemos uma acuracia de treino superior (81%) ao de teste (61%), o que apontar para um overfit. Vamos alterar o numero de vizinhos para observar o efeito"
      ]
    },
    {
      "cell_type": "code",
      "metadata": {
        "colab": {
          "base_uri": "https://localhost:8080/",
          "height": 380
        },
        "id": "jIB7xAe4K4WD",
        "outputId": "9dba98d1-86c3-4d01-8feb-161e8b8f4e31"
      },
      "source": [
        "\n",
        "knn2 = KNeighborsClassifier(n_neighbors = 5 )\n",
        "knn2.fit(X_train,Y_train)\n",
        "print('Acuracia Treino',knn2.score(X_train,Y_train))\n",
        "y_pred = knn2.predict(X_test)\n",
        "print('Acuracia Teste',accuracy_score(Y_test,y_pred))\n",
        "print('MSE Teste',mean_squared_error(Y_test,previsoes))\n",
        "cm = confusion_matrix(Y_test, y_pred)\n",
        "print(cm)\n",
        "sns.heatmap(cm,annot=True)"
      ],
      "execution_count": 126,
      "outputs": [
        {
          "output_type": "stream",
          "name": "stdout",
          "text": [
            "Acuracia Treino 0.7823627984918308\n",
            "Acuracia Teste 0.6953517587939698\n",
            "MSE Teste 0.4001256281407035\n",
            "[[910 153]\n",
            " [332 197]]\n"
          ]
        },
        {
          "output_type": "execute_result",
          "data": {
            "text/plain": [
              "<matplotlib.axes._subplots.AxesSubplot at 0x7f37778b8210>"
            ]
          },
          "metadata": {},
          "execution_count": 126
        },
        {
          "output_type": "display_data",
          "data": {
            "text/plain": [
              "<Figure size 432x288 with 2 Axes>"
            ],
            "image/png": "[encoded data removed]"
          },
          "metadata": {}
        }
      ]
    },
    {
      "cell_type": "markdown",
      "metadata": {
        "id": "MdIMEdBzLH1M"
      },
      "source": [
        "**Analise**\n",
        "\n",
        "Aumentando o numero de vizinhos para 5, a acuracia de treino e teste se equilibram em torno de 70%, mantendo o MSE no mesmo patamar de 0.36. Vamos tentar agora alterar as features utilizadas, com base na regressao logistica"
      ]
    },
    {
      "cell_type": "code",
      "metadata": {
        "colab": {
          "base_uri": "https://localhost:8080/",
          "height": 380
        },
        "id": "2s_9K8bCLjy3",
        "outputId": "d4495b57-5099-474e-cbcd-3e952bdecda2"
      },
      "source": [
        "\n",
        "knn = KNeighborsClassifier(n_neighbors = 5 )\n",
        "knn.fit(X_train[['rate_marriage','yrs_married','religious','occ5','occ6','tem_filhos']],Y_train)\n",
        "print('Acuracia Treino',knn.score(X_train[['rate_marriage','yrs_married','religious','occ5','occ6','tem_filhos']],Y_train))\n",
        "y_pred = knn.predict(X_test[['rate_marriage','yrs_married','religious','occ5','occ6','tem_filhos']])\n",
        "print('Acuracia Teste',accuracy_score(Y_test,y_pred))\n",
        "print('MSE Teste',mean_squared_error(Y_test,previsoes))\n",
        "cm = confusion_matrix(Y_test, y_pred)\n",
        "print(cm)\n",
        "sns.heatmap(cm,annot=True)"
      ],
      "execution_count": 127,
      "outputs": [
        {
          "output_type": "stream",
          "name": "stdout",
          "text": [
            "Acuracia Treino 0.6968998743192292\n",
            "Acuracia Teste 0.6564070351758794\n",
            "MSE Teste 0.4001256281407035\n",
            "[[835 228]\n",
            " [319 210]]\n"
          ]
        },
        {
          "output_type": "execute_result",
          "data": {
            "text/plain": [
              "<matplotlib.axes._subplots.AxesSubplot at 0x7f37777d0990>"
            ]
          },
          "metadata": {},
          "execution_count": 127
        },
        {
          "output_type": "display_data",
          "data": {
            "text/plain": [
              "<Figure size 432x288 with 2 Axes>"
            ],
            "image/png": "[encoded data removed]"
          },
          "metadata": {}
        }
      ]
    },
    {
      "cell_type": "markdown",
      "metadata": {
        "id": "ACw7WHCTMfyV"
      },
      "source": [
        "**Analise**\n",
        "\n",
        "A selecao de features nao afetou significativamente a acuracia e MSE do KNN. Vamos por fim treinar o modelo novamente com todas as features e criar uma curva ROC para verificar se o nivel da probabilidade aceito melhora precisao x recall"
      ]
    },
    {
      "cell_type": "code",
      "metadata": {
        "id": "Xh4EUlHpigDK",
        "colab": {
          "base_uri": "https://localhost:8080/",
          "height": 315
        },
        "outputId": "520c1ca0-f4b6-4eb3-db66-ad3e148519ec"
      },
      "source": [
        "from sklearn.metrics import roc_curve, auc\n",
        "import matplotlib.pyplot as plt\n",
        "y_score_lr = knn.fit(X_train, Y_train).predict_proba(X_train)\n",
        "fpr_lr, tpr_lr, _ = roc_curve(Y_train, y_score_lr[:, 1])\n",
        "roc_auc_lr = auc(fpr_lr, tpr_lr)\n",
        "\n",
        "plt.plot([0,1],[0,1],'k--')\n",
        "plt.plot(fpr_lr, tpr_lr, label='ROC curve (area = {:0.2f})'.format(roc_auc_lr))\n",
        "plt.xlabel('False Positive Rate')\n",
        "plt.ylabel('True Positive Rate')\n",
        "plt.title('ROC curve')\n",
        "plt.legend(loc='lower right')\n",
        "plt.show()"
      ],
      "execution_count": 128,
      "outputs": [
        {
          "output_type": "display_data",
          "data": {
            "text/plain": [
              "<Figure size 432x288 with 1 Axes>"
            ],
            "image/png": "[encoded data removed]"
          },
          "metadata": {}
        }
      ]
    },
    {
      "cell_type": "markdown",
      "metadata": {
        "id": "v2YnmbwhIclc"
      },
      "source": [
        "**Analise**\n",
        "\n",
        "Alterando a probalidade aceita para classificar o individuo como positivo, podemos chegar em um equilibrio entre acuracia e recall, tendo mais de 60% de TP e cerca de 10% de FP. Ou ainda chegar a ter uma precisao perfeita, 100%, se dispor a ter uma maior taxa de FP, um pouco mais de 40%"
      ]
    },
    {
      "cell_type": "markdown",
      "metadata": {
        "id": "L2KQOWKm5phf"
      },
      "source": [
        "# Árvore de Decisão"
      ]
    },
    {
      "cell_type": "code",
      "metadata": {
        "id": "M9zoi-auNh0d",
        "colab": {
          "base_uri": "https://localhost:8080/"
        },
        "outputId": "359610bc-b466-4203-dd8e-3d96a5374b8d"
      },
      "source": [
        " !pip install graphviz"
      ],
      "execution_count": 129,
      "outputs": [
        {
          "output_type": "stream",
          "name": "stdout",
          "text": [
            "Requirement already satisfied: graphviz in /usr/local/lib/python3.7/dist-packages (0.10.1)\n"
          ]
        }
      ]
    },
    {
      "cell_type": "code",
      "metadata": {
        "id": "7BJHybl7Njgj",
        "colab": {
          "base_uri": "https://localhost:8080/"
        },
        "outputId": "1a720cea-9003-4009-a9d2-9e15914269be"
      },
      "source": [
        " !apt-get install graphviz"
      ],
      "execution_count": 130,
      "outputs": [
        {
          "output_type": "stream",
          "name": "stdout",
          "text": [
            "Reading package lists... Done\n",
            "Building dependency tree       \n",
            "Reading state information... Done\n",
            "graphviz is already the newest version (2.40.1-2).\n",
            "0 upgraded, 0 newly installed, 0 to remove and 39 not upgraded.\n"
          ]
        }
      ]
    },
    {
      "cell_type": "code",
      "metadata": {
        "id": "uEI7qfX-5pGQ",
        "colab": {
          "base_uri": "https://localhost:8080/",
          "height": 112
        },
        "outputId": "a2741345-d86d-4751-af21-ca127683e858"
      },
      "source": [
        "import pandas as pd\n",
        "affairs=pd.read_csv('https://raw.githubusercontent.com/lcbjrrr/quant/master/affairs.csv')\n",
        "#affairs['Had_Affair'] = affairs['affair'].map({True:'Trai',False:'Nao Trai'})\n",
        "#affairs.dropna(inplace=True)\n",
        "affairs.head(2)"
      ],
      "execution_count": 131,
      "outputs": [
        {
          "output_type": "execute_result",
          "data": {
            "text/plain": [
              "   Unnamed: 0  rate_marriage   age  yrs_married  children  religious  educ  \\\n",
              "0           0            3.0  32.0          9.0       3.0        3.0  17.0   \n",
              "1           1            3.0  27.0         13.0       3.0        1.0  14.0   \n",
              "\n",
              "   occupation  occupation_husb  affair  \n",
              "0         2.0              5.0    True  \n",
              "1         3.0              4.0    True  "
            ],
            "text/html": [
              "\n",
              "  <div id=\"df-0430af5f-630a-43e1-ab3f-c82f77a7a6e2\">\n",
              "    <div class=\"colab-df-container\">\n",
              "      <div>\n",
              "<style scoped>\n",
              "    .dataframe tbody tr th:only-of-type {\n",
              "        vertical-align: middle;\n",
              "    }\n",
              "\n",
              "    .dataframe tbody tr th {\n",
              "        vertical-align: top;\n",
              "    }\n",
              "\n",
              "    .dataframe thead th {\n",
              "        text-align: right;\n",
              "    }\n",
              "</style>\n",
              "<table border=\"1\" class=\"dataframe\">\n",
              "  <thead>\n",
              "    <tr style=\"text-align: right;\">\n",
              "      <th></th>\n",
              "      <th>Unnamed: 0</th>\n",
              "      <th>rate_marriage</th>\n",
              "      <th>age</th>\n",
              "      <th>yrs_married</th>\n",
              "      <th>children</th>\n",
              "      <th>religious</th>\n",
              "      <th>educ</th>\n",
              "      <th>occupation</th>\n",
              "      <th>occupation_husb</th>\n",
              "      <th>affair</th>\n",
              "    </tr>\n",
              "  </thead>\n",
              "  <tbody>\n",
              "    <tr>\n",
              "      <th>0</th>\n",
              "      <td>0</td>\n",
              "      <td>3.0</td>\n",
              "      <td>32.0</td>\n",
              "      <td>9.0</td>\n",
              "      <td>3.0</td>\n",
              "      <td>3.0</td>\n",
              "      <td>17.0</td>\n",
              "      <td>2.0</td>\n",
              "      <td>5.0</td>\n",
              "      <td>True</td>\n",
              "    </tr>\n",
              "    <tr>\n",
              "      <th>1</th>\n",
              "      <td>1</td>\n",
              "      <td>3.0</td>\n",
              "      <td>27.0</td>\n",
              "      <td>13.0</td>\n",
              "      <td>3.0</td>\n",
              "      <td>1.0</td>\n",
              "      <td>14.0</td>\n",
              "      <td>3.0</td>\n",
              "      <td>4.0</td>\n",
              "      <td>True</td>\n",
              "    </tr>\n",
              "  </tbody>\n",
              "</table>\n",
              "</div>\n",
              "      <button class=\"colab-df-convert\" onclick=\"convertToInteractive('df-0430af5f-630a-43e1-ab3f-c82f77a7a6e2')\"\n",
              "              title=\"Convert this dataframe to an interactive table.\"\n",
              "              style=\"display:none;\">\n",
              "        \n",
              "  <svg xmlns=\"http://www.w3.org/2000/svg\" height=\"24px\"viewBox=\"0 0 24 24\"\n",
              "       width=\"24px\">\n",
              "    <path d=\"M0 0h24v24H0V0z\" fill=\"none\"/>\n",
              "    <path d=\"M18.56 5.44l.94 2.06.94-2.06 2.06-.94-2.06-.94-.94-2.06-.94 2.06-2.06.94zm-11 1L8.5 8.5l.94-2.06 2.06-.94-2.06-.94L8.5 2.5l-.94 2.06-2.06.94zm10 10l.94 2.06.94-2.06 2.06-.94-2.06-.94-.94-2.06-.94 2.06-2.06.94z\"/><path d=\"M17.41 7.96l-1.37-1.37c-.4-.4-.92-.59-1.43-.59-.52 0-1.04.2-1.43.59L10.3 9.45l-7.72 7.72c-.78.78-.78 2.05 0 2.83L4 21.41c.39.39.9.59 1.41.59.51 0 1.02-.2 1.41-.59l7.78-7.78 2.81-2.81c.8-.78.8-2.07 0-2.86zM5.41 20L4 18.59l7.72-7.72 1.47 1.35L5.41 20z\"/>\n",
              "  </svg>\n",
              "      </button>\n",
              "      \n",
              "  <style>\n",
              "    .colab-df-container {\n",
              "      display:flex;\n",
              "      flex-wrap:wrap;\n",
              "      gap: 12px;\n",
              "    }\n",
              "\n",
              "    .colab-df-convert {\n",
              "      background-color: #E8F0FE;\n",
              "      border: none;\n",
              "      border-radius: 50%;\n",
              "      cursor: pointer;\n",
              "      display: none;\n",
              "      fill: #1967D2;\n",
              "      height: 32px;\n",
              "      padding: 0 0 0 0;\n",
              "      width: 32px;\n",
              "    }\n",
              "\n",
              "    .colab-df-convert:hover {\n",
              "      background-color: #E2EBFA;\n",
              "      box-shadow: 0px 1px 2px rgba(60, 64, 67, 0.3), 0px 1px 3px 1px rgba(60, 64, 67, 0.15);\n",
              "      fill: #174EA6;\n",
              "    }\n",
              "\n",
              "    [theme=dark] .colab-df-convert {\n",
              "      background-color: #3B4455;\n",
              "      fill: #D2E3FC;\n",
              "    }\n",
              "\n",
              "    [theme=dark] .colab-df-convert:hover {\n",
              "      background-color: #434B5C;\n",
              "      box-shadow: 0px 1px 3px 1px rgba(0, 0, 0, 0.15);\n",
              "      filter: drop-shadow(0px 1px 2px rgba(0, 0, 0, 0.3));\n",
              "      fill: #FFFFFF;\n",
              "    }\n",
              "  </style>\n",
              "\n",
              "      <script>\n",
              "        const buttonEl =\n",
              "          document.querySelector('#df-0430af5f-630a-43e1-ab3f-c82f77a7a6e2 button.colab-df-convert');\n",
              "        buttonEl.style.display =\n",
              "          google.colab.kernel.accessAllowed ? 'block' : 'none';\n",
              "\n",
              "        async function convertToInteractive(key) {\n",
              "          const element = document.querySelector('#df-0430af5f-630a-43e1-ab3f-c82f77a7a6e2');\n",
              "          const dataTable =\n",
              "            await google.colab.kernel.invokeFunction('convertToInteractive',\n",
              "                                                     [key], {});\n",
              "          if (!dataTable) return;\n",
              "\n",
              "          const docLinkHtml = 'Like what you see? Visit the ' +\n",
              "            '<a target=\"_blank\" href=https://colab.research.google.com/notebooks/data_table.ipynb>data table notebook</a>'\n",
              "            + ' to learn more about interactive tables.';\n",
              "          element.innerHTML = '';\n",
              "          dataTable['output_type'] = 'display_data';\n",
              "          await google.colab.output.renderOutput(dataTable, element);\n",
              "          const docLink = document.createElement('div');\n",
              "          docLink.innerHTML = docLinkHtml;\n",
              "          element.appendChild(docLink);\n",
              "        }\n",
              "      </script>\n",
              "    </div>\n",
              "  </div>\n",
              "  "
            ]
          },
          "metadata": {},
          "execution_count": 131
        }
      ]
    },
    {
      "cell_type": "code",
      "metadata": {
        "id": "KqOQlYi06R_W",
        "colab": {
          "base_uri": "https://localhost:8080/",
          "height": 440
        },
        "outputId": "fd5aee4a-a944-4cde-9df8-6b7b048c9307"
      },
      "source": [
        "from sklearn.tree import DecisionTreeClassifier\n",
        "from sklearn.tree import export_graphviz\n",
        "#from sklearn.externals.six import StringIO\n",
        "import pydot\n",
        "from IPython.display import Image\n",
        "from graphviz import Source\n",
        "\n",
        "X = affairs[[\t'rate_marriage','age',\t'yrs_married',\t'children',\t'religious',\t'educ']]\n",
        "y = pd.factorize(affairs['affair'])[0] \n",
        "\n",
        "tree1 = DecisionTreeClassifier(max_depth=2)\n",
        "tree1.fit(X,y)\n",
        "\n",
        "dot = export_graphviz(tree1, feature_names=[\t'rate_marriage','age',\t'yrs_married',\t'children',\t'religious',\t'educ'], class_names=['Trai','Nao Trai'], filled=True)\n",
        "Source(dot)"
      ],
      "execution_count": 132,
      "outputs": [
        {
          "output_type": "execute_result",
          "data": {
            "text/plain": [
              "<graphviz.files.Source at 0x7f3777aa1f10>"
            ],
            "image/svg+xml": "<?xml version=\"1.0\" encoding=\"UTF-8\" standalone=\"no\"?>\n<!DOCTYPE svg PUBLIC \"-//W3C//DTD SVG 1.1//EN\"\n \"http://www.w3.org/Graphics/SVG/1.1/DTD/svg11.dtd\">\n<!-- Generated by graphviz version 2.40.1 (20161225.0304)\n -->\n<!-- Title: Tree Pages: 1 -->\n<svg width=\"612pt\" height=\"314pt\"\n viewBox=\"0.00 0.00 612.00 314.00\" xmlns=\"http://www.w3.org/2000/svg\" xmlns:xlink=\"http://www.w3.org/1999/xlink\">\n<g id=\"graph0\" class=\"graph\" transform=\"scale(1 1) rotate(0) translate(4 310)\">\n<title>Tree</title>\n<polygon fill=\"#ffffff\" stroke=\"transparent\" points=\"-4,4 -4,-310 608,-310 608,4 -4,4\"/>\n<!-- 0 -->\n<g id=\"node1\" class=\"node\">\n<title>0</title>\n<polygon fill=\"#97ccf1\" stroke=\"#000000\" points=\"371.5,-306 220.5,-306 220.5,-223 371.5,-223 371.5,-306\"/>\n<text text-anchor=\"middle\" x=\"296\" y=\"-290.8\" font-family=\"Helvetica,sans-Serif\" font-size=\"14.00\" fill=\"#000000\">rate_marriage &lt;= 3.5</text>\n<text text-anchor=\"middle\" x=\"296\" y=\"-275.8\" font-family=\"Helvetica,sans-Serif\" font-size=\"14.00\" fill=\"#000000\">gini = 0.437</text>\n<text text-anchor=\"middle\" x=\"296\" y=\"-260.8\" font-family=\"Helvetica,sans-Serif\" font-size=\"14.00\" fill=\"#000000\">samples = 6366</text>\n<text text-anchor=\"middle\" x=\"296\" y=\"-245.8\" font-family=\"Helvetica,sans-Serif\" font-size=\"14.00\" fill=\"#000000\">value = [2053, 4313]</text>\n<text text-anchor=\"middle\" x=\"296\" y=\"-230.8\" font-family=\"Helvetica,sans-Serif\" font-size=\"14.00\" fill=\"#000000\">class = Nao Trai</text>\n</g>\n<!-- 1 -->\n<g id=\"node2\" class=\"node\">\n<title>1</title>\n<polygon fill=\"#f7dac6\" stroke=\"#000000\" points=\"286,-187 140,-187 140,-104 286,-104 286,-187\"/>\n<text text-anchor=\"middle\" x=\"213\" y=\"-171.8\" font-family=\"Helvetica,sans-Serif\" font-size=\"14.00\" fill=\"#000000\">yrs_married &lt;= 4.25</text>\n<text text-anchor=\"middle\" x=\"213\" y=\"-156.8\" font-family=\"Helvetica,sans-Serif\" font-size=\"14.00\" fill=\"#000000\">gini = 0.486</text>\n<text text-anchor=\"middle\" x=\"213\" y=\"-141.8\" font-family=\"Helvetica,sans-Serif\" font-size=\"14.00\" fill=\"#000000\">samples = 1440</text>\n<text text-anchor=\"middle\" x=\"213\" y=\"-126.8\" font-family=\"Helvetica,sans-Serif\" font-size=\"14.00\" fill=\"#000000\">value = [842, 598]</text>\n<text text-anchor=\"middle\" x=\"213\" y=\"-111.8\" font-family=\"Helvetica,sans-Serif\" font-size=\"14.00\" fill=\"#000000\">class = Trai</text>\n</g>\n<!-- 0&#45;&gt;1 -->\n<g id=\"edge1\" class=\"edge\">\n<title>0&#45;&gt;1</title>\n<path fill=\"none\" stroke=\"#000000\" d=\"M266.9706,-222.8796C260.8145,-214.0534 254.2549,-204.6485 247.9064,-195.5466\"/>\n<polygon fill=\"#000000\" stroke=\"#000000\" points=\"250.7448,-193.4978 242.1533,-187.2981 245.0033,-197.5024 250.7448,-193.4978\"/>\n<text text-anchor=\"middle\" x=\"237.7669\" y=\"-208.2103\" font-family=\"Helvetica,sans-Serif\" font-size=\"14.00\" fill=\"#000000\">True</text>\n</g>\n<!-- 4 -->\n<g id=\"node5\" class=\"node\">\n<title>4</title>\n<polygon fill=\"#7abded\" stroke=\"#000000\" points=\"453.5,-187 304.5,-187 304.5,-104 453.5,-104 453.5,-187\"/>\n<text text-anchor=\"middle\" x=\"379\" y=\"-171.8\" font-family=\"Helvetica,sans-Serif\" font-size=\"14.00\" fill=\"#000000\">yrs_married &lt;= 4.25</text>\n<text text-anchor=\"middle\" x=\"379\" y=\"-156.8\" font-family=\"Helvetica,sans-Serif\" font-size=\"14.00\" fill=\"#000000\">gini = 0.371</text>\n<text text-anchor=\"middle\" x=\"379\" y=\"-141.8\" font-family=\"Helvetica,sans-Serif\" font-size=\"14.00\" fill=\"#000000\">samples = 4926</text>\n<text text-anchor=\"middle\" x=\"379\" y=\"-126.8\" font-family=\"Helvetica,sans-Serif\" font-size=\"14.00\" fill=\"#000000\">value = [1211, 3715]</text>\n<text text-anchor=\"middle\" x=\"379\" y=\"-111.8\" font-family=\"Helvetica,sans-Serif\" font-size=\"14.00\" fill=\"#000000\">class = Nao Trai</text>\n</g>\n<!-- 0&#45;&gt;4 -->\n<g id=\"edge4\" class=\"edge\">\n<title>0&#45;&gt;4</title>\n<path fill=\"none\" stroke=\"#000000\" d=\"M325.0294,-222.8796C331.1855,-214.0534 337.7451,-204.6485 344.0936,-195.5466\"/>\n<polygon fill=\"#000000\" stroke=\"#000000\" points=\"346.9967,-197.5024 349.8467,-187.2981 341.2552,-193.4978 346.9967,-197.5024\"/>\n<text text-anchor=\"middle\" x=\"354.2331\" y=\"-208.2103\" font-family=\"Helvetica,sans-Serif\" font-size=\"14.00\" fill=\"#000000\">False</text>\n</g>\n<!-- 2 -->\n<g id=\"node3\" class=\"node\">\n<title>2</title>\n<polygon fill=\"#deeffb\" stroke=\"#000000\" points=\"132,-68 0,-68 0,0 132,0 132,-68\"/>\n<text text-anchor=\"middle\" x=\"66\" y=\"-52.8\" font-family=\"Helvetica,sans-Serif\" font-size=\"14.00\" fill=\"#000000\">gini = 0.496</text>\n<text text-anchor=\"middle\" x=\"66\" y=\"-37.8\" font-family=\"Helvetica,sans-Serif\" font-size=\"14.00\" fill=\"#000000\">samples = 387</text>\n<text text-anchor=\"middle\" x=\"66\" y=\"-22.8\" font-family=\"Helvetica,sans-Serif\" font-size=\"14.00\" fill=\"#000000\">value = [176, 211]</text>\n<text text-anchor=\"middle\" x=\"66\" y=\"-7.8\" font-family=\"Helvetica,sans-Serif\" font-size=\"14.00\" fill=\"#000000\">class = Nao Trai</text>\n</g>\n<!-- 1&#45;&gt;2 -->\n<g id=\"edge2\" class=\"edge\">\n<title>1&#45;&gt;2</title>\n<path fill=\"none\" stroke=\"#000000\" d=\"M158.2626,-103.9815C145.5399,-94.3313 132.0134,-84.0714 119.3515,-74.4673\"/>\n<polygon fill=\"#000000\" stroke=\"#000000\" points=\"121.2553,-71.5184 111.1727,-68.2637 117.025,-77.0956 121.2553,-71.5184\"/>\n</g>\n<!-- 3 -->\n<g id=\"node4\" class=\"node\">\n<title>3</title>\n<polygon fill=\"#f4caac\" stroke=\"#000000\" points=\"282,-68 150,-68 150,0 282,0 282,-68\"/>\n<text text-anchor=\"middle\" x=\"216\" y=\"-52.8\" font-family=\"Helvetica,sans-Serif\" font-size=\"14.00\" fill=\"#000000\">gini = 0.465</text>\n<text text-anchor=\"middle\" x=\"216\" y=\"-37.8\" font-family=\"Helvetica,sans-Serif\" font-size=\"14.00\" fill=\"#000000\">samples = 1053</text>\n<text text-anchor=\"middle\" x=\"216\" y=\"-22.8\" font-family=\"Helvetica,sans-Serif\" font-size=\"14.00\" fill=\"#000000\">value = [666, 387]</text>\n<text text-anchor=\"middle\" x=\"216\" y=\"-7.8\" font-family=\"Helvetica,sans-Serif\" font-size=\"14.00\" fill=\"#000000\">class = Trai</text>\n</g>\n<!-- 1&#45;&gt;3 -->\n<g id=\"edge3\" class=\"edge\">\n<title>1&#45;&gt;3</title>\n<path fill=\"none\" stroke=\"#000000\" d=\"M214.1171,-103.9815C214.3421,-95.618 214.5795,-86.7965 214.807,-78.3409\"/>\n<polygon fill=\"#000000\" stroke=\"#000000\" points=\"218.3078,-78.3542 215.0781,-68.2637 211.3103,-78.1659 218.3078,-78.3542\"/>\n</g>\n<!-- 5 -->\n<g id=\"node6\" class=\"node\">\n<title>5</title>\n<polygon fill=\"#59ade9\" stroke=\"#000000\" points=\"446,-68 306,-68 306,0 446,0 446,-68\"/>\n<text text-anchor=\"middle\" x=\"376\" y=\"-52.8\" font-family=\"Helvetica,sans-Serif\" font-size=\"14.00\" fill=\"#000000\">gini = 0.238</text>\n<text text-anchor=\"middle\" x=\"376\" y=\"-37.8\" font-family=\"Helvetica,sans-Serif\" font-size=\"14.00\" fill=\"#000000\">samples = 2017</text>\n<text text-anchor=\"middle\" x=\"376\" y=\"-22.8\" font-family=\"Helvetica,sans-Serif\" font-size=\"14.00\" fill=\"#000000\">value = [279, 1738]</text>\n<text text-anchor=\"middle\" x=\"376\" y=\"-7.8\" font-family=\"Helvetica,sans-Serif\" font-size=\"14.00\" fill=\"#000000\">class = Nao Trai</text>\n</g>\n<!-- 4&#45;&gt;5 -->\n<g id=\"edge5\" class=\"edge\">\n<title>4&#45;&gt;5</title>\n<path fill=\"none\" stroke=\"#000000\" d=\"M377.8829,-103.9815C377.6579,-95.618 377.4205,-86.7965 377.193,-78.3409\"/>\n<polygon fill=\"#000000\" stroke=\"#000000\" points=\"380.6897,-78.1659 376.9219,-68.2637 373.6922,-78.3542 380.6897,-78.1659\"/>\n</g>\n<!-- 6 -->\n<g id=\"node7\" class=\"node\">\n<title>6</title>\n<polygon fill=\"#96cbf1\" stroke=\"#000000\" points=\"604,-68 464,-68 464,0 604,0 604,-68\"/>\n<text text-anchor=\"middle\" x=\"534\" y=\"-52.8\" font-family=\"Helvetica,sans-Serif\" font-size=\"14.00\" fill=\"#000000\">gini = 0.435</text>\n<text text-anchor=\"middle\" x=\"534\" y=\"-37.8\" font-family=\"Helvetica,sans-Serif\" font-size=\"14.00\" fill=\"#000000\">samples = 2909</text>\n<text text-anchor=\"middle\" x=\"534\" y=\"-22.8\" font-family=\"Helvetica,sans-Serif\" font-size=\"14.00\" fill=\"#000000\">value = [932, 1977]</text>\n<text text-anchor=\"middle\" x=\"534\" y=\"-7.8\" font-family=\"Helvetica,sans-Serif\" font-size=\"14.00\" fill=\"#000000\">class = Nao Trai</text>\n</g>\n<!-- 4&#45;&gt;6 -->\n<g id=\"edge6\" class=\"edge\">\n<title>4&#45;&gt;6</title>\n<path fill=\"none\" stroke=\"#000000\" d=\"M436.7163,-103.9815C450.2591,-94.2394 464.6657,-83.8759 478.1263,-74.193\"/>\n<polygon fill=\"#000000\" stroke=\"#000000\" points=\"480.2949,-76.9446 486.3689,-68.2637 476.2072,-71.2621 480.2949,-76.9446\"/>\n</g>\n</g>\n</svg>\n"
          },
          "metadata": {},
          "execution_count": 132
        }
      ]
    },
    {
      "cell_type": "markdown",
      "metadata": {
        "id": "jn-QP-gPSoGE"
      },
      "source": [
        "**Análise**\n",
        "\n",
        "Se a mulher atribui uma nota para o casamento superior a 3,5, ela nao trai independetemente do tempo da relacao. Por outro lado, se o a nota eh inferior a 3,5, e o tempo de casamento eh superior a 4,25 anos, ela tende a trair. Mesmo com um nota baixa (< 3,5), tendo pouco tempo de casamento (< 4,5 anos) ela tende a nao trair "
      ]
    },
    {
      "cell_type": "code",
      "metadata": {
        "id": "2DshZ2QaT-8a",
        "colab": {
          "base_uri": "https://localhost:8080/",
          "height": 757
        },
        "outputId": "5fcbcf4b-e3b2-46ff-bfe3-219e4dd46890"
      },
      "source": [
        "tree2 = DecisionTreeClassifier(max_leaf_nodes=6)\n",
        "tree2.fit(X,y)\n",
        "dot = export_graphviz(tree2, feature_names=[\t'rate_marriage','age',\t'yrs_married',\t'children',\t'religious',\t'educ'], class_names=['Trai','Nao Trai'], filled=True)\n",
        "Source(dot) "
      ],
      "execution_count": 133,
      "outputs": [
        {
          "output_type": "execute_result",
          "data": {
            "text/plain": [
              "<graphviz.files.Source at 0x7f3778c35f10>"
            ],
            "image/svg+xml": "<?xml version=\"1.0\" encoding=\"UTF-8\" standalone=\"no\"?>\n<!DOCTYPE svg PUBLIC \"-//W3C//DTD SVG 1.1//EN\"\n \"http://www.w3.org/Graphics/SVG/1.1/DTD/svg11.dtd\">\n<!-- Generated by graphviz version 2.40.1 (20161225.0304)\n -->\n<!-- Title: Tree Pages: 1 -->\n<svg width=\"770pt\" height=\"552pt\"\n viewBox=\"0.00 0.00 770.00 552.00\" xmlns=\"http://www.w3.org/2000/svg\" xmlns:xlink=\"http://www.w3.org/1999/xlink\">\n<g id=\"graph0\" class=\"graph\" transform=\"scale(1 1) rotate(0) translate(4 548)\">\n<title>Tree</title>\n<polygon fill=\"#ffffff\" stroke=\"transparent\" points=\"-4,4 -4,-548 766,-548 766,4 -4,4\"/>\n<!-- 0 -->\n<g id=\"node1\" class=\"node\">\n<title>0</title>\n<polygon fill=\"#97ccf1\" stroke=\"#000000\" points=\"371.5,-544 220.5,-544 220.5,-461 371.5,-461 371.5,-544\"/>\n<text text-anchor=\"middle\" x=\"296\" y=\"-528.8\" font-family=\"Helvetica,sans-Serif\" font-size=\"14.00\" fill=\"#000000\">rate_marriage &lt;= 3.5</text>\n<text text-anchor=\"middle\" x=\"296\" y=\"-513.8\" font-family=\"Helvetica,sans-Serif\" font-size=\"14.00\" fill=\"#000000\">gini = 0.437</text>\n<text text-anchor=\"middle\" x=\"296\" y=\"-498.8\" font-family=\"Helvetica,sans-Serif\" font-size=\"14.00\" fill=\"#000000\">samples = 6366</text>\n<text text-anchor=\"middle\" x=\"296\" y=\"-483.8\" font-family=\"Helvetica,sans-Serif\" font-size=\"14.00\" fill=\"#000000\">value = [2053, 4313]</text>\n<text text-anchor=\"middle\" x=\"296\" y=\"-468.8\" font-family=\"Helvetica,sans-Serif\" font-size=\"14.00\" fill=\"#000000\">class = Nao Trai</text>\n</g>\n<!-- 1 -->\n<g id=\"node2\" class=\"node\">\n<title>1</title>\n<polygon fill=\"#f7dac6\" stroke=\"#000000\" points=\"286,-425 140,-425 140,-342 286,-342 286,-425\"/>\n<text text-anchor=\"middle\" x=\"213\" y=\"-409.8\" font-family=\"Helvetica,sans-Serif\" font-size=\"14.00\" fill=\"#000000\">yrs_married &lt;= 4.25</text>\n<text text-anchor=\"middle\" x=\"213\" y=\"-394.8\" font-family=\"Helvetica,sans-Serif\" font-size=\"14.00\" fill=\"#000000\">gini = 0.486</text>\n<text text-anchor=\"middle\" x=\"213\" y=\"-379.8\" font-family=\"Helvetica,sans-Serif\" font-size=\"14.00\" fill=\"#000000\">samples = 1440</text>\n<text text-anchor=\"middle\" x=\"213\" y=\"-364.8\" font-family=\"Helvetica,sans-Serif\" font-size=\"14.00\" fill=\"#000000\">value = [842, 598]</text>\n<text text-anchor=\"middle\" x=\"213\" y=\"-349.8\" font-family=\"Helvetica,sans-Serif\" font-size=\"14.00\" fill=\"#000000\">class = Trai</text>\n</g>\n<!-- 0&#45;&gt;1 -->\n<g id=\"edge1\" class=\"edge\">\n<title>0&#45;&gt;1</title>\n<path fill=\"none\" stroke=\"#000000\" d=\"M266.9706,-460.8796C260.8145,-452.0534 254.2549,-442.6485 247.9064,-433.5466\"/>\n<polygon fill=\"#000000\" stroke=\"#000000\" points=\"250.7448,-431.4978 242.1533,-425.2981 245.0033,-435.5024 250.7448,-431.4978\"/>\n<text text-anchor=\"middle\" x=\"237.7669\" y=\"-446.2103\" font-family=\"Helvetica,sans-Serif\" font-size=\"14.00\" fill=\"#000000\">True</text>\n</g>\n<!-- 2 -->\n<g id=\"node5\" class=\"node\">\n<title>2</title>\n<polygon fill=\"#7abded\" stroke=\"#000000\" points=\"453.5,-425 304.5,-425 304.5,-342 453.5,-342 453.5,-425\"/>\n<text text-anchor=\"middle\" x=\"379\" y=\"-409.8\" font-family=\"Helvetica,sans-Serif\" font-size=\"14.00\" fill=\"#000000\">yrs_married &lt;= 4.25</text>\n<text text-anchor=\"middle\" x=\"379\" y=\"-394.8\" font-family=\"Helvetica,sans-Serif\" font-size=\"14.00\" fill=\"#000000\">gini = 0.371</text>\n<text text-anchor=\"middle\" x=\"379\" y=\"-379.8\" font-family=\"Helvetica,sans-Serif\" font-size=\"14.00\" fill=\"#000000\">samples = 4926</text>\n<text text-anchor=\"middle\" x=\"379\" y=\"-364.8\" font-family=\"Helvetica,sans-Serif\" font-size=\"14.00\" fill=\"#000000\">value = [1211, 3715]</text>\n<text text-anchor=\"middle\" x=\"379\" y=\"-349.8\" font-family=\"Helvetica,sans-Serif\" font-size=\"14.00\" fill=\"#000000\">class = Nao Trai</text>\n</g>\n<!-- 0&#45;&gt;2 -->\n<g id=\"edge4\" class=\"edge\">\n<title>0&#45;&gt;2</title>\n<path fill=\"none\" stroke=\"#000000\" d=\"M325.0294,-460.8796C331.1855,-452.0534 337.7451,-442.6485 344.0936,-433.5466\"/>\n<polygon fill=\"#000000\" stroke=\"#000000\" points=\"346.9967,-435.5024 349.8467,-425.2981 341.2552,-431.4978 346.9967,-435.5024\"/>\n<text text-anchor=\"middle\" x=\"354.2331\" y=\"-446.2103\" font-family=\"Helvetica,sans-Serif\" font-size=\"14.00\" fill=\"#000000\">False</text>\n</g>\n<!-- 7 -->\n<g id=\"node3\" class=\"node\">\n<title>7</title>\n<polygon fill=\"#deeffb\" stroke=\"#000000\" points=\"132,-298.5 0,-298.5 0,-230.5 132,-230.5 132,-298.5\"/>\n<text text-anchor=\"middle\" x=\"66\" y=\"-283.3\" font-family=\"Helvetica,sans-Serif\" font-size=\"14.00\" fill=\"#000000\">gini = 0.496</text>\n<text text-anchor=\"middle\" x=\"66\" y=\"-268.3\" font-family=\"Helvetica,sans-Serif\" font-size=\"14.00\" fill=\"#000000\">samples = 387</text>\n<text text-anchor=\"middle\" x=\"66\" y=\"-253.3\" font-family=\"Helvetica,sans-Serif\" font-size=\"14.00\" fill=\"#000000\">value = [176, 211]</text>\n<text text-anchor=\"middle\" x=\"66\" y=\"-238.3\" font-family=\"Helvetica,sans-Serif\" font-size=\"14.00\" fill=\"#000000\">class = Nao Trai</text>\n</g>\n<!-- 1&#45;&gt;7 -->\n<g id=\"edge2\" class=\"edge\">\n<title>1&#45;&gt;7</title>\n<path fill=\"none\" stroke=\"#000000\" d=\"M161.5865,-341.8796C146.9165,-330.0038 130.9523,-317.0804 116.3467,-305.2568\"/>\n<polygon fill=\"#000000\" stroke=\"#000000\" points=\"118.3637,-302.3866 108.389,-298.8149 113.9593,-307.8273 118.3637,-302.3866\"/>\n</g>\n<!-- 8 -->\n<g id=\"node4\" class=\"node\">\n<title>8</title>\n<polygon fill=\"#f4caac\" stroke=\"#000000\" points=\"282,-298.5 150,-298.5 150,-230.5 282,-230.5 282,-298.5\"/>\n<text text-anchor=\"middle\" x=\"216\" y=\"-283.3\" font-family=\"Helvetica,sans-Serif\" font-size=\"14.00\" fill=\"#000000\">gini = 0.465</text>\n<text text-anchor=\"middle\" x=\"216\" y=\"-268.3\" font-family=\"Helvetica,sans-Serif\" font-size=\"14.00\" fill=\"#000000\">samples = 1053</text>\n<text text-anchor=\"middle\" x=\"216\" y=\"-253.3\" font-family=\"Helvetica,sans-Serif\" font-size=\"14.00\" fill=\"#000000\">value = [666, 387]</text>\n<text text-anchor=\"middle\" x=\"216\" y=\"-238.3\" font-family=\"Helvetica,sans-Serif\" font-size=\"14.00\" fill=\"#000000\">class = Trai</text>\n</g>\n<!-- 1&#45;&gt;8 -->\n<g id=\"edge3\" class=\"edge\">\n<title>1&#45;&gt;8</title>\n<path fill=\"none\" stroke=\"#000000\" d=\"M214.0493,-341.8796C214.3182,-331.2134 214.6084,-319.7021 214.8806,-308.9015\"/>\n<polygon fill=\"#000000\" stroke=\"#000000\" points=\"218.3817,-308.9 215.1349,-298.8149 211.3839,-308.7235 218.3817,-308.9\"/>\n</g>\n<!-- 3 -->\n<g id=\"node6\" class=\"node\">\n<title>3</title>\n<polygon fill=\"#59ade9\" stroke=\"#000000\" points=\"446,-298.5 306,-298.5 306,-230.5 446,-230.5 446,-298.5\"/>\n<text text-anchor=\"middle\" x=\"376\" y=\"-283.3\" font-family=\"Helvetica,sans-Serif\" font-size=\"14.00\" fill=\"#000000\">gini = 0.238</text>\n<text text-anchor=\"middle\" x=\"376\" y=\"-268.3\" font-family=\"Helvetica,sans-Serif\" font-size=\"14.00\" fill=\"#000000\">samples = 2017</text>\n<text text-anchor=\"middle\" x=\"376\" y=\"-253.3\" font-family=\"Helvetica,sans-Serif\" font-size=\"14.00\" fill=\"#000000\">value = [279, 1738]</text>\n<text text-anchor=\"middle\" x=\"376\" y=\"-238.3\" font-family=\"Helvetica,sans-Serif\" font-size=\"14.00\" fill=\"#000000\">class = Nao Trai</text>\n</g>\n<!-- 2&#45;&gt;3 -->\n<g id=\"edge5\" class=\"edge\">\n<title>2&#45;&gt;3</title>\n<path fill=\"none\" stroke=\"#000000\" d=\"M377.9507,-341.8796C377.6818,-331.2134 377.3916,-319.7021 377.1194,-308.9015\"/>\n<polygon fill=\"#000000\" stroke=\"#000000\" points=\"380.6161,-308.7235 376.8651,-298.8149 373.6183,-308.9 380.6161,-308.7235\"/>\n</g>\n<!-- 4 -->\n<g id=\"node7\" class=\"node\">\n<title>4</title>\n<polygon fill=\"#96cbf1\" stroke=\"#000000\" points=\"615.5,-306 464.5,-306 464.5,-223 615.5,-223 615.5,-306\"/>\n<text text-anchor=\"middle\" x=\"540\" y=\"-290.8\" font-family=\"Helvetica,sans-Serif\" font-size=\"14.00\" fill=\"#000000\">rate_marriage &lt;= 4.5</text>\n<text text-anchor=\"middle\" x=\"540\" y=\"-275.8\" font-family=\"Helvetica,sans-Serif\" font-size=\"14.00\" fill=\"#000000\">gini = 0.435</text>\n<text text-anchor=\"middle\" x=\"540\" y=\"-260.8\" font-family=\"Helvetica,sans-Serif\" font-size=\"14.00\" fill=\"#000000\">samples = 2909</text>\n<text text-anchor=\"middle\" x=\"540\" y=\"-245.8\" font-family=\"Helvetica,sans-Serif\" font-size=\"14.00\" fill=\"#000000\">value = [932, 1977]</text>\n<text text-anchor=\"middle\" x=\"540\" y=\"-230.8\" font-family=\"Helvetica,sans-Serif\" font-size=\"14.00\" fill=\"#000000\">class = Nao Trai</text>\n</g>\n<!-- 2&#45;&gt;4 -->\n<g id=\"edge6\" class=\"edge\">\n<title>2&#45;&gt;4</title>\n<path fill=\"none\" stroke=\"#000000\" d=\"M435.31,-341.8796C448.3012,-332.2774 462.219,-321.9903 475.5277,-312.1534\"/>\n<polygon fill=\"#000000\" stroke=\"#000000\" points=\"477.7604,-314.8555 483.7218,-306.0969 473.5996,-309.2263 477.7604,-314.8555\"/>\n</g>\n<!-- 5 -->\n<g id=\"node8\" class=\"node\">\n<title>5</title>\n<polygon fill=\"#bbdef6\" stroke=\"#000000\" points=\"529,-179.5 397,-179.5 397,-111.5 529,-111.5 529,-179.5\"/>\n<text text-anchor=\"middle\" x=\"463\" y=\"-164.3\" font-family=\"Helvetica,sans-Serif\" font-size=\"14.00\" fill=\"#000000\">gini = 0.479</text>\n<text text-anchor=\"middle\" x=\"463\" y=\"-149.3\" font-family=\"Helvetica,sans-Serif\" font-size=\"14.00\" fill=\"#000000\">samples = 1418</text>\n<text text-anchor=\"middle\" x=\"463\" y=\"-134.3\" font-family=\"Helvetica,sans-Serif\" font-size=\"14.00\" fill=\"#000000\">value = [563, 855]</text>\n<text text-anchor=\"middle\" x=\"463\" y=\"-119.3\" font-family=\"Helvetica,sans-Serif\" font-size=\"14.00\" fill=\"#000000\">class = Nao Trai</text>\n</g>\n<!-- 4&#45;&gt;5 -->\n<g id=\"edge7\" class=\"edge\">\n<title>4&#45;&gt;5</title>\n<path fill=\"none\" stroke=\"#000000\" d=\"M513.0691,-222.8796C505.8117,-211.6636 497.9497,-199.5131 490.6535,-188.2372\"/>\n<polygon fill=\"#000000\" stroke=\"#000000\" points=\"493.5748,-186.3093 485.2038,-179.8149 487.6978,-190.112 493.5748,-186.3093\"/>\n</g>\n<!-- 6 -->\n<g id=\"node9\" class=\"node\">\n<title>6</title>\n<polygon fill=\"#7abdee\" stroke=\"#000000\" points=\"687,-187 547,-187 547,-104 687,-104 687,-187\"/>\n<text text-anchor=\"middle\" x=\"617\" y=\"-171.8\" font-family=\"Helvetica,sans-Serif\" font-size=\"14.00\" fill=\"#000000\">religious &lt;= 1.5</text>\n<text text-anchor=\"middle\" x=\"617\" y=\"-156.8\" font-family=\"Helvetica,sans-Serif\" font-size=\"14.00\" fill=\"#000000\">gini = 0.372</text>\n<text text-anchor=\"middle\" x=\"617\" y=\"-141.8\" font-family=\"Helvetica,sans-Serif\" font-size=\"14.00\" fill=\"#000000\">samples = 1491</text>\n<text text-anchor=\"middle\" x=\"617\" y=\"-126.8\" font-family=\"Helvetica,sans-Serif\" font-size=\"14.00\" fill=\"#000000\">value = [369, 1122]</text>\n<text text-anchor=\"middle\" x=\"617\" y=\"-111.8\" font-family=\"Helvetica,sans-Serif\" font-size=\"14.00\" fill=\"#000000\">class = Nao Trai</text>\n</g>\n<!-- 4&#45;&gt;6 -->\n<g id=\"edge8\" class=\"edge\">\n<title>4&#45;&gt;6</title>\n<path fill=\"none\" stroke=\"#000000\" d=\"M566.9309,-222.8796C572.5837,-214.1434 578.6033,-204.8404 584.4366,-195.8253\"/>\n<polygon fill=\"#000000\" stroke=\"#000000\" points=\"587.4601,-197.5952 589.9542,-187.2981 581.5831,-193.7924 587.4601,-197.5952\"/>\n</g>\n<!-- 9 -->\n<g id=\"node10\" class=\"node\">\n<title>9</title>\n<polygon fill=\"#c1e0f7\" stroke=\"#000000\" points=\"604,-68 480,-68 480,0 604,0 604,-68\"/>\n<text text-anchor=\"middle\" x=\"542\" y=\"-52.8\" font-family=\"Helvetica,sans-Serif\" font-size=\"14.00\" fill=\"#000000\">gini = 0.483</text>\n<text text-anchor=\"middle\" x=\"542\" y=\"-37.8\" font-family=\"Helvetica,sans-Serif\" font-size=\"14.00\" fill=\"#000000\">samples = 204</text>\n<text text-anchor=\"middle\" x=\"542\" y=\"-22.8\" font-family=\"Helvetica,sans-Serif\" font-size=\"14.00\" fill=\"#000000\">value = [83, 121]</text>\n<text text-anchor=\"middle\" x=\"542\" y=\"-7.8\" font-family=\"Helvetica,sans-Serif\" font-size=\"14.00\" fill=\"#000000\">class = Nao Trai</text>\n</g>\n<!-- 6&#45;&gt;9 -->\n<g id=\"edge9\" class=\"edge\">\n<title>6&#45;&gt;9</title>\n<path fill=\"none\" stroke=\"#000000\" d=\"M589.0728,-103.9815C583.0762,-95.0666 576.7296,-85.6313 570.7041,-76.6734\"/>\n<polygon fill=\"#000000\" stroke=\"#000000\" points=\"573.5328,-74.6078 565.0473,-68.2637 567.7245,-78.5147 573.5328,-74.6078\"/>\n</g>\n<!-- 10 -->\n<g id=\"node11\" class=\"node\">\n<title>10</title>\n<polygon fill=\"#72b9ec\" stroke=\"#000000\" points=\"762,-68 622,-68 622,0 762,0 762,-68\"/>\n<text text-anchor=\"middle\" x=\"692\" y=\"-52.8\" font-family=\"Helvetica,sans-Serif\" font-size=\"14.00\" fill=\"#000000\">gini = 0.346</text>\n<text text-anchor=\"middle\" x=\"692\" y=\"-37.8\" font-family=\"Helvetica,sans-Serif\" font-size=\"14.00\" fill=\"#000000\">samples = 1287</text>\n<text text-anchor=\"middle\" x=\"692\" y=\"-22.8\" font-family=\"Helvetica,sans-Serif\" font-size=\"14.00\" fill=\"#000000\">value = [286, 1001]</text>\n<text text-anchor=\"middle\" x=\"692\" y=\"-7.8\" font-family=\"Helvetica,sans-Serif\" font-size=\"14.00\" fill=\"#000000\">class = Nao Trai</text>\n</g>\n<!-- 6&#45;&gt;10 -->\n<g id=\"edge10\" class=\"edge\">\n<title>6&#45;&gt;10</title>\n<path fill=\"none\" stroke=\"#000000\" d=\"M644.9272,-103.9815C650.9238,-95.0666 657.2704,-85.6313 663.2959,-76.6734\"/>\n<polygon fill=\"#000000\" stroke=\"#000000\" points=\"666.2755,-78.5147 668.9527,-68.2637 660.4672,-74.6078 666.2755,-78.5147\"/>\n</g>\n</g>\n</svg>\n"
          },
          "metadata": {},
          "execution_count": 133
        }
      ]
    },
    {
      "cell_type": "markdown",
      "metadata": {
        "id": "PgDMzIUlUbSv"
      },
      "source": [
        "**Análise**\n",
        "\n",
        "Na primeira analise nos limitamos a profundidade 2, que gerou 4 folhas. Nesta analise, aumentamos para 6 folhas, o que nao trouxe nenhuma conclusao nova. Apesar do ramo a direita (nota para o casamento superior a 3.5) incluir agora a feature de religiao, esta aparece nao afetar a classificacao a respeita da propensao a traicao"
      ]
    },
    {
      "cell_type": "code",
      "metadata": {
        "id": "ZKbxBnKuU9X5",
        "colab": {
          "base_uri": "https://localhost:8080/",
          "height": 618
        },
        "outputId": "51519f36-ea91-4be7-c8ba-60759866a12d"
      },
      "source": [
        "tree3 = DecisionTreeClassifier(max_depth=3)\n",
        "tree3.fit(X,y)\n",
        "dot = export_graphviz(tree3, feature_names=[\t'rate_marriage','age',\t'yrs_married',\t'children',\t'religious',\t'educ'], class_names=['Trai','Nao Trai'], filled=True)\n",
        "Source(dot) "
      ],
      "execution_count": 134,
      "outputs": [
        {
          "output_type": "execute_result",
          "data": {
            "text/plain": [
              "<graphviz.files.Source at 0x7f377773bf90>"
            ],
            "image/svg+xml": "<?xml version=\"1.0\" encoding=\"UTF-8\" standalone=\"no\"?>\n<!DOCTYPE svg PUBLIC \"-//W3C//DTD SVG 1.1//EN\"\n \"http://www.w3.org/Graphics/SVG/1.1/DTD/svg11.dtd\">\n<!-- Generated by graphviz version 2.40.1 (20161225.0304)\n -->\n<!-- Title: Tree Pages: 1 -->\n<svg width=\"1196pt\" height=\"433pt\"\n viewBox=\"0.00 0.00 1195.50 433.00\" xmlns=\"http://www.w3.org/2000/svg\" xmlns:xlink=\"http://www.w3.org/1999/xlink\">\n<g id=\"graph0\" class=\"graph\" transform=\"scale(1 1) rotate(0) translate(4 429)\">\n<title>Tree</title>\n<polygon fill=\"#ffffff\" stroke=\"transparent\" points=\"-4,4 -4,-429 1191.5,-429 1191.5,4 -4,4\"/>\n<!-- 0 -->\n<g id=\"node1\" class=\"node\">\n<title>0</title>\n<polygon fill=\"#97ccf1\" stroke=\"#000000\" points=\"626,-425 475,-425 475,-342 626,-342 626,-425\"/>\n<text text-anchor=\"middle\" x=\"550.5\" y=\"-409.8\" font-family=\"Helvetica,sans-Serif\" font-size=\"14.00\" fill=\"#000000\">rate_marriage &lt;= 3.5</text>\n<text text-anchor=\"middle\" x=\"550.5\" y=\"-394.8\" font-family=\"Helvetica,sans-Serif\" font-size=\"14.00\" fill=\"#000000\">gini = 0.437</text>\n<text text-anchor=\"middle\" x=\"550.5\" y=\"-379.8\" font-family=\"Helvetica,sans-Serif\" font-size=\"14.00\" fill=\"#000000\">samples = 6366</text>\n<text text-anchor=\"middle\" x=\"550.5\" y=\"-364.8\" font-family=\"Helvetica,sans-Serif\" font-size=\"14.00\" fill=\"#000000\">value = [2053, 4313]</text>\n<text text-anchor=\"middle\" x=\"550.5\" y=\"-349.8\" font-family=\"Helvetica,sans-Serif\" font-size=\"14.00\" fill=\"#000000\">class = Nao Trai</text>\n</g>\n<!-- 1 -->\n<g id=\"node2\" class=\"node\">\n<title>1</title>\n<polygon fill=\"#f7dac6\" stroke=\"#000000\" points=\"539.5,-306 393.5,-306 393.5,-223 539.5,-223 539.5,-306\"/>\n<text text-anchor=\"middle\" x=\"466.5\" y=\"-290.8\" font-family=\"Helvetica,sans-Serif\" font-size=\"14.00\" fill=\"#000000\">yrs_married &lt;= 4.25</text>\n<text text-anchor=\"middle\" x=\"466.5\" y=\"-275.8\" font-family=\"Helvetica,sans-Serif\" font-size=\"14.00\" fill=\"#000000\">gini = 0.486</text>\n<text text-anchor=\"middle\" x=\"466.5\" y=\"-260.8\" font-family=\"Helvetica,sans-Serif\" font-size=\"14.00\" fill=\"#000000\">samples = 1440</text>\n<text text-anchor=\"middle\" x=\"466.5\" y=\"-245.8\" font-family=\"Helvetica,sans-Serif\" font-size=\"14.00\" fill=\"#000000\">value = [842, 598]</text>\n<text text-anchor=\"middle\" x=\"466.5\" y=\"-230.8\" font-family=\"Helvetica,sans-Serif\" font-size=\"14.00\" fill=\"#000000\">class = Trai</text>\n</g>\n<!-- 0&#45;&gt;1 -->\n<g id=\"edge1\" class=\"edge\">\n<title>0&#45;&gt;1</title>\n<path fill=\"none\" stroke=\"#000000\" d=\"M521.1209,-341.8796C514.8906,-333.0534 508.2519,-323.6485 501.827,-314.5466\"/>\n<polygon fill=\"#000000\" stroke=\"#000000\" points=\"504.6308,-312.4494 496.0045,-306.2981 498.912,-316.4862 504.6308,-312.4494\"/>\n<text text-anchor=\"middle\" x=\"491.7568\" y=\"-327.2346\" font-family=\"Helvetica,sans-Serif\" font-size=\"14.00\" fill=\"#000000\">True</text>\n</g>\n<!-- 8 -->\n<g id=\"node9\" class=\"node\">\n<title>8</title>\n<polygon fill=\"#7abded\" stroke=\"#000000\" points=\"769,-306 620,-306 620,-223 769,-223 769,-306\"/>\n<text text-anchor=\"middle\" x=\"694.5\" y=\"-290.8\" font-family=\"Helvetica,sans-Serif\" font-size=\"14.00\" fill=\"#000000\">yrs_married &lt;= 4.25</text>\n<text text-anchor=\"middle\" x=\"694.5\" y=\"-275.8\" font-family=\"Helvetica,sans-Serif\" font-size=\"14.00\" fill=\"#000000\">gini = 0.371</text>\n<text text-anchor=\"middle\" x=\"694.5\" y=\"-260.8\" font-family=\"Helvetica,sans-Serif\" font-size=\"14.00\" fill=\"#000000\">samples = 4926</text>\n<text text-anchor=\"middle\" x=\"694.5\" y=\"-245.8\" font-family=\"Helvetica,sans-Serif\" font-size=\"14.00\" fill=\"#000000\">value = [1211, 3715]</text>\n<text text-anchor=\"middle\" x=\"694.5\" y=\"-230.8\" font-family=\"Helvetica,sans-Serif\" font-size=\"14.00\" fill=\"#000000\">class = Nao Trai</text>\n</g>\n<!-- 0&#45;&gt;8 -->\n<g id=\"edge8\" class=\"edge\">\n<title>0&#45;&gt;8</title>\n<path fill=\"none\" stroke=\"#000000\" d=\"M600.8642,-341.8796C612.1985,-332.513 624.3215,-322.4948 635.9581,-312.8784\"/>\n<polygon fill=\"#000000\" stroke=\"#000000\" points=\"638.4419,-315.3663 643.9208,-306.2981 633.9827,-309.9703 638.4419,-315.3663\"/>\n<text text-anchor=\"middle\" x=\"641.5551\" y=\"-327.4859\" font-family=\"Helvetica,sans-Serif\" font-size=\"14.00\" fill=\"#000000\">False</text>\n</g>\n<!-- 2 -->\n<g id=\"node3\" class=\"node\">\n<title>2</title>\n<polygon fill=\"#deeffb\" stroke=\"#000000\" points=\"274,-187 137,-187 137,-104 274,-104 274,-187\"/>\n<text text-anchor=\"middle\" x=\"205.5\" y=\"-171.8\" font-family=\"Helvetica,sans-Serif\" font-size=\"14.00\" fill=\"#000000\">yrs_married &lt;= 1.5</text>\n<text text-anchor=\"middle\" x=\"205.5\" y=\"-156.8\" font-family=\"Helvetica,sans-Serif\" font-size=\"14.00\" fill=\"#000000\">gini = 0.496</text>\n<text text-anchor=\"middle\" x=\"205.5\" y=\"-141.8\" font-family=\"Helvetica,sans-Serif\" font-size=\"14.00\" fill=\"#000000\">samples = 387</text>\n<text text-anchor=\"middle\" x=\"205.5\" y=\"-126.8\" font-family=\"Helvetica,sans-Serif\" font-size=\"14.00\" fill=\"#000000\">value = [176, 211]</text>\n<text text-anchor=\"middle\" x=\"205.5\" y=\"-111.8\" font-family=\"Helvetica,sans-Serif\" font-size=\"14.00\" fill=\"#000000\">class = Nao Trai</text>\n</g>\n<!-- 1&#45;&gt;2 -->\n<g id=\"edge2\" class=\"edge\">\n<title>1&#45;&gt;2</title>\n<path fill=\"none\" stroke=\"#000000\" d=\"M393.4499,-231.1936C359.1178,-215.5403 318.1579,-196.8651 283.2518,-180.95\"/>\n<polygon fill=\"#000000\" stroke=\"#000000\" points=\"284.5989,-177.7177 274.048,-176.7537 281.6949,-184.0869 284.5989,-177.7177\"/>\n</g>\n<!-- 5 -->\n<g id=\"node6\" class=\"node\">\n<title>5</title>\n<polygon fill=\"#f4caac\" stroke=\"#000000\" points=\"542,-187 391,-187 391,-104 542,-104 542,-187\"/>\n<text text-anchor=\"middle\" x=\"466.5\" y=\"-171.8\" font-family=\"Helvetica,sans-Serif\" font-size=\"14.00\" fill=\"#000000\">rate_marriage &lt;= 2.5</text>\n<text text-anchor=\"middle\" x=\"466.5\" y=\"-156.8\" font-family=\"Helvetica,sans-Serif\" font-size=\"14.00\" fill=\"#000000\">gini = 0.465</text>\n<text text-anchor=\"middle\" x=\"466.5\" y=\"-141.8\" font-family=\"Helvetica,sans-Serif\" font-size=\"14.00\" fill=\"#000000\">samples = 1053</text>\n<text text-anchor=\"middle\" x=\"466.5\" y=\"-126.8\" font-family=\"Helvetica,sans-Serif\" font-size=\"14.00\" fill=\"#000000\">value = [666, 387]</text>\n<text text-anchor=\"middle\" x=\"466.5\" y=\"-111.8\" font-family=\"Helvetica,sans-Serif\" font-size=\"14.00\" fill=\"#000000\">class = Trai</text>\n</g>\n<!-- 1&#45;&gt;5 -->\n<g id=\"edge5\" class=\"edge\">\n<title>1&#45;&gt;5</title>\n<path fill=\"none\" stroke=\"#000000\" d=\"M466.5,-222.8796C466.5,-214.6838 466.5,-205.9891 466.5,-197.5013\"/>\n<polygon fill=\"#000000\" stroke=\"#000000\" points=\"470.0001,-197.298 466.5,-187.2981 463.0001,-197.2981 470.0001,-197.298\"/>\n</g>\n<!-- 3 -->\n<g id=\"node4\" class=\"node\">\n<title>3</title>\n<polygon fill=\"#5caeea\" stroke=\"#000000\" points=\"121,-68 0,-68 0,0 121,0 121,-68\"/>\n<text text-anchor=\"middle\" x=\"60.5\" y=\"-52.8\" font-family=\"Helvetica,sans-Serif\" font-size=\"14.00\" fill=\"#000000\">gini = 0.257</text>\n<text text-anchor=\"middle\" x=\"60.5\" y=\"-37.8\" font-family=\"Helvetica,sans-Serif\" font-size=\"14.00\" fill=\"#000000\">samples = 33</text>\n<text text-anchor=\"middle\" x=\"60.5\" y=\"-22.8\" font-family=\"Helvetica,sans-Serif\" font-size=\"14.00\" fill=\"#000000\">value = [5, 28]</text>\n<text text-anchor=\"middle\" x=\"60.5\" y=\"-7.8\" font-family=\"Helvetica,sans-Serif\" font-size=\"14.00\" fill=\"#000000\">class = Nao Trai</text>\n</g>\n<!-- 2&#45;&gt;3 -->\n<g id=\"edge3\" class=\"edge\">\n<title>2&#45;&gt;3</title>\n<path fill=\"none\" stroke=\"#000000\" d=\"M151.5074,-103.9815C138.9578,-94.3313 125.6153,-84.0714 113.1256,-74.4673\"/>\n<polygon fill=\"#000000\" stroke=\"#000000\" points=\"115.119,-71.585 105.0581,-68.2637 110.8519,-77.134 115.119,-71.585\"/>\n</g>\n<!-- 4 -->\n<g id=\"node5\" class=\"node\">\n<title>4</title>\n<polygon fill=\"#f2f9fd\" stroke=\"#000000\" points=\"271.5,-68 139.5,-68 139.5,0 271.5,0 271.5,-68\"/>\n<text text-anchor=\"middle\" x=\"205.5\" y=\"-52.8\" font-family=\"Helvetica,sans-Serif\" font-size=\"14.00\" fill=\"#000000\">gini = 0.499</text>\n<text text-anchor=\"middle\" x=\"205.5\" y=\"-37.8\" font-family=\"Helvetica,sans-Serif\" font-size=\"14.00\" fill=\"#000000\">samples = 354</text>\n<text text-anchor=\"middle\" x=\"205.5\" y=\"-22.8\" font-family=\"Helvetica,sans-Serif\" font-size=\"14.00\" fill=\"#000000\">value = [171, 183]</text>\n<text text-anchor=\"middle\" x=\"205.5\" y=\"-7.8\" font-family=\"Helvetica,sans-Serif\" font-size=\"14.00\" fill=\"#000000\">class = Nao Trai</text>\n</g>\n<!-- 2&#45;&gt;4 -->\n<g id=\"edge4\" class=\"edge\">\n<title>2&#45;&gt;4</title>\n<path fill=\"none\" stroke=\"#000000\" d=\"M205.5,-103.9815C205.5,-95.618 205.5,-86.7965 205.5,-78.3409\"/>\n<polygon fill=\"#000000\" stroke=\"#000000\" points=\"209.0001,-78.2636 205.5,-68.2637 202.0001,-78.2637 209.0001,-78.2636\"/>\n</g>\n<!-- 6 -->\n<g id=\"node7\" class=\"node\">\n<title>6</title>\n<polygon fill=\"#f0b68d\" stroke=\"#000000\" points=\"421.5,-68 289.5,-68 289.5,0 421.5,0 421.5,-68\"/>\n<text text-anchor=\"middle\" x=\"355.5\" y=\"-52.8\" font-family=\"Helvetica,sans-Serif\" font-size=\"14.00\" fill=\"#000000\">gini = 0.418</text>\n<text text-anchor=\"middle\" x=\"355.5\" y=\"-37.8\" font-family=\"Helvetica,sans-Serif\" font-size=\"14.00\" fill=\"#000000\">samples = 340</text>\n<text text-anchor=\"middle\" x=\"355.5\" y=\"-22.8\" font-family=\"Helvetica,sans-Serif\" font-size=\"14.00\" fill=\"#000000\">value = [239, 101]</text>\n<text text-anchor=\"middle\" x=\"355.5\" y=\"-7.8\" font-family=\"Helvetica,sans-Serif\" font-size=\"14.00\" fill=\"#000000\">class = Trai</text>\n</g>\n<!-- 5&#45;&gt;6 -->\n<g id=\"edge6\" class=\"edge\">\n<title>5&#45;&gt;6</title>\n<path fill=\"none\" stroke=\"#000000\" d=\"M425.1677,-103.9815C415.9267,-94.6989 406.1242,-84.8522 396.8813,-75.5677\"/>\n<polygon fill=\"#000000\" stroke=\"#000000\" points=\"399.1457,-72.8813 389.61,-68.2637 394.1848,-77.82 399.1457,-72.8813\"/>\n</g>\n<!-- 7 -->\n<g id=\"node8\" class=\"node\">\n<title>7</title>\n<polygon fill=\"#f6d5be\" stroke=\"#000000\" points=\"571.5,-68 439.5,-68 439.5,0 571.5,0 571.5,-68\"/>\n<text text-anchor=\"middle\" x=\"505.5\" y=\"-52.8\" font-family=\"Helvetica,sans-Serif\" font-size=\"14.00\" fill=\"#000000\">gini = 0.48</text>\n<text text-anchor=\"middle\" x=\"505.5\" y=\"-37.8\" font-family=\"Helvetica,sans-Serif\" font-size=\"14.00\" fill=\"#000000\">samples = 713</text>\n<text text-anchor=\"middle\" x=\"505.5\" y=\"-22.8\" font-family=\"Helvetica,sans-Serif\" font-size=\"14.00\" fill=\"#000000\">value = [427, 286]</text>\n<text text-anchor=\"middle\" x=\"505.5\" y=\"-7.8\" font-family=\"Helvetica,sans-Serif\" font-size=\"14.00\" fill=\"#000000\">class = Trai</text>\n</g>\n<!-- 5&#45;&gt;7 -->\n<g id=\"edge7\" class=\"edge\">\n<title>5&#45;&gt;7</title>\n<path fill=\"none\" stroke=\"#000000\" d=\"M481.0222,-103.9815C484.0118,-95.4342 487.1688,-86.4086 490.1854,-77.7839\"/>\n<polygon fill=\"#000000\" stroke=\"#000000\" points=\"493.5174,-78.8585 493.5154,-68.2637 486.91,-76.5473 493.5174,-78.8585\"/>\n</g>\n<!-- 9 -->\n<g id=\"node10\" class=\"node\">\n<title>9</title>\n<polygon fill=\"#59ade9\" stroke=\"#000000\" points=\"770,-187 619,-187 619,-104 770,-104 770,-187\"/>\n<text text-anchor=\"middle\" x=\"694.5\" y=\"-171.8\" font-family=\"Helvetica,sans-Serif\" font-size=\"14.00\" fill=\"#000000\">rate_marriage &lt;= 4.5</text>\n<text text-anchor=\"middle\" x=\"694.5\" y=\"-156.8\" font-family=\"Helvetica,sans-Serif\" font-size=\"14.00\" fill=\"#000000\">gini = 0.238</text>\n<text text-anchor=\"middle\" x=\"694.5\" y=\"-141.8\" font-family=\"Helvetica,sans-Serif\" font-size=\"14.00\" fill=\"#000000\">samples = 2017</text>\n<text text-anchor=\"middle\" x=\"694.5\" y=\"-126.8\" font-family=\"Helvetica,sans-Serif\" font-size=\"14.00\" fill=\"#000000\">value = [279, 1738]</text>\n<text text-anchor=\"middle\" x=\"694.5\" y=\"-111.8\" font-family=\"Helvetica,sans-Serif\" font-size=\"14.00\" fill=\"#000000\">class = Nao Trai</text>\n</g>\n<!-- 8&#45;&gt;9 -->\n<g id=\"edge9\" class=\"edge\">\n<title>8&#45;&gt;9</title>\n<path fill=\"none\" stroke=\"#000000\" d=\"M694.5,-222.8796C694.5,-214.6838 694.5,-205.9891 694.5,-197.5013\"/>\n<polygon fill=\"#000000\" stroke=\"#000000\" points=\"698.0001,-197.298 694.5,-187.2981 691.0001,-197.2981 698.0001,-197.298\"/>\n</g>\n<!-- 12 -->\n<g id=\"node13\" class=\"node\">\n<title>12</title>\n<polygon fill=\"#96cbf1\" stroke=\"#000000\" points=\"1039,-187 888,-187 888,-104 1039,-104 1039,-187\"/>\n<text text-anchor=\"middle\" x=\"963.5\" y=\"-171.8\" font-family=\"Helvetica,sans-Serif\" font-size=\"14.00\" fill=\"#000000\">rate_marriage &lt;= 4.5</text>\n<text text-anchor=\"middle\" x=\"963.5\" y=\"-156.8\" font-family=\"Helvetica,sans-Serif\" font-size=\"14.00\" fill=\"#000000\">gini = 0.435</text>\n<text text-anchor=\"middle\" x=\"963.5\" y=\"-141.8\" font-family=\"Helvetica,sans-Serif\" font-size=\"14.00\" fill=\"#000000\">samples = 2909</text>\n<text text-anchor=\"middle\" x=\"963.5\" y=\"-126.8\" font-family=\"Helvetica,sans-Serif\" font-size=\"14.00\" fill=\"#000000\">value = [932, 1977]</text>\n<text text-anchor=\"middle\" x=\"963.5\" y=\"-111.8\" font-family=\"Helvetica,sans-Serif\" font-size=\"14.00\" fill=\"#000000\">class = Nao Trai</text>\n</g>\n<!-- 8&#45;&gt;12 -->\n<g id=\"edge12\" class=\"edge\">\n<title>8&#45;&gt;12</title>\n<path fill=\"none\" stroke=\"#000000\" d=\"M769.0743,-231.5099C803.0445,-216.4822 843.4253,-198.6185 878.5604,-183.0755\"/>\n<polygon fill=\"#000000\" stroke=\"#000000\" points=\"880.1165,-186.2144 887.8456,-178.9679 877.2845,-179.8128 880.1165,-186.2144\"/>\n</g>\n<!-- 10 -->\n<g id=\"node11\" class=\"node\">\n<title>10</title>\n<polygon fill=\"#69b5eb\" stroke=\"#000000\" points=\"721.5,-68 589.5,-68 589.5,0 721.5,0 721.5,-68\"/>\n<text text-anchor=\"middle\" x=\"655.5\" y=\"-52.8\" font-family=\"Helvetica,sans-Serif\" font-size=\"14.00\" fill=\"#000000\">gini = 0.314</text>\n<text text-anchor=\"middle\" x=\"655.5\" y=\"-37.8\" font-family=\"Helvetica,sans-Serif\" font-size=\"14.00\" fill=\"#000000\">samples = 824</text>\n<text text-anchor=\"middle\" x=\"655.5\" y=\"-22.8\" font-family=\"Helvetica,sans-Serif\" font-size=\"14.00\" fill=\"#000000\">value = [161, 663]</text>\n<text text-anchor=\"middle\" x=\"655.5\" y=\"-7.8\" font-family=\"Helvetica,sans-Serif\" font-size=\"14.00\" fill=\"#000000\">class = Nao Trai</text>\n</g>\n<!-- 9&#45;&gt;10 -->\n<g id=\"edge10\" class=\"edge\">\n<title>9&#45;&gt;10</title>\n<path fill=\"none\" stroke=\"#000000\" d=\"M679.9778,-103.9815C676.9882,-95.4342 673.8312,-86.4086 670.8146,-77.7839\"/>\n<polygon fill=\"#000000\" stroke=\"#000000\" points=\"674.09,-76.5473 667.4846,-68.2637 667.4826,-78.8585 674.09,-76.5473\"/>\n</g>\n<!-- 11 -->\n<g id=\"node12\" class=\"node\">\n<title>11</title>\n<polygon fill=\"#4fa8e8\" stroke=\"#000000\" points=\"879.5,-68 739.5,-68 739.5,0 879.5,0 879.5,-68\"/>\n<text text-anchor=\"middle\" x=\"809.5\" y=\"-52.8\" font-family=\"Helvetica,sans-Serif\" font-size=\"14.00\" fill=\"#000000\">gini = 0.178</text>\n<text text-anchor=\"middle\" x=\"809.5\" y=\"-37.8\" font-family=\"Helvetica,sans-Serif\" font-size=\"14.00\" fill=\"#000000\">samples = 1193</text>\n<text text-anchor=\"middle\" x=\"809.5\" y=\"-22.8\" font-family=\"Helvetica,sans-Serif\" font-size=\"14.00\" fill=\"#000000\">value = [118, 1075]</text>\n<text text-anchor=\"middle\" x=\"809.5\" y=\"-7.8\" font-family=\"Helvetica,sans-Serif\" font-size=\"14.00\" fill=\"#000000\">class = Nao Trai</text>\n</g>\n<!-- 9&#45;&gt;11 -->\n<g id=\"edge11\" class=\"edge\">\n<title>9&#45;&gt;11</title>\n<path fill=\"none\" stroke=\"#000000\" d=\"M737.3218,-103.9815C746.9905,-94.607 757.2527,-84.6572 766.9118,-75.2921\"/>\n<polygon fill=\"#000000\" stroke=\"#000000\" points=\"769.4176,-77.7375 774.1608,-68.2637 764.5449,-72.7118 769.4176,-77.7375\"/>\n</g>\n<!-- 13 -->\n<g id=\"node14\" class=\"node\">\n<title>13</title>\n<polygon fill=\"#bbdef6\" stroke=\"#000000\" points=\"1029.5,-68 897.5,-68 897.5,0 1029.5,0 1029.5,-68\"/>\n<text text-anchor=\"middle\" x=\"963.5\" y=\"-52.8\" font-family=\"Helvetica,sans-Serif\" font-size=\"14.00\" fill=\"#000000\">gini = 0.479</text>\n<text text-anchor=\"middle\" x=\"963.5\" y=\"-37.8\" font-family=\"Helvetica,sans-Serif\" font-size=\"14.00\" fill=\"#000000\">samples = 1418</text>\n<text text-anchor=\"middle\" x=\"963.5\" y=\"-22.8\" font-family=\"Helvetica,sans-Serif\" font-size=\"14.00\" fill=\"#000000\">value = [563, 855]</text>\n<text text-anchor=\"middle\" x=\"963.5\" y=\"-7.8\" font-family=\"Helvetica,sans-Serif\" font-size=\"14.00\" fill=\"#000000\">class = Nao Trai</text>\n</g>\n<!-- 12&#45;&gt;13 -->\n<g id=\"edge13\" class=\"edge\">\n<title>12&#45;&gt;13</title>\n<path fill=\"none\" stroke=\"#000000\" d=\"M963.5,-103.9815C963.5,-95.618 963.5,-86.7965 963.5,-78.3409\"/>\n<polygon fill=\"#000000\" stroke=\"#000000\" points=\"967.0001,-78.2636 963.5,-68.2637 960.0001,-78.2637 967.0001,-78.2636\"/>\n</g>\n<!-- 14 -->\n<g id=\"node15\" class=\"node\">\n<title>14</title>\n<polygon fill=\"#7abdee\" stroke=\"#000000\" points=\"1187.5,-68 1047.5,-68 1047.5,0 1187.5,0 1187.5,-68\"/>\n<text text-anchor=\"middle\" x=\"1117.5\" y=\"-52.8\" font-family=\"Helvetica,sans-Serif\" font-size=\"14.00\" fill=\"#000000\">gini = 0.372</text>\n<text text-anchor=\"middle\" x=\"1117.5\" y=\"-37.8\" font-family=\"Helvetica,sans-Serif\" font-size=\"14.00\" fill=\"#000000\">samples = 1491</text>\n<text text-anchor=\"middle\" x=\"1117.5\" y=\"-22.8\" font-family=\"Helvetica,sans-Serif\" font-size=\"14.00\" fill=\"#000000\">value = [369, 1122]</text>\n<text text-anchor=\"middle\" x=\"1117.5\" y=\"-7.8\" font-family=\"Helvetica,sans-Serif\" font-size=\"14.00\" fill=\"#000000\">class = Nao Trai</text>\n</g>\n<!-- 12&#45;&gt;14 -->\n<g id=\"edge14\" class=\"edge\">\n<title>12&#45;&gt;14</title>\n<path fill=\"none\" stroke=\"#000000\" d=\"M1020.8439,-103.9815C1034.2994,-94.2394 1048.6131,-83.8759 1061.9867,-74.193\"/>\n<polygon fill=\"#000000\" stroke=\"#000000\" points=\"1064.1289,-76.9632 1070.1762,-68.2637 1060.0237,-71.2933 1064.1289,-76.9632\"/>\n</g>\n</g>\n</svg>\n"
          },
          "metadata": {},
          "execution_count": 134
        }
      ]
    },
    {
      "cell_type": "markdown",
      "metadata": {
        "id": "XiG02TgdVO9P"
      },
      "source": [
        "**Análise**\n",
        "\n",
        "Trabalhando agora com um profundidade de arvore igual a 3, temos apenas a informacao adicional que casais com mais de 4,25 anos de casado e a nota ao relacionamento eh inferior a 3,5, entao eh certeza de traicao"
      ]
    },
    {
      "cell_type": "code",
      "metadata": {
        "id": "Dd650t87WYN2",
        "colab": {
          "base_uri": "https://localhost:8080/",
          "height": 777
        },
        "outputId": "608b6a7c-51c6-4e27-833d-16cf373c5555"
      },
      "source": [
        "#, X_test, , Y_test = train_test_split(Xs, Y) \n",
        "Xtrain, Xtest, Ytrain, Ytest = train_test_split(Xs, Y) \n",
        "tree = DecisionTreeClassifier( max_depth=4)\n",
        "tree.fit(Xtrain,Ytrain)\n",
        "dot = export_graphviz(tree, feature_names=['rate_marriage','age','yrs_married','religious','educ','occ2','occ3','occ4','occ5','occ6','hocc2','hocc3','hocc4','hocc5','hocc6','tem_filhos'], class_names=['Trai','Nao Trai'], filled=True)\n",
        "Source(dot) "
      ],
      "execution_count": 135,
      "outputs": [
        {
          "output_type": "execute_result",
          "data": {
            "text/plain": [
              "<graphviz.files.Source at 0x7f37778a5150>"
            ],
            "image/svg+xml": "<?xml version=\"1.0\" encoding=\"UTF-8\" standalone=\"no\"?>\n<!DOCTYPE svg PUBLIC \"-//W3C//DTD SVG 1.1//EN\"\n \"http://www.w3.org/Graphics/SVG/1.1/DTD/svg11.dtd\">\n<!-- Generated by graphviz version 2.40.1 (20161225.0304)\n -->\n<!-- Title: Tree Pages: 1 -->\n<svg width=\"2239pt\" height=\"552pt\"\n viewBox=\"0.00 0.00 2238.50 552.00\" xmlns=\"http://www.w3.org/2000/svg\" xmlns:xlink=\"http://www.w3.org/1999/xlink\">\n<g id=\"graph0\" class=\"graph\" transform=\"scale(1 1) rotate(0) translate(4 548)\">\n<title>Tree</title>\n<polygon fill=\"#ffffff\" stroke=\"transparent\" points=\"-4,4 -4,-548 2234.5,-548 2234.5,4 -4,4\"/>\n<!-- 0 -->\n<g id=\"node1\" class=\"node\">\n<title>0</title>\n<polygon fill=\"#f1bd97\" stroke=\"#000000\" points=\"1174,-544 1023,-544 1023,-461 1174,-461 1174,-544\"/>\n<text text-anchor=\"middle\" x=\"1098.5\" y=\"-528.8\" font-family=\"Helvetica,sans-Serif\" font-size=\"14.00\" fill=\"#000000\">rate_marriage &lt;= 3.5</text>\n<text text-anchor=\"middle\" x=\"1098.5\" y=\"-513.8\" font-family=\"Helvetica,sans-Serif\" font-size=\"14.00\" fill=\"#000000\">gini = 0.437</text>\n<text text-anchor=\"middle\" x=\"1098.5\" y=\"-498.8\" font-family=\"Helvetica,sans-Serif\" font-size=\"14.00\" fill=\"#000000\">samples = 4774</text>\n<text text-anchor=\"middle\" x=\"1098.5\" y=\"-483.8\" font-family=\"Helvetica,sans-Serif\" font-size=\"14.00\" fill=\"#000000\">value = [3236, 1538]</text>\n<text text-anchor=\"middle\" x=\"1098.5\" y=\"-468.8\" font-family=\"Helvetica,sans-Serif\" font-size=\"14.00\" fill=\"#000000\">class = Trai</text>\n</g>\n<!-- 1 -->\n<g id=\"node2\" class=\"node\">\n<title>1</title>\n<polygon fill=\"#cce6f8\" stroke=\"#000000\" points=\"907.5,-425 761.5,-425 761.5,-342 907.5,-342 907.5,-425\"/>\n<text text-anchor=\"middle\" x=\"834.5\" y=\"-409.8\" font-family=\"Helvetica,sans-Serif\" font-size=\"14.00\" fill=\"#000000\">yrs_married &lt;= 4.25</text>\n<text text-anchor=\"middle\" x=\"834.5\" y=\"-394.8\" font-family=\"Helvetica,sans-Serif\" font-size=\"14.00\" fill=\"#000000\">gini = 0.489</text>\n<text text-anchor=\"middle\" x=\"834.5\" y=\"-379.8\" font-family=\"Helvetica,sans-Serif\" font-size=\"14.00\" fill=\"#000000\">samples = 1073</text>\n<text text-anchor=\"middle\" x=\"834.5\" y=\"-364.8\" font-family=\"Helvetica,sans-Serif\" font-size=\"14.00\" fill=\"#000000\">value = [458, 615]</text>\n<text text-anchor=\"middle\" x=\"834.5\" y=\"-349.8\" font-family=\"Helvetica,sans-Serif\" font-size=\"14.00\" fill=\"#000000\">class = Nao Trai</text>\n</g>\n<!-- 0&#45;&gt;1 -->\n<g id=\"edge1\" class=\"edge\">\n<title>0&#45;&gt;1</title>\n<path fill=\"none\" stroke=\"#000000\" d=\"M1022.8482,-468.3994C989.8407,-453.521 951.0462,-436.0341 917.2709,-420.8096\"/>\n<polygon fill=\"#000000\" stroke=\"#000000\" points=\"918.4416,-417.4982 907.8866,-416.5796 915.565,-423.8799 918.4416,-417.4982\"/>\n<text text-anchor=\"middle\" x=\"916.7383\" y=\"-436.2601\" font-family=\"Helvetica,sans-Serif\" font-size=\"14.00\" fill=\"#000000\">True</text>\n</g>\n<!-- 16 -->\n<g id=\"node17\" class=\"node\">\n<title>16</title>\n<polygon fill=\"#eeab7b\" stroke=\"#000000\" points=\"1449.5,-425 1303.5,-425 1303.5,-342 1449.5,-342 1449.5,-425\"/>\n<text text-anchor=\"middle\" x=\"1376.5\" y=\"-409.8\" font-family=\"Helvetica,sans-Serif\" font-size=\"14.00\" fill=\"#000000\">yrs_married &lt;= 4.25</text>\n<text text-anchor=\"middle\" x=\"1376.5\" y=\"-394.8\" font-family=\"Helvetica,sans-Serif\" font-size=\"14.00\" fill=\"#000000\">gini = 0.374</text>\n<text text-anchor=\"middle\" x=\"1376.5\" y=\"-379.8\" font-family=\"Helvetica,sans-Serif\" font-size=\"14.00\" fill=\"#000000\">samples = 3701</text>\n<text text-anchor=\"middle\" x=\"1376.5\" y=\"-364.8\" font-family=\"Helvetica,sans-Serif\" font-size=\"14.00\" fill=\"#000000\">value = [2778, 923]</text>\n<text text-anchor=\"middle\" x=\"1376.5\" y=\"-349.8\" font-family=\"Helvetica,sans-Serif\" font-size=\"14.00\" fill=\"#000000\">class = Trai</text>\n</g>\n<!-- 0&#45;&gt;16 -->\n<g id=\"edge16\" class=\"edge\">\n<title>0&#45;&gt;16</title>\n<path fill=\"none\" stroke=\"#000000\" d=\"M1174.0975,-470.1399C1211.1531,-454.278 1255.8597,-435.141 1293.8211,-418.8913\"/>\n<polygon fill=\"#000000\" stroke=\"#000000\" points=\"1295.5024,-421.9789 1303.3182,-414.826 1292.7477,-415.5437 1295.5024,-421.9789\"/>\n<text text-anchor=\"middle\" x=\"1294.0234\" y=\"-434.3339\" font-family=\"Helvetica,sans-Serif\" font-size=\"14.00\" fill=\"#000000\">False</text>\n</g>\n<!-- 2 -->\n<g id=\"node3\" class=\"node\">\n<title>2</title>\n<polygon fill=\"#fae8da\" stroke=\"#000000\" points=\"474,-306 337,-306 337,-223 474,-223 474,-306\"/>\n<text text-anchor=\"middle\" x=\"405.5\" y=\"-290.8\" font-family=\"Helvetica,sans-Serif\" font-size=\"14.00\" fill=\"#000000\">yrs_married &lt;= 1.5</text>\n<text text-anchor=\"middle\" x=\"405.5\" y=\"-275.8\" font-family=\"Helvetica,sans-Serif\" font-size=\"14.00\" fill=\"#000000\">gini = 0.495</text>\n<text text-anchor=\"middle\" x=\"405.5\" y=\"-260.8\" font-family=\"Helvetica,sans-Serif\" font-size=\"14.00\" fill=\"#000000\">samples = 283</text>\n<text text-anchor=\"middle\" x=\"405.5\" y=\"-245.8\" font-family=\"Helvetica,sans-Serif\" font-size=\"14.00\" fill=\"#000000\">value = [156, 127]</text>\n<text text-anchor=\"middle\" x=\"405.5\" y=\"-230.8\" font-family=\"Helvetica,sans-Serif\" font-size=\"14.00\" fill=\"#000000\">class = Trai</text>\n</g>\n<!-- 1&#45;&gt;2 -->\n<g id=\"edge2\" class=\"edge\">\n<title>1&#45;&gt;2</title>\n<path fill=\"none\" stroke=\"#000000\" d=\"M761.2397,-363.1784C684.1291,-341.7887 563.1805,-308.2389 484.1119,-286.3061\"/>\n<polygon fill=\"#000000\" stroke=\"#000000\" points=\"484.7749,-282.8579 474.2032,-283.5575 482.9038,-289.6032 484.7749,-282.8579\"/>\n</g>\n<!-- 9 -->\n<g id=\"node10\" class=\"node\">\n<title>9</title>\n<polygon fill=\"#b4daf5\" stroke=\"#000000\" points=\"900.5,-306 768.5,-306 768.5,-223 900.5,-223 900.5,-306\"/>\n<text text-anchor=\"middle\" x=\"834.5\" y=\"-290.8\" font-family=\"Helvetica,sans-Serif\" font-size=\"14.00\" fill=\"#000000\">religious &lt;= 3.5</text>\n<text text-anchor=\"middle\" x=\"834.5\" y=\"-275.8\" font-family=\"Helvetica,sans-Serif\" font-size=\"14.00\" fill=\"#000000\">gini = 0.472</text>\n<text text-anchor=\"middle\" x=\"834.5\" y=\"-260.8\" font-family=\"Helvetica,sans-Serif\" font-size=\"14.00\" fill=\"#000000\">samples = 790</text>\n<text text-anchor=\"middle\" x=\"834.5\" y=\"-245.8\" font-family=\"Helvetica,sans-Serif\" font-size=\"14.00\" fill=\"#000000\">value = [302, 488]</text>\n<text text-anchor=\"middle\" x=\"834.5\" y=\"-230.8\" font-family=\"Helvetica,sans-Serif\" font-size=\"14.00\" fill=\"#000000\">class = Nao Trai</text>\n</g>\n<!-- 1&#45;&gt;9 -->\n<g id=\"edge9\" class=\"edge\">\n<title>1&#45;&gt;9</title>\n<path fill=\"none\" stroke=\"#000000\" d=\"M834.5,-341.8796C834.5,-333.6838 834.5,-324.9891 834.5,-316.5013\"/>\n<polygon fill=\"#000000\" stroke=\"#000000\" points=\"838.0001,-316.298 834.5,-306.2981 831.0001,-316.2981 838.0001,-316.298\"/>\n</g>\n<!-- 3 -->\n<g id=\"node4\" class=\"node\">\n<title>3</title>\n<polygon fill=\"#eb9e66\" stroke=\"#000000\" points=\"250,-187 135,-187 135,-104 250,-104 250,-187\"/>\n<text text-anchor=\"middle\" x=\"192.5\" y=\"-171.8\" font-family=\"Helvetica,sans-Serif\" font-size=\"14.00\" fill=\"#000000\">religious &lt;= 1.5</text>\n<text text-anchor=\"middle\" x=\"192.5\" y=\"-156.8\" font-family=\"Helvetica,sans-Serif\" font-size=\"14.00\" fill=\"#000000\">gini = 0.302</text>\n<text text-anchor=\"middle\" x=\"192.5\" y=\"-141.8\" font-family=\"Helvetica,sans-Serif\" font-size=\"14.00\" fill=\"#000000\">samples = 27</text>\n<text text-anchor=\"middle\" x=\"192.5\" y=\"-126.8\" font-family=\"Helvetica,sans-Serif\" font-size=\"14.00\" fill=\"#000000\">value = [22, 5]</text>\n<text text-anchor=\"middle\" x=\"192.5\" y=\"-111.8\" font-family=\"Helvetica,sans-Serif\" font-size=\"14.00\" fill=\"#000000\">class = Trai</text>\n</g>\n<!-- 2&#45;&gt;3 -->\n<g id=\"edge3\" class=\"edge\">\n<title>2&#45;&gt;3</title>\n<path fill=\"none\" stroke=\"#000000\" d=\"M336.933,-226.1926C312.021,-212.2747 283.9237,-196.5771 259.1775,-182.7518\"/>\n<polygon fill=\"#000000\" stroke=\"#000000\" points=\"260.6613,-179.5716 250.2242,-177.7497 257.2471,-185.6825 260.6613,-179.5716\"/>\n</g>\n<!-- 6 -->\n<g id=\"node7\" class=\"node\">\n<title>6</title>\n<polygon fill=\"#fdf4ed\" stroke=\"#000000\" points=\"471.5,-187 339.5,-187 339.5,-104 471.5,-104 471.5,-187\"/>\n<text text-anchor=\"middle\" x=\"405.5\" y=\"-171.8\" font-family=\"Helvetica,sans-Serif\" font-size=\"14.00\" fill=\"#000000\">occ5 &lt;= 0.5</text>\n<text text-anchor=\"middle\" x=\"405.5\" y=\"-156.8\" font-family=\"Helvetica,sans-Serif\" font-size=\"14.00\" fill=\"#000000\">gini = 0.499</text>\n<text text-anchor=\"middle\" x=\"405.5\" y=\"-141.8\" font-family=\"Helvetica,sans-Serif\" font-size=\"14.00\" fill=\"#000000\">samples = 256</text>\n<text text-anchor=\"middle\" x=\"405.5\" y=\"-126.8\" font-family=\"Helvetica,sans-Serif\" font-size=\"14.00\" fill=\"#000000\">value = [134, 122]</text>\n<text text-anchor=\"middle\" x=\"405.5\" y=\"-111.8\" font-family=\"Helvetica,sans-Serif\" font-size=\"14.00\" fill=\"#000000\">class = Trai</text>\n</g>\n<!-- 2&#45;&gt;6 -->\n<g id=\"edge6\" class=\"edge\">\n<title>2&#45;&gt;6</title>\n<path fill=\"none\" stroke=\"#000000\" d=\"M405.5,-222.8796C405.5,-214.6838 405.5,-205.9891 405.5,-197.5013\"/>\n<polygon fill=\"#000000\" stroke=\"#000000\" points=\"409.0001,-197.298 405.5,-187.2981 402.0001,-197.2981 409.0001,-197.298\"/>\n</g>\n<!-- 4 -->\n<g id=\"node5\" class=\"node\">\n<title>4</title>\n<polygon fill=\"#cee6f8\" stroke=\"#000000\" points=\"121,-68 0,-68 0,0 121,0 121,-68\"/>\n<text text-anchor=\"middle\" x=\"60.5\" y=\"-52.8\" font-family=\"Helvetica,sans-Serif\" font-size=\"14.00\" fill=\"#000000\">gini = 0.49</text>\n<text text-anchor=\"middle\" x=\"60.5\" y=\"-37.8\" font-family=\"Helvetica,sans-Serif\" font-size=\"14.00\" fill=\"#000000\">samples = 7</text>\n<text text-anchor=\"middle\" x=\"60.5\" y=\"-22.8\" font-family=\"Helvetica,sans-Serif\" font-size=\"14.00\" fill=\"#000000\">value = [3, 4]</text>\n<text text-anchor=\"middle\" x=\"60.5\" y=\"-7.8\" font-family=\"Helvetica,sans-Serif\" font-size=\"14.00\" fill=\"#000000\">class = Nao Trai</text>\n</g>\n<!-- 3&#45;&gt;4 -->\n<g id=\"edge4\" class=\"edge\">\n<title>3&#45;&gt;4</title>\n<path fill=\"none\" stroke=\"#000000\" d=\"M143.3481,-103.9815C132.0324,-94.4232 120.0087,-84.2668 108.7325,-74.7419\"/>\n<polygon fill=\"#000000\" stroke=\"#000000\" points=\"110.9612,-72.0429 101.0633,-68.2637 106.4441,-77.3904 110.9612,-72.0429\"/>\n</g>\n<!-- 5 -->\n<g id=\"node6\" class=\"node\">\n<title>5</title>\n<polygon fill=\"#e68843\" stroke=\"#000000\" points=\"246,-68 139,-68 139,0 246,0 246,-68\"/>\n<text text-anchor=\"middle\" x=\"192.5\" y=\"-52.8\" font-family=\"Helvetica,sans-Serif\" font-size=\"14.00\" fill=\"#000000\">gini = 0.095</text>\n<text text-anchor=\"middle\" x=\"192.5\" y=\"-37.8\" font-family=\"Helvetica,sans-Serif\" font-size=\"14.00\" fill=\"#000000\">samples = 20</text>\n<text text-anchor=\"middle\" x=\"192.5\" y=\"-22.8\" font-family=\"Helvetica,sans-Serif\" font-size=\"14.00\" fill=\"#000000\">value = [19, 1]</text>\n<text text-anchor=\"middle\" x=\"192.5\" y=\"-7.8\" font-family=\"Helvetica,sans-Serif\" font-size=\"14.00\" fill=\"#000000\">class = Trai</text>\n</g>\n<!-- 3&#45;&gt;5 -->\n<g id=\"edge5\" class=\"edge\">\n<title>3&#45;&gt;5</title>\n<path fill=\"none\" stroke=\"#000000\" d=\"M192.5,-103.9815C192.5,-95.618 192.5,-86.7965 192.5,-78.3409\"/>\n<polygon fill=\"#000000\" stroke=\"#000000\" points=\"196.0001,-78.2636 192.5,-68.2637 189.0001,-78.2637 196.0001,-78.2636\"/>\n</g>\n<!-- 7 -->\n<g id=\"node8\" class=\"node\">\n<title>7</title>\n<polygon fill=\"#fae9dc\" stroke=\"#000000\" points=\"396.5,-68 264.5,-68 264.5,0 396.5,0 396.5,-68\"/>\n<text text-anchor=\"middle\" x=\"330.5\" y=\"-52.8\" font-family=\"Helvetica,sans-Serif\" font-size=\"14.00\" fill=\"#000000\">gini = 0.495</text>\n<text text-anchor=\"middle\" x=\"330.5\" y=\"-37.8\" font-family=\"Helvetica,sans-Serif\" font-size=\"14.00\" fill=\"#000000\">samples = 230</text>\n<text text-anchor=\"middle\" x=\"330.5\" y=\"-22.8\" font-family=\"Helvetica,sans-Serif\" font-size=\"14.00\" fill=\"#000000\">value = [126, 104]</text>\n<text text-anchor=\"middle\" x=\"330.5\" y=\"-7.8\" font-family=\"Helvetica,sans-Serif\" font-size=\"14.00\" fill=\"#000000\">class = Trai</text>\n</g>\n<!-- 6&#45;&gt;7 -->\n<g id=\"edge7\" class=\"edge\">\n<title>6&#45;&gt;7</title>\n<path fill=\"none\" stroke=\"#000000\" d=\"M377.5728,-103.9815C371.5762,-95.0666 365.2296,-85.6313 359.2041,-76.6734\"/>\n<polygon fill=\"#000000\" stroke=\"#000000\" points=\"362.0328,-74.6078 353.5473,-68.2637 356.2245,-78.5147 362.0328,-74.6078\"/>\n</g>\n<!-- 8 -->\n<g id=\"node9\" class=\"node\">\n<title>8</title>\n<polygon fill=\"#91c9f1\" stroke=\"#000000\" points=\"536,-68 415,-68 415,0 536,0 536,-68\"/>\n<text text-anchor=\"middle\" x=\"475.5\" y=\"-52.8\" font-family=\"Helvetica,sans-Serif\" font-size=\"14.00\" fill=\"#000000\">gini = 0.426</text>\n<text text-anchor=\"middle\" x=\"475.5\" y=\"-37.8\" font-family=\"Helvetica,sans-Serif\" font-size=\"14.00\" fill=\"#000000\">samples = 26</text>\n<text text-anchor=\"middle\" x=\"475.5\" y=\"-22.8\" font-family=\"Helvetica,sans-Serif\" font-size=\"14.00\" fill=\"#000000\">value = [8, 18]</text>\n<text text-anchor=\"middle\" x=\"475.5\" y=\"-7.8\" font-family=\"Helvetica,sans-Serif\" font-size=\"14.00\" fill=\"#000000\">class = Nao Trai</text>\n</g>\n<!-- 6&#45;&gt;8 -->\n<g id=\"edge8\" class=\"edge\">\n<title>6&#45;&gt;8</title>\n<path fill=\"none\" stroke=\"#000000\" d=\"M431.5654,-103.9815C437.1045,-95.1585 442.9636,-85.8258 448.5355,-76.9506\"/>\n<polygon fill=\"#000000\" stroke=\"#000000\" points=\"451.6363,-78.594 453.9892,-68.2637 445.7078,-74.872 451.6363,-78.594\"/>\n</g>\n<!-- 10 -->\n<g id=\"node11\" class=\"node\">\n<title>10</title>\n<polygon fill=\"#abd5f4\" stroke=\"#000000\" points=\"829.5,-187 697.5,-187 697.5,-104 829.5,-104 829.5,-187\"/>\n<text text-anchor=\"middle\" x=\"763.5\" y=\"-171.8\" font-family=\"Helvetica,sans-Serif\" font-size=\"14.00\" fill=\"#000000\">occ2 &lt;= 0.5</text>\n<text text-anchor=\"middle\" x=\"763.5\" y=\"-156.8\" font-family=\"Helvetica,sans-Serif\" font-size=\"14.00\" fill=\"#000000\">gini = 0.463</text>\n<text text-anchor=\"middle\" x=\"763.5\" y=\"-141.8\" font-family=\"Helvetica,sans-Serif\" font-size=\"14.00\" fill=\"#000000\">samples = 727</text>\n<text text-anchor=\"middle\" x=\"763.5\" y=\"-126.8\" font-family=\"Helvetica,sans-Serif\" font-size=\"14.00\" fill=\"#000000\">value = [265, 462]</text>\n<text text-anchor=\"middle\" x=\"763.5\" y=\"-111.8\" font-family=\"Helvetica,sans-Serif\" font-size=\"14.00\" fill=\"#000000\">class = Nao Trai</text>\n</g>\n<!-- 9&#45;&gt;10 -->\n<g id=\"edge10\" class=\"edge\">\n<title>9&#45;&gt;10</title>\n<path fill=\"none\" stroke=\"#000000\" d=\"M809.6676,-222.8796C804.5091,-214.2335 799.0192,-205.0322 793.6924,-196.1042\"/>\n<polygon fill=\"#000000\" stroke=\"#000000\" points=\"796.5678,-194.0924 788.4383,-187.2981 790.5564,-197.679 796.5678,-194.0924\"/>\n</g>\n<!-- 13 -->\n<g id=\"node14\" class=\"node\">\n<title>13</title>\n<polygon fill=\"#f7dac4\" stroke=\"#000000\" points=\"963.5,-187 847.5,-187 847.5,-104 963.5,-104 963.5,-187\"/>\n<text text-anchor=\"middle\" x=\"905.5\" y=\"-171.8\" font-family=\"Helvetica,sans-Serif\" font-size=\"14.00\" fill=\"#000000\">educ &lt;= 15.0</text>\n<text text-anchor=\"middle\" x=\"905.5\" y=\"-156.8\" font-family=\"Helvetica,sans-Serif\" font-size=\"14.00\" fill=\"#000000\">gini = 0.485</text>\n<text text-anchor=\"middle\" x=\"905.5\" y=\"-141.8\" font-family=\"Helvetica,sans-Serif\" font-size=\"14.00\" fill=\"#000000\">samples = 63</text>\n<text text-anchor=\"middle\" x=\"905.5\" y=\"-126.8\" font-family=\"Helvetica,sans-Serif\" font-size=\"14.00\" fill=\"#000000\">value = [37, 26]</text>\n<text text-anchor=\"middle\" x=\"905.5\" y=\"-111.8\" font-family=\"Helvetica,sans-Serif\" font-size=\"14.00\" fill=\"#000000\">class = Trai</text>\n</g>\n<!-- 9&#45;&gt;13 -->\n<g id=\"edge13\" class=\"edge\">\n<title>9&#45;&gt;13</title>\n<path fill=\"none\" stroke=\"#000000\" d=\"M859.3324,-222.8796C864.4909,-214.2335 869.9808,-205.0322 875.3076,-196.1042\"/>\n<polygon fill=\"#000000\" stroke=\"#000000\" points=\"878.4436,-197.679 880.5617,-187.2981 872.4322,-194.0924 878.4436,-197.679\"/>\n</g>\n<!-- 11 -->\n<g id=\"node12\" class=\"node\">\n<title>11</title>\n<polygon fill=\"#a0d0f3\" stroke=\"#000000\" points=\"686.5,-68 554.5,-68 554.5,0 686.5,0 686.5,-68\"/>\n<text text-anchor=\"middle\" x=\"620.5\" y=\"-52.8\" font-family=\"Helvetica,sans-Serif\" font-size=\"14.00\" fill=\"#000000\">gini = 0.45</text>\n<text text-anchor=\"middle\" x=\"620.5\" y=\"-37.8\" font-family=\"Helvetica,sans-Serif\" font-size=\"14.00\" fill=\"#000000\">samples = 617</text>\n<text text-anchor=\"middle\" x=\"620.5\" y=\"-22.8\" font-family=\"Helvetica,sans-Serif\" font-size=\"14.00\" fill=\"#000000\">value = [211, 406]</text>\n<text text-anchor=\"middle\" x=\"620.5\" y=\"-7.8\" font-family=\"Helvetica,sans-Serif\" font-size=\"14.00\" fill=\"#000000\">class = Nao Trai</text>\n</g>\n<!-- 10&#45;&gt;11 -->\n<g id=\"edge11\" class=\"edge\">\n<title>10&#45;&gt;11</title>\n<path fill=\"none\" stroke=\"#000000\" d=\"M710.2521,-103.9815C697.8756,-94.3313 684.7172,-84.0714 672.3997,-74.4673\"/>\n<polygon fill=\"#000000\" stroke=\"#000000\" points=\"674.4818,-71.6525 664.4435,-68.2637 670.1775,-77.1728 674.4818,-71.6525\"/>\n</g>\n<!-- 12 -->\n<g id=\"node13\" class=\"node\">\n<title>12</title>\n<polygon fill=\"#f8fcfe\" stroke=\"#000000\" points=\"826,-68 705,-68 705,0 826,0 826,-68\"/>\n<text text-anchor=\"middle\" x=\"765.5\" y=\"-52.8\" font-family=\"Helvetica,sans-Serif\" font-size=\"14.00\" fill=\"#000000\">gini = 0.5</text>\n<text text-anchor=\"middle\" x=\"765.5\" y=\"-37.8\" font-family=\"Helvetica,sans-Serif\" font-size=\"14.00\" fill=\"#000000\">samples = 110</text>\n<text text-anchor=\"middle\" x=\"765.5\" y=\"-22.8\" font-family=\"Helvetica,sans-Serif\" font-size=\"14.00\" fill=\"#000000\">value = [54, 56]</text>\n<text text-anchor=\"middle\" x=\"765.5\" y=\"-7.8\" font-family=\"Helvetica,sans-Serif\" font-size=\"14.00\" fill=\"#000000\">class = Nao Trai</text>\n</g>\n<!-- 10&#45;&gt;12 -->\n<g id=\"edge12\" class=\"edge\">\n<title>10&#45;&gt;12</title>\n<path fill=\"none\" stroke=\"#000000\" d=\"M764.2447,-103.9815C764.3947,-95.618 764.553,-86.7965 764.7046,-78.3409\"/>\n<polygon fill=\"#000000\" stroke=\"#000000\" points=\"768.2054,-78.3249 764.8854,-68.2637 761.2065,-78.1993 768.2054,-78.3249\"/>\n</g>\n<!-- 14 -->\n<g id=\"node15\" class=\"node\">\n<title>14</title>\n<polygon fill=\"#fdf4ee\" stroke=\"#000000\" points=\"960.5,-68 844.5,-68 844.5,0 960.5,0 960.5,-68\"/>\n<text text-anchor=\"middle\" x=\"902.5\" y=\"-52.8\" font-family=\"Helvetica,sans-Serif\" font-size=\"14.00\" fill=\"#000000\">gini = 0.499</text>\n<text text-anchor=\"middle\" x=\"902.5\" y=\"-37.8\" font-family=\"Helvetica,sans-Serif\" font-size=\"14.00\" fill=\"#000000\">samples = 44</text>\n<text text-anchor=\"middle\" x=\"902.5\" y=\"-22.8\" font-family=\"Helvetica,sans-Serif\" font-size=\"14.00\" fill=\"#000000\">value = [23, 21]</text>\n<text text-anchor=\"middle\" x=\"902.5\" y=\"-7.8\" font-family=\"Helvetica,sans-Serif\" font-size=\"14.00\" fill=\"#000000\">class = Trai</text>\n</g>\n<!-- 13&#45;&gt;14 -->\n<g id=\"edge14\" class=\"edge\">\n<title>13&#45;&gt;14</title>\n<path fill=\"none\" stroke=\"#000000\" d=\"M904.3829,-103.9815C904.1579,-95.618 903.9205,-86.7965 903.693,-78.3409\"/>\n<polygon fill=\"#000000\" stroke=\"#000000\" points=\"907.1897,-78.1659 903.4219,-68.2637 900.1922,-78.3542 907.1897,-78.1659\"/>\n</g>\n<!-- 15 -->\n<g id=\"node16\" class=\"node\">\n<title>15</title>\n<polygon fill=\"#eeae80\" stroke=\"#000000\" points=\"1086,-68 979,-68 979,0 1086,0 1086,-68\"/>\n<text text-anchor=\"middle\" x=\"1032.5\" y=\"-52.8\" font-family=\"Helvetica,sans-Serif\" font-size=\"14.00\" fill=\"#000000\">gini = 0.388</text>\n<text text-anchor=\"middle\" x=\"1032.5\" y=\"-37.8\" font-family=\"Helvetica,sans-Serif\" font-size=\"14.00\" fill=\"#000000\">samples = 19</text>\n<text text-anchor=\"middle\" x=\"1032.5\" y=\"-22.8\" font-family=\"Helvetica,sans-Serif\" font-size=\"14.00\" fill=\"#000000\">value = [14, 5]</text>\n<text text-anchor=\"middle\" x=\"1032.5\" y=\"-7.8\" font-family=\"Helvetica,sans-Serif\" font-size=\"14.00\" fill=\"#000000\">class = Trai</text>\n</g>\n<!-- 13&#45;&gt;15 -->\n<g id=\"edge15\" class=\"edge\">\n<title>13&#45;&gt;15</title>\n<path fill=\"none\" stroke=\"#000000\" d=\"M952.7901,-103.9815C963.5725,-94.5151 975.023,-84.462 985.7813,-75.0168\"/>\n<polygon fill=\"#000000\" stroke=\"#000000\" points=\"988.2676,-77.4915 993.4732,-68.2637 983.6493,-72.2311 988.2676,-77.4915\"/>\n</g>\n<!-- 17 -->\n<g id=\"node18\" class=\"node\">\n<title>17</title>\n<polygon fill=\"#e9965a\" stroke=\"#000000\" points=\"1452,-306 1301,-306 1301,-223 1452,-223 1452,-306\"/>\n<text text-anchor=\"middle\" x=\"1376.5\" y=\"-290.8\" font-family=\"Helvetica,sans-Serif\" font-size=\"14.00\" fill=\"#000000\">rate_marriage &lt;= 4.5</text>\n<text text-anchor=\"middle\" x=\"1376.5\" y=\"-275.8\" font-family=\"Helvetica,sans-Serif\" font-size=\"14.00\" fill=\"#000000\">gini = 0.244</text>\n<text text-anchor=\"middle\" x=\"1376.5\" y=\"-260.8\" font-family=\"Helvetica,sans-Serif\" font-size=\"14.00\" fill=\"#000000\">samples = 1501</text>\n<text text-anchor=\"middle\" x=\"1376.5\" y=\"-245.8\" font-family=\"Helvetica,sans-Serif\" font-size=\"14.00\" fill=\"#000000\">value = [1287, 214]</text>\n<text text-anchor=\"middle\" x=\"1376.5\" y=\"-230.8\" font-family=\"Helvetica,sans-Serif\" font-size=\"14.00\" fill=\"#000000\">class = Trai</text>\n</g>\n<!-- 16&#45;&gt;17 -->\n<g id=\"edge17\" class=\"edge\">\n<title>16&#45;&gt;17</title>\n<path fill=\"none\" stroke=\"#000000\" d=\"M1376.5,-341.8796C1376.5,-333.6838 1376.5,-324.9891 1376.5,-316.5013\"/>\n<polygon fill=\"#000000\" stroke=\"#000000\" points=\"1380.0001,-316.298 1376.5,-306.2981 1373.0001,-316.2981 1380.0001,-316.298\"/>\n</g>\n<!-- 24 -->\n<g id=\"node25\" class=\"node\">\n<title>24</title>\n<polygon fill=\"#f1bd97\" stroke=\"#000000\" points=\"1877,-306 1726,-306 1726,-223 1877,-223 1877,-306\"/>\n<text text-anchor=\"middle\" x=\"1801.5\" y=\"-290.8\" font-family=\"Helvetica,sans-Serif\" font-size=\"14.00\" fill=\"#000000\">rate_marriage &lt;= 4.5</text>\n<text text-anchor=\"middle\" x=\"1801.5\" y=\"-275.8\" font-family=\"Helvetica,sans-Serif\" font-size=\"14.00\" fill=\"#000000\">gini = 0.437</text>\n<text text-anchor=\"middle\" x=\"1801.5\" y=\"-260.8\" font-family=\"Helvetica,sans-Serif\" font-size=\"14.00\" fill=\"#000000\">samples = 2200</text>\n<text text-anchor=\"middle\" x=\"1801.5\" y=\"-245.8\" font-family=\"Helvetica,sans-Serif\" font-size=\"14.00\" fill=\"#000000\">value = [1491, 709]</text>\n<text text-anchor=\"middle\" x=\"1801.5\" y=\"-230.8\" font-family=\"Helvetica,sans-Serif\" font-size=\"14.00\" fill=\"#000000\">class = Trai</text>\n</g>\n<!-- 16&#45;&gt;24 -->\n<g id=\"edge24\" class=\"edge\">\n<title>16&#45;&gt;24</title>\n<path fill=\"none\" stroke=\"#000000\" d=\"M1449.5601,-363.0432C1523.5292,-342.3318 1637.8561,-310.3203 1715.9973,-288.4408\"/>\n<polygon fill=\"#000000\" stroke=\"#000000\" points=\"1717.1331,-291.7574 1725.819,-285.6907 1715.2456,-285.0167 1717.1331,-291.7574\"/>\n</g>\n<!-- 18 -->\n<g id=\"node19\" class=\"node\">\n<title>18</title>\n<polygon fill=\"#eca16b\" stroke=\"#000000\" points=\"1366.5,-187 1234.5,-187 1234.5,-104 1366.5,-104 1366.5,-187\"/>\n<text text-anchor=\"middle\" x=\"1300.5\" y=\"-171.8\" font-family=\"Helvetica,sans-Serif\" font-size=\"14.00\" fill=\"#000000\">religious &lt;= 2.5</text>\n<text text-anchor=\"middle\" x=\"1300.5\" y=\"-156.8\" font-family=\"Helvetica,sans-Serif\" font-size=\"14.00\" fill=\"#000000\">gini = 0.323</text>\n<text text-anchor=\"middle\" x=\"1300.5\" y=\"-141.8\" font-family=\"Helvetica,sans-Serif\" font-size=\"14.00\" fill=\"#000000\">samples = 616</text>\n<text text-anchor=\"middle\" x=\"1300.5\" y=\"-126.8\" font-family=\"Helvetica,sans-Serif\" font-size=\"14.00\" fill=\"#000000\">value = [491, 125]</text>\n<text text-anchor=\"middle\" x=\"1300.5\" y=\"-111.8\" font-family=\"Helvetica,sans-Serif\" font-size=\"14.00\" fill=\"#000000\">class = Trai</text>\n</g>\n<!-- 17&#45;&gt;18 -->\n<g id=\"edge18\" class=\"edge\">\n<title>17&#45;&gt;18</title>\n<path fill=\"none\" stroke=\"#000000\" d=\"M1349.9189,-222.8796C1344.3395,-214.1434 1338.3981,-204.8404 1332.6405,-195.8253\"/>\n<polygon fill=\"#000000\" stroke=\"#000000\" points=\"1335.5269,-193.8421 1327.1946,-187.2981 1329.6274,-197.6098 1335.5269,-193.8421\"/>\n</g>\n<!-- 21 -->\n<g id=\"node22\" class=\"node\">\n<title>21</title>\n<polygon fill=\"#e88f4f\" stroke=\"#000000\" points=\"1522,-187 1385,-187 1385,-104 1522,-104 1522,-187\"/>\n<text text-anchor=\"middle\" x=\"1453.5\" y=\"-171.8\" font-family=\"Helvetica,sans-Serif\" font-size=\"14.00\" fill=\"#000000\">yrs_married &lt;= 1.5</text>\n<text text-anchor=\"middle\" x=\"1453.5\" y=\"-156.8\" font-family=\"Helvetica,sans-Serif\" font-size=\"14.00\" fill=\"#000000\">gini = 0.181</text>\n<text text-anchor=\"middle\" x=\"1453.5\" y=\"-141.8\" font-family=\"Helvetica,sans-Serif\" font-size=\"14.00\" fill=\"#000000\">samples = 885</text>\n<text text-anchor=\"middle\" x=\"1453.5\" y=\"-126.8\" font-family=\"Helvetica,sans-Serif\" font-size=\"14.00\" fill=\"#000000\">value = [796, 89]</text>\n<text text-anchor=\"middle\" x=\"1453.5\" y=\"-111.8\" font-family=\"Helvetica,sans-Serif\" font-size=\"14.00\" fill=\"#000000\">class = Trai</text>\n</g>\n<!-- 17&#45;&gt;21 -->\n<g id=\"edge21\" class=\"edge\">\n<title>17&#45;&gt;21</title>\n<path fill=\"none\" stroke=\"#000000\" d=\"M1403.4309,-222.8796C1409.0837,-214.1434 1415.1033,-204.8404 1420.9366,-195.8253\"/>\n<polygon fill=\"#000000\" stroke=\"#000000\" points=\"1423.9601,-197.5952 1426.4542,-187.2981 1418.0831,-193.7924 1423.9601,-197.5952\"/>\n</g>\n<!-- 19 -->\n<g id=\"node20\" class=\"node\">\n<title>19</title>\n<polygon fill=\"#eeae80\" stroke=\"#000000\" points=\"1228.5,-68 1104.5,-68 1104.5,0 1228.5,0 1228.5,-68\"/>\n<text text-anchor=\"middle\" x=\"1166.5\" y=\"-52.8\" font-family=\"Helvetica,sans-Serif\" font-size=\"14.00\" fill=\"#000000\">gini = 0.389</text>\n<text text-anchor=\"middle\" x=\"1166.5\" y=\"-37.8\" font-family=\"Helvetica,sans-Serif\" font-size=\"14.00\" fill=\"#000000\">samples = 336</text>\n<text text-anchor=\"middle\" x=\"1166.5\" y=\"-22.8\" font-family=\"Helvetica,sans-Serif\" font-size=\"14.00\" fill=\"#000000\">value = [247, 89]</text>\n<text text-anchor=\"middle\" x=\"1166.5\" y=\"-7.8\" font-family=\"Helvetica,sans-Serif\" font-size=\"14.00\" fill=\"#000000\">class = Trai</text>\n</g>\n<!-- 18&#45;&gt;19 -->\n<g id=\"edge19\" class=\"edge\">\n<title>18&#45;&gt;19</title>\n<path fill=\"none\" stroke=\"#000000\" d=\"M1250.6033,-103.9815C1239.1162,-94.4232 1226.9103,-84.2668 1215.4633,-74.7419\"/>\n<polygon fill=\"#000000\" stroke=\"#000000\" points=\"1217.6035,-71.9695 1207.6779,-68.2637 1213.1261,-77.3503 1217.6035,-71.9695\"/>\n</g>\n<!-- 20 -->\n<g id=\"node21\" class=\"node\">\n<title>20</title>\n<polygon fill=\"#e99456\" stroke=\"#000000\" points=\"1370.5,-68 1246.5,-68 1246.5,0 1370.5,0 1370.5,-68\"/>\n<text text-anchor=\"middle\" x=\"1308.5\" y=\"-52.8\" font-family=\"Helvetica,sans-Serif\" font-size=\"14.00\" fill=\"#000000\">gini = 0.224</text>\n<text text-anchor=\"middle\" x=\"1308.5\" y=\"-37.8\" font-family=\"Helvetica,sans-Serif\" font-size=\"14.00\" fill=\"#000000\">samples = 280</text>\n<text text-anchor=\"middle\" x=\"1308.5\" y=\"-22.8\" font-family=\"Helvetica,sans-Serif\" font-size=\"14.00\" fill=\"#000000\">value = [244, 36]</text>\n<text text-anchor=\"middle\" x=\"1308.5\" y=\"-7.8\" font-family=\"Helvetica,sans-Serif\" font-size=\"14.00\" fill=\"#000000\">class = Trai</text>\n</g>\n<!-- 18&#45;&gt;20 -->\n<g id=\"edge20\" class=\"edge\">\n<title>18&#45;&gt;20</title>\n<path fill=\"none\" stroke=\"#000000\" d=\"M1303.4789,-103.9815C1304.079,-95.618 1304.7119,-86.7965 1305.3186,-78.3409\"/>\n<polygon fill=\"#000000\" stroke=\"#000000\" points=\"1308.8169,-78.4885 1306.0416,-68.2637 1301.8349,-77.9875 1308.8169,-78.4885\"/>\n</g>\n<!-- 22 -->\n<g id=\"node23\" class=\"node\">\n<title>22</title>\n<polygon fill=\"#e5823a\" stroke=\"#000000\" points=\"1504.5,-68 1388.5,-68 1388.5,0 1504.5,0 1504.5,-68\"/>\n<text text-anchor=\"middle\" x=\"1446.5\" y=\"-52.8\" font-family=\"Helvetica,sans-Serif\" font-size=\"14.00\" fill=\"#000000\">gini = 0.012</text>\n<text text-anchor=\"middle\" x=\"1446.5\" y=\"-37.8\" font-family=\"Helvetica,sans-Serif\" font-size=\"14.00\" fill=\"#000000\">samples = 164</text>\n<text text-anchor=\"middle\" x=\"1446.5\" y=\"-22.8\" font-family=\"Helvetica,sans-Serif\" font-size=\"14.00\" fill=\"#000000\">value = [163, 1]</text>\n<text text-anchor=\"middle\" x=\"1446.5\" y=\"-7.8\" font-family=\"Helvetica,sans-Serif\" font-size=\"14.00\" fill=\"#000000\">class = Trai</text>\n</g>\n<!-- 21&#45;&gt;22 -->\n<g id=\"edge22\" class=\"edge\">\n<title>21&#45;&gt;22</title>\n<path fill=\"none\" stroke=\"#000000\" d=\"M1450.8935,-103.9815C1450.3684,-95.618 1449.8146,-86.7965 1449.2837,-78.3409\"/>\n<polygon fill=\"#000000\" stroke=\"#000000\" points=\"1452.7709,-78.0247 1448.6511,-68.2637 1445.7846,-78.4634 1452.7709,-78.0247\"/>\n</g>\n<!-- 23 -->\n<g id=\"node24\" class=\"node\">\n<title>23</title>\n<polygon fill=\"#e99355\" stroke=\"#000000\" points=\"1646.5,-68 1522.5,-68 1522.5,0 1646.5,0 1646.5,-68\"/>\n<text text-anchor=\"middle\" x=\"1584.5\" y=\"-52.8\" font-family=\"Helvetica,sans-Serif\" font-size=\"14.00\" fill=\"#000000\">gini = 0.214</text>\n<text text-anchor=\"middle\" x=\"1584.5\" y=\"-37.8\" font-family=\"Helvetica,sans-Serif\" font-size=\"14.00\" fill=\"#000000\">samples = 721</text>\n<text text-anchor=\"middle\" x=\"1584.5\" y=\"-22.8\" font-family=\"Helvetica,sans-Serif\" font-size=\"14.00\" fill=\"#000000\">value = [633, 88]</text>\n<text text-anchor=\"middle\" x=\"1584.5\" y=\"-7.8\" font-family=\"Helvetica,sans-Serif\" font-size=\"14.00\" fill=\"#000000\">class = Trai</text>\n</g>\n<!-- 21&#45;&gt;23 -->\n<g id=\"edge23\" class=\"edge\">\n<title>21&#45;&gt;23</title>\n<path fill=\"none\" stroke=\"#000000\" d=\"M1502.2796,-103.9815C1513.4015,-94.5151 1525.2128,-84.462 1536.3099,-75.0168\"/>\n<polygon fill=\"#000000\" stroke=\"#000000\" points=\"1538.8975,-77.4105 1544.244,-68.2637 1534.3604,-72.08 1538.8975,-77.4105\"/>\n</g>\n<!-- 25 -->\n<g id=\"node26\" class=\"node\">\n<title>25</title>\n<polygon fill=\"#f6d4bc\" stroke=\"#000000\" points=\"1867.5,-187 1735.5,-187 1735.5,-104 1867.5,-104 1867.5,-187\"/>\n<text text-anchor=\"middle\" x=\"1801.5\" y=\"-171.8\" font-family=\"Helvetica,sans-Serif\" font-size=\"14.00\" fill=\"#000000\">religious &lt;= 2.5</text>\n<text text-anchor=\"middle\" x=\"1801.5\" y=\"-156.8\" font-family=\"Helvetica,sans-Serif\" font-size=\"14.00\" fill=\"#000000\">gini = 0.479</text>\n<text text-anchor=\"middle\" x=\"1801.5\" y=\"-141.8\" font-family=\"Helvetica,sans-Serif\" font-size=\"14.00\" fill=\"#000000\">samples = 1069</text>\n<text text-anchor=\"middle\" x=\"1801.5\" y=\"-126.8\" font-family=\"Helvetica,sans-Serif\" font-size=\"14.00\" fill=\"#000000\">value = [643, 426]</text>\n<text text-anchor=\"middle\" x=\"1801.5\" y=\"-111.8\" font-family=\"Helvetica,sans-Serif\" font-size=\"14.00\" fill=\"#000000\">class = Trai</text>\n</g>\n<!-- 24&#45;&gt;25 -->\n<g id=\"edge25\" class=\"edge\">\n<title>24&#45;&gt;25</title>\n<path fill=\"none\" stroke=\"#000000\" d=\"M1801.5,-222.8796C1801.5,-214.6838 1801.5,-205.9891 1801.5,-197.5013\"/>\n<polygon fill=\"#000000\" stroke=\"#000000\" points=\"1805.0001,-197.298 1801.5,-187.2981 1798.0001,-197.2981 1805.0001,-197.298\"/>\n</g>\n<!-- 28 -->\n<g id=\"node29\" class=\"node\">\n<title>28</title>\n<polygon fill=\"#eeab7b\" stroke=\"#000000\" points=\"2088.5,-187 1956.5,-187 1956.5,-104 2088.5,-104 2088.5,-187\"/>\n<text text-anchor=\"middle\" x=\"2022.5\" y=\"-171.8\" font-family=\"Helvetica,sans-Serif\" font-size=\"14.00\" fill=\"#000000\">religious &lt;= 1.5</text>\n<text text-anchor=\"middle\" x=\"2022.5\" y=\"-156.8\" font-family=\"Helvetica,sans-Serif\" font-size=\"14.00\" fill=\"#000000\">gini = 0.375</text>\n<text text-anchor=\"middle\" x=\"2022.5\" y=\"-141.8\" font-family=\"Helvetica,sans-Serif\" font-size=\"14.00\" fill=\"#000000\">samples = 1131</text>\n<text text-anchor=\"middle\" x=\"2022.5\" y=\"-126.8\" font-family=\"Helvetica,sans-Serif\" font-size=\"14.00\" fill=\"#000000\">value = [848, 283]</text>\n<text text-anchor=\"middle\" x=\"2022.5\" y=\"-111.8\" font-family=\"Helvetica,sans-Serif\" font-size=\"14.00\" fill=\"#000000\">class = Trai</text>\n</g>\n<!-- 24&#45;&gt;28 -->\n<g id=\"edge28\" class=\"edge\">\n<title>24&#45;&gt;28</title>\n<path fill=\"none\" stroke=\"#000000\" d=\"M1877.2465,-223.7134C1899.97,-211.4777 1924.8766,-198.0664 1947.5486,-185.8584\"/>\n<polygon fill=\"#000000\" stroke=\"#000000\" points=\"1949.3035,-188.8887 1956.4488,-181.066 1945.9847,-182.7254 1949.3035,-188.8887\"/>\n</g>\n<!-- 26 -->\n<g id=\"node27\" class=\"node\">\n<title>26</title>\n<polygon fill=\"#fceee5\" stroke=\"#000000\" points=\"1796.5,-68 1664.5,-68 1664.5,0 1796.5,0 1796.5,-68\"/>\n<text text-anchor=\"middle\" x=\"1730.5\" y=\"-52.8\" font-family=\"Helvetica,sans-Serif\" font-size=\"14.00\" fill=\"#000000\">gini = 0.498</text>\n<text text-anchor=\"middle\" x=\"1730.5\" y=\"-37.8\" font-family=\"Helvetica,sans-Serif\" font-size=\"14.00\" fill=\"#000000\">samples = 525</text>\n<text text-anchor=\"middle\" x=\"1730.5\" y=\"-22.8\" font-family=\"Helvetica,sans-Serif\" font-size=\"14.00\" fill=\"#000000\">value = [281, 244]</text>\n<text text-anchor=\"middle\" x=\"1730.5\" y=\"-7.8\" font-family=\"Helvetica,sans-Serif\" font-size=\"14.00\" fill=\"#000000\">class = Trai</text>\n</g>\n<!-- 25&#45;&gt;26 -->\n<g id=\"edge26\" class=\"edge\">\n<title>25&#45;&gt;26</title>\n<path fill=\"none\" stroke=\"#000000\" d=\"M1775.0622,-103.9815C1769.444,-95.1585 1763.5012,-85.8258 1757.8497,-76.9506\"/>\n<polygon fill=\"#000000\" stroke=\"#000000\" points=\"1760.6416,-74.8188 1752.3181,-68.2637 1754.7371,-78.5787 1760.6416,-74.8188\"/>\n</g>\n<!-- 27 -->\n<g id=\"node28\" class=\"node\">\n<title>27</title>\n<polygon fill=\"#f2c09d\" stroke=\"#000000\" points=\"1946.5,-68 1814.5,-68 1814.5,0 1946.5,0 1946.5,-68\"/>\n<text text-anchor=\"middle\" x=\"1880.5\" y=\"-52.8\" font-family=\"Helvetica,sans-Serif\" font-size=\"14.00\" fill=\"#000000\">gini = 0.445</text>\n<text text-anchor=\"middle\" x=\"1880.5\" y=\"-37.8\" font-family=\"Helvetica,sans-Serif\" font-size=\"14.00\" fill=\"#000000\">samples = 544</text>\n<text text-anchor=\"middle\" x=\"1880.5\" y=\"-22.8\" font-family=\"Helvetica,sans-Serif\" font-size=\"14.00\" fill=\"#000000\">value = [362, 182]</text>\n<text text-anchor=\"middle\" x=\"1880.5\" y=\"-7.8\" font-family=\"Helvetica,sans-Serif\" font-size=\"14.00\" fill=\"#000000\">class = Trai</text>\n</g>\n<!-- 25&#45;&gt;27 -->\n<g id=\"edge27\" class=\"edge\">\n<title>25&#45;&gt;27</title>\n<path fill=\"none\" stroke=\"#000000\" d=\"M1830.9167,-103.9815C1837.2331,-95.0666 1843.9182,-85.6313 1850.2651,-76.6734\"/>\n<polygon fill=\"#000000\" stroke=\"#000000\" points=\"1853.2981,-78.4466 1856.2235,-68.2637 1847.5864,-74.3998 1853.2981,-78.4466\"/>\n</g>\n<!-- 29 -->\n<g id=\"node30\" class=\"node\">\n<title>29</title>\n<polygon fill=\"#f5cfb4\" stroke=\"#000000\" points=\"2080.5,-68 1964.5,-68 1964.5,0 2080.5,0 2080.5,-68\"/>\n<text text-anchor=\"middle\" x=\"2022.5\" y=\"-52.8\" font-family=\"Helvetica,sans-Serif\" font-size=\"14.00\" fill=\"#000000\">gini = 0.473</text>\n<text text-anchor=\"middle\" x=\"2022.5\" y=\"-37.8\" font-family=\"Helvetica,sans-Serif\" font-size=\"14.00\" fill=\"#000000\">samples = 146</text>\n<text text-anchor=\"middle\" x=\"2022.5\" y=\"-22.8\" font-family=\"Helvetica,sans-Serif\" font-size=\"14.00\" fill=\"#000000\">value = [90, 56]</text>\n<text text-anchor=\"middle\" x=\"2022.5\" y=\"-7.8\" font-family=\"Helvetica,sans-Serif\" font-size=\"14.00\" fill=\"#000000\">class = Trai</text>\n</g>\n<!-- 28&#45;&gt;29 -->\n<g id=\"edge29\" class=\"edge\">\n<title>28&#45;&gt;29</title>\n<path fill=\"none\" stroke=\"#000000\" d=\"M2022.5,-103.9815C2022.5,-95.618 2022.5,-86.7965 2022.5,-78.3409\"/>\n<polygon fill=\"#000000\" stroke=\"#000000\" points=\"2026.0001,-78.2636 2022.5,-68.2637 2019.0001,-78.2637 2026.0001,-78.2636\"/>\n</g>\n<!-- 30 -->\n<g id=\"node31\" class=\"node\">\n<title>30</title>\n<polygon fill=\"#eda774\" stroke=\"#000000\" points=\"2230.5,-68 2098.5,-68 2098.5,0 2230.5,0 2230.5,-68\"/>\n<text text-anchor=\"middle\" x=\"2164.5\" y=\"-52.8\" font-family=\"Helvetica,sans-Serif\" font-size=\"14.00\" fill=\"#000000\">gini = 0.355</text>\n<text text-anchor=\"middle\" x=\"2164.5\" y=\"-37.8\" font-family=\"Helvetica,sans-Serif\" font-size=\"14.00\" fill=\"#000000\">samples = 985</text>\n<text text-anchor=\"middle\" x=\"2164.5\" y=\"-22.8\" font-family=\"Helvetica,sans-Serif\" font-size=\"14.00\" fill=\"#000000\">value = [758, 227]</text>\n<text text-anchor=\"middle\" x=\"2164.5\" y=\"-7.8\" font-family=\"Helvetica,sans-Serif\" font-size=\"14.00\" fill=\"#000000\">class = Trai</text>\n</g>\n<!-- 28&#45;&gt;30 -->\n<g id=\"edge30\" class=\"edge\">\n<title>28&#45;&gt;30</title>\n<path fill=\"none\" stroke=\"#000000\" d=\"M2075.3756,-103.9815C2087.6655,-94.3313 2100.7319,-84.0714 2112.9632,-74.4673\"/>\n<polygon fill=\"#000000\" stroke=\"#000000\" points=\"2115.1602,-77.1923 2120.8638,-68.2637 2110.8371,-71.6867 2115.1602,-77.1923\"/>\n</g>\n</g>\n</svg>\n"
          },
          "metadata": {},
          "execution_count": 135
        }
      ]
    },
    {
      "cell_type": "markdown",
      "metadata": {
        "id": "MxNVbAnoXNd8"
      },
      "source": [
        "**Análise**\n",
        "\n",
        "Apos converter as variaveis categoricas de ocupacao da mulher, bem como a doo seu marido para dummy variables, reconstruímos a arvore com profundidade 3, tempo de casamento e nota para este continuam sendo as features primarias. \n",
        "\n",
        "Ao aprofundar para uma arvore de 4 niveis, vemos algumas situacoes especificas. Mulheres que atribuiem nota inferior a 3,5 ao casamento e com tempo de casada entre 1,5 e 4,25 anos, especificamente da profissao de admistradora tem menos propensao a trair em comparacao a outras profissoes.\n",
        "\n",
        "Outra situacao sao mulheres com tempo de casamento superior a 4 anos com nota ao matrimonio inferior a 2,5, as que nao sao consideradas religiosas (grau de fe inferior a 3,5) tendem a trair menos do que as que se consideram mais religiosas.\n",
        "\n",
        "Por fim, em um perfil parecido de longo tempo casamento e nota atribuido ao casamento entre 2,5 e 2,5, especificamente para profissao de agricultora tem mais tendencia a trai do que as demais profissoes."
      ]
    },
    {
      "cell_type": "code",
      "metadata": {
        "id": "CgOuMsDdaNtv",
        "colab": {
          "base_uri": "https://localhost:8080/",
          "height": 380
        },
        "outputId": "aaf1259b-f4f7-49aa-bd58-c92ded689aeb"
      },
      "source": [
        "import seaborn as sns\n",
        "from sklearn.metrics import accuracy_score,confusion_matrix\n",
        "\n",
        "score_train = tree.score(Xtrain, Ytrain)\n",
        "previsoes = tree.predict(Xtest)\n",
        "score_test = accuracy_score(Ytest,previsoes)\n",
        "print('Acuracia de Treino',score_train)\n",
        "print('Acuracia de Test',score_test)\n",
        "print('MSE Teste',mean_squared_error(Ytest,previsoes))\n",
        "\n",
        "cm = confusion_matrix(Ytest, previsoes)\n",
        "print(cm)\n",
        "sns.heatmap(cm,annot=True)"
      ],
      "execution_count": 136,
      "outputs": [
        {
          "output_type": "stream",
          "name": "stdout",
          "text": [
            "Acuracia de Treino 0.7214076246334311\n",
            "Acuracia de Test 0.7311557788944724\n",
            "MSE Teste 0.26884422110552764\n",
            "[[996  81]\n",
            " [347 168]]\n"
          ]
        },
        {
          "output_type": "execute_result",
          "data": {
            "text/plain": [
              "<matplotlib.axes._subplots.AxesSubplot at 0x7f37776dadd0>"
            ]
          },
          "metadata": {},
          "execution_count": 136
        },
        {
          "output_type": "display_data",
          "data": {
            "text/plain": [
              "<Figure size 432x288 with 2 Axes>"
            ],
            "image/png": "[encoded data removed]"
          },
          "metadata": {}
        }
      ]
    },
    {
      "cell_type": "markdown",
      "metadata": {
        "id": "qy6vjxwwaqVW"
      },
      "source": [
        "**Análise**\n",
        "\n",
        "Esta arvore aparesenta entao um desempenho equivalente tanto em treino quanto em teste, um pouco acima de 70%. O que proximos ao que vimos na Regressao Logistica e KNN"
      ]
    },
    {
      "cell_type": "code",
      "metadata": {
        "id": "0EvCMhkEE3-m",
        "colab": {
          "base_uri": "https://localhost:8080/",
          "height": 238
        },
        "outputId": "a9a27487-0965-47e9-cc0d-130008d15494"
      },
      "source": [
        "#import matplotlib.pyplot as plt\n",
        "#pred=tree3.predict(X)\n",
        "#plt.scatter(pred, y, label='medv')\n",
        "#plt.plot([0,1],[0,1], '--k', transform=plt.gca().transAxes)\n",
        "#plt.xlabel('pred')\n",
        "#plt.ylabel('y_test')\n",
        "Xs[['rate_marriage','yrs_married','religious','occ5','occ6','tem_filhos']].corr()\n"
      ],
      "execution_count": 137,
      "outputs": [
        {
          "output_type": "execute_result",
          "data": {
            "text/plain": [
              "               rate_marriage  yrs_married  religious      occ5      occ6  \\\n",
              "rate_marriage       1.000000    -0.128978   0.078794 -0.002109  0.008878   \n",
              "yrs_married        -0.128978     1.000000   0.132683  0.076820 -0.004912   \n",
              "religious           0.078794     0.132683   1.000000  0.004260  0.011784   \n",
              "occ5               -0.002109     0.076820   0.004260  1.000000 -0.047868   \n",
              "occ6                0.008878    -0.004912   0.011784 -0.047868  1.000000   \n",
              "tem_filhos         -0.168831     0.613814   0.096127  0.011727 -0.024126   \n",
              "\n",
              "               tem_filhos  \n",
              "rate_marriage   -0.168831  \n",
              "yrs_married      0.613814  \n",
              "religious        0.096127  \n",
              "occ5             0.011727  \n",
              "occ6            -0.024126  \n",
              "tem_filhos       1.000000  "
            ],
            "text/html": [
              "\n",
              "  <div id=\"df-52ed808e-c0d5-4f92-9889-fbfe14a45dd2\">\n",
              "    <div class=\"colab-df-container\">\n",
              "      <div>\n",
              "<style scoped>\n",
              "    .dataframe tbody tr th:only-of-type {\n",
              "        vertical-align: middle;\n",
              "    }\n",
              "\n",
              "    .dataframe tbody tr th {\n",
              "        vertical-align: top;\n",
              "    }\n",
              "\n",
              "    .dataframe thead th {\n",
              "        text-align: right;\n",
              "    }\n",
              "</style>\n",
              "<table border=\"1\" class=\"dataframe\">\n",
              "  <thead>\n",
              "    <tr style=\"text-align: right;\">\n",
              "      <th></th>\n",
              "      <th>rate_marriage</th>\n",
              "      <th>yrs_married</th>\n",
              "      <th>religious</th>\n",
              "      <th>occ5</th>\n",
              "      <th>occ6</th>\n",
              "      <th>tem_filhos</th>\n",
              "    </tr>\n",
              "  </thead>\n",
              "  <tbody>\n",
              "    <tr>\n",
              "      <th>rate_marriage</th>\n",
              "      <td>1.000000</td>\n",
              "      <td>-0.128978</td>\n",
              "      <td>0.078794</td>\n",
              "      <td>-0.002109</td>\n",
              "      <td>0.008878</td>\n",
              "      <td>-0.168831</td>\n",
              "    </tr>\n",
              "    <tr>\n",
              "      <th>yrs_married</th>\n",
              "      <td>-0.128978</td>\n",
              "      <td>1.000000</td>\n",
              "      <td>0.132683</td>\n",
              "      <td>0.076820</td>\n",
              "      <td>-0.004912</td>\n",
              "      <td>0.613814</td>\n",
              "    </tr>\n",
              "    <tr>\n",
              "      <th>religious</th>\n",
              "      <td>0.078794</td>\n",
              "      <td>0.132683</td>\n",
              "      <td>1.000000</td>\n",
              "      <td>0.004260</td>\n",
              "      <td>0.011784</td>\n",
              "      <td>0.096127</td>\n",
              "    </tr>\n",
              "    <tr>\n",
              "      <th>occ5</th>\n",
              "      <td>-0.002109</td>\n",
              "      <td>0.076820</td>\n",
              "      <td>0.004260</td>\n",
              "      <td>1.000000</td>\n",
              "      <td>-0.047868</td>\n",
              "      <td>0.011727</td>\n",
              "    </tr>\n",
              "    <tr>\n",
              "      <th>occ6</th>\n",
              "      <td>0.008878</td>\n",
              "      <td>-0.004912</td>\n",
              "      <td>0.011784</td>\n",
              "      <td>-0.047868</td>\n",
              "      <td>1.000000</td>\n",
              "      <td>-0.024126</td>\n",
              "    </tr>\n",
              "    <tr>\n",
              "      <th>tem_filhos</th>\n",
              "      <td>-0.168831</td>\n",
              "      <td>0.613814</td>\n",
              "      <td>0.096127</td>\n",
              "      <td>0.011727</td>\n",
              "      <td>-0.024126</td>\n",
              "      <td>1.000000</td>\n",
              "    </tr>\n",
              "  </tbody>\n",
              "</table>\n",
              "</div>\n",
              "      <button class=\"colab-df-convert\" onclick=\"convertToInteractive('df-52ed808e-c0d5-4f92-9889-fbfe14a45dd2')\"\n",
              "              title=\"Convert this dataframe to an interactive table.\"\n",
              "              style=\"display:none;\">\n",
              "        \n",
              "  <svg xmlns=\"http://www.w3.org/2000/svg\" height=\"24px\"viewBox=\"0 0 24 24\"\n",
              "       width=\"24px\">\n",
              "    <path d=\"M0 0h24v24H0V0z\" fill=\"none\"/>\n",
              "    <path d=\"M18.56 5.44l.94 2.06.94-2.06 2.06-.94-2.06-.94-.94-2.06-.94 2.06-2.06.94zm-11 1L8.5 8.5l.94-2.06 2.06-.94-2.06-.94L8.5 2.5l-.94 2.06-2.06.94zm10 10l.94 2.06.94-2.06 2.06-.94-2.06-.94-.94-2.06-.94 2.06-2.06.94z\"/><path d=\"M17.41 7.96l-1.37-1.37c-.4-.4-.92-.59-1.43-.59-.52 0-1.04.2-1.43.59L10.3 9.45l-7.72 7.72c-.78.78-.78 2.05 0 2.83L4 21.41c.39.39.9.59 1.41.59.51 0 1.02-.2 1.41-.59l7.78-7.78 2.81-2.81c.8-.78.8-2.07 0-2.86zM5.41 20L4 18.59l7.72-7.72 1.47 1.35L5.41 20z\"/>\n",
              "  </svg>\n",
              "      </button>\n",
              "      \n",
              "  <style>\n",
              "    .colab-df-container {\n",
              "      display:flex;\n",
              "      flex-wrap:wrap;\n",
              "      gap: 12px;\n",
              "    }\n",
              "\n",
              "    .colab-df-convert {\n",
              "      background-color: #E8F0FE;\n",
              "      border: none;\n",
              "      border-radius: 50%;\n",
              "      cursor: pointer;\n",
              "      display: none;\n",
              "      fill: #1967D2;\n",
              "      height: 32px;\n",
              "      padding: 0 0 0 0;\n",
              "      width: 32px;\n",
              "    }\n",
              "\n",
              "    .colab-df-convert:hover {\n",
              "      background-color: #E2EBFA;\n",
              "      box-shadow: 0px 1px 2px rgba(60, 64, 67, 0.3), 0px 1px 3px 1px rgba(60, 64, 67, 0.15);\n",
              "      fill: #174EA6;\n",
              "    }\n",
              "\n",
              "    [theme=dark] .colab-df-convert {\n",
              "      background-color: #3B4455;\n",
              "      fill: #D2E3FC;\n",
              "    }\n",
              "\n",
              "    [theme=dark] .colab-df-convert:hover {\n",
              "      background-color: #434B5C;\n",
              "      box-shadow: 0px 1px 3px 1px rgba(0, 0, 0, 0.15);\n",
              "      filter: drop-shadow(0px 1px 2px rgba(0, 0, 0, 0.3));\n",
              "      fill: #FFFFFF;\n",
              "    }\n",
              "  </style>\n",
              "\n",
              "      <script>\n",
              "        const buttonEl =\n",
              "          document.querySelector('#df-52ed808e-c0d5-4f92-9889-fbfe14a45dd2 button.colab-df-convert');\n",
              "        buttonEl.style.display =\n",
              "          google.colab.kernel.accessAllowed ? 'block' : 'none';\n",
              "\n",
              "        async function convertToInteractive(key) {\n",
              "          const element = document.querySelector('#df-52ed808e-c0d5-4f92-9889-fbfe14a45dd2');\n",
              "          const dataTable =\n",
              "            await google.colab.kernel.invokeFunction('convertToInteractive',\n",
              "                                                     [key], {});\n",
              "          if (!dataTable) return;\n",
              "\n",
              "          const docLinkHtml = 'Like what you see? Visit the ' +\n",
              "            '<a target=\"_blank\" href=https://colab.research.google.com/notebooks/data_table.ipynb>data table notebook</a>'\n",
              "            + ' to learn more about interactive tables.';\n",
              "          element.innerHTML = '';\n",
              "          dataTable['output_type'] = 'display_data';\n",
              "          await google.colab.output.renderOutput(dataTable, element);\n",
              "          const docLink = document.createElement('div');\n",
              "          docLink.innerHTML = docLinkHtml;\n",
              "          element.appendChild(docLink);\n",
              "        }\n",
              "      </script>\n",
              "    </div>\n",
              "  </div>\n",
              "  "
            ]
          },
          "metadata": {},
          "execution_count": 137
        }
      ]
    },
    {
      "cell_type": "code",
      "metadata": {
        "colab": {
          "base_uri": "https://localhost:8080/",
          "height": 391
        },
        "id": "KKnthSsRRpAM",
        "outputId": "3d799a75-c5b6-4a3e-e7fa-788c4134c477"
      },
      "source": [
        "import seaborn as sns\n",
        "sns.heatmap(Xs[['rate_marriage','yrs_married','religious','occ5','occ6','tem_filhos']].corr())"
      ],
      "execution_count": 138,
      "outputs": [
        {
          "output_type": "execute_result",
          "data": {
            "text/plain": [
              "<matplotlib.axes._subplots.AxesSubplot at 0x7f377762ff90>"
            ]
          },
          "metadata": {},
          "execution_count": 138
        },
        {
          "output_type": "display_data",
          "data": {
            "text/plain": [
              "<Figure size 432x288 with 2 Axes>"
            ],
            "image/png": "[encoded data removed]"
          },
          "metadata": {}
        }
      ]
    },
    {
      "cell_type": "markdown",
      "metadata": {
        "id": "Auohf46ZSGU-"
      },
      "source": [
        "**Analise**\n",
        "\n",
        "Caso voce tenha atentado, comparando as features do arvore de decisao com a regressao logistica, temos a ausencia da tem_filhos. Observe pela tabela e correlacao e mapa de calor acima, que ele esta altamente correlacionada com tempo de casamento."
      ]
    },
    {
      "cell_type": "markdown",
      "metadata": {
        "id": "lXETuzmPDh4u"
      },
      "source": [
        "# Random Forest"
      ]
    },
    {
      "cell_type": "markdown",
      "metadata": {
        "id": "RDXK3XVpSkl2"
      },
      "source": [
        "Vamos iniciar a floresta aleatoria com um numero maximo de features igual a 5, nas expectativa que as 5 principais que temos visto nos algoritmos anteriores sejam selecionadas: 'rate_marriage','yrs_married','religious','occ5','occ6' "
      ]
    },
    {
      "cell_type": "code",
      "metadata": {
        "id": "tRp0tcRydyof",
        "colab": {
          "base_uri": "https://localhost:8080/"
        },
        "outputId": "2c81c313-3748-42a6-9da7-7f372176ecfc"
      },
      "source": [
        "from sklearn.ensemble import RandomForestClassifier\n",
        "from sklearn.model_selection import train_test_split\n",
        "import matplotlib.pyplot as plt\n",
        "from sklearn.metrics import mean_squared_error\n",
        "\n",
        "X_train , X_test, y_train, y_test = train_test_split(X, y, test_size=0.2)\n",
        "randtree1 = RandomForestClassifier(max_features=5)\n",
        "randtree1.fit(X_train, y_train)\n",
        "pred = randtree1.predict(X_test)\n",
        "print('Acuracia Treino',randtree1.score(X_train, y_train))\n",
        "print('Acuracia Teste',randtree1.score(X_test, y_test))\n",
        "print('MSE',mean_squared_error(y_test, pred))\n",
        "\n",
        "\n",
        "#plt.scatter(pred, y_test, label='medv')\n",
        "#plt.plot([0,1],[0,1], '--k', transform=plt.gca().transAxes)\n",
        "#plt.xlabel('pred')\n",
        "#plt.ylabel('y_test')"
      ],
      "execution_count": 139,
      "outputs": [
        {
          "output_type": "stream",
          "name": "stdout",
          "text": [
            "Acuracia Treino 0.8389630793401414\n",
            "Acuracia Teste 0.6773940345368917\n",
            "MSE 0.3226059654631083\n"
          ]
        }
      ]
    },
    {
      "cell_type": "markdown",
      "metadata": {
        "id": "XnH2FAzDS9wK"
      },
      "source": [
        "**Analise**\n",
        "\n",
        "Chegamos no que parece ser um overfit, com acuracia de treino superior a 80% e a de teste da ordem de 70%. Vamos entao aumentar o numero de features para o maximo, 16."
      ]
    },
    {
      "cell_type": "code",
      "metadata": {
        "id": "kZE2Gp1-dZiE",
        "colab": {
          "base_uri": "https://localhost:8080/"
        },
        "outputId": "36e2b360-6452-4b1f-ea52-a519bca0b53e"
      },
      "source": [
        "Xtrain, Xtest, Ytrain, Ytest = train_test_split(Xs, Y) \n",
        "randtree2 = RandomForestClassifier(max_features=16 )\n",
        "randtree2.fit(Xtrain, Ytrain)\n",
        "pred = randtree2.predict(Xtest)\n",
        "print('Acuracia Treino',randtree2.score(Xtrain, Ytrain))\n",
        "print('Acuracia Teste',randtree2.score(Xtest, Ytest))\n",
        "print('MSE Teste',mean_squared_error(Ytest, pred))\n"
      ],
      "execution_count": 140,
      "outputs": [
        {
          "output_type": "stream",
          "name": "stdout",
          "text": [
            "Acuracia Treino 0.9197737746124843\n",
            "Acuracia Teste 0.6859296482412061\n",
            "MSE Teste 0.314070351758794\n"
          ]
        }
      ]
    },
    {
      "cell_type": "markdown",
      "metadata": {
        "id": "s992udNXTVSo"
      },
      "source": [
        "**Analise**\n",
        "\n",
        "Nessa condicao, o overfit piorou, tendo acuracia de treino superior a 90% e de teste de 67%. Vamos entrar entao com a selecao manual de atributos com base no que aprendamos nos modelos anteriores"
      ]
    },
    {
      "cell_type": "code",
      "metadata": {
        "colab": {
          "base_uri": "https://localhost:8080/",
          "height": 380
        },
        "id": "XP_0oG8iTh_e",
        "outputId": "c2a00c3a-77a4-40a4-d7bc-4452470ff2de"
      },
      "source": [
        "randt = RandomForestClassifier()\n",
        "randt.fit(Xtrain[['rate_marriage','yrs_married','religious','occ5','occ6']], Ytrain)\n",
        "pred = randt.predict(Xtest[['rate_marriage','yrs_married','religious','occ5','occ6']])\n",
        "print('Acuracia Treino',randt.score(Xtrain[['rate_marriage','yrs_married','religious','occ5','occ6']], Ytrain))\n",
        "print('Acuracia Teste',randt.score(Xtest[['rate_marriage','yrs_married','religious','occ5','occ6']], Ytest))\n",
        "print('MSE Teste',mean_squared_error(Ytest, pred))\n",
        "cm = confusion_matrix(Ytest, previsoes)\n",
        "print(cm)\n",
        "sns.heatmap(cm,annot=True)"
      ],
      "execution_count": 141,
      "outputs": [
        {
          "output_type": "stream",
          "name": "stdout",
          "text": [
            "Acuracia Treino 0.7434017595307918\n",
            "Acuracia Teste 0.7097989949748744\n",
            "MSE Teste 0.29020100502512564\n",
            "[[900 171]\n",
            " [443  78]]\n"
          ]
        },
        {
          "output_type": "execute_result",
          "data": {
            "text/plain": [
              "<matplotlib.axes._subplots.AxesSubplot at 0x7f377726a7d0>"
            ]
          },
          "metadata": {},
          "execution_count": 141
        },
        {
          "output_type": "display_data",
          "data": {
            "text/plain": [
              "<Figure size 432x288 with 2 Axes>"
            ],
            "image/png": "[encoded data removed]"
          },
          "metadata": {}
        }
      ]
    },
    {
      "cell_type": "markdown",
      "metadata": {
        "id": "D67l-nV0URu9"
      },
      "source": [
        "**Analise**\n",
        "\n",
        "Esse modelo entao parece ser mais equilibrado com acuracia de treino e teste proxima a 70%, o que seria patamar que vimos em outros algoritmos"
      ]
    },
    {
      "cell_type": "markdown",
      "metadata": {
        "id": "drSo8D8VHARP"
      },
      "source": [
        "# LDA\n",
        "\n",
        "\n",
        "\n"
      ]
    },
    {
      "cell_type": "markdown",
      "metadata": {
        "id": "gDZFCw8gUikx"
      },
      "source": [
        "Vamos iniciar a anlise LDA com todas as feature, e comparar este com os demais modelos."
      ]
    },
    {
      "cell_type": "code",
      "metadata": {
        "colab": {
          "base_uri": "https://localhost:8080/",
          "height": 380
        },
        "id": "sAlbNT6mHAYX",
        "outputId": "8ce9d704-468a-43d9-fc9f-563c2c44b8ae"
      },
      "source": [
        "from sklearn.discriminant_analysis import LinearDiscriminantAnalysis\n",
        "from sklearn.metrics import accuracy_score,confusion_matrix\n",
        "from sklearn.model_selection import train_test_split\n",
        "import seaborn as sns\n",
        "\n",
        "X_train, X_test, Y_train, Y_test = train_test_split(Xs, Y) \n",
        "lda = LinearDiscriminantAnalysis()\n",
        "lda.fit(X_train, Y_train)\n",
        "score_train = lda.score(X_train, Y_train)\n",
        "previsoes = lda.predict(X_test)\n",
        "score_test = accuracy_score(Y_test,previsoes)\n",
        "print('Acuraria Treino',score_train)\n",
        "print('Acuraria TESTE',score_test)\n",
        "print('MSE Teste',mean_squared_error(Y_test,previsoes))\n",
        "cm = confusion_matrix(Y_test, previsoes)\n",
        "print(cm)\n",
        "sns.heatmap(cm,annot=True)"
      ],
      "execution_count": 142,
      "outputs": [
        {
          "output_type": "stream",
          "name": "stdout",
          "text": [
            "Acuraria Treino 0.7249685798072895\n",
            "Acuraria TESTE 0.7355527638190955\n",
            "MSE Teste 0.26444723618090454\n",
            "[[984 111]\n",
            " [310 187]]\n"
          ]
        },
        {
          "output_type": "execute_result",
          "data": {
            "text/plain": [
              "<matplotlib.axes._subplots.AxesSubplot at 0x7f3777577cd0>"
            ]
          },
          "metadata": {},
          "execution_count": 142
        },
        {
          "output_type": "display_data",
          "data": {
            "text/plain": [
              "<Figure size 432x288 with 2 Axes>"
            ],
            "image/png": "[encoded data removed]"
          },
          "metadata": {}
        }
      ]
    },
    {
      "cell_type": "markdown",
      "metadata": {
        "id": "0e9r4_W0MfAt"
      },
      "source": [
        "**Análise**\n",
        "\n",
        "O classificador LDA presentou acurácia de teste e treino apenas um pouco melhor do que a Regressao Logistica. Pela matriz de confusao acima, se ve tambem que a melhora de Precisao e Recall tambem nao sao significativas"
      ]
    },
    {
      "cell_type": "code",
      "metadata": {
        "colab": {
          "base_uri": "https://localhost:8080/",
          "height": 344
        },
        "id": "PIUakufdN8RS",
        "outputId": "3a5ee029-fd24-4330-e737-e20a745337b9"
      },
      "source": [
        "import seaborn as sns\n",
        "decision_prob = 0.9\n",
        "yprob = lda.fit(X_train, Y_train).predict_proba(X_test)\n",
        "Y_prob = yprob[:,1]  > decision_prob\n",
        "score_test = accuracy_score(Y_test,Y_prob)\n",
        "print('Acuraria TESTE',score_test)\n",
        "cm = confusion_matrix(Y_test,Y_prob)\n",
        "print(cm)\n",
        "sns.heatmap(cm,annot=True)"
      ],
      "execution_count": 143,
      "outputs": [
        {
          "output_type": "stream",
          "name": "stdout",
          "text": [
            "Acuraria TESTE 0.6903266331658291\n",
            "[[1094    1]\n",
            " [ 492    5]]\n"
          ]
        },
        {
          "output_type": "execute_result",
          "data": {
            "text/plain": [
              "<matplotlib.axes._subplots.AxesSubplot at 0x7f3775144810>"
            ]
          },
          "metadata": {},
          "execution_count": 143
        },
        {
          "output_type": "display_data",
          "data": {
            "text/plain": [
              "<Figure size 432x288 with 2 Axes>"
            ],
            "image/png": "[encoded data removed]"
          },
          "metadata": {}
        }
      ]
    },
    {
      "cell_type": "code",
      "metadata": {
        "colab": {
          "base_uri": "https://localhost:8080/",
          "height": 344
        },
        "id": "lz-5dW6jPhWD",
        "outputId": "323cf481-bc43-4b1e-c4f3-261cea4332bc"
      },
      "source": [
        "import seaborn as sns\n",
        "decision_prob = 0.1\n",
        "yprob = lda.fit(X_train, Y_train).predict_proba(X_test)\n",
        "Y_prob = yprob[:,1]  > decision_prob\n",
        "score_test = accuracy_score(Y_test,Y_prob)\n",
        "print('Acuraria TESTE',score_test)\n",
        "cm = confusion_matrix(Y_test,Y_prob)\n",
        "print(cm)\n",
        "sns.heatmap(cm,annot=True)"
      ],
      "execution_count": 144,
      "outputs": [
        {
          "output_type": "stream",
          "name": "stdout",
          "text": [
            "Acuraria TESTE 0.4057788944723618\n",
            "[[162 933]\n",
            " [ 13 484]]\n"
          ]
        },
        {
          "output_type": "execute_result",
          "data": {
            "text/plain": [
              "<matplotlib.axes._subplots.AxesSubplot at 0x7f3775077090>"
            ]
          },
          "metadata": {},
          "execution_count": 144
        },
        {
          "output_type": "display_data",
          "data": {
            "text/plain": [
              "<Figure size 432x288 with 2 Axes>"
            ],
            "image/png": "[encoded data removed]"
          },
          "metadata": {}
        }
      ]
    },
    {
      "cell_type": "markdown",
      "metadata": {
        "id": "XXL_yLg7QgMb"
      },
      "source": [
        "**Análise**\n",
        "\n",
        "Alterando o limiar de probabilidade aceito na previsao, nao obtemos resultados melhores. Se colocamos esse limiar mais alto, exemplo 0.9, nao melhoramos acuracia. E apesar de aumentarmos os TNs, aumentamos tambem os FNs. Ao mesmo tempo, diminuimos os TPs. Em um cenario do limiar muito baixo, exemplo 0.1, baixamos a acuracia, juntamente com um aumento de TP acompanhado de um aumento de FP. Ao mesmo tempo diminuindo os TNs."
      ]
    },
    {
      "cell_type": "code",
      "metadata": {
        "colab": {
          "base_uri": "https://localhost:8080/",
          "height": 315
        },
        "id": "KxEe-an_cCy8",
        "outputId": "e266d9ba-44a9-4d11-ee17-d32000d37834"
      },
      "source": [
        "from sklearn.metrics import roc_curve, auc\n",
        "import matplotlib.pyplot as plt\n",
        "y_score_lr = lda.fit(X_train, Y_train).predict_proba(X_test)\n",
        "fpr_lr, tpr_lr, _ = roc_curve(Y_test, y_score_lr[:, 1])\n",
        "roc_auc_lr = auc(fpr_lr, tpr_lr)\n",
        "\n",
        "plt.plot([0,1],[0,1],'k--')\n",
        "plt.plot(fpr_lr, tpr_lr, label='ROC curve (area = {:0.2f})'.format(roc_auc_lr))\n",
        "plt.xlabel('False Positive Rate')\n",
        "plt.ylabel('True Positive Rate')\n",
        "plt.title('ROC curve')\n",
        "plt.legend(loc='lower right')\n",
        "plt.show()"
      ],
      "execution_count": 145,
      "outputs": [
        {
          "output_type": "display_data",
          "data": {
            "text/plain": [
              "<Figure size 432x288 with 1 Axes>"
            ],
            "image/png": "[encoded data removed]"
          },
          "metadata": {}
        }
      ]
    },
    {
      "cell_type": "markdown",
      "metadata": {
        "id": "ugpe3HXtU8e2"
      },
      "source": [
        "Analise\n",
        "\n",
        "O equilibrio do LDA com base na propabilidade de classificacao positiva, parace ser um tarefa complexa. Se aceitarmos uma taxa inferior a 20% de FPs, atigiriamos no maximo uma taxa de TP de apenas 50%, o que seria o mesmo de um evento aleatorio. Para se chegar numa taxa de TP consistente de por exemplo superior a 80%, precisariamos aceitar uma taxa de FP superior a 40%"
      ]
    },
    {
      "cell_type": "markdown",
      "metadata": {
        "id": "gLSscNZtHAiB"
      },
      "source": [
        "# SVM"
      ]
    },
    {
      "cell_type": "markdown",
      "metadata": {
        "id": "hj4iPW97VnZV"
      },
      "source": [
        "Vamos inciar a analise com SVM linear, utilizando todas as features"
      ]
    },
    {
      "cell_type": "code",
      "metadata": {
        "id": "ZJ4yfIn4HApv",
        "colab": {
          "base_uri": "https://localhost:8080/",
          "height": 545
        },
        "outputId": "68bb6daa-bdce-42e4-db2d-472ff8464776"
      },
      "source": [
        "from sklearn.svm import SVC\n",
        "from sklearn.metrics import accuracy_score,confusion_matrix\n",
        "from sklearn.model_selection import train_test_split\n",
        "import seaborn as sns\n",
        "from sklearn.metrics import classification_report \n",
        "\n",
        "X_train, X_test, Y_train, Y_test = train_test_split(Xs, Y) \n",
        "svclin = SVC(kernel = 'linear')\n",
        "svclin.fit(X_train, Y_train)\n",
        "score_train = svclin.score(X_train, Y_train)\n",
        "previsoes = svclin.predict(X_test)\n",
        "score_test = accuracy_score(Y_test,previsoes)\n",
        "print('Acuraria Treino',score_train)\n",
        "print('Acuraria TESTE',score_test)\n",
        "print('MSE Teste',mean_squared_error(Y_test,previsoes))\n",
        "cm = confusion_matrix(Y_test, previsoes)\n",
        "print(cm)\n",
        "print(classification_report(Y_test, previsoes))\n",
        "sns.heatmap(cm,annot=True)"
      ],
      "execution_count": 146,
      "outputs": [
        {
          "output_type": "stream",
          "name": "stdout",
          "text": [
            "Acuraria Treino 0.7243401759530792\n",
            "Acuraria TESTE 0.7305276381909548\n",
            "MSE Teste 0.2694723618090452\n",
            "[[1006   96]\n",
            " [ 333  157]]\n",
            "              precision    recall  f1-score   support\n",
            "\n",
            "           0       0.75      0.91      0.82      1102\n",
            "           1       0.62      0.32      0.42       490\n",
            "\n",
            "    accuracy                           0.73      1592\n",
            "   macro avg       0.69      0.62      0.62      1592\n",
            "weighted avg       0.71      0.73      0.70      1592\n",
            "\n"
          ]
        },
        {
          "output_type": "execute_result",
          "data": {
            "text/plain": [
              "<matplotlib.axes._subplots.AxesSubplot at 0x7f3774ff6a50>"
            ]
          },
          "metadata": {},
          "execution_count": 146
        },
        {
          "output_type": "display_data",
          "data": {
            "text/plain": [
              "<Figure size 432x288 with 2 Axes>"
            ],
            "image/png": "[encoded data removed]"
          },
          "metadata": {}
        }
      ]
    },
    {
      "cell_type": "markdown",
      "metadata": {
        "id": "TbnqwPs-SZQI"
      },
      "source": [
        "**Análise**\n",
        "\n",
        "O SVM com um kernel linear apresentaram uma acurácia equivalente a outros modelos como Regressão Logística e Arvore de decisao. Vamos analisar detalhadamente estes numeros na utlima secao deste documento, realizando uma validacao cruzada.\n"
      ]
    },
    {
      "cell_type": "code",
      "metadata": {
        "id": "uNK6rEVmTDu-",
        "colab": {
          "base_uri": "https://localhost:8080/",
          "height": 541
        },
        "outputId": "ac430def-9a2f-4080-c0b3-f8dff2bfdb50"
      },
      "source": [
        "from sklearn.svm import SVC\n",
        "from sklearn.metrics import classification_report \n",
        "\n",
        "svc = SVC()\n",
        "svc.fit(X_train , Y_train)\n",
        "score_train = svc.score(X_train , Y_train)\n",
        "previsoes = svc.predict(X_test )\n",
        "score_test = accuracy_score(Y_test,previsoes)\n",
        "print('Acuraria Treino',score_train)\n",
        "print('Acuraria TESTE',score_test)\n",
        "print('MSE Teste',mean_squared_error(Y_test,previsoes))\n",
        "cm = confusion_matrix(Y_test, previsoes)\n",
        "print(cm)\n",
        "print(classification_report(Y_test, previsoes)) \n",
        "sns.heatmap(cm,annot=True)"
      ],
      "execution_count": 147,
      "outputs": [
        {
          "output_type": "stream",
          "name": "stdout",
          "text": [
            "Acuraria Treino 0.7082111436950147\n",
            "Acuraria TESTE 0.7242462311557789\n",
            "MSE Teste 0.2757537688442211\n",
            "[[1054   48]\n",
            " [ 391   99]]\n",
            "              precision    recall  f1-score   support\n",
            "\n",
            "           0       0.73      0.96      0.83      1102\n",
            "           1       0.67      0.20      0.31       490\n",
            "\n",
            "    accuracy                           0.72      1592\n",
            "   macro avg       0.70      0.58      0.57      1592\n",
            "weighted avg       0.71      0.72      0.67      1592\n",
            "\n"
          ]
        },
        {
          "output_type": "execute_result",
          "data": {
            "text/plain": [
              "<matplotlib.axes._subplots.AxesSubplot at 0x7f3774ebdd90>"
            ]
          },
          "metadata": {},
          "execution_count": 147
        },
        {
          "output_type": "display_data",
          "data": {
            "text/plain": [
              "<Figure size 432x288 with 2 Axes>"
            ],
            "image/png": "[encoded data removed]"
          },
          "metadata": {}
        }
      ]
    },
    {
      "cell_type": "markdown",
      "metadata": {
        "id": "vDo88uRKTXhI"
      },
      "source": [
        "**Analise** \n",
        "\n",
        "Apesar da acuracia de teste ter piorado um pouco do SVC linear para o nao linear, de 69% para 67%. Bem como o MSE tabem ter piorada um pouco, de 30% a 32%, a precisao melhorou, de 64% para 71%. Opostamente a isto o recall piorou, de 29% para 13%. Desta maneira o SCV nao linear tem uma taxa de FN muito alta.  "
      ]
    },
    {
      "cell_type": "markdown",
      "metadata": {
        "id": "P6E0huWzD3Bd"
      },
      "source": [
        "# Cross Validation"
      ]
    },
    {
      "cell_type": "markdown",
      "metadata": {
        "id": "bcF5KfKtkbee"
      },
      "source": [
        "Nesta secao vamos comparar os MSEs, realizando uma validacao estatistica para cada um dos 6 algoritmos, utilizando como base o melhor de cada um deles: Regressao Logistica, KNN, Arvore de decisao, Floresta randomica, LDA e SVM"
      ]
    },
    {
      "cell_type": "code",
      "metadata": {
        "id": "UOO3pBXND5EZ",
        "colab": {
          "base_uri": "https://localhost:8080/"
        },
        "outputId": "37372907-07c0-44ca-a113-15d68ce5b733"
      },
      "source": [
        "import numpy as np\n",
        "from sklearn.metrics import accuracy_score\n",
        "from sklearn.model_selection import KFold\n",
        "\n",
        "# Comparando classficadores  Regressao Logistica, KNN, Arvore de decisao, Floresta randomica, LDA e SVM\n",
        "modelos=[ 'RegLog','KNN','Tree','F.Rand','LDA','SVM']\n",
        "classsifiers = [rlog,knn,tree,randt,lda,svclin]\n",
        "\n",
        "n_splits = 10 \n",
        "n_models = len(classsifiers)\n",
        "#Scores linhas = num rodadas e cols = cada modelo\n",
        "scores = np.zeros( (n_splits,n_models) )\n",
        "#Diff Score linha x col = modelo x modelo e z = rodada\n",
        "diff_scores = np.zeros( (n_models,n_models,n_splits) )\n",
        "#Medias diffs linha x col = modelo x modelo\n",
        "diff_scores_avgs = np.zeros( (n_models,n_models) )\n",
        "#PValue diffs linha x col = modelo x modelo\n",
        "p_is = np.zeros( (n_models,n_models) )\n",
        "\n",
        "\n",
        "folds = KFold(n_splits=n_splits, shuffle=True)\n",
        "for rodada, (trn_idx, val_idx) in enumerate(folds.split(Xs, Y)):\n",
        "\n",
        "  print('##### Rodada #',rodada)\n",
        "  #Separacao em treino e teste da rodada\n",
        "  trn_x, trn_y = Xs.iloc[trn_idx], Y.iloc[trn_idx]\n",
        "  val_x, val_y = Xs.iloc[val_idx], Y.iloc[val_idx]\n",
        "  \n",
        "  #Calculo dos scores p cada modelo\n",
        "  for c in range(n_models):\n",
        "    classif = classsifiers[c]\n",
        "    classif.fit(trn_x, trn_y)\n",
        "    preds = classif.predict(val_x)\n",
        "    scores[rodada,c] =  mean_squared_error(val_y, preds)\n",
        "    #scores[rodada,c] = accuracy_score(Y_test,previsoes)\n",
        "    print(scores[rodada,c] )\n",
        "  \n",
        "  #Calculo da matriz modelo x modelo da diferenca de score (z=rodada)\n",
        "  for ci in range(n_models):\n",
        "    for cj in range(n_models):\n",
        "      diff_scores[ci,cj,rodada] = scores[rodada,ci] - scores[rodada,cj]\n",
        "      #print(ci,cj,scores[rodada,ci] - scores[rodada,cj])\n",
        "  \n",
        "  print(\"DIFF\") \n",
        "  print(diff_scores[:,:,rodada])\n",
        "\n",
        "# Compute t value\n",
        "for ci in range(n_models):\n",
        "  for cj in range(n_models): \n",
        "    diff_scores_avgs[ci,cj] = np.mean(diff_scores[ci,cj,:])\n",
        "    centered_diff = np.array(diff_scores[ci,cj,:]) - diff_scores_avgs[ci,cj]\n",
        "    p_is[ci,cj] = diff_scores_avgs[ci,cj] * (n_splits ** .5) / (np.sqrt(np.sum(centered_diff ** 2) / (n_splits - 1)))\n"
      ],
      "execution_count": 148,
      "outputs": [
        {
          "output_type": "stream",
          "name": "stdout",
          "text": [
            "##### Rodada # 0\n"
          ]
        },
        {
          "output_type": "stream",
          "name": "stderr",
          "text": [
            "/usr/local/lib/python3.7/dist-packages/sklearn/linear_model/_logistic.py:818: ConvergenceWarning: lbfgs failed to converge (status=1):\n",
            "STOP: TOTAL NO. of ITERATIONS REACHED LIMIT.\n",
            "\n",
            "Increase the number of iterations (max_iter) or scale the data as shown in:\n",
            "    https://scikit-learn.org/stable/modules/preprocessing.html\n",
            "Please also refer to the documentation for alternative solver options:\n",
            "    https://scikit-learn.org/stable/modules/linear_model.html#logistic-regression\n",
            "  extra_warning_msg=_LOGISTIC_SOLVER_CONVERGENCE_MSG,\n"
          ]
        },
        {
          "output_type": "stream",
          "name": "stdout",
          "text": [
            "0.24489795918367346\n",
            "0.282574568288854\n",
            "0.25274725274725274\n",
            "0.30612244897959184\n",
            "0.23861852433281006\n",
            "0.25902668759811615\n",
            "DIFF\n",
            "[[ 0.         -0.03767661 -0.00784929 -0.06122449  0.00627943 -0.01412873]\n",
            " [ 0.03767661  0.          0.02982732 -0.02354788  0.04395604  0.02354788]\n",
            " [ 0.00784929 -0.02982732  0.         -0.0533752   0.01412873 -0.00627943]\n",
            " [ 0.06122449  0.02354788  0.0533752   0.          0.06750392  0.04709576]\n",
            " [-0.00627943 -0.04395604 -0.01412873 -0.06750392  0.         -0.02040816]\n",
            " [ 0.01412873 -0.02354788  0.00627943 -0.04709576  0.02040816  0.        ]]\n",
            "##### Rodada # 1\n"
          ]
        },
        {
          "output_type": "stream",
          "name": "stderr",
          "text": [
            "/usr/local/lib/python3.7/dist-packages/sklearn/linear_model/_logistic.py:818: ConvergenceWarning: lbfgs failed to converge (status=1):\n",
            "STOP: TOTAL NO. of ITERATIONS REACHED LIMIT.\n",
            "\n",
            "Increase the number of iterations (max_iter) or scale the data as shown in:\n",
            "    https://scikit-learn.org/stable/modules/preprocessing.html\n",
            "Please also refer to the documentation for alternative solver options:\n",
            "    https://scikit-learn.org/stable/modules/linear_model.html#logistic-regression\n",
            "  extra_warning_msg=_LOGISTIC_SOLVER_CONVERGENCE_MSG,\n"
          ]
        },
        {
          "output_type": "stream",
          "name": "stdout",
          "text": [
            "0.29827315541601257\n",
            "0.3500784929356358\n",
            "0.282574568288854\n",
            "0.3532182103610675\n",
            "0.29513343799058084\n",
            "0.29199372056514916\n",
            "DIFF\n",
            "[[ 0.         -0.05180534  0.01569859 -0.05494505  0.00313972  0.00627943]\n",
            " [ 0.05180534  0.          0.06750392 -0.00313972  0.05494505  0.05808477]\n",
            " [-0.01569859 -0.06750392  0.         -0.07064364 -0.01255887 -0.00941915]\n",
            " [ 0.05494505  0.00313972  0.07064364  0.          0.05808477  0.06122449]\n",
            " [-0.00313972 -0.05494505  0.01255887 -0.05808477  0.          0.00313972]\n",
            " [-0.00627943 -0.05808477  0.00941915 -0.06122449 -0.00313972  0.        ]]\n",
            "##### Rodada # 2\n"
          ]
        },
        {
          "output_type": "stream",
          "name": "stderr",
          "text": [
            "/usr/local/lib/python3.7/dist-packages/sklearn/linear_model/_logistic.py:818: ConvergenceWarning: lbfgs failed to converge (status=1):\n",
            "STOP: TOTAL NO. of ITERATIONS REACHED LIMIT.\n",
            "\n",
            "Increase the number of iterations (max_iter) or scale the data as shown in:\n",
            "    https://scikit-learn.org/stable/modules/preprocessing.html\n",
            "Please also refer to the documentation for alternative solver options:\n",
            "    https://scikit-learn.org/stable/modules/linear_model.html#logistic-regression\n",
            "  extra_warning_msg=_LOGISTIC_SOLVER_CONVERGENCE_MSG,\n"
          ]
        },
        {
          "output_type": "stream",
          "name": "stdout",
          "text": [
            "0.27001569858712715\n",
            "0.31711145996860285\n",
            "0.2857142857142857\n",
            "0.31240188383045525\n",
            "0.2684458398744113\n",
            "0.2778649921507064\n",
            "DIFF\n",
            "[[ 0.         -0.04709576 -0.01569859 -0.04238619  0.00156986 -0.00784929]\n",
            " [ 0.04709576  0.          0.03139717  0.00470958  0.04866562  0.03924647]\n",
            " [ 0.01569859 -0.03139717  0.         -0.0266876   0.01726845  0.00784929]\n",
            " [ 0.04238619 -0.00470958  0.0266876   0.          0.04395604  0.03453689]\n",
            " [-0.00156986 -0.04866562 -0.01726845 -0.04395604  0.         -0.00941915]\n",
            " [ 0.00784929 -0.03924647 -0.00784929 -0.03453689  0.00941915  0.        ]]\n",
            "##### Rodada # 3\n",
            "0.26373626373626374\n"
          ]
        },
        {
          "output_type": "stream",
          "name": "stderr",
          "text": [
            "/usr/local/lib/python3.7/dist-packages/sklearn/linear_model/_logistic.py:818: ConvergenceWarning: lbfgs failed to converge (status=1):\n",
            "STOP: TOTAL NO. of ITERATIONS REACHED LIMIT.\n",
            "\n",
            "Increase the number of iterations (max_iter) or scale the data as shown in:\n",
            "    https://scikit-learn.org/stable/modules/preprocessing.html\n",
            "Please also refer to the documentation for alternative solver options:\n",
            "    https://scikit-learn.org/stable/modules/linear_model.html#logistic-regression\n",
            "  extra_warning_msg=_LOGISTIC_SOLVER_CONVERGENCE_MSG,\n"
          ]
        },
        {
          "output_type": "stream",
          "name": "stdout",
          "text": [
            "0.3139717425431711\n",
            "0.25902668759811615\n",
            "0.2794348508634223\n",
            "0.260596546310832\n",
            "0.26373626373626374\n",
            "DIFF\n",
            "[[ 0.         -0.05023548  0.00470958 -0.01569859  0.00313972  0.        ]\n",
            " [ 0.05023548  0.          0.05494505  0.03453689  0.0533752   0.05023548]\n",
            " [-0.00470958 -0.05494505  0.         -0.02040816 -0.00156986 -0.00470958]\n",
            " [ 0.01569859 -0.03453689  0.02040816  0.          0.0188383   0.01569859]\n",
            " [-0.00313972 -0.0533752   0.00156986 -0.0188383   0.         -0.00313972]\n",
            " [ 0.         -0.05023548  0.00470958 -0.01569859  0.00313972  0.        ]]\n",
            "##### Rodada # 4\n",
            "0.2653061224489796\n"
          ]
        },
        {
          "output_type": "stream",
          "name": "stderr",
          "text": [
            "/usr/local/lib/python3.7/dist-packages/sklearn/linear_model/_logistic.py:818: ConvergenceWarning: lbfgs failed to converge (status=1):\n",
            "STOP: TOTAL NO. of ITERATIONS REACHED LIMIT.\n",
            "\n",
            "Increase the number of iterations (max_iter) or scale the data as shown in:\n",
            "    https://scikit-learn.org/stable/modules/preprocessing.html\n",
            "Please also refer to the documentation for alternative solver options:\n",
            "    https://scikit-learn.org/stable/modules/linear_model.html#logistic-regression\n",
            "  extra_warning_msg=_LOGISTIC_SOLVER_CONVERGENCE_MSG,\n"
          ]
        },
        {
          "output_type": "stream",
          "name": "stdout",
          "text": [
            "0.3029827315541601\n",
            "0.2668759811616955\n",
            "0.29984301412872844\n",
            "0.260596546310832\n",
            "0.2731554160125589\n",
            "DIFF\n",
            "[[ 0.         -0.03767661 -0.00156986 -0.03453689  0.00470958 -0.00784929]\n",
            " [ 0.03767661  0.          0.03610675  0.00313972  0.04238619  0.02982732]\n",
            " [ 0.00156986 -0.03610675  0.         -0.03296703  0.00627943 -0.00627943]\n",
            " [ 0.03453689 -0.00313972  0.03296703  0.          0.03924647  0.0266876 ]\n",
            " [-0.00470958 -0.04238619 -0.00627943 -0.03924647  0.         -0.01255887]\n",
            " [ 0.00784929 -0.02982732  0.00627943 -0.0266876   0.01255887  0.        ]]\n",
            "##### Rodada # 5\n",
            "0.25588697017268447\n"
          ]
        },
        {
          "output_type": "stream",
          "name": "stderr",
          "text": [
            "/usr/local/lib/python3.7/dist-packages/sklearn/linear_model/_logistic.py:818: ConvergenceWarning: lbfgs failed to converge (status=1):\n",
            "STOP: TOTAL NO. of ITERATIONS REACHED LIMIT.\n",
            "\n",
            "Increase the number of iterations (max_iter) or scale the data as shown in:\n",
            "    https://scikit-learn.org/stable/modules/preprocessing.html\n",
            "Please also refer to the documentation for alternative solver options:\n",
            "    https://scikit-learn.org/stable/modules/linear_model.html#logistic-regression\n",
            "  extra_warning_msg=_LOGISTIC_SOLVER_CONVERGENCE_MSG,\n"
          ]
        },
        {
          "output_type": "stream",
          "name": "stdout",
          "text": [
            "0.30141287284144425\n",
            "0.28728414442700156\n",
            "0.31711145996860285\n",
            "0.25902668759811615\n",
            "0.27001569858712715\n",
            "DIFF\n",
            "[[ 0.         -0.0455259  -0.03139717 -0.06122449 -0.00313972 -0.01412873]\n",
            " [ 0.0455259   0.          0.01412873 -0.01569859  0.04238619  0.03139717]\n",
            " [ 0.03139717 -0.01412873  0.         -0.02982732  0.02825746  0.01726845]\n",
            " [ 0.06122449  0.01569859  0.02982732  0.          0.05808477  0.04709576]\n",
            " [ 0.00313972 -0.04238619 -0.02825746 -0.05808477  0.         -0.01098901]\n",
            " [ 0.01412873 -0.03139717 -0.01726845 -0.04709576  0.01098901  0.        ]]\n",
            "##### Rodada # 6\n",
            "0.27044025157232704\n"
          ]
        },
        {
          "output_type": "stream",
          "name": "stderr",
          "text": [
            "/usr/local/lib/python3.7/dist-packages/sklearn/linear_model/_logistic.py:818: ConvergenceWarning: lbfgs failed to converge (status=1):\n",
            "STOP: TOTAL NO. of ITERATIONS REACHED LIMIT.\n",
            "\n",
            "Increase the number of iterations (max_iter) or scale the data as shown in:\n",
            "    https://scikit-learn.org/stable/modules/preprocessing.html\n",
            "Please also refer to the documentation for alternative solver options:\n",
            "    https://scikit-learn.org/stable/modules/linear_model.html#logistic-regression\n",
            "  extra_warning_msg=_LOGISTIC_SOLVER_CONVERGENCE_MSG,\n"
          ]
        },
        {
          "output_type": "stream",
          "name": "stdout",
          "text": [
            "0.29245283018867924\n",
            "0.26572327044025157\n",
            "0.30974842767295596\n",
            "0.27672955974842767\n",
            "0.26572327044025157\n",
            "DIFF\n",
            "[[ 0.         -0.02201258  0.00471698 -0.03930818 -0.00628931  0.00471698]\n",
            " [ 0.02201258  0.          0.02672956 -0.0172956   0.01572327  0.02672956]\n",
            " [-0.00471698 -0.02672956  0.         -0.04402516 -0.01100629  0.        ]\n",
            " [ 0.03930818  0.0172956   0.04402516  0.          0.03301887  0.04402516]\n",
            " [ 0.00628931 -0.01572327  0.01100629 -0.03301887  0.          0.01100629]\n",
            " [-0.00471698 -0.02672956  0.         -0.04402516 -0.01100629  0.        ]]\n",
            "##### Rodada # 7\n",
            "0.28459119496855345\n"
          ]
        },
        {
          "output_type": "stream",
          "name": "stderr",
          "text": [
            "/usr/local/lib/python3.7/dist-packages/sklearn/linear_model/_logistic.py:818: ConvergenceWarning: lbfgs failed to converge (status=1):\n",
            "STOP: TOTAL NO. of ITERATIONS REACHED LIMIT.\n",
            "\n",
            "Increase the number of iterations (max_iter) or scale the data as shown in:\n",
            "    https://scikit-learn.org/stable/modules/preprocessing.html\n",
            "Please also refer to the documentation for alternative solver options:\n",
            "    https://scikit-learn.org/stable/modules/linear_model.html#logistic-regression\n",
            "  extra_warning_msg=_LOGISTIC_SOLVER_CONVERGENCE_MSG,\n"
          ]
        },
        {
          "output_type": "stream",
          "name": "stdout",
          "text": [
            "0.3113207547169811\n",
            "0.29559748427672955\n",
            "0.3238993710691824\n",
            "0.28459119496855345\n",
            "0.279874213836478\n",
            "DIFF\n",
            "[[ 0.         -0.02672956 -0.01100629 -0.03930818  0.          0.00471698]\n",
            " [ 0.02672956  0.          0.01572327 -0.01257862  0.02672956  0.03144654]\n",
            " [ 0.01100629 -0.01572327  0.         -0.02830189  0.01100629  0.01572327]\n",
            " [ 0.03930818  0.01257862  0.02830189  0.          0.03930818  0.04402516]\n",
            " [ 0.         -0.02672956 -0.01100629 -0.03930818  0.          0.00471698]\n",
            " [-0.00471698 -0.03144654 -0.01572327 -0.04402516 -0.00471698  0.        ]]\n",
            "##### Rodada # 8\n",
            "0.30345911949685533\n"
          ]
        },
        {
          "output_type": "stream",
          "name": "stderr",
          "text": [
            "/usr/local/lib/python3.7/dist-packages/sklearn/linear_model/_logistic.py:818: ConvergenceWarning: lbfgs failed to converge (status=1):\n",
            "STOP: TOTAL NO. of ITERATIONS REACHED LIMIT.\n",
            "\n",
            "Increase the number of iterations (max_iter) or scale the data as shown in:\n",
            "    https://scikit-learn.org/stable/modules/preprocessing.html\n",
            "Please also refer to the documentation for alternative solver options:\n",
            "    https://scikit-learn.org/stable/modules/linear_model.html#logistic-regression\n",
            "  extra_warning_msg=_LOGISTIC_SOLVER_CONVERGENCE_MSG,\n"
          ]
        },
        {
          "output_type": "stream",
          "name": "stdout",
          "text": [
            "0.3160377358490566\n",
            "0.29874213836477986\n",
            "0.33176100628930816\n",
            "0.29874213836477986\n",
            "0.30345911949685533\n",
            "DIFF\n",
            "[[ 0.         -0.01257862  0.00471698 -0.02830189  0.00471698  0.        ]\n",
            " [ 0.01257862  0.          0.0172956  -0.01572327  0.0172956   0.01257862]\n",
            " [-0.00471698 -0.0172956   0.         -0.03301887  0.         -0.00471698]\n",
            " [ 0.02830189  0.01572327  0.03301887  0.          0.03301887  0.02830189]\n",
            " [-0.00471698 -0.0172956   0.         -0.03301887  0.         -0.00471698]\n",
            " [ 0.         -0.01257862  0.00471698 -0.02830189  0.00471698  0.        ]]\n",
            "##### Rodada # 9\n",
            "0.29245283018867924\n"
          ]
        },
        {
          "output_type": "stream",
          "name": "stderr",
          "text": [
            "/usr/local/lib/python3.7/dist-packages/sklearn/linear_model/_logistic.py:818: ConvergenceWarning: lbfgs failed to converge (status=1):\n",
            "STOP: TOTAL NO. of ITERATIONS REACHED LIMIT.\n",
            "\n",
            "Increase the number of iterations (max_iter) or scale the data as shown in:\n",
            "    https://scikit-learn.org/stable/modules/preprocessing.html\n",
            "Please also refer to the documentation for alternative solver options:\n",
            "    https://scikit-learn.org/stable/modules/linear_model.html#logistic-regression\n",
            "  extra_warning_msg=_LOGISTIC_SOLVER_CONVERGENCE_MSG,\n"
          ]
        },
        {
          "output_type": "stream",
          "name": "stdout",
          "text": [
            "0.3223270440251572\n",
            "0.30660377358490565\n",
            "0.3238993710691824\n",
            "0.28773584905660377\n",
            "0.29874213836477986\n",
            "DIFF\n",
            "[[ 0.         -0.02987421 -0.01415094 -0.03144654  0.00471698 -0.00628931]\n",
            " [ 0.02987421  0.          0.01572327 -0.00157233  0.03459119  0.02358491]\n",
            " [ 0.01415094 -0.01572327  0.         -0.0172956   0.01886792  0.00786164]\n",
            " [ 0.03144654  0.00157233  0.0172956   0.          0.03616352  0.02515723]\n",
            " [-0.00471698 -0.03459119 -0.01886792 -0.03616352  0.         -0.01100629]\n",
            " [ 0.00628931 -0.02358491 -0.00786164 -0.02515723  0.01100629  0.        ]]\n"
          ]
        },
        {
          "output_type": "stream",
          "name": "stderr",
          "text": [
            "/usr/local/lib/python3.7/dist-packages/ipykernel_launcher.py:52: RuntimeWarning: invalid value encountered in double_scalars\n"
          ]
        }
      ]
    },
    {
      "cell_type": "code",
      "metadata": {
        "colab": {
          "base_uri": "https://localhost:8080/",
          "height": 255
        },
        "id": "0j9QZceGpXWc",
        "outputId": "ea079f8b-e20f-4196-ed90-12ff3562d92a"
      },
      "source": [
        "print('Diferencas medias de MSE')\n",
        "diff_scores_avgs_df=pd.DataFrame(diff_scores_avgs)\n",
        "diff_scores_avgs_df.columns = modelos\n",
        "diff_scores_avgs_df.index = modelos\n",
        "diff_scores_avgs_df"
      ],
      "execution_count": 149,
      "outputs": [
        {
          "output_type": "stream",
          "name": "stdout",
          "text": [
            "Diferencas medias de MSE\n"
          ]
        },
        {
          "output_type": "execute_result",
          "data": {
            "text/plain": [
              "          RegLog       KNN      Tree    F.Rand       LDA       SVM\n",
              "RegLog  0.000000 -0.036121 -0.005183 -0.040838  0.001884 -0.003453\n",
              "KNN     0.036121  0.000000  0.030938 -0.004717  0.038005  0.032668\n",
              "Tree    0.005183 -0.030938  0.000000 -0.035655  0.007067  0.001730\n",
              "F.Rand  0.040838  0.004717  0.035655  0.000000  0.042722  0.037385\n",
              "LDA    -0.001884 -0.038005 -0.007067 -0.042722  0.000000 -0.005338\n",
              "SVM     0.003453 -0.032668 -0.001730 -0.037385  0.005338  0.000000"
            ],
            "text/html": [
              "\n",
              "  <div id=\"df-93380c5c-90bc-456d-bdc3-401f5cd04ea3\">\n",
              "    <div class=\"colab-df-container\">\n",
              "      <div>\n",
              "<style scoped>\n",
              "    .dataframe tbody tr th:only-of-type {\n",
              "        vertical-align: middle;\n",
              "    }\n",
              "\n",
              "    .dataframe tbody tr th {\n",
              "        vertical-align: top;\n",
              "    }\n",
              "\n",
              "    .dataframe thead th {\n",
              "        text-align: right;\n",
              "    }\n",
              "</style>\n",
              "<table border=\"1\" class=\"dataframe\">\n",
              "  <thead>\n",
              "    <tr style=\"text-align: right;\">\n",
              "      <th></th>\n",
              "      <th>RegLog</th>\n",
              "      <th>KNN</th>\n",
              "      <th>Tree</th>\n",
              "      <th>F.Rand</th>\n",
              "      <th>LDA</th>\n",
              "      <th>SVM</th>\n",
              "    </tr>\n",
              "  </thead>\n",
              "  <tbody>\n",
              "    <tr>\n",
              "      <th>RegLog</th>\n",
              "      <td>0.000000</td>\n",
              "      <td>-0.036121</td>\n",
              "      <td>-0.005183</td>\n",
              "      <td>-0.040838</td>\n",
              "      <td>0.001884</td>\n",
              "      <td>-0.003453</td>\n",
              "    </tr>\n",
              "    <tr>\n",
              "      <th>KNN</th>\n",
              "      <td>0.036121</td>\n",
              "      <td>0.000000</td>\n",
              "      <td>0.030938</td>\n",
              "      <td>-0.004717</td>\n",
              "      <td>0.038005</td>\n",
              "      <td>0.032668</td>\n",
              "    </tr>\n",
              "    <tr>\n",
              "      <th>Tree</th>\n",
              "      <td>0.005183</td>\n",
              "      <td>-0.030938</td>\n",
              "      <td>0.000000</td>\n",
              "      <td>-0.035655</td>\n",
              "      <td>0.007067</td>\n",
              "      <td>0.001730</td>\n",
              "    </tr>\n",
              "    <tr>\n",
              "      <th>F.Rand</th>\n",
              "      <td>0.040838</td>\n",
              "      <td>0.004717</td>\n",
              "      <td>0.035655</td>\n",
              "      <td>0.000000</td>\n",
              "      <td>0.042722</td>\n",
              "      <td>0.037385</td>\n",
              "    </tr>\n",
              "    <tr>\n",
              "      <th>LDA</th>\n",
              "      <td>-0.001884</td>\n",
              "      <td>-0.038005</td>\n",
              "      <td>-0.007067</td>\n",
              "      <td>-0.042722</td>\n",
              "      <td>0.000000</td>\n",
              "      <td>-0.005338</td>\n",
              "    </tr>\n",
              "    <tr>\n",
              "      <th>SVM</th>\n",
              "      <td>0.003453</td>\n",
              "      <td>-0.032668</td>\n",
              "      <td>-0.001730</td>\n",
              "      <td>-0.037385</td>\n",
              "      <td>0.005338</td>\n",
              "      <td>0.000000</td>\n",
              "    </tr>\n",
              "  </tbody>\n",
              "</table>\n",
              "</div>\n",
              "      <button class=\"colab-df-convert\" onclick=\"convertToInteractive('df-93380c5c-90bc-456d-bdc3-401f5cd04ea3')\"\n",
              "              title=\"Convert this dataframe to an interactive table.\"\n",
              "              style=\"display:none;\">\n",
              "        \n",
              "  <svg xmlns=\"http://www.w3.org/2000/svg\" height=\"24px\"viewBox=\"0 0 24 24\"\n",
              "       width=\"24px\">\n",
              "    <path d=\"M0 0h24v24H0V0z\" fill=\"none\"/>\n",
              "    <path d=\"M18.56 5.44l.94 2.06.94-2.06 2.06-.94-2.06-.94-.94-2.06-.94 2.06-2.06.94zm-11 1L8.5 8.5l.94-2.06 2.06-.94-2.06-.94L8.5 2.5l-.94 2.06-2.06.94zm10 10l.94 2.06.94-2.06 2.06-.94-2.06-.94-.94-2.06-.94 2.06-2.06.94z\"/><path d=\"M17.41 7.96l-1.37-1.37c-.4-.4-.92-.59-1.43-.59-.52 0-1.04.2-1.43.59L10.3 9.45l-7.72 7.72c-.78.78-.78 2.05 0 2.83L4 21.41c.39.39.9.59 1.41.59.51 0 1.02-.2 1.41-.59l7.78-7.78 2.81-2.81c.8-.78.8-2.07 0-2.86zM5.41 20L4 18.59l7.72-7.72 1.47 1.35L5.41 20z\"/>\n",
              "  </svg>\n",
              "      </button>\n",
              "      \n",
              "  <style>\n",
              "    .colab-df-container {\n",
              "      display:flex;\n",
              "      flex-wrap:wrap;\n",
              "      gap: 12px;\n",
              "    }\n",
              "\n",
              "    .colab-df-convert {\n",
              "      background-color: #E8F0FE;\n",
              "      border: none;\n",
              "      border-radius: 50%;\n",
              "      cursor: pointer;\n",
              "      display: none;\n",
              "      fill: #1967D2;\n",
              "      height: 32px;\n",
              "      padding: 0 0 0 0;\n",
              "      width: 32px;\n",
              "    }\n",
              "\n",
              "    .colab-df-convert:hover {\n",
              "      background-color: #E2EBFA;\n",
              "      box-shadow: 0px 1px 2px rgba(60, 64, 67, 0.3), 0px 1px 3px 1px rgba(60, 64, 67, 0.15);\n",
              "      fill: #174EA6;\n",
              "    }\n",
              "\n",
              "    [theme=dark] .colab-df-convert {\n",
              "      background-color: #3B4455;\n",
              "      fill: #D2E3FC;\n",
              "    }\n",
              "\n",
              "    [theme=dark] .colab-df-convert:hover {\n",
              "      background-color: #434B5C;\n",
              "      box-shadow: 0px 1px 3px 1px rgba(0, 0, 0, 0.15);\n",
              "      filter: drop-shadow(0px 1px 2px rgba(0, 0, 0, 0.3));\n",
              "      fill: #FFFFFF;\n",
              "    }\n",
              "  </style>\n",
              "\n",
              "      <script>\n",
              "        const buttonEl =\n",
              "          document.querySelector('#df-93380c5c-90bc-456d-bdc3-401f5cd04ea3 button.colab-df-convert');\n",
              "        buttonEl.style.display =\n",
              "          google.colab.kernel.accessAllowed ? 'block' : 'none';\n",
              "\n",
              "        async function convertToInteractive(key) {\n",
              "          const element = document.querySelector('#df-93380c5c-90bc-456d-bdc3-401f5cd04ea3');\n",
              "          const dataTable =\n",
              "            await google.colab.kernel.invokeFunction('convertToInteractive',\n",
              "                                                     [key], {});\n",
              "          if (!dataTable) return;\n",
              "\n",
              "          const docLinkHtml = 'Like what you see? Visit the ' +\n",
              "            '<a target=\"_blank\" href=https://colab.research.google.com/notebooks/data_table.ipynb>data table notebook</a>'\n",
              "            + ' to learn more about interactive tables.';\n",
              "          element.innerHTML = '';\n",
              "          dataTable['output_type'] = 'display_data';\n",
              "          await google.colab.output.renderOutput(dataTable, element);\n",
              "          const docLink = document.createElement('div');\n",
              "          docLink.innerHTML = docLinkHtml;\n",
              "          element.appendChild(docLink);\n",
              "        }\n",
              "      </script>\n",
              "    </div>\n",
              "  </div>\n",
              "  "
            ]
          },
          "metadata": {},
          "execution_count": 149
        }
      ]
    },
    {
      "cell_type": "markdown",
      "metadata": {
        "id": "oeHxxtvlRCQw"
      },
      "source": [
        "Na sequencia vamos analisar a estatistica t para um nivel de confianca de 95%, vemos que valores de t > 2.26 ou < -2.26 pode-se rejeitar Ho. No nosso caso Ho, indica que nao existe diferenca entre o nivel de acuracia entre nossos modelos"
      ]
    },
    {
      "cell_type": "code",
      "metadata": {
        "id": "hO9PdkuWRCXR",
        "colab": {
          "base_uri": "https://localhost:8080/",
          "height": 293
        },
        "outputId": "4de8bfb4-7754-434d-daf0-43b25f0aee0c"
      },
      "source": [
        "from scipy.stats import t as t_student\n",
        "import matplotlib.pyplot as plt\n",
        "graus_de_liberdade = n_splits-1\n",
        "xs=np.linspace(-3.5,3.5,100) \n",
        "plt.plot( xs,t_student.pdf(xs,graus_de_liberdade) )\n",
        "sig = 0.05\n",
        "confianca = 1 - sig/2\n",
        "prob = confianca + sig\n",
        "t_alpha = t_student.ppf(confianca, graus_de_liberdade)\n",
        "plt.plot([t_alpha,t_alpha],[0,t_student.pdf(t_alpha,graus_de_liberdade) ],color='red')\n",
        "plt.plot([-t_alpha,-t_alpha],[0,t_student.pdf(t_alpha,graus_de_liberdade) ],color='red')\n",
        "print(t_alpha)\n"
      ],
      "execution_count": 150,
      "outputs": [
        {
          "output_type": "stream",
          "name": "stdout",
          "text": [
            "2.2621571627409915\n"
          ]
        },
        {
          "output_type": "display_data",
          "data": {
            "text/plain": [
              "<Figure size 432x288 with 1 Axes>"
            ],
            "image/png": "[encoded data removed]"
          },
          "metadata": {}
        }
      ]
    },
    {
      "cell_type": "code",
      "metadata": {
        "id": "MuP6NgUqTW_z",
        "colab": {
          "base_uri": "https://localhost:8080/",
          "height": 345
        },
        "outputId": "b9ab911f-f97f-47f0-a533-1ea1ad181155"
      },
      "source": [
        "print(p_is)\n",
        "sigstat = pd.DataFrame(np.bitwise_or((p_is > t_alpha) , (p_is < -t_alpha)))\n",
        "sigstat.columns = modelos\n",
        "sigstat.index = modelos\n",
        "sigstat"
      ],
      "execution_count": 151,
      "outputs": [
        {
          "output_type": "stream",
          "name": "stdout",
          "text": [
            "[[        nan -8.73366633 -1.20604451 -8.76364568  1.49909944 -1.42744183]\n",
            " [ 8.73366633         nan  5.45878995 -0.89139123  8.55836877  7.71512468]\n",
            " [ 1.20604451 -5.45878995         nan -6.96221421  1.67893116  0.56256462]\n",
            " [ 8.76364568  0.89139123  6.96221421         nan  9.2661467   8.67885738]\n",
            " [-1.49909944 -8.55836877 -1.67893116 -9.2661467          nan -1.78435952]\n",
            " [ 1.42744183 -7.71512468 -0.56256462 -8.67885738  1.78435952         nan]]\n"
          ]
        },
        {
          "output_type": "execute_result",
          "data": {
            "text/plain": [
              "        RegLog    KNN   Tree  F.Rand    LDA    SVM\n",
              "RegLog   False   True  False    True  False  False\n",
              "KNN       True  False   True   False   True   True\n",
              "Tree     False   True  False    True  False  False\n",
              "F.Rand    True  False   True   False   True   True\n",
              "LDA      False   True  False    True  False  False\n",
              "SVM      False   True  False    True  False  False"
            ],
            "text/html": [
              "\n",
              "  <div id=\"df-552b2ba1-5bc1-431a-8211-a5b1c5f0dffb\">\n",
              "    <div class=\"colab-df-container\">\n",
              "      <div>\n",
              "<style scoped>\n",
              "    .dataframe tbody tr th:only-of-type {\n",
              "        vertical-align: middle;\n",
              "    }\n",
              "\n",
              "    .dataframe tbody tr th {\n",
              "        vertical-align: top;\n",
              "    }\n",
              "\n",
              "    .dataframe thead th {\n",
              "        text-align: right;\n",
              "    }\n",
              "</style>\n",
              "<table border=\"1\" class=\"dataframe\">\n",
              "  <thead>\n",
              "    <tr style=\"text-align: right;\">\n",
              "      <th></th>\n",
              "      <th>RegLog</th>\n",
              "      <th>KNN</th>\n",
              "      <th>Tree</th>\n",
              "      <th>F.Rand</th>\n",
              "      <th>LDA</th>\n",
              "      <th>SVM</th>\n",
              "    </tr>\n",
              "  </thead>\n",
              "  <tbody>\n",
              "    <tr>\n",
              "      <th>RegLog</th>\n",
              "      <td>False</td>\n",
              "      <td>True</td>\n",
              "      <td>False</td>\n",
              "      <td>True</td>\n",
              "      <td>False</td>\n",
              "      <td>False</td>\n",
              "    </tr>\n",
              "    <tr>\n",
              "      <th>KNN</th>\n",
              "      <td>True</td>\n",
              "      <td>False</td>\n",
              "      <td>True</td>\n",
              "      <td>False</td>\n",
              "      <td>True</td>\n",
              "      <td>True</td>\n",
              "    </tr>\n",
              "    <tr>\n",
              "      <th>Tree</th>\n",
              "      <td>False</td>\n",
              "      <td>True</td>\n",
              "      <td>False</td>\n",
              "      <td>True</td>\n",
              "      <td>False</td>\n",
              "      <td>False</td>\n",
              "    </tr>\n",
              "    <tr>\n",
              "      <th>F.Rand</th>\n",
              "      <td>True</td>\n",
              "      <td>False</td>\n",
              "      <td>True</td>\n",
              "      <td>False</td>\n",
              "      <td>True</td>\n",
              "      <td>True</td>\n",
              "    </tr>\n",
              "    <tr>\n",
              "      <th>LDA</th>\n",
              "      <td>False</td>\n",
              "      <td>True</td>\n",
              "      <td>False</td>\n",
              "      <td>True</td>\n",
              "      <td>False</td>\n",
              "      <td>False</td>\n",
              "    </tr>\n",
              "    <tr>\n",
              "      <th>SVM</th>\n",
              "      <td>False</td>\n",
              "      <td>True</td>\n",
              "      <td>False</td>\n",
              "      <td>True</td>\n",
              "      <td>False</td>\n",
              "      <td>False</td>\n",
              "    </tr>\n",
              "  </tbody>\n",
              "</table>\n",
              "</div>\n",
              "      <button class=\"colab-df-convert\" onclick=\"convertToInteractive('df-552b2ba1-5bc1-431a-8211-a5b1c5f0dffb')\"\n",
              "              title=\"Convert this dataframe to an interactive table.\"\n",
              "              style=\"display:none;\">\n",
              "        \n",
              "  <svg xmlns=\"http://www.w3.org/2000/svg\" height=\"24px\"viewBox=\"0 0 24 24\"\n",
              "       width=\"24px\">\n",
              "    <path d=\"M0 0h24v24H0V0z\" fill=\"none\"/>\n",
              "    <path d=\"M18.56 5.44l.94 2.06.94-2.06 2.06-.94-2.06-.94-.94-2.06-.94 2.06-2.06.94zm-11 1L8.5 8.5l.94-2.06 2.06-.94-2.06-.94L8.5 2.5l-.94 2.06-2.06.94zm10 10l.94 2.06.94-2.06 2.06-.94-2.06-.94-.94-2.06-.94 2.06-2.06.94z\"/><path d=\"M17.41 7.96l-1.37-1.37c-.4-.4-.92-.59-1.43-.59-.52 0-1.04.2-1.43.59L10.3 9.45l-7.72 7.72c-.78.78-.78 2.05 0 2.83L4 21.41c.39.39.9.59 1.41.59.51 0 1.02-.2 1.41-.59l7.78-7.78 2.81-2.81c.8-.78.8-2.07 0-2.86zM5.41 20L4 18.59l7.72-7.72 1.47 1.35L5.41 20z\"/>\n",
              "  </svg>\n",
              "      </button>\n",
              "      \n",
              "  <style>\n",
              "    .colab-df-container {\n",
              "      display:flex;\n",
              "      flex-wrap:wrap;\n",
              "      gap: 12px;\n",
              "    }\n",
              "\n",
              "    .colab-df-convert {\n",
              "      background-color: #E8F0FE;\n",
              "      border: none;\n",
              "      border-radius: 50%;\n",
              "      cursor: pointer;\n",
              "      display: none;\n",
              "      fill: #1967D2;\n",
              "      height: 32px;\n",
              "      padding: 0 0 0 0;\n",
              "      width: 32px;\n",
              "    }\n",
              "\n",
              "    .colab-df-convert:hover {\n",
              "      background-color: #E2EBFA;\n",
              "      box-shadow: 0px 1px 2px rgba(60, 64, 67, 0.3), 0px 1px 3px 1px rgba(60, 64, 67, 0.15);\n",
              "      fill: #174EA6;\n",
              "    }\n",
              "\n",
              "    [theme=dark] .colab-df-convert {\n",
              "      background-color: #3B4455;\n",
              "      fill: #D2E3FC;\n",
              "    }\n",
              "\n",
              "    [theme=dark] .colab-df-convert:hover {\n",
              "      background-color: #434B5C;\n",
              "      box-shadow: 0px 1px 3px 1px rgba(0, 0, 0, 0.15);\n",
              "      filter: drop-shadow(0px 1px 2px rgba(0, 0, 0, 0.3));\n",
              "      fill: #FFFFFF;\n",
              "    }\n",
              "  </style>\n",
              "\n",
              "      <script>\n",
              "        const buttonEl =\n",
              "          document.querySelector('#df-552b2ba1-5bc1-431a-8211-a5b1c5f0dffb button.colab-df-convert');\n",
              "        buttonEl.style.display =\n",
              "          google.colab.kernel.accessAllowed ? 'block' : 'none';\n",
              "\n",
              "        async function convertToInteractive(key) {\n",
              "          const element = document.querySelector('#df-552b2ba1-5bc1-431a-8211-a5b1c5f0dffb');\n",
              "          const dataTable =\n",
              "            await google.colab.kernel.invokeFunction('convertToInteractive',\n",
              "                                                     [key], {});\n",
              "          if (!dataTable) return;\n",
              "\n",
              "          const docLinkHtml = 'Like what you see? Visit the ' +\n",
              "            '<a target=\"_blank\" href=https://colab.research.google.com/notebooks/data_table.ipynb>data table notebook</a>'\n",
              "            + ' to learn more about interactive tables.';\n",
              "          element.innerHTML = '';\n",
              "          dataTable['output_type'] = 'display_data';\n",
              "          await google.colab.output.renderOutput(dataTable, element);\n",
              "          const docLink = document.createElement('div');\n",
              "          docLink.innerHTML = docLinkHtml;\n",
              "          element.appendChild(docLink);\n",
              "        }\n",
              "      </script>\n",
              "    </div>\n",
              "  </div>\n",
              "  "
            ]
          },
          "metadata": {},
          "execution_count": 151
        }
      ]
    },
    {
      "cell_type": "code",
      "metadata": {
        "colab": {
          "base_uri": "https://localhost:8080/",
          "height": 99
        },
        "id": "EfLoc0v-q4NN",
        "outputId": "de3ef70a-ac65-4176-93f2-5197acf641d9"
      },
      "source": [
        "scores_df =pd.DataFrame(scores)\n",
        "scores_df.columns  = modelos\n",
        "print('Medias de MSE')\n",
        "pd.DataFrame(scores_df.mean()).T\n"
      ],
      "execution_count": 152,
      "outputs": [
        {
          "output_type": "stream",
          "name": "stdout",
          "text": [
            "Medias de MSE\n"
          ]
        },
        {
          "output_type": "execute_result",
          "data": {
            "text/plain": [
              "     RegLog       KNN      Tree    F.Rand       LDA       SVM\n",
              "0  0.274906  0.311027  0.280089  0.315744  0.273022  0.278359"
            ],
            "text/html": [
              "\n",
              "  <div id=\"df-8b2d33e7-15d6-4463-aaeb-0cfade718ed6\">\n",
              "    <div class=\"colab-df-container\">\n",
              "      <div>\n",
              "<style scoped>\n",
              "    .dataframe tbody tr th:only-of-type {\n",
              "        vertical-align: middle;\n",
              "    }\n",
              "\n",
              "    .dataframe tbody tr th {\n",
              "        vertical-align: top;\n",
              "    }\n",
              "\n",
              "    .dataframe thead th {\n",
              "        text-align: right;\n",
              "    }\n",
              "</style>\n",
              "<table border=\"1\" class=\"dataframe\">\n",
              "  <thead>\n",
              "    <tr style=\"text-align: right;\">\n",
              "      <th></th>\n",
              "      <th>RegLog</th>\n",
              "      <th>KNN</th>\n",
              "      <th>Tree</th>\n",
              "      <th>F.Rand</th>\n",
              "      <th>LDA</th>\n",
              "      <th>SVM</th>\n",
              "    </tr>\n",
              "  </thead>\n",
              "  <tbody>\n",
              "    <tr>\n",
              "      <th>0</th>\n",
              "      <td>0.274906</td>\n",
              "      <td>0.311027</td>\n",
              "      <td>0.280089</td>\n",
              "      <td>0.315744</td>\n",
              "      <td>0.273022</td>\n",
              "      <td>0.278359</td>\n",
              "    </tr>\n",
              "  </tbody>\n",
              "</table>\n",
              "</div>\n",
              "      <button class=\"colab-df-convert\" onclick=\"convertToInteractive('df-8b2d33e7-15d6-4463-aaeb-0cfade718ed6')\"\n",
              "              title=\"Convert this dataframe to an interactive table.\"\n",
              "              style=\"display:none;\">\n",
              "        \n",
              "  <svg xmlns=\"http://www.w3.org/2000/svg\" height=\"24px\"viewBox=\"0 0 24 24\"\n",
              "       width=\"24px\">\n",
              "    <path d=\"M0 0h24v24H0V0z\" fill=\"none\"/>\n",
              "    <path d=\"M18.56 5.44l.94 2.06.94-2.06 2.06-.94-2.06-.94-.94-2.06-.94 2.06-2.06.94zm-11 1L8.5 8.5l.94-2.06 2.06-.94-2.06-.94L8.5 2.5l-.94 2.06-2.06.94zm10 10l.94 2.06.94-2.06 2.06-.94-2.06-.94-.94-2.06-.94 2.06-2.06.94z\"/><path d=\"M17.41 7.96l-1.37-1.37c-.4-.4-.92-.59-1.43-.59-.52 0-1.04.2-1.43.59L10.3 9.45l-7.72 7.72c-.78.78-.78 2.05 0 2.83L4 21.41c.39.39.9.59 1.41.59.51 0 1.02-.2 1.41-.59l7.78-7.78 2.81-2.81c.8-.78.8-2.07 0-2.86zM5.41 20L4 18.59l7.72-7.72 1.47 1.35L5.41 20z\"/>\n",
              "  </svg>\n",
              "      </button>\n",
              "      \n",
              "  <style>\n",
              "    .colab-df-container {\n",
              "      display:flex;\n",
              "      flex-wrap:wrap;\n",
              "      gap: 12px;\n",
              "    }\n",
              "\n",
              "    .colab-df-convert {\n",
              "      background-color: #E8F0FE;\n",
              "      border: none;\n",
              "      border-radius: 50%;\n",
              "      cursor: pointer;\n",
              "      display: none;\n",
              "      fill: #1967D2;\n",
              "      height: 32px;\n",
              "      padding: 0 0 0 0;\n",
              "      width: 32px;\n",
              "    }\n",
              "\n",
              "    .colab-df-convert:hover {\n",
              "      background-color: #E2EBFA;\n",
              "      box-shadow: 0px 1px 2px rgba(60, 64, 67, 0.3), 0px 1px 3px 1px rgba(60, 64, 67, 0.15);\n",
              "      fill: #174EA6;\n",
              "    }\n",
              "\n",
              "    [theme=dark] .colab-df-convert {\n",
              "      background-color: #3B4455;\n",
              "      fill: #D2E3FC;\n",
              "    }\n",
              "\n",
              "    [theme=dark] .colab-df-convert:hover {\n",
              "      background-color: #434B5C;\n",
              "      box-shadow: 0px 1px 3px 1px rgba(0, 0, 0, 0.15);\n",
              "      filter: drop-shadow(0px 1px 2px rgba(0, 0, 0, 0.3));\n",
              "      fill: #FFFFFF;\n",
              "    }\n",
              "  </style>\n",
              "\n",
              "      <script>\n",
              "        const buttonEl =\n",
              "          document.querySelector('#df-8b2d33e7-15d6-4463-aaeb-0cfade718ed6 button.colab-df-convert');\n",
              "        buttonEl.style.display =\n",
              "          google.colab.kernel.accessAllowed ? 'block' : 'none';\n",
              "\n",
              "        async function convertToInteractive(key) {\n",
              "          const element = document.querySelector('#df-8b2d33e7-15d6-4463-aaeb-0cfade718ed6');\n",
              "          const dataTable =\n",
              "            await google.colab.kernel.invokeFunction('convertToInteractive',\n",
              "                                                     [key], {});\n",
              "          if (!dataTable) return;\n",
              "\n",
              "          const docLinkHtml = 'Like what you see? Visit the ' +\n",
              "            '<a target=\"_blank\" href=https://colab.research.google.com/notebooks/data_table.ipynb>data table notebook</a>'\n",
              "            + ' to learn more about interactive tables.';\n",
              "          element.innerHTML = '';\n",
              "          dataTable['output_type'] = 'display_data';\n",
              "          await google.colab.output.renderOutput(dataTable, element);\n",
              "          const docLink = document.createElement('div');\n",
              "          docLink.innerHTML = docLinkHtml;\n",
              "          element.appendChild(docLink);\n",
              "        }\n",
              "      </script>\n",
              "    </div>\n",
              "  </div>\n",
              "  "
            ]
          },
          "metadata": {},
          "execution_count": 152
        }
      ]
    },
    {
      "cell_type": "markdown",
      "metadata": {
        "id": "gbOV1G6hZHi2"
      },
      "source": [
        "**CONCLUSAO FINAL**\n",
        "\n",
        "*Os melhores modelos paracem ser Regressao Logistica, Arvore de Descisao, LDA e SVM, com MSE da ordem de 0.27 e sem diferenca estatatiscamente significativa entre eles. Os que obtiveram um MSE pior, supoerior a 0.30 foram o KNN e a Floresta Randomica.* "
      ]
    },
    {
      "cell_type": "code",
      "metadata": {
        "colab": {
          "base_uri": "https://localhost:8080/",
          "height": 381
        },
        "id": "JlUpXAQZoJKy",
        "outputId": "3c76eb86-8eb9-4906-ae21-96ca7cadedf7"
      },
      "source": [
        "print('Historico (por fold) de Medias dos MSEs')\n",
        "scores_df"
      ],
      "execution_count": 153,
      "outputs": [
        {
          "output_type": "stream",
          "name": "stdout",
          "text": [
            "Historico (por fold) de Medias dos MSEs\n"
          ]
        },
        {
          "output_type": "execute_result",
          "data": {
            "text/plain": [
              "     RegLog       KNN      Tree    F.Rand       LDA       SVM\n",
              "0  0.244898  0.282575  0.252747  0.306122  0.238619  0.259027\n",
              "1  0.298273  0.350078  0.282575  0.353218  0.295133  0.291994\n",
              "2  0.270016  0.317111  0.285714  0.312402  0.268446  0.277865\n",
              "3  0.263736  0.313972  0.259027  0.279435  0.260597  0.263736\n",
              "4  0.265306  0.302983  0.266876  0.299843  0.260597  0.273155\n",
              "5  0.255887  0.301413  0.287284  0.317111  0.259027  0.270016\n",
              "6  0.270440  0.292453  0.265723  0.309748  0.276730  0.265723\n",
              "7  0.284591  0.311321  0.295597  0.323899  0.284591  0.279874\n",
              "8  0.303459  0.316038  0.298742  0.331761  0.298742  0.303459\n",
              "9  0.292453  0.322327  0.306604  0.323899  0.287736  0.298742"
            ],
            "text/html": [
              "\n",
              "  <div id=\"df-68309787-d2eb-4864-8482-47c082d981d0\">\n",
              "    <div class=\"colab-df-container\">\n",
              "      <div>\n",
              "<style scoped>\n",
              "    .dataframe tbody tr th:only-of-type {\n",
              "        vertical-align: middle;\n",
              "    }\n",
              "\n",
              "    .dataframe tbody tr th {\n",
              "        vertical-align: top;\n",
              "    }\n",
              "\n",
              "    .dataframe thead th {\n",
              "        text-align: right;\n",
              "    }\n",
              "</style>\n",
              "<table border=\"1\" class=\"dataframe\">\n",
              "  <thead>\n",
              "    <tr style=\"text-align: right;\">\n",
              "      <th></th>\n",
              "      <th>RegLog</th>\n",
              "      <th>KNN</th>\n",
              "      <th>Tree</th>\n",
              "      <th>F.Rand</th>\n",
              "      <th>LDA</th>\n",
              "      <th>SVM</th>\n",
              "    </tr>\n",
              "  </thead>\n",
              "  <tbody>\n",
              "    <tr>\n",
              "      <th>0</th>\n",
              "      <td>0.244898</td>\n",
              "      <td>0.282575</td>\n",
              "      <td>0.252747</td>\n",
              "      <td>0.306122</td>\n",
              "      <td>0.238619</td>\n",
              "      <td>0.259027</td>\n",
              "    </tr>\n",
              "    <tr>\n",
              "      <th>1</th>\n",
              "      <td>0.298273</td>\n",
              "      <td>0.350078</td>\n",
              "      <td>0.282575</td>\n",
              "      <td>0.353218</td>\n",
              "      <td>0.295133</td>\n",
              "      <td>0.291994</td>\n",
              "    </tr>\n",
              "    <tr>\n",
              "      <th>2</th>\n",
              "      <td>0.270016</td>\n",
              "      <td>0.317111</td>\n",
              "      <td>0.285714</td>\n",
              "      <td>0.312402</td>\n",
              "      <td>0.268446</td>\n",
              "      <td>0.277865</td>\n",
              "    </tr>\n",
              "    <tr>\n",
              "      <th>3</th>\n",
              "      <td>0.263736</td>\n",
              "      <td>0.313972</td>\n",
              "      <td>0.259027</td>\n",
              "      <td>0.279435</td>\n",
              "      <td>0.260597</td>\n",
              "      <td>0.263736</td>\n",
              "    </tr>\n",
              "    <tr>\n",
              "      <th>4</th>\n",
              "      <td>0.265306</td>\n",
              "      <td>0.302983</td>\n",
              "      <td>0.266876</td>\n",
              "      <td>0.299843</td>\n",
              "      <td>0.260597</td>\n",
              "      <td>0.273155</td>\n",
              "    </tr>\n",
              "    <tr>\n",
              "      <th>5</th>\n",
              "      <td>0.255887</td>\n",
              "      <td>0.301413</td>\n",
              "      <td>0.287284</td>\n",
              "      <td>0.317111</td>\n",
              "      <td>0.259027</td>\n",
              "      <td>0.270016</td>\n",
              "    </tr>\n",
              "    <tr>\n",
              "      <th>6</th>\n",
              "      <td>0.270440</td>\n",
              "      <td>0.292453</td>\n",
              "      <td>0.265723</td>\n",
              "      <td>0.309748</td>\n",
              "      <td>0.276730</td>\n",
              "      <td>0.265723</td>\n",
              "    </tr>\n",
              "    <tr>\n",
              "      <th>7</th>\n",
              "      <td>0.284591</td>\n",
              "      <td>0.311321</td>\n",
              "      <td>0.295597</td>\n",
              "      <td>0.323899</td>\n",
              "      <td>0.284591</td>\n",
              "      <td>0.279874</td>\n",
              "    </tr>\n",
              "    <tr>\n",
              "      <th>8</th>\n",
              "      <td>0.303459</td>\n",
              "      <td>0.316038</td>\n",
              "      <td>0.298742</td>\n",
              "      <td>0.331761</td>\n",
              "      <td>0.298742</td>\n",
              "      <td>0.303459</td>\n",
              "    </tr>\n",
              "    <tr>\n",
              "      <th>9</th>\n",
              "      <td>0.292453</td>\n",
              "      <td>0.322327</td>\n",
              "      <td>0.306604</td>\n",
              "      <td>0.323899</td>\n",
              "      <td>0.287736</td>\n",
              "      <td>0.298742</td>\n",
              "    </tr>\n",
              "  </tbody>\n",
              "</table>\n",
              "</div>\n",
              "      <button class=\"colab-df-convert\" onclick=\"convertToInteractive('df-68309787-d2eb-4864-8482-47c082d981d0')\"\n",
              "              title=\"Convert this dataframe to an interactive table.\"\n",
              "              style=\"display:none;\">\n",
              "        \n",
              "  <svg xmlns=\"http://www.w3.org/2000/svg\" height=\"24px\"viewBox=\"0 0 24 24\"\n",
              "       width=\"24px\">\n",
              "    <path d=\"M0 0h24v24H0V0z\" fill=\"none\"/>\n",
              "    <path d=\"M18.56 5.44l.94 2.06.94-2.06 2.06-.94-2.06-.94-.94-2.06-.94 2.06-2.06.94zm-11 1L8.5 8.5l.94-2.06 2.06-.94-2.06-.94L8.5 2.5l-.94 2.06-2.06.94zm10 10l.94 2.06.94-2.06 2.06-.94-2.06-.94-.94-2.06-.94 2.06-2.06.94z\"/><path d=\"M17.41 7.96l-1.37-1.37c-.4-.4-.92-.59-1.43-.59-.52 0-1.04.2-1.43.59L10.3 9.45l-7.72 7.72c-.78.78-.78 2.05 0 2.83L4 21.41c.39.39.9.59 1.41.59.51 0 1.02-.2 1.41-.59l7.78-7.78 2.81-2.81c.8-.78.8-2.07 0-2.86zM5.41 20L4 18.59l7.72-7.72 1.47 1.35L5.41 20z\"/>\n",
              "  </svg>\n",
              "      </button>\n",
              "      \n",
              "  <style>\n",
              "    .colab-df-container {\n",
              "      display:flex;\n",
              "      flex-wrap:wrap;\n",
              "      gap: 12px;\n",
              "    }\n",
              "\n",
              "    .colab-df-convert {\n",
              "      background-color: #E8F0FE;\n",
              "      border: none;\n",
              "      border-radius: 50%;\n",
              "      cursor: pointer;\n",
              "      display: none;\n",
              "      fill: #1967D2;\n",
              "      height: 32px;\n",
              "      padding: 0 0 0 0;\n",
              "      width: 32px;\n",
              "    }\n",
              "\n",
              "    .colab-df-convert:hover {\n",
              "      background-color: #E2EBFA;\n",
              "      box-shadow: 0px 1px 2px rgba(60, 64, 67, 0.3), 0px 1px 3px 1px rgba(60, 64, 67, 0.15);\n",
              "      fill: #174EA6;\n",
              "    }\n",
              "\n",
              "    [theme=dark] .colab-df-convert {\n",
              "      background-color: #3B4455;\n",
              "      fill: #D2E3FC;\n",
              "    }\n",
              "\n",
              "    [theme=dark] .colab-df-convert:hover {\n",
              "      background-color: #434B5C;\n",
              "      box-shadow: 0px 1px 3px 1px rgba(0, 0, 0, 0.15);\n",
              "      filter: drop-shadow(0px 1px 2px rgba(0, 0, 0, 0.3));\n",
              "      fill: #FFFFFF;\n",
              "    }\n",
              "  </style>\n",
              "\n",
              "      <script>\n",
              "        const buttonEl =\n",
              "          document.querySelector('#df-68309787-d2eb-4864-8482-47c082d981d0 button.colab-df-convert');\n",
              "        buttonEl.style.display =\n",
              "          google.colab.kernel.accessAllowed ? 'block' : 'none';\n",
              "\n",
              "        async function convertToInteractive(key) {\n",
              "          const element = document.querySelector('#df-68309787-d2eb-4864-8482-47c082d981d0');\n",
              "          const dataTable =\n",
              "            await google.colab.kernel.invokeFunction('convertToInteractive',\n",
              "                                                     [key], {});\n",
              "          if (!dataTable) return;\n",
              "\n",
              "          const docLinkHtml = 'Like what you see? Visit the ' +\n",
              "            '<a target=\"_blank\" href=https://colab.research.google.com/notebooks/data_table.ipynb>data table notebook</a>'\n",
              "            + ' to learn more about interactive tables.';\n",
              "          element.innerHTML = '';\n",
              "          dataTable['output_type'] = 'display_data';\n",
              "          await google.colab.output.renderOutput(dataTable, element);\n",
              "          const docLink = document.createElement('div');\n",
              "          docLink.innerHTML = docLinkHtml;\n",
              "          element.appendChild(docLink);\n",
              "        }\n",
              "      </script>\n",
              "    </div>\n",
              "  </div>\n",
              "  "
            ]
          },
          "metadata": {},
          "execution_count": 153
        }
      ]
    },
    {
      "cell_type": "markdown",
      "metadata": {
        "id": "3oOgutTff3q8"
      },
      "source": [
        "# Apendice"
      ]
    },
    {
      "cell_type": "code",
      "metadata": {
        "colab": {
          "base_uri": "https://localhost:8080/",
          "height": 459
        },
        "id": "lHAck98_cgS_",
        "outputId": "32cc447d-803e-4c6a-815e-48b8f25c6553"
      },
      "source": [
        "\n",
        "from pandas import DataFrame, crosstab, Series\n",
        "yy=[0,0,0,0,0,1,1,1,1,1]\n",
        "pp=[1,1,1,1,0,1,1,1,0,0]\n",
        "print(confusion_matrix(yy, pp))\n",
        "cm=DataFrame(confusion_matrix(yy, pp))\n",
        "cm.columns=['prev_0','prev_1']\n",
        "cm.index = ['y_0','y_1']\n",
        "print(cm)\n",
        "print(crosstab(Series(yy),Series(pp)))\n",
        "sns.heatmap(cm,annot=True)"
      ],
      "execution_count": 154,
      "outputs": [
        {
          "output_type": "stream",
          "name": "stdout",
          "text": [
            "[[1 4]\n",
            " [2 3]]\n",
            "     prev_0  prev_1\n",
            "y_0       1       4\n",
            "y_1       2       3\n",
            "col_0  0  1\n",
            "row_0      \n",
            "0      1  4\n",
            "1      2  3\n"
          ]
        },
        {
          "output_type": "execute_result",
          "data": {
            "text/plain": [
              "<matplotlib.axes._subplots.AxesSubplot at 0x7f3777204910>"
            ]
          },
          "metadata": {},
          "execution_count": 154
        },
        {
          "output_type": "display_data",
          "data": {
            "text/plain": [
              "<Figure size 432x288 with 2 Axes>"
            ],
            "image/png": "[encoded data removed]"
          },
          "metadata": {}
        }
      ]
    },
    {
      "cell_type": "code",
      "metadata": {
        "colab": {
          "base_uri": "https://localhost:8080/"
        },
        "id": "XLbIhknoepvk",
        "outputId": "7bd488f0-970b-4979-d580-afb4cfa41f75"
      },
      "source": [
        "cm.iloc[1,1]/(cm.iloc[1,1]+cm.iloc[0,1])"
      ],
      "execution_count": 155,
      "outputs": [
        {
          "output_type": "execute_result",
          "data": {
            "text/plain": [
              "0.42857142857142855"
            ]
          },
          "metadata": {},
          "execution_count": 155
        }
      ]
    },
    {
      "cell_type": "code",
      "metadata": {
        "colab": {
          "base_uri": "https://localhost:8080/"
        },
        "id": "XwFqgQ0qfA8t",
        "outputId": "15a288f8-6f05-46fa-93ca-1af2e5495d5f"
      },
      "source": [
        "cm.iloc[1,1]/(cm.iloc[1,1]+cm.iloc[1,0])"
      ],
      "execution_count": 156,
      "outputs": [
        {
          "output_type": "execute_result",
          "data": {
            "text/plain": [
              "0.6"
            ]
          },
          "metadata": {},
          "execution_count": 156
        }
      ]
    },
    {
      "cell_type": "code",
      "metadata": {
        "colab": {
          "base_uri": "https://localhost:8080/"
        },
        "id": "5r1y7UdddLEb",
        "outputId": "fda10623-6b89-4a9c-cbdf-78ad8f47f642"
      },
      "source": [
        "from sklearn.metrics import classification_report \n",
        "print(classification_report(yy,pp)) "
      ],
      "execution_count": 157,
      "outputs": [
        {
          "output_type": "stream",
          "name": "stdout",
          "text": [
            "              precision    recall  f1-score   support\n",
            "\n",
            "           0       0.33      0.20      0.25         5\n",
            "           1       0.43      0.60      0.50         5\n",
            "\n",
            "    accuracy                           0.40        10\n",
            "   macro avg       0.38      0.40      0.38        10\n",
            "weighted avg       0.38      0.40      0.38        10\n",
            "\n"
          ]
        }
      ]
    }
  ]
}