{
  "nbformat": 4,
  "nbformat_minor": 0,
  "metadata": {
    "colab": {
      "name": "affairs.ipynb",
      "provenance": [],
      "collapsed_sections": [
        "ewQ250cYX3XY"
      ],
      "include_colab_link": true
    },
    "kernelspec": {
      "name": "python3",
      "display_name": "Python 3"
    },
    "language_info": {
      "name": "python"
    }
  },
  "cells": [
    {
      "cell_type": "markdown",
      "metadata": {
        "id": "view-in-github",
        "colab_type": "text"
      },
      "source": [
        "<a href=\"https://colab.research.google.com/github/lcbjrrr/quant/blob/master/affairs.ipynb\" target=\"_parent\"><img src=\"https://colab.research.google.com/assets/colab-badge.svg\" alt=\"Open In Colab\"/></a>"
      ]
    },
    {
      "cell_type": "markdown",
      "metadata": {
        "id": "bOV0uE8K7r8g"
      },
      "source": [
        "# Enunciado"
      ]
    },
    {
      "cell_type": "markdown",
      "metadata": {
        "id": "fCvHca1r0QzT"
      },
      "source": [
        "A atividade a ser desenvolvida no Colab deve conter as seguintes seções\n",
        "\n",
        ">  Introdução\n",
        "    - descreva os dados que serão analisados\n",
        "    - detalhe qual será o foco do processo de classificação\n",
        "\n",
        "> Regressão Logística\n",
        "   - Apresentar a regressão logística simples para diferentes preditores\n",
        "   - Sugestão de discussão: sinal do coeficiente de algum preditor mudou? Em caso afirmativo, apresente uma análise da motivação dessa modificação. Em caso negativo, análise o fato de poder remover algum dos preditores da regressão \\múltipla e ainda continuar com um modelo aceitável.\n",
        "\n",
        "   Individual: no mínimo 3 preditores\n",
        "   Dupla: no mínimo 4 preditores\n",
        "   Trio: no mínimo 5 preditores\n",
        "\n",
        "   Justifique os preditores selecionados para iniciar a regressão logística \n",
        "\n",
        "> K-NN\n",
        "   - Apresentar K-NN para diferentes combinações entre métrica e número de vizinhos\n",
        "   - Sugestão de discussão: a influência do número de vizinhos é significativa? a métrica influencia os resultados?\n",
        "\n",
        "   Individual: no mínimo 3 combinações\n",
        "   Dupla: no mínimo 5 combinações\n",
        "   Trio: no mínimo 7 combinações\n",
        "\n",
        "> Árvore de decisão\n",
        "   - Apresentar árvores de decisão para diferentes combinações entre profundidade e número máximo de folhas\n",
        "   - Sugestão de discussão: qual a influência nos resultados quanto a número de folhas e profundidade?\n",
        "\n",
        "   Individual: no mínimo 3 combinações\n",
        "   Dupla: no mínimo 5 combinações\n",
        "   Trio: no mínimo 7 combinações\n",
        "\n",
        "> Floresta aleatória\n",
        "   - Apresentar florestas aleatórias para diferentes combinações entre profundidade, número máximo de folhas, número de árvores e número de preditores\n",
        "   - Faça análise do “out of bag error”\n",
        "   - Sugestão de discussão: qual a influência nos resultados quanto a número de preditores?\n",
        "\n",
        "   Individual: no mínimo 4 combinações\n",
        "   Dupla: no mínimo 6 combinações\n",
        "   Trio: no mínimo 8 combinações\n",
        "\n",
        "> LDA\n",
        "   - Apresentar LDA para diferentes threshold\n",
        "   - Sugestão de discussão: há uma melhora com a variação do threshold?\n",
        "\n",
        "   Individual: no mínimo 2 valores de threshold\n",
        "   Dupla: no mínimo 3 valores de threshold\n",
        "   Trio: no mínimo 4 valores de threshold\n",
        "\n",
        "> SVM\n",
        "   - Apresentar SVM para diferentes combinações de kernels, C e Gamma\n",
        "   - Sugestão de discussão: qual a influência nos resultados quanto aos kenels, C e Gamma\n",
        "\n",
        "   Individual: no mínimo 4 combinações\n",
        "   Dupla: no mínimo 6 combinações\n",
        "   Trio: no mínimo 8 combinações\n",
        "\n",
        "> Comparação entre os modelos\n",
        "   - além da comparação, apresente as vantagens e desvantagens nos algoritmos utilizados\n",
        "\n",
        "> Conclusão, Considerações finais, Dificuldades e Desafios\n",
        "   - os modelos de classificação abordados foram relevantes?\n",
        "   - quais as dificuldades encontradas e desafios superados para o desenvolvimento da atividade\n",
        "\n",
        "> Referência\n",
        "   - artigos, livros, sites e outras fontes utilizadas \n",
        "   - seguir o padrão ABNT\n",
        "\n",
        "ATENÇÃO\n",
        "- TODAS as seções acima citadas devem estar presentes, seja no Colab ou em outro arquivo anexo (pdf, doc, ppt)\n",
        "- TODO método de classificação deve ser acompanhado de discussão"
      ]
    },
    {
      "cell_type": "markdown",
      "metadata": {
        "id": "kNbi_7WD7rB9"
      },
      "source": [
        "# Base de Dados"
      ]
    },
    {
      "cell_type": "markdown",
      "metadata": {
        "id": "B-02-rPX7ycW"
      },
      "source": [
        "A base de dados analisados indica um cadastro de mulheres com uma serie de atributos que tiveram um caso extra conjugal, identificado pela variavel **Had_Affair**. Veja detalhes dos demais campos abaixo.\n",
        "- rate_marriage: nota de 1 a 5 para a satisfacao da mulher em seu casamento\n",
        "- age: idade\n",
        "- yrs_married: tempo de casada\t\n",
        "- children:\tquantidade de filhos\n",
        "- religious: nivel de religiosidade, sendo 1 nenhum e 5 maximo. \t\n",
        "- educ: numero de anos de educacao formal\n",
        "-\toccupation:\tprofissao, sendo 1 = estudante, 2 = agricultura, 3 = executivo; 4 = professor; 5 = administrador; e 6 = profissional com grau avançado de estudo\n",
        "- occupation_husb: profissao do marido\t\n",
        "- Had_Affair: label categorico, 0 ou 1, indicando se teve um caso ou nao"
      ]
    },
    {
      "cell_type": "markdown",
      "metadata": {
        "id": "L_eIMzH34xqX"
      },
      "source": [
        "<img src=\"https://pbs.twimg.com/media/E4RVBnoWQAEm_yX?format=jpg&name=medium\" alt=\"drawing\" width=\"400\"/>\n"
      ]
    },
    {
      "cell_type": "code",
      "metadata": {
        "colab": {
          "base_uri": "https://localhost:8080/",
          "height": 268
        },
        "id": "H4_CDspWh8mW",
        "outputId": "fc80b686-e61d-464f-e646-4117bd6b5a60"
      },
      "source": [
        "import pandas as pd\n",
        "df=pd.read_csv('http://quant-ibmec.group/data/affairs.csv')\n",
        "df['Had_Affair'] = df['affair'].map({True:1,False:0})\n",
        "df.drop(['Unnamed: 0','affair'],axis=1,inplace=True)\n",
        "print(df.shape)\n",
        "print(df['Had_Affair'].value_counts())\n",
        "df.head()"
      ],
      "execution_count": 1,
      "outputs": [
        {
          "output_type": "stream",
          "text": [
            "(6366, 9)\n",
            "0    4313\n",
            "1    2053\n",
            "Name: Had_Affair, dtype: int64\n"
          ],
          "name": "stdout"
        },
        {
          "output_type": "execute_result",
          "data": {
            "text/html": [
              "<div>\n",
              "<style scoped>\n",
              "    .dataframe tbody tr th:only-of-type {\n",
              "        vertical-align: middle;\n",
              "    }\n",
              "\n",
              "    .dataframe tbody tr th {\n",
              "        vertical-align: top;\n",
              "    }\n",
              "\n",
              "    .dataframe thead th {\n",
              "        text-align: right;\n",
              "    }\n",
              "</style>\n",
              "<table border=\"1\" class=\"dataframe\">\n",
              "  <thead>\n",
              "    <tr style=\"text-align: right;\">\n",
              "      <th></th>\n",
              "      <th>rate_marriage</th>\n",
              "      <th>age</th>\n",
              "      <th>yrs_married</th>\n",
              "      <th>children</th>\n",
              "      <th>religious</th>\n",
              "      <th>educ</th>\n",
              "      <th>occupation</th>\n",
              "      <th>occupation_husb</th>\n",
              "      <th>Had_Affair</th>\n",
              "    </tr>\n",
              "  </thead>\n",
              "  <tbody>\n",
              "    <tr>\n",
              "      <th>0</th>\n",
              "      <td>3.0</td>\n",
              "      <td>32.0</td>\n",
              "      <td>9.0</td>\n",
              "      <td>3.0</td>\n",
              "      <td>3.0</td>\n",
              "      <td>17.0</td>\n",
              "      <td>2.0</td>\n",
              "      <td>5.0</td>\n",
              "      <td>1</td>\n",
              "    </tr>\n",
              "    <tr>\n",
              "      <th>1</th>\n",
              "      <td>3.0</td>\n",
              "      <td>27.0</td>\n",
              "      <td>13.0</td>\n",
              "      <td>3.0</td>\n",
              "      <td>1.0</td>\n",
              "      <td>14.0</td>\n",
              "      <td>3.0</td>\n",
              "      <td>4.0</td>\n",
              "      <td>1</td>\n",
              "    </tr>\n",
              "    <tr>\n",
              "      <th>2</th>\n",
              "      <td>4.0</td>\n",
              "      <td>22.0</td>\n",
              "      <td>2.5</td>\n",
              "      <td>0.0</td>\n",
              "      <td>1.0</td>\n",
              "      <td>16.0</td>\n",
              "      <td>3.0</td>\n",
              "      <td>5.0</td>\n",
              "      <td>1</td>\n",
              "    </tr>\n",
              "    <tr>\n",
              "      <th>3</th>\n",
              "      <td>4.0</td>\n",
              "      <td>37.0</td>\n",
              "      <td>16.5</td>\n",
              "      <td>4.0</td>\n",
              "      <td>3.0</td>\n",
              "      <td>16.0</td>\n",
              "      <td>5.0</td>\n",
              "      <td>5.0</td>\n",
              "      <td>1</td>\n",
              "    </tr>\n",
              "    <tr>\n",
              "      <th>4</th>\n",
              "      <td>5.0</td>\n",
              "      <td>27.0</td>\n",
              "      <td>9.0</td>\n",
              "      <td>1.0</td>\n",
              "      <td>1.0</td>\n",
              "      <td>14.0</td>\n",
              "      <td>3.0</td>\n",
              "      <td>4.0</td>\n",
              "      <td>1</td>\n",
              "    </tr>\n",
              "  </tbody>\n",
              "</table>\n",
              "</div>"
            ],
            "text/plain": [
              "   rate_marriage   age  yrs_married  ...  occupation  occupation_husb  Had_Affair\n",
              "0            3.0  32.0          9.0  ...         2.0              5.0           1\n",
              "1            3.0  27.0         13.0  ...         3.0              4.0           1\n",
              "2            4.0  22.0          2.5  ...         3.0              5.0           1\n",
              "3            4.0  37.0         16.5  ...         5.0              5.0           1\n",
              "4            5.0  27.0          9.0  ...         3.0              4.0           1\n",
              "\n",
              "[5 rows x 9 columns]"
            ]
          },
          "metadata": {
            "tags": []
          },
          "execution_count": 1
        }
      ]
    },
    {
      "cell_type": "markdown",
      "metadata": {
        "id": "KqLdUeyeD8mN"
      },
      "source": [
        "**Análise**\n",
        "\n",
        "Vemos a estrutura dos dados e principalmente que as classes estao balancedas, sendo cerca de 2/3 da mulheres que nao tiveram um caso, 4313 e aproximadamente 1/3, 2053, que tiveram."
      ]
    },
    {
      "cell_type": "markdown",
      "metadata": {
        "id": "KH1DufkM97dX"
      },
      "source": [
        "# Análise Inicial"
      ]
    },
    {
      "cell_type": "markdown",
      "metadata": {
        "id": "8EQCAE_-_X8c"
      },
      "source": [
        "Nesta secao vamos realizar uma analise previa da relacao de algumas variaveis antes mesmo de simular modelos nas secoes seguintes"
      ]
    },
    {
      "cell_type": "code",
      "metadata": {
        "colab": {
          "base_uri": "https://localhost:8080/",
          "height": 442
        },
        "id": "rUVxWQbgiNcM",
        "outputId": "c45e02cc-dc0f-4e8c-b976-1d149a793c0a"
      },
      "source": [
        "\n",
        "caso_por_idade = df.pivot_table(index='age', values='rate_marriage',columns='Had_Affair', aggfunc='count')\n",
        "print(caso_por_idade)\n",
        "caso_por_idade.plot(kind='bar')"
      ],
      "execution_count": 2,
      "outputs": [
        {
          "output_type": "stream",
          "text": [
            "Had_Affair     0    1\n",
            "age                  \n",
            "17.5         126   13\n",
            "22.0        1394  406\n",
            "27.0        1298  633\n",
            "32.0         644  425\n",
            "37.0         364  270\n",
            "42.0         487  306\n"
          ],
          "name": "stdout"
        },
        {
          "output_type": "execute_result",
          "data": {
            "text/plain": [
              "<matplotlib.axes._subplots.AxesSubplot at 0x7f78c591eed0>"
            ]
          },
          "metadata": {
            "tags": []
          },
          "execution_count": 2
        },
        {
          "output_type": "display_data",
          "data": {
            "image/png": "[encoded data removed]",
            "text/plain": [
              "<Figure size 432x288 with 1 Axes>"
            ]
          },
          "metadata": {
            "tags": [],
            "needs_background": "light"
          }
        }
      ]
    },
    {
      "cell_type": "markdown",
      "metadata": {
        "id": "S4kgp3ff-B7w"
      },
      "source": [
        "**Análise**\n",
        "\n",
        "Pelo gráfico de barras acima, temos a percepção que idade parece ser um fator de influência na classificação de traição, em particular para as mais jovens, de 17 a 27 anos sao MENOS propensos a trair. Para as idades acima de 27, a propensão se equilibra"
      ]
    },
    {
      "cell_type": "code",
      "metadata": {
        "colab": {
          "base_uri": "https://localhost:8080/",
          "height": 460
        },
        "id": "lklW6aSenYek",
        "outputId": "7affea54-fd0e-4990-cba8-68de4a674047"
      },
      "source": [
        "caso_por_idade = df.pivot_table(index='yrs_married', values='rate_marriage',columns='Had_Affair', aggfunc='count')\n",
        "print(caso_por_idade)\n",
        "caso_por_idade.plot(kind='bar')"
      ],
      "execution_count": 3,
      "outputs": [
        {
          "output_type": "stream",
          "text": [
            "Had_Affair      0    1\n",
            "yrs_married           \n",
            "0.5           354   16\n",
            "2.5          1595  439\n",
            "6.0           754  387\n",
            "9.0           348  254\n",
            "13.0          347  243\n",
            "16.5          449  369\n",
            "23.0          466  345\n"
          ],
          "name": "stdout"
        },
        {
          "output_type": "execute_result",
          "data": {
            "text/plain": [
              "<matplotlib.axes._subplots.AxesSubplot at 0x7f78c5839c50>"
            ]
          },
          "metadata": {
            "tags": []
          },
          "execution_count": 3
        },
        {
          "output_type": "display_data",
          "data": {
            "image/png": "[encoded data removed]",
            "text/plain": [
              "<Figure size 432x288 with 1 Axes>"
            ]
          },
          "metadata": {
            "tags": [],
            "needs_background": "light"
          }
        }
      ]
    },
    {
      "cell_type": "markdown",
      "metadata": {
        "id": "FYqoS3HN-UN6"
      },
      "source": [
        "**Análise**\n",
        "\n",
        "Tempo de casada tambem parece ser um fator, as mulheres com menos tempos de casada, 2.5 a 6 anos parecem ser MENOS propensas se envolver em um caso extra conjugal. E para as casadas a mais de 6 anos a propensao se equilibra"
      ]
    },
    {
      "cell_type": "code",
      "metadata": {
        "colab": {
          "base_uri": "https://localhost:8080/",
          "height": 439
        },
        "id": "_EqQonUXnf1E",
        "outputId": "1aa7016c-fcd3-4353-ba0d-3f7f6efeac54"
      },
      "source": [
        "caso_por_idade = df.pivot_table(index='children', values='rate_marriage',columns='Had_Affair', aggfunc='count')\n",
        "print(caso_por_idade)\n",
        "caso_por_idade.plot(kind='bar')"
      ],
      "execution_count": 4,
      "outputs": [
        {
          "output_type": "stream",
          "text": [
            "Had_Affair     0    1\n",
            "children             \n",
            "0.0         1912  502\n",
            "1.0          747  412\n",
            "2.0          873  608\n",
            "3.0          460  321\n",
            "4.0          197  131\n",
            "5.5          124   79\n"
          ],
          "name": "stdout"
        },
        {
          "output_type": "execute_result",
          "data": {
            "text/plain": [
              "<matplotlib.axes._subplots.AxesSubplot at 0x7f78c532b090>"
            ]
          },
          "metadata": {
            "tags": []
          },
          "execution_count": 4
        },
        {
          "output_type": "display_data",
          "data": {
            "image/png": "[encoded data removed]",
            "text/plain": [
              "<Figure size 432x288 with 1 Axes>"
            ]
          },
          "metadata": {
            "tags": [],
            "needs_background": "light"
          }
        }
      ]
    },
    {
      "cell_type": "markdown",
      "metadata": {
        "id": "87nruf72-n6E"
      },
      "source": [
        "**Análise**\n",
        "\n",
        "O fato de ser uma familia ja com filhos parece ser um fator na inibição de traição. As mulheres que tem ao menos um filho tem uma propensão equivalente em ter ou nao ter um caso extra conjugal. Ja as mulheres sem filho tem um propensão muito MENOR com relação a traição. A hipotose inicial é que o casal sem filhos, foca sua atenção no relacionamento."
      ]
    },
    {
      "cell_type": "code",
      "metadata": {
        "colab": {
          "base_uri": "https://localhost:8080/",
          "height": 419
        },
        "id": "6w5IT9GQRmdA",
        "outputId": "689ef839-2576-4592-8d02-e0286a619a5f"
      },
      "source": [
        "caso_por_nota = df.pivot_table(index='rate_marriage', values='children',columns='Had_Affair', aggfunc='count')\n",
        "print(caso_por_nota)\n",
        "caso_por_nota.plot(kind='bar')"
      ],
      "execution_count": 5,
      "outputs": [
        {
          "output_type": "stream",
          "text": [
            "Had_Affair        0    1\n",
            "rate_marriage           \n",
            "1.0              25   74\n",
            "2.0             127  221\n",
            "3.0             446  547\n",
            "4.0            1518  724\n",
            "5.0            2197  487\n"
          ],
          "name": "stdout"
        },
        {
          "output_type": "execute_result",
          "data": {
            "text/plain": [
              "<matplotlib.axes._subplots.AxesSubplot at 0x7f78c52c9850>"
            ]
          },
          "metadata": {
            "tags": []
          },
          "execution_count": 5
        },
        {
          "output_type": "display_data",
          "data": {
            "image/png": "[encoded data removed]",
            "text/plain": [
              "<Figure size 432x288 with 1 Axes>"
            ]
          },
          "metadata": {
            "tags": [],
            "needs_background": "light"
          }
        }
      ]
    },
    {
      "cell_type": "markdown",
      "metadata": {
        "id": "YLtAIS4GUh6E"
      },
      "source": [
        "**Análise**\n",
        "\n",
        "Nota dada ao casamento eh a primeira feature que vemos efetivamente a tendência de traição superar a nao-traição, mais especificamente para os casos de notas <= a 3,0."
      ]
    },
    {
      "cell_type": "markdown",
      "metadata": {
        "id": "BIytSIxp_JOx"
      },
      "source": [
        "# Analise Estatistica"
      ]
    },
    {
      "cell_type": "markdown",
      "metadata": {
        "id": "jOAimizO_wJg"
      },
      "source": [
        "Dando sequencia nas analises preliminares, nesta secao vamos ver propriedades estatisticas de algumas variaveis como calculo de quartis e correlacoes"
      ]
    },
    {
      "cell_type": "code",
      "metadata": {
        "colab": {
          "base_uri": "https://localhost:8080/",
          "height": 294
        },
        "id": "uvEwuRUM_LZu",
        "outputId": "417051e6-3445-4f10-b01a-7e310c6892d8"
      },
      "source": [
        "df.describe()"
      ],
      "execution_count": 6,
      "outputs": [
        {
          "output_type": "execute_result",
          "data": {
            "text/html": [
              "<div>\n",
              "<style scoped>\n",
              "    .dataframe tbody tr th:only-of-type {\n",
              "        vertical-align: middle;\n",
              "    }\n",
              "\n",
              "    .dataframe tbody tr th {\n",
              "        vertical-align: top;\n",
              "    }\n",
              "\n",
              "    .dataframe thead th {\n",
              "        text-align: right;\n",
              "    }\n",
              "</style>\n",
              "<table border=\"1\" class=\"dataframe\">\n",
              "  <thead>\n",
              "    <tr style=\"text-align: right;\">\n",
              "      <th></th>\n",
              "      <th>rate_marriage</th>\n",
              "      <th>age</th>\n",
              "      <th>yrs_married</th>\n",
              "      <th>children</th>\n",
              "      <th>religious</th>\n",
              "      <th>educ</th>\n",
              "      <th>occupation</th>\n",
              "      <th>occupation_husb</th>\n",
              "      <th>Had_Affair</th>\n",
              "    </tr>\n",
              "  </thead>\n",
              "  <tbody>\n",
              "    <tr>\n",
              "      <th>count</th>\n",
              "      <td>6366.000000</td>\n",
              "      <td>6366.000000</td>\n",
              "      <td>6366.000000</td>\n",
              "      <td>6366.000000</td>\n",
              "      <td>6366.000000</td>\n",
              "      <td>6366.000000</td>\n",
              "      <td>6366.000000</td>\n",
              "      <td>6366.000000</td>\n",
              "      <td>6366.000000</td>\n",
              "    </tr>\n",
              "    <tr>\n",
              "      <th>mean</th>\n",
              "      <td>4.109645</td>\n",
              "      <td>29.082862</td>\n",
              "      <td>9.009425</td>\n",
              "      <td>1.396874</td>\n",
              "      <td>2.426170</td>\n",
              "      <td>14.209865</td>\n",
              "      <td>3.424128</td>\n",
              "      <td>3.850141</td>\n",
              "      <td>0.322495</td>\n",
              "    </tr>\n",
              "    <tr>\n",
              "      <th>std</th>\n",
              "      <td>0.961430</td>\n",
              "      <td>6.847882</td>\n",
              "      <td>7.280120</td>\n",
              "      <td>1.433471</td>\n",
              "      <td>0.878369</td>\n",
              "      <td>2.178003</td>\n",
              "      <td>0.942399</td>\n",
              "      <td>1.346435</td>\n",
              "      <td>0.467468</td>\n",
              "    </tr>\n",
              "    <tr>\n",
              "      <th>min</th>\n",
              "      <td>1.000000</td>\n",
              "      <td>17.500000</td>\n",
              "      <td>0.500000</td>\n",
              "      <td>0.000000</td>\n",
              "      <td>1.000000</td>\n",
              "      <td>9.000000</td>\n",
              "      <td>1.000000</td>\n",
              "      <td>1.000000</td>\n",
              "      <td>0.000000</td>\n",
              "    </tr>\n",
              "    <tr>\n",
              "      <th>25%</th>\n",
              "      <td>4.000000</td>\n",
              "      <td>22.000000</td>\n",
              "      <td>2.500000</td>\n",
              "      <td>0.000000</td>\n",
              "      <td>2.000000</td>\n",
              "      <td>12.000000</td>\n",
              "      <td>3.000000</td>\n",
              "      <td>3.000000</td>\n",
              "      <td>0.000000</td>\n",
              "    </tr>\n",
              "    <tr>\n",
              "      <th>50%</th>\n",
              "      <td>4.000000</td>\n",
              "      <td>27.000000</td>\n",
              "      <td>6.000000</td>\n",
              "      <td>1.000000</td>\n",
              "      <td>2.000000</td>\n",
              "      <td>14.000000</td>\n",
              "      <td>3.000000</td>\n",
              "      <td>4.000000</td>\n",
              "      <td>0.000000</td>\n",
              "    </tr>\n",
              "    <tr>\n",
              "      <th>75%</th>\n",
              "      <td>5.000000</td>\n",
              "      <td>32.000000</td>\n",
              "      <td>16.500000</td>\n",
              "      <td>2.000000</td>\n",
              "      <td>3.000000</td>\n",
              "      <td>16.000000</td>\n",
              "      <td>4.000000</td>\n",
              "      <td>5.000000</td>\n",
              "      <td>1.000000</td>\n",
              "    </tr>\n",
              "    <tr>\n",
              "      <th>max</th>\n",
              "      <td>5.000000</td>\n",
              "      <td>42.000000</td>\n",
              "      <td>23.000000</td>\n",
              "      <td>5.500000</td>\n",
              "      <td>4.000000</td>\n",
              "      <td>20.000000</td>\n",
              "      <td>6.000000</td>\n",
              "      <td>6.000000</td>\n",
              "      <td>1.000000</td>\n",
              "    </tr>\n",
              "  </tbody>\n",
              "</table>\n",
              "</div>"
            ],
            "text/plain": [
              "       rate_marriage          age  ...  occupation_husb   Had_Affair\n",
              "count    6366.000000  6366.000000  ...      6366.000000  6366.000000\n",
              "mean        4.109645    29.082862  ...         3.850141     0.322495\n",
              "std         0.961430     6.847882  ...         1.346435     0.467468\n",
              "min         1.000000    17.500000  ...         1.000000     0.000000\n",
              "25%         4.000000    22.000000  ...         3.000000     0.000000\n",
              "50%         4.000000    27.000000  ...         4.000000     0.000000\n",
              "75%         5.000000    32.000000  ...         5.000000     1.000000\n",
              "max         5.000000    42.000000  ...         6.000000     1.000000\n",
              "\n",
              "[8 rows x 9 columns]"
            ]
          },
          "metadata": {
            "tags": []
          },
          "execution_count": 6
        }
      ]
    },
    {
      "cell_type": "markdown",
      "metadata": {
        "id": "tldqNCL0AD5s"
      },
      "source": [
        "**Analise** \n",
        "\n",
        "Aqui temos os calculos dos quartis a serem discutidos nos boxplots a seguir"
      ]
    },
    {
      "cell_type": "code",
      "metadata": {
        "colab": {
          "base_uri": "https://localhost:8080/",
          "height": 297
        },
        "id": "9KH_X4flGSh8",
        "outputId": "9fd77798-bbcf-48f8-96b9-10676903429c"
      },
      "source": [
        "import seaborn as sns\n",
        "sns.boxplot(data=df, y='age',x='Had_Affair')"
      ],
      "execution_count": 7,
      "outputs": [
        {
          "output_type": "execute_result",
          "data": {
            "text/plain": [
              "<matplotlib.axes._subplots.AxesSubplot at 0x7f78c5be4910>"
            ]
          },
          "metadata": {
            "tags": []
          },
          "execution_count": 7
        },
        {
          "output_type": "display_data",
          "data": {
            "image/png": "[encoded data removed]",
            "text/plain": [
              "<Figure size 432x288 with 1 Axes>"
            ]
          },
          "metadata": {
            "tags": [],
            "needs_background": "light"
          }
        }
      ]
    },
    {
      "cell_type": "markdown",
      "metadata": {
        "id": "89Tq7zhUW90a"
      },
      "source": [
        "**Análise**\n",
        "\n",
        "Concentração de idade em quem tem affair é maior com o passar da idade."
      ]
    },
    {
      "cell_type": "code",
      "metadata": {
        "colab": {
          "base_uri": "https://localhost:8080/",
          "height": 297
        },
        "id": "PoFcSA23GjXw",
        "outputId": "bee708d3-be90-44a3-89c1-bc755e2898aa"
      },
      "source": [
        "sns.boxplot(data=df, y='yrs_married',x='Had_Affair')"
      ],
      "execution_count": 8,
      "outputs": [
        {
          "output_type": "execute_result",
          "data": {
            "text/plain": [
              "<matplotlib.axes._subplots.AxesSubplot at 0x7f78b6794b50>"
            ]
          },
          "metadata": {
            "tags": []
          },
          "execution_count": 8
        },
        {
          "output_type": "display_data",
          "data": {
            "image/png": "[encoded data removed]",
            "text/plain": [
              "<Figure size 432x288 with 1 Axes>"
            ]
          },
          "metadata": {
            "tags": [],
            "needs_background": "light"
          }
        }
      ]
    },
    {
      "cell_type": "markdown",
      "metadata": {
        "id": "xFDrVvb6U5CG"
      },
      "source": [
        "**Análise**\n",
        "\n",
        "Vemos aqui a media de tempo de casado superior para as mulheres que tiveram um caso. Veremos que este junto com nota dada a casamento como os principais fatores que influenciam na traição."
      ]
    },
    {
      "cell_type": "code",
      "metadata": {
        "colab": {
          "base_uri": "https://localhost:8080/",
          "height": 297
        },
        "id": "sjFtcI9fGj5N",
        "outputId": "5aeac6d3-d516-4b1e-b970-2f6b34a2eb23"
      },
      "source": [
        "sns.boxplot(data=df, y='children',x='Had_Affair')"
      ],
      "execution_count": 9,
      "outputs": [
        {
          "output_type": "execute_result",
          "data": {
            "text/plain": [
              "<matplotlib.axes._subplots.AxesSubplot at 0x7f78b6719450>"
            ]
          },
          "metadata": {
            "tags": []
          },
          "execution_count": 9
        },
        {
          "output_type": "display_data",
          "data": {
            "image/png": "[encoded data removed]",
            "text/plain": [
              "<Figure size 432x288 with 1 Axes>"
            ]
          },
          "metadata": {
            "tags": [],
            "needs_background": "light"
          }
        }
      ]
    },
    {
      "cell_type": "markdown",
      "metadata": {
        "id": "QJxtRwuGVIt8"
      },
      "source": [
        "**Análise**\n",
        "\n",
        "A quantidade de filhos também aparenta ser um fator, menos filhos menor a traição, mais filhos aumenta a propensão para traição."
      ]
    },
    {
      "cell_type": "code",
      "metadata": {
        "colab": {
          "base_uri": "https://localhost:8080/",
          "height": 597
        },
        "id": "3_aE14QvVI2c",
        "outputId": "e9594e59-6ff9-4bb2-ab73-aabafd625ea6"
      },
      "source": [
        "print(df[df['Had_Affair']==0]['rate_marriage'].describe())\n",
        "print(df[df['Had_Affair']==1]['rate_marriage'].describe())\n",
        "sns.boxplot(data=df, y='rate_marriage',x='Had_Affair')"
      ],
      "execution_count": 10,
      "outputs": [
        {
          "output_type": "stream",
          "text": [
            "count    4313.000000\n",
            "mean        4.329701\n",
            "std         0.821099\n",
            "min         1.000000\n",
            "25%         4.000000\n",
            "50%         5.000000\n",
            "75%         5.000000\n",
            "max         5.000000\n",
            "Name: rate_marriage, dtype: float64\n",
            "count    2053.000000\n",
            "mean        3.647345\n",
            "std         1.065286\n",
            "min         1.000000\n",
            "25%         3.000000\n",
            "50%         4.000000\n",
            "75%         4.000000\n",
            "max         5.000000\n",
            "Name: rate_marriage, dtype: float64\n"
          ],
          "name": "stdout"
        },
        {
          "output_type": "execute_result",
          "data": {
            "text/plain": [
              "<matplotlib.axes._subplots.AxesSubplot at 0x7f78b6fc8610>"
            ]
          },
          "metadata": {
            "tags": []
          },
          "execution_count": 10
        },
        {
          "output_type": "display_data",
          "data": {
            "image/png": "[encoded data removed]",
            "text/plain": [
              "<Figure size 432x288 with 1 Axes>"
            ]
          },
          "metadata": {
            "tags": [],
            "needs_background": "light"
          }
        }
      ]
    },
    {
      "cell_type": "markdown",
      "metadata": {
        "id": "9sQUHHQ7VI-O"
      },
      "source": [
        "**Análise**\n",
        "\n",
        "Como podemos ver aqui, a nota dada ao casamento parece ser um fator. As mulheres que nao se envolveram em um caso extra conjugal, apresentam uma nota mediana de 5,0. Enquanto as que se envolveram, tem uma nota mediana de 4,0."
      ]
    },
    {
      "cell_type": "code",
      "metadata": {
        "colab": {
          "base_uri": "https://localhost:8080/",
          "height": 232
        },
        "id": "Yzn4l8xqAQ-5",
        "outputId": "53b4651e-3d1b-49e4-df9f-537fdd9e4320"
      },
      "source": [
        "df[[\t'rate_marriage',\t'age',\t'yrs_married',\t'children',\t'religious',\t'educ']].corr()"
      ],
      "execution_count": 11,
      "outputs": [
        {
          "output_type": "execute_result",
          "data": {
            "text/html": [
              "<div>\n",
              "<style scoped>\n",
              "    .dataframe tbody tr th:only-of-type {\n",
              "        vertical-align: middle;\n",
              "    }\n",
              "\n",
              "    .dataframe tbody tr th {\n",
              "        vertical-align: top;\n",
              "    }\n",
              "\n",
              "    .dataframe thead th {\n",
              "        text-align: right;\n",
              "    }\n",
              "</style>\n",
              "<table border=\"1\" class=\"dataframe\">\n",
              "  <thead>\n",
              "    <tr style=\"text-align: right;\">\n",
              "      <th></th>\n",
              "      <th>rate_marriage</th>\n",
              "      <th>age</th>\n",
              "      <th>yrs_married</th>\n",
              "      <th>children</th>\n",
              "      <th>religious</th>\n",
              "      <th>educ</th>\n",
              "    </tr>\n",
              "  </thead>\n",
              "  <tbody>\n",
              "    <tr>\n",
              "      <th>rate_marriage</th>\n",
              "      <td>1.000000</td>\n",
              "      <td>-0.111127</td>\n",
              "      <td>-0.128978</td>\n",
              "      <td>-0.129161</td>\n",
              "      <td>0.078794</td>\n",
              "      <td>0.079869</td>\n",
              "    </tr>\n",
              "    <tr>\n",
              "      <th>age</th>\n",
              "      <td>-0.111127</td>\n",
              "      <td>1.000000</td>\n",
              "      <td>0.894082</td>\n",
              "      <td>0.673902</td>\n",
              "      <td>0.136598</td>\n",
              "      <td>0.027960</td>\n",
              "    </tr>\n",
              "    <tr>\n",
              "      <th>yrs_married</th>\n",
              "      <td>-0.128978</td>\n",
              "      <td>0.894082</td>\n",
              "      <td>1.000000</td>\n",
              "      <td>0.772806</td>\n",
              "      <td>0.132683</td>\n",
              "      <td>-0.109058</td>\n",
              "    </tr>\n",
              "    <tr>\n",
              "      <th>children</th>\n",
              "      <td>-0.129161</td>\n",
              "      <td>0.673902</td>\n",
              "      <td>0.772806</td>\n",
              "      <td>1.000000</td>\n",
              "      <td>0.141845</td>\n",
              "      <td>-0.141918</td>\n",
              "    </tr>\n",
              "    <tr>\n",
              "      <th>religious</th>\n",
              "      <td>0.078794</td>\n",
              "      <td>0.136598</td>\n",
              "      <td>0.132683</td>\n",
              "      <td>0.141845</td>\n",
              "      <td>1.000000</td>\n",
              "      <td>0.032245</td>\n",
              "    </tr>\n",
              "    <tr>\n",
              "      <th>educ</th>\n",
              "      <td>0.079869</td>\n",
              "      <td>0.027960</td>\n",
              "      <td>-0.109058</td>\n",
              "      <td>-0.141918</td>\n",
              "      <td>0.032245</td>\n",
              "      <td>1.000000</td>\n",
              "    </tr>\n",
              "  </tbody>\n",
              "</table>\n",
              "</div>"
            ],
            "text/plain": [
              "               rate_marriage       age  ...  religious      educ\n",
              "rate_marriage       1.000000 -0.111127  ...   0.078794  0.079869\n",
              "age                -0.111127  1.000000  ...   0.136598  0.027960\n",
              "yrs_married        -0.128978  0.894082  ...   0.132683 -0.109058\n",
              "children           -0.129161  0.673902  ...   0.141845 -0.141918\n",
              "religious           0.078794  0.136598  ...   1.000000  0.032245\n",
              "educ                0.079869  0.027960  ...   0.032245  1.000000\n",
              "\n",
              "[6 rows x 6 columns]"
            ]
          },
          "metadata": {
            "tags": []
          },
          "execution_count": 11
        }
      ]
    },
    {
      "cell_type": "code",
      "metadata": {
        "colab": {
          "base_uri": "https://localhost:8080/",
          "height": 347
        },
        "id": "3yNwAR2BBI_p",
        "outputId": "09fc38bf-4abb-46e4-8227-7d8db0d3b234"
      },
      "source": [
        "import seaborn as sns\n",
        "sns.heatmap(df[[\t'rate_marriage',\t'age',\t'yrs_married',\t'children',\t'religious',\t'educ']].corr())"
      ],
      "execution_count": 12,
      "outputs": [
        {
          "output_type": "execute_result",
          "data": {
            "text/plain": [
              "<matplotlib.axes._subplots.AxesSubplot at 0x7f78b6624550>"
            ]
          },
          "metadata": {
            "tags": []
          },
          "execution_count": 12
        },
        {
          "output_type": "display_data",
          "data": {
            "image/png": "[encoded data removed]",
            "text/plain": [
              "<Figure size 432x288 with 2 Axes>"
            ]
          },
          "metadata": {
            "tags": [],
            "needs_background": "light"
          }
        }
      ]
    },
    {
      "cell_type": "markdown",
      "metadata": {
        "id": "DRbMG0WsBtTX"
      },
      "source": [
        "Observando as features discretas na tabela de correlacao acima e no respetivo mapa de calor, temos a percepcao que idade esta altamente relacionada com tempo de casamento e quantidade de filhos. Alem da quantidade de filhos estar correlacionada com tempo de casamento. Estes podem ser indicios para nao utilizar a variavel idade. Bem como talvez substituir a variavel quantidade de filhos para se tem filho ou nao."
      ]
    },
    {
      "cell_type": "markdown",
      "metadata": {
        "id": "d94zoYTuH4ds"
      },
      "source": [
        "# Data Engenieering"
      ]
    },
    {
      "cell_type": "markdown",
      "metadata": {
        "id": "DL5TBNJLC_Dr"
      },
      "source": [
        "Nessa secao faremos um pre-processamento de dados para poder trabalhalos no modelos. Entre as operacoes faremos a transformacao de variaveis categoricas para variaveis dummies. Alem disso, criaremos a coluna de se tem filho ou nao. Por fim, faremos separacao dos dados de treino e teste"
      ]
    },
    {
      "cell_type": "code",
      "metadata": {
        "colab": {
          "base_uri": "https://localhost:8080/",
          "height": 222
        },
        "id": "T5qEedi0H94F",
        "outputId": "7cd40f92-9c6f-452e-f69d-5341a3c3e01c"
      },
      "source": [
        "# Transformando features categoricas em colunas distintas (dummies), Occupation e Occupation_husb. \n",
        "occ_dummies = pd.get_dummies(df['occupation'])\n",
        "hus_occ_dummies = pd.get_dummies(df['occupation_husb'])\n",
        "occ_dummies.columns = ['occ1','occ2','occ3','occ4','occ5','occ6']\n",
        "hus_occ_dummies.columns = ['hocc1','hocc2','hocc3','hocc4','hocc5','hocc6']\n",
        "X = pd.concat([df,occ_dummies,hus_occ_dummies],axis=1)\n",
        "X.head()"
      ],
      "execution_count": 13,
      "outputs": [
        {
          "output_type": "execute_result",
          "data": {
            "text/html": [
              "<div>\n",
              "<style scoped>\n",
              "    .dataframe tbody tr th:only-of-type {\n",
              "        vertical-align: middle;\n",
              "    }\n",
              "\n",
              "    .dataframe tbody tr th {\n",
              "        vertical-align: top;\n",
              "    }\n",
              "\n",
              "    .dataframe thead th {\n",
              "        text-align: right;\n",
              "    }\n",
              "</style>\n",
              "<table border=\"1\" class=\"dataframe\">\n",
              "  <thead>\n",
              "    <tr style=\"text-align: right;\">\n",
              "      <th></th>\n",
              "      <th>rate_marriage</th>\n",
              "      <th>age</th>\n",
              "      <th>yrs_married</th>\n",
              "      <th>children</th>\n",
              "      <th>religious</th>\n",
              "      <th>educ</th>\n",
              "      <th>occupation</th>\n",
              "      <th>occupation_husb</th>\n",
              "      <th>Had_Affair</th>\n",
              "      <th>occ1</th>\n",
              "      <th>occ2</th>\n",
              "      <th>occ3</th>\n",
              "      <th>occ4</th>\n",
              "      <th>occ5</th>\n",
              "      <th>occ6</th>\n",
              "      <th>hocc1</th>\n",
              "      <th>hocc2</th>\n",
              "      <th>hocc3</th>\n",
              "      <th>hocc4</th>\n",
              "      <th>hocc5</th>\n",
              "      <th>hocc6</th>\n",
              "    </tr>\n",
              "  </thead>\n",
              "  <tbody>\n",
              "    <tr>\n",
              "      <th>0</th>\n",
              "      <td>3.0</td>\n",
              "      <td>32.0</td>\n",
              "      <td>9.0</td>\n",
              "      <td>3.0</td>\n",
              "      <td>3.0</td>\n",
              "      <td>17.0</td>\n",
              "      <td>2.0</td>\n",
              "      <td>5.0</td>\n",
              "      <td>1</td>\n",
              "      <td>0</td>\n",
              "      <td>1</td>\n",
              "      <td>0</td>\n",
              "      <td>0</td>\n",
              "      <td>0</td>\n",
              "      <td>0</td>\n",
              "      <td>0</td>\n",
              "      <td>0</td>\n",
              "      <td>0</td>\n",
              "      <td>0</td>\n",
              "      <td>1</td>\n",
              "      <td>0</td>\n",
              "    </tr>\n",
              "    <tr>\n",
              "      <th>1</th>\n",
              "      <td>3.0</td>\n",
              "      <td>27.0</td>\n",
              "      <td>13.0</td>\n",
              "      <td>3.0</td>\n",
              "      <td>1.0</td>\n",
              "      <td>14.0</td>\n",
              "      <td>3.0</td>\n",
              "      <td>4.0</td>\n",
              "      <td>1</td>\n",
              "      <td>0</td>\n",
              "      <td>0</td>\n",
              "      <td>1</td>\n",
              "      <td>0</td>\n",
              "      <td>0</td>\n",
              "      <td>0</td>\n",
              "      <td>0</td>\n",
              "      <td>0</td>\n",
              "      <td>0</td>\n",
              "      <td>1</td>\n",
              "      <td>0</td>\n",
              "      <td>0</td>\n",
              "    </tr>\n",
              "    <tr>\n",
              "      <th>2</th>\n",
              "      <td>4.0</td>\n",
              "      <td>22.0</td>\n",
              "      <td>2.5</td>\n",
              "      <td>0.0</td>\n",
              "      <td>1.0</td>\n",
              "      <td>16.0</td>\n",
              "      <td>3.0</td>\n",
              "      <td>5.0</td>\n",
              "      <td>1</td>\n",
              "      <td>0</td>\n",
              "      <td>0</td>\n",
              "      <td>1</td>\n",
              "      <td>0</td>\n",
              "      <td>0</td>\n",
              "      <td>0</td>\n",
              "      <td>0</td>\n",
              "      <td>0</td>\n",
              "      <td>0</td>\n",
              "      <td>0</td>\n",
              "      <td>1</td>\n",
              "      <td>0</td>\n",
              "    </tr>\n",
              "    <tr>\n",
              "      <th>3</th>\n",
              "      <td>4.0</td>\n",
              "      <td>37.0</td>\n",
              "      <td>16.5</td>\n",
              "      <td>4.0</td>\n",
              "      <td>3.0</td>\n",
              "      <td>16.0</td>\n",
              "      <td>5.0</td>\n",
              "      <td>5.0</td>\n",
              "      <td>1</td>\n",
              "      <td>0</td>\n",
              "      <td>0</td>\n",
              "      <td>0</td>\n",
              "      <td>0</td>\n",
              "      <td>1</td>\n",
              "      <td>0</td>\n",
              "      <td>0</td>\n",
              "      <td>0</td>\n",
              "      <td>0</td>\n",
              "      <td>0</td>\n",
              "      <td>1</td>\n",
              "      <td>0</td>\n",
              "    </tr>\n",
              "    <tr>\n",
              "      <th>4</th>\n",
              "      <td>5.0</td>\n",
              "      <td>27.0</td>\n",
              "      <td>9.0</td>\n",
              "      <td>1.0</td>\n",
              "      <td>1.0</td>\n",
              "      <td>14.0</td>\n",
              "      <td>3.0</td>\n",
              "      <td>4.0</td>\n",
              "      <td>1</td>\n",
              "      <td>0</td>\n",
              "      <td>0</td>\n",
              "      <td>1</td>\n",
              "      <td>0</td>\n",
              "      <td>0</td>\n",
              "      <td>0</td>\n",
              "      <td>0</td>\n",
              "      <td>0</td>\n",
              "      <td>0</td>\n",
              "      <td>1</td>\n",
              "      <td>0</td>\n",
              "      <td>0</td>\n",
              "    </tr>\n",
              "  </tbody>\n",
              "</table>\n",
              "</div>"
            ],
            "text/plain": [
              "   rate_marriage   age  yrs_married  children  ...  hocc3  hocc4  hocc5  hocc6\n",
              "0            3.0  32.0          9.0       3.0  ...      0      0      1      0\n",
              "1            3.0  27.0         13.0       3.0  ...      0      1      0      0\n",
              "2            4.0  22.0          2.5       0.0  ...      0      0      1      0\n",
              "3            4.0  37.0         16.5       4.0  ...      0      0      1      0\n",
              "4            5.0  27.0          9.0       1.0  ...      0      1      0      0\n",
              "\n",
              "[5 rows x 21 columns]"
            ]
          },
          "metadata": {
            "tags": []
          },
          "execution_count": 13
        }
      ]
    },
    {
      "cell_type": "code",
      "metadata": {
        "id": "n8H2iWv9DvM7"
      },
      "source": [
        "# Criacao da coluna se tem filhos\n",
        "X['tem_filhos'] = X['children'] > 0\n",
        "X['tem_filhos'] = X['tem_filhos'].map({True:1,False:0})"
      ],
      "execution_count": 14,
      "outputs": []
    },
    {
      "cell_type": "code",
      "metadata": {
        "colab": {
          "base_uri": "https://localhost:8080/",
          "height": 202
        },
        "id": "hulXT9g6H_6R",
        "outputId": "6df46232-1277-40db-a22f-50bcd776df56"
      },
      "source": [
        "\n",
        "# Removendo o label, Had_Affair, features que nao serao usadas na previsao, como Occupation e Occupation_husb. \n",
        "# Bem como uma das dummies para evitar colineariedade entre features, occ1','hocc1\n",
        "Xs = X.drop(['children','occupation','occupation_husb','Had_Affair','occ1','hocc1'],axis=1)\n",
        "Xs.head()"
      ],
      "execution_count": 15,
      "outputs": [
        {
          "output_type": "execute_result",
          "data": {
            "text/html": [
              "<div>\n",
              "<style scoped>\n",
              "    .dataframe tbody tr th:only-of-type {\n",
              "        vertical-align: middle;\n",
              "    }\n",
              "\n",
              "    .dataframe tbody tr th {\n",
              "        vertical-align: top;\n",
              "    }\n",
              "\n",
              "    .dataframe thead th {\n",
              "        text-align: right;\n",
              "    }\n",
              "</style>\n",
              "<table border=\"1\" class=\"dataframe\">\n",
              "  <thead>\n",
              "    <tr style=\"text-align: right;\">\n",
              "      <th></th>\n",
              "      <th>rate_marriage</th>\n",
              "      <th>age</th>\n",
              "      <th>yrs_married</th>\n",
              "      <th>religious</th>\n",
              "      <th>educ</th>\n",
              "      <th>occ2</th>\n",
              "      <th>occ3</th>\n",
              "      <th>occ4</th>\n",
              "      <th>occ5</th>\n",
              "      <th>occ6</th>\n",
              "      <th>hocc2</th>\n",
              "      <th>hocc3</th>\n",
              "      <th>hocc4</th>\n",
              "      <th>hocc5</th>\n",
              "      <th>hocc6</th>\n",
              "      <th>tem_filhos</th>\n",
              "    </tr>\n",
              "  </thead>\n",
              "  <tbody>\n",
              "    <tr>\n",
              "      <th>0</th>\n",
              "      <td>3.0</td>\n",
              "      <td>32.0</td>\n",
              "      <td>9.0</td>\n",
              "      <td>3.0</td>\n",
              "      <td>17.0</td>\n",
              "      <td>1</td>\n",
              "      <td>0</td>\n",
              "      <td>0</td>\n",
              "      <td>0</td>\n",
              "      <td>0</td>\n",
              "      <td>0</td>\n",
              "      <td>0</td>\n",
              "      <td>0</td>\n",
              "      <td>1</td>\n",
              "      <td>0</td>\n",
              "      <td>1</td>\n",
              "    </tr>\n",
              "    <tr>\n",
              "      <th>1</th>\n",
              "      <td>3.0</td>\n",
              "      <td>27.0</td>\n",
              "      <td>13.0</td>\n",
              "      <td>1.0</td>\n",
              "      <td>14.0</td>\n",
              "      <td>0</td>\n",
              "      <td>1</td>\n",
              "      <td>0</td>\n",
              "      <td>0</td>\n",
              "      <td>0</td>\n",
              "      <td>0</td>\n",
              "      <td>0</td>\n",
              "      <td>1</td>\n",
              "      <td>0</td>\n",
              "      <td>0</td>\n",
              "      <td>1</td>\n",
              "    </tr>\n",
              "    <tr>\n",
              "      <th>2</th>\n",
              "      <td>4.0</td>\n",
              "      <td>22.0</td>\n",
              "      <td>2.5</td>\n",
              "      <td>1.0</td>\n",
              "      <td>16.0</td>\n",
              "      <td>0</td>\n",
              "      <td>1</td>\n",
              "      <td>0</td>\n",
              "      <td>0</td>\n",
              "      <td>0</td>\n",
              "      <td>0</td>\n",
              "      <td>0</td>\n",
              "      <td>0</td>\n",
              "      <td>1</td>\n",
              "      <td>0</td>\n",
              "      <td>0</td>\n",
              "    </tr>\n",
              "    <tr>\n",
              "      <th>3</th>\n",
              "      <td>4.0</td>\n",
              "      <td>37.0</td>\n",
              "      <td>16.5</td>\n",
              "      <td>3.0</td>\n",
              "      <td>16.0</td>\n",
              "      <td>0</td>\n",
              "      <td>0</td>\n",
              "      <td>0</td>\n",
              "      <td>1</td>\n",
              "      <td>0</td>\n",
              "      <td>0</td>\n",
              "      <td>0</td>\n",
              "      <td>0</td>\n",
              "      <td>1</td>\n",
              "      <td>0</td>\n",
              "      <td>1</td>\n",
              "    </tr>\n",
              "    <tr>\n",
              "      <th>4</th>\n",
              "      <td>5.0</td>\n",
              "      <td>27.0</td>\n",
              "      <td>9.0</td>\n",
              "      <td>1.0</td>\n",
              "      <td>14.0</td>\n",
              "      <td>0</td>\n",
              "      <td>1</td>\n",
              "      <td>0</td>\n",
              "      <td>0</td>\n",
              "      <td>0</td>\n",
              "      <td>0</td>\n",
              "      <td>0</td>\n",
              "      <td>1</td>\n",
              "      <td>0</td>\n",
              "      <td>0</td>\n",
              "      <td>1</td>\n",
              "    </tr>\n",
              "  </tbody>\n",
              "</table>\n",
              "</div>"
            ],
            "text/plain": [
              "   rate_marriage   age  yrs_married  religious  ...  hocc4  hocc5  hocc6  tem_filhos\n",
              "0            3.0  32.0          9.0        3.0  ...      0      1      0           1\n",
              "1            3.0  27.0         13.0        1.0  ...      1      0      0           1\n",
              "2            4.0  22.0          2.5        1.0  ...      0      1      0           0\n",
              "3            4.0  37.0         16.5        3.0  ...      0      1      0           1\n",
              "4            5.0  27.0          9.0        1.0  ...      1      0      0           1\n",
              "\n",
              "[5 rows x 16 columns]"
            ]
          },
          "metadata": {
            "tags": []
          },
          "execution_count": 15
        }
      ]
    },
    {
      "cell_type": "code",
      "metadata": {
        "colab": {
          "base_uri": "https://localhost:8080/"
        },
        "id": "0h_QOrZ1IFN2",
        "outputId": "22397f0d-0325-4990-bab6-6dd11eb2ae91"
      },
      "source": [
        "Y = df.Had_Affair\n",
        "Y.head()"
      ],
      "execution_count": 16,
      "outputs": [
        {
          "output_type": "execute_result",
          "data": {
            "text/plain": [
              "0    1\n",
              "1    1\n",
              "2    1\n",
              "3    1\n",
              "4    1\n",
              "Name: Had_Affair, dtype: int64"
            ]
          },
          "metadata": {
            "tags": []
          },
          "execution_count": 16
        }
      ]
    },
    {
      "cell_type": "code",
      "metadata": {
        "id": "ohShudn8IXJu"
      },
      "source": [
        "# Separacao dos dados de treino e teste\n",
        "from sklearn.model_selection import train_test_split\n",
        "from sklearn import metrics\n",
        "from sklearn.metrics import mean_squared_error,accuracy_score,confusion_matrix\n",
        "\n",
        "\n",
        "X_train, X_test, Y_train, Y_test = train_test_split(Xs, Y) "
      ],
      "execution_count": 17,
      "outputs": []
    },
    {
      "cell_type": "markdown",
      "metadata": {
        "id": "eKdRH47M_LoK"
      },
      "source": [
        "# Regressao Logistica"
      ]
    },
    {
      "cell_type": "markdown",
      "metadata": {
        "id": "YmlIWaEhO8XB"
      },
      "source": [
        "Vamos inicialmente criar uma Regressao Logistica com todas as variaveis, e na sequencia ir removendo as menos relevantes, uma de cada vez."
      ]
    },
    {
      "cell_type": "code",
      "metadata": {
        "colab": {
          "base_uri": "https://localhost:8080/",
          "height": 673
        },
        "id": "DFOo21MyEk69",
        "outputId": "26c2dfd7-44a4-407b-fc12-ff9e0536d2e5"
      },
      "source": [
        "import statsmodels.api as sm\n",
        "XX = sm.add_constant(Xs)\n",
        "\n",
        "rl1 = sm.Logit(Y, XX).fit()\n",
        "rl1.summary2().tables[1]"
      ],
      "execution_count": 18,
      "outputs": [
        {
          "output_type": "stream",
          "text": [
            "/usr/local/lib/python3.7/dist-packages/statsmodels/tools/_testing.py:19: FutureWarning: pandas.util.testing is deprecated. Use the functions in the public API at pandas.testing instead.\n",
            "  import pandas.util.testing as tm\n"
          ],
          "name": "stderr"
        },
        {
          "output_type": "stream",
          "text": [
            "Optimization terminated successfully.\n",
            "         Current function value: 0.540604\n",
            "         Iterations 6\n"
          ],
          "name": "stdout"
        },
        {
          "output_type": "execute_result",
          "data": {
            "text/html": [
              "<div>\n",
              "<style scoped>\n",
              "    .dataframe tbody tr th:only-of-type {\n",
              "        vertical-align: middle;\n",
              "    }\n",
              "\n",
              "    .dataframe tbody tr th {\n",
              "        vertical-align: top;\n",
              "    }\n",
              "\n",
              "    .dataframe thead th {\n",
              "        text-align: right;\n",
              "    }\n",
              "</style>\n",
              "<table border=\"1\" class=\"dataframe\">\n",
              "  <thead>\n",
              "    <tr style=\"text-align: right;\">\n",
              "      <th></th>\n",
              "      <th>Coef.</th>\n",
              "      <th>Std.Err.</th>\n",
              "      <th>z</th>\n",
              "      <th>P&gt;|z|</th>\n",
              "      <th>[0.025</th>\n",
              "      <th>0.975]</th>\n",
              "    </tr>\n",
              "  </thead>\n",
              "  <tbody>\n",
              "    <tr>\n",
              "      <th>const</th>\n",
              "      <td>2.679728</td>\n",
              "      <td>0.576809</td>\n",
              "      <td>4.645784</td>\n",
              "      <td>3.387878e-06</td>\n",
              "      <td>1.549204</td>\n",
              "      <td>3.810253</td>\n",
              "    </tr>\n",
              "    <tr>\n",
              "      <th>rate_marriage</th>\n",
              "      <td>-0.694059</td>\n",
              "      <td>0.031580</td>\n",
              "      <td>-21.978133</td>\n",
              "      <td>4.662489e-107</td>\n",
              "      <td>-0.755954</td>\n",
              "      <td>-0.632164</td>\n",
              "    </tr>\n",
              "    <tr>\n",
              "      <th>age</th>\n",
              "      <td>-0.058084</td>\n",
              "      <td>0.010381</td>\n",
              "      <td>-5.595200</td>\n",
              "      <td>2.203678e-08</td>\n",
              "      <td>-0.078430</td>\n",
              "      <td>-0.037737</td>\n",
              "    </tr>\n",
              "    <tr>\n",
              "      <th>yrs_married</th>\n",
              "      <td>0.091918</td>\n",
              "      <td>0.010337</td>\n",
              "      <td>8.891811</td>\n",
              "      <td>6.012113e-19</td>\n",
              "      <td>0.071657</td>\n",
              "      <td>0.112179</td>\n",
              "    </tr>\n",
              "    <tr>\n",
              "      <th>religious</th>\n",
              "      <td>-0.383416</td>\n",
              "      <td>0.034930</td>\n",
              "      <td>-10.976657</td>\n",
              "      <td>4.948982e-28</td>\n",
              "      <td>-0.451878</td>\n",
              "      <td>-0.314954</td>\n",
              "    </tr>\n",
              "    <tr>\n",
              "      <th>educ</th>\n",
              "      <td>0.005239</td>\n",
              "      <td>0.017389</td>\n",
              "      <td>0.301285</td>\n",
              "      <td>7.631975e-01</td>\n",
              "      <td>-0.028843</td>\n",
              "      <td>0.039322</td>\n",
              "    </tr>\n",
              "    <tr>\n",
              "      <th>occ2</th>\n",
              "      <td>0.366616</td>\n",
              "      <td>0.450450</td>\n",
              "      <td>0.813887</td>\n",
              "      <td>4.157095e-01</td>\n",
              "      <td>-0.516250</td>\n",
              "      <td>1.249482</td>\n",
              "    </tr>\n",
              "    <tr>\n",
              "      <th>occ3</th>\n",
              "      <td>0.723502</td>\n",
              "      <td>0.444317</td>\n",
              "      <td>1.628345</td>\n",
              "      <td>1.034519e-01</td>\n",
              "      <td>-0.147344</td>\n",
              "      <td>1.594348</td>\n",
              "    </tr>\n",
              "    <tr>\n",
              "      <th>occ4</th>\n",
              "      <td>0.453069</td>\n",
              "      <td>0.445369</td>\n",
              "      <td>1.017289</td>\n",
              "      <td>3.090160e-01</td>\n",
              "      <td>-0.419838</td>\n",
              "      <td>1.325976</td>\n",
              "    </tr>\n",
              "    <tr>\n",
              "      <th>occ5</th>\n",
              "      <td>1.076255</td>\n",
              "      <td>0.449489</td>\n",
              "      <td>2.394396</td>\n",
              "      <td>1.664778e-02</td>\n",
              "      <td>0.195272</td>\n",
              "      <td>1.957237</td>\n",
              "    </tr>\n",
              "    <tr>\n",
              "      <th>occ6</th>\n",
              "      <td>1.110533</td>\n",
              "      <td>0.496508</td>\n",
              "      <td>2.236689</td>\n",
              "      <td>2.530667e-02</td>\n",
              "      <td>0.137396</td>\n",
              "      <td>2.083670</td>\n",
              "    </tr>\n",
              "    <tr>\n",
              "      <th>hocc2</th>\n",
              "      <td>0.105205</td>\n",
              "      <td>0.187204</td>\n",
              "      <td>0.561981</td>\n",
              "      <td>5.741291e-01</td>\n",
              "      <td>-0.261708</td>\n",
              "      <td>0.472119</td>\n",
              "    </tr>\n",
              "    <tr>\n",
              "      <th>hocc3</th>\n",
              "      <td>0.219519</td>\n",
              "      <td>0.203243</td>\n",
              "      <td>1.080083</td>\n",
              "      <td>2.801050e-01</td>\n",
              "      <td>-0.178830</td>\n",
              "      <td>0.617868</td>\n",
              "    </tr>\n",
              "    <tr>\n",
              "      <th>hocc4</th>\n",
              "      <td>0.070498</td>\n",
              "      <td>0.182231</td>\n",
              "      <td>0.386860</td>\n",
              "      <td>6.988601e-01</td>\n",
              "      <td>-0.286669</td>\n",
              "      <td>0.427665</td>\n",
              "    </tr>\n",
              "    <tr>\n",
              "      <th>hocc5</th>\n",
              "      <td>0.107699</td>\n",
              "      <td>0.183788</td>\n",
              "      <td>0.585997</td>\n",
              "      <td>5.578775e-01</td>\n",
              "      <td>-0.252519</td>\n",
              "      <td>0.467917</td>\n",
              "    </tr>\n",
              "    <tr>\n",
              "      <th>hocc6</th>\n",
              "      <td>0.121560</td>\n",
              "      <td>0.204749</td>\n",
              "      <td>0.593704</td>\n",
              "      <td>5.527098e-01</td>\n",
              "      <td>-0.279740</td>\n",
              "      <td>0.522860</td>\n",
              "    </tr>\n",
              "    <tr>\n",
              "      <th>tem_filhos</th>\n",
              "      <td>0.435518</td>\n",
              "      <td>0.080108</td>\n",
              "      <td>5.436615</td>\n",
              "      <td>5.430233e-08</td>\n",
              "      <td>0.278508</td>\n",
              "      <td>0.592527</td>\n",
              "    </tr>\n",
              "  </tbody>\n",
              "</table>\n",
              "</div>"
            ],
            "text/plain": [
              "                  Coef.  Std.Err.          z          P>|z|    [0.025    0.975]\n",
              "const          2.679728  0.576809   4.645784   3.387878e-06  1.549204  3.810253\n",
              "rate_marriage -0.694059  0.031580 -21.978133  4.662489e-107 -0.755954 -0.632164\n",
              "age           -0.058084  0.010381  -5.595200   2.203678e-08 -0.078430 -0.037737\n",
              "yrs_married    0.091918  0.010337   8.891811   6.012113e-19  0.071657  0.112179\n",
              "religious     -0.383416  0.034930 -10.976657   4.948982e-28 -0.451878 -0.314954\n",
              "educ           0.005239  0.017389   0.301285   7.631975e-01 -0.028843  0.039322\n",
              "occ2           0.366616  0.450450   0.813887   4.157095e-01 -0.516250  1.249482\n",
              "occ3           0.723502  0.444317   1.628345   1.034519e-01 -0.147344  1.594348\n",
              "occ4           0.453069  0.445369   1.017289   3.090160e-01 -0.419838  1.325976\n",
              "occ5           1.076255  0.449489   2.394396   1.664778e-02  0.195272  1.957237\n",
              "occ6           1.110533  0.496508   2.236689   2.530667e-02  0.137396  2.083670\n",
              "hocc2          0.105205  0.187204   0.561981   5.741291e-01 -0.261708  0.472119\n",
              "hocc3          0.219519  0.203243   1.080083   2.801050e-01 -0.178830  0.617868\n",
              "hocc4          0.070498  0.182231   0.386860   6.988601e-01 -0.286669  0.427665\n",
              "hocc5          0.107699  0.183788   0.585997   5.578775e-01 -0.252519  0.467917\n",
              "hocc6          0.121560  0.204749   0.593704   5.527098e-01 -0.279740  0.522860\n",
              "tem_filhos     0.435518  0.080108   5.436615   5.430233e-08  0.278508  0.592527"
            ]
          },
          "metadata": {
            "tags": []
          },
          "execution_count": 18
        }
      ]
    },
    {
      "cell_type": "markdown",
      "metadata": {
        "id": "qbxeaEK9FCRj"
      },
      "source": [
        "**Analise**\n",
        "\n",
        "Dado a alta correlacao da idade com outras variaveis como tempo de casamento, parece ter pouca relevancia, assim estamos removendo esta"
      ]
    },
    {
      "cell_type": "code",
      "metadata": {
        "colab": {
          "base_uri": "https://localhost:8080/",
          "height": 589
        },
        "id": "lLA5z9BNGR8T",
        "outputId": "25da07ca-a365-478f-9681-8097bd659ebb"
      },
      "source": [
        "XX.drop(['age'],axis=1, inplace=True)\n",
        "rl2 = sm.Logit(Y, XX).fit()\n",
        "rl2.summary2().tables[1]"
      ],
      "execution_count": 19,
      "outputs": [
        {
          "output_type": "stream",
          "text": [
            "Optimization terminated successfully.\n",
            "         Current function value: 0.543122\n",
            "         Iterations 6\n"
          ],
          "name": "stdout"
        },
        {
          "output_type": "execute_result",
          "data": {
            "text/html": [
              "<div>\n",
              "<style scoped>\n",
              "    .dataframe tbody tr th:only-of-type {\n",
              "        vertical-align: middle;\n",
              "    }\n",
              "\n",
              "    .dataframe tbody tr th {\n",
              "        vertical-align: top;\n",
              "    }\n",
              "\n",
              "    .dataframe thead th {\n",
              "        text-align: right;\n",
              "    }\n",
              "</style>\n",
              "<table border=\"1\" class=\"dataframe\">\n",
              "  <thead>\n",
              "    <tr style=\"text-align: right;\">\n",
              "      <th></th>\n",
              "      <th>Coef.</th>\n",
              "      <th>Std.Err.</th>\n",
              "      <th>z</th>\n",
              "      <th>P&gt;|z|</th>\n",
              "      <th>[0.025</th>\n",
              "      <th>0.975]</th>\n",
              "    </tr>\n",
              "  </thead>\n",
              "  <tbody>\n",
              "    <tr>\n",
              "      <th>const</th>\n",
              "      <td>1.787707</td>\n",
              "      <td>0.551671</td>\n",
              "      <td>3.240532</td>\n",
              "      <td>1.193070e-03</td>\n",
              "      <td>0.706452</td>\n",
              "      <td>2.868962</td>\n",
              "    </tr>\n",
              "    <tr>\n",
              "      <th>rate_marriage</th>\n",
              "      <td>-0.687030</td>\n",
              "      <td>0.031457</td>\n",
              "      <td>-21.840282</td>\n",
              "      <td>9.615990e-106</td>\n",
              "      <td>-0.748684</td>\n",
              "      <td>-0.625375</td>\n",
              "    </tr>\n",
              "    <tr>\n",
              "      <th>yrs_married</th>\n",
              "      <td>0.041521</td>\n",
              "      <td>0.004995</td>\n",
              "      <td>8.313342</td>\n",
              "      <td>9.304408e-17</td>\n",
              "      <td>0.031732</td>\n",
              "      <td>0.051310</td>\n",
              "    </tr>\n",
              "    <tr>\n",
              "      <th>religious</th>\n",
              "      <td>-0.388403</td>\n",
              "      <td>0.034851</td>\n",
              "      <td>-11.144646</td>\n",
              "      <td>7.604574e-29</td>\n",
              "      <td>-0.456710</td>\n",
              "      <td>-0.320096</td>\n",
              "    </tr>\n",
              "    <tr>\n",
              "      <th>educ</th>\n",
              "      <td>-0.014347</td>\n",
              "      <td>0.016958</td>\n",
              "      <td>-0.846046</td>\n",
              "      <td>3.975271e-01</td>\n",
              "      <td>-0.047585</td>\n",
              "      <td>0.018890</td>\n",
              "    </tr>\n",
              "    <tr>\n",
              "      <th>occ2</th>\n",
              "      <td>0.321168</td>\n",
              "      <td>0.448376</td>\n",
              "      <td>0.716292</td>\n",
              "      <td>4.738113e-01</td>\n",
              "      <td>-0.557633</td>\n",
              "      <td>1.199969</td>\n",
              "    </tr>\n",
              "    <tr>\n",
              "      <th>occ3</th>\n",
              "      <td>0.673681</td>\n",
              "      <td>0.442217</td>\n",
              "      <td>1.523416</td>\n",
              "      <td>1.276547e-01</td>\n",
              "      <td>-0.193049</td>\n",
              "      <td>1.540411</td>\n",
              "    </tr>\n",
              "    <tr>\n",
              "      <th>occ4</th>\n",
              "      <td>0.392381</td>\n",
              "      <td>0.443172</td>\n",
              "      <td>0.885392</td>\n",
              "      <td>3.759453e-01</td>\n",
              "      <td>-0.476221</td>\n",
              "      <td>1.260983</td>\n",
              "    </tr>\n",
              "    <tr>\n",
              "      <th>occ5</th>\n",
              "      <td>1.012203</td>\n",
              "      <td>0.447287</td>\n",
              "      <td>2.262983</td>\n",
              "      <td>2.363674e-02</td>\n",
              "      <td>0.135536</td>\n",
              "      <td>1.888869</td>\n",
              "    </tr>\n",
              "    <tr>\n",
              "      <th>occ6</th>\n",
              "      <td>1.031058</td>\n",
              "      <td>0.493731</td>\n",
              "      <td>2.088297</td>\n",
              "      <td>3.677108e-02</td>\n",
              "      <td>0.063362</td>\n",
              "      <td>1.998754</td>\n",
              "    </tr>\n",
              "    <tr>\n",
              "      <th>hocc2</th>\n",
              "      <td>0.070163</td>\n",
              "      <td>0.187352</td>\n",
              "      <td>0.374495</td>\n",
              "      <td>7.080362e-01</td>\n",
              "      <td>-0.297042</td>\n",
              "      <td>0.437367</td>\n",
              "    </tr>\n",
              "    <tr>\n",
              "      <th>hocc3</th>\n",
              "      <td>0.162856</td>\n",
              "      <td>0.203284</td>\n",
              "      <td>0.801124</td>\n",
              "      <td>4.230598e-01</td>\n",
              "      <td>-0.235574</td>\n",
              "      <td>0.561286</td>\n",
              "    </tr>\n",
              "    <tr>\n",
              "      <th>hocc4</th>\n",
              "      <td>0.041815</td>\n",
              "      <td>0.182446</td>\n",
              "      <td>0.229192</td>\n",
              "      <td>8.187199e-01</td>\n",
              "      <td>-0.315772</td>\n",
              "      <td>0.399402</td>\n",
              "    </tr>\n",
              "    <tr>\n",
              "      <th>hocc5</th>\n",
              "      <td>0.057578</td>\n",
              "      <td>0.183850</td>\n",
              "      <td>0.313177</td>\n",
              "      <td>7.541458e-01</td>\n",
              "      <td>-0.302762</td>\n",
              "      <td>0.417918</td>\n",
              "    </tr>\n",
              "    <tr>\n",
              "      <th>hocc6</th>\n",
              "      <td>0.060781</td>\n",
              "      <td>0.204457</td>\n",
              "      <td>0.297278</td>\n",
              "      <td>7.662539e-01</td>\n",
              "      <td>-0.339947</td>\n",
              "      <td>0.461508</td>\n",
              "    </tr>\n",
              "    <tr>\n",
              "      <th>tem_filhos</th>\n",
              "      <td>0.463789</td>\n",
              "      <td>0.079597</td>\n",
              "      <td>5.826724</td>\n",
              "      <td>5.652593e-09</td>\n",
              "      <td>0.307782</td>\n",
              "      <td>0.619796</td>\n",
              "    </tr>\n",
              "  </tbody>\n",
              "</table>\n",
              "</div>"
            ],
            "text/plain": [
              "                  Coef.  Std.Err.          z          P>|z|    [0.025    0.975]\n",
              "const          1.787707  0.551671   3.240532   1.193070e-03  0.706452  2.868962\n",
              "rate_marriage -0.687030  0.031457 -21.840282  9.615990e-106 -0.748684 -0.625375\n",
              "yrs_married    0.041521  0.004995   8.313342   9.304408e-17  0.031732  0.051310\n",
              "religious     -0.388403  0.034851 -11.144646   7.604574e-29 -0.456710 -0.320096\n",
              "educ          -0.014347  0.016958  -0.846046   3.975271e-01 -0.047585  0.018890\n",
              "occ2           0.321168  0.448376   0.716292   4.738113e-01 -0.557633  1.199969\n",
              "occ3           0.673681  0.442217   1.523416   1.276547e-01 -0.193049  1.540411\n",
              "occ4           0.392381  0.443172   0.885392   3.759453e-01 -0.476221  1.260983\n",
              "occ5           1.012203  0.447287   2.262983   2.363674e-02  0.135536  1.888869\n",
              "occ6           1.031058  0.493731   2.088297   3.677108e-02  0.063362  1.998754\n",
              "hocc2          0.070163  0.187352   0.374495   7.080362e-01 -0.297042  0.437367\n",
              "hocc3          0.162856  0.203284   0.801124   4.230598e-01 -0.235574  0.561286\n",
              "hocc4          0.041815  0.182446   0.229192   8.187199e-01 -0.315772  0.399402\n",
              "hocc5          0.057578  0.183850   0.313177   7.541458e-01 -0.302762  0.417918\n",
              "hocc6          0.060781  0.204457   0.297278   7.662539e-01 -0.339947  0.461508\n",
              "tem_filhos     0.463789  0.079597   5.826724   5.652593e-09  0.307782  0.619796"
            ]
          },
          "metadata": {
            "tags": []
          },
          "execution_count": 19
        }
      ]
    },
    {
      "cell_type": "markdown",
      "metadata": {
        "id": "Cdwb4K2FGx6K"
      },
      "source": [
        "**Analise** \n",
        "\n",
        "Percebemos entao que a ocupacao do marido tem pouca relevancia na analise, assim estamos removendo estas."
      ]
    },
    {
      "cell_type": "code",
      "metadata": {
        "colab": {
          "base_uri": "https://localhost:8080/",
          "height": 436
        },
        "id": "HwS_oSDpFUtF",
        "outputId": "ded4be58-b676-4723-e97b-ebd03dda975e"
      },
      "source": [
        "XX.drop(['hocc2','hocc3','hocc4','hocc5','hocc6'],axis=1, inplace=True)\n",
        "rl3 = sm.Logit(Y, XX).fit()\n",
        "rl3.summary2().tables[1]\n"
      ],
      "execution_count": 20,
      "outputs": [
        {
          "output_type": "stream",
          "text": [
            "Optimization terminated successfully.\n",
            "         Current function value: 0.543219\n",
            "         Iterations 6\n"
          ],
          "name": "stdout"
        },
        {
          "output_type": "execute_result",
          "data": {
            "text/html": [
              "<div>\n",
              "<style scoped>\n",
              "    .dataframe tbody tr th:only-of-type {\n",
              "        vertical-align: middle;\n",
              "    }\n",
              "\n",
              "    .dataframe tbody tr th {\n",
              "        vertical-align: top;\n",
              "    }\n",
              "\n",
              "    .dataframe thead th {\n",
              "        text-align: right;\n",
              "    }\n",
              "</style>\n",
              "<table border=\"1\" class=\"dataframe\">\n",
              "  <thead>\n",
              "    <tr style=\"text-align: right;\">\n",
              "      <th></th>\n",
              "      <th>Coef.</th>\n",
              "      <th>Std.Err.</th>\n",
              "      <th>z</th>\n",
              "      <th>P&gt;|z|</th>\n",
              "      <th>[0.025</th>\n",
              "      <th>0.975]</th>\n",
              "    </tr>\n",
              "  </thead>\n",
              "  <tbody>\n",
              "    <tr>\n",
              "      <th>const</th>\n",
              "      <td>1.853573</td>\n",
              "      <td>0.527623</td>\n",
              "      <td>3.513066</td>\n",
              "      <td>4.429674e-04</td>\n",
              "      <td>0.819452</td>\n",
              "      <td>2.887694</td>\n",
              "    </tr>\n",
              "    <tr>\n",
              "      <th>rate_marriage</th>\n",
              "      <td>-0.687890</td>\n",
              "      <td>0.031412</td>\n",
              "      <td>-21.899029</td>\n",
              "      <td>2.653728e-106</td>\n",
              "      <td>-0.749456</td>\n",
              "      <td>-0.626324</td>\n",
              "    </tr>\n",
              "    <tr>\n",
              "      <th>yrs_married</th>\n",
              "      <td>0.041683</td>\n",
              "      <td>0.004955</td>\n",
              "      <td>8.412695</td>\n",
              "      <td>4.006949e-17</td>\n",
              "      <td>0.031971</td>\n",
              "      <td>0.051394</td>\n",
              "    </tr>\n",
              "    <tr>\n",
              "      <th>religious</th>\n",
              "      <td>-0.387507</td>\n",
              "      <td>0.034822</td>\n",
              "      <td>-11.128263</td>\n",
              "      <td>9.139934e-29</td>\n",
              "      <td>-0.455757</td>\n",
              "      <td>-0.319258</td>\n",
              "    </tr>\n",
              "    <tr>\n",
              "      <th>educ</th>\n",
              "      <td>-0.015007</td>\n",
              "      <td>0.016640</td>\n",
              "      <td>-0.901870</td>\n",
              "      <td>3.671258e-01</td>\n",
              "      <td>-0.047620</td>\n",
              "      <td>0.017606</td>\n",
              "    </tr>\n",
              "    <tr>\n",
              "      <th>occ2</th>\n",
              "      <td>0.326269</td>\n",
              "      <td>0.446718</td>\n",
              "      <td>0.730370</td>\n",
              "      <td>4.651642e-01</td>\n",
              "      <td>-0.549282</td>\n",
              "      <td>1.201821</td>\n",
              "    </tr>\n",
              "    <tr>\n",
              "      <th>occ3</th>\n",
              "      <td>0.680681</td>\n",
              "      <td>0.440869</td>\n",
              "      <td>1.543953</td>\n",
              "      <td>1.225997e-01</td>\n",
              "      <td>-0.183406</td>\n",
              "      <td>1.544769</td>\n",
              "    </tr>\n",
              "    <tr>\n",
              "      <th>occ4</th>\n",
              "      <td>0.395243</td>\n",
              "      <td>0.441848</td>\n",
              "      <td>0.894522</td>\n",
              "      <td>3.710425e-01</td>\n",
              "      <td>-0.470763</td>\n",
              "      <td>1.261249</td>\n",
              "    </tr>\n",
              "    <tr>\n",
              "      <th>occ5</th>\n",
              "      <td>1.013346</td>\n",
              "      <td>0.445783</td>\n",
              "      <td>2.273184</td>\n",
              "      <td>2.301512e-02</td>\n",
              "      <td>0.139628</td>\n",
              "      <td>1.887065</td>\n",
              "    </tr>\n",
              "    <tr>\n",
              "      <th>occ6</th>\n",
              "      <td>1.034190</td>\n",
              "      <td>0.490932</td>\n",
              "      <td>2.106582</td>\n",
              "      <td>3.515383e-02</td>\n",
              "      <td>0.071980</td>\n",
              "      <td>1.996399</td>\n",
              "    </tr>\n",
              "    <tr>\n",
              "      <th>tem_filhos</th>\n",
              "      <td>0.464529</td>\n",
              "      <td>0.079359</td>\n",
              "      <td>5.853495</td>\n",
              "      <td>4.813476e-09</td>\n",
              "      <td>0.308988</td>\n",
              "      <td>0.620070</td>\n",
              "    </tr>\n",
              "  </tbody>\n",
              "</table>\n",
              "</div>"
            ],
            "text/plain": [
              "                  Coef.  Std.Err.          z          P>|z|    [0.025    0.975]\n",
              "const          1.853573  0.527623   3.513066   4.429674e-04  0.819452  2.887694\n",
              "rate_marriage -0.687890  0.031412 -21.899029  2.653728e-106 -0.749456 -0.626324\n",
              "yrs_married    0.041683  0.004955   8.412695   4.006949e-17  0.031971  0.051394\n",
              "religious     -0.387507  0.034822 -11.128263   9.139934e-29 -0.455757 -0.319258\n",
              "educ          -0.015007  0.016640  -0.901870   3.671258e-01 -0.047620  0.017606\n",
              "occ2           0.326269  0.446718   0.730370   4.651642e-01 -0.549282  1.201821\n",
              "occ3           0.680681  0.440869   1.543953   1.225997e-01 -0.183406  1.544769\n",
              "occ4           0.395243  0.441848   0.894522   3.710425e-01 -0.470763  1.261249\n",
              "occ5           1.013346  0.445783   2.273184   2.301512e-02  0.139628  1.887065\n",
              "occ6           1.034190  0.490932   2.106582   3.515383e-02  0.071980  1.996399\n",
              "tem_filhos     0.464529  0.079359   5.853495   4.813476e-09  0.308988  0.620070"
            ]
          },
          "metadata": {
            "tags": []
          },
          "execution_count": 20
        }
      ]
    },
    {
      "cell_type": "markdown",
      "metadata": {
        "id": "k8to2vS0HjGU"
      },
      "source": [
        "**Analise** \n",
        "\n",
        "Exceto as ocupacoes 5 (administradora) e 6 (alto grau de estudo) as demais profissioes da mulheres parece nao influenciar na propensao a trair."
      ]
    },
    {
      "cell_type": "code",
      "metadata": {
        "colab": {
          "base_uri": "https://localhost:8080/",
          "height": 344
        },
        "id": "TAU0zGJZIFsn",
        "outputId": "24086769-1453-4115-c1b7-b041d67da694"
      },
      "source": [
        "XX.drop(['occ2','occ3','occ4'],axis=1, inplace=True)\n",
        "rl4 = sm.Logit(Y, XX).fit()\n",
        "rl4.summary2().tables[1]"
      ],
      "execution_count": 21,
      "outputs": [
        {
          "output_type": "stream",
          "text": [
            "Optimization terminated successfully.\n",
            "         Current function value: 0.545042\n",
            "         Iterations 6\n"
          ],
          "name": "stdout"
        },
        {
          "output_type": "execute_result",
          "data": {
            "text/html": [
              "<div>\n",
              "<style scoped>\n",
              "    .dataframe tbody tr th:only-of-type {\n",
              "        vertical-align: middle;\n",
              "    }\n",
              "\n",
              "    .dataframe tbody tr th {\n",
              "        vertical-align: top;\n",
              "    }\n",
              "\n",
              "    .dataframe thead th {\n",
              "        text-align: right;\n",
              "    }\n",
              "</style>\n",
              "<table border=\"1\" class=\"dataframe\">\n",
              "  <thead>\n",
              "    <tr style=\"text-align: right;\">\n",
              "      <th></th>\n",
              "      <th>Coef.</th>\n",
              "      <th>Std.Err.</th>\n",
              "      <th>z</th>\n",
              "      <th>P&gt;|z|</th>\n",
              "      <th>[0.025</th>\n",
              "      <th>0.975]</th>\n",
              "    </tr>\n",
              "  </thead>\n",
              "  <tbody>\n",
              "    <tr>\n",
              "      <th>const</th>\n",
              "      <td>2.700955</td>\n",
              "      <td>0.252625</td>\n",
              "      <td>10.691566</td>\n",
              "      <td>1.114728e-26</td>\n",
              "      <td>2.205819</td>\n",
              "      <td>3.196090</td>\n",
              "    </tr>\n",
              "    <tr>\n",
              "      <th>rate_marriage</th>\n",
              "      <td>-0.692140</td>\n",
              "      <td>0.031374</td>\n",
              "      <td>-22.060696</td>\n",
              "      <td>7.541359e-108</td>\n",
              "      <td>-0.753633</td>\n",
              "      <td>-0.630647</td>\n",
              "    </tr>\n",
              "    <tr>\n",
              "      <th>yrs_married</th>\n",
              "      <td>0.042755</td>\n",
              "      <td>0.004940</td>\n",
              "      <td>8.654612</td>\n",
              "      <td>4.945933e-18</td>\n",
              "      <td>0.033073</td>\n",
              "      <td>0.052438</td>\n",
              "    </tr>\n",
              "    <tr>\n",
              "      <th>religious</th>\n",
              "      <td>-0.388420</td>\n",
              "      <td>0.034735</td>\n",
              "      <td>-11.182284</td>\n",
              "      <td>4.979195e-29</td>\n",
              "      <td>-0.456500</td>\n",
              "      <td>-0.320340</td>\n",
              "    </tr>\n",
              "    <tr>\n",
              "      <th>educ</th>\n",
              "      <td>-0.034646</td>\n",
              "      <td>0.014185</td>\n",
              "      <td>-2.442371</td>\n",
              "      <td>1.459115e-02</td>\n",
              "      <td>-0.062448</td>\n",
              "      <td>-0.006843</td>\n",
              "    </tr>\n",
              "    <tr>\n",
              "      <th>occ5</th>\n",
              "      <td>0.479644</td>\n",
              "      <td>0.087649</td>\n",
              "      <td>5.472309</td>\n",
              "      <td>4.442096e-08</td>\n",
              "      <td>0.307855</td>\n",
              "      <td>0.651434</td>\n",
              "    </tr>\n",
              "    <tr>\n",
              "      <th>occ6</th>\n",
              "      <td>0.575428</td>\n",
              "      <td>0.225780</td>\n",
              "      <td>2.548622</td>\n",
              "      <td>1.081495e-02</td>\n",
              "      <td>0.132907</td>\n",
              "      <td>1.017950</td>\n",
              "    </tr>\n",
              "    <tr>\n",
              "      <th>tem_filhos</th>\n",
              "      <td>0.418996</td>\n",
              "      <td>0.078601</td>\n",
              "      <td>5.330670</td>\n",
              "      <td>9.785098e-08</td>\n",
              "      <td>0.264941</td>\n",
              "      <td>0.573052</td>\n",
              "    </tr>\n",
              "  </tbody>\n",
              "</table>\n",
              "</div>"
            ],
            "text/plain": [
              "                  Coef.  Std.Err.          z          P>|z|    [0.025    0.975]\n",
              "const          2.700955  0.252625  10.691566   1.114728e-26  2.205819  3.196090\n",
              "rate_marriage -0.692140  0.031374 -22.060696  7.541359e-108 -0.753633 -0.630647\n",
              "yrs_married    0.042755  0.004940   8.654612   4.945933e-18  0.033073  0.052438\n",
              "religious     -0.388420  0.034735 -11.182284   4.979195e-29 -0.456500 -0.320340\n",
              "educ          -0.034646  0.014185  -2.442371   1.459115e-02 -0.062448 -0.006843\n",
              "occ5           0.479644  0.087649   5.472309   4.442096e-08  0.307855  0.651434\n",
              "occ6           0.575428  0.225780   2.548622   1.081495e-02  0.132907  1.017950\n",
              "tem_filhos     0.418996  0.078601   5.330670   9.785098e-08  0.264941  0.573052"
            ]
          },
          "metadata": {
            "tags": []
          },
          "execution_count": 21
        }
      ]
    },
    {
      "cell_type": "markdown",
      "metadata": {
        "id": "9K1zodApIZXZ"
      },
      "source": [
        "**Analise** \n",
        "\n",
        "Tempo de educacao tambem parace nao ser relevante. Assim, estou removendo estas."
      ]
    },
    {
      "cell_type": "code",
      "metadata": {
        "colab": {
          "base_uri": "https://localhost:8080/",
          "height": 313
        },
        "id": "9njNOwTGIhJF",
        "outputId": "bbdfa84a-1589-4af0-fbdd-fb8c4c4ef0e9"
      },
      "source": [
        "XX.drop(['educ'],axis=1, inplace=True)\n",
        "rl5 = sm.Logit(Y, XX).fit()\n",
        "rl5.summary2().tables[1]"
      ],
      "execution_count": 22,
      "outputs": [
        {
          "output_type": "stream",
          "text": [
            "Optimization terminated successfully.\n",
            "         Current function value: 0.545514\n",
            "         Iterations 6\n"
          ],
          "name": "stdout"
        },
        {
          "output_type": "execute_result",
          "data": {
            "text/html": [
              "<div>\n",
              "<style scoped>\n",
              "    .dataframe tbody tr th:only-of-type {\n",
              "        vertical-align: middle;\n",
              "    }\n",
              "\n",
              "    .dataframe tbody tr th {\n",
              "        vertical-align: top;\n",
              "    }\n",
              "\n",
              "    .dataframe thead th {\n",
              "        text-align: right;\n",
              "    }\n",
              "</style>\n",
              "<table border=\"1\" class=\"dataframe\">\n",
              "  <thead>\n",
              "    <tr style=\"text-align: right;\">\n",
              "      <th></th>\n",
              "      <th>Coef.</th>\n",
              "      <th>Std.Err.</th>\n",
              "      <th>z</th>\n",
              "      <th>P&gt;|z|</th>\n",
              "      <th>[0.025</th>\n",
              "      <th>0.975]</th>\n",
              "    </tr>\n",
              "  </thead>\n",
              "  <tbody>\n",
              "    <tr>\n",
              "      <th>const</th>\n",
              "      <td>2.217742</td>\n",
              "      <td>0.155584</td>\n",
              "      <td>14.254270</td>\n",
              "      <td>4.216857e-46</td>\n",
              "      <td>1.912802</td>\n",
              "      <td>2.522681</td>\n",
              "    </tr>\n",
              "    <tr>\n",
              "      <th>rate_marriage</th>\n",
              "      <td>-0.695589</td>\n",
              "      <td>0.031349</td>\n",
              "      <td>-22.188829</td>\n",
              "      <td>4.403139e-109</td>\n",
              "      <td>-0.757031</td>\n",
              "      <td>-0.634147</td>\n",
              "    </tr>\n",
              "    <tr>\n",
              "      <th>yrs_married</th>\n",
              "      <td>0.043219</td>\n",
              "      <td>0.004936</td>\n",
              "      <td>8.756506</td>\n",
              "      <td>2.013957e-18</td>\n",
              "      <td>0.033545</td>\n",
              "      <td>0.052892</td>\n",
              "    </tr>\n",
              "    <tr>\n",
              "      <th>religious</th>\n",
              "      <td>-0.390828</td>\n",
              "      <td>0.034681</td>\n",
              "      <td>-11.269075</td>\n",
              "      <td>1.865193e-29</td>\n",
              "      <td>-0.458803</td>\n",
              "      <td>-0.322854</td>\n",
              "    </tr>\n",
              "    <tr>\n",
              "      <th>occ5</th>\n",
              "      <td>0.481224</td>\n",
              "      <td>0.087554</td>\n",
              "      <td>5.496288</td>\n",
              "      <td>3.878695e-08</td>\n",
              "      <td>0.309621</td>\n",
              "      <td>0.652828</td>\n",
              "    </tr>\n",
              "    <tr>\n",
              "      <th>occ6</th>\n",
              "      <td>0.442404</td>\n",
              "      <td>0.219246</td>\n",
              "      <td>2.017844</td>\n",
              "      <td>4.360750e-02</td>\n",
              "      <td>0.012690</td>\n",
              "      <td>0.872118</td>\n",
              "    </tr>\n",
              "    <tr>\n",
              "      <th>tem_filhos</th>\n",
              "      <td>0.435128</td>\n",
              "      <td>0.078296</td>\n",
              "      <td>5.557473</td>\n",
              "      <td>2.737088e-08</td>\n",
              "      <td>0.281670</td>\n",
              "      <td>0.588585</td>\n",
              "    </tr>\n",
              "  </tbody>\n",
              "</table>\n",
              "</div>"
            ],
            "text/plain": [
              "                  Coef.  Std.Err.          z          P>|z|    [0.025    0.975]\n",
              "const          2.217742  0.155584  14.254270   4.216857e-46  1.912802  2.522681\n",
              "rate_marriage -0.695589  0.031349 -22.188829  4.403139e-109 -0.757031 -0.634147\n",
              "yrs_married    0.043219  0.004936   8.756506   2.013957e-18  0.033545  0.052892\n",
              "religious     -0.390828  0.034681 -11.269075   1.865193e-29 -0.458803 -0.322854\n",
              "occ5           0.481224  0.087554   5.496288   3.878695e-08  0.309621  0.652828\n",
              "occ6           0.442404  0.219246   2.017844   4.360750e-02  0.012690  0.872118\n",
              "tem_filhos     0.435128  0.078296   5.557473   2.737088e-08  0.281670  0.588585"
            ]
          },
          "metadata": {
            "tags": []
          },
          "execution_count": 22
        }
      ]
    },
    {
      "cell_type": "markdown",
      "metadata": {
        "id": "5kF0ONnsIvRs"
      },
      "source": [
        "**Analise** \n",
        "\n",
        "Parece que chegamos no modelo mais adequado utilizando nota ao casamento, tempo de casamento, nivel de religiosidade, as profissioes de administradora e alta educacao, e se tem filhos, como sendo as features primarias para a previsao do label se trai ou nao."
      ]
    },
    {
      "cell_type": "markdown",
      "metadata": {
        "id": "uw7jqnvlJNrH"
      },
      "source": [
        "Na sequencias entao vamos re-treinar esse modelo final usando outra biblioteca, separando dados de treino e teste, e calculando as metricas de acuracia e MSE"
      ]
    },
    {
      "cell_type": "code",
      "metadata": {
        "id": "r96AG3NMpaQR",
        "colab": {
          "base_uri": "https://localhost:8080/",
          "height": 365
        },
        "outputId": "3303be6d-819b-4346-9a04-cc1739752131"
      },
      "source": [
        "from sklearn.linear_model import LogisticRegression\n",
        "import seaborn as sns\n",
        "from sklearn.metrics import mean_squared_error,accuracy_score,confusion_matrix\n",
        "\n",
        "rlog = LogisticRegression() \n",
        "rlog.fit(X_train[['rate_marriage','yrs_married','religious','occ5','occ6','tem_filhos']], Y_train)\n",
        "score_train = rlog.score(X_train[['rate_marriage','yrs_married','religious','occ5','occ6','tem_filhos']], Y_train)\n",
        "previsoes = rlog.predict(X_test[['rate_marriage','yrs_married','religious','occ5','occ6','tem_filhos']]) \n",
        "score_test = accuracy_score(Y_test,previsoes)\n",
        "print('Acuraria Treino',score_train)\n",
        "print('Acuraria TESTE',score_test)\n",
        "print('MSE Teste',mean_squared_error(Y_test,previsoes))\n",
        "cm = confusion_matrix(Y_test, previsoes)\n",
        "print(cm)\n",
        "sns.heatmap(cm,annot=True)"
      ],
      "execution_count": 23,
      "outputs": [
        {
          "output_type": "stream",
          "text": [
            "Acuraria Treino 0.7214076246334311\n",
            "Acuraria TESTE 0.7248743718592965\n",
            "MSE Teste 0.2751256281407035\n",
            "[[977 104]\n",
            " [334 177]]\n"
          ],
          "name": "stdout"
        },
        {
          "output_type": "execute_result",
          "data": {
            "text/plain": [
              "<matplotlib.axes._subplots.AxesSubplot at 0x7f789bc8ce50>"
            ]
          },
          "metadata": {
            "tags": []
          },
          "execution_count": 23
        },
        {
          "output_type": "display_data",
          "data": {
            "image/png": "[encoded data removed]",
            "text/plain": [
              "<Figure size 432x288 with 2 Axes>"
            ]
          },
          "metadata": {
            "tags": [],
            "needs_background": "light"
          }
        }
      ]
    },
    {
      "cell_type": "markdown",
      "metadata": {
        "id": "fPng1yUuC0cT"
      },
      "source": [
        "**Análise**\n",
        "\n",
        "Podemos ver que tivemos uma acurácia superior a 70% tanto em treino quanto em teste na previsao das mulheres que tiveram um caso extra conjugal com base nas informacoes de qualidade do casamento, tempo de casada, idade, quantidade de filhos, nivel de reliogisidade, nivel educacional, alem da profissao dela e do marido."
      ]
    },
    {
      "cell_type": "markdown",
      "metadata": {
        "id": "ewQ250cYX3XY"
      },
      "source": [
        "# Regressao Logistica II"
      ]
    },
    {
      "cell_type": "code",
      "metadata": {
        "id": "86n4-Zi-X5Ov",
        "colab": {
          "base_uri": "https://localhost:8080/",
          "height": 0
        },
        "outputId": "a995d285-9319-4590-d1d6-425f06cc2ebc"
      },
      "source": [
        "import numpy as np\n",
        "import sklearn.linear_model as skl_lm\n",
        "import matplotlib.pyplot as plt\n",
        "import seaborn as sns\n",
        "\n",
        "import pandas as pd\n",
        "affairs=pd.read_csv('http://quant-ibmec.group/data/affairs.csv')\n",
        "\n",
        "X_train = affairs.yrs_married.values.reshape(-1,1)\n",
        "#print(X_train)\n",
        "y = affairs.affair\n",
        "\n",
        "X_test = np.arange(affairs.yrs_married.min(), affairs.yrs_married.max()).reshape(-1,1)\n",
        "\n",
        "clf = skl_lm.LogisticRegression()\n",
        "clf.fit(X_train,y)\n",
        "prob = clf.predict_proba(X_test)\n",
        "\n",
        "\n",
        "\n",
        "fig, (ax1,ax2) = plt.subplots(1,2, figsize=(12,5))\n",
        "\n",
        "sns.regplot(x=\"yrs_married\", y=\"affair\", data=affairs, ax=ax1, scatter_kws={'color':'orange'})\n",
        "\n",
        "ax2.scatter(X_train, y, color='orange')\n",
        "ax2.plot(X_test, prob[:,1])\n",
        "\n",
        "for ax in fig.axes:\n",
        "    ax.set_ylabel('Probabilidade de Affair')\n",
        "    ax.set_xlabel('Anos Casados')\n",
        "\n",
        "\n"
      ],
      "execution_count": 24,
      "outputs": [
        {
          "output_type": "display_data",
          "data": {
            "image/png": "[encoded data removed]",
            "text/plain": [
              "<Figure size 864x360 with 2 Axes>"
            ]
          },
          "metadata": {
            "tags": [],
            "needs_background": "light"
          }
        }
      ]
    },
    {
      "cell_type": "markdown",
      "metadata": {
        "id": "lCaMcAFUZ-xf"
      },
      "source": [
        "**Análise**\n",
        "\n",
        "Aumenta a probabilidade com os anos de casado."
      ]
    },
    {
      "cell_type": "code",
      "metadata": {
        "id": "5K77fO-mYC70",
        "colab": {
          "base_uri": "https://localhost:8080/",
          "height": 0
        },
        "outputId": "777bb064-0f79-47a6-ab33-07a073638ae5"
      },
      "source": [
        "import statsmodels.api as sm\n",
        "X_train = sm.add_constant(affairs.age)\n",
        "est = sm.Logit(y.ravel(), X_train).fit()\n",
        "est.summary2().tables[1]\n",
        "\n"
      ],
      "execution_count": 25,
      "outputs": [
        {
          "output_type": "stream",
          "text": [
            "Optimization terminated successfully.\n",
            "         Current function value: 0.618131\n",
            "         Iterations 5\n"
          ],
          "name": "stdout"
        },
        {
          "output_type": "execute_result",
          "data": {
            "text/html": [
              "<div>\n",
              "<style scoped>\n",
              "    .dataframe tbody tr th:only-of-type {\n",
              "        vertical-align: middle;\n",
              "    }\n",
              "\n",
              "    .dataframe tbody tr th {\n",
              "        vertical-align: top;\n",
              "    }\n",
              "\n",
              "    .dataframe thead th {\n",
              "        text-align: right;\n",
              "    }\n",
              "</style>\n",
              "<table border=\"1\" class=\"dataframe\">\n",
              "  <thead>\n",
              "    <tr style=\"text-align: right;\">\n",
              "      <th></th>\n",
              "      <th>Coef.</th>\n",
              "      <th>Std.Err.</th>\n",
              "      <th>z</th>\n",
              "      <th>P&gt;|z|</th>\n",
              "      <th>[0.025</th>\n",
              "      <th>0.975]</th>\n",
              "    </tr>\n",
              "  </thead>\n",
              "  <tbody>\n",
              "    <tr>\n",
              "      <th>const</th>\n",
              "      <td>-2.071481</td>\n",
              "      <td>0.119108</td>\n",
              "      <td>-17.391664</td>\n",
              "      <td>9.542299e-68</td>\n",
              "      <td>-2.304927</td>\n",
              "      <td>-1.838034</td>\n",
              "    </tr>\n",
              "    <tr>\n",
              "      <th>age</th>\n",
              "      <td>0.045155</td>\n",
              "      <td>0.003897</td>\n",
              "      <td>11.586809</td>\n",
              "      <td>4.807119e-31</td>\n",
              "      <td>0.037517</td>\n",
              "      <td>0.052793</td>\n",
              "    </tr>\n",
              "  </tbody>\n",
              "</table>\n",
              "</div>"
            ],
            "text/plain": [
              "          Coef.  Std.Err.          z         P>|z|    [0.025    0.975]\n",
              "const -2.071481  0.119108 -17.391664  9.542299e-68 -2.304927 -1.838034\n",
              "age    0.045155  0.003897  11.586809  4.807119e-31  0.037517  0.052793"
            ]
          },
          "metadata": {
            "tags": []
          },
          "execution_count": 25
        }
      ]
    },
    {
      "cell_type": "code",
      "metadata": {
        "id": "K_nkl2sDYD6P",
        "colab": {
          "base_uri": "https://localhost:8080/",
          "height": 0
        },
        "outputId": "8e408ee0-4b5b-44e5-a26f-ebd3d3d280ee"
      },
      "source": [
        "X_train = sm.add_constant(affairs[['age', 'yrs_married', 'rate_marriage']])\n",
        "y = affairs.affair\n",
        "est = sm.Logit(y.ravel(), X_train).fit()\n",
        "est.summary2().tables[1]"
      ],
      "execution_count": 26,
      "outputs": [
        {
          "output_type": "stream",
          "text": [
            "Optimization terminated successfully.\n",
            "         Current function value: 0.556651\n",
            "         Iterations 6\n"
          ],
          "name": "stdout"
        },
        {
          "output_type": "execute_result",
          "data": {
            "text/html": [
              "<div>\n",
              "<style scoped>\n",
              "    .dataframe tbody tr th:only-of-type {\n",
              "        vertical-align: middle;\n",
              "    }\n",
              "\n",
              "    .dataframe tbody tr th {\n",
              "        vertical-align: top;\n",
              "    }\n",
              "\n",
              "    .dataframe thead th {\n",
              "        text-align: right;\n",
              "    }\n",
              "</style>\n",
              "<table border=\"1\" class=\"dataframe\">\n",
              "  <thead>\n",
              "    <tr style=\"text-align: right;\">\n",
              "      <th></th>\n",
              "      <th>Coef.</th>\n",
              "      <th>Std.Err.</th>\n",
              "      <th>z</th>\n",
              "      <th>P&gt;|z|</th>\n",
              "      <th>[0.025</th>\n",
              "      <th>0.975]</th>\n",
              "    </tr>\n",
              "  </thead>\n",
              "  <tbody>\n",
              "    <tr>\n",
              "      <th>const</th>\n",
              "      <td>3.032377</td>\n",
              "      <td>0.249265</td>\n",
              "      <td>12.165270</td>\n",
              "      <td>4.758710e-34</td>\n",
              "      <td>2.543826</td>\n",
              "      <td>3.520928</td>\n",
              "    </tr>\n",
              "    <tr>\n",
              "      <th>age</th>\n",
              "      <td>-0.063218</td>\n",
              "      <td>0.009746</td>\n",
              "      <td>-6.486824</td>\n",
              "      <td>8.766445e-11</td>\n",
              "      <td>-0.082319</td>\n",
              "      <td>-0.044117</td>\n",
              "    </tr>\n",
              "    <tr>\n",
              "      <th>yrs_married</th>\n",
              "      <td>0.106243</td>\n",
              "      <td>0.009205</td>\n",
              "      <td>11.542467</td>\n",
              "      <td>8.058052e-31</td>\n",
              "      <td>0.088203</td>\n",
              "      <td>0.124284</td>\n",
              "    </tr>\n",
              "    <tr>\n",
              "      <th>rate_marriage</th>\n",
              "      <td>-0.727327</td>\n",
              "      <td>0.030956</td>\n",
              "      <td>-23.495828</td>\n",
              "      <td>4.499668e-122</td>\n",
              "      <td>-0.787999</td>\n",
              "      <td>-0.666655</td>\n",
              "    </tr>\n",
              "  </tbody>\n",
              "</table>\n",
              "</div>"
            ],
            "text/plain": [
              "                  Coef.  Std.Err.          z          P>|z|    [0.025    0.975]\n",
              "const          3.032377  0.249265  12.165270   4.758710e-34  2.543826  3.520928\n",
              "age           -0.063218  0.009746  -6.486824   8.766445e-11 -0.082319 -0.044117\n",
              "yrs_married    0.106243  0.009205  11.542467   8.058052e-31  0.088203  0.124284\n",
              "rate_marriage -0.727327  0.030956 -23.495828  4.499668e-122 -0.787999 -0.666655"
            ]
          },
          "metadata": {
            "tags": []
          },
          "execution_count": 26
        }
      ]
    },
    {
      "cell_type": "code",
      "metadata": {
        "id": "BRiVMO4WYLgj",
        "colab": {
          "base_uri": "https://localhost:8080/",
          "height": 0
        },
        "outputId": "bb23e69c-ac3c-4eac-bbfc-a6e0f517d827"
      },
      "source": [
        "affairs['affair2'] = affairs.affair.factorize()[0]\n",
        "\n",
        "\n",
        "X_train = affairs[affairs.religious==1.0].age.values.reshape(-1,1)\n",
        "y = affairs[affairs.religious==1.0].affair2\n",
        "\n",
        "##print(y)\n",
        "\n",
        "X_train2 = affairs[affairs.religious==2.0].age.values.reshape(-1,1)\n",
        "y2 = affairs[affairs.religious==2.0].affair2\n",
        "\n",
        "#print(y2)\n",
        "\n",
        "X_test = np.arange(affairs.age.min(), affairs.age.max()).reshape(-1,1)\n",
        "\n",
        "clf = skl_lm.LogisticRegression()\n",
        "clf.fit(X_train,y)\n",
        "prob = clf.predict_proba(X_test)\n",
        "\n",
        "\n",
        "clf2 = skl_lm.LogisticRegression()\n",
        "clf2.fit(X_train2,y2)\n",
        "prob2 = clf2.predict_proba(X_test)\n",
        "\n",
        "\n",
        "fig, ax = plt.subplots(1,1, figsize=(6,5))\n",
        "\n",
        "ax.plot(X_test, pd.DataFrame(prob)[1], label='Religião 1')\n",
        "ax.plot(X_test, pd.DataFrame(prob2)[1], label='Religião 2')\n",
        "ax.set_ylabel('Affair')\n",
        "ax.set_xlabel('Age')\n",
        "\n",
        "ax.set_xlim(0, 50)\n",
        "ax.legend(loc=2)"
      ],
      "execution_count": 27,
      "outputs": [
        {
          "output_type": "execute_result",
          "data": {
            "text/plain": [
              "<matplotlib.legend.Legend at 0x7f789ca95f10>"
            ]
          },
          "metadata": {
            "tags": []
          },
          "execution_count": 27
        },
        {
          "output_type": "display_data",
          "data": {
            "image/png": "[encoded data removed]",
            "text/plain": [
              "<Figure size 432x360 with 1 Axes>"
            ]
          },
          "metadata": {
            "tags": [],
            "needs_background": "light"
          }
        }
      ]
    },
    {
      "cell_type": "markdown",
      "metadata": {
        "id": "yjpTKQU-aMbw"
      },
      "source": [
        "**Análise**\n",
        "\n",
        "Aparentemente a sacanagem rola indepedente da religiosidade. :)"
      ]
    },
    {
      "cell_type": "code",
      "metadata": {
        "id": "c1TWHWLsYdDa",
        "colab": {
          "base_uri": "https://localhost:8080/",
          "height": 0
        },
        "outputId": "831ca6d5-4597-4dc8-87e6-ad2df4889106"
      },
      "source": [
        "from sklearn.metrics import confusion_matrix\n",
        "\n",
        "import seaborn as sns\n",
        "\n",
        "X_train = affairs[['children','age','religious']]\n",
        "y = affairs.affair2\n",
        "\n",
        "clf = skl_lm.LogisticRegression()\n",
        "clf.fit(X_train,y)\n",
        "\n",
        "y_pred = clf.predict(X_train)\n",
        "cm = confusion_matrix(y,y_pred)\n",
        "\n",
        "affairs_cm = pd.DataFrame(cm, range(2),range(2))\n",
        "sns.set(font_scale=1.4)\n",
        "sns.heatmap(affairs_cm, annot=True, annot_kws={\"size\": 16})"
      ],
      "execution_count": 28,
      "outputs": [
        {
          "output_type": "execute_result",
          "data": {
            "text/plain": [
              "<matplotlib.axes._subplots.AxesSubplot at 0x7f789b1db3d0>"
            ]
          },
          "metadata": {
            "tags": []
          },
          "execution_count": 28
        },
        {
          "output_type": "display_data",
          "data": {
            "image/png": "[encoded data removed]",
            "text/plain": [
              "<Figure size 432x288 with 2 Axes>"
            ]
          },
          "metadata": {
            "tags": []
          }
        }
      ]
    },
    {
      "cell_type": "markdown",
      "metadata": {
        "id": "Z9haf6GgHFp4"
      },
      "source": [
        "# KNN"
      ]
    },
    {
      "cell_type": "markdown",
      "metadata": {
        "id": "dHCmnhcmKIg_"
      },
      "source": [
        "Vamos iniciar o KNN com um parametro de 3 vizinhos. E na sequencia vamos alterando esse hiperparametro e features selecionadas com base no que aprendemos na regressao logistica"
      ]
    },
    {
      "cell_type": "code",
      "metadata": {
        "id": "r13MmhMsHFw8",
        "colab": {
          "base_uri": "https://localhost:8080/",
          "height": 373
        },
        "outputId": "ed7bb97d-840f-4946-90f2-c9ff55a85977"
      },
      "source": [
        "from sklearn.neighbors import KNeighborsClassifier \n",
        "from sklearn.metrics import accuracy_score,confusion_matrix\n",
        "from sklearn.model_selection import train_test_split\n",
        "\n",
        "X_train, X_test, Y_train, Y_test = train_test_split(Xs, Y) \n",
        "\n",
        "knn1 = KNeighborsClassifier(n_neighbors = 3 )\n",
        "knn1.fit(X_train,Y_train)\n",
        "print('Acuracia Treino',knn1.score(X_train,Y_train))\n",
        "y_pred = knn1.predict(X_test)\n",
        "print('Acuracia Teste',accuracy_score(Y_test,y_pred))\n",
        "print('MSE Teste',mean_squared_error(Y_test,previsoes))\n",
        "cm = confusion_matrix(Y_test, y_pred)\n",
        "print(cm)\n",
        "sns.heatmap(cm,annot=True)"
      ],
      "execution_count": 29,
      "outputs": [
        {
          "output_type": "stream",
          "text": [
            "Acuracia Treino 0.8167155425219942\n",
            "Acuracia Teste 0.6758793969849246\n",
            "MSE Teste 0.39824120603015073\n",
            "[[848 199]\n",
            " [317 228]]\n"
          ],
          "name": "stdout"
        },
        {
          "output_type": "execute_result",
          "data": {
            "text/plain": [
              "<matplotlib.axes._subplots.AxesSubplot at 0x7f789a4842d0>"
            ]
          },
          "metadata": {
            "tags": []
          },
          "execution_count": 29
        },
        {
          "output_type": "display_data",
          "data": {
            "image/png": "[encoded data removed]",
            "text/plain": [
              "<Figure size 432x288 with 2 Axes>"
            ]
          },
          "metadata": {
            "tags": []
          }
        }
      ]
    },
    {
      "cell_type": "markdown",
      "metadata": {
        "id": "QC_yMRDTaWXP"
      },
      "source": [
        "**Análise**\n",
        "\n",
        "Neste primeiro KNN com 3 vizinhos tivemos uma acuracia de treino superior (81%) ao de teste (61%), o que apontar para um overfit. Vamos alterar o numero de vizinhos para observar o efeito"
      ]
    },
    {
      "cell_type": "code",
      "metadata": {
        "colab": {
          "base_uri": "https://localhost:8080/",
          "height": 373
        },
        "id": "jIB7xAe4K4WD",
        "outputId": "47f7544a-c081-4ab4-92f9-6232960e857c"
      },
      "source": [
        "\n",
        "knn2 = KNeighborsClassifier(n_neighbors = 5 )\n",
        "knn2.fit(X_train,Y_train)\n",
        "print('Acuracia Treino',knn2.score(X_train,Y_train))\n",
        "y_pred = knn2.predict(X_test)\n",
        "print('Acuracia Teste',accuracy_score(Y_test,y_pred))\n",
        "print('MSE Teste',mean_squared_error(Y_test,previsoes))\n",
        "cm = confusion_matrix(Y_test, y_pred)\n",
        "print(cm)\n",
        "sns.heatmap(cm,annot=True)"
      ],
      "execution_count": 30,
      "outputs": [
        {
          "output_type": "stream",
          "text": [
            "Acuracia Treino 0.7802681189777964\n",
            "Acuracia Teste 0.6922110552763819\n",
            "MSE Teste 0.39824120603015073\n",
            "[[902 145]\n",
            " [345 200]]\n"
          ],
          "name": "stdout"
        },
        {
          "output_type": "execute_result",
          "data": {
            "text/plain": [
              "<matplotlib.axes._subplots.AxesSubplot at 0x7f789a215a10>"
            ]
          },
          "metadata": {
            "tags": []
          },
          "execution_count": 30
        },
        {
          "output_type": "display_data",
          "data": {
            "image/png": "[encoded data removed]",
            "text/plain": [
              "<Figure size 432x288 with 2 Axes>"
            ]
          },
          "metadata": {
            "tags": []
          }
        }
      ]
    },
    {
      "cell_type": "markdown",
      "metadata": {
        "id": "MdIMEdBzLH1M"
      },
      "source": [
        "**Analise**\n",
        "\n",
        "Aumentando o numero de vizinhos para 5, a acuracia de treino e teste se equilibram em torno de 70%, mantendo o MSE no mesmo patamar de 0.36. Vamos tentar agora alterar as features utilizadas, com base na regressao logistica"
      ]
    },
    {
      "cell_type": "code",
      "metadata": {
        "colab": {
          "base_uri": "https://localhost:8080/",
          "height": 373
        },
        "id": "2s_9K8bCLjy3",
        "outputId": "9cb2549e-1d77-4816-cf1d-d0e82fb2e0a2"
      },
      "source": [
        "\n",
        "knn = KNeighborsClassifier(n_neighbors = 5 )\n",
        "knn.fit(X_train[['rate_marriage','yrs_married','religious','occ5','occ6','tem_filhos']],Y_train)\n",
        "print('Acuracia Treino',knn.score(X_train[['rate_marriage','yrs_married','religious','occ5','occ6','tem_filhos']],Y_train))\n",
        "y_pred = knn.predict(X_test[['rate_marriage','yrs_married','religious','occ5','occ6','tem_filhos']])\n",
        "print('Acuracia Teste',accuracy_score(Y_test,y_pred))\n",
        "print('MSE Teste',mean_squared_error(Y_test,previsoes))\n",
        "cm = confusion_matrix(Y_test, y_pred)\n",
        "print(cm)\n",
        "sns.heatmap(cm,annot=True)"
      ],
      "execution_count": 31,
      "outputs": [
        {
          "output_type": "stream",
          "text": [
            "Acuracia Treino 0.7251780477586929\n",
            "Acuracia Teste 0.6821608040201005\n",
            "MSE Teste 0.39824120603015073\n",
            "[[916 131]\n",
            " [375 170]]\n"
          ],
          "name": "stdout"
        },
        {
          "output_type": "execute_result",
          "data": {
            "text/plain": [
              "<matplotlib.axes._subplots.AxesSubplot at 0x7f789a11d6d0>"
            ]
          },
          "metadata": {
            "tags": []
          },
          "execution_count": 31
        },
        {
          "output_type": "display_data",
          "data": {
            "image/png": "[encoded data removed]",
            "text/plain": [
              "<Figure size 432x288 with 2 Axes>"
            ]
          },
          "metadata": {
            "tags": []
          }
        }
      ]
    },
    {
      "cell_type": "markdown",
      "metadata": {
        "id": "ACw7WHCTMfyV"
      },
      "source": [
        "**Analise**\n",
        "\n",
        "A selecao de features nao afetou significativamente a acuracia e MSE do KNN. Vamos por fim treinar o modelo novamente com todas as features e criar uma curva ROC para verificar se o nivel da probabilidade aceito melhora precisao x recall"
      ]
    },
    {
      "cell_type": "code",
      "metadata": {
        "id": "Xh4EUlHpigDK",
        "colab": {
          "base_uri": "https://localhost:8080/",
          "height": 315
        },
        "outputId": "ad477862-e532-476c-c615-d1e697a99aee"
      },
      "source": [
        "from sklearn.metrics import roc_curve, auc\n",
        "import matplotlib.pyplot as plt\n",
        "y_score_lr = knn.fit(X_train, Y_train).predict_proba(X_train)\n",
        "fpr_lr, tpr_lr, _ = roc_curve(Y_train, y_score_lr[:, 1])\n",
        "roc_auc_lr = auc(fpr_lr, tpr_lr)\n",
        "\n",
        "plt.plot([0,1],[0,1],'k--')\n",
        "plt.plot(fpr_lr, tpr_lr, label='ROC curve (area = {:0.2f})'.format(roc_auc_lr))\n",
        "plt.xlabel('False Positive Rate')\n",
        "plt.ylabel('True Positive Rate')\n",
        "plt.title('ROC curve')\n",
        "plt.legend(loc='lower right')\n",
        "plt.show()"
      ],
      "execution_count": 32,
      "outputs": [
        {
          "output_type": "display_data",
          "data": {
            "image/png": "[encoded data removed]",
            "text/plain": [
              "<Figure size 432x288 with 1 Axes>"
            ]
          },
          "metadata": {
            "tags": []
          }
        }
      ]
    },
    {
      "cell_type": "markdown",
      "metadata": {
        "id": "v2YnmbwhIclc"
      },
      "source": [
        "**Analise**\n",
        "\n",
        "Alterando a probalidade aceita para classificar o individuo como positivo, podemos chegar em um equilibrio entre acuracia e recall, tendo mais de 60% de TP e cerca de 10% de FP. Ou ainda chegar a ter uma precisao perfeita, 100%, se dispor a ter uma maior taxa de FP, um pouco mais de 40%"
      ]
    },
    {
      "cell_type": "markdown",
      "metadata": {
        "id": "L2KQOWKm5phf"
      },
      "source": [
        "# Árvore de Decisão"
      ]
    },
    {
      "cell_type": "code",
      "metadata": {
        "id": "M9zoi-auNh0d",
        "colab": {
          "base_uri": "https://localhost:8080/"
        },
        "outputId": "b58c5ef2-2ca1-45c8-88b9-fae2e8d74009"
      },
      "source": [
        " !pip install graphviz"
      ],
      "execution_count": 33,
      "outputs": [
        {
          "output_type": "stream",
          "text": [
            "Requirement already satisfied: graphviz in /usr/local/lib/python3.7/dist-packages (0.10.1)\n"
          ],
          "name": "stdout"
        }
      ]
    },
    {
      "cell_type": "code",
      "metadata": {
        "id": "7BJHybl7Njgj",
        "colab": {
          "base_uri": "https://localhost:8080/"
        },
        "outputId": "b10724eb-3ade-4949-870a-365351352a85"
      },
      "source": [
        " !apt-get install graphviz"
      ],
      "execution_count": 34,
      "outputs": [
        {
          "output_type": "stream",
          "text": [
            "Reading package lists... Done\n",
            "Building dependency tree       \n",
            "Reading state information... Done\n",
            "graphviz is already the newest version (2.40.1-2).\n",
            "0 upgraded, 0 newly installed, 0 to remove and 39 not upgraded.\n"
          ],
          "name": "stdout"
        }
      ]
    },
    {
      "cell_type": "code",
      "metadata": {
        "id": "uEI7qfX-5pGQ",
        "colab": {
          "base_uri": "https://localhost:8080/",
          "height": 110
        },
        "outputId": "f69d6289-c761-4ef9-e572-92bc34b2ccd8"
      },
      "source": [
        "import pandas as pd\n",
        "affairs=pd.read_csv('http://quant-ibmec.group/data/affairs.csv')\n",
        "#affairs['Had_Affair'] = affairs['affair'].map({True:'Trai',False:'Nao Trai'})\n",
        "#affairs.dropna(inplace=True)\n",
        "affairs.head(2)"
      ],
      "execution_count": 35,
      "outputs": [
        {
          "output_type": "execute_result",
          "data": {
            "text/html": [
              "<div>\n",
              "<style scoped>\n",
              "    .dataframe tbody tr th:only-of-type {\n",
              "        vertical-align: middle;\n",
              "    }\n",
              "\n",
              "    .dataframe tbody tr th {\n",
              "        vertical-align: top;\n",
              "    }\n",
              "\n",
              "    .dataframe thead th {\n",
              "        text-align: right;\n",
              "    }\n",
              "</style>\n",
              "<table border=\"1\" class=\"dataframe\">\n",
              "  <thead>\n",
              "    <tr style=\"text-align: right;\">\n",
              "      <th></th>\n",
              "      <th>Unnamed: 0</th>\n",
              "      <th>rate_marriage</th>\n",
              "      <th>age</th>\n",
              "      <th>yrs_married</th>\n",
              "      <th>children</th>\n",
              "      <th>religious</th>\n",
              "      <th>educ</th>\n",
              "      <th>occupation</th>\n",
              "      <th>occupation_husb</th>\n",
              "      <th>affair</th>\n",
              "    </tr>\n",
              "  </thead>\n",
              "  <tbody>\n",
              "    <tr>\n",
              "      <th>0</th>\n",
              "      <td>0</td>\n",
              "      <td>3.0</td>\n",
              "      <td>32.0</td>\n",
              "      <td>9.0</td>\n",
              "      <td>3.0</td>\n",
              "      <td>3.0</td>\n",
              "      <td>17.0</td>\n",
              "      <td>2.0</td>\n",
              "      <td>5.0</td>\n",
              "      <td>True</td>\n",
              "    </tr>\n",
              "    <tr>\n",
              "      <th>1</th>\n",
              "      <td>1</td>\n",
              "      <td>3.0</td>\n",
              "      <td>27.0</td>\n",
              "      <td>13.0</td>\n",
              "      <td>3.0</td>\n",
              "      <td>1.0</td>\n",
              "      <td>14.0</td>\n",
              "      <td>3.0</td>\n",
              "      <td>4.0</td>\n",
              "      <td>True</td>\n",
              "    </tr>\n",
              "  </tbody>\n",
              "</table>\n",
              "</div>"
            ],
            "text/plain": [
              "   Unnamed: 0  rate_marriage   age  ...  occupation  occupation_husb  affair\n",
              "0           0            3.0  32.0  ...         2.0              5.0    True\n",
              "1           1            3.0  27.0  ...         3.0              4.0    True\n",
              "\n",
              "[2 rows x 10 columns]"
            ]
          },
          "metadata": {
            "tags": []
          },
          "execution_count": 35
        }
      ]
    },
    {
      "cell_type": "code",
      "metadata": {
        "id": "KqOQlYi06R_W",
        "colab": {
          "base_uri": "https://localhost:8080/",
          "height": 493
        },
        "outputId": "d39aa7c8-8362-478e-a2e0-9dde3aa86636"
      },
      "source": [
        "from sklearn.tree import DecisionTreeClassifier\n",
        "from sklearn.tree import export_graphviz\n",
        "from sklearn.externals.six import StringIO\n",
        "import pydot\n",
        "from IPython.display import Image\n",
        "from graphviz import Source\n",
        "\n",
        "X = affairs[[\t'rate_marriage','age',\t'yrs_married',\t'children',\t'religious',\t'educ']]\n",
        "y = pd.factorize(affairs['affair'])[0] \n",
        "\n",
        "tree1 = DecisionTreeClassifier(max_depth=2)\n",
        "tree1.fit(X,y)\n",
        "\n",
        "dot = export_graphviz(tree1, feature_names=[\t'rate_marriage','age',\t'yrs_married',\t'children',\t'religious',\t'educ'], class_names=['Trai','Nao Trai'], filled=True)\n",
        "Source(dot)"
      ],
      "execution_count": 36,
      "outputs": [
        {
          "output_type": "stream",
          "text": [
            "/usr/local/lib/python3.7/dist-packages/sklearn/externals/six.py:31: FutureWarning: The module is deprecated in version 0.21 and will be removed in version 0.23 since we've dropped support for Python 2.7. Please rely on the official version of six (https://pypi.org/project/six/).\n",
            "  \"(https://pypi.org/project/six/).\", FutureWarning)\n"
          ],
          "name": "stderr"
        },
        {
          "output_type": "execute_result",
          "data": {
            "text/plain": [
              "<graphviz.files.Source at 0x7f78add11a90>"
            ],
            "image/svg+xml": "<?xml version=\"1.0\" encoding=\"UTF-8\" standalone=\"no\"?>\n<!DOCTYPE svg PUBLIC \"-//W3C//DTD SVG 1.1//EN\"\n \"http://www.w3.org/Graphics/SVG/1.1/DTD/svg11.dtd\">\n<!-- Generated by graphviz version 2.40.1 (20161225.0304)\n -->\n<!-- Title: Tree Pages: 1 -->\n<svg width=\"580pt\" height=\"314pt\"\n viewBox=\"0.00 0.00 580.00 314.00\" xmlns=\"http://www.w3.org/2000/svg\" xmlns:xlink=\"http://www.w3.org/1999/xlink\">\n<g id=\"graph0\" class=\"graph\" transform=\"scale(1 1) rotate(0) translate(4 310)\">\n<title>Tree</title>\n<polygon fill=\"#ffffff\" stroke=\"transparent\" points=\"-4,4 -4,-310 576,-310 576,4 -4,4\"/>\n<!-- 0 -->\n<g id=\"node1\" class=\"node\">\n<title>0</title>\n<polygon fill=\"#97ccf1\" stroke=\"#000000\" points=\"350,-306 210,-306 210,-223 350,-223 350,-306\"/>\n<text text-anchor=\"middle\" x=\"280\" y=\"-290.8\" font-family=\"Times,serif\" font-size=\"14.00\" fill=\"#000000\">rate_marriage &lt;= 3.5</text>\n<text text-anchor=\"middle\" x=\"280\" y=\"-275.8\" font-family=\"Times,serif\" font-size=\"14.00\" fill=\"#000000\">gini = 0.437</text>\n<text text-anchor=\"middle\" x=\"280\" y=\"-260.8\" font-family=\"Times,serif\" font-size=\"14.00\" fill=\"#000000\">samples = 6366</text>\n<text text-anchor=\"middle\" x=\"280\" y=\"-245.8\" font-family=\"Times,serif\" font-size=\"14.00\" fill=\"#000000\">value = [2053, 4313]</text>\n<text text-anchor=\"middle\" x=\"280\" y=\"-230.8\" font-family=\"Times,serif\" font-size=\"14.00\" fill=\"#000000\">class = Nao Trai</text>\n</g>\n<!-- 1 -->\n<g id=\"node2\" class=\"node\">\n<title>1</title>\n<polygon fill=\"#f7dac6\" stroke=\"#000000\" points=\"270.5,-187 135.5,-187 135.5,-104 270.5,-104 270.5,-187\"/>\n<text text-anchor=\"middle\" x=\"203\" y=\"-171.8\" font-family=\"Times,serif\" font-size=\"14.00\" fill=\"#000000\">yrs_married &lt;= 4.25</text>\n<text text-anchor=\"middle\" x=\"203\" y=\"-156.8\" font-family=\"Times,serif\" font-size=\"14.00\" fill=\"#000000\">gini = 0.486</text>\n<text text-anchor=\"middle\" x=\"203\" y=\"-141.8\" font-family=\"Times,serif\" font-size=\"14.00\" fill=\"#000000\">samples = 1440</text>\n<text text-anchor=\"middle\" x=\"203\" y=\"-126.8\" font-family=\"Times,serif\" font-size=\"14.00\" fill=\"#000000\">value = [842, 598]</text>\n<text text-anchor=\"middle\" x=\"203\" y=\"-111.8\" font-family=\"Times,serif\" font-size=\"14.00\" fill=\"#000000\">class = Trai</text>\n</g>\n<!-- 0&#45;&gt;1 -->\n<g id=\"edge1\" class=\"edge\">\n<title>0&#45;&gt;1</title>\n<path fill=\"none\" stroke=\"#000000\" d=\"M253.0691,-222.8796C247.4163,-214.1434 241.3967,-204.8404 235.5634,-195.8253\"/>\n<polygon fill=\"#000000\" stroke=\"#000000\" points=\"238.4169,-193.7924 230.0458,-187.2981 232.5399,-197.5952 238.4169,-193.7924\"/>\n<text text-anchor=\"middle\" x=\"224.8076\" y=\"-208.0431\" font-family=\"Times,serif\" font-size=\"14.00\" fill=\"#000000\">True</text>\n</g>\n<!-- 4 -->\n<g id=\"node5\" class=\"node\">\n<title>4</title>\n<polygon fill=\"#7abded\" stroke=\"#000000\" points=\"427.5,-187 288.5,-187 288.5,-104 427.5,-104 427.5,-187\"/>\n<text text-anchor=\"middle\" x=\"358\" y=\"-171.8\" font-family=\"Times,serif\" font-size=\"14.00\" fill=\"#000000\">yrs_married &lt;= 4.25</text>\n<text text-anchor=\"middle\" x=\"358\" y=\"-156.8\" font-family=\"Times,serif\" font-size=\"14.00\" fill=\"#000000\">gini = 0.371</text>\n<text text-anchor=\"middle\" x=\"358\" y=\"-141.8\" font-family=\"Times,serif\" font-size=\"14.00\" fill=\"#000000\">samples = 4926</text>\n<text text-anchor=\"middle\" x=\"358\" y=\"-126.8\" font-family=\"Times,serif\" font-size=\"14.00\" fill=\"#000000\">value = [1211, 3715]</text>\n<text text-anchor=\"middle\" x=\"358\" y=\"-111.8\" font-family=\"Times,serif\" font-size=\"14.00\" fill=\"#000000\">class = Nao Trai</text>\n</g>\n<!-- 0&#45;&gt;4 -->\n<g id=\"edge4\" class=\"edge\">\n<title>0&#45;&gt;4</title>\n<path fill=\"none\" stroke=\"#000000\" d=\"M307.2806,-222.8796C313.0068,-214.1434 319.1046,-204.8404 325.0137,-195.8253\"/>\n<polygon fill=\"#000000\" stroke=\"#000000\" points=\"328.0482,-197.5803 330.6029,-187.2981 322.1937,-193.7429 328.0482,-197.5803\"/>\n<text text-anchor=\"middle\" x=\"335.6968\" y=\"-208.0736\" font-family=\"Times,serif\" font-size=\"14.00\" fill=\"#000000\">False</text>\n</g>\n<!-- 2 -->\n<g id=\"node3\" class=\"node\">\n<title>2</title>\n<polygon fill=\"#deeffb\" stroke=\"#000000\" points=\"124,-68 0,-68 0,0 124,0 124,-68\"/>\n<text text-anchor=\"middle\" x=\"62\" y=\"-52.8\" font-family=\"Times,serif\" font-size=\"14.00\" fill=\"#000000\">gini = 0.496</text>\n<text text-anchor=\"middle\" x=\"62\" y=\"-37.8\" font-family=\"Times,serif\" font-size=\"14.00\" fill=\"#000000\">samples = 387</text>\n<text text-anchor=\"middle\" x=\"62\" y=\"-22.8\" font-family=\"Times,serif\" font-size=\"14.00\" fill=\"#000000\">value = [176, 211]</text>\n<text text-anchor=\"middle\" x=\"62\" y=\"-7.8\" font-family=\"Times,serif\" font-size=\"14.00\" fill=\"#000000\">class = Nao Trai</text>\n</g>\n<!-- 1&#45;&gt;2 -->\n<g id=\"edge2\" class=\"edge\">\n<title>1&#45;&gt;2</title>\n<path fill=\"none\" stroke=\"#000000\" d=\"M150.4968,-103.9815C138.2934,-94.3313 125.319,-84.0714 113.1739,-74.4673\"/>\n<polygon fill=\"#000000\" stroke=\"#000000\" points=\"115.3438,-71.7211 105.329,-68.2637 111.0018,-77.2118 115.3438,-71.7211\"/>\n</g>\n<!-- 3 -->\n<g id=\"node4\" class=\"node\">\n<title>3</title>\n<polygon fill=\"#f4caac\" stroke=\"#000000\" points=\"267.5,-68 142.5,-68 142.5,0 267.5,0 267.5,-68\"/>\n<text text-anchor=\"middle\" x=\"205\" y=\"-52.8\" font-family=\"Times,serif\" font-size=\"14.00\" fill=\"#000000\">gini = 0.465</text>\n<text text-anchor=\"middle\" x=\"205\" y=\"-37.8\" font-family=\"Times,serif\" font-size=\"14.00\" fill=\"#000000\">samples = 1053</text>\n<text text-anchor=\"middle\" x=\"205\" y=\"-22.8\" font-family=\"Times,serif\" font-size=\"14.00\" fill=\"#000000\">value = [666, 387]</text>\n<text text-anchor=\"middle\" x=\"205\" y=\"-7.8\" font-family=\"Times,serif\" font-size=\"14.00\" fill=\"#000000\">class = Trai</text>\n</g>\n<!-- 1&#45;&gt;3 -->\n<g id=\"edge3\" class=\"edge\">\n<title>1&#45;&gt;3</title>\n<path fill=\"none\" stroke=\"#000000\" d=\"M203.7447,-103.9815C203.8947,-95.618 204.053,-86.7965 204.2046,-78.3409\"/>\n<polygon fill=\"#000000\" stroke=\"#000000\" points=\"207.7054,-78.3249 204.3854,-68.2637 200.7065,-78.1993 207.7054,-78.3249\"/>\n</g>\n<!-- 5 -->\n<g id=\"node6\" class=\"node\">\n<title>5</title>\n<polygon fill=\"#59ade9\" stroke=\"#000000\" points=\"422,-68 290,-68 290,0 422,0 422,-68\"/>\n<text text-anchor=\"middle\" x=\"356\" y=\"-52.8\" font-family=\"Times,serif\" font-size=\"14.00\" fill=\"#000000\">gini = 0.238</text>\n<text text-anchor=\"middle\" x=\"356\" y=\"-37.8\" font-family=\"Times,serif\" font-size=\"14.00\" fill=\"#000000\">samples = 2017</text>\n<text text-anchor=\"middle\" x=\"356\" y=\"-22.8\" font-family=\"Times,serif\" font-size=\"14.00\" fill=\"#000000\">value = [279, 1738]</text>\n<text text-anchor=\"middle\" x=\"356\" y=\"-7.8\" font-family=\"Times,serif\" font-size=\"14.00\" fill=\"#000000\">class = Nao Trai</text>\n</g>\n<!-- 4&#45;&gt;5 -->\n<g id=\"edge5\" class=\"edge\">\n<title>4&#45;&gt;5</title>\n<path fill=\"none\" stroke=\"#000000\" d=\"M357.2553,-103.9815C357.1053,-95.618 356.947,-86.7965 356.7954,-78.3409\"/>\n<polygon fill=\"#000000\" stroke=\"#000000\" points=\"360.2935,-78.1993 356.6146,-68.2637 353.2946,-78.3249 360.2935,-78.1993\"/>\n</g>\n<!-- 6 -->\n<g id=\"node7\" class=\"node\">\n<title>6</title>\n<polygon fill=\"#96cbf1\" stroke=\"#000000\" points=\"572,-68 440,-68 440,0 572,0 572,-68\"/>\n<text text-anchor=\"middle\" x=\"506\" y=\"-52.8\" font-family=\"Times,serif\" font-size=\"14.00\" fill=\"#000000\">gini = 0.435</text>\n<text text-anchor=\"middle\" x=\"506\" y=\"-37.8\" font-family=\"Times,serif\" font-size=\"14.00\" fill=\"#000000\">samples = 2909</text>\n<text text-anchor=\"middle\" x=\"506\" y=\"-22.8\" font-family=\"Times,serif\" font-size=\"14.00\" fill=\"#000000\">value = [932, 1977]</text>\n<text text-anchor=\"middle\" x=\"506\" y=\"-7.8\" font-family=\"Times,serif\" font-size=\"14.00\" fill=\"#000000\">class = Nao Trai</text>\n</g>\n<!-- 4&#45;&gt;6 -->\n<g id=\"edge6\" class=\"edge\">\n<title>4&#45;&gt;6</title>\n<path fill=\"none\" stroke=\"#000000\" d=\"M413.1097,-103.9815C425.919,-94.3313 439.5375,-84.0714 452.2856,-74.4673\"/>\n<polygon fill=\"#000000\" stroke=\"#000000\" points=\"454.639,-77.0764 460.52,-68.2637 450.4269,-71.4855 454.639,-77.0764\"/>\n</g>\n</g>\n</svg>\n"
          },
          "metadata": {
            "tags": []
          },
          "execution_count": 36
        }
      ]
    },
    {
      "cell_type": "markdown",
      "metadata": {
        "id": "jn-QP-gPSoGE"
      },
      "source": [
        "**Análise**\n",
        "\n",
        "Se a mulher atribui uma nota para o casamento superior a 3,5, ela nao trai independetemente do tempo da relacao. Por outro lado, se o a nota eh inferior a 3,5, e o tempo de casamento eh superior a 4,25 anos, ela tende a trair. Mesmo com um nota baixa (< 3,5), tendo pouco tempo de casamento (< 4,5 anos) ela tende a nao trair "
      ]
    },
    {
      "cell_type": "code",
      "metadata": {
        "id": "2DshZ2QaT-8a",
        "colab": {
          "base_uri": "https://localhost:8080/",
          "height": 757
        },
        "outputId": "e832d53a-45dc-4333-ea05-c68a829d173c"
      },
      "source": [
        "tree2 = DecisionTreeClassifier(max_leaf_nodes=6)\n",
        "tree2.fit(X,y)\n",
        "dot = export_graphviz(tree2, feature_names=[\t'rate_marriage','age',\t'yrs_married',\t'children',\t'religious',\t'educ'], class_names=['Trai','Nao Trai'], filled=True)\n",
        "Source(dot) "
      ],
      "execution_count": 37,
      "outputs": [
        {
          "output_type": "execute_result",
          "data": {
            "text/plain": [
              "<graphviz.files.Source at 0x7f789a024510>"
            ],
            "image/svg+xml": "<?xml version=\"1.0\" encoding=\"UTF-8\" standalone=\"no\"?>\n<!DOCTYPE svg PUBLIC \"-//W3C//DTD SVG 1.1//EN\"\n \"http://www.w3.org/Graphics/SVG/1.1/DTD/svg11.dtd\">\n<!-- Generated by graphviz version 2.40.1 (20161225.0304)\n -->\n<!-- Title: Tree Pages: 1 -->\n<svg width=\"727pt\" height=\"552pt\"\n viewBox=\"0.00 0.00 727.00 552.00\" xmlns=\"http://www.w3.org/2000/svg\" xmlns:xlink=\"http://www.w3.org/1999/xlink\">\n<g id=\"graph0\" class=\"graph\" transform=\"scale(1 1) rotate(0) translate(4 548)\">\n<title>Tree</title>\n<polygon fill=\"#ffffff\" stroke=\"transparent\" points=\"-4,4 -4,-548 723,-548 723,4 -4,4\"/>\n<!-- 0 -->\n<g id=\"node1\" class=\"node\">\n<title>0</title>\n<polygon fill=\"#97ccf1\" stroke=\"#000000\" points=\"350,-544 210,-544 210,-461 350,-461 350,-544\"/>\n<text text-anchor=\"middle\" x=\"280\" y=\"-528.8\" font-family=\"Times,serif\" font-size=\"14.00\" fill=\"#000000\">rate_marriage &lt;= 3.5</text>\n<text text-anchor=\"middle\" x=\"280\" y=\"-513.8\" font-family=\"Times,serif\" font-size=\"14.00\" fill=\"#000000\">gini = 0.437</text>\n<text text-anchor=\"middle\" x=\"280\" y=\"-498.8\" font-family=\"Times,serif\" font-size=\"14.00\" fill=\"#000000\">samples = 6366</text>\n<text text-anchor=\"middle\" x=\"280\" y=\"-483.8\" font-family=\"Times,serif\" font-size=\"14.00\" fill=\"#000000\">value = [2053, 4313]</text>\n<text text-anchor=\"middle\" x=\"280\" y=\"-468.8\" font-family=\"Times,serif\" font-size=\"14.00\" fill=\"#000000\">class = Nao Trai</text>\n</g>\n<!-- 1 -->\n<g id=\"node2\" class=\"node\">\n<title>1</title>\n<polygon fill=\"#f7dac6\" stroke=\"#000000\" points=\"270.5,-425 135.5,-425 135.5,-342 270.5,-342 270.5,-425\"/>\n<text text-anchor=\"middle\" x=\"203\" y=\"-409.8\" font-family=\"Times,serif\" font-size=\"14.00\" fill=\"#000000\">yrs_married &lt;= 4.25</text>\n<text text-anchor=\"middle\" x=\"203\" y=\"-394.8\" font-family=\"Times,serif\" font-size=\"14.00\" fill=\"#000000\">gini = 0.486</text>\n<text text-anchor=\"middle\" x=\"203\" y=\"-379.8\" font-family=\"Times,serif\" font-size=\"14.00\" fill=\"#000000\">samples = 1440</text>\n<text text-anchor=\"middle\" x=\"203\" y=\"-364.8\" font-family=\"Times,serif\" font-size=\"14.00\" fill=\"#000000\">value = [842, 598]</text>\n<text text-anchor=\"middle\" x=\"203\" y=\"-349.8\" font-family=\"Times,serif\" font-size=\"14.00\" fill=\"#000000\">class = Trai</text>\n</g>\n<!-- 0&#45;&gt;1 -->\n<g id=\"edge1\" class=\"edge\">\n<title>0&#45;&gt;1</title>\n<path fill=\"none\" stroke=\"#000000\" d=\"M253.0691,-460.8796C247.4163,-452.1434 241.3967,-442.8404 235.5634,-433.8253\"/>\n<polygon fill=\"#000000\" stroke=\"#000000\" points=\"238.4169,-431.7924 230.0458,-425.2981 232.5399,-435.5952 238.4169,-431.7924\"/>\n<text text-anchor=\"middle\" x=\"224.8076\" y=\"-446.0431\" font-family=\"Times,serif\" font-size=\"14.00\" fill=\"#000000\">True</text>\n</g>\n<!-- 2 -->\n<g id=\"node5\" class=\"node\">\n<title>2</title>\n<polygon fill=\"#7abded\" stroke=\"#000000\" points=\"427.5,-425 288.5,-425 288.5,-342 427.5,-342 427.5,-425\"/>\n<text text-anchor=\"middle\" x=\"358\" y=\"-409.8\" font-family=\"Times,serif\" font-size=\"14.00\" fill=\"#000000\">yrs_married &lt;= 4.25</text>\n<text text-anchor=\"middle\" x=\"358\" y=\"-394.8\" font-family=\"Times,serif\" font-size=\"14.00\" fill=\"#000000\">gini = 0.371</text>\n<text text-anchor=\"middle\" x=\"358\" y=\"-379.8\" font-family=\"Times,serif\" font-size=\"14.00\" fill=\"#000000\">samples = 4926</text>\n<text text-anchor=\"middle\" x=\"358\" y=\"-364.8\" font-family=\"Times,serif\" font-size=\"14.00\" fill=\"#000000\">value = [1211, 3715]</text>\n<text text-anchor=\"middle\" x=\"358\" y=\"-349.8\" font-family=\"Times,serif\" font-size=\"14.00\" fill=\"#000000\">class = Nao Trai</text>\n</g>\n<!-- 0&#45;&gt;2 -->\n<g id=\"edge4\" class=\"edge\">\n<title>0&#45;&gt;2</title>\n<path fill=\"none\" stroke=\"#000000\" d=\"M307.2806,-460.8796C313.0068,-452.1434 319.1046,-442.8404 325.0137,-433.8253\"/>\n<polygon fill=\"#000000\" stroke=\"#000000\" points=\"328.0482,-435.5803 330.6029,-425.2981 322.1937,-431.7429 328.0482,-435.5803\"/>\n<text text-anchor=\"middle\" x=\"335.6968\" y=\"-446.0736\" font-family=\"Times,serif\" font-size=\"14.00\" fill=\"#000000\">False</text>\n</g>\n<!-- 7 -->\n<g id=\"node3\" class=\"node\">\n<title>7</title>\n<polygon fill=\"#deeffb\" stroke=\"#000000\" points=\"124,-298.5 0,-298.5 0,-230.5 124,-230.5 124,-298.5\"/>\n<text text-anchor=\"middle\" x=\"62\" y=\"-283.3\" font-family=\"Times,serif\" font-size=\"14.00\" fill=\"#000000\">gini = 0.496</text>\n<text text-anchor=\"middle\" x=\"62\" y=\"-268.3\" font-family=\"Times,serif\" font-size=\"14.00\" fill=\"#000000\">samples = 387</text>\n<text text-anchor=\"middle\" x=\"62\" y=\"-253.3\" font-family=\"Times,serif\" font-size=\"14.00\" fill=\"#000000\">value = [176, 211]</text>\n<text text-anchor=\"middle\" x=\"62\" y=\"-238.3\" font-family=\"Times,serif\" font-size=\"14.00\" fill=\"#000000\">class = Nao Trai</text>\n</g>\n<!-- 1&#45;&gt;7 -->\n<g id=\"edge2\" class=\"edge\">\n<title>1&#45;&gt;7</title>\n<path fill=\"none\" stroke=\"#000000\" d=\"M153.685,-341.8796C139.744,-330.1138 124.5846,-317.3197 110.6812,-305.5855\"/>\n<polygon fill=\"#000000\" stroke=\"#000000\" points=\"112.5584,-302.5899 102.6589,-298.8149 108.0436,-307.9394 112.5584,-302.5899\"/>\n</g>\n<!-- 8 -->\n<g id=\"node4\" class=\"node\">\n<title>8</title>\n<polygon fill=\"#f4caac\" stroke=\"#000000\" points=\"267.5,-298.5 142.5,-298.5 142.5,-230.5 267.5,-230.5 267.5,-298.5\"/>\n<text text-anchor=\"middle\" x=\"205\" y=\"-283.3\" font-family=\"Times,serif\" font-size=\"14.00\" fill=\"#000000\">gini = 0.465</text>\n<text text-anchor=\"middle\" x=\"205\" y=\"-268.3\" font-family=\"Times,serif\" font-size=\"14.00\" fill=\"#000000\">samples = 1053</text>\n<text text-anchor=\"middle\" x=\"205\" y=\"-253.3\" font-family=\"Times,serif\" font-size=\"14.00\" fill=\"#000000\">value = [666, 387]</text>\n<text text-anchor=\"middle\" x=\"205\" y=\"-238.3\" font-family=\"Times,serif\" font-size=\"14.00\" fill=\"#000000\">class = Trai</text>\n</g>\n<!-- 1&#45;&gt;8 -->\n<g id=\"edge3\" class=\"edge\">\n<title>1&#45;&gt;8</title>\n<path fill=\"none\" stroke=\"#000000\" d=\"M203.6995,-341.8796C203.8788,-331.2134 204.0722,-319.7021 204.2538,-308.9015\"/>\n<polygon fill=\"#000000\" stroke=\"#000000\" points=\"207.7546,-308.8724 204.4233,-298.8149 200.7556,-308.7547 207.7546,-308.8724\"/>\n</g>\n<!-- 3 -->\n<g id=\"node6\" class=\"node\">\n<title>3</title>\n<polygon fill=\"#59ade9\" stroke=\"#000000\" points=\"422,-298.5 290,-298.5 290,-230.5 422,-230.5 422,-298.5\"/>\n<text text-anchor=\"middle\" x=\"356\" y=\"-283.3\" font-family=\"Times,serif\" font-size=\"14.00\" fill=\"#000000\">gini = 0.238</text>\n<text text-anchor=\"middle\" x=\"356\" y=\"-268.3\" font-family=\"Times,serif\" font-size=\"14.00\" fill=\"#000000\">samples = 2017</text>\n<text text-anchor=\"middle\" x=\"356\" y=\"-253.3\" font-family=\"Times,serif\" font-size=\"14.00\" fill=\"#000000\">value = [279, 1738]</text>\n<text text-anchor=\"middle\" x=\"356\" y=\"-238.3\" font-family=\"Times,serif\" font-size=\"14.00\" fill=\"#000000\">class = Nao Trai</text>\n</g>\n<!-- 2&#45;&gt;3 -->\n<g id=\"edge5\" class=\"edge\">\n<title>2&#45;&gt;3</title>\n<path fill=\"none\" stroke=\"#000000\" d=\"M357.3005,-341.8796C357.1212,-331.2134 356.9278,-319.7021 356.7462,-308.9015\"/>\n<polygon fill=\"#000000\" stroke=\"#000000\" points=\"360.2444,-308.7547 356.5767,-298.8149 353.2454,-308.8724 360.2444,-308.7547\"/>\n</g>\n<!-- 4 -->\n<g id=\"node7\" class=\"node\">\n<title>4</title>\n<polygon fill=\"#96cbf1\" stroke=\"#000000\" points=\"577.5,-306 440.5,-306 440.5,-223 577.5,-223 577.5,-306\"/>\n<text text-anchor=\"middle\" x=\"509\" y=\"-290.8\" font-family=\"Times,serif\" font-size=\"14.00\" fill=\"#000000\">rate_marriage &lt;= 4.5</text>\n<text text-anchor=\"middle\" x=\"509\" y=\"-275.8\" font-family=\"Times,serif\" font-size=\"14.00\" fill=\"#000000\">gini = 0.435</text>\n<text text-anchor=\"middle\" x=\"509\" y=\"-260.8\" font-family=\"Times,serif\" font-size=\"14.00\" fill=\"#000000\">samples = 2909</text>\n<text text-anchor=\"middle\" x=\"509\" y=\"-245.8\" font-family=\"Times,serif\" font-size=\"14.00\" fill=\"#000000\">value = [932, 1977]</text>\n<text text-anchor=\"middle\" x=\"509\" y=\"-230.8\" font-family=\"Times,serif\" font-size=\"14.00\" fill=\"#000000\">class = Nao Trai</text>\n</g>\n<!-- 2&#45;&gt;4 -->\n<g id=\"edge6\" class=\"edge\">\n<title>2&#45;&gt;4</title>\n<path fill=\"none\" stroke=\"#000000\" d=\"M410.8125,-341.8796C422.8818,-332.368 435.8039,-322.1843 448.1788,-312.432\"/>\n<polygon fill=\"#000000\" stroke=\"#000000\" points=\"450.5296,-315.0356 456.2173,-306.0969 446.1968,-309.5377 450.5296,-315.0356\"/>\n</g>\n<!-- 5 -->\n<g id=\"node8\" class=\"node\">\n<title>5</title>\n<polygon fill=\"#bbdef6\" stroke=\"#000000\" points=\"498.5,-179.5 373.5,-179.5 373.5,-111.5 498.5,-111.5 498.5,-179.5\"/>\n<text text-anchor=\"middle\" x=\"436\" y=\"-164.3\" font-family=\"Times,serif\" font-size=\"14.00\" fill=\"#000000\">gini = 0.479</text>\n<text text-anchor=\"middle\" x=\"436\" y=\"-149.3\" font-family=\"Times,serif\" font-size=\"14.00\" fill=\"#000000\">samples = 1418</text>\n<text text-anchor=\"middle\" x=\"436\" y=\"-134.3\" font-family=\"Times,serif\" font-size=\"14.00\" fill=\"#000000\">value = [563, 855]</text>\n<text text-anchor=\"middle\" x=\"436\" y=\"-119.3\" font-family=\"Times,serif\" font-size=\"14.00\" fill=\"#000000\">class = Nao Trai</text>\n</g>\n<!-- 4&#45;&gt;5 -->\n<g id=\"edge7\" class=\"edge\">\n<title>4&#45;&gt;5</title>\n<path fill=\"none\" stroke=\"#000000\" d=\"M483.4681,-222.8796C476.6552,-211.7735 469.2802,-199.7513 462.4206,-188.5691\"/>\n<polygon fill=\"#000000\" stroke=\"#000000\" points=\"465.2628,-186.5087 457.0503,-179.8149 459.296,-190.1691 465.2628,-186.5087\"/>\n</g>\n<!-- 6 -->\n<g id=\"node9\" class=\"node\">\n<title>6</title>\n<polygon fill=\"#7abdee\" stroke=\"#000000\" points=\"647.5,-187 516.5,-187 516.5,-104 647.5,-104 647.5,-187\"/>\n<text text-anchor=\"middle\" x=\"582\" y=\"-171.8\" font-family=\"Times,serif\" font-size=\"14.00\" fill=\"#000000\">religious &lt;= 1.5</text>\n<text text-anchor=\"middle\" x=\"582\" y=\"-156.8\" font-family=\"Times,serif\" font-size=\"14.00\" fill=\"#000000\">gini = 0.372</text>\n<text text-anchor=\"middle\" x=\"582\" y=\"-141.8\" font-family=\"Times,serif\" font-size=\"14.00\" fill=\"#000000\">samples = 1491</text>\n<text text-anchor=\"middle\" x=\"582\" y=\"-126.8\" font-family=\"Times,serif\" font-size=\"14.00\" fill=\"#000000\">value = [369, 1122]</text>\n<text text-anchor=\"middle\" x=\"582\" y=\"-111.8\" font-family=\"Times,serif\" font-size=\"14.00\" fill=\"#000000\">class = Nao Trai</text>\n</g>\n<!-- 4&#45;&gt;6 -->\n<g id=\"edge8\" class=\"edge\">\n<title>4&#45;&gt;6</title>\n<path fill=\"none\" stroke=\"#000000\" d=\"M534.5319,-222.8796C539.891,-214.1434 545.5979,-204.8404 551.1282,-195.8253\"/>\n<polygon fill=\"#000000\" stroke=\"#000000\" points=\"554.1135,-197.6522 556.3592,-187.2981 548.1467,-193.9919 554.1135,-197.6522\"/>\n</g>\n<!-- 9 -->\n<g id=\"node10\" class=\"node\">\n<title>9</title>\n<polygon fill=\"#c1e0f7\" stroke=\"#000000\" points=\"568.5,-68 451.5,-68 451.5,0 568.5,0 568.5,-68\"/>\n<text text-anchor=\"middle\" x=\"510\" y=\"-52.8\" font-family=\"Times,serif\" font-size=\"14.00\" fill=\"#000000\">gini = 0.483</text>\n<text text-anchor=\"middle\" x=\"510\" y=\"-37.8\" font-family=\"Times,serif\" font-size=\"14.00\" fill=\"#000000\">samples = 204</text>\n<text text-anchor=\"middle\" x=\"510\" y=\"-22.8\" font-family=\"Times,serif\" font-size=\"14.00\" fill=\"#000000\">value = [83, 121]</text>\n<text text-anchor=\"middle\" x=\"510\" y=\"-7.8\" font-family=\"Times,serif\" font-size=\"14.00\" fill=\"#000000\">class = Nao Trai</text>\n</g>\n<!-- 6&#45;&gt;9 -->\n<g id=\"edge9\" class=\"edge\">\n<title>6&#45;&gt;9</title>\n<path fill=\"none\" stroke=\"#000000\" d=\"M555.1899,-103.9815C549.4331,-95.0666 543.3404,-85.6313 537.5559,-76.6734\"/>\n<polygon fill=\"#000000\" stroke=\"#000000\" points=\"540.4904,-74.7658 532.1254,-68.2637 534.6099,-78.5631 540.4904,-74.7658\"/>\n</g>\n<!-- 10 -->\n<g id=\"node11\" class=\"node\">\n<title>10</title>\n<polygon fill=\"#72b9ec\" stroke=\"#000000\" points=\"719,-68 587,-68 587,0 719,0 719,-68\"/>\n<text text-anchor=\"middle\" x=\"653\" y=\"-52.8\" font-family=\"Times,serif\" font-size=\"14.00\" fill=\"#000000\">gini = 0.346</text>\n<text text-anchor=\"middle\" x=\"653\" y=\"-37.8\" font-family=\"Times,serif\" font-size=\"14.00\" fill=\"#000000\">samples = 1287</text>\n<text text-anchor=\"middle\" x=\"653\" y=\"-22.8\" font-family=\"Times,serif\" font-size=\"14.00\" fill=\"#000000\">value = [286, 1001]</text>\n<text text-anchor=\"middle\" x=\"653\" y=\"-7.8\" font-family=\"Times,serif\" font-size=\"14.00\" fill=\"#000000\">class = Nao Trai</text>\n</g>\n<!-- 6&#45;&gt;10 -->\n<g id=\"edge10\" class=\"edge\">\n<title>6&#45;&gt;10</title>\n<path fill=\"none\" stroke=\"#000000\" d=\"M608.4378,-103.9815C614.056,-95.1585 619.9988,-85.8258 625.6503,-76.9506\"/>\n<polygon fill=\"#000000\" stroke=\"#000000\" points=\"628.7629,-78.5787 631.1819,-68.2637 622.8584,-74.8188 628.7629,-78.5787\"/>\n</g>\n</g>\n</svg>\n"
          },
          "metadata": {
            "tags": []
          },
          "execution_count": 37
        }
      ]
    },
    {
      "cell_type": "markdown",
      "metadata": {
        "id": "PgDMzIUlUbSv"
      },
      "source": [
        "**Análise**\n",
        "\n",
        "Na primeira analise nos limitamos a profundidade 2, que gerou 4 folhas. Nesta analise, aumentamos para 6 folhas, o que nao trouxe nenhuma conclusao nova. Apesar do ramo a direita (nota para o casamento superior a 3.5) incluir agora a feature de religiao, esta aparece nao afetar a classificacao a respeita da propensao a traicao"
      ]
    },
    {
      "cell_type": "code",
      "metadata": {
        "id": "ZKbxBnKuU9X5",
        "colab": {
          "base_uri": "https://localhost:8080/",
          "height": 618
        },
        "outputId": "c9c3e164-6c8f-4ebd-ecd4-13f2a9fd715c"
      },
      "source": [
        "tree3 = DecisionTreeClassifier(max_depth=3)\n",
        "tree3.fit(X,y)\n",
        "dot = export_graphviz(tree3, feature_names=[\t'rate_marriage','age',\t'yrs_married',\t'children',\t'religious',\t'educ'], class_names=['Trai','Nao Trai'], filled=True)\n",
        "Source(dot) "
      ],
      "execution_count": 38,
      "outputs": [
        {
          "output_type": "execute_result",
          "data": {
            "text/plain": [
              "<graphviz.files.Source at 0x7f789a051610>"
            ],
            "image/svg+xml": "<?xml version=\"1.0\" encoding=\"UTF-8\" standalone=\"no\"?>\n<!DOCTYPE svg PUBLIC \"-//W3C//DTD SVG 1.1//EN\"\n \"http://www.w3.org/Graphics/SVG/1.1/DTD/svg11.dtd\">\n<!-- Generated by graphviz version 2.40.1 (20161225.0304)\n -->\n<!-- Title: Tree Pages: 1 -->\n<svg width=\"1130pt\" height=\"433pt\"\n viewBox=\"0.00 0.00 1130.00 433.00\" xmlns=\"http://www.w3.org/2000/svg\" xmlns:xlink=\"http://www.w3.org/1999/xlink\">\n<g id=\"graph0\" class=\"graph\" transform=\"scale(1 1) rotate(0) translate(4 429)\">\n<title>Tree</title>\n<polygon fill=\"#ffffff\" stroke=\"transparent\" points=\"-4,4 -4,-429 1126,-429 1126,4 -4,4\"/>\n<!-- 0 -->\n<g id=\"node1\" class=\"node\">\n<title>0</title>\n<polygon fill=\"#97ccf1\" stroke=\"#000000\" points=\"610.5,-425 470.5,-425 470.5,-342 610.5,-342 610.5,-425\"/>\n<text text-anchor=\"middle\" x=\"540.5\" y=\"-409.8\" font-family=\"Times,serif\" font-size=\"14.00\" fill=\"#000000\">rate_marriage &lt;= 3.5</text>\n<text text-anchor=\"middle\" x=\"540.5\" y=\"-394.8\" font-family=\"Times,serif\" font-size=\"14.00\" fill=\"#000000\">gini = 0.437</text>\n<text text-anchor=\"middle\" x=\"540.5\" y=\"-379.8\" font-family=\"Times,serif\" font-size=\"14.00\" fill=\"#000000\">samples = 6366</text>\n<text text-anchor=\"middle\" x=\"540.5\" y=\"-364.8\" font-family=\"Times,serif\" font-size=\"14.00\" fill=\"#000000\">value = [2053, 4313]</text>\n<text text-anchor=\"middle\" x=\"540.5\" y=\"-349.8\" font-family=\"Times,serif\" font-size=\"14.00\" fill=\"#000000\">class = Nao Trai</text>\n</g>\n<!-- 1 -->\n<g id=\"node2\" class=\"node\">\n<title>1</title>\n<polygon fill=\"#f7dac6\" stroke=\"#000000\" points=\"469,-306 334,-306 334,-223 469,-223 469,-306\"/>\n<text text-anchor=\"middle\" x=\"401.5\" y=\"-290.8\" font-family=\"Times,serif\" font-size=\"14.00\" fill=\"#000000\">yrs_married &lt;= 4.25</text>\n<text text-anchor=\"middle\" x=\"401.5\" y=\"-275.8\" font-family=\"Times,serif\" font-size=\"14.00\" fill=\"#000000\">gini = 0.486</text>\n<text text-anchor=\"middle\" x=\"401.5\" y=\"-260.8\" font-family=\"Times,serif\" font-size=\"14.00\" fill=\"#000000\">samples = 1440</text>\n<text text-anchor=\"middle\" x=\"401.5\" y=\"-245.8\" font-family=\"Times,serif\" font-size=\"14.00\" fill=\"#000000\">value = [842, 598]</text>\n<text text-anchor=\"middle\" x=\"401.5\" y=\"-230.8\" font-family=\"Times,serif\" font-size=\"14.00\" fill=\"#000000\">class = Trai</text>\n</g>\n<!-- 0&#45;&gt;1 -->\n<g id=\"edge1\" class=\"edge\">\n<title>0&#45;&gt;1</title>\n<path fill=\"none\" stroke=\"#000000\" d=\"M491.8845,-341.8796C480.9438,-332.513 469.2418,-322.4948 458.0092,-312.8784\"/>\n<polygon fill=\"#000000\" stroke=\"#000000\" points=\"460.1956,-310.1428 450.323,-306.2981 455.6432,-315.4603 460.1956,-310.1428\"/>\n<text text-anchor=\"middle\" x=\"452.2551\" y=\"-327.5233\" font-family=\"Times,serif\" font-size=\"14.00\" fill=\"#000000\">True</text>\n</g>\n<!-- 8 -->\n<g id=\"node9\" class=\"node\">\n<title>8</title>\n<polygon fill=\"#7abded\" stroke=\"#000000\" points=\"756,-306 617,-306 617,-223 756,-223 756,-306\"/>\n<text text-anchor=\"middle\" x=\"686.5\" y=\"-290.8\" font-family=\"Times,serif\" font-size=\"14.00\" fill=\"#000000\">yrs_married &lt;= 4.25</text>\n<text text-anchor=\"middle\" x=\"686.5\" y=\"-275.8\" font-family=\"Times,serif\" font-size=\"14.00\" fill=\"#000000\">gini = 0.371</text>\n<text text-anchor=\"middle\" x=\"686.5\" y=\"-260.8\" font-family=\"Times,serif\" font-size=\"14.00\" fill=\"#000000\">samples = 4926</text>\n<text text-anchor=\"middle\" x=\"686.5\" y=\"-245.8\" font-family=\"Times,serif\" font-size=\"14.00\" fill=\"#000000\">value = [1211, 3715]</text>\n<text text-anchor=\"middle\" x=\"686.5\" y=\"-230.8\" font-family=\"Times,serif\" font-size=\"14.00\" fill=\"#000000\">class = Nao Trai</text>\n</g>\n<!-- 0&#45;&gt;8 -->\n<g id=\"edge8\" class=\"edge\">\n<title>0&#45;&gt;8</title>\n<path fill=\"none\" stroke=\"#000000\" d=\"M591.5637,-341.8796C603.0555,-332.513 615.3468,-322.4948 627.145,-312.8784\"/>\n<polygon fill=\"#000000\" stroke=\"#000000\" points=\"629.6782,-315.329 635.2183,-306.2981 625.2556,-309.903 629.6782,-315.329\"/>\n<text text-anchor=\"middle\" x=\"632.6843\" y=\"-327.4693\" font-family=\"Times,serif\" font-size=\"14.00\" fill=\"#000000\">False</text>\n</g>\n<!-- 2 -->\n<g id=\"node3\" class=\"node\">\n<title>2</title>\n<polygon fill=\"#deeffb\" stroke=\"#000000\" points=\"253.5,-187 125.5,-187 125.5,-104 253.5,-104 253.5,-187\"/>\n<text text-anchor=\"middle\" x=\"189.5\" y=\"-171.8\" font-family=\"Times,serif\" font-size=\"14.00\" fill=\"#000000\">yrs_married &lt;= 1.5</text>\n<text text-anchor=\"middle\" x=\"189.5\" y=\"-156.8\" font-family=\"Times,serif\" font-size=\"14.00\" fill=\"#000000\">gini = 0.496</text>\n<text text-anchor=\"middle\" x=\"189.5\" y=\"-141.8\" font-family=\"Times,serif\" font-size=\"14.00\" fill=\"#000000\">samples = 387</text>\n<text text-anchor=\"middle\" x=\"189.5\" y=\"-126.8\" font-family=\"Times,serif\" font-size=\"14.00\" fill=\"#000000\">value = [176, 211]</text>\n<text text-anchor=\"middle\" x=\"189.5\" y=\"-111.8\" font-family=\"Times,serif\" font-size=\"14.00\" fill=\"#000000\">class = Nao Trai</text>\n</g>\n<!-- 1&#45;&gt;2 -->\n<g id=\"edge2\" class=\"edge\">\n<title>1&#45;&gt;2</title>\n<path fill=\"none\" stroke=\"#000000\" d=\"M333.839,-226.5205C311.0594,-213.7338 285.5496,-199.4147 262.3853,-186.4121\"/>\n<polygon fill=\"#000000\" stroke=\"#000000\" points=\"264.0662,-183.3419 253.6328,-181.4991 260.6398,-189.446 264.0662,-183.3419\"/>\n</g>\n<!-- 5 -->\n<g id=\"node6\" class=\"node\">\n<title>5</title>\n<polygon fill=\"#f4caac\" stroke=\"#000000\" points=\"470,-187 333,-187 333,-104 470,-104 470,-187\"/>\n<text text-anchor=\"middle\" x=\"401.5\" y=\"-171.8\" font-family=\"Times,serif\" font-size=\"14.00\" fill=\"#000000\">rate_marriage &lt;= 2.5</text>\n<text text-anchor=\"middle\" x=\"401.5\" y=\"-156.8\" font-family=\"Times,serif\" font-size=\"14.00\" fill=\"#000000\">gini = 0.465</text>\n<text text-anchor=\"middle\" x=\"401.5\" y=\"-141.8\" font-family=\"Times,serif\" font-size=\"14.00\" fill=\"#000000\">samples = 1053</text>\n<text text-anchor=\"middle\" x=\"401.5\" y=\"-126.8\" font-family=\"Times,serif\" font-size=\"14.00\" fill=\"#000000\">value = [666, 387]</text>\n<text text-anchor=\"middle\" x=\"401.5\" y=\"-111.8\" font-family=\"Times,serif\" font-size=\"14.00\" fill=\"#000000\">class = Trai</text>\n</g>\n<!-- 1&#45;&gt;5 -->\n<g id=\"edge5\" class=\"edge\">\n<title>1&#45;&gt;5</title>\n<path fill=\"none\" stroke=\"#000000\" d=\"M401.5,-222.8796C401.5,-214.6838 401.5,-205.9891 401.5,-197.5013\"/>\n<polygon fill=\"#000000\" stroke=\"#000000\" points=\"405.0001,-197.298 401.5,-187.2981 398.0001,-197.2981 405.0001,-197.298\"/>\n</g>\n<!-- 3 -->\n<g id=\"node4\" class=\"node\">\n<title>3</title>\n<polygon fill=\"#5caeea\" stroke=\"#000000\" points=\"109,-68 0,-68 0,0 109,0 109,-68\"/>\n<text text-anchor=\"middle\" x=\"54.5\" y=\"-52.8\" font-family=\"Times,serif\" font-size=\"14.00\" fill=\"#000000\">gini = 0.257</text>\n<text text-anchor=\"middle\" x=\"54.5\" y=\"-37.8\" font-family=\"Times,serif\" font-size=\"14.00\" fill=\"#000000\">samples = 33</text>\n<text text-anchor=\"middle\" x=\"54.5\" y=\"-22.8\" font-family=\"Times,serif\" font-size=\"14.00\" fill=\"#000000\">value = [5, 28]</text>\n<text text-anchor=\"middle\" x=\"54.5\" y=\"-7.8\" font-family=\"Times,serif\" font-size=\"14.00\" fill=\"#000000\">class = Nao Trai</text>\n</g>\n<!-- 2&#45;&gt;3 -->\n<g id=\"edge3\" class=\"edge\">\n<title>2&#45;&gt;3</title>\n<path fill=\"none\" stroke=\"#000000\" d=\"M139.231,-103.9815C127.6582,-94.4232 115.3611,-84.2668 103.8287,-74.7419\"/>\n<polygon fill=\"#000000\" stroke=\"#000000\" points=\"105.9243,-71.9332 95.9852,-68.2637 101.4666,-77.3304 105.9243,-71.9332\"/>\n</g>\n<!-- 4 -->\n<g id=\"node5\" class=\"node\">\n<title>4</title>\n<polygon fill=\"#f2f9fd\" stroke=\"#000000\" points=\"252,-68 127,-68 127,0 252,0 252,-68\"/>\n<text text-anchor=\"middle\" x=\"189.5\" y=\"-52.8\" font-family=\"Times,serif\" font-size=\"14.00\" fill=\"#000000\">gini = 0.499</text>\n<text text-anchor=\"middle\" x=\"189.5\" y=\"-37.8\" font-family=\"Times,serif\" font-size=\"14.00\" fill=\"#000000\">samples = 354</text>\n<text text-anchor=\"middle\" x=\"189.5\" y=\"-22.8\" font-family=\"Times,serif\" font-size=\"14.00\" fill=\"#000000\">value = [171, 183]</text>\n<text text-anchor=\"middle\" x=\"189.5\" y=\"-7.8\" font-family=\"Times,serif\" font-size=\"14.00\" fill=\"#000000\">class = Nao Trai</text>\n</g>\n<!-- 2&#45;&gt;4 -->\n<g id=\"edge4\" class=\"edge\">\n<title>2&#45;&gt;4</title>\n<path fill=\"none\" stroke=\"#000000\" d=\"M189.5,-103.9815C189.5,-95.618 189.5,-86.7965 189.5,-78.3409\"/>\n<polygon fill=\"#000000\" stroke=\"#000000\" points=\"193.0001,-78.2636 189.5,-68.2637 186.0001,-78.2637 193.0001,-78.2636\"/>\n</g>\n<!-- 6 -->\n<g id=\"node7\" class=\"node\">\n<title>6</title>\n<polygon fill=\"#f0b68d\" stroke=\"#000000\" points=\"395,-68 270,-68 270,0 395,0 395,-68\"/>\n<text text-anchor=\"middle\" x=\"332.5\" y=\"-52.8\" font-family=\"Times,serif\" font-size=\"14.00\" fill=\"#000000\">gini = 0.418</text>\n<text text-anchor=\"middle\" x=\"332.5\" y=\"-37.8\" font-family=\"Times,serif\" font-size=\"14.00\" fill=\"#000000\">samples = 340</text>\n<text text-anchor=\"middle\" x=\"332.5\" y=\"-22.8\" font-family=\"Times,serif\" font-size=\"14.00\" fill=\"#000000\">value = [239, 101]</text>\n<text text-anchor=\"middle\" x=\"332.5\" y=\"-7.8\" font-family=\"Times,serif\" font-size=\"14.00\" fill=\"#000000\">class = Trai</text>\n</g>\n<!-- 5&#45;&gt;6 -->\n<g id=\"edge6\" class=\"edge\">\n<title>5&#45;&gt;6</title>\n<path fill=\"none\" stroke=\"#000000\" d=\"M375.8069,-103.9815C370.3469,-95.1585 364.5716,-85.8258 359.0793,-76.9506\"/>\n<polygon fill=\"#000000\" stroke=\"#000000\" points=\"361.942,-74.9254 353.7035,-68.2637 355.9896,-78.609 361.942,-74.9254\"/>\n</g>\n<!-- 7 -->\n<g id=\"node8\" class=\"node\">\n<title>7</title>\n<polygon fill=\"#f6d5be\" stroke=\"#000000\" points=\"538,-68 413,-68 413,0 538,0 538,-68\"/>\n<text text-anchor=\"middle\" x=\"475.5\" y=\"-52.8\" font-family=\"Times,serif\" font-size=\"14.00\" fill=\"#000000\">gini = 0.48</text>\n<text text-anchor=\"middle\" x=\"475.5\" y=\"-37.8\" font-family=\"Times,serif\" font-size=\"14.00\" fill=\"#000000\">samples = 713</text>\n<text text-anchor=\"middle\" x=\"475.5\" y=\"-22.8\" font-family=\"Times,serif\" font-size=\"14.00\" fill=\"#000000\">value = [427, 286]</text>\n<text text-anchor=\"middle\" x=\"475.5\" y=\"-7.8\" font-family=\"Times,serif\" font-size=\"14.00\" fill=\"#000000\">class = Trai</text>\n</g>\n<!-- 5&#45;&gt;7 -->\n<g id=\"edge7\" class=\"edge\">\n<title>5&#45;&gt;7</title>\n<path fill=\"none\" stroke=\"#000000\" d=\"M429.0549,-103.9815C434.9715,-95.0666 441.2335,-85.6313 447.1787,-76.6734\"/>\n<polygon fill=\"#000000\" stroke=\"#000000\" points=\"450.1464,-78.5311 452.76,-68.2637 444.314,-74.6602 450.1464,-78.5311\"/>\n</g>\n<!-- 9 -->\n<g id=\"node10\" class=\"node\">\n<title>9</title>\n<polygon fill=\"#59ade9\" stroke=\"#000000\" points=\"755,-187 618,-187 618,-104 755,-104 755,-187\"/>\n<text text-anchor=\"middle\" x=\"686.5\" y=\"-171.8\" font-family=\"Times,serif\" font-size=\"14.00\" fill=\"#000000\">rate_marriage &lt;= 4.5</text>\n<text text-anchor=\"middle\" x=\"686.5\" y=\"-156.8\" font-family=\"Times,serif\" font-size=\"14.00\" fill=\"#000000\">gini = 0.238</text>\n<text text-anchor=\"middle\" x=\"686.5\" y=\"-141.8\" font-family=\"Times,serif\" font-size=\"14.00\" fill=\"#000000\">samples = 2017</text>\n<text text-anchor=\"middle\" x=\"686.5\" y=\"-126.8\" font-family=\"Times,serif\" font-size=\"14.00\" fill=\"#000000\">value = [279, 1738]</text>\n<text text-anchor=\"middle\" x=\"686.5\" y=\"-111.8\" font-family=\"Times,serif\" font-size=\"14.00\" fill=\"#000000\">class = Nao Trai</text>\n</g>\n<!-- 8&#45;&gt;9 -->\n<g id=\"edge9\" class=\"edge\">\n<title>8&#45;&gt;9</title>\n<path fill=\"none\" stroke=\"#000000\" d=\"M686.5,-222.8796C686.5,-214.6838 686.5,-205.9891 686.5,-197.5013\"/>\n<polygon fill=\"#000000\" stroke=\"#000000\" points=\"690.0001,-197.298 686.5,-187.2981 683.0001,-197.2981 690.0001,-197.298\"/>\n</g>\n<!-- 12 -->\n<g id=\"node13\" class=\"node\">\n<title>12</title>\n<polygon fill=\"#96cbf1\" stroke=\"#000000\" points=\"979,-187 842,-187 842,-104 979,-104 979,-187\"/>\n<text text-anchor=\"middle\" x=\"910.5\" y=\"-171.8\" font-family=\"Times,serif\" font-size=\"14.00\" fill=\"#000000\">rate_marriage &lt;= 4.5</text>\n<text text-anchor=\"middle\" x=\"910.5\" y=\"-156.8\" font-family=\"Times,serif\" font-size=\"14.00\" fill=\"#000000\">gini = 0.435</text>\n<text text-anchor=\"middle\" x=\"910.5\" y=\"-141.8\" font-family=\"Times,serif\" font-size=\"14.00\" fill=\"#000000\">samples = 2909</text>\n<text text-anchor=\"middle\" x=\"910.5\" y=\"-126.8\" font-family=\"Times,serif\" font-size=\"14.00\" fill=\"#000000\">value = [932, 1977]</text>\n<text text-anchor=\"middle\" x=\"910.5\" y=\"-111.8\" font-family=\"Times,serif\" font-size=\"14.00\" fill=\"#000000\">class = Nao Trai</text>\n</g>\n<!-- 8&#45;&gt;12 -->\n<g id=\"edge12\" class=\"edge\">\n<title>8&#45;&gt;12</title>\n<path fill=\"none\" stroke=\"#000000\" d=\"M756.1471,-227.5C780.3961,-214.6177 807.7515,-200.0851 832.6243,-186.8714\"/>\n<polygon fill=\"#000000\" stroke=\"#000000\" points=\"834.4762,-189.8509 841.6654,-182.0684 831.1921,-183.6691 834.4762,-189.8509\"/>\n</g>\n<!-- 10 -->\n<g id=\"node11\" class=\"node\">\n<title>10</title>\n<polygon fill=\"#69b5eb\" stroke=\"#000000\" points=\"681,-68 556,-68 556,0 681,0 681,-68\"/>\n<text text-anchor=\"middle\" x=\"618.5\" y=\"-52.8\" font-family=\"Times,serif\" font-size=\"14.00\" fill=\"#000000\">gini = 0.314</text>\n<text text-anchor=\"middle\" x=\"618.5\" y=\"-37.8\" font-family=\"Times,serif\" font-size=\"14.00\" fill=\"#000000\">samples = 824</text>\n<text text-anchor=\"middle\" x=\"618.5\" y=\"-22.8\" font-family=\"Times,serif\" font-size=\"14.00\" fill=\"#000000\">value = [161, 663]</text>\n<text text-anchor=\"middle\" x=\"618.5\" y=\"-7.8\" font-family=\"Times,serif\" font-size=\"14.00\" fill=\"#000000\">class = Nao Trai</text>\n</g>\n<!-- 9&#45;&gt;10 -->\n<g id=\"edge10\" class=\"edge\">\n<title>9&#45;&gt;10</title>\n<path fill=\"none\" stroke=\"#000000\" d=\"M661.1793,-103.9815C655.7984,-95.1585 650.1068,-85.8258 644.6941,-76.9506\"/>\n<polygon fill=\"#000000\" stroke=\"#000000\" points=\"647.5912,-74.9789 639.3962,-68.2637 641.6149,-78.6236 647.5912,-74.9789\"/>\n</g>\n<!-- 11 -->\n<g id=\"node12\" class=\"node\">\n<title>11</title>\n<polygon fill=\"#4fa8e8\" stroke=\"#000000\" points=\"830,-68 699,-68 699,0 830,0 830,-68\"/>\n<text text-anchor=\"middle\" x=\"764.5\" y=\"-52.8\" font-family=\"Times,serif\" font-size=\"14.00\" fill=\"#000000\">gini = 0.178</text>\n<text text-anchor=\"middle\" x=\"764.5\" y=\"-37.8\" font-family=\"Times,serif\" font-size=\"14.00\" fill=\"#000000\">samples = 1193</text>\n<text text-anchor=\"middle\" x=\"764.5\" y=\"-22.8\" font-family=\"Times,serif\" font-size=\"14.00\" fill=\"#000000\">value = [118, 1075]</text>\n<text text-anchor=\"middle\" x=\"764.5\" y=\"-7.8\" font-family=\"Times,serif\" font-size=\"14.00\" fill=\"#000000\">class = Nao Trai</text>\n</g>\n<!-- 9&#45;&gt;11 -->\n<g id=\"edge11\" class=\"edge\">\n<title>9&#45;&gt;11</title>\n<path fill=\"none\" stroke=\"#000000\" d=\"M715.5443,-103.9815C721.7808,-95.0666 728.3813,-85.6313 734.6478,-76.6734\"/>\n<polygon fill=\"#000000\" stroke=\"#000000\" points=\"737.6665,-78.464 740.5308,-68.2637 731.9307,-74.4515 737.6665,-78.464\"/>\n</g>\n<!-- 13 -->\n<g id=\"node14\" class=\"node\">\n<title>13</title>\n<polygon fill=\"#bbdef6\" stroke=\"#000000\" points=\"973,-68 848,-68 848,0 973,0 973,-68\"/>\n<text text-anchor=\"middle\" x=\"910.5\" y=\"-52.8\" font-family=\"Times,serif\" font-size=\"14.00\" fill=\"#000000\">gini = 0.479</text>\n<text text-anchor=\"middle\" x=\"910.5\" y=\"-37.8\" font-family=\"Times,serif\" font-size=\"14.00\" fill=\"#000000\">samples = 1418</text>\n<text text-anchor=\"middle\" x=\"910.5\" y=\"-22.8\" font-family=\"Times,serif\" font-size=\"14.00\" fill=\"#000000\">value = [563, 855]</text>\n<text text-anchor=\"middle\" x=\"910.5\" y=\"-7.8\" font-family=\"Times,serif\" font-size=\"14.00\" fill=\"#000000\">class = Nao Trai</text>\n</g>\n<!-- 12&#45;&gt;13 -->\n<g id=\"edge13\" class=\"edge\">\n<title>12&#45;&gt;13</title>\n<path fill=\"none\" stroke=\"#000000\" d=\"M910.5,-103.9815C910.5,-95.618 910.5,-86.7965 910.5,-78.3409\"/>\n<polygon fill=\"#000000\" stroke=\"#000000\" points=\"914.0001,-78.2636 910.5,-68.2637 907.0001,-78.2637 914.0001,-78.2636\"/>\n</g>\n<!-- 14 -->\n<g id=\"node15\" class=\"node\">\n<title>14</title>\n<polygon fill=\"#7abdee\" stroke=\"#000000\" points=\"1122,-68 991,-68 991,0 1122,0 1122,-68\"/>\n<text text-anchor=\"middle\" x=\"1056.5\" y=\"-52.8\" font-family=\"Times,serif\" font-size=\"14.00\" fill=\"#000000\">gini = 0.372</text>\n<text text-anchor=\"middle\" x=\"1056.5\" y=\"-37.8\" font-family=\"Times,serif\" font-size=\"14.00\" fill=\"#000000\">samples = 1491</text>\n<text text-anchor=\"middle\" x=\"1056.5\" y=\"-22.8\" font-family=\"Times,serif\" font-size=\"14.00\" fill=\"#000000\">value = [369, 1122]</text>\n<text text-anchor=\"middle\" x=\"1056.5\" y=\"-7.8\" font-family=\"Times,serif\" font-size=\"14.00\" fill=\"#000000\">class = Nao Trai</text>\n</g>\n<!-- 12&#45;&gt;14 -->\n<g id=\"edge14\" class=\"edge\">\n<title>12&#45;&gt;14</title>\n<path fill=\"none\" stroke=\"#000000\" d=\"M964.865,-103.9815C977.5011,-94.3313 990.9356,-84.0714 1003.5115,-74.4673\"/>\n<polygon fill=\"#000000\" stroke=\"#000000\" points=\"1005.8114,-77.1148 1011.6346,-68.2637 1001.5628,-71.5515 1005.8114,-77.1148\"/>\n</g>\n</g>\n</svg>\n"
          },
          "metadata": {
            "tags": []
          },
          "execution_count": 38
        }
      ]
    },
    {
      "cell_type": "markdown",
      "metadata": {
        "id": "XiG02TgdVO9P"
      },
      "source": [
        "**Análise**\n",
        "\n",
        "Trabalhando agora com um profundidade de arvore igual a 3, temos apenas a informacao adicional que casais com mais de 4,25 anos de casado e a nota ao relacionamento eh inferior a 3,5, entao eh certeza de traicao"
      ]
    },
    {
      "cell_type": "code",
      "metadata": {
        "id": "Dd650t87WYN2",
        "colab": {
          "base_uri": "https://localhost:8080/",
          "height": 777
        },
        "outputId": "03145c38-0bd4-4ef2-bfd6-7e30a8dd0a56"
      },
      "source": [
        "#, X_test, , Y_test = train_test_split(Xs, Y) \n",
        "Xtrain, Xtest, Ytrain, Ytest = train_test_split(Xs, Y) \n",
        "tree = DecisionTreeClassifier( max_depth=4)\n",
        "tree.fit(Xtrain,Ytrain)\n",
        "dot = export_graphviz(tree, feature_names=['rate_marriage','age','yrs_married','religious','educ','occ2','occ3','occ4','occ5','occ6','hocc2','hocc3','hocc4','hocc5','hocc6','tem_filhos'], class_names=['Trai','Nao Trai'], filled=True)\n",
        "Source(dot) "
      ],
      "execution_count": 39,
      "outputs": [
        {
          "output_type": "execute_result",
          "data": {
            "text/plain": [
              "<graphviz.files.Source at 0x7f7898dd8210>"
            ],
            "image/svg+xml": "<?xml version=\"1.0\" encoding=\"UTF-8\" standalone=\"no\"?>\n<!DOCTYPE svg PUBLIC \"-//W3C//DTD SVG 1.1//EN\"\n \"http://www.w3.org/Graphics/SVG/1.1/DTD/svg11.dtd\">\n<!-- Generated by graphviz version 2.40.1 (20161225.0304)\n -->\n<!-- Title: Tree Pages: 1 -->\n<svg width=\"2092pt\" height=\"552pt\"\n viewBox=\"0.00 0.00 2092.00 552.00\" xmlns=\"http://www.w3.org/2000/svg\" xmlns:xlink=\"http://www.w3.org/1999/xlink\">\n<g id=\"graph0\" class=\"graph\" transform=\"scale(1 1) rotate(0) translate(4 548)\">\n<title>Tree</title>\n<polygon fill=\"#ffffff\" stroke=\"transparent\" points=\"-4,4 -4,-548 2088,-548 2088,4 -4,4\"/>\n<!-- 0 -->\n<g id=\"node1\" class=\"node\">\n<title>0</title>\n<polygon fill=\"#f1bd98\" stroke=\"#000000\" points=\"1087.5,-544 947.5,-544 947.5,-461 1087.5,-461 1087.5,-544\"/>\n<text text-anchor=\"middle\" x=\"1017.5\" y=\"-528.8\" font-family=\"Times,serif\" font-size=\"14.00\" fill=\"#000000\">rate_marriage &lt;= 3.5</text>\n<text text-anchor=\"middle\" x=\"1017.5\" y=\"-513.8\" font-family=\"Times,serif\" font-size=\"14.00\" fill=\"#000000\">gini = 0.438</text>\n<text text-anchor=\"middle\" x=\"1017.5\" y=\"-498.8\" font-family=\"Times,serif\" font-size=\"14.00\" fill=\"#000000\">samples = 4774</text>\n<text text-anchor=\"middle\" x=\"1017.5\" y=\"-483.8\" font-family=\"Times,serif\" font-size=\"14.00\" fill=\"#000000\">value = [3226, 1548]</text>\n<text text-anchor=\"middle\" x=\"1017.5\" y=\"-468.8\" font-family=\"Times,serif\" font-size=\"14.00\" fill=\"#000000\">class = Trai</text>\n</g>\n<!-- 1 -->\n<g id=\"node2\" class=\"node\">\n<title>1</title>\n<polygon fill=\"#c4e2f7\" stroke=\"#000000\" points=\"831,-425 696,-425 696,-342 831,-342 831,-425\"/>\n<text text-anchor=\"middle\" x=\"763.5\" y=\"-409.8\" font-family=\"Times,serif\" font-size=\"14.00\" fill=\"#000000\">yrs_married &lt;= 4.25</text>\n<text text-anchor=\"middle\" x=\"763.5\" y=\"-394.8\" font-family=\"Times,serif\" font-size=\"14.00\" fill=\"#000000\">gini = 0.485</text>\n<text text-anchor=\"middle\" x=\"763.5\" y=\"-379.8\" font-family=\"Times,serif\" font-size=\"14.00\" fill=\"#000000\">samples = 1099</text>\n<text text-anchor=\"middle\" x=\"763.5\" y=\"-364.8\" font-family=\"Times,serif\" font-size=\"14.00\" fill=\"#000000\">value = [453, 646]</text>\n<text text-anchor=\"middle\" x=\"763.5\" y=\"-349.8\" font-family=\"Times,serif\" font-size=\"14.00\" fill=\"#000000\">class = Nao Trai</text>\n</g>\n<!-- 0&#45;&gt;1 -->\n<g id=\"edge1\" class=\"edge\">\n<title>0&#45;&gt;1</title>\n<path fill=\"none\" stroke=\"#000000\" d=\"M947.421,-469.6677C914.2683,-454.1355 874.5906,-435.5464 840.589,-419.6165\"/>\n<polygon fill=\"#000000\" stroke=\"#000000\" points=\"841.6998,-416.2719 831.1594,-415.1987 838.73,-422.6107 841.6998,-416.2719\"/>\n<text text-anchor=\"middle\" x=\"839.6676\" y=\"-435.0064\" font-family=\"Times,serif\" font-size=\"14.00\" fill=\"#000000\">True</text>\n</g>\n<!-- 16 -->\n<g id=\"node17\" class=\"node\">\n<title>16</title>\n<polygon fill=\"#edaa79\" stroke=\"#000000\" points=\"1344,-425 1209,-425 1209,-342 1344,-342 1344,-425\"/>\n<text text-anchor=\"middle\" x=\"1276.5\" y=\"-409.8\" font-family=\"Times,serif\" font-size=\"14.00\" fill=\"#000000\">yrs_married &lt;= 4.25</text>\n<text text-anchor=\"middle\" x=\"1276.5\" y=\"-394.8\" font-family=\"Times,serif\" font-size=\"14.00\" fill=\"#000000\">gini = 0.37</text>\n<text text-anchor=\"middle\" x=\"1276.5\" y=\"-379.8\" font-family=\"Times,serif\" font-size=\"14.00\" fill=\"#000000\">samples = 3675</text>\n<text text-anchor=\"middle\" x=\"1276.5\" y=\"-364.8\" font-family=\"Times,serif\" font-size=\"14.00\" fill=\"#000000\">value = [2773, 902]</text>\n<text text-anchor=\"middle\" x=\"1276.5\" y=\"-349.8\" font-family=\"Times,serif\" font-size=\"14.00\" fill=\"#000000\">class = Trai</text>\n</g>\n<!-- 0&#45;&gt;16 -->\n<g id=\"edge16\" class=\"edge\">\n<title>0&#45;&gt;16</title>\n<path fill=\"none\" stroke=\"#000000\" d=\"M1087.5891,-470.2969C1122.1074,-454.4371 1163.8157,-435.2739 1199.2521,-418.9923\"/>\n<polygon fill=\"#000000\" stroke=\"#000000\" points=\"1200.9668,-422.0563 1208.5923,-414.7009 1198.0442,-415.6955 1200.9668,-422.0563\"/>\n<text text-anchor=\"middle\" x=\"1199.9094\" y=\"-434.4446\" font-family=\"Times,serif\" font-size=\"14.00\" fill=\"#000000\">False</text>\n</g>\n<!-- 2 -->\n<g id=\"node3\" class=\"node\">\n<title>2</title>\n<polygon fill=\"#fae6d7\" stroke=\"#000000\" points=\"426.5,-306 298.5,-306 298.5,-223 426.5,-223 426.5,-306\"/>\n<text text-anchor=\"middle\" x=\"362.5\" y=\"-290.8\" font-family=\"Times,serif\" font-size=\"14.00\" fill=\"#000000\">yrs_married &lt;= 1.5</text>\n<text text-anchor=\"middle\" x=\"362.5\" y=\"-275.8\" font-family=\"Times,serif\" font-size=\"14.00\" fill=\"#000000\">gini = 0.494</text>\n<text text-anchor=\"middle\" x=\"362.5\" y=\"-260.8\" font-family=\"Times,serif\" font-size=\"14.00\" fill=\"#000000\">samples = 306</text>\n<text text-anchor=\"middle\" x=\"362.5\" y=\"-245.8\" font-family=\"Times,serif\" font-size=\"14.00\" fill=\"#000000\">value = [170, 136]</text>\n<text text-anchor=\"middle\" x=\"362.5\" y=\"-230.8\" font-family=\"Times,serif\" font-size=\"14.00\" fill=\"#000000\">class = Trai</text>\n</g>\n<!-- 1&#45;&gt;2 -->\n<g id=\"edge2\" class=\"edge\">\n<title>1&#45;&gt;2</title>\n<path fill=\"none\" stroke=\"#000000\" d=\"M695.9293,-363.4478C624.0475,-342.1163 510.6785,-308.4732 436.4502,-286.4453\"/>\n<polygon fill=\"#000000\" stroke=\"#000000\" points=\"437.2786,-283.0404 426.6961,-283.5507 435.2871,-289.7511 437.2786,-283.0404\"/>\n</g>\n<!-- 9 -->\n<g id=\"node10\" class=\"node\">\n<title>9</title>\n<polygon fill=\"#a7d3f3\" stroke=\"#000000\" points=\"826,-306 701,-306 701,-223 826,-223 826,-306\"/>\n<text text-anchor=\"middle\" x=\"763.5\" y=\"-290.8\" font-family=\"Times,serif\" font-size=\"14.00\" fill=\"#000000\">occ2 &lt;= 0.5</text>\n<text text-anchor=\"middle\" x=\"763.5\" y=\"-275.8\" font-family=\"Times,serif\" font-size=\"14.00\" fill=\"#000000\">gini = 0.459</text>\n<text text-anchor=\"middle\" x=\"763.5\" y=\"-260.8\" font-family=\"Times,serif\" font-size=\"14.00\" fill=\"#000000\">samples = 793</text>\n<text text-anchor=\"middle\" x=\"763.5\" y=\"-245.8\" font-family=\"Times,serif\" font-size=\"14.00\" fill=\"#000000\">value = [283, 510]</text>\n<text text-anchor=\"middle\" x=\"763.5\" y=\"-230.8\" font-family=\"Times,serif\" font-size=\"14.00\" fill=\"#000000\">class = Nao Trai</text>\n</g>\n<!-- 1&#45;&gt;9 -->\n<g id=\"edge9\" class=\"edge\">\n<title>1&#45;&gt;9</title>\n<path fill=\"none\" stroke=\"#000000\" d=\"M763.5,-341.8796C763.5,-333.6838 763.5,-324.9891 763.5,-316.5013\"/>\n<polygon fill=\"#000000\" stroke=\"#000000\" points=\"767.0001,-316.298 763.5,-306.2981 760.0001,-316.2981 767.0001,-316.298\"/>\n</g>\n<!-- 3 -->\n<g id=\"node4\" class=\"node\">\n<title>3</title>\n<polygon fill=\"#e99559\" stroke=\"#000000\" points=\"219,-187 110,-187 110,-104 219,-104 219,-187\"/>\n<text text-anchor=\"middle\" x=\"164.5\" y=\"-171.8\" font-family=\"Times,serif\" font-size=\"14.00\" fill=\"#000000\">religious &lt;= 1.5</text>\n<text text-anchor=\"middle\" x=\"164.5\" y=\"-156.8\" font-family=\"Times,serif\" font-size=\"14.00\" fill=\"#000000\">gini = 0.238</text>\n<text text-anchor=\"middle\" x=\"164.5\" y=\"-141.8\" font-family=\"Times,serif\" font-size=\"14.00\" fill=\"#000000\">samples = 29</text>\n<text text-anchor=\"middle\" x=\"164.5\" y=\"-126.8\" font-family=\"Times,serif\" font-size=\"14.00\" fill=\"#000000\">value = [25, 4]</text>\n<text text-anchor=\"middle\" x=\"164.5\" y=\"-111.8\" font-family=\"Times,serif\" font-size=\"14.00\" fill=\"#000000\">class = Trai</text>\n</g>\n<!-- 2&#45;&gt;3 -->\n<g id=\"edge3\" class=\"edge\">\n<title>2&#45;&gt;3</title>\n<path fill=\"none\" stroke=\"#000000\" d=\"M298.4885,-226.0284C275.9462,-212.4803 250.6262,-197.2627 228.1165,-183.7342\"/>\n<polygon fill=\"#000000\" stroke=\"#000000\" points=\"229.6882,-180.5953 219.3141,-178.4438 226.0823,-186.5951 229.6882,-180.5953\"/>\n</g>\n<!-- 6 -->\n<g id=\"node7\" class=\"node\">\n<title>6</title>\n<polygon fill=\"#fdf4ed\" stroke=\"#000000\" points=\"425,-187 300,-187 300,-104 425,-104 425,-187\"/>\n<text text-anchor=\"middle\" x=\"362.5\" y=\"-171.8\" font-family=\"Times,serif\" font-size=\"14.00\" fill=\"#000000\">educ &lt;= 15.0</text>\n<text text-anchor=\"middle\" x=\"362.5\" y=\"-156.8\" font-family=\"Times,serif\" font-size=\"14.00\" fill=\"#000000\">gini = 0.499</text>\n<text text-anchor=\"middle\" x=\"362.5\" y=\"-141.8\" font-family=\"Times,serif\" font-size=\"14.00\" fill=\"#000000\">samples = 277</text>\n<text text-anchor=\"middle\" x=\"362.5\" y=\"-126.8\" font-family=\"Times,serif\" font-size=\"14.00\" fill=\"#000000\">value = [145, 132]</text>\n<text text-anchor=\"middle\" x=\"362.5\" y=\"-111.8\" font-family=\"Times,serif\" font-size=\"14.00\" fill=\"#000000\">class = Trai</text>\n</g>\n<!-- 2&#45;&gt;6 -->\n<g id=\"edge6\" class=\"edge\">\n<title>2&#45;&gt;6</title>\n<path fill=\"none\" stroke=\"#000000\" d=\"M362.5,-222.8796C362.5,-214.6838 362.5,-205.9891 362.5,-197.5013\"/>\n<polygon fill=\"#000000\" stroke=\"#000000\" points=\"366.0001,-197.298 362.5,-187.2981 359.0001,-197.2981 366.0001,-197.298\"/>\n</g>\n<!-- 4 -->\n<g id=\"node5\" class=\"node\">\n<title>4</title>\n<polygon fill=\"#ffffff\" stroke=\"#000000\" points=\"95,-68 0,-68 0,0 95,0 95,-68\"/>\n<text text-anchor=\"middle\" x=\"47.5\" y=\"-52.8\" font-family=\"Times,serif\" font-size=\"14.00\" fill=\"#000000\">gini = 0.5</text>\n<text text-anchor=\"middle\" x=\"47.5\" y=\"-37.8\" font-family=\"Times,serif\" font-size=\"14.00\" fill=\"#000000\">samples = 6</text>\n<text text-anchor=\"middle\" x=\"47.5\" y=\"-22.8\" font-family=\"Times,serif\" font-size=\"14.00\" fill=\"#000000\">value = [3, 3]</text>\n<text text-anchor=\"middle\" x=\"47.5\" y=\"-7.8\" font-family=\"Times,serif\" font-size=\"14.00\" fill=\"#000000\">class = Trai</text>\n</g>\n<!-- 3&#45;&gt;4 -->\n<g id=\"edge4\" class=\"edge\">\n<title>3&#45;&gt;4</title>\n<path fill=\"none\" stroke=\"#000000\" d=\"M120.9335,-103.9815C111.0966,-94.607 100.656,-84.6572 90.8289,-75.2921\"/>\n<polygon fill=\"#000000\" stroke=\"#000000\" points=\"93.1076,-72.6289 83.4538,-68.2637 88.2784,-77.6963 93.1076,-72.6289\"/>\n</g>\n<!-- 5 -->\n<g id=\"node6\" class=\"node\">\n<title>5</title>\n<polygon fill=\"#e68742\" stroke=\"#000000\" points=\"215.5,-68 113.5,-68 113.5,0 215.5,0 215.5,-68\"/>\n<text text-anchor=\"middle\" x=\"164.5\" y=\"-52.8\" font-family=\"Times,serif\" font-size=\"14.00\" fill=\"#000000\">gini = 0.083</text>\n<text text-anchor=\"middle\" x=\"164.5\" y=\"-37.8\" font-family=\"Times,serif\" font-size=\"14.00\" fill=\"#000000\">samples = 23</text>\n<text text-anchor=\"middle\" x=\"164.5\" y=\"-22.8\" font-family=\"Times,serif\" font-size=\"14.00\" fill=\"#000000\">value = [22, 1]</text>\n<text text-anchor=\"middle\" x=\"164.5\" y=\"-7.8\" font-family=\"Times,serif\" font-size=\"14.00\" fill=\"#000000\">class = Trai</text>\n</g>\n<!-- 3&#45;&gt;5 -->\n<g id=\"edge5\" class=\"edge\">\n<title>3&#45;&gt;5</title>\n<path fill=\"none\" stroke=\"#000000\" d=\"M164.5,-103.9815C164.5,-95.618 164.5,-86.7965 164.5,-78.3409\"/>\n<polygon fill=\"#000000\" stroke=\"#000000\" points=\"168.0001,-78.2636 164.5,-68.2637 161.0001,-78.2637 168.0001,-78.2636\"/>\n</g>\n<!-- 7 -->\n<g id=\"node8\" class=\"node\">\n<title>7</title>\n<polygon fill=\"#eef7fd\" stroke=\"#000000\" points=\"351,-68 234,-68 234,0 351,0 351,-68\"/>\n<text text-anchor=\"middle\" x=\"292.5\" y=\"-52.8\" font-family=\"Times,serif\" font-size=\"14.00\" fill=\"#000000\">gini = 0.499</text>\n<text text-anchor=\"middle\" x=\"292.5\" y=\"-37.8\" font-family=\"Times,serif\" font-size=\"14.00\" fill=\"#000000\">samples = 205</text>\n<text text-anchor=\"middle\" x=\"292.5\" y=\"-22.8\" font-family=\"Times,serif\" font-size=\"14.00\" fill=\"#000000\">value = [98, 107]</text>\n<text text-anchor=\"middle\" x=\"292.5\" y=\"-7.8\" font-family=\"Times,serif\" font-size=\"14.00\" fill=\"#000000\">class = Nao Trai</text>\n</g>\n<!-- 6&#45;&gt;7 -->\n<g id=\"edge7\" class=\"edge\">\n<title>6&#45;&gt;7</title>\n<path fill=\"none\" stroke=\"#000000\" d=\"M336.4346,-103.9815C330.8955,-95.1585 325.0364,-85.8258 319.4645,-76.9506\"/>\n<polygon fill=\"#000000\" stroke=\"#000000\" points=\"322.2922,-74.872 314.0108,-68.2637 316.3637,-78.594 322.2922,-74.872\"/>\n</g>\n<!-- 8 -->\n<g id=\"node9\" class=\"node\">\n<title>8</title>\n<polygon fill=\"#f3c4a2\" stroke=\"#000000\" points=\"479.5,-68 369.5,-68 369.5,0 479.5,0 479.5,-68\"/>\n<text text-anchor=\"middle\" x=\"424.5\" y=\"-52.8\" font-family=\"Times,serif\" font-size=\"14.00\" fill=\"#000000\">gini = 0.453</text>\n<text text-anchor=\"middle\" x=\"424.5\" y=\"-37.8\" font-family=\"Times,serif\" font-size=\"14.00\" fill=\"#000000\">samples = 72</text>\n<text text-anchor=\"middle\" x=\"424.5\" y=\"-22.8\" font-family=\"Times,serif\" font-size=\"14.00\" fill=\"#000000\">value = [47, 25]</text>\n<text text-anchor=\"middle\" x=\"424.5\" y=\"-7.8\" font-family=\"Times,serif\" font-size=\"14.00\" fill=\"#000000\">class = Trai</text>\n</g>\n<!-- 6&#45;&gt;8 -->\n<g id=\"edge8\" class=\"edge\">\n<title>6&#45;&gt;8</title>\n<path fill=\"none\" stroke=\"#000000\" d=\"M385.5865,-103.9815C390.4415,-95.2504 395.574,-86.0202 400.4629,-77.2281\"/>\n<polygon fill=\"#000000\" stroke=\"#000000\" points=\"403.6467,-78.7043 405.4476,-68.2637 397.5288,-75.3025 403.6467,-78.7043\"/>\n</g>\n<!-- 10 -->\n<g id=\"node11\" class=\"node\">\n<title>10</title>\n<polygon fill=\"#9ccef2\" stroke=\"#000000\" points=\"761,-187 624,-187 624,-104 761,-104 761,-187\"/>\n<text text-anchor=\"middle\" x=\"692.5\" y=\"-171.8\" font-family=\"Times,serif\" font-size=\"14.00\" fill=\"#000000\">rate_marriage &lt;= 2.5</text>\n<text text-anchor=\"middle\" x=\"692.5\" y=\"-156.8\" font-family=\"Times,serif\" font-size=\"14.00\" fill=\"#000000\">gini = 0.444</text>\n<text text-anchor=\"middle\" x=\"692.5\" y=\"-141.8\" font-family=\"Times,serif\" font-size=\"14.00\" fill=\"#000000\">samples = 662</text>\n<text text-anchor=\"middle\" x=\"692.5\" y=\"-126.8\" font-family=\"Times,serif\" font-size=\"14.00\" fill=\"#000000\">value = [220, 442]</text>\n<text text-anchor=\"middle\" x=\"692.5\" y=\"-111.8\" font-family=\"Times,serif\" font-size=\"14.00\" fill=\"#000000\">class = Nao Trai</text>\n</g>\n<!-- 9&#45;&gt;10 -->\n<g id=\"edge10\" class=\"edge\">\n<title>9&#45;&gt;10</title>\n<path fill=\"none\" stroke=\"#000000\" d=\"M738.6676,-222.8796C733.5091,-214.2335 728.0192,-205.0322 722.6924,-196.1042\"/>\n<polygon fill=\"#000000\" stroke=\"#000000\" points=\"725.5678,-194.0924 717.4383,-187.2981 719.5564,-197.679 725.5678,-194.0924\"/>\n</g>\n<!-- 13 -->\n<g id=\"node14\" class=\"node\">\n<title>13</title>\n<polygon fill=\"#f0f8fd\" stroke=\"#000000\" points=\"889.5,-187 779.5,-187 779.5,-104 889.5,-104 889.5,-187\"/>\n<text text-anchor=\"middle\" x=\"834.5\" y=\"-171.8\" font-family=\"Times,serif\" font-size=\"14.00\" fill=\"#000000\">hocc6 &lt;= 0.5</text>\n<text text-anchor=\"middle\" x=\"834.5\" y=\"-156.8\" font-family=\"Times,serif\" font-size=\"14.00\" fill=\"#000000\">gini = 0.499</text>\n<text text-anchor=\"middle\" x=\"834.5\" y=\"-141.8\" font-family=\"Times,serif\" font-size=\"14.00\" fill=\"#000000\">samples = 131</text>\n<text text-anchor=\"middle\" x=\"834.5\" y=\"-126.8\" font-family=\"Times,serif\" font-size=\"14.00\" fill=\"#000000\">value = [63, 68]</text>\n<text text-anchor=\"middle\" x=\"834.5\" y=\"-111.8\" font-family=\"Times,serif\" font-size=\"14.00\" fill=\"#000000\">class = Nao Trai</text>\n</g>\n<!-- 9&#45;&gt;13 -->\n<g id=\"edge13\" class=\"edge\">\n<title>9&#45;&gt;13</title>\n<path fill=\"none\" stroke=\"#000000\" d=\"M788.3324,-222.8796C793.4909,-214.2335 798.9808,-205.0322 804.3076,-196.1042\"/>\n<polygon fill=\"#000000\" stroke=\"#000000\" points=\"807.4436,-197.679 809.5617,-187.2981 801.4322,-194.0924 807.4436,-197.679\"/>\n</g>\n<!-- 11 -->\n<g id=\"node12\" class=\"node\">\n<title>11</title>\n<polygon fill=\"#80c0ee\" stroke=\"#000000\" points=\"615,-68 498,-68 498,0 615,0 615,-68\"/>\n<text text-anchor=\"middle\" x=\"556.5\" y=\"-52.8\" font-family=\"Times,serif\" font-size=\"14.00\" fill=\"#000000\">gini = 0.388</text>\n<text text-anchor=\"middle\" x=\"556.5\" y=\"-37.8\" font-family=\"Times,serif\" font-size=\"14.00\" fill=\"#000000\">samples = 205</text>\n<text text-anchor=\"middle\" x=\"556.5\" y=\"-22.8\" font-family=\"Times,serif\" font-size=\"14.00\" fill=\"#000000\">value = [54, 151]</text>\n<text text-anchor=\"middle\" x=\"556.5\" y=\"-7.8\" font-family=\"Times,serif\" font-size=\"14.00\" fill=\"#000000\">class = Nao Trai</text>\n</g>\n<!-- 10&#45;&gt;11 -->\n<g id=\"edge11\" class=\"edge\">\n<title>10&#45;&gt;11</title>\n<path fill=\"none\" stroke=\"#000000\" d=\"M641.8586,-103.9815C630.2001,-94.4232 617.812,-84.2668 606.1941,-74.7419\"/>\n<polygon fill=\"#000000\" stroke=\"#000000\" points=\"608.2448,-71.8972 598.2925,-68.2637 603.8067,-77.3105 608.2448,-71.8972\"/>\n</g>\n<!-- 12 -->\n<g id=\"node13\" class=\"node\">\n<title>12</title>\n<polygon fill=\"#aad5f4\" stroke=\"#000000\" points=\"758,-68 633,-68 633,0 758,0 758,-68\"/>\n<text text-anchor=\"middle\" x=\"695.5\" y=\"-52.8\" font-family=\"Times,serif\" font-size=\"14.00\" fill=\"#000000\">gini = 0.463</text>\n<text text-anchor=\"middle\" x=\"695.5\" y=\"-37.8\" font-family=\"Times,serif\" font-size=\"14.00\" fill=\"#000000\">samples = 457</text>\n<text text-anchor=\"middle\" x=\"695.5\" y=\"-22.8\" font-family=\"Times,serif\" font-size=\"14.00\" fill=\"#000000\">value = [166, 291]</text>\n<text text-anchor=\"middle\" x=\"695.5\" y=\"-7.8\" font-family=\"Times,serif\" font-size=\"14.00\" fill=\"#000000\">class = Nao Trai</text>\n</g>\n<!-- 10&#45;&gt;12 -->\n<g id=\"edge12\" class=\"edge\">\n<title>10&#45;&gt;12</title>\n<path fill=\"none\" stroke=\"#000000\" d=\"M693.6171,-103.9815C693.8421,-95.618 694.0795,-86.7965 694.307,-78.3409\"/>\n<polygon fill=\"#000000\" stroke=\"#000000\" points=\"697.8078,-78.3542 694.5781,-68.2637 690.8103,-78.1659 697.8078,-78.3542\"/>\n</g>\n<!-- 14 -->\n<g id=\"node15\" class=\"node\">\n<title>14</title>\n<polygon fill=\"#e5f2fc\" stroke=\"#000000\" points=\"886.5,-68 776.5,-68 776.5,0 886.5,0 886.5,-68\"/>\n<text text-anchor=\"middle\" x=\"831.5\" y=\"-52.8\" font-family=\"Times,serif\" font-size=\"14.00\" fill=\"#000000\">gini = 0.497</text>\n<text text-anchor=\"middle\" x=\"831.5\" y=\"-37.8\" font-family=\"Times,serif\" font-size=\"14.00\" fill=\"#000000\">samples = 127</text>\n<text text-anchor=\"middle\" x=\"831.5\" y=\"-22.8\" font-family=\"Times,serif\" font-size=\"14.00\" fill=\"#000000\">value = [59, 68]</text>\n<text text-anchor=\"middle\" x=\"831.5\" y=\"-7.8\" font-family=\"Times,serif\" font-size=\"14.00\" fill=\"#000000\">class = Nao Trai</text>\n</g>\n<!-- 13&#45;&gt;14 -->\n<g id=\"edge14\" class=\"edge\">\n<title>13&#45;&gt;14</title>\n<path fill=\"none\" stroke=\"#000000\" d=\"M833.3829,-103.9815C833.1579,-95.618 832.9205,-86.7965 832.693,-78.3409\"/>\n<polygon fill=\"#000000\" stroke=\"#000000\" points=\"836.1897,-78.1659 832.4219,-68.2637 829.1922,-78.3542 836.1897,-78.1659\"/>\n</g>\n<!-- 15 -->\n<g id=\"node16\" class=\"node\">\n<title>15</title>\n<polygon fill=\"#e58139\" stroke=\"#000000\" points=\"1000,-68 905,-68 905,0 1000,0 1000,-68\"/>\n<text text-anchor=\"middle\" x=\"952.5\" y=\"-52.8\" font-family=\"Times,serif\" font-size=\"14.00\" fill=\"#000000\">gini = 0.0</text>\n<text text-anchor=\"middle\" x=\"952.5\" y=\"-37.8\" font-family=\"Times,serif\" font-size=\"14.00\" fill=\"#000000\">samples = 4</text>\n<text text-anchor=\"middle\" x=\"952.5\" y=\"-22.8\" font-family=\"Times,serif\" font-size=\"14.00\" fill=\"#000000\">value = [4, 0]</text>\n<text text-anchor=\"middle\" x=\"952.5\" y=\"-7.8\" font-family=\"Times,serif\" font-size=\"14.00\" fill=\"#000000\">class = Trai</text>\n</g>\n<!-- 13&#45;&gt;15 -->\n<g id=\"edge15\" class=\"edge\">\n<title>13&#45;&gt;15</title>\n<path fill=\"none\" stroke=\"#000000\" d=\"M878.4388,-103.9815C888.3598,-94.607 898.8897,-84.6572 908.8008,-75.2921\"/>\n<polygon fill=\"#000000\" stroke=\"#000000\" points=\"911.3743,-77.6757 916.2389,-68.2637 906.5666,-72.5878 911.3743,-77.6757\"/>\n</g>\n<!-- 17 -->\n<g id=\"node18\" class=\"node\">\n<title>17</title>\n<polygon fill=\"#e99559\" stroke=\"#000000\" points=\"1345,-306 1208,-306 1208,-223 1345,-223 1345,-306\"/>\n<text text-anchor=\"middle\" x=\"1276.5\" y=\"-290.8\" font-family=\"Times,serif\" font-size=\"14.00\" fill=\"#000000\">rate_marriage &lt;= 4.5</text>\n<text text-anchor=\"middle\" x=\"1276.5\" y=\"-275.8\" font-family=\"Times,serif\" font-size=\"14.00\" fill=\"#000000\">gini = 0.238</text>\n<text text-anchor=\"middle\" x=\"1276.5\" y=\"-260.8\" font-family=\"Times,serif\" font-size=\"14.00\" fill=\"#000000\">samples = 1511</text>\n<text text-anchor=\"middle\" x=\"1276.5\" y=\"-245.8\" font-family=\"Times,serif\" font-size=\"14.00\" fill=\"#000000\">value = [1302, 209]</text>\n<text text-anchor=\"middle\" x=\"1276.5\" y=\"-230.8\" font-family=\"Times,serif\" font-size=\"14.00\" fill=\"#000000\">class = Trai</text>\n</g>\n<!-- 16&#45;&gt;17 -->\n<g id=\"edge17\" class=\"edge\">\n<title>16&#45;&gt;17</title>\n<path fill=\"none\" stroke=\"#000000\" d=\"M1276.5,-341.8796C1276.5,-333.6838 1276.5,-324.9891 1276.5,-316.5013\"/>\n<polygon fill=\"#000000\" stroke=\"#000000\" points=\"1280.0001,-316.298 1276.5,-306.2981 1273.0001,-316.2981 1280.0001,-316.298\"/>\n</g>\n<!-- 24 -->\n<g id=\"node25\" class=\"node\">\n<title>24</title>\n<polygon fill=\"#f1bc96\" stroke=\"#000000\" points=\"1747,-306 1610,-306 1610,-223 1747,-223 1747,-306\"/>\n<text text-anchor=\"middle\" x=\"1678.5\" y=\"-290.8\" font-family=\"Times,serif\" font-size=\"14.00\" fill=\"#000000\">rate_marriage &lt;= 4.5</text>\n<text text-anchor=\"middle\" x=\"1678.5\" y=\"-275.8\" font-family=\"Times,serif\" font-size=\"14.00\" fill=\"#000000\">gini = 0.435</text>\n<text text-anchor=\"middle\" x=\"1678.5\" y=\"-260.8\" font-family=\"Times,serif\" font-size=\"14.00\" fill=\"#000000\">samples = 2164</text>\n<text text-anchor=\"middle\" x=\"1678.5\" y=\"-245.8\" font-family=\"Times,serif\" font-size=\"14.00\" fill=\"#000000\">value = [1471, 693]</text>\n<text text-anchor=\"middle\" x=\"1678.5\" y=\"-230.8\" font-family=\"Times,serif\" font-size=\"14.00\" fill=\"#000000\">class = Trai</text>\n</g>\n<!-- 16&#45;&gt;24 -->\n<g id=\"edge24\" class=\"edge\">\n<title>16&#45;&gt;24</title>\n<path fill=\"none\" stroke=\"#000000\" d=\"M1344.2392,-363.4478C1414.9083,-342.5284 1525.5768,-309.7683 1600.0099,-287.7346\"/>\n<polygon fill=\"#000000\" stroke=\"#000000\" points=\"1601.2143,-291.0283 1609.8095,-284.8338 1599.2273,-284.3162 1601.2143,-291.0283\"/>\n</g>\n<!-- 18 -->\n<g id=\"node19\" class=\"node\">\n<title>18</title>\n<polygon fill=\"#eca16b\" stroke=\"#000000\" points=\"1267,-187 1142,-187 1142,-104 1267,-104 1267,-187\"/>\n<text text-anchor=\"middle\" x=\"1204.5\" y=\"-171.8\" font-family=\"Times,serif\" font-size=\"14.00\" fill=\"#000000\">religious &lt;= 2.5</text>\n<text text-anchor=\"middle\" x=\"1204.5\" y=\"-156.8\" font-family=\"Times,serif\" font-size=\"14.00\" fill=\"#000000\">gini = 0.322</text>\n<text text-anchor=\"middle\" x=\"1204.5\" y=\"-141.8\" font-family=\"Times,serif\" font-size=\"14.00\" fill=\"#000000\">samples = 614</text>\n<text text-anchor=\"middle\" x=\"1204.5\" y=\"-126.8\" font-family=\"Times,serif\" font-size=\"14.00\" fill=\"#000000\">value = [490, 124]</text>\n<text text-anchor=\"middle\" x=\"1204.5\" y=\"-111.8\" font-family=\"Times,serif\" font-size=\"14.00\" fill=\"#000000\">class = Trai</text>\n</g>\n<!-- 17&#45;&gt;18 -->\n<g id=\"edge18\" class=\"edge\">\n<title>17&#45;&gt;18</title>\n<path fill=\"none\" stroke=\"#000000\" d=\"M1251.3179,-222.8796C1246.0867,-214.2335 1240.5195,-205.0322 1235.1177,-196.1042\"/>\n<polygon fill=\"#000000\" stroke=\"#000000\" points=\"1237.9608,-194.0421 1229.7896,-187.2981 1231.9717,-197.6658 1237.9608,-194.0421\"/>\n</g>\n<!-- 21 -->\n<g id=\"node22\" class=\"node\">\n<title>21</title>\n<polygon fill=\"#e88e4e\" stroke=\"#000000\" points=\"1413.5,-187 1285.5,-187 1285.5,-104 1413.5,-104 1413.5,-187\"/>\n<text text-anchor=\"middle\" x=\"1349.5\" y=\"-171.8\" font-family=\"Times,serif\" font-size=\"14.00\" fill=\"#000000\">yrs_married &lt;= 1.5</text>\n<text text-anchor=\"middle\" x=\"1349.5\" y=\"-156.8\" font-family=\"Times,serif\" font-size=\"14.00\" fill=\"#000000\">gini = 0.172</text>\n<text text-anchor=\"middle\" x=\"1349.5\" y=\"-141.8\" font-family=\"Times,serif\" font-size=\"14.00\" fill=\"#000000\">samples = 897</text>\n<text text-anchor=\"middle\" x=\"1349.5\" y=\"-126.8\" font-family=\"Times,serif\" font-size=\"14.00\" fill=\"#000000\">value = [812, 85]</text>\n<text text-anchor=\"middle\" x=\"1349.5\" y=\"-111.8\" font-family=\"Times,serif\" font-size=\"14.00\" fill=\"#000000\">class = Trai</text>\n</g>\n<!-- 17&#45;&gt;21 -->\n<g id=\"edge21\" class=\"edge\">\n<title>17&#45;&gt;21</title>\n<path fill=\"none\" stroke=\"#000000\" d=\"M1302.0319,-222.8796C1307.391,-214.1434 1313.0979,-204.8404 1318.6282,-195.8253\"/>\n<polygon fill=\"#000000\" stroke=\"#000000\" points=\"1321.6135,-197.6522 1323.8592,-187.2981 1315.6467,-193.9919 1321.6135,-197.6522\"/>\n</g>\n<!-- 19 -->\n<g id=\"node20\" class=\"node\">\n<title>19</title>\n<polygon fill=\"#eeae80\" stroke=\"#000000\" points=\"1135,-68 1018,-68 1018,0 1135,0 1135,-68\"/>\n<text text-anchor=\"middle\" x=\"1076.5\" y=\"-52.8\" font-family=\"Times,serif\" font-size=\"14.00\" fill=\"#000000\">gini = 0.389</text>\n<text text-anchor=\"middle\" x=\"1076.5\" y=\"-37.8\" font-family=\"Times,serif\" font-size=\"14.00\" fill=\"#000000\">samples = 348</text>\n<text text-anchor=\"middle\" x=\"1076.5\" y=\"-22.8\" font-family=\"Times,serif\" font-size=\"14.00\" fill=\"#000000\">value = [256, 92]</text>\n<text text-anchor=\"middle\" x=\"1076.5\" y=\"-7.8\" font-family=\"Times,serif\" font-size=\"14.00\" fill=\"#000000\">class = Trai</text>\n</g>\n<!-- 18&#45;&gt;19 -->\n<g id=\"edge19\" class=\"edge\">\n<title>18&#45;&gt;19</title>\n<path fill=\"none\" stroke=\"#000000\" d=\"M1156.8375,-103.9815C1145.9703,-94.5151 1134.4295,-84.462 1123.5865,-75.0168\"/>\n<polygon fill=\"#000000\" stroke=\"#000000\" points=\"1125.6734,-72.1929 1115.8341,-68.2637 1121.0755,-77.4712 1125.6734,-72.1929\"/>\n</g>\n<!-- 20 -->\n<g id=\"node21\" class=\"node\">\n<title>20</title>\n<polygon fill=\"#e99254\" stroke=\"#000000\" points=\"1270,-68 1153,-68 1153,0 1270,0 1270,-68\"/>\n<text text-anchor=\"middle\" x=\"1211.5\" y=\"-52.8\" font-family=\"Times,serif\" font-size=\"14.00\" fill=\"#000000\">gini = 0.212</text>\n<text text-anchor=\"middle\" x=\"1211.5\" y=\"-37.8\" font-family=\"Times,serif\" font-size=\"14.00\" fill=\"#000000\">samples = 266</text>\n<text text-anchor=\"middle\" x=\"1211.5\" y=\"-22.8\" font-family=\"Times,serif\" font-size=\"14.00\" fill=\"#000000\">value = [234, 32]</text>\n<text text-anchor=\"middle\" x=\"1211.5\" y=\"-7.8\" font-family=\"Times,serif\" font-size=\"14.00\" fill=\"#000000\">class = Trai</text>\n</g>\n<!-- 18&#45;&gt;20 -->\n<g id=\"edge20\" class=\"edge\">\n<title>18&#45;&gt;20</title>\n<path fill=\"none\" stroke=\"#000000\" d=\"M1207.1065,-103.9815C1207.6316,-95.618 1208.1854,-86.7965 1208.7163,-78.3409\"/>\n<polygon fill=\"#000000\" stroke=\"#000000\" points=\"1212.2154,-78.4634 1209.3489,-68.2637 1205.2291,-78.0247 1212.2154,-78.4634\"/>\n</g>\n<!-- 22 -->\n<g id=\"node23\" class=\"node\">\n<title>22</title>\n<polygon fill=\"#e5823a\" stroke=\"#000000\" points=\"1398.5,-68 1288.5,-68 1288.5,0 1398.5,0 1398.5,-68\"/>\n<text text-anchor=\"middle\" x=\"1343.5\" y=\"-52.8\" font-family=\"Times,serif\" font-size=\"14.00\" fill=\"#000000\">gini = 0.011</text>\n<text text-anchor=\"middle\" x=\"1343.5\" y=\"-37.8\" font-family=\"Times,serif\" font-size=\"14.00\" fill=\"#000000\">samples = 178</text>\n<text text-anchor=\"middle\" x=\"1343.5\" y=\"-22.8\" font-family=\"Times,serif\" font-size=\"14.00\" fill=\"#000000\">value = [177, 1]</text>\n<text text-anchor=\"middle\" x=\"1343.5\" y=\"-7.8\" font-family=\"Times,serif\" font-size=\"14.00\" fill=\"#000000\">class = Trai</text>\n</g>\n<!-- 21&#45;&gt;22 -->\n<g id=\"edge22\" class=\"edge\">\n<title>21&#45;&gt;22</title>\n<path fill=\"none\" stroke=\"#000000\" d=\"M1347.2658,-103.9815C1346.8158,-95.618 1346.3411,-86.7965 1345.8861,-78.3409\"/>\n<polygon fill=\"#000000\" stroke=\"#000000\" points=\"1349.3762,-78.0611 1345.3438,-68.2637 1342.3863,-78.4373 1349.3762,-78.0611\"/>\n</g>\n<!-- 23 -->\n<g id=\"node24\" class=\"node\">\n<title>23</title>\n<polygon fill=\"#e89253\" stroke=\"#000000\" points=\"1534,-68 1417,-68 1417,0 1534,0 1534,-68\"/>\n<text text-anchor=\"middle\" x=\"1475.5\" y=\"-52.8\" font-family=\"Times,serif\" font-size=\"14.00\" fill=\"#000000\">gini = 0.206</text>\n<text text-anchor=\"middle\" x=\"1475.5\" y=\"-37.8\" font-family=\"Times,serif\" font-size=\"14.00\" fill=\"#000000\">samples = 719</text>\n<text text-anchor=\"middle\" x=\"1475.5\" y=\"-22.8\" font-family=\"Times,serif\" font-size=\"14.00\" fill=\"#000000\">value = [635, 84]</text>\n<text text-anchor=\"middle\" x=\"1475.5\" y=\"-7.8\" font-family=\"Times,serif\" font-size=\"14.00\" fill=\"#000000\">class = Trai</text>\n</g>\n<!-- 21&#45;&gt;23 -->\n<g id=\"edge23\" class=\"edge\">\n<title>21&#45;&gt;23</title>\n<path fill=\"none\" stroke=\"#000000\" d=\"M1396.4177,-103.9815C1407.1152,-94.5151 1418.4756,-84.462 1429.1492,-75.0168\"/>\n<polygon fill=\"#000000\" stroke=\"#000000\" points=\"1431.6111,-77.5118 1436.7805,-68.2637 1426.9722,-72.2696 1431.6111,-77.5118\"/>\n</g>\n<!-- 25 -->\n<g id=\"node26\" class=\"node\">\n<title>25</title>\n<polygon fill=\"#f6d4bc\" stroke=\"#000000\" points=\"1741,-187 1616,-187 1616,-104 1741,-104 1741,-187\"/>\n<text text-anchor=\"middle\" x=\"1678.5\" y=\"-171.8\" font-family=\"Times,serif\" font-size=\"14.00\" fill=\"#000000\">occ4 &lt;= 0.5</text>\n<text text-anchor=\"middle\" x=\"1678.5\" y=\"-156.8\" font-family=\"Times,serif\" font-size=\"14.00\" fill=\"#000000\">gini = 0.479</text>\n<text text-anchor=\"middle\" x=\"1678.5\" y=\"-141.8\" font-family=\"Times,serif\" font-size=\"14.00\" fill=\"#000000\">samples = 1067</text>\n<text text-anchor=\"middle\" x=\"1678.5\" y=\"-126.8\" font-family=\"Times,serif\" font-size=\"14.00\" fill=\"#000000\">value = [642, 425]</text>\n<text text-anchor=\"middle\" x=\"1678.5\" y=\"-111.8\" font-family=\"Times,serif\" font-size=\"14.00\" fill=\"#000000\">class = Trai</text>\n</g>\n<!-- 24&#45;&gt;25 -->\n<g id=\"edge25\" class=\"edge\">\n<title>24&#45;&gt;25</title>\n<path fill=\"none\" stroke=\"#000000\" d=\"M1678.5,-222.8796C1678.5,-214.6838 1678.5,-205.9891 1678.5,-197.5013\"/>\n<polygon fill=\"#000000\" stroke=\"#000000\" points=\"1682.0001,-197.298 1678.5,-187.2981 1675.0001,-197.2981 1682.0001,-197.298\"/>\n</g>\n<!-- 28 -->\n<g id=\"node29\" class=\"node\">\n<title>28</title>\n<polygon fill=\"#edaa79\" stroke=\"#000000\" points=\"1948,-187 1823,-187 1823,-104 1948,-104 1948,-187\"/>\n<text text-anchor=\"middle\" x=\"1885.5\" y=\"-171.8\" font-family=\"Times,serif\" font-size=\"14.00\" fill=\"#000000\">religious &lt;= 1.5</text>\n<text text-anchor=\"middle\" x=\"1885.5\" y=\"-156.8\" font-family=\"Times,serif\" font-size=\"14.00\" fill=\"#000000\">gini = 0.369</text>\n<text text-anchor=\"middle\" x=\"1885.5\" y=\"-141.8\" font-family=\"Times,serif\" font-size=\"14.00\" fill=\"#000000\">samples = 1097</text>\n<text text-anchor=\"middle\" x=\"1885.5\" y=\"-126.8\" font-family=\"Times,serif\" font-size=\"14.00\" fill=\"#000000\">value = [829, 268]</text>\n<text text-anchor=\"middle\" x=\"1885.5\" y=\"-111.8\" font-family=\"Times,serif\" font-size=\"14.00\" fill=\"#000000\">class = Trai</text>\n</g>\n<!-- 24&#45;&gt;28 -->\n<g id=\"edge28\" class=\"edge\">\n<title>24&#45;&gt;28</title>\n<path fill=\"none\" stroke=\"#000000\" d=\"M1747.1405,-225.04C1768.6552,-212.6717 1792.4452,-198.9952 1814.143,-186.5217\"/>\n<polygon fill=\"#000000\" stroke=\"#000000\" points=\"1816.0556,-189.4593 1822.9808,-181.441 1812.5668,-183.3906 1816.0556,-189.4593\"/>\n</g>\n<!-- 26 -->\n<g id=\"node27\" class=\"node\">\n<title>26</title>\n<polygon fill=\"#f9e4d4\" stroke=\"#000000\" points=\"1677,-68 1552,-68 1552,0 1677,0 1677,-68\"/>\n<text text-anchor=\"middle\" x=\"1614.5\" y=\"-52.8\" font-family=\"Times,serif\" font-size=\"14.00\" fill=\"#000000\">gini = 0.493</text>\n<text text-anchor=\"middle\" x=\"1614.5\" y=\"-37.8\" font-family=\"Times,serif\" font-size=\"14.00\" fill=\"#000000\">samples = 744</text>\n<text text-anchor=\"middle\" x=\"1614.5\" y=\"-22.8\" font-family=\"Times,serif\" font-size=\"14.00\" fill=\"#000000\">value = [417, 327]</text>\n<text text-anchor=\"middle\" x=\"1614.5\" y=\"-7.8\" font-family=\"Times,serif\" font-size=\"14.00\" fill=\"#000000\">class = Trai</text>\n</g>\n<!-- 25&#45;&gt;26 -->\n<g id=\"edge26\" class=\"edge\">\n<title>25&#45;&gt;26</title>\n<path fill=\"none\" stroke=\"#000000\" d=\"M1654.6688,-103.9815C1649.6044,-95.1585 1644.2475,-85.8258 1639.1532,-76.9506\"/>\n<polygon fill=\"#000000\" stroke=\"#000000\" points=\"1642.1807,-75.1942 1634.167,-68.2637 1636.1097,-78.6789 1642.1807,-75.1942\"/>\n</g>\n<!-- 27 -->\n<g id=\"node28\" class=\"node\">\n<title>27</title>\n<polygon fill=\"#f0b88f\" stroke=\"#000000\" points=\"1812,-68 1695,-68 1695,0 1812,0 1812,-68\"/>\n<text text-anchor=\"middle\" x=\"1753.5\" y=\"-52.8\" font-family=\"Times,serif\" font-size=\"14.00\" fill=\"#000000\">gini = 0.423</text>\n<text text-anchor=\"middle\" x=\"1753.5\" y=\"-37.8\" font-family=\"Times,serif\" font-size=\"14.00\" fill=\"#000000\">samples = 323</text>\n<text text-anchor=\"middle\" x=\"1753.5\" y=\"-22.8\" font-family=\"Times,serif\" font-size=\"14.00\" fill=\"#000000\">value = [225, 98]</text>\n<text text-anchor=\"middle\" x=\"1753.5\" y=\"-7.8\" font-family=\"Times,serif\" font-size=\"14.00\" fill=\"#000000\">class = Trai</text>\n</g>\n<!-- 25&#45;&gt;27 -->\n<g id=\"edge27\" class=\"edge\">\n<title>25&#45;&gt;27</title>\n<path fill=\"none\" stroke=\"#000000\" d=\"M1706.4272,-103.9815C1712.4238,-95.0666 1718.7704,-85.6313 1724.7959,-76.6734\"/>\n<polygon fill=\"#000000\" stroke=\"#000000\" points=\"1727.7755,-78.5147 1730.4527,-68.2637 1721.9672,-74.6078 1727.7755,-78.5147\"/>\n</g>\n<!-- 29 -->\n<g id=\"node30\" class=\"node\">\n<title>29</title>\n<polygon fill=\"#f7d8c2\" stroke=\"#000000\" points=\"1940.5,-68 1830.5,-68 1830.5,0 1940.5,0 1940.5,-68\"/>\n<text text-anchor=\"middle\" x=\"1885.5\" y=\"-52.8\" font-family=\"Times,serif\" font-size=\"14.00\" fill=\"#000000\">gini = 0.484</text>\n<text text-anchor=\"middle\" x=\"1885.5\" y=\"-37.8\" font-family=\"Times,serif\" font-size=\"14.00\" fill=\"#000000\">samples = 144</text>\n<text text-anchor=\"middle\" x=\"1885.5\" y=\"-22.8\" font-family=\"Times,serif\" font-size=\"14.00\" fill=\"#000000\">value = [85, 59]</text>\n<text text-anchor=\"middle\" x=\"1885.5\" y=\"-7.8\" font-family=\"Times,serif\" font-size=\"14.00\" fill=\"#000000\">class = Trai</text>\n</g>\n<!-- 28&#45;&gt;29 -->\n<g id=\"edge29\" class=\"edge\">\n<title>28&#45;&gt;29</title>\n<path fill=\"none\" stroke=\"#000000\" d=\"M1885.5,-103.9815C1885.5,-95.618 1885.5,-86.7965 1885.5,-78.3409\"/>\n<polygon fill=\"#000000\" stroke=\"#000000\" points=\"1889.0001,-78.2636 1885.5,-68.2637 1882.0001,-78.2637 1889.0001,-78.2636\"/>\n</g>\n<!-- 30 -->\n<g id=\"node31\" class=\"node\">\n<title>30</title>\n<polygon fill=\"#eca471\" stroke=\"#000000\" points=\"2084,-68 1959,-68 1959,0 2084,0 2084,-68\"/>\n<text text-anchor=\"middle\" x=\"2021.5\" y=\"-52.8\" font-family=\"Times,serif\" font-size=\"14.00\" fill=\"#000000\">gini = 0.342</text>\n<text text-anchor=\"middle\" x=\"2021.5\" y=\"-37.8\" font-family=\"Times,serif\" font-size=\"14.00\" fill=\"#000000\">samples = 953</text>\n<text text-anchor=\"middle\" x=\"2021.5\" y=\"-22.8\" font-family=\"Times,serif\" font-size=\"14.00\" fill=\"#000000\">value = [744, 209]</text>\n<text text-anchor=\"middle\" x=\"2021.5\" y=\"-7.8\" font-family=\"Times,serif\" font-size=\"14.00\" fill=\"#000000\">class = Trai</text>\n</g>\n<!-- 28&#45;&gt;30 -->\n<g id=\"edge30\" class=\"edge\">\n<title>28&#45;&gt;30</title>\n<path fill=\"none\" stroke=\"#000000\" d=\"M1936.1414,-103.9815C1947.7999,-94.4232 1960.188,-84.2668 1971.8059,-74.7419\"/>\n<polygon fill=\"#000000\" stroke=\"#000000\" points=\"1974.1933,-77.3105 1979.7075,-68.2637 1969.7552,-71.8972 1974.1933,-77.3105\"/>\n</g>\n</g>\n</svg>\n"
          },
          "metadata": {
            "tags": []
          },
          "execution_count": 39
        }
      ]
    },
    {
      "cell_type": "markdown",
      "metadata": {
        "id": "MxNVbAnoXNd8"
      },
      "source": [
        "**Análise**\n",
        "\n",
        "Apos converter as variaveis categoricas de ocupacao da mulher, bem como a doo seu marido para dummy variables, reconstruímos a arvore com profundidade 3, tempo de casamento e nota para este continuam sendo as features primarias. \n",
        "\n",
        "Ao aprofundar para uma arvore de 4 niveis, vemos algumas situacoes especificas. Mulheres que atribuiem nota inferior a 3,5 ao casamento e com tempo de casada entre 1,5 e 4,25 anos, especificamente da profissao de admistradora tem menos propensao a trair em comparacao a outras profissoes.\n",
        "\n",
        "Outra situacao sao mulheres com tempo de casamento superior a 4 anos com nota ao matrimonio inferior a 2,5, as que nao sao consideradas religiosas (grau de fe inferior a 3,5) tendem a trair menos do que as que se consideram mais religiosas.\n",
        "\n",
        "Por fim, em um perfil parecido de longo tempo casamento e nota atribuido ao casamento entre 2,5 e 2,5, especificamente para profissao de agricultora tem mais tendencia a trai do que as demais profissoes."
      ]
    },
    {
      "cell_type": "code",
      "metadata": {
        "id": "CgOuMsDdaNtv",
        "colab": {
          "base_uri": "https://localhost:8080/",
          "height": 373
        },
        "outputId": "a08ce258-4a26-42d3-af9b-b10848d673b9"
      },
      "source": [
        "import seaborn as sns\n",
        "from sklearn.metrics import accuracy_score,confusion_matrix\n",
        "\n",
        "score_train = tree.score(Xtrain, Ytrain)\n",
        "previsoes = tree.predict(Xtest)\n",
        "score_test = accuracy_score(Ytest,previsoes)\n",
        "print('Acuracia de Treino',score_train)\n",
        "print('Acuracia de Test',score_test)\n",
        "print('MSE Teste',mean_squared_error(Ytest,previsoes))\n",
        "\n",
        "cm = confusion_matrix(Ytest, previsoes)\n",
        "print(cm)\n",
        "sns.heatmap(cm,annot=True)"
      ],
      "execution_count": 40,
      "outputs": [
        {
          "output_type": "stream",
          "text": [
            "Acuracia de Treino 0.7260159195643067\n",
            "Acuracia de Test 0.710427135678392\n",
            "MSE Teste 0.28957286432160806\n",
            "[[955 132]\n",
            " [329 176]]\n"
          ],
          "name": "stdout"
        },
        {
          "output_type": "execute_result",
          "data": {
            "text/plain": [
              "<matplotlib.axes._subplots.AxesSubplot at 0x7f7898de4850>"
            ]
          },
          "metadata": {
            "tags": []
          },
          "execution_count": 40
        },
        {
          "output_type": "display_data",
          "data": {
            "image/png": "[encoded data removed]",
            "text/plain": [
              "<Figure size 432x288 with 2 Axes>"
            ]
          },
          "metadata": {
            "tags": []
          }
        }
      ]
    },
    {
      "cell_type": "markdown",
      "metadata": {
        "id": "qy6vjxwwaqVW"
      },
      "source": [
        "**Análise**\n",
        "\n",
        "Esta arvore aparesenta entao um desempenho equivalente tanto em treino quanto em teste, um pouco acima de 70%. O que proximos ao que vimos na Regressao Logistica e KNN"
      ]
    },
    {
      "cell_type": "code",
      "metadata": {
        "id": "0EvCMhkEE3-m",
        "colab": {
          "base_uri": "https://localhost:8080/",
          "height": 232
        },
        "outputId": "a532950c-cf7f-4d4a-9ef5-5adf772e6aed"
      },
      "source": [
        "#import matplotlib.pyplot as plt\n",
        "#pred=tree3.predict(X)\n",
        "#plt.scatter(pred, y, label='medv')\n",
        "#plt.plot([0,1],[0,1], '--k', transform=plt.gca().transAxes)\n",
        "#plt.xlabel('pred')\n",
        "#plt.ylabel('y_test')\n",
        "Xs[['rate_marriage','yrs_married','religious','occ5','occ6','tem_filhos']].corr()\n"
      ],
      "execution_count": 41,
      "outputs": [
        {
          "output_type": "execute_result",
          "data": {
            "text/html": [
              "<div>\n",
              "<style scoped>\n",
              "    .dataframe tbody tr th:only-of-type {\n",
              "        vertical-align: middle;\n",
              "    }\n",
              "\n",
              "    .dataframe tbody tr th {\n",
              "        vertical-align: top;\n",
              "    }\n",
              "\n",
              "    .dataframe thead th {\n",
              "        text-align: right;\n",
              "    }\n",
              "</style>\n",
              "<table border=\"1\" class=\"dataframe\">\n",
              "  <thead>\n",
              "    <tr style=\"text-align: right;\">\n",
              "      <th></th>\n",
              "      <th>rate_marriage</th>\n",
              "      <th>yrs_married</th>\n",
              "      <th>religious</th>\n",
              "      <th>occ5</th>\n",
              "      <th>occ6</th>\n",
              "      <th>tem_filhos</th>\n",
              "    </tr>\n",
              "  </thead>\n",
              "  <tbody>\n",
              "    <tr>\n",
              "      <th>rate_marriage</th>\n",
              "      <td>1.000000</td>\n",
              "      <td>-0.128978</td>\n",
              "      <td>0.078794</td>\n",
              "      <td>-0.002109</td>\n",
              "      <td>0.008878</td>\n",
              "      <td>-0.168831</td>\n",
              "    </tr>\n",
              "    <tr>\n",
              "      <th>yrs_married</th>\n",
              "      <td>-0.128978</td>\n",
              "      <td>1.000000</td>\n",
              "      <td>0.132683</td>\n",
              "      <td>0.076820</td>\n",
              "      <td>-0.004912</td>\n",
              "      <td>0.613814</td>\n",
              "    </tr>\n",
              "    <tr>\n",
              "      <th>religious</th>\n",
              "      <td>0.078794</td>\n",
              "      <td>0.132683</td>\n",
              "      <td>1.000000</td>\n",
              "      <td>0.004260</td>\n",
              "      <td>0.011784</td>\n",
              "      <td>0.096127</td>\n",
              "    </tr>\n",
              "    <tr>\n",
              "      <th>occ5</th>\n",
              "      <td>-0.002109</td>\n",
              "      <td>0.076820</td>\n",
              "      <td>0.004260</td>\n",
              "      <td>1.000000</td>\n",
              "      <td>-0.047868</td>\n",
              "      <td>0.011727</td>\n",
              "    </tr>\n",
              "    <tr>\n",
              "      <th>occ6</th>\n",
              "      <td>0.008878</td>\n",
              "      <td>-0.004912</td>\n",
              "      <td>0.011784</td>\n",
              "      <td>-0.047868</td>\n",
              "      <td>1.000000</td>\n",
              "      <td>-0.024126</td>\n",
              "    </tr>\n",
              "    <tr>\n",
              "      <th>tem_filhos</th>\n",
              "      <td>-0.168831</td>\n",
              "      <td>0.613814</td>\n",
              "      <td>0.096127</td>\n",
              "      <td>0.011727</td>\n",
              "      <td>-0.024126</td>\n",
              "      <td>1.000000</td>\n",
              "    </tr>\n",
              "  </tbody>\n",
              "</table>\n",
              "</div>"
            ],
            "text/plain": [
              "               rate_marriage  yrs_married  ...      occ6  tem_filhos\n",
              "rate_marriage       1.000000    -0.128978  ...  0.008878   -0.168831\n",
              "yrs_married        -0.128978     1.000000  ... -0.004912    0.613814\n",
              "religious           0.078794     0.132683  ...  0.011784    0.096127\n",
              "occ5               -0.002109     0.076820  ... -0.047868    0.011727\n",
              "occ6                0.008878    -0.004912  ...  1.000000   -0.024126\n",
              "tem_filhos         -0.168831     0.613814  ... -0.024126    1.000000\n",
              "\n",
              "[6 rows x 6 columns]"
            ]
          },
          "metadata": {
            "tags": []
          },
          "execution_count": 41
        }
      ]
    },
    {
      "cell_type": "code",
      "metadata": {
        "colab": {
          "base_uri": "https://localhost:8080/",
          "height": 390
        },
        "id": "KKnthSsRRpAM",
        "outputId": "616eb9da-863f-4c99-c2ac-b401fbd9a5cb"
      },
      "source": [
        "import seaborn as sns\n",
        "sns.heatmap(Xs[['rate_marriage','yrs_married','religious','occ5','occ6','tem_filhos']].corr())"
      ],
      "execution_count": 42,
      "outputs": [
        {
          "output_type": "execute_result",
          "data": {
            "text/plain": [
              "<matplotlib.axes._subplots.AxesSubplot at 0x7f7898d744d0>"
            ]
          },
          "metadata": {
            "tags": []
          },
          "execution_count": 42
        },
        {
          "output_type": "display_data",
          "data": {
            "image/png": "[encoded data removed]",
            "text/plain": [
              "<Figure size 432x288 with 2 Axes>"
            ]
          },
          "metadata": {
            "tags": []
          }
        }
      ]
    },
    {
      "cell_type": "markdown",
      "metadata": {
        "id": "Auohf46ZSGU-"
      },
      "source": [
        "**Analise**\n",
        "\n",
        "Caso voce tenha atentado, comparando as features do arvore de decisao com a regressao logistica, temos a ausencia da tem_filhos. Observe pela tabela e correlacao e mapa de calor acima, que ele esta altamente correlacionada com tempo de casamento."
      ]
    },
    {
      "cell_type": "markdown",
      "metadata": {
        "id": "lXETuzmPDh4u"
      },
      "source": [
        "# Random Forest"
      ]
    },
    {
      "cell_type": "markdown",
      "metadata": {
        "id": "RDXK3XVpSkl2"
      },
      "source": [
        "Vamos iniciar a floresta aleatoria com um numero maximo de features igual a 5, nas expectativa que as 5 principais que temos visto nos algoritmos anteriores sejam selecionadas: 'rate_marriage','yrs_married','religious','occ5','occ6' "
      ]
    },
    {
      "cell_type": "code",
      "metadata": {
        "id": "tRp0tcRydyof",
        "colab": {
          "base_uri": "https://localhost:8080/"
        },
        "outputId": "5dfbbb9c-0bb2-47b4-b0bb-507eee59d7cf"
      },
      "source": [
        "from sklearn.ensemble import RandomForestClassifier\n",
        "from sklearn.model_selection import train_test_split\n",
        "import matplotlib.pyplot as plt\n",
        "from sklearn.metrics import mean_squared_error\n",
        "\n",
        "X_train , X_test, y_train, y_test = train_test_split(X, y, test_size=0.2)\n",
        "randtree1 = RandomForestClassifier(max_features=5)\n",
        "randtree1.fit(X_train, y_train)\n",
        "pred = randtree1.predict(X_test)\n",
        "print('Acuracia Treino',randtree1.score(X_train, y_train))\n",
        "print('Acuracia Teste',randtree1.score(X_test, y_test))\n",
        "print('MSE',mean_squared_error(y_test, pred))\n",
        "\n",
        "\n",
        "#plt.scatter(pred, y_test, label='medv')\n",
        "#plt.plot([0,1],[0,1], '--k', transform=plt.gca().transAxes)\n",
        "#plt.xlabel('pred')\n",
        "#plt.ylabel('y_test')"
      ],
      "execution_count": 43,
      "outputs": [
        {
          "output_type": "stream",
          "text": [
            "Acuracia Treino 0.8364100549882169\n",
            "Acuracia Teste 0.6789638932496075\n",
            "MSE 0.32103610675039246\n"
          ],
          "name": "stdout"
        }
      ]
    },
    {
      "cell_type": "markdown",
      "metadata": {
        "id": "XnH2FAzDS9wK"
      },
      "source": [
        "**Analise**\n",
        "\n",
        "Chegamos no que parece ser um overfit, com acuracia de treino superior a 80% e a de teste da ordem de 70%. Vamos entao aumentar o numero de features para o maximo, 16."
      ]
    },
    {
      "cell_type": "code",
      "metadata": {
        "id": "kZE2Gp1-dZiE",
        "colab": {
          "base_uri": "https://localhost:8080/"
        },
        "outputId": "9d7ba712-cd34-48b5-fc58-2205b49f02e8"
      },
      "source": [
        "Xtrain, Xtest, Ytrain, Ytest = train_test_split(Xs, Y) \n",
        "randtree2 = RandomForestClassifier(max_features=16 )\n",
        "randtree2.fit(Xtrain, Ytrain)\n",
        "pred = randtree2.predict(Xtest)\n",
        "print('Acuracia Treino',randtree2.score(Xtrain, Ytrain))\n",
        "print('Acuracia Teste',randtree2.score(Xtest, Ytest))\n",
        "print('MSE Teste',mean_squared_error(Ytest, pred))\n"
      ],
      "execution_count": 44,
      "outputs": [
        {
          "output_type": "stream",
          "text": [
            "Acuracia Treino 0.922077922077922\n",
            "Acuracia Teste 0.6765075376884422\n",
            "MSE Teste 0.3234924623115578\n"
          ],
          "name": "stdout"
        }
      ]
    },
    {
      "cell_type": "markdown",
      "metadata": {
        "id": "s992udNXTVSo"
      },
      "source": [
        "**Analise**\n",
        "\n",
        "Nessa condicao, o overfit piorou, tendo acuracia de treino superior a 90% e de teste de 67%. Vamos entrar entao com a selecao manual de atributos com base no que aprendamos nos modelos anteriores"
      ]
    },
    {
      "cell_type": "code",
      "metadata": {
        "colab": {
          "base_uri": "https://localhost:8080/",
          "height": 373
        },
        "id": "XP_0oG8iTh_e",
        "outputId": "8988e628-3aa4-4f5c-b74d-6cf7e826b0b2"
      },
      "source": [
        "randt = RandomForestClassifier()\n",
        "randt.fit(Xtrain[['rate_marriage','yrs_married','religious','occ5','occ6']], Ytrain)\n",
        "pred = randt.predict(Xtest[['rate_marriage','yrs_married','religious','occ5','occ6']])\n",
        "print('Acuracia Treino',randt.score(Xtrain[['rate_marriage','yrs_married','religious','occ5','occ6']], Ytrain))\n",
        "print('Acuracia Teste',randt.score(Xtest[['rate_marriage','yrs_married','religious','occ5','occ6']], Ytest))\n",
        "print('MSE Teste',mean_squared_error(Ytest, pred))\n",
        "cm = confusion_matrix(Ytest, previsoes)\n",
        "print(cm)\n",
        "sns.heatmap(cm,annot=True)"
      ],
      "execution_count": 45,
      "outputs": [
        {
          "output_type": "stream",
          "text": [
            "Acuracia Treino 0.7419354838709677\n",
            "Acuracia Teste 0.7091708542713567\n",
            "MSE Teste 0.2908291457286432\n",
            "[[863 213]\n",
            " [421  95]]\n"
          ],
          "name": "stdout"
        },
        {
          "output_type": "execute_result",
          "data": {
            "text/plain": [
              "<matplotlib.axes._subplots.AxesSubplot at 0x7f7898a17f90>"
            ]
          },
          "metadata": {
            "tags": []
          },
          "execution_count": 45
        },
        {
          "output_type": "display_data",
          "data": {
            "image/png": "[encoded data removed]",
            "text/plain": [
              "<Figure size 432x288 with 2 Axes>"
            ]
          },
          "metadata": {
            "tags": []
          }
        }
      ]
    },
    {
      "cell_type": "markdown",
      "metadata": {
        "id": "D67l-nV0URu9"
      },
      "source": [
        "**Analise**\n",
        "\n",
        "Esse modelo entao parece ser mais equilibrado com acuracia de treino e teste proxima a 70%, o que seria patamar que vimos em outros algoritmos"
      ]
    },
    {
      "cell_type": "markdown",
      "metadata": {
        "id": "drSo8D8VHARP"
      },
      "source": [
        "# LDA\n",
        "\n",
        "\n",
        "\n"
      ]
    },
    {
      "cell_type": "markdown",
      "metadata": {
        "id": "gDZFCw8gUikx"
      },
      "source": [
        "Vamos iniciar a anlise LDA com todas as feature, e comparar este com os demais modelos."
      ]
    },
    {
      "cell_type": "code",
      "metadata": {
        "colab": {
          "base_uri": "https://localhost:8080/",
          "height": 373
        },
        "id": "sAlbNT6mHAYX",
        "outputId": "3113adc1-0b82-43cc-b606-6c95ee4becd5"
      },
      "source": [
        "from sklearn.discriminant_analysis import LinearDiscriminantAnalysis\n",
        "from sklearn.metrics import accuracy_score,confusion_matrix\n",
        "from sklearn.model_selection import train_test_split\n",
        "import seaborn as sns\n",
        "\n",
        "X_train, X_test, Y_train, Y_test = train_test_split(Xs, Y) \n",
        "lda = LinearDiscriminantAnalysis()\n",
        "lda.fit(X_train, Y_train)\n",
        "score_train = lda.score(X_train, Y_train)\n",
        "previsoes = lda.predict(X_test)\n",
        "score_test = accuracy_score(Y_test,previsoes)\n",
        "print('Acuraria Treino',score_train)\n",
        "print('Acuraria TESTE',score_test)\n",
        "print('MSE Teste',mean_squared_error(Y_test,previsoes))\n",
        "cm = confusion_matrix(Y_test, previsoes)\n",
        "print(cm)\n",
        "sns.heatmap(cm,annot=True)"
      ],
      "execution_count": 46,
      "outputs": [
        {
          "output_type": "stream",
          "text": [
            "Acuraria Treino 0.7264348554671135\n",
            "Acuraria TESTE 0.7298994974874372\n",
            "MSE Teste 0.2701005025125628\n",
            "[[963 112]\n",
            " [318 199]]\n"
          ],
          "name": "stdout"
        },
        {
          "output_type": "execute_result",
          "data": {
            "text/plain": [
              "<matplotlib.axes._subplots.AxesSubplot at 0x7f7898956d90>"
            ]
          },
          "metadata": {
            "tags": []
          },
          "execution_count": 46
        },
        {
          "output_type": "display_data",
          "data": {
            "image/png": "[encoded data removed]",
            "text/plain": [
              "<Figure size 432x288 with 2 Axes>"
            ]
          },
          "metadata": {
            "tags": []
          }
        }
      ]
    },
    {
      "cell_type": "markdown",
      "metadata": {
        "id": "0e9r4_W0MfAt"
      },
      "source": [
        "**Análise**\n",
        "\n",
        "O classificador LDA presentou acurácia de teste e treino apenas um pouco melhor do que a Regressao Logistica. Pela matriz de confusao acima, se ve tambem que a melhora de Precisao e Recall tambem nao sao significativas"
      ]
    },
    {
      "cell_type": "code",
      "metadata": {
        "colab": {
          "base_uri": "https://localhost:8080/",
          "height": 340
        },
        "id": "PIUakufdN8RS",
        "outputId": "86cd18fc-6fa0-40a9-eeb5-6688316d4d9c"
      },
      "source": [
        "import seaborn as sns\n",
        "decision_prob = 0.9\n",
        "yprob = lda.fit(X_train, Y_train).predict_proba(X_test)\n",
        "Y_prob = yprob[:,1]  > decision_prob\n",
        "score_test = accuracy_score(Y_test,Y_prob)\n",
        "print('Acuraria TESTE',score_test)\n",
        "cm = confusion_matrix(Y_test,Y_prob)\n",
        "print(cm)\n",
        "sns.heatmap(cm,annot=True)"
      ],
      "execution_count": 47,
      "outputs": [
        {
          "output_type": "stream",
          "text": [
            "Acuraria TESTE 0.6765075376884422\n",
            "[[1075    0]\n",
            " [ 515    2]]\n"
          ],
          "name": "stdout"
        },
        {
          "output_type": "execute_result",
          "data": {
            "text/plain": [
              "<matplotlib.axes._subplots.AxesSubplot at 0x7f789a08e3d0>"
            ]
          },
          "metadata": {
            "tags": []
          },
          "execution_count": 47
        },
        {
          "output_type": "display_data",
          "data": {
            "image/png": "[encoded data removed]",
            "text/plain": [
              "<Figure size 432x288 with 2 Axes>"
            ]
          },
          "metadata": {
            "tags": []
          }
        }
      ]
    },
    {
      "cell_type": "code",
      "metadata": {
        "colab": {
          "base_uri": "https://localhost:8080/",
          "height": 340
        },
        "id": "lz-5dW6jPhWD",
        "outputId": "93941f62-afa7-4021-a836-a2f018c8b5b3"
      },
      "source": [
        "import seaborn as sns\n",
        "decision_prob = 0.1\n",
        "yprob = lda.fit(X_train, Y_train).predict_proba(X_test)\n",
        "Y_prob = yprob[:,1]  > decision_prob\n",
        "score_test = accuracy_score(Y_test,Y_prob)\n",
        "print('Acuraria TESTE',score_test)\n",
        "cm = confusion_matrix(Y_test,Y_prob)\n",
        "print(cm)\n",
        "sns.heatmap(cm,annot=True)"
      ],
      "execution_count": 48,
      "outputs": [
        {
          "output_type": "stream",
          "text": [
            "Acuraria TESTE 0.39886934673366836\n",
            "[[124 951]\n",
            " [  6 511]]\n"
          ],
          "name": "stdout"
        },
        {
          "output_type": "execute_result",
          "data": {
            "text/plain": [
              "<matplotlib.axes._subplots.AxesSubplot at 0x7f78989ff450>"
            ]
          },
          "metadata": {
            "tags": []
          },
          "execution_count": 48
        },
        {
          "output_type": "display_data",
          "data": {
            "image/png": "[encoded data removed]",
            "text/plain": [
              "<Figure size 432x288 with 2 Axes>"
            ]
          },
          "metadata": {
            "tags": []
          }
        }
      ]
    },
    {
      "cell_type": "markdown",
      "metadata": {
        "id": "XXL_yLg7QgMb"
      },
      "source": [
        "**Análise**\n",
        "\n",
        "Alterando o limiar de probabilidade aceito na previsao, nao obtemos resultados melhores. Se colocamos esse limiar mais alto, exemplo 0.9, nao melhoramos acuracia. E apesar de aumentarmos os TNs, aumentamos tambem os FNs. Ao mesmo tempo, diminuimos os TPs. Em um cenario do limiar muito baixo, exemplo 0.1, baixamos a acuracia, juntamente com um aumento de TP acompanhado de um aumento de FP. Ao mesmo tempo diminuindo os TNs."
      ]
    },
    {
      "cell_type": "code",
      "metadata": {
        "colab": {
          "base_uri": "https://localhost:8080/",
          "height": 315
        },
        "id": "KxEe-an_cCy8",
        "outputId": "97eccb20-6380-4dfb-8da2-3309c3d7f8a1"
      },
      "source": [
        "from sklearn.metrics import roc_curve, auc\n",
        "import matplotlib.pyplot as plt\n",
        "y_score_lr = lda.fit(X_train, Y_train).predict_proba(X_test)\n",
        "fpr_lr, tpr_lr, _ = roc_curve(Y_test, y_score_lr[:, 1])\n",
        "roc_auc_lr = auc(fpr_lr, tpr_lr)\n",
        "\n",
        "plt.plot([0,1],[0,1],'k--')\n",
        "plt.plot(fpr_lr, tpr_lr, label='ROC curve (area = {:0.2f})'.format(roc_auc_lr))\n",
        "plt.xlabel('False Positive Rate')\n",
        "plt.ylabel('True Positive Rate')\n",
        "plt.title('ROC curve')\n",
        "plt.legend(loc='lower right')\n",
        "plt.show()"
      ],
      "execution_count": 49,
      "outputs": [
        {
          "output_type": "display_data",
          "data": {
            "image/png": "[encoded data removed]",
            "text/plain": [
              "<Figure size 432x288 with 1 Axes>"
            ]
          },
          "metadata": {
            "tags": []
          }
        }
      ]
    },
    {
      "cell_type": "markdown",
      "metadata": {
        "id": "ugpe3HXtU8e2"
      },
      "source": [
        "Analise\n",
        "\n",
        "O equilibrio do LDA com base na propabilidade de classificacao positiva, parace ser um tarefa complexa. Se aceitarmos uma taxa inferior a 20% de FPs, atigiriamos no maximo uma taxa de TP de apenas 50%, o que seria o mesmo de um evento aleatorio. Para se chegar numa taxa de TP consistente de por exemplo superior a 80%, precisariamos aceitar uma taxa de FP superior a 40%"
      ]
    },
    {
      "cell_type": "markdown",
      "metadata": {
        "id": "gLSscNZtHAiB"
      },
      "source": [
        "# SVM"
      ]
    },
    {
      "cell_type": "markdown",
      "metadata": {
        "id": "hj4iPW97VnZV"
      },
      "source": [
        "Vamos inciar a analise com SVM linear, utilizando todas as features"
      ]
    },
    {
      "cell_type": "code",
      "metadata": {
        "id": "ZJ4yfIn4HApv",
        "colab": {
          "base_uri": "https://localhost:8080/",
          "height": 523
        },
        "outputId": "02eb680d-8505-4168-f932-f04415c1e31e"
      },
      "source": [
        "from sklearn.svm import SVC\n",
        "from sklearn.metrics import accuracy_score,confusion_matrix\n",
        "from sklearn.model_selection import train_test_split\n",
        "import seaborn as sns\n",
        "from sklearn.metrics import classification_report \n",
        "\n",
        "X_train, X_test, Y_train, Y_test = train_test_split(Xs, Y) \n",
        "svclin = SVC(kernel = 'linear')\n",
        "svclin.fit(X_train, Y_train)\n",
        "score_train = svclin.score(X_train, Y_train)\n",
        "previsoes = svclin.predict(X_test)\n",
        "score_test = accuracy_score(Y_test,previsoes)\n",
        "print('Acuraria Treino',score_train)\n",
        "print('Acuraria TESTE',score_test)\n",
        "print('MSE Teste',mean_squared_error(Y_test,previsoes))\n",
        "cm = confusion_matrix(Y_test, previsoes)\n",
        "print(cm)\n",
        "print(classification_report(Y_test, previsoes))\n",
        "sns.heatmap(cm,annot=True)"
      ],
      "execution_count": 50,
      "outputs": [
        {
          "output_type": "stream",
          "text": [
            "Acuraria Treino 0.7249685798072895\n",
            "Acuraria TESTE 0.7185929648241206\n",
            "MSE Teste 0.2814070351758794\n",
            "[[979  99]\n",
            " [349 165]]\n",
            "              precision    recall  f1-score   support\n",
            "\n",
            "           0       0.74      0.91      0.81      1078\n",
            "           1       0.62      0.32      0.42       514\n",
            "\n",
            "    accuracy                           0.72      1592\n",
            "   macro avg       0.68      0.61      0.62      1592\n",
            "weighted avg       0.70      0.72      0.69      1592\n",
            "\n"
          ],
          "name": "stdout"
        },
        {
          "output_type": "execute_result",
          "data": {
            "text/plain": [
              "<matplotlib.axes._subplots.AxesSubplot at 0x7f7896778390>"
            ]
          },
          "metadata": {
            "tags": []
          },
          "execution_count": 50
        },
        {
          "output_type": "display_data",
          "data": {
            "image/png": "[encoded data removed]",
            "text/plain": [
              "<Figure size 432x288 with 2 Axes>"
            ]
          },
          "metadata": {
            "tags": []
          }
        }
      ]
    },
    {
      "cell_type": "markdown",
      "metadata": {
        "id": "TbnqwPs-SZQI"
      },
      "source": [
        "**Análise**\n",
        "\n",
        "O SVM com um kernel linear apresentaram uma acurácia equivalente a outros modelos como Regressão Logística e Arvore de decisao. Vamos analisar detalhadamente estes numeros na utlima secao deste documento, realizando uma validacao cruzada.\n"
      ]
    },
    {
      "cell_type": "code",
      "metadata": {
        "id": "uNK6rEVmTDu-",
        "colab": {
          "base_uri": "https://localhost:8080/",
          "height": 523
        },
        "outputId": "ff3d2f1b-2d93-4dad-9257-545a4778ee3a"
      },
      "source": [
        "from sklearn.svm import SVC\n",
        "from sklearn.metrics import classification_report \n",
        "\n",
        "svc = SVC()\n",
        "svc.fit(X_train , Y_train)\n",
        "score_train = svc.score(X_train , Y_train)\n",
        "previsoes = svc.predict(X_test )\n",
        "score_test = accuracy_score(Y_test,previsoes)\n",
        "print('Acuraria Treino',score_train)\n",
        "print('Acuraria TESTE',score_test)\n",
        "print('MSE Teste',mean_squared_error(Y_test,previsoes))\n",
        "cm = confusion_matrix(Y_test, previsoes)\n",
        "print(cm)\n",
        "print(classification_report(Y_test, previsoes)) \n",
        "sns.heatmap(cm,annot=True)"
      ],
      "execution_count": 51,
      "outputs": [
        {
          "output_type": "stream",
          "text": [
            "Acuraria Treino 0.7073732718894009\n",
            "Acuraria TESTE 0.7167085427135679\n",
            "MSE Teste 0.2832914572864322\n",
            "[[1041   37]\n",
            " [ 414  100]]\n",
            "              precision    recall  f1-score   support\n",
            "\n",
            "           0       0.72      0.97      0.82      1078\n",
            "           1       0.73      0.19      0.31       514\n",
            "\n",
            "    accuracy                           0.72      1592\n",
            "   macro avg       0.72      0.58      0.56      1592\n",
            "weighted avg       0.72      0.72      0.66      1592\n",
            "\n"
          ],
          "name": "stdout"
        },
        {
          "output_type": "execute_result",
          "data": {
            "text/plain": [
              "<matplotlib.axes._subplots.AxesSubplot at 0x7f78966af4d0>"
            ]
          },
          "metadata": {
            "tags": []
          },
          "execution_count": 51
        },
        {
          "output_type": "display_data",
          "data": {
            "image/png": "[encoded data removed]",
            "text/plain": [
              "<Figure size 432x288 with 2 Axes>"
            ]
          },
          "metadata": {
            "tags": []
          }
        }
      ]
    },
    {
      "cell_type": "markdown",
      "metadata": {
        "id": "vDo88uRKTXhI"
      },
      "source": [
        "**Analise** \n",
        "\n",
        "Apesar da acuracia de teste ter piorado um pouco do SVC linear para o nao linear, de 69% para 67%. Bem como o MSE tabem ter piorada um pouco, de 30% a 32%, a precisao melhorou, de 64% para 71%. Opostamente a isto o recall piorou, de 29% para 13%. Desta maneira o SCV nao linear tem uma taxa de FN muito alta.  "
      ]
    },
    {
      "cell_type": "markdown",
      "metadata": {
        "id": "P6E0huWzD3Bd"
      },
      "source": [
        "# Cross Validation"
      ]
    },
    {
      "cell_type": "markdown",
      "metadata": {
        "id": "bcF5KfKtkbee"
      },
      "source": [
        "Nesta secao vamos comparar os MSEs, realizando uma validacao estatistica para cada um dos 6 algoritmos, utilizando como base o melhor de cada um deles: Regressao Logistica, KNN, Arvore de decisao, Floresta randomica, LDA e SVM"
      ]
    },
    {
      "cell_type": "code",
      "metadata": {
        "id": "UOO3pBXND5EZ",
        "colab": {
          "base_uri": "https://localhost:8080/"
        },
        "outputId": "211994ab-d4b1-424d-de0e-733480fff9a6"
      },
      "source": [
        "import numpy as np\n",
        "from sklearn.metrics import accuracy_score\n",
        "from sklearn.model_selection import KFold\n",
        "\n",
        "# Comparando classficadores  Regressao Logistica, KNN, Arvore de decisao, Floresta randomica, LDA e SVM\n",
        "modelos=[ 'RegLog','KNN','Tree','F.Rand','LDA','SVM']\n",
        "classsifiers = [rlog,knn,tree,randt,lda,svclin]\n",
        "\n",
        "n_splits = 10 \n",
        "n_models = len(classsifiers)\n",
        "#Scores linhas = num rodadas e cols = cada modelo\n",
        "scores = np.zeros( (n_splits,n_models) )\n",
        "#Diff Score linha x col = modelo x modelo e z = rodada\n",
        "diff_scores = np.zeros( (n_models,n_models,n_splits) )\n",
        "#Medias diffs linha x col = modelo x modelo\n",
        "diff_scores_avgs = np.zeros( (n_models,n_models) )\n",
        "#PValue diffs linha x col = modelo x modelo\n",
        "p_is = np.zeros( (n_models,n_models) )\n",
        "\n",
        "\n",
        "folds = KFold(n_splits=n_splits, shuffle=True)\n",
        "for rodada, (trn_idx, val_idx) in enumerate(folds.split(Xs, Y)):\n",
        "\n",
        "  print('##### Rodada #',rodada)\n",
        "  #Separacao em treino e teste da rodada\n",
        "  trn_x, trn_y = Xs.iloc[trn_idx], Y.iloc[trn_idx]\n",
        "  val_x, val_y = Xs.iloc[val_idx], Y.iloc[val_idx]\n",
        "  \n",
        "  #Calculo dos scores p cada modelo\n",
        "  for c in range(n_models):\n",
        "    classif = classsifiers[c]\n",
        "    classif.fit(trn_x, trn_y)\n",
        "    preds = classif.predict(val_x)\n",
        "    scores[rodada,c] =  mean_squared_error(val_y, preds)\n",
        "    #scores[rodada,c] = accuracy_score(Y_test,previsoes)\n",
        "    print(scores[rodada,c] )\n",
        "  \n",
        "  #Calculo da matriz modelo x modelo da diferenca de score (z=rodada)\n",
        "  for ci in range(n_models):\n",
        "    for cj in range(n_models):\n",
        "      diff_scores[ci,cj,rodada] = scores[rodada,ci] - scores[rodada,cj]\n",
        "      #print(ci,cj,scores[rodada,ci] - scores[rodada,cj])\n",
        "  \n",
        "  print(\"DIFF\") \n",
        "  print(diff_scores[:,:,rodada])\n",
        "\n",
        "# Compute t value\n",
        "for ci in range(n_models):\n",
        "  for cj in range(n_models): \n",
        "    diff_scores_avgs[ci,cj] = np.mean(diff_scores[ci,cj,:])\n",
        "    centered_diff = np.array(diff_scores[ci,cj,:]) - diff_scores_avgs[ci,cj]\n",
        "    p_is[ci,cj] = diff_scores_avgs[ci,cj] * (n_splits ** .5) / (np.sqrt(np.sum(centered_diff ** 2) / (n_splits - 1)))\n"
      ],
      "execution_count": 52,
      "outputs": [
        {
          "output_type": "stream",
          "text": [
            "##### Rodada # 0\n",
            "0.24489795918367346\n",
            "0.29199372056514916\n",
            "0.2621664050235479\n"
          ],
          "name": "stdout"
        },
        {
          "output_type": "stream",
          "text": [
            "/usr/local/lib/python3.7/dist-packages/sklearn/linear_model/_logistic.py:940: ConvergenceWarning: lbfgs failed to converge (status=1):\n",
            "STOP: TOTAL NO. of ITERATIONS REACHED LIMIT.\n",
            "\n",
            "Increase the number of iterations (max_iter) or scale the data as shown in:\n",
            "    https://scikit-learn.org/stable/modules/preprocessing.html\n",
            "Please also refer to the documentation for alternative solver options:\n",
            "    https://scikit-learn.org/stable/modules/linear_model.html#logistic-regression\n",
            "  extra_warning_msg=_LOGISTIC_SOLVER_CONVERGENCE_MSG)\n"
          ],
          "name": "stderr"
        },
        {
          "output_type": "stream",
          "text": [
            "0.282574568288854\n",
            "0.23547880690737832\n",
            "0.24646781789638933\n",
            "DIFF\n",
            "[[ 0.         -0.04709576 -0.01726845 -0.03767661  0.00941915 -0.00156986]\n",
            " [ 0.04709576  0.          0.02982732  0.00941915  0.05651491  0.0455259 ]\n",
            " [ 0.01726845 -0.02982732  0.         -0.02040816  0.0266876   0.01569859]\n",
            " [ 0.03767661 -0.00941915  0.02040816  0.          0.04709576  0.03610675]\n",
            " [-0.00941915 -0.05651491 -0.0266876  -0.04709576  0.         -0.01098901]\n",
            " [ 0.00156986 -0.0455259  -0.01569859 -0.03610675  0.01098901  0.        ]]\n",
            "##### Rodada # 1\n",
            "0.27629513343799056\n",
            "0.3281004709576138\n",
            "0.2904238618524333\n"
          ],
          "name": "stdout"
        },
        {
          "output_type": "stream",
          "text": [
            "/usr/local/lib/python3.7/dist-packages/sklearn/linear_model/_logistic.py:940: ConvergenceWarning: lbfgs failed to converge (status=1):\n",
            "STOP: TOTAL NO. of ITERATIONS REACHED LIMIT.\n",
            "\n",
            "Increase the number of iterations (max_iter) or scale the data as shown in:\n",
            "    https://scikit-learn.org/stable/modules/preprocessing.html\n",
            "Please also refer to the documentation for alternative solver options:\n",
            "    https://scikit-learn.org/stable/modules/linear_model.html#logistic-regression\n",
            "  extra_warning_msg=_LOGISTIC_SOLVER_CONVERGENCE_MSG)\n"
          ],
          "name": "stderr"
        },
        {
          "output_type": "stream",
          "text": [
            "0.3076923076923077\n",
            "0.27001569858712715\n",
            "0.28100470957613816\n",
            "DIFF\n",
            "[[ 0.         -0.05180534 -0.01412873 -0.03139717  0.00627943 -0.00470958]\n",
            " [ 0.05180534  0.          0.03767661  0.02040816  0.05808477  0.04709576]\n",
            " [ 0.01412873 -0.03767661  0.         -0.01726845  0.02040816  0.00941915]\n",
            " [ 0.03139717 -0.02040816  0.01726845  0.          0.03767661  0.0266876 ]\n",
            " [-0.00627943 -0.05808477 -0.02040816 -0.03767661  0.         -0.01098901]\n",
            " [ 0.00470958 -0.04709576 -0.00941915 -0.0266876   0.01098901  0.        ]]\n",
            "##### Rodada # 2\n",
            "0.271585557299843\n",
            "0.34379905808477235\n",
            "0.271585557299843\n"
          ],
          "name": "stdout"
        },
        {
          "output_type": "stream",
          "text": [
            "/usr/local/lib/python3.7/dist-packages/sklearn/linear_model/_logistic.py:940: ConvergenceWarning: lbfgs failed to converge (status=1):\n",
            "STOP: TOTAL NO. of ITERATIONS REACHED LIMIT.\n",
            "\n",
            "Increase the number of iterations (max_iter) or scale the data as shown in:\n",
            "    https://scikit-learn.org/stable/modules/preprocessing.html\n",
            "Please also refer to the documentation for alternative solver options:\n",
            "    https://scikit-learn.org/stable/modules/linear_model.html#logistic-regression\n",
            "  extra_warning_msg=_LOGISTIC_SOLVER_CONVERGENCE_MSG)\n"
          ],
          "name": "stderr"
        },
        {
          "output_type": "stream",
          "text": [
            "0.3139717425431711\n",
            "0.2731554160125589\n",
            "0.27001569858712715\n",
            "DIFF\n",
            "[[ 0.         -0.0722135   0.         -0.04238619 -0.00156986  0.00156986]\n",
            " [ 0.0722135   0.          0.0722135   0.02982732  0.07064364  0.07378336]\n",
            " [ 0.         -0.0722135   0.         -0.04238619 -0.00156986  0.00156986]\n",
            " [ 0.04238619 -0.02982732  0.04238619  0.          0.04081633  0.04395604]\n",
            " [ 0.00156986 -0.07064364  0.00156986 -0.04081633  0.          0.00313972]\n",
            " [-0.00156986 -0.07378336 -0.00156986 -0.04395604 -0.00313972  0.        ]]\n",
            "##### Rodada # 3\n",
            "0.2904238618524333\n",
            "0.29356357927786497\n",
            "0.28100470957613816\n"
          ],
          "name": "stdout"
        },
        {
          "output_type": "stream",
          "text": [
            "/usr/local/lib/python3.7/dist-packages/sklearn/linear_model/_logistic.py:940: ConvergenceWarning: lbfgs failed to converge (status=1):\n",
            "STOP: TOTAL NO. of ITERATIONS REACHED LIMIT.\n",
            "\n",
            "Increase the number of iterations (max_iter) or scale the data as shown in:\n",
            "    https://scikit-learn.org/stable/modules/preprocessing.html\n",
            "Please also refer to the documentation for alternative solver options:\n",
            "    https://scikit-learn.org/stable/modules/linear_model.html#logistic-regression\n",
            "  extra_warning_msg=_LOGISTIC_SOLVER_CONVERGENCE_MSG)\n"
          ],
          "name": "stderr"
        },
        {
          "output_type": "stream",
          "text": [
            "0.3328100470957614\n",
            "0.29356357927786497\n",
            "0.2967032967032967\n",
            "DIFF\n",
            "[[ 0.         -0.00313972  0.00941915 -0.04238619 -0.00313972 -0.00627943]\n",
            " [ 0.00313972  0.          0.01255887 -0.03924647  0.         -0.00313972]\n",
            " [-0.00941915 -0.01255887  0.         -0.05180534 -0.01255887 -0.01569859]\n",
            " [ 0.04238619  0.03924647  0.05180534  0.          0.03924647  0.03610675]\n",
            " [ 0.00313972  0.          0.01255887 -0.03924647  0.         -0.00313972]\n",
            " [ 0.00627943  0.00313972  0.01569859 -0.03610675  0.00313972  0.        ]]\n",
            "##### Rodada # 4\n",
            "0.25902668759811615\n",
            "0.282574568288854\n",
            "0.2731554160125589\n"
          ],
          "name": "stdout"
        },
        {
          "output_type": "stream",
          "text": [
            "/usr/local/lib/python3.7/dist-packages/sklearn/linear_model/_logistic.py:940: ConvergenceWarning: lbfgs failed to converge (status=1):\n",
            "STOP: TOTAL NO. of ITERATIONS REACHED LIMIT.\n",
            "\n",
            "Increase the number of iterations (max_iter) or scale the data as shown in:\n",
            "    https://scikit-learn.org/stable/modules/preprocessing.html\n",
            "Please also refer to the documentation for alternative solver options:\n",
            "    https://scikit-learn.org/stable/modules/linear_model.html#logistic-regression\n",
            "  extra_warning_msg=_LOGISTIC_SOLVER_CONVERGENCE_MSG)\n"
          ],
          "name": "stderr"
        },
        {
          "output_type": "stream",
          "text": [
            "0.3092621664050236\n",
            "0.260596546310832\n",
            "0.2668759811616955\n",
            "DIFF\n",
            "[[ 0.         -0.02354788 -0.01412873 -0.05023548 -0.00156986 -0.00784929]\n",
            " [ 0.02354788  0.          0.00941915 -0.0266876   0.02197802  0.01569859]\n",
            " [ 0.01412873 -0.00941915  0.         -0.03610675  0.01255887  0.00627943]\n",
            " [ 0.05023548  0.0266876   0.03610675  0.          0.04866562  0.04238619]\n",
            " [ 0.00156986 -0.02197802 -0.01255887 -0.04866562  0.         -0.00627943]\n",
            " [ 0.00784929 -0.01569859 -0.00627943 -0.04238619  0.00627943  0.        ]]\n",
            "##### Rodada # 5\n",
            "0.27472527472527475\n",
            "0.28885400313971743\n",
            "0.29199372056514916\n"
          ],
          "name": "stdout"
        },
        {
          "output_type": "stream",
          "text": [
            "/usr/local/lib/python3.7/dist-packages/sklearn/linear_model/_logistic.py:940: ConvergenceWarning: lbfgs failed to converge (status=1):\n",
            "STOP: TOTAL NO. of ITERATIONS REACHED LIMIT.\n",
            "\n",
            "Increase the number of iterations (max_iter) or scale the data as shown in:\n",
            "    https://scikit-learn.org/stable/modules/preprocessing.html\n",
            "Please also refer to the documentation for alternative solver options:\n",
            "    https://scikit-learn.org/stable/modules/linear_model.html#logistic-regression\n",
            "  extra_warning_msg=_LOGISTIC_SOLVER_CONVERGENCE_MSG)\n"
          ],
          "name": "stderr"
        },
        {
          "output_type": "stream",
          "text": [
            "0.3108320251177394\n",
            "0.28100470957613816\n",
            "0.29513343799058084\n",
            "DIFF\n",
            "[[ 0.         -0.01412873 -0.01726845 -0.03610675 -0.00627943 -0.02040816]\n",
            " [ 0.01412873  0.         -0.00313972 -0.02197802  0.00784929 -0.00627943]\n",
            " [ 0.01726845  0.00313972  0.         -0.0188383   0.01098901 -0.00313972]\n",
            " [ 0.03610675  0.02197802  0.0188383   0.          0.02982732  0.01569859]\n",
            " [ 0.00627943 -0.00784929 -0.01098901 -0.02982732  0.         -0.01412873]\n",
            " [ 0.02040816  0.00627943  0.00313972 -0.01569859  0.01412873  0.        ]]\n",
            "##### Rodada # 6\n",
            "0.30345911949685533\n",
            "0.2830188679245283\n",
            "0.2720125786163522\n"
          ],
          "name": "stdout"
        },
        {
          "output_type": "stream",
          "text": [
            "/usr/local/lib/python3.7/dist-packages/sklearn/linear_model/_logistic.py:940: ConvergenceWarning: lbfgs failed to converge (status=1):\n",
            "STOP: TOTAL NO. of ITERATIONS REACHED LIMIT.\n",
            "\n",
            "Increase the number of iterations (max_iter) or scale the data as shown in:\n",
            "    https://scikit-learn.org/stable/modules/preprocessing.html\n",
            "Please also refer to the documentation for alternative solver options:\n",
            "    https://scikit-learn.org/stable/modules/linear_model.html#logistic-regression\n",
            "  extra_warning_msg=_LOGISTIC_SOLVER_CONVERGENCE_MSG)\n"
          ],
          "name": "stderr"
        },
        {
          "output_type": "stream",
          "text": [
            "0.3081761006289308\n",
            "0.2940251572327044\n",
            "0.28144654088050314\n",
            "DIFF\n",
            "[[ 0.          0.02044025  0.03144654 -0.00471698  0.00943396  0.02201258]\n",
            " [-0.02044025  0.          0.01100629 -0.02515723 -0.01100629  0.00157233]\n",
            " [-0.03144654 -0.01100629  0.         -0.03616352 -0.02201258 -0.00943396]\n",
            " [ 0.00471698  0.02515723  0.03616352  0.          0.01415094  0.02672956]\n",
            " [-0.00943396  0.01100629  0.02201258 -0.01415094  0.          0.01257862]\n",
            " [-0.02201258 -0.00157233  0.00943396 -0.02672956 -0.01257862  0.        ]]\n",
            "##### Rodada # 7\n",
            "0.26572327044025157\n",
            "0.28773584905660377\n",
            "0.2672955974842767\n"
          ],
          "name": "stdout"
        },
        {
          "output_type": "stream",
          "text": [
            "/usr/local/lib/python3.7/dist-packages/sklearn/linear_model/_logistic.py:940: ConvergenceWarning: lbfgs failed to converge (status=1):\n",
            "STOP: TOTAL NO. of ITERATIONS REACHED LIMIT.\n",
            "\n",
            "Increase the number of iterations (max_iter) or scale the data as shown in:\n",
            "    https://scikit-learn.org/stable/modules/preprocessing.html\n",
            "Please also refer to the documentation for alternative solver options:\n",
            "    https://scikit-learn.org/stable/modules/linear_model.html#logistic-regression\n",
            "  extra_warning_msg=_LOGISTIC_SOLVER_CONVERGENCE_MSG)\n"
          ],
          "name": "stderr"
        },
        {
          "output_type": "stream",
          "text": [
            "0.3238993710691824\n",
            "0.2562893081761006\n",
            "0.25943396226415094\n",
            "DIFF\n",
            "[[ 0.         -0.02201258 -0.00157233 -0.0581761   0.00943396  0.00628931]\n",
            " [ 0.02201258  0.          0.02044025 -0.03616352  0.03144654  0.02830189]\n",
            " [ 0.00157233 -0.02044025  0.         -0.05660377  0.01100629  0.00786164]\n",
            " [ 0.0581761   0.03616352  0.05660377  0.          0.06761006  0.06446541]\n",
            " [-0.00943396 -0.03144654 -0.01100629 -0.06761006  0.         -0.00314465]\n",
            " [-0.00628931 -0.02830189 -0.00786164 -0.06446541  0.00314465  0.        ]]\n",
            "##### Rodada # 8\n",
            "0.26257861635220126\n",
            "0.3238993710691824\n",
            "0.2861635220125786\n"
          ],
          "name": "stdout"
        },
        {
          "output_type": "stream",
          "text": [
            "/usr/local/lib/python3.7/dist-packages/sklearn/linear_model/_logistic.py:940: ConvergenceWarning: lbfgs failed to converge (status=1):\n",
            "STOP: TOTAL NO. of ITERATIONS REACHED LIMIT.\n",
            "\n",
            "Increase the number of iterations (max_iter) or scale the data as shown in:\n",
            "    https://scikit-learn.org/stable/modules/preprocessing.html\n",
            "Please also refer to the documentation for alternative solver options:\n",
            "    https://scikit-learn.org/stable/modules/linear_model.html#logistic-regression\n",
            "  extra_warning_msg=_LOGISTIC_SOLVER_CONVERGENCE_MSG)\n"
          ],
          "name": "stderr"
        },
        {
          "output_type": "stream",
          "text": [
            "0.3018867924528302\n",
            "0.2641509433962264\n",
            "0.28144654088050314\n",
            "DIFF\n",
            "[[ 0.         -0.06132075 -0.02358491 -0.03930818 -0.00157233 -0.01886792]\n",
            " [ 0.06132075  0.          0.03773585  0.02201258  0.05974843  0.04245283]\n",
            " [ 0.02358491 -0.03773585  0.         -0.01572327  0.02201258  0.00471698]\n",
            " [ 0.03930818 -0.02201258  0.01572327  0.          0.03773585  0.02044025]\n",
            " [ 0.00157233 -0.05974843 -0.02201258 -0.03773585  0.         -0.0172956 ]\n",
            " [ 0.01886792 -0.04245283 -0.00471698 -0.02044025  0.0172956   0.        ]]\n",
            "##### Rodada # 9\n",
            "0.3081761006289308\n",
            "0.3238993710691824\n",
            "0.29245283018867924\n"
          ],
          "name": "stdout"
        },
        {
          "output_type": "stream",
          "text": [
            "/usr/local/lib/python3.7/dist-packages/sklearn/linear_model/_logistic.py:940: ConvergenceWarning: lbfgs failed to converge (status=1):\n",
            "STOP: TOTAL NO. of ITERATIONS REACHED LIMIT.\n",
            "\n",
            "Increase the number of iterations (max_iter) or scale the data as shown in:\n",
            "    https://scikit-learn.org/stable/modules/preprocessing.html\n",
            "Please also refer to the documentation for alternative solver options:\n",
            "    https://scikit-learn.org/stable/modules/linear_model.html#logistic-regression\n",
            "  extra_warning_msg=_LOGISTIC_SOLVER_CONVERGENCE_MSG)\n"
          ],
          "name": "stderr"
        },
        {
          "output_type": "stream",
          "text": [
            "0.3238993710691824\n",
            "0.300314465408805\n",
            "0.2893081761006289\n",
            "DIFF\n",
            "[[ 0.         -0.01572327  0.01572327 -0.01572327  0.00786164  0.01886792]\n",
            " [ 0.01572327  0.          0.03144654  0.          0.02358491  0.03459119]\n",
            " [-0.01572327 -0.03144654  0.         -0.03144654 -0.00786164  0.00314465]\n",
            " [ 0.01572327  0.          0.03144654  0.          0.02358491  0.03459119]\n",
            " [-0.00786164 -0.02358491  0.00786164 -0.02358491  0.          0.01100629]\n",
            " [-0.01886792 -0.03459119 -0.00314465 -0.03459119 -0.01100629  0.        ]]\n"
          ],
          "name": "stdout"
        },
        {
          "output_type": "stream",
          "text": [
            "/usr/local/lib/python3.7/dist-packages/ipykernel_launcher.py:52: RuntimeWarning: invalid value encountered in double_scalars\n"
          ],
          "name": "stderr"
        }
      ]
    },
    {
      "cell_type": "code",
      "metadata": {
        "colab": {
          "base_uri": "https://localhost:8080/",
          "height": 249
        },
        "id": "0j9QZceGpXWc",
        "outputId": "1402d5ad-7bfd-40e7-94b5-278f80fa0d55"
      },
      "source": [
        "print('Diferencas medias de MSE')\n",
        "diff_scores_avgs_df=pd.DataFrame(diff_scores_avgs)\n",
        "diff_scores_avgs_df.columns = modelos\n",
        "diff_scores_avgs_df.index = modelos\n",
        "diff_scores_avgs_df"
      ],
      "execution_count": 63,
      "outputs": [
        {
          "output_type": "stream",
          "text": [
            "Diferencas medias de MSE\n"
          ],
          "name": "stdout"
        },
        {
          "output_type": "execute_result",
          "data": {
            "text/html": [
              "<div>\n",
              "<style scoped>\n",
              "    .dataframe tbody tr th:only-of-type {\n",
              "        vertical-align: middle;\n",
              "    }\n",
              "\n",
              "    .dataframe tbody tr th {\n",
              "        vertical-align: top;\n",
              "    }\n",
              "\n",
              "    .dataframe thead th {\n",
              "        text-align: right;\n",
              "    }\n",
              "</style>\n",
              "<table border=\"1\" class=\"dataframe\">\n",
              "  <thead>\n",
              "    <tr style=\"text-align: right;\">\n",
              "      <th></th>\n",
              "      <th>RegLog</th>\n",
              "      <th>KNN</th>\n",
              "      <th>Tree</th>\n",
              "      <th>F.Rand</th>\n",
              "      <th>LDA</th>\n",
              "      <th>SVM</th>\n",
              "    </tr>\n",
              "  </thead>\n",
              "  <tbody>\n",
              "    <tr>\n",
              "      <th>RegLog</th>\n",
              "      <td>0.000000</td>\n",
              "      <td>-0.029055</td>\n",
              "      <td>-0.003136</td>\n",
              "      <td>-0.035811</td>\n",
              "      <td>0.002830</td>\n",
              "      <td>-0.001094</td>\n",
              "    </tr>\n",
              "    <tr>\n",
              "      <th>KNN</th>\n",
              "      <td>0.029055</td>\n",
              "      <td>0.000000</td>\n",
              "      <td>0.025918</td>\n",
              "      <td>-0.006757</td>\n",
              "      <td>0.031884</td>\n",
              "      <td>0.027960</td>\n",
              "    </tr>\n",
              "    <tr>\n",
              "      <th>Tree</th>\n",
              "      <td>0.003136</td>\n",
              "      <td>-0.025918</td>\n",
              "      <td>0.000000</td>\n",
              "      <td>-0.032675</td>\n",
              "      <td>0.005966</td>\n",
              "      <td>0.002042</td>\n",
              "    </tr>\n",
              "    <tr>\n",
              "      <th>F.Rand</th>\n",
              "      <td>0.035811</td>\n",
              "      <td>0.006757</td>\n",
              "      <td>0.032675</td>\n",
              "      <td>0.000000</td>\n",
              "      <td>0.038641</td>\n",
              "      <td>0.034717</td>\n",
              "    </tr>\n",
              "    <tr>\n",
              "      <th>LDA</th>\n",
              "      <td>-0.002830</td>\n",
              "      <td>-0.031884</td>\n",
              "      <td>-0.005966</td>\n",
              "      <td>-0.038641</td>\n",
              "      <td>0.000000</td>\n",
              "      <td>-0.003924</td>\n",
              "    </tr>\n",
              "    <tr>\n",
              "      <th>SVM</th>\n",
              "      <td>0.001094</td>\n",
              "      <td>-0.027960</td>\n",
              "      <td>-0.002042</td>\n",
              "      <td>-0.034717</td>\n",
              "      <td>0.003924</td>\n",
              "      <td>0.000000</td>\n",
              "    </tr>\n",
              "  </tbody>\n",
              "</table>\n",
              "</div>"
            ],
            "text/plain": [
              "          RegLog       KNN      Tree    F.Rand       LDA       SVM\n",
              "RegLog  0.000000 -0.029055 -0.003136 -0.035811  0.002830 -0.001094\n",
              "KNN     0.029055  0.000000  0.025918 -0.006757  0.031884  0.027960\n",
              "Tree    0.003136 -0.025918  0.000000 -0.032675  0.005966  0.002042\n",
              "F.Rand  0.035811  0.006757  0.032675  0.000000  0.038641  0.034717\n",
              "LDA    -0.002830 -0.031884 -0.005966 -0.038641  0.000000 -0.003924\n",
              "SVM     0.001094 -0.027960 -0.002042 -0.034717  0.003924  0.000000"
            ]
          },
          "metadata": {
            "tags": []
          },
          "execution_count": 63
        }
      ]
    },
    {
      "cell_type": "markdown",
      "metadata": {
        "id": "oeHxxtvlRCQw"
      },
      "source": [
        "Na sequencia vamos analisar a estatistica t para um nivel de confianca de 95%, vemos que valores de t > 2.26 ou < -2.26 pode-se rejeitar Ho. No nosso caso Ho, indica que nao existe diferenca entre o nivel de acuracia entre nossos modelos"
      ]
    },
    {
      "cell_type": "code",
      "metadata": {
        "id": "hO9PdkuWRCXR",
        "colab": {
          "base_uri": "https://localhost:8080/",
          "height": 292
        },
        "outputId": "7dfec4fe-00c1-4b2f-cb58-cf4ffdbc15c2"
      },
      "source": [
        "from scipy.stats import t as t_student\n",
        "import matplotlib.pyplot as plt\n",
        "graus_de_liberdade = n_splits-1\n",
        "xs=np.linspace(-3.5,3.5,100) \n",
        "plt.plot( xs,t_student.pdf(xs,graus_de_liberdade) )\n",
        "sig = 0.05\n",
        "confianca = 1 - sig/2\n",
        "prob = confianca + sig\n",
        "t_alpha = t_student.ppf(confianca, graus_de_liberdade)\n",
        "plt.plot([t_alpha,t_alpha],[0,t_student.pdf(t_alpha,graus_de_liberdade) ],color='red')\n",
        "plt.plot([-t_alpha,-t_alpha],[0,t_student.pdf(t_alpha,graus_de_liberdade) ],color='red')\n",
        "print(t_alpha)\n"
      ],
      "execution_count": 54,
      "outputs": [
        {
          "output_type": "stream",
          "text": [
            "2.2621571627409915\n"
          ],
          "name": "stdout"
        },
        {
          "output_type": "display_data",
          "data": {
            "image/png": "[encoded data removed]",
            "text/plain": [
              "<Figure size 432x288 with 1 Axes>"
            ]
          },
          "metadata": {
            "tags": []
          }
        }
      ]
    },
    {
      "cell_type": "code",
      "metadata": {
        "id": "MuP6NgUqTW_z",
        "colab": {
          "base_uri": "https://localhost:8080/",
          "height": 332
        },
        "outputId": "60d3710e-5aeb-487f-f730-1098b7d60001"
      },
      "source": [
        "print(p_is)\n",
        "sigstat = pd.DataFrame(np.bitwise_or((p_is > t_alpha) , (p_is < -t_alpha)))\n",
        "sigstat.columns = modelos\n",
        "sigstat.index = modelos\n",
        "sigstat"
      ],
      "execution_count": 55,
      "outputs": [
        {
          "output_type": "stream",
          "text": [
            "[[        nan -3.21540198 -0.56421767 -7.24259049  1.44616918 -0.24687914]\n",
            " [ 3.21540198         nan  3.88077072 -0.82075242  3.57150791  3.42019461]\n",
            " [ 0.56421767 -3.88077072         nan -7.06521039  1.16418454  0.69597086]\n",
            " [ 7.24259049  0.82075242  7.06521039         nan  8.36131597  7.92570607]\n",
            " [-1.44616918 -3.57150791 -1.16418454 -8.36131597         nan -1.21768624]\n",
            " [ 0.24687914 -3.42019461 -0.69597086 -7.92570607  1.21768624         nan]]\n"
          ],
          "name": "stdout"
        },
        {
          "output_type": "execute_result",
          "data": {
            "text/html": [
              "<div>\n",
              "<style scoped>\n",
              "    .dataframe tbody tr th:only-of-type {\n",
              "        vertical-align: middle;\n",
              "    }\n",
              "\n",
              "    .dataframe tbody tr th {\n",
              "        vertical-align: top;\n",
              "    }\n",
              "\n",
              "    .dataframe thead th {\n",
              "        text-align: right;\n",
              "    }\n",
              "</style>\n",
              "<table border=\"1\" class=\"dataframe\">\n",
              "  <thead>\n",
              "    <tr style=\"text-align: right;\">\n",
              "      <th></th>\n",
              "      <th>RegLog</th>\n",
              "      <th>KNN</th>\n",
              "      <th>Tree</th>\n",
              "      <th>F.Rand</th>\n",
              "      <th>LDA</th>\n",
              "      <th>SVM</th>\n",
              "    </tr>\n",
              "  </thead>\n",
              "  <tbody>\n",
              "    <tr>\n",
              "      <th>RegLog</th>\n",
              "      <td>False</td>\n",
              "      <td>True</td>\n",
              "      <td>False</td>\n",
              "      <td>True</td>\n",
              "      <td>False</td>\n",
              "      <td>False</td>\n",
              "    </tr>\n",
              "    <tr>\n",
              "      <th>KNN</th>\n",
              "      <td>True</td>\n",
              "      <td>False</td>\n",
              "      <td>True</td>\n",
              "      <td>False</td>\n",
              "      <td>True</td>\n",
              "      <td>True</td>\n",
              "    </tr>\n",
              "    <tr>\n",
              "      <th>Tree</th>\n",
              "      <td>False</td>\n",
              "      <td>True</td>\n",
              "      <td>False</td>\n",
              "      <td>True</td>\n",
              "      <td>False</td>\n",
              "      <td>False</td>\n",
              "    </tr>\n",
              "    <tr>\n",
              "      <th>F.Rand</th>\n",
              "      <td>True</td>\n",
              "      <td>False</td>\n",
              "      <td>True</td>\n",
              "      <td>False</td>\n",
              "      <td>True</td>\n",
              "      <td>True</td>\n",
              "    </tr>\n",
              "    <tr>\n",
              "      <th>LDA</th>\n",
              "      <td>False</td>\n",
              "      <td>True</td>\n",
              "      <td>False</td>\n",
              "      <td>True</td>\n",
              "      <td>False</td>\n",
              "      <td>False</td>\n",
              "    </tr>\n",
              "    <tr>\n",
              "      <th>SVM</th>\n",
              "      <td>False</td>\n",
              "      <td>True</td>\n",
              "      <td>False</td>\n",
              "      <td>True</td>\n",
              "      <td>False</td>\n",
              "      <td>False</td>\n",
              "    </tr>\n",
              "  </tbody>\n",
              "</table>\n",
              "</div>"
            ],
            "text/plain": [
              "        RegLog    KNN   Tree  F.Rand    LDA    SVM\n",
              "RegLog   False   True  False    True  False  False\n",
              "KNN       True  False   True   False   True   True\n",
              "Tree     False   True  False    True  False  False\n",
              "F.Rand    True  False   True   False   True   True\n",
              "LDA      False   True  False    True  False  False\n",
              "SVM      False   True  False    True  False  False"
            ]
          },
          "metadata": {
            "tags": []
          },
          "execution_count": 55
        }
      ]
    },
    {
      "cell_type": "code",
      "metadata": {
        "colab": {
          "base_uri": "https://localhost:8080/",
          "height": 96
        },
        "id": "EfLoc0v-q4NN",
        "outputId": "75b1b8fd-c819-42f3-c82a-d4a852db5804"
      },
      "source": [
        "scores_df =pd.DataFrame(scores)\n",
        "scores_df.columns  = modelos\n",
        "print('Medias de MSE')\n",
        "pd.DataFrame(scores_df.mean()).T\n"
      ],
      "execution_count": 56,
      "outputs": [
        {
          "output_type": "stream",
          "text": [
            "Medias de MSE\n"
          ],
          "name": "stdout"
        },
        {
          "output_type": "execute_result",
          "data": {
            "text/html": [
              "<div>\n",
              "<style scoped>\n",
              "    .dataframe tbody tr th:only-of-type {\n",
              "        vertical-align: middle;\n",
              "    }\n",
              "\n",
              "    .dataframe tbody tr th {\n",
              "        vertical-align: top;\n",
              "    }\n",
              "\n",
              "    .dataframe thead th {\n",
              "        text-align: right;\n",
              "    }\n",
              "</style>\n",
              "<table border=\"1\" class=\"dataframe\">\n",
              "  <thead>\n",
              "    <tr style=\"text-align: right;\">\n",
              "      <th></th>\n",
              "      <th>RegLog</th>\n",
              "      <th>KNN</th>\n",
              "      <th>Tree</th>\n",
              "      <th>F.Rand</th>\n",
              "      <th>LDA</th>\n",
              "      <th>SVM</th>\n",
              "    </tr>\n",
              "  </thead>\n",
              "  <tbody>\n",
              "    <tr>\n",
              "      <th>0</th>\n",
              "      <td>0.275689</td>\n",
              "      <td>0.304744</td>\n",
              "      <td>0.278825</td>\n",
              "      <td>0.3115</td>\n",
              "      <td>0.272859</td>\n",
              "      <td>0.276784</td>\n",
              "    </tr>\n",
              "  </tbody>\n",
              "</table>\n",
              "</div>"
            ],
            "text/plain": [
              "     RegLog       KNN      Tree  F.Rand       LDA       SVM\n",
              "0  0.275689  0.304744  0.278825  0.3115  0.272859  0.276784"
            ]
          },
          "metadata": {
            "tags": []
          },
          "execution_count": 56
        }
      ]
    },
    {
      "cell_type": "markdown",
      "metadata": {
        "id": "gbOV1G6hZHi2"
      },
      "source": [
        "**CONCLUSAO FINAL**\n",
        "\n",
        "*Os melhores modelos paracem ser Regressao Logistica, Arvore de Descisao, LDA e SVM, com MSE da ordem de 0.27 e sem diferenca estatatiscamente significativa entre eles. Os que obtiveram um MSE pior, supoerior a 0.30 foram o KNN e a Floresta Randomica.* "
      ]
    },
    {
      "cell_type": "code",
      "metadata": {
        "colab": {
          "base_uri": "https://localhost:8080/",
          "height": 372
        },
        "id": "JlUpXAQZoJKy",
        "outputId": "111ba8cb-420f-4a58-cce0-06ca5ffc43de"
      },
      "source": [
        "print('Historico (por fold) de Medias dos MSEs')\n",
        "scores_df"
      ],
      "execution_count": 57,
      "outputs": [
        {
          "output_type": "stream",
          "text": [
            "Historico (por fold) de Medias dos MSEs\n"
          ],
          "name": "stdout"
        },
        {
          "output_type": "execute_result",
          "data": {
            "text/html": [
              "<div>\n",
              "<style scoped>\n",
              "    .dataframe tbody tr th:only-of-type {\n",
              "        vertical-align: middle;\n",
              "    }\n",
              "\n",
              "    .dataframe tbody tr th {\n",
              "        vertical-align: top;\n",
              "    }\n",
              "\n",
              "    .dataframe thead th {\n",
              "        text-align: right;\n",
              "    }\n",
              "</style>\n",
              "<table border=\"1\" class=\"dataframe\">\n",
              "  <thead>\n",
              "    <tr style=\"text-align: right;\">\n",
              "      <th></th>\n",
              "      <th>RegLog</th>\n",
              "      <th>KNN</th>\n",
              "      <th>Tree</th>\n",
              "      <th>F.Rand</th>\n",
              "      <th>LDA</th>\n",
              "      <th>SVM</th>\n",
              "    </tr>\n",
              "  </thead>\n",
              "  <tbody>\n",
              "    <tr>\n",
              "      <th>0</th>\n",
              "      <td>0.244898</td>\n",
              "      <td>0.291994</td>\n",
              "      <td>0.262166</td>\n",
              "      <td>0.282575</td>\n",
              "      <td>0.235479</td>\n",
              "      <td>0.246468</td>\n",
              "    </tr>\n",
              "    <tr>\n",
              "      <th>1</th>\n",
              "      <td>0.276295</td>\n",
              "      <td>0.328100</td>\n",
              "      <td>0.290424</td>\n",
              "      <td>0.307692</td>\n",
              "      <td>0.270016</td>\n",
              "      <td>0.281005</td>\n",
              "    </tr>\n",
              "    <tr>\n",
              "      <th>2</th>\n",
              "      <td>0.271586</td>\n",
              "      <td>0.343799</td>\n",
              "      <td>0.271586</td>\n",
              "      <td>0.313972</td>\n",
              "      <td>0.273155</td>\n",
              "      <td>0.270016</td>\n",
              "    </tr>\n",
              "    <tr>\n",
              "      <th>3</th>\n",
              "      <td>0.290424</td>\n",
              "      <td>0.293564</td>\n",
              "      <td>0.281005</td>\n",
              "      <td>0.332810</td>\n",
              "      <td>0.293564</td>\n",
              "      <td>0.296703</td>\n",
              "    </tr>\n",
              "    <tr>\n",
              "      <th>4</th>\n",
              "      <td>0.259027</td>\n",
              "      <td>0.282575</td>\n",
              "      <td>0.273155</td>\n",
              "      <td>0.309262</td>\n",
              "      <td>0.260597</td>\n",
              "      <td>0.266876</td>\n",
              "    </tr>\n",
              "    <tr>\n",
              "      <th>5</th>\n",
              "      <td>0.274725</td>\n",
              "      <td>0.288854</td>\n",
              "      <td>0.291994</td>\n",
              "      <td>0.310832</td>\n",
              "      <td>0.281005</td>\n",
              "      <td>0.295133</td>\n",
              "    </tr>\n",
              "    <tr>\n",
              "      <th>6</th>\n",
              "      <td>0.303459</td>\n",
              "      <td>0.283019</td>\n",
              "      <td>0.272013</td>\n",
              "      <td>0.308176</td>\n",
              "      <td>0.294025</td>\n",
              "      <td>0.281447</td>\n",
              "    </tr>\n",
              "    <tr>\n",
              "      <th>7</th>\n",
              "      <td>0.265723</td>\n",
              "      <td>0.287736</td>\n",
              "      <td>0.267296</td>\n",
              "      <td>0.323899</td>\n",
              "      <td>0.256289</td>\n",
              "      <td>0.259434</td>\n",
              "    </tr>\n",
              "    <tr>\n",
              "      <th>8</th>\n",
              "      <td>0.262579</td>\n",
              "      <td>0.323899</td>\n",
              "      <td>0.286164</td>\n",
              "      <td>0.301887</td>\n",
              "      <td>0.264151</td>\n",
              "      <td>0.281447</td>\n",
              "    </tr>\n",
              "    <tr>\n",
              "      <th>9</th>\n",
              "      <td>0.308176</td>\n",
              "      <td>0.323899</td>\n",
              "      <td>0.292453</td>\n",
              "      <td>0.323899</td>\n",
              "      <td>0.300314</td>\n",
              "      <td>0.289308</td>\n",
              "    </tr>\n",
              "  </tbody>\n",
              "</table>\n",
              "</div>"
            ],
            "text/plain": [
              "     RegLog       KNN      Tree    F.Rand       LDA       SVM\n",
              "0  0.244898  0.291994  0.262166  0.282575  0.235479  0.246468\n",
              "1  0.276295  0.328100  0.290424  0.307692  0.270016  0.281005\n",
              "2  0.271586  0.343799  0.271586  0.313972  0.273155  0.270016\n",
              "3  0.290424  0.293564  0.281005  0.332810  0.293564  0.296703\n",
              "4  0.259027  0.282575  0.273155  0.309262  0.260597  0.266876\n",
              "5  0.274725  0.288854  0.291994  0.310832  0.281005  0.295133\n",
              "6  0.303459  0.283019  0.272013  0.308176  0.294025  0.281447\n",
              "7  0.265723  0.287736  0.267296  0.323899  0.256289  0.259434\n",
              "8  0.262579  0.323899  0.286164  0.301887  0.264151  0.281447\n",
              "9  0.308176  0.323899  0.292453  0.323899  0.300314  0.289308"
            ]
          },
          "metadata": {
            "tags": []
          },
          "execution_count": 57
        }
      ]
    },
    {
      "cell_type": "markdown",
      "metadata": {
        "id": "3oOgutTff3q8"
      },
      "source": [
        "# Apendice"
      ]
    },
    {
      "cell_type": "code",
      "metadata": {
        "colab": {
          "base_uri": "https://localhost:8080/",
          "height": 447
        },
        "id": "lHAck98_cgS_",
        "outputId": "b2476e7d-3bbd-4c4e-db29-87aaeeb2785b"
      },
      "source": [
        "\n",
        "from pandas import DataFrame, crosstab, Series\n",
        "yy=[0,0,0,0,0,1,1,1,1,1]\n",
        "pp=[1,1,1,1,0,1,1,1,0,0]\n",
        "print(confusion_matrix(yy, pp))\n",
        "cm=DataFrame(confusion_matrix(yy, pp))\n",
        "cm.columns=['prev_0','prev_1']\n",
        "cm.index = ['y_0','y_1']\n",
        "print(cm)\n",
        "print(crosstab(Series(yy),Series(pp)))\n",
        "sns.heatmap(cm,annot=True)"
      ],
      "execution_count": 58,
      "outputs": [
        {
          "output_type": "stream",
          "text": [
            "[[1 4]\n",
            " [2 3]]\n",
            "     prev_0  prev_1\n",
            "y_0       1       4\n",
            "y_1       2       3\n",
            "col_0  0  1\n",
            "row_0      \n",
            "0      1  4\n",
            "1      2  3\n"
          ],
          "name": "stdout"
        },
        {
          "output_type": "execute_result",
          "data": {
            "text/plain": [
              "<matplotlib.axes._subplots.AxesSubplot at 0x7f789658edd0>"
            ]
          },
          "metadata": {
            "tags": []
          },
          "execution_count": 58
        },
        {
          "output_type": "display_data",
          "data": {
            "image/png": "[encoded data removed]",
            "text/plain": [
              "<Figure size 432x288 with 2 Axes>"
            ]
          },
          "metadata": {
            "tags": []
          }
        }
      ]
    },
    {
      "cell_type": "code",
      "metadata": {
        "colab": {
          "base_uri": "https://localhost:8080/"
        },
        "id": "XLbIhknoepvk",
        "outputId": "ec8d74df-8556-4bca-ee13-5031be1e949b"
      },
      "source": [
        "cm.iloc[1,1]/(cm.iloc[1,1]+cm.iloc[0,1])"
      ],
      "execution_count": 59,
      "outputs": [
        {
          "output_type": "execute_result",
          "data": {
            "text/plain": [
              "0.42857142857142855"
            ]
          },
          "metadata": {
            "tags": []
          },
          "execution_count": 59
        }
      ]
    },
    {
      "cell_type": "code",
      "metadata": {
        "colab": {
          "base_uri": "https://localhost:8080/"
        },
        "id": "XwFqgQ0qfA8t",
        "outputId": "f68e67a7-73da-499e-f929-9de7619732ce"
      },
      "source": [
        "cm.iloc[1,1]/(cm.iloc[1,1]+cm.iloc[1,0])"
      ],
      "execution_count": 60,
      "outputs": [
        {
          "output_type": "execute_result",
          "data": {
            "text/plain": [
              "0.6"
            ]
          },
          "metadata": {
            "tags": []
          },
          "execution_count": 60
        }
      ]
    },
    {
      "cell_type": "code",
      "metadata": {
        "colab": {
          "base_uri": "https://localhost:8080/"
        },
        "id": "5r1y7UdddLEb",
        "outputId": "9739d24e-92ea-4bd0-ec3a-e495b8067acb"
      },
      "source": [
        "from sklearn.metrics import classification_report \n",
        "print(classification_report(yy,pp)) "
      ],
      "execution_count": 61,
      "outputs": [
        {
          "output_type": "stream",
          "text": [
            "              precision    recall  f1-score   support\n",
            "\n",
            "           0       0.33      0.20      0.25         5\n",
            "           1       0.43      0.60      0.50         5\n",
            "\n",
            "    accuracy                           0.40        10\n",
            "   macro avg       0.38      0.40      0.38        10\n",
            "weighted avg       0.38      0.40      0.38        10\n",
            "\n"
          ],
          "name": "stdout"
        }
      ]
    }
  ]
}