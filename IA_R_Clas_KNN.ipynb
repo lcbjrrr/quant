{
  "nbformat": 4,
  "nbformat_minor": 0,
  "metadata": {
    "colab": {
      "provenance": [],
      "include_colab_link": true
    },
    "kernelspec": {
      "name": "python3",
      "display_name": "Python 3"
    }
  },
  "cells": [
    {
      "cell_type": "markdown",
      "metadata": {
        "id": "view-in-github",
        "colab_type": "text"
      },
      "source": [
        "<a href=\"https://colab.research.google.com/github/lcbjrrr/quant/blob/master/IA_R_Clas_KNN.ipynb\" target=\"_parent\"><img src=\"https://colab.research.google.com/assets/colab-badge.svg\" alt=\"Open In Colab\"/></a>"
      ]
    },
    {
      "cell_type": "code",
      "metadata": {
        "id": "08FaIDs7555J",
        "colab": {
          "base_uri": "https://localhost:8080/"
        },
        "outputId": "a8e2071c-df64-49f7-8982-84f6bace6e6f"
      },
      "source": [
        "!pip uninstall rpy2 -y"
      ],
      "execution_count": 13,
      "outputs": [
        {
          "output_type": "stream",
          "name": "stdout",
          "text": [
            "Found existing installation: rpy2 3.0.0\n",
            "Uninstalling rpy2-3.0.0:\n",
            "  Successfully uninstalled rpy2-3.0.0\n"
          ]
        }
      ]
    },
    {
      "cell_type": "code",
      "source": [
        "!pip install rpy2==3.0.0"
      ],
      "metadata": {
        "id": "Emx12coR1HTS"
      },
      "execution_count": null,
      "outputs": []
    },
    {
      "cell_type": "code",
      "source": [
        "%load_ext rpy2.ipython"
      ],
      "metadata": {
        "colab": {
          "base_uri": "https://localhost:8080/"
        },
        "id": "P9-egF9V1JKA",
        "outputId": "c5f25bde-14d0-4429-c014-1241bcb19ce2"
      },
      "execution_count": 2,
      "outputs": [
        {
          "output_type": "stream",
          "name": "stderr",
          "text": [
            "/usr/local/lib/python3.8/dist-packages/rpy2/robjects/pandas2ri.py:15: FutureWarning: pandas.core.index is deprecated and will be removed in a future version.  The public classes are available in the top-level namespace.\n",
            "  from pandas.core.index import Index as PandasIndex\n"
          ]
        }
      ]
    },
    {
      "cell_type": "markdown",
      "metadata": {
        "id": "iayoaIT7kfMn"
      },
      "source": [
        "kNN"
      ]
    },
    {
      "cell_type": "code",
      "metadata": {
        "id": "-XI1b9ul6CVh"
      },
      "source": [
        "%%R \n",
        "install.packages(\"class\",repos = \"http://cran.us.r-project.org\")"
      ],
      "execution_count": null,
      "outputs": []
    },
    {
      "cell_type": "code",
      "source": [
        "%%R\n",
        "library(class)"
      ],
      "metadata": {
        "id": "q3cBFr37-tNW"
      },
      "execution_count": 4,
      "outputs": []
    },
    {
      "cell_type": "code",
      "metadata": {
        "id": "0VhV8hCx5801",
        "outputId": "46597bf7-6661-40ea-e8e6-e05a4f28af14",
        "colab": {
          "base_uri": "https://localhost:8080/",
          "height": 658
        }
      },
      "source": [
        "%%R\n",
        "train <- read.csv('https://raw.githubusercontent.com/lcbjrrr/data/main/homem_mulher%20-%20ok.csv')\n",
        "print(train)\n",
        "plot(train$ALTURA~ train$PESO)"
      ],
      "execution_count": 6,
      "outputs": [
        {
          "output_type": "display_data",
          "data": {
            "text/plain": [
              "  SEXO ALTURA PESO\n",
              "1    1    178   72\n",
              "2    1    179   81\n",
              "3    2    163   55\n",
              "4    2    168   58\n",
              "5    1    181   98\n",
              "6    2    170   60\n",
              "7    1    184   78\n",
              "8    2    171   59\n"
            ]
          },
          "metadata": {}
        },
        {
          "output_type": "display_data",
          "data": {
            "image/png": "[encoded data removed]"
          },
          "metadata": {}
        }
      ]
    },
    {
      "cell_type": "code",
      "source": [
        "%%R\n",
        "prever <- read.csv('https://raw.githubusercontent.com/lcbjrrr/data/main/homem_mulher%20-%20prev.csv')\n",
        "kviz <- knn(train,prever,cl=train$SEXO,k=2)\n",
        "print(prever)\n",
        "print(\"PREVISAO: \")\n",
        "print(kviz)"
      ],
      "metadata": {
        "colab": {
          "base_uri": "https://localhost:8080/",
          "height": 106
        },
        "id": "Zhc0B2-7_cYb",
        "outputId": "990598ee-8eb2-4234-bd9a-bad02b0c3750"
      },
      "execution_count": 7,
      "outputs": [
        {
          "output_type": "display_data",
          "data": {
            "text/plain": [
              "  SEXO ALTURA PESO\n",
              "1    1    175   75\n",
              "[1] \"PREVISAO: \"\n",
              "[1] 1\n",
              "Levels: 1 2\n"
            ]
          },
          "metadata": {}
        }
      ]
    },
    {
      "cell_type": "markdown",
      "source": [
        "## Exercise"
      ],
      "metadata": {
        "id": "vd6GcW1N_gbQ"
      }
    },
    {
      "cell_type": "code",
      "metadata": {
        "id": "P4QIFqXAmj9I",
        "colab": {
          "base_uri": "https://localhost:8080/",
          "height": 285
        },
        "outputId": "657d3af2-fdcc-4335-c2ad-5970ef5ecdab"
      },
      "source": [
        "%%R\n",
        "train <- read.csv('https://raw.githubusercontent.com/lcbjrrr/data/main/volei%20-%20ok.csv')\n",
        "print(train)"
      ],
      "execution_count": 8,
      "outputs": [
        {
          "output_type": "display_data",
          "data": {
            "text/plain": [
              "   previsao temperatura umidade vento jogar\n",
              "1         1           1       1     2     0\n",
              "2         1           1       1     1     0\n",
              "3         2           1       1     2     1\n",
              "4         3           2       1     2     1\n",
              "5         3           3       2     2     1\n",
              "6         3           3       2     1     0\n",
              "7         2           3       2     1     1\n",
              "8         1           2       1     2     0\n",
              "9         1           3       2     2     1\n",
              "10        3           2       2     2     1\n",
              "11        1           2       2     1     1\n",
              "12        2           2       1     1     1\n",
              "13        2           1       2     2     1\n",
              "14        3           2       1     1     0\n"
            ]
          },
          "metadata": {}
        }
      ]
    },
    {
      "cell_type": "code",
      "source": [
        "%%R\n",
        "prever <- read.csv('https://raw.githubusercontent.com/lcbjrrr/data/main/volei%20-%20ok.csv')\n",
        "kviz <- knn(train,prever,cl=train$jogar,k=2)\n",
        "print(prever)\n",
        "print(\"PREVISAO: \")\n",
        "print(kviz)"
      ],
      "metadata": {
        "colab": {
          "base_uri": "https://localhost:8080/",
          "height": 338
        },
        "id": "5i4Fljbl_y_z",
        "outputId": "ee3c6cf2-eb56-4463-a811-fffb2a793311"
      },
      "execution_count": 9,
      "outputs": [
        {
          "output_type": "display_data",
          "data": {
            "text/plain": [
              "   previsao temperatura umidade vento jogar\n",
              "1         1           1       1     2     0\n",
              "2         1           1       1     1     0\n",
              "3         2           1       1     2     1\n",
              "4         3           2       1     2     1\n",
              "5         3           3       2     2     1\n",
              "6         3           3       2     1     0\n",
              "7         2           3       2     1     1\n",
              "8         1           2       1     2     0\n",
              "9         1           3       2     2     1\n",
              "10        3           2       2     2     1\n",
              "11        1           2       2     1     1\n",
              "12        2           2       1     1     1\n",
              "13        2           1       2     2     1\n",
              "14        3           2       1     1     0\n",
              "[1] \"PREVISAO: \"\n",
              " [1] 0 0 1 1 1 1 1 0 1 1 1 1 1 0\n",
              "Levels: 0 1\n"
            ]
          },
          "metadata": {}
        }
      ]
    }
  ]
}